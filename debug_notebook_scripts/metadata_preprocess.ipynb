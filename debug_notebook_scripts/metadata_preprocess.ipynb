{
 "cells": [
  {
   "cell_type": "code",
   "execution_count": 1,
   "metadata": {
    "collapsed": true
   },
   "outputs": [],
   "source": [
    "import os\n",
    "import sys\n",
    "import pandas as pd\n",
    "import numpy as np\n",
    "import datetime as DT"
   ]
  },
  {
   "cell_type": "code",
   "execution_count": 2,
   "metadata": {},
   "outputs": [
    {
     "name": "stderr",
     "output_type": "stream",
     "text": [
      "/home/rraju/anaconda3/lib/python3.6/site-packages/IPython/core/interactiveshell.py:2698: DtypeWarning: Columns (9,10,11) have mixed types. Specify dtype option on import or set low_memory=False.\n",
      "  interactivity=interactivity, compiler=compiler, result=result)\n"
     ]
    }
   ],
   "source": [
    "bookclub_events = os.path.join('data/', 'bookclub_events.csv')\n",
    "dataframe = pd.read_csv(bookclub_events,\n",
    "                        parse_dates=['event_time', 'receipt_time'])"
   ]
  },
  {
   "cell_type": "code",
   "execution_count": 4,
   "metadata": {},
   "outputs": [
    {
     "name": "stdout",
     "output_type": "stream",
     "text": [
      "No of records :  23644617\n",
      "Removed Duplicate Row_ID, No of records :  23644461\n",
      "Removed books with null id, No of Records :  13507961\n",
      "Removed learners with null id, No of Records :  13507961\n",
      "After filtering events for close events, No of Records :  5566611\n"
     ]
    }
   ],
   "source": [
    "print(\"No of records : \", len(dataframe))\n",
    "dataframe = dataframe.drop_duplicates(['row_id'])\n",
    "print(\"Removed Duplicate Row_ID, No of records : \", len(dataframe))\n",
    "\n",
    "# eliminate books with null id\n",
    "dataframe = dataframe[dataframe['book_code'].notnull()]\n",
    "print(\"Removed books with null id, No of Records : \", len(dataframe))\n",
    "\n",
    "# eliminate learners with null id\n",
    "dataframe = dataframe[dataframe['learner_id'].notnull()]\n",
    "print(\"Removed learners with null id, No of Records : \", len(dataframe))\n",
    "\n",
    "#since no of open and close events are unequal, just filter on close events\n",
    "events_filter = ((dataframe['event_name'] == 'book_close') |\\\n",
    "                 (dataframe['event_name'] == 'video_close') |\\\n",
    "                 (dataframe['event_name'] == 'audio_close'))\n",
    "dataframe = dataframe[events_filter]\n",
    "print(\"After filtering events for close events, No of Records : \", len(dataframe))"
   ]
  },
  {
   "cell_type": "code",
   "execution_count": 5,
   "metadata": {
    "collapsed": true
   },
   "outputs": [],
   "source": [
    "learner_books_df = dataframe.groupby(['learner_id', 'book_code'])\\\n",
    "                           .size().reset_index()\\\n",
    "                           .rename(columns={0: 'events_count'})"
   ]
  },
  {
   "cell_type": "code",
   "execution_count": 11,
   "metadata": {},
   "outputs": [],
   "source": [
    "demographics = os.path.join('data/', 'bc.demographics.csv')\n",
    "demograph = pd.read_csv(demographics, \n",
    "                        parse_dates=['learner_birthday'])\n",
    "now = pd.Timestamp(DT.datetime.now())\n",
    "demograph['dob'] = pd.to_datetime(demograph['learner_birthday'], format='%m%d%y')\n",
    "demograph['dob'] = demograph['dob'].where(demograph['dob'] < now, demograph['dob'] -  np.timedelta64(100, 'Y'))\n",
    "demograph['age'] = (now - demograph['dob']).astype('<m8[Y]')\n",
    "\n",
    "learner_books_info_df = pd.merge(learner_books_df, demograph, how='inner', on='learner_id')"
   ]
  },
  {
   "cell_type": "code",
   "execution_count": 12,
   "metadata": {},
   "outputs": [
    {
     "data": {
      "text/html": [
       "<div>\n",
       "<style>\n",
       "    .dataframe thead tr:only-child th {\n",
       "        text-align: right;\n",
       "    }\n",
       "\n",
       "    .dataframe thead th {\n",
       "        text-align: left;\n",
       "    }\n",
       "\n",
       "    .dataframe tbody tr th {\n",
       "        vertical-align: top;\n",
       "    }\n",
       "</style>\n",
       "<table border=\"1\" class=\"dataframe\">\n",
       "  <thead>\n",
       "    <tr style=\"text-align: right;\">\n",
       "      <th></th>\n",
       "      <th>learner_id</th>\n",
       "      <th>book_code</th>\n",
       "      <th>events_count</th>\n",
       "      <th>learner_birthday</th>\n",
       "      <th>learner_gender</th>\n",
       "      <th>dob</th>\n",
       "      <th>age</th>\n",
       "    </tr>\n",
       "  </thead>\n",
       "  <tbody>\n",
       "    <tr>\n",
       "      <th>0</th>\n",
       "      <td>5.0</td>\n",
       "      <td>BO-20140726013700796</td>\n",
       "      <td>2</td>\n",
       "      <td>2003-06-02 15:00:00</td>\n",
       "      <td>female</td>\n",
       "      <td>2003-06-02 15:00:00</td>\n",
       "      <td>14.0</td>\n",
       "    </tr>\n",
       "    <tr>\n",
       "      <th>1</th>\n",
       "      <td>5.0</td>\n",
       "      <td>BO-20140726014014719</td>\n",
       "      <td>1</td>\n",
       "      <td>2003-06-02 15:00:00</td>\n",
       "      <td>female</td>\n",
       "      <td>2003-06-02 15:00:00</td>\n",
       "      <td>14.0</td>\n",
       "    </tr>\n",
       "    <tr>\n",
       "      <th>2</th>\n",
       "      <td>31.0</td>\n",
       "      <td>BO-20161128155737057</td>\n",
       "      <td>1</td>\n",
       "      <td>2005-10-18 15:00:00</td>\n",
       "      <td>male</td>\n",
       "      <td>2005-10-18 15:00:00</td>\n",
       "      <td>12.0</td>\n",
       "    </tr>\n",
       "    <tr>\n",
       "      <th>3</th>\n",
       "      <td>41.0</td>\n",
       "      <td>BO-20170821132107285</td>\n",
       "      <td>1</td>\n",
       "      <td>2005-02-13 15:00:00</td>\n",
       "      <td>female</td>\n",
       "      <td>2005-02-13 15:00:00</td>\n",
       "      <td>12.0</td>\n",
       "    </tr>\n",
       "    <tr>\n",
       "      <th>4</th>\n",
       "      <td>61.0</td>\n",
       "      <td>BO-20140726013720440</td>\n",
       "      <td>1</td>\n",
       "      <td>1999-10-04 15:00:00</td>\n",
       "      <td>female</td>\n",
       "      <td>1999-10-04 15:00:00</td>\n",
       "      <td>18.0</td>\n",
       "    </tr>\n",
       "  </tbody>\n",
       "</table>\n",
       "</div>"
      ],
      "text/plain": [
       "   learner_id             book_code  events_count    learner_birthday  \\\n",
       "0         5.0  BO-20140726013700796             2 2003-06-02 15:00:00   \n",
       "1         5.0  BO-20140726014014719             1 2003-06-02 15:00:00   \n",
       "2        31.0  BO-20161128155737057             1 2005-10-18 15:00:00   \n",
       "3        41.0  BO-20170821132107285             1 2005-02-13 15:00:00   \n",
       "4        61.0  BO-20140726013720440             1 1999-10-04 15:00:00   \n",
       "\n",
       "  learner_gender                 dob   age  \n",
       "0         female 2003-06-02 15:00:00  14.0  \n",
       "1         female 2003-06-02 15:00:00  14.0  \n",
       "2           male 2005-10-18 15:00:00  12.0  \n",
       "3         female 2005-02-13 15:00:00  12.0  \n",
       "4         female 1999-10-04 15:00:00  18.0  "
      ]
     },
     "execution_count": 12,
     "metadata": {},
     "output_type": "execute_result"
    }
   ],
   "source": [
    "learner_books_info_df.head()"
   ]
  },
  {
   "cell_type": "code",
   "execution_count": 13,
   "metadata": {},
   "outputs": [
    {
     "name": "stderr",
     "output_type": "stream",
     "text": [
      "/home/rraju/anaconda3/lib/python3.6/site-packages/IPython/core/interactiveshell.py:2698: DtypeWarning: Columns (20,29,37,39,40,43,47,72) have mixed types. Specify dtype option on import or set low_memory=False.\n",
      "  interactivity=interactivity, compiler=compiler, result=result)\n"
     ]
    }
   ],
   "source": [
    "meta_data_file = 'BOOKINFORMATION_META.csv'\n",
    "metadata = pd.read_csv(meta_data_file)\n",
    "learner_books_info_meta_df = pd.merge(learner_books_info_df, metadata, how='inner', left_on='book_code', right_on='BOOK_CODE')"
   ]
  },
  {
   "cell_type": "code",
   "execution_count": 14,
   "metadata": {
    "collapsed": true
   },
   "outputs": [
    {
     "data": {
      "text/html": [
       "<div>\n",
       "<style>\n",
       "    .dataframe thead tr:only-child th {\n",
       "        text-align: right;\n",
       "    }\n",
       "\n",
       "    .dataframe thead th {\n",
       "        text-align: left;\n",
       "    }\n",
       "\n",
       "    .dataframe tbody tr th {\n",
       "        vertical-align: top;\n",
       "    }\n",
       "</style>\n",
       "<table border=\"1\" class=\"dataframe\">\n",
       "  <thead>\n",
       "    <tr style=\"text-align: right;\">\n",
       "      <th></th>\n",
       "      <th>learner_id</th>\n",
       "      <th>book_code</th>\n",
       "      <th>events_count</th>\n",
       "      <th>learner_birthday</th>\n",
       "      <th>learner_gender</th>\n",
       "      <th>dob</th>\n",
       "      <th>age</th>\n",
       "      <th>Unnamed: 0_BM</th>\n",
       "      <th>BOOK_META_CODE</th>\n",
       "      <th>BOOK_NAME_BM</th>\n",
       "      <th>...</th>\n",
       "      <th>VALID_TYPE</th>\n",
       "      <th>VALID_EDTIME</th>\n",
       "      <th>MYTODAY_EXBT_CODE</th>\n",
       "      <th>JSON_DATA</th>\n",
       "      <th>SUB_BOOK_CODE</th>\n",
       "      <th>CRE_DTIME_BI</th>\n",
       "      <th>UPD_DTIME_BI</th>\n",
       "      <th>CRE_ID_BI</th>\n",
       "      <th>UPD_ID_BI</th>\n",
       "      <th>PAY_GROUP_CODE</th>\n",
       "    </tr>\n",
       "  </thead>\n",
       "  <tbody>\n",
       "    <tr>\n",
       "      <th>0</th>\n",
       "      <td>5.0</td>\n",
       "      <td>BO-20140726013700796</td>\n",
       "      <td>2</td>\n",
       "      <td>2003-06-02 15:00:00</td>\n",
       "      <td>female</td>\n",
       "      <td>2003-06-02 15:00:00</td>\n",
       "      <td>14.0</td>\n",
       "      <td>775</td>\n",
       "      <td>BM-20140726021932244</td>\n",
       "      <td>고려시대: 후삼국에서 고려로</td>\n",
       "      <td>...</td>\n",
       "      <td>NaN</td>\n",
       "      <td>NaN</td>\n",
       "      <td>NaN</td>\n",
       "      <td>{\"VIEWMODEINFO\":\"VS\",\"AUDIOBOOKTP\":\"E\",\"VIEWFU...</td>\n",
       "      <td>NaN</td>\n",
       "      <td>2014-07-26 2:29:52</td>\n",
       "      <td>2017-04-05 14:38:34</td>\n",
       "      <td>BULK</td>\n",
       "      <td>ME-20160527174138665</td>\n",
       "      <td>PG001</td>\n",
       "    </tr>\n",
       "    <tr>\n",
       "      <th>1</th>\n",
       "      <td>17374.0</td>\n",
       "      <td>BO-20140726013700796</td>\n",
       "      <td>3</td>\n",
       "      <td>2006-01-26 15:00:00</td>\n",
       "      <td>female</td>\n",
       "      <td>2006-01-26 15:00:00</td>\n",
       "      <td>11.0</td>\n",
       "      <td>775</td>\n",
       "      <td>BM-20140726021932244</td>\n",
       "      <td>고려시대: 후삼국에서 고려로</td>\n",
       "      <td>...</td>\n",
       "      <td>NaN</td>\n",
       "      <td>NaN</td>\n",
       "      <td>NaN</td>\n",
       "      <td>{\"VIEWMODEINFO\":\"VS\",\"AUDIOBOOKTP\":\"E\",\"VIEWFU...</td>\n",
       "      <td>NaN</td>\n",
       "      <td>2014-07-26 2:29:52</td>\n",
       "      <td>2017-04-05 14:38:34</td>\n",
       "      <td>BULK</td>\n",
       "      <td>ME-20160527174138665</td>\n",
       "      <td>PG001</td>\n",
       "    </tr>\n",
       "    <tr>\n",
       "      <th>2</th>\n",
       "      <td>20350.0</td>\n",
       "      <td>BO-20140726013700796</td>\n",
       "      <td>1</td>\n",
       "      <td>2006-06-13 15:00:00</td>\n",
       "      <td>male</td>\n",
       "      <td>2006-06-13 15:00:00</td>\n",
       "      <td>11.0</td>\n",
       "      <td>775</td>\n",
       "      <td>BM-20140726021932244</td>\n",
       "      <td>고려시대: 후삼국에서 고려로</td>\n",
       "      <td>...</td>\n",
       "      <td>NaN</td>\n",
       "      <td>NaN</td>\n",
       "      <td>NaN</td>\n",
       "      <td>{\"VIEWMODEINFO\":\"VS\",\"AUDIOBOOKTP\":\"E\",\"VIEWFU...</td>\n",
       "      <td>NaN</td>\n",
       "      <td>2014-07-26 2:29:52</td>\n",
       "      <td>2017-04-05 14:38:34</td>\n",
       "      <td>BULK</td>\n",
       "      <td>ME-20160527174138665</td>\n",
       "      <td>PG001</td>\n",
       "    </tr>\n",
       "    <tr>\n",
       "      <th>3</th>\n",
       "      <td>20651.0</td>\n",
       "      <td>BO-20140726013700796</td>\n",
       "      <td>1</td>\n",
       "      <td>2003-06-04 15:00:00</td>\n",
       "      <td>male</td>\n",
       "      <td>2003-06-04 15:00:00</td>\n",
       "      <td>14.0</td>\n",
       "      <td>775</td>\n",
       "      <td>BM-20140726021932244</td>\n",
       "      <td>고려시대: 후삼국에서 고려로</td>\n",
       "      <td>...</td>\n",
       "      <td>NaN</td>\n",
       "      <td>NaN</td>\n",
       "      <td>NaN</td>\n",
       "      <td>{\"VIEWMODEINFO\":\"VS\",\"AUDIOBOOKTP\":\"E\",\"VIEWFU...</td>\n",
       "      <td>NaN</td>\n",
       "      <td>2014-07-26 2:29:52</td>\n",
       "      <td>2017-04-05 14:38:34</td>\n",
       "      <td>BULK</td>\n",
       "      <td>ME-20160527174138665</td>\n",
       "      <td>PG001</td>\n",
       "    </tr>\n",
       "    <tr>\n",
       "      <th>4</th>\n",
       "      <td>21795.0</td>\n",
       "      <td>BO-20140726013700796</td>\n",
       "      <td>1</td>\n",
       "      <td>2006-11-29 15:00:00</td>\n",
       "      <td>female</td>\n",
       "      <td>2006-11-29 15:00:00</td>\n",
       "      <td>10.0</td>\n",
       "      <td>775</td>\n",
       "      <td>BM-20140726021932244</td>\n",
       "      <td>고려시대: 후삼국에서 고려로</td>\n",
       "      <td>...</td>\n",
       "      <td>NaN</td>\n",
       "      <td>NaN</td>\n",
       "      <td>NaN</td>\n",
       "      <td>{\"VIEWMODEINFO\":\"VS\",\"AUDIOBOOKTP\":\"E\",\"VIEWFU...</td>\n",
       "      <td>NaN</td>\n",
       "      <td>2014-07-26 2:29:52</td>\n",
       "      <td>2017-04-05 14:38:34</td>\n",
       "      <td>BULK</td>\n",
       "      <td>ME-20160527174138665</td>\n",
       "      <td>PG001</td>\n",
       "    </tr>\n",
       "  </tbody>\n",
       "</table>\n",
       "<p>5 rows × 87 columns</p>\n",
       "</div>"
      ],
      "text/plain": [
       "   learner_id             book_code  events_count    learner_birthday  \\\n",
       "0         5.0  BO-20140726013700796             2 2003-06-02 15:00:00   \n",
       "1     17374.0  BO-20140726013700796             3 2006-01-26 15:00:00   \n",
       "2     20350.0  BO-20140726013700796             1 2006-06-13 15:00:00   \n",
       "3     20651.0  BO-20140726013700796             1 2003-06-04 15:00:00   \n",
       "4     21795.0  BO-20140726013700796             1 2006-11-29 15:00:00   \n",
       "\n",
       "  learner_gender                 dob   age  Unnamed: 0_BM  \\\n",
       "0         female 2003-06-02 15:00:00  14.0            775   \n",
       "1         female 2006-01-26 15:00:00  11.0            775   \n",
       "2           male 2006-06-13 15:00:00  11.0            775   \n",
       "3           male 2003-06-04 15:00:00  14.0            775   \n",
       "4         female 2006-11-29 15:00:00  10.0            775   \n",
       "\n",
       "         BOOK_META_CODE     BOOK_NAME_BM       ...       VALID_TYPE  \\\n",
       "0  BM-20140726021932244  고려시대: 후삼국에서 고려로       ...              NaN   \n",
       "1  BM-20140726021932244  고려시대: 후삼국에서 고려로       ...              NaN   \n",
       "2  BM-20140726021932244  고려시대: 후삼국에서 고려로       ...              NaN   \n",
       "3  BM-20140726021932244  고려시대: 후삼국에서 고려로       ...              NaN   \n",
       "4  BM-20140726021932244  고려시대: 후삼국에서 고려로       ...              NaN   \n",
       "\n",
       "   VALID_EDTIME MYTODAY_EXBT_CODE  \\\n",
       "0           NaN               NaN   \n",
       "1           NaN               NaN   \n",
       "2           NaN               NaN   \n",
       "3           NaN               NaN   \n",
       "4           NaN               NaN   \n",
       "\n",
       "                                           JSON_DATA  SUB_BOOK_CODE  \\\n",
       "0  {\"VIEWMODEINFO\":\"VS\",\"AUDIOBOOKTP\":\"E\",\"VIEWFU...            NaN   \n",
       "1  {\"VIEWMODEINFO\":\"VS\",\"AUDIOBOOKTP\":\"E\",\"VIEWFU...            NaN   \n",
       "2  {\"VIEWMODEINFO\":\"VS\",\"AUDIOBOOKTP\":\"E\",\"VIEWFU...            NaN   \n",
       "3  {\"VIEWMODEINFO\":\"VS\",\"AUDIOBOOKTP\":\"E\",\"VIEWFU...            NaN   \n",
       "4  {\"VIEWMODEINFO\":\"VS\",\"AUDIOBOOKTP\":\"E\",\"VIEWFU...            NaN   \n",
       "\n",
       "         CRE_DTIME_BI         UPD_DTIME_BI  CRE_ID_BI             UPD_ID_BI  \\\n",
       "0  2014-07-26 2:29:52  2017-04-05 14:38:34       BULK  ME-20160527174138665   \n",
       "1  2014-07-26 2:29:52  2017-04-05 14:38:34       BULK  ME-20160527174138665   \n",
       "2  2014-07-26 2:29:52  2017-04-05 14:38:34       BULK  ME-20160527174138665   \n",
       "3  2014-07-26 2:29:52  2017-04-05 14:38:34       BULK  ME-20160527174138665   \n",
       "4  2014-07-26 2:29:52  2017-04-05 14:38:34       BULK  ME-20160527174138665   \n",
       "\n",
       "   PAY_GROUP_CODE  \n",
       "0           PG001  \n",
       "1           PG001  \n",
       "2           PG001  \n",
       "3           PG001  \n",
       "4           PG001  \n",
       "\n",
       "[5 rows x 87 columns]"
      ]
     },
     "execution_count": 14,
     "metadata": {},
     "output_type": "execute_result"
    }
   ],
   "source": [
    "learner_books_info_meta_df.head()"
   ]
  },
  {
   "cell_type": "code",
   "execution_count": 15,
   "metadata": {
    "scrolled": true
   },
   "outputs": [
    {
     "data": {
      "text/html": [
       "<div>\n",
       "<style>\n",
       "    .dataframe thead tr:only-child th {\n",
       "        text-align: right;\n",
       "    }\n",
       "\n",
       "    .dataframe thead th {\n",
       "        text-align: left;\n",
       "    }\n",
       "\n",
       "    .dataframe tbody tr th {\n",
       "        vertical-align: top;\n",
       "    }\n",
       "</style>\n",
       "<table border=\"1\" class=\"dataframe\">\n",
       "  <thead>\n",
       "    <tr style=\"text-align: right;\">\n",
       "      <th></th>\n",
       "      <th>learner_id</th>\n",
       "      <th>book_code</th>\n",
       "      <th>events_count</th>\n",
       "      <th>learner_birthday</th>\n",
       "      <th>learner_gender</th>\n",
       "      <th>dob</th>\n",
       "      <th>age</th>\n",
       "      <th>Unnamed: 0_BM</th>\n",
       "      <th>BOOK_META_CODE</th>\n",
       "      <th>BOOK_NAME_BM</th>\n",
       "      <th>...</th>\n",
       "      <th>VALID_TYPE</th>\n",
       "      <th>VALID_EDTIME</th>\n",
       "      <th>MYTODAY_EXBT_CODE</th>\n",
       "      <th>JSON_DATA</th>\n",
       "      <th>SUB_BOOK_CODE</th>\n",
       "      <th>CRE_DTIME_BI</th>\n",
       "      <th>UPD_DTIME_BI</th>\n",
       "      <th>CRE_ID_BI</th>\n",
       "      <th>UPD_ID_BI</th>\n",
       "      <th>PAY_GROUP_CODE</th>\n",
       "    </tr>\n",
       "  </thead>\n",
       "  <tbody>\n",
       "  </tbody>\n",
       "</table>\n",
       "<p>0 rows × 87 columns</p>\n",
       "</div>"
      ],
      "text/plain": [
       "Empty DataFrame\n",
       "Columns: [learner_id, book_code, events_count, learner_birthday, learner_gender, dob, age, Unnamed: 0_BM, BOOK_META_CODE, BOOK_NAME_BM, AUTHOR, TRANSLATOR, ILLUSTRATOR, PHOTOGRAPHER, SUPERVISOR, BOOK_PLATE, BOOK_EDITION, BINDING_TP, BOOK_INTRO, PUBLISHER_REVIEW, SUMMARY, AUTHOR_INTRO, TOC, KEYWORD, LYRICS, STORE_CODE, CRE_ID_BM, CRE_IP, CRE_DTIME_BM, UPD_ID_BM, UPD_IP, UPD_DTIME_BM, T_KEYWORD, T_BOOK_NAME, Unnamed: 0_BI, BOOK_CODE, RELATIONGOODS_CODE, COMPANY_CODE, CONTENTS_CODE, BOOK_TYPE, SERVICE_TYPE, BOOK_NAME_BI, BOOK_GROUP_CODE, ONOFF_BOOK_CODE, APP_CODE, STATUS_TP, PAPERBOOK_PUB_DATE, EBOOK_PUB_DATE, EBOOK_PUBLISHER, EBOOK_VERSION, LANG_CODE, PAGE_COUNT, ISBN10, ISBN13, FIND_SHOW_YN, SAP_CODE, UP_SAP_CODE, SAP_SALE_PRICE, SAP_CLUBPOINT, SAP_CLUBCASH, SAP_CLUBMILEAGE, INNER_UNIT_COUNT, PUBLISHER_CODE, PUBLISHER, BRAND_CODE, BRAND_NAME, CONTENT_SVC_TYPE, IMPRESSION_YN, QUIZ_YN, TARGET_AGE, BEGIN_TARGET_AGE, END_TARGET_AGE, PRODUCT_STRUCTURE, SERIES_SALE_TYPE, INSTANCE_COUNT, SETL_RATIO, SETL_AMOUNT, VALID_TYPE, VALID_EDTIME, MYTODAY_EXBT_CODE, JSON_DATA, SUB_BOOK_CODE, CRE_DTIME_BI, UPD_DTIME_BI, CRE_ID_BI, UPD_ID_BI, PAY_GROUP_CODE]\n",
       "Index: []\n",
       "\n",
       "[0 rows x 87 columns]"
      ]
     },
     "execution_count": 15,
     "metadata": {},
     "output_type": "execute_result"
    }
   ],
   "source": [
    "learner_books_info_meta_df[learner_books_info_meta_df['book_code'] != learner_books_info_meta_df['BOOK_CODE']]"
   ]
  },
  {
   "cell_type": "code",
   "execution_count": 17,
   "metadata": {
    "collapsed": true
   },
   "outputs": [],
   "source": [
    "current_dir = os.path.dirname('/home/rraju/recommender_system/books_recommender')"
   ]
  },
  {
   "cell_type": "code",
   "execution_count": 18,
   "metadata": {},
   "outputs": [
    {
     "name": "stdout",
     "output_type": "stream",
     "text": [
      "Preprocessed data available in preprocessed_metadata/\n"
     ]
    }
   ],
   "source": [
    "current_dir = os.path.dirname(os.path.abspath(__file__))\n",
    "preprocessed_data_dir = os.path.join(current_dir, 'preprocessed_metadata')\n",
    "if not os.path.exists(preprocessed_data_dir):\n",
    "    os.makedirs(preprocessed_data_dir)\n",
    "\n",
    "learner_books_info_file = os.path.join(preprocessed_data_dir, 'learner_books_info_close_events.csv')\n",
    "learner_books_info_meta_df.to_csv(learner_books_info_file, index=False)\n",
    "\n",
    "learner_books_info_min_3_events_df = learner_books_info_meta_df[learner_books_info_meta_df['events_count']>=3]\n",
    "learner_books_info_min_3_file = os.path.join(preprocessed_data_dir, 'learner_books_info_close_min_3_events.csv')\n",
    "learner_books_info_min_3_events_df.to_csv(learner_books_info_min_3_file, index=False)\n",
    "\n",
    "learner_books_info_min_10_events_df = learner_books_info_meta_df[learner_books_info_meta_df['events_count']>=10]\n",
    "learner_books_info_min_10_file = os.path.join(preprocessed_data_dir, 'learner_books_info_close_min_10_events.csv')\n",
    "learner_books_info_min_10_events_df.to_csv(learner_books_info_min_10_file, index=False)\n",
    "\n",
    "print(\"Preprocessed data available in preprocessed_metadata/\")"
   ]
  },
  {
   "cell_type": "code",
   "execution_count": 19,
   "metadata": {},
   "outputs": [
    {
     "name": "stdout",
     "output_type": "stream",
     "text": [
      "/home/rraju/recommender_system/preprocessed_metadata\n"
     ]
    }
   ],
   "source": [
    "print(preprocessed_data_dir)"
   ]
  }
 ],
 "metadata": {
  "kernelspec": {
   "display_name": "Python 3",
   "language": "python",
   "name": "python3"
  },
  "language_info": {
   "codemirror_mode": {
    "name": "ipython",
    "version": 3
   },
   "file_extension": ".py",
   "mimetype": "text/x-python",
   "name": "python",
   "nbconvert_exporter": "python",
   "pygments_lexer": "ipython3",
   "version": "3.6.2"
  }
 },
 "nbformat": 4,
 "nbformat_minor": 2
}

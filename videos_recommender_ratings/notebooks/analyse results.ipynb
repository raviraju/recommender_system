{
 "cells": [
  {
   "cell_type": "code",
   "execution_count": 1,
   "metadata": {
    "collapsed": true
   },
   "outputs": [],
   "source": [
    "import pandas as pd"
   ]
  },
  {
   "cell_type": "code",
   "execution_count": 2,
   "metadata": {},
   "outputs": [
    {
     "data": {
      "text/plain": [
       "((11, 10), (11, 10))"
      ]
     },
     "execution_count": 2,
     "metadata": {},
     "output_type": "execute_result"
    }
   ],
   "source": [
    "validation_res_df = pd.read_csv('../results/validation/summary_results.csv')\n",
    "testing_res_df = pd.read_csv('../results/testing/summary_results.csv')\n",
    "validation_res_df.shape, testing_res_df.shape"
   ]
  },
  {
   "cell_type": "code",
   "execution_count": 3,
   "metadata": {},
   "outputs": [
    {
     "data": {
      "text/html": [
       "<div>\n",
       "<style>\n",
       "    .dataframe thead tr:only-child th {\n",
       "        text-align: right;\n",
       "    }\n",
       "\n",
       "    .dataframe thead th {\n",
       "        text-align: left;\n",
       "    }\n",
       "\n",
       "    .dataframe tbody tr th {\n",
       "        vertical-align: top;\n",
       "    }\n",
       "</style>\n",
       "<table border=\"1\" class=\"dataframe\">\n",
       "  <thead>\n",
       "    <tr style=\"text-align: right;\">\n",
       "      <th></th>\n",
       "      <th>algo_name</th>\n",
       "      <th>mean_rmse_all_predictions_validation</th>\n",
       "      <th>mean_rmse_all_predictions_testing</th>\n",
       "    </tr>\n",
       "  </thead>\n",
       "  <tbody>\n",
       "    <tr>\n",
       "      <th>0</th>\n",
       "      <td>BaselineOnly_SGD_Tuned</td>\n",
       "      <td>0.6922</td>\n",
       "      <td>0.6890</td>\n",
       "    </tr>\n",
       "    <tr>\n",
       "      <th>1</th>\n",
       "      <td>BaselineOnly_ALS_Tuned</td>\n",
       "      <td>0.7024</td>\n",
       "      <td>0.6996</td>\n",
       "    </tr>\n",
       "    <tr>\n",
       "      <th>2</th>\n",
       "      <td>Knn_UserBased_ZScore_MSD_Tuned</td>\n",
       "      <td>0.7133</td>\n",
       "      <td>0.7108</td>\n",
       "    </tr>\n",
       "    <tr>\n",
       "      <th>3</th>\n",
       "      <td>Knn_ItemBased_ZScore_MSD_Tuned</td>\n",
       "      <td>0.7273</td>\n",
       "      <td>0.7238</td>\n",
       "    </tr>\n",
       "    <tr>\n",
       "      <th>4</th>\n",
       "      <td>Knn_UserBased_Baseline_SGD_Tuned</td>\n",
       "      <td>0.6884</td>\n",
       "      <td>0.6861</td>\n",
       "    </tr>\n",
       "  </tbody>\n",
       "</table>\n",
       "</div>"
      ],
      "text/plain": [
       "                          algo_name  mean_rmse_all_predictions_validation  \\\n",
       "0            BaselineOnly_SGD_Tuned                                0.6922   \n",
       "1            BaselineOnly_ALS_Tuned                                0.7024   \n",
       "2    Knn_UserBased_ZScore_MSD_Tuned                                0.7133   \n",
       "3    Knn_ItemBased_ZScore_MSD_Tuned                                0.7273   \n",
       "4  Knn_UserBased_Baseline_SGD_Tuned                                0.6884   \n",
       "\n",
       "   mean_rmse_all_predictions_testing  \n",
       "0                             0.6890  \n",
       "1                             0.6996  \n",
       "2                             0.7108  \n",
       "3                             0.7238  \n",
       "4                             0.6861  "
      ]
     },
     "execution_count": 3,
     "metadata": {},
     "output_type": "execute_result"
    }
   ],
   "source": [
    "validation_testing_res_df = validation_res_df[['algo_name', 'mean_rmse_all_predictions']].merge(\n",
    "                                     testing_res_df[['algo_name', 'mean_rmse_all_predictions']],\n",
    "                                     on='algo_name', suffixes=('_validation', '_testing'))\n",
    "validation_testing_res_df.head()"
   ]
  },
  {
   "cell_type": "code",
   "execution_count": 4,
   "metadata": {
    "collapsed": true
   },
   "outputs": [],
   "source": [
    "validation_testing_res_df.sort_values(by='mean_rmse_all_predictions_testing', inplace=True)"
   ]
  },
  {
   "cell_type": "code",
   "execution_count": 5,
   "metadata": {},
   "outputs": [
    {
     "name": "stdout",
     "output_type": "stream",
     "text": [
      "algo_name  mean_rmse_all_predictions_validation  mean_rmse_all_predictions_testing\n",
      "Knn_UserBased_Baseline_SGD_Tuned                                0.6884                             0.6861\n",
      "          BaselineOnly_SGD_Tuned                                0.6922                             0.6890\n",
      "Knn_ItemBased_Baseline_SGD_Tuned                                0.6922                             0.6890\n",
      "Knn_UserBased_Baseline_ALS_Tuned                                0.7005                             0.6977\n",
      "Knn_ItemBased_Baseline_ALS_Tuned                                0.7023                             0.6995\n",
      "          BaselineOnly_ALS_Tuned                                0.7024                             0.6996\n",
      "              SVDpp_biased_Tuned                                0.7056                             0.7029\n",
      "                SVD_biased_Tuned                                0.7061                             0.7036\n",
      "  Knn_UserBased_ZScore_MSD_Tuned                                0.7133                             0.7108\n",
      "  Knn_ItemBased_ZScore_MSD_Tuned                                0.7273                             0.7238\n",
      "              SVD_unbiased_Tuned                                0.7533                             0.7487\n"
     ]
    }
   ],
   "source": [
    "print(validation_testing_res_df.to_string(index=False))\n",
    "#validation_testing_res_df"
   ]
  },
  {
   "cell_type": "code",
   "execution_count": null,
   "metadata": {
    "collapsed": true
   },
   "outputs": [],
   "source": []
  },
  {
   "cell_type": "code",
   "execution_count": 6,
   "metadata": {},
   "outputs": [
    {
     "name": "stdout",
     "output_type": "stream",
     "text": [
      "The following recommenders predictions are used as features for hybrid recommender\n",
      "BaselineOnly_SGD_Tuned_est\n",
      "Knn_UserBased_Baseline_SGD_Tuned_est\n",
      "Knn_ItemBased_Baseline_SGD_Tuned_est\n",
      "SVD_biased_Tuned_est\n",
      "SVDpp_biased_Tuned_est\n"
     ]
    }
   ],
   "source": [
    "import pickle\n",
    "pickle_file = open('../configs/selected_recommenders.pickle', \"rb\")    \n",
    "selected_recommenders = pickle.load(pickle_file)\n",
    "features = []\n",
    "for config in selected_recommenders:\n",
    "    selected_recommenders_prediction = config['name'] + '_est'\n",
    "    features.append(selected_recommenders_prediction)\n",
    "print(\"The following recommenders predictions are used as features for hybrid recommender\")\n",
    "for feature in features:\n",
    "    print(feature)"
   ]
  },
  {
   "cell_type": "code",
   "execution_count": 7,
   "metadata": {
    "collapsed": true
   },
   "outputs": [],
   "source": [
    "import json\n",
    "with open('../results/hybrid_recommender_summary_kfold_results.json') as json_file:\n",
    "    hybrid_rec_json_results = json.load(json_file)\n",
    "    hybrid_rec_results = pd.DataFrame(hybrid_rec_json_results).T\n",
    "    hybrid_rec_results.sort_values('rmse', inplace=True)"
   ]
  },
  {
   "cell_type": "code",
   "execution_count": 8,
   "metadata": {},
   "outputs": [
    {
     "data": {
      "text/html": [
       "<div>\n",
       "<style>\n",
       "    .dataframe thead tr:only-child th {\n",
       "        text-align: right;\n",
       "    }\n",
       "\n",
       "    .dataframe thead th {\n",
       "        text-align: left;\n",
       "    }\n",
       "\n",
       "    .dataframe tbody tr th {\n",
       "        vertical-align: top;\n",
       "    }\n",
       "</style>\n",
       "<table border=\"1\" class=\"dataframe\">\n",
       "  <thead>\n",
       "    <tr style=\"text-align: right;\">\n",
       "      <th></th>\n",
       "      <th>rmse</th>\n",
       "    </tr>\n",
       "  </thead>\n",
       "  <tbody>\n",
       "    <tr>\n",
       "      <th>GradientBoostingRegressor</th>\n",
       "      <td>0.6819</td>\n",
       "    </tr>\n",
       "    <tr>\n",
       "      <th>RandomForestRegressor</th>\n",
       "      <td>0.6820</td>\n",
       "    </tr>\n",
       "    <tr>\n",
       "      <th>ElasticNet</th>\n",
       "      <td>0.6833</td>\n",
       "    </tr>\n",
       "    <tr>\n",
       "      <th>Lasso</th>\n",
       "      <td>0.6833</td>\n",
       "    </tr>\n",
       "    <tr>\n",
       "      <th>LinearRegression</th>\n",
       "      <td>0.6833</td>\n",
       "    </tr>\n",
       "    <tr>\n",
       "      <th>Ridge</th>\n",
       "      <td>0.6833</td>\n",
       "    </tr>\n",
       "    <tr>\n",
       "      <th>SGDRegressor</th>\n",
       "      <td>0.6860</td>\n",
       "    </tr>\n",
       "  </tbody>\n",
       "</table>\n",
       "</div>"
      ],
      "text/plain": [
       "                             rmse\n",
       "GradientBoostingRegressor  0.6819\n",
       "RandomForestRegressor      0.6820\n",
       "ElasticNet                 0.6833\n",
       "Lasso                      0.6833\n",
       "LinearRegression           0.6833\n",
       "Ridge                      0.6833\n",
       "SGDRegressor               0.6860"
      ]
     },
     "execution_count": 8,
     "metadata": {},
     "output_type": "execute_result"
    }
   ],
   "source": [
    "hybrid_rec_results[['rmse']]"
   ]
  }
 ],
 "metadata": {
  "kernelspec": {
   "display_name": "Python 3",
   "language": "python",
   "name": "python3"
  },
  "language_info": {
   "codemirror_mode": {
    "name": "ipython",
    "version": 3
   },
   "file_extension": ".py",
   "mimetype": "text/x-python",
   "name": "python",
   "nbconvert_exporter": "python",
   "pygments_lexer": "ipython3",
   "version": "3.6.3"
  }
 },
 "nbformat": 4,
 "nbformat_minor": 2
}

{
 "cells": [
  {
   "cell_type": "code",
   "execution_count": 1,
   "metadata": {
    "collapsed": true
   },
   "outputs": [],
   "source": [
    "import pandas as pd"
   ]
  },
  {
   "cell_type": "code",
   "execution_count": 2,
   "metadata": {},
   "outputs": [
    {
     "data": {
      "text/plain": [
       "((11, 10), (11, 10))"
      ]
     },
     "execution_count": 2,
     "metadata": {},
     "output_type": "execute_result"
    }
   ],
   "source": [
    "validation_res_df = pd.read_csv('model_validation/summary_results.csv')\n",
    "testing_res_df = pd.read_csv('model_testing/summary_results.csv')\n",
    "validation_res_df.shape, testing_res_df.shape"
   ]
  },
  {
   "cell_type": "code",
   "execution_count": 3,
   "metadata": {},
   "outputs": [
    {
     "data": {
      "text/html": [
       "<div>\n",
       "<style>\n",
       "    .dataframe thead tr:only-child th {\n",
       "        text-align: right;\n",
       "    }\n",
       "\n",
       "    .dataframe thead th {\n",
       "        text-align: left;\n",
       "    }\n",
       "\n",
       "    .dataframe tbody tr th {\n",
       "        vertical-align: top;\n",
       "    }\n",
       "</style>\n",
       "<table border=\"1\" class=\"dataframe\">\n",
       "  <thead>\n",
       "    <tr style=\"text-align: right;\">\n",
       "      <th></th>\n",
       "      <th>algo_name</th>\n",
       "      <th>mean_rmse_all_predictions_validation</th>\n",
       "      <th>mean_rmse_all_predictions_testing</th>\n",
       "    </tr>\n",
       "  </thead>\n",
       "  <tbody>\n",
       "    <tr>\n",
       "      <th>0</th>\n",
       "      <td>BaselineOnly_SGD_Tuned</td>\n",
       "      <td>0.6966</td>\n",
       "      <td>0.6939</td>\n",
       "    </tr>\n",
       "    <tr>\n",
       "      <th>1</th>\n",
       "      <td>BaselineOnly_ALS_Tuned</td>\n",
       "      <td>0.7046</td>\n",
       "      <td>0.7036</td>\n",
       "    </tr>\n",
       "    <tr>\n",
       "      <th>2</th>\n",
       "      <td>Knn_UserBased_ZScore_MSD_Tuned</td>\n",
       "      <td>0.7168</td>\n",
       "      <td>0.7148</td>\n",
       "    </tr>\n",
       "    <tr>\n",
       "      <th>3</th>\n",
       "      <td>Knn_ItemBased_ZScore_MSD_Tuned</td>\n",
       "      <td>0.7327</td>\n",
       "      <td>0.7282</td>\n",
       "    </tr>\n",
       "    <tr>\n",
       "      <th>4</th>\n",
       "      <td>Knn_UserBased_Baseline_SGD_Tuned</td>\n",
       "      <td>0.6931</td>\n",
       "      <td>0.6905</td>\n",
       "    </tr>\n",
       "  </tbody>\n",
       "</table>\n",
       "</div>"
      ],
      "text/plain": [
       "                          algo_name  mean_rmse_all_predictions_validation  \\\n",
       "0            BaselineOnly_SGD_Tuned                                0.6966   \n",
       "1            BaselineOnly_ALS_Tuned                                0.7046   \n",
       "2    Knn_UserBased_ZScore_MSD_Tuned                                0.7168   \n",
       "3    Knn_ItemBased_ZScore_MSD_Tuned                                0.7327   \n",
       "4  Knn_UserBased_Baseline_SGD_Tuned                                0.6931   \n",
       "\n",
       "   mean_rmse_all_predictions_testing  \n",
       "0                             0.6939  \n",
       "1                             0.7036  \n",
       "2                             0.7148  \n",
       "3                             0.7282  \n",
       "4                             0.6905  "
      ]
     },
     "execution_count": 3,
     "metadata": {},
     "output_type": "execute_result"
    }
   ],
   "source": [
    "validation_testing_res_df = validation_res_df[['algo_name', 'mean_rmse_all_predictions']].merge(\n",
    "                                     testing_res_df[['algo_name', 'mean_rmse_all_predictions']],\n",
    "                                     on='algo_name', suffixes=('_validation', '_testing'))\n",
    "validation_testing_res_df.head()"
   ]
  },
  {
   "cell_type": "code",
   "execution_count": 4,
   "metadata": {
    "collapsed": true
   },
   "outputs": [],
   "source": [
    "validation_testing_res_df.sort_values(by='mean_rmse_all_predictions_testing', inplace=True)"
   ]
  },
  {
   "cell_type": "code",
   "execution_count": 5,
   "metadata": {},
   "outputs": [
    {
     "data": {
      "text/html": [
       "<div>\n",
       "<style>\n",
       "    .dataframe thead tr:only-child th {\n",
       "        text-align: right;\n",
       "    }\n",
       "\n",
       "    .dataframe thead th {\n",
       "        text-align: left;\n",
       "    }\n",
       "\n",
       "    .dataframe tbody tr th {\n",
       "        vertical-align: top;\n",
       "    }\n",
       "</style>\n",
       "<table border=\"1\" class=\"dataframe\">\n",
       "  <thead>\n",
       "    <tr style=\"text-align: right;\">\n",
       "      <th></th>\n",
       "      <th>algo_name</th>\n",
       "      <th>mean_rmse_all_predictions_validation</th>\n",
       "      <th>mean_rmse_all_predictions_testing</th>\n",
       "    </tr>\n",
       "  </thead>\n",
       "  <tbody>\n",
       "    <tr>\n",
       "      <th>4</th>\n",
       "      <td>Knn_UserBased_Baseline_SGD_Tuned</td>\n",
       "      <td>0.6931</td>\n",
       "      <td>0.6905</td>\n",
       "    </tr>\n",
       "    <tr>\n",
       "      <th>0</th>\n",
       "      <td>BaselineOnly_SGD_Tuned</td>\n",
       "      <td>0.6966</td>\n",
       "      <td>0.6939</td>\n",
       "    </tr>\n",
       "    <tr>\n",
       "      <th>6</th>\n",
       "      <td>Knn_ItemBased_Baseline_SGD_Tuned</td>\n",
       "      <td>0.6966</td>\n",
       "      <td>0.6940</td>\n",
       "    </tr>\n",
       "    <tr>\n",
       "      <th>5</th>\n",
       "      <td>Knn_UserBased_Baseline_ALS_Tuned</td>\n",
       "      <td>0.7030</td>\n",
       "      <td>0.7018</td>\n",
       "    </tr>\n",
       "    <tr>\n",
       "      <th>1</th>\n",
       "      <td>BaselineOnly_ALS_Tuned</td>\n",
       "      <td>0.7046</td>\n",
       "      <td>0.7036</td>\n",
       "    </tr>\n",
       "  </tbody>\n",
       "</table>\n",
       "</div>"
      ],
      "text/plain": [
       "                          algo_name  mean_rmse_all_predictions_validation  \\\n",
       "4  Knn_UserBased_Baseline_SGD_Tuned                                0.6931   \n",
       "0            BaselineOnly_SGD_Tuned                                0.6966   \n",
       "6  Knn_ItemBased_Baseline_SGD_Tuned                                0.6966   \n",
       "5  Knn_UserBased_Baseline_ALS_Tuned                                0.7030   \n",
       "1            BaselineOnly_ALS_Tuned                                0.7046   \n",
       "\n",
       "   mean_rmse_all_predictions_testing  \n",
       "4                             0.6905  \n",
       "0                             0.6939  \n",
       "6                             0.6940  \n",
       "5                             0.7018  \n",
       "1                             0.7036  "
      ]
     },
     "execution_count": 5,
     "metadata": {},
     "output_type": "execute_result"
    }
   ],
   "source": [
    "validation_testing_res_df.head()"
   ]
  },
  {
   "cell_type": "code",
   "execution_count": 6,
   "metadata": {},
   "outputs": [
    {
     "data": {
      "text/html": [
       "<div>\n",
       "<style>\n",
       "    .dataframe thead tr:only-child th {\n",
       "        text-align: right;\n",
       "    }\n",
       "\n",
       "    .dataframe thead th {\n",
       "        text-align: left;\n",
       "    }\n",
       "\n",
       "    .dataframe tbody tr th {\n",
       "        vertical-align: top;\n",
       "    }\n",
       "</style>\n",
       "<table border=\"1\" class=\"dataframe\">\n",
       "  <thead>\n",
       "    <tr style=\"text-align: right;\">\n",
       "      <th></th>\n",
       "      <th>algo_name</th>\n",
       "      <th>mean_rmse_all_predictions_validation</th>\n",
       "      <th>mean_rmse_all_predictions_testing</th>\n",
       "    </tr>\n",
       "  </thead>\n",
       "  <tbody>\n",
       "    <tr>\n",
       "      <th>4</th>\n",
       "      <td>Knn_UserBased_Baseline_SGD_Tuned</td>\n",
       "      <td>0.6931</td>\n",
       "      <td>0.6905</td>\n",
       "    </tr>\n",
       "    <tr>\n",
       "      <th>0</th>\n",
       "      <td>BaselineOnly_SGD_Tuned</td>\n",
       "      <td>0.6966</td>\n",
       "      <td>0.6939</td>\n",
       "    </tr>\n",
       "    <tr>\n",
       "      <th>6</th>\n",
       "      <td>Knn_ItemBased_Baseline_SGD_Tuned</td>\n",
       "      <td>0.6966</td>\n",
       "      <td>0.6940</td>\n",
       "    </tr>\n",
       "    <tr>\n",
       "      <th>5</th>\n",
       "      <td>Knn_UserBased_Baseline_ALS_Tuned</td>\n",
       "      <td>0.7030</td>\n",
       "      <td>0.7018</td>\n",
       "    </tr>\n",
       "    <tr>\n",
       "      <th>1</th>\n",
       "      <td>BaselineOnly_ALS_Tuned</td>\n",
       "      <td>0.7046</td>\n",
       "      <td>0.7036</td>\n",
       "    </tr>\n",
       "    <tr>\n",
       "      <th>7</th>\n",
       "      <td>Knn_ItemBased_Baseline_ALS_Tuned</td>\n",
       "      <td>0.7045</td>\n",
       "      <td>0.7036</td>\n",
       "    </tr>\n",
       "    <tr>\n",
       "      <th>10</th>\n",
       "      <td>SVDpp_biased_Tuned</td>\n",
       "      <td>0.7085</td>\n",
       "      <td>0.7066</td>\n",
       "    </tr>\n",
       "    <tr>\n",
       "      <th>9</th>\n",
       "      <td>SVD_biased_Tuned</td>\n",
       "      <td>0.7092</td>\n",
       "      <td>0.7075</td>\n",
       "    </tr>\n",
       "    <tr>\n",
       "      <th>2</th>\n",
       "      <td>Knn_UserBased_ZScore_MSD_Tuned</td>\n",
       "      <td>0.7168</td>\n",
       "      <td>0.7148</td>\n",
       "    </tr>\n",
       "    <tr>\n",
       "      <th>3</th>\n",
       "      <td>Knn_ItemBased_ZScore_MSD_Tuned</td>\n",
       "      <td>0.7327</td>\n",
       "      <td>0.7282</td>\n",
       "    </tr>\n",
       "    <tr>\n",
       "      <th>8</th>\n",
       "      <td>SVD_unbiased_Tuned</td>\n",
       "      <td>0.7611</td>\n",
       "      <td>0.7538</td>\n",
       "    </tr>\n",
       "  </tbody>\n",
       "</table>\n",
       "</div>"
      ],
      "text/plain": [
       "                           algo_name  mean_rmse_all_predictions_validation  \\\n",
       "4   Knn_UserBased_Baseline_SGD_Tuned                                0.6931   \n",
       "0             BaselineOnly_SGD_Tuned                                0.6966   \n",
       "6   Knn_ItemBased_Baseline_SGD_Tuned                                0.6966   \n",
       "5   Knn_UserBased_Baseline_ALS_Tuned                                0.7030   \n",
       "1             BaselineOnly_ALS_Tuned                                0.7046   \n",
       "7   Knn_ItemBased_Baseline_ALS_Tuned                                0.7045   \n",
       "10                SVDpp_biased_Tuned                                0.7085   \n",
       "9                   SVD_biased_Tuned                                0.7092   \n",
       "2     Knn_UserBased_ZScore_MSD_Tuned                                0.7168   \n",
       "3     Knn_ItemBased_ZScore_MSD_Tuned                                0.7327   \n",
       "8                 SVD_unbiased_Tuned                                0.7611   \n",
       "\n",
       "    mean_rmse_all_predictions_testing  \n",
       "4                              0.6905  \n",
       "0                              0.6939  \n",
       "6                              0.6940  \n",
       "5                              0.7018  \n",
       "1                              0.7036  \n",
       "7                              0.7036  \n",
       "10                             0.7066  \n",
       "9                              0.7075  \n",
       "2                              0.7148  \n",
       "3                              0.7282  \n",
       "8                              0.7538  "
      ]
     },
     "execution_count": 6,
     "metadata": {},
     "output_type": "execute_result"
    }
   ],
   "source": [
    "validation_testing_res_df"
   ]
  },
  {
   "cell_type": "code",
   "execution_count": 7,
   "metadata": {
    "collapsed": true
   },
   "outputs": [],
   "source": [
    "validation_testing_res_df.to_csv('validation_testing_results.csv', index=False)"
   ]
  },
  {
   "cell_type": "code",
   "execution_count": 16,
   "metadata": {
    "collapsed": true
   },
   "outputs": [],
   "source": [
    "# LinearRegression                         AVG RMSE : 0.688\n",
    "# Ridge                                    AVG RMSE : 0.688\n",
    "# Lasso                                    AVG RMSE : 0.688\n",
    "# ElasticNet                               AVG RMSE : 0.688\n",
    "# SGDRegressor                             AVG RMSE : 0.6904\n",
    "# RandomForestRegressor                    AVG RMSE : 0.687\n",
    "# GradientBoostingRegressor                AVG RMSE : 0.6866"
   ]
  }
 ],
 "metadata": {
  "kernelspec": {
   "display_name": "Python 3",
   "language": "python",
   "name": "python3"
  },
  "language_info": {
   "codemirror_mode": {
    "name": "ipython",
    "version": 3
   },
   "file_extension": ".py",
   "mimetype": "text/x-python",
   "name": "python",
   "nbconvert_exporter": "python",
   "pygments_lexer": "ipython3",
   "version": "3.6.3"
  }
 },
 "nbformat": 4,
 "nbformat_minor": 2
}

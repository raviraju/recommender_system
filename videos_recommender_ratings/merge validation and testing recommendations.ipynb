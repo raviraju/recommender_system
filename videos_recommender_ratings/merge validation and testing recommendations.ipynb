{
 "cells": [
  {
   "cell_type": "code",
   "execution_count": 1,
   "metadata": {
    "collapsed": true
   },
   "outputs": [],
   "source": [
    "import pandas as pd"
   ]
  },
  {
   "cell_type": "code",
   "execution_count": 2,
   "metadata": {},
   "outputs": [
    {
     "data": {
      "text/plain": [
       "((7, 10), (7, 10))"
      ]
     },
     "execution_count": 2,
     "metadata": {},
     "output_type": "execute_result"
    }
   ],
   "source": [
    "validation_res_df = pd.read_csv('model_validation/summary_results.csv')\n",
    "testing_res_df = pd.read_csv('model_testing/summary_results.csv')\n",
    "validation_res_df.shape, testing_res_df.shape"
   ]
  },
  {
   "cell_type": "code",
   "execution_count": 3,
   "metadata": {},
   "outputs": [
    {
     "data": {
      "text/html": [
       "<div>\n",
       "<style>\n",
       "    .dataframe thead tr:only-child th {\n",
       "        text-align: right;\n",
       "    }\n",
       "\n",
       "    .dataframe thead th {\n",
       "        text-align: left;\n",
       "    }\n",
       "\n",
       "    .dataframe tbody tr th {\n",
       "        vertical-align: top;\n",
       "    }\n",
       "</style>\n",
       "<table border=\"1\" class=\"dataframe\">\n",
       "  <thead>\n",
       "    <tr style=\"text-align: right;\">\n",
       "      <th></th>\n",
       "      <th>algo_name</th>\n",
       "      <th>mean_rmse_all_predictions_validation</th>\n",
       "      <th>mean_rmse_all_predictions_testing</th>\n",
       "    </tr>\n",
       "  </thead>\n",
       "  <tbody>\n",
       "    <tr>\n",
       "      <th>0</th>\n",
       "      <td>BaselineOnly_SGD_Tuned</td>\n",
       "      <td>0.7014</td>\n",
       "      <td>0.6974</td>\n",
       "    </tr>\n",
       "    <tr>\n",
       "      <th>1</th>\n",
       "      <td>Knn_UserBased_ZScore_MSD_Tuned</td>\n",
       "      <td>0.7181</td>\n",
       "      <td>0.7192</td>\n",
       "    </tr>\n",
       "    <tr>\n",
       "      <th>2</th>\n",
       "      <td>Knn_ItemBased_ZScore_MSD_Tuned</td>\n",
       "      <td>0.7459</td>\n",
       "      <td>0.7458</td>\n",
       "    </tr>\n",
       "    <tr>\n",
       "      <th>3</th>\n",
       "      <td>Knn_UserBased_Baseline_SGD_Tuned</td>\n",
       "      <td>0.6948</td>\n",
       "      <td>0.6946</td>\n",
       "    </tr>\n",
       "    <tr>\n",
       "      <th>4</th>\n",
       "      <td>Knn_ItemBased_Baseline_SGD_Tuned</td>\n",
       "      <td>0.7014</td>\n",
       "      <td>0.6974</td>\n",
       "    </tr>\n",
       "  </tbody>\n",
       "</table>\n",
       "</div>"
      ],
      "text/plain": [
       "                          algo_name  mean_rmse_all_predictions_validation  \\\n",
       "0            BaselineOnly_SGD_Tuned                                0.7014   \n",
       "1    Knn_UserBased_ZScore_MSD_Tuned                                0.7181   \n",
       "2    Knn_ItemBased_ZScore_MSD_Tuned                                0.7459   \n",
       "3  Knn_UserBased_Baseline_SGD_Tuned                                0.6948   \n",
       "4  Knn_ItemBased_Baseline_SGD_Tuned                                0.7014   \n",
       "\n",
       "   mean_rmse_all_predictions_testing  \n",
       "0                             0.6974  \n",
       "1                             0.7192  \n",
       "2                             0.7458  \n",
       "3                             0.6946  \n",
       "4                             0.6974  "
      ]
     },
     "execution_count": 3,
     "metadata": {},
     "output_type": "execute_result"
    }
   ],
   "source": [
    "validation_testing_res_df = validation_res_df[['algo_name', 'mean_rmse_all_predictions']].merge(\n",
    "                                     testing_res_df[['algo_name', 'mean_rmse_all_predictions']],\n",
    "                                     on='algo_name', suffixes=('_validation', '_testing'))\n",
    "validation_testing_res_df.head()"
   ]
  },
  {
   "cell_type": "code",
   "execution_count": 4,
   "metadata": {
    "collapsed": true
   },
   "outputs": [],
   "source": [
    "validation_testing_res_df.sort_values(by='mean_rmse_all_predictions_testing', inplace=True)"
   ]
  },
  {
   "cell_type": "code",
   "execution_count": 5,
   "metadata": {},
   "outputs": [
    {
     "data": {
      "text/html": [
       "<div>\n",
       "<style>\n",
       "    .dataframe thead tr:only-child th {\n",
       "        text-align: right;\n",
       "    }\n",
       "\n",
       "    .dataframe thead th {\n",
       "        text-align: left;\n",
       "    }\n",
       "\n",
       "    .dataframe tbody tr th {\n",
       "        vertical-align: top;\n",
       "    }\n",
       "</style>\n",
       "<table border=\"1\" class=\"dataframe\">\n",
       "  <thead>\n",
       "    <tr style=\"text-align: right;\">\n",
       "      <th></th>\n",
       "      <th>algo_name</th>\n",
       "      <th>mean_rmse_all_predictions_validation</th>\n",
       "      <th>mean_rmse_all_predictions_testing</th>\n",
       "    </tr>\n",
       "  </thead>\n",
       "  <tbody>\n",
       "    <tr>\n",
       "      <th>3</th>\n",
       "      <td>Knn_UserBased_Baseline_SGD_Tuned</td>\n",
       "      <td>0.6948</td>\n",
       "      <td>0.6946</td>\n",
       "    </tr>\n",
       "    <tr>\n",
       "      <th>0</th>\n",
       "      <td>BaselineOnly_SGD_Tuned</td>\n",
       "      <td>0.7014</td>\n",
       "      <td>0.6974</td>\n",
       "    </tr>\n",
       "    <tr>\n",
       "      <th>4</th>\n",
       "      <td>Knn_ItemBased_Baseline_SGD_Tuned</td>\n",
       "      <td>0.7014</td>\n",
       "      <td>0.6974</td>\n",
       "    </tr>\n",
       "    <tr>\n",
       "      <th>5</th>\n",
       "      <td>SVD_biased_Tuned</td>\n",
       "      <td>0.7019</td>\n",
       "      <td>0.7010</td>\n",
       "    </tr>\n",
       "    <tr>\n",
       "      <th>6</th>\n",
       "      <td>SVDpp_biased_Tuned</td>\n",
       "      <td>0.7116</td>\n",
       "      <td>0.7118</td>\n",
       "    </tr>\n",
       "  </tbody>\n",
       "</table>\n",
       "</div>"
      ],
      "text/plain": [
       "                          algo_name  mean_rmse_all_predictions_validation  \\\n",
       "3  Knn_UserBased_Baseline_SGD_Tuned                                0.6948   \n",
       "0            BaselineOnly_SGD_Tuned                                0.7014   \n",
       "4  Knn_ItemBased_Baseline_SGD_Tuned                                0.7014   \n",
       "5                  SVD_biased_Tuned                                0.7019   \n",
       "6                SVDpp_biased_Tuned                                0.7116   \n",
       "\n",
       "   mean_rmse_all_predictions_testing  \n",
       "3                             0.6946  \n",
       "0                             0.6974  \n",
       "4                             0.6974  \n",
       "5                             0.7010  \n",
       "6                             0.7118  "
      ]
     },
     "execution_count": 5,
     "metadata": {},
     "output_type": "execute_result"
    }
   ],
   "source": [
    "validation_testing_res_df.head()"
   ]
  },
  {
   "cell_type": "code",
   "execution_count": 6,
   "metadata": {
    "collapsed": true
   },
   "outputs": [],
   "source": [
    "validation_testing_res_df.to_csv('validation_testing_results.csv', index=False)"
   ]
  }
 ],
 "metadata": {
  "kernelspec": {
   "display_name": "Python 3",
   "language": "python",
   "name": "python3"
  },
  "language_info": {
   "codemirror_mode": {
    "name": "ipython",
    "version": 3
   },
   "file_extension": ".py",
   "mimetype": "text/x-python",
   "name": "python",
   "nbconvert_exporter": "python",
   "pygments_lexer": "ipython3",
   "version": "3.6.3"
  }
 },
 "nbformat": 4,
 "nbformat_minor": 2
}

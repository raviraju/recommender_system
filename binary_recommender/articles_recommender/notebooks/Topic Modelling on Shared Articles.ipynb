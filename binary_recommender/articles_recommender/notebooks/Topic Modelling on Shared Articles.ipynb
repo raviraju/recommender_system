{
 "cells": [
  {
   "cell_type": "markdown",
   "metadata": {},
   "source": [
    "## Imports"
   ]
  },
  {
   "cell_type": "code",
   "execution_count": 1,
   "metadata": {},
   "outputs": [],
   "source": [
    "import pandas as pd\n",
    "\n",
    "from sklearn.pipeline import Pipeline\n",
    "\n",
    "import spacy\n",
    "spacy_lemmatizer = spacy.load('en', disable=['parser', 'ner'])\n",
    "\n",
    "from sklearn.feature_extraction.text import CountVectorizer, TfidfVectorizer\n",
    "from sklearn.decomposition import LatentDirichletAllocation\n",
    "from sklearn import preprocessing\n",
    "\n",
    "import pyLDAvis\n",
    "import pyLDAvis.sklearn\n",
    "pyLDAvis.enable_notebook()\n",
    "\n",
    "from pprint import pprint\n",
    "\n",
    "from timeit import default_timer"
   ]
  },
  {
   "cell_type": "markdown",
   "metadata": {},
   "source": [
    "## Utilities"
   ]
  },
  {
   "cell_type": "code",
   "execution_count": 2,
   "metadata": {},
   "outputs": [],
   "source": [
    "def lemmatize_spacy(text):\n",
    "    \"\"\"Apply Lemmatization using Spacy Lemmatization\"\"\"\n",
    "    lemma_text = None\n",
    "    if isinstance(text, str):\n",
    "        lemma_text = \"\"\n",
    "\n",
    "        # Parse the sentence using the loaded 'en' model object `nlp`\n",
    "        doc = spacy_lemmatizer(text)\n",
    "\n",
    "        # Extract the lemma for each token\n",
    "        lemmas = []\n",
    "        for token in doc:\n",
    "            lemma = token.lemma_\n",
    "            if lemma == '-PRON-': #https://spacy.io/api/annotation#lemmatization\n",
    "                lemma = token.text\n",
    "            if lemma.isalpha():\n",
    "                lemmas.append(lemma)\n",
    "        lemma_text = \" \".join(lemmas)\n",
    "        if len(lemma_text) == 0:\n",
    "            return None\n",
    "    return lemma_text"
   ]
  },
  {
   "cell_type": "code",
   "execution_count": 3,
   "metadata": {},
   "outputs": [],
   "source": [
    "def convert_sec(no_of_secs):\n",
    "    \"\"\"return no_of_secs to min or hrs string\"\"\"\n",
    "    if no_of_secs < 60:\n",
    "        return \"{:06.4f}    sec\".format(no_of_secs)\n",
    "    elif no_of_secs < 3600:\n",
    "        return \"{:06.4f}    min\".format(no_of_secs/60)\n",
    "    else:\n",
    "        return \"{:06.4f}    hr\".format(no_of_secs/3600)"
   ]
  },
  {
   "cell_type": "markdown",
   "metadata": {
    "heading_collapsed": true
   },
   "source": [
    "## Load Data"
   ]
  },
  {
   "cell_type": "code",
   "execution_count": 4,
   "metadata": {
    "hidden": true
   },
   "outputs": [
    {
     "data": {
      "text/plain": [
       "(3122, 13)"
      ]
     },
     "execution_count": 4,
     "metadata": {},
     "output_type": "execute_result"
    }
   ],
   "source": [
    "articles_df = pd.read_csv('../data/shared_articles.csv')\n",
    "articles_df.fillna('UNKOWN', inplace=True)\n",
    "articles_df.shape"
   ]
  },
  {
   "cell_type": "code",
   "execution_count": 5,
   "metadata": {
    "collapsed": true,
    "hidden": true
   },
   "outputs": [
    {
     "data": {
      "text/html": [
       "<div>\n",
       "<style scoped>\n",
       "    .dataframe tbody tr th:only-of-type {\n",
       "        vertical-align: middle;\n",
       "    }\n",
       "\n",
       "    .dataframe tbody tr th {\n",
       "        vertical-align: top;\n",
       "    }\n",
       "\n",
       "    .dataframe thead th {\n",
       "        text-align: right;\n",
       "    }\n",
       "</style>\n",
       "<table border=\"1\" class=\"dataframe\">\n",
       "  <thead>\n",
       "    <tr style=\"text-align: right;\">\n",
       "      <th></th>\n",
       "      <th>timestamp</th>\n",
       "      <th>eventType</th>\n",
       "      <th>contentId</th>\n",
       "      <th>authorPersonId</th>\n",
       "      <th>authorSessionId</th>\n",
       "      <th>authorUserAgent</th>\n",
       "      <th>authorRegion</th>\n",
       "      <th>authorCountry</th>\n",
       "      <th>contentType</th>\n",
       "      <th>url</th>\n",
       "      <th>title</th>\n",
       "      <th>text</th>\n",
       "      <th>lang</th>\n",
       "    </tr>\n",
       "  </thead>\n",
       "  <tbody>\n",
       "    <tr>\n",
       "      <th>0</th>\n",
       "      <td>1459192779</td>\n",
       "      <td>CONTENT REMOVED</td>\n",
       "      <td>-6451309518266745024</td>\n",
       "      <td>4340306774493623681</td>\n",
       "      <td>8940341205206233829</td>\n",
       "      <td>UNKOWN</td>\n",
       "      <td>UNKOWN</td>\n",
       "      <td>UNKOWN</td>\n",
       "      <td>HTML</td>\n",
       "      <td>http://www.nytimes.com/2016/03/28/business/dea...</td>\n",
       "      <td>Ethereum, a Virtual Currency, Enables Transact...</td>\n",
       "      <td>All of this work is still very early. The firs...</td>\n",
       "      <td>en</td>\n",
       "    </tr>\n",
       "    <tr>\n",
       "      <th>1</th>\n",
       "      <td>1459193988</td>\n",
       "      <td>CONTENT SHARED</td>\n",
       "      <td>-4110354420726924665</td>\n",
       "      <td>4340306774493623681</td>\n",
       "      <td>8940341205206233829</td>\n",
       "      <td>UNKOWN</td>\n",
       "      <td>UNKOWN</td>\n",
       "      <td>UNKOWN</td>\n",
       "      <td>HTML</td>\n",
       "      <td>http://www.nytimes.com/2016/03/28/business/dea...</td>\n",
       "      <td>Ethereum, a Virtual Currency, Enables Transact...</td>\n",
       "      <td>All of this work is still very early. The firs...</td>\n",
       "      <td>en</td>\n",
       "    </tr>\n",
       "    <tr>\n",
       "      <th>2</th>\n",
       "      <td>1459194146</td>\n",
       "      <td>CONTENT SHARED</td>\n",
       "      <td>-7292285110016212249</td>\n",
       "      <td>4340306774493623681</td>\n",
       "      <td>8940341205206233829</td>\n",
       "      <td>UNKOWN</td>\n",
       "      <td>UNKOWN</td>\n",
       "      <td>UNKOWN</td>\n",
       "      <td>HTML</td>\n",
       "      <td>http://cointelegraph.com/news/bitcoin-future-w...</td>\n",
       "      <td>Bitcoin Future: When GBPcoin of Branson Wins O...</td>\n",
       "      <td>The alarm clock wakes me at 8:00 with stream o...</td>\n",
       "      <td>en</td>\n",
       "    </tr>\n",
       "    <tr>\n",
       "      <th>3</th>\n",
       "      <td>1459194474</td>\n",
       "      <td>CONTENT SHARED</td>\n",
       "      <td>-6151852268067518688</td>\n",
       "      <td>3891637997717104548</td>\n",
       "      <td>-1457532940883382585</td>\n",
       "      <td>UNKOWN</td>\n",
       "      <td>UNKOWN</td>\n",
       "      <td>UNKOWN</td>\n",
       "      <td>HTML</td>\n",
       "      <td>https://cloudplatform.googleblog.com/2016/03/G...</td>\n",
       "      <td>Google Data Center 360° Tour</td>\n",
       "      <td>We're excited to share the Google Data Center ...</td>\n",
       "      <td>en</td>\n",
       "    </tr>\n",
       "    <tr>\n",
       "      <th>4</th>\n",
       "      <td>1459194497</td>\n",
       "      <td>CONTENT SHARED</td>\n",
       "      <td>2448026894306402386</td>\n",
       "      <td>4340306774493623681</td>\n",
       "      <td>8940341205206233829</td>\n",
       "      <td>UNKOWN</td>\n",
       "      <td>UNKOWN</td>\n",
       "      <td>UNKOWN</td>\n",
       "      <td>HTML</td>\n",
       "      <td>https://bitcoinmagazine.com/articles/ibm-wants...</td>\n",
       "      <td>IBM Wants to \"Evolve the Internet\" With Blockc...</td>\n",
       "      <td>The Aite Group projects the blockchain market ...</td>\n",
       "      <td>en</td>\n",
       "    </tr>\n",
       "  </tbody>\n",
       "</table>\n",
       "</div>"
      ],
      "text/plain": [
       "    timestamp        eventType            contentId       authorPersonId  \\\n",
       "0  1459192779  CONTENT REMOVED -6451309518266745024  4340306774493623681   \n",
       "1  1459193988   CONTENT SHARED -4110354420726924665  4340306774493623681   \n",
       "2  1459194146   CONTENT SHARED -7292285110016212249  4340306774493623681   \n",
       "3  1459194474   CONTENT SHARED -6151852268067518688  3891637997717104548   \n",
       "4  1459194497   CONTENT SHARED  2448026894306402386  4340306774493623681   \n",
       "\n",
       "       authorSessionId authorUserAgent authorRegion authorCountry contentType  \\\n",
       "0  8940341205206233829          UNKOWN       UNKOWN        UNKOWN        HTML   \n",
       "1  8940341205206233829          UNKOWN       UNKOWN        UNKOWN        HTML   \n",
       "2  8940341205206233829          UNKOWN       UNKOWN        UNKOWN        HTML   \n",
       "3 -1457532940883382585          UNKOWN       UNKOWN        UNKOWN        HTML   \n",
       "4  8940341205206233829          UNKOWN       UNKOWN        UNKOWN        HTML   \n",
       "\n",
       "                                                 url  \\\n",
       "0  http://www.nytimes.com/2016/03/28/business/dea...   \n",
       "1  http://www.nytimes.com/2016/03/28/business/dea...   \n",
       "2  http://cointelegraph.com/news/bitcoin-future-w...   \n",
       "3  https://cloudplatform.googleblog.com/2016/03/G...   \n",
       "4  https://bitcoinmagazine.com/articles/ibm-wants...   \n",
       "\n",
       "                                               title  \\\n",
       "0  Ethereum, a Virtual Currency, Enables Transact...   \n",
       "1  Ethereum, a Virtual Currency, Enables Transact...   \n",
       "2  Bitcoin Future: When GBPcoin of Branson Wins O...   \n",
       "3                       Google Data Center 360° Tour   \n",
       "4  IBM Wants to \"Evolve the Internet\" With Blockc...   \n",
       "\n",
       "                                                text lang  \n",
       "0  All of this work is still very early. The firs...   en  \n",
       "1  All of this work is still very early. The firs...   en  \n",
       "2  The alarm clock wakes me at 8:00 with stream o...   en  \n",
       "3  We're excited to share the Google Data Center ...   en  \n",
       "4  The Aite Group projects the blockchain market ...   en  "
      ]
     },
     "execution_count": 5,
     "metadata": {},
     "output_type": "execute_result"
    }
   ],
   "source": [
    "articles_df.head()"
   ]
  },
  {
   "cell_type": "markdown",
   "metadata": {
    "hidden": true
   },
   "source": [
    "### Filtering Shared Articles"
   ]
  },
  {
   "cell_type": "code",
   "execution_count": 6,
   "metadata": {
    "hidden": true
   },
   "outputs": [
    {
     "data": {
      "text/plain": [
       "CONTENT SHARED     3047\n",
       "CONTENT REMOVED      75\n",
       "Name: eventType, dtype: int64"
      ]
     },
     "execution_count": 6,
     "metadata": {},
     "output_type": "execute_result"
    }
   ],
   "source": [
    "articles_df['eventType'].value_counts()"
   ]
  },
  {
   "cell_type": "code",
   "execution_count": 7,
   "metadata": {
    "hidden": true
   },
   "outputs": [
    {
     "data": {
      "text/plain": [
       "(3047, 13)"
      ]
     },
     "execution_count": 7,
     "metadata": {},
     "output_type": "execute_result"
    }
   ],
   "source": [
    "shared_articles_df = articles_df[articles_df['eventType'] == 'CONTENT SHARED']\n",
    "shared_articles_df.shape"
   ]
  },
  {
   "cell_type": "markdown",
   "metadata": {
    "hidden": true
   },
   "source": [
    "### Filtering Shared Articles in English"
   ]
  },
  {
   "cell_type": "code",
   "execution_count": 8,
   "metadata": {
    "hidden": true
   },
   "outputs": [
    {
     "data": {
      "text/plain": [
       "en    2211\n",
       "pt     829\n",
       "la       3\n",
       "ja       2\n",
       "es       2\n",
       "Name: lang, dtype: int64"
      ]
     },
     "execution_count": 8,
     "metadata": {},
     "output_type": "execute_result"
    }
   ],
   "source": [
    "shared_articles_df['lang'].value_counts()"
   ]
  },
  {
   "cell_type": "code",
   "execution_count": 9,
   "metadata": {
    "hidden": true
   },
   "outputs": [
    {
     "data": {
      "text/plain": [
       "(2211, 13)"
      ]
     },
     "execution_count": 9,
     "metadata": {},
     "output_type": "execute_result"
    }
   ],
   "source": [
    "eng_shared_articles_df = shared_articles_df[shared_articles_df['lang'] == 'en']\n",
    "eng_shared_articles_df.shape"
   ]
  },
  {
   "cell_type": "code",
   "execution_count": 10,
   "metadata": {
    "hidden": true
   },
   "outputs": [
    {
     "data": {
      "text/html": [
       "<div>\n",
       "<style scoped>\n",
       "    .dataframe tbody tr th:only-of-type {\n",
       "        vertical-align: middle;\n",
       "    }\n",
       "\n",
       "    .dataframe tbody tr th {\n",
       "        vertical-align: top;\n",
       "    }\n",
       "\n",
       "    .dataframe thead th {\n",
       "        text-align: right;\n",
       "    }\n",
       "</style>\n",
       "<table border=\"1\" class=\"dataframe\">\n",
       "  <thead>\n",
       "    <tr style=\"text-align: right;\">\n",
       "      <th></th>\n",
       "      <th>contentId</th>\n",
       "      <th>url</th>\n",
       "      <th>title</th>\n",
       "      <th>text</th>\n",
       "    </tr>\n",
       "  </thead>\n",
       "  <tbody>\n",
       "    <tr>\n",
       "      <th>1</th>\n",
       "      <td>-4110354420726924665</td>\n",
       "      <td>http://www.nytimes.com/2016/03/28/business/dea...</td>\n",
       "      <td>Ethereum, a Virtual Currency, Enables Transact...</td>\n",
       "      <td>All of this work is still very early. The firs...</td>\n",
       "    </tr>\n",
       "    <tr>\n",
       "      <th>2</th>\n",
       "      <td>-7292285110016212249</td>\n",
       "      <td>http://cointelegraph.com/news/bitcoin-future-w...</td>\n",
       "      <td>Bitcoin Future: When GBPcoin of Branson Wins O...</td>\n",
       "      <td>The alarm clock wakes me at 8:00 with stream o...</td>\n",
       "    </tr>\n",
       "    <tr>\n",
       "      <th>3</th>\n",
       "      <td>-6151852268067518688</td>\n",
       "      <td>https://cloudplatform.googleblog.com/2016/03/G...</td>\n",
       "      <td>Google Data Center 360° Tour</td>\n",
       "      <td>We're excited to share the Google Data Center ...</td>\n",
       "    </tr>\n",
       "    <tr>\n",
       "      <th>4</th>\n",
       "      <td>2448026894306402386</td>\n",
       "      <td>https://bitcoinmagazine.com/articles/ibm-wants...</td>\n",
       "      <td>IBM Wants to \"Evolve the Internet\" With Blockc...</td>\n",
       "      <td>The Aite Group projects the blockchain market ...</td>\n",
       "    </tr>\n",
       "    <tr>\n",
       "      <th>5</th>\n",
       "      <td>-2826566343807132236</td>\n",
       "      <td>http://www.coindesk.com/ieee-blockchain-oxford...</td>\n",
       "      <td>IEEE to Talk Blockchain at Cloud Computing Oxf...</td>\n",
       "      <td>One of the largest and oldest organizations fo...</td>\n",
       "    </tr>\n",
       "  </tbody>\n",
       "</table>\n",
       "</div>"
      ],
      "text/plain": [
       "             contentId                                                url  \\\n",
       "1 -4110354420726924665  http://www.nytimes.com/2016/03/28/business/dea...   \n",
       "2 -7292285110016212249  http://cointelegraph.com/news/bitcoin-future-w...   \n",
       "3 -6151852268067518688  https://cloudplatform.googleblog.com/2016/03/G...   \n",
       "4  2448026894306402386  https://bitcoinmagazine.com/articles/ibm-wants...   \n",
       "5 -2826566343807132236  http://www.coindesk.com/ieee-blockchain-oxford...   \n",
       "\n",
       "                                               title  \\\n",
       "1  Ethereum, a Virtual Currency, Enables Transact...   \n",
       "2  Bitcoin Future: When GBPcoin of Branson Wins O...   \n",
       "3                       Google Data Center 360° Tour   \n",
       "4  IBM Wants to \"Evolve the Internet\" With Blockc...   \n",
       "5  IEEE to Talk Blockchain at Cloud Computing Oxf...   \n",
       "\n",
       "                                                text  \n",
       "1  All of this work is still very early. The firs...  \n",
       "2  The alarm clock wakes me at 8:00 with stream o...  \n",
       "3  We're excited to share the Google Data Center ...  \n",
       "4  The Aite Group projects the blockchain market ...  \n",
       "5  One of the largest and oldest organizations fo...  "
      ]
     },
     "execution_count": 10,
     "metadata": {},
     "output_type": "execute_result"
    }
   ],
   "source": [
    "eng_shared_articles_df = eng_shared_articles_df[['contentId', 'url', 'title', 'text']]\n",
    "eng_shared_articles_df.head()"
   ]
  },
  {
   "cell_type": "code",
   "execution_count": 11,
   "metadata": {
    "hidden": true
   },
   "outputs": [
    {
     "data": {
      "text/plain": [
       "2211"
      ]
     },
     "execution_count": 11,
     "metadata": {},
     "output_type": "execute_result"
    }
   ],
   "source": [
    "len(eng_shared_articles_df['contentId'].unique())"
   ]
  },
  {
   "cell_type": "markdown",
   "metadata": {
    "hidden": true
   },
   "source": [
    "### Combine title and text to create text_content"
   ]
  },
  {
   "cell_type": "code",
   "execution_count": 12,
   "metadata": {
    "hidden": true
   },
   "outputs": [
    {
     "data": {
      "text/html": [
       "<div>\n",
       "<style scoped>\n",
       "    .dataframe tbody tr th:only-of-type {\n",
       "        vertical-align: middle;\n",
       "    }\n",
       "\n",
       "    .dataframe tbody tr th {\n",
       "        vertical-align: top;\n",
       "    }\n",
       "\n",
       "    .dataframe thead th {\n",
       "        text-align: right;\n",
       "    }\n",
       "</style>\n",
       "<table border=\"1\" class=\"dataframe\">\n",
       "  <thead>\n",
       "    <tr style=\"text-align: right;\">\n",
       "      <th></th>\n",
       "      <th>contentId</th>\n",
       "      <th>url</th>\n",
       "      <th>title</th>\n",
       "      <th>text</th>\n",
       "      <th>text_content</th>\n",
       "    </tr>\n",
       "  </thead>\n",
       "  <tbody>\n",
       "    <tr>\n",
       "      <th>1</th>\n",
       "      <td>-4110354420726924665</td>\n",
       "      <td>http://www.nytimes.com/2016/03/28/business/dea...</td>\n",
       "      <td>Ethereum, a Virtual Currency, Enables Transact...</td>\n",
       "      <td>All of this work is still very early. The firs...</td>\n",
       "      <td>Ethereum, a Virtual Currency, Enables Transact...</td>\n",
       "    </tr>\n",
       "    <tr>\n",
       "      <th>2</th>\n",
       "      <td>-7292285110016212249</td>\n",
       "      <td>http://cointelegraph.com/news/bitcoin-future-w...</td>\n",
       "      <td>Bitcoin Future: When GBPcoin of Branson Wins O...</td>\n",
       "      <td>The alarm clock wakes me at 8:00 with stream o...</td>\n",
       "      <td>Bitcoin Future: When GBPcoin of Branson Wins O...</td>\n",
       "    </tr>\n",
       "    <tr>\n",
       "      <th>3</th>\n",
       "      <td>-6151852268067518688</td>\n",
       "      <td>https://cloudplatform.googleblog.com/2016/03/G...</td>\n",
       "      <td>Google Data Center 360° Tour</td>\n",
       "      <td>We're excited to share the Google Data Center ...</td>\n",
       "      <td>Google Data Center 360° Tour. We're excited to...</td>\n",
       "    </tr>\n",
       "    <tr>\n",
       "      <th>4</th>\n",
       "      <td>2448026894306402386</td>\n",
       "      <td>https://bitcoinmagazine.com/articles/ibm-wants...</td>\n",
       "      <td>IBM Wants to \"Evolve the Internet\" With Blockc...</td>\n",
       "      <td>The Aite Group projects the blockchain market ...</td>\n",
       "      <td>IBM Wants to \"Evolve the Internet\" With Blockc...</td>\n",
       "    </tr>\n",
       "    <tr>\n",
       "      <th>5</th>\n",
       "      <td>-2826566343807132236</td>\n",
       "      <td>http://www.coindesk.com/ieee-blockchain-oxford...</td>\n",
       "      <td>IEEE to Talk Blockchain at Cloud Computing Oxf...</td>\n",
       "      <td>One of the largest and oldest organizations fo...</td>\n",
       "      <td>IEEE to Talk Blockchain at Cloud Computing Oxf...</td>\n",
       "    </tr>\n",
       "  </tbody>\n",
       "</table>\n",
       "</div>"
      ],
      "text/plain": [
       "             contentId                                                url  \\\n",
       "1 -4110354420726924665  http://www.nytimes.com/2016/03/28/business/dea...   \n",
       "2 -7292285110016212249  http://cointelegraph.com/news/bitcoin-future-w...   \n",
       "3 -6151852268067518688  https://cloudplatform.googleblog.com/2016/03/G...   \n",
       "4  2448026894306402386  https://bitcoinmagazine.com/articles/ibm-wants...   \n",
       "5 -2826566343807132236  http://www.coindesk.com/ieee-blockchain-oxford...   \n",
       "\n",
       "                                               title  \\\n",
       "1  Ethereum, a Virtual Currency, Enables Transact...   \n",
       "2  Bitcoin Future: When GBPcoin of Branson Wins O...   \n",
       "3                       Google Data Center 360° Tour   \n",
       "4  IBM Wants to \"Evolve the Internet\" With Blockc...   \n",
       "5  IEEE to Talk Blockchain at Cloud Computing Oxf...   \n",
       "\n",
       "                                                text  \\\n",
       "1  All of this work is still very early. The firs...   \n",
       "2  The alarm clock wakes me at 8:00 with stream o...   \n",
       "3  We're excited to share the Google Data Center ...   \n",
       "4  The Aite Group projects the blockchain market ...   \n",
       "5  One of the largest and oldest organizations fo...   \n",
       "\n",
       "                                        text_content  \n",
       "1  Ethereum, a Virtual Currency, Enables Transact...  \n",
       "2  Bitcoin Future: When GBPcoin of Branson Wins O...  \n",
       "3  Google Data Center 360° Tour. We're excited to...  \n",
       "4  IBM Wants to \"Evolve the Internet\" With Blockc...  \n",
       "5  IEEE to Talk Blockchain at Cloud Computing Oxf...  "
      ]
     },
     "execution_count": 12,
     "metadata": {},
     "output_type": "execute_result"
    }
   ],
   "source": [
    "eng_shared_articles_df['text_content'] = eng_shared_articles_df[['title', 'text']].apply(lambda x: '. '.join(x), axis=1)\n",
    "eng_shared_articles_df.head()"
   ]
  },
  {
   "cell_type": "code",
   "execution_count": 13,
   "metadata": {
    "hidden": true
   },
   "outputs": [
    {
     "data": {
      "text/html": [
       "<div>\n",
       "<style scoped>\n",
       "    .dataframe tbody tr th:only-of-type {\n",
       "        vertical-align: middle;\n",
       "    }\n",
       "\n",
       "    .dataframe tbody tr th {\n",
       "        vertical-align: top;\n",
       "    }\n",
       "\n",
       "    .dataframe thead th {\n",
       "        text-align: right;\n",
       "    }\n",
       "</style>\n",
       "<table border=\"1\" class=\"dataframe\">\n",
       "  <thead>\n",
       "    <tr style=\"text-align: right;\">\n",
       "      <th></th>\n",
       "      <th>contentId</th>\n",
       "      <th>url</th>\n",
       "      <th>text_content</th>\n",
       "    </tr>\n",
       "  </thead>\n",
       "  <tbody>\n",
       "    <tr>\n",
       "      <th>1</th>\n",
       "      <td>-4110354420726924665</td>\n",
       "      <td>http://www.nytimes.com/2016/03/28/business/dea...</td>\n",
       "      <td>Ethereum, a Virtual Currency, Enables Transact...</td>\n",
       "    </tr>\n",
       "    <tr>\n",
       "      <th>2</th>\n",
       "      <td>-7292285110016212249</td>\n",
       "      <td>http://cointelegraph.com/news/bitcoin-future-w...</td>\n",
       "      <td>Bitcoin Future: When GBPcoin of Branson Wins O...</td>\n",
       "    </tr>\n",
       "    <tr>\n",
       "      <th>3</th>\n",
       "      <td>-6151852268067518688</td>\n",
       "      <td>https://cloudplatform.googleblog.com/2016/03/G...</td>\n",
       "      <td>Google Data Center 360° Tour. We're excited to...</td>\n",
       "    </tr>\n",
       "    <tr>\n",
       "      <th>4</th>\n",
       "      <td>2448026894306402386</td>\n",
       "      <td>https://bitcoinmagazine.com/articles/ibm-wants...</td>\n",
       "      <td>IBM Wants to \"Evolve the Internet\" With Blockc...</td>\n",
       "    </tr>\n",
       "    <tr>\n",
       "      <th>5</th>\n",
       "      <td>-2826566343807132236</td>\n",
       "      <td>http://www.coindesk.com/ieee-blockchain-oxford...</td>\n",
       "      <td>IEEE to Talk Blockchain at Cloud Computing Oxf...</td>\n",
       "    </tr>\n",
       "  </tbody>\n",
       "</table>\n",
       "</div>"
      ],
      "text/plain": [
       "             contentId                                                url  \\\n",
       "1 -4110354420726924665  http://www.nytimes.com/2016/03/28/business/dea...   \n",
       "2 -7292285110016212249  http://cointelegraph.com/news/bitcoin-future-w...   \n",
       "3 -6151852268067518688  https://cloudplatform.googleblog.com/2016/03/G...   \n",
       "4  2448026894306402386  https://bitcoinmagazine.com/articles/ibm-wants...   \n",
       "5 -2826566343807132236  http://www.coindesk.com/ieee-blockchain-oxford...   \n",
       "\n",
       "                                        text_content  \n",
       "1  Ethereum, a Virtual Currency, Enables Transact...  \n",
       "2  Bitcoin Future: When GBPcoin of Branson Wins O...  \n",
       "3  Google Data Center 360° Tour. We're excited to...  \n",
       "4  IBM Wants to \"Evolve the Internet\" With Blockc...  \n",
       "5  IEEE to Talk Blockchain at Cloud Computing Oxf...  "
      ]
     },
     "execution_count": 13,
     "metadata": {},
     "output_type": "execute_result"
    }
   ],
   "source": [
    "eng_shared_articles_df.drop(['title', 'text'], inplace=True, axis=1)\n",
    "eng_shared_articles_df.head()"
   ]
  },
  {
   "cell_type": "markdown",
   "metadata": {
    "heading_collapsed": true
   },
   "source": [
    "## Get Unique Text Content"
   ]
  },
  {
   "cell_type": "code",
   "execution_count": 14,
   "metadata": {
    "hidden": true
   },
   "outputs": [
    {
     "data": {
      "text/html": [
       "<div>\n",
       "<style scoped>\n",
       "    .dataframe tbody tr th:only-of-type {\n",
       "        vertical-align: middle;\n",
       "    }\n",
       "\n",
       "    .dataframe tbody tr th {\n",
       "        vertical-align: top;\n",
       "    }\n",
       "\n",
       "    .dataframe thead th {\n",
       "        text-align: right;\n",
       "    }\n",
       "</style>\n",
       "<table border=\"1\" class=\"dataframe\">\n",
       "  <thead>\n",
       "    <tr style=\"text-align: right;\">\n",
       "      <th></th>\n",
       "      <th>contentId</th>\n",
       "      <th>url</th>\n",
       "      <th>text_content</th>\n",
       "    </tr>\n",
       "  </thead>\n",
       "  <tbody>\n",
       "    <tr>\n",
       "      <th>1</th>\n",
       "      <td>-4110354420726924665</td>\n",
       "      <td>http://www.nytimes.com/2016/03/28/business/dea...</td>\n",
       "      <td>Ethereum, a Virtual Currency, Enables Transact...</td>\n",
       "    </tr>\n",
       "    <tr>\n",
       "      <th>2</th>\n",
       "      <td>-7292285110016212249</td>\n",
       "      <td>http://cointelegraph.com/news/bitcoin-future-w...</td>\n",
       "      <td>Bitcoin Future: When GBPcoin of Branson Wins O...</td>\n",
       "    </tr>\n",
       "    <tr>\n",
       "      <th>3</th>\n",
       "      <td>-6151852268067518688</td>\n",
       "      <td>https://cloudplatform.googleblog.com/2016/03/G...</td>\n",
       "      <td>Google Data Center 360° Tour. We're excited to...</td>\n",
       "    </tr>\n",
       "    <tr>\n",
       "      <th>4</th>\n",
       "      <td>2448026894306402386</td>\n",
       "      <td>https://bitcoinmagazine.com/articles/ibm-wants...</td>\n",
       "      <td>IBM Wants to \"Evolve the Internet\" With Blockc...</td>\n",
       "    </tr>\n",
       "    <tr>\n",
       "      <th>5</th>\n",
       "      <td>-2826566343807132236</td>\n",
       "      <td>http://www.coindesk.com/ieee-blockchain-oxford...</td>\n",
       "      <td>IEEE to Talk Blockchain at Cloud Computing Oxf...</td>\n",
       "    </tr>\n",
       "  </tbody>\n",
       "</table>\n",
       "</div>"
      ],
      "text/plain": [
       "             contentId                                                url  \\\n",
       "1 -4110354420726924665  http://www.nytimes.com/2016/03/28/business/dea...   \n",
       "2 -7292285110016212249  http://cointelegraph.com/news/bitcoin-future-w...   \n",
       "3 -6151852268067518688  https://cloudplatform.googleblog.com/2016/03/G...   \n",
       "4  2448026894306402386  https://bitcoinmagazine.com/articles/ibm-wants...   \n",
       "5 -2826566343807132236  http://www.coindesk.com/ieee-blockchain-oxford...   \n",
       "\n",
       "                                        text_content  \n",
       "1  Ethereum, a Virtual Currency, Enables Transact...  \n",
       "2  Bitcoin Future: When GBPcoin of Branson Wins O...  \n",
       "3  Google Data Center 360° Tour. We're excited to...  \n",
       "4  IBM Wants to \"Evolve the Internet\" With Blockc...  \n",
       "5  IEEE to Talk Blockchain at Cloud Computing Oxf...  "
      ]
     },
     "execution_count": 14,
     "metadata": {},
     "output_type": "execute_result"
    }
   ],
   "source": [
    "eng_shared_articles_df.head()"
   ]
  },
  {
   "cell_type": "markdown",
   "metadata": {
    "heading_collapsed": true,
    "hidden": true
   },
   "source": [
    "### Multiple ContentIds, Urls for Text_Content"
   ]
  },
  {
   "cell_type": "code",
   "execution_count": 15,
   "metadata": {
    "hidden": true
   },
   "outputs": [
    {
     "data": {
      "text/plain": [
       "(2211, 2191, 2185)"
      ]
     },
     "execution_count": 15,
     "metadata": {},
     "output_type": "execute_result"
    }
   ],
   "source": [
    "len(eng_shared_articles_df['contentId'].unique()), len(eng_shared_articles_df['url'].unique()), len(eng_shared_articles_df['text_content'].unique())"
   ]
  },
  {
   "cell_type": "code",
   "execution_count": 16,
   "metadata": {
    "hidden": true
   },
   "outputs": [
    {
     "data": {
      "text/plain": [
       "(2191, 2)"
      ]
     },
     "execution_count": 16,
     "metadata": {},
     "output_type": "execute_result"
    }
   ],
   "source": [
    "url_contents_df = eng_shared_articles_df[['url', 'text_content']].drop_duplicates()\n",
    "url_contents_df.shape"
   ]
  },
  {
   "cell_type": "code",
   "execution_count": 17,
   "metadata": {
    "hidden": true
   },
   "outputs": [
    {
     "data": {
      "text/html": [
       "<div>\n",
       "<style scoped>\n",
       "    .dataframe tbody tr th:only-of-type {\n",
       "        vertical-align: middle;\n",
       "    }\n",
       "\n",
       "    .dataframe tbody tr th {\n",
       "        vertical-align: top;\n",
       "    }\n",
       "\n",
       "    .dataframe thead th {\n",
       "        text-align: right;\n",
       "    }\n",
       "</style>\n",
       "<table border=\"1\" class=\"dataframe\">\n",
       "  <thead>\n",
       "    <tr style=\"text-align: right;\">\n",
       "      <th></th>\n",
       "      <th>url</th>\n",
       "      <th>text_content</th>\n",
       "    </tr>\n",
       "  </thead>\n",
       "  <tbody>\n",
       "    <tr>\n",
       "      <th>1</th>\n",
       "      <td>http://www.nytimes.com/2016/03/28/business/dea...</td>\n",
       "      <td>Ethereum, a Virtual Currency, Enables Transact...</td>\n",
       "    </tr>\n",
       "    <tr>\n",
       "      <th>2</th>\n",
       "      <td>http://cointelegraph.com/news/bitcoin-future-w...</td>\n",
       "      <td>Bitcoin Future: When GBPcoin of Branson Wins O...</td>\n",
       "    </tr>\n",
       "    <tr>\n",
       "      <th>3</th>\n",
       "      <td>https://cloudplatform.googleblog.com/2016/03/G...</td>\n",
       "      <td>Google Data Center 360° Tour. We're excited to...</td>\n",
       "    </tr>\n",
       "    <tr>\n",
       "      <th>4</th>\n",
       "      <td>https://bitcoinmagazine.com/articles/ibm-wants...</td>\n",
       "      <td>IBM Wants to \"Evolve the Internet\" With Blockc...</td>\n",
       "    </tr>\n",
       "    <tr>\n",
       "      <th>5</th>\n",
       "      <td>http://www.coindesk.com/ieee-blockchain-oxford...</td>\n",
       "      <td>IEEE to Talk Blockchain at Cloud Computing Oxf...</td>\n",
       "    </tr>\n",
       "  </tbody>\n",
       "</table>\n",
       "</div>"
      ],
      "text/plain": [
       "                                                 url  \\\n",
       "1  http://www.nytimes.com/2016/03/28/business/dea...   \n",
       "2  http://cointelegraph.com/news/bitcoin-future-w...   \n",
       "3  https://cloudplatform.googleblog.com/2016/03/G...   \n",
       "4  https://bitcoinmagazine.com/articles/ibm-wants...   \n",
       "5  http://www.coindesk.com/ieee-blockchain-oxford...   \n",
       "\n",
       "                                        text_content  \n",
       "1  Ethereum, a Virtual Currency, Enables Transact...  \n",
       "2  Bitcoin Future: When GBPcoin of Branson Wins O...  \n",
       "3  Google Data Center 360° Tour. We're excited to...  \n",
       "4  IBM Wants to \"Evolve the Internet\" With Blockc...  \n",
       "5  IEEE to Talk Blockchain at Cloud Computing Oxf...  "
      ]
     },
     "execution_count": 17,
     "metadata": {},
     "output_type": "execute_result"
    }
   ],
   "source": [
    "url_contents_df.head()"
   ]
  },
  {
   "cell_type": "code",
   "execution_count": 18,
   "metadata": {
    "hidden": true
   },
   "outputs": [
    {
     "data": {
      "text/plain": [
       "(2191, 2185)"
      ]
     },
     "execution_count": 18,
     "metadata": {},
     "output_type": "execute_result"
    }
   ],
   "source": [
    "len(url_contents_df['url'].unique()), len(url_contents_df['text_content'].unique())"
   ]
  },
  {
   "cell_type": "code",
   "execution_count": 19,
   "metadata": {
    "hidden": true
   },
   "outputs": [
    {
     "data": {
      "text/plain": [
       "6"
      ]
     },
     "execution_count": 19,
     "metadata": {},
     "output_type": "execute_result"
    }
   ],
   "source": [
    "len(url_contents_df['url'].unique()) - len(url_contents_df['text_content'].unique())"
   ]
  },
  {
   "cell_type": "markdown",
   "metadata": {
    "hidden": true
   },
   "source": [
    "### Multiple Urls for Text Content"
   ]
  },
  {
   "cell_type": "code",
   "execution_count": 20,
   "metadata": {
    "hidden": true
   },
   "outputs": [
    {
     "name": "stdout",
     "output_type": "stream",
     "text": [
      "['http://android-developers.blogspot.com.br/2016/04/android-n-developer-preview-2-out-today.html',\n",
      " 'http://android-developers.blogspot.com/2016/04/android-n-developer-preview-2-out-today.html']\n",
      "['https://www.oreilly.com/learning/how-to-build-a-robot-that-sees-with-100-and-tensorflow?twitter=@bigdata&utm_source=hackernewsletter&utm_medium=email&utm_term=fav',\n",
      " 'https://www.oreilly.com/learning/how-to-build-a-robot-that-sees-with-100-and-tensorflow']\n",
      "['https://www.blog.google/products/g-suite/introducing-google-cloud-search-g-suite/',\n",
      " 'https://blog.google/products/g-suite/introducing-google-cloud-search-g-suite/']\n",
      "['https://www.ted.com/talks/linus_torvalds_the_mind_behind_linux',\n",
      " 'http://www.ted.com/talks/linus_torvalds_the_mind_behind_linux']\n",
      "['https://www.thinkwithgoogle.com/articles/youtube-empowering-ads-engage.html?utm_source=Gplus&utm_medium=social&utm_campaign=Think',\n",
      " 'https://www.thinkwithgoogle.com/articles/youtube-empowering-ads-engage.html?utm_medium=email-d&utm_source=2016-06-think-letter&utm_campaign=20160606-think-letter-weekly-insight-a-OT-OT-CS&utm_content=Video-img&mkt_tok=eyJpIjoiTm1WaVpHTm1ORFExWkRKaiIsInQiOiJpSTJNQW5VOXlTTmpkaU83K1NiRDA1RW03bkFvaEpRSFJQd3JrNGN5RFZ4ZUpUXC9XXC9JaG1raXRiaTRsVHc2RkdcL250aUtsR2EzSW1ldGZlY0Rpc2xJdWJaMDhNYUNXZ3ZOSGsraUVyalFubz0ifQ%3D%3D']\n",
      "['https://hbr.org/2016/11/the-competitive-landscape-for-machine-intelligence',\n",
      " 'https://hbr.org/2016/11/the-competitive-landscape-for-machine-intelligence?']\n"
     ]
    }
   ],
   "source": [
    "content_urls = url_contents_df.groupby('text_content').apply(lambda x : list(x['url'].unique()))\n",
    "for content in content_urls.index:\n",
    "    if len(content_urls[content]) > 1:\n",
    "        #print(content)\n",
    "        pprint(content_urls[content])"
   ]
  },
  {
   "cell_type": "code",
   "execution_count": 29,
   "metadata": {
    "hidden": true
   },
   "outputs": [
    {
     "data": {
      "text/plain": [
       "(2185, 2)"
      ]
     },
     "execution_count": 29,
     "metadata": {},
     "output_type": "execute_result"
    }
   ],
   "source": [
    "eng_shared_articles_content_df = eng_shared_articles_df['text_content'].drop_duplicates()\\\n",
    "                                                                       .reset_index()\\\n",
    "                                                                       .rename(columns={'index' : 'text_content_id'})\n",
    "eng_shared_articles_content_df.shape"
   ]
  },
  {
   "cell_type": "code",
   "execution_count": 30,
   "metadata": {
    "hidden": true
   },
   "outputs": [
    {
     "data": {
      "text/html": [
       "<div>\n",
       "<style scoped>\n",
       "    .dataframe tbody tr th:only-of-type {\n",
       "        vertical-align: middle;\n",
       "    }\n",
       "\n",
       "    .dataframe tbody tr th {\n",
       "        vertical-align: top;\n",
       "    }\n",
       "\n",
       "    .dataframe thead th {\n",
       "        text-align: right;\n",
       "    }\n",
       "</style>\n",
       "<table border=\"1\" class=\"dataframe\">\n",
       "  <thead>\n",
       "    <tr style=\"text-align: right;\">\n",
       "      <th></th>\n",
       "      <th>text_content_id</th>\n",
       "      <th>text_content</th>\n",
       "    </tr>\n",
       "  </thead>\n",
       "  <tbody>\n",
       "    <tr>\n",
       "      <th>0</th>\n",
       "      <td>1</td>\n",
       "      <td>Ethereum, a Virtual Currency, Enables Transact...</td>\n",
       "    </tr>\n",
       "    <tr>\n",
       "      <th>1</th>\n",
       "      <td>2</td>\n",
       "      <td>Bitcoin Future: When GBPcoin of Branson Wins O...</td>\n",
       "    </tr>\n",
       "    <tr>\n",
       "      <th>2</th>\n",
       "      <td>3</td>\n",
       "      <td>Google Data Center 360° Tour. We're excited to...</td>\n",
       "    </tr>\n",
       "    <tr>\n",
       "      <th>3</th>\n",
       "      <td>4</td>\n",
       "      <td>IBM Wants to \"Evolve the Internet\" With Blockc...</td>\n",
       "    </tr>\n",
       "    <tr>\n",
       "      <th>4</th>\n",
       "      <td>5</td>\n",
       "      <td>IEEE to Talk Blockchain at Cloud Computing Oxf...</td>\n",
       "    </tr>\n",
       "  </tbody>\n",
       "</table>\n",
       "</div>"
      ],
      "text/plain": [
       "   text_content_id                                       text_content\n",
       "0                1  Ethereum, a Virtual Currency, Enables Transact...\n",
       "1                2  Bitcoin Future: When GBPcoin of Branson Wins O...\n",
       "2                3  Google Data Center 360° Tour. We're excited to...\n",
       "3                4  IBM Wants to \"Evolve the Internet\" With Blockc...\n",
       "4                5  IEEE to Talk Blockchain at Cloud Computing Oxf..."
      ]
     },
     "execution_count": 30,
     "metadata": {},
     "output_type": "execute_result"
    }
   ],
   "source": [
    "eng_shared_articles_content_df.head()"
   ]
  },
  {
   "cell_type": "code",
   "execution_count": 31,
   "metadata": {
    "hidden": true
   },
   "outputs": [
    {
     "data": {
      "text/html": [
       "<div>\n",
       "<style scoped>\n",
       "    .dataframe tbody tr th:only-of-type {\n",
       "        vertical-align: middle;\n",
       "    }\n",
       "\n",
       "    .dataframe tbody tr th {\n",
       "        vertical-align: top;\n",
       "    }\n",
       "\n",
       "    .dataframe thead th {\n",
       "        text-align: right;\n",
       "    }\n",
       "</style>\n",
       "<table border=\"1\" class=\"dataframe\">\n",
       "  <thead>\n",
       "    <tr style=\"text-align: right;\">\n",
       "      <th></th>\n",
       "      <th>contentId</th>\n",
       "      <th>url</th>\n",
       "      <th>text_content</th>\n",
       "      <th>text_content_id</th>\n",
       "    </tr>\n",
       "  </thead>\n",
       "  <tbody>\n",
       "    <tr>\n",
       "      <th>0</th>\n",
       "      <td>-4110354420726924665</td>\n",
       "      <td>http://www.nytimes.com/2016/03/28/business/dea...</td>\n",
       "      <td>Ethereum, a Virtual Currency, Enables Transact...</td>\n",
       "      <td>1</td>\n",
       "    </tr>\n",
       "    <tr>\n",
       "      <th>1</th>\n",
       "      <td>-7292285110016212249</td>\n",
       "      <td>http://cointelegraph.com/news/bitcoin-future-w...</td>\n",
       "      <td>Bitcoin Future: When GBPcoin of Branson Wins O...</td>\n",
       "      <td>2</td>\n",
       "    </tr>\n",
       "    <tr>\n",
       "      <th>2</th>\n",
       "      <td>-6151852268067518688</td>\n",
       "      <td>https://cloudplatform.googleblog.com/2016/03/G...</td>\n",
       "      <td>Google Data Center 360° Tour. We're excited to...</td>\n",
       "      <td>3</td>\n",
       "    </tr>\n",
       "    <tr>\n",
       "      <th>3</th>\n",
       "      <td>2448026894306402386</td>\n",
       "      <td>https://bitcoinmagazine.com/articles/ibm-wants...</td>\n",
       "      <td>IBM Wants to \"Evolve the Internet\" With Blockc...</td>\n",
       "      <td>4</td>\n",
       "    </tr>\n",
       "    <tr>\n",
       "      <th>4</th>\n",
       "      <td>-2826566343807132236</td>\n",
       "      <td>http://www.coindesk.com/ieee-blockchain-oxford...</td>\n",
       "      <td>IEEE to Talk Blockchain at Cloud Computing Oxf...</td>\n",
       "      <td>5</td>\n",
       "    </tr>\n",
       "  </tbody>\n",
       "</table>\n",
       "</div>"
      ],
      "text/plain": [
       "             contentId                                                url  \\\n",
       "0 -4110354420726924665  http://www.nytimes.com/2016/03/28/business/dea...   \n",
       "1 -7292285110016212249  http://cointelegraph.com/news/bitcoin-future-w...   \n",
       "2 -6151852268067518688  https://cloudplatform.googleblog.com/2016/03/G...   \n",
       "3  2448026894306402386  https://bitcoinmagazine.com/articles/ibm-wants...   \n",
       "4 -2826566343807132236  http://www.coindesk.com/ieee-blockchain-oxford...   \n",
       "\n",
       "                                        text_content  text_content_id  \n",
       "0  Ethereum, a Virtual Currency, Enables Transact...                1  \n",
       "1  Bitcoin Future: When GBPcoin of Branson Wins O...                2  \n",
       "2  Google Data Center 360° Tour. We're excited to...                3  \n",
       "3  IBM Wants to \"Evolve the Internet\" With Blockc...                4  \n",
       "4  IEEE to Talk Blockchain at Cloud Computing Oxf...                5  "
      ]
     },
     "execution_count": 31,
     "metadata": {},
     "output_type": "execute_result"
    }
   ],
   "source": [
    "eng_shared_articles_text_id_df = eng_shared_articles_df.merge(eng_shared_articles_content_df)\n",
    "eng_shared_articles_text_id_df.head()"
   ]
  },
  {
   "cell_type": "code",
   "execution_count": 32,
   "metadata": {
    "hidden": true
   },
   "outputs": [
    {
     "data": {
      "text/plain": [
       "337     4\n",
       "80      4\n",
       "618     3\n",
       "723     2\n",
       "838     2\n",
       "       ..\n",
       "489     1\n",
       "491     1\n",
       "2540    1\n",
       "493     1\n",
       "2       1\n",
       "Name: text_content_id, Length: 2185, dtype: int64"
      ]
     },
     "execution_count": 32,
     "metadata": {},
     "output_type": "execute_result"
    }
   ],
   "source": [
    "eng_shared_articles_text_id_df['text_content_id'].value_counts()"
   ]
  },
  {
   "cell_type": "code",
   "execution_count": 33,
   "metadata": {
    "hidden": true
   },
   "outputs": [
    {
     "data": {
      "text/html": [
       "<div>\n",
       "<style scoped>\n",
       "    .dataframe tbody tr th:only-of-type {\n",
       "        vertical-align: middle;\n",
       "    }\n",
       "\n",
       "    .dataframe tbody tr th {\n",
       "        vertical-align: top;\n",
       "    }\n",
       "\n",
       "    .dataframe thead th {\n",
       "        text-align: right;\n",
       "    }\n",
       "</style>\n",
       "<table border=\"1\" class=\"dataframe\">\n",
       "  <thead>\n",
       "    <tr style=\"text-align: right;\">\n",
       "      <th></th>\n",
       "      <th>contentId</th>\n",
       "      <th>url</th>\n",
       "      <th>text_content</th>\n",
       "      <th>text_content_id</th>\n",
       "    </tr>\n",
       "  </thead>\n",
       "  <tbody>\n",
       "    <tr>\n",
       "      <th>280</th>\n",
       "      <td>8160885002406274828</td>\n",
       "      <td>https://medium.com/quality-functions/preventin...</td>\n",
       "      <td>Preventing Software Bugs from Ever Occurring -...</td>\n",
       "      <td>337</td>\n",
       "    </tr>\n",
       "    <tr>\n",
       "      <th>281</th>\n",
       "      <td>-4248528062574538011</td>\n",
       "      <td>https://medium.com/quality-functions/preventin...</td>\n",
       "      <td>Preventing Software Bugs from Ever Occurring -...</td>\n",
       "      <td>337</td>\n",
       "    </tr>\n",
       "    <tr>\n",
       "      <th>282</th>\n",
       "      <td>-3265730906936163775</td>\n",
       "      <td>https://medium.com/quality-functions/preventin...</td>\n",
       "      <td>Preventing Software Bugs from Ever Occurring -...</td>\n",
       "      <td>337</td>\n",
       "    </tr>\n",
       "    <tr>\n",
       "      <th>283</th>\n",
       "      <td>2824996248683640175</td>\n",
       "      <td>https://medium.com/quality-functions/preventin...</td>\n",
       "      <td>Preventing Software Bugs from Ever Occurring -...</td>\n",
       "      <td>337</td>\n",
       "    </tr>\n",
       "  </tbody>\n",
       "</table>\n",
       "</div>"
      ],
      "text/plain": [
       "               contentId                                                url  \\\n",
       "280  8160885002406274828  https://medium.com/quality-functions/preventin...   \n",
       "281 -4248528062574538011  https://medium.com/quality-functions/preventin...   \n",
       "282 -3265730906936163775  https://medium.com/quality-functions/preventin...   \n",
       "283  2824996248683640175  https://medium.com/quality-functions/preventin...   \n",
       "\n",
       "                                          text_content  text_content_id  \n",
       "280  Preventing Software Bugs from Ever Occurring -...              337  \n",
       "281  Preventing Software Bugs from Ever Occurring -...              337  \n",
       "282  Preventing Software Bugs from Ever Occurring -...              337  \n",
       "283  Preventing Software Bugs from Ever Occurring -...              337  "
      ]
     },
     "execution_count": 33,
     "metadata": {},
     "output_type": "execute_result"
    }
   ],
   "source": [
    "eng_shared_articles_text_id_df[eng_shared_articles_text_id_df['text_content_id'] == 337]"
   ]
  },
  {
   "cell_type": "markdown",
   "metadata": {},
   "source": [
    "## Extract Topics of Articles"
   ]
  },
  {
   "cell_type": "code",
   "execution_count": 34,
   "metadata": {},
   "outputs": [
    {
     "data": {
      "text/plain": [
       "(2185, 2)"
      ]
     },
     "execution_count": 34,
     "metadata": {},
     "output_type": "execute_result"
    }
   ],
   "source": [
    "eng_shared_articles_content_df.shape"
   ]
  },
  {
   "cell_type": "code",
   "execution_count": 35,
   "metadata": {},
   "outputs": [
    {
     "data": {
      "text/html": [
       "<div>\n",
       "<style scoped>\n",
       "    .dataframe tbody tr th:only-of-type {\n",
       "        vertical-align: middle;\n",
       "    }\n",
       "\n",
       "    .dataframe tbody tr th {\n",
       "        vertical-align: top;\n",
       "    }\n",
       "\n",
       "    .dataframe thead th {\n",
       "        text-align: right;\n",
       "    }\n",
       "</style>\n",
       "<table border=\"1\" class=\"dataframe\">\n",
       "  <thead>\n",
       "    <tr style=\"text-align: right;\">\n",
       "      <th></th>\n",
       "      <th>text_content_id</th>\n",
       "      <th>text_content</th>\n",
       "    </tr>\n",
       "  </thead>\n",
       "  <tbody>\n",
       "    <tr>\n",
       "      <th>0</th>\n",
       "      <td>1</td>\n",
       "      <td>Ethereum, a Virtual Currency, Enables Transact...</td>\n",
       "    </tr>\n",
       "    <tr>\n",
       "      <th>1</th>\n",
       "      <td>2</td>\n",
       "      <td>Bitcoin Future: When GBPcoin of Branson Wins O...</td>\n",
       "    </tr>\n",
       "    <tr>\n",
       "      <th>2</th>\n",
       "      <td>3</td>\n",
       "      <td>Google Data Center 360° Tour. We're excited to...</td>\n",
       "    </tr>\n",
       "    <tr>\n",
       "      <th>3</th>\n",
       "      <td>4</td>\n",
       "      <td>IBM Wants to \"Evolve the Internet\" With Blockc...</td>\n",
       "    </tr>\n",
       "    <tr>\n",
       "      <th>4</th>\n",
       "      <td>5</td>\n",
       "      <td>IEEE to Talk Blockchain at Cloud Computing Oxf...</td>\n",
       "    </tr>\n",
       "  </tbody>\n",
       "</table>\n",
       "</div>"
      ],
      "text/plain": [
       "   text_content_id                                       text_content\n",
       "0                1  Ethereum, a Virtual Currency, Enables Transact...\n",
       "1                2  Bitcoin Future: When GBPcoin of Branson Wins O...\n",
       "2                3  Google Data Center 360° Tour. We're excited to...\n",
       "3                4  IBM Wants to \"Evolve the Internet\" With Blockc...\n",
       "4                5  IEEE to Talk Blockchain at Cloud Computing Oxf..."
      ]
     },
     "execution_count": 35,
     "metadata": {},
     "output_type": "execute_result"
    }
   ],
   "source": [
    "eng_shared_articles_content_df.head()"
   ]
  },
  {
   "cell_type": "code",
   "execution_count": 36,
   "metadata": {},
   "outputs": [],
   "source": [
    "eng_shared_articles_content_df.loc[:, 'processed_text'] = eng_shared_articles_content_df['text_content'].apply(lemmatize_spacy)"
   ]
  },
  {
   "cell_type": "code",
   "execution_count": 37,
   "metadata": {},
   "outputs": [
    {
     "data": {
      "text/html": [
       "<div>\n",
       "<style scoped>\n",
       "    .dataframe tbody tr th:only-of-type {\n",
       "        vertical-align: middle;\n",
       "    }\n",
       "\n",
       "    .dataframe tbody tr th {\n",
       "        vertical-align: top;\n",
       "    }\n",
       "\n",
       "    .dataframe thead th {\n",
       "        text-align: right;\n",
       "    }\n",
       "</style>\n",
       "<table border=\"1\" class=\"dataframe\">\n",
       "  <thead>\n",
       "    <tr style=\"text-align: right;\">\n",
       "      <th></th>\n",
       "      <th>text_content_id</th>\n",
       "      <th>text_content</th>\n",
       "      <th>processed_text</th>\n",
       "    </tr>\n",
       "  </thead>\n",
       "  <tbody>\n",
       "    <tr>\n",
       "      <th>0</th>\n",
       "      <td>1</td>\n",
       "      <td>Ethereum, a Virtual Currency, Enables Transact...</td>\n",
       "      <td>Ethereum a Virtual Currency Enables Transactio...</td>\n",
       "    </tr>\n",
       "    <tr>\n",
       "      <th>1</th>\n",
       "      <td>2</td>\n",
       "      <td>Bitcoin Future: When GBPcoin of Branson Wins O...</td>\n",
       "      <td>Bitcoin Future when GBPcoin of Branson Wins ov...</td>\n",
       "    </tr>\n",
       "    <tr>\n",
       "      <th>2</th>\n",
       "      <td>3</td>\n",
       "      <td>Google Data Center 360° Tour. We're excited to...</td>\n",
       "      <td>Google Data Center Tour We be excite to share ...</td>\n",
       "    </tr>\n",
       "    <tr>\n",
       "      <th>3</th>\n",
       "      <td>4</td>\n",
       "      <td>IBM Wants to \"Evolve the Internet\" With Blockc...</td>\n",
       "      <td>IBM want to evolve the internet with Blockchai...</td>\n",
       "    </tr>\n",
       "    <tr>\n",
       "      <th>4</th>\n",
       "      <td>5</td>\n",
       "      <td>IEEE to Talk Blockchain at Cloud Computing Oxf...</td>\n",
       "      <td>ieee to talk Blockchain at Cloud Computing Oxf...</td>\n",
       "    </tr>\n",
       "  </tbody>\n",
       "</table>\n",
       "</div>"
      ],
      "text/plain": [
       "   text_content_id                                       text_content  \\\n",
       "0                1  Ethereum, a Virtual Currency, Enables Transact...   \n",
       "1                2  Bitcoin Future: When GBPcoin of Branson Wins O...   \n",
       "2                3  Google Data Center 360° Tour. We're excited to...   \n",
       "3                4  IBM Wants to \"Evolve the Internet\" With Blockc...   \n",
       "4                5  IEEE to Talk Blockchain at Cloud Computing Oxf...   \n",
       "\n",
       "                                      processed_text  \n",
       "0  Ethereum a Virtual Currency Enables Transactio...  \n",
       "1  Bitcoin Future when GBPcoin of Branson Wins ov...  \n",
       "2  Google Data Center Tour We be excite to share ...  \n",
       "3  IBM want to evolve the internet with Blockchai...  \n",
       "4  ieee to talk Blockchain at Cloud Computing Oxf...  "
      ]
     },
     "execution_count": 37,
     "metadata": {},
     "output_type": "execute_result"
    }
   ],
   "source": [
    "eng_shared_articles_content_df.head()"
   ]
  },
  {
   "cell_type": "code",
   "execution_count": 38,
   "metadata": {
    "code_folding": [
     0
    ]
   },
   "outputs": [],
   "source": [
    "# bow_lda_pipeline = Pipeline(steps=[('vectorizer', CountVectorizer()),\n",
    "#                                    ('dim_reduce', LatentDirichletAllocation())\n",
    "#                               ])\n",
    "\n",
    "# bow_lda_pipeline_params = {\n",
    "#     'vectorizer__strip_accents': 'unicode',\n",
    "#     'vectorizer__stop_words': 'english',\n",
    "#     'vectorizer__lowercase': True,\n",
    "#     'vectorizer__token_pattern': r'\\b[a-zA-Z]{3,}\\b',\n",
    "#     'vectorizer__min_df': 5,\n",
    "#     'vectorizer__max_df': 0.5,\n",
    "    \n",
    "#     'dim_reduce__n_components': 30,\n",
    "#     'dim_reduce__random_state': 0\n",
    "# }\n",
    "# bow_lda_pipeline.set_params(**bow_lda_pipeline_params)\n",
    "\n",
    "# start_time = default_timer()\n",
    "# bow_lda_pipeline.fit(eng_shared_articles_content_df['text_content'])\n",
    "# end_time = default_timer()\n",
    "\n",
    "# time_taken_str = convert_sec(end_time - start_time)\n",
    "# print(\"Time Taken : {}\".format(time_taken_str))\n",
    "\n",
    "\n",
    "# start_time = default_timer()\n",
    "# pyLDAvis.sklearn.prepare(bow_lda_pipeline.named_steps['dim_reduce'], \n",
    "#                          bow_lda_pipeline.named_steps['vectorizer'].fit_transform(eng_shared_articles_content_df['text_content']), \n",
    "#                          bow_lda_pipeline.named_steps['vectorizer'])\n",
    "# end_time = default_timer()\n",
    "\n",
    "# time_taken_str = convert_sec(end_time - start_time)\n",
    "# print(\"Time Taken : {}\".format(time_taken_str))"
   ]
  },
  {
   "cell_type": "code",
   "execution_count": 39,
   "metadata": {
    "code_folding": []
   },
   "outputs": [],
   "source": [
    "def get_topics(model, feature_names, n_top_words=10):\n",
    "    topics_df = pd.DataFrame(model.components_, columns=feature_names)   \n",
    "    topics = dict()\n",
    "    for i, topic_words in topics_df.iterrows():\n",
    "        topic_id_str = 'topic_' + str(i)        \n",
    "        topic_words_dict = topic_words.sort_values(ascending=False).head(n_top_words).to_dict()\n",
    "        topic_words_str = ', '.join(['#'+str(word) for word in topic_words_dict.keys()])\n",
    "        print(topic_id_str + \" : \" + topic_words_str)\n",
    "        topics[topic_id_str] = dict()\n",
    "        topics[topic_id_str]['words_str'] = topic_words_str\n",
    "        topics[topic_id_str]['words'] = topic_words_dict\n",
    "    return topics"
   ]
  },
  {
   "cell_type": "code",
   "execution_count": 53,
   "metadata": {},
   "outputs": [
    {
     "data": {
      "text/plain": [
       "(5, 29751)"
      ]
     },
     "execution_count": 53,
     "metadata": {},
     "output_type": "execute_result"
    }
   ],
   "source": [
    "topics_df = pd.DataFrame(lda_tf.components_, columns=tf_feature_names)\n",
    "topics_df.shape"
   ]
  },
  {
   "cell_type": "markdown",
   "metadata": {},
   "source": [
    "### Term Frequency LDA"
   ]
  },
  {
   "cell_type": "code",
   "execution_count": 51,
   "metadata": {},
   "outputs": [
    {
     "name": "stdout",
     "output_type": "stream",
     "text": [
      "Time Taken : 10.1074    sec\n",
      "topic_0 : #people, #world, #woman, #company, #country, #think, #thing, #million, #space, #write\n",
      "topic_1 : #change, #build, #create, #datum, #example, #application, #write, #project, #event, #start\n",
      "topic_2 : #google, #cloud, #service, #apple, #platform, #company, #android, #developer, #product, #device\n",
      "topic_3 : #company, #customer, #business, #product, #digital, #technology, #drupal, #experience, #datum, #organization\n",
      "topic_4 : #machine, #datum, #learn, #learning, #people, #model, #thing, #image, #human, #think\n"
     ]
    }
   ],
   "source": [
    "tf_vectorizer = CountVectorizer(strip_accents = 'ascii',\n",
    "                                stop_words = 'english',\n",
    "                                lowercase = True,\n",
    "                                analyzer = 'word',\n",
    "                                token_pattern = r'\\b[a-zA-Z]{5,}\\b',\n",
    "                                ngram_range = (1, 1),\n",
    "                                max_df = 0.8, min_df = 1)\n",
    "lda_tf = LatentDirichletAllocation(n_components=5, n_jobs=-1, random_state=0)\n",
    "\n",
    "start_time = default_timer()\n",
    "\n",
    "dtm_tf = tf_vectorizer.fit_transform(eng_shared_articles_content_df['processed_text'])\n",
    "lda_tf.fit(dtm_tf)\n",
    "\n",
    "end_time = default_timer()\n",
    "time_taken_str = convert_sec(end_time - start_time)\n",
    "print(\"Time Taken : {}\".format(time_taken_str))\n",
    "\n",
    "tf_feature_names = tf_vectorizer.get_feature_names()\n",
    "topics = get_topics(lda_tf, tf_feature_names, n_top_words=10)\n",
    "\n",
    "\n",
    "# n_components=10\n",
    "# Time Taken : 15.3074    sec\n",
    "# topic_0 : #woman, #people, #country, #world, #music, #black, #space, #brazil, #america, #write\n",
    "# topic_1 : #software, #change, #project, #build, #process, #development, #design, #organization, #people, #agile\n",
    "# topic_2 : #google, #apple, #product, #company, #cloud, #platform, #android, #service, #developer, #build\n",
    "# topic_3 : #drupal, #module, #content, #acquia, #commerce, #feature, #build, #service, #support, #vehicle\n",
    "# topic_4 : #machine, #learning, #learn, #datum, #people, #human, #computer, #thing, #google, #image\n",
    "# topic_5 : #company, #customer, #digital, #business, #technology, #datum, #product, #blockchain, #market, #experience\n",
    "# topic_6 : #datum, #example, #event, #write, #method, #function, #value, #class, #result, #create\n",
    "# topic_7 : #cloud, #google, #mobile, #docker, #application, #storage, #device, #security, #datum, #password\n",
    "# topic_8 : #google, #service, #create, #instance, #cloud, #message, #datum, #update, #windows, #application\n",
    "# topic_9 : #docker, #build, #container, #image, #command, #start, #version, #server, #support, #application\n",
    "    \n",
    "# n_components = 15\n",
    "# Time Taken : 22.6313    sec\n",
    "# topic_0 : #woman, #country, #brazil, #black, #music, #trend, #quantum, #plague, #death, #america\n",
    "# topic_1 : #software, #change, #project, #build, #development, #process, #agile, #organization, #service, #developer\n",
    "# topic_2 : #product, #company, #business, #people, #design, #digital, #service, #build, #platform, #experience\n",
    "# topic_3 : #drupal, #module, #content, #acquia, #community, #support, #build, #developer, #commerce, #feature\n",
    "# topic_4 : #machine, #learning, #datum, #learn, #model, #image, #human, #intelligence, #computer, #algorithm\n",
    "# topic_5 : #customer, #company, #technology, #datum, #digital, #blockchain, #business, #bitcoin, #service, #industry\n",
    "# topic_6 : #datum, #example, #method, #event, #function, #write, #value, #create, #result, #class\n",
    "# topic_7 : #password, #token, #kotlin, #field, #label, #place, #swarm, #aggregation, #value, #google\n",
    "# topic_8 : #google, #android, #facebook, #developer, #search, #windows, #content, #create, #message, #mobile\n",
    "# topic_9 : #docker, #container, #command, #build, #image, #version, #server, #start, #application, #create\n",
    "# topic_10 : #apple, #people, #thing, #company, #email, #device, #think, #phone, #feature, #microsoft\n",
    "# topic_11 : #language, #people, #write, #think, #thing, #story, #change, #learn, #world, #really\n",
    "# topic_12 : #payment, #account, #store, #customer, #consumer, #online, #credit, #retailer, #wallet, #chart\n",
    "# topic_13 : #cloud, #google, #service, #application, #platform, #datum, #server, #instance, #support, #network\n",
    "# topic_14 : #mobile, #people, #experience, #thing, #website, #start, #world, #sound, #content, #think"
   ]
  },
  {
   "cell_type": "code",
   "execution_count": 54,
   "metadata": {},
   "outputs": [
    {
     "data": {
      "text/plain": [
       "(2185, 29751)"
      ]
     },
     "execution_count": 54,
     "metadata": {},
     "output_type": "execute_result"
    }
   ],
   "source": [
    "dtm_tf.shape"
   ]
  },
  {
   "cell_type": "code",
   "execution_count": 55,
   "metadata": {},
   "outputs": [
    {
     "data": {
      "text/plain": [
       "(5, 29751)"
      ]
     },
     "execution_count": 55,
     "metadata": {},
     "output_type": "execute_result"
    }
   ],
   "source": [
    "lda_tf.components_.shape"
   ]
  },
  {
   "cell_type": "code",
   "execution_count": 72,
   "metadata": {},
   "outputs": [
    {
     "data": {
      "text/plain": [
       "(2185, 5)"
      ]
     },
     "execution_count": 72,
     "metadata": {},
     "output_type": "execute_result"
    }
   ],
   "source": [
    "reduced_dtm_tf = pd.DataFrame(lda_tf.transform(dtm_tf), columns=['topic_' + str(i) for i in range(lda_tf.n_components)])\n",
    "reduced_dtm_tf.shape"
   ]
  },
  {
   "cell_type": "code",
   "execution_count": 73,
   "metadata": {},
   "outputs": [
    {
     "data": {
      "text/html": [
       "<div>\n",
       "<style scoped>\n",
       "    .dataframe tbody tr th:only-of-type {\n",
       "        vertical-align: middle;\n",
       "    }\n",
       "\n",
       "    .dataframe tbody tr th {\n",
       "        vertical-align: top;\n",
       "    }\n",
       "\n",
       "    .dataframe thead th {\n",
       "        text-align: right;\n",
       "    }\n",
       "</style>\n",
       "<table border=\"1\" class=\"dataframe\">\n",
       "  <thead>\n",
       "    <tr style=\"text-align: right;\">\n",
       "      <th></th>\n",
       "      <th>topic_0</th>\n",
       "      <th>topic_1</th>\n",
       "      <th>topic_2</th>\n",
       "      <th>topic_3</th>\n",
       "      <th>topic_4</th>\n",
       "    </tr>\n",
       "  </thead>\n",
       "  <tbody>\n",
       "    <tr>\n",
       "      <th>0</th>\n",
       "      <td>0.000519</td>\n",
       "      <td>0.000516</td>\n",
       "      <td>0.952090</td>\n",
       "      <td>0.000518</td>\n",
       "      <td>0.046357</td>\n",
       "    </tr>\n",
       "    <tr>\n",
       "      <th>1</th>\n",
       "      <td>0.738087</td>\n",
       "      <td>0.085533</td>\n",
       "      <td>0.001392</td>\n",
       "      <td>0.062468</td>\n",
       "      <td>0.112520</td>\n",
       "    </tr>\n",
       "    <tr>\n",
       "      <th>2</th>\n",
       "      <td>0.002089</td>\n",
       "      <td>0.002079</td>\n",
       "      <td>0.991606</td>\n",
       "      <td>0.002110</td>\n",
       "      <td>0.002117</td>\n",
       "    </tr>\n",
       "    <tr>\n",
       "      <th>3</th>\n",
       "      <td>0.117505</td>\n",
       "      <td>0.000466</td>\n",
       "      <td>0.715406</td>\n",
       "      <td>0.150278</td>\n",
       "      <td>0.016344</td>\n",
       "    </tr>\n",
       "    <tr>\n",
       "      <th>4</th>\n",
       "      <td>0.001668</td>\n",
       "      <td>0.001637</td>\n",
       "      <td>0.656814</td>\n",
       "      <td>0.085192</td>\n",
       "      <td>0.254689</td>\n",
       "    </tr>\n",
       "  </tbody>\n",
       "</table>\n",
       "</div>"
      ],
      "text/plain": [
       "    topic_0   topic_1   topic_2   topic_3   topic_4\n",
       "0  0.000519  0.000516  0.952090  0.000518  0.046357\n",
       "1  0.738087  0.085533  0.001392  0.062468  0.112520\n",
       "2  0.002089  0.002079  0.991606  0.002110  0.002117\n",
       "3  0.117505  0.000466  0.715406  0.150278  0.016344\n",
       "4  0.001668  0.001637  0.656814  0.085192  0.254689"
      ]
     },
     "execution_count": 73,
     "metadata": {},
     "output_type": "execute_result"
    }
   ],
   "source": [
    "reduced_dtm_tf.head()"
   ]
  },
  {
   "cell_type": "code",
   "execution_count": 74,
   "metadata": {},
   "outputs": [],
   "source": [
    "def get_topic_names(x):\n",
    "    return x[x>0.1].to_dict()\n",
    "reduced_dtm_tf.loc[:, 'mostly_about'] = reduced_dtm_tf.apply(get_topic_names, axis=1)"
   ]
  },
  {
   "cell_type": "code",
   "execution_count": 75,
   "metadata": {},
   "outputs": [
    {
     "data": {
      "text/html": [
       "<div>\n",
       "<style scoped>\n",
       "    .dataframe tbody tr th:only-of-type {\n",
       "        vertical-align: middle;\n",
       "    }\n",
       "\n",
       "    .dataframe tbody tr th {\n",
       "        vertical-align: top;\n",
       "    }\n",
       "\n",
       "    .dataframe thead th {\n",
       "        text-align: right;\n",
       "    }\n",
       "</style>\n",
       "<table border=\"1\" class=\"dataframe\">\n",
       "  <thead>\n",
       "    <tr style=\"text-align: right;\">\n",
       "      <th></th>\n",
       "      <th>topic_0</th>\n",
       "      <th>topic_1</th>\n",
       "      <th>topic_2</th>\n",
       "      <th>topic_3</th>\n",
       "      <th>topic_4</th>\n",
       "      <th>mostly_about</th>\n",
       "    </tr>\n",
       "  </thead>\n",
       "  <tbody>\n",
       "    <tr>\n",
       "      <th>0</th>\n",
       "      <td>0.000519</td>\n",
       "      <td>0.000516</td>\n",
       "      <td>0.952090</td>\n",
       "      <td>0.000518</td>\n",
       "      <td>0.046357</td>\n",
       "      <td>{'topic_2': 0.9520900505259268}</td>\n",
       "    </tr>\n",
       "    <tr>\n",
       "      <th>1</th>\n",
       "      <td>0.738087</td>\n",
       "      <td>0.085533</td>\n",
       "      <td>0.001392</td>\n",
       "      <td>0.062468</td>\n",
       "      <td>0.112520</td>\n",
       "      <td>{'topic_0': 0.7380869532372383, 'topic_4': 0.1...</td>\n",
       "    </tr>\n",
       "    <tr>\n",
       "      <th>2</th>\n",
       "      <td>0.002089</td>\n",
       "      <td>0.002079</td>\n",
       "      <td>0.991606</td>\n",
       "      <td>0.002110</td>\n",
       "      <td>0.002117</td>\n",
       "      <td>{'topic_2': 0.9916055150932617}</td>\n",
       "    </tr>\n",
       "    <tr>\n",
       "      <th>3</th>\n",
       "      <td>0.117505</td>\n",
       "      <td>0.000466</td>\n",
       "      <td>0.715406</td>\n",
       "      <td>0.150278</td>\n",
       "      <td>0.016344</td>\n",
       "      <td>{'topic_0': 0.11750539120151307, 'topic_2': 0....</td>\n",
       "    </tr>\n",
       "    <tr>\n",
       "      <th>4</th>\n",
       "      <td>0.001668</td>\n",
       "      <td>0.001637</td>\n",
       "      <td>0.656814</td>\n",
       "      <td>0.085192</td>\n",
       "      <td>0.254689</td>\n",
       "      <td>{'topic_2': 0.6568143438548252, 'topic_4': 0.2...</td>\n",
       "    </tr>\n",
       "  </tbody>\n",
       "</table>\n",
       "</div>"
      ],
      "text/plain": [
       "    topic_0   topic_1   topic_2   topic_3   topic_4  \\\n",
       "0  0.000519  0.000516  0.952090  0.000518  0.046357   \n",
       "1  0.738087  0.085533  0.001392  0.062468  0.112520   \n",
       "2  0.002089  0.002079  0.991606  0.002110  0.002117   \n",
       "3  0.117505  0.000466  0.715406  0.150278  0.016344   \n",
       "4  0.001668  0.001637  0.656814  0.085192  0.254689   \n",
       "\n",
       "                                        mostly_about  \n",
       "0                    {'topic_2': 0.9520900505259268}  \n",
       "1  {'topic_0': 0.7380869532372383, 'topic_4': 0.1...  \n",
       "2                    {'topic_2': 0.9916055150932617}  \n",
       "3  {'topic_0': 0.11750539120151307, 'topic_2': 0....  \n",
       "4  {'topic_2': 0.6568143438548252, 'topic_4': 0.2...  "
      ]
     },
     "execution_count": 75,
     "metadata": {},
     "output_type": "execute_result"
    }
   ],
   "source": [
    "reduced_dtm_tf.head()"
   ]
  },
  {
   "cell_type": "code",
   "execution_count": 76,
   "metadata": {},
   "outputs": [],
   "source": [
    "reduced_dtm_tf.loc[:, 'no_of_topics'] = reduced_dtm_tf['mostly_about'].apply(lambda x: len(x))"
   ]
  },
  {
   "cell_type": "code",
   "execution_count": 77,
   "metadata": {},
   "outputs": [
    {
     "data": {
      "text/html": [
       "<div>\n",
       "<style scoped>\n",
       "    .dataframe tbody tr th:only-of-type {\n",
       "        vertical-align: middle;\n",
       "    }\n",
       "\n",
       "    .dataframe tbody tr th {\n",
       "        vertical-align: top;\n",
       "    }\n",
       "\n",
       "    .dataframe thead th {\n",
       "        text-align: right;\n",
       "    }\n",
       "</style>\n",
       "<table border=\"1\" class=\"dataframe\">\n",
       "  <thead>\n",
       "    <tr style=\"text-align: right;\">\n",
       "      <th></th>\n",
       "      <th>topic_0</th>\n",
       "      <th>topic_1</th>\n",
       "      <th>topic_2</th>\n",
       "      <th>topic_3</th>\n",
       "      <th>topic_4</th>\n",
       "      <th>mostly_about</th>\n",
       "      <th>no_of_topics</th>\n",
       "    </tr>\n",
       "  </thead>\n",
       "  <tbody>\n",
       "    <tr>\n",
       "      <th>0</th>\n",
       "      <td>0.000519</td>\n",
       "      <td>0.000516</td>\n",
       "      <td>0.952090</td>\n",
       "      <td>0.000518</td>\n",
       "      <td>0.046357</td>\n",
       "      <td>{'topic_2': 0.9520900505259268}</td>\n",
       "      <td>1</td>\n",
       "    </tr>\n",
       "    <tr>\n",
       "      <th>1</th>\n",
       "      <td>0.738087</td>\n",
       "      <td>0.085533</td>\n",
       "      <td>0.001392</td>\n",
       "      <td>0.062468</td>\n",
       "      <td>0.112520</td>\n",
       "      <td>{'topic_0': 0.7380869532372383, 'topic_4': 0.1...</td>\n",
       "      <td>2</td>\n",
       "    </tr>\n",
       "    <tr>\n",
       "      <th>2</th>\n",
       "      <td>0.002089</td>\n",
       "      <td>0.002079</td>\n",
       "      <td>0.991606</td>\n",
       "      <td>0.002110</td>\n",
       "      <td>0.002117</td>\n",
       "      <td>{'topic_2': 0.9916055150932617}</td>\n",
       "      <td>1</td>\n",
       "    </tr>\n",
       "    <tr>\n",
       "      <th>3</th>\n",
       "      <td>0.117505</td>\n",
       "      <td>0.000466</td>\n",
       "      <td>0.715406</td>\n",
       "      <td>0.150278</td>\n",
       "      <td>0.016344</td>\n",
       "      <td>{'topic_0': 0.11750539120151307, 'topic_2': 0....</td>\n",
       "      <td>3</td>\n",
       "    </tr>\n",
       "    <tr>\n",
       "      <th>4</th>\n",
       "      <td>0.001668</td>\n",
       "      <td>0.001637</td>\n",
       "      <td>0.656814</td>\n",
       "      <td>0.085192</td>\n",
       "      <td>0.254689</td>\n",
       "      <td>{'topic_2': 0.6568143438548252, 'topic_4': 0.2...</td>\n",
       "      <td>2</td>\n",
       "    </tr>\n",
       "  </tbody>\n",
       "</table>\n",
       "</div>"
      ],
      "text/plain": [
       "    topic_0   topic_1   topic_2   topic_3   topic_4  \\\n",
       "0  0.000519  0.000516  0.952090  0.000518  0.046357   \n",
       "1  0.738087  0.085533  0.001392  0.062468  0.112520   \n",
       "2  0.002089  0.002079  0.991606  0.002110  0.002117   \n",
       "3  0.117505  0.000466  0.715406  0.150278  0.016344   \n",
       "4  0.001668  0.001637  0.656814  0.085192  0.254689   \n",
       "\n",
       "                                        mostly_about  no_of_topics  \n",
       "0                    {'topic_2': 0.9520900505259268}             1  \n",
       "1  {'topic_0': 0.7380869532372383, 'topic_4': 0.1...             2  \n",
       "2                    {'topic_2': 0.9916055150932617}             1  \n",
       "3  {'topic_0': 0.11750539120151307, 'topic_2': 0....             3  \n",
       "4  {'topic_2': 0.6568143438548252, 'topic_4': 0.2...             2  "
      ]
     },
     "execution_count": 77,
     "metadata": {},
     "output_type": "execute_result"
    }
   ],
   "source": [
    "reduced_dtm_tf.head()"
   ]
  },
  {
   "cell_type": "code",
   "execution_count": 78,
   "metadata": {},
   "outputs": [
    {
     "data": {
      "text/plain": [
       "2    1052\n",
       "1     584\n",
       "3     480\n",
       "4      67\n",
       "5       2\n",
       "Name: no_of_topics, dtype: int64"
      ]
     },
     "execution_count": 78,
     "metadata": {},
     "output_type": "execute_result"
    }
   ],
   "source": [
    "reduced_dtm_tf['no_of_topics'].value_counts()"
   ]
  },
  {
   "cell_type": "code",
   "execution_count": 70,
   "metadata": {},
   "outputs": [
    {
     "data": {
      "text/html": [
       "<div>\n",
       "<style scoped>\n",
       "    .dataframe tbody tr th:only-of-type {\n",
       "        vertical-align: middle;\n",
       "    }\n",
       "\n",
       "    .dataframe tbody tr th {\n",
       "        vertical-align: top;\n",
       "    }\n",
       "\n",
       "    .dataframe thead th {\n",
       "        text-align: right;\n",
       "    }\n",
       "</style>\n",
       "<table border=\"1\" class=\"dataframe\">\n",
       "  <thead>\n",
       "    <tr style=\"text-align: right;\">\n",
       "      <th></th>\n",
       "      <th>topic_0</th>\n",
       "      <th>topic_1</th>\n",
       "      <th>topic_2</th>\n",
       "      <th>topic_3</th>\n",
       "      <th>topic_4</th>\n",
       "      <th>mostly_about</th>\n",
       "      <th>no_of_topics</th>\n",
       "    </tr>\n",
       "  </thead>\n",
       "  <tbody>\n",
       "    <tr>\n",
       "      <th>6</th>\n",
       "      <td>0.051084</td>\n",
       "      <td>0.156045</td>\n",
       "      <td>0.446151</td>\n",
       "      <td>0.129131</td>\n",
       "      <td>0.217588</td>\n",
       "      <td>{}</td>\n",
       "      <td>0</td>\n",
       "    </tr>\n",
       "    <tr>\n",
       "      <th>7</th>\n",
       "      <td>0.000325</td>\n",
       "      <td>0.232863</td>\n",
       "      <td>0.466766</td>\n",
       "      <td>0.299724</td>\n",
       "      <td>0.000323</td>\n",
       "      <td>{}</td>\n",
       "      <td>0</td>\n",
       "    </tr>\n",
       "    <tr>\n",
       "      <th>22</th>\n",
       "      <td>0.383977</td>\n",
       "      <td>0.000743</td>\n",
       "      <td>0.286276</td>\n",
       "      <td>0.268529</td>\n",
       "      <td>0.060476</td>\n",
       "      <td>{}</td>\n",
       "      <td>0</td>\n",
       "    </tr>\n",
       "    <tr>\n",
       "      <th>29</th>\n",
       "      <td>0.351891</td>\n",
       "      <td>0.001301</td>\n",
       "      <td>0.001301</td>\n",
       "      <td>0.214318</td>\n",
       "      <td>0.431189</td>\n",
       "      <td>{}</td>\n",
       "      <td>0</td>\n",
       "    </tr>\n",
       "    <tr>\n",
       "      <th>31</th>\n",
       "      <td>0.223648</td>\n",
       "      <td>0.000574</td>\n",
       "      <td>0.027549</td>\n",
       "      <td>0.299390</td>\n",
       "      <td>0.448839</td>\n",
       "      <td>{}</td>\n",
       "      <td>0</td>\n",
       "    </tr>\n",
       "    <tr>\n",
       "      <th>32</th>\n",
       "      <td>0.248154</td>\n",
       "      <td>0.000709</td>\n",
       "      <td>0.140603</td>\n",
       "      <td>0.299701</td>\n",
       "      <td>0.310833</td>\n",
       "      <td>{}</td>\n",
       "      <td>0</td>\n",
       "    </tr>\n",
       "    <tr>\n",
       "      <th>40</th>\n",
       "      <td>0.294937</td>\n",
       "      <td>0.000754</td>\n",
       "      <td>0.290129</td>\n",
       "      <td>0.413426</td>\n",
       "      <td>0.000754</td>\n",
       "      <td>{}</td>\n",
       "      <td>0</td>\n",
       "    </tr>\n",
       "    <tr>\n",
       "      <th>48</th>\n",
       "      <td>0.000640</td>\n",
       "      <td>0.321292</td>\n",
       "      <td>0.329479</td>\n",
       "      <td>0.000638</td>\n",
       "      <td>0.347951</td>\n",
       "      <td>{}</td>\n",
       "      <td>0</td>\n",
       "    </tr>\n",
       "    <tr>\n",
       "      <th>50</th>\n",
       "      <td>0.001082</td>\n",
       "      <td>0.077229</td>\n",
       "      <td>0.104724</td>\n",
       "      <td>0.369224</td>\n",
       "      <td>0.447742</td>\n",
       "      <td>{}</td>\n",
       "      <td>0</td>\n",
       "    </tr>\n",
       "    <tr>\n",
       "      <th>64</th>\n",
       "      <td>0.448490</td>\n",
       "      <td>0.002741</td>\n",
       "      <td>0.464884</td>\n",
       "      <td>0.081142</td>\n",
       "      <td>0.002744</td>\n",
       "      <td>{}</td>\n",
       "      <td>0</td>\n",
       "    </tr>\n",
       "    <tr>\n",
       "      <th>76</th>\n",
       "      <td>0.000725</td>\n",
       "      <td>0.237868</td>\n",
       "      <td>0.326525</td>\n",
       "      <td>0.391811</td>\n",
       "      <td>0.043071</td>\n",
       "      <td>{}</td>\n",
       "      <td>0</td>\n",
       "    </tr>\n",
       "    <tr>\n",
       "      <th>105</th>\n",
       "      <td>0.000686</td>\n",
       "      <td>0.483905</td>\n",
       "      <td>0.000687</td>\n",
       "      <td>0.369938</td>\n",
       "      <td>0.144783</td>\n",
       "      <td>{}</td>\n",
       "      <td>0</td>\n",
       "    </tr>\n",
       "    <tr>\n",
       "      <th>118</th>\n",
       "      <td>0.035964</td>\n",
       "      <td>0.083997</td>\n",
       "      <td>0.261189</td>\n",
       "      <td>0.364224</td>\n",
       "      <td>0.254626</td>\n",
       "      <td>{}</td>\n",
       "      <td>0</td>\n",
       "    </tr>\n",
       "    <tr>\n",
       "      <th>122</th>\n",
       "      <td>0.002770</td>\n",
       "      <td>0.002808</td>\n",
       "      <td>0.405739</td>\n",
       "      <td>0.499100</td>\n",
       "      <td>0.089583</td>\n",
       "      <td>{}</td>\n",
       "      <td>0</td>\n",
       "    </tr>\n",
       "    <tr>\n",
       "      <th>123</th>\n",
       "      <td>0.075178</td>\n",
       "      <td>0.002175</td>\n",
       "      <td>0.288374</td>\n",
       "      <td>0.452260</td>\n",
       "      <td>0.182013</td>\n",
       "      <td>{}</td>\n",
       "      <td>0</td>\n",
       "    </tr>\n",
       "    <tr>\n",
       "      <th>125</th>\n",
       "      <td>0.478495</td>\n",
       "      <td>0.000249</td>\n",
       "      <td>0.004788</td>\n",
       "      <td>0.488425</td>\n",
       "      <td>0.028043</td>\n",
       "      <td>{}</td>\n",
       "      <td>0</td>\n",
       "    </tr>\n",
       "    <tr>\n",
       "      <th>132</th>\n",
       "      <td>0.000495</td>\n",
       "      <td>0.182547</td>\n",
       "      <td>0.000496</td>\n",
       "      <td>0.367508</td>\n",
       "      <td>0.448954</td>\n",
       "      <td>{}</td>\n",
       "      <td>0</td>\n",
       "    </tr>\n",
       "    <tr>\n",
       "      <th>135</th>\n",
       "      <td>0.090815</td>\n",
       "      <td>0.000365</td>\n",
       "      <td>0.480742</td>\n",
       "      <td>0.032143</td>\n",
       "      <td>0.395936</td>\n",
       "      <td>{}</td>\n",
       "      <td>0</td>\n",
       "    </tr>\n",
       "    <tr>\n",
       "      <th>145</th>\n",
       "      <td>0.000613</td>\n",
       "      <td>0.110830</td>\n",
       "      <td>0.390047</td>\n",
       "      <td>0.000619</td>\n",
       "      <td>0.497891</td>\n",
       "      <td>{}</td>\n",
       "      <td>0</td>\n",
       "    </tr>\n",
       "    <tr>\n",
       "      <th>147</th>\n",
       "      <td>0.001545</td>\n",
       "      <td>0.434452</td>\n",
       "      <td>0.275324</td>\n",
       "      <td>0.287121</td>\n",
       "      <td>0.001557</td>\n",
       "      <td>{}</td>\n",
       "      <td>0</td>\n",
       "    </tr>\n",
       "    <tr>\n",
       "      <th>148</th>\n",
       "      <td>0.004564</td>\n",
       "      <td>0.328934</td>\n",
       "      <td>0.004581</td>\n",
       "      <td>0.325608</td>\n",
       "      <td>0.336314</td>\n",
       "      <td>{}</td>\n",
       "      <td>0</td>\n",
       "    </tr>\n",
       "    <tr>\n",
       "      <th>152</th>\n",
       "      <td>0.115206</td>\n",
       "      <td>0.001607</td>\n",
       "      <td>0.498857</td>\n",
       "      <td>0.101846</td>\n",
       "      <td>0.282485</td>\n",
       "      <td>{}</td>\n",
       "      <td>0</td>\n",
       "    </tr>\n",
       "    <tr>\n",
       "      <th>153</th>\n",
       "      <td>0.075875</td>\n",
       "      <td>0.001098</td>\n",
       "      <td>0.466640</td>\n",
       "      <td>0.425041</td>\n",
       "      <td>0.031346</td>\n",
       "      <td>{}</td>\n",
       "      <td>0</td>\n",
       "    </tr>\n",
       "    <tr>\n",
       "      <th>155</th>\n",
       "      <td>0.452883</td>\n",
       "      <td>0.001029</td>\n",
       "      <td>0.342239</td>\n",
       "      <td>0.202815</td>\n",
       "      <td>0.001034</td>\n",
       "      <td>{}</td>\n",
       "      <td>0</td>\n",
       "    </tr>\n",
       "    <tr>\n",
       "      <th>164</th>\n",
       "      <td>0.236332</td>\n",
       "      <td>0.258587</td>\n",
       "      <td>0.005943</td>\n",
       "      <td>0.005951</td>\n",
       "      <td>0.493186</td>\n",
       "      <td>{}</td>\n",
       "      <td>0</td>\n",
       "    </tr>\n",
       "    <tr>\n",
       "      <th>169</th>\n",
       "      <td>0.072320</td>\n",
       "      <td>0.211317</td>\n",
       "      <td>0.286149</td>\n",
       "      <td>0.000228</td>\n",
       "      <td>0.429986</td>\n",
       "      <td>{}</td>\n",
       "      <td>0</td>\n",
       "    </tr>\n",
       "    <tr>\n",
       "      <th>172</th>\n",
       "      <td>0.118826</td>\n",
       "      <td>0.000912</td>\n",
       "      <td>0.480899</td>\n",
       "      <td>0.398430</td>\n",
       "      <td>0.000932</td>\n",
       "      <td>{}</td>\n",
       "      <td>0</td>\n",
       "    </tr>\n",
       "    <tr>\n",
       "      <th>178</th>\n",
       "      <td>0.017499</td>\n",
       "      <td>0.000761</td>\n",
       "      <td>0.265268</td>\n",
       "      <td>0.372470</td>\n",
       "      <td>0.344001</td>\n",
       "      <td>{}</td>\n",
       "      <td>0</td>\n",
       "    </tr>\n",
       "    <tr>\n",
       "      <th>180</th>\n",
       "      <td>0.000269</td>\n",
       "      <td>0.287010</td>\n",
       "      <td>0.000269</td>\n",
       "      <td>0.468193</td>\n",
       "      <td>0.244260</td>\n",
       "      <td>{}</td>\n",
       "      <td>0</td>\n",
       "    </tr>\n",
       "    <tr>\n",
       "      <th>181</th>\n",
       "      <td>0.249681</td>\n",
       "      <td>0.002142</td>\n",
       "      <td>0.175964</td>\n",
       "      <td>0.316425</td>\n",
       "      <td>0.255787</td>\n",
       "      <td>{}</td>\n",
       "      <td>0</td>\n",
       "    </tr>\n",
       "    <tr>\n",
       "      <th>...</th>\n",
       "      <td>...</td>\n",
       "      <td>...</td>\n",
       "      <td>...</td>\n",
       "      <td>...</td>\n",
       "      <td>...</td>\n",
       "      <td>...</td>\n",
       "      <td>...</td>\n",
       "    </tr>\n",
       "    <tr>\n",
       "      <th>1956</th>\n",
       "      <td>0.000806</td>\n",
       "      <td>0.218163</td>\n",
       "      <td>0.355341</td>\n",
       "      <td>0.352466</td>\n",
       "      <td>0.073224</td>\n",
       "      <td>{}</td>\n",
       "      <td>0</td>\n",
       "    </tr>\n",
       "    <tr>\n",
       "      <th>1976</th>\n",
       "      <td>0.391592</td>\n",
       "      <td>0.134454</td>\n",
       "      <td>0.000356</td>\n",
       "      <td>0.000355</td>\n",
       "      <td>0.473243</td>\n",
       "      <td>{}</td>\n",
       "      <td>0</td>\n",
       "    </tr>\n",
       "    <tr>\n",
       "      <th>1990</th>\n",
       "      <td>0.160583</td>\n",
       "      <td>0.311172</td>\n",
       "      <td>0.391849</td>\n",
       "      <td>0.003773</td>\n",
       "      <td>0.132623</td>\n",
       "      <td>{}</td>\n",
       "      <td>0</td>\n",
       "    </tr>\n",
       "    <tr>\n",
       "      <th>1992</th>\n",
       "      <td>0.001075</td>\n",
       "      <td>0.001065</td>\n",
       "      <td>0.494323</td>\n",
       "      <td>0.480241</td>\n",
       "      <td>0.023296</td>\n",
       "      <td>{}</td>\n",
       "      <td>0</td>\n",
       "    </tr>\n",
       "    <tr>\n",
       "      <th>1993</th>\n",
       "      <td>0.341514</td>\n",
       "      <td>0.232735</td>\n",
       "      <td>0.423955</td>\n",
       "      <td>0.000892</td>\n",
       "      <td>0.000904</td>\n",
       "      <td>{}</td>\n",
       "      <td>0</td>\n",
       "    </tr>\n",
       "    <tr>\n",
       "      <th>2004</th>\n",
       "      <td>0.055497</td>\n",
       "      <td>0.022196</td>\n",
       "      <td>0.079330</td>\n",
       "      <td>0.393365</td>\n",
       "      <td>0.449612</td>\n",
       "      <td>{}</td>\n",
       "      <td>0</td>\n",
       "    </tr>\n",
       "    <tr>\n",
       "      <th>2023</th>\n",
       "      <td>0.000755</td>\n",
       "      <td>0.404303</td>\n",
       "      <td>0.391464</td>\n",
       "      <td>0.202705</td>\n",
       "      <td>0.000774</td>\n",
       "      <td>{}</td>\n",
       "      <td>0</td>\n",
       "    </tr>\n",
       "    <tr>\n",
       "      <th>2024</th>\n",
       "      <td>0.000899</td>\n",
       "      <td>0.354736</td>\n",
       "      <td>0.150034</td>\n",
       "      <td>0.493426</td>\n",
       "      <td>0.000905</td>\n",
       "      <td>{}</td>\n",
       "      <td>0</td>\n",
       "    </tr>\n",
       "    <tr>\n",
       "      <th>2026</th>\n",
       "      <td>0.266408</td>\n",
       "      <td>0.007563</td>\n",
       "      <td>0.007538</td>\n",
       "      <td>0.226274</td>\n",
       "      <td>0.492218</td>\n",
       "      <td>{}</td>\n",
       "      <td>0</td>\n",
       "    </tr>\n",
       "    <tr>\n",
       "      <th>2034</th>\n",
       "      <td>0.253064</td>\n",
       "      <td>0.153564</td>\n",
       "      <td>0.144331</td>\n",
       "      <td>0.000982</td>\n",
       "      <td>0.448058</td>\n",
       "      <td>{}</td>\n",
       "      <td>0</td>\n",
       "    </tr>\n",
       "    <tr>\n",
       "      <th>2048</th>\n",
       "      <td>0.000208</td>\n",
       "      <td>0.308079</td>\n",
       "      <td>0.432821</td>\n",
       "      <td>0.000207</td>\n",
       "      <td>0.258684</td>\n",
       "      <td>{}</td>\n",
       "      <td>0</td>\n",
       "    </tr>\n",
       "    <tr>\n",
       "      <th>2051</th>\n",
       "      <td>0.224430</td>\n",
       "      <td>0.000394</td>\n",
       "      <td>0.232441</td>\n",
       "      <td>0.155988</td>\n",
       "      <td>0.386748</td>\n",
       "      <td>{}</td>\n",
       "      <td>0</td>\n",
       "    </tr>\n",
       "    <tr>\n",
       "      <th>2053</th>\n",
       "      <td>0.210050</td>\n",
       "      <td>0.100672</td>\n",
       "      <td>0.227226</td>\n",
       "      <td>0.000655</td>\n",
       "      <td>0.461397</td>\n",
       "      <td>{}</td>\n",
       "      <td>0</td>\n",
       "    </tr>\n",
       "    <tr>\n",
       "      <th>2059</th>\n",
       "      <td>0.376381</td>\n",
       "      <td>0.152619</td>\n",
       "      <td>0.242549</td>\n",
       "      <td>0.001908</td>\n",
       "      <td>0.226544</td>\n",
       "      <td>{}</td>\n",
       "      <td>0</td>\n",
       "    </tr>\n",
       "    <tr>\n",
       "      <th>2068</th>\n",
       "      <td>0.194743</td>\n",
       "      <td>0.001329</td>\n",
       "      <td>0.310589</td>\n",
       "      <td>0.491994</td>\n",
       "      <td>0.001345</td>\n",
       "      <td>{}</td>\n",
       "      <td>0</td>\n",
       "    </tr>\n",
       "    <tr>\n",
       "      <th>2072</th>\n",
       "      <td>0.000551</td>\n",
       "      <td>0.292488</td>\n",
       "      <td>0.175400</td>\n",
       "      <td>0.064638</td>\n",
       "      <td>0.466923</td>\n",
       "      <td>{}</td>\n",
       "      <td>0</td>\n",
       "    </tr>\n",
       "    <tr>\n",
       "      <th>2083</th>\n",
       "      <td>0.000577</td>\n",
       "      <td>0.000577</td>\n",
       "      <td>0.121607</td>\n",
       "      <td>0.484027</td>\n",
       "      <td>0.393212</td>\n",
       "      <td>{}</td>\n",
       "      <td>0</td>\n",
       "    </tr>\n",
       "    <tr>\n",
       "      <th>2090</th>\n",
       "      <td>0.123303</td>\n",
       "      <td>0.168318</td>\n",
       "      <td>0.000106</td>\n",
       "      <td>0.225070</td>\n",
       "      <td>0.483203</td>\n",
       "      <td>{}</td>\n",
       "      <td>0</td>\n",
       "    </tr>\n",
       "    <tr>\n",
       "      <th>2092</th>\n",
       "      <td>0.383258</td>\n",
       "      <td>0.095256</td>\n",
       "      <td>0.287454</td>\n",
       "      <td>0.000197</td>\n",
       "      <td>0.233835</td>\n",
       "      <td>{}</td>\n",
       "      <td>0</td>\n",
       "    </tr>\n",
       "    <tr>\n",
       "      <th>2100</th>\n",
       "      <td>0.000237</td>\n",
       "      <td>0.000236</td>\n",
       "      <td>0.123453</td>\n",
       "      <td>0.444294</td>\n",
       "      <td>0.431780</td>\n",
       "      <td>{}</td>\n",
       "      <td>0</td>\n",
       "    </tr>\n",
       "    <tr>\n",
       "      <th>2128</th>\n",
       "      <td>0.000513</td>\n",
       "      <td>0.273070</td>\n",
       "      <td>0.101888</td>\n",
       "      <td>0.368881</td>\n",
       "      <td>0.255648</td>\n",
       "      <td>{}</td>\n",
       "      <td>0</td>\n",
       "    </tr>\n",
       "    <tr>\n",
       "      <th>2133</th>\n",
       "      <td>0.015311</td>\n",
       "      <td>0.108602</td>\n",
       "      <td>0.157534</td>\n",
       "      <td>0.226860</td>\n",
       "      <td>0.491693</td>\n",
       "      <td>{}</td>\n",
       "      <td>0</td>\n",
       "    </tr>\n",
       "    <tr>\n",
       "      <th>2136</th>\n",
       "      <td>0.000564</td>\n",
       "      <td>0.218989</td>\n",
       "      <td>0.358506</td>\n",
       "      <td>0.421380</td>\n",
       "      <td>0.000561</td>\n",
       "      <td>{}</td>\n",
       "      <td>0</td>\n",
       "    </tr>\n",
       "    <tr>\n",
       "      <th>2139</th>\n",
       "      <td>0.246311</td>\n",
       "      <td>0.000461</td>\n",
       "      <td>0.196114</td>\n",
       "      <td>0.064511</td>\n",
       "      <td>0.492604</td>\n",
       "      <td>{}</td>\n",
       "      <td>0</td>\n",
       "    </tr>\n",
       "    <tr>\n",
       "      <th>2146</th>\n",
       "      <td>0.001452</td>\n",
       "      <td>0.001464</td>\n",
       "      <td>0.436397</td>\n",
       "      <td>0.131134</td>\n",
       "      <td>0.429552</td>\n",
       "      <td>{}</td>\n",
       "      <td>0</td>\n",
       "    </tr>\n",
       "    <tr>\n",
       "      <th>2151</th>\n",
       "      <td>0.000452</td>\n",
       "      <td>0.183010</td>\n",
       "      <td>0.000454</td>\n",
       "      <td>0.467642</td>\n",
       "      <td>0.348443</td>\n",
       "      <td>{}</td>\n",
       "      <td>0</td>\n",
       "    </tr>\n",
       "    <tr>\n",
       "      <th>2171</th>\n",
       "      <td>0.007516</td>\n",
       "      <td>0.351486</td>\n",
       "      <td>0.388055</td>\n",
       "      <td>0.245313</td>\n",
       "      <td>0.007629</td>\n",
       "      <td>{}</td>\n",
       "      <td>0</td>\n",
       "    </tr>\n",
       "    <tr>\n",
       "      <th>2180</th>\n",
       "      <td>0.002947</td>\n",
       "      <td>0.440660</td>\n",
       "      <td>0.023073</td>\n",
       "      <td>0.240692</td>\n",
       "      <td>0.292628</td>\n",
       "      <td>{}</td>\n",
       "      <td>0</td>\n",
       "    </tr>\n",
       "    <tr>\n",
       "      <th>2182</th>\n",
       "      <td>0.246448</td>\n",
       "      <td>0.000185</td>\n",
       "      <td>0.000186</td>\n",
       "      <td>0.460272</td>\n",
       "      <td>0.292909</td>\n",
       "      <td>{}</td>\n",
       "      <td>0</td>\n",
       "    </tr>\n",
       "    <tr>\n",
       "      <th>2183</th>\n",
       "      <td>0.134105</td>\n",
       "      <td>0.128277</td>\n",
       "      <td>0.248386</td>\n",
       "      <td>0.383131</td>\n",
       "      <td>0.106101</td>\n",
       "      <td>{}</td>\n",
       "      <td>0</td>\n",
       "    </tr>\n",
       "  </tbody>\n",
       "</table>\n",
       "<p>311 rows × 7 columns</p>\n",
       "</div>"
      ],
      "text/plain": [
       "       topic_0   topic_1   topic_2   topic_3   topic_4 mostly_about  \\\n",
       "6     0.051084  0.156045  0.446151  0.129131  0.217588           {}   \n",
       "7     0.000325  0.232863  0.466766  0.299724  0.000323           {}   \n",
       "22    0.383977  0.000743  0.286276  0.268529  0.060476           {}   \n",
       "29    0.351891  0.001301  0.001301  0.214318  0.431189           {}   \n",
       "31    0.223648  0.000574  0.027549  0.299390  0.448839           {}   \n",
       "...        ...       ...       ...       ...       ...          ...   \n",
       "2151  0.000452  0.183010  0.000454  0.467642  0.348443           {}   \n",
       "2171  0.007516  0.351486  0.388055  0.245313  0.007629           {}   \n",
       "2180  0.002947  0.440660  0.023073  0.240692  0.292628           {}   \n",
       "2182  0.246448  0.000185  0.000186  0.460272  0.292909           {}   \n",
       "2183  0.134105  0.128277  0.248386  0.383131  0.106101           {}   \n",
       "\n",
       "      no_of_topics  \n",
       "6                0  \n",
       "7                0  \n",
       "22               0  \n",
       "29               0  \n",
       "31               0  \n",
       "...            ...  \n",
       "2151             0  \n",
       "2171             0  \n",
       "2180             0  \n",
       "2182             0  \n",
       "2183             0  \n",
       "\n",
       "[311 rows x 7 columns]"
      ]
     },
     "execution_count": 70,
     "metadata": {},
     "output_type": "execute_result"
    }
   ],
   "source": [
    "reduced_dtm_tf[reduced_dtm_tf['no_of_topics'] == 0]"
   ]
  },
  {
   "cell_type": "code",
   "execution_count": null,
   "metadata": {},
   "outputs": [],
   "source": []
  },
  {
   "cell_type": "code",
   "execution_count": null,
   "metadata": {},
   "outputs": [],
   "source": []
  },
  {
   "cell_type": "code",
   "execution_count": 238,
   "metadata": {
    "collapsed": true
   },
   "outputs": [
    {
     "data": {
      "text/plain": [
       "{'topic_0': {'words_str': '#app, #drupal, #apps, #web, #users, #android, #user, #google, #api, #developers',\n",
       "  'words': {'app': 1845.350268699179,\n",
       "   'drupal': 1202.0999685191114,\n",
       "   'apps': 1004.9301779373077,\n",
       "   'web': 916.3262192762993,\n",
       "   'users': 882.4439398515414,\n",
       "   'android': 871.9886917170277,\n",
       "   'user': 785.6767976697147,\n",
       "   'google': 770.4684909846192,\n",
       "   'api': 705.8145486666143,\n",
       "   'developers': 645.2787843277359}},\n",
       " 'topic_1': {'words_str': '#apple, #music, #iphone, #usa, #year, #credits, #technical, #specs, #ibm, #company',\n",
       "  'words': {'apple': 191.51722352139427,\n",
       "   'music': 143.24883630296728,\n",
       "   'iphone': 110.52080793741617,\n",
       "   'usa': 102.62793881053543,\n",
       "   'year': 97.41976252581388,\n",
       "   'credits': 95.2329505457913,\n",
       "   'technical': 94.59000482599568,\n",
       "   'specs': 94.36644451331301,\n",
       "   'ibm': 94.22985740314772,\n",
       "   'company': 89.60964483518346}},\n",
       " 'topic_2': {'words_str': '#people, #team, #work, #don, #need, #software, #good, #things, #think, #know',\n",
       "  'words': {'people': 1712.2080343367354,\n",
       "   'team': 1385.979643944663,\n",
       "   'work': 1306.8231202046716,\n",
       "   'don': 971.8313338272204,\n",
       "   'need': 744.5239934731133,\n",
       "   'software': 712.7312568746413,\n",
       "   'good': 693.6547361959566,\n",
       "   'things': 661.4323424829076,\n",
       "   'think': 652.443450425214,\n",
       "   'know': 648.6144269507836}},\n",
       " 'topic_3': {'words_str': '#page, #google, #content, #site, #search, #mobile, #people, #users, #website, #user',\n",
       "  'words': {'page': 468.003485158701,\n",
       "   'google': 451.29431612980085,\n",
       "   'content': 432.28625934908985,\n",
       "   'site': 385.2348383390967,\n",
       "   'search': 358.7781667333216,\n",
       "   'mobile': 297.67578850999985,\n",
       "   'people': 278.45988141048986,\n",
       "   'users': 236.63070886427298,\n",
       "   'website': 229.00628290279394,\n",
       "   'user': 200.24727008180272}},\n",
       " 'topic_4': {'words_str': '#data, #cloud, #digital, #business, #companies, #customer, #customers, #services, #platform, #technology',\n",
       "  'words': {'data': 2339.541784568944,\n",
       "   'cloud': 1786.3343552137733,\n",
       "   'digital': 1653.9169264581385,\n",
       "   'business': 1511.5479198213445,\n",
       "   'companies': 1456.8313794568012,\n",
       "   'customer': 1337.5648569224625,\n",
       "   'customers': 1289.8604655777901,\n",
       "   'services': 1221.5548670898609,\n",
       "   'platform': 1181.0830926892295,\n",
       "   'technology': 1139.1668351544356}},\n",
       " 'topic_5': {'words_str': '#learning, #machine, #intelligence, #deep, #neural, #data, #human, #artificial, #computer, #research',\n",
       "  'words': {'learning': 2328.3864260606174,\n",
       "   'machine': 1655.148995270516,\n",
       "   'intelligence': 672.1646645196498,\n",
       "   'deep': 605.0586976878359,\n",
       "   'neural': 516.2784113089838,\n",
       "   'data': 512.8338021554719,\n",
       "   'human': 453.28407673593887,\n",
       "   'artificial': 442.98879007182677,\n",
       "   'computer': 420.1950804066924,\n",
       "   'research': 407.5377776842203}},\n",
       " 'topic_6': {'words_str': '#google, #apple, #company, #people, #users, #year, #app, #world, #design, #product',\n",
       "  'words': {'google': 2706.70852949311,\n",
       "   'apple': 1474.5540164529189,\n",
       "   'company': 868.6177660022862,\n",
       "   'people': 797.2676760270593,\n",
       "   'users': 684.6517443372417,\n",
       "   'year': 628.83602164008,\n",
       "   'app': 556.4722077952414,\n",
       "   'world': 535.0825752691977,\n",
       "   'design': 519.2105313636898,\n",
       "   'product': 491.31796867892257}},\n",
       " 'topic_7': {'words_str': '#bitcoin, #event, #blockchain, #javascript, #code, #need, #events, #http, #node, #people',\n",
       "  'words': {'bitcoin': 657.862798373516,\n",
       "   'event': 414.6073936998461,\n",
       "   'blockchain': 412.2441606546234,\n",
       "   'javascript': 369.0914869914609,\n",
       "   'code': 357.0094508285707,\n",
       "   'need': 280.85908828813604,\n",
       "   'events': 262.88982412452697,\n",
       "   'http': 249.63225892965372,\n",
       "   'node': 245.76129727910993,\n",
       "   'people': 236.24042572479715}},\n",
       " 'topic_8': {'words_str': '#language, #computer, #amp, #science, #game, #students, #companies, #pokemon, #dna, #languages',\n",
       "  'words': {'language': 155.04469080839723,\n",
       "   'computer': 126.77371258461426,\n",
       "   'amp': 119.19191400974935,\n",
       "   'science': 93.3593042911207,\n",
       "   'game': 80.78186676345169,\n",
       "   'students': 80.61914547897119,\n",
       "   'companies': 80.07936282214479,\n",
       "   'pokemon': 77.78933924599438,\n",
       "   'dna': 71.08727893646788,\n",
       "   'languages': 67.02517335745877}},\n",
       " 'topic_9': {'words_str': '#data, #code, #docker, #example, #run, #need, #used, #set, #java, #test',\n",
       "  'words': {'data': 2577.8003321367205,\n",
       "   'code': 1516.3773726560632,\n",
       "   'docker': 1007.5459100154376,\n",
       "   'example': 947.9163350778684,\n",
       "   'run': 759.2024224480921,\n",
       "   'need': 751.2054733167996,\n",
       "   'used': 747.5471737031286,\n",
       "   'set': 744.38724456791,\n",
       "   'java': 743.8861823842118,\n",
       "   'test': 681.3921838490182}}}"
      ]
     },
     "execution_count": 238,
     "metadata": {},
     "output_type": "execute_result"
    }
   ],
   "source": [
    "topics"
   ]
  },
  {
   "cell_type": "code",
   "execution_count": 52,
   "metadata": {},
   "outputs": [
    {
     "name": "stderr",
     "output_type": "stream",
     "text": [
      "/home/ravi/recommendation_system/recommender_system/rec_sys_env/lib/python3.7/site-packages/pyLDAvis/_prepare.py:257: FutureWarning: Sorting because non-concatenation axis is not aligned. A future version\n",
      "of pandas will change to not sort by default.\n",
      "\n",
      "To accept the future behavior, pass 'sort=False'.\n",
      "\n",
      "To retain the current behavior and silence the warning, pass 'sort=True'.\n",
      "\n",
      "  return pd.concat([default_term_info] + list(topic_dfs))\n"
     ]
    },
    {
     "data": {
      "text/html": [
       "\n",
       "<link rel=\"stylesheet\" type=\"text/css\" href=\"https://cdn.rawgit.com/bmabey/pyLDAvis/files/ldavis.v1.0.0.css\">\n",
       "\n",
       "\n",
       "<div id=\"ldavis_el53521406536482634726902767660\"></div>\n",
       "<script type=\"text/javascript\">\n",
       "\n",
       "var ldavis_el53521406536482634726902767660_data = {\"mdsDat\": {\"x\": [0.1486592470944311, 0.01061112553693043, -0.004272062640634904, 0.0349173447527359, -0.1899156547434628], \"y\": [0.08131914499321131, 0.0719003910982843, -0.1292723073164975, -0.07984593014383655, 0.05589870136883844], \"topics\": [1, 2, 3, 4, 5], \"cluster\": [1, 1, 1, 1, 1], \"Freq\": [26.51407838342924, 23.955692807585148, 21.64004907403055, 19.035002205837312, 8.85517752911776]}, \"tinfo\": {\"Category\": [\"Default\", \"Default\", \"Default\", \"Default\", \"Default\", \"Default\", \"Default\", \"Default\", \"Default\", \"Default\", \"Default\", \"Default\", \"Default\", \"Default\", \"Default\", \"Default\", \"Default\", \"Default\", \"Default\", \"Default\", \"Default\", \"Default\", \"Default\", \"Default\", \"Default\", \"Default\", \"Default\", \"Default\", \"Default\", \"Default\", \"Topic1\", \"Topic1\", \"Topic1\", \"Topic1\", \"Topic1\", \"Topic1\", \"Topic1\", \"Topic1\", \"Topic1\", \"Topic1\", \"Topic1\", \"Topic1\", \"Topic1\", \"Topic1\", \"Topic1\", \"Topic1\", \"Topic1\", \"Topic1\", \"Topic1\", \"Topic1\", \"Topic1\", \"Topic1\", \"Topic1\", \"Topic1\", \"Topic1\", \"Topic1\", \"Topic1\", \"Topic1\", \"Topic1\", \"Topic1\", \"Topic1\", \"Topic1\", \"Topic1\", \"Topic1\", \"Topic1\", \"Topic1\", \"Topic1\", \"Topic1\", \"Topic1\", \"Topic1\", \"Topic1\", \"Topic1\", \"Topic1\", \"Topic1\", \"Topic1\", \"Topic1\", \"Topic1\", \"Topic1\", \"Topic1\", \"Topic1\", \"Topic1\", \"Topic1\", \"Topic1\", \"Topic1\", \"Topic1\", \"Topic1\", \"Topic1\", \"Topic1\", \"Topic1\", \"Topic1\", \"Topic1\", \"Topic1\", \"Topic1\", \"Topic1\", \"Topic1\", \"Topic1\", \"Topic1\", \"Topic1\", \"Topic1\", \"Topic1\", \"Topic1\", \"Topic1\", \"Topic1\", \"Topic1\", \"Topic1\", \"Topic1\", \"Topic1\", \"Topic1\", \"Topic1\", \"Topic1\", \"Topic1\", \"Topic1\", \"Topic1\", \"Topic1\", \"Topic1\", \"Topic2\", \"Topic2\", \"Topic2\", \"Topic2\", \"Topic2\", \"Topic2\", \"Topic2\", \"Topic2\", \"Topic2\", \"Topic2\", \"Topic2\", \"Topic2\", \"Topic2\", \"Topic2\", \"Topic2\", \"Topic2\", \"Topic2\", \"Topic2\", \"Topic2\", \"Topic2\", \"Topic2\", \"Topic2\", \"Topic2\", \"Topic2\", \"Topic2\", \"Topic2\", \"Topic2\", \"Topic2\", \"Topic2\", \"Topic2\", \"Topic2\", \"Topic2\", \"Topic2\", \"Topic2\", \"Topic2\", \"Topic2\", \"Topic2\", \"Topic2\", \"Topic2\", \"Topic2\", \"Topic2\", \"Topic2\", \"Topic2\", \"Topic2\", \"Topic2\", \"Topic2\", \"Topic2\", \"Topic2\", \"Topic2\", \"Topic2\", \"Topic2\", \"Topic2\", \"Topic2\", \"Topic2\", \"Topic2\", \"Topic2\", \"Topic2\", \"Topic2\", \"Topic2\", \"Topic2\", \"Topic2\", \"Topic2\", \"Topic2\", \"Topic2\", \"Topic2\", \"Topic2\", \"Topic2\", \"Topic2\", \"Topic2\", \"Topic2\", \"Topic2\", \"Topic2\", \"Topic2\", \"Topic2\", \"Topic2\", \"Topic2\", \"Topic2\", \"Topic2\", \"Topic2\", \"Topic2\", \"Topic2\", \"Topic3\", \"Topic3\", \"Topic3\", \"Topic3\", \"Topic3\", \"Topic3\", \"Topic3\", \"Topic3\", \"Topic3\", \"Topic3\", \"Topic3\", \"Topic3\", \"Topic3\", \"Topic3\", \"Topic3\", \"Topic3\", \"Topic3\", \"Topic3\", \"Topic3\", \"Topic3\", \"Topic3\", \"Topic3\", \"Topic3\", \"Topic3\", \"Topic3\", \"Topic3\", \"Topic3\", \"Topic3\", \"Topic3\", \"Topic3\", \"Topic3\", \"Topic3\", \"Topic3\", \"Topic3\", \"Topic3\", \"Topic3\", \"Topic3\", \"Topic3\", \"Topic3\", \"Topic3\", \"Topic3\", \"Topic3\", \"Topic3\", \"Topic3\", \"Topic3\", \"Topic3\", \"Topic3\", \"Topic3\", \"Topic3\", \"Topic3\", \"Topic3\", \"Topic3\", \"Topic3\", \"Topic3\", \"Topic3\", \"Topic3\", \"Topic3\", \"Topic3\", \"Topic3\", \"Topic3\", \"Topic3\", \"Topic3\", \"Topic3\", \"Topic3\", \"Topic3\", \"Topic3\", \"Topic3\", \"Topic3\", \"Topic3\", \"Topic3\", \"Topic3\", \"Topic3\", \"Topic3\", \"Topic3\", \"Topic3\", \"Topic3\", \"Topic3\", \"Topic3\", \"Topic3\", \"Topic3\", \"Topic3\", \"Topic3\", \"Topic4\", \"Topic4\", \"Topic4\", \"Topic4\", \"Topic4\", \"Topic4\", \"Topic4\", \"Topic4\", \"Topic4\", \"Topic4\", \"Topic4\", \"Topic4\", \"Topic4\", \"Topic4\", \"Topic4\", \"Topic4\", \"Topic4\", \"Topic4\", \"Topic4\", \"Topic4\", \"Topic4\", \"Topic4\", \"Topic4\", \"Topic4\", \"Topic4\", \"Topic4\", \"Topic4\", \"Topic4\", \"Topic4\", \"Topic4\", \"Topic4\", \"Topic4\", \"Topic4\", \"Topic4\", \"Topic4\", \"Topic4\", \"Topic4\", \"Topic4\", \"Topic4\", \"Topic4\", \"Topic4\", \"Topic4\", \"Topic4\", \"Topic4\", \"Topic4\", \"Topic4\", \"Topic4\", \"Topic4\", \"Topic4\", \"Topic4\", \"Topic4\", \"Topic4\", \"Topic4\", \"Topic4\", \"Topic4\", \"Topic4\", \"Topic4\", \"Topic4\", \"Topic4\", \"Topic4\", \"Topic4\", \"Topic4\", \"Topic4\", \"Topic4\", \"Topic4\", \"Topic4\", \"Topic4\", \"Topic4\", \"Topic4\", \"Topic4\", \"Topic4\", \"Topic4\", \"Topic4\", \"Topic4\", \"Topic4\", \"Topic4\", \"Topic4\", \"Topic4\", \"Topic4\", \"Topic4\", \"Topic4\", \"Topic4\", \"Topic5\", \"Topic5\", \"Topic5\", \"Topic5\", \"Topic5\", \"Topic5\", \"Topic5\", \"Topic5\", \"Topic5\", \"Topic5\", \"Topic5\", \"Topic5\", \"Topic5\", \"Topic5\", \"Topic5\", \"Topic5\", \"Topic5\", \"Topic5\", \"Topic5\", \"Topic5\", \"Topic5\", \"Topic5\", \"Topic5\", \"Topic5\", \"Topic5\", \"Topic5\", \"Topic5\", \"Topic5\", \"Topic5\", \"Topic5\", \"Topic5\", \"Topic5\", \"Topic5\", \"Topic5\", \"Topic5\", \"Topic5\", \"Topic5\", \"Topic5\", \"Topic5\", \"Topic5\", \"Topic5\", \"Topic5\", \"Topic5\", \"Topic5\", \"Topic5\", \"Topic5\", \"Topic5\", \"Topic5\", \"Topic5\", \"Topic5\", \"Topic5\", \"Topic5\", \"Topic5\", \"Topic5\", \"Topic5\", \"Topic5\", \"Topic5\", \"Topic5\", \"Topic5\", \"Topic5\", \"Topic5\", \"Topic5\", \"Topic5\", \"Topic5\", \"Topic5\", \"Topic5\", \"Topic5\", \"Topic5\", \"Topic5\", \"Topic5\", \"Topic5\", \"Topic5\", \"Topic5\", \"Topic5\", \"Topic5\", \"Topic5\", \"Topic5\", \"Topic5\", \"Topic5\", \"Topic5\", \"Topic5\", \"Topic5\", \"Topic5\", \"Topic5\", \"Topic5\", \"Topic5\", \"Topic5\", \"Topic5\"], \"Freq\": [5044.0, 2336.0, 3053.0, 1935.0, 1635.0, 2666.0, 4689.0, 1807.0, 2702.0, 1152.0, 2391.0, 3512.0, 1290.0, 2505.0, 978.0, 3051.0, 1162.0, 821.0, 775.0, 2118.0, 3513.0, 1187.0, 862.0, 1166.0, 649.0, 2432.0, 860.0, 990.0, 1232.0, 712.0, 648.4390959045564, 213.4465028022051, 173.70428024234386, 157.22574717379567, 126.202503431463, 139.49043703937713, 92.27903229557283, 86.46313240598587, 82.58605504456337, 78.70892393946524, 396.49762851214996, 198.53110996705902, 72.89170966664828, 71.92164652060166, 69.98482079814954, 74.76891517776397, 68.04678452974868, 66.1074512998102, 64.16548798304056, 62.22407946746199, 66.04955676503351, 179.91298414580936, 58.352178848070785, 73.5953865371627, 53.506077666224655, 53.503300777630635, 75.48209430029087, 52.53104298907515, 51.5678970742506, 49.62616831858428, 405.90981844401693, 130.98697402446544, 105.41633766583804, 342.57741362619083, 79.6750368965341, 324.270898490879, 666.4582679862655, 268.17871688463003, 256.3831767856005, 125.70669937673371, 229.00551764932936, 984.2034908349201, 382.62181922221754, 196.0736385395233, 679.1417405527503, 550.4579868504368, 653.9358021871963, 910.0372771462884, 713.8224081041828, 757.3437133612576, 521.8020182834731, 1040.7622829894588, 306.89634189510684, 672.1501465574881, 394.4782038013803, 790.3426740624665, 363.3730436677838, 415.3930704400426, 588.2185370278363, 610.0569594146338, 542.5229607078819, 788.213154459192, 446.96217386224464, 1062.3994002618658, 1193.2219057758705, 1406.3400745599247, 1052.4850255002877, 455.4432216531272, 1360.3327528956015, 1196.132125625722, 1395.5064923426612, 715.756850874319, 766.0061438498059, 837.4115363967547, 1008.8620689808317, 926.6720339028249, 1294.6573312547112, 834.8981929913865, 790.4705123736085, 824.0526027807955, 861.0689316120637, 749.9468340148005, 837.6869005656167, 740.49684200991, 701.1036357234678, 502.3867890604881, 323.4425781817104, 139.58199916193809, 107.94114433737363, 83.89071039257207, 82.9286940161542, 74.26972739121672, 70.4227676281246, 73.26193905457583, 65.59172549735041, 60.80226850482877, 59.83987194578934, 58.87749123069637, 89.13793871539868, 50.21911755299452, 51.16350888580526, 56.8261788791109, 49.2533195216325, 47.33289604387473, 44.43774284584726, 40.59832288613254, 40.597871952275746, 43.39407102845983, 36.75042585752224, 44.290286631741395, 36.746458498330156, 34.826071157707354, 33.862870248605795, 33.86228764523167, 31.938937792458375, 1868.8914147540706, 316.77935103537857, 487.3396310294632, 100.73741098567406, 297.92227862654784, 785.2563969063501, 344.703545018922, 410.45487234754415, 353.6812729489413, 273.68214521857794, 186.59311601852113, 2227.6768086931024, 749.5295492067844, 982.8138037084634, 195.29576441649186, 1890.913469651966, 249.54351800923533, 342.1421551702322, 207.28761868884484, 816.9988961847168, 425.5179587801844, 118.47078826868525, 193.2092320041429, 295.3888381393668, 1151.6232947146439, 250.54475848741023, 982.9957237294628, 803.3400377476255, 2072.0011028215376, 1552.4596171558637, 691.935094564087, 572.8124199659995, 694.5165443371035, 901.8402659068962, 967.70224596611, 421.3859788428457, 1094.6397045441197, 698.698009938582, 890.2340299143267, 609.4320034549961, 724.6612832093289, 634.9908877481263, 521.5558949884704, 546.1138459973544, 927.9613584989906, 751.345385070606, 682.0000011124533, 584.077857726402, 640.5098402576897, 560.8988812129098, 560.743755363834, 182.65232053166488, 141.99815621377752, 132.07421834283414, 131.0510977628684, 75.55582738506905, 119.35212403602338, 47.775172612262516, 43.8247644245019, 40.85305668572986, 37.87864202421171, 94.042097738144, 34.903516094966136, 360.1429631814103, 955.3271822597366, 30.921808502200022, 28.951240430131, 29.83050738422308, 25.978962062124772, 25.978081405347563, 24.986757456866115, 53.81622978907098, 23.004171050544315, 23.0030638112266, 22.012664644739782, 22.01213378471482, 22.0107967289763, 22.008752896389414, 196.21322001417124, 20.948600154258678, 19.038762268655056, 1106.6150690532481, 365.12152588871203, 45.294353298548565, 172.5028706166939, 637.9389436496233, 183.08347373941606, 1552.4914041350733, 107.68313215838597, 196.22462208515623, 999.0415371062631, 282.3322210188696, 327.6494833876864, 2445.154363622122, 259.4119881153702, 79.75896658798604, 595.0111128285724, 470.5549356508798, 291.8633899702751, 395.7384134637842, 244.88241719394446, 1905.313270482958, 154.97450503792626, 380.25417287333687, 738.8981728642253, 768.8493292222134, 486.8069478469131, 2604.1040262924703, 467.9547246088094, 1624.742291232133, 771.0044399406748, 367.1994642761534, 1256.3679589427159, 441.83079124284296, 1061.5092918118548, 568.7894109337536, 469.0461881258181, 423.09004992251556, 608.3730045569208, 423.725810623326, 935.2430603555268, 876.275797007491, 723.1460281903942, 1008.317519267672, 820.3893142394311, 629.9834554637233, 730.9853656095468, 558.9176969592246, 715.857883372663, 637.9306776728894, 548.9842077434182, 578.6577738923588, 563.4934513962239, 233.58266504357607, 154.83173901582526, 82.72372711484903, 67.54971370064268, 81.57651753925562, 61.85452036283554, 67.28380665416648, 40.985317765835035, 40.0355145293545, 34.343329237128515, 37.99586266777909, 31.49757138497477, 31.496533844432477, 30.53659914968556, 29.600676373516084, 28.651639818064705, 27.700846439342516, 26.75370072992452, 26.751474157062315, 54.40098945924582, 42.39431322482126, 25.789475409059893, 56.12456273667419, 25.77971946352905, 24.85314743003287, 40.47654386921673, 23.907737361443537, 23.906867816219915, 22.959057431592893, 22.948603812057005, 1556.1774276510084, 283.0321543592233, 438.67534252392306, 759.2341933048145, 115.85983803638256, 2095.5674814271088, 141.26563831991243, 120.06730914992819, 82.68031763446685, 334.05852319245463, 126.33809398744381, 59.8855736142676, 58.96170933001523, 3974.452015786379, 665.0800040591996, 76.74433823556492, 118.90488214344495, 988.7587606468323, 569.787624134854, 386.63649027424265, 121.19438335696759, 407.5359205337418, 1427.2369669121426, 841.4924536499926, 429.83397609022575, 650.748800792721, 247.02481414558622, 430.9268719876644, 606.5099735205442, 1603.3182303780118, 968.7321758135001, 351.296564381998, 735.2971641572221, 278.36228056839997, 521.0742546044758, 542.7631873932017, 294.2370299643867, 568.1647212864215, 641.3239873217159, 1180.7598943966327, 879.3088771766421, 713.6747087547911, 481.5192336872811, 757.6835475440463, 568.1590558967359, 566.3774135849502, 559.2158298177256, 561.938928330076, 560.7871132160759, 586.2578666538516, 502.55622133224415, 490.4915865058067, 61.44402330105663, 44.99105112291364, 99.58163798460434, 37.67747245026262, 31.27597157571484, 37.4668831780602, 25.788803605786022, 24.87162074310309, 137.7103376129101, 23.958337841489776, 22.12883500291887, 20.301445799953267, 20.29558128220176, 21.130200197382138, 18.47309449636017, 18.472945309244025, 18.472310457200695, 17.555896438368677, 17.55460346082478, 17.55173083593784, 17.551476325403783, 17.54652727558982, 17.542239122305958, 41.180488254870454, 16.64401745253025, 16.64366187729133, 16.643449857618283, 20.14360798127302, 15.727657579257427, 15.72728671401532, 284.9348165269109, 33.09542578962031, 82.29308796325168, 32.19156939691025, 67.34618462627569, 47.92324112666711, 88.03415496399624, 29.446419421431173, 30.172227856751356, 107.33794659608782, 40.34491187960714, 40.753718137503476, 28.14337761642188, 34.37760396651072, 156.5266834058341, 130.70047673213418, 36.673339569462584, 36.40618301131204, 142.6905340426846, 113.21119817530321, 65.14046608912865, 49.953994878977035, 67.91610661789505, 62.056740425398715, 163.8818067663194, 211.9559894694583, 42.77892170357784, 75.32457506585212, 64.9868389894486, 58.39051617709799, 95.89792863610609, 120.03342255385525, 85.66120429349687, 332.8756582950035, 448.6152789121271, 104.76051816347581, 104.65869832707301, 93.79267227905767, 155.83084616797504, 169.78068565641, 92.37189567666712, 173.95358704363895, 141.7703777306807, 138.56140256956024, 192.79010998720838, 241.62781577499953, 133.38630300396036, 130.4294558368804, 168.98503210046928, 184.06218536203713, 130.65640531390807, 125.13947491162641, 112.72961269358268, 124.49170897641291, 124.90147904610504, 118.81618465668397, 120.12219947292606, 115.59727084078136], \"Term\": [\"google\", \"cloud\", \"customer\", \"learning\", \"apple\", \"machine\", \"company\", \"digital\", \"business\", \"drupal\", \"platform\", \"service\", \"android\", \"learn\", \"docker\", \"product\", \"organization\", \"blockchain\", \"bitcoin\", \"developer\", \"people\", \"human\", \"algorithm\", \"server\", \"javascript\", \"technology\", \"intelligence\", \"microsoft\", \"market\", \"marketing\", \"javascript\", \"angular\", \"kotlin\", \"typescript\", \"compiler\", \"callback\", \"async\", \"selector\", \"constructor\", \"mongodb\", \"microservice\", \"debug\", \"elasticsearch\", \"shard\", \"django\", \"debugger\", \"constraintlayout\", \"jquery\", \"nginx\", \"rails\", \"config\", \"aggregation\", \"streams\", \"tooling\", \"babel\", \"payload\", \"maven\", \"reusable\", \"drush\", \"monolith\", \"cache\", \"scrum\", \"lambda\", \"layout\", \"features\", \"dependency\", \"module\", \"plugin\", \"password\", \"reactive\", \"string\", \"server\", \"script\", \"reuse\", \"library\", \"browser\", \"command\", \"method\", \"database\", \"request\", \"element\", \"event\", \"spring\", \"class\", \"implementation\", \"function\", \"configuration\", \"filter\", \"framework\", \"object\", \"component\", \"version\", \"query\", \"write\", \"application\", \"change\", \"project\", \"stream\", \"create\", \"example\", \"build\", \"simple\", \"content\", \"support\", \"start\", \"feature\", \"datum\", \"developer\", \"value\", \"different\", \"thing\", \"provide\", \"service\", \"process\", \"software\", \"neural\", \"tensorflow\", \"classification\", \"deepmind\", \"neuron\", \"scikit\", \"openai\", \"generative\", \"evernote\", \"coaching\", \"hiragana\", \"hyperparameter\", \"classifier\", \"cortana\", \"cozmo\", \"webhook\", \"kurzweil\", \"federighi\", \"convolutional\", \"computational\", \"unsupervised\", \"theano\", \"mycroft\", \"bayesian\", \"dimensional\", \"differential\", \"corrado\", \"supervised\", \"rankbrain\", \"parsey\", \"learning\", \"brain\", \"artificial\", \"probability\", \"robot\", \"algorithm\", \"chatbot\", \"train\", \"researcher\", \"recognition\", \"accuracy\", \"machine\", \"intelligence\", \"human\", \"spark\", \"learn\", \"student\", \"scientist\", \"dataset\", \"computer\", \"training\", \"regression\", \"prediction\", \"natural\", \"model\", \"predict\", \"image\", \"language\", \"datum\", \"people\", \"facebook\", \"research\", \"search\", \"problem\", \"think\", \"science\", \"thing\", \"network\", \"example\", \"really\", \"different\", \"result\", \"question\", \"understand\", \"google\", \"build\", \"start\", \"number\", \"company\", \"design\", \"feature\", \"acquia\", \"insurer\", \"mckinsey\", \"swarm\", \"accenture\", \"incumbent\", \"dockerfile\", \"telecom\", \"touchpoint\", \"insurtech\", \"governance\", \"acquirer\", \"insurance\", \"docker\", \"kelley\", \"graphene\", \"webinar\", \"omnichannel\", \"dries\", \"siemens\", \"xamarin\", \"quartile\", \"magento\", \"southampton\", \"predix\", \"farming\", \"neurala\", \"fintech\", \"drupalcon\", \"javetski\", \"drupal\", \"banking\", \"agriculture\", \"vehicle\", \"marketing\", \"sector\", \"digital\", \"organizational\", \"leadership\", \"organization\", \"agency\", \"commerce\", \"customer\", \"transformation\", \"performer\", \"growth\", \"innovation\", \"initiative\", \"leader\", \"journey\", \"business\", \"marketplace\", \"investment\", \"consumer\", \"industry\", \"employee\", \"company\", \"financial\", \"product\", \"market\", \"analytic\", \"technology\", \"opportunity\", \"experience\", \"management\", \"brand\", \"strategy\", \"focus\", \"percent\", \"service\", \"change\", \"process\", \"datum\", \"build\", \"value\", \"create\", \"development\", \"people\", \"platform\", \"mobile\", \"design\", \"model\", \"ethereum\", \"balancer\", \"whatsapp\", \"subnet\", \"firebase\", \"ether\", \"autofill\", \"imessage\", \"vmware\", \"torus\", \"emulator\", \"spanner\", \"corda\", \"hangout\", \"sierra\", \"consensys\", \"bigtable\", \"braintree\", \"openshift\", \"tango\", \"hangouts\", \"zookeeper\", \"coindesk\", \"schiller\", \"instances\", \"globant\", \"slides\", \"gchat\", \"openstack\", \"ifttt\", \"apple\", \"kubernetes\", \"slack\", \"blockchain\", \"balancing\", \"cloud\", \"encryption\", \"elastic\", \"samsung\", \"iphone\", \"wallet\", \"rumor\", \"greene\", \"google\", \"bitcoin\", \"packet\", \"ledger\", \"android\", \"amazon\", \"payment\", \"networking\", \"announce\", \"platform\", \"device\", \"windows\", \"microsoft\", \"messaging\", \"phone\", \"launch\", \"service\", \"developer\", \"storage\", \"mobile\", \"compute\", \"instance\", \"store\", \"linux\", \"today\", \"network\", \"company\", \"product\", \"feature\", \"offer\", \"build\", \"support\", \"software\", \"include\", \"application\", \"technology\", \"create\", \"business\", \"design\", \"beacon\", \"millennials\", \"palantir\", \"storyline\", \"nomination\", \"trivia\", \"soundtracks\", \"movile\", \"brazil\", \"mortality\", \"airpods\", \"epidemic\", \"civil\", \"campbell\", \"hendrix\", \"goofs\", \"quotes\", \"clinton\", \"trendwatching\", \"openbazaar\", \"swanest\", \"lynch\", \"vxlan\", \"nuclear\", \"islam\", \"performed\", \"taglines\", \"kosher\", \"coinfest\", \"papers\", \"woman\", \"thief\", \"trump\", \"logout\", \"plague\", \"minority\", \"headphone\", \"pebble\", \"unilever\", \"death\", \"credits\", \"boards\", \"russia\", \"bacteria\", \"america\", \"american\", \"latin\", \"specs\", \"black\", \"water\", \"quantum\", \"political\", \"pokemon\", \"steal\", \"music\", \"country\", \"meditation\", \"earth\", \"artist\", \"income\", \"white\", \"government\", \"young\", \"world\", \"people\", \"child\", \"light\", \"school\", \"money\", \"space\", \"keyword\", \"million\", \"leave\", \"brand\", \"think\", \"company\", \"state\", \"little\", \"write\", \"thing\", \"place\", \"startup\", \"accord\", \"market\", \"start\", \"right\", \"include\", \"change\"], \"Total\": [5044.0, 2336.0, 3053.0, 1935.0, 1635.0, 2666.0, 4689.0, 1807.0, 2702.0, 1152.0, 2391.0, 3512.0, 1290.0, 2505.0, 978.0, 3051.0, 1162.0, 821.0, 775.0, 2118.0, 3513.0, 1187.0, 862.0, 1166.0, 649.0, 2432.0, 860.0, 990.0, 1232.0, 712.0, 649.445706801216, 214.21111644624878, 174.468345982653, 157.9896557260321, 126.97081345913068, 140.54697547909933, 93.04413807428507, 87.22812236693898, 83.35077114672269, 79.47344081855836, 400.3664683127382, 200.61192668083248, 73.65742242481731, 72.68806407151202, 70.7494359394797, 75.59479348929823, 68.81074877495604, 66.8720428850851, 64.93336446079022, 62.99459459185758, 66.87086443215007, 182.19101023963069, 59.117382629185684, 74.63108279535543, 54.27069676492574, 54.270670511865276, 76.5727447469158, 53.30141466332145, 52.33207053003358, 50.3934200717191, 412.80124699230703, 133.71484050300433, 107.55440387595569, 359.56021320485866, 81.35732218147962, 343.97686485857776, 725.1490625375324, 283.84378857867654, 273.29140100160095, 130.9461077983886, 246.77858740272092, 1166.1454363768905, 429.48907364466567, 213.37544868748753, 815.9988870105713, 651.195715593798, 788.4025007098371, 1140.7876231094278, 877.9581253120529, 963.4771222987273, 645.9477970028623, 1428.9369681509752, 361.8558374472998, 890.8424691772161, 491.06075672789837, 1125.1916553656913, 446.2584741418818, 525.4736486309356, 807.9579040969717, 862.4446834941572, 747.9034261523958, 1231.3066446469682, 596.6777744561597, 1925.974975247938, 2313.3916104442646, 3091.229458867598, 2094.354069220198, 624.0601764564506, 3252.7251466383454, 2731.6230719349214, 3742.706235482781, 1307.444448461759, 1537.8126922626163, 1871.8868560585531, 2701.9245937150595, 2337.3579274351337, 4876.004163121811, 2118.592558075941, 1895.8939049357027, 2224.010597573335, 2815.8972182633693, 2064.749199862093, 3512.2522435466067, 2099.4842855994534, 2118.9450279870066, 503.1531914321977, 324.20981429195876, 140.45693426501913, 108.70812015746759, 84.65657041470624, 83.694529958827, 75.03596583960342, 71.18772646029895, 74.07224191166446, 66.37774479137295, 61.5671129771847, 60.605054271102176, 59.6429862589127, 90.44441337330046, 50.98444072429169, 51.94661726575995, 57.712591537584764, 50.02234039359874, 48.098253301676415, 45.21197611726693, 41.363814702282, 41.36382511591361, 44.250628980218366, 37.51558160244403, 45.21311133468368, 37.515541101733845, 35.59145271911566, 34.62937713902882, 34.62936071449907, 32.70525871012389, 1935.1043917627953, 327.5479082031243, 507.2957780529163, 103.91587650815039, 317.36209829180984, 862.4239907671761, 372.9095832130298, 450.4853984767116, 388.5854526145924, 299.31690216996, 201.26199862645473, 2666.544399140719, 860.7240295218344, 1187.0262401381378, 213.3595100167736, 2505.4272936702528, 284.91500405798894, 407.4582209926543, 237.7911007902824, 1104.4342414814773, 533.9102818965778, 128.98455799112116, 229.80101193868563, 391.11104591801234, 2066.490779737617, 323.4373469303846, 1761.9469300082988, 1415.8132024464119, 4876.004163121811, 3513.007648192573, 1214.5530334556963, 958.534093196521, 1278.1011679329115, 1904.8485194066318, 2122.5774905946155, 651.3234721285519, 2815.8972182633693, 1592.1334960463914, 2731.6230719349214, 1430.2638585584748, 2224.010597573335, 1671.1703915176854, 1064.1482324618562, 1233.7782179650803, 5044.75317667198, 3742.706235482781, 2701.9245937150595, 1804.087693584401, 4689.648577490977, 2177.1384881225413, 2337.3579274351337, 183.4142148831401, 142.7580818629207, 132.8415035133377, 131.84865169921758, 76.31973387833686, 120.91031130274682, 48.55421201800426, 44.58804372010011, 41.613385021788616, 38.63857599314376, 96.05999561507079, 35.663700383323544, 368.41180225662646, 978.007449470184, 31.696419908979436, 29.713887728535116, 30.70267252529805, 26.739176258217, 26.739158500367008, 25.747549358181434, 55.45634263770604, 23.764340227271223, 23.764284558222585, 22.772748993487113, 22.772718743577087, 22.772616718354524, 22.77260732514978, 203.86590163939522, 21.779496239607326, 19.797924932649, 1152.1834008396345, 380.011746532652, 47.44678826671781, 185.84922623821583, 712.7749506170956, 199.1803023307639, 1807.5637635945948, 115.75591663808515, 215.32782742615382, 1162.598372931, 315.1251536324819, 370.00614208717997, 3053.5007772573213, 295.22714030330906, 85.83684134201388, 716.11728214254, 571.0066942935766, 341.8761763695759, 479.93724234464025, 288.44308997609704, 2702.4580002723037, 175.52942359321395, 474.3144391938603, 1014.0761985138427, 1069.404177992996, 635.5143860795033, 4689.648577490977, 630.719971588091, 3051.501396207701, 1232.2827278590746, 484.23844516627054, 2432.645880333037, 625.9263662407361, 2121.0780684404303, 936.1030472780615, 712.6925020191647, 624.3210030731583, 1262.6494199192953, 705.5409355047565, 3512.2522435466067, 3091.229458867598, 2099.4842855994534, 4876.004163121811, 3742.706235482781, 1895.8939049357027, 3252.7251466383454, 1444.1821625521222, 3513.007648192573, 2391.6326641225087, 1537.3378805806137, 2177.1384881225413, 2066.490779737617, 234.3526547479422, 155.60558100872237, 83.49963740896031, 68.31937630716547, 82.55525823400046, 62.62679972298914, 68.32516036071651, 41.754041199473136, 40.805310418609444, 35.11272331496358, 38.910853084926465, 32.26642384883433, 32.26647490711011, 31.317785186866804, 30.368864431293936, 29.420109171835307, 28.471427755061832, 27.52264201504483, 27.52269687536015, 55.99685009750995, 43.66213379397901, 26.57410964870203, 57.84736068830783, 26.574017180705777, 25.62515563240669, 41.73800874146903, 24.676323083589278, 24.676339057040682, 23.727574991162985, 23.727664059473597, 1635.864888331397, 293.4007831884926, 457.55996524305107, 821.1459222575153, 121.60266069075934, 2336.611263529214, 149.12509806457803, 126.35144932002285, 86.4228540619672, 366.66606809380113, 134.73018772199967, 62.55561164441578, 61.71298702250693, 5044.75317667198, 775.7738079887133, 82.61758120517439, 132.31626643426762, 1290.9978181247373, 718.1257364525642, 471.8448573379856, 137.12791051880635, 538.4917324203839, 2391.6326641225087, 1313.9664634465962, 607.9009787349003, 990.1275383668592, 333.14530528259627, 657.475246804474, 1017.2105530819149, 3512.2522435466067, 2118.592558075941, 569.1647463409962, 1537.3378805806137, 423.68924464416455, 1009.4749403583223, 1117.4097322947664, 461.1763577172786, 1286.1984451245944, 1592.1334960463914, 4689.648577490977, 3051.501396207701, 2337.3579274351337, 1192.0849706453089, 3742.706235482781, 1871.8868560585531, 2118.9450279870066, 2121.699745358362, 2313.3916104442646, 2432.645880333037, 3252.7251466383454, 2702.4580002723037, 2177.1384881225413, 62.23000016978266, 45.768454019776996, 101.61585740896432, 38.45216735993087, 32.05059847960013, 38.46381172903915, 26.56354308503157, 25.64920501250528, 142.07029481190222, 24.734608824871696, 22.905578856155685, 21.076503238827545, 21.076887064033613, 21.994423031510284, 19.247449190323124, 19.247456742087643, 19.247496636065666, 18.333081857475964, 18.333259394498594, 18.333259194965876, 18.333499542615442, 18.33379213202521, 18.333762599031843, 43.08884313099688, 17.418433612386558, 17.418447550022076, 17.4184654752382, 21.085959405285873, 16.50403976560091, 16.504018694070144, 305.65570640373153, 34.842113035700194, 88.10825261981756, 33.95649875500234, 72.47954994306333, 51.38739259362393, 96.34479897296993, 31.18362874408034, 32.092400193728075, 123.63725297223985, 44.14703196726993, 45.05299640199058, 30.28945098757548, 37.661728871413324, 206.41451602889327, 175.79101472517368, 41.45206179240845, 41.43640070284942, 209.22629114235968, 160.1901998512014, 84.16555357266522, 61.05590499689893, 89.64034299380936, 80.48791327130927, 281.2296794986146, 402.795564786397, 50.685402375426044, 108.5933965312375, 91.76145137278232, 79.18127786107621, 185.00130814974727, 270.6654661973215, 160.77177776587814, 1933.6669102072433, 3513.007648192573, 250.2441975502106, 255.86784205620899, 210.68952144255414, 601.6078790831664, 805.1348507555542, 217.03182020888227, 1022.7655085176377, 638.9957298750685, 712.6925020191647, 2122.5774905946155, 4689.648577490977, 742.7357074696579, 736.5232874293945, 1925.974975247938, 2815.8972182633693, 1062.5067263713267, 902.6493046814111, 540.9475372346886, 1232.2827278590746, 2701.9245937150595, 1622.174556450801, 2121.699745358362, 3091.229458867598], \"loglift\": [30.0, 29.0, 28.0, 27.0, 26.0, 25.0, 24.0, 23.0, 22.0, 21.0, 20.0, 19.0, 18.0, 17.0, 16.0, 15.0, 14.0, 13.0, 12.0, 11.0, 10.0, 9.0, 8.0, 7.0, 6.0, 5.0, 4.0, 3.0, 2.0, 1.0, 1.3259, 1.3239, 1.3231, 1.3226, 1.3214, 1.3199, 1.3192, 1.3187, 1.3183, 1.3178, 1.3178, 1.3171, 1.317, 1.3169, 1.3166, 1.3165, 1.3163, 1.316, 1.3156, 1.3152, 1.3151, 1.3149, 1.3145, 1.3135, 1.3133, 1.3133, 1.3131, 1.3129, 1.3128, 1.3122, 1.3107, 1.3069, 1.3074, 1.2791, 1.3066, 1.2685, 1.2431, 1.2707, 1.2636, 1.2867, 1.2527, 1.1579, 1.2119, 1.2429, 1.1439, 1.1594, 1.1405, 1.1015, 1.1205, 1.0868, 1.1141, 1.0105, 1.1628, 1.0458, 1.1085, 0.9743, 1.122, 1.0924, 1.0101, 0.9813, 1.0065, 0.8814, 1.0386, 0.7326, 0.6654, 0.5399, 0.6394, 1.0125, 0.4557, 0.5017, 0.3409, 0.725, 0.6306, 0.5231, 0.3424, 0.4023, 0.0014, 0.3963, 0.4527, 0.3347, 0.1426, 0.3147, -0.1059, 0.2854, 0.2215, 1.4274, 1.4266, 1.4227, 1.4219, 1.4199, 1.4198, 1.4187, 1.4182, 1.418, 1.4171, 1.4165, 1.4163, 1.416, 1.4144, 1.4138, 1.4138, 1.4135, 1.4135, 1.4129, 1.4117, 1.4103, 1.4103, 1.4094, 1.4084, 1.4083, 1.4083, 1.4072, 1.4066, 1.4066, 1.4053, 1.3941, 1.3955, 1.3888, 1.3979, 1.3658, 1.3352, 1.3503, 1.3359, 1.3348, 1.3394, 1.3533, 1.2491, 1.2906, 1.2402, 1.3405, 1.1476, 1.2964, 1.2543, 1.2917, 1.1275, 1.202, 1.3439, 1.2555, 1.1483, 0.8443, 1.1736, 0.8454, 0.8623, 0.5732, 0.6123, 0.8663, 0.9141, 0.819, 0.6812, 0.6435, 0.9935, 0.4841, 0.6054, 0.3078, 0.5759, 0.3076, 0.4613, 0.7159, 0.614, -0.2641, -0.1767, 0.0523, 0.3012, -0.5619, 0.0727, 0.0015, 1.5265, 1.5253, 1.5248, 1.5246, 1.5206, 1.5177, 1.5144, 1.5134, 1.5122, 1.5108, 1.5094, 1.5091, 1.5079, 1.5072, 1.5059, 1.5046, 1.5018, 1.5018, 1.5017, 1.5006, 1.5006, 1.4981, 1.4981, 1.4967, 1.4967, 1.4966, 1.4965, 1.4924, 1.4917, 1.4915, 1.4903, 1.4907, 1.4842, 1.4561, 1.4197, 1.4464, 1.3785, 1.4583, 1.4377, 1.379, 1.4207, 1.409, 1.3084, 1.4013, 1.4572, 1.3454, 1.3371, 1.3725, 1.3377, 1.3669, 1.1811, 1.4061, 1.3096, 1.2141, 1.2007, 1.2641, 0.9424, 1.2321, 0.9003, 1.0617, 1.254, 0.8699, 1.1823, 0.8384, 1.0324, 1.1123, 1.1415, 0.8004, 1.0207, 0.2074, 0.27, 0.4648, -0.0454, 0.0128, 0.4289, 0.0378, 0.5813, -0.0601, 0.2091, 0.5009, 0.2056, 0.2312, 1.6556, 1.6539, 1.6496, 1.6476, 1.647, 1.6465, 1.6435, 1.6403, 1.6398, 1.6367, 1.6351, 1.6348, 1.6347, 1.6336, 1.6333, 1.6324, 1.6315, 1.6306, 1.6305, 1.63, 1.6294, 1.6289, 1.6287, 1.6285, 1.6283, 1.6282, 1.6272, 1.6272, 1.626, 1.6255, 1.609, 1.6229, 1.6167, 1.5805, 1.6105, 1.55, 1.6047, 1.6079, 1.6146, 1.5658, 1.5946, 1.6153, 1.6133, 1.4204, 1.5049, 1.5851, 1.552, 1.3922, 1.4275, 1.4597, 1.5354, 1.3802, 1.1427, 1.2133, 1.3123, 1.2392, 1.3598, 1.2364, 1.1418, 0.8747, 0.8764, 1.1764, 0.9214, 1.2388, 0.9976, 0.9368, 1.2095, 0.8419, 0.7496, 0.2797, 0.4146, 0.4725, 0.7524, 0.0616, 0.4666, 0.3395, 0.3255, 0.2438, 0.1915, -0.0546, -0.0233, 0.1685, 2.4115, 2.407, 2.4039, 2.4038, 2.3997, 2.3979, 2.3946, 2.3934, 2.393, 2.3923, 2.3897, 2.3867, 2.3864, 2.3841, 2.3831, 2.3831, 2.3831, 2.3809, 2.3808, 2.3806, 2.3806, 2.3803, 2.38, 2.3789, 2.3787, 2.3787, 2.3787, 2.3784, 2.376, 2.376, 2.354, 2.3727, 2.3559, 2.3708, 2.3507, 2.3544, 2.334, 2.3668, 2.3625, 2.2828, 2.3341, 2.3239, 2.3507, 2.3329, 2.1475, 2.1278, 2.3017, 2.2947, 2.0414, 2.0771, 2.1679, 2.2235, 2.1466, 2.1641, 1.8841, 1.7821, 2.2546, 2.0584, 2.0792, 2.1196, 1.7671, 1.6111, 1.7946, 0.6648, 0.3661, 1.5534, 1.5302, 1.6149, 1.0733, 0.8677, 1.5699, 0.6527, 0.9185, 0.7864, 0.0254, -0.5415, 0.7071, 0.6931, -0.0092, -0.3036, 0.3284, 0.4483, 0.8558, 0.1318, -0.65, -0.1898, -0.4473, -0.862], \"logprob\": [30.0, 29.0, 28.0, 27.0, 26.0, 25.0, 24.0, 23.0, 22.0, 21.0, 20.0, 19.0, 18.0, 17.0, 16.0, 15.0, 14.0, 13.0, 12.0, 11.0, 10.0, 9.0, 8.0, 7.0, 6.0, 5.0, 4.0, 3.0, 2.0, 1.0, -5.7629, -6.8741, -7.0801, -7.1798, -7.3996, -7.2995, -7.7126, -7.7777, -7.8236, -7.8717, -6.2548, -6.9465, -7.9485, -7.9619, -7.9892, -7.9231, -8.0173, -8.0462, -8.076, -8.1067, -8.0471, -7.045, -8.171, -7.9389, -8.2577, -8.2577, -7.9136, -8.2761, -8.2946, -8.3329, -6.2313, -7.3624, -7.5795, -6.401, -7.8595, -6.4559, -5.7355, -6.6458, -6.6908, -7.4035, -6.8037, -5.3456, -6.2904, -6.959, -5.7166, -5.9267, -5.7544, -5.424, -5.6668, -5.6076, -5.9802, -5.2898, -6.5109, -5.727, -6.2599, -5.565, -6.342, -6.2082, -5.8604, -5.8239, -5.9412, -5.5677, -6.135, -5.2692, -5.153, -4.9887, -5.2785, -6.1162, -5.022, -5.1506, -4.9964, -5.6641, -5.5963, -5.5071, -5.3209, -5.4059, -5.0715, -5.5101, -5.5648, -5.5232, -5.4793, -5.6175, -5.5068, -5.6301, -5.6848, -5.9166, -6.357, -7.1973, -7.4544, -7.7065, -7.718, -7.8283, -7.8815, -7.8419, -7.9525, -8.0284, -8.0443, -8.0605, -7.6458, -8.2196, -8.201, -8.096, -8.239, -8.2788, -8.3419, -8.4323, -8.4323, -8.3657, -8.5318, -8.3452, -8.5319, -8.5856, -8.6137, -8.6137, -8.6722, -4.6029, -6.3778, -5.947, -7.5235, -6.4392, -5.47, -6.2933, -6.1187, -6.2676, -6.524, -6.9071, -4.4273, -5.5165, -5.2456, -6.8615, -4.5912, -6.6164, -6.3008, -6.8019, -5.4304, -6.0827, -7.3613, -6.8722, -6.4477, -5.0871, -6.6124, -5.2454, -5.4472, -4.4997, -4.7884, -5.5965, -5.7854, -5.5928, -5.3316, -5.2611, -6.0924, -5.1378, -5.5868, -5.3445, -5.7235, -5.5503, -5.6824, -5.8792, -5.8332, -5.303, -5.5141, -5.611, -5.766, -5.6737, -5.8064, -5.8067, -6.8267, -7.0785, -7.151, -7.1587, -7.7095, -7.2523, -8.1678, -8.2541, -8.3243, -8.3999, -7.4906, -8.4817, -6.1478, -5.1723, -8.6029, -8.6687, -8.6388, -8.777, -8.7771, -8.816, -8.0488, -8.8987, -8.8987, -8.9427, -8.9427, -8.9428, -8.9429, -6.7551, -8.9923, -9.0879, -5.0253, -6.1341, -8.2211, -6.8839, -5.5761, -6.8244, -4.6867, -7.3551, -6.7551, -5.1275, -6.3912, -6.2424, -4.2325, -6.4759, -7.6553, -5.6457, -5.8804, -6.358, -6.0536, -6.5336, -4.4819, -6.9911, -6.0935, -5.4292, -5.3894, -5.8465, -4.1695, -5.886, -4.6412, -5.3866, -6.1284, -4.8983, -5.9434, -5.0669, -5.6908, -5.8836, -5.9867, -5.6235, -5.9852, -5.1935, -5.2586, -5.4507, -5.1183, -5.3245, -5.5886, -5.4399, -5.7083, -5.4608, -5.5761, -5.7263, -5.6736, -5.7002, -6.4525, -6.8637, -7.4906, -7.6932, -7.5045, -7.7813, -7.6971, -8.1928, -8.2163, -8.3697, -8.2686, -8.4562, -8.4562, -8.4871, -8.5183, -8.5509, -8.5846, -8.6194, -8.6195, -7.9097, -8.159, -8.6561, -7.8785, -8.6565, -8.6931, -8.2053, -8.7319, -8.7319, -8.7724, -8.7728, -4.5561, -6.2605, -5.8223, -5.2738, -7.1537, -4.2585, -6.9554, -7.118, -7.4911, -6.0947, -7.0671, -7.8136, -7.8292, -3.6184, -5.4062, -7.5656, -7.1277, -5.0096, -5.5608, -5.9486, -7.1087, -5.8959, -4.6426, -5.1709, -5.8427, -5.4279, -6.3966, -5.8401, -5.4983, -4.5262, -5.0301, -6.0444, -5.3058, -6.2771, -5.6502, -5.6094, -6.2217, -5.5637, -5.4425, -4.8321, -5.1269, -5.3356, -5.7291, -5.2758, -5.5637, -5.5668, -5.5795, -5.5747, -5.5767, -5.5323, -5.6864, -5.7107, -7.0227, -7.3343, -6.5398, -7.5117, -7.6979, -7.5173, -7.8908, -7.9271, -6.2156, -7.9645, -8.0439, -8.1301, -8.1304, -8.0901, -8.2245, -8.2245, -8.2245, -8.2754, -8.2755, -8.2756, -8.2756, -8.2759, -8.2762, -7.4228, -8.3287, -8.3288, -8.3288, -8.1379, -8.3854, -8.3854, -5.4885, -7.6414, -6.7305, -7.6691, -6.9309, -7.2712, -6.6631, -7.7582, -7.7339, -6.4648, -7.4433, -7.4332, -7.8035, -7.6034, -6.0876, -6.2679, -7.5387, -7.546, -6.1801, -6.4115, -6.9642, -7.2297, -6.9225, -7.0127, -6.0416, -5.7844, -7.3847, -6.819, -6.9666, -7.0736, -6.5775, -6.353, -6.6904, -5.333, -5.0346, -6.4891, -6.4901, -6.5997, -6.092, -6.0063, -6.615, -5.982, -6.1866, -6.2095, -5.8792, -5.6534, -6.2475, -6.27, -6.011, -5.9255, -6.2682, -6.3114, -6.4158, -6.3165, -6.3133, -6.3632, -6.3523, -6.3907]}, \"token.table\": {\"Topic\": [3, 1, 2, 3, 4, 5, 1, 2, 3, 3, 3, 1, 2, 3, 4, 5, 1, 4, 3, 5, 5, 1, 2, 3, 4, 5, 1, 2, 3, 4, 5, 2, 3, 4, 5, 2, 3, 4, 5, 1, 2, 3, 4, 1, 2, 4, 1, 1, 2, 3, 4, 5, 1, 2, 3, 4, 5, 1, 2, 3, 4, 2, 3, 4, 5, 2, 4, 5, 1, 4, 1, 2, 5, 4, 1, 2, 3, 4, 3, 4, 5, 2, 5, 4, 4, 5, 1, 2, 3, 4, 5, 3, 4, 5, 1, 5, 2, 5, 4, 1, 2, 3, 4, 5, 3, 5, 1, 2, 3, 4, 1, 2, 3, 4, 5, 1, 2, 3, 4, 5, 1, 2, 4, 1, 5, 1, 2, 3, 4, 5, 2, 3, 4, 1, 2, 3, 4, 5, 5, 1, 2, 3, 4, 5, 2, 2, 5, 1, 2, 3, 4, 2, 4, 5, 5, 1, 2, 3, 4, 1, 2, 3, 4, 5, 1, 2, 3, 4, 5, 1, 1, 2, 3, 4, 2, 1, 2, 3, 4, 1, 2, 3, 4, 5, 1, 1, 2, 3, 4, 4, 1, 1, 1, 2, 3, 4, 5, 1, 2, 3, 4, 5, 2, 4, 2, 2, 3, 1, 2, 3, 4, 5, 2, 1, 2, 3, 4, 5, 2, 3, 5, 1, 2, 3, 4, 5, 1, 2, 3, 4, 5, 1, 2, 4, 1, 2, 3, 4, 5, 1, 2, 3, 5, 1, 4, 1, 2, 1, 2, 3, 4, 1, 2, 3, 4, 5, 1, 2, 3, 4, 1, 2, 3, 4, 5, 1, 2, 3, 4, 5, 1, 2, 3, 4, 5, 2, 2, 3, 4, 5, 2, 1, 1, 3, 4, 3, 3, 1, 3, 3, 1, 1, 2, 3, 4, 5, 1, 3, 4, 1, 1, 2, 3, 4, 5, 2, 3, 4, 5, 4, 1, 3, 4, 5, 4, 4, 1, 2, 3, 4, 5, 2, 1, 2, 3, 4, 5, 1, 2, 3, 4, 5, 1, 2, 3, 4, 5, 3, 1, 2, 3, 4, 5, 1, 5, 2, 1, 2, 3, 4, 5, 1, 2, 3, 4, 5, 3, 4, 5, 4, 1, 2, 3, 4, 5, 1, 2, 3, 4, 1, 2, 3, 4, 5, 4, 2, 4, 5, 5, 1, 2, 3, 4, 5, 3, 4, 5, 2, 3, 4, 5, 3, 1, 2, 4, 1, 2, 3, 4, 5, 4, 1, 4, 2, 4, 5, 5, 2, 1, 2, 3, 4, 5, 2, 4, 1, 2, 3, 4, 5, 4, 1, 2, 3, 4, 1, 2, 3, 4, 5, 3, 4, 5, 3, 4, 1, 2, 3, 4, 5, 1, 2, 3, 4, 5, 1, 2, 3, 4, 5, 1, 2, 3, 4, 5, 4, 2, 3, 4, 5, 3, 3, 1, 2, 3, 4, 5, 1, 2, 3, 4, 5, 2, 4, 5, 5, 1, 3, 1, 2, 3, 4, 5, 1, 3, 1, 2, 3, 5, 5, 1, 1, 3, 4, 2, 1, 4, 1, 2, 3, 4, 5, 1, 2, 3, 5, 1, 2, 3, 4, 5, 1, 2, 3, 4, 1, 2, 3, 4, 5, 2, 3, 4, 5, 1, 2, 3, 4, 5, 1, 2, 3, 4, 1, 2, 3, 4, 5, 3, 4, 5, 1, 2, 4, 5, 1, 2, 3, 4, 5, 1, 2, 3, 4, 1, 2, 3, 4, 5, 3, 5, 5, 1, 2, 3, 4, 5, 3, 1, 2, 3, 4, 1, 2, 3, 4, 5, 1, 2, 3, 4, 5, 2, 3, 4, 5, 1, 3, 3, 1, 2, 4, 5, 1, 2, 3, 4, 1, 2, 3, 4, 5, 1, 3, 4, 1, 2, 3, 4, 5, 1, 2, 3, 4, 5, 2, 5, 1, 2, 3, 4, 5, 1, 2, 3, 4, 5, 1, 2, 3, 1, 2, 3, 4, 5, 1, 1, 5, 5, 1, 2, 3, 4, 5, 2, 1, 2, 3, 4, 5, 1, 2, 3, 4, 5, 1, 2, 3, 4, 2, 3, 2, 1, 5, 1, 5, 1, 2, 3, 4, 5, 1, 2, 3, 4, 5, 1, 2, 3, 4, 5, 3, 2, 5, 4, 4, 1, 2, 3, 4, 5, 1, 2, 3, 4, 5, 1, 3, 4, 1, 2, 4, 5, 2, 5, 5, 2, 1, 2, 3, 4, 1, 3, 4, 5, 2, 5, 1, 2, 3, 4, 5, 1, 2, 3, 4, 5, 5, 3, 4, 5, 1, 2, 3, 4, 5, 1, 2, 3, 4, 5, 1, 4, 5, 1, 2, 3, 4, 5, 1, 3, 4, 1, 4, 5, 2, 3, 4, 5, 1, 2, 3, 4, 5, 2, 3, 4, 5, 3, 1, 2, 1, 2, 3, 4, 5, 1, 2, 3, 4, 5, 1, 2, 3, 4, 5, 1, 2, 3, 4, 5, 1, 2, 3, 4, 5, 2, 5, 3, 1, 2, 3, 4, 1, 2, 3, 4, 5, 5, 1, 2, 1, 3, 1, 2, 3, 4, 5, 1, 2, 3, 4, 1, 2, 1, 2, 3, 4, 5, 1, 2, 3, 4, 5, 1, 2, 3, 4, 5, 1, 2, 3, 4, 5, 1, 1, 2, 3, 1, 2, 3, 4, 5, 1, 2, 3, 4, 5, 4, 5, 2, 5, 1, 2, 3, 4, 4, 2, 3, 4, 5, 1, 2, 3, 4, 5, 2, 3, 5, 2, 1, 2, 3, 4, 5, 1, 4, 1, 2, 3, 4, 5, 2, 3, 4, 5, 1, 1, 2, 3, 4, 1, 2, 3, 4, 5, 1, 3, 4, 1, 2, 3, 4, 5, 1, 2, 4, 5, 4, 1, 2, 3, 4, 5, 5, 3, 1, 2, 3, 4, 5, 4, 1, 2, 5, 1, 5, 1, 2, 4, 5, 1, 2, 3, 4, 5, 1, 2, 3, 4, 5, 1, 2, 3, 4, 5, 1, 2, 4, 5, 1, 2, 3, 4, 1, 2, 3, 4, 5, 5, 1, 2, 3, 4, 5, 1, 2, 3, 4, 5, 1, 1, 2, 3, 4, 5, 1, 2, 3, 4, 5, 4, 2, 1, 2, 3, 4, 5, 5, 3, 5, 2, 4, 1, 2, 3, 4, 5, 3, 2, 2, 2, 5, 1, 2, 3, 4, 5, 1, 2, 3, 4, 5, 1, 2, 3, 4, 5, 1, 4, 3, 1, 2, 3, 4, 5, 1, 2, 3, 4, 1, 2, 3, 4, 5, 5, 5, 1, 4, 5, 1, 1, 2, 3, 4, 5, 4, 5, 2, 1, 2, 3, 4, 5, 2, 3, 4, 5, 1, 2, 3, 4, 5, 4, 5, 2, 3, 4, 5, 2, 3, 4, 5, 2, 3, 4, 1, 2, 3, 4, 5, 1, 2, 3, 4, 2, 3, 5, 1, 2, 3, 4, 5, 1, 2, 3, 4, 5, 3, 4, 1, 2, 3, 4, 5, 4], \"Freq\": [0.9958106001935678, 0.07764154027709051, 0.1756177696743714, 0.2551079180532974, 0.28283703958082973, 0.2088927155074102, 0.049686478660882966, 0.9291371509585115, 0.01987459146435319, 0.997741642416298, 0.9813900303056076, 0.00317334236405089, 0.00317334236405089, 0.894882546662351, 0.03808010836861068, 0.06029350491696691, 0.9879741034601602, 0.010977490038446225, 0.94843089793637, 0.04215248435272756, 0.9604647033003352, 0.06725230353159081, 0.9102251426258412, 0.011595224746826003, 0.0046380898987304015, 0.005797612373413002, 0.008355082815495681, 0.12950378364018306, 0.05430803830072193, 0.7937328674720898, 0.013925138025826136, 0.01453386156029874, 0.17925095924368445, 0.04360158468089622, 0.760605421655634, 0.017065718658545254, 0.17634575947163428, 0.06257430174799926, 0.7452030480898094, 0.10738511268378334, 0.07227844122946955, 0.7578910837490093, 0.061952949625259615, 0.23005461034118, 0.0038729732380670032, 0.7660741064896532, 0.9943461550159435, 0.012999271072439263, 0.06128227791292795, 0.12070751710122173, 0.7576717996507456, 0.04828300684048869, 0.0024451897149525906, 0.03912303543924145, 0.004890379429905181, 0.9511787991165578, 0.0024451897149525906, 0.5156930606188616, 0.08040143275365319, 0.16080286550730638, 0.2429333613309306, 0.9599922196655868, 0.02562607567895817, 0.01182741954413454, 0.00197123659068909, 0.1961608031555072, 0.08718257918022543, 0.7083584558393317, 0.9887780348564092, 0.9806050896372516, 0.9950121008009485, 0.07965646001655313, 0.9027732135209354, 0.9961082307922592, 0.00822350427465598, 0.01644700854931196, 0.024670512823967938, 0.9539264958600936, 0.9604966249869274, 0.03157797123244693, 0.007894492808111733, 0.9862568676688077, 0.9802346108560688, 0.9834420753635013, 0.857208625957729, 0.14179390805315817, 0.09081076711851767, 0.16250347800155793, 0.023897570294346752, 0.038236112470954806, 0.6834705104183172, 0.04140555177638383, 0.9243180528904508, 0.032880879351834216, 0.08878432777943417, 0.9100393597392001, 0.9677973574583687, 0.03052988509332393, 0.9810104707695164, 0.002806259353555285, 0.023853204505219924, 0.6580678184087143, 0.12066915220287726, 0.1950350250720923, 0.028155076367624262, 0.9713501346830371, 0.8446001514283277, 0.0015356366389605958, 0.0015356366389605958, 0.15049239061813838, 0.37299213781867296, 0.2006569452018792, 0.219092803016699, 0.20252724961787544, 0.004809354212561685, 0.02923264672088885, 0.06401579598371862, 0.704913822826497, 0.1861268519064189, 0.01554140711743458, 0.9835241607387059, 0.0024224733023120834, 0.0145348398138725, 0.9889931784456694, 0.9547874918070992, 0.4548352099733988, 0.11904648454495786, 0.2833823925581062, 0.10513616162258507, 0.03752552230221498, 0.9251572379219708, 0.002681615182382524, 0.07240360992432815, 0.3756330852831832, 0.19181263929354034, 0.007992193303897515, 0.003996096651948757, 0.4195901484546195, 0.9489067308297507, 0.754342123608746, 0.16725740538348682, 0.02357319136277331, 0.019083059674626014, 0.034798520583141555, 0.9967468016626579, 0.9892194154041605, 0.9818316494703188, 0.017118808175042376, 0.017118808175042376, 0.06890320290454556, 0.8970255483722205, 0.9943091650287275, 0.9680649096808107, 0.017286873387157335, 0.9694596127518141, 0.829525527140226, 0.05454066921564177, 0.02029420249884345, 0.09512907421332867, 0.005405315675891577, 0.032431894055349464, 0.8864717708462186, 0.06756644594864471, 0.010810631351783154, 0.004904418661644217, 0.13668401574408445, 0.5552654867357191, 0.2518312364957313, 0.051603013744256535, 0.9923540423764934, 0.7260295661345936, 0.13638124446727173, 0.07888719042714737, 0.058831125064313296, 0.9731934717004316, 0.13453256300586874, 0.20769939551783242, 0.0023602204036117323, 0.6561412722040616, 0.04074484320554698, 0.7397452644207084, 0.027163228803697984, 0.09688218273318948, 0.09597674177306621, 0.9869769227668099, 0.8134299313822982, 0.00672256141638263, 0.008963415221843506, 0.17030488921502662, 0.9857203394663984, 0.9882177016034577, 0.9957916268572341, 0.030569694905995603, 0.026625218143931654, 0.7287420817913145, 0.14298728262481814, 0.07198670090766707, 0.4981100779399655, 0.1203007368392867, 0.25685833000820674, 0.07673236187586936, 0.04877056898890002, 0.9771664618507439, 0.9607495113502147, 0.9833821697646525, 0.9840298220815609, 0.011056514854848999, 0.039722383756844046, 0.027309138832830284, 0.2929525802067248, 0.11171920431612388, 0.5263215847781836, 0.9806913499431082, 0.41811094964649703, 0.1555618680302408, 0.22473463543499217, 0.1801566297741524, 0.021212982004123748, 0.0226515794026966, 0.0453031588053932, 0.906063176107864, 0.01964957744464453, 0.01964957744464453, 0.8007202808692646, 0.1585065913867992, 0.0013099718296429687, 0.8132506316815769, 0.06947939570388822, 0.013668077843387846, 0.10364959031235783, 0.0011390064869489871, 0.11354503978604479, 0.87051197169301, 0.012616115531782754, 0.26558631959224777, 0.42493811134759646, 0.20672664876369556, 0.0988514332381957, 0.0038966332604268017, 0.040440885572915836, 0.016176354229166336, 0.0727935940312485, 0.8654349512603988, 0.9919649509004667, 0.00996949699397454, 0.9921318193774492, 0.9934860417378034, 0.9419238126180637, 0.052329100701003536, 0.0029071722611668633, 0.0029071722611668633, 0.23608971262239212, 0.2576776824536225, 0.2659454155804767, 0.22506606845325317, 0.01515751073256603, 0.3941295823102148, 0.07599384760711926, 0.07221775580055433, 0.4573791200701774, 0.3953794852243177, 0.06855090899686068, 0.38707028413378913, 0.14056398511477494, 0.009001634514739282, 0.08904336849899766, 0.1012202394048435, 0.12633503564815052, 0.6400467769885216, 0.042619048170460416, 0.37050183164553435, 0.3259876552706461, 0.14703167348069143, 0.12544904251104866, 0.031474670164062385, 0.9862579324036455, 0.023235694831853174, 0.8586142471199077, 0.10124124176736027, 0.01604369405056529, 0.9731690366163082, 0.9894071814209123, 0.014314819388731874, 0.9764751797313529, 0.008179896793561072, 0.9885857066777491, 0.9723567029846185, 0.039056282157169595, 0.960784541066372, 0.964209629505123, 0.9936545501320647, 0.018417326134786555, 0.21179925055004536, 0.009208663067393277, 0.06446064147175294, 0.6906497300544958, 0.03165772946433565, 0.015828864732167824, 0.9497318839300695, 0.9910745936638178, 0.8081148390350295, 0.06347262145677435, 0.10217543941822212, 0.009288676310747465, 0.01702923990303702, 0.11329405215225569, 0.7663083805298405, 0.10385288113956771, 0.01573528502114662, 0.9765912846233814, 0.04023467597252962, 0.006705779328754936, 0.9455148853544459, 0.9489240114154994, 0.9899915096131113, 0.9984951962745141, 0.7285135896141309, 0.041989255885540686, 0.046888002405520435, 0.14556275373654104, 0.03709050936556094, 0.9855243761496625, 0.43783493128604445, 0.3258136194352672, 0.142772260201971, 0.08053819806265032, 0.012812895146330732, 0.1178645914640087, 0.20791313934251135, 0.5006887845391089, 0.1409660513909544, 0.03300208560992243, 0.048577541181656574, 0.5697569236899381, 0.04116740778106489, 0.3293392622485191, 0.010703526023076872, 0.9660725542474967, 0.39660164543871557, 0.2400145880163101, 0.04577818345409123, 0.3054731120207583, 0.01283500470675455, 0.983316533225468, 0.012291456665318348, 0.9795623238426172, 0.7897636752694209, 0.1941105900662191, 0.005709135001947621, 0.007612180002596828, 0.001903045000649207, 0.0015854896706094437, 0.02695332440036054, 0.7420091658452196, 0.196600719155571, 0.03170979341218887, 0.9614162958290657, 0.029431111096808134, 0.009810370365602712, 0.9932741021483259, 0.08395046030019576, 0.20750019432689895, 0.48152716851433036, 0.18453261556552464, 0.04197523015009788, 0.7277606878011652, 0.11139194201038244, 0.13985877163525795, 0.021040700157516683, 0.7021026117930524, 0.18752360897257475, 0.0693215236960229, 0.03110581191488207, 0.008887374832823449, 0.9725915965298869, 0.9833155725100824, 0.9583590881818417, 0.023958977204546043, 0.9351884896377047, 0.02061547837085832, 0.1839534993091973, 0.0019822575356594537, 0.7877491446710668, 0.00555032109984647, 0.978555114416978, 0.010410160791669978, 0.010410160791669978, 0.04064057433902831, 0.4766030990667866, 0.04064057433902831, 0.4433517200621271, 0.9759746104226695, 0.016204044695410653, 0.016204044695410653, 0.9560386370292286, 0.0055856772343665035, 0.025135547554649265, 0.8308694886120174, 0.11590280261310494, 0.023739128246057638, 0.9898528843923462, 0.022903140847823144, 0.961931915608572, 0.010379387477683726, 0.07265571234378608, 0.9133860980361679, 0.9351888565602609, 0.9907887027706682, 0.011794179038848187, 0.8281198567991263, 0.08003192919218413, 0.01853370991819001, 0.06065577791407639, 0.9900164387545037, 0.9693326718698604, 0.2718583584113648, 0.5579055664266631, 0.0629984922414645, 0.09251129941764606, 0.014756403588090784, 0.9819408809827335, 0.8023447090851923, 0.13643932870230427, 0.03461893414834586, 0.024436894692950017, 0.2997596626909042, 0.15129379201852242, 0.22906162903738905, 0.2634680054154331, 0.05655842692281211, 0.21469721705965078, 0.050516992249329595, 0.7324963876152791, 0.984200592305452, 0.008270593212650857, 0.0018702002864375371, 0.08415901288968917, 0.719092010135233, 0.1421352217692528, 0.05236560802025104, 0.011700142555929107, 0.011700142555929107, 0.8541104065828249, 0.11700142555929108, 0.005850071277964553, 0.0052538788598817795, 0.028020687252702823, 0.8248589810014393, 0.10332628424434166, 0.040279737925760305, 0.3140246353093995, 0.07924911932098411, 0.08519280327005792, 0.516109889577909, 0.004953069957561507, 0.97560383080694, 0.0027143538667184853, 0.9771673920186547, 0.010857415466873941, 0.008143061600155457, 0.9946897446853578, 0.9834730971126608, 0.005809062868591799, 0.8713594302887699, 0.10804856935580748, 0.015103563458338678, 0.0011618125737183598, 0.0021083060463004018, 0.016866448370403214, 0.8011562975941526, 0.15179803533362893, 0.027407978601905223, 0.03545460333317322, 0.9109105779446043, 0.0518182664100224, 0.9759775407078509, 0.9977739373960346, 0.9596965371187396, 0.03813577229709874, 0.034668883906453396, 0.8493876557081083, 0.034668883906453396, 0.04506954907838941, 0.9869595297606858, 0.9780284363035542, 0.3363562077198687, 0.23038096419169088, 0.004607619283833818, 0.4239009741127112, 0.9484984588837991, 0.9973155819182262, 0.03067476474395787, 0.0034083071937730967, 0.9645509358377864, 0.9876527544752397, 0.9762501228782624, 0.018595240435776428, 0.35527285600307745, 0.5671652154482528, 0.006356770783355262, 0.03390277751122806, 0.03743431683531432, 0.024124252371522336, 0.024124252371522336, 0.04824850474304467, 0.8925973377463264, 0.05308635447832543, 0.05800175767076297, 0.25265172409128955, 0.5967299475619173, 0.040306306177987826, 0.9539431433270857, 0.0027811753449769262, 0.019468227414838484, 0.02503057810479234, 0.010418028773040138, 0.06459177839284885, 0.825107878824779, 0.060424566883632805, 0.03958850933755253, 0.03715265275104111, 0.9102399924005073, 0.03715265275104111, 0.013932244781640417, 0.10816518231626927, 0.7547614751293918, 0.08541457201358532, 0.04510208709128571, 0.006386136225314791, 0.0025838399319869348, 0.9658393665767162, 0.025838399319869348, 0.0056844478503712565, 0.2738672448315338, 0.20657415038721405, 0.11267680930211675, 0.18622972648544298, 0.22222370723473026, 0.08313414742143292, 0.8993603221045925, 0.015115299531169621, 0.8321089780986473, 0.15931394278766442, 0.007352951205584512, 0.0012254918675974186, 0.10943149312936702, 0.18759684536462917, 0.12897283118818256, 0.16805550730581365, 0.41036809923512635, 0.23201536290721067, 0.0021683678776374827, 0.12793370478061147, 0.63750015602542, 0.2593264914496134, 0.3584408049355913, 0.06924424640801195, 0.13577303217257244, 0.17650494182434417, 0.029449443749046234, 0.9423821999694795, 0.9817936120568235, 0.02775127240478206, 0.8355383097007355, 0.03712670227126249, 0.09937955658469251, 0.000375017194659217, 0.9678389409809462, 0.20831039976529092, 0.029911236889375106, 0.6078390639305156, 0.15489747674854965, 0.004057510412960852, 0.02840257289072597, 0.6256681056785635, 0.2402046164472825, 0.10062625824142915, 0.004208902118968554, 0.03647715169772747, 0.8950931839673125, 0.0547157275465912, 0.008417804237937108, 0.005697050554427163, 0.8830428359362104, 0.09684985942526178, 0.011394101108854327, 0.9794607761271461, 0.013059477015028614, 0.9936653569021582, 0.019729546440077843, 0.11837727864046707, 0.019729546440077843, 0.8483704969233473, 0.06903894377406836, 0.12006772830272756, 0.06903894377406836, 0.7414182222693427, 0.7976944889353081, 0.14726667488036457, 0.035940081369612784, 0.012272222906697048, 0.006136111453348524, 0.9890938211405671, 0.007493135008640659, 0.0024977116695468864, 0.014139592585306683, 0.27774199721138126, 0.050498544947523864, 0.6574910552167608, 0.9832099633637409, 0.025421271819855887, 0.21705855169261565, 0.21510306924493441, 0.3715416650594322, 0.17012697294826631, 0.038920052157854705, 0.934081251788513, 0.12879406830541404, 0.01300950184903172, 0.35711082575592074, 0.4780991929519157, 0.02276662823580551, 0.10791240986244052, 0.5574667989306344, 0.2724425414912736, 0.05758554607009158, 0.004355209366645582, 0.9184318568508514, 0.011032214496706924, 0.06895134060441828, 0.008311061363790416, 0.07479955227411374, 0.2726028127323256, 0.38397103500711716, 0.25930511455026095, 0.9940427794030052, 0.9921930269634569, 0.9703003661762778, 0.974689078582016, 0.007111624930788475, 0.12800924875419256, 0.024890687257759662, 0.25957430997377934, 0.583153244324655, 0.9717375999157561, 0.08693183267221591, 0.7542614893618733, 0.040909097728101605, 0.08181819545620321, 0.0357954605120889, 0.05527174713585441, 0.4390335369086617, 0.08416379677505104, 0.4026044308418486, 0.018214553033406567, 0.029169845765654116, 0.02187738432424059, 0.06563215297272176, 0.8823878344110371, 0.9977080709178945, 0.966072952731393, 0.9922443064786359, 0.985625810882573, 0.967220628336509, 0.023207863737716102, 0.9515224132463602, 0.3292522875203631, 0.32370931971699, 0.12083669811353395, 0.18125504717030091, 0.04489803920732225, 0.7072917390233209, 0.2585673078724599, 0.005797473270682958, 0.026668377045141606, 0.002318989308273183, 0.07885343940634967, 0.14764048229273982, 0.32715788689868486, 0.40433359355170795, 0.041943318833164725, 0.9723560572293303, 0.9861937428536883, 0.9818221522195363, 0.981008515345453, 0.9693363105402064, 0.03994080030555033, 0.10065081676998683, 0.7061533494021298, 0.11662713689220695, 0.03514790426888429, 0.06881138135288616, 0.013762276270577231, 0.8592821246441659, 0.055049105082308925, 0.002580426800733231, 0.043194336369281855, 0.932997665576488, 0.025916601821569112, 0.03631188369639788, 0.024207922464265254, 0.9320050148742123, 0.012103961232132627, 0.009840983735199801, 0.9840983735199801, 0.9694608505108373, 0.9784359232142206, 0.9367290703687393, 0.014636391724511552, 0.021954587586767327, 0.025613685517895213, 0.9950125821311513, 0.1653085729068953, 0.8201848424995959, 0.012716044069761175, 0.03206810882103746, 0.9299751558100863, 0.09165935068933527, 0.441786684067852, 0.2038139599179008, 0.13492711871659913, 0.12781070950158863, 0.0028347044081420514, 0.12897905057046333, 0.6009573345261149, 0.15732609465188385, 0.10913611971346898, 0.9759767597645895, 0.9320007440772757, 0.011650009300965946, 0.046600037203863784, 0.01673066788972404, 0.1338453431177923, 0.044108124436545194, 0.655537987315551, 0.1490550411993596, 0.27011593703520587, 0.2079986832222317, 0.13270504223680846, 0.2663512549859347, 0.12329333711363055, 0.027593990326528102, 0.04139098548979215, 0.9243986759386914, 0.06104616406615582, 0.07400802081992863, 0.2667633744808727, 0.5966635350849613, 0.0012543732342360785, 0.9441813095223505, 0.014092258351079858, 0.03875371046546961, 0.07808983953222297, 0.16733537042619206, 0.7585870125987374, 0.03275686438685302, 0.09827059316055906, 0.03275686438685302, 0.8189216096713255, 0.006183577805659135, 0.7760390146102215, 0.1638648118499671, 0.037101466833954815, 0.018550733416977407, 0.8398570501138407, 0.04786750026555569, 0.1000865914643437, 0.013054772799697006, 0.9660682260964107, 0.028869505804194437, 0.9719400287412127, 0.295561560021254, 0.47352846738751525, 0.11181991524782789, 0.08294622821200379, 0.036223352826761146, 0.3524675107481036, 0.2372011085845346, 0.3443702841498364, 0.055251663847000025, 0.010478763833051729, 0.05046696035970549, 0.10552182620665693, 0.5325247440553339, 0.28805492309208525, 0.023594942505836332, 0.5023028414635242, 0.12653065873368244, 0.15422416139992234, 0.1971968379509843, 0.020053915723828912, 0.3632402424711405, 0.1685434725066092, 0.26589185748887484, 0.18307308220545482, 0.01937281293179416, 0.21386421446702078, 0.7722874411309083, 0.9678366737741749, 0.7491480647279295, 0.2161970925053756, 0.0016759464535300436, 0.03351892907060087, 0.15411386778380848, 0.4905331645313904, 0.20485867790774542, 0.1137059634258587, 0.03758874823995329, 0.9351865512874996, 0.9842114295948475, 0.9818258061508031, 0.9622279128295751, 0.038183647334506944, 0.322318149369047, 0.4257955595786326, 0.08040474441961043, 0.11885918740290237, 0.051738705104792795, 0.016704703154921965, 0.9154177328897237, 0.026727525047875147, 0.04009128757181272, 0.07752866045165162, 0.9148381933294891, 0.7856958743284941, 0.06331234918631194, 0.02387186936533073, 0.1172835320992336, 0.009341166273390288, 0.010432597099026478, 0.5977878137742172, 0.3150644323905996, 0.02295171361785825, 0.054249504914937685, 0.002573436533126787, 0.9109965327268826, 0.020587492265014298, 0.005146873066253574, 0.06176247679504289, 0.35902981709429743, 0.37997322309146475, 0.17113754614828178, 0.055051238621125605, 0.03470621565244875, 0.994345090740549, 0.9185686601042098, 0.0374925983716004, 0.04217917316805045, 0.2817206065664613, 0.31377634298102586, 0.1874027667313003, 0.14425081386554037, 0.0733583198717919, 0.0063019497626368385, 0.938990514632889, 0.018905849287910514, 0.025207799050547354, 0.012603899525273677, 0.9591465645169834, 0.031971552150566115, 0.06602958900841041, 0.9244142461177458, 0.011571013372029773, 0.023142026744059546, 0.011571013372029773, 0.9603941098784711, 0.978399307232986, 0.3939446035650638, 0.05695584629856344, 0.09967273102248603, 0.446154129338747, 0.004606006275493, 0.6463762139941843, 0.25640101600244364, 0.0030706708503286666, 0.09058479008469567, 0.8393498581690554, 0.08835261664937426, 0.0711729411897737, 0.9917016087052681, 0.8917572611331946, 0.07450713408945751, 0.004656695880591095, 0.0023283479402955473, 0.02561182734325102, 0.9796967898791807, 0.014957202898918791, 0.22768150698949585, 0.5437754204731946, 0.021907498954315752, 0.1510052606493907, 0.05555115806272923, 0.010041153550810204, 0.9187655498991337, 0.010041153550810204, 0.05522634452945612, 0.9859205685779561, 0.8438055574416171, 0.030870935028351847, 0.011147837649127057, 0.11405095441029987, 0.23859334179079442, 0.03672856932101728, 0.26621094817946633, 0.4564022993921759, 0.00199302314145055, 0.990534015724575, 0.9709661938003472, 0.9878538615716617, 0.5476332098410696, 0.2623438421445347, 0.06271776984213367, 0.11396277690826727, 0.013767315331200073, 0.015298541244275323, 0.021855058920393317, 0.9594370866052667, 0.0021855058920393316, 0.9725922261068523, 0.3308250052461005, 0.23974194388733103, 0.15479401101386728, 0.26711405559100265, 0.007550927366530111, 0.9787850934181622, 0.9660669428311832, 0.17636797098864176, 0.1863041947063117, 0.1353810481532532, 0.291876571706555, 0.2111447540004866, 0.9607510316368673, 0.0562430987915964, 0.9139503553634415, 0.0281215493957982, 0.09653348100104013, 0.8688013290093611, 0.8484041660505507, 0.016581188913040078, 0.09119653902172042, 0.0414529722826002, 0.3734375127814568, 0.25241266968974585, 0.18098210480687055, 0.14693230185752065, 0.046263319224660156, 0.02215699928673736, 0.13737339557777165, 0.4154437366263255, 0.28582529079891195, 0.1384812455421085, 0.382370198637046, 0.21407345627919128, 0.16021849872467775, 0.0632795751265534, 0.17906773386875746, 0.08696957984740326, 0.09939380553988944, 0.037272677077458544, 0.7703019929341431, 0.3478781868920863, 0.024597447558026307, 0.010541763239154131, 0.6166931494905167, 0.3293330900602212, 0.05638039313530961, 0.08680790689087353, 0.48594529321385904, 0.04116663625752765, 0.9882407835246746, 0.09129918698782061, 0.09930788760078732, 0.6775360718569845, 0.11532528882672076, 0.01601740122593344, 0.7290963550720204, 0.06409638286347433, 0.05768674457712689, 0.12178312744060121, 0.027240962716976586, 0.981098915758932, 0.927957333779094, 0.03241772345079804, 0.00810443086269951, 0.00810443086269951, 0.024313292588098532, 0.0070196373357471155, 0.8774546669683894, 0.03509818667873558, 0.0035098186678735577, 0.07721601069321826, 0.9953252455682624, 0.9818253404760352, 0.44714240996509164, 0.05075093064119917, 0.1853744519210117, 0.3034371432021171, 0.012821287740934526, 0.9818092807736877, 0.9935634404426555, 0.975975755394005, 0.017858147346835634, 0.9643399567291242, 0.02178697706414389, 0.19608279357729502, 0.5163102489163156, 0.23061309684876835, 0.03494137831041945, 0.9868116277136639, 0.9962684217484259, 0.9912042681039757, 0.02870089994184257, 0.9471296980808048, 0.3057640010493704, 0.3888636250279449, 0.07812785160378802, 0.16193772877876061, 0.06534329406862271, 0.1827966242548376, 0.45604930999660515, 0.15547135568066084, 0.11495457813964013, 0.09092718680717438, 0.08785580516624995, 0.16249436530748884, 0.2627899304972786, 0.4416114808356635, 0.045094130085331835, 0.9915439683879985, 0.9683099682988877, 0.9852599104478655, 0.008879311102037383, 0.9101293879588318, 0.04661638328569626, 0.02219827775509346, 0.01109913887754673, 0.0018729738570453438, 0.7978868631013164, 0.18542441184748903, 0.01498379085636275, 0.03387222458519988, 0.06774444917039976, 0.877290616756677, 0.003387222458519988, 0.013548889834079952, 0.9818221415337309, 0.9619431443937209, 0.05674837318105416, 0.011349674636210833, 0.9306733201692883, 0.9937359460561882, 0.2407239775150626, 0.4425430697751656, 0.23586086685819266, 0.051062661897134494, 0.02998918238403137, 0.03116002523848102, 0.9348007571544306, 0.9912045176466298, 0.4166899835182455, 0.175115284212731, 0.3322970754639173, 0.049580833481917816, 0.02584532809163801, 0.01614211724591574, 0.9308620945144743, 0.048426351737747224, 0.00538070574863858, 0.6399705576395472, 0.09826959070353453, 0.03492225124175194, 0.21603067047223293, 0.01137003528801226, 0.9802645682547686, 0.9817951935818419, 0.00742224156967246, 0.022266724709017378, 0.9352024377787299, 0.02968896627868984, 0.10612384537750173, 0.14357932021661998, 0.03745547483911826, 0.7054114428033939, 0.9817771143611328, 0.9771136364523619, 0.9940162924718677, 0.08648587493797058, 0.20540395297768013, 0.10270197648884007, 0.08648587493797058, 0.5189152496278234, 0.15956546114116515, 0.006580019016130523, 0.12666536606051254, 0.7073520442340312, 0.05561813388016779, 0.013086619736510069, 0.9324216562263424, 0.074987061750185, 0.2854679868007043, 0.23788998900058692, 0.2296155546005665, 0.1722116659504249, 0.5514090336834646, 0.2788198221167801, 0.011942003554349986, 0.0695751511427347, 0.08774776524718032, 0.9737389346567576, 0.01803220249364366, 0.031099985765419516, 0.192819911745601, 0.1741599202863493, 0.06841996868392293, 0.5349197551652157, 0.9783959027680887], \"Term\": [\"accenture\", \"accord\", \"accord\", \"accord\", \"accord\", \"accord\", \"accuracy\", \"accuracy\", \"accuracy\", \"acquia\", \"acquirer\", \"agency\", \"agency\", \"agency\", \"agency\", \"agency\", \"aggregation\", \"aggregation\", \"agriculture\", \"agriculture\", \"airpods\", \"algorithm\", \"algorithm\", \"algorithm\", \"algorithm\", \"algorithm\", \"amazon\", \"amazon\", \"amazon\", \"amazon\", \"amazon\", \"america\", \"america\", \"america\", \"america\", \"american\", \"american\", \"american\", \"american\", \"analytic\", \"analytic\", \"analytic\", \"analytic\", \"android\", \"android\", \"android\", \"angular\", \"announce\", \"announce\", \"announce\", \"announce\", \"announce\", \"apple\", \"apple\", \"apple\", \"apple\", \"apple\", \"application\", \"application\", \"application\", \"application\", \"artificial\", \"artificial\", \"artificial\", \"artificial\", \"artist\", \"artist\", \"artist\", \"async\", \"autofill\", \"babel\", \"bacteria\", \"bacteria\", \"balancer\", \"balancing\", \"balancing\", \"balancing\", \"balancing\", \"banking\", \"banking\", \"banking\", \"bayesian\", \"beacon\", \"bigtable\", \"bitcoin\", \"bitcoin\", \"black\", \"black\", \"black\", \"black\", \"black\", \"blockchain\", \"blockchain\", \"blockchain\", \"boards\", \"boards\", \"brain\", \"brain\", \"braintree\", \"brand\", \"brand\", \"brand\", \"brand\", \"brand\", \"brazil\", \"brazil\", \"browser\", \"browser\", \"browser\", \"browser\", \"build\", \"build\", \"build\", \"build\", \"build\", \"business\", \"business\", \"business\", \"business\", \"business\", \"cache\", \"cache\", \"cache\", \"callback\", \"campbell\", \"change\", \"change\", \"change\", \"change\", \"change\", \"chatbot\", \"chatbot\", \"chatbot\", \"child\", \"child\", \"child\", \"child\", \"child\", \"civil\", \"class\", \"class\", \"class\", \"class\", \"class\", \"classification\", \"classifier\", \"clinton\", \"cloud\", \"cloud\", \"cloud\", \"cloud\", \"coaching\", \"coindesk\", \"coindesk\", \"coinfest\", \"command\", \"command\", \"command\", \"command\", \"commerce\", \"commerce\", \"commerce\", \"commerce\", \"commerce\", \"company\", \"company\", \"company\", \"company\", \"company\", \"compiler\", \"component\", \"component\", \"component\", \"component\", \"computational\", \"compute\", \"compute\", \"compute\", \"compute\", \"computer\", \"computer\", \"computer\", \"computer\", \"computer\", \"config\", \"configuration\", \"configuration\", \"configuration\", \"configuration\", \"consensys\", \"constraintlayout\", \"constructor\", \"consumer\", \"consumer\", \"consumer\", \"consumer\", \"consumer\", \"content\", \"content\", \"content\", \"content\", \"content\", \"convolutional\", \"corda\", \"corrado\", \"cortana\", \"cortana\", \"country\", \"country\", \"country\", \"country\", \"country\", \"cozmo\", \"create\", \"create\", \"create\", \"create\", \"create\", \"credits\", \"credits\", \"credits\", \"customer\", \"customer\", \"customer\", \"customer\", \"customer\", \"database\", \"database\", \"database\", \"database\", \"database\", \"dataset\", \"dataset\", \"dataset\", \"datum\", \"datum\", \"datum\", \"datum\", \"datum\", \"death\", \"death\", \"death\", \"death\", \"debug\", \"debug\", \"debugger\", \"deepmind\", \"dependency\", \"dependency\", \"dependency\", \"dependency\", \"design\", \"design\", \"design\", \"design\", \"design\", \"developer\", \"developer\", \"developer\", \"developer\", \"development\", \"development\", \"development\", \"development\", \"development\", \"device\", \"device\", \"device\", \"device\", \"device\", \"different\", \"different\", \"different\", \"different\", \"different\", \"differential\", \"digital\", \"digital\", \"digital\", \"digital\", \"dimensional\", \"django\", \"docker\", \"docker\", \"docker\", \"dockerfile\", \"dries\", \"drupal\", \"drupal\", \"drupalcon\", \"drush\", \"earth\", \"earth\", \"earth\", \"earth\", \"earth\", \"elastic\", \"elastic\", \"elastic\", \"elasticsearch\", \"element\", \"element\", \"element\", \"element\", \"element\", \"employee\", \"employee\", \"employee\", \"employee\", \"emulator\", \"encryption\", \"encryption\", \"encryption\", \"epidemic\", \"ether\", \"ethereum\", \"event\", \"event\", \"event\", \"event\", \"event\", \"evernote\", \"example\", \"example\", \"example\", \"example\", \"example\", \"experience\", \"experience\", \"experience\", \"experience\", \"experience\", \"facebook\", \"facebook\", \"facebook\", \"facebook\", \"facebook\", \"farming\", \"feature\", \"feature\", \"feature\", \"feature\", \"feature\", \"features\", \"features\", \"federighi\", \"filter\", \"filter\", \"filter\", \"filter\", \"filter\", \"financial\", \"financial\", \"financial\", \"financial\", \"financial\", \"fintech\", \"fintech\", \"fintech\", \"firebase\", \"focus\", \"focus\", \"focus\", \"focus\", \"focus\", \"framework\", \"framework\", \"framework\", \"framework\", \"function\", \"function\", \"function\", \"function\", \"function\", \"gchat\", \"generative\", \"globant\", \"globant\", \"goofs\", \"google\", \"google\", \"google\", \"google\", \"google\", \"governance\", \"governance\", \"governance\", \"government\", \"government\", \"government\", \"government\", \"graphene\", \"greene\", \"greene\", \"greene\", \"growth\", \"growth\", \"growth\", \"growth\", \"growth\", \"hangout\", \"hangouts\", \"hangouts\", \"headphone\", \"headphone\", \"headphone\", \"hendrix\", \"hiragana\", \"human\", \"human\", \"human\", \"human\", \"human\", \"hyperparameter\", \"ifttt\", \"image\", \"image\", \"image\", \"image\", \"image\", \"imessage\", \"implementation\", \"implementation\", \"implementation\", \"implementation\", \"include\", \"include\", \"include\", \"include\", \"include\", \"income\", \"income\", \"income\", \"incumbent\", \"incumbent\", \"industry\", \"industry\", \"industry\", \"industry\", \"industry\", \"initiative\", \"initiative\", \"initiative\", \"initiative\", \"initiative\", \"innovation\", \"innovation\", \"innovation\", \"innovation\", \"innovation\", \"instance\", \"instance\", \"instance\", \"instance\", \"instance\", \"instances\", \"insurance\", \"insurance\", \"insurance\", \"insurance\", \"insurer\", \"insurtech\", \"intelligence\", \"intelligence\", \"intelligence\", \"intelligence\", \"intelligence\", \"investment\", \"investment\", \"investment\", \"investment\", \"investment\", \"iphone\", \"iphone\", \"iphone\", \"islam\", \"javascript\", \"javetski\", \"journey\", \"journey\", \"journey\", \"journey\", \"journey\", \"jquery\", \"kelley\", \"keyword\", \"keyword\", \"keyword\", \"keyword\", \"kosher\", \"kotlin\", \"kubernetes\", \"kubernetes\", \"kubernetes\", \"kurzweil\", \"lambda\", \"lambda\", \"language\", \"language\", \"language\", \"language\", \"language\", \"latin\", \"latin\", \"latin\", \"latin\", \"launch\", \"launch\", \"launch\", \"launch\", \"launch\", \"layout\", \"layout\", \"layout\", \"layout\", \"leader\", \"leader\", \"leader\", \"leader\", \"leader\", \"leadership\", \"leadership\", \"leadership\", \"leadership\", \"learn\", \"learn\", \"learn\", \"learn\", \"learn\", \"learning\", \"learning\", \"learning\", \"learning\", \"leave\", \"leave\", \"leave\", \"leave\", \"leave\", \"ledger\", \"ledger\", \"ledger\", \"library\", \"library\", \"library\", \"library\", \"light\", \"light\", \"light\", \"light\", \"light\", \"linux\", \"linux\", \"linux\", \"linux\", \"little\", \"little\", \"little\", \"little\", \"little\", \"logout\", \"logout\", \"lynch\", \"machine\", \"machine\", \"machine\", \"machine\", \"machine\", \"magento\", \"management\", \"management\", \"management\", \"management\", \"market\", \"market\", \"market\", \"market\", \"market\", \"marketing\", \"marketing\", \"marketing\", \"marketing\", \"marketing\", \"marketplace\", \"marketplace\", \"marketplace\", \"marketplace\", \"maven\", \"maven\", \"mckinsey\", \"meditation\", \"meditation\", \"meditation\", \"meditation\", \"messaging\", \"messaging\", \"messaging\", \"messaging\", \"method\", \"method\", \"method\", \"method\", \"method\", \"microservice\", \"microservice\", \"microservice\", \"microsoft\", \"microsoft\", \"microsoft\", \"microsoft\", \"millennials\", \"million\", \"million\", \"million\", \"million\", \"million\", \"minority\", \"minority\", \"mobile\", \"mobile\", \"mobile\", \"mobile\", \"mobile\", \"model\", \"model\", \"model\", \"model\", \"model\", \"module\", \"module\", \"module\", \"money\", \"money\", \"money\", \"money\", \"money\", \"mongodb\", \"monolith\", \"mortality\", \"movile\", \"music\", \"music\", \"music\", \"music\", \"music\", \"mycroft\", \"natural\", \"natural\", \"natural\", \"natural\", \"natural\", \"network\", \"network\", \"network\", \"network\", \"network\", \"networking\", \"networking\", \"networking\", \"networking\", \"neural\", \"neurala\", \"neuron\", \"nginx\", \"nomination\", \"nuclear\", \"nuclear\", \"number\", \"number\", \"number\", \"number\", \"number\", \"object\", \"object\", \"object\", \"object\", \"object\", \"offer\", \"offer\", \"offer\", \"offer\", \"offer\", \"omnichannel\", \"openai\", \"openbazaar\", \"openshift\", \"openstack\", \"opportunity\", \"opportunity\", \"opportunity\", \"opportunity\", \"opportunity\", \"organization\", \"organization\", \"organization\", \"organization\", \"organization\", \"organizational\", \"organizational\", \"organizational\", \"packet\", \"packet\", \"packet\", \"packet\", \"palantir\", \"palantir\", \"papers\", \"parsey\", \"password\", \"password\", \"password\", \"password\", \"payload\", \"payment\", \"payment\", \"payment\", \"pebble\", \"pebble\", \"people\", \"people\", \"people\", \"people\", \"people\", \"percent\", \"percent\", \"percent\", \"percent\", \"percent\", \"performed\", \"performer\", \"performer\", \"performer\", \"phone\", \"phone\", \"phone\", \"phone\", \"phone\", \"place\", \"place\", \"place\", \"place\", \"place\", \"plague\", \"plague\", \"plague\", \"platform\", \"platform\", \"platform\", \"platform\", \"platform\", \"plugin\", \"plugin\", \"plugin\", \"pokemon\", \"pokemon\", \"pokemon\", \"political\", \"political\", \"political\", \"political\", \"predict\", \"predict\", \"predict\", \"predict\", \"predict\", \"prediction\", \"prediction\", \"prediction\", \"prediction\", \"predix\", \"probability\", \"probability\", \"problem\", \"problem\", \"problem\", \"problem\", \"problem\", \"process\", \"process\", \"process\", \"process\", \"process\", \"product\", \"product\", \"product\", \"product\", \"product\", \"project\", \"project\", \"project\", \"project\", \"project\", \"provide\", \"provide\", \"provide\", \"provide\", \"provide\", \"quantum\", \"quantum\", \"quartile\", \"query\", \"query\", \"query\", \"query\", \"question\", \"question\", \"question\", \"question\", \"question\", \"quotes\", \"rails\", \"rankbrain\", \"reactive\", \"reactive\", \"really\", \"really\", \"really\", \"really\", \"really\", \"recognition\", \"recognition\", \"recognition\", \"recognition\", \"regression\", \"regression\", \"request\", \"request\", \"request\", \"request\", \"request\", \"research\", \"research\", \"research\", \"research\", \"research\", \"researcher\", \"researcher\", \"researcher\", \"researcher\", \"researcher\", \"result\", \"result\", \"result\", \"result\", \"result\", \"reusable\", \"reuse\", \"reuse\", \"reuse\", \"right\", \"right\", \"right\", \"right\", \"right\", \"robot\", \"robot\", \"robot\", \"robot\", \"robot\", \"rumor\", \"rumor\", \"russia\", \"russia\", \"samsung\", \"samsung\", \"samsung\", \"samsung\", \"schiller\", \"school\", \"school\", \"school\", \"school\", \"science\", \"science\", \"science\", \"science\", \"science\", \"scientist\", \"scientist\", \"scientist\", \"scikit\", \"script\", \"script\", \"script\", \"script\", \"script\", \"scrum\", \"scrum\", \"search\", \"search\", \"search\", \"search\", \"search\", \"sector\", \"sector\", \"sector\", \"sector\", \"selector\", \"server\", \"server\", \"server\", \"server\", \"service\", \"service\", \"service\", \"service\", \"service\", \"shard\", \"siemens\", \"sierra\", \"simple\", \"simple\", \"simple\", \"simple\", \"simple\", \"slack\", \"slack\", \"slack\", \"slack\", \"slides\", \"software\", \"software\", \"software\", \"software\", \"software\", \"soundtracks\", \"southampton\", \"space\", \"space\", \"space\", \"space\", \"space\", \"spanner\", \"spark\", \"spark\", \"spark\", \"specs\", \"specs\", \"spring\", \"spring\", \"spring\", \"spring\", \"start\", \"start\", \"start\", \"start\", \"start\", \"startup\", \"startup\", \"startup\", \"startup\", \"startup\", \"state\", \"state\", \"state\", \"state\", \"state\", \"steal\", \"steal\", \"steal\", \"steal\", \"storage\", \"storage\", \"storage\", \"storage\", \"store\", \"store\", \"store\", \"store\", \"store\", \"storyline\", \"strategy\", \"strategy\", \"strategy\", \"strategy\", \"strategy\", \"stream\", \"stream\", \"stream\", \"stream\", \"stream\", \"streams\", \"string\", \"string\", \"string\", \"string\", \"string\", \"student\", \"student\", \"student\", \"student\", \"student\", \"subnet\", \"supervised\", \"support\", \"support\", \"support\", \"support\", \"support\", \"swanest\", \"swarm\", \"taglines\", \"tango\", \"tango\", \"technology\", \"technology\", \"technology\", \"technology\", \"technology\", \"telecom\", \"tensorflow\", \"theano\", \"thief\", \"thief\", \"thing\", \"thing\", \"thing\", \"thing\", \"thing\", \"think\", \"think\", \"think\", \"think\", \"think\", \"today\", \"today\", \"today\", \"today\", \"today\", \"tooling\", \"torus\", \"touchpoint\", \"train\", \"train\", \"train\", \"train\", \"train\", \"training\", \"training\", \"training\", \"training\", \"transformation\", \"transformation\", \"transformation\", \"transformation\", \"transformation\", \"trendwatching\", \"trivia\", \"trump\", \"trump\", \"trump\", \"typescript\", \"understand\", \"understand\", \"understand\", \"understand\", \"understand\", \"unilever\", \"unilever\", \"unsupervised\", \"value\", \"value\", \"value\", \"value\", \"value\", \"vehicle\", \"vehicle\", \"vehicle\", \"vehicle\", \"version\", \"version\", \"version\", \"version\", \"version\", \"vmware\", \"vxlan\", \"wallet\", \"wallet\", \"wallet\", \"wallet\", \"water\", \"water\", \"water\", \"water\", \"webhook\", \"webinar\", \"whatsapp\", \"white\", \"white\", \"white\", \"white\", \"white\", \"windows\", \"windows\", \"windows\", \"windows\", \"woman\", \"woman\", \"woman\", \"world\", \"world\", \"world\", \"world\", \"world\", \"write\", \"write\", \"write\", \"write\", \"write\", \"xamarin\", \"xamarin\", \"young\", \"young\", \"young\", \"young\", \"young\", \"zookeeper\"]}, \"R\": 30, \"lambda.step\": 0.01, \"plot.opts\": {\"xlab\": \"PC1\", \"ylab\": \"PC2\"}, \"topic.order\": [2, 5, 4, 3, 1]};\n",
       "\n",
       "function LDAvis_load_lib(url, callback){\n",
       "  var s = document.createElement('script');\n",
       "  s.src = url;\n",
       "  s.async = true;\n",
       "  s.onreadystatechange = s.onload = callback;\n",
       "  s.onerror = function(){console.warn(\"failed to load library \" + url);};\n",
       "  document.getElementsByTagName(\"head\")[0].appendChild(s);\n",
       "}\n",
       "\n",
       "if(typeof(LDAvis) !== \"undefined\"){\n",
       "   // already loaded: just create the visualization\n",
       "   !function(LDAvis){\n",
       "       new LDAvis(\"#\" + \"ldavis_el53521406536482634726902767660\", ldavis_el53521406536482634726902767660_data);\n",
       "   }(LDAvis);\n",
       "}else if(typeof define === \"function\" && define.amd){\n",
       "   // require.js is available: use it to load d3/LDAvis\n",
       "   require.config({paths: {d3: \"https://cdnjs.cloudflare.com/ajax/libs/d3/3.5.5/d3.min\"}});\n",
       "   require([\"d3\"], function(d3){\n",
       "      window.d3 = d3;\n",
       "      LDAvis_load_lib(\"https://cdn.rawgit.com/bmabey/pyLDAvis/files/ldavis.v1.0.0.js\", function(){\n",
       "        new LDAvis(\"#\" + \"ldavis_el53521406536482634726902767660\", ldavis_el53521406536482634726902767660_data);\n",
       "      });\n",
       "    });\n",
       "}else{\n",
       "    // require.js not available: dynamically load d3 & LDAvis\n",
       "    LDAvis_load_lib(\"https://cdnjs.cloudflare.com/ajax/libs/d3/3.5.5/d3.min.js\", function(){\n",
       "         LDAvis_load_lib(\"https://cdn.rawgit.com/bmabey/pyLDAvis/files/ldavis.v1.0.0.js\", function(){\n",
       "                 new LDAvis(\"#\" + \"ldavis_el53521406536482634726902767660\", ldavis_el53521406536482634726902767660_data);\n",
       "            })\n",
       "         });\n",
       "}\n",
       "</script>"
      ],
      "text/plain": [
       "PreparedData(topic_coordinates=              x         y  topics  cluster       Freq\n",
       "topic                                                \n",
       "1      0.148659  0.081319       1        1  26.514078\n",
       "4      0.010611  0.071900       2        1  23.955693\n",
       "3     -0.004272 -0.129272       3        1  21.640049\n",
       "2      0.034917 -0.079846       4        1  19.035002\n",
       "0     -0.189916  0.055899       5        1   8.855178, topic_info=      Category         Freq      Term        Total  loglift  logprob\n",
       "10871  Default  5044.000000    google  5044.000000  30.0000  30.0000\n",
       "4677   Default  2336.000000     cloud  2336.000000  29.0000  29.0000\n",
       "6221   Default  3053.000000  customer  3053.000000  28.0000  28.0000\n",
       "14785  Default  1935.000000  learning  1935.000000  27.0000  27.0000\n",
       "1201   Default  1635.000000     apple  1635.000000  26.0000  26.0000\n",
       "...        ...          ...       ...          ...      ...      ...\n",
       "15804   Topic5   124.491709    market  1232.282728   0.1318  -6.3165\n",
       "24938   Topic5   124.901479     start  2701.924594  -0.6500  -6.3133\n",
       "22379   Topic5   118.816185     right  1622.174556  -0.1898  -6.3632\n",
       "12724   Topic5   120.122199   include  2121.699745  -0.4473  -6.3523\n",
       "4133    Topic5   115.597271    change  3091.229459  -0.8620  -6.3907\n",
       "\n",
       "[448 rows x 6 columns], token_table=       Topic      Freq       Term\n",
       "term                             \n",
       "116        3  0.995811  accenture\n",
       "151        1  0.077642     accord\n",
       "151        2  0.175618     accord\n",
       "151        3  0.255108     accord\n",
       "151        4  0.282837     accord\n",
       "...      ...       ...        ...\n",
       "29610      2  0.192820      young\n",
       "29610      3  0.174160      young\n",
       "29610      4  0.068420      young\n",
       "29610      5  0.534920      young\n",
       "29733      4  0.978396  zookeeper\n",
       "\n",
       "[1116 rows x 3 columns], R=30, lambda_step=0.01, plot_opts={'xlab': 'PC1', 'ylab': 'PC2'}, topic_order=[2, 5, 4, 3, 1])"
      ]
     },
     "execution_count": 52,
     "metadata": {},
     "output_type": "execute_result"
    }
   ],
   "source": [
    "pyLDAvis.sklearn.prepare(lda_tf, dtm_tf, tf_vectorizer)"
   ]
  },
  {
   "cell_type": "code",
   "execution_count": 50,
   "metadata": {},
   "outputs": [
    {
     "name": "stderr",
     "output_type": "stream",
     "text": [
      "/home/ravi/recommendation_system/recommender_system/rec_sys_env/lib/python3.7/site-packages/pyLDAvis/_prepare.py:257: FutureWarning: Sorting because non-concatenation axis is not aligned. A future version\n",
      "of pandas will change to not sort by default.\n",
      "\n",
      "To accept the future behavior, pass 'sort=False'.\n",
      "\n",
      "To retain the current behavior and silence the warning, pass 'sort=True'.\n",
      "\n",
      "  return pd.concat([default_term_info] + list(topic_dfs))\n"
     ]
    },
    {
     "data": {
      "text/html": [
       "\n",
       "<link rel=\"stylesheet\" type=\"text/css\" href=\"https://cdn.rawgit.com/bmabey/pyLDAvis/files/ldavis.v1.0.0.css\">\n",
       "\n",
       "\n",
       "<div id=\"ldavis_el53521406536497583922150038665\"></div>\n",
       "<script type=\"text/javascript\">\n",
       "\n",
       "var ldavis_el53521406536497583922150038665_data = {\"mdsDat\": {\"x\": [-0.057867521725816176, -0.10488334447417577, 0.12170605302980138, -0.05021576412233494, 0.009971506341487614, 0.12921130230788763, 0.10712504912205768, -0.23330118678548784, 0.09756285780179783, -0.01930895149521724], \"y\": [-9.270879510082368e-05, 0.14454036454101749, -0.05262573869445614, 0.0772032384554664, 0.06712326747458838, -0.012578379828101852, -0.0705416960850651, -0.1725803653532874, -0.050797032525715984, 0.07034905081065539], \"topics\": [1, 2, 3, 4, 5, 6, 7, 8, 9, 10], \"cluster\": [1, 1, 1, 1, 1, 1, 1, 1, 1, 1], \"Freq\": [19.023986920439533, 16.75550590992249, 15.372753572792636, 12.601052472673457, 10.408726814545648, 8.247336185132491, 6.639997628199494, 4.209065812122616, 3.869143992338879, 2.872430691832763]}, \"tinfo\": {\"Category\": [\"Default\", \"Default\", \"Default\", \"Default\", \"Default\", \"Default\", \"Default\", \"Default\", \"Default\", \"Default\", \"Default\", \"Default\", \"Default\", \"Default\", \"Default\", \"Default\", \"Default\", \"Default\", \"Default\", \"Default\", \"Default\", \"Default\", \"Default\", \"Default\", \"Default\", \"Default\", \"Default\", \"Default\", \"Default\", \"Default\", \"Topic1\", \"Topic1\", \"Topic1\", \"Topic1\", \"Topic1\", \"Topic1\", \"Topic1\", \"Topic1\", \"Topic1\", \"Topic1\", \"Topic1\", \"Topic1\", \"Topic1\", \"Topic1\", \"Topic1\", \"Topic1\", \"Topic1\", \"Topic1\", \"Topic1\", \"Topic1\", \"Topic1\", \"Topic1\", \"Topic1\", \"Topic1\", \"Topic1\", \"Topic1\", \"Topic1\", \"Topic1\", \"Topic1\", \"Topic1\", \"Topic1\", \"Topic1\", \"Topic1\", \"Topic1\", \"Topic1\", \"Topic1\", \"Topic1\", \"Topic1\", \"Topic1\", \"Topic1\", \"Topic1\", \"Topic1\", \"Topic1\", \"Topic1\", \"Topic1\", \"Topic1\", \"Topic1\", \"Topic1\", \"Topic1\", \"Topic1\", \"Topic1\", \"Topic1\", \"Topic1\", \"Topic1\", \"Topic1\", \"Topic1\", \"Topic1\", \"Topic1\", \"Topic1\", \"Topic1\", \"Topic1\", \"Topic1\", \"Topic1\", \"Topic1\", \"Topic1\", \"Topic1\", \"Topic1\", \"Topic1\", \"Topic1\", \"Topic1\", \"Topic1\", \"Topic1\", \"Topic1\", \"Topic1\", \"Topic1\", \"Topic1\", \"Topic1\", \"Topic1\", \"Topic1\", \"Topic2\", \"Topic2\", \"Topic2\", \"Topic2\", \"Topic2\", \"Topic2\", \"Topic2\", \"Topic2\", \"Topic2\", \"Topic2\", \"Topic2\", \"Topic2\", \"Topic2\", \"Topic2\", \"Topic2\", \"Topic2\", \"Topic2\", \"Topic2\", \"Topic2\", \"Topic2\", \"Topic2\", \"Topic2\", \"Topic2\", \"Topic2\", \"Topic2\", \"Topic2\", \"Topic2\", \"Topic2\", \"Topic2\", \"Topic2\", \"Topic2\", \"Topic2\", \"Topic2\", \"Topic2\", \"Topic2\", \"Topic2\", \"Topic2\", \"Topic2\", \"Topic2\", \"Topic2\", \"Topic2\", \"Topic2\", \"Topic2\", \"Topic2\", \"Topic2\", \"Topic2\", \"Topic2\", \"Topic2\", \"Topic2\", \"Topic2\", \"Topic2\", \"Topic2\", \"Topic2\", \"Topic2\", \"Topic2\", \"Topic2\", \"Topic2\", \"Topic2\", \"Topic2\", \"Topic2\", \"Topic2\", \"Topic2\", \"Topic2\", \"Topic2\", \"Topic2\", \"Topic2\", \"Topic2\", \"Topic2\", \"Topic2\", \"Topic2\", \"Topic2\", \"Topic2\", \"Topic2\", \"Topic2\", \"Topic2\", \"Topic2\", \"Topic2\", \"Topic2\", \"Topic3\", \"Topic3\", \"Topic3\", \"Topic3\", \"Topic3\", \"Topic3\", \"Topic3\", \"Topic3\", \"Topic3\", \"Topic3\", \"Topic3\", \"Topic3\", \"Topic3\", \"Topic3\", \"Topic3\", \"Topic3\", \"Topic3\", \"Topic3\", \"Topic3\", \"Topic3\", \"Topic3\", \"Topic3\", \"Topic3\", \"Topic3\", \"Topic3\", \"Topic3\", \"Topic3\", \"Topic3\", \"Topic3\", \"Topic3\", \"Topic3\", \"Topic3\", \"Topic3\", \"Topic3\", \"Topic3\", \"Topic3\", \"Topic3\", \"Topic3\", \"Topic3\", \"Topic3\", \"Topic3\", \"Topic3\", \"Topic3\", \"Topic3\", \"Topic3\", \"Topic3\", \"Topic3\", \"Topic3\", \"Topic3\", \"Topic3\", \"Topic3\", \"Topic3\", \"Topic3\", \"Topic3\", \"Topic3\", \"Topic3\", \"Topic3\", \"Topic3\", \"Topic3\", \"Topic3\", \"Topic3\", \"Topic3\", \"Topic3\", \"Topic3\", \"Topic3\", \"Topic3\", \"Topic3\", \"Topic3\", \"Topic3\", \"Topic3\", \"Topic3\", \"Topic3\", \"Topic3\", \"Topic3\", \"Topic3\", \"Topic3\", \"Topic3\", \"Topic3\", \"Topic3\", \"Topic3\", \"Topic3\", \"Topic3\", \"Topic3\", \"Topic3\", \"Topic3\", \"Topic3\", \"Topic3\", \"Topic3\", \"Topic3\", \"Topic3\", \"Topic4\", \"Topic4\", \"Topic4\", \"Topic4\", \"Topic4\", \"Topic4\", \"Topic4\", \"Topic4\", \"Topic4\", \"Topic4\", \"Topic4\", \"Topic4\", \"Topic4\", \"Topic4\", \"Topic4\", \"Topic4\", \"Topic4\", \"Topic4\", \"Topic4\", \"Topic4\", \"Topic4\", \"Topic4\", \"Topic4\", \"Topic4\", \"Topic4\", \"Topic4\", \"Topic4\", \"Topic4\", \"Topic4\", \"Topic4\", \"Topic4\", \"Topic4\", \"Topic4\", \"Topic4\", \"Topic4\", \"Topic4\", \"Topic4\", \"Topic4\", \"Topic4\", \"Topic4\", \"Topic4\", \"Topic4\", \"Topic4\", \"Topic4\", \"Topic4\", \"Topic4\", \"Topic4\", \"Topic4\", \"Topic4\", \"Topic4\", \"Topic4\", \"Topic4\", \"Topic4\", \"Topic4\", \"Topic4\", \"Topic4\", \"Topic4\", \"Topic4\", \"Topic4\", \"Topic4\", \"Topic4\", \"Topic4\", \"Topic4\", \"Topic4\", \"Topic4\", \"Topic4\", \"Topic4\", \"Topic4\", \"Topic4\", \"Topic4\", \"Topic4\", \"Topic4\", \"Topic4\", \"Topic4\", \"Topic4\", \"Topic4\", \"Topic4\", \"Topic4\", \"Topic4\", \"Topic4\", \"Topic5\", \"Topic5\", \"Topic5\", \"Topic5\", \"Topic5\", \"Topic5\", \"Topic5\", \"Topic5\", \"Topic5\", \"Topic5\", \"Topic5\", \"Topic5\", \"Topic5\", \"Topic5\", \"Topic5\", \"Topic5\", \"Topic5\", \"Topic5\", \"Topic5\", \"Topic5\", \"Topic5\", \"Topic5\", \"Topic5\", \"Topic5\", \"Topic5\", \"Topic5\", \"Topic5\", \"Topic5\", \"Topic5\", \"Topic5\", \"Topic5\", \"Topic5\", \"Topic5\", \"Topic5\", \"Topic5\", \"Topic5\", \"Topic5\", \"Topic5\", \"Topic5\", \"Topic5\", \"Topic5\", \"Topic5\", \"Topic5\", \"Topic5\", \"Topic5\", \"Topic5\", \"Topic5\", \"Topic5\", \"Topic5\", \"Topic5\", \"Topic5\", \"Topic5\", \"Topic5\", \"Topic5\", \"Topic5\", \"Topic5\", \"Topic5\", \"Topic5\", \"Topic5\", \"Topic5\", \"Topic5\", \"Topic5\", \"Topic5\", \"Topic5\", \"Topic5\", \"Topic5\", \"Topic5\", \"Topic5\", \"Topic5\", \"Topic5\", \"Topic5\", \"Topic5\", \"Topic5\", \"Topic5\", \"Topic5\", \"Topic5\", \"Topic5\", \"Topic5\", \"Topic5\", \"Topic6\", \"Topic6\", \"Topic6\", \"Topic6\", \"Topic6\", \"Topic6\", \"Topic6\", \"Topic6\", \"Topic6\", \"Topic6\", \"Topic6\", \"Topic6\", \"Topic6\", \"Topic6\", \"Topic6\", \"Topic6\", \"Topic6\", \"Topic6\", \"Topic6\", \"Topic6\", \"Topic6\", \"Topic6\", \"Topic6\", \"Topic6\", \"Topic6\", \"Topic6\", \"Topic6\", \"Topic6\", \"Topic6\", \"Topic6\", \"Topic6\", \"Topic6\", \"Topic6\", \"Topic6\", \"Topic6\", \"Topic6\", \"Topic6\", \"Topic6\", \"Topic6\", \"Topic6\", \"Topic6\", \"Topic6\", \"Topic6\", \"Topic6\", \"Topic6\", \"Topic6\", \"Topic6\", \"Topic6\", \"Topic6\", \"Topic6\", \"Topic6\", \"Topic6\", \"Topic6\", \"Topic6\", \"Topic6\", \"Topic6\", \"Topic6\", \"Topic6\", \"Topic6\", \"Topic6\", \"Topic6\", \"Topic6\", \"Topic6\", \"Topic6\", \"Topic6\", \"Topic6\", \"Topic6\", \"Topic6\", \"Topic6\", \"Topic6\", \"Topic6\", \"Topic6\", \"Topic6\", \"Topic6\", \"Topic6\", \"Topic6\", \"Topic7\", \"Topic7\", \"Topic7\", \"Topic7\", \"Topic7\", \"Topic7\", \"Topic7\", \"Topic7\", \"Topic7\", \"Topic7\", \"Topic7\", \"Topic7\", \"Topic7\", \"Topic7\", \"Topic7\", \"Topic7\", \"Topic7\", \"Topic7\", \"Topic7\", \"Topic7\", \"Topic7\", \"Topic7\", \"Topic7\", \"Topic7\", \"Topic7\", \"Topic7\", \"Topic7\", \"Topic7\", \"Topic7\", \"Topic7\", \"Topic7\", \"Topic7\", \"Topic7\", \"Topic7\", \"Topic7\", \"Topic7\", \"Topic7\", \"Topic7\", \"Topic7\", \"Topic7\", \"Topic7\", \"Topic7\", \"Topic7\", \"Topic7\", \"Topic7\", \"Topic7\", \"Topic7\", \"Topic7\", \"Topic7\", \"Topic7\", \"Topic7\", \"Topic7\", \"Topic7\", \"Topic7\", \"Topic7\", \"Topic7\", \"Topic7\", \"Topic7\", \"Topic7\", \"Topic7\", \"Topic7\", \"Topic7\", \"Topic7\", \"Topic7\", \"Topic7\", \"Topic7\", \"Topic7\", \"Topic7\", \"Topic7\", \"Topic7\", \"Topic7\", \"Topic7\", \"Topic7\", \"Topic7\", \"Topic7\", \"Topic7\", \"Topic7\", \"Topic7\", \"Topic7\", \"Topic7\", \"Topic7\", \"Topic8\", \"Topic8\", \"Topic8\", \"Topic8\", \"Topic8\", \"Topic8\", \"Topic8\", \"Topic8\", \"Topic8\", \"Topic8\", \"Topic8\", \"Topic8\", \"Topic8\", \"Topic8\", \"Topic8\", \"Topic8\", \"Topic8\", \"Topic8\", \"Topic8\", \"Topic8\", \"Topic8\", \"Topic8\", \"Topic8\", \"Topic8\", \"Topic8\", \"Topic8\", \"Topic8\", \"Topic8\", \"Topic8\", \"Topic8\", \"Topic8\", \"Topic8\", \"Topic8\", \"Topic8\", \"Topic8\", \"Topic8\", \"Topic8\", \"Topic8\", \"Topic8\", \"Topic8\", \"Topic8\", \"Topic8\", \"Topic8\", \"Topic8\", \"Topic8\", \"Topic8\", \"Topic8\", \"Topic8\", \"Topic8\", \"Topic8\", \"Topic8\", \"Topic8\", \"Topic8\", \"Topic8\", \"Topic8\", \"Topic8\", \"Topic8\", \"Topic8\", \"Topic8\", \"Topic8\", \"Topic8\", \"Topic8\", \"Topic8\", \"Topic8\", \"Topic8\", \"Topic8\", \"Topic8\", \"Topic8\", \"Topic8\", \"Topic8\", \"Topic8\", \"Topic8\", \"Topic8\", \"Topic8\", \"Topic8\", \"Topic8\", \"Topic8\", \"Topic8\", \"Topic9\", \"Topic9\", \"Topic9\", \"Topic9\", \"Topic9\", \"Topic9\", \"Topic9\", \"Topic9\", \"Topic9\", \"Topic9\", \"Topic9\", \"Topic9\", \"Topic9\", \"Topic9\", \"Topic9\", \"Topic9\", \"Topic9\", \"Topic9\", \"Topic9\", \"Topic9\", \"Topic9\", \"Topic9\", \"Topic9\", \"Topic9\", \"Topic9\", \"Topic9\", \"Topic9\", \"Topic9\", \"Topic9\", \"Topic9\", \"Topic9\", \"Topic9\", \"Topic9\", \"Topic9\", \"Topic9\", \"Topic9\", \"Topic9\", \"Topic9\", \"Topic9\", \"Topic9\", \"Topic9\", \"Topic9\", \"Topic9\", \"Topic9\", \"Topic9\", \"Topic9\", \"Topic9\", \"Topic9\", \"Topic9\", \"Topic9\", \"Topic9\", \"Topic9\", \"Topic9\", \"Topic9\", \"Topic9\", \"Topic9\", \"Topic9\", \"Topic9\", \"Topic9\", \"Topic9\", \"Topic9\", \"Topic9\", \"Topic9\", \"Topic9\", \"Topic9\", \"Topic9\", \"Topic9\", \"Topic9\", \"Topic9\", \"Topic9\", \"Topic9\", \"Topic9\", \"Topic9\", \"Topic9\", \"Topic9\", \"Topic9\", \"Topic10\", \"Topic10\", \"Topic10\", \"Topic10\", \"Topic10\", \"Topic10\", \"Topic10\", \"Topic10\", \"Topic10\", \"Topic10\", \"Topic10\", \"Topic10\", \"Topic10\", \"Topic10\", \"Topic10\", \"Topic10\", \"Topic10\", \"Topic10\", \"Topic10\", \"Topic10\", \"Topic10\", \"Topic10\", \"Topic10\", \"Topic10\", \"Topic10\", \"Topic10\", \"Topic10\", \"Topic10\", \"Topic10\", \"Topic10\", \"Topic10\", \"Topic10\", \"Topic10\", \"Topic10\", \"Topic10\", \"Topic10\", \"Topic10\", \"Topic10\", \"Topic10\", \"Topic10\", \"Topic10\", \"Topic10\", \"Topic10\", \"Topic10\", \"Topic10\", \"Topic10\", \"Topic10\", \"Topic10\", \"Topic10\", \"Topic10\", \"Topic10\", \"Topic10\", \"Topic10\", \"Topic10\", \"Topic10\", \"Topic10\", \"Topic10\", \"Topic10\", \"Topic10\", \"Topic10\", \"Topic10\", \"Topic10\", \"Topic10\", \"Topic10\", \"Topic10\", \"Topic10\", \"Topic10\", \"Topic10\", \"Topic10\", \"Topic10\", \"Topic10\", \"Topic10\", \"Topic10\", \"Topic10\", \"Topic10\"], \"Freq\": [5090.0, 991.0, 2319.0, 1666.0, 1950.0, 4728.0, 3053.0, 2682.0, 3517.0, 908.0, 1807.0, 1499.0, 674.0, 2393.0, 3063.0, 2710.0, 853.0, 1522.0, 4889.0, 3722.0, 857.0, 1304.0, 1745.0, 2144.0, 2277.0, 2118.0, 1309.0, 1140.0, 1840.0, 2086.0, 506.7944749810462, 108.813764734589, 106.87238923931622, 83.5759400952504, 74.83979834243995, 57.367475896006624, 49.601965685998245, 47.660609993872704, 40.86581841654755, 40.865146269151985, 36.9571495068382, 99.46134673052742, 83.39653214933386, 35.04172259479797, 35.0411949713997, 72.89835676683057, 34.07072756962534, 32.12963293178857, 498.1228221312841, 30.18826027778419, 29.21760613891055, 29.217600041431112, 29.217585288933993, 317.38398939566196, 27.27624276431852, 27.276219450166458, 26.30555983695346, 26.30554943680041, 26.305500152186884, 24.36419011133593, 1873.7634960495893, 305.2129520530692, 65.46474102812779, 313.5467662361496, 365.2098849882626, 53.88279112832877, 773.574710951117, 276.96862233338925, 49.1417679745554, 2264.844005310041, 334.6670724801871, 1010.2578608219821, 736.2103496284323, 253.32971694506512, 392.6402389869153, 349.5512726395161, 872.0371350324505, 173.68242031749304, 1710.3415793666506, 120.43724213501402, 165.3420353970037, 168.3448501637492, 380.6776019824684, 440.4898458928031, 593.3976136598533, 181.38760059737407, 248.9610225742642, 239.9274360302652, 714.8398671177492, 828.4250985826454, 1366.294692869461, 273.7927755722045, 1458.8189383337883, 805.877153215051, 644.5631729714071, 775.6076408288499, 865.7907740628233, 505.94009560908125, 627.9654589062798, 605.5027341607755, 858.2763806717405, 590.2791305059842, 720.6192088416382, 482.21015638490223, 614.4207712789653, 514.2256514784666, 453.7145768979086, 512.7388473129081, 477.23002791636935, 856.692485164674, 244.06044308584725, 136.95403159919502, 141.7638035302236, 202.37835872505133, 131.13631078068255, 64.5577309157458, 59.60190708148688, 48.693067582807345, 43.73449032831208, 37.78425417836686, 118.03733447963108, 29.850515436110246, 32.67423420149107, 26.875326988657097, 25.88367432066972, 23.900241487685143, 26.771793357229072, 21.916815591022086, 195.6908170958749, 40.75934959078132, 350.993624560096, 18.94171404263835, 18.9416437980031, 39.688667054350205, 39.57307396282367, 41.56933490196536, 22.633547438934844, 16.958288344990933, 16.95815384775619, 760.2995410888249, 593.9235396657859, 106.33976560953269, 183.34341398776863, 161.49480120585102, 161.3450996626253, 1513.2689425754354, 69.09581319161062, 604.7779195644298, 60.91642929178149, 580.9662820774881, 78.7139023913608, 2213.28947217577, 798.3853014828373, 56.292230536768216, 301.85271233524924, 118.95020928495391, 149.93001931033058, 538.0674903616458, 365.32772417685305, 424.6792627481673, 364.5487647758237, 729.03547085781, 819.7232411668004, 350.5261889706932, 313.41842608912737, 2333.404289201017, 1438.3785317066377, 1215.8985021437372, 551.4302912517967, 402.72689418050635, 332.24448217087604, 432.931430156041, 458.3301300164611, 811.9764623824193, 969.6745589214746, 346.0416298256533, 1064.3195235007515, 749.7319058138401, 464.1655429976009, 524.646215009694, 495.738535677874, 569.626858639528, 519.713503212205, 461.49399557254384, 500.0485118139884, 421.6776518563968, 433.3316779577663, 83.27763454311541, 73.49753175759615, 70.56155400890091, 56.825663348113004, 39.24436204369628, 37.28702378252597, 91.79040307906638, 32.39370363917828, 30.436396778198088, 31.36123940860913, 29.457714798829425, 28.479057533825696, 27.50023485833532, 24.56443013254603, 24.564399882790816, 24.564400514010245, 23.58574489124427, 22.60697524052727, 22.57528744044045, 21.628374084102372, 20.64974902627538, 20.649745517190546, 20.64968824251383, 27.132869800183567, 19.67110487579619, 18.692450356898483, 18.692445692508826, 18.687581471159433, 28.029416538018662, 31.714582840128674, 35.32966699245878, 208.35979965396746, 35.08359926435679, 73.44216794250737, 455.7898530840273, 915.5366599549137, 57.34197324418069, 881.0501179608938, 74.06612634105457, 463.2940442909248, 494.8448253550193, 659.7408078348259, 150.2441133265828, 93.6440093720961, 132.54183235439325, 131.03728518628108, 318.46959016192704, 245.78520164040933, 198.7380440562629, 475.3925693639882, 148.22034640418858, 921.5779119306533, 540.1916192599837, 167.9346496476992, 421.8741117077441, 549.4147013813946, 463.9680214886784, 201.74506138447111, 332.9529380901901, 238.87899757161662, 154.53279638082915, 167.69299025164315, 918.8372427843022, 491.24764739506236, 280.44111315713633, 1157.8504609254467, 375.3172611887673, 796.3830724232038, 602.59280408354, 1493.4741207547304, 329.26908124648173, 304.80323546719615, 305.3111508836714, 654.3555991492699, 353.22493858361076, 364.3931608847911, 513.7653396925128, 611.5886287282723, 530.986498408512, 373.56920761625616, 381.29645492158545, 555.2654798665161, 619.0647355027052, 512.890030178981, 519.0199553411709, 525.5323695761307, 425.48026842299276, 500.6447260582326, 499.99990656397364, 469.9658488772562, 41.768529912790065, 41.76849966944478, 61.150665446590494, 19.479053204912443, 19.479025200571236, 19.477948771854898, 39.78145919382108, 18.509913594141068, 18.50970314649725, 18.467783430579573, 25.83549995983645, 17.51610540833153, 16.571721786269393, 35.86824042103222, 354.7343773025006, 25.65305771448439, 14.633429565607853, 13.664392781229903, 13.664385470773663, 15.427433243170102, 41.65369686885679, 48.2176489779151, 1564.8001490032561, 29.038606261606066, 12.695311378729503, 12.695311378672768, 12.695299592324474, 11.72618958191346, 11.726164296869358, 11.7261296291283, 24.324599954719705, 58.785093948192284, 23.345653457319383, 70.61191455549162, 76.86820949467565, 32.8329954307349, 128.29465147448704, 36.17924409474598, 978.1501694519392, 42.93297295781097, 75.13264577074989, 338.8438088879861, 237.89643526904047, 2429.4484571671665, 34.630399946652844, 396.4139505506746, 44.872966806382415, 1135.920021833589, 107.01249039573528, 1076.3887212273091, 1311.25387041029, 369.7445769901814, 855.0595942853973, 553.8540342055308, 455.561283481601, 348.1684148874664, 276.4472335419954, 176.79977643037768, 495.95572132638375, 1279.95963397279, 693.3599181079304, 395.65833211881824, 527.5931226551938, 880.3365655935872, 653.1215916324444, 754.471806571966, 157.57655335440583, 332.4407570933073, 532.8416210137082, 341.759898123184, 344.91460949994394, 616.8298270361497, 416.7813122335679, 446.4521286857766, 423.1297758493685, 366.22880929435087, 360.21259148578457, 356.9190572086157, 354.8220191040336, 348.802683245098, 71.23544382131274, 50.48724001510609, 133.9720435972248, 37.64313093055831, 37.64309112212812, 30.72690257349335, 28.751038090599295, 23.81096970943906, 21.83499326894129, 499.8196421481679, 19.858923361339947, 224.12051969600677, 17.882956085234415, 17.882949384886928, 17.882949384886928, 17.882939388443717, 16.894899600122038, 15.906946047807851, 15.906939598217823, 15.906923820216676, 15.906888566756779, 21.389735968158398, 13.930918873118156, 13.930896293757453, 12.942919813987134, 12.942892720124895, 12.942889760524125, 12.9428863627009, 12.942849362587117, 12.942708528300516, 60.314850565663114, 47.88740519249426, 29.637105965540066, 102.60952091074886, 315.50191902180296, 18.870973423768014, 190.35894522116868, 46.97610747819621, 129.8270106568702, 294.6774059402101, 211.47187576490273, 149.92083656492298, 72.89226936407131, 345.43229859078616, 35.614969334080136, 951.8304296816725, 563.0335369459924, 353.58844589390395, 101.3608639825647, 115.78457546721071, 592.6528514945003, 171.71315840694396, 740.2364384226807, 177.9004488855294, 229.86211961995463, 290.8434109509578, 833.5254689192686, 622.8857904836307, 583.9355932597709, 358.81951805802555, 697.4279395456642, 292.45592164673775, 245.27486000838059, 543.9065426683424, 412.11759174820617, 233.2155710767041, 353.0472247100948, 407.5848737965092, 444.0055660341206, 386.67446100204836, 402.4034029727806, 374.65731697170617, 279.72585411329095, 280.3163589229318, 331.85741445877176, 286.2478068696713, 279.65760225586655, 265.47831472920757, 275.42615820391194, 66.96660786970108, 56.45821936143989, 54.547703571865355, 67.65321588796186, 50.7264939132943, 43.084073632172526, 43.08406316658315, 34.48635796077717, 32.57575356371329, 31.620456588536513, 26.843885894648093, 25.888497323144424, 30.3924411756179, 23.022748448425077, 74.45072501008299, 150.47557570221764, 81.79680537123645, 19.20151710155409, 19.201502757224553, 16.33564042303386, 16.335610020445706, 15.380346866371564, 14.425022223181857, 14.424913778825761, 13.469709702821712, 13.469324677379632, 38.67247709335463, 114.62426074137423, 12.506155605900098, 110.50939354527733, 300.8910417943572, 113.78857244540451, 252.68397502493346, 162.13653347924492, 38.639724182823954, 22.747303579992874, 342.86984093921177, 296.0223235712476, 175.3704695825188, 52.43667980366, 69.11068629990393, 588.1043268360688, 371.70792400153044, 265.00548820828004, 432.0537443327701, 234.51073883115393, 1426.23074328605, 97.59846729093294, 1012.0077674806545, 105.46198849182645, 153.41871522480898, 129.52438948705276, 375.5735531471856, 342.52576104883406, 223.65699281143313, 266.81129949346206, 198.63744096473178, 676.0473034199639, 545.3912481370955, 352.78707072623826, 179.19232497790546, 324.976163915677, 233.33911495223163, 290.5072722149347, 222.72006406767403, 289.82836783107257, 238.78557545522074, 364.26277811771894, 342.8118220375871, 397.7734416272191, 278.8288392884991, 244.1943510872412, 269.82857934402665, 251.5016722816453, 262.17056842183246, 234.1811286438477, 72.87750182561922, 59.016113895774325, 44.98690745230238, 30.022431249876092, 27.216623048576807, 29.829656710520876, 21.604921277969538, 20.669638731625437, 19.734385444684175, 16.928552480385928, 15.993264983799843, 15.993238959941863, 15.99322750607675, 15.057990639150841, 15.032935314013226, 14.122711396163629, 14.122704357951633, 13.187435910135488, 13.187433514596261, 13.187423837424113, 71.21046377084357, 29.68057039805593, 12.252140515071542, 16.62421152787736, 11.316875867018963, 11.316874132729108, 47.66741694744976, 10.38156286704581, 10.381559207658293, 17.308222655066704, 50.19319612010593, 19.734376421640047, 63.30547269324036, 668.4642493100897, 619.1064497455724, 38.06954933626672, 52.641110211028, 202.8048522015992, 43.51323902696413, 19.366770113378127, 387.746463354128, 112.97278477029718, 179.42810340031562, 112.63297906067655, 108.6655126009379, 50.301892065777224, 110.89563551463468, 164.2625160229753, 193.00317839401646, 190.67680301757957, 381.3460901226757, 361.8698382102902, 233.60473793746783, 147.31361281959514, 436.0020147993335, 142.52875110616483, 635.818903841582, 146.4438065323694, 337.21145783960964, 259.8701983084995, 382.22888952303725, 326.59046352850066, 334.7577483258126, 131.07348839277805, 143.39283420546738, 160.59482302452906, 262.2994825288991, 296.025666855688, 258.6255290004002, 216.7959638667797, 187.4020313622726, 194.66981708752434, 160.58673160480222, 181.26807028714296, 206.5465222249644, 184.53845218890564, 166.4268638325606, 182.38293541132748, 175.25216565136648, 174.12858372799354, 169.5607340347265, 37.77969015150999, 31.34519350409097, 25.82990696809063, 20.314625203640407, 18.476201028473536, 18.47619641203495, 18.476170498709255, 17.556949381117345, 36.77097120922018, 17.513490564232068, 16.637765882413266, 16.637383650543057, 15.718550879912948, 14.79934593314275, 14.799314884278832, 14.799302643701537, 13.88012413710239, 13.880118449838335, 13.880103100808995, 13.880097654053872, 29.506751901685988, 12.960910269670254, 15.514274766347512, 42.25463093750255, 12.041689563447692, 12.041683247612317, 12.041682471039813, 12.041629687788237, 11.12248838593165, 11.122480258067688, 283.1676770132115, 39.94397502249295, 23.06462841970235, 128.0284234405001, 32.142102522881956, 65.66995024191075, 22.949087766755017, 77.79638157529826, 39.55550253409057, 36.9762120291758, 68.82714721564437, 35.71724372820139, 90.77415884673863, 62.2923427199248, 68.24001633457927, 131.3631748255493, 37.199312147347754, 122.91520961566917, 97.55436622104429, 42.350439528558155, 34.610634188097166, 26.731943741522628, 139.0290022163037, 165.32293996977896, 88.23416152909843, 50.20338586288805, 52.8216841792803, 75.21344523726502, 61.095717314314754, 78.97545323231967, 91.77172065994436, 55.72513587699091, 68.3464731125458, 52.996205576338646, 97.39547856063383, 129.57165835523404, 55.49196073987505, 211.22559721226833, 159.7106281775994, 89.5487961781817, 74.71165382627254, 68.1250280505056, 89.28293064556486, 115.41513789430678, 73.97589080915137, 71.87380997655615, 71.12319629838149, 72.96023521068655, 156.40586705071723, 62.494020410700585, 114.36288378720788, 31.730429168981882, 18.546042825871893, 17.660300000377067, 16.788118354769377, 15.909150489386672, 14.151240849774409, 13.272278492311813, 11.514359668437791, 10.635406133745459, 10.635406133745459, 9.756437704280799, 8.877478404785865, 8.877472305336633, 8.877473125440295, 8.87744987343094, 45.16595516409661, 15.283490819942273, 7.998528182917104, 7.998526127062208, 7.9985255749863065, 7.998521519038885, 7.998497762936737, 7.998411261552882, 7.119568215889938, 7.119567994294339, 7.119567994294339, 7.119567713584376, 68.00745892251616, 14.997910738163537, 216.1391378744854, 52.659251780863855, 73.42642710557828, 116.52356408132485, 23.889829611629356, 40.10187770093835, 27.685534576747422, 19.76785279966829, 196.59995595390546, 19.425014445843665, 57.14075544907742, 77.17266530650788, 94.55221047257248, 28.656817268297623, 37.584361659443424, 223.44248418074798, 67.29658000017409, 45.06707463504716, 218.77837022836326, 487.8391200246711, 123.65971856539069, 234.76799777514557, 275.6630438513052, 67.61690851227856, 120.19738146527307, 220.6034516520438, 208.9475978792711, 226.31909460529235, 151.67574774372454, 123.15931593827904, 279.69904959744406, 127.97435390546819, 159.79607743777328, 218.1445458454692, 162.1170857587005, 148.65423126224147, 118.22414119454707, 113.12129454916878, 104.19632795427759, 103.50353032716204, 121.7276118545778, 110.13110697824106, 112.50927943075452, 111.88418603242454, 990.8624055258333, 156.9725139420113, 26.517347971939504, 22.254108972570716, 18.843518942980445, 18.84351387377557, 17.99085801570555, 44.135150010360796, 17.13818904856397, 16.285575556016244, 16.28557033192003, 14.580274352860414, 14.580268732332689, 14.580228345816147, 13.727630874085222, 13.72760830651358, 13.727608176772941, 12.022316922163926, 12.022274797076326, 11.169678578264445, 18.252440506169844, 10.317028521542822, 18.951005356948535, 9.464389846020508, 9.46437603661133, 9.464376238506235, 9.464364582677845, 7.759091564670282, 7.759088915937565, 7.759068375027123, 14.580299599542208, 15.318052623479765, 108.27242063725186, 354.2133058048478, 20.358695422925628, 17.539841872950998, 62.61893554075118, 34.61363099331911, 121.03974004229418, 92.08965423818115, 272.00219842751915, 81.49374682716662, 43.37144273703101, 55.754483885495794, 51.36619329967627, 87.68277230780349, 62.97209458479806, 58.99968777077229, 33.32442611327991, 21.86983403045575, 60.47188964415504, 102.99949227769122, 53.82037551627382, 97.71962340642622, 64.32218253619219, 84.4908140840875, 120.95399904679822, 110.28319421278916, 50.31088759299566, 47.65828485996404, 108.131639596143, 104.70212107592349, 96.98887658541032, 115.75542355392108, 110.30516628377441, 67.09346171804344, 95.23299497488543, 76.8434130909908, 77.86613406867443, 74.51883235771764, 76.01609427617798, 71.01466408300368, 66.76027361137484, 64.88934649314551, 63.62295599965904], \"Term\": [\"google\", \"drupal\", \"cloud\", \"apple\", \"learning\", \"company\", \"customer\", \"machine\", \"service\", \"docker\", \"digital\", \"content\", \"module\", \"platform\", \"product\", \"business\", \"container\", \"mobile\", \"datum\", \"build\", \"blockchain\", \"android\", \"image\", \"software\", \"application\", \"developer\", \"device\", \"server\", \"support\", \"project\", \"neural\", \"deepmind\", \"palantir\", \"scikit\", \"openai\", \"kurzweil\", \"federighi\", \"convolutional\", \"theano\", \"unsupervised\", \"differential\", \"robotic\", \"neuron\", \"corrado\", \"marcus\", \"evernote\", \"supervised\", \"biology\", \"artificial\", \"interviewer\", \"keras\", \"imagenet\", \"alphago\", \"tensorflow\", \"hinton\", \"turing\", \"deeptext\", \"goldin\", \"heron\", \"brockman\", \"learning\", \"robot\", \"satellite\", \"brain\", \"researcher\", \"biological\", \"intelligence\", \"recognition\", \"cozmo\", \"machine\", \"chatbot\", \"human\", \"algorithm\", \"student\", \"train\", \"scientist\", \"computer\", \"speech\", \"learn\", \"watson\", \"intelligent\", \"accuracy\", \"training\", \"science\", \"research\", \"teach\", \"university\", \"predict\", \"language\", \"image\", \"people\", \"natural\", \"datum\", \"model\", \"network\", \"think\", \"thing\", \"facebook\", \"problem\", \"world\", \"google\", \"technology\", \"company\", \"really\", \"build\", \"software\", \"search\", \"example\", \"different\", \"blockchain\", \"ethereum\", \"ledger\", \"insurer\", \"fintech\", \"mckinsey\", \"ether\", \"coindesk\", \"jpmorgan\", \"telecom\", \"insurtech\", \"incumbent\", \"consensys\", \"corda\", \"banker\", \"omnichannel\", \"holdings\", \"cryptocurrencie\", \"hyperledger\", \"currency\", \"nicolas\", \"insurance\", \"javetski\", \"lynch\", \"settlement\", \"touchpoint\", \"digitization\", \"quartile\", \"harald\", \"demandware\", \"bitcoin\", \"financial\", \"disruption\", \"sector\", \"institution\", \"finance\", \"digital\", \"polymer\", \"marketing\", \"cryptocurrency\", \"growth\", \"performer\", \"customer\", \"consumer\", \"shopper\", \"banking\", \"marketer\", \"marketplace\", \"brand\", \"payment\", \"innovation\", \"analytic\", \"industry\", \"market\", \"investment\", \"transaction\", \"company\", \"business\", \"technology\", \"startup\", \"opportunity\", \"leader\", \"percent\", \"online\", \"experience\", \"product\", \"global\", \"datum\", \"service\", \"organization\", \"value\", \"world\", \"create\", \"platform\", \"mobile\", \"change\", \"focus\", \"provide\", \"constructor\", \"elasticsearch\", \"django\", \"integer\", \"protractor\", \"bayesian\", \"async\", \"copywrite\", \"recyclerview\", \"syntaxnet\", \"padding\", \"discriminator\", \"observable\", \"qunit\", \"struct\", \"databricks\", \"jshell\", \"saxena\", \"rxjava\", \"southampton\", \"selenium\", \"parallelism\", \"pinnery\", \"phpstorm\", \"textview\", \"hashmap\", \"intentservice\", \"takipi\", \"webassembly\", \"parsey\", \"causal\", \"keyword\", \"heading\", \"nosql\", \"filter\", \"method\", \"scala\", \"function\", \"schema\", \"query\", \"element\", \"class\", \"aggregation\", \"lambda\", \"typescript\", \"syntax\", \"variable\", \"parameter\", \"string\", \"javascript\", \"index\", \"event\", \"library\", \"spark\", \"error\", \"object\", \"return\", \"array\", \"implementation\", \"graph\", \"optimization\", \"thread\", \"write\", \"database\", \"property\", \"example\", \"stream\", \"value\", \"simple\", \"datum\", \"document\", \"style\", \"contain\", \"result\", \"define\", \"implement\", \"search\", \"number\", \"content\", \"framework\", \"generate\", \"different\", \"create\", \"problem\", \"model\", \"thing\", \"performance\", \"start\", \"change\", \"feature\", \"imessage\", \"globant\", \"greene\", \"hollar\", \"marketscape\", \"zendesk\", \"vmware\", \"kinvey\", \"lenovo\", \"swanest\", \"silbermann\", \"facetime\", \"meerkat\", \"bezos\", \"iphone\", \"schiller\", \"preemptible\", \"asana\", \"onhub\", \"stewart\", \"icloud\", \"macbook\", \"apple\", \"sierra\", \"tettra\", \"ibook\", \"goodson\", \"shuddle\", \"lizardcoin\", \"robotium\", \"franz\", \"rumor\", \"gchat\", \"snapchat\", \"whatsapp\", \"printing\", \"pinterest\", \"cardboard\", \"android\", \"printer\", \"samsung\", \"slack\", \"messaging\", \"google\", \"emulator\", \"phone\", \"debut\", \"cloud\", \"steve\", \"platform\", \"product\", \"amazon\", \"developer\", \"device\", \"launch\", \"enterprise\", \"announce\", \"smartphone\", \"today\", \"company\", \"design\", \"microsoft\", \"mobile\", \"service\", \"business\", \"build\", \"messenger\", \"million\", \"feature\", \"offer\", \"facebook\", \"people\", \"software\", \"thing\", \"customer\", \"experience\", \"world\", \"include\", \"technology\", \"start\", \"backlog\", \"monolith\", \"scrum\", \"ceramic\", \"leadfeeder\", \"kanban\", \"esperanto\", \"aquifer\", \"calayer\", \"agile\", \"inflation\", \"sprint\", \"paintcode\", \"oninit\", \"heroservice\", \"ontouchevent\", \"wolpert\", \"burndown\", \"botsman\", \"dropwizard\", \"bunnell\", \"defence\", \"catransaction\", \"mandeleil\", \"squads\", \"onintercepttouchevent\", \"traceability\", \"strictmode\", \"gosnaps\", \"audits\", \"defect\", \"microservices\", \"atlassian\", \"devops\", \"microservice\", \"businesspeople\", \"continuous\", \"creep\", \"animation\", \"asset\", \"principle\", \"reuse\", \"governance\", \"architecture\", \"gitlab\", \"software\", \"organization\", \"practice\", \"architect\", \"tracking\", \"development\", \"requirement\", \"project\", \"delivery\", \"review\", \"manager\", \"change\", \"process\", \"design\", \"solution\", \"build\", \"management\", \"deliver\", \"people\", \"developer\", \"component\", \"problem\", \"thing\", \"service\", \"start\", \"product\", \"business\", \"level\", \"require\", \"create\", \"value\", \"different\", \"think\", \"company\", \"constraintlayout\", \"heroku\", \"kinesis\", \"subnet\", \"webhook\", \"mycroft\", \"kubectl\", \"torus\", \"dynamodb\", \"spanner\", \"braintree\", \"zookeeper\", \"cloudfront\", \"failover\", \"gcloud\", \"balancer\", \"gateway\", \"sites\", \"exhibitor\", \"forwarding\", \"trooly\", \"opensuse\", \"schiaparelli\", \"postgres\", \"montgomery\", \"burda\", \"bitbucket\", \"balancing\", \"kubernete\", \"bigquery\", \"notification\", \"elastic\", \"kubernetes\", \"proxy\", \"powershell\", \"settings\", \"linux\", \"cluster\", \"backend\", \"https\", \"ubuntu\", \"instance\", \"windows\", \"traffic\", \"message\", \"compute\", \"google\", \"progressive\", \"service\", \"availability\", \"region\", \"route\", \"update\", \"request\", \"button\", \"engine\", \"connection\", \"create\", \"cloud\", \"server\", \"deployment\", \"check\", \"address\", \"access\", \"click\", \"facebook\", \"email\", \"application\", \"platform\", \"datum\", \"content\", \"store\", \"support\", \"network\", \"feature\", \"available\", \"maven\", \"hiragana\", \"dockerfile\", \"knapp\", \"voltron\", \"breakpoint\", \"locator\", \"bisect\", \"aurelia\", \"stunnel\", \"krita\", \"popslate\", \"pronunciation\", \"jenkin\", \"cordova\", \"procfile\", \"dotnet\", \"dakuten\", \"posey\", \"sprite\", \"jenkins\", \"webpack\", \"halal\", \"phippy\", \"rebase\", \"spence\", \"meditation\", \"bower\", \"symmetry\", \"laravel\", \"scout\", \"kosher\", \"debugger\", \"docker\", \"container\", \"comic\", \"eclipse\", \"plugin\", \"bicycle\", \"walkthrough\", \"command\", \"bundle\", \"commit\", \"debug\", \"swift\", \"injection\", \"directory\", \"dependency\", \"package\", \"script\", \"version\", \"server\", \"browser\", \"install\", \"image\", \"studio\", \"build\", \"react\", \"support\", \"release\", \"start\", \"project\", \"application\", \"visual\", \"sound\", \"windows\", \"developer\", \"change\", \"create\", \"include\", \"performance\", \"source\", \"environment\", \"follow\", \"feature\", \"development\", \"request\", \"process\", \"thing\", \"learn\", \"allow\", \"storyline\", \"nomination\", \"soundtracks\", \"epidemic\", \"hendrix\", \"goofs\", \"quotes\", \"trendwatching\", \"trivia\", \"clinton\", \"performed\", \"taglines\", \"coinfest\", \"thorium\", \"alptitude\", \"bitfury\", \"hubble\", \"women\", \"greta\", \"outbreak\", \"pebble\", \"sexuality\", \"pepsi\", \"boards\", \"norway\", \"reservoir\", \"murder\", \"octet\", \"negro\", \"claire\", \"woman\", \"nuclear\", \"mortality\", \"brazil\", \"thief\", \"plague\", \"tennis\", \"trump\", \"credits\", \"latin\", \"quantum\", \"specs\", \"death\", \"steal\", \"artist\", \"black\", \"crime\", \"america\", \"water\", \"mother\", \"reviews\", \"valve\", \"music\", \"country\", \"american\", \"income\", \"drink\", \"coffee\", \"population\", \"white\", \"child\", \"weekend\", \"young\", \"gender\", \"friend\", \"space\", \"earth\", \"people\", \"world\", \"technical\", \"light\", \"family\", \"leave\", \"write\", \"recent\", \"little\", \"million\", \"company\", \"kotlin\", \"autofill\", \"swarm\", \"logout\", \"coldline\", \"quizlet\", \"vxlan\", \"icaza\", \"swagbot\", \"alecrimcoredata\", \"jasonette\", \"tijms\", \"arjan\", \"redwood\", \"nearline\", \"korneyev\", \"guava\", \"impersonation\", \"xamarin\", \"containerd\", \"statcounter\", \"winfield\", \"bekele\", \"kopin\", \"cryptographically\", \"cooling\", \"bcrypt\", \"uirepeat\", \"uidata\", \"eddystone\", \"packet\", \"multipurpose\", \"password\", \"beacon\", \"pokemon\", \"encryption\", \"validator\", \"meetup\", \"breach\", \"decrypt\", \"token\", \"autocomplete\", \"firebase\", \"encrypt\", \"bucket\", \"intranet\", \"overlay\", \"storage\", \"authentication\", \"credential\", \"security\", \"cloud\", \"spring\", \"docker\", \"mobile\", \"attack\", \"label\", \"device\", \"network\", \"application\", \"access\", \"field\", \"google\", \"resource\", \"support\", \"datum\", \"platform\", \"provide\", \"server\", \"store\", \"container\", \"account\", \"design\", \"performance\", \"image\", \"different\", \"drupal\", \"acquia\", \"kelley\", \"dries\", \"overridden\", \"neurala\", \"drupalcon\", \"drush\", \"sirosh\", \"waterwheel\", \"buytaert\", \"sniffer\", \"keystoneml\", \"endpoints\", \"contributed\", \"mondo\", \"callahan\", \"lingq\", \"shopify\", \"minhash\", \"panels\", \"helix\", \"magento\", \"vessi\", \"cropx\", \"sitecore\", \"algorithmia\", \"blomfield\", \"phpcs\", \"almaden\", \"pfizer\", \"contrib\", \"vehicle\", \"module\", \"decoupled\", \"siemens\", \"wechat\", \"decouple\", \"commerce\", \"transition\", \"content\", \"china\", \"override\", \"ecommerce\", \"autonomous\", \"distribution\", \"workflow\", \"branch\", \"lightning\", \"driving\", \"contribute\", \"community\", \"suite\", \"account\", \"banking\", \"issue\", \"feature\", \"support\", \"government\", \"recommendation\", \"application\", \"developer\", \"provide\", \"build\", \"service\", \"state\", \"change\", \"share\", \"include\", \"allow\", \"experience\", \"development\", \"management\", \"project\", \"create\"], \"Total\": [5090.0, 991.0, 2319.0, 1666.0, 1950.0, 4728.0, 3053.0, 2682.0, 3517.0, 908.0, 1807.0, 1499.0, 674.0, 2393.0, 3063.0, 2710.0, 853.0, 1522.0, 4889.0, 3722.0, 857.0, 1304.0, 1745.0, 2144.0, 2277.0, 2118.0, 1309.0, 1140.0, 1840.0, 2086.0, 507.6415225665409, 109.66067628166428, 107.71930712825906, 84.42286693446438, 75.6867018836045, 58.214372150067454, 50.44889237996878, 48.5075220832628, 41.71272755325041, 41.71273292688354, 37.82755836340649, 101.81673709878724, 85.40300395639186, 35.88861752093392, 35.88857581098527, 74.68061056877707, 34.91793759253317, 32.97656175508833, 511.67604968688653, 31.03519269133191, 30.06450765471588, 30.064507085468176, 30.064506844449994, 327.16695594974453, 28.12313767498516, 28.123137236954072, 27.152452690993663, 27.152452678374747, 27.1524527384521, 25.2110827027599, 1950.9809565960275, 320.1312961250266, 67.78238481962117, 330.6262267561129, 392.56051791398727, 56.270492851439016, 867.2415138807111, 302.08548056886127, 51.35119487820417, 2682.5355663092105, 376.3234632121837, 1198.2468232445694, 867.6666441829461, 285.09542519350396, 454.70459162793384, 411.5404504559332, 1112.5258040195563, 196.37479623060807, 2514.9676280628073, 137.17286050272006, 197.3338844160136, 203.21463801749977, 536.6140257518512, 651.007287258855, 963.3998330110472, 226.31522096790255, 341.8495483849208, 326.38718063004495, 1425.294846519028, 1745.9965067221199, 3542.6951522952254, 395.0476955886308, 4889.619638895803, 2077.066080383839, 1587.9609500087074, 2142.8786678330002, 2839.8710905061, 1224.1998202618797, 1926.3764408539494, 1954.0986782703922, 5090.930202387453, 2442.607471440819, 4728.032214536991, 1440.642726397962, 3722.53090861625, 2144.380815775169, 1293.860114914605, 2734.4259767952244, 2223.428593222226, 857.782935094778, 244.90531532385222, 137.8003233020863, 142.73781903785138, 204.12890245677755, 132.8221477753593, 65.40522950244927, 60.446726578499984, 49.53788599352577, 44.57932041980532, 38.62904611879712, 120.8660950491193, 30.695340871039242, 33.65326262968643, 27.72019959421897, 26.728488913876305, 24.745062842839076, 27.719648784240004, 22.761637873465418, 204.12663861571423, 42.53946102993245, 366.6052721171178, 19.786502058339092, 19.786498479007683, 41.525909560730284, 41.448843852619206, 43.562724823817284, 23.748079002653323, 17.803076363985753, 17.80305866526783, 814.9175914199053, 636.934821655481, 112.8872887275516, 199.18429136902003, 175.30406825294818, 176.6882331459487, 1807.9156119531722, 74.21840733459126, 712.3538279411241, 65.39168109282653, 717.3656946039946, 86.08838099797207, 3053.4698965603197, 1022.5892757281754, 60.321768196919706, 370.2678710408122, 135.00471477333318, 174.98047615992533, 722.4527477295417, 480.81412238091167, 572.5331327169408, 484.74730061184175, 1073.8048100028414, 1242.959715038089, 475.70462365559547, 426.65921312844654, 4728.032214536991, 2710.5883398594433, 2442.607471440819, 918.7811527292581, 626.316322795674, 480.9670865934546, 710.6453811093896, 841.4974401674348, 2112.804848925593, 3063.642965317401, 553.2173686249299, 4889.619638895803, 3517.2433011646676, 1157.1410682733997, 1906.541196394899, 1954.0986782703922, 3243.045718257832, 2393.4377001983057, 1522.1696885352123, 3084.640745335425, 1265.4689774283493, 2045.1207744963735, 84.13003513538028, 74.34365196063925, 71.40766485523523, 57.70286301165337, 40.090461701001125, 38.1331366646735, 93.88315439793163, 33.23982323905869, 31.282497919220837, 32.25987699437528, 30.303835166471636, 29.32517311592634, 28.346509637042512, 25.410523018863593, 25.410521241613, 25.410522124215483, 24.43185941628208, 23.453196744495674, 23.45350011910799, 22.474531451882605, 21.495871978806893, 21.495871095581197, 21.495871215734574, 28.299186401268017, 20.51720931272994, 19.538546880973247, 19.538547197104666, 19.538593076375275, 29.320780828090417, 33.22361317737914, 37.095024178554034, 224.79252577582483, 37.043863328670504, 78.76786731769282, 529.3453111808308, 1150.4129495895265, 62.56386131642528, 1135.9893803622983, 83.0810841195704, 600.3221480663176, 649.6264081760728, 891.9444389317139, 180.708081013407, 108.18325185477684, 158.33033160555894, 156.578844666112, 411.15465022310065, 312.0116273340489, 247.086219802103, 645.2841044220149, 183.98633068045444, 1440.111688390055, 816.0146484091302, 216.64081178865058, 622.2610195475492, 860.0991877848869, 717.8004385762769, 271.04262566814367, 492.809170317348, 335.40466198298714, 198.9261487481299, 220.723684116526, 1939.1817048071277, 882.2248499815472, 428.1282707945749, 2734.4259767952244, 628.0258307941143, 1906.541196394899, 1308.814254923136, 4889.619638895803, 573.1721491780464, 519.7002852941839, 521.8959993946335, 1681.2557908687634, 651.8681529346729, 692.1797335804864, 1293.860114914605, 1806.6094473747319, 1499.011264340923, 803.2921882115812, 846.7881233110442, 2223.428593222226, 3243.045718257832, 1926.3764408539494, 2077.066080383839, 2839.8710905061, 1285.853479612569, 2700.855326208051, 3084.640745335425, 2330.7018920184096, 42.615590650231844, 42.61559012725989, 62.98575433075903, 20.32611289601738, 20.32611370369149, 20.32612333900015, 41.5241562612738, 19.357003082681295, 19.35700209800773, 19.357988734945625, 27.110562221587717, 18.384926866424507, 17.418789458892594, 37.7902245840249, 374.5523329335536, 27.11085909824999, 15.480571893762825, 14.511466334855244, 14.511464934744295, 16.42863308733758, 44.362831676328085, 51.35904524036177, 1666.9444267853128, 30.947877886893423, 13.542358590683063, 13.54235859067989, 13.542358339630258, 12.573249603196885, 12.573251358087354, 12.573247187864212, 26.126946226715496, 63.735743984482404, 25.157705276526546, 77.51329718562543, 85.16268552693356, 35.873764694421915, 147.04813964030373, 39.716753416866254, 1304.6551817458624, 48.3357810735383, 87.78352687585084, 465.1497503691241, 337.3535466265015, 5090.930202387453, 39.614956835168584, 670.4350236968937, 53.451090232961505, 2319.4560433085617, 147.8641174096805, 2393.4377001983057, 3063.642965317401, 729.6141835870662, 2118.125500286477, 1309.342207481332, 1023.7101290352578, 730.5591177312687, 544.1024708057818, 317.147483794899, 1290.704391081672, 4728.032214536991, 2178.043036662915, 1002.8509712624781, 1522.1696885352123, 3517.2433011646676, 2710.5883398594433, 3722.53090861625, 296.23817960798834, 1034.2477085893465, 2330.7018920184096, 1193.3166893822315, 1224.1998202618797, 3542.6951522952254, 2144.380815775169, 2839.8710905061, 3053.4698965603197, 2112.804848925593, 1954.0986782703922, 2115.4950378825733, 2442.607471440819, 2700.855326208051, 72.08062542079361, 51.332429824753085, 136.2728390846198, 38.48831033256961, 38.48830971562093, 31.57224250368896, 29.596225558167234, 24.6561752940869, 22.68016211575266, 520.623436713916, 20.704142712371965, 234.01634802711703, 18.728124980281542, 18.728124916889758, 18.728124916889758, 18.72812480867569, 17.740114681299186, 16.752106472517667, 16.75210656282822, 16.752105656327583, 16.75210376243287, 22.67234571519564, 14.7760878445416, 14.776088088021337, 13.788078678940595, 13.788078387433066, 13.78807788832544, 13.788077740631088, 13.788075133928873, 13.788077532850881, 64.81761883825813, 53.15709053282225, 32.507673934108546, 121.41120010680396, 405.12997850869897, 20.568784457363403, 246.7620112116981, 56.946345359129715, 180.10816367196543, 464.18398174447384, 319.30210250520463, 215.0934210468567, 95.46126186197918, 579.2225440310824, 42.242374499579284, 2144.380815775169, 1157.1410682733997, 668.6067588019448, 148.62818682021538, 179.33826297811132, 1436.144616418111, 303.69735897316707, 2086.054375493754, 333.2425804597198, 478.8005854454604, 673.4408179926241, 3084.640745335425, 2102.64779358796, 2178.043036662915, 1226.5021997928134, 3722.53090861625, 924.6046692991007, 759.0365356633027, 3542.6951522952254, 2118.125500286477, 743.5525861296305, 1926.3764408539494, 2839.8710905061, 3517.2433011646676, 2700.855326208051, 3063.642965317401, 2710.5883398594433, 1247.376111248895, 1314.6586962394074, 3243.045718257832, 1906.541196394899, 2223.428593222226, 2142.8786678330002, 4728.032214536991, 67.81506359068405, 57.30674574061441, 55.3961440291982, 68.75786842826996, 51.574937656790304, 43.93252619587473, 43.93252530283359, 35.334811527999925, 33.424208727154436, 32.468907587196924, 27.6923995322558, 26.73710019242107, 31.49181149916477, 23.871193827081083, 77.20274626010222, 156.2318350658618, 84.96089963160048, 20.049988978280762, 20.04998683381541, 17.18408294371416, 17.18408464288374, 16.228782150486115, 15.273479634399566, 15.273480805725686, 14.318179760136424, 14.318142143066877, 41.11954182877651, 122.44564957233447, 13.362996035222771, 118.18612776713458, 336.4291639229325, 126.92058228742141, 295.13962941080564, 190.73643973665295, 43.06254450371138, 24.694249589524222, 457.1269325012358, 420.16358586003355, 236.81925249490695, 62.505203406658595, 85.72076061036887, 1008.4347933721549, 603.7790964771268, 436.5227324176389, 884.65105272867, 425.30634636087024, 5090.930202387453, 143.9420706512653, 3517.2433011646676, 164.47895168333196, 280.01369156461374, 221.41586002227848, 1078.8554737209274, 948.1259967783344, 507.6905936727672, 691.5097593130813, 440.5538442491044, 3243.045718257832, 2319.4560433085617, 1140.1147727710995, 379.57835875007663, 1085.2441215068925, 692.9852276582136, 1066.1180570383215, 646.0766965022165, 1224.1998202618797, 784.4216991637877, 2277.2195671124628, 2393.4377001983057, 4889.619638895803, 1499.011264340923, 1118.499744679566, 1840.7971320715599, 1587.9609500087074, 2330.7018920184096, 1144.786570486405, 73.88561592448937, 59.86654396734285, 45.8373565234042, 30.872890698560745, 28.067053120164655, 30.88183351767355, 22.455379412425586, 21.520100227968186, 20.58482007411959, 17.778982551960297, 16.843703234214402, 16.8437038526557, 16.843703608280357, 15.908424076885119, 15.908960803247291, 14.97314521761248, 14.973145341001974, 14.037865981704133, 14.037865954897674, 14.037866374935481, 75.97519122622874, 31.731264333216718, 13.102586759885424, 17.789989421434214, 12.167307645375633, 12.16730784004929, 51.56944712686382, 11.232029765476417, 11.23202860621955, 18.740033435209952, 55.44034133580451, 21.563482271143588, 73.21626018264952, 908.1796995110288, 853.0481615081029, 44.101494811327576, 63.032113837270536, 274.0496447524809, 52.70376546978491, 21.547991710606823, 773.2015720595541, 187.90875856473951, 333.41308081931413, 197.11061597255969, 192.60324616330064, 72.49681212982466, 203.28516240151924, 339.16173205864874, 423.414190439082, 422.26624550647347, 1217.9232572949848, 1140.1147727710995, 636.2782158680718, 335.3468562173829, 1745.9965067221199, 329.71272655843984, 3722.53090861625, 373.06966247232515, 1840.7971320715599, 1225.191287685845, 2700.855326208051, 2086.054375493754, 2277.2195671124628, 366.2890148513827, 440.83730920666915, 603.7790964771268, 2118.125500286477, 3084.640745335425, 3243.045718257832, 2115.4950378825733, 1285.853479612569, 1537.829308193158, 756.3264446634498, 1263.6189593933525, 2330.7018920184096, 1436.144616418111, 948.1259967783344, 2102.64779358796, 2839.8710905061, 2514.9676280628073, 1668.5078755170125, 38.63173555044553, 32.197236927372856, 26.6819525451366, 21.16666793530922, 19.32823963443711, 19.328239867861644, 19.32824142754565, 18.40902804278461, 38.6493648885955, 18.409786398431972, 17.489811731093532, 17.48983657328017, 16.570598065199427, 15.651383257784413, 15.651385229831025, 15.651385628785459, 14.732169806220398, 14.732170017279937, 14.732170931962038, 14.732168956061072, 31.32948169957837, 13.812955297203326, 16.5816842343511, 45.16756040482018, 12.893741646232458, 12.89374180067616, 12.893742027989855, 12.893742746219154, 11.97452701945857, 11.974526748085788, 307.3538194137176, 43.121314288456745, 24.895422908362175, 143.57572206800043, 35.109520117296015, 72.98614522927554, 24.901892320178277, 88.84025881193345, 44.10230063696308, 41.58245815431724, 84.45681351438613, 41.53549260558613, 123.37933975144983, 81.05077010199014, 92.09834212554594, 211.01253896741994, 46.42185452779456, 209.2826844268873, 160.5135484481451, 55.89865649775371, 43.57594263003089, 31.423415555713213, 285.1580889932073, 405.58481238903954, 178.50650120830772, 80.11337878646599, 87.95031845084836, 156.9485749111432, 113.92541375463959, 185.6558370308391, 250.8621124248436, 104.63775448282797, 162.2402048770799, 96.75541779334146, 402.9192644932881, 813.1862574934295, 110.33396778853998, 3542.6951522952254, 1954.0986782703922, 410.35503959125117, 256.97484007081505, 216.26671673425273, 643.2970677014124, 1939.1817048071277, 482.25956440767305, 742.4328417542783, 1034.2477085893465, 4728.032214536991, 158.40372817201188, 63.350083877674365, 117.14522875259333, 32.586500770887035, 19.402108153826806, 18.523844247861216, 17.64418943195492, 16.765231079190958, 15.007310740058688, 14.12835190952259, 12.370432794146666, 11.491472654089746, 11.491472654089746, 10.612513272311315, 9.733554298614877, 9.7335540778929, 9.733555203880755, 9.733554162786266, 49.57029780712425, 16.805320038855346, 8.854594062494076, 8.854594250784046, 8.85459434205903, 8.854594494938663, 8.854596849116025, 8.854602841251303, 7.975634560776451, 7.97563459151005, 7.97563459151005, 7.975634560998153, 76.84501948125178, 16.882123125085478, 250.4011376869009, 60.61564390213529, 86.05574377670568, 140.07991546119803, 27.60451768876746, 48.16516767581876, 33.0684531550541, 23.117770646081315, 281.15217444111977, 23.193121454984684, 78.43574341134216, 113.81566958985908, 156.2337238100312, 38.51371109390937, 54.087609188971754, 551.878912472525, 129.7294495397909, 76.63390910616314, 713.9912036066804, 2319.4560433085617, 349.37735718123776, 908.1796995110288, 1522.1696885352123, 173.73746140625104, 466.8241195471416, 1309.342207481332, 1587.9609500087074, 2277.2195671124628, 1066.1180570383215, 712.1800782148491, 5090.930202387453, 901.5001163333382, 1840.7971320715599, 4889.619638895803, 2393.4377001983057, 2045.1207744963735, 1140.1147727710995, 1118.499744679566, 853.0481615081029, 827.3810025114036, 2178.043036662915, 1285.853479612569, 1745.9965067221199, 2223.428593222226, 991.7211161074896, 157.83121990718283, 27.376052127770514, 23.112811090414407, 19.70221815186763, 19.70221886078008, 18.849571679401745, 46.31536294421909, 17.99692664975093, 17.144273246255803, 17.14427419681215, 15.438977565421501, 15.438978716963438, 15.438982430128709, 14.58632905462507, 14.586332151251812, 14.586332729560956, 12.881034669090518, 12.881040611420579, 12.02838575535907, 19.72045815220558, 11.175737654553245, 20.577861986698736, 10.323088152489637, 10.32308978409425, 10.323090325086783, 10.32309197697679, 8.617792411403455, 8.617792344275834, 8.617795596863852, 16.408082128260546, 18.28587829600822, 168.5348895896285, 674.6027648882424, 26.152645650494946, 22.791180048731974, 129.07233870980252, 59.4690776091676, 350.69344545188585, 245.54005291279907, 1499.011264340923, 237.5691343075299, 94.07335824343676, 149.1558446761273, 137.6900032063134, 370.2297634212222, 220.80512535047893, 217.9308839850907, 76.33435672448837, 34.084302131506206, 259.515452385725, 775.1097531583177, 219.53040986297967, 827.3810025114036, 370.2678710408122, 917.764226206031, 2330.7018920184096, 1840.7971320715599, 268.85697566681324, 237.06307072260813, 2277.2195671124628, 2118.125500286477, 2045.1207744963735, 3722.53090861625, 3517.2433011646676, 738.246735176263, 3084.640745335425, 1427.9554741003767, 2115.4950378825733, 1668.5078755170125, 2112.804848925593, 1436.144616418111, 924.6046692991007, 2086.054375493754, 3243.045718257832], \"loglift\": [30.0, 29.0, 28.0, 27.0, 26.0, 25.0, 24.0, 23.0, 22.0, 21.0, 20.0, 19.0, 18.0, 17.0, 16.0, 15.0, 14.0, 13.0, 12.0, 11.0, 10.0, 9.0, 8.0, 7.0, 6.0, 5.0, 4.0, 3.0, 2.0, 1.0, 1.6578, 1.6517, 1.6516, 1.6494, 1.6482, 1.6448, 1.6425, 1.6419, 1.639, 1.6389, 1.6362, 1.6361, 1.6357, 1.6356, 1.6356, 1.6353, 1.6349, 1.6335, 1.6326, 1.6318, 1.6309, 1.6309, 1.6309, 1.6291, 1.6289, 1.6289, 1.6278, 1.6278, 1.6278, 1.6253, 1.6191, 1.6117, 1.6247, 1.6064, 1.5873, 1.6161, 1.5452, 1.5727, 1.6155, 1.4902, 1.5422, 1.4888, 1.4952, 1.5413, 1.5127, 1.4962, 1.4159, 1.5367, 1.2739, 1.5294, 1.4826, 1.4712, 1.3161, 1.2688, 1.1749, 1.4382, 1.3424, 1.3517, 0.9694, 0.9139, 0.7067, 1.2928, 0.45, 0.7127, 0.7578, 0.6432, 0.4716, 0.7758, 0.5386, 0.4878, -0.1208, 0.2392, -0.2217, 0.565, -0.142, 0.2315, 0.6116, -0.0144, 0.1207, 1.7852, 1.783, 1.7803, 1.7796, 1.7778, 1.7737, 1.7734, 1.7724, 1.7692, 1.7673, 1.7643, 1.7628, 1.7585, 1.7569, 1.7555, 1.7543, 1.7517, 1.7517, 1.7486, 1.7442, 1.7437, 1.7429, 1.7428, 1.7428, 1.7412, 1.7401, 1.7396, 1.7384, 1.7378, 1.7378, 1.7171, 1.7165, 1.7267, 1.7036, 1.7044, 1.6956, 1.6085, 1.7149, 1.6227, 1.7156, 1.5756, 1.6969, 1.4646, 1.5389, 1.7173, 1.5822, 1.6598, 1.6319, 1.4918, 1.5118, 1.4877, 1.5015, 1.3992, 1.3702, 1.4811, 1.478, 1.0803, 1.1528, 1.0889, 1.2759, 1.3448, 1.4165, 1.2908, 1.1789, 0.8301, 0.636, 1.3173, 0.2617, 0.2407, 0.873, 0.4961, 0.4148, 0.0472, 0.2592, 0.593, -0.033, 0.6875, 0.2347, 1.8624, 1.8611, 1.8607, 1.8573, 1.8512, 1.8501, 1.85, 1.8468, 1.8452, 1.8443, 1.8443, 1.8433, 1.8423, 1.8387, 1.8387, 1.8387, 1.8373, 1.8358, 1.8344, 1.8342, 1.8324, 1.8324, 1.8324, 1.8305, 1.8305, 1.8283, 1.8283, 1.828, 1.8275, 1.8261, 1.8238, 1.7967, 1.8182, 1.8026, 1.723, 1.6442, 1.7854, 1.6184, 1.7577, 1.6135, 1.6004, 1.571, 1.688, 1.7282, 1.6948, 1.6945, 1.6171, 1.634, 1.6548, 1.567, 1.6564, 1.4262, 1.4601, 1.6179, 1.4839, 1.4244, 1.4362, 1.5773, 1.4805, 1.5332, 1.62, 1.5978, 1.1257, 1.2871, 1.4495, 1.0132, 1.3578, 0.9996, 1.0969, 0.6866, 1.3183, 1.339, 1.3364, 0.9289, 1.2598, 1.231, 0.949, 0.7894, 0.8347, 1.107, 1.0747, 0.4852, 0.2165, 0.5492, 0.4858, 0.1855, 0.7666, 0.1871, 0.053, 0.2713, 2.0513, 2.0513, 2.0418, 2.0288, 2.0288, 2.0288, 2.0285, 2.0266, 2.0266, 2.0243, 2.0232, 2.023, 2.0215, 2.0192, 2.017, 2.0161, 2.0151, 2.0112, 2.0112, 2.0085, 2.0084, 2.0083, 2.0082, 2.0077, 2.0068, 2.0068, 2.0068, 2.0016, 2.0016, 2.0016, 1.9999, 1.9905, 1.9966, 1.9781, 1.9689, 1.9828, 1.935, 1.9781, 1.7834, 1.9529, 1.9158, 1.7546, 1.7221, 1.3316, 1.9369, 1.5459, 1.8965, 1.3575, 1.748, 1.2723, 1.2228, 1.3917, 1.1643, 1.211, 1.2617, 1.3303, 1.3943, 1.487, 1.1149, 0.7647, 0.9268, 1.1413, 1.0118, 0.6863, 0.6482, 0.4752, 1.4401, 0.9364, 0.5957, 0.821, 0.8046, 0.3233, 0.4333, 0.2212, 0.095, 0.3189, 0.3804, 0.2919, 0.1422, 0.0246, 2.2507, 2.2459, 2.2455, 2.2403, 2.2403, 2.2354, 2.2336, 2.2276, 2.2245, 2.2217, 2.2208, 2.2193, 2.2163, 2.2163, 2.2163, 2.2163, 2.2137, 2.2108, 2.2108, 2.2108, 2.2108, 2.2043, 2.2036, 2.2036, 2.1993, 2.1993, 2.1993, 2.1993, 2.1993, 2.1993, 2.1905, 2.1581, 2.1701, 2.0943, 2.0125, 2.1764, 2.003, 2.0701, 1.9352, 1.8081, 1.8505, 1.9016, 1.9928, 1.7456, 2.0919, 1.4503, 1.5422, 1.6255, 1.8798, 1.825, 1.3774, 1.6923, 1.2265, 1.6349, 1.5287, 1.4229, 0.954, 1.0459, 0.9461, 1.0334, 0.5878, 1.1115, 1.1329, 0.3887, 0.6255, 1.103, 0.5657, 0.3213, 0.1929, 0.3188, 0.2326, 0.2836, 0.7675, 0.7171, -0.017, 0.3663, 0.1893, 0.1742, -0.5804, 2.4827, 2.4804, 2.4798, 2.4791, 2.4787, 2.4758, 2.4758, 2.471, 2.4696, 2.4688, 2.4642, 2.463, 2.4597, 2.4591, 2.459, 2.4577, 2.4573, 2.452, 2.452, 2.4446, 2.4446, 2.4416, 2.4381, 2.4381, 2.4342, 2.4342, 2.4339, 2.4293, 2.429, 2.4281, 2.3836, 2.3861, 2.34, 2.3328, 2.3869, 2.4132, 2.2077, 2.1451, 2.1949, 2.3196, 2.2799, 1.956, 2.0102, 1.9962, 1.7786, 1.9, 1.2229, 2.1067, 1.2495, 2.0508, 1.8936, 1.9591, 1.4401, 1.4771, 1.6755, 1.5429, 1.6987, 0.9273, 1.0477, 1.3223, 1.7447, 1.2895, 1.4068, 1.1951, 1.4303, 1.0545, 1.3059, 0.6624, 0.552, -0.0137, 0.8133, 0.9735, 0.5751, 0.6525, 0.3104, 0.9084, 2.6983, 2.6978, 2.6933, 2.6841, 2.6813, 2.6774, 2.6734, 2.6717, 2.6699, 2.663, 2.6602, 2.6602, 2.6602, 2.6571, 2.6554, 2.6536, 2.6536, 2.6496, 2.6496, 2.6496, 2.6473, 2.6452, 2.6449, 2.6443, 2.6396, 2.6396, 2.6334, 2.6333, 2.6333, 2.6326, 2.6126, 2.6234, 2.5666, 2.4056, 2.3915, 2.565, 2.5319, 2.411, 2.5204, 2.6053, 2.0219, 2.2032, 2.0925, 2.1524, 2.1397, 2.3466, 2.106, 1.987, 1.9264, 1.917, 1.5509, 1.5645, 1.7101, 1.8895, 1.3246, 1.8734, 0.9448, 1.7769, 1.0148, 1.1614, 0.7568, 0.8577, 0.7948, 1.6844, 1.589, 1.3877, 0.6233, 0.3683, 0.1832, 0.434, 0.7861, 0.6452, 1.1624, 0.7703, 0.2887, 0.6602, 0.9721, 0.2672, -0.0732, 0.0418, 0.4256, 3.1456, 3.1411, 3.1355, 3.1268, 3.1228, 3.1228, 3.1228, 3.1205, 3.1181, 3.118, 3.118, 3.118, 3.1151, 3.112, 3.112, 3.112, 3.1084, 3.1084, 3.1084, 3.1084, 3.108, 3.1043, 3.1014, 3.1013, 3.0996, 3.0996, 3.0996, 3.0996, 3.0941, 3.0941, 3.086, 3.0914, 3.0915, 3.0533, 3.0796, 3.0623, 3.0863, 3.0352, 3.0591, 3.0505, 2.9633, 3.017, 2.861, 2.9047, 2.8681, 2.694, 2.9464, 2.6357, 2.67, 2.8904, 2.9376, 3.0062, 2.4496, 2.2705, 2.4633, 2.7006, 2.6581, 2.4323, 2.5448, 2.3132, 2.1623, 2.5379, 2.3034, 2.566, 1.748, 1.3312, 2.4807, 0.3482, 0.6636, 1.6457, 1.9326, 2.0128, 1.1931, 0.3464, 1.2932, 0.8329, 0.4909, -1.0034, 3.2394, 3.2385, 3.2281, 3.2255, 3.207, 3.2044, 3.2024, 3.1997, 3.1934, 3.1896, 3.1804, 3.1747, 3.1747, 3.168, 3.1601, 3.1601, 3.1601, 3.1601, 3.1591, 3.1572, 3.1505, 3.1505, 3.1505, 3.1505, 3.1505, 3.1504, 3.1386, 3.1386, 3.1386, 3.1386, 3.13, 3.1338, 3.105, 3.1114, 3.0934, 3.068, 3.1076, 3.0689, 3.0745, 3.0956, 2.8944, 3.0748, 2.9354, 2.8636, 2.7499, 2.9565, 2.8881, 2.348, 2.5958, 2.7212, 2.0693, 1.693, 2.2135, 1.8993, 1.5434, 2.3084, 1.8953, 1.4712, 1.224, 0.9434, 1.3021, 1.4973, 0.3506, 1.2999, 0.8081, 0.1424, 0.56, 0.6305, 0.9858, 0.9609, 1.1496, 1.1735, 0.3677, 0.7946, 0.5101, 0.2628, 3.5491, 3.5446, 3.5181, 3.5122, 3.5054, 3.5054, 3.5034, 3.5018, 3.5011, 3.4986, 3.4986, 3.4928, 3.4928, 3.4928, 3.4893, 3.4893, 3.4893, 3.481, 3.481, 3.4759, 3.4727, 3.4701, 3.4677, 3.4632, 3.4632, 3.4632, 3.4632, 3.445, 3.445, 3.445, 3.4319, 3.3729, 3.1075, 2.9058, 3.2996, 3.2881, 2.8267, 3.0088, 2.4862, 2.5693, 1.8433, 2.4801, 2.7757, 2.566, 2.564, 2.1096, 2.2954, 2.2434, 2.7212, 3.1063, 2.0934, 1.5317, 2.1442, 1.4138, 1.7997, 1.1647, 0.5915, 0.7351, 1.8741, 1.9457, 0.5027, 0.5428, 0.5014, 0.0793, 0.0878, 1.1518, 0.0721, 0.6278, 0.248, 0.4414, 0.2252, 0.5432, 0.9218, 0.0797, -0.3813], \"logprob\": [30.0, 29.0, 28.0, 27.0, 26.0, 25.0, 24.0, 23.0, 22.0, 21.0, 20.0, 19.0, 18.0, 17.0, 16.0, 15.0, 14.0, 13.0, 12.0, 11.0, 10.0, 9.0, 8.0, 7.0, 6.0, 5.0, 4.0, 3.0, 2.0, 1.0, -5.6774, -7.2158, -7.2338, -7.4797, -7.5901, -7.856, -8.0015, -8.0414, -8.1952, -8.1952, -8.2957, -7.3057, -7.4819, -8.3489, -8.349, -7.6164, -8.377, -8.4357, -5.6946, -8.498, -8.5307, -8.5307, -8.5307, -6.1454, -8.5995, -8.5995, -8.6357, -8.6357, -8.6357, -8.7124, -4.3698, -6.1845, -7.724, -6.1575, -6.005, -7.9187, -5.2545, -6.2816, -8.0108, -4.1802, -6.0923, -4.9875, -5.304, -6.3708, -5.9326, -6.0488, -5.1347, -6.7483, -4.461, -7.1144, -6.7975, -6.7795, -5.9635, -5.8176, -5.5196, -6.7048, -6.3882, -6.4251, -5.3334, -5.186, -4.6856, -6.2931, -4.6201, -5.2136, -5.4369, -5.2518, -5.1418, -5.6791, -5.463, -5.4994, -5.1506, -5.5249, -5.3254, -5.7271, -5.4848, -5.6628, -5.788, -5.6657, -5.7375, -5.0254, -6.2811, -6.8589, -6.8243, -6.4684, -6.9023, -7.611, -7.6908, -7.893, -8.0004, -8.1466, -7.0075, -8.3823, -8.2919, -8.4873, -8.5249, -8.6046, -8.4912, -8.6913, -6.502, -8.0708, -5.9177, -8.8371, -8.8371, -8.0974, -8.1004, -8.0511, -8.6591, -8.9478, -8.9478, -5.1448, -5.3918, -7.1119, -6.5671, -6.694, -6.695, -4.4565, -7.543, -5.3736, -7.669, -5.4138, -7.4127, -4.0763, -5.0959, -7.748, -6.0686, -6.9998, -6.7683, -5.4905, -5.8777, -5.7272, -5.8798, -5.1868, -5.0695, -5.9191, -6.031, -4.0234, -4.5072, -4.6753, -5.466, -5.7803, -5.9726, -5.7079, -5.6509, -5.079, -4.9015, -5.932, -4.8084, -5.1588, -5.6383, -5.5158, -5.5725, -5.4335, -5.5252, -5.644, -5.5638, -5.7343, -5.707, -7.2702, -7.3951, -7.4359, -7.6524, -8.0226, -8.0737, -7.1729, -8.2144, -8.2767, -8.2468, -8.3094, -8.3432, -8.3782, -8.4911, -8.4911, -8.4911, -8.5317, -8.5741, -8.5755, -8.6184, -8.6647, -8.6647, -8.6647, -8.3916, -8.7132, -8.7643, -8.7643, -8.7645, -8.3591, -8.2356, -8.1277, -6.3531, -8.1346, -7.3959, -5.5703, -4.8729, -7.6433, -4.9113, -7.3874, -5.554, -5.4881, -5.2005, -6.6801, -7.1529, -6.8055, -6.8169, -5.9289, -6.1879, -6.4004, -5.5282, -6.6937, -4.8663, -5.4005, -6.5688, -5.6477, -5.3835, -5.5526, -6.3854, -5.8844, -6.2164, -6.652, -6.5702, -4.8693, -5.4954, -6.056, -4.6381, -5.7646, -5.0123, -5.2911, -4.3835, -5.8955, -5.9727, -5.971, -5.2087, -5.8253, -5.7941, -5.4506, -5.2763, -5.4176, -5.7693, -5.7488, -5.3729, -5.2642, -5.4523, -5.4404, -5.428, -5.6392, -5.4765, -5.4778, -5.5397, -7.7614, -7.7614, -7.3802, -8.5242, -8.5242, -8.5243, -7.8102, -8.5753, -8.5753, -8.5775, -8.2418, -8.6304, -8.6859, -7.9137, -5.6222, -8.2489, -8.8103, -8.8788, -8.8788, -8.7574, -7.7642, -7.6178, -4.1381, -8.1249, -8.9523, -8.9523, -8.9523, -9.0317, -9.0317, -9.0317, -8.3021, -7.4197, -8.3432, -7.2364, -7.1515, -8.0021, -6.6392, -7.9051, -4.6079, -7.7339, -7.1743, -5.668, -6.0217, -3.6981, -7.9488, -5.5111, -7.6897, -4.4584, -6.8206, -4.5122, -4.3148, -5.5808, -4.7424, -5.1767, -5.372, -5.6409, -5.8715, -6.3185, -5.2871, -4.339, -4.952, -5.513, -5.2252, -4.7133, -5.0118, -4.8675, -6.4337, -5.6871, -5.2153, -5.6595, -5.6503, -5.069, -5.461, -5.3922, -5.4459, -5.5903, -5.6069, -5.6161, -5.6219, -5.6391, -7.0364, -7.3807, -6.4048, -7.6743, -7.6743, -7.8773, -7.9438, -8.1323, -8.2189, -5.0882, -8.3138, -5.8902, -8.4186, -8.4186, -8.4186, -8.4186, -8.4754, -8.5357, -8.5357, -8.5357, -8.5357, -8.2395, -8.6683, -8.6683, -8.7419, -8.7419, -8.7419, -8.7419, -8.7419, -8.7419, -7.2028, -7.4336, -7.9134, -6.6715, -5.5483, -8.3648, -6.0535, -7.4528, -6.4362, -5.6165, -5.9483, -6.2923, -7.0134, -5.4576, -7.7297, -4.444, -4.9691, -5.4343, -6.6837, -6.5507, -4.9178, -6.1566, -4.6955, -6.1212, -5.8649, -5.6296, -4.5768, -4.8681, -4.9326, -5.4196, -4.755, -5.6241, -5.8, -5.0037, -5.2811, -5.8505, -5.4358, -5.2922, -5.2066, -5.3448, -5.305, -5.3764, -5.6686, -5.6665, -5.4977, -5.6456, -5.6689, -5.7209, -5.6841, -6.8655, -7.0362, -7.0706, -6.8553, -7.1432, -7.3065, -7.3065, -7.5291, -7.5861, -7.6159, -7.7796, -7.8159, -7.6555, -7.9332, -6.7595, -6.0559, -6.6654, -8.1147, -8.1147, -8.2763, -8.2763, -8.3366, -8.4007, -8.4007, -8.4692, -8.4693, -7.4145, -6.328, -8.5435, -6.3646, -5.3629, -6.3353, -5.5375, -5.9812, -7.4154, -7.9452, -5.2323, -5.3792, -5.9028, -7.1101, -6.834, -4.6928, -5.1516, -5.4899, -5.0011, -5.6122, -3.8069, -6.4888, -4.15, -6.4113, -6.0365, -6.2058, -5.1412, -5.2333, -5.6596, -5.4831, -5.7782, -4.5534, -4.7682, -5.2038, -5.8812, -5.2859, -5.6172, -5.398, -5.6638, -5.4004, -5.5941, -5.1718, -5.2325, -5.0838, -5.4391, -5.5717, -5.4719, -5.5422, -5.5007, -5.6136, -6.5641, -6.7751, -7.0465, -7.451, -7.5491, -7.4574, -7.78, -7.8242, -7.8705, -8.0239, -8.0807, -8.0807, -8.0807, -8.141, -8.1427, -8.2051, -8.2051, -8.2736, -8.2736, -8.2736, -6.5873, -7.4624, -8.3472, -8.042, -8.4266, -8.4266, -6.9886, -8.5129, -8.5129, -8.0017, -6.937, -7.8705, -6.7049, -4.3479, -4.4246, -7.2135, -6.8894, -5.5407, -7.0798, -7.8893, -4.8925, -6.1257, -5.6631, -6.1288, -6.1646, -6.9349, -6.1443, -5.7514, -5.5902, -5.6023, -4.9092, -4.9616, -5.3993, -5.8603, -4.7752, -5.8934, -4.398, -5.8663, -5.0322, -5.2927, -4.9069, -5.0642, -5.0395, -5.9771, -5.8873, -5.774, -5.2834, -5.1624, -5.2975, -5.4739, -5.6196, -5.5816, -5.7741, -5.6529, -5.5224, -5.635, -5.7383, -5.6468, -5.6867, -5.6931, -5.7197, -6.7653, -6.952, -7.1455, -7.3857, -7.4805, -7.4805, -7.4805, -7.5316, -6.7923, -7.5341, -7.5853, -7.5854, -7.6422, -7.7024, -7.7024, -7.7024, -7.7666, -7.7666, -7.7666, -7.7666, -7.0124, -7.8351, -7.6553, -6.6533, -7.9086, -7.9086, -7.9086, -7.9087, -7.9881, -7.9881, -4.751, -6.7095, -7.2587, -5.5448, -6.9269, -6.2124, -7.2637, -6.0429, -6.7193, -6.7867, -6.1654, -6.8214, -5.8886, -6.2652, -6.174, -5.5191, -6.7807, -5.5855, -5.8166, -6.651, -6.8529, -7.1112, -5.4623, -5.2891, -5.917, -6.4809, -6.4301, -6.0767, -6.2846, -6.0279, -5.8777, -6.3766, -6.1724, -6.4268, -5.8182, -5.5328, -6.3808, -5.0441, -5.3237, -5.9022, -6.0834, -6.1757, -5.9052, -5.6485, -6.0933, -6.1221, -6.1326, -6.1071, -5.2604, -6.1777, -5.5734, -6.8555, -7.3926, -7.4415, -7.4921, -7.5459, -7.663, -7.7271, -7.8692, -7.9486, -7.9486, -8.0349, -8.1293, -8.1293, -8.1293, -8.1293, -6.5025, -7.586, -8.2336, -8.2336, -8.2336, -8.2336, -8.2336, -8.2336, -8.35, -8.35, -8.35, -8.35, -6.0932, -7.6049, -4.9369, -6.349, -6.0165, -5.5547, -7.1394, -6.6214, -6.9919, -7.3288, -5.0316, -7.3463, -6.2673, -5.9668, -5.7637, -6.9574, -6.6862, -4.9037, -6.1037, -6.5047, -4.9248, -4.1228, -5.4953, -4.8542, -4.6936, -6.099, -5.5237, -4.9164, -4.9707, -4.8909, -5.2911, -5.4993, -4.6791, -5.461, -5.2389, -4.9277, -5.2245, -5.3112, -5.5402, -5.5844, -5.6665, -5.6732, -5.511, -5.6111, -5.5898, -5.5954, -3.1164, -4.9589, -6.7371, -6.9124, -7.0788, -7.0788, -7.1251, -6.2277, -7.1736, -7.2247, -7.2247, -7.3353, -7.3353, -7.3353, -7.3955, -7.3955, -7.3955, -7.5282, -7.5282, -7.6017, -7.1106, -7.6811, -7.0731, -7.7674, -7.7674, -7.7674, -7.7674, -7.9661, -7.9661, -7.9661, -7.3353, -7.2859, -5.3303, -4.145, -7.0014, -7.1505, -5.8779, -6.4707, -5.2188, -5.4922, -4.4091, -5.6144, -6.2451, -5.994, -6.076, -5.5412, -5.8723, -5.9374, -6.5087, -6.9298, -5.9128, -5.3802, -6.0293, -5.4328, -5.851, -5.5783, -5.2195, -5.3119, -6.0967, -6.1509, -5.3316, -5.3638, -5.4403, -5.2635, -5.3117, -5.8089, -5.4586, -5.6732, -5.66, -5.7039, -5.684, -5.7521, -5.8138, -5.8423, -5.862]}, \"token.table\": {\"Topic\": [1, 2, 3, 4, 5, 6, 7, 9, 10, 1, 2, 3, 4, 5, 6, 7, 8, 9, 10, 1, 2, 3, 5, 10, 1, 2, 3, 4, 5, 6, 7, 8, 9, 10, 3, 4, 9, 2, 4, 5, 9, 1, 2, 3, 6, 7, 9, 10, 1, 2, 3, 4, 5, 6, 7, 8, 9, 10, 10, 1, 8, 1, 2, 3, 4, 6, 8, 9, 1, 2, 4, 5, 6, 8, 9, 10, 1, 2, 4, 5, 7, 8, 9, 10, 1, 2, 3, 4, 5, 6, 9, 1, 3, 4, 5, 6, 7, 9, 1, 2, 3, 5, 7, 9, 10, 1, 2, 4, 6, 7, 8, 9, 10, 1, 2, 4, 5, 6, 7, 9, 10, 1, 2, 3, 4, 5, 6, 7, 9, 10, 5, 1, 2, 4, 5, 6, 7, 8, 9, 10, 1, 2, 3, 4, 5, 6, 7, 9, 10, 9, 1, 2, 3, 5, 6, 7, 9, 10, 1, 2, 6, 1, 3, 4, 7, 8, 4, 1, 2, 3, 4, 5, 7, 10, 3, 5, 2, 5, 6, 1, 2, 5, 6, 8, 9, 10, 5, 7, 1, 2, 3, 5, 6, 9, 10, 1, 9, 9, 1, 2, 5, 6, 10, 1, 2, 4, 6, 7, 9, 10, 1, 2, 3, 4, 5, 6, 7, 8, 9, 10, 1, 2, 3, 4, 5, 6, 7, 5, 6, 9, 1, 2, 4, 5, 6, 2, 1, 2, 5, 10, 3, 9, 1, 2, 6, 9, 9, 4, 5, 1, 2, 5, 7, 9, 1, 3, 4, 6, 9, 1, 4, 1, 7, 5, 6, 2, 5, 8, 1, 3, 4, 5, 7, 8, 9, 10, 2, 10, 3, 8, 5, 7, 1, 2, 3, 5, 7, 6, 1, 2, 3, 4, 5, 7, 9, 10, 1, 2, 3, 4, 6, 8, 9, 10, 2, 8, 1, 5, 9, 7, 1, 3, 4, 5, 6, 7, 9, 10, 3, 6, 7, 9, 1, 2, 3, 4, 5, 6, 7, 8, 9, 10, 1, 2, 3, 4, 6, 7, 8, 9, 10, 5, 6, 5, 1, 2, 3, 4, 5, 6, 8, 10, 5, 10, 1, 3, 4, 5, 6, 7, 8, 9, 10, 10, 5, 10, 2, 4, 6, 5, 3, 8, 5, 1, 2, 3, 4, 5, 6, 7, 8, 9, 10, 1, 2, 4, 6, 1, 2, 3, 4, 5, 6, 7, 8, 9, 10, 1, 2, 3, 4, 5, 6, 7, 8, 9, 1, 2, 4, 5, 6, 8, 10, 8, 1, 2, 3, 4, 5, 6, 7, 8, 9, 10, 1, 2, 3, 4, 5, 6, 7, 9, 8, 1, 2, 3, 4, 5, 6, 7, 9, 10, 6, 1, 2, 3, 4, 5, 6, 7, 10, 1, 2, 3, 4, 5, 7, 8, 2, 8, 9, 1, 7, 8, 1, 3, 4, 5, 6, 7, 9, 10, 1, 2, 3, 4, 6, 8, 9, 10, 1, 2, 3, 4, 5, 6, 7, 8, 9, 10, 1, 2, 3, 4, 5, 6, 7, 8, 9, 10, 1, 2, 3, 4, 5, 6, 7, 8, 9, 10, 1, 2, 3, 4, 5, 6, 7, 9, 10, 1, 3, 4, 6, 7, 9, 1, 2, 3, 4, 5, 6, 7, 8, 9, 10, 1, 2, 3, 4, 5, 6, 7, 8, 9, 10, 2, 6, 3, 1, 2, 3, 4, 5, 6, 8, 9, 10, 1, 3, 5, 6, 7, 8, 9, 10, 3, 4, 6, 7, 9, 7, 9, 1, 2, 3, 4, 5, 6, 7, 8, 9, 10, 1, 2, 3, 4, 5, 6, 7, 10, 5, 10, 1, 2, 4, 5, 6, 7, 8, 9, 10, 10, 1, 9, 3, 2, 7, 1, 1, 2, 3, 4, 5, 6, 8, 9, 10, 1, 2, 9, 1, 2, 3, 4, 5, 6, 7, 8, 9, 10, 1, 4, 5, 6, 7, 9, 5, 7, 8, 10, 1, 3, 4, 5, 8, 1, 6, 8, 10, 2, 2, 5, 9, 2, 4, 5, 8, 1, 2, 3, 4, 5, 6, 9, 10, 7, 1, 2, 3, 4, 5, 6, 7, 9, 10, 3, 1, 2, 3, 4, 5, 6, 7, 8, 9, 10, 1, 2, 4, 5, 7, 8, 10, 3, 4, 5, 6, 7, 3, 7, 9, 2, 4, 4, 5, 7, 10, 4, 5, 7, 9, 10, 6, 9, 1, 1, 5, 8, 10, 1, 5, 1, 2, 3, 4, 5, 6, 7, 9, 10, 1, 2, 3, 4, 5, 6, 7, 8, 9, 10, 1, 2, 3, 4, 5, 6, 7, 9, 10, 2, 3, 4, 5, 6, 7, 9, 10, 1, 2, 3, 4, 5, 6, 7, 10, 1, 2, 3, 4, 5, 6, 7, 8, 9, 10, 1, 2, 3, 4, 5, 6, 7, 9, 10, 1, 2, 3, 4, 5, 6, 7, 8, 9, 10, 1, 2, 3, 4, 5, 6, 7, 8, 9, 10, 5, 7, 9, 1, 2, 3, 4, 5, 6, 7, 8, 9, 10, 1, 1, 2, 4, 5, 6, 8, 9, 10, 1, 2, 3, 4, 5, 6, 7, 9, 3, 1, 2, 4, 1, 2, 3, 4, 6, 7, 9, 10, 3, 6, 7, 9, 7, 1, 2, 3, 4, 5, 6, 7, 8, 9, 7, 10, 1, 2, 4, 6, 7, 8, 9, 2, 10, 5, 10, 10, 5, 10, 6, 1, 4, 5, 8, 9, 1, 3, 4, 7, 2, 3, 5, 9, 10, 9, 3, 4, 6, 9, 3, 1, 2, 3, 4, 5, 6, 7, 8, 9, 10, 1, 2, 3, 4, 5, 6, 7, 9, 10, 4, 5, 7, 1, 2, 6, 7, 9, 2, 3, 4, 5, 6, 7, 9, 10, 1, 2, 3, 4, 6, 7, 9, 10, 1, 2, 3, 4, 5, 6, 9, 10, 1, 2, 3, 4, 5, 6, 7, 9, 10, 8, 1, 3, 5, 6, 7, 9, 10, 5, 2, 2, 1, 2, 3, 4, 5, 6, 7, 8, 9, 10, 1, 7, 1, 2, 3, 4, 5, 6, 7, 8, 9, 10, 6, 1, 2, 3, 4, 5, 6, 7, 8, 9, 10, 1, 2, 3, 4, 6, 7, 9, 10, 4, 6, 1, 2, 3, 4, 5, 6, 7, 8, 9, 10, 1, 2, 3, 4, 5, 6, 7, 8, 9, 10, 1, 1, 2, 3, 4, 5, 6, 8, 9, 10, 1, 2, 3, 4, 5, 6, 7, 9, 1, 2, 3, 4, 5, 8, 10, 1, 2, 4, 5, 7, 9, 10, 2, 9, 4, 9, 1, 2, 3, 4, 5, 6, 7, 8, 9, 10, 1, 2, 3, 4, 5, 6, 7, 8, 9, 10, 6, 1, 2, 3, 4, 5, 6, 7, 9, 10, 4, 6, 1, 2, 3, 4, 5, 6, 7, 8, 9, 1, 2, 3, 4, 5, 6, 7, 8, 9, 2, 6, 9, 4, 6, 6, 9, 1, 3, 8, 9, 1, 2, 3, 4, 5, 6, 7, 8, 9, 10, 5, 6, 1, 2, 3, 4, 5, 6, 8, 9, 10, 4, 1, 4, 8, 1, 2, 3, 4, 5, 6, 7, 9, 10, 5, 2, 4, 5, 8, 10, 1, 2, 3, 4, 5, 6, 8, 9, 10, 1, 3, 4, 5, 7, 9, 10, 4, 5, 8, 1, 2, 4, 5, 8, 9, 10, 9, 7, 2, 3, 3, 9, 10, 8, 6, 1, 5, 1, 7, 2, 4, 6, 7, 9, 8, 1, 2, 3, 4, 5, 6, 7, 8, 10, 2, 4, 9, 4, 9, 1, 2, 3, 4, 5, 6, 7, 8, 9, 10, 1, 4, 9, 1, 2, 3, 4, 5, 6, 7, 9, 10, 1, 2, 3, 4, 5, 6, 7, 9, 10, 1, 2, 3, 4, 5, 6, 7, 8, 9, 10, 2, 4, 8, 2, 6, 1, 2, 3, 4, 6, 7, 9, 1, 2, 3, 4, 5, 7, 8, 9, 10, 5, 1, 3, 5, 7, 9, 10, 1, 2, 4, 5, 6, 8, 10, 1, 2, 3, 4, 5, 6, 7, 8, 9, 10, 1, 2, 3, 4, 5, 6, 7, 8, 9, 10, 1, 2, 8, 10, 2, 7, 10, 2, 2, 3, 1, 2, 4, 5, 6, 7, 9, 1, 2, 4, 5, 6, 7, 3, 1, 4, 5, 9, 10, 1, 2, 4, 5, 6, 10, 1, 4, 5, 8, 10, 1, 2, 3, 4, 5, 6, 7, 8, 9, 10, 9, 3, 7, 9, 10, 2, 7, 5, 7, 2, 3, 5, 10, 1, 10, 1, 3, 6, 7, 6, 4, 7, 9, 9, 3, 7, 5, 9, 7, 6, 6, 4, 6, 7, 1, 1, 2, 3, 4, 5, 6, 7, 8, 9, 3, 6, 7, 1, 2, 3, 4, 5, 6, 7, 8, 9, 10, 3, 7, 1, 2, 7, 8, 1, 2, 3, 4, 5, 6, 7, 8, 9, 10, 1, 2, 4, 5, 6, 8, 10, 5, 1, 2, 3, 4, 5, 6, 7, 8, 9, 10, 1, 2, 3, 4, 5, 6, 7, 10, 1, 2, 3, 4, 5, 6, 7, 8, 9, 10, 2, 4, 1, 2, 3, 4, 5, 6, 7, 8, 9, 10, 1, 3, 4, 5, 6, 7, 9, 10, 1, 2, 3, 4, 5, 6, 7, 8, 9, 10, 1, 4, 5, 8, 10, 10, 2, 3, 4, 6, 7, 9, 10, 1, 2, 3, 4, 5, 6, 7, 8, 9, 10, 4, 7, 9, 2, 3, 4, 1, 2, 3, 4, 5, 6, 7, 8, 9, 10, 9, 10, 1, 2, 3, 4, 5, 6, 7, 9, 10, 1, 2, 3, 4, 5, 6, 7, 8, 9, 10, 5, 1, 1, 2, 3, 4, 5, 6, 8, 9, 10, 1, 2, 4, 6, 10, 1, 2, 3, 4, 5, 6, 10, 2, 4, 5, 6, 8, 9, 10, 4, 7, 2, 4, 3, 4, 7, 4, 1, 5, 7, 8, 9, 1, 2, 3, 4, 5, 6, 7, 8, 9, 10, 1, 2, 3, 4, 6, 7, 9, 10, 1, 4, 6, 9, 1, 2, 3, 4, 5, 6, 7, 9, 3, 5, 6, 7, 5, 6, 1, 2, 3, 4, 5, 6, 7, 9, 1, 2, 3, 4, 5, 6, 7, 8, 9, 10, 10, 1, 2, 3, 4, 5, 6, 7, 8, 9, 10, 1, 2, 3, 4, 5, 6, 8, 10, 1, 3, 5, 6, 7, 9, 10, 10, 5, 6, 1, 8, 1, 2, 3, 8, 2, 9, 8, 1, 3, 4, 5, 6, 8, 6, 1, 2, 3, 4, 5, 6, 8, 9, 9, 8, 1, 2, 3, 4, 5, 6, 7, 8, 9, 10, 1, 10, 1, 3, 2, 7, 8, 8, 3, 9, 4, 5, 6, 9, 10, 8, 9, 1, 2, 3, 4, 5, 6, 7, 8, 9, 10, 1, 2, 3, 4, 5, 6, 7, 8, 9, 10, 3, 8, 1, 2, 3, 4, 5, 6, 7, 8, 9, 10, 2, 4, 5, 5, 1, 2, 3, 4, 5, 6, 7, 8, 9, 10, 5, 1, 6, 1, 2, 3, 4, 5, 6, 7, 8, 9, 10, 1, 2, 3, 4, 7, 1, 2, 3, 4, 5, 6, 7, 9, 10, 8, 4, 6, 7, 9, 10, 2, 3, 5, 6, 7, 9, 10, 1, 2, 3, 4, 5, 6, 7, 8, 9, 10, 6, 8, 9, 10, 3, 5, 1, 9, 10, 3, 1, 3, 4, 5, 6, 7, 9, 3, 6, 1, 3, 4, 6, 7, 9, 10, 2, 4, 5, 6, 9, 10, 1, 8, 1, 2, 3, 4, 5, 6, 7, 8, 9, 10, 8, 1, 2, 3, 4, 5, 6, 7, 8, 9, 10, 1, 2, 3, 4, 5, 6, 7, 9, 10, 8, 1, 2, 4, 4, 10, 7, 1, 2, 3, 4, 5, 6, 7, 8, 9, 10, 10, 3, 3, 1, 4, 8, 10, 1, 3, 4, 8, 1, 2, 3, 4, 5, 6, 7, 9, 10, 3, 4, 5, 6, 7, 9, 10, 6, 8, 9, 2, 5, 6, 7, 1, 2, 3, 7, 8, 9, 10, 7, 6, 3, 6, 1, 2, 3, 4, 5, 6, 7, 8, 9, 10, 1, 2, 3, 4, 5, 9, 4, 1, 2, 3, 4, 5, 6, 7, 8, 10, 4, 5, 7, 4, 5, 1, 2, 3, 4, 5, 6, 7, 8, 9, 10, 1, 2, 3, 4, 5, 6, 7, 8, 9, 10, 7, 1, 2, 3, 4, 5, 6, 7, 8, 9, 10, 2, 3, 4, 6, 9, 10, 1, 2, 3, 4, 5, 6, 7, 9, 10, 7, 1, 2, 3, 4, 5, 6, 7, 8, 9, 3, 1, 2, 3, 4, 5, 6, 7, 8, 9, 10, 2, 5, 6, 7, 1, 8, 2, 1, 3, 4, 6, 9, 10, 9, 3, 8, 1, 2, 3, 5, 6, 7, 9, 10, 1, 2, 3, 4, 5, 6, 7, 8, 9, 10, 7, 1, 2, 3, 4, 5, 6, 7, 8, 9, 10, 1, 2, 4, 5, 6, 1, 2, 3, 4, 5, 6, 8, 9, 10, 3, 9, 1, 2, 3, 6, 7, 8, 9, 1, 2, 3, 4, 5, 6, 7, 8, 9, 10, 1, 2, 3, 4, 5, 6, 7, 8, 9, 10, 1, 2, 3, 4, 5, 6, 7, 8, 9, 10, 1, 2, 3, 4, 5, 6, 7, 9, 10, 1, 2, 3, 4, 5, 7, 8, 9, 10, 1, 2, 5, 7, 8, 8, 1, 2, 3, 4, 5, 6, 7, 8, 9, 10, 1, 2, 3, 4, 5, 6, 7, 8, 9, 10, 1, 2, 3, 4, 5, 6, 7, 8, 9, 10, 1, 3, 5, 7, 9, 10, 1, 2, 3, 4, 5, 6, 7, 8, 9, 10, 5, 6, 7, 8, 1, 3, 4, 10, 1, 8, 4, 1, 2, 3, 4, 5, 6, 7, 8, 9, 10, 4, 5, 8, 9, 3, 2, 4, 7, 9, 1, 9, 3, 1, 3, 1, 3, 4, 6, 1, 4, 1, 2, 3, 4, 5, 6, 7, 8, 10, 1, 2, 5, 8, 1, 2, 7, 1, 3, 4, 5, 6, 7, 8, 9, 4, 5, 1, 2, 3, 4, 5, 6, 7, 8, 9, 1, 2, 5, 8, 10, 1, 2, 3, 4, 5, 6, 7, 8, 9, 10, 3, 1, 2, 3, 4, 5, 6, 7, 9, 10, 1, 2, 3, 4, 5, 6, 7, 8, 9, 10, 6, 10, 2, 8, 8, 1, 2, 3, 4, 5, 6, 7, 8, 9, 10, 10, 1, 2, 8, 4, 1, 4, 10, 4, 7, 1, 4, 1, 2, 3, 4, 5, 6, 7, 8, 9, 10, 10, 10, 6, 1, 4, 5, 6, 8, 9, 1, 2, 3, 4, 5, 6, 8, 9, 10, 1, 4, 10, 1, 2, 3, 4, 5, 6, 7, 8, 9, 10, 1, 2, 3, 4, 5, 6, 7, 8, 9, 10, 1, 2, 3, 4, 5, 6, 7, 8, 9, 8, 1, 2, 3, 4, 5, 6, 7, 8, 9, 10, 3, 1, 2, 3, 4, 5, 6, 7, 8, 9, 10, 6, 1, 3, 8, 6, 7, 8, 1, 2, 4, 5, 6, 8, 10, 7, 1, 2, 3, 4, 5, 7, 8, 9, 2, 5, 7, 7, 5, 1, 2, 3, 4, 5, 6, 7, 8, 9, 10, 1, 2, 3, 4, 5, 6, 7, 8, 9, 1, 2, 3, 4, 5, 6, 7, 8, 9, 10, 1, 3, 4, 5, 8, 1, 2, 4, 5, 8, 10, 4, 1, 2, 3, 4, 5, 6, 7, 9, 1, 2, 3, 4, 5, 6, 7, 8, 9, 10, 8, 1, 2, 3, 4, 5, 6, 8, 9, 5, 1, 3, 5, 6, 7, 8, 9, 10, 3, 1, 3, 5, 7, 10, 1, 2, 3, 4, 6, 7, 8, 9, 10, 7, 1, 2, 3, 4, 5, 6, 7, 8, 9, 10, 6, 1, 2, 3, 4, 5, 6, 7, 10, 1, 1, 2, 3, 4, 5, 6, 7, 8, 9, 10, 9, 4, 4, 9, 2, 3, 4, 7, 8, 10, 7, 1, 3, 5, 6, 7, 3, 8, 3, 1, 2, 3, 4, 5, 6, 7, 8, 10, 1, 2, 3, 4, 5, 6, 7, 8, 9, 10, 1, 2, 3, 4, 5, 6, 7, 8, 9, 10, 2, 1, 8, 1, 3, 4, 3, 1, 2, 8, 1, 2, 3, 4, 5, 6, 7, 8, 9, 10, 1, 2, 3, 4, 5, 6, 7, 8, 9, 10, 8, 1, 3, 4, 5, 6, 7, 9, 9, 1, 2, 3, 4, 5, 6, 7, 8, 9, 10, 2, 3, 5, 6, 9, 10, 6, 2, 10, 5, 1, 2, 3, 4, 5, 6, 8, 1, 2, 3, 4, 5, 6, 7, 8, 9, 10, 1, 2, 3, 4, 5, 6, 10, 1, 2, 3, 5, 6, 7, 9, 1, 2, 3, 4, 5, 6, 10, 1, 2, 3, 4, 5, 6, 7, 9, 10, 8, 7, 8, 6, 3, 5, 6, 7, 8, 10, 1, 3, 7, 3, 5, 6, 7, 9, 9, 9, 1, 2, 3, 4, 5, 7, 8, 9, 10, 1, 1, 2, 3, 4, 5, 6, 7, 9, 10, 3, 9, 1, 2, 3, 4, 5, 6, 7, 8, 9, 10, 6, 8, 1, 2, 3, 4, 5, 6, 7, 9, 1, 2, 4, 10, 1, 2, 3, 4, 5, 6, 7, 8, 9, 10, 10, 1, 2, 3, 4, 5, 6, 7, 9, 4, 10, 7, 9, 6, 7, 1, 2, 4, 7, 8, 9, 10, 1, 2, 3, 4, 6, 7, 9, 1, 4, 6, 10, 1, 3, 4, 5, 8, 9, 10, 1, 4, 6, 1, 2, 3, 4, 5, 6, 7, 8, 9, 10, 1, 4, 6, 7, 9, 9, 5, 1, 4, 8, 8, 1, 2, 3, 4, 5, 6, 7, 9, 10, 1, 2, 3, 4, 5, 6, 7, 8, 9, 10, 1, 2, 3, 4, 5, 6, 7, 8, 9, 10, 6, 9, 1, 2, 3, 4, 7, 8, 9, 10, 4, 6], \"Freq\": [0.06941069941688463, 0.16602288914579164, 0.12662762731458682, 0.14351131095653175, 0.05065105092583473, 0.2729528855447761, 0.019697630915602397, 0.14257332853197924, 0.009379824245524951, 0.0350503575885528, 0.2538129342619341, 0.04351078873061727, 0.07856114631917008, 0.06043165101474621, 0.2731510625866529, 0.0036258990608847726, 0.008460431142064469, 0.12569783411067212, 0.11844603598890258, 0.8267120992806273, 0.02952543211716526, 0.10825991776293929, 0.02952543211716526, 0.9947334886743469, 0.05772128813650318, 0.15296141356173343, 0.1255438016968944, 0.0418479338989648, 0.0851389000013422, 0.33622650339513105, 0.017316386440950952, 0.0634934169501535, 0.10389831864570573, 0.014430322034125795, 0.8300680255072338, 0.005533786836714892, 0.16047981826473187, 0.030732385197618454, 0.0076830962994046135, 0.9603870374255766, 0.9201356310524744, 0.8482520388842049, 0.01498271264333514, 0.0968113740030886, 0.005762581785898131, 0.0011525163571796263, 0.03227045800102953, 0.8718318135760454, 0.13485102665774373, 0.11806956556255783, 0.1827980583582748, 0.12406294452512423, 0.0958940634010622, 0.13425168876148708, 0.1018874423636286, 0.01018874423636286, 0.05334107276684085, 0.04495034221924791, 0.9283116442111162, 0.9645925725654634, 0.9583816243568329, 0.12335286515062674, 0.10553522907331399, 0.010964699124500155, 0.5071173345081321, 0.24533514291069095, 0.005482349562250077, 0.0027411747811250387, 0.038225809373134224, 0.31058470115671555, 0.019112904686567112, 0.009556452343283556, 0.004778226171641778, 0.5877218191119387, 0.004778226171641778, 0.019112904686567112, 0.11764277411663625, 0.2801018431348482, 0.03361222117618178, 0.011204073725393927, 0.01680611058809089, 0.49297924391733283, 0.022408147450787855, 0.022408147450787855, 0.05363619347066634, 0.7529696391074313, 0.0722025681335893, 0.04125861036205103, 0.008251722072410206, 0.0639508460611791, 0.008251722072410206, 0.0015329721048006277, 0.08661292392123546, 0.7496233592475069, 0.009197832628803766, 0.07358266103043012, 0.03602484446281475, 0.04292321893441757, 0.03331331505288077, 0.005552219175480129, 0.1554621369134436, 0.7217884928124167, 0.04996997257932116, 0.016656657526440386, 0.016656657526440386, 0.0680018966743623, 0.17827524263278766, 0.5072573914087566, 0.14519323884526003, 0.03675778198614178, 0.009189445496535446, 0.029406225588913426, 0.027568336489606337, 0.036593901404162556, 0.0029995001150952914, 0.9388435360248262, 0.0005999000230190582, 0.0017997000690571747, 0.004199300161133407, 0.01379770052943834, 0.0017997000690571747, 0.06455240510092643, 0.1255917541419385, 0.17609193500320744, 0.09265685358024132, 0.08738726949036978, 0.15984405072610353, 0.14710922250891395, 0.09924383369258076, 0.0474262568088439, 0.9733869796811404, 0.006728198879325809, 0.026912795517303235, 0.12110757982786455, 0.6795480868119067, 0.12783577870719037, 0.006728198879325809, 0.006728198879325809, 0.006728198879325809, 0.013456397758651617, 0.09495486763555352, 0.027623234221251933, 0.11221938902383598, 0.022443877804767195, 0.5956259878957448, 0.0828697026637558, 0.027623234221251933, 0.005179356416484738, 0.03280259063773667, 0.9572315342964478, 0.1438888068024784, 0.025826196092752534, 0.7452702301051446, 0.007378913169357867, 0.022136739508073603, 0.0036894565846789336, 0.044273479016147206, 0.0036894565846789336, 0.9732720542709485, 0.01954361554760941, 0.0058630846642828225, 0.11943754628074739, 0.010857958752795218, 0.07600571126956653, 0.04343183501118087, 0.7383411951900748, 0.9647543312954703, 0.00861727279982259, 0.26928977499445594, 0.004308636399911295, 0.0021543181999556476, 0.635523868986916, 0.07324681879849201, 0.00861727279982259, 0.9799415091023708, 0.010651538142417073, 0.030761967221246, 0.9228590166373799, 0.061523934442492, 0.1899417646194102, 0.15540689832497198, 0.1726743314721911, 0.005755811049073037, 0.06906973258887644, 0.39139515133696645, 0.005755811049073037, 0.9428435522665694, 0.9715897407889, 0.046250099890847586, 0.007708349981807931, 0.07708349981807931, 0.023125049945423793, 0.18500039956339034, 0.5164594487811314, 0.15416699963615862, 0.12934869529410573, 0.8192084035293363, 0.9786885226500835, 0.16704190184044818, 0.29777034675905983, 0.13799113630297893, 0.02178807415310194, 0.3703972606027329, 0.054718247580562894, 0.06687785815402132, 0.10943649516112579, 0.6383795551065671, 0.01823941586018763, 0.08511727401420895, 0.01823941586018763, 0.12753468966531156, 0.062020294289295355, 0.12142001276355006, 0.16859037743428174, 0.0480438899424119, 0.20440491357317062, 0.13102879075203244, 0.010482303260162595, 0.07337612282113817, 0.05241151630081298, 0.004222629661503159, 0.016890518646012636, 0.11823363052208845, 0.059116815261044224, 0.012667888984509476, 0.7389601907630527, 0.04644892627653475, 0.9850081014907249, 0.9601116183315989, 0.0320037206110533, 0.0081668887665074, 0.0163337775330148, 0.0163337775330148, 0.0163337775330148, 0.9391922081483509, 0.974018960730385, 0.0027007474269615376, 0.8156257229423843, 0.008102242280884613, 0.1728478353255384, 0.9702847244212345, 0.8776731113566127, 0.016497391360133243, 0.09898434816079946, 0.016497391360133243, 0.8743617420870619, 0.9034857714486438, 0.9526273102705591, 0.026461869729737755, 0.03794795271595159, 0.07589590543190318, 0.018973976357975795, 0.8348549597509349, 0.018973976357975795, 0.00846122991668132, 0.00846122991668132, 0.01692245983336264, 0.9391965207516265, 0.03384491966672528, 0.9596503827070896, 0.03554260676692925, 0.9703861863361892, 0.9758318863546812, 0.04863867424223946, 0.9484541477236694, 0.9326096380810514, 0.06626436902154839, 0.9583815999276477, 0.18008408498353337, 0.03317338407591404, 0.07582487788780352, 0.07108582301981581, 0.014217164603963162, 0.6208161877063914, 0.00473905486798772, 0.00473905486798772, 0.9990872573203015, 0.928311987350036, 0.044279566619820465, 0.9298708990162297, 0.9551037620249447, 0.8903110309355418, 0.9497129222952502, 0.00907369034040048, 0.00302456344680016, 0.00302456344680016, 0.03629476136160192, 0.9749967664792175, 0.03212027534600782, 0.17895581978490072, 0.09636082603802347, 0.009177221527430807, 0.05965193992830024, 0.33496858575122446, 0.018354443054861613, 0.2707280350592088, 0.02076260357115483, 0.7446853814187532, 0.027683471428206437, 0.16056413428359734, 0.008305041428461932, 0.02214677714256515, 0.0027683471428206438, 0.012457562142692898, 0.10447448763583922, 0.891515627825828, 0.03024030169512669, 0.12096120678050676, 0.8467284474635473, 0.9714449105760227, 0.9519622890837878, 0.2923249537095042, 0.042434267473960285, 0.001571639536072603, 0.16187887221547811, 0.3677636514409891, 0.12887444195795345, 0.00471491860821781, 0.2944306701409271, 0.08960933439071694, 0.006400666742194067, 0.6080633405084364, 0.16494154516724693, 0.09482795674924784, 0.0784412560078764, 0.2025503665408863, 0.1872382035530474, 0.048622833347348036, 0.170851502811676, 0.0010745377535325534, 0.019878948440352238, 0.031161594852444047, 0.02128692686042037, 0.01596519514531528, 0.13836502459273242, 0.01596519514531528, 0.12239982944741713, 0.6013556838068754, 0.010643463430210186, 0.01596519514531528, 0.05321731715105093, 0.9551039216865712, 0.9079390237995962, 0.9551037671739061, 0.06161024067884086, 0.5305121323124141, 0.011436631503257884, 0.24090710876217417, 0.13834634882973249, 0.006640624743827159, 0.001844617984396433, 0.008485242728223591, 0.9237298411767937, 0.04861736006193651, 0.051212294109901, 0.2816676176044555, 0.05909110858834731, 0.043333479631454695, 0.44121361079299326, 0.04136377601184312, 0.06303051582757047, 0.01969703619611577, 0.001969703619611577, 0.9332561889948703, 0.9700107030857488, 0.9598025946321187, 0.02517829162681098, 0.9064184985651953, 0.05035658325362196, 0.947476771070477, 0.9435227709120825, 0.026957793454630927, 0.9873127625413997, 0.07845322031940054, 0.1620934304119846, 0.1620934304119846, 0.09304162905647916, 0.2703718419271903, 0.07326623054621703, 0.09595931080389487, 0.015236782458726552, 0.019127024788614184, 0.030797751778277073, 0.890191637642099, 0.00265728847057343, 0.06377492329376232, 0.04251661552917488, 0.054365648088539574, 0.029486453200563836, 0.2874929187054974, 0.05897290640112767, 0.10965274783959678, 0.29947179031822646, 0.13268903940253726, 0.0018429033250352397, 0.019350484912870017, 0.00552870997510572, 0.19931268024771825, 0.011958760814863096, 0.2630927379269881, 0.007972507209908731, 0.007972507209908731, 0.07573881849413294, 0.015945014419817462, 0.3667353316558016, 0.05182129686440675, 0.09681392352184448, 0.22309295420251118, 0.17258134193024452, 0.029465107158822234, 0.00420930102268889, 0.1304883317033556, 0.34095338283780013, 0.9186166795074743, 0.07511678651222516, 0.025786359548972813, 0.7399564044487851, 0.01345375280815973, 0.022422921346932884, 0.001121146067346644, 0.021301775279586238, 0.023544067414279526, 0.07399564044487851, 0.0033634382020399324, 0.054173134845268214, 0.07119897722520965, 0.4101680209713165, 0.040242900170770673, 0.018573646232663388, 0.3451602591569946, 0.04798191943438042, 0.012382430821775592, 0.9777408390535767, 0.021556778428393094, 0.028886083094046746, 0.0008622711371357237, 0.4897700058930911, 0.003880220117110757, 0.23496888486948472, 0.0017245422742714475, 0.2103941574611166, 0.007760440234221514, 0.9526285904764693, 0.0452204823059782, 0.01666017769167618, 0.22134236076084068, 0.0023800253845251687, 0.009520101538100675, 0.7044875138194499, 0.0023800253845251687, 0.0023800253845251687, 0.26123206294298784, 0.012743027460633553, 0.044600596112217436, 0.14017330206696907, 0.038229082381900654, 0.019114541190950327, 0.47786352977375823, 0.9926095819610705, 0.9655656323957454, 0.9792750277114863, 0.09069987348756692, 0.8616487981318857, 0.02267496837189173, 0.04138636179277617, 0.11381249493013447, 0.015519885672291064, 0.05173295224097021, 0.2599580850108753, 0.5018096367374111, 0.014226561866266809, 0.0025866476120485105, 0.05988135869759545, 0.5075658022939042, 0.005702986542628138, 0.07128733178285172, 0.002851493271314069, 0.002851493271314069, 0.008554479813942207, 0.34503068582900237, 0.059985648885919264, 0.0899784733288789, 0.0569863664416233, 0.03899067177584752, 0.13796699243761432, 0.0569863664416233, 0.5368715575289774, 0.008997847332887889, 0.005998564888591926, 0.008997847332887889, 0.15352664511717737, 0.14320552611770326, 0.045154895622699226, 0.1277238476184921, 0.14836608561744033, 0.029673217123488062, 0.16513790399158573, 0.03612391649815938, 0.01806195824907969, 0.13288440711822916, 0.152494730848742, 0.4934399543274828, 0.0006345134431986491, 0.27072573576475695, 0.0581637322932095, 0.004230089621324327, 0.0012690268863972981, 0.015439827117833795, 0.0006345134431986491, 0.002961062734927029, 0.10355689891525152, 0.006724473955535814, 0.2770483269680755, 0.04976110727096502, 0.31336048632796887, 0.05514068643539367, 0.10893647807968017, 0.037657054151000555, 0.048416212479857855, 0.15753350631441282, 0.11050857905637915, 0.12696730359669092, 0.5525428952818957, 0.004702492725803368, 0.04702492725803368, 0.7838020447251323, 0.016179400005794015, 0.014381688894039124, 0.04134735557036248, 0.033257655567465474, 0.016179400005794015, 0.031459944455710584, 0.026965666676323358, 0.003595422223509781, 0.033257655567465474, 0.11576337527351785, 0.09533454434289705, 0.03631792165443697, 0.0635563628952647, 0.004539740206804622, 0.4517041505770598, 0.1293825958939317, 0.061286492791862386, 0.03858779175783928, 0.004539740206804622, 0.9773470223392994, 0.9879810834418208, 0.9865679940159082, 0.018580284823024665, 0.7803719625670359, 0.036182659918521716, 0.13788527158139355, 0.00782327782022091, 0.006845368092693297, 0.006845368092693297, 0.0009779097275276138, 0.003911638910110455, 0.09197234708768985, 0.5844076221196959, 0.059398807494133024, 0.11496543385961232, 0.09388843765201672, 0.022993086771922463, 0.02874135846490308, 0.0038321811286537435, 0.0082058672837706, 0.010550400793419342, 0.13246614329515397, 0.7256331212362859, 0.12191574250173462, 0.0595049661469055, 0.8925744922035825, 0.0627080010911922, 0.07738434177210952, 0.3542334955257772, 0.06737774585330226, 0.014676340680917324, 0.18612268408981517, 0.03068689415100895, 0.00600395755128436, 0.020013191837614533, 0.1814529393277051, 0.004052487638148224, 0.044577364019630465, 0.06483980221037158, 0.016209950552592896, 0.7699726512481625, 0.012157462914444672, 0.06483980221037158, 0.024314925828889344, 0.10937401899019512, 0.8203051424264635, 0.16569340902324348, 0.07706670187127604, 0.05394669130989323, 0.2581734512687747, 0.011560005280691406, 0.15413340374255208, 0.011560005280691406, 0.030826680748510416, 0.23120010561382812, 0.9598028364484787, 0.9895372498642243, 0.9034849042274454, 0.9627006669036127, 0.9805884309977669, 0.942864853682853, 0.9752395722567027, 0.061639388942453396, 0.36490518253932414, 0.027121331134679495, 0.041914784480868314, 0.014793453346188815, 0.02958690669237763, 0.4068199670201924, 0.01232787778849068, 0.03944920892317017, 0.9542134339078033, 0.019473743549138844, 0.019473743549138844, 0.11224016915664736, 0.17576070444859615, 0.19086995798891404, 0.07246274657091244, 0.10237290153848055, 0.20844602843377366, 0.07986319728453754, 0.009867267618166801, 0.028676746515297266, 0.019734535236333603, 0.01304905376306292, 0.07829432257837753, 0.10439243010450336, 0.19573580644594382, 0.02609810752612584, 0.5872074193378314, 0.02267455406083461, 0.02267455406083461, 0.9069821624333844, 0.04534910812166922, 0.0702415576412177, 0.017560389410304425, 0.017560389410304425, 0.8253383022843079, 0.052681168230913275, 0.17233262396292442, 0.021541577995365553, 0.7970383858285255, 0.8718319987749348, 0.9740383152094928, 0.9328403702209103, 0.061169860342354776, 0.9034855156391066, 0.9601882504369588, 0.004898919645086525, 0.029393517870519147, 0.004898919645086525, 0.015064828394679179, 0.7247492442918483, 0.012117361969633252, 0.13853092197715855, 0.06386177254266173, 0.018012294819725105, 0.019649776166972843, 0.007859910466789136, 0.9260666839919396, 0.04420641744654521, 0.03400493649734247, 0.5565474606731717, 0.003400493649734247, 0.1530222142380411, 0.1666241888369781, 0.002266995766489498, 0.03853892803032147, 0.001133497883244749, 0.9838444042114244, 0.29838721776924926, 0.21760383804419547, 0.30534072387216527, 0.030063688150842798, 0.010021229383614267, 0.08139692438119342, 0.008385110300575201, 0.001227089312279298, 0.04458424501281449, 0.0030677232806982447, 0.08105084708789334, 0.008105084708789333, 0.03242033883515733, 0.04052542354394667, 0.016210169417578666, 0.7375627084998293, 0.097261016505472, 0.3500572491215069, 0.005073293465529085, 0.025366467327645425, 0.04565964118976177, 0.5732821616047866, 0.10926534597701025, 0.8604645995689558, 0.013658168247126281, 0.14966953835988675, 0.8418911532743629, 0.06726184701044313, 0.3026783115469941, 0.033630923505221566, 0.5885411613413774, 0.076474098518677, 0.0382370492593385, 0.0382370492593385, 0.0382370492593385, 0.7647409851867699, 0.08651353240841236, 0.8651353240841237, 0.9939752671234005, 0.9575562213804749, 0.9256742391250176, 0.04628371195625088, 0.01542790398541696, 0.04410659631613557, 0.9262385226388469, 0.07670262732563767, 0.08744099515122694, 0.5415205489190019, 0.012272420372102027, 0.13653067663963506, 0.06443020695353564, 0.04908968148840811, 0.02761294583722956, 0.003068105093025507, 0.06982536084865092, 0.29247603978114156, 0.009222217470576536, 0.19234910724345344, 0.32277761147017875, 0.0711428204873047, 0.023714273495768233, 0.003952378915961372, 0.009222217470576536, 0.0052698385546151635, 0.006001633996594703, 0.17404738590124638, 0.006001633996594703, 0.15004084991486757, 0.5341454256969286, 0.04201143797616292, 0.030008169982973513, 0.02100571898808146, 0.03600980397956822, 0.9548920957703451, 0.34201971813241294, 0.002948445845969077, 0.13857695476054663, 0.008845337537907231, 0.48354511873892864, 0.005896891691938154, 0.014742229229845385, 0.023710519297349648, 0.023710519297349648, 0.005269004288299922, 0.03161402572979953, 0.29242973800064564, 0.47157588380284304, 0.1290906050633481, 0.023710519297349648, 0.15610343518323241, 0.05647271331628702, 0.07759258984107728, 0.31817553112347075, 0.2681306063147286, 0.025252026279640537, 0.026170281780718372, 0.00780517175916162, 0.0560135855657481, 0.00780517175916162, 0.05334905792159942, 0.012747120034364463, 0.0807317602176416, 0.403658801088208, 0.19451160941326515, 0.0665682935127922, 0.12369427588901813, 0.01510769781850603, 0.04957213346697291, 0.06614932710393717, 0.14552851962866178, 0.04247483108779124, 0.12881711067608817, 0.4129110628698394, 0.015318791539859135, 0.12881711067608817, 0.004874160944500634, 0.005570469650857867, 0.04943791815136357, 0.13212741406449052, 0.11150637256309603, 0.012983618723100223, 0.4231132219175014, 0.010692391889611949, 0.12143502217487856, 0.0053461959448059745, 0.0038187113891471245, 0.1687870434003029, 0.009928649611782523, 0.8483566582769312, 0.14002003097774593, 0.008236472410455643, 0.2145335368331863, 0.110639937234725, 0.24961449254175763, 0.08230531916241739, 0.12593163587692277, 0.08095605163516463, 0.05576972445978008, 0.010794140218021952, 0.050372654350769104, 0.018889745381538415, 0.9781228712819316, 0.03208114339880057, 0.8368753441790562, 0.10288090814098114, 0.004978108458434571, 0.0005531231620482857, 0.0022124926481931428, 0.0005531231620482857, 0.01935931067169, 0.022955405201220667, 0.964127018451268, 0.17217193614391618, 0.06394957628202601, 0.009838396351080924, 0.16233353979283524, 0.5460309974849913, 0.04427278357986416, 0.9548110727023588, 0.03543357312490532, 0.938989687809991, 0.01771678656245266, 0.07562871159049282, 0.15665947400887797, 0.2538963889109402, 0.07832973700443899, 0.15125742318098565, 0.02430922872551555, 0.018907177897623206, 0.23769023642726314, 0.9942910210540887, 0.004404414679334532, 0.735537251448867, 0.25875936241090375, 0.9817320066662951, 0.0959572095030653, 0.06280835531109728, 0.5739985804819725, 0.054084972629000444, 0.11165929833083962, 0.048850943019742334, 0.03838288380122612, 0.0034893530728387382, 0.012212735754935583, 0.9350072867898274, 0.9518530616608586, 0.1819208876309153, 0.011370055476932206, 0.12507061024625427, 0.011370055476932206, 0.045480221907728824, 0.6026129402774069, 0.011370055476932206, 0.3227292129250323, 0.6454584258500646, 0.9551038137081294, 0.9992728640181425, 0.9549288602493747, 0.021591107926852947, 0.9500087487815296, 0.9873083389761804, 0.36253567964365974, 0.09063391991091493, 0.02719017597327448, 0.4984865595100321, 0.009063391991091492, 0.047594786488441024, 0.03172985765896068, 0.06345971531792136, 0.8408412279624581, 0.43578580605499656, 0.1206791462921529, 0.05363517612984573, 0.006704397016230716, 0.37544623290892015, 0.8776731113322158, 0.01575788547416877, 0.06303154189667508, 0.89819947202762, 0.023636828211253156, 0.9819264735427493, 0.0384836571995147, 0.07542796811104882, 0.7619764125503911, 0.012314770303844704, 0.060034505231242936, 0.013854116591825293, 0.004618038863941764, 0.006157385151922352, 0.013854116591825293, 0.013854116591825293, 0.2600641978893099, 0.06119157597395527, 0.03314543698589244, 0.26388867138768207, 0.021672016490775825, 0.3046830553703189, 0.012748244994574014, 0.03569508598480724, 0.006374122497287007, 0.8835046860111277, 0.025242991028889366, 0.0757289730866681, 0.017572272844390478, 0.06150295495536667, 0.18450886486610002, 0.052716818533171436, 0.6765325045090335, 0.014277564299030418, 0.007138782149515209, 0.07138782149515209, 0.007138782149515209, 0.05711025719612167, 0.007138782149515209, 0.8352375114932794, 0.9715666215623092, 0.1026738943938096, 0.05350611397987261, 0.15039556361910136, 0.1793177873920055, 0.3861116873682699, 0.08676667131871234, 0.03326055733883973, 0.008676667131871233, 0.005475258473841091, 0.16973301268907381, 0.008212887710761637, 0.4763474872241749, 0.2956639575874189, 0.008212887710761637, 0.015056960803063001, 0.02053221927690409, 0.13089585945134183, 0.12428495745884983, 0.03834323155645367, 0.0568537571354313, 0.24328119332370604, 0.13354022024833864, 0.2128710441582428, 0.040987592353450474, 0.019832705977476037, 0.944881833131466, 0.13659862554431607, 0.6781719997611927, 0.020891554495013044, 0.04821127960387626, 0.08678030328697726, 0.020891554495013044, 0.00803521326731271, 0.9798546758269754, 0.9938043256551206, 0.9963034067976227, 0.024303670529282055, 0.034719529327545795, 0.6402281207999444, 0.13332299261777583, 0.04513538812580953, 0.07360540217439708, 0.004860734105856411, 0.026386842288934804, 0.013193421144467402, 0.0034719529327545792, 0.9774960253273598, 0.013390356511333695, 0.1876079310076045, 0.10422662833755805, 0.42348924777155167, 0.043519188674278626, 0.06838729648815213, 0.08301559520219537, 0.03510791691370377, 0.0003657074678510809, 0.03803357665651241, 0.01645683605329864, 0.9476315449721618, 0.15997691418205534, 0.3843232376207957, 0.030764791188856798, 0.1732294396172552, 0.07951515261119911, 0.04354401214422808, 0.06389610477685642, 0.01940548367297121, 0.009466089596571322, 0.03597114046697102, 0.4133312157256786, 0.028590103854542987, 0.028590103854542987, 0.28181673799478085, 0.2368894319376419, 0.0008168601101297997, 0.0040843005506489985, 0.004901160660778798, 0.9790629101099401, 0.9635043880338845, 0.22657208071554955, 0.10172624032126715, 0.055487040175236625, 0.15721328049650377, 0.013871760043809156, 0.027743520087618313, 0.04623920014603052, 0.31442656099300753, 0.04623920014603052, 0.009247840029206105, 0.14845313387563297, 0.015875046108087917, 0.2016559911027384, 0.22868647501650974, 0.11369965455792698, 0.1124124886572712, 0.08881444714524862, 0.006435829503278885, 0.032179147516394425, 0.05191569132644968, 0.9911020369567713, 0.2513409255264223, 0.02667864572626829, 0.4338790278640474, 0.0224662279800154, 0.016849670985011552, 0.03229520272127214, 0.00561655699500385, 0.1727091275963684, 0.03650762046752502, 0.04911727647497398, 0.00188912601826823, 0.8614414643303129, 0.00188912601826823, 0.00944563009134115, 0.02266951221921876, 0.047228150456705746, 0.00755650407307292, 0.02263874582239953, 0.9112095193515811, 0.005659686455599882, 0.016979059366799647, 0.011319372911199764, 0.02263874582239953, 0.011319372911199764, 0.03454042588348205, 0.9325914988540155, 0.015700193583400933, 0.006280077433360373, 0.0015700193583400932, 0.00471005807502028, 0.00471005807502028, 0.9895707935958342, 0.004898865314830862, 0.267735079527063, 0.7267095015734567, 0.1651561624408399, 0.3334732083733705, 0.05215457761289681, 0.22284228616419546, 0.14065931538023685, 0.019755521823066974, 0.02212618444183501, 0.012643533966762863, 0.008692429602149467, 0.023706626187680366, 0.08942569210440612, 0.09259120332934084, 0.3007235663687993, 0.06014471327375987, 0.10208773700414504, 0.13295147144725866, 0.14323938292829652, 0.019784445155842063, 0.039568890311684125, 0.019784445155842063, 0.9310942022572528, 0.046060450410174376, 0.02738729483848206, 0.46558401225419505, 0.05850922079130259, 0.19046618683126162, 0.009959016304902568, 0.14440573642108723, 0.019918032609805136, 0.038591188181497454, 0.9185918550044461, 0.03827466062518525, 0.35490981097624363, 0.044673962220785915, 0.02481886790043662, 0.23826113184419154, 0.032264528270567604, 0.02481886790043662, 0.032264528270567604, 0.2407430186342352, 0.002481886790043662, 0.044894785885880986, 0.07130348346581097, 0.7755354189306107, 0.03785246653123299, 0.04225391612788799, 0.005281739515985998, 0.010563479031971997, 0.005281739515985998, 0.006162029435316998, 0.01177012018865274, 0.9651498554695247, 0.01177012018865274, 0.9142328263722925, 0.03974925332053446, 0.958515125235158, 0.02590581419554481, 0.2067067711155743, 0.11368872411356587, 0.5477729434562719, 0.12402406266934458, 0.2220153953800122, 0.1192742283690491, 0.4499354555307694, 0.025980524991278023, 0.056684781799152054, 0.025980524991278023, 0.07676064201968508, 0.0035427988624470034, 0.015352128403937014, 0.0035427988624470034, 0.8522248198987618, 0.14203746998312694, 0.03253693940365714, 0.6254322796480761, 0.05965105557337143, 0.0668814865519619, 0.005422823233942857, 0.11930211114674286, 0.014460861957180951, 0.03434454714830476, 0.041574978126895236, 0.9855548139678085, 0.9575562218254926, 0.9599509682118583, 0.9312798331900777, 0.16853501538827434, 0.0011785665411767436, 0.01649993157647441, 0.47712302141971835, 0.0001964277568627906, 0.2801059812863394, 0.0007857110274511624, 0.05499977192158136, 0.0001964277568627906, 0.9428437163074617, 0.18855816117353394, 0.010475453398529663, 0.7647080980926655, 0.010475453398529663, 0.020950906797059327, 0.08554734331499451, 0.5021257107619244, 0.0037194497093475877, 0.0074388994186951754, 0.026036147965433114, 0.0074388994186951754, 0.16737523692064146, 0.011158349128042764, 0.18597248546737938, 0.1639810242196031, 0.7125720870633662, 0.014907365838145736, 0.01788883900577488, 0.03875915117917891, 0.03577767801154976, 0.014907365838145736, 0.9684729610392347, 0.01587660591867598, 0.9503012193285401, 0.02927377230046186, 0.8099077003127781, 0.121277056673342, 0.016727869885978207, 0.008363934942989103, 0.0013939891571648506, 0.012545902414483655, 0.9246364572331919, 0.9158496883026885, 0.9548911464756555, 0.9724366973524686, 0.9448258592648291, 0.02699502455042369, 0.8947955212536487, 0.9312798444370181, 0.9771973486938329, 0.9575562197068095, 0.9611213124580824, 0.9600635715699617, 0.9855254051776307, 0.9698904445072085, 0.9347581653805921, 0.831930738016933, 0.06399467215514869, 0.07999334019393586, 0.9503012919447038, 0.8428981244992234, 0.05090770850935904, 0.010849183780683074, 0.026705683152450643, 0.025036577955422478, 0.012518288977711239, 0.0008345525985140826, 0.028374788349478805, 0.0008345525985140826, 0.9665385295337949, 0.9599509504161889, 0.9543560672932946, 0.9467384838378365, 0.04508278494465889, 0.4742277529262998, 0.03321885225812245, 0.07731974232494018, 0.0189003814572076, 0.009736560144622097, 0.06758318218031809, 0.24971413076795496, 0.0017182164961097818, 0.06471948802013512, 0.0028636941601829697, 0.9645925648326126, 0.985554801873232, 0.9246365561316933, 0.031783652327118946, 0.08812739963428436, 0.5258749748668772, 0.031783652327118946, 0.1820336451462267, 0.056343747307165404, 0.03322836379653345, 0.036117786735362443, 0.013002403224730478, 0.06290467358802866, 0.012175098113812, 0.6757179453165659, 0.008116732075874666, 0.13189689623296333, 0.03043774528453, 0.04058366037937333, 0.014204281132780666, 0.022321013208655333, 0.14039267154097, 0.1900264443079796, 0.10635808450073485, 0.16875482740783262, 0.10021295072958128, 0.09595862734955188, 0.1025764637184865, 0.01748999611789862, 0.04159782860473185, 0.03687080262692141, 0.2621285023563087, 0.0998584770881176, 0.624115481800735, 0.9762870220308306, 0.016547237661539503, 0.03804630471248175, 0.03804630471248175, 0.8044075853496142, 0.03261111832498436, 0.03804630471248175, 0.010870372774994787, 0.03261111832498436, 0.11733976121755926, 0.6788943327587358, 0.0018625358923422106, 0.1257211727330992, 0.042838325523870846, 0.006518875623197737, 0.011175215354053263, 0.0009312679461711053, 0.014900287138737684, 0.9659902502530956, 0.013793709966298053, 0.06896854983149027, 0.041381129898894156, 0.6896854983149027, 0.16552451959557662, 0.013793709966298053, 0.04017234756502931, 0.7423151180494546, 0.1240102903094383, 0.07161157609418269, 0.0034932476143503745, 0.010479742843051124, 0.008733119035875937, 0.005963974204378806, 0.005963974204378806, 0.15804531641603836, 0.09840557437225031, 0.017891922613136418, 0.25048691658390987, 0.43835210402184227, 0.005963974204378806, 0.014909935510947016, 0.005963974204378806, 0.07139777452465285, 0.07734758906837391, 0.10709666178697927, 0.012891264844728986, 0.05949814543721071, 0.5830818252846649, 0.039665430291473805, 0.00198327151457369, 0.041648701806047496, 0.005949814543721071, 0.02281749670651314, 0.9184042424371539, 0.02281749670651314, 0.028521870883141426, 0.9574330395550545, 0.002727729457421808, 0.03818821240390531, 0.9948309491988544, 0.9837157221831833, 0.9878192697039759, 0.8924849509757943, 0.09339958789281567, 0.00115308133201007, 0.00230616266402014, 0.00807156932407049, 0.0034592439960302104, 0.00115308133201007, 0.8361463135857183, 0.08614840806640733, 0.02027021366268408, 0.0253377670783551, 0.0253377670783551, 0.00506755341567102, 0.972436681618556, 0.9666445540832411, 0.07789433723187547, 0.10385911630916729, 0.7529785932414629, 0.051929558154583645, 0.016817158383963714, 0.7378528240964078, 0.16817158383963712, 0.060962199141868456, 0.002102144797995464, 0.014715013585968249, 0.034708100462709515, 0.9477981280201444, 0.002669853881746886, 0.005339707763493772, 0.008009561645240658, 0.051211409922017226, 0.1274837225718301, 0.1383797672360891, 0.08063073051551649, 0.24407140047940126, 0.10460202877688625, 0.10896044664258984, 0.017433671462814375, 0.03704655185848055, 0.09152677517977546, 0.9700549851156425, 0.7361098727597831, 0.2216078143255768, 0.001549704995283754, 0.038742624882093846, 0.9602505760735198, 0.9428966645285088, 0.05264876514873567, 0.9345155813900582, 0.9891419267750734, 0.9823239234917062, 0.9818751390997299, 0.986263463920386, 0.9645925465688143, 0.9715668552298012, 0.04003691834921275, 0.925297668515139, 0.022242732416229302, 0.00889709296649172, 0.9928488880202673, 0.9815569031447484, 0.9717263048969549, 0.9034857558494458, 0.9246365641961175, 0.046374699013164836, 0.9274939802632968, 0.006312982727995467, 0.9848253055672929, 0.9499098729963018, 0.9787736922381414, 0.9728357297820062, 0.08131744302827709, 0.8572213785897543, 0.06098808227120781, 0.9791396504812078, 0.224924110823277, 0.010710671943965572, 0.4262847433698298, 0.004284268777586229, 0.004284268777586229, 0.04926909094224163, 0.008568537555172458, 0.014994940721551801, 0.25705612665517374, 0.8688960480332374, 0.09243574979076993, 0.036974299916307976, 0.5016505895227444, 0.007717701377272992, 0.2729259850690176, 0.02455632256405043, 0.06735448474710976, 0.02034666726735607, 0.08208827828554001, 0.01613701197066171, 0.0007016092161157266, 0.006314482945041539, 0.05336169775028988, 0.9071488617549279, 0.024048602328628245, 0.04809720465725649, 0.024048602328628245, 0.889798286159245, 0.04005039985160478, 0.23346452596423276, 0.003907356083083393, 0.4454385934715068, 0.002930517062312545, 0.19146044807108628, 0.03907356083083394, 0.01172206824925018, 0.00586103412462509, 0.026374653560812904, 0.06445347480960431, 0.6902759237673751, 0.08732406264527035, 0.12474866092181479, 0.016633154789575305, 0.010395721743484566, 0.004158288697393826, 0.9873127783675378, 0.6799292288772536, 0.03101431570317297, 0.0656072062951736, 0.032207173999448856, 0.08230722244303595, 0.01789287444413825, 0.06918578118400123, 0.002783336024643728, 0.009145246938115106, 0.009145246938115106, 0.9605424356728013, 0.011276378647172694, 0.009738690649830963, 0.0066633146551475005, 0.004100501326244616, 0.002562813328902885, 0.003587938660464039, 0.002050250663122308, 0.14301324321083642, 0.08860603111975736, 0.10415094886006566, 0.1709940951433914, 0.15700366917711392, 0.08860603111975736, 0.07461560515347987, 0.13834976788874392, 0.015544917740308308, 0.018653901288369967, 0.9941921522177286, 0.9815569530756794, 0.2429098948324664, 0.13388103114528677, 0.1771719034916669, 0.04729928645252646, 0.22447118994419335, 0.053712749022360555, 0.03126563002794122, 0.005611779748604834, 0.07696155083800915, 0.006413462569834096, 0.0821063692062643, 0.661752826438548, 0.002450936394216845, 0.023283895745060026, 0.07352809182650534, 0.13602696987903487, 0.017156554759517915, 0.0036764045913252673, 0.1828972828119987, 0.1128515149265524, 0.031131452393531697, 0.10506865182816948, 0.06615433633625485, 0.046697178590297546, 0.10896008337736093, 0.29185736618935965, 0.046697178590297546, 0.007782863098382924, 0.1572031325725491, 0.2096041767633988, 0.03930078314313727, 0.14410287152483667, 0.43230861457451003, 0.9316021816784129, 0.024063338250082788, 0.0065627286136589425, 0.004375152409105961, 0.7503386381616723, 0.1925067060006623, 0.017500609636423844, 0.0065627286136589425, 0.2478338640909667, 0.044448464755445116, 0.1548961650568542, 0.17240616632415073, 0.11044770030140907, 0.04310154158103768, 0.11852923934785363, 0.09697846855733479, 0.01077538539525942, 0.0013469231744074276, 0.9544070708712407, 0.9797206983653278, 0.9820017259597563, 0.9602507497806086, 0.038941533874703935, 0.9345968129928945, 0.844350408041866, 0.008573977653405262, 0.01975742676654256, 0.02609471459732036, 0.004100598008150343, 0.060390625210941414, 0.021248553314960866, 0.0003727816371045766, 0.01416570220997391, 0.0011183449113137298, 0.048595913445545855, 0.9233223554653712, 0.019467779687555496, 0.3060767584210114, 0.035690929427185075, 0.12545902465313544, 0.31581064826478916, 0.05840333906266649, 0.03028321284730855, 0.035690929427185075, 0.07246340217034546, 0.06979083943871482, 0.1989781379742082, 0.06830592796129535, 0.08909468864516785, 0.4321092399290641, 0.0371227869354866, 0.060881370574198033, 0.0014849114774194642, 0.028213318070969818, 0.016334026251614106, 0.9474767554579959, 0.975240705686814, 0.02976765823731156, 0.6597156690431211, 0.0008045313037111233, 0.23331407807622576, 0.028158595629889316, 0.0032181252148444934, 0.020917813896489206, 0.00482718782226674, 0.01930875128906696, 0.029628594873266606, 0.8814506974796815, 0.04444289230989991, 0.014814297436633303, 0.022221446154949955, 0.019653154725739884, 0.8492970435051879, 0.007018983830621387, 0.09826577362869943, 0.00561518706449711, 0.007018983830621387, 0.012634170895118497, 0.8572384947844458, 0.06857907958275566, 0.011429846597125945, 0.017144769895688916, 0.005714923298562972, 0.005714923298562972, 0.03428953979137783, 0.9347581282372414, 0.9880136896281075, 0.9862812956583034, 0.007528864852353461, 0.0387826535173023, 0.0387826535173023, 0.9307836844152552, 0.9759576025715843, 0.041523783607714845, 0.062285675411572275, 0.041523783607714845, 0.020761891803857423, 0.830475672154297, 0.09269191479179768, 0.029390119324228532, 0.19555733242659754, 0.09721347161090976, 0.02260778409556041, 0.48832813646410483, 0.029390119324228532, 0.04069401137200874, 0.002260778409556041, 0.0033911676143340615, 0.07707048068709267, 0.041499489600742206, 0.017785495543175232, 0.7054913232126175, 0.14228396434540186, 0.0029642492571958718, 0.0059284985143917435, 0.008892747771587616, 0.2059153890316273, 0.5333546142130674, 0.24979899653017082, 0.010126986345817737, 0.05476294405628756, 0.05389369097602902, 0.7962358215168159, 0.004346265401292663, 0.05041667865499489, 0.002607759240775598, 0.02260058008672185, 0.014777302364395055, 0.029620123507454375, 0.7799965856962985, 0.17772074104472624, 0.01234171812810599, 0.9029839579042053, 0.09406082894835473, 0.3460135253827052, 0.10071287050044156, 0.0019943142673354763, 0.39487422493242436, 0.003988628534670953, 0.08774982776276097, 0.043874913881380484, 0.020940299807022503, 0.22721829407823999, 0.27846327104056645, 0.01837084079781515, 0.32100627078287525, 0.015470181724475915, 0.015470181724475915, 0.0019337727155594893, 0.06864893140236188, 0.019337727155594894, 0.034807908880070806, 0.9145034274527746, 0.01116826864182215, 0.30285716728705947, 0.012482182599683578, 0.34687328487541735, 0.03613263384118931, 0.09263093402923077, 0.00854044072609929, 0.0006569569789307147, 0.18132012618487725, 0.007883483747168575, 0.3880473556484309, 0.1858390561790252, 0.24987168434433701, 0.07510593980292211, 0.07077290481429199, 0.00962896664140027, 0.000962896664140027, 0.019739381614870554, 0.004447061524417251, 0.3246354912824594, 0.022235307622086257, 0.004447061524417251, 0.1111765381104313, 0.008894123048834503, 0.5247532598812357, 0.9598026326857303, 0.9740431179801551, 0.9079366384401459, 0.040168026214333075, 0.9238646029296608, 0.17889517613722702, 0.035779035227445403, 0.017889517613722702, 0.7513597397763535, 0.0592342558214186, 0.888513837321279, 0.9306840461016118, 0.1507935480694861, 0.007013653398580749, 0.3401621898311663, 0.0035068266992903745, 0.010520480097871123, 0.4874489112013621, 0.9787736723420586, 0.6935871365905153, 0.03797009871845887, 0.05822081803497026, 0.050626798291278495, 0.050626798291278495, 0.10631627641168484, 0.0025313399145639247, 0.0025313399145639247, 0.9246365432286884, 0.9186166586893189, 0.4061812729062785, 0.11902055903765368, 0.057935933499810265, 0.08123625458125569, 0.0113352913369194, 0.15869407871687158, 0.006927122483672966, 0.024559797896658696, 0.13161532718978636, 0.0031486920380331663, 0.99873626853198, 0.964358386954175, 0.9718627701009338, 0.01170919000121607, 0.963810988840474, 0.023507585093670097, 0.9628155381757305, 0.9306840736572686, 0.9267738544395343, 0.050782129010385445, 0.059447878319435765, 0.03269633307568967, 0.8946905687075083, 0.0059447878319435765, 0.0059447878319435765, 0.9276155112625522, 0.046380775563127606, 0.16882453506661868, 0.10461585943472436, 0.3387561162648217, 0.10572290556630874, 0.07085095242140062, 0.06919038322402404, 0.05590582964501143, 0.014945122776389194, 0.047602983658128546, 0.024355014894856464, 0.19881427913028973, 0.0046506264124044384, 0.6382984751025091, 0.0011626566031011096, 0.005813283015505548, 0.017439849046516645, 0.03139172828372996, 0.0023253132062022192, 0.09882581126359431, 0.0011626566031011096, 0.9877759328580722, 0.9306839942590582, 0.1541920947198476, 0.3041941868657863, 0.031006019046925876, 0.2865961760553689, 0.034358021106052995, 0.08380005147817804, 0.015922009780853827, 0.015084009266072049, 0.029330018017362316, 0.046090028312997924, 0.9727448522726586, 0.9647544243779475, 0.9611213124580824, 0.9428434938293252, 0.15092143355151563, 0.5442678469810563, 0.016637008423001722, 0.12002413219451243, 0.016637008423001722, 0.07011310692550726, 0.020202081656502092, 0.029708943612503074, 0.016637008423001722, 0.014260292934001476, 0.9611213180115934, 0.9909270470701637, 0.9242837731696764, 0.08781505127392776, 0.6434448302435071, 0.01915964755067515, 0.1532771804054012, 0.036722657805460704, 0.004789911887668787, 0.027142834030123127, 0.0031932745917791915, 0.0031932745917791915, 0.020756284846564745, 0.030161947223926268, 0.04021592963190169, 0.7791836366180952, 0.08545885046779109, 0.060323894447852536, 0.015555579603494903, 0.4009882742234242, 0.002592596600582484, 0.044074142209902224, 0.48654396204264616, 0.006913590934886624, 0.002592596600582484, 0.015555579603494903, 0.023333369405242357, 0.9503013467843888, 0.12941966015808426, 0.11093113727835793, 0.055465568639178967, 0.7025638694296003, 0.9643584216530937, 0.02126000429180527, 0.41457008369020276, 0.02126000429180527, 0.010630002145902635, 0.05315001072951317, 0.010630002145902635, 0.45709009227381325, 0.05904384067542685, 0.04251156528630733, 0.2456223772097757, 0.0732143624375293, 0.025979289897187813, 0.0732143624375293, 0.4558184500142953, 0.004723507254034148, 0.004723507254034148, 0.014170521762102444, 0.052052820430033175, 0.026026410215016588, 0.8848979473105639, 0.03903961532252488, 0.9569745822827663, 0.9611213092048365, 0.993322393659638, 0.05070876103799636, 0.9127576986839344, 0.9769317980473408, 0.07371520156643238, 0.7884321558844507, 0.00320500876375793, 0.00641001752751586, 0.04807513145636895, 0.054485148983884804, 0.022435061346305508, 0.9631703761163383, 0.03009907425363557, 0.015974368315377067, 0.019967960394221333, 0.007987184157688534, 0.05591028910381973, 0.019967960394221333, 0.8626158890303616, 0.011980776236532799, 0.759129116658597, 0.10191048415416781, 0.006239417397193948, 0.014558640593452543, 0.09567106675697386, 0.022877863789711142, 0.031918817221079594, 0.9575645166323877, 0.38558214615643743, 0.11008567862445871, 0.04629243921643905, 0.17416118900331032, 0.1535554081325783, 0.008185858154126417, 0.0460101682456071, 0.059559174845540484, 0.003387251649983345, 0.013266735629101434, 0.9649200752993434, 0.1407171602858937, 0.6093053040379197, 0.001407171602858937, 0.1590103911230599, 0.01407171602858937, 0.001407171602858937, 0.03377211846861449, 0.02814343205717874, 0.001407171602858937, 0.011257372822871497, 0.12520866689143287, 0.15942718455120333, 0.3305197728500557, 0.05288316365600891, 0.05366085723918551, 0.044328534241066295, 0.1454287000540245, 0.08554629414942619, 0.002333080749529805, 0.971994453764031, 0.058079847036707336, 0.9176615831799759, 0.011615969407341466, 0.06094557500279967, 0.9141836250419951, 0.9555935980219079, 0.17898826248410982, 0.06264589186943843, 0.005966275416136994, 0.5906612661975624, 0.013424119686308236, 0.08651099353398642, 0.002983137708068497, 0.044747065621027454, 0.008949413124205491, 0.002983137708068497, 0.9283119945810497, 0.9540910334719092, 0.9769317925866803, 0.10200741088388936, 0.8704632395425225, 0.013600988117851914, 0.006800494058925957, 0.027402461024860075, 0.027402461024860075, 0.04110369153729011, 0.9042812138203825, 0.06726726164071892, 0.2172607208271667, 0.01002741788433077, 0.44956256848082954, 0.015458935905009939, 0.14330851393022725, 0.009609608805816988, 0.0676850707192327, 0.01963702669014776, 0.1167671646825235, 0.007297947792657719, 0.007297947792657719, 0.036489738963288595, 0.7407417009547584, 0.07297947792657719, 0.018244869481644298, 0.06972224905252788, 0.06972224905252788, 0.8482873634724226, 0.929688502866066, 0.026947492836697565, 0.04042123925504634, 0.9499098381189671, 0.16677578227558756, 0.10533207301616056, 0.07899905476212042, 0.008777672751346713, 0.5354380378321495, 0.043888363756733564, 0.05266603650808028, 0.92606668576034, 0.9166214419670278, 0.09288814783472112, 0.9056594413885309, 0.0972170848474093, 0.0972170848474093, 0.09422578992902748, 0.020939064428672775, 0.529459200553583, 0.002991294918381825, 0.13012132894960937, 0.002991294918381825, 0.01794776951029095, 0.0074782372959545625, 0.7353229974802119, 0.1685115202558819, 0.03063845822834216, 0.03063845822834216, 0.027574612405507945, 0.006127691645668432, 0.9689564508946567, 0.13153687266846417, 0.04384562422282139, 0.10648223025542339, 0.025054642413040798, 0.660816193643951, 0.0031318303016300997, 0.0187909818097806, 0.0031318303016300997, 0.0031318303016300997, 0.8896101199767432, 0.02068860744131961, 0.062065822323958825, 0.9198923023858502, 0.055751048629445465, 0.326000664606141, 0.11731871051112719, 0.2663030906734878, 0.05243004319302586, 0.1832455965063181, 0.005710202723992916, 0.03529943502104712, 0.004152874708358485, 0.002595546692724053, 0.0072675307396273476, 0.15789615408364463, 0.17882215040798308, 0.16265206233917612, 0.0409008109975706, 0.29629308431961027, 0.060400034845249605, 0.08655753025067267, 0.0038047266044251723, 0.004280317429978318, 0.00808504403440349, 0.9350072944949605, 0.06332330568418605, 0.3166165284209303, 0.02807115612804124, 0.42792192655653566, 0.13121633445898348, 0.006528175843730521, 0.0006528175843730521, 0.011424307726528412, 0.00913944618122273, 0.0055489494671709435, 0.0694723922947269, 0.048630674606308835, 0.12505030613050844, 0.6808294444883237, 0.048630674606308835, 0.027788956917890763, 0.102586012384911, 0.06567422288192899, 0.07669982234385868, 0.08532855235754279, 0.3547366783403464, 0.07909669179210427, 0.15675526191526118, 0.04745801507526256, 0.031159302827192592, 0.9499098519006477, 0.03270048010148225, 0.1401449147206382, 0.654009602029645, 0.0023357485786773035, 0.05839371446693258, 0.009342994314709214, 0.07941545167502831, 0.02102173720809573, 0.0023357485786773035, 0.9727999714961154, 0.13006566815864679, 0.21172343726576712, 0.17602872382373247, 0.07823498836610332, 0.09437095471661214, 0.11392970180813797, 0.07187839556135743, 0.00342278074101702, 0.07285633291593371, 0.047429961696950136, 0.010485673334163996, 0.020971346668327992, 0.8493395400672837, 0.12058524334288596, 0.1776055640252748, 0.8169855945162641, 0.9684993888318402, 0.12160137725242762, 0.7712525707927944, 0.0016657722911291456, 0.08328861455645728, 0.004997316873387437, 0.014991950620162309, 0.971720543486987, 0.9838443695724468, 0.931279758040858, 0.04556789712500701, 0.03752650351471165, 0.3511408543162305, 0.09917718786030937, 0.03752650351471165, 0.39134782236770727, 0.005360929073530236, 0.029485109904416298, 0.3345728897026012, 0.051365962319486494, 0.22489961880423814, 0.13049730967653325, 0.12286182879120418, 0.02498884653380424, 0.07843721273110775, 0.015270961770658146, 0.013188557892841126, 0.003470673129695033, 0.9040619601807072, 0.28822652832344414, 0.23016650822951293, 0.04976573150908388, 0.15966505525831076, 0.004147144292423657, 0.041471442924236566, 0.05598644794771936, 0.15344433881967529, 0.008294288584847313, 0.008294288584847313, 0.9169589994142636, 0.009930963892573252, 0.029792891677719757, 0.03972385557029301, 0.003310321297524417, 0.4555749643788795, 0.054837727193754016, 0.1349851746307791, 0.08436573414423695, 0.004218286707211847, 0.04640115377933032, 0.008436573414423694, 0.008436573414423694, 0.20247776194616868, 0.9590027010460429, 0.9422838627764643, 0.1321363958785643, 0.1499926655918838, 0.0071425078853278, 0.5464018532275767, 0.0142850157706556, 0.1178513801079087, 0.0285700315413112, 0.07590651430084802, 0.021221176041097297, 0.042442352082194594, 0.2497569180221451, 0.17793139911381578, 0.10855447744099771, 0.21221176041097295, 0.05060434286723201, 0.01142678709905239, 0.05060434286723201, 0.02214895496100363, 0.013711257833002246, 0.21516127676403524, 0.01582068211500259, 0.08859581984401452, 0.36176626436305925, 0.17508221540602867, 0.006328272846001037, 0.07593927415201245, 0.02636780352500432, 0.16201923785183817, 0.15441270086348896, 0.16277989155067307, 0.07454406248582225, 0.21298303567377785, 0.07682602358232701, 0.06921948659397781, 0.0038032684941746047, 0.04868183672543494, 0.034229416447571444, 0.013171006865270162, 0.08561154462425605, 0.12841731693638406, 0.01975651029790524, 0.5663532952066169, 0.0658550343263508, 0.03951302059581048, 0.03951302059581048, 0.04609852402844556, 0.6155284438306521, 0.27402952642713685, 0.029063737651363, 0.032177709542580465, 0.004151962521623286, 0.009341915673652394, 0.017645840716898963, 0.004151962521623286, 0.013493878195275678, 0.9297929448930827, 0.025473779312139254, 0.005094755862427851, 0.007642133793641776, 0.030568535174567105, 0.930684062509357, 0.05879089646218387, 0.17526342718915192, 0.11758179292436774, 0.045479750093387526, 0.14198556126716105, 0.15085965884635863, 0.14642261005675983, 0.0022185243947993915, 0.14198556126716105, 0.019966719553194522, 0.22899549377971634, 0.1302597743837867, 0.38899494268034934, 0.04104075083324787, 0.10349406731862505, 0.029144881026509355, 0.04817827271729097, 0.00535314141303233, 0.016654217729433915, 0.007137521884043107, 0.05015321538588677, 0.08637498205347166, 0.6464192205292073, 0.06269151923235847, 0.025076607692943384, 0.037614911539415076, 0.037614911539415076, 0.02229031794928301, 0.023683462821113197, 0.00696572435915094, 0.018596570646057214, 0.20921141976814364, 0.6973713992271455, 0.02789485596908582, 0.018596570646057214, 0.02789485596908582, 0.16708417331104686, 0.11069326481856853, 0.05012525199331405, 0.041771043327761714, 0.48036699826925966, 0.0877191909882996, 0.02297407383026894, 0.012531312998328513, 0.008354208665552343, 0.01879696949749277, 0.045896884365312064, 0.09179376873062413, 0.045896884365312064, 0.8031954763929611, 0.9527340928294711, 0.0031237183371458067, 0.037484620045749685, 0.0031237183371458067, 0.9723352252385153, 0.009821567931702175, 0.9544073874235517, 0.01806555320652065, 0.04968027131793178, 0.15355720225542552, 0.054196659619561945, 0.03161471811141114, 0.5871304792119211, 0.009032776603260325, 0.01806555320652065, 0.054196659619561945, 0.02258194150815081, 0.9256972039796789, 0.015689783118299643, 0.047069349354898926, 0.015689783118299643, 0.9806638618199884, 0.05695829477290568, 0.8543744215935852, 0.04556663581832454, 0.034174976863743406, 0.9589512108931324, 0.014753095552202037, 0.980676547021163, 0.06393467276211506, 0.9110690868601398, 0.07221860503607286, 0.8906961287782319, 0.024072868345357618, 0.9166215122629042, 0.0368855887737084, 0.9590253081164184, 0.6758756908124228, 0.18740189608889907, 0.027649460078690027, 0.0030721622309655586, 0.0015360811154827793, 0.0015360811154827793, 0.009216486692896675, 0.033793784540621145, 0.06144324461931117, 0.8504631795300939, 0.09962568674495385, 0.009719579194629645, 0.03887831677851858, 0.9949910853561436, 0.07214962793558267, 0.9018703491947834, 0.042627134400502434, 0.307862637336962, 0.0023681741333612463, 0.0663088757341149, 0.056836179200669905, 0.452321259471998, 0.026049915466973706, 0.04499530853386367, 0.014676438925280502, 0.9833214079937936, 0.35088800927290664, 0.017003383709259794, 0.3972608739345243, 0.12984402105252935, 0.012366097243098033, 0.06260336729318379, 0.009274572932323524, 0.013911859398485287, 0.006955929699242643, 0.02510238114478977, 0.9187471498993055, 0.005020476228957954, 0.02510238114478977, 0.020081904915831814, 0.0490202117661951, 0.134455437987278, 0.0028011549580682915, 0.07983291630494631, 0.19047853714864382, 0.11064562084369753, 0.02801154958068292, 0.008403464874204875, 0.30672646790847796, 0.08823638117915118, 0.9769317579070167, 0.02631314032277967, 0.001754209354851978, 0.17892935419490175, 0.007016837419407912, 0.04648654790357742, 0.30961795113137414, 0.317511893228208, 0.1034983519362667, 0.00877104677425989, 0.03099017914510115, 0.21323517760390698, 0.02899998415413135, 0.2501959417219175, 0.12623522514151295, 0.28772533298020514, 0.02047057704997507, 0.0002843135701385426, 0.010235288524987535, 0.03127449271523969, 0.9313909263214479, 0.040495257666149906, 0.963254036410721, 0.02408135091026803, 0.9411454478993411, 0.1015437824427622, 0.20238726293764328, 0.0714307986838741, 0.18277880839697194, 0.16667186359570624, 0.13725918178469926, 0.042718418820748234, 0.01470634090550349, 0.027311775967363627, 0.05392324998684613, 0.9316017519081936, 0.03315552676557861, 0.9283547494362011, 0.016577763382789306, 0.9544072040810253, 0.08775324470797963, 0.08775324470797963, 0.7897792023718166, 0.9370594037493486, 0.03231239323273616, 0.03688599269268254, 0.9590358100097461, 0.1375290644359394, 0.03820251789887206, 0.460722365860397, 0.07029263293392458, 0.08022528758763131, 0.09703439546313503, 0.06188807899617273, 0.0030562014319097646, 0.03514631646696229, 0.016809107875503704, 0.9446057280138592, 0.8718319530856512, 0.9476314436173423, 0.0064495358701564835, 0.7287975533276827, 0.002149845290052161, 0.253681744226155, 0.002149845290052161, 0.004299690580104322, 0.15134914338794458, 0.1545022505418601, 0.003153107153915512, 0.5580999662430456, 0.012612428615662048, 0.006306214307831024, 0.04729660730873268, 0.053602821616563705, 0.009459321461746537, 0.07740607376862661, 0.9159718729287483, 0.9715669276957385, 0.23969623129378487, 0.040571151989414946, 0.017254397972509807, 0.1944617285009889, 0.4439509964818739, 0.03730680642704823, 0.014456387490481188, 0.004197015723042925, 0.002798010482028617, 0.006528691124733439, 0.0684874434095509, 0.26253519973661177, 0.17692589547467316, 0.05055025584990662, 0.29270228790510444, 0.04565829560636727, 0.04321231548459759, 0.0008153267072565583, 0.017121860852387726, 0.042396988777341035, 0.3810929712422318, 0.047636621405278974, 0.031757747603519314, 0.09981006389677499, 0.03856297923284488, 0.0022684105431085223, 0.3243827076645187, 0.0703207268363642, 0.004536821086217045, 0.9744414302520412, 0.19182883199605838, 0.12550157483131955, 0.14891119500710973, 0.06632725716473882, 0.1300534454210565, 0.13915718660053047, 0.12680210928553012, 0.007803206725263391, 0.029262025219737718, 0.03446416303657998, 0.9788858133528361, 0.15371632125867546, 0.1574055129688837, 0.09100006218513589, 0.2533244974342972, 0.02951353368166569, 0.11067575130624634, 0.03935137824222092, 0.15986497410902248, 0.0036891917102082113, 0.0012297305700694039, 0.9855582579753369, 0.20771709461604532, 0.7754771532332358, 0.018463741743648475, 0.07222738462469874, 0.04815158974979916, 0.8667286154963849, 0.8860607539251995, 0.010184606366956315, 0.010184606366956315, 0.010184606366956315, 0.030553819100868948, 0.05092303183478158, 0.005092303183478157, 0.9040619457159588, 0.011448938855888763, 0.005724469427944382, 0.04007128599561067, 0.1259383274147764, 0.23184101183174746, 0.20894313411996993, 0.022897877711777526, 0.35491710453255165, 0.029912440130844462, 0.9571980841870228, 0.008546411465955561, 0.9260666580507858, 0.9428434738957301, 0.1606898362117484, 0.10663288670272705, 0.1854967924932856, 0.12921832451129076, 0.14328794150678947, 0.08145567734236094, 0.1414366761126449, 0.019623413177932408, 0.016661388547301103, 0.015550629310814362, 0.13060781628305887, 0.5997075564330453, 0.01741437550440785, 0.19264652901751184, 0.005441992345127453, 0.004353593876101963, 0.011972383159280398, 0.0348287510088157, 0.9034857999742834, 0.1855748132327196, 0.1043011724008716, 0.1991204200380276, 0.027091213610615998, 0.12868326465042598, 0.07585539810972479, 0.0799190801513172, 0.08804644423450199, 0.018963849527431197, 0.0907555655955636, 0.09870356555444458, 0.024675891388611145, 0.012337945694305573, 0.086365619860139, 0.7649526330469455, 0.216414912289633, 0.006762966009051031, 0.7236373629684604, 0.013525932018102062, 0.020288898027153095, 0.020288898027153095, 0.9130400514916421, 0.0072479667361799, 0.0217439002085397, 0.15764327651191282, 0.05979572557348418, 0.001811991684044975, 0.33521846154832036, 0.01087195010426985, 0.4040741455420294, 0.040232463363585165, 0.1484130870745586, 0.18417527673107875, 0.2628520939754231, 0.00983460215554304, 0.21814935690477288, 0.012516766379782052, 0.018775149569673077, 0.10102818577966942, 0.005364328448478022, 0.9836472386900503, 0.01910749432842032, 0.06050706537333102, 0.5971091977631351, 0.07006081253754118, 0.017515203134385295, 0.2149593111947286, 0.014330620746315241, 0.00477687358210508, 0.9428435380583358, 0.02428302154934232, 0.8053868813865203, 0.00404717025822372, 0.0809434051644744, 0.0202358512911186, 0.00809434051644744, 0.04451887284046092, 0.00809434051644744, 0.9838444383840218, 0.887422166905275, 0.014030389990597232, 0.003507597497649308, 0.010522792492947925, 0.08067474244593409, 0.006065886570033597, 0.006065886570033597, 0.006065886570033597, 0.45797443603753657, 0.027296489565151186, 0.4337108897574022, 0.009098829855050396, 0.012131773140067194, 0.03942826270521838, 0.9561852007175513, 0.1116027865314106, 0.0038483719493589866, 0.5868767222772454, 0.08273999691121821, 0.14623813407564148, 0.00577255792403848, 0.0577255792403848, 0.0019241859746794933, 0.0019241859746794933, 0.0019241859746794933, 0.9889777207235476, 0.013665532724475191, 0.10476908422097647, 0.0501069533230757, 0.2778658320643289, 0.19587263571747773, 0.10476908422097647, 0.004555177574825064, 0.24597958904055345, 0.9737115747429063, 0.02607565992129872, 0.11842695547589835, 0.1189701983909254, 0.17220800406357697, 0.08800535223438317, 0.1466755870573053, 0.1830728623641181, 0.0005432429150270567, 0.08691886640432907, 0.059756720652976235, 0.9328786644385328, 0.9298486659156825, 0.017072825084698335, 0.9731510298278051, 0.02596010243649112, 0.2180648604665254, 0.08826434828406982, 0.5659302331155064, 0.010384040974596448, 0.09864838925866626, 0.8903111228244793, 0.019159676432644438, 0.8366392042254738, 0.006386558810881479, 0.012773117621762958, 0.1213446174067481, 0.9609460074942334, 0.9719930731640736, 0.9724343982051347, 0.7997694508831581, 0.00441861575073568, 0.00441861575073568, 0.01767446300294272, 0.04860477325809248, 0.00441861575073568, 0.039767541756621116, 0.05302338900882816, 0.030930310255149758, 0.18276856079239684, 0.12428262133882985, 0.051175197021871115, 0.10722422233153947, 0.22175918709477482, 0.012184570719493122, 0.04630136873407387, 0.2193222729508762, 0.007310742431695874, 0.031679883870682116, 0.24154515487991082, 0.4978286581931721, 0.00040939856759306917, 0.14533649149553957, 0.055678205192657405, 0.005322181378709899, 0.005731579946302969, 0.010644362757419798, 0.01637594270372277, 0.021698124082432668, 0.9870047274307945, 0.0401575907221191, 0.9236245866087393, 0.9689242578908053, 0.02750889060257807, 0.9599509504159639, 0.9747914394766624, 0.9829134272665209, 0.056964606560222945, 0.9114337049635671, 0.3049434190499359, 0.060566129418693965, 0.185219674850192, 0.1570493820973111, 0.14366849303969265, 0.04683311170166452, 0.061622515396927, 0.020775590905249674, 0.010915988441741353, 0.008451087825864274, 0.3621296957446195, 0.12739872028129012, 0.12273210049076667, 0.14513187548527923, 0.12366542444887137, 0.012599873434413308, 0.0718659447740611, 0.02753305676408834, 0.0037332958324187582, 0.0037332958324187582, 0.9583817451112226, 0.009061102835453517, 0.7611326381780954, 0.1540387482027098, 0.009061102835453517, 0.02265275708863379, 0.013591654253180275, 0.03171385992408731, 0.9572315342964478, 0.16270185601833273, 0.18362066607783264, 0.0410628493760554, 0.384286288500443, 0.048035786062555375, 0.07205367909383306, 0.03099082971777766, 0.027116976003055453, 0.023243122288333248, 0.026342205260111013, 0.042681512329946776, 0.05335189041243347, 0.06402226849492017, 0.1351581223781648, 0.7006881607499595, 0.007113585388324462, 0.9622238956349832, 0.9650450116830545, 0.02412612529207636, 0.9428435279588379, 0.0836408234969399, 0.04460843919836795, 0.04460843919836795, 0.07806476859714391, 0.6468223683763352, 0.07248871369734791, 0.027880274498979965, 0.011454157203470216, 0.07330660610220938, 0.09392408906845577, 0.08705159474637364, 0.002290831440694043, 0.6070703317839214, 0.04352579737318682, 0.0320716401697166, 0.034362471610410644, 0.011454157203470216, 0.8642974081105735, 0.017593840368663075, 0.06817613142856942, 0.01539461032258019, 0.02639076055299461, 0.008796920184331538, 0.0021992300460828844, 0.7100075318869647, 0.13790172535337375, 0.08385915730948403, 0.020498905120096098, 0.0074541473163985805, 0.027953052436494676, 0.013044757803697515, 0.009375163776894213, 0.7336065655419722, 0.16406536609564873, 0.03750065510757685, 0.04218823699602396, 0.011718954721117766, 0.002343790944223553, 0.12217965926175874, 0.06516248493960465, 0.05294451901342878, 0.0936710721006817, 0.17105152296646223, 0.03665389777852762, 0.07330779555705524, 0.008145310617450581, 0.3746842884027268, 0.9777811168610324, 0.025873646381575497, 0.9573249161182934, 0.9310941101902631, 0.02251231622629346, 0.07879310679202711, 0.01125615811314673, 0.01125615811314673, 0.877980332825445, 0.01125615811314673, 0.9600635865234033, 0.840015925257687, 0.15789773031159532, 0.04666314171174253, 0.011665785427935633, 0.8049391945275587, 0.09332628342348506, 0.023331570855871266, 0.8776731079745554, 0.8776731079745554, 0.7283906068514893, 0.0965336948839323, 0.002925263481331282, 0.011701053925325128, 0.01755158088798769, 0.002925263481331282, 0.10530948532792615, 0.011701053925325128, 0.020476844369318976, 0.9829133006429269, 0.018538164274238548, 0.019465072487950475, 0.2104081645126075, 0.20299289880291208, 0.03985705318961288, 0.3485174883556847, 0.07415265709695419, 0.03244178747991746, 0.053760676395291786, 0.10867786330571277, 0.8694229064457022, 0.057171594406724265, 0.2753677712250481, 0.4175099921812157, 0.039338253032149724, 0.15000987156259762, 0.015210791172431227, 0.008392160646858608, 0.007867650606429945, 0.0283235421831478, 0.001573530121285989, 0.1272936098530748, 0.859231866508255, 0.07296524551946915, 0.0170252239545428, 0.773431602506373, 0.004864349701297943, 0.02675392335713869, 0.0340504479090856, 0.07053307066882018, 0.0024321748506489715, 0.03560093707961366, 0.2966744756634472, 0.01780046853980683, 0.6408168674330459, 0.05665381590072386, 0.00903176775228931, 0.2364681011508474, 0.14532935383229162, 0.08457018895325445, 0.09113874731855577, 0.3128275921474752, 0.0032842791826506582, 0.02298995427855461, 0.03859028039614523, 0.8718321365714051, 0.35491099849867436, 0.03276101524603148, 0.021840676830687654, 0.06006186128439105, 0.027300846038359566, 0.10920338415343826, 0.3576410831025103, 0.03276101524603148, 0.963294708465991, 0.024082367711649774, 0.961982003753788, 0.9634899957042943, 0.046408037158644264, 0.881752706014241, 0.08722005173614854, 0.12460007390878364, 0.068530040649831, 0.04361002586807427, 0.6105403621530398, 0.068530040649831, 0.9332562407388306, 0.8748086141837107, 0.11664114855782809, 0.9549541045364979, 0.034105503733446355, 0.9888523829031791, 0.9454397935412738, 0.03151465978470913, 0.19368983509478588, 0.30990373615165745, 0.007747593403791436, 0.48809838443886044, 0.028670340020459133, 0.00955678000681971, 0.14335170010229567, 0.2484762801773125, 0.5351796803819039, 0.00955678000681971, 0.01911356001363942, 0.023484463736967054, 0.9041518538732315, 0.07045339121090116, 0.2423839762847052, 0.07540834817746384, 0.0269315529205228, 0.05924941642515016, 0.05924941642515016, 0.03770417408873192, 0.02154524233641824, 0.4255185361442602, 0.00538631058410456, 0.0538631058410456, 0.0016562348809932399, 0.10931150214555382, 0.6161193757294852, 0.2666538158399116, 0.0066249395239729595, 0.9034857807619615, 0.9582801636519643, 0.06507158439791093, 0.013014316879582186, 0.9207629192304397, 0.95030127833027, 0.09510648797969332, 0.05434656455982475, 0.05434656455982475, 0.04075992341986856, 0.2853194639390799, 0.1268086506395911, 0.04981768417983935, 0.004528880379985396, 0.2853194639390799, 0.3101173992586605, 0.2538254620994977, 0.03070469299590698, 0.1842281579754419, 0.06396811040813954, 0.01995805044733954, 0.0281459685795814, 0.08187918132241861, 0.011770132315097676, 0.015864091381218606, 0.16295533276569849, 0.011344991521662554, 0.47391123674581304, 0.05672495760831277, 0.1010735608293573, 0.037644744594607565, 0.08044630351724356, 0.059303364772326984, 0.011344991521662554, 0.005672495760831277, 0.08069348333479488, 0.9078016875164424, 0.24038431182670206, 0.17874730879421435, 0.006163700303248771, 0.11094660545847787, 0.018491100909746313, 0.4191316206209164, 0.012327400606497542, 0.006163700303248771, 0.9347576851284922, 0.9724315581302265], \"Term\": [\"access\", \"access\", \"access\", \"access\", \"access\", \"access\", \"access\", \"access\", \"access\", \"account\", \"account\", \"account\", \"account\", \"account\", \"account\", \"account\", \"account\", \"account\", \"account\", \"accuracy\", \"accuracy\", \"accuracy\", \"accuracy\", \"acquia\", \"address\", \"address\", \"address\", \"address\", \"address\", \"address\", \"address\", \"address\", \"address\", \"address\", \"aggregation\", \"aggregation\", \"aggregation\", \"agile\", \"agile\", \"agile\", \"alecrimcoredata\", \"algorithm\", \"algorithm\", \"algorithm\", \"algorithm\", \"algorithm\", \"algorithm\", \"algorithmia\", \"allow\", \"allow\", \"allow\", \"allow\", \"allow\", \"allow\", \"allow\", \"allow\", \"allow\", \"allow\", \"almaden\", \"alphago\", \"alptitude\", \"amazon\", \"amazon\", \"amazon\", \"amazon\", \"amazon\", \"amazon\", \"amazon\", \"america\", \"america\", \"america\", \"america\", \"america\", \"america\", \"america\", \"america\", \"american\", \"american\", \"american\", \"american\", \"american\", \"american\", \"american\", \"american\", \"analytic\", \"analytic\", \"analytic\", \"analytic\", \"analytic\", \"analytic\", \"analytic\", \"android\", \"android\", \"android\", \"android\", \"android\", \"android\", \"android\", \"animation\", \"animation\", \"animation\", \"animation\", \"animation\", \"animation\", \"animation\", \"announce\", \"announce\", \"announce\", \"announce\", \"announce\", \"announce\", \"announce\", \"announce\", \"apple\", \"apple\", \"apple\", \"apple\", \"apple\", \"apple\", \"apple\", \"apple\", \"application\", \"application\", \"application\", \"application\", \"application\", \"application\", \"application\", \"application\", \"application\", \"aquifer\", \"architect\", \"architect\", \"architect\", \"architect\", \"architect\", \"architect\", \"architect\", \"architect\", \"architect\", \"architecture\", \"architecture\", \"architecture\", \"architecture\", \"architecture\", \"architecture\", \"architecture\", \"architecture\", \"architecture\", \"arjan\", \"array\", \"array\", \"array\", \"array\", \"array\", \"array\", \"array\", \"array\", \"artificial\", \"artificial\", \"artificial\", \"artist\", \"artist\", \"artist\", \"artist\", \"artist\", \"asana\", \"asset\", \"asset\", \"asset\", \"asset\", \"asset\", \"asset\", \"asset\", \"async\", \"async\", \"atlassian\", \"atlassian\", \"atlassian\", \"attack\", \"attack\", \"attack\", \"attack\", \"attack\", \"attack\", \"attack\", \"audits\", \"aurelia\", \"authentication\", \"authentication\", \"authentication\", \"authentication\", \"authentication\", \"authentication\", \"authentication\", \"autocomplete\", \"autocomplete\", \"autofill\", \"autonomous\", \"autonomous\", \"autonomous\", \"autonomous\", \"autonomous\", \"availability\", \"availability\", \"availability\", \"availability\", \"availability\", \"availability\", \"availability\", \"available\", \"available\", \"available\", \"available\", \"available\", \"available\", \"available\", \"available\", \"available\", \"available\", \"backend\", \"backend\", \"backend\", \"backend\", \"backend\", \"backend\", \"backend\", \"backlog\", \"balancer\", \"balancer\", \"balancing\", \"balancing\", \"balancing\", \"balancing\", \"balancing\", \"banker\", \"banking\", \"banking\", \"banking\", \"banking\", \"bayesian\", \"bcrypt\", \"beacon\", \"beacon\", \"beacon\", \"beacon\", \"bekele\", \"bezos\", \"bezos\", \"bicycle\", \"bicycle\", \"bicycle\", \"bicycle\", \"bicycle\", \"bigquery\", \"bigquery\", \"bigquery\", \"bigquery\", \"bigquery\", \"biological\", \"biological\", \"biology\", \"bisect\", \"bitbucket\", \"bitbucket\", \"bitcoin\", \"bitcoin\", \"bitfury\", \"black\", \"black\", \"black\", \"black\", \"black\", \"black\", \"black\", \"black\", \"blockchain\", \"blomfield\", \"boards\", \"boards\", \"botsman\", \"bower\", \"brain\", \"brain\", \"brain\", \"brain\", \"brain\", \"braintree\", \"branch\", \"branch\", \"branch\", \"branch\", \"branch\", \"branch\", \"branch\", \"branch\", \"brand\", \"brand\", \"brand\", \"brand\", \"brand\", \"brand\", \"brand\", \"brand\", \"brazil\", \"brazil\", \"breach\", \"breach\", \"breach\", \"breakpoint\", \"brockman\", \"browser\", \"browser\", \"browser\", \"browser\", \"browser\", \"browser\", \"browser\", \"bucket\", \"bucket\", \"bucket\", \"bucket\", \"build\", \"build\", \"build\", \"build\", \"build\", \"build\", \"build\", \"build\", \"build\", \"build\", \"bundle\", \"bundle\", \"bundle\", \"bundle\", \"bundle\", \"bundle\", \"bundle\", \"bundle\", \"bundle\", \"bunnell\", \"burda\", \"burndown\", \"business\", \"business\", \"business\", \"business\", \"business\", \"business\", \"business\", \"business\", \"businesspeople\", \"businesspeople\", \"button\", \"button\", \"button\", \"button\", \"button\", \"button\", \"button\", \"button\", \"button\", \"buytaert\", \"calayer\", \"callahan\", \"cardboard\", \"cardboard\", \"cardboard\", \"catransaction\", \"causal\", \"causal\", \"ceramic\", \"change\", \"change\", \"change\", \"change\", \"change\", \"change\", \"change\", \"change\", \"change\", \"change\", \"chatbot\", \"chatbot\", \"chatbot\", \"chatbot\", \"check\", \"check\", \"check\", \"check\", \"check\", \"check\", \"check\", \"check\", \"check\", \"check\", \"child\", \"child\", \"child\", \"child\", \"child\", \"child\", \"child\", \"child\", \"child\", \"china\", \"china\", \"china\", \"china\", \"china\", \"china\", \"china\", \"claire\", \"class\", \"class\", \"class\", \"class\", \"class\", \"class\", \"class\", \"class\", \"class\", \"class\", \"click\", \"click\", \"click\", \"click\", \"click\", \"click\", \"click\", \"click\", \"clinton\", \"cloud\", \"cloud\", \"cloud\", \"cloud\", \"cloud\", \"cloud\", \"cloud\", \"cloud\", \"cloud\", \"cloudfront\", \"cluster\", \"cluster\", \"cluster\", \"cluster\", \"cluster\", \"cluster\", \"cluster\", \"cluster\", \"coffee\", \"coffee\", \"coffee\", \"coffee\", \"coffee\", \"coffee\", \"coffee\", \"coindesk\", \"coinfest\", \"coldline\", \"comic\", \"comic\", \"comic\", \"command\", \"command\", \"command\", \"command\", \"command\", \"command\", \"command\", \"command\", \"commerce\", \"commerce\", \"commerce\", \"commerce\", \"commerce\", \"commerce\", \"commerce\", \"commerce\", \"commit\", \"commit\", \"commit\", \"commit\", \"commit\", \"commit\", \"commit\", \"commit\", \"commit\", \"commit\", \"community\", \"community\", \"community\", \"community\", \"community\", \"community\", \"community\", \"community\", \"community\", \"community\", \"company\", \"company\", \"company\", \"company\", \"company\", \"company\", \"company\", \"company\", \"company\", \"company\", \"component\", \"component\", \"component\", \"component\", \"component\", \"component\", \"component\", \"component\", \"component\", \"compute\", \"compute\", \"compute\", \"compute\", \"compute\", \"compute\", \"computer\", \"computer\", \"computer\", \"computer\", \"computer\", \"computer\", \"computer\", \"computer\", \"computer\", \"computer\", \"connection\", \"connection\", \"connection\", \"connection\", \"connection\", \"connection\", \"connection\", \"connection\", \"connection\", \"connection\", \"consensys\", \"constraintlayout\", \"constructor\", \"consumer\", \"consumer\", \"consumer\", \"consumer\", \"consumer\", \"consumer\", \"consumer\", \"consumer\", \"consumer\", \"contain\", \"contain\", \"contain\", \"contain\", \"contain\", \"contain\", \"contain\", \"contain\", \"container\", \"container\", \"container\", \"container\", \"container\", \"containerd\", \"containerd\", \"content\", \"content\", \"content\", \"content\", \"content\", \"content\", \"content\", \"content\", \"content\", \"content\", \"continuous\", \"continuous\", \"continuous\", \"continuous\", \"continuous\", \"continuous\", \"continuous\", \"continuous\", \"contrib\", \"contrib\", \"contribute\", \"contribute\", \"contribute\", \"contribute\", \"contribute\", \"contribute\", \"contribute\", \"contribute\", \"contribute\", \"contributed\", \"convolutional\", \"cooling\", \"copywrite\", \"corda\", \"cordova\", \"corrado\", \"country\", \"country\", \"country\", \"country\", \"country\", \"country\", \"country\", \"country\", \"country\", \"cozmo\", \"cozmo\", \"cozmo\", \"create\", \"create\", \"create\", \"create\", \"create\", \"create\", \"create\", \"create\", \"create\", \"create\", \"credential\", \"credential\", \"credential\", \"credential\", \"credential\", \"credential\", \"credits\", \"credits\", \"credits\", \"credits\", \"creep\", \"creep\", \"creep\", \"creep\", \"creep\", \"crime\", \"crime\", \"crime\", \"cropx\", \"cryptocurrencie\", \"cryptocurrency\", \"cryptocurrency\", \"cryptographically\", \"currency\", \"currency\", \"currency\", \"currency\", \"customer\", \"customer\", \"customer\", \"customer\", \"customer\", \"customer\", \"customer\", \"customer\", \"dakuten\", \"database\", \"database\", \"database\", \"database\", \"database\", \"database\", \"database\", \"database\", \"database\", \"databricks\", \"datum\", \"datum\", \"datum\", \"datum\", \"datum\", \"datum\", \"datum\", \"datum\", \"datum\", \"datum\", \"death\", \"death\", \"death\", \"death\", \"death\", \"death\", \"death\", \"debug\", \"debug\", \"debug\", \"debug\", \"debug\", \"debugger\", \"debugger\", \"debugger\", \"debut\", \"debut\", \"decouple\", \"decouple\", \"decouple\", \"decouple\", \"decoupled\", \"decoupled\", \"decoupled\", \"decoupled\", \"decoupled\", \"decrypt\", \"decrypt\", \"deepmind\", \"deeptext\", \"defect\", \"defect\", \"defect\", \"defence\", \"defence\", \"define\", \"define\", \"define\", \"define\", \"define\", \"define\", \"define\", \"define\", \"define\", \"deliver\", \"deliver\", \"deliver\", \"deliver\", \"deliver\", \"deliver\", \"deliver\", \"deliver\", \"deliver\", \"deliver\", \"delivery\", \"delivery\", \"delivery\", \"delivery\", \"delivery\", \"delivery\", \"delivery\", \"delivery\", \"delivery\", \"demandware\", \"dependency\", \"dependency\", \"dependency\", \"dependency\", \"dependency\", \"dependency\", \"dependency\", \"deployment\", \"deployment\", \"deployment\", \"deployment\", \"deployment\", \"deployment\", \"deployment\", \"deployment\", \"design\", \"design\", \"design\", \"design\", \"design\", \"design\", \"design\", \"design\", \"design\", \"design\", \"developer\", \"developer\", \"developer\", \"developer\", \"developer\", \"developer\", \"developer\", \"developer\", \"developer\", \"development\", \"development\", \"development\", \"development\", \"development\", \"development\", \"development\", \"development\", \"development\", \"development\", \"device\", \"device\", \"device\", \"device\", \"device\", \"device\", \"device\", \"device\", \"device\", \"device\", \"devops\", \"devops\", \"devops\", \"different\", \"different\", \"different\", \"different\", \"different\", \"different\", \"different\", \"different\", \"different\", \"different\", \"differential\", \"digital\", \"digital\", \"digital\", \"digital\", \"digital\", \"digital\", \"digital\", \"digital\", \"digitization\", \"digitization\", \"directory\", \"directory\", \"directory\", \"directory\", \"directory\", \"directory\", \"discriminator\", \"disruption\", \"disruption\", \"disruption\", \"distribution\", \"distribution\", \"distribution\", \"distribution\", \"distribution\", \"distribution\", \"distribution\", \"distribution\", \"django\", \"docker\", \"docker\", \"docker\", \"dockerfile\", \"document\", \"document\", \"document\", \"document\", \"document\", \"document\", \"document\", \"document\", \"document\", \"dotnet\", \"dries\", \"drink\", \"drink\", \"drink\", \"drink\", \"drink\", \"drink\", \"drink\", \"driving\", \"driving\", \"dropwizard\", \"drupal\", \"drupalcon\", \"drush\", \"drush\", \"dynamodb\", \"earth\", \"earth\", \"earth\", \"earth\", \"earth\", \"eclipse\", \"eclipse\", \"eclipse\", \"eclipse\", \"ecommerce\", \"ecommerce\", \"ecommerce\", \"ecommerce\", \"ecommerce\", \"eddystone\", \"elastic\", \"elastic\", \"elastic\", \"elastic\", \"elasticsearch\", \"element\", \"element\", \"element\", \"element\", \"element\", \"element\", \"element\", \"element\", \"element\", \"element\", \"email\", \"email\", \"email\", \"email\", \"email\", \"email\", \"email\", \"email\", \"email\", \"emulator\", \"emulator\", \"emulator\", \"encrypt\", \"encrypt\", \"encrypt\", \"encrypt\", \"encrypt\", \"encryption\", \"encryption\", \"encryption\", \"encryption\", \"encryption\", \"encryption\", \"encryption\", \"endpoints\", \"engine\", \"engine\", \"engine\", \"engine\", \"engine\", \"engine\", \"engine\", \"engine\", \"enterprise\", \"enterprise\", \"enterprise\", \"enterprise\", \"enterprise\", \"enterprise\", \"enterprise\", \"enterprise\", \"environment\", \"environment\", \"environment\", \"environment\", \"environment\", \"environment\", \"environment\", \"environment\", \"environment\", \"epidemic\", \"error\", \"error\", \"error\", \"error\", \"error\", \"error\", \"error\", \"esperanto\", \"ether\", \"ethereum\", \"event\", \"event\", \"event\", \"event\", \"event\", \"event\", \"event\", \"event\", \"event\", \"event\", \"evernote\", \"evernote\", \"example\", \"example\", \"example\", \"example\", \"example\", \"example\", \"example\", \"example\", \"example\", \"example\", \"exhibitor\", \"experience\", \"experience\", \"experience\", \"experience\", \"experience\", \"experience\", \"experience\", \"experience\", \"experience\", \"experience\", \"facebook\", \"facebook\", \"facebook\", \"facebook\", \"facebook\", \"facebook\", \"facebook\", \"facebook\", \"facetime\", \"failover\", \"family\", \"family\", \"family\", \"family\", \"family\", \"family\", \"family\", \"family\", \"family\", \"family\", \"feature\", \"feature\", \"feature\", \"feature\", \"feature\", \"feature\", \"feature\", \"feature\", \"feature\", \"feature\", \"federighi\", \"field\", \"field\", \"field\", \"field\", \"field\", \"field\", \"field\", \"field\", \"field\", \"filter\", \"filter\", \"filter\", \"filter\", \"filter\", \"filter\", \"filter\", \"filter\", \"finance\", \"finance\", \"finance\", \"finance\", \"finance\", \"finance\", \"finance\", \"financial\", \"financial\", \"financial\", \"financial\", \"financial\", \"financial\", \"financial\", \"fintech\", \"fintech\", \"firebase\", \"firebase\", \"focus\", \"focus\", \"focus\", \"focus\", \"focus\", \"focus\", \"focus\", \"focus\", \"focus\", \"focus\", \"follow\", \"follow\", \"follow\", \"follow\", \"follow\", \"follow\", \"follow\", \"follow\", \"follow\", \"follow\", \"forwarding\", \"framework\", \"framework\", \"framework\", \"framework\", \"framework\", \"framework\", \"framework\", \"framework\", \"framework\", \"franz\", \"franz\", \"friend\", \"friend\", \"friend\", \"friend\", \"friend\", \"friend\", \"friend\", \"friend\", \"friend\", \"function\", \"function\", \"function\", \"function\", \"function\", \"function\", \"function\", \"function\", \"function\", \"gateway\", \"gateway\", \"gateway\", \"gchat\", \"gchat\", \"gcloud\", \"gcloud\", \"gender\", \"gender\", \"gender\", \"gender\", \"generate\", \"generate\", \"generate\", \"generate\", \"generate\", \"generate\", \"generate\", \"generate\", \"generate\", \"generate\", \"gitlab\", \"gitlab\", \"global\", \"global\", \"global\", \"global\", \"global\", \"global\", \"global\", \"global\", \"global\", \"globant\", \"goldin\", \"goodson\", \"goofs\", \"google\", \"google\", \"google\", \"google\", \"google\", \"google\", \"google\", \"google\", \"google\", \"gosnaps\", \"governance\", \"governance\", \"governance\", \"governance\", \"governance\", \"government\", \"government\", \"government\", \"government\", \"government\", \"government\", \"government\", \"government\", \"government\", \"graph\", \"graph\", \"graph\", \"graph\", \"graph\", \"graph\", \"graph\", \"greene\", \"greene\", \"greta\", \"growth\", \"growth\", \"growth\", \"growth\", \"growth\", \"growth\", \"growth\", \"guava\", \"halal\", \"harald\", \"hashmap\", \"heading\", \"heading\", \"helix\", \"hendrix\", \"heroku\", \"heron\", \"heroservice\", \"hinton\", \"hiragana\", \"holdings\", \"hollar\", \"https\", \"https\", \"https\", \"hubble\", \"human\", \"human\", \"human\", \"human\", \"human\", \"human\", \"human\", \"human\", \"human\", \"hyperledger\", \"ibook\", \"icaza\", \"icloud\", \"icloud\", \"image\", \"image\", \"image\", \"image\", \"image\", \"image\", \"image\", \"image\", \"image\", \"image\", \"imagenet\", \"imessage\", \"impersonation\", \"implement\", \"implement\", \"implement\", \"implement\", \"implement\", \"implement\", \"implement\", \"implement\", \"implement\", \"implementation\", \"implementation\", \"implementation\", \"implementation\", \"implementation\", \"implementation\", \"implementation\", \"implementation\", \"implementation\", \"include\", \"include\", \"include\", \"include\", \"include\", \"include\", \"include\", \"include\", \"include\", \"include\", \"income\", \"income\", \"income\", \"incumbent\", \"incumbent\", \"index\", \"index\", \"index\", \"index\", \"index\", \"index\", \"index\", \"industry\", \"industry\", \"industry\", \"industry\", \"industry\", \"industry\", \"industry\", \"industry\", \"industry\", \"inflation\", \"injection\", \"injection\", \"injection\", \"injection\", \"injection\", \"injection\", \"innovation\", \"innovation\", \"innovation\", \"innovation\", \"innovation\", \"innovation\", \"innovation\", \"install\", \"install\", \"install\", \"install\", \"install\", \"install\", \"install\", \"install\", \"install\", \"install\", \"instance\", \"instance\", \"instance\", \"instance\", \"instance\", \"instance\", \"instance\", \"instance\", \"instance\", \"instance\", \"institution\", \"institution\", \"institution\", \"institution\", \"insurance\", \"insurance\", \"insurance\", \"insurer\", \"insurtech\", \"integer\", \"intelligence\", \"intelligence\", \"intelligence\", \"intelligence\", \"intelligence\", \"intelligence\", \"intelligence\", \"intelligent\", \"intelligent\", \"intelligent\", \"intelligent\", \"intelligent\", \"intelligent\", \"intentservice\", \"interviewer\", \"intranet\", \"intranet\", \"intranet\", \"intranet\", \"investment\", \"investment\", \"investment\", \"investment\", \"investment\", \"investment\", \"iphone\", \"iphone\", \"iphone\", \"iphone\", \"iphone\", \"issue\", \"issue\", \"issue\", \"issue\", \"issue\", \"issue\", \"issue\", \"issue\", \"issue\", \"issue\", \"jasonette\", \"javascript\", \"javascript\", \"javascript\", \"javascript\", \"javetski\", \"jenkin\", \"jenkins\", \"jenkins\", \"jpmorgan\", \"jshell\", \"kanban\", \"kelley\", \"keras\", \"keystoneml\", \"keyword\", \"keyword\", \"keyword\", \"keyword\", \"kinesis\", \"kinvey\", \"knapp\", \"kopin\", \"korneyev\", \"kosher\", \"kosher\", \"kotlin\", \"kotlin\", \"krita\", \"kubectl\", \"kubernete\", \"kubernetes\", \"kubernetes\", \"kubernetes\", \"kurzweil\", \"label\", \"label\", \"label\", \"label\", \"label\", \"label\", \"label\", \"label\", \"label\", \"lambda\", \"lambda\", \"lambda\", \"language\", \"language\", \"language\", \"language\", \"language\", \"language\", \"language\", \"language\", \"language\", \"language\", \"laravel\", \"laravel\", \"latin\", \"latin\", \"latin\", \"latin\", \"launch\", \"launch\", \"launch\", \"launch\", \"launch\", \"launch\", \"launch\", \"launch\", \"launch\", \"launch\", \"leader\", \"leader\", \"leader\", \"leader\", \"leader\", \"leader\", \"leader\", \"leadfeeder\", \"learn\", \"learn\", \"learn\", \"learn\", \"learn\", \"learn\", \"learn\", \"learn\", \"learn\", \"learn\", \"learning\", \"learning\", \"learning\", \"learning\", \"learning\", \"learning\", \"learning\", \"learning\", \"leave\", \"leave\", \"leave\", \"leave\", \"leave\", \"leave\", \"leave\", \"leave\", \"leave\", \"leave\", \"ledger\", \"lenovo\", \"level\", \"level\", \"level\", \"level\", \"level\", \"level\", \"level\", \"level\", \"level\", \"level\", \"library\", \"library\", \"library\", \"library\", \"library\", \"library\", \"library\", \"library\", \"light\", \"light\", \"light\", \"light\", \"light\", \"light\", \"light\", \"light\", \"light\", \"light\", \"lightning\", \"lightning\", \"lightning\", \"lightning\", \"lightning\", \"lingq\", \"linux\", \"linux\", \"linux\", \"linux\", \"linux\", \"linux\", \"linux\", \"little\", \"little\", \"little\", \"little\", \"little\", \"little\", \"little\", \"little\", \"little\", \"little\", \"lizardcoin\", \"locator\", \"logout\", \"lynch\", \"macbook\", \"macbook\", \"machine\", \"machine\", \"machine\", \"machine\", \"machine\", \"machine\", \"machine\", \"machine\", \"machine\", \"machine\", \"magento\", \"magento\", \"management\", \"management\", \"management\", \"management\", \"management\", \"management\", \"management\", \"management\", \"management\", \"manager\", \"manager\", \"manager\", \"manager\", \"manager\", \"manager\", \"manager\", \"manager\", \"manager\", \"manager\", \"mandeleil\", \"marcus\", \"market\", \"market\", \"market\", \"market\", \"market\", \"market\", \"market\", \"market\", \"market\", \"marketer\", \"marketer\", \"marketer\", \"marketer\", \"marketer\", \"marketing\", \"marketing\", \"marketing\", \"marketing\", \"marketing\", \"marketing\", \"marketing\", \"marketplace\", \"marketplace\", \"marketplace\", \"marketplace\", \"marketplace\", \"marketplace\", \"marketplace\", \"marketscape\", \"maven\", \"mckinsey\", \"mckinsey\", \"meditation\", \"meditation\", \"meditation\", \"meerkat\", \"meetup\", \"meetup\", \"meetup\", \"meetup\", \"meetup\", \"message\", \"message\", \"message\", \"message\", \"message\", \"message\", \"message\", \"message\", \"message\", \"message\", \"messaging\", \"messaging\", \"messaging\", \"messaging\", \"messaging\", \"messaging\", \"messaging\", \"messaging\", \"messenger\", \"messenger\", \"messenger\", \"messenger\", \"method\", \"method\", \"method\", \"method\", \"method\", \"method\", \"method\", \"method\", \"microservice\", \"microservice\", \"microservice\", \"microservice\", \"microservices\", \"microservices\", \"microsoft\", \"microsoft\", \"microsoft\", \"microsoft\", \"microsoft\", \"microsoft\", \"microsoft\", \"microsoft\", \"million\", \"million\", \"million\", \"million\", \"million\", \"million\", \"million\", \"million\", \"million\", \"million\", \"minhash\", \"mobile\", \"mobile\", \"mobile\", \"mobile\", \"mobile\", \"mobile\", \"mobile\", \"mobile\", \"mobile\", \"mobile\", \"model\", \"model\", \"model\", \"model\", \"model\", \"model\", \"model\", \"model\", \"module\", \"module\", \"module\", \"module\", \"module\", \"module\", \"module\", \"mondo\", \"monolith\", \"montgomery\", \"mortality\", \"mortality\", \"mother\", \"mother\", \"mother\", \"mother\", \"multipurpose\", \"multipurpose\", \"murder\", \"music\", \"music\", \"music\", \"music\", \"music\", \"music\", \"mycroft\", \"natural\", \"natural\", \"natural\", \"natural\", \"natural\", \"natural\", \"natural\", \"natural\", \"nearline\", \"negro\", \"network\", \"network\", \"network\", \"network\", \"network\", \"network\", \"network\", \"network\", \"network\", \"network\", \"neural\", \"neurala\", \"neuron\", \"neuron\", \"nicolas\", \"nicolas\", \"nomination\", \"norway\", \"nosql\", \"nosql\", \"notification\", \"notification\", \"notification\", \"notification\", \"notification\", \"nuclear\", \"nuclear\", \"number\", \"number\", \"number\", \"number\", \"number\", \"number\", \"number\", \"number\", \"number\", \"number\", \"object\", \"object\", \"object\", \"object\", \"object\", \"object\", \"object\", \"object\", \"object\", \"object\", \"observable\", \"octet\", \"offer\", \"offer\", \"offer\", \"offer\", \"offer\", \"offer\", \"offer\", \"offer\", \"offer\", \"offer\", \"omnichannel\", \"onhub\", \"oninit\", \"onintercepttouchevent\", \"online\", \"online\", \"online\", \"online\", \"online\", \"online\", \"online\", \"online\", \"online\", \"online\", \"ontouchevent\", \"openai\", \"opensuse\", \"opportunity\", \"opportunity\", \"opportunity\", \"opportunity\", \"opportunity\", \"opportunity\", \"opportunity\", \"opportunity\", \"opportunity\", \"opportunity\", \"optimization\", \"optimization\", \"optimization\", \"optimization\", \"optimization\", \"organization\", \"organization\", \"organization\", \"organization\", \"organization\", \"organization\", \"organization\", \"organization\", \"organization\", \"outbreak\", \"overlay\", \"overlay\", \"overlay\", \"overlay\", \"overridden\", \"override\", \"override\", \"override\", \"override\", \"override\", \"override\", \"override\", \"package\", \"package\", \"package\", \"package\", \"package\", \"package\", \"package\", \"package\", \"package\", \"package\", \"packet\", \"packet\", \"packet\", \"packet\", \"padding\", \"paintcode\", \"palantir\", \"panels\", \"panels\", \"parallelism\", \"parameter\", \"parameter\", \"parameter\", \"parameter\", \"parameter\", \"parameter\", \"parameter\", \"parsey\", \"parsey\", \"password\", \"password\", \"password\", \"password\", \"password\", \"password\", \"password\", \"payment\", \"payment\", \"payment\", \"payment\", \"payment\", \"payment\", \"pebble\", \"pebble\", \"people\", \"people\", \"people\", \"people\", \"people\", \"people\", \"people\", \"people\", \"people\", \"people\", \"pepsi\", \"percent\", \"percent\", \"percent\", \"percent\", \"percent\", \"percent\", \"percent\", \"percent\", \"percent\", \"percent\", \"performance\", \"performance\", \"performance\", \"performance\", \"performance\", \"performance\", \"performance\", \"performance\", \"performance\", \"performed\", \"performer\", \"performer\", \"performer\", \"pfizer\", \"pfizer\", \"phippy\", \"phone\", \"phone\", \"phone\", \"phone\", \"phone\", \"phone\", \"phone\", \"phone\", \"phone\", \"phone\", \"phpcs\", \"phpstorm\", \"pinnery\", \"pinterest\", \"pinterest\", \"pinterest\", \"pinterest\", \"plague\", \"plague\", \"plague\", \"plague\", \"platform\", \"platform\", \"platform\", \"platform\", \"platform\", \"platform\", \"platform\", \"platform\", \"platform\", \"plugin\", \"plugin\", \"plugin\", \"plugin\", \"plugin\", \"plugin\", \"plugin\", \"pokemon\", \"pokemon\", \"pokemon\", \"polymer\", \"polymer\", \"polymer\", \"popslate\", \"population\", \"population\", \"population\", \"population\", \"population\", \"population\", \"population\", \"posey\", \"postgres\", \"powershell\", \"powershell\", \"practice\", \"practice\", \"practice\", \"practice\", \"practice\", \"practice\", \"practice\", \"practice\", \"practice\", \"practice\", \"predict\", \"predict\", \"predict\", \"predict\", \"predict\", \"predict\", \"preemptible\", \"principle\", \"principle\", \"principle\", \"principle\", \"principle\", \"principle\", \"principle\", \"principle\", \"principle\", \"printer\", \"printer\", \"printer\", \"printing\", \"printing\", \"problem\", \"problem\", \"problem\", \"problem\", \"problem\", \"problem\", \"problem\", \"problem\", \"problem\", \"problem\", \"process\", \"process\", \"process\", \"process\", \"process\", \"process\", \"process\", \"process\", \"process\", \"process\", \"procfile\", \"product\", \"product\", \"product\", \"product\", \"product\", \"product\", \"product\", \"product\", \"product\", \"product\", \"progressive\", \"progressive\", \"progressive\", \"progressive\", \"progressive\", \"progressive\", \"project\", \"project\", \"project\", \"project\", \"project\", \"project\", \"project\", \"project\", \"project\", \"pronunciation\", \"property\", \"property\", \"property\", \"property\", \"property\", \"property\", \"property\", \"property\", \"property\", \"protractor\", \"provide\", \"provide\", \"provide\", \"provide\", \"provide\", \"provide\", \"provide\", \"provide\", \"provide\", \"provide\", \"proxy\", \"proxy\", \"proxy\", \"proxy\", \"quantum\", \"quantum\", \"quartile\", \"query\", \"query\", \"query\", \"query\", \"query\", \"query\", \"quizlet\", \"qunit\", \"quotes\", \"react\", \"react\", \"react\", \"react\", \"react\", \"react\", \"react\", \"react\", \"really\", \"really\", \"really\", \"really\", \"really\", \"really\", \"really\", \"really\", \"really\", \"really\", \"rebase\", \"recent\", \"recent\", \"recent\", \"recent\", \"recent\", \"recent\", \"recent\", \"recent\", \"recent\", \"recent\", \"recognition\", \"recognition\", \"recognition\", \"recognition\", \"recognition\", \"recommendation\", \"recommendation\", \"recommendation\", \"recommendation\", \"recommendation\", \"recommendation\", \"recommendation\", \"recommendation\", \"recommendation\", \"recyclerview\", \"redwood\", \"region\", \"region\", \"region\", \"region\", \"region\", \"region\", \"region\", \"release\", \"release\", \"release\", \"release\", \"release\", \"release\", \"release\", \"release\", \"release\", \"release\", \"request\", \"request\", \"request\", \"request\", \"request\", \"request\", \"request\", \"request\", \"request\", \"request\", \"require\", \"require\", \"require\", \"require\", \"require\", \"require\", \"require\", \"require\", \"require\", \"require\", \"requirement\", \"requirement\", \"requirement\", \"requirement\", \"requirement\", \"requirement\", \"requirement\", \"requirement\", \"requirement\", \"research\", \"research\", \"research\", \"research\", \"research\", \"research\", \"research\", \"research\", \"research\", \"researcher\", \"researcher\", \"researcher\", \"researcher\", \"researcher\", \"reservoir\", \"resource\", \"resource\", \"resource\", \"resource\", \"resource\", \"resource\", \"resource\", \"resource\", \"resource\", \"resource\", \"result\", \"result\", \"result\", \"result\", \"result\", \"result\", \"result\", \"result\", \"result\", \"result\", \"return\", \"return\", \"return\", \"return\", \"return\", \"return\", \"return\", \"return\", \"return\", \"return\", \"reuse\", \"reuse\", \"reuse\", \"reuse\", \"reuse\", \"reuse\", \"review\", \"review\", \"review\", \"review\", \"review\", \"review\", \"review\", \"review\", \"review\", \"review\", \"reviews\", \"reviews\", \"reviews\", \"reviews\", \"robot\", \"robot\", \"robot\", \"robot\", \"robotic\", \"robotic\", \"robotium\", \"route\", \"route\", \"route\", \"route\", \"route\", \"route\", \"route\", \"route\", \"route\", \"route\", \"rumor\", \"rumor\", \"rumor\", \"rumor\", \"rxjava\", \"samsung\", \"samsung\", \"samsung\", \"samsung\", \"satellite\", \"satellite\", \"saxena\", \"scala\", \"scala\", \"schema\", \"schema\", \"schema\", \"schiaparelli\", \"schiller\", \"schiller\", \"science\", \"science\", \"science\", \"science\", \"science\", \"science\", \"science\", \"science\", \"science\", \"scientist\", \"scientist\", \"scientist\", \"scientist\", \"scikit\", \"scout\", \"scout\", \"script\", \"script\", \"script\", \"script\", \"script\", \"script\", \"script\", \"script\", \"scrum\", \"scrum\", \"search\", \"search\", \"search\", \"search\", \"search\", \"search\", \"search\", \"search\", \"search\", \"sector\", \"sector\", \"sector\", \"sector\", \"sector\", \"security\", \"security\", \"security\", \"security\", \"security\", \"security\", \"security\", \"security\", \"security\", \"security\", \"selenium\", \"server\", \"server\", \"server\", \"server\", \"server\", \"server\", \"server\", \"server\", \"server\", \"service\", \"service\", \"service\", \"service\", \"service\", \"service\", \"service\", \"service\", \"service\", \"service\", \"settings\", \"settings\", \"settlement\", \"settlement\", \"sexuality\", \"share\", \"share\", \"share\", \"share\", \"share\", \"share\", \"share\", \"share\", \"share\", \"share\", \"shopify\", \"shopper\", \"shopper\", \"shopper\", \"shuddle\", \"siemens\", \"siemens\", \"siemens\", \"sierra\", \"sierra\", \"silbermann\", \"silbermann\", \"simple\", \"simple\", \"simple\", \"simple\", \"simple\", \"simple\", \"simple\", \"simple\", \"simple\", \"simple\", \"sirosh\", \"sitecore\", \"sites\", \"slack\", \"slack\", \"slack\", \"slack\", \"slack\", \"slack\", \"smartphone\", \"smartphone\", \"smartphone\", \"smartphone\", \"smartphone\", \"smartphone\", \"smartphone\", \"smartphone\", \"smartphone\", \"snapchat\", \"snapchat\", \"sniffer\", \"software\", \"software\", \"software\", \"software\", \"software\", \"software\", \"software\", \"software\", \"software\", \"software\", \"solution\", \"solution\", \"solution\", \"solution\", \"solution\", \"solution\", \"solution\", \"solution\", \"solution\", \"solution\", \"sound\", \"sound\", \"sound\", \"sound\", \"sound\", \"sound\", \"sound\", \"sound\", \"sound\", \"soundtracks\", \"source\", \"source\", \"source\", \"source\", \"source\", \"source\", \"source\", \"source\", \"source\", \"source\", \"southampton\", \"space\", \"space\", \"space\", \"space\", \"space\", \"space\", \"space\", \"space\", \"space\", \"space\", \"spanner\", \"spark\", \"spark\", \"spark\", \"specs\", \"specs\", \"specs\", \"speech\", \"speech\", \"speech\", \"speech\", \"speech\", \"speech\", \"speech\", \"spence\", \"spring\", \"spring\", \"spring\", \"spring\", \"spring\", \"spring\", \"spring\", \"spring\", \"sprint\", \"sprint\", \"sprint\", \"sprite\", \"squads\", \"start\", \"start\", \"start\", \"start\", \"start\", \"start\", \"start\", \"start\", \"start\", \"start\", \"startup\", \"startup\", \"startup\", \"startup\", \"startup\", \"startup\", \"startup\", \"startup\", \"statcounter\", \"state\", \"state\", \"state\", \"state\", \"state\", \"state\", \"state\", \"state\", \"state\", \"state\", \"steal\", \"steal\", \"steal\", \"steal\", \"steal\", \"steve\", \"steve\", \"steve\", \"steve\", \"steve\", \"steve\", \"stewart\", \"storage\", \"storage\", \"storage\", \"storage\", \"storage\", \"storage\", \"storage\", \"storage\", \"store\", \"store\", \"store\", \"store\", \"store\", \"store\", \"store\", \"store\", \"store\", \"store\", \"storyline\", \"stream\", \"stream\", \"stream\", \"stream\", \"stream\", \"stream\", \"stream\", \"stream\", \"strictmode\", \"string\", \"string\", \"string\", \"string\", \"string\", \"string\", \"string\", \"string\", \"struct\", \"student\", \"student\", \"student\", \"student\", \"student\", \"studio\", \"studio\", \"studio\", \"studio\", \"studio\", \"studio\", \"studio\", \"studio\", \"studio\", \"stunnel\", \"style\", \"style\", \"style\", \"style\", \"style\", \"style\", \"style\", \"style\", \"style\", \"style\", \"subnet\", \"suite\", \"suite\", \"suite\", \"suite\", \"suite\", \"suite\", \"suite\", \"suite\", \"supervised\", \"support\", \"support\", \"support\", \"support\", \"support\", \"support\", \"support\", \"support\", \"support\", \"support\", \"swagbot\", \"swanest\", \"swarm\", \"swarm\", \"swift\", \"swift\", \"swift\", \"swift\", \"swift\", \"swift\", \"symmetry\", \"syntax\", \"syntax\", \"syntax\", \"syntax\", \"syntax\", \"syntaxnet\", \"taglines\", \"takipi\", \"teach\", \"teach\", \"teach\", \"teach\", \"teach\", \"teach\", \"teach\", \"teach\", \"teach\", \"technical\", \"technical\", \"technical\", \"technical\", \"technical\", \"technical\", \"technical\", \"technical\", \"technical\", \"technical\", \"technology\", \"technology\", \"technology\", \"technology\", \"technology\", \"technology\", \"technology\", \"technology\", \"technology\", \"technology\", \"telecom\", \"tennis\", \"tennis\", \"tensorflow\", \"tensorflow\", \"tettra\", \"textview\", \"theano\", \"thief\", \"thief\", \"thing\", \"thing\", \"thing\", \"thing\", \"thing\", \"thing\", \"thing\", \"thing\", \"thing\", \"thing\", \"think\", \"think\", \"think\", \"think\", \"think\", \"think\", \"think\", \"think\", \"think\", \"think\", \"thorium\", \"thread\", \"thread\", \"thread\", \"thread\", \"thread\", \"thread\", \"thread\", \"tijms\", \"today\", \"today\", \"today\", \"today\", \"today\", \"today\", \"today\", \"today\", \"today\", \"today\", \"token\", \"token\", \"token\", \"token\", \"token\", \"token\", \"torus\", \"touchpoint\", \"touchpoint\", \"traceability\", \"tracking\", \"tracking\", \"tracking\", \"tracking\", \"tracking\", \"tracking\", \"tracking\", \"traffic\", \"traffic\", \"traffic\", \"traffic\", \"traffic\", \"traffic\", \"traffic\", \"traffic\", \"traffic\", \"traffic\", \"train\", \"train\", \"train\", \"train\", \"train\", \"train\", \"train\", \"training\", \"training\", \"training\", \"training\", \"training\", \"training\", \"training\", \"transaction\", \"transaction\", \"transaction\", \"transaction\", \"transaction\", \"transaction\", \"transaction\", \"transition\", \"transition\", \"transition\", \"transition\", \"transition\", \"transition\", \"transition\", \"transition\", \"transition\", \"trendwatching\", \"trivia\", \"trivia\", \"trooly\", \"trump\", \"trump\", \"trump\", \"trump\", \"trump\", \"trump\", \"turing\", \"typescript\", \"typescript\", \"ubuntu\", \"ubuntu\", \"ubuntu\", \"ubuntu\", \"ubuntu\", \"uidata\", \"uirepeat\", \"university\", \"university\", \"university\", \"university\", \"university\", \"university\", \"university\", \"university\", \"university\", \"unsupervised\", \"update\", \"update\", \"update\", \"update\", \"update\", \"update\", \"update\", \"update\", \"update\", \"validator\", \"validator\", \"value\", \"value\", \"value\", \"value\", \"value\", \"value\", \"value\", \"value\", \"value\", \"value\", \"valve\", \"valve\", \"variable\", \"variable\", \"variable\", \"variable\", \"variable\", \"variable\", \"variable\", \"variable\", \"vehicle\", \"vehicle\", \"vehicle\", \"vehicle\", \"version\", \"version\", \"version\", \"version\", \"version\", \"version\", \"version\", \"version\", \"version\", \"version\", \"vessi\", \"visual\", \"visual\", \"visual\", \"visual\", \"visual\", \"visual\", \"visual\", \"visual\", \"vmware\", \"vmware\", \"voltron\", \"vxlan\", \"walkthrough\", \"walkthrough\", \"water\", \"water\", \"water\", \"water\", \"water\", \"water\", \"waterwheel\", \"watson\", \"watson\", \"webassembly\", \"webassembly\", \"webhook\", \"webpack\", \"webpack\", \"wechat\", \"wechat\", \"wechat\", \"wechat\", \"weekend\", \"weekend\", \"weekend\", \"weekend\", \"weekend\", \"weekend\", \"weekend\", \"whatsapp\", \"whatsapp\", \"whatsapp\", \"white\", \"white\", \"white\", \"white\", \"white\", \"white\", \"white\", \"white\", \"white\", \"white\", \"windows\", \"windows\", \"windows\", \"windows\", \"windows\", \"winfield\", \"wolpert\", \"woman\", \"woman\", \"woman\", \"women\", \"workflow\", \"workflow\", \"workflow\", \"workflow\", \"workflow\", \"workflow\", \"workflow\", \"workflow\", \"workflow\", \"world\", \"world\", \"world\", \"world\", \"world\", \"world\", \"world\", \"world\", \"world\", \"world\", \"write\", \"write\", \"write\", \"write\", \"write\", \"write\", \"write\", \"write\", \"write\", \"write\", \"xamarin\", \"xamarin\", \"young\", \"young\", \"young\", \"young\", \"young\", \"young\", \"young\", \"young\", \"zendesk\", \"zookeeper\"]}, \"R\": 30, \"lambda.step\": 0.01, \"plot.opts\": {\"xlab\": \"PC1\", \"ylab\": \"PC2\"}, \"topic.order\": [5, 6, 7, 3, 2, 9, 10, 1, 8, 4]};\n",
       "\n",
       "function LDAvis_load_lib(url, callback){\n",
       "  var s = document.createElement('script');\n",
       "  s.src = url;\n",
       "  s.async = true;\n",
       "  s.onreadystatechange = s.onload = callback;\n",
       "  s.onerror = function(){console.warn(\"failed to load library \" + url);};\n",
       "  document.getElementsByTagName(\"head\")[0].appendChild(s);\n",
       "}\n",
       "\n",
       "if(typeof(LDAvis) !== \"undefined\"){\n",
       "   // already loaded: just create the visualization\n",
       "   !function(LDAvis){\n",
       "       new LDAvis(\"#\" + \"ldavis_el53521406536497583922150038665\", ldavis_el53521406536497583922150038665_data);\n",
       "   }(LDAvis);\n",
       "}else if(typeof define === \"function\" && define.amd){\n",
       "   // require.js is available: use it to load d3/LDAvis\n",
       "   require.config({paths: {d3: \"https://cdnjs.cloudflare.com/ajax/libs/d3/3.5.5/d3.min\"}});\n",
       "   require([\"d3\"], function(d3){\n",
       "      window.d3 = d3;\n",
       "      LDAvis_load_lib(\"https://cdn.rawgit.com/bmabey/pyLDAvis/files/ldavis.v1.0.0.js\", function(){\n",
       "        new LDAvis(\"#\" + \"ldavis_el53521406536497583922150038665\", ldavis_el53521406536497583922150038665_data);\n",
       "      });\n",
       "    });\n",
       "}else{\n",
       "    // require.js not available: dynamically load d3 & LDAvis\n",
       "    LDAvis_load_lib(\"https://cdnjs.cloudflare.com/ajax/libs/d3/3.5.5/d3.min.js\", function(){\n",
       "         LDAvis_load_lib(\"https://cdn.rawgit.com/bmabey/pyLDAvis/files/ldavis.v1.0.0.js\", function(){\n",
       "                 new LDAvis(\"#\" + \"ldavis_el53521406536497583922150038665\", ldavis_el53521406536497583922150038665_data);\n",
       "            })\n",
       "         });\n",
       "}\n",
       "</script>"
      ],
      "text/plain": [
       "PreparedData(topic_coordinates=              x         y  topics  cluster       Freq\n",
       "topic                                                \n",
       "4     -0.057868 -0.000093       1        1  19.023987\n",
       "5     -0.104883  0.144540       2        1  16.755506\n",
       "6      0.121706 -0.052626       3        1  15.372754\n",
       "2     -0.050216  0.077203       4        1  12.601052\n",
       "1      0.009972  0.067123       5        1  10.408727\n",
       "8      0.129211 -0.012578       6        1   8.247336\n",
       "9      0.107125 -0.070542       7        1   6.639998\n",
       "0     -0.233301 -0.172580       8        1   4.209066\n",
       "7      0.097563 -0.050797       9        1   3.869144\n",
       "3     -0.019309  0.070349      10        1   2.872431, topic_info=      Category         Freq         Term        Total  loglift  logprob\n",
       "10871  Default  5090.000000       google  5090.000000  30.0000  30.0000\n",
       "7841   Default   991.000000       drupal   991.000000  29.0000  29.0000\n",
       "4677   Default  2319.000000        cloud  2319.000000  28.0000  28.0000\n",
       "1201   Default  1666.000000        apple  1666.000000  27.0000  27.0000\n",
       "14785  Default  1950.000000     learning  1950.000000  26.0000  26.0000\n",
       "...        ...          ...          ...          ...      ...      ...\n",
       "9010   Topic10    76.016094   experience  2112.804849   0.2252  -5.6840\n",
       "7026   Topic10    71.014664  development  1436.144616   0.5432  -5.7521\n",
       "15657  Topic10    66.760274   management   924.604669   0.9218  -5.8138\n",
       "20614  Topic10    64.889346      project  2086.054375   0.0797  -5.8423\n",
       "5941   Topic10    63.622956       create  3243.045718  -0.3813  -5.8620\n",
       "\n",
       "[822 rows x 6 columns], token_table=       Topic      Freq       Term\n",
       "term                             \n",
       "122        1  0.069411     access\n",
       "122        2  0.166023     access\n",
       "122        3  0.126628     access\n",
       "122        4  0.143511     access\n",
       "122        5  0.050651     access\n",
       "...      ...       ...        ...\n",
       "29610      8  0.419132      young\n",
       "29610      9  0.012327      young\n",
       "29610     10  0.006164      young\n",
       "29678      4  0.934758    zendesk\n",
       "29733      6  0.972432  zookeeper\n",
       "\n",
       "[2944 rows x 3 columns], R=30, lambda_step=0.01, plot_opts={'xlab': 'PC1', 'ylab': 'PC2'}, topic_order=[5, 6, 7, 3, 2, 9, 10, 1, 8, 4])"
      ]
     },
     "execution_count": 50,
     "metadata": {},
     "output_type": "execute_result"
    }
   ],
   "source": [
    "pyLDAvis.sklearn.prepare(lda_tf, dtm_tf, tf_vectorizer)"
   ]
  },
  {
   "cell_type": "code",
   "execution_count": 48,
   "metadata": {},
   "outputs": [
    {
     "name": "stderr",
     "output_type": "stream",
     "text": [
      "/home/ravi/recommendation_system/recommender_system/rec_sys_env/lib/python3.7/site-packages/pyLDAvis/_prepare.py:257: FutureWarning: Sorting because non-concatenation axis is not aligned. A future version\n",
      "of pandas will change to not sort by default.\n",
      "\n",
      "To accept the future behavior, pass 'sort=False'.\n",
      "\n",
      "To retain the current behavior and silence the warning, pass 'sort=True'.\n",
      "\n",
      "  return pd.concat([default_term_info] + list(topic_dfs))\n"
     ]
    },
    {
     "data": {
      "text/html": [
       "\n",
       "<link rel=\"stylesheet\" type=\"text/css\" href=\"https://cdn.rawgit.com/bmabey/pyLDAvis/files/ldavis.v1.0.0.css\">\n",
       "\n",
       "\n",
       "<div id=\"ldavis_el53521406536504619448213691644\"></div>\n",
       "<script type=\"text/javascript\">\n",
       "\n",
       "var ldavis_el53521406536504619448213691644_data = {\"mdsDat\": {\"x\": [-0.14477448843916593, -0.0046569847530273135, 0.06606410241538964, 0.04241318812081234, -0.17397124219039775, 0.0500785727065334, -0.07392885106459454, -0.07395591177169739, 0.04399898398195877, 0.08306983361716477, -0.09740540575433224, -0.046986661846269165, 0.1416879037355392, -0.05117189990367862, 0.2395388611457648], \"y\": [-0.05003544870946589, 0.014985889146775715, 0.1837121228028516, 0.14449639517377658, 0.06241268287582938, 0.00016506689768514522, 0.066920102241118, -0.03523200788916008, -0.035346240696909184, -0.07839058799709278, -0.11646192753251569, 0.03649490699647148, 0.06089518464093519, -0.1326137800390469, -0.12200235791125257], \"topics\": [1, 2, 3, 4, 5, 6, 7, 8, 9, 10, 11, 12, 13, 14, 15], \"cluster\": [1, 1, 1, 1, 1, 1, 1, 1, 1, 1, 1, 1, 1, 1, 1], \"Freq\": [13.525094235779989, 12.828753852108388, 11.886457190133273, 10.83002945694966, 9.398981037409031, 8.097757498943881, 6.97185172189299, 5.915535410472629, 5.122229032228288, 3.8757198097137944, 3.233101544392459, 2.5667666548195553, 1.9936145382759247, 1.9461240660061843, 1.807983950873937]}, \"tinfo\": {\"Category\": [\"Default\", \"Default\", \"Default\", \"Default\", \"Default\", \"Default\", \"Default\", \"Default\", \"Default\", \"Default\", \"Default\", \"Default\", \"Default\", \"Default\", \"Default\", \"Default\", \"Default\", \"Default\", \"Default\", \"Default\", \"Default\", \"Default\", \"Default\", \"Default\", \"Default\", \"Default\", \"Default\", \"Default\", \"Default\", \"Default\", \"Topic1\", \"Topic1\", \"Topic1\", \"Topic1\", \"Topic1\", \"Topic1\", \"Topic1\", \"Topic1\", \"Topic1\", \"Topic1\", \"Topic1\", \"Topic1\", \"Topic1\", \"Topic1\", \"Topic1\", \"Topic1\", \"Topic1\", \"Topic1\", \"Topic1\", \"Topic1\", \"Topic1\", \"Topic1\", \"Topic1\", \"Topic1\", \"Topic1\", \"Topic1\", \"Topic1\", \"Topic1\", \"Topic1\", \"Topic1\", \"Topic1\", \"Topic1\", \"Topic1\", \"Topic1\", \"Topic1\", \"Topic1\", \"Topic1\", \"Topic1\", \"Topic1\", \"Topic1\", \"Topic1\", \"Topic1\", \"Topic1\", \"Topic1\", \"Topic1\", \"Topic1\", \"Topic1\", \"Topic1\", \"Topic1\", \"Topic1\", \"Topic1\", \"Topic1\", \"Topic1\", \"Topic1\", \"Topic1\", \"Topic1\", \"Topic1\", \"Topic1\", \"Topic1\", \"Topic1\", \"Topic1\", \"Topic1\", \"Topic1\", \"Topic1\", \"Topic1\", \"Topic1\", \"Topic1\", \"Topic1\", \"Topic1\", \"Topic1\", \"Topic1\", \"Topic1\", \"Topic1\", \"Topic1\", \"Topic1\", \"Topic1\", \"Topic1\", \"Topic1\", \"Topic1\", \"Topic1\", \"Topic1\", \"Topic1\", \"Topic1\", \"Topic1\", \"Topic1\", \"Topic1\", \"Topic1\", \"Topic1\", \"Topic1\", \"Topic2\", \"Topic2\", \"Topic2\", \"Topic2\", \"Topic2\", \"Topic2\", \"Topic2\", \"Topic2\", \"Topic2\", \"Topic2\", \"Topic2\", \"Topic2\", \"Topic2\", \"Topic2\", \"Topic2\", \"Topic2\", \"Topic2\", \"Topic2\", \"Topic2\", \"Topic2\", \"Topic2\", \"Topic2\", \"Topic2\", \"Topic2\", \"Topic2\", \"Topic2\", \"Topic2\", \"Topic2\", \"Topic2\", \"Topic2\", \"Topic2\", \"Topic2\", \"Topic2\", \"Topic2\", \"Topic2\", \"Topic2\", \"Topic2\", \"Topic2\", \"Topic2\", \"Topic2\", \"Topic2\", \"Topic2\", \"Topic2\", \"Topic2\", \"Topic2\", \"Topic2\", \"Topic2\", \"Topic2\", \"Topic2\", \"Topic2\", \"Topic2\", \"Topic2\", \"Topic2\", \"Topic2\", \"Topic2\", \"Topic2\", \"Topic2\", \"Topic2\", \"Topic2\", \"Topic2\", \"Topic2\", \"Topic2\", \"Topic2\", \"Topic2\", \"Topic2\", \"Topic2\", \"Topic2\", \"Topic2\", \"Topic2\", \"Topic2\", \"Topic2\", \"Topic2\", \"Topic2\", \"Topic2\", \"Topic2\", \"Topic3\", \"Topic3\", \"Topic3\", \"Topic3\", \"Topic3\", \"Topic3\", \"Topic3\", \"Topic3\", \"Topic3\", \"Topic3\", \"Topic3\", \"Topic3\", \"Topic3\", \"Topic3\", \"Topic3\", \"Topic3\", \"Topic3\", \"Topic3\", \"Topic3\", \"Topic3\", \"Topic3\", \"Topic3\", \"Topic3\", \"Topic3\", \"Topic3\", \"Topic3\", \"Topic3\", \"Topic3\", \"Topic3\", \"Topic3\", \"Topic3\", \"Topic3\", \"Topic3\", \"Topic3\", \"Topic3\", \"Topic3\", \"Topic3\", \"Topic3\", \"Topic3\", \"Topic3\", \"Topic3\", \"Topic3\", \"Topic3\", \"Topic3\", \"Topic3\", \"Topic3\", \"Topic3\", \"Topic3\", \"Topic3\", \"Topic3\", \"Topic3\", \"Topic3\", \"Topic3\", \"Topic3\", \"Topic3\", \"Topic3\", \"Topic3\", \"Topic3\", \"Topic3\", \"Topic3\", \"Topic3\", \"Topic3\", \"Topic3\", \"Topic3\", \"Topic3\", \"Topic3\", \"Topic3\", \"Topic3\", \"Topic3\", \"Topic3\", \"Topic3\", \"Topic3\", \"Topic3\", \"Topic3\", \"Topic3\", \"Topic3\", \"Topic4\", \"Topic4\", \"Topic4\", \"Topic4\", \"Topic4\", \"Topic4\", \"Topic4\", \"Topic4\", \"Topic4\", \"Topic4\", \"Topic4\", \"Topic4\", \"Topic4\", \"Topic4\", \"Topic4\", \"Topic4\", \"Topic4\", \"Topic4\", \"Topic4\", \"Topic4\", \"Topic4\", \"Topic4\", \"Topic4\", \"Topic4\", \"Topic4\", \"Topic4\", \"Topic4\", \"Topic4\", \"Topic4\", \"Topic4\", \"Topic4\", \"Topic4\", \"Topic4\", \"Topic4\", \"Topic4\", \"Topic4\", \"Topic4\", \"Topic4\", \"Topic4\", \"Topic4\", \"Topic4\", \"Topic4\", \"Topic4\", \"Topic4\", \"Topic4\", \"Topic4\", \"Topic4\", \"Topic4\", \"Topic4\", \"Topic4\", \"Topic4\", \"Topic4\", \"Topic4\", \"Topic4\", \"Topic4\", \"Topic4\", \"Topic4\", \"Topic4\", \"Topic4\", \"Topic4\", \"Topic4\", \"Topic4\", \"Topic4\", \"Topic4\", \"Topic4\", \"Topic4\", \"Topic4\", \"Topic4\", \"Topic4\", \"Topic4\", \"Topic4\", \"Topic4\", \"Topic4\", \"Topic4\", \"Topic4\", \"Topic4\", \"Topic4\", \"Topic4\", \"Topic4\", \"Topic4\", \"Topic4\", \"Topic5\", \"Topic5\", \"Topic5\", \"Topic5\", \"Topic5\", \"Topic5\", \"Topic5\", \"Topic5\", \"Topic5\", \"Topic5\", \"Topic5\", \"Topic5\", \"Topic5\", \"Topic5\", \"Topic5\", \"Topic5\", \"Topic5\", \"Topic5\", \"Topic5\", \"Topic5\", \"Topic5\", \"Topic5\", \"Topic5\", \"Topic5\", \"Topic5\", \"Topic5\", \"Topic5\", \"Topic5\", \"Topic5\", \"Topic5\", \"Topic5\", \"Topic5\", \"Topic5\", \"Topic5\", \"Topic5\", \"Topic5\", \"Topic5\", \"Topic5\", \"Topic5\", \"Topic5\", \"Topic5\", \"Topic5\", \"Topic5\", \"Topic5\", \"Topic5\", \"Topic5\", \"Topic5\", \"Topic5\", \"Topic5\", \"Topic5\", \"Topic5\", \"Topic5\", \"Topic5\", \"Topic5\", \"Topic5\", \"Topic5\", \"Topic5\", \"Topic5\", \"Topic5\", \"Topic5\", \"Topic5\", \"Topic5\", \"Topic5\", \"Topic5\", \"Topic5\", \"Topic5\", \"Topic5\", \"Topic5\", \"Topic5\", \"Topic5\", \"Topic5\", \"Topic5\", \"Topic5\", \"Topic5\", \"Topic6\", \"Topic6\", \"Topic6\", \"Topic6\", \"Topic6\", \"Topic6\", \"Topic6\", \"Topic6\", \"Topic6\", \"Topic6\", \"Topic6\", \"Topic6\", \"Topic6\", \"Topic6\", \"Topic6\", \"Topic6\", \"Topic6\", \"Topic6\", \"Topic6\", \"Topic6\", \"Topic6\", \"Topic6\", \"Topic6\", \"Topic6\", \"Topic6\", \"Topic6\", \"Topic6\", \"Topic6\", \"Topic6\", \"Topic6\", \"Topic6\", \"Topic6\", \"Topic6\", \"Topic6\", \"Topic6\", \"Topic6\", \"Topic6\", \"Topic6\", \"Topic6\", \"Topic6\", \"Topic6\", \"Topic6\", \"Topic6\", \"Topic6\", \"Topic6\", \"Topic6\", \"Topic6\", \"Topic6\", \"Topic6\", \"Topic6\", \"Topic6\", \"Topic6\", \"Topic6\", \"Topic6\", \"Topic6\", \"Topic6\", \"Topic6\", \"Topic6\", \"Topic6\", \"Topic6\", \"Topic6\", \"Topic6\", \"Topic6\", \"Topic6\", \"Topic6\", \"Topic6\", \"Topic6\", \"Topic6\", \"Topic6\", \"Topic6\", \"Topic6\", \"Topic6\", \"Topic6\", \"Topic6\", \"Topic6\", \"Topic6\", \"Topic6\", \"Topic6\", \"Topic6\", \"Topic6\", \"Topic6\", \"Topic7\", \"Topic7\", \"Topic7\", \"Topic7\", \"Topic7\", \"Topic7\", \"Topic7\", \"Topic7\", \"Topic7\", \"Topic7\", \"Topic7\", \"Topic7\", \"Topic7\", \"Topic7\", \"Topic7\", \"Topic7\", \"Topic7\", \"Topic7\", \"Topic7\", \"Topic7\", \"Topic7\", \"Topic7\", \"Topic7\", \"Topic7\", \"Topic7\", \"Topic7\", \"Topic7\", \"Topic7\", \"Topic7\", \"Topic7\", \"Topic7\", \"Topic7\", \"Topic7\", \"Topic7\", \"Topic7\", \"Topic7\", \"Topic7\", \"Topic7\", \"Topic7\", \"Topic7\", \"Topic7\", \"Topic7\", \"Topic7\", \"Topic7\", \"Topic7\", \"Topic7\", \"Topic7\", \"Topic7\", \"Topic7\", \"Topic7\", \"Topic7\", \"Topic7\", \"Topic7\", \"Topic7\", \"Topic7\", \"Topic7\", \"Topic7\", \"Topic7\", \"Topic7\", \"Topic7\", \"Topic7\", \"Topic7\", \"Topic7\", \"Topic7\", \"Topic7\", \"Topic7\", \"Topic7\", \"Topic7\", \"Topic7\", \"Topic7\", \"Topic7\", \"Topic7\", \"Topic7\", \"Topic7\", \"Topic7\", \"Topic7\", \"Topic7\", \"Topic7\", \"Topic8\", \"Topic8\", \"Topic8\", \"Topic8\", \"Topic8\", \"Topic8\", \"Topic8\", \"Topic8\", \"Topic8\", \"Topic8\", \"Topic8\", \"Topic8\", \"Topic8\", \"Topic8\", \"Topic8\", \"Topic8\", \"Topic8\", \"Topic8\", \"Topic8\", \"Topic8\", \"Topic8\", \"Topic8\", \"Topic8\", \"Topic8\", \"Topic8\", \"Topic8\", \"Topic8\", \"Topic8\", \"Topic8\", \"Topic8\", \"Topic8\", \"Topic8\", \"Topic8\", \"Topic8\", \"Topic8\", \"Topic8\", \"Topic8\", \"Topic8\", \"Topic8\", \"Topic8\", \"Topic8\", \"Topic8\", \"Topic8\", \"Topic8\", \"Topic8\", \"Topic8\", \"Topic8\", \"Topic8\", \"Topic8\", \"Topic8\", \"Topic8\", \"Topic8\", \"Topic8\", \"Topic8\", \"Topic8\", \"Topic8\", \"Topic8\", \"Topic8\", \"Topic8\", \"Topic8\", \"Topic8\", \"Topic8\", \"Topic8\", \"Topic8\", \"Topic8\", \"Topic8\", \"Topic8\", \"Topic8\", \"Topic8\", \"Topic8\", \"Topic8\", \"Topic8\", \"Topic8\", \"Topic8\", \"Topic8\", \"Topic8\", \"Topic8\", \"Topic8\", \"Topic9\", \"Topic9\", \"Topic9\", \"Topic9\", \"Topic9\", \"Topic9\", \"Topic9\", \"Topic9\", \"Topic9\", \"Topic9\", \"Topic9\", \"Topic9\", \"Topic9\", \"Topic9\", \"Topic9\", \"Topic9\", \"Topic9\", \"Topic9\", \"Topic9\", \"Topic9\", \"Topic9\", \"Topic9\", \"Topic9\", \"Topic9\", \"Topic9\", \"Topic9\", \"Topic9\", \"Topic9\", \"Topic9\", \"Topic9\", \"Topic9\", \"Topic9\", \"Topic9\", \"Topic9\", \"Topic9\", \"Topic9\", \"Topic9\", \"Topic9\", \"Topic9\", \"Topic9\", \"Topic9\", \"Topic9\", \"Topic9\", \"Topic9\", \"Topic9\", \"Topic9\", \"Topic9\", \"Topic9\", \"Topic9\", \"Topic9\", \"Topic9\", \"Topic9\", \"Topic9\", \"Topic9\", \"Topic9\", \"Topic9\", \"Topic9\", \"Topic9\", \"Topic9\", \"Topic9\", \"Topic9\", \"Topic9\", \"Topic9\", \"Topic9\", \"Topic9\", \"Topic9\", \"Topic9\", \"Topic9\", \"Topic9\", \"Topic9\", \"Topic9\", \"Topic9\", \"Topic9\", \"Topic9\", \"Topic9\", \"Topic9\", \"Topic9\", \"Topic9\", \"Topic9\", \"Topic9\", \"Topic9\", \"Topic9\", \"Topic10\", \"Topic10\", \"Topic10\", \"Topic10\", \"Topic10\", \"Topic10\", \"Topic10\", \"Topic10\", \"Topic10\", \"Topic10\", \"Topic10\", \"Topic10\", \"Topic10\", \"Topic10\", \"Topic10\", \"Topic10\", \"Topic10\", \"Topic10\", \"Topic10\", \"Topic10\", \"Topic10\", \"Topic10\", \"Topic10\", \"Topic10\", \"Topic10\", \"Topic10\", \"Topic10\", \"Topic10\", \"Topic10\", \"Topic10\", \"Topic10\", \"Topic10\", \"Topic10\", \"Topic10\", \"Topic10\", \"Topic10\", \"Topic10\", \"Topic10\", \"Topic10\", \"Topic10\", \"Topic10\", \"Topic10\", \"Topic10\", \"Topic10\", \"Topic10\", \"Topic10\", \"Topic10\", \"Topic10\", \"Topic10\", \"Topic10\", \"Topic10\", \"Topic10\", \"Topic10\", \"Topic10\", \"Topic10\", \"Topic10\", \"Topic10\", \"Topic10\", \"Topic10\", \"Topic10\", \"Topic10\", \"Topic10\", \"Topic10\", \"Topic10\", \"Topic10\", \"Topic10\", \"Topic10\", \"Topic10\", \"Topic10\", \"Topic10\", \"Topic10\", \"Topic10\", \"Topic11\", \"Topic11\", \"Topic11\", \"Topic11\", \"Topic11\", \"Topic11\", \"Topic11\", \"Topic11\", \"Topic11\", \"Topic11\", \"Topic11\", \"Topic11\", \"Topic11\", \"Topic11\", \"Topic11\", \"Topic11\", \"Topic11\", \"Topic11\", \"Topic11\", \"Topic11\", \"Topic11\", \"Topic11\", \"Topic11\", \"Topic11\", \"Topic11\", \"Topic11\", \"Topic11\", \"Topic11\", \"Topic11\", \"Topic11\", \"Topic11\", \"Topic11\", \"Topic11\", \"Topic11\", \"Topic11\", \"Topic11\", \"Topic11\", \"Topic11\", \"Topic11\", \"Topic11\", \"Topic11\", \"Topic11\", \"Topic11\", \"Topic11\", \"Topic11\", \"Topic11\", \"Topic11\", \"Topic11\", \"Topic11\", \"Topic11\", \"Topic11\", \"Topic11\", \"Topic11\", \"Topic11\", \"Topic11\", \"Topic11\", \"Topic11\", \"Topic11\", \"Topic11\", \"Topic11\", \"Topic11\", \"Topic11\", \"Topic11\", \"Topic11\", \"Topic11\", \"Topic11\", \"Topic11\", \"Topic11\", \"Topic11\", \"Topic11\", \"Topic11\", \"Topic11\", \"Topic11\", \"Topic11\", \"Topic11\", \"Topic11\", \"Topic11\", \"Topic11\", \"Topic11\", \"Topic11\", \"Topic11\", \"Topic12\", \"Topic12\", \"Topic12\", \"Topic12\", \"Topic12\", \"Topic12\", \"Topic12\", \"Topic12\", \"Topic12\", \"Topic12\", \"Topic12\", \"Topic12\", \"Topic12\", \"Topic12\", \"Topic12\", \"Topic12\", \"Topic12\", \"Topic12\", \"Topic12\", \"Topic12\", \"Topic12\", \"Topic12\", \"Topic12\", \"Topic12\", \"Topic12\", \"Topic12\", \"Topic12\", \"Topic12\", \"Topic12\", \"Topic12\", \"Topic12\", \"Topic12\", \"Topic12\", \"Topic12\", \"Topic12\", \"Topic12\", \"Topic12\", \"Topic12\", \"Topic12\", \"Topic12\", \"Topic12\", \"Topic12\", \"Topic12\", \"Topic12\", \"Topic12\", \"Topic12\", \"Topic12\", \"Topic12\", \"Topic12\", \"Topic12\", \"Topic12\", \"Topic12\", \"Topic12\", \"Topic12\", \"Topic12\", \"Topic12\", \"Topic12\", \"Topic12\", \"Topic12\", \"Topic12\", \"Topic12\", \"Topic12\", \"Topic12\", \"Topic12\", \"Topic12\", \"Topic12\", \"Topic12\", \"Topic12\", \"Topic12\", \"Topic12\", \"Topic12\", \"Topic12\", \"Topic12\", \"Topic12\", \"Topic12\", \"Topic12\", \"Topic13\", \"Topic13\", \"Topic13\", \"Topic13\", \"Topic13\", \"Topic13\", \"Topic13\", \"Topic13\", \"Topic13\", \"Topic13\", \"Topic13\", \"Topic13\", \"Topic13\", \"Topic13\", \"Topic13\", \"Topic13\", \"Topic13\", \"Topic13\", \"Topic13\", \"Topic13\", \"Topic13\", \"Topic13\", \"Topic13\", \"Topic13\", \"Topic13\", \"Topic13\", \"Topic13\", \"Topic13\", \"Topic13\", \"Topic13\", \"Topic13\", \"Topic13\", \"Topic13\", \"Topic13\", \"Topic13\", \"Topic13\", \"Topic13\", \"Topic13\", \"Topic13\", \"Topic13\", \"Topic13\", \"Topic13\", \"Topic13\", \"Topic13\", \"Topic13\", \"Topic13\", \"Topic13\", \"Topic13\", \"Topic13\", \"Topic13\", \"Topic13\", \"Topic13\", \"Topic13\", \"Topic13\", \"Topic13\", \"Topic13\", \"Topic13\", \"Topic13\", \"Topic13\", \"Topic13\", \"Topic13\", \"Topic13\", \"Topic13\", \"Topic13\", \"Topic13\", \"Topic13\", \"Topic13\", \"Topic13\", \"Topic13\", \"Topic13\", \"Topic13\", \"Topic14\", \"Topic14\", \"Topic14\", \"Topic14\", \"Topic14\", \"Topic14\", \"Topic14\", \"Topic14\", \"Topic14\", \"Topic14\", \"Topic14\", \"Topic14\", \"Topic14\", \"Topic14\", \"Topic14\", \"Topic14\", \"Topic14\", \"Topic14\", \"Topic14\", \"Topic14\", \"Topic14\", \"Topic14\", \"Topic14\", \"Topic14\", \"Topic14\", \"Topic14\", \"Topic14\", \"Topic14\", \"Topic14\", \"Topic14\", \"Topic14\", \"Topic14\", \"Topic14\", \"Topic14\", \"Topic14\", \"Topic14\", \"Topic14\", \"Topic14\", \"Topic14\", \"Topic14\", \"Topic14\", \"Topic14\", \"Topic14\", \"Topic14\", \"Topic14\", \"Topic14\", \"Topic14\", \"Topic14\", \"Topic14\", \"Topic14\", \"Topic14\", \"Topic14\", \"Topic14\", \"Topic14\", \"Topic14\", \"Topic14\", \"Topic14\", \"Topic14\", \"Topic14\", \"Topic14\", \"Topic14\", \"Topic14\", \"Topic14\", \"Topic14\", \"Topic14\", \"Topic14\", \"Topic14\", \"Topic14\", \"Topic14\", \"Topic14\", \"Topic14\", \"Topic14\", \"Topic14\", \"Topic14\", \"Topic15\", \"Topic15\", \"Topic15\", \"Topic15\", \"Topic15\", \"Topic15\", \"Topic15\", \"Topic15\", \"Topic15\", \"Topic15\", \"Topic15\", \"Topic15\", \"Topic15\", \"Topic15\", \"Topic15\", \"Topic15\", \"Topic15\", \"Topic15\", \"Topic15\", \"Topic15\", \"Topic15\", \"Topic15\", \"Topic15\", \"Topic15\", \"Topic15\", \"Topic15\", \"Topic15\", \"Topic15\", \"Topic15\", \"Topic15\", \"Topic15\", \"Topic15\", \"Topic15\", \"Topic15\", \"Topic15\", \"Topic15\", \"Topic15\", \"Topic15\", \"Topic15\", \"Topic15\", \"Topic15\", \"Topic15\", \"Topic15\", \"Topic15\", \"Topic15\", \"Topic15\", \"Topic15\", \"Topic15\", \"Topic15\", \"Topic15\", \"Topic15\", \"Topic15\", \"Topic15\", \"Topic15\", \"Topic15\", \"Topic15\", \"Topic15\", \"Topic15\", \"Topic15\", \"Topic15\", \"Topic15\", \"Topic15\", \"Topic15\", \"Topic15\", \"Topic15\", \"Topic15\", \"Topic15\", \"Topic15\", \"Topic15\", \"Topic15\", \"Topic15\"], \"Freq\": [5174.0, 2369.0, 1045.0, 1656.0, 2694.0, 3017.0, 1957.0, 4731.0, 899.0, 1327.0, 850.0, 2723.0, 4919.0, 3089.0, 1750.0, 3544.0, 695.0, 3528.0, 1802.0, 843.0, 3738.0, 2131.0, 1243.0, 2302.0, 1152.0, 1529.0, 769.0, 1416.0, 998.0, 1108.0, 74.50354223753865, 71.52604729342852, 83.95613752791495, 32.818611487017485, 37.60031883100929, 30.833615051984083, 29.841116383937177, 56.690799785051134, 27.85611895199852, 24.878624970791538, 30.571436217255638, 27.679519794211622, 22.89362769337215, 19.916131544342328, 18.923635040581008, 17.931136399847087, 20.753925214756876, 35.75788470400903, 16.938638198777635, 16.938638104315466, 16.938637842082088, 15.946140054020127, 15.946140024303787, 15.946139398775376, 15.944960566811254, 14.953641700965553, 14.95364154556149, 14.953641393461858, 14.953636805643265, 13.961142950179015, 27.83648520019983, 464.9766973151315, 58.934833332836604, 115.4884788035951, 953.622702230413, 138.94682967286386, 75.17955900970047, 38.958277341400546, 54.43796359074352, 34.5618319850397, 885.6994001610136, 89.32351810613652, 186.46202810553766, 112.10931232350839, 323.3839284927, 74.21799429090116, 491.0726068660241, 653.8537333129732, 444.6002512763156, 62.36697869724337, 195.3306404488868, 80.5606304170077, 442.3231916909052, 889.9129024532755, 480.6329860199598, 144.61938756336704, 228.0250526226435, 416.250637729666, 522.2187765608301, 336.98299278564133, 297.3625366586406, 164.33529328016502, 197.5659973780157, 518.6670323085596, 380.5359235376477, 1149.3265248617154, 870.284555027295, 312.31466268302773, 592.7858261131905, 769.9458124999486, 410.8936179319772, 436.9787160329633, 1407.8818815862428, 321.7462041137492, 657.546744538463, 298.63220902614574, 357.74324769750467, 339.728514227921, 367.8060590924825, 667.4319139684605, 508.651740498993, 470.62847948613853, 512.3370289127275, 440.068537813398, 527.2242144530067, 505.87742148144815, 516.1627738122168, 437.3910395813797, 387.4806033872522, 508.47694514738794, 327.4812783031456, 109.20373506197151, 83.86794882905046, 75.09786900035739, 60.48106917566038, 59.48859005682045, 47.813176085653765, 84.05199617544874, 40.99200285671042, 40.99200280355066, 35.14528296871467, 34.17081530530815, 29.29856307155649, 29.298563026890765, 27.34965641204178, 27.349656052364818, 26.37520312504892, 26.37520292451947, 24.426296451933688, 24.4262964301622, 24.34566042307268, 22.46070724995328, 21.502936546767028, 21.502936391217773, 21.5029362644159, 19.554029888215602, 19.55402950338501, 18.5795765861042, 18.579576478673, 1833.0653766337705, 482.07641587884945, 48.65138311294652, 35.10886998173963, 349.1336344803445, 270.93391361202674, 42.940176497803265, 2230.035524625859, 738.839714785799, 731.5319561489925, 384.5012835337591, 42.736166070451745, 122.97399898410133, 328.22921811083495, 169.5830202580262, 190.73078557155674, 387.42940765889864, 787.8432923544397, 241.55073411070094, 732.3877570824149, 1430.2462050800177, 86.85762857996377, 179.1585706063731, 154.44459074116503, 199.9189825726077, 960.9699636305568, 817.123285252959, 495.8334647701531, 216.81194300896132, 678.0664602490483, 1441.5966295841142, 335.13669811335456, 206.84571089194168, 420.92723210964584, 717.9317587025611, 429.6833148044669, 327.97254652619563, 401.2979877474656, 417.0564285018659, 379.0334642017495, 447.6363025686954, 363.6799462499923, 392.76388073233574, 349.7919070949854, 384.3183473930459, 842.5063290530577, 200.0562273467297, 139.57064878595176, 134.66504034217306, 58.59904430243618, 47.86780970653182, 42.961443954492246, 37.136575334250885, 35.18544092109871, 351.71451322507755, 29.332018871437413, 233.28703725163103, 28.35647413200502, 21.527506586451704, 39.07895953859713, 17.625239730595958, 16.64967202055593, 16.64165184686634, 15.674106266888714, 44.04992085665056, 14.698539459936283, 14.698539091245124, 14.698539033374853, 14.69853861940974, 13.72297265100409, 12.747405916091159, 12.747405873511044, 12.74740572748681, 12.742427647102078, 30.80692765950275, 577.5456996010084, 109.1179031251399, 157.88663075923006, 714.7890125375776, 336.74135695451184, 177.25119639646084, 34.982519290242344, 170.33557928193602, 150.8529717738762, 58.00196512422087, 38.83636937457238, 50.83015090797963, 92.52198947537984, 353.6638923168096, 1786.1517173811847, 105.9372843565991, 649.3344382241924, 180.47653782901526, 275.7733077189449, 1177.072959177991, 415.7372075084074, 846.4519580106023, 387.10741880618946, 512.1692577443587, 606.1995637232809, 1652.8076048678247, 268.69333452685015, 306.60822481158834, 408.83277708536616, 281.8128825188607, 815.6897110425804, 328.5796041346544, 997.5646538751402, 285.15157315544224, 661.7890099947705, 478.8349610756104, 282.9557498428788, 311.63077615641157, 449.45403925153784, 403.1161623814397, 361.95043848378543, 346.4821699763743, 356.6981574743004, 350.43707496540964, 306.80477127550193, 319.8375878935872, 43.16425125720457, 27.127996931303084, 20.11213571034744, 23.912622818452054, 19.10986975483206, 19.109869652701807, 19.10986955977743, 13.096274423147463, 13.096274313239302, 19.601771076011964, 12.094008372340138, 12.094008256770177, 12.094006872504773, 11.091742593711354, 11.09174247980048, 63.80999859049861, 10.08947614053971, 10.089474157969908, 10.089464541400528, 21.114401528751667, 9.087210840301085, 9.08721078581197, 9.087210703349065, 8.084944938795044, 8.084944884119869, 8.084944882102084, 8.084944839078576, 8.084944836010282, 8.084944456458325, 8.084944401998019, 64.69449549084688, 35.01944960508578, 133.2921329809911, 93.79931676716242, 43.47678310631856, 79.03161984697958, 164.357983730344, 250.68838003862527, 446.7839050573869, 210.02213378632953, 77.49593854082818, 1756.7385731649895, 213.2433618730314, 1421.980701793188, 71.26957712017189, 290.4079016335427, 26.410998108443586, 57.681336386494195, 34.351058172103016, 779.5869616115543, 1738.5206454124343, 364.55435235538073, 249.32849595077462, 304.9290794023491, 811.1279634778847, 153.98990990067344, 444.95187370141906, 431.1198336248693, 283.59939843177995, 221.8292825499495, 390.5721541113192, 844.3368174612403, 633.8579506730188, 535.0313466247243, 718.508514435226, 694.2097542597897, 234.84489505844093, 244.78876106367574, 244.29809252709825, 471.1050011920946, 382.8015731321206, 423.2874606154226, 426.2287670572709, 347.2769485733494, 344.29001290974077, 301.2039871857582, 313.877008701646, 319.8329094131214, 305.43841499251647, 309.5600054248822, 280.171403806722, 297.2000026546991, 157.3146953427707, 102.3241697362302, 77.2424157467774, 68.55987944176107, 57.94789054679145, 126.13923893866541, 55.05371110837684, 52.159489546327194, 47.333396656626135, 45.40069817216636, 116.76731031510965, 32.86500778414894, 30.935294890062654, 28.041376504563946, 58.86535577875774, 25.147197332260824, 24.182471360298802, 24.18247050854143, 24.182468683452594, 25.08798900623778, 23.217745220478086, 23.21774514988885, 22.25301876294767, 21.288292259995245, 19.358840182387702, 19.358840172227833, 39.61453935357027, 117.92080558131399, 17.419381937209717, 2118.268479186483, 79.90724736316284, 119.70575235520273, 497.02704820451385, 172.56365405287295, 210.05116221037474, 133.72505802738723, 122.21279255841345, 73.80332196699041, 324.3230823445081, 100.83333515720771, 661.0524610812259, 306.23564441953187, 705.0783534239482, 137.37856316572672, 433.5095951264776, 287.4513631863223, 251.2144470003027, 518.7099299876802, 316.86299823746185, 230.13453903212744, 190.21555796721356, 965.5980188473313, 1279.9183200763503, 1552.1111644270716, 833.2076414634632, 248.22640156986054, 631.6161893132404, 390.6392199171059, 470.6966840208105, 534.4466762705177, 322.9106221257905, 313.33906376940286, 247.46008743463227, 809.2963277261156, 339.85056238671683, 440.36024882595547, 499.26775486096443, 336.61910625449417, 482.7038770521662, 328.4789727743049, 370.4685375563646, 329.2952202457418, 300.9385093655346, 49.23464030119165, 105.10935103647094, 43.44989143231919, 36.7010173075751, 30.916268969471457, 29.952144060421247, 26.078322500379567, 23.20326967285335, 22.189513878176854, 357.1419541490766, 18.38264624587324, 17.418521498451977, 17.418521333341506, 16.45439668389402, 16.454396620432224, 37.51153418892833, 15.490271889430316, 15.490271761316926, 14.526146994858586, 17.193724497256536, 13.562022271795591, 13.562022262007343, 47.98434768864006, 42.44041252837858, 12.597897544817709, 12.597897359326192, 25.979838795651684, 137.17764395613378, 22.209781129061874, 10.669647784403995, 1530.0416714915996, 40.557300331776034, 24.029081327353705, 43.759608796165494, 60.50417775164748, 46.470164252434074, 557.2728897575123, 86.70593141346487, 51.26389508100019, 391.8787284046626, 40.01140255698567, 48.1088030096075, 139.12387507854748, 367.04083492405823, 178.51090718120022, 420.4704054811397, 192.7431132874456, 686.9849269151193, 782.9370494710656, 109.89068074836402, 105.2611020963001, 134.5211583619995, 123.65635269981034, 329.70795809186404, 413.1924509739933, 130.3355755256048, 388.0117319479274, 572.9032798376354, 192.4932762094466, 141.69745407676015, 208.69411077752878, 112.123402703894, 120.73195284082095, 333.83426688240075, 297.29979069117974, 234.72238243086986, 259.9906070401017, 143.18879451096907, 192.0795063459032, 175.84218837763657, 157.0426601722809, 164.32148825175562, 170.59070561299984, 224.44872955919865, 193.5916765895407, 168.81866630463367, 191.72782151834875, 185.22621097726937, 168.69533569029196, 176.49303482760624, 171.4787034795594, 49.484561738044235, 36.887316916806725, 23.321053158582245, 49.886330997086986, 17.50694030021189, 17.50694030021189, 17.506940180282857, 15.568902621540145, 15.56890258964466, 15.568902371015456, 29.268598738529352, 12.661846145737542, 12.661845983794759, 12.661845823464864, 12.66149569898825, 11.692827110010928, 124.13459072309551, 10.72380842657363, 10.723808017460474, 58.7047641561738, 470.9066352485796, 9.754789587376598, 9.754789587376598, 9.754789402193943, 8.785770785334654, 8.785770765482072, 8.785770530410264, 8.785766616748429, 8.785520670781354, 7.816751908799786, 21.28675135337514, 59.129172182829436, 181.26910771186002, 65.03635993429015, 187.71761960216904, 296.7372325891702, 94.32544861767971, 35.149694210649756, 63.82104637047302, 306.594576408802, 151.8598790376267, 25.85280043544434, 43.54065099008685, 939.4625936726094, 24.29007226983714, 110.5595270341418, 295.23346985642144, 176.96884095851684, 546.5329286158562, 29.83229393495648, 650.1028746155682, 148.32771988155258, 268.1999420853153, 391.6433913007604, 200.8920990675265, 152.07919261142754, 681.4334448634152, 252.4026346975581, 483.0016533416041, 100.94246638534314, 549.0015007452253, 234.46691711070252, 204.94045481145307, 333.3214253407884, 249.82077273273362, 163.20124808444075, 294.5437443949662, 216.2226055074906, 336.5422972060669, 265.92242724612584, 245.22600388395273, 210.50454751421844, 230.9639699592661, 235.02791791433373, 196.82209845936808, 195.54217668355503, 196.72916071918587, 190.1318887015795, 69.1310384615952, 57.279388123976986, 52.35761166306422, 39.53163940275664, 32.625113746909875, 43.55438604518563, 19.798708282133624, 19.79870822399605, 16.83876835061916, 14.865475314140081, 13.878827722299917, 11.90553555085018, 11.905535543624424, 11.905535527454749, 11.905535221131016, 10.918889020787274, 10.918888994805233, 10.918888765694552, 10.91888826310218, 10.918887965565013, 18.134491137091025, 9.892303051135412, 8.945595702567244, 8.945595585703236, 8.94559555004931, 8.945595531941738, 8.945595333658442, 16.83876866237971, 7.958949191796265, 7.9589491753235215, 300.3168247142838, 9.690096271764535, 39.05024790265122, 1022.5384748207773, 26.777109066227563, 226.63700607099793, 2497.984542426674, 34.485540178266604, 163.79112668986025, 340.0702736436771, 594.9064262866797, 250.75044479689822, 103.23909132466895, 29.010632598600132, 56.61577740528559, 104.83226037701577, 300.2549967244912, 114.82053449181008, 212.91394158557625, 216.00400639493245, 139.16123569754927, 314.23824988877965, 78.92267795635203, 149.60601152868097, 116.0344350721483, 343.3155260394534, 94.0119412203289, 169.46986852327834, 320.84113494869854, 192.70593144195377, 304.77937102165566, 251.71198011004304, 349.9349629031495, 146.2510412375681, 244.05888635682194, 199.33406031608854, 202.4762449674047, 317.52355505193316, 226.54298646165782, 266.38126669531476, 237.48167009078068, 190.3420849216085, 160.61923368884607, 189.81518735119045, 189.8944648835461, 179.45447528494333, 178.88774030162665, 174.89714059015287, 58.34333683601952, 30.59016375296425, 26.835260768389382, 24.114423454272647, 22.264211838044712, 20.414000498944688, 20.41400003843607, 19.48889447753409, 18.563788624749474, 16.713577443708196, 16.713572447265918, 15.788471629330557, 15.788471571136569, 20.17723914537444, 14.863350772007001, 13.93826007891455, 13.938259523715267, 13.013154410563555, 13.013154388414787, 13.013154023444262, 12.088048238752885, 11.16294276810143, 11.162942730435441, 17.960973374448674, 10.237836967539254, 9.312731355424193, 9.312731355424177, 8.38762557368509, 8.387625555789208, 8.387625519093412, 17.622112930705082, 27.72016231942508, 16.506746180386685, 137.53362720060147, 92.7663521076422, 57.280182856248864, 60.770477086917, 76.2113250496601, 181.01086791471357, 148.3077724464979, 371.0803565050969, 20.414000429252575, 212.69168740607424, 68.75877176883847, 36.60388146963928, 33.0052395936048, 30.090664089841223, 68.8028051359678, 57.58589939416271, 239.8076476522602, 90.16130611863579, 37.54414841932243, 61.587543344509285, 292.43932958427115, 62.71590858563282, 64.41895901800332, 187.54953841049425, 218.39319850622726, 48.75250096137335, 158.3985342850156, 111.82986927064108, 200.85145303181554, 102.86233385198229, 150.86307614663158, 111.3586401843706, 106.38486407072975, 103.67191102879615, 158.09080347368598, 90.36790016362731, 131.8081432719852, 94.97846826587346, 134.61171980841826, 142.90426632274983, 106.81245796724728, 130.5958659542302, 131.24802975016547, 121.85832183102751, 100.31709865943743, 104.82132951480023, 103.24909550348109, 108.0907281499858, 101.72334647587898, 55.322751943607884, 38.4452389976989, 37.52705829771083, 30.97075040120858, 30.03413503410579, 27.224288807995478, 27.224288604356932, 26.287673221379052, 25.351057769659953, 23.477826838065706, 20.667980505096004, 20.667979977820202, 18.794749783015217, 18.794748752315925, 17.85813424344534, 17.858134224191442, 37.466917688521434, 18.721765486639836, 16.921518848621044, 15.984903342262703, 15.048287848850041, 12.238441101026613, 11.301826194543448, 22.54121170831997, 10.365210753489949, 10.365210723216153, 10.365210431524995, 21.590670180422638, 9.428595434767562, 9.42789344013693, 38.25248105826541, 18.76062602213819, 61.87905943601531, 39.43547607183521, 72.28451213519902, 36.95321209706332, 27.131383311410392, 41.55423553832368, 104.97519767512675, 35.18416246267045, 26.507925522703562, 241.27241308525836, 137.57747023699983, 374.2109737141336, 111.47153940638873, 26.287530067434343, 110.5092374273824, 295.7489883198271, 117.89746521773323, 288.61996246538337, 370.2511350977856, 284.2326145441705, 75.15784025976811, 136.05300673997363, 144.8102950248496, 183.90467304456376, 94.94935517357881, 191.90877934314966, 84.05352504050485, 149.15644098149062, 139.32314121528105, 104.92657664873855, 139.576932798494, 121.05448897713795, 98.16994866568348, 65.8015992091822, 74.68715766002623, 82.24327207066167, 108.68446107328407, 99.64439258456254, 90.70383628425576, 84.83840109437709, 43.88701960655198, 16.495675918048462, 14.669586310096681, 13.756541529504, 13.75654131634718, 11.930451890581034, 19.22493352903639, 9.19131746358892, 20.076091284101164, 8.278272757348919, 8.278272735371477, 8.278272718099617, 8.278272688262078, 8.278272496700604, 8.278272305549372, 8.276635103074465, 806.4995304551397, 7.365227894784281, 7.365227883902817, 7.365227864583796, 7.36522750969744, 7.36522702657214, 7.364923697751644, 15.355202315426242, 13.756541567606007, 6.452183171992749, 6.452183132430116, 6.452183119220581, 6.4521829630631125, 16.132339997923943, 47.308450616979805, 20.134265979532504, 43.36941655462223, 43.75007082009919, 44.30558225507147, 576.0838897335169, 11.930451633071254, 38.400512031547095, 11.733410804814364, 11.004222245560678, 52.876856552506965, 377.83725629678133, 30.18458186213948, 44.9323308393795, 11.57747170375362, 19.5838092377139, 16.15928009941322, 54.52818657740312, 69.0336644249874, 31.506309316211265, 84.43806040631269, 39.67154076866737, 124.03229828809299, 354.5731299370293, 111.23689068382002, 75.47035349520993, 202.80493891090782, 76.63775755071397, 202.9293077254679, 358.8055481286841, 96.70835618682308, 98.57101715993464, 92.8143048353475, 109.11010408182922, 59.60627223850342, 194.54466566910375, 173.53073395926384, 98.71087061968109, 100.76846581150308, 140.25614887880326, 117.68421134160535, 115.65647120294877, 86.73520663843415, 89.92826904246095, 64.26139175428364, 90.83544356905652, 97.50100130919431, 80.17217278359782, 75.74640322230347, 79.82325738472699, 80.1467831409806, 1044.7417857117457, 165.48287926818463, 47.37281720650372, 27.93010557765568, 23.434916922382758, 19.838765979178277, 19.838765966236597, 18.939728176302506, 18.039869557391675, 17.141652822296663, 17.14165275330761, 15.343577317844794, 15.343577295213658, 15.343577269710426, 14.444539597821496, 14.444538852549073, 11.747426335722366, 9.949350867697092, 9.949350832128786, 9.94935009855895, 9.949348450838214, 9.0503131665518, 9.050312884420503, 8.15127542335765, 8.15127534740741, 8.151275199849154, 7.252237669808611, 7.252237640138793, 7.252237636795245, 7.252237156567155, 15.33769212099971, 18.928945467250507, 22.391857877931567, 410.04803452466945, 21.390691821497214, 102.3782799297156, 15.335531990487107, 24.27765882332284, 20.450371586079264, 119.49654681382407, 34.50956022581705, 51.413335361237486, 43.76896557214913, 55.731245084903726, 79.74650672503167, 214.26335116984868, 142.95359327298019, 68.89147380002235, 90.79572190140541, 85.43084666602562, 44.798511057114446, 38.525788590033756, 47.25482231846858, 138.49717413814224, 32.73251978617221, 50.32850327738057, 120.60960234637876, 52.99870687383725, 115.77002316121884, 86.13309474317514, 125.01280858765378, 88.28036350737146, 102.22668843416655, 98.13884168470481, 96.57726915573346, 84.32792268881153, 66.29128132182323, 69.99596506268037, 64.50122415053146, 79.58260019727514, 60.966821452414024, 64.76125046568349, 70.28194490166365, 67.7742863079737, 70.31389814201411, 67.3703595723176, 24.337291930452828, 20.01466112935587, 18.279285806585268, 17.411598333647134, 13.073160209444207, 13.073160189326055, 13.073160140185788, 13.073160124911947, 12.20547254428315, 11.337784877347845, 10.470097331614088, 10.47009728606181, 10.469859016894063, 9.602409717753282, 9.602409695454552, 8.734721884109112, 6.999346830327191, 6.999346768416325, 6.9993467058348475, 6.985686762014637, 47.34535531695551, 7.753019858915078, 6.131659205819899, 6.131659194553674, 6.131659165328616, 6.131658956879771, 6.131658903042599, 11.337784936106475, 76.41539305680908, 5.263971580597383, 5.263971580597383, 15.676223118462282, 75.67617683896225, 57.134331547049584, 10.46758359100803, 52.91419994301397, 89.98484936315207, 35.8899410263285, 91.59416217830473, 57.84488583287229, 24.55799857987863, 221.1693464666089, 13.870483023534867, 23.740006382909826, 76.06965338576241, 89.31474244002267, 45.18553616757416, 64.95821456675728, 203.37989776065046, 42.8653430014045, 107.54078623511525, 187.34321398124706, 58.443075913782685, 126.41502162204246, 73.67100643022162, 133.71085700197344, 86.02481473967907, 30.96092161800372, 148.44214652540765, 63.53997993241516, 65.80213559761506, 30.687549600114494, 73.36972920692223, 48.30743507636104, 45.43524266715513, 55.453621970220524, 55.71430224877566, 52.180808924622355, 55.8598294144337, 57.559116823954696, 55.48988190754362, 152.96161647727487, 60.70628587979908, 30.808724717386575, 13.724404189702835, 11.161756076560836, 10.30754008299737, 10.30754008299737, 10.307539806361225, 9.453324035731054, 14.97531017457908, 8.59910798456559, 8.599107953899537, 7.744891973073566, 7.744891897288801, 7.744891870072784, 7.744891611297235, 6.890675961735894, 6.890675961735894, 6.89067594450593, 6.890675942418713, 6.890675821049725, 6.890675770960413, 22.959944395489767, 14.390256118539904, 6.036459927808321, 6.036459913999178, 6.036459913999178, 6.036459905567411, 6.036459844274755, 6.036459741901158, 96.14270968988887, 194.9300964197829, 48.03073052261564, 18.849700552036765, 37.0438158360973, 194.70022867062946, 11.581611445987043, 17.86239919811321, 22.816238773829717, 26.45935623524216, 90.22065052282946, 77.89604825027618, 11.096307980285609, 42.84358572757815, 30.63145640877161, 27.50795040867418, 32.62529300888183, 147.41247561372018, 31.89783473242559, 107.65424540823088, 31.12122487154763, 32.11070858496274, 58.68877841104678, 21.733813778111976, 49.64808796731989, 100.7490944926207, 54.91159407254385, 35.18621236309297, 50.76818208809874, 53.11035158278455, 50.84572980156981, 79.52057760542739, 56.44117931906996, 73.33180415771596, 75.40964370433188, 78.43967134457775, 60.63175600086401, 61.11362074223684, 51.30978181239898, 45.79725604638486, 47.745906250482626, 52.67261189020417, 54.4608781736307, 50.58701079709035, 19.35535984807887, 16.723966462218787, 16.723966377646537, 14.969704288250915, 14.09257326713159, 28.12667127075489, 13.21544202321259, 11.461179869568083, 11.461179678419144, 10.584048478648517, 9.70691766587002, 9.706917575965404, 9.706917506579085, 8.829786547779097, 8.829786497983692, 8.82978647326027, 7.952655416107678, 7.952654847887732, 7.075524236439061, 7.075524227730464, 7.07552419493164, 7.075524145339305, 7.075523893965828, 7.075523772654305, 14.077982105054778, 120.6985314765641, 13.215442100178677, 21.10962224975568, 34.93418802490807, 13.205584499453256, 61.13213132085503, 253.51153959056322, 67.74797430103102, 22.829339672556213, 12.222027323872148, 12.156206140693788, 28.251102836257914, 24.184605419916274, 36.09738814758489, 105.18403240885975, 44.01777129438783, 51.64908258639892, 43.81582117379475, 18.041542849555984, 138.778718093614, 58.16880916018615, 20.871372317314286, 42.99489094687749, 84.02422916392176, 29.78521510047291, 47.525467277805376, 43.28849851919603, 40.83248733365484, 49.893884419256715, 38.865700202755015, 28.925702576327176, 51.77500647480398, 71.39674887505569, 26.515350164750004, 43.43380197077705, 41.86847688397249, 39.64606633448965, 41.093163728899675, 34.61311727945863, 51.719346623037815, 49.33669723126324, 43.25072123768936, 48.44291151079797, 40.987104554909465, 44.89272784180903, 41.294317065419285], \"Term\": [\"google\", \"cloud\", \"drupal\", \"apple\", \"machine\", \"customer\", \"learning\", \"company\", \"docker\", \"android\", \"container\", \"business\", \"datum\", \"product\", \"image\", \"service\", \"module\", \"people\", \"digital\", \"blockchain\", \"build\", \"software\", \"facebook\", \"application\", \"server\", \"content\", \"command\", \"language\", \"consumer\", \"store\", \"elasticsearch\", \"django\", \"constructor\", \"copywrite\", \"bayesian\", \"recyclerview\", \"padding\", \"integer\", \"observable\", \"struct\", \"proguard\", \"phpstorm\", \"saxena\", \"methods\", \"hashmap\", \"rollup\", \"parallelism\", \"causal\", \"setter\", \"fasttext\", \"transpile\", \"regress\", \"tuple\", \"searcher\", \"minification\", \"vectorization\", \"openjdk\", \"aggregated\", \"devtools\", \"overwrite\", \"nested\", \"filter\", \"rails\", \"compiler\", \"method\", \"syntax\", \"schema\", \"conditional\", \"streams\", \"heading\", \"function\", \"snippet\", \"keyword\", \"generic\", \"variable\", \"generator\", \"element\", \"class\", \"query\", \"immutable\", \"string\", \"async\", \"javascript\", \"event\", \"return\", \"index\", \"parameter\", \"error\", \"library\", \"implementation\", \"property\", \"angular\", \"array\", \"object\", \"stream\", \"example\", \"write\", \"contain\", \"simple\", \"value\", \"framework\", \"database\", \"datum\", \"document\", \"result\", \"style\", \"implement\", \"define\", \"generate\", \"create\", \"number\", \"content\", \"problem\", \"search\", \"different\", \"thing\", \"change\", \"start\", \"follow\", \"neural\", \"tensorflow\", \"deepmind\", \"scikit\", \"openai\", \"hyperparameter\", \"classifier\", \"convolutional\", \"neuron\", \"theano\", \"unsupervised\", \"corrado\", \"supervised\", \"keras\", \"imagenet\", \"hinton\", \"turing\", \"deeptext\", \"heron\", \"brockman\", \"lecun\", \"seesaw\", \"supervise\", \"giannandrea\", \"scipy\", \"homebot\", \"perceptron\", \"hendrix\", \"makoto\", \"bengio\", \"learning\", \"artificial\", \"networks\", \"reinforcement\", \"researcher\", \"recognition\", \"computational\", \"machine\", \"intelligence\", \"algorithm\", \"train\", \"nvidia\", \"classification\", \"scientist\", \"accuracy\", \"dataset\", \"training\", \"human\", \"robot\", \"computer\", \"learn\", \"robotic\", \"prediction\", \"speech\", \"student\", \"model\", \"image\", \"research\", \"predict\", \"network\", \"datum\", \"science\", \"python\", \"language\", \"google\", \"problem\", \"search\", \"technology\", \"example\", \"software\", \"build\", \"feature\", \"people\", \"world\", \"company\", \"blockchain\", \"fintech\", \"insurer\", \"ledger\", \"coindesk\", \"jpmorgan\", \"telecom\", \"insurtech\", \"torus\", \"insurance\", \"consensys\", \"ethereum\", \"graphene\", \"hyperledger\", \"settlement\", \"rakuten\", \"demandware\", \"gourmet\", \"virtu\", \"agriculture\", \"tapia\", \"banks\", \"treasury\", \"sofman\", \"adtech\", \"vlendright\", \"walkme\", \"bitcasa\", \"securities\", \"corda\", \"financial\", \"incumbent\", \"institution\", \"bitcoin\", \"banking\", \"currency\", \"julie\", \"sector\", \"finance\", \"ether\", \"digitization\", \"consortium\", \"disruption\", \"analytic\", \"customer\", \"mckinsey\", \"industry\", \"contract\", \"transaction\", \"technology\", \"marketing\", \"digital\", \"percent\", \"consumer\", \"market\", \"company\", \"investment\", \"innovation\", \"startup\", \"global\", \"business\", \"growth\", \"datum\", \"opportunity\", \"service\", \"experience\", \"brand\", \"report\", \"platform\", \"world\", \"provide\", \"include\", \"product\", \"create\", \"offer\", \"value\", \"globant\", \"silbermann\", \"marketscape\", \"tactical\", \"swanest\", \"smarterchild\", \"kinvey\", \"tettra\", \"goodson\", \"zendesk\", \"lizardcoin\", \"shuddle\", \"robotium\", \"jassy\", \"cello\", \"coaching\", \"reconsider\", \"chromecast\", \"yammer\", \"cognizant\", \"laude\", \"instapaper\", \"pinner\", \"tetra\", \"fjord\", \"vickers\", \"hoffer\", \"madden\", \"additive\", \"mentoring\", \"telegram\", \"bezos\", \"pinterest\", \"consultancy\", \"printer\", \"governance\", \"leadership\", \"culture\", \"employee\", \"talent\", \"coach\", \"product\", \"agency\", \"business\", \"workplace\", \"slack\", \"recruiting\", \"snapchat\", \"quadrant\", \"digital\", \"company\", \"enterprise\", \"leader\", \"strategy\", \"design\", \"transformation\", \"focus\", \"market\", \"growth\", \"success\", \"organization\", \"people\", \"platform\", \"experience\", \"service\", \"build\", \"manager\", \"engineer\", \"decision\", \"customer\", \"technology\", \"change\", \"create\", \"model\", \"think\", \"great\", \"value\", \"developer\", \"world\", \"start\", \"process\", \"kubernetes\", \"balancer\", \"datastore\", \"gcloud\", \"subnet\", \"stackdriver\", \"elastic\", \"kinesis\", \"firewall\", \"serverless\", \"cassandra\", \"bigquery\", \"dynamodb\", \"cloudfront\", \"bigtable\", \"dataflow\", \"cloudwatch\", \"decrypt\", \"slides\", \"qunit\", \"instances\", \"failover\", \"openstack\", \"resharper\", \"nodejs\", \"dataproc\", \"quizlet\", \"vmware\", \"balancing\", \"datastax\", \"cloud\", \"gateway\", \"workload\", \"storage\", \"proxy\", \"backend\", \"encryption\", \"networking\", \"firebase\", \"cluster\", \"encrypt\", \"instance\", \"compute\", \"server\", \"apache\", \"engine\", \"configuration\", \"deployment\", \"request\", \"infrastructure\", \"spring\", \"configure\", \"application\", \"service\", \"google\", \"platform\", \"traffic\", \"support\", \"resource\", \"performance\", \"network\", \"security\", \"address\", \"deploy\", \"datum\", \"access\", \"provide\", \"create\", \"available\", \"build\", \"update\", \"developer\", \"include\", \"allow\", \"federighi\", \"palantir\", \"mycroft\", \"leadfeeder\", \"knapp\", \"sierra\", \"schiller\", \"airpods\", \"burnout\", \"iphone\", \"javetski\", \"chester\", \"phippy\", \"popslate\", \"harald\", \"emulator\", \"alptitude\", \"zigbee\", \"maechler\", \"buzzfeed\", \"montgomery\", \"posey\", \"macbook\", \"comic\", \"ibook\", \"strictmode\", \"itunes\", \"steve\", \"watchos\", \"kimberly\", \"apple\", \"icloud\", \"franz\", \"emoji\", \"bluetooth\", \"nadella\", \"email\", \"inbox\", \"rumor\", \"phone\", \"debut\", \"dropbox\", \"meeting\", \"microsoft\", \"friend\", \"device\", \"watch\", \"thing\", \"people\", \"camera\", \"permission\", \"smartphone\", \"music\", \"really\", \"think\", \"voice\", \"feature\", \"company\", \"little\", \"personal\", \"message\", \"stuff\", \"promise\", \"product\", \"start\", \"right\", \"design\", \"office\", \"today\", \"actually\", \"spend\", \"month\", \"place\", \"build\", \"experience\", \"launch\", \"software\", \"world\", \"question\", \"include\", \"developer\", \"monolith\", \"ceramic\", \"aquifer\", \"microservices\", \"heroservice\", \"oninit\", \"ontouchevent\", \"botsman\", \"burndown\", \"bunnell\", \"kanban\", \"squads\", \"onintercepttouchevent\", \"audits\", \"elixir\", \"openledger\", \"scrum\", \"ngoninit\", \"jamboard\", \"defect\", \"agile\", \"herobuttoncomponent\", \"heroescomponent\", \"upspin\", \"innersource\", \"lightbend\", \"lepton\", \"guild\", \"shippable\", \"exceptionservice\", \"rachel\", \"backlog\", \"sprint\", \"accessibility\", \"continuous\", \"microservice\", \"devops\", \"gitlab\", \"features\", \"asset\", \"reuse\", \"waterfall\", \"creep\", \"software\", \"barcode\", \"tracking\", \"architecture\", \"principle\", \"development\", \"playback\", \"project\", \"requirement\", \"practice\", \"organization\", \"review\", \"delivery\", \"change\", \"component\", \"process\", \"scope\", \"build\", \"management\", \"deliver\", \"developer\", \"solution\", \"track\", \"feature\", \"release\", \"service\", \"design\", \"problem\", \"level\", \"start\", \"people\", \"source\", \"different\", \"thing\", \"require\", \"constraintlayout\", \"tango\", \"webhook\", \"cardboard\", \"spanner\", \"kubectl\", \"sites\", \"galen\", \"trooly\", \"schiaparelli\", \"burda\", \"airberlin\", \"xiaomi\", \"shoreline\", \"lander\", \"reactors\", \"omnitone\", \"moorfields\", \"torvalds\", \"andrejko\", \"chromebooks\", \"notifications\", \"exomars\", \"chirp\", \"favro\", \"baveja\", \"hemingway\", \"postback\", \"syscall\", \"webhooks\", \"notification\", \"linus\", \"hangouts\", \"android\", \"hangout\", \"desktop\", \"google\", \"subsystem\", \"chrome\", \"windows\", \"facebook\", \"linux\", \"youtube\", \"bluemix\", \"ubuntu\", \"constraint\", \"video\", \"preview\", \"screen\", \"button\", \"messenger\", \"message\", \"progressive\", \"layout\", \"assistant\", \"search\", \"folder\", \"twitter\", \"content\", \"click\", \"mobile\", \"update\", \"developer\", \"slack\", \"device\", \"launch\", \"drive\", \"create\", \"share\", \"feature\", \"service\", \"information\", \"article\", \"platform\", \"build\", \"start\", \"change\", \"project\", \"hiragana\", \"valve\", \"webassembly\", \"tennis\", \"jshell\", \"calayer\", \"virality\", \"aurelia\", \"exhibitor\", \"paintcode\", \"estonia\", \"pronunciation\", \"wolpert\", \"southampton\", \"opensuse\", \"preemptive\", \"retweet\", \"dakuten\", \"catransaction\", \"jshint\", \"linte\", \"humanitarian\", \"helix\", \"telepresence\", \"prototypal\", \"kanji\", \"korneyev\", \"obermayer\", \"wimbledon\", \"wikileaks\", \"inflation\", \"webpack\", \"takipi\", \"animation\", \"japanese\", \"airport\", \"trump\", \"wechat\", \"sound\", \"player\", \"mobile\", \"zookeeper\", \"website\", \"typescript\", \"passive\", \"mechanic\", \"await\", \"conversion\", \"coffee\", \"experience\", \"color\", \"impression\", \"exception\", \"people\", \"prototype\", \"budget\", \"world\", \"thing\", \"battery\", \"content\", \"little\", \"start\", \"browser\", \"point\", \"online\", \"internet\", \"video\", \"think\", \"medium\", \"right\", \"javascript\", \"number\", \"design\", \"second\", \"different\", \"create\", \"learn\", \"actually\", \"really\", \"device\", \"include\", \"allow\", \"kurzweil\", \"storyline\", \"protractor\", \"parsey\", \"syntaxnet\", \"esperanto\", \"voltron\", \"soundtracks\", \"goldin\", \"mcparseface\", \"superintelligence\", \"bisect\", \"catmull\", \"quotes\", \"knuedge\", \"procrastinator\", \"trivia\", \"goofs\", \"performed\", \"nanotechnology\", \"callahan\", \"expander\", \"mockito\", \"torres\", \"matcher\", \"asked\", \"crowdflower\", \"nicole\", \"pychyl\", \"connections\", \"specs\", \"singularity\", \"polymer\", \"credits\", \"exponential\", \"reviews\", \"nomination\", \"overflow\", \"english\", \"boards\", \"containment\", \"story\", \"commit\", \"language\", \"transition\", \"cheque\", \"brain\", \"write\", \"technical\", \"think\", \"people\", \"thing\", \"estimate\", \"human\", \"really\", \"learn\", \"activity\", \"change\", \"programming\", \"world\", \"point\", \"happen\", \"start\", \"problem\", \"actually\", \"child\", \"speak\", \"person\", \"different\", \"right\", \"great\", \"understand\", \"dockerfile\", \"stunnel\", \"jenkin\", \"procfile\", \"dotnet\", \"halal\", \"kosher\", \"stars\", \"locator\", \"brainprint\", \"voronoi\", \"aramaic\", \"pinhole\", \"zumbrunnen\", \"centauri\", \"lister\", \"docker\", \"photodiode\", \"sybil\", \"sieve\", \"milner\", \"concatenation\", \"bessen\", \"mindfulness\", \"intolerant\", \"cappuccino\", \"weakreference\", \"mediawiki\", \"hyperdev\", \"therapist\", \"scout\", \"honcho\", \"meditation\", \"bicycle\", \"plate\", \"container\", \"wozniak\", \"dagger\", \"sprite\", \"habitat\", \"jenkins\", \"command\", \"cyclist\", \"injection\", \"containers\", \"electron\", \"walkthrough\", \"terminal\", \"shell\", \"minority\", \"swift\", \"redis\", \"install\", \"image\", \"dependency\", \"directory\", \"server\", \"instal\", \"version\", \"build\", \"script\", \"linux\", \"package\", \"windows\", \"bundle\", \"start\", \"application\", \"browser\", \"environment\", \"create\", \"process\", \"project\", \"question\", \"follow\", \"plugin\", \"support\", \"people\", \"development\", \"release\", \"developer\", \"change\", \"drupal\", \"acquia\", \"drush\", \"kelley\", \"dries\", \"overridden\", \"neurala\", \"drupalcon\", \"sirosh\", \"waterwheel\", \"buytaert\", \"sniffer\", \"krita\", \"keystoneml\", \"contributed\", \"mondo\", \"minhash\", \"vessi\", \"cropx\", \"algorithmia\", \"chasm\", \"bixpy\", \"blake\", \"phpcs\", \"blomfield\", \"jacquard\", \"multilingual\", \"preston\", \"recht\", \"barbell\", \"pfizer\", \"magento\", \"jacoco\", \"module\", \"decoupled\", \"vehicle\", \"contrib\", \"driving\", \"maintainer\", \"commerce\", \"decouple\", \"coverage\", \"override\", \"ecommerce\", \"contribute\", \"content\", \"community\", \"workflow\", \"distribution\", \"react\", \"contributor\", \"teacher\", \"autonomous\", \"support\", \"lightning\", \"suite\", \"developer\", \"government\", \"feature\", \"release\", \"build\", \"development\", \"application\", \"provide\", \"project\", \"source\", \"security\", \"issue\", \"state\", \"change\", \"science\", \"computer\", \"experience\", \"allow\", \"create\", \"include\", \"braintree\", \"quartile\", \"coldline\", \"hollar\", \"hubble\", \"walgreens\", \"greta\", \"alecrimcoredata\", \"mandeleil\", \"futhark\", \"spence\", \"paulides\", \"nedbank\", \"cersei\", \"walgreen\", \"brazilians\", \"electoral\", \"rinna\", \"dogville\", \"luminar\", \"shopper\", \"vsphere\", \"scatterplot\", \"boots\", \"bacca\", \"diageo\", \"cloudhsm\", \"sentience\", \"merchant\", \"schiano\", \"pictograph\", \"alfred\", \"mining\", \"seller\", \"coauthor\", \"paypal\", \"wallet\", \"walmart\", \"retailer\", \"trello\", \"thief\", \"payment\", \"clinton\", \"debit\", \"marketplace\", \"chart\", \"buyer\", \"shopping\", \"account\", \"churn\", \"credit\", \"store\", \"retail\", \"online\", \"purchase\", \"consumer\", \"price\", \"visualization\", \"customer\", \"study\", \"brand\", \"steal\", \"mobile\", \"revenue\", \"commerce\", \"million\", \"offer\", \"space\", \"point\", \"company\", \"people\", \"kotlin\", \"autofill\", \"logout\", \"swagbot\", \"jasonette\", \"arjan\", \"tijms\", \"vondrick\", \"redwood\", \"icaza\", \"guava\", \"impersonation\", \"kopin\", \"winfield\", \"mobify\", \"statcounter\", \"uirepeat\", \"uidata\", \"eucalyptus\", \"bcrypt\", \"eddystone\", \"tokens\", \"parallax\", \"multipurpose\", \"hashcat\", \"citrus\", \"jacaranda\", \"conjugate\", \"swarming\", \"tiingo\", \"swarm\", \"password\", \"beacon\", \"autocomplete\", \"meetup\", \"token\", \"caravel\", \"converter\", \"transit\", \"intranet\", \"aggregation\", \"bucket\", \"unanimous\", \"pokemon\", \"safari\", \"ambient\", \"cookie\", \"field\", \"shard\", \"label\", \"station\", \"crack\", \"attribute\", \"compound\", \"count\", \"place\", \"collection\", \"authentication\", \"spring\", \"display\", \"table\", \"value\", \"browser\", \"support\", \"design\", \"google\", \"number\", \"different\", \"docker\", \"default\", \"security\", \"provide\", \"example\", \"information\", \"epidemic\", \"trendwatching\", \"vxlan\", \"coinfest\", \"thorium\", \"pebble\", \"women\", \"norway\", \"reservoir\", \"claire\", \"rousseff\", \"restartpolicy\", \"restb\", \"impeachment\", \"tkinter\", \"boehme\", \"cannabis\", \"inhabitant\", \"nooyi\", \"whois\", \"luqman\", \"parks\", \"meetspace\", \"rubik\", \"african\", \"brazil\", \"bitfury\", \"mortality\", \"latin\", \"hopper\", \"plague\", \"woman\", \"quantum\", \"qubit\", \"awards\", \"outbreak\", \"bacteria\", \"ericsson\", \"overlay\", \"black\", \"female\", \"gender\", \"income\", \"stereotype\", \"country\", \"death\", \"probe\", \"artist\", \"music\", \"radio\", \"circuit\", \"population\", \"earth\", \"water\", \"planet\", \"political\", \"america\", \"trend\", \"patent\", \"white\", \"american\", \"spread\", \"signal\", \"europe\", \"power\", \"space\", \"engineer\", \"world\", \"state\", \"people\", \"million\"], \"Total\": [5174.0, 2369.0, 1045.0, 1656.0, 2694.0, 3017.0, 1957.0, 4731.0, 899.0, 1327.0, 850.0, 2723.0, 4919.0, 3089.0, 1750.0, 3544.0, 695.0, 3528.0, 1802.0, 843.0, 3738.0, 2131.0, 1243.0, 2302.0, 1152.0, 1529.0, 769.0, 1416.0, 998.0, 1108.0, 75.37751855922464, 72.40002353083888, 85.2828031298832, 33.69258802753022, 38.65179284702557, 31.70759133241986, 30.715092977809622, 58.37404113401118, 28.730096280987453, 25.752601256710047, 31.686602853694847, 28.71346638035226, 23.767604572061487, 20.790109399644184, 19.79761118636239, 18.805112819255765, 21.77389709399161, 37.542771284645916, 17.812614493660718, 17.812614499465667, 17.812614447909954, 16.820116158743176, 16.820116158785755, 16.820116129589767, 16.820021741082282, 15.827617813317705, 15.827617802335846, 15.827617808240483, 15.827617151721224, 14.835119437297967, 29.704192604526007, 536.1692055312463, 64.31303648040273, 129.15099966834106, 1162.6108414184396, 158.61584763451793, 84.21641264635888, 42.51885920869405, 60.34514999816074, 37.629951457243905, 1147.6109225880105, 102.54789077677007, 226.66843414992613, 132.80823188503103, 415.5450450649926, 85.53000607510728, 655.6926337680716, 902.6794482405357, 607.9590238837203, 71.00519374288308, 249.07670759844743, 94.54988886550316, 648.5810436477199, 1452.0071064008207, 724.119144402565, 185.62284924739342, 314.2678213368752, 628.3618742875448, 825.2670161306037, 497.33909287827055, 430.6024668985062, 216.07261961538603, 272.58389068019375, 874.6994730361038, 635.2551927820556, 2751.7684749093696, 1946.3819106139592, 526.014833127674, 1318.9155778564818, 1902.5432619646222, 812.3605597228075, 889.1050297214261, 4919.252544890849, 575.5252717861442, 1686.735451783623, 522.171811905615, 697.5721401157678, 656.0095490580468, 851.3934325408261, 3260.677848176391, 1805.156305219856, 1529.5835334222877, 1921.1044507701504, 1305.6165971595829, 2227.8688959518986, 2831.314711592234, 3085.476930556214, 2698.7731877522906, 1268.3635073903968, 509.5949646835544, 328.35645776669037, 110.07891433365656, 84.74312804491011, 75.9730481758568, 61.356248393041504, 60.38212888025432, 48.68835524640945, 85.68689001679472, 41.867182017958086, 41.867182013132535, 36.02046210385751, 35.04600870176083, 30.173742191156105, 30.17374218836125, 28.22483555099498, 28.22483554216606, 27.250382233966906, 27.250382232471193, 25.301475597507487, 25.301475593924167, 25.30156771491406, 23.35247591954036, 22.378115639534936, 22.378115630896065, 22.37811564325062, 20.42920900178743, 20.42920896763159, 19.454755682649594, 19.454755681759345, 1957.0027479444127, 513.5011695946727, 51.518967637820374, 36.9848248836476, 392.01488703938065, 302.8301805495465, 45.53790563402873, 2694.049597789713, 868.6579756299335, 869.0354499581395, 456.36259536361024, 45.6559317258496, 142.576360578667, 410.79791825384336, 203.10739330614507, 240.76062749800303, 536.8528197215298, 1194.2417098490828, 318.25685382576995, 1112.2643603538802, 2513.1510726633524, 101.2503037055495, 232.7140684790014, 196.34764949697686, 285.10772499736834, 2085.3271757016028, 1750.1506372199117, 958.9812132473821, 325.61342792778896, 1609.9349492130048, 4919.252544890849, 652.8095479128127, 348.95223587205976, 1416.4074623885565, 5174.45980440064, 1921.1044507701504, 1305.6165971595829, 2435.800289786995, 2751.7684749093696, 2131.2599528580004, 3738.870236854303, 2348.7358399389477, 3528.860113929718, 1946.1147718432978, 4731.537033297081, 843.819291493026, 200.9313325256944, 140.4461577820043, 135.56523846061464, 59.4741494081531, 48.742914833523706, 43.86192586563228, 38.01168026810524, 36.060546693606, 362.191322768209, 30.207146611630844, 240.32453862265467, 29.23157923303785, 22.4026117542972, 40.83906213079087, 18.500344661866666, 17.524777808533152, 17.523968626019077, 16.549211105968077, 46.61534798418517, 15.573644325569084, 15.573644300218024, 15.573644292721797, 15.573644315130654, 14.598077546226127, 13.622510764918488, 13.622510766394008, 13.622510765956553, 13.6219602680362, 33.05875156005957, 627.0937048510782, 118.63554437575911, 172.6579920216916, 795.5835090925742, 372.9954893306706, 199.52239623414053, 37.986416355363346, 196.51589901182479, 173.95335282456705, 64.5018196666027, 42.94729445473528, 57.289490336569926, 110.91740858911052, 480.11095455263046, 3017.4104503461454, 130.77101050197388, 1065.8749510953241, 248.3266280558162, 417.4876413158574, 2435.800289786995, 706.3346298175451, 1802.747374595427, 702.1527055690626, 998.217659445674, 1238.9178209973663, 4731.537033297081, 473.7794359192514, 566.9512461485664, 916.1088168410449, 550.4256606651302, 2723.7384632898975, 710.3721664104723, 4919.252544890849, 624.7967929556013, 3544.384153360999, 2107.059825083274, 707.8158240696175, 912.0767598958266, 2424.4765447201426, 1946.1147718432978, 2056.1477472584497, 2119.8744770249004, 3089.446859428103, 3260.677848176391, 1192.582693407986, 1902.5432619646222, 44.03757636108243, 28.001321957685022, 20.985460653059537, 24.988968023638282, 19.983194750320326, 19.98319474581402, 19.98319474236581, 13.96959934336458, 13.969599335275221, 20.9804868986805, 12.967333437858041, 12.967333416392988, 12.967333347378533, 11.965067539151104, 11.965067534718443, 68.84473701198677, 10.962801615468525, 10.962801551315064, 10.962801225532568, 22.980224897142968, 9.960535737953265, 9.960535737101017, 9.960535729523311, 8.958269836447224, 8.958269833850197, 8.958269834716184, 8.958269833668533, 8.95826983283506, 8.95826980625602, 8.958269796829434, 71.83686360032023, 38.842962540783795, 150.8828802799804, 107.70946614951046, 49.713517801689655, 96.59785901705463, 216.59439564137966, 341.9836208683713, 642.2309480359326, 290.736352884104, 99.97669190450709, 3089.446859428103, 314.34190677896095, 2723.7384632898975, 96.70766692639033, 478.5784975283915, 31.880201518358838, 79.34673272892495, 43.65596985566304, 1802.747374595427, 4731.537033297081, 737.9088903012156, 481.16220245519867, 626.24708309501, 2190.688328058198, 295.060597528125, 1267.4072496315466, 1238.9178209973663, 710.3721664104723, 517.7846002883275, 1152.0171562299147, 3528.860113929718, 2424.4765447201426, 2107.059825083274, 3544.384153360999, 3738.870236854303, 677.3602152256591, 730.2627353902025, 749.5946698978772, 3017.4104503461454, 2435.800289786995, 3085.476930556214, 3260.677848176391, 2085.3271757016028, 2131.344629130966, 1454.6358555823554, 1902.5432619646222, 2134.0652617215956, 1946.1147718432978, 2698.7731877522906, 2097.8957420024994, 298.07583059405613, 158.19052295171286, 103.20115864465993, 78.11824340073089, 69.4357070597621, 58.8237182014904, 128.13865071878382, 55.92953944270113, 53.035357736955056, 48.21180145621629, 46.28204064794795, 119.65784559986496, 33.74083545624939, 31.81138884029206, 28.917204150843347, 60.782303338770674, 26.023025349094834, 25.05829910853704, 25.058299125390416, 25.05829910375782, 26.017069758969278, 24.093572854912093, 24.093572857416838, 23.128846597375745, 22.164120314819495, 20.23466781742129, 20.234667817813417, 41.4188791683279, 123.48186135172078, 18.304923755015007, 2369.2514367564577, 85.48443963301405, 131.15009768397485, 572.2748916110316, 192.49362227466096, 238.90670901338382, 150.86961716116835, 138.69702485669603, 82.85015153930436, 423.1640567743135, 121.42484490232003, 1016.9228037663095, 429.239781822675, 1152.3187227126725, 177.27686729121422, 698.9210303575328, 440.0785952132961, 381.18839207805996, 962.2883592531086, 530.5717780844085, 354.127900358997, 277.44229952970215, 2302.9897005045673, 3544.384153360999, 5174.45980440064, 2424.4765447201426, 436.80462242245477, 1857.939623839488, 915.0872955227148, 1297.1693967974127, 1609.9349492130048, 727.1326545741608, 700.6073579993982, 487.4512261488014, 4919.252544890849, 1083.3085004382922, 2056.1477472584497, 3260.677848176391, 1158.5296217899538, 3738.870236854303, 1096.9869739381802, 2134.0652617215956, 2119.8744770249004, 1677.0264099459548, 50.11050806259065, 107.00467751418454, 44.32575918706293, 37.576885506284626, 31.79213662316398, 30.828011808974754, 26.972164451860554, 24.07913809121011, 23.116473916535266, 372.58965852625374, 19.25851406357336, 18.29438924693283, 18.294389238379747, 17.330264431581703, 17.330264438624514, 39.51080889357141, 16.36613962788652, 16.366139623635988, 15.402014813677226, 18.3032822739177, 14.43789000003016, 14.437889996224802, 51.111654228534, 45.31102688372042, 13.473765186660584, 13.473765189372918, 27.862731350136183, 147.432192035911, 23.965882218674132, 11.545515562259045, 1656.8731818608476, 44.19242196454089, 26.017174338446637, 48.08235951229215, 68.19647589598041, 52.09248987097851, 787.348799340092, 114.09671707202429, 63.726236987927486, 669.1361970447039, 53.21625480837575, 68.03285089101831, 279.48325846242193, 1005.6863131840435, 405.0581840555817, 1327.7404306995604, 459.5768647108397, 2831.314711592234, 3528.860113929718, 225.0364069448159, 217.4710894865847, 315.7671712212474, 283.65684454257905, 1435.11916536312, 2131.344629130966, 342.5589457720795, 2348.7358399389477, 4731.537033297081, 738.7996639486549, 429.31383453813737, 899.8982318719377, 286.6188081157422, 343.3207528872733, 3089.446859428103, 2698.7731877522906, 1628.5172222846884, 2190.688328058198, 513.5464827898733, 1293.7129850028737, 982.2939984514229, 695.970901672033, 867.1930601206448, 1061.8697584093802, 3738.870236854303, 2107.059825083274, 1031.7708124992134, 2131.2599528580004, 1946.1147718432978, 1064.9359261915652, 2119.8744770249004, 2134.0652617215956, 50.36010340162705, 37.76285850236927, 24.196594745936835, 52.35085046397835, 18.38248172711879, 18.38248172711879, 18.382481729741624, 16.444444048393937, 16.444444045375203, 16.44444404118803, 30.995536682714732, 13.537387531088662, 13.537387534963507, 13.53738752403201, 13.53739387953356, 12.568368687343101, 133.56334198812132, 11.599349854398106, 11.599349857189747, 63.7824336756335, 511.95045467114045, 10.630331015440538, 10.630331015440538, 10.630331013461317, 9.661312174797832, 9.661312174889273, 9.661312176414318, 9.661312002399377, 9.661303812162974, 8.692293337529762, 24.170959876752516, 70.40515409523017, 228.9518164818316, 78.88219216217655, 244.04119335979453, 399.8652636531269, 119.41763794892593, 41.61364511413163, 80.18687228277761, 456.9206421422964, 213.0010544972886, 30.816232608621622, 55.74940051972121, 2131.2599528580004, 29.02651232754627, 176.73840436828584, 575.327807129472, 315.5637342922039, 1432.990873011147, 37.49982545282388, 2082.9178918284606, 302.2970236037219, 662.9875151168706, 1152.0171562299147, 473.422552809641, 330.26845269034555, 3085.476930556214, 744.0652443168957, 2097.8957420024994, 204.03254080130935, 3738.870236854303, 927.391533211921, 756.482510148582, 2134.0652617215956, 1223.7247931611269, 579.8124883548561, 2348.7358399389477, 1230.1291510045417, 3544.384153360999, 2190.688328058198, 1921.1044507701504, 1245.9609146308576, 2698.7731877522906, 3528.860113929718, 1542.2873196460466, 2227.8688959518986, 2831.314711592234, 1318.4555559638254, 70.00540472313531, 58.16421181123882, 53.232380086221056, 40.40600663395845, 33.499480460781804, 45.34463963928547, 20.673074640011873, 20.67307465461037, 17.71313484592357, 15.739841631479907, 14.753194962117405, 12.779901841079358, 12.779901839419566, 12.779901838175071, 12.779901804193415, 11.793255240311208, 11.793255235396611, 11.79325523670354, 11.793255214549905, 11.793255226133919, 19.697154451828432, 10.8056969570121, 9.819962022548273, 9.81996202663121, 9.81996203154266, 9.819962034332395, 9.8199620274642, 18.64975029441445, 8.833315434662095, 8.833315434321959, 345.72442320269255, 10.794329845239584, 45.277334169789505, 1327.342110220671, 32.58758523362567, 347.67459776382765, 5174.45980440064, 44.36065637812582, 261.8888670818176, 613.8902680287301, 1243.8877903437653, 463.83803799336397, 167.45203376449058, 38.01502282556077, 87.75255268407847, 191.35963974788532, 736.8911410933009, 222.85437126086765, 501.8445068834096, 513.8485011797677, 302.9950145793967, 899.8982318719377, 146.45518172914615, 359.8030300908507, 268.9446247353505, 1305.6165971595829, 201.61182672331398, 485.07589994740596, 1529.5835334222877, 654.1668341227728, 1525.5005898096292, 1096.9869739381802, 2134.0652617215956, 478.5784975283915, 1327.7404306995604, 1031.7708124992134, 1091.3654715768964, 3260.677848176391, 1438.0537446525498, 2348.7358399389477, 3544.384153360999, 1608.6219921606191, 843.8803792607046, 2424.4765447201426, 3738.870236854303, 2698.7731877522906, 3085.476930556214, 2082.9178918284606, 59.2218057428531, 31.468632832415004, 27.772571004066588, 24.992892485462455, 23.14268095895254, 21.292469429268053, 21.2924694519706, 20.36736366879245, 19.442257908582377, 17.592046374135844, 17.592046639511096, 16.666940610344135, 16.666940615946892, 21.30971714227965, 15.74183549365746, 14.816729087180981, 14.816729111182728, 13.891623317397137, 13.891623319007739, 13.891623334990076, 12.966517569954563, 12.041411790462705, 12.04141178984779, 19.47087246145182, 11.116306037054244, 10.191200262257775, 10.19120026225776, 9.266094499343417, 9.266094500026162, 9.266094497219479, 19.486957504936978, 31.24870824469382, 18.57088311240606, 170.9542117697057, 121.82749827926737, 77.14031124018241, 88.00572546358552, 135.03149151198326, 436.2936802125123, 398.96658998084945, 1525.5005898096292, 26.169220650406647, 815.8288121500414, 155.94262509558342, 61.57274028270575, 54.63964909242089, 47.85198272473883, 181.18734731968135, 156.38635663864028, 2107.059825083274, 374.92776973394496, 76.29573245098773, 188.97686697372362, 3528.860113929718, 199.65023521253292, 218.94276056396205, 1946.1147718432978, 2831.314711592234, 128.45342431141393, 1529.5835334222877, 738.7996639486549, 2698.7731877522906, 640.4812169391544, 1626.835007541657, 819.6891187556034, 769.4763572538201, 736.8911410933009, 2131.344629130966, 533.1521345049779, 1628.5172222846884, 648.5810436477199, 1805.156305219856, 2190.688328058198, 960.0829716704194, 2227.8688959518986, 3260.677848176391, 2513.1510726633524, 982.2939984514229, 1435.11916536312, 1327.7404306995604, 2119.8744770249004, 1677.0264099459548, 56.20045362457828, 39.34020488563471, 38.404760262733525, 31.848452173154246, 30.911836728732542, 28.10199040303856, 28.10199040127691, 27.16537495973948, 26.228759528518058, 24.355528649714056, 21.545682326398563, 21.545682347476166, 19.672451440017028, 19.672451486493603, 18.735836003426105, 18.735836004540207, 39.31411365573232, 19.667816216161444, 17.799220554135513, 16.862605111934208, 15.925989686941783, 13.116143381449525, 12.179527919334056, 24.393366458519615, 11.242912478715958, 11.242912469169204, 11.242912489951022, 23.458443670405167, 10.306297030906688, 10.306252453196919, 42.29353957740886, 20.64943733631234, 70.64993453714091, 44.938783111141085, 91.25826628195168, 44.35386624061589, 32.48174558801289, 53.94021705145464, 176.9467927191815, 45.17373445351256, 31.824677536335464, 639.058569080455, 334.04863077114135, 1416.4074623885565, 252.21546258528042, 32.81796822070825, 325.0274189893464, 1946.3819106139592, 410.54083404733234, 2131.344629130966, 3528.860113929718, 2831.314711592234, 308.2712729398439, 1194.2417098490828, 1435.11916536312, 2513.1510726633524, 550.3688717612342, 3085.476930556214, 417.9764795797858, 1946.1147718432978, 1626.835007541657, 968.1834745774532, 2698.7731877522906, 1921.1044507701504, 982.2939984514229, 252.9077302034048, 395.3464319936991, 567.8752813966421, 2227.8688959518986, 1628.5172222846884, 1454.6358555823554, 1236.7925867031379, 44.76629268387383, 17.374948896165712, 15.548859310371563, 14.635814518444494, 14.63581452929765, 12.809724931470937, 21.039319518947803, 10.070590555264985, 22.036406411889832, 9.157545762069768, 9.157545761824334, 9.157545760047233, 9.15754576135465, 9.157545780834587, 9.157545755391128, 9.157705783686682, 899.8824433182318, 8.244500968506655, 8.24450096933119, 8.244500978650429, 8.244500962506141, 8.244501010985342, 8.244521428777336, 17.330089577016324, 15.610267741617587, 7.331456175144853, 7.331456180330216, 7.33145618131535, 7.331456184155775, 18.412719327566062, 54.07956309121559, 23.004063435532256, 50.591143394687876, 51.46842979673622, 54.48803316609855, 850.7400643018135, 13.774451201472544, 49.61649412997206, 13.737433544210143, 12.872020197380648, 75.22370876868375, 769.942441321662, 42.380873406189004, 71.14923497899531, 13.780535572616675, 26.911783919522385, 21.292514501879694, 99.36755322132953, 135.33612535697912, 51.45946796917931, 192.34205035588099, 71.07514962756682, 334.79179868064756, 1750.1506372199117, 338.9480651773961, 205.1420934703946, 1152.3187227126725, 234.7932059681072, 1226.980922884426, 3738.870236854303, 424.71145952723384, 463.83803799336397, 427.28215270226735, 613.8902680287301, 190.9285259399602, 2698.7731877522906, 2302.9897005045673, 640.4812169391544, 756.7708765559365, 3260.677848176391, 2097.8957420024994, 2082.9178918284606, 1064.9359261915652, 1268.3635073903968, 277.2362298506015, 1857.939623839488, 3528.860113929718, 1432.990873011147, 1230.1291510045417, 2134.0652617215956, 3085.476930556214, 1045.6219926210952, 166.3630861739504, 48.615306144072406, 28.810312467904385, 24.315123781359222, 20.718972837570035, 20.71897283815244, 19.819935104345486, 18.920956799485158, 18.02185962151918, 18.0218596252051, 16.223784149257067, 16.22378414924569, 16.22378415657587, 15.324746413788747, 15.324746430398429, 12.627633209173812, 10.82955772848117, 10.829557733191463, 10.82955779444585, 10.82955796223899, 9.930519993663403, 9.930520011468976, 9.031482256081606, 9.031482260799004, 9.031482273643348, 8.132444523526495, 8.132444517817849, 8.132444526977057, 8.132444566903834, 17.226725792903302, 21.529056361833874, 26.157464288297206, 695.2717110437567, 27.462241677055957, 174.32674013589016, 19.13146690671594, 35.020637317393884, 28.26712057005716, 350.50633447335275, 61.396605531145745, 119.84755280747379, 96.94771686563318, 147.30699143032018, 261.3817688267489, 1529.5835334222877, 776.1869003817026, 223.81042493138725, 376.32081588463325, 369.4977846775486, 117.91885174498877, 92.31315890704724, 140.18033487125822, 1857.939623839488, 77.09579262806717, 223.46280712767754, 2134.0652617215956, 267.4264448510676, 2348.7358399389477, 1230.1291510045417, 3738.870236854303, 1432.990873011147, 2302.9897005045673, 2056.1477472584497, 2082.9178918284606, 1542.2873196460466, 727.1326545741608, 920.1040477074274, 736.042984301079, 3085.476930556214, 652.8095479128127, 1112.2643603538802, 2107.059825083274, 1677.0264099459548, 3260.677848176391, 2119.8744770249004, 25.237563187884746, 20.896958013064587, 19.161582769603115, 18.29389512793484, 13.955457001974384, 13.955457004414196, 13.955457008677284, 13.955457013481842, 13.087769380832352, 12.220081763051297, 11.352394126976778, 11.352394132385891, 11.352423756962919, 10.484706500499284, 10.484706503182347, 9.617018886625477, 7.881643625572487, 7.881643632022557, 7.881643633259844, 7.883341976399087, 53.50152838886583, 8.764962507451544, 7.013956001521054, 7.013956003114861, 7.0139560053316865, 7.013956034431023, 7.013956029318712, 13.14518753099223, 88.74380516347114, 6.146268376437699, 6.146268376437699, 18.531813066184103, 99.61906390000237, 74.69203745258453, 12.327156750547246, 71.35474887024048, 127.23238844889688, 47.21061238897163, 141.10485051784784, 86.3966992560992, 33.76780878722986, 453.15419676363473, 17.56481928944331, 35.05869065294132, 163.91897907819103, 209.1962379444161, 85.23079044350057, 147.3898577907463, 824.0365693471595, 86.50593000339242, 352.18015947445684, 1108.5431854327653, 182.52324325695156, 819.6891187556034, 310.10324572371235, 998.217659445674, 465.5190561437039, 76.31020785944344, 3017.4104503461454, 500.4513162415529, 707.8158240696175, 79.70898360234274, 1525.5005898096292, 412.173034092764, 350.50633447335275, 1031.095961930772, 1192.582693407986, 810.06092203246, 1626.835007541657, 4731.537033297081, 3528.860113929718, 153.8448121089439, 61.58948077211328, 31.691919720817214, 14.607599112486369, 12.044951025802716, 11.190734989798141, 11.190734989798141, 11.190735026621939, 10.336518959270446, 16.374899343891265, 9.482302935464057, 9.482302933370702, 8.628086901383252, 8.628086910653522, 8.62808690734261, 8.628086934062866, 7.773870868867658, 7.773870868867658, 7.773870868571344, 7.773870870952204, 7.773870887002479, 7.773870888734588, 25.981256517936206, 16.402552910416876, 6.91965483895993, 6.919654838344909, 6.919654838344909, 6.919654840124039, 6.91965485179003, 6.919654862786627, 115.72383430384525, 245.79258391417974, 58.73770808050993, 22.656255222306044, 46.986171403737984, 275.1503728279866, 13.961980587930158, 23.727197242893148, 31.896311769247237, 38.14948521748743, 171.92270106635146, 155.66487137361844, 14.005372732328858, 87.56848497706117, 60.86423672272587, 53.44917956755799, 70.01109024744123, 708.7199176610751, 69.21168021205001, 465.6088613334538, 67.57556129639954, 75.49663571365117, 223.8659327494289, 43.49813304253147, 232.51832496377347, 1061.8697584093802, 315.3635206626577, 132.45818592888486, 354.127900358997, 452.0521529968054, 435.5563947954306, 1902.5432619646222, 640.4812169391544, 1857.939623839488, 2190.688328058198, 5174.45980440064, 1805.156305219856, 2227.8688959518986, 899.8824433182318, 492.3476494513677, 727.1326545741608, 2056.1477472584497, 2751.7684749093696, 1608.6219921606191, 20.237027233050696, 17.605633880629725, 17.60563387822459, 15.85137163939252, 14.974240512928574, 29.98279168620792, 14.097109408442934, 12.34284716443089, 12.342847161803958, 11.465716065882642, 10.588584925851267, 10.588584929884302, 10.588584940162098, 9.711453807935591, 9.711453814752673, 9.711453817516098, 8.834322690670726, 8.834322694628915, 7.957191582204001, 7.957191583567095, 7.9571915857977595, 7.957191591241434, 7.9571916250610375, 7.957191613961135, 15.873636163244948, 136.4611030005876, 14.964797041504102, 23.96800866112079, 39.86385577392945, 15.072656476727095, 70.06227893767947, 295.869855676487, 80.94143188511025, 26.643180301506533, 14.198778953518174, 14.140479285977039, 36.64610645131147, 32.66996061042681, 53.60689910056194, 206.66993248255864, 73.76503378890732, 93.35966150844419, 77.68754866031063, 24.1383186642403, 395.9754829499101, 122.39118096006351, 29.726644740359212, 90.3320135877029, 283.65684454257905, 58.46188090639572, 129.7957464295058, 111.57788399404117, 107.72159063038771, 157.96785565266993, 102.44270712772024, 60.01865639642878, 206.82081373146914, 413.6812914327188, 52.96170038285764, 184.15488405020645, 176.4310422630615, 162.05605737792987, 265.39912590138107, 138.49230731568662, 841.2188450108762, 810.06092203246, 730.2627353902025, 1946.1147718432978, 736.042984301079, 3528.860113929718, 1031.095961930772], \"loglift\": [30.0, 29.0, 28.0, 27.0, 26.0, 25.0, 24.0, 23.0, 22.0, 21.0, 20.0, 19.0, 18.0, 17.0, 16.0, 15.0, 14.0, 13.0, 12.0, 11.0, 10.0, 9.0, 8.0, 7.0, 6.0, 5.0, 4.0, 3.0, 2.0, 1.0, 1.989, 1.9885, 1.9849, 1.9743, 1.973, 1.9727, 1.9718, 1.9714, 1.9697, 1.9661, 1.9648, 1.9639, 1.9632, 1.9577, 1.9555, 1.953, 1.9526, 1.9519, 1.9503, 1.9503, 1.9503, 1.9473, 1.9473, 1.9473, 1.9472, 1.9438, 1.9438, 1.9438, 1.9438, 1.9399, 1.9357, 1.8582, 1.9133, 1.8888, 1.8025, 1.8682, 1.8871, 1.9132, 1.8976, 1.9156, 1.7416, 1.8626, 1.8054, 1.8312, 1.7499, 1.8588, 1.7115, 1.6781, 1.6877, 1.8709, 1.7576, 1.8405, 1.6179, 1.511, 1.5908, 1.751, 1.6798, 1.5888, 1.543, 1.6114, 1.6304, 1.7269, 1.6787, 1.478, 1.4882, 1.1276, 1.1957, 1.4793, 1.2009, 1.096, 1.319, 1.2903, 0.7496, 1.4191, 1.0586, 1.4418, 1.3328, 1.3426, 1.1613, 0.4144, 0.734, 0.8219, 0.679, 0.9131, 0.5594, 0.2784, 0.2126, 0.1809, 0.8148, 2.0513, 2.0508, 2.0455, 2.0431, 2.0419, 2.0391, 2.0386, 2.0353, 2.0342, 2.0324, 2.0324, 2.0289, 2.0282, 2.024, 2.024, 2.022, 2.022, 2.0208, 2.0208, 2.0183, 2.0183, 2.015, 2.0145, 2.0136, 2.0136, 2.0136, 2.0097, 2.0097, 2.0075, 2.0075, 1.9881, 1.9903, 1.9962, 2.0014, 1.9376, 1.9422, 1.9947, 1.8645, 1.8916, 1.8812, 1.8821, 1.9874, 1.9056, 1.8291, 1.8731, 1.8205, 1.7273, 1.6375, 1.7777, 1.6356, 1.4898, 1.9002, 1.7919, 1.8134, 1.6985, 1.2787, 1.2918, 1.3938, 1.6468, 1.1888, 0.8261, 1.3867, 1.5305, 0.8401, 0.0784, 0.5559, 0.672, 0.2502, 0.1667, 0.3266, -0.0691, 0.1881, -0.142, 0.3372, -0.4571, 2.1282, 2.1254, 2.1235, 2.1231, 2.1149, 2.1117, 2.109, 2.1065, 2.1052, 2.1004, 2.1004, 2.1, 2.0994, 2.0899, 2.0857, 2.0813, 2.0785, 2.0781, 2.0754, 2.0732, 2.0719, 2.0719, 2.0719, 2.0719, 2.068, 2.0634, 2.0634, 2.0634, 2.063, 2.0592, 2.0475, 2.0461, 2.0403, 2.0227, 2.0275, 2.0114, 2.0474, 1.9868, 1.9873, 2.0236, 2.0292, 2.0101, 1.9484, 1.8241, 1.6054, 1.9192, 1.6342, 1.8106, 1.7151, 1.4025, 1.5997, 1.3738, 1.5343, 1.4625, 1.415, 1.078, 1.5626, 1.5151, 1.3229, 1.4603, 0.924, 1.3588, 0.5342, 1.3454, 0.4516, 0.6481, 1.2129, 1.0559, 0.4444, 0.5554, 0.3927, 0.3185, -0.0291, -0.1007, 0.7721, 0.3466, 2.2028, 2.1912, 2.1803, 2.1788, 2.1782, 2.1782, 2.1782, 2.1583, 2.1583, 2.1549, 2.1531, 2.1531, 2.1531, 2.1471, 2.1471, 2.1469, 2.1398, 2.1398, 2.1398, 2.1382, 2.1311, 2.1311, 2.1311, 2.1203, 2.1203, 2.1203, 2.1203, 2.1203, 2.1203, 2.1203, 2.1181, 2.1192, 2.0989, 2.0846, 2.0888, 2.0221, 1.9469, 1.9123, 1.86, 1.8976, 1.9681, 1.6583, 1.8348, 1.5729, 1.9176, 1.7233, 2.0346, 1.904, 1.9831, 1.3845, 1.2216, 1.5177, 1.5654, 1.5032, 1.2293, 1.5726, 1.1761, 1.1672, 1.3046, 1.3752, 1.1412, 0.7927, 0.8813, 0.8521, 0.6269, 0.5391, 1.1636, 1.1298, 1.1017, 0.3658, 0.3723, 0.2364, 0.1881, 0.4303, 0.3998, 0.6481, 0.4209, 0.3249, 0.371, 0.0574, 0.2096, 2.3616, 2.359, 2.356, 2.3533, 2.3519, 2.3496, 2.3488, 2.3488, 2.3479, 2.3462, 2.3453, 2.3401, 2.3383, 2.3366, 2.3338, 2.3325, 2.3303, 2.329, 2.329, 2.329, 2.3282, 2.3275, 2.3275, 2.326, 2.3243, 2.3203, 2.3203, 2.32, 2.3185, 2.315, 2.2526, 2.2971, 2.2733, 2.2236, 2.2553, 2.2358, 2.2439, 2.238, 2.2489, 2.0985, 2.1787, 1.9339, 2.0269, 1.8733, 2.1096, 1.8869, 1.9387, 1.9476, 1.7466, 1.8491, 1.9336, 1.9871, 1.4954, 1.346, 1.1605, 1.2965, 1.7994, 1.2856, 1.5133, 1.3508, 1.2619, 1.5528, 1.5599, 1.6866, 0.5598, 1.2053, 0.8236, 0.488, 1.1286, 0.3174, 1.1587, 0.6136, 0.5024, 0.6467, 2.4959, 2.4957, 2.4936, 2.49, 2.4856, 2.4848, 2.4799, 2.4765, 2.4727, 2.4712, 2.467, 2.4645, 2.4645, 2.4617, 2.4617, 2.4617, 2.4586, 2.4586, 2.455, 2.451, 2.451, 2.451, 2.4504, 2.4481, 2.4464, 2.4464, 2.4436, 2.4415, 2.4375, 2.4347, 2.4339, 2.4277, 2.4341, 2.4194, 2.3939, 2.3994, 2.168, 2.2391, 2.296, 1.9785, 2.2284, 2.1671, 1.816, 1.5056, 1.6942, 1.3637, 1.6446, 1.0974, 1.0079, 1.7968, 1.788, 1.6603, 1.6833, 1.0428, 0.873, 1.5473, 0.713, 0.4023, 1.1686, 1.4051, 1.0522, 1.575, 1.4685, 0.2885, 0.3078, 0.5766, 0.3823, 1.2364, 0.6062, 0.7933, 1.0248, 0.8501, 0.6851, -0.2993, 0.1263, 0.7034, 0.1052, 0.1616, 0.671, 0.0278, -0.0077, 2.6458, 2.6398, 2.6264, 2.6151, 2.6145, 2.6145, 2.6145, 2.6086, 2.6086, 2.6086, 2.606, 2.5964, 2.5964, 2.5964, 2.5964, 2.5911, 2.5901, 2.5848, 2.5848, 2.5803, 2.5797, 2.5773, 2.5773, 2.5773, 2.5683, 2.5683, 2.5683, 2.5683, 2.5683, 2.5571, 2.5362, 2.4887, 2.4298, 2.4703, 2.4009, 2.365, 2.4274, 2.4945, 2.435, 2.2643, 2.325, 2.4877, 2.4161, 1.8441, 2.4851, 2.1942, 1.9961, 2.0849, 1.6994, 2.4345, 1.4989, 1.9513, 1.7583, 1.5844, 1.8061, 1.8878, 1.153, 1.5822, 1.1946, 1.9596, 0.7449, 1.2882, 1.3573, 0.8066, 1.0744, 1.3956, 0.5871, 0.9247, 0.3089, 0.5545, 0.6048, 0.8851, 0.205, -0.0457, 0.6046, 0.2303, -0.0034, 0.7268, 2.815, 2.8123, 2.811, 2.8057, 2.8011, 2.7873, 2.7844, 2.7844, 2.777, 2.7704, 2.7665, 2.7567, 2.7567, 2.7567, 2.7567, 2.7506, 2.7506, 2.7506, 2.7506, 2.7506, 2.7449, 2.7393, 2.7343, 2.7343, 2.7343, 2.7343, 2.7343, 2.7254, 2.7234, 2.7234, 2.6868, 2.7197, 2.6796, 2.5667, 2.6312, 2.3997, 2.0993, 2.5758, 2.3583, 2.2369, 2.09, 2.2125, 2.3439, 2.5573, 2.3894, 2.2258, 1.9298, 2.1644, 1.9702, 1.961, 2.0495, 1.7755, 2.2093, 1.95, 1.987, 1.4918, 2.0647, 1.776, 1.2658, 1.6054, 1.2171, 1.3556, 1.0196, 1.6421, 1.1338, 1.1835, 1.143, 0.4984, 0.9795, 0.6509, 0.1246, 0.6933, 1.1686, 0.2803, -0.1525, 0.117, -0.0201, 0.3503, 2.9566, 2.9433, 2.9372, 2.9358, 2.9329, 2.9294, 2.9294, 2.9275, 2.9253, 2.9204, 2.9204, 2.9174, 2.9174, 2.917, 2.9142, 2.9105, 2.9105, 2.9063, 2.9063, 2.9063, 2.9014, 2.8958, 2.8958, 2.8909, 2.8893, 2.8814, 2.8814, 2.872, 2.872, 2.872, 2.871, 2.8518, 2.8538, 2.7541, 2.6991, 2.6739, 2.6013, 2.3996, 2.0918, 1.982, 1.5579, 2.7232, 1.6272, 2.1527, 2.4515, 2.4675, 2.5077, 2.0033, 1.9725, 0.7984, 1.5464, 2.2625, 1.8504, 0.4811, 1.8136, 1.7482, 0.632, 0.4094, 2.0028, 0.7039, 1.0835, 0.3736, 1.1428, 0.5936, 0.9754, 0.9929, 1.0104, 0.3702, 1.1967, 0.4575, 1.0504, 0.3756, 0.2418, 0.7756, 0.1349, -0.241, -0.0549, 0.69, 0.3548, 0.4175, -0.0046, 0.1691, 3.2347, 3.2274, 3.2273, 3.2225, 3.2216, 3.2187, 3.2187, 3.2176, 3.2164, 3.2137, 3.2088, 3.2088, 3.2048, 3.2048, 3.2025, 3.2025, 3.2023, 3.2011, 3.1999, 3.197, 3.1938, 3.1812, 3.1756, 3.1715, 3.1692, 3.1692, 3.1692, 3.1675, 3.1614, 3.1614, 3.15, 3.1545, 3.1179, 3.1198, 3.0174, 3.0679, 3.0705, 2.9896, 2.7283, 3.0005, 3.0676, 2.2764, 2.3633, 1.9194, 2.4339, 3.0286, 2.1716, 1.3662, 2.0028, 1.251, 0.9959, 0.9517, 1.839, 1.0782, 0.9569, 0.6356, 1.4932, 0.473, 1.6465, 0.6818, 0.7928, 1.0283, 0.2885, 0.486, 0.9472, 1.9041, 1.584, 1.3182, 0.2301, 0.4566, 0.4755, 0.5709, 3.4119, 3.3798, 3.3735, 3.3698, 3.3698, 3.3606, 3.3415, 3.3404, 3.3386, 3.3308, 3.3308, 3.3308, 3.3308, 3.3308, 3.3308, 3.3306, 3.3222, 3.319, 3.319, 3.319, 3.319, 3.319, 3.3189, 3.3107, 3.3053, 3.304, 3.304, 3.304, 3.304, 3.2995, 3.298, 3.2985, 3.2777, 3.2693, 3.2249, 3.0419, 3.288, 3.1755, 3.274, 3.275, 3.0792, 2.7199, 3.0924, 2.9721, 3.2575, 3.1139, 3.1559, 2.8316, 2.7586, 2.9411, 2.6085, 2.8486, 2.4388, 1.8352, 2.3175, 2.4318, 1.6944, 2.3121, 1.6323, 1.088, 1.952, 1.883, 1.9049, 1.7043, 2.2676, 0.8018, 0.8461, 1.5617, 1.4155, 0.2855, 0.551, 0.5408, 0.9239, 0.7853, 1.9698, 0.4136, -0.1571, 0.5484, 0.6442, 0.1458, -0.2189, 3.6617, 3.6572, 3.6366, 3.6315, 3.6257, 3.6191, 3.6191, 3.6171, 3.6148, 3.6124, 3.6124, 3.6067, 3.6067, 3.6067, 3.6034, 3.6034, 3.5903, 3.5778, 3.5778, 3.5778, 3.5778, 3.5697, 3.5697, 3.56, 3.56, 3.56, 3.548, 3.548, 3.548, 3.548, 3.5464, 3.5338, 3.5071, 3.1345, 3.4127, 3.1303, 3.4414, 3.2961, 3.3388, 2.5864, 3.0864, 2.8162, 2.8673, 2.6905, 2.4754, 1.697, 1.9706, 2.4843, 2.2407, 2.1981, 2.6947, 2.7887, 2.5751, 1.0661, 2.8058, 2.1718, 0.7893, 2.0439, 0.6525, 1.0035, 0.2644, 0.8755, 0.5478, 0.6203, 0.5913, 0.7562, 1.2675, 1.0865, 1.2279, 0.0049, 1.2916, 0.8191, 0.262, 0.4539, -0.1742, 0.2136, 3.8789, 3.8721, 3.8681, 3.8658, 3.8499, 3.8499, 3.8499, 3.8499, 3.8454, 3.8403, 3.8343, 3.8343, 3.8343, 3.8273, 3.8273, 3.819, 3.7965, 3.7965, 3.7965, 3.7943, 3.793, 3.7925, 3.7808, 3.7808, 3.7808, 3.7808, 3.7808, 3.7673, 3.7657, 3.7603, 3.7603, 3.7479, 3.6403, 3.6473, 3.7517, 3.6162, 3.5688, 3.6411, 3.4831, 3.514, 3.5968, 3.1979, 3.6791, 3.5254, 3.1475, 3.0641, 3.2806, 3.0959, 2.5161, 3.2131, 2.7289, 2.1374, 2.7764, 2.0459, 2.4779, 1.9049, 2.2267, 3.0131, 0.9033, 1.8514, 1.5397, 2.9607, 0.8807, 1.7714, 1.8721, 0.9924, 0.8516, 1.1728, 0.5437, -0.494, -0.2373, 3.9336, 3.9249, 3.9111, 3.877, 3.8632, 3.8571, 3.8571, 3.8571, 3.85, 3.85, 3.8416, 3.8416, 3.8313, 3.8313, 3.8313, 3.8313, 3.8187, 3.8187, 3.8187, 3.8187, 3.8187, 3.8187, 3.8157, 3.8084, 3.8028, 3.8028, 3.8028, 3.8028, 3.8028, 3.8028, 3.754, 3.7075, 3.7381, 3.7554, 3.7016, 3.5935, 3.7524, 3.6554, 3.6043, 3.5734, 3.2945, 3.247, 3.7065, 3.2245, 3.2527, 3.2751, 3.1758, 2.3691, 3.1647, 2.4749, 3.164, 3.0844, 2.6005, 3.2455, 2.3953, 1.5842, 2.1913, 2.6137, 1.9969, 1.7979, 1.7915, 0.7644, 1.5103, 0.7071, 0.5703, -0.2498, 0.5457, 0.3433, 1.0749, 1.5644, 1.2161, 0.2748, 0.0168, 0.4799, 3.9684, 3.9616, 3.9616, 3.9557, 3.9523, 3.9491, 3.9484, 3.9388, 3.9388, 3.9329, 3.926, 3.926, 3.926, 3.9178, 3.9178, 3.9178, 3.9078, 3.9078, 3.8955, 3.8955, 3.8955, 3.8955, 3.8955, 3.8955, 3.8929, 3.8902, 3.8886, 3.886, 3.881, 3.8807, 3.8766, 3.8584, 3.835, 3.8585, 3.863, 3.8618, 3.7528, 3.7122, 3.6175, 3.3375, 3.4967, 3.421, 3.4403, 3.7218, 2.9645, 3.2691, 3.6593, 3.2705, 2.7963, 3.3386, 3.0083, 3.0661, 3.0429, 2.8605, 3.0438, 3.283, 2.628, 2.2561, 3.3211, 2.5684, 2.5746, 2.605, 2.1476, 2.6264, 1.2239, 1.2145, 1.1866, 0.3198, 1.1249, -0.3515, 0.7953], \"logprob\": [30.0, 29.0, 28.0, 27.0, 26.0, 25.0, 24.0, 23.0, 22.0, 21.0, 20.0, 19.0, 18.0, 17.0, 16.0, 15.0, 14.0, 13.0, 12.0, 11.0, 10.0, 9.0, 8.0, 7.0, 6.0, 5.0, 4.0, 3.0, 2.0, 1.0, -7.2535, -7.2943, -7.134, -8.0733, -7.9373, -8.1357, -8.1684, -7.5267, -8.2373, -8.3503, -8.1443, -8.2436, -8.4335, -8.5728, -8.6239, -8.6778, -8.5316, -7.9876, -8.7347, -8.7347, -8.7347, -8.7951, -8.7951, -8.7951, -8.7952, -8.8594, -8.8594, -8.8594, -8.8594, -8.9281, -8.238, -5.4223, -7.4879, -6.8152, -4.7041, -6.6302, -7.2445, -7.9018, -7.5673, -8.0216, -4.778, -7.0721, -6.3361, -6.8449, -5.7855, -7.2573, -5.3677, -5.0814, -5.4672, -7.4313, -6.2896, -7.1753, -5.4723, -4.7732, -5.3892, -6.5902, -6.1349, -5.533, -5.3062, -5.7443, -5.8694, -6.4624, -6.2783, -5.3131, -5.6227, -4.5174, -4.7955, -5.8203, -5.1795, -4.918, -5.546, -5.4844, -4.3145, -5.7906, -5.0758, -5.8651, -5.6845, -5.7362, -5.6568, -5.0609, -5.3326, -5.4103, -5.3253, -5.4774, -5.2967, -5.338, -5.3179, -5.4835, -5.6047, -5.2801, -5.72, -6.8183, -7.0822, -7.1927, -7.4091, -7.4257, -7.6442, -7.08, -7.7981, -7.7981, -7.952, -7.9801, -8.1339, -8.1339, -8.2028, -8.2028, -8.239, -8.239, -8.3158, -8.3158, -8.3191, -8.3997, -8.4433, -8.4433, -8.4433, -8.5383, -8.5383, -8.5894, -8.5894, -3.9977, -5.3334, -7.6268, -7.953, -5.656, -5.9096, -7.7517, -3.8017, -4.9064, -4.9163, -5.5595, -7.7564, -6.6995, -5.7178, -6.3781, -6.2606, -5.5519, -4.8422, -6.0244, -4.9152, -4.2459, -7.0472, -6.3232, -6.4716, -6.2136, -4.6435, -4.8057, -5.3052, -6.1324, -4.9922, -4.238, -5.6969, -6.1795, -5.469, -4.9351, -5.4484, -5.7185, -5.5168, -5.4783, -5.5738, -5.4075, -5.6152, -5.5383, -5.6541, -5.56, -4.6988, -6.1366, -6.4966, -6.5324, -7.3645, -7.5667, -7.6749, -7.8206, -7.8746, -5.5724, -8.0565, -5.9829, -8.0903, -8.3659, -7.7696, -8.5659, -8.6228, -8.6233, -8.6832, -7.6499, -8.7474, -8.7474, -8.7474, -8.7474, -8.8161, -8.8899, -8.8899, -8.8899, -8.8902, -8.0074, -5.0764, -6.7428, -6.3733, -4.8632, -5.6159, -6.2576, -7.8803, -6.2974, -6.4189, -7.3747, -7.7758, -7.5067, -6.9077, -5.5668, -3.9474, -6.7723, -4.9592, -6.2396, -5.8156, -4.3644, -5.4051, -4.6941, -5.4765, -5.1965, -5.028, -4.025, -5.8416, -5.7096, -5.4219, -5.7939, -4.7311, -5.6404, -4.5299, -5.7822, -4.9402, -5.2638, -5.7899, -5.6934, -5.3271, -5.436, -5.5437, -5.5874, -5.5583, -5.576, -5.709, -5.6674, -7.5771, -8.0415, -8.3408, -8.1677, -8.3919, -8.3919, -8.3919, -8.7698, -8.7698, -8.3665, -8.8494, -8.8494, -8.8494, -8.9359, -8.9359, -7.1862, -9.0306, -9.0306, -9.0306, -8.2922, -9.1352, -9.1352, -9.1352, -9.2521, -9.2521, -9.2521, -9.2521, -9.2521, -9.2521, -9.2521, -7.1724, -7.7862, -6.4496, -6.8009, -7.5699, -6.9723, -6.2401, -5.8179, -5.24, -5.9949, -6.9919, -3.8709, -5.9797, -4.0823, -7.0756, -5.6708, -8.0683, -7.2872, -7.8055, -4.6833, -3.8813, -5.4434, -5.8233, -5.622, -4.6437, -6.3052, -5.2441, -5.2757, -5.6945, -5.9402, -5.3745, -4.6036, -4.8903, -5.0598, -4.7649, -4.7993, -5.8832, -5.8417, -5.8437, -5.187, -5.3946, -5.2941, -5.2871, -5.492, -5.5006, -5.6343, -5.5931, -5.5743, -5.6204, -5.607, -5.7067, -5.506, -6.1421, -6.5722, -6.8534, -6.9727, -7.1408, -6.363, -7.1921, -7.2461, -7.3432, -7.3849, -6.4402, -7.708, -7.7685, -7.8667, -7.1251, -7.9756, -8.0148, -8.0148, -8.0148, -7.978, -8.0555, -8.0555, -8.0979, -8.1422, -8.2372, -8.2372, -7.5212, -6.4304, -8.3428, -3.542, -6.8195, -6.4153, -4.9917, -6.0496, -5.853, -6.3046, -6.3946, -6.899, -5.4186, -6.5869, -4.7066, -5.476, -4.6421, -6.2776, -5.1285, -5.5393, -5.6741, -4.949, -5.4419, -5.7617, -5.9522, -4.3276, -4.0458, -3.853, -4.4751, -5.686, -4.7521, -5.2326, -5.0462, -4.9192, -5.423, -5.4531, -5.6891, -4.5042, -5.3719, -5.1128, -4.9872, -5.3814, -5.021, -5.4059, -5.2856, -5.4034, -5.4935, -7.1548, -6.3964, -7.2798, -7.4486, -7.6201, -7.6518, -7.7903, -7.9071, -7.9518, -5.1732, -8.14, -8.1938, -8.1938, -8.2508, -8.2508, -7.4267, -8.3112, -8.3112, -8.3754, -8.2068, -8.4441, -8.4441, -7.1805, -7.3033, -8.5178, -8.5178, -7.794, -6.1301, -7.9508, -8.684, -3.7183, -7.3487, -7.8721, -7.2727, -6.9487, -7.2126, -4.7283, -6.5888, -7.1144, -5.0804, -7.3622, -7.1779, -6.116, -5.1459, -5.8667, -5.01, -5.79, -4.5191, -4.3883, -6.3519, -6.3949, -6.1496, -6.2339, -5.2532, -5.0275, -6.1813, -5.0903, -4.7007, -5.7913, -6.0977, -5.7105, -6.3318, -6.2578, -5.2407, -5.3566, -5.593, -5.4907, -6.0872, -5.7935, -5.8818, -5.9949, -5.9495, -5.9121, -5.6377, -5.7856, -5.9225, -5.7953, -5.8298, -5.9233, -5.8781, -5.9069, -7.0, -7.2938, -7.7523, -6.9919, -8.0391, -8.0391, -8.0391, -8.1564, -8.1564, -8.1564, -7.5251, -8.3631, -8.3631, -8.3631, -8.3631, -8.4427, -6.0803, -8.5292, -8.5292, -6.8291, -4.747, -8.6239, -8.6239, -8.6239, -8.7285, -8.7285, -8.7285, -8.7285, -8.7286, -8.8454, -7.8436, -6.8219, -5.7017, -6.7267, -5.6667, -5.2088, -6.3549, -7.342, -6.7456, -5.1761, -5.8787, -7.6492, -7.128, -4.0564, -7.7116, -6.1961, -5.2139, -5.7257, -4.5981, -7.5061, -4.4245, -5.9022, -5.3099, -4.9313, -5.5989, -5.8773, -4.3775, -5.3706, -4.7216, -6.2871, -4.5936, -5.4443, -5.5789, -5.0926, -5.3809, -5.8067, -5.2162, -5.5254, -5.0829, -5.3185, -5.3995, -5.5522, -5.4594, -5.442, -5.6194, -5.6259, -5.6198, -5.6539, -6.5014, -6.6894, -6.7793, -7.0603, -7.2523, -6.9634, -7.7517, -7.7517, -7.9137, -8.0383, -8.107, -8.2604, -8.2604, -8.2604, -8.2604, -8.3469, -8.3469, -8.3469, -8.3469, -8.3469, -7.8395, -8.4456, -8.5462, -8.5462, -8.5462, -8.5462, -8.5462, -7.9137, -8.6631, -8.6631, -5.0325, -8.4663, -7.0725, -3.8073, -7.4498, -5.314, -2.9141, -7.1968, -5.6388, -4.9082, -4.349, -5.2129, -6.1003, -7.3697, -6.7011, -6.085, -5.0327, -5.994, -5.3765, -5.3621, -5.8017, -4.9872, -6.3689, -5.7294, -5.9835, -4.8987, -6.1939, -5.6047, -4.9664, -5.4762, -5.0178, -5.2091, -4.8796, -5.752, -5.24, -5.4424, -5.4267, -4.9768, -5.3144, -5.1524, -5.2673, -5.4885, -5.6583, -5.4913, -5.4909, -5.5474, -5.5506, -5.5732, -6.527, -7.1727, -7.3037, -7.4106, -7.4904, -7.5772, -7.5772, -7.6235, -7.6722, -7.7772, -7.7772, -7.8341, -7.8341, -7.5888, -7.8945, -7.9587, -7.9587, -8.0274, -8.0274, -8.0274, -8.1012, -8.1808, -8.1808, -7.7052, -8.2673, -8.362, -8.362, -8.4666, -8.4666, -8.4666, -7.7242, -7.2712, -7.7896, -5.6695, -6.0633, -6.5454, -6.4863, -6.2599, -5.3948, -5.5941, -4.677, -7.5772, -5.2335, -6.3628, -6.9932, -7.0967, -7.1892, -6.3621, -6.5401, -5.1135, -6.0918, -6.9679, -6.4729, -4.9151, -6.4548, -6.428, -5.3593, -5.2071, -6.7066, -5.5283, -5.8764, -5.2908, -5.96, -5.577, -5.8806, -5.9263, -5.9521, -5.5302, -6.0895, -5.712, -6.0397, -5.691, -5.6312, -5.9223, -5.7213, -5.7163, -5.7905, -5.985, -5.9411, -5.9562, -5.9104, -5.9711, -6.3013, -6.6653, -6.6895, -6.8815, -6.9122, -7.0104, -7.0104, -7.0454, -7.0817, -7.1585, -7.2859, -7.2859, -7.3809, -7.3809, -7.4321, -7.4321, -6.6911, -7.3848, -7.4859, -7.5429, -7.6033, -7.8099, -7.8896, -7.1992, -7.9761, -7.9761, -7.9761, -7.2423, -8.0708, -8.0708, -6.6703, -7.3828, -6.1893, -6.6398, -6.0339, -6.7049, -7.0138, -6.5875, -5.6608, -6.7539, -7.0371, -4.8286, -5.3903, -4.3897, -5.6007, -7.0454, -5.6094, -4.625, -5.5447, -4.6494, -4.4003, -4.6647, -5.9949, -5.4015, -5.3391, -5.1001, -5.7612, -5.0575, -5.8831, -5.3095, -5.3777, -5.6613, -5.3759, -5.5183, -5.7278, -6.1279, -6.0012, -5.9048, -5.6261, -5.7129, -5.8069, -5.8738, -6.3516, -7.3301, -7.4474, -7.5117, -7.5117, -7.6541, -7.177, -7.915, -7.1337, -8.0196, -8.0196, -8.0196, -8.0196, -8.0196, -8.0196, -8.0198, -3.4405, -8.1365, -8.1365, -8.1365, -8.1365, -8.1365, -8.1365, -7.4018, -7.5117, -8.2688, -8.2688, -8.2688, -8.2688, -7.3524, -6.2765, -7.1308, -6.3635, -6.3547, -6.3421, -3.777, -7.6541, -6.4852, -7.6708, -7.7349, -6.1653, -4.1988, -6.7259, -6.3281, -7.6842, -7.1585, -7.3507, -6.1345, -5.8986, -6.683, -5.6972, -6.4526, -5.3127, -4.2623, -5.4216, -5.8095, -4.821, -5.7941, -4.8204, -4.2504, -5.5615, -5.5424, -5.6026, -5.4409, -6.0455, -4.8626, -4.9769, -5.541, -5.5204, -5.1898, -5.3652, -5.3826, -5.6704, -5.6342, -5.9703, -5.6242, -5.5534, -5.749, -5.8058, -5.7534, -5.7494, -2.9509, -4.7936, -6.0444, -6.5727, -6.7482, -6.9148, -6.9148, -6.9612, -7.0098, -7.0609, -7.0609, -7.1717, -7.1717, -7.1717, -7.2321, -7.2321, -7.4388, -7.6049, -7.6049, -7.6049, -7.6049, -7.6996, -7.6996, -7.8043, -7.8043, -7.8043, -7.9211, -7.9211, -7.9211, -7.9211, -7.1721, -6.9617, -6.7937, -3.8862, -6.8395, -5.2738, -7.1723, -6.7129, -6.8844, -5.1191, -6.3612, -5.9625, -6.1235, -5.8819, -5.5236, -4.5352, -4.9399, -5.6699, -5.3938, -5.4547, -6.1003, -6.2511, -6.0469, -4.9716, -6.4141, -5.9839, -5.1099, -5.9322, -5.1508, -5.4465, -5.074, -5.4219, -5.2752, -5.316, -5.3321, -5.4677, -5.7084, -5.654, -5.7357, -5.5256, -5.7921, -5.7317, -5.6499, -5.6862, -5.6495, -5.6922, -6.4577, -6.6533, -6.744, -6.7926, -7.0792, -7.0792, -7.0792, -7.0792, -7.1478, -7.2216, -7.3012, -7.3012, -7.3012, -7.3877, -7.3877, -7.4824, -7.7039, -7.7039, -7.7039, -7.7059, -5.7923, -7.6017, -7.8363, -7.8363, -7.8363, -7.8363, -7.8363, -7.2216, -5.3135, -7.9888, -7.9888, -6.8976, -5.3233, -5.6043, -7.3014, -5.6811, -5.1501, -6.0693, -5.1324, -5.592, -6.4487, -4.2508, -7.02, -6.4826, -5.3181, -5.1576, -5.839, -5.476, -4.3347, -5.8917, -4.9719, -4.4168, -5.5817, -4.8102, -5.3501, -4.7541, -5.1951, -6.217, -4.6495, -5.4981, -5.4631, -6.2259, -5.3542, -5.7721, -5.8334, -5.6342, -5.6295, -5.695, -5.6269, -5.5969, -5.6335, -4.5954, -5.5196, -6.1978, -7.0064, -7.2131, -7.2927, -7.2927, -7.2927, -7.3793, -6.9192, -7.474, -7.474, -7.5786, -7.5786, -7.5786, -7.5786, -7.6955, -7.6955, -7.6955, -7.6955, -7.6955, -7.6955, -6.4919, -6.9591, -7.8278, -7.8278, -7.8278, -7.8278, -7.8278, -7.8278, -5.0598, -4.353, -5.7538, -6.6891, -6.0135, -4.3542, -7.1762, -6.7429, -6.4982, -6.35, -5.1234, -5.2702, -7.219, -5.8681, -6.2036, -6.3111, -6.1405, -4.6324, -6.1631, -4.9467, -6.1877, -6.1564, -5.5534, -6.5468, -5.7207, -5.013, -5.6199, -6.065, -5.6984, -5.6533, -5.6968, -5.2496, -5.5924, -5.3306, -5.3027, -5.2633, -5.5208, -5.5129, -5.6877, -5.8014, -5.7597, -5.6615, -5.6281, -5.7019, -6.589, -6.7352, -6.7352, -6.846, -6.9063, -6.2153, -6.9706, -7.113, -7.113, -7.1926, -7.2792, -7.2792, -7.2792, -7.3739, -7.3739, -7.3739, -7.4785, -7.4785, -7.5954, -7.5954, -7.5954, -7.5954, -7.5954, -7.5954, -6.9074, -4.7587, -6.9706, -6.5023, -5.9985, -6.9714, -5.439, -4.0166, -5.3362, -6.4239, -7.0488, -7.0542, -6.2109, -6.3663, -5.9658, -4.8963, -5.7674, -5.6075, -5.772, -6.6593, -4.6191, -5.4886, -6.5136, -5.7909, -5.1209, -6.158, -5.6907, -5.7841, -5.8425, -5.6421, -5.8919, -6.1873, -5.6051, -5.2837, -6.2743, -5.7808, -5.8175, -5.872, -5.8362, -6.0078, -5.6062, -5.6533, -5.785, -5.6716, -5.8387, -5.7477, -5.8313]}, \"token.table\": {\"Topic\": [1, 2, 3, 4, 5, 6, 7, 8, 9, 10, 11, 12, 13, 14, 2, 6, 7, 12, 13, 1, 2, 3, 4, 5, 6, 7, 8, 9, 10, 11, 12, 13, 14, 15, 1, 2, 3, 7, 10, 11, 12, 13, 12, 1, 2, 3, 4, 5, 6, 7, 8, 9, 10, 11, 12, 13, 14, 15, 1, 2, 3, 4, 5, 6, 7, 8, 9, 10, 11, 12, 13, 14, 15, 4, 1, 2, 3, 4, 5, 6, 7, 8, 9, 11, 12, 13, 14, 15, 3, 12, 15, 3, 4, 6, 8, 9, 12, 13, 15, 1, 1, 3, 4, 14, 3, 4, 7, 3, 15, 8, 6, 3, 4, 6, 8, 9, 12, 14, 13, 8, 13, 1, 2, 3, 5, 8, 13, 14, 15, 12, 1, 2, 3, 4, 5, 6, 7, 8, 9, 10, 11, 12, 13, 14, 6, 1, 6, 8, 9, 10, 14, 15, 2, 3, 4, 5, 6, 7, 9, 10, 11, 13, 14, 15, 2, 3, 4, 6, 7, 8, 9, 10, 11, 12, 13, 14, 15, 1, 2, 3, 4, 5, 7, 8, 13, 8, 1, 2, 4, 5, 6, 7, 8, 10, 11, 14, 1, 7, 9, 12, 1, 2, 7, 9, 10, 13, 14, 1, 2, 5, 12, 2, 3, 4, 6, 8, 9, 11, 12, 14, 1, 2, 3, 4, 5, 6, 7, 8, 9, 10, 11, 12, 13, 14, 7, 11, 1, 2, 3, 4, 5, 6, 7, 8, 10, 11, 12, 13, 14, 1, 2, 3, 5, 6, 7, 8, 9, 11, 12, 14, 1, 2, 3, 4, 5, 6, 7, 8, 9, 10, 11, 12, 13, 2, 3, 6, 8, 10, 1, 2, 4, 6, 8, 10, 13, 15, 10, 1, 3, 4, 5, 7, 9, 11, 12, 1, 2, 3, 4, 6, 8, 1, 5, 7, 9, 1, 2, 3, 4, 5, 6, 7, 8, 10, 12, 13, 14, 7, 9, 1, 2, 3, 5, 7, 8, 9, 12, 14, 2, 14, 14, 2, 3, 4, 7, 8, 9, 12, 1, 2, 3, 4, 5, 6, 7, 8, 9, 10, 11, 12, 13, 14, 15, 1, 2, 6, 9, 10, 14, 7, 15, 13, 1, 2, 3, 4, 5, 7, 8, 11, 6, 7, 10, 7, 10, 15, 5, 4, 5, 10, 13, 3, 4, 9, 12, 13, 3, 12, 6, 7, 2, 3, 5, 6, 7, 8, 9, 11, 12, 13, 15, 8, 1, 14, 6, 9, 13, 14, 2, 11, 4, 6, 15, 3, 7, 11, 14, 1, 5, 5, 10, 3, 3, 7, 13, 15, 13, 15, 12, 1, 2, 3, 4, 6, 7, 9, 11, 12, 13, 15, 12, 3, 12, 5, 8, 14, 6, 7, 9, 15, 10, 13, 14, 15, 15, 13, 7, 2, 4, 6, 9, 10, 11, 11, 13, 1, 2, 3, 4, 6, 8, 9, 13, 14, 15, 3, 9, 13, 15, 13, 2, 1, 4, 5, 6, 7, 8, 9, 10, 11, 14, 1, 5, 13, 14, 2, 3, 4, 5, 6, 7, 8, 9, 10, 12, 13, 1, 2, 3, 4, 5, 6, 7, 8, 9, 10, 11, 12, 14, 15, 1, 4, 5, 6, 8, 10, 11, 12, 14, 7, 8, 7, 6, 1, 2, 3, 4, 5, 6, 7, 8, 9, 10, 12, 13, 15, 1, 2, 4, 5, 6, 7, 8, 9, 10, 11, 12, 14, 15, 1, 2, 3, 4, 6, 13, 15, 12, 6, 9, 10, 2, 6, 8, 9, 10, 11, 14, 15, 15, 11, 1, 14, 8, 5, 10, 9, 1, 15, 4, 11, 7, 13, 1, 2, 3, 4, 5, 6, 7, 8, 9, 10, 11, 12, 13, 14, 15, 1, 2, 3, 4, 5, 6, 7, 9, 10, 12, 13, 14, 15, 12, 4, 9, 10, 12, 6, 1, 2, 4, 5, 6, 8, 9, 10, 11, 13, 14, 15, 8, 1, 5, 8, 9, 11, 14, 4, 8, 4, 1, 3, 4, 6, 7, 8, 12, 13, 1, 4, 6, 9, 10, 15, 14, 15, 1, 2, 3, 4, 5, 6, 7, 9, 10, 11, 12, 13, 14, 15, 1, 2, 2, 1, 2, 3, 4, 5, 6, 7, 8, 9, 10, 11, 13, 8, 13, 15, 2, 3, 4, 5, 6, 7, 12, 13, 14, 5, 13, 5, 1, 2, 3, 5, 8, 10, 12, 13, 2, 3, 4, 6, 7, 9, 11, 4, 7, 11, 2, 13, 1, 2, 6, 7, 9, 10, 11, 15, 1, 4, 3, 15, 13, 1, 2, 3, 4, 5, 6, 7, 8, 9, 10, 11, 12, 13, 14, 1, 2, 6, 7, 8, 9, 10, 11, 13, 14, 15, 2, 6, 1, 2, 4, 5, 6, 7, 8, 9, 10, 11, 12, 14, 1, 2, 3, 4, 9, 12, 13, 14, 15, 1, 2, 3, 4, 5, 6, 7, 8, 9, 10, 11, 12, 1, 2, 3, 4, 5, 6, 7, 8, 9, 10, 11, 12, 13, 14, 15, 1, 2, 3, 4, 5, 6, 7, 8, 9, 10, 11, 12, 13, 15, 1, 4, 7, 10, 11, 1, 2, 3, 4, 5, 6, 7, 8, 9, 11, 12, 13, 14, 1, 3, 6, 7, 8, 9, 13, 14, 15, 2, 13, 14, 1, 2, 4, 5, 8, 9, 10, 14, 1, 2, 3, 4, 5, 6, 7, 8, 9, 10, 11, 12, 13, 14, 15, 11, 1, 2, 9, 1, 2, 4, 5, 7, 8, 11, 12, 14, 1, 2, 5, 6, 8, 9, 11, 12, 14, 10, 3, 3, 6, 9, 1, 2, 3, 4, 6, 7, 8, 9, 10, 11, 14, 8, 1, 3, 4, 9, 1, 2, 3, 4, 5, 6, 7, 8, 9, 12, 13, 15, 1, 2, 5, 6, 7, 8, 9, 10, 11, 12, 13, 14, 15, 1, 5, 8, 11, 13, 14, 5, 11, 5, 9, 10, 1, 2, 3, 4, 5, 6, 7, 8, 9, 10, 11, 12, 13, 14, 15, 1, 2, 3, 4, 5, 7, 11, 12, 1, 3, 4, 7, 8, 12, 13, 15, 7, 12, 1, 2, 3, 4, 5, 6, 7, 8, 9, 10, 11, 12, 14, 15, 12, 2, 3, 4, 5, 6, 7, 9, 11, 12, 14, 1, 3, 4, 9, 11, 13, 14, 1, 2, 5, 9, 14, 2, 1, 3, 5, 6, 9, 10, 14, 1, 3, 9, 2, 1, 2, 3, 4, 5, 6, 7, 8, 9, 10, 12, 13, 14, 1, 2, 3, 4, 5, 6, 7, 8, 9, 10, 12, 13, 14, 15, 2, 3, 4, 5, 6, 7, 9, 11, 12, 15, 1, 2, 4, 6, 7, 9, 12, 13, 14, 1, 2, 3, 4, 5, 6, 7, 8, 9, 10, 11, 12, 13, 14, 15, 1, 2, 3, 4, 5, 6, 8, 9, 10, 12, 13, 14, 15, 2, 3, 10, 12, 15, 2, 4, 7, 9, 15, 12, 10, 2, 3, 4, 6, 7, 10, 14, 15, 3, 4, 9, 10, 13, 15, 1, 2, 3, 4, 5, 6, 7, 8, 9, 12, 13, 9, 11, 12, 14, 8, 10, 11, 9, 1, 2, 3, 5, 7, 8, 10, 13, 14, 1, 5, 5, 1, 2, 5, 9, 13, 5, 5, 1, 2, 3, 4, 5, 6, 7, 8, 9, 10, 11, 12, 13, 14, 15, 2, 3, 4, 6, 7, 8, 9, 10, 11, 12, 15, 3, 13, 3, 6, 8, 1, 2, 3, 4, 5, 6, 7, 9, 10, 11, 12, 13, 14, 4, 5, 7, 11, 12, 4, 7, 12, 5, 2, 2, 1, 2, 3, 5, 6, 7, 8, 9, 10, 11, 12, 13, 14, 7, 8, 10, 12, 1, 2, 3, 4, 5, 6, 7, 8, 9, 10, 11, 12, 14, 1, 2, 3, 4, 5, 6, 7, 8, 9, 10, 11, 12, 13, 15, 3, 4, 5, 6, 7, 9, 12, 13, 3, 1, 5, 7, 9, 10, 11, 12, 1, 2, 3, 4, 5, 7, 8, 11, 12, 14, 1, 2, 3, 4, 5, 7, 8, 11, 12, 1, 2, 3, 4, 5, 6, 7, 8, 9, 10, 11, 12, 13, 14, 15, 1, 2, 4, 6, 7, 8, 9, 11, 12, 14, 1, 2, 3, 4, 5, 6, 7, 8, 9, 10, 11, 12, 13, 14, 1, 2, 3, 4, 5, 6, 7, 8, 9, 10, 11, 12, 13, 14, 15, 1, 2, 3, 4, 5, 6, 7, 8, 9, 10, 11, 12, 13, 14, 5, 7, 11, 1, 13, 1, 2, 3, 4, 5, 6, 7, 8, 9, 10, 11, 12, 13, 14, 15, 2, 3, 4, 6, 7, 8, 9, 11, 12, 13, 2, 3, 4, 1, 4, 5, 8, 11, 12, 1, 2, 3, 4, 5, 6, 7, 8, 9, 10, 11, 12, 13, 14, 3, 4, 5, 9, 10, 1, 2, 3, 4, 5, 8, 9, 11, 12, 13, 1, 5, 11, 14, 11, 1, 2, 3, 4, 5, 6, 7, 8, 9, 10, 14, 13, 11, 12, 1, 2, 3, 4, 5, 6, 7, 8, 9, 10, 11, 12, 13, 14, 15, 3, 4, 12, 4, 6, 8, 12, 12, 12, 5, 2, 4, 6, 7, 8, 9, 10, 11, 13, 15, 1, 2, 3, 7, 9, 11, 12, 13, 14, 14, 5, 14, 1, 13, 2, 11, 1, 2, 3, 4, 5, 7, 8, 9, 10, 11, 12, 13, 14, 7, 1, 2, 3, 4, 5, 6, 7, 8, 9, 10, 11, 13, 14, 5, 6, 9, 2, 3, 4, 6, 7, 8, 12, 6, 7, 3, 5, 6, 8, 9, 11, 3, 5, 6, 13, 1, 2, 3, 4, 5, 6, 8, 9, 11, 12, 1, 2, 3, 4, 5, 6, 7, 8, 9, 10, 11, 15, 2, 6, 7, 8, 9, 10, 11, 12, 13, 14, 15, 1, 3, 4, 5, 7, 8, 12, 14, 1, 2, 3, 4, 5, 6, 7, 8, 9, 10, 11, 12, 13, 14, 15, 9, 10, 13, 15, 1, 2, 5, 6, 7, 8, 9, 10, 11, 12, 14, 10, 1, 2, 3, 4, 5, 6, 7, 9, 10, 12, 15, 9, 3, 4, 3, 4, 13, 14, 2, 3, 4, 5, 6, 7, 9, 11, 12, 13, 15, 1, 2, 3, 4, 5, 6, 7, 8, 9, 11, 12, 13, 14, 15, 1, 2, 3, 4, 5, 6, 7, 8, 9, 10, 11, 12, 13, 14, 15, 1, 2, 3, 4, 5, 6, 7, 8, 9, 14, 7, 9, 8, 10, 1, 2, 3, 4, 5, 6, 7, 8, 9, 10, 11, 12, 13, 14, 15, 2, 9, 10, 1, 2, 3, 4, 5, 6, 8, 9, 11, 12, 14, 5, 1, 8, 1, 2, 3, 4, 5, 6, 7, 8, 9, 10, 11, 12, 13, 14, 15, 7, 11, 12, 6, 4, 6, 9, 11, 12, 14, 15, 1, 2, 3, 4, 5, 6, 7, 8, 9, 10, 12, 14, 15, 1, 2, 6, 7, 9, 11, 14, 2, 3, 4, 6, 10, 12, 13, 15, 2, 3, 4, 5, 6, 7, 9, 10, 13, 3, 5, 14, 5, 4, 1, 2, 3, 4, 5, 6, 7, 8, 9, 10, 11, 12, 13, 14, 15, 1, 5, 6, 7, 8, 11, 1, 2, 3, 4, 5, 6, 7, 8, 9, 10, 11, 12, 13, 14, 15, 1, 2, 3, 4, 5, 7, 8, 9, 10, 11, 12, 14, 6, 7, 1, 2, 3, 4, 6, 7, 8, 9, 10, 11, 13, 14, 15, 1, 2, 3, 4, 5, 6, 7, 8, 9, 10, 11, 13, 14, 15, 13, 8, 5, 9, 13, 5, 1, 2, 8, 10, 14, 15, 1, 2, 3, 4, 5, 6, 7, 8, 9, 10, 11, 12, 13, 14, 1, 7, 9, 12, 13, 1, 2, 7, 8, 10, 11, 12, 13, 2, 5, 7, 1, 2, 3, 4, 5, 6, 8, 9, 12, 13, 14, 15, 4, 10, 4, 10, 1, 2, 3, 4, 5, 6, 7, 8, 9, 10, 12, 14, 3, 3, 4, 12, 1, 2, 3, 4, 7, 8, 9, 12, 13, 14, 15, 3, 1, 2, 3, 4, 5, 6, 7, 8, 9, 10, 11, 12, 13, 14, 15, 13, 1, 2, 3, 4, 6, 7, 8, 9, 10, 12, 13, 15, 14, 7, 2, 11, 11, 4, 8, 4, 6, 8, 1, 2, 3, 4, 5, 6, 7, 8, 9, 10, 11, 12, 13, 14, 15, 6, 14, 1, 1, 8, 9, 8, 2, 7, 7, 2, 7, 2, 9, 4, 13, 2, 4, 5, 11, 2, 15, 13, 1, 2, 3, 4, 5, 6, 7, 8, 9, 10, 12, 13, 15, 9, 11, 3, 2, 6, 6, 14, 4, 6, 13, 1, 2, 3, 4, 5, 6, 7, 8, 9, 10, 11, 12, 13, 14, 15, 2, 1, 3, 14, 15, 14, 1, 2, 3, 4, 5, 6, 7, 8, 11, 12, 14, 1, 2, 3, 4, 5, 7, 8, 11, 12, 14, 1, 3, 4, 6, 7, 8, 9, 10, 11, 14, 1, 2, 6, 8, 1, 2, 3, 4, 5, 6, 7, 8, 9, 10, 11, 12, 13, 14, 15, 3, 4, 6, 13, 15, 3, 8, 9, 12, 1, 2, 4, 5, 6, 9, 13, 14, 15, 2, 3, 4, 5, 6, 7, 9, 10, 11, 12, 13, 15, 7, 9, 1, 2, 3, 4, 5, 6, 7, 8, 9, 10, 11, 12, 13, 14, 15, 2, 3, 4, 5, 7, 9, 10, 12, 13, 14, 15, 1, 5, 6, 7, 10, 11, 12, 14, 7, 2, 3, 4, 5, 6, 7, 9, 10, 12, 13, 15, 1, 2, 3, 4, 5, 6, 7, 8, 9, 11, 12, 1, 2, 4, 5, 6, 7, 8, 9, 11, 12, 14, 1, 2, 3, 4, 5, 7, 8, 9, 10, 11, 12, 13, 14, 15, 5, 4, 2, 3, 9, 10, 12, 13, 14, 3, 10, 12, 3, 3, 1, 14, 2, 3, 4, 6, 8, 9, 10, 11, 13, 14, 1, 2, 3, 4, 5, 6, 7, 8, 9, 10, 11, 12, 13, 15, 2, 11, 4, 12, 14, 2, 3, 4, 5, 6, 7, 12, 13, 4, 6, 9, 1, 2, 3, 4, 5, 6, 7, 8, 9, 10, 11, 12, 13, 14, 15, 6, 12, 14, 11, 12, 12, 7, 2, 3, 4, 6, 9, 10, 15, 14, 4, 1, 5, 9, 10, 11, 12, 6, 11, 7, 11, 3, 9, 9, 3, 6, 7, 8, 9, 12, 2, 12, 1, 2, 8, 9, 15, 6, 5, 4, 6, 10, 14, 9, 9, 11, 14, 12, 1, 8, 5, 10, 1, 2, 3, 5, 6, 7, 8, 9, 10, 11, 13, 14, 8, 1, 2, 3, 4, 5, 6, 7, 8, 9, 10, 11, 12, 14, 2, 3, 9, 15, 4, 2, 3, 4, 5, 6, 8, 9, 10, 11, 12, 13, 15, 1, 6, 7, 8, 9, 12, 14, 2, 3, 4, 5, 6, 7, 9, 10, 12, 13, 2, 3, 4, 6, 7, 12, 6, 1, 2, 3, 4, 5, 6, 7, 8, 9, 10, 11, 12, 13, 14, 1, 2, 3, 4, 5, 6, 7, 8, 9, 10, 12, 2, 3, 7, 1, 2, 3, 4, 5, 6, 7, 8, 9, 10, 11, 12, 13, 14, 15, 1, 2, 4, 5, 7, 8, 9, 11, 12, 14, 7, 6, 7, 9, 10, 12, 15, 9, 8, 1, 3, 5, 6, 8, 9, 10, 11, 12, 15, 11, 1, 2, 3, 4, 5, 6, 7, 8, 9, 10, 11, 12, 13, 14, 15, 4, 4, 11, 14, 13, 15, 1, 2, 6, 1, 2, 3, 4, 5, 6, 7, 8, 9, 10, 11, 12, 13, 4, 6, 12, 14, 7, 8, 9, 11, 12, 2, 1, 2, 3, 4, 5, 6, 7, 9, 10, 12, 13, 14, 1, 2, 3, 4, 5, 6, 7, 8, 9, 10, 11, 12, 13, 13, 2, 3, 4, 5, 6, 7, 8, 9, 10, 11, 12, 13, 14, 15, 1, 2, 3, 4, 6, 7, 8, 9, 12, 15, 2, 3, 4, 5, 12, 13, 4, 10, 3, 4, 13, 10, 1, 2, 4, 8, 9, 10, 14, 11, 1, 4, 10, 11, 1, 2, 3, 4, 5, 6, 7, 8, 9, 10, 12, 13, 14, 15, 2, 3, 4, 6, 7, 8, 9, 10, 11, 14, 15, 2, 5, 10, 11, 14, 15, 4, 2, 3, 4, 9, 13, 15, 1, 2, 3, 4, 5, 6, 7, 8, 9, 10, 11, 13, 14, 15, 2, 4, 6, 8, 14, 1, 2, 3, 4, 5, 6, 7, 9, 10, 11, 12, 14, 1, 1, 5, 7, 4, 7, 1, 2, 3, 4, 5, 6, 7, 8, 11, 12, 14, 1, 2, 3, 4, 5, 6, 7, 8, 9, 10, 12, 13, 14, 15, 11, 11, 15, 12, 1, 2, 3, 6, 10, 12, 13, 4, 11, 12, 15, 14, 1, 2, 3, 4, 5, 6, 7, 8, 9, 12, 13, 14, 10, 1, 2, 3, 4, 5, 6, 7, 8, 9, 10, 12, 13, 1, 2, 5, 7, 9, 10, 11, 12, 14, 12, 7, 6, 1, 2, 3, 4, 5, 6, 7, 8, 9, 10, 11, 12, 13, 14, 15, 8, 2, 4, 15, 12, 9, 14, 2, 3, 4, 6, 8, 9, 10, 15, 6, 2, 3, 6, 10, 13, 1, 2, 1, 2, 3, 4, 5, 6, 7, 8, 9, 11, 12, 13, 14, 15, 2, 5, 6, 8, 14, 2, 9, 10, 2, 12, 2, 10, 7, 3, 10, 5, 10, 15, 15, 15, 3, 4, 6, 7, 8, 9, 12, 14, 8, 1, 2, 3, 4, 5, 6, 7, 8, 9, 10, 11, 12, 13, 14, 15, 2, 9, 9, 1, 2, 3, 5, 6, 7, 8, 9, 11, 12, 13, 14, 15, 1, 1, 2, 3, 4, 5, 6, 7, 8, 9, 10, 11, 12, 13, 14, 15, 2, 3, 4, 6, 7, 8, 9, 10, 12, 13, 15, 8, 7, 7, 1, 2, 3, 4, 5, 6, 7, 8, 9, 11, 12, 13, 14, 15, 7, 2, 1, 7, 5, 9, 1, 2, 3, 4, 5, 6, 7, 8, 9, 10, 11, 12, 13, 14, 15, 1, 2, 3, 4, 5, 6, 7, 8, 9, 12, 13, 14, 11, 15, 1, 5, 8, 10, 4, 9, 13, 14, 15, 12, 1, 3, 5, 7, 11, 12, 14, 1, 1, 2, 3, 4, 5, 6, 7, 8, 9, 11, 12, 13, 1, 9, 2, 6, 7, 8, 14, 1, 1, 2, 4, 5, 6, 8, 10, 11, 14, 15, 10, 1, 2, 4, 5, 9, 11, 1, 5, 6, 8, 9, 11, 12, 13, 14, 2, 3, 4, 6, 9, 12, 15, 13, 3, 4, 6, 8, 9, 13, 14, 3, 5, 6, 8, 13, 2, 15, 1, 2, 3, 4, 5, 6, 7, 8, 9, 10, 11, 12, 13, 14, 15, 1, 2, 3, 4, 5, 6, 7, 8, 9, 10, 11, 12, 13, 15, 2, 1, 2, 3, 4, 5, 6, 7, 8, 9, 10, 11, 12, 13, 14, 10, 1, 2, 3, 4, 5, 6, 7, 8, 9, 12, 14, 1, 2, 3, 4, 5, 6, 7, 8, 9, 10, 11, 13, 14, 15, 1, 2, 3, 4, 6, 7, 8, 9, 10, 11, 12, 13, 15, 4, 12, 6, 1, 2, 3, 4, 6, 7, 8, 9, 13, 15, 11, 12, 1, 13, 11, 4, 2, 4, 5, 8, 10, 12, 14, 15, 1, 2, 3, 4, 5, 6, 7, 8, 9, 10, 11, 12, 13, 14, 15, 4, 6, 9, 15, 2, 3, 4, 5, 6, 8, 10, 11, 15, 1, 4, 9, 10, 11, 1, 2, 3, 4, 5, 6, 7, 8, 9, 12, 13, 14, 5, 7, 9, 2, 3, 4, 5, 6, 8, 9, 10, 12, 14, 1, 5, 6, 8, 11, 12, 14, 1, 2, 3, 4, 5, 6, 7, 8, 9, 10, 11, 12, 13, 14, 15, 5, 9, 14, 2, 3, 4, 9, 10, 11, 13, 15, 8, 10, 6, 1, 2, 3, 8, 9, 10, 11, 12, 13, 14, 15, 6, 8, 10, 1, 2, 3, 4, 5, 6, 7, 8, 9, 10, 11, 12, 13, 14, 15, 1, 2, 3, 4, 5, 6, 7, 8, 9, 10, 11, 12, 14, 1, 2, 3, 4, 7, 9, 10, 14, 1, 2, 3, 6, 8, 9, 10, 9, 12, 2, 4, 5, 6, 7, 8, 9, 11, 12, 14, 1, 2, 3, 4, 5, 6, 8, 9, 10, 11, 13, 14, 15, 1, 2, 3, 4, 5, 6, 7, 9, 10, 11, 12, 4, 6, 9, 10, 2, 4, 8, 11, 15, 1, 2, 3, 4, 5, 6, 7, 8, 9, 10, 11, 12, 13, 14, 15, 1, 2, 3, 4, 5, 6, 7, 8, 9, 10, 11, 12, 13, 14, 15, 11, 10, 1, 2, 3, 4, 5, 6, 7, 8, 9, 10, 12, 13, 14, 15, 1, 2, 3, 4, 5, 7, 8, 9, 10, 11, 3, 4, 5, 8, 9, 12, 14, 1, 1, 2, 3, 4, 5, 6, 7, 8, 9, 10, 11, 12, 13, 14, 15, 1, 2, 3, 4, 5, 6, 7, 9, 10, 11, 12, 13, 9, 1, 2, 3, 5, 7, 8, 9, 10, 11, 12, 13, 15, 9, 1, 2, 4, 6, 7, 9, 10, 12, 13, 14, 10, 1, 2, 3, 4, 5, 6, 7, 8, 9, 10, 11, 12, 13, 14, 3, 4, 5, 11, 1, 2, 3, 4, 5, 6, 8, 9, 11, 13, 15, 10, 1, 2, 5, 10, 11, 3, 4, 10, 2, 9, 15, 13, 5, 15, 1, 2, 5, 6, 8, 12, 1, 2, 3, 4, 5, 6, 7, 8, 9, 10, 11, 12, 13, 14, 15, 5, 5, 10, 7, 8, 9, 1, 2, 6, 7, 8, 9, 11, 12, 15, 1, 6, 7, 11, 3, 1, 2, 3, 6, 7, 8, 9, 10, 11, 12, 14, 8, 1, 2, 3, 4, 5, 6, 7, 8, 9, 10, 11, 12, 13, 14, 15, 12, 2, 3, 6, 7, 8, 4, 2, 3, 4, 1, 1, 5, 11, 14, 1, 2, 5, 1, 2, 3, 4, 5, 6, 7, 8, 9, 10, 11, 12, 13, 14, 15, 1, 2, 3, 4, 5, 6, 7, 8, 9, 10, 11, 12, 13, 14, 15, 1, 2, 3, 4, 5, 6, 7, 8, 9, 11, 12, 14, 1, 2, 3, 4, 5, 6, 7, 8, 9, 10, 11, 12, 13, 14, 1, 2, 3, 4, 5, 7, 8, 9, 11, 12, 14, 1, 2, 3, 4, 6, 7, 8, 9, 10, 11, 12, 13, 14, 15, 2, 3, 7, 9, 10, 11, 13, 15, 15, 5, 1, 2, 3, 4, 5, 6, 7, 8, 9, 10, 11, 12, 13, 14, 15, 15, 1, 2, 3, 4, 5, 6, 7, 8, 9, 10, 11, 12, 13, 14, 15, 2, 3, 4, 6, 9, 13, 14, 2, 3, 4, 6, 7, 13, 15, 1, 2, 3, 4, 5, 6, 7, 8, 9, 10, 11, 12, 13, 14, 15, 9, 1, 2, 7, 11, 12, 14, 2, 3, 4, 6, 8, 9, 12, 13, 1, 2, 3, 4, 5, 6, 7, 8, 9, 10, 11, 12, 13, 14, 15, 8, 10, 1, 2, 3, 4, 5, 6, 7, 8, 9, 10, 11, 12, 13, 14, 15, 13, 1, 2, 3, 4, 6, 9, 11, 2, 8, 9, 10, 11, 13, 15, 4, 1, 15, 15, 3, 6, 8, 9, 6, 8, 9, 10, 11, 14, 1, 13, 1, 2, 4, 13, 8, 6, 1, 2, 3, 4, 6, 8, 9, 10, 11, 12, 13, 1, 2, 3, 4, 7, 8, 10, 11, 15, 2, 2, 1, 2, 3, 4, 5, 6, 7, 8, 9, 10, 11, 12, 14, 3, 11, 13, 14, 1, 2, 4, 6, 7, 8, 9, 10, 11, 14, 15, 1, 2, 4, 5, 7, 8, 9, 10, 11, 14, 15, 4, 7, 10, 1, 2, 3, 4, 5, 6, 7, 8, 9, 10, 13, 14, 15, 1, 1, 2, 3, 4, 5, 6, 7, 8, 9, 10, 11, 12, 13, 14, 15, 2, 3, 4, 7, 12, 13, 15, 3, 1, 2, 3, 4, 5, 6, 7, 8, 9, 10, 11, 12, 13, 14, 15, 2, 2, 3, 10, 13, 9, 13, 1, 2, 5, 7, 8, 9, 10, 11, 12, 14, 5, 1, 2, 3, 4, 5, 6, 7, 8, 9, 10, 11, 12, 13, 14, 15, 1, 3, 15, 1, 2, 14, 1, 2, 3, 4, 5, 6, 7, 8, 9, 10, 11, 12, 13, 14, 15, 2, 5, 6, 8, 9, 10, 11, 13, 7, 2, 3, 13, 15, 1, 2, 3, 4, 6, 7, 8, 9, 13, 14, 15, 8, 4, 6, 11, 1, 2, 3, 4, 6, 7, 8, 9, 10, 11, 13, 15, 4, 1, 2, 3, 4, 5, 6, 7, 8, 9, 10, 11, 12, 13, 14, 3, 10, 12, 8, 4, 6, 8, 11, 15, 5, 4, 1, 2, 3, 4, 6, 7, 8, 9, 13, 15, 2, 4, 5, 6, 12, 1, 2, 5, 6, 7, 9, 11, 3, 1, 2, 3, 4, 5, 6, 7, 8, 9, 10, 11, 12, 13, 15, 1, 2, 3, 4, 5, 6, 7, 8, 9, 10, 11, 12, 13, 14, 1, 2, 3, 4, 6, 7, 8, 9, 10, 11, 13, 14, 15, 10, 1, 2, 3, 4, 5, 6, 7, 8, 9, 10, 11, 12, 13, 14, 15, 9, 1, 2, 3, 4, 5, 6, 7, 8, 9, 10, 11, 13, 14, 15, 8, 1, 2, 3, 4, 5, 6, 7, 8, 9, 10, 11, 12, 13, 14, 15, 7, 8, 10, 2, 6, 8, 9, 10, 12, 15, 13, 1, 2, 3, 4, 5, 6, 7, 8, 9, 10, 11, 12, 13, 15, 2, 3, 4, 5, 6, 7, 8, 9, 11, 13, 14, 15, 1, 2, 4, 5, 6, 7, 8, 9, 13, 14, 15, 3, 6, 7, 8, 9, 10, 9, 11, 7, 5, 11, 1, 2, 3, 4, 5, 6, 7, 8, 9, 10, 11, 12, 13, 14, 15, 1, 2, 3, 4, 5, 6, 9, 13, 15, 14, 1, 2, 3, 4, 5, 6, 7, 8, 9, 10, 11, 12, 13, 14, 15, 1, 2, 4, 9, 10, 11, 14, 15, 2, 4, 6, 7, 8, 9, 10, 11, 13, 15, 6, 11, 15, 2, 3, 4, 6, 7, 10, 13, 1, 2, 3, 4, 5, 6, 7, 8, 11, 14, 1, 2, 3, 4, 5, 6, 7, 8, 9, 10, 11, 12, 13, 14, 15, 1, 2, 3, 4, 5, 6, 7, 8, 9, 10, 11, 12, 13, 10, 1, 2, 3, 4, 5, 6, 7, 9, 10, 11, 12, 13, 1, 2, 3, 4, 5, 6, 7, 8, 9, 13, 15, 1, 5, 6, 1, 2, 5, 6, 8, 9, 11, 14, 1, 1, 2, 3, 6, 7, 10, 11, 12, 1, 2, 3, 4, 5, 6, 7, 8, 9, 10, 11, 12, 13, 14, 15, 1, 2, 4, 5, 6, 7, 8, 9, 10, 11, 15, 11, 1, 2, 4, 6, 7, 8, 9, 11, 12, 14, 5, 1, 7, 8, 1, 2, 3, 4, 5, 6, 7, 8, 9, 10, 11, 12, 13, 14, 15, 2, 3, 4, 5, 6, 7, 8, 9, 12, 14, 10, 2, 2, 1, 2, 3, 4, 5, 6, 7, 8, 9, 10, 11, 12, 13, 14, 14, 4, 5, 11, 13, 14, 14, 1, 3, 4, 6, 9, 10, 11, 12, 11, 1, 5, 9, 10, 11, 10, 8, 1, 2, 3, 4, 5, 6, 7, 8, 9, 10, 11, 12, 13, 14, 15, 4, 7, 9, 2, 3, 4, 6, 10, 8, 3, 2, 6, 10, 11, 12, 1, 2, 3, 4, 5, 6, 7, 8, 9, 10, 11, 12, 15, 2, 3, 4, 5, 6, 7, 8, 9, 10, 11, 12, 13, 14, 15, 3, 4, 6, 7, 9, 9, 2, 1, 2, 3, 5, 8, 9, 11, 13, 14, 4, 4, 2, 4, 11, 3, 6, 10, 13, 1, 2, 3, 4, 5, 6, 7, 8, 9, 10, 11, 12, 13, 14, 15, 1, 2, 3, 4, 5, 6, 7, 8, 9, 10, 11, 12, 13, 14, 15, 15, 14, 14, 15, 1, 2, 3, 4, 5, 6, 7, 8, 9, 10, 11, 12, 13, 14, 15, 1, 3, 5, 7, 8, 12, 13, 14, 14, 2, 10, 3, 8, 1, 2, 3, 4, 5, 6, 7, 8, 9, 10, 11, 12, 13, 15, 2, 3, 5, 6, 7, 8, 9, 11, 15, 1, 2, 3, 4, 5, 6, 8, 9, 11, 12, 13, 15, 1, 2, 3, 4, 5, 6, 7, 8, 10, 1, 2, 3, 4, 6, 7, 8, 10, 11, 14, 1, 2, 3, 4, 6, 7, 8, 9, 13, 1, 2, 3, 4, 7, 9, 11, 13, 15, 3, 4, 8, 12, 14, 1, 2, 3, 4, 5, 6, 7, 9, 10, 11, 12, 1, 3, 1, 4, 6, 8, 11, 13, 1, 2, 3, 4, 5, 7, 8, 9, 10, 11, 12, 13, 14, 15, 15, 10, 11, 8, 1, 4, 6, 8, 9, 10, 12, 13, 1, 2, 1, 2, 3, 4, 5, 6, 7, 8, 9, 10, 11, 12, 13, 1, 9, 14, 1, 5, 6, 7, 8, 11, 14, 14, 3, 14, 1, 2, 3, 4, 5, 6, 7, 8, 9, 10, 11, 12, 13, 14, 2, 1, 2, 3, 4, 5, 6, 7, 8, 9, 11, 12, 7, 1, 2, 3, 4, 5, 6, 7, 8, 9, 10, 11, 12, 13, 14, 9, 1, 2, 3, 4, 5, 6, 7, 9, 11, 13, 1, 2, 3, 4, 9, 12, 13, 1, 2, 3, 4, 5, 6, 7, 8, 9, 10, 11, 12, 13, 14, 12, 4, 1, 2, 3, 4, 5, 6, 7, 8, 9, 10, 11, 12, 14, 15, 9, 3, 1, 2, 4, 9, 10, 13, 3, 5, 9, 2, 3, 4, 6, 8, 9, 10, 12, 15, 10, 14, 11, 13, 15, 13, 13, 3, 6, 8, 11, 3, 4, 6, 13, 3, 13, 1, 2, 3, 4, 5, 6, 7, 8, 9, 10, 11, 12, 13, 14, 15, 6, 14, 2, 3, 4, 6, 8, 9, 10, 11, 12, 13, 14, 15, 4, 6, 7, 13, 12, 11, 9, 8, 8, 9, 14, 1, 2, 3, 4, 5, 6, 7, 8, 9, 11, 12, 13, 14, 15, 2, 4, 8, 9, 12, 2, 4, 6, 7, 8, 9, 10, 11, 12, 13, 15, 15, 9, 9, 2, 5, 6, 7, 8, 11, 14, 9, 2, 4, 6, 10, 11, 15, 15, 1, 2, 3, 4, 5, 6, 7, 8, 11, 12, 1, 5, 6, 7, 13, 2, 4, 6, 9, 10, 15, 1, 2, 3, 4, 5, 6, 7, 8, 9, 10, 11, 12, 13, 14, 15, 5, 11, 1, 2, 3, 4, 5, 6, 7, 8, 9, 10, 11, 12, 14, 15, 8, 4, 2, 4, 5, 6, 8, 9, 10, 12, 1, 4, 6, 4, 9, 13, 11], \"Freq\": [0.12000275078373679, 0.050770394562350184, 0.1412340066916287, 0.07938643513385665, 0.3138533482036193, 0.04800110031349472, 0.03784702140102468, 0.1458494971063878, 0.01938505974198825, 0.0027692942488554647, 0.003692392331807286, 0.004615490414759107, 0.01846196165903643, 0.015692667410180966, 0.07606279485317038, 0.012677132475528399, 0.8240136109093459, 0.03803139742658519, 0.03803139742658519, 0.04126030477862942, 0.018203075637630628, 0.13348922134262461, 0.04975507340952372, 0.17232244936956995, 0.05703630366457597, 0.03276553614773513, 0.1480516818527291, 0.050968611785365756, 0.009708307006736335, 0.008494768630894293, 0.010921845382578376, 0.2463482902959345, 0.013348922134262461, 0.004854153503368167, 0.06892905163180205, 0.8369956269575963, 0.029541022127915165, 0.024617518439929303, 0.009847007375971722, 0.004923503687985861, 0.004923503687985861, 0.024617518439929303, 0.9918065587426941, 0.18533024891758507, 0.03270533804427972, 0.1617097269967164, 0.11265171993029681, 0.014535705797457653, 0.052691933515783995, 0.09811601413283916, 0.07631245543665267, 0.036339264493644136, 0.17261150634480962, 0.02180355869618648, 0.023620521920868685, 0.009084816123411034, 0.0018169632246822066, 0.0018169632246822066, 0.1649200751052042, 0.12012696828650676, 0.02137852825437832, 0.08042398724266131, 0.006108150929822378, 0.17917242727478974, 0.09976646518709884, 0.04886520743857902, 0.10180251549703963, 0.09976646518709884, 0.03257680495905268, 0.00814420123976317, 0.004072100619881585, 0.02443260371928951, 0.00814420123976317, 0.8930295886392247, 0.08278531382487966, 0.057093319879227354, 0.12132330474335813, 0.0713666498490342, 0.44675522805495405, 0.0713666498490342, 0.04710198890036257, 0.028546659939613677, 0.004281998990942052, 0.008563997981884104, 0.015700662966787522, 0.008563997981884104, 0.03711065792149778, 0.001427332996980684, 0.9590303898350819, 0.06299753816428512, 0.8819655342999917, 0.13679372388052846, 0.6776061206175015, 0.028631244533133864, 0.006362498785140859, 0.07953123481426073, 0.04135624210341558, 0.006362498785140859, 0.019087496355422576, 0.9477105261026968, 0.4478756994998746, 0.011633135051944795, 0.011633135051944795, 0.5234910773375158, 0.0019533140187215302, 0.07617924673013968, 0.9200109028178408, 0.9438951311685486, 0.04290432414402494, 0.9389743480992582, 0.9551836910805359, 0.03889017235954966, 0.025926781573033107, 0.09074373550561587, 0.012963390786516553, 0.7389132748314435, 0.03889017235954966, 0.03889017235954966, 0.9315352401172666, 0.10792252182003156, 0.8633801745602525, 0.07824767102800638, 0.8423131645955981, 0.012657711489824561, 0.011507010445295056, 0.009205608356236045, 0.0069042062671770335, 0.03682243342494418, 0.0011507010445295056, 0.9233987379548124, 0.17709917878369688, 0.11269947740780711, 0.07930703965734574, 0.07990333318860399, 0.17948435290872986, 0.056051591938274435, 0.06261082078211506, 0.061418233719598585, 0.06082194018834035, 0.011329577093906536, 0.03637390540675256, 0.04054796012556023, 0.025640621844104265, 0.017292512406488922, 0.9165264589605033, 0.037418722161526655, 0.018709361080763327, 0.33676849945373993, 0.018709361080763327, 0.018709361080763327, 0.5238621102613732, 0.037418722161526655, 0.024175516524617646, 0.33362212803972346, 0.019340413219694114, 0.004835103304923529, 0.019340413219694114, 0.009670206609847057, 0.2369200619412529, 0.06769144626892941, 0.009670206609847057, 0.009670206609847057, 0.009670206609847057, 0.2514253718560235, 0.10202286269533971, 0.1757060413086406, 0.05667936816407761, 0.11902667314456299, 0.005667936816407761, 0.017003810449223285, 0.11335873632815523, 0.08501905224611642, 0.022671747265631044, 0.011335873632815522, 0.028339684082038807, 0.017003810449223285, 0.23805334628912597, 0.07498266735768394, 0.0520712967761694, 0.7373295623505587, 0.02499422245256131, 0.07498266735768394, 0.012497111226280656, 0.01666281496837421, 0.006248555613140328, 0.9327365336437339, 0.044449731192654794, 0.0007533852744517762, 0.0474632722904619, 0.0022601558233553286, 0.07684529799408117, 0.014314320214583749, 0.7707131357641671, 0.0007533852744517762, 0.0158210907634873, 0.025615099331360393, 0.7590040806277241, 0.08330532592255507, 0.10181762057201175, 0.05090881028600588, 0.0350971171630604, 0.0175485585815302, 0.0350971171630604, 0.8072336947503892, 0.08189327338047427, 0.011699039054353468, 0.005849519527176734, 0.18614949882767626, 0.02256357561547591, 0.7728024648300499, 0.01692268171160693, 0.013881569363183558, 0.007242557928617508, 0.015088662351286475, 0.9234261358987322, 0.004224825458360213, 0.009053197410771886, 0.000603546494051459, 0.004828371952411672, 0.021124127291801065, 0.13373919993325178, 0.0629616363322127, 0.11767312721399752, 0.033869018164914416, 0.419454763427017, 0.00694749090562347, 0.0629616363322127, 0.017368727264058675, 0.007815927268826404, 0.004776399997616135, 0.07555396359865524, 0.04429025452334962, 0.0004342181816014669, 0.012158109084841072, 0.9505469774362456, 0.8735965082372394, 0.06083488328962967, 0.1060265108762117, 0.026072092838412716, 0.03128651140609526, 0.2120530217524234, 0.0017381395225608478, 0.5127511591554501, 0.0052144185676825435, 0.012166976657925934, 0.0052144185676825435, 0.026072092838412716, 0.0017381395225608478, 0.8935963552989454, 0.7263818837786766, 0.08437769357025032, 0.018342976863097896, 0.014674381490478316, 0.018342976863097896, 0.007337190745239158, 0.033017358353576214, 0.014674381490478316, 0.029348762980956632, 0.011005786117858737, 0.05136033521667411, 0.40527070945720384, 0.04029007053083313, 0.07939513898723, 0.046215080903014474, 0.0023700041488725373, 0.07110012446617611, 0.04740008297745074, 0.19078533398423925, 0.02488504356316164, 0.022515039414289104, 0.05214009127519582, 0.0023700041488725373, 0.014220024893235223, 0.9386541424637108, 0.02726381326658081, 0.013631906633290405, 0.017526737099944806, 0.001947415233327201, 0.011070272434800814, 0.08856217947840651, 0.05535136217400407, 0.08856217947840651, 0.011070272434800814, 0.19926490382641465, 0.06642163460880489, 0.476021714696435, 0.8894492443503789, 0.008754255402526334, 0.24293058742010576, 0.004377127701263167, 0.010942819253157918, 0.6718891021438962, 0.05471409626578959, 0.0021885638506315835, 0.0021885638506315835, 0.0037182375404752176, 0.37182375404752177, 0.01487295016190087, 0.007436475080950435, 0.17103892686186, 0.4313155546951253, 0.8566905891896095, 0.03172928108109665, 0.03172928108109665, 0.0740349891892255, 0.38415849586305306, 0.14740965538931106, 0.03126871477955083, 0.004466959254221547, 0.022334796271107737, 0.017867837016886188, 0.03126871477955083, 0.03126871477955083, 0.022334796271107737, 0.004466959254221547, 0.035735674033772376, 0.26355059599907127, 0.9603034541873, 0.9328649651949029, 0.06794597054826032, 0.03019820913256014, 0.01509910456628007, 0.30953164360874147, 0.022648656849420107, 0.03774776141570018, 0.022648656849420107, 0.22648656849420107, 0.26423432990990126, 0.1324137625818398, 0.8386204963516519, 0.9904288725164868, 0.14980703262898054, 0.32814873813967166, 0.021401004661282936, 0.12127235974726996, 0.01426733644085529, 0.007133668220427645, 0.3352824063600993, 0.1104848746139414, 0.10789538536517715, 0.05265294805820645, 0.02157907707303543, 0.2908859589445176, 0.09667426528719873, 0.044021317228992274, 0.12429548394068407, 0.029347544819328185, 0.0034526523316856686, 0.03280019715101385, 0.05265294805820645, 0.013810609326742674, 0.015536935492585509, 0.006042141580449921, 0.12538665397657767, 0.04179555132552589, 0.08359110265105178, 0.6269332698828883, 0.08359110265105178, 0.020897775662762946, 0.07042859130870686, 0.8451430957044824, 0.8554373588085064, 0.05860027982393623, 0.004185734273138302, 0.004185734273138302, 0.02092867136569151, 0.8790041973590434, 0.004185734273138302, 0.02092867136569151, 0.004185734273138302, 0.028407011186919573, 0.8380068300141275, 0.12783155034113808, 0.13644014287419784, 0.08186408572451871, 0.7640648000955079, 0.992474119628037, 0.024295066232075335, 0.9556059384616299, 0.008098355410691779, 0.008098355410691779, 0.9034961806233544, 0.016085985411691768, 0.07238693435261297, 0.002680997568615295, 0.002680997568615295, 0.9631656991029394, 0.8607497957609841, 0.1378050505986551, 0.8268303035919307, 0.015569845729852504, 0.015569845729852504, 0.054494460054483766, 0.2646873774074926, 0.03892461432463126, 0.07006430578433627, 0.38146122038138636, 0.03892461432463126, 0.031139691459705007, 0.007784922864926252, 0.09341907437911502, 0.9165004883455092, 0.9831368017104613, 0.9004523121365644, 0.05107451580998009, 0.034049677206653396, 0.08512419301663349, 0.8171922529596815, 0.9766249605393029, 0.8490486755928174, 0.9010641236041455, 0.051489378491665454, 0.025744689245832727, 0.07771754482888174, 0.03885877241444087, 0.8548929931176992, 0.019429386207220435, 0.016714323995837152, 0.9777879537564735, 0.9682817140253651, 0.9746732389963, 0.9543027877421654, 0.8987114386213384, 0.03896511132484124, 0.060333075599754184, 0.001256939074994879, 0.06682349230841894, 0.8687054000094463, 0.9062969517953581, 0.019354532862866106, 0.19354532862866103, 0.004838633215716526, 0.03387043251001568, 0.1112885639614801, 0.06290223180431484, 0.02419316607858263, 0.029031799294299155, 0.004838633215716526, 0.004838633215716526, 0.5080564876502353, 0.9062969501703538, 0.9990290675962429, 0.8857903685116966, 0.15783233979714156, 0.7628563090195175, 0.05261077993238052, 0.8944743727380114, 0.058654057228722065, 0.014663514307180516, 0.029327028614361032, 0.7747865086517884, 0.15495730173035768, 0.0221367573900511, 0.0221367573900511, 0.9267407505730109, 0.8554373590788753, 0.972972996406203, 0.510726142785637, 0.006153327021513699, 0.0030766635107568495, 0.05845660670438014, 0.34150964969401026, 0.08306991479043493, 0.873596508044297, 0.9509634437100157, 0.005651187588604375, 0.0014127968971510937, 0.39982152189375947, 0.25289064459004573, 0.11584934556638968, 0.05086068829743937, 0.025430344148719686, 0.09324459521197218, 0.0028255937943021873, 0.049447891400288276, 0.03664047768966421, 0.007328095537932842, 0.06595285984139558, 0.8866995600898739, 0.9358409405347458, 0.948561276891072, 0.30289725111240845, 0.0031226520733237985, 0.13271271311626143, 0.006245304146647597, 0.0015613260366618992, 0.14832597348288043, 0.16081658177617564, 0.0015613260366618992, 0.15457127762952802, 0.08743425805306636, 0.19914576568528086, 0.28908256309153674, 0.006424056957589705, 0.501076442691997, 0.009134807631219754, 0.12788730683707655, 0.18726355644000495, 0.06851105723414816, 0.04567403815609877, 0.03197182670926914, 0.004567403815609877, 0.2923138441990321, 0.18726355644000495, 0.018269615262439507, 0.022837019078049386, 0.07676115559481608, 0.11982229166020071, 0.06312067149957001, 0.18561756788432876, 0.1291834081961539, 0.059911145830100355, 0.14683579937823701, 0.050817489766602976, 0.01818731212699475, 0.00989603748086479, 0.09601830961163405, 0.03343255905697564, 0.009628577008408985, 0.0005349209449116103, 0.33520397062158, 0.02618781020481094, 0.06808830653250844, 0.02095024816384875, 0.11522636490116814, 0.07856343061443283, 0.3142537224577313, 0.0419004963276975, 0.005237562040962188, 0.9729729968325568, 0.9489469932410285, 0.9729729965848133, 0.9517022396855841, 0.009545703579996302, 0.022395689168452863, 0.2995882354337301, 0.5220765573367208, 0.009912846025380775, 0.033409962529987056, 0.06902277973228095, 0.016154267596916818, 0.006608564016920517, 0.002569997117691312, 0.0011014273361534194, 0.005139994235382624, 0.0018357122269223656, 0.24520846068580715, 0.011676593365990817, 0.005838296682995408, 0.01362269226032262, 0.10314324139958554, 0.05059857125262687, 0.4203573611756694, 0.0778439557732721, 0.009730494471659013, 0.001946098894331803, 0.003892197788663606, 0.003892197788663606, 0.05449076904129048, 0.023465698130839215, 0.03519854719625882, 0.1642598869158745, 0.1525270378504549, 0.07039709439251764, 0.5279782079438823, 0.011732849065419607, 0.9432988800014876, 0.9287951606485967, 0.9392992234385242, 0.9418566943000704, 0.30217332796588403, 0.4888097952389301, 0.08443078281399702, 0.031106077878841006, 0.017774901645052004, 0.04888097952389301, 0.017774901645052004, 0.013331176233789002, 0.9055589522950308, 0.8183913068104037, 0.14324615246413955, 0.8594769147848372, 0.9899518247958404, 0.9722993923777042, 0.9658176083409132, 0.9358157575588922, 0.9589063025489312, 0.026636286181914753, 0.9193429095223947, 0.8735965086814149, 0.9797987087677326, 0.9537701412551508, 0.1672350860542592, 0.03208580139413113, 0.09139591912267654, 0.13709387868401482, 0.07843195896343164, 0.04310516752948929, 0.2207114217111444, 0.058013721712620925, 0.03240990039811225, 0.062227008764375515, 0.0259279203184898, 0.0259279203184898, 0.013612158167207145, 0.008426574103509185, 0.0035650890437923474, 0.05258220753913712, 0.06692280959526543, 0.04302180616838492, 0.01912080274150441, 0.03824160548300882, 0.04780200685376102, 0.10994461576365035, 0.13384561919053087, 0.009560401370752205, 0.014340602056128306, 0.4254378609984731, 0.014340602056128306, 0.028681204112256612, 0.9233987236476751, 0.06094222489794457, 0.06094222489794457, 0.7922489236732794, 0.06094222489794457, 0.9292466542904764, 0.20165457164548703, 0.1186203362620512, 0.00790802241747008, 0.0197700560436752, 0.12652835867952128, 0.11466632505331616, 0.04349412329608544, 0.26096473977651263, 0.01581604483494016, 0.00395401120873504, 0.02767807846114528, 0.0593101681310256, 0.9165004890642635, 0.1450997150945263, 0.1450997150945263, 0.6262198230395346, 0.01145524066535734, 0.007636827110238227, 0.06109461688190582, 0.05076875456531605, 0.9138375821756889, 0.9121755924515874, 0.10403911037829494, 0.21963812190973375, 0.05779950576571941, 0.034679703459431645, 0.05779950576571941, 0.034679703459431645, 0.011559901153143882, 0.4970757495851869, 0.030817650886367568, 0.500786826903473, 0.061635301772735136, 0.015408825443183784, 0.015408825443183784, 0.36981181063641083, 0.8670952728380773, 0.9593818595187068, 0.7245096820081025, 0.07090003004360636, 0.013293755633176193, 0.013293755633176193, 0.07090003004360636, 0.0022156259388626987, 0.02547969829692104, 0.005539064847156747, 0.011078129694313495, 0.004431251877725397, 0.008862503755450795, 0.014401568602607542, 0.02104844641919564, 0.013293755633176193, 0.13326192310482413, 0.8626956074680721, 0.977110298926438, 0.39745212755803466, 0.01987260637790173, 0.03974521275580346, 0.009171972174416185, 0.09630570783136994, 0.06267514319184393, 0.0015286620290693642, 0.2950317716103873, 0.06267514319184393, 0.006114648116277457, 0.0015286620290693642, 0.006114648116277457, 0.0569319833880109, 0.7970477674321527, 0.1138639667760218, 0.01857126656858197, 0.05951246786750131, 0.017305043847996835, 0.8939532407331048, 0.0004220742401950448, 0.0012662227205851343, 0.005909039362730626, 0.0021103712009752237, 0.0008441484803900895, 0.9744937624582941, 0.8554373558829965, 0.9606876857947487, 0.1417889800409014, 0.06853134035310234, 0.0023631496673483564, 0.7656604922208675, 0.007089449002045069, 0.004726299334696713, 0.0023631496673483564, 0.007089449002045069, 0.010002331352943261, 0.010002331352943261, 0.7701795141766311, 0.050011656764716306, 0.08001865082354609, 0.020004662705886522, 0.050011656764716306, 0.9296280700274411, 0.043576315782536304, 0.029050877188357534, 0.08112170715729776, 0.8112170715729776, 0.006394419701909711, 0.04476093791336798, 0.377270762412673, 0.012788839403819422, 0.37087634271076325, 0.06394419701909712, 0.1087051349324651, 0.006394419701909711, 0.04351567508481284, 0.9138291767810697, 0.9920276386821583, 0.9462903489514585, 0.9393796022191974, 0.41539363755432523, 0.10147020153998784, 0.038051325577495444, 0.019025662788747722, 0.05707698836624316, 0.05073510076999392, 0.019025662788747722, 0.02853849418312158, 0.03488038177937082, 0.02219660658687234, 0.02536755038499696, 0.009512831394373861, 0.00317094379812462, 0.1744019088968541, 0.3574021740109799, 0.08801695330121147, 0.20003853023002607, 0.008001541209201043, 0.016003082418402086, 0.24004623627603128, 0.02400462362760313, 0.021337443224536113, 0.02400462362760313, 0.002667180403067014, 0.02400462362760313, 0.044139366011997624, 0.9269266862519502, 0.1246846450433477, 0.03636635480430975, 0.011689185472813847, 0.13507503213029334, 0.016884379016286668, 0.05325073382059642, 0.1233858466574795, 0.0038963951576046155, 0.0012987983858682053, 0.4909457898581816, 0.0038963951576046155, 0.0012987983858682053, 0.002853015485447739, 0.042795232281716084, 0.316684718884699, 0.1397977587869392, 0.01711809291268643, 0.3395088427682809, 0.12838569684514825, 0.005706030970895478, 0.005706030970895478, 0.09280085934924331, 0.02095503275628075, 0.06585867437688235, 0.02993576108040107, 0.06585867437688235, 0.09280085934924331, 0.11076231599748396, 0.02993576108040107, 0.026942184972360964, 0.41311350290953475, 0.044903641620601606, 0.0059871522160802135, 0.03993883429977399, 0.10049126049620552, 0.11466310492515759, 0.12883494935410963, 0.10564465847036991, 0.05926407670289044, 0.09018446454787675, 0.0077300969612465785, 0.0373621353126918, 0.02576698987082193, 0.06184077568997263, 0.1842339775763768, 0.027055339364363027, 0.0077300969612465785, 0.009018446454787676, 0.0008453912485204997, 0.08115755985796796, 0.3493579334510965, 0.36753384529428723, 0.0033815649940819987, 0.12110229635056158, 0.03191351963164886, 0.01246952091567737, 0.005917738739643498, 0.0073971734245543725, 0.0021134781213012492, 0.0014794346849108745, 0.012258173103547246, 0.0033815649940819987, 0.8904305835442178, 0.007742874639514937, 0.015485749279029874, 0.02322862391854481, 0.05420012247660456, 0.2513220465924049, 0.11020538941485135, 0.0053758726543829925, 0.03897507674427669, 0.06451047185259591, 0.0026879363271914963, 0.3386799772261285, 0.01478364979955323, 0.016127617963148978, 0.06316650368900016, 0.0698863445069789, 0.0013439681635957481, 0.02284745878112772, 0.16092644696165606, 0.06896847726928117, 0.06896847726928117, 0.11494746211546862, 0.022989492423093724, 0.022989492423093724, 0.022989492423093724, 0.5057688333080619, 0.022989492423093724, 0.9442682837804414, 0.021959727529777706, 0.021959727529777706, 0.08619890692071319, 0.17006811365438007, 0.004659400374092605, 0.7128882572361686, 0.0023297001870463026, 0.0023297001870463026, 0.004659400374092605, 0.013978201122277814, 0.004495334183331371, 0.6581169244397127, 0.017981336733325484, 0.005394401019997645, 0.01258693571332784, 0.10159455254328899, 0.03776080713998352, 0.01888040356999176, 0.01258693571332784, 0.035063606629984694, 0.022476670916656855, 0.05843934438330783, 0.0008990668366662743, 0.0008990668366662743, 0.01258693571332784, 0.8490507782912377, 0.9172400371462804, 0.047037950622886175, 0.023518975311443088, 0.06816964134658647, 0.006816964134658646, 0.002272321378219549, 0.6521562355490105, 0.03181249929507368, 0.009089285512878196, 0.10679910477631879, 0.11361606891097745, 0.006816964134658646, 0.09010882638436167, 0.003604353055374467, 0.6848270805211487, 0.003604353055374467, 0.028834824442995736, 0.02523047138762127, 0.0756914141628638, 0.08650447332898721, 0.8670952726151361, 0.873256311241267, 0.9600377146788817, 0.8902156346719126, 0.034910417045957355, 0.06982083409191471, 0.1619986327359428, 0.0731606728484903, 0.02612881173160368, 0.10974100927273546, 0.010451524692641472, 0.010451524692641472, 0.5487050463636773, 0.010451524692641472, 0.005225762346320736, 0.020903049385282944, 0.02612881173160368, 0.9856381842643208, 0.9849582438334076, 0.1021265854640019, 0.8727180939651071, 0.01856847008436398, 0.03706606434967969, 0.01001785522964316, 0.5129141877577298, 0.20636781773064908, 0.0060107131377858955, 0.055098203763037375, 0.011019640752607475, 0.001001785522964316, 0.013023211798536107, 0.001001785522964316, 0.13423926007721834, 0.011019640752607475, 0.5931391670931674, 0.08174674418271217, 0.08935109247877843, 0.003802174148033124, 0.05703261222049686, 0.041823915628364364, 0.013307609518115935, 0.024714131962215308, 0.049428263924430615, 0.007604348296066248, 0.005703261222049686, 0.020911957814182182, 0.011406522444099372, 0.005877235844186328, 0.29738813371582823, 0.012929918857209921, 0.6770575692502651, 0.002350894337674531, 0.004701788675349062, 0.07256612014318962, 0.8707934417182754, 0.03142215655942661, 0.09426646967827983, 0.8483982271045184, 0.30792695508834705, 0.035303727334969726, 0.03857259097709655, 0.05295559100245459, 0.07649140922576775, 0.005230181827402923, 0.007191500012679018, 0.20986104582454226, 0.10329609109120771, 0.007191500012679018, 0.007845272741104383, 0.13990736388302819, 0.0006537727284253653, 0.005230181827402923, 0.0026150909137014613, 0.040976688657872656, 0.02868368206051086, 0.045074357523659916, 0.02868368206051086, 0.045074357523659916, 0.770361746768006, 0.01639067546314906, 0.020488344328936328, 0.04026954369852075, 0.7248517865733736, 0.056377361177929054, 0.11678167672571019, 0.028188680588964527, 0.00805390873970415, 0.00805390873970415, 0.0161078174794083, 0.15680972162918022, 0.784048608145901, 0.007651643069741623, 0.1032971814415119, 0.05356150148819135, 0.1032971814415119, 0.07651643069741622, 0.0344323938138373, 0.1759877906040573, 0.022954929209224866, 0.042084036883578924, 0.022954929209224866, 0.026780750744095676, 0.3060657227896649, 0.019129107674354055, 0.007651643069741623, 0.9135550841743927, 0.016960816446255758, 0.042402041115639395, 0.050882449338767274, 0.05936285756189515, 0.042402041115639395, 0.1272061233469182, 0.21201020557819697, 0.050882449338767274, 0.38161837004075455, 0.016960816446255758, 0.40841703957085196, 0.09934468530101805, 0.02759574591694946, 0.38082129365390255, 0.011038298366779784, 0.05519149183389892, 0.016557447550169677, 0.042145727949369306, 0.042145727949369306, 0.08429145589873861, 0.042145727949369306, 0.7586231030886474, 0.9858620147892506, 0.08570070797061025, 0.02856690265687008, 0.19996831859809058, 0.11426761062748032, 0.0714172566421752, 0.01428345132843504, 0.47135389383835635, 0.9794439053787051, 0.9377244613632996, 0.030249176173009665, 0.9716699330254226, 0.44297583864001894, 0.025804417784855472, 0.04300736297475912, 0.01720294518990365, 0.008601472594951825, 0.1419242978167051, 0.01720294518990365, 0.004300736297475912, 0.030105154082331383, 0.004300736297475912, 0.030105154082331383, 0.025804417784855472, 0.21503681487379558, 0.0025254088777170516, 0.01767786214401936, 0.3005236564483292, 0.07828767520922861, 0.012627044388585258, 0.012627044388585258, 0.010101635510868207, 0.01767786214401936, 0.09596553735324796, 0.03283031541032167, 0.025254088777170516, 0.03535572428803872, 0.012627044388585258, 0.3510318340026702, 0.008343933410191745, 0.2419740688955606, 0.03337573364076698, 0.09178326751210919, 0.06675146728153396, 0.06675146728153396, 0.01668786682038349, 0.01668786682038349, 0.425540603919779, 0.01668786682038349, 0.026491246677345166, 0.11921061004805325, 0.05298249335469033, 0.1457018567253984, 0.09271936337070807, 0.06622811669336291, 0.05298249335469033, 0.026491246677345166, 0.42385994683752265, 0.20455869333213494, 0.06777731818051248, 0.1073396441772822, 0.1306476811986349, 0.15303566412703948, 0.04232248827561413, 0.05336313739099172, 0.09752573385250211, 0.04017569539206848, 0.014107496091871376, 0.04293585767091288, 0.02146792883545644, 0.005213639860039422, 0.011960703208325731, 0.007053748045935688, 0.011357823240153636, 0.06530748363088341, 0.23851428804322639, 0.014197279050192047, 0.05394966039072978, 0.08518367430115227, 0.025555102290345685, 0.002839455810038409, 0.13061496726176683, 0.019876190670268863, 0.3066612274841482, 0.042591837150576135, 0.005678911620076818, 0.022252493965553843, 0.022252493965553843, 0.8678472646565999, 0.022252493965553843, 0.022252493965553843, 0.05381223783632897, 0.035874825224219316, 0.7892461549328249, 0.07174965044843863, 0.05381223783632897, 0.923398743177761, 0.8894492427062877, 0.01754469990335995, 0.0350893998067199, 0.733953279290558, 0.07602703291455978, 0.09941996611903972, 0.03216528315615991, 0.0029241166505599918, 0.0029241166505599918, 0.887118455575732, 0.015035906026707322, 0.04009574940455286, 0.015035906026707322, 0.030071812053414644, 0.010023937351138216, 0.005965380015812934, 0.007953840021083911, 0.5918982615689944, 0.15609411041377177, 0.07920699020996062, 0.051037140135288435, 0.055014060145830386, 0.0013256400035139852, 0.0003314100008784963, 0.0016570500043924816, 0.04904868013001745, 0.02359554958709197, 0.707866487612759, 0.07078664876127591, 0.18876439669673575, 0.020154588056553666, 0.20154588056553666, 0.7658743461490394, 0.9358157576673912, 0.4915054862943702, 0.041614880990598846, 0.03261706888452342, 0.26431073061596566, 0.15296280580328225, 0.010122538619334855, 0.0011247265132594284, 0.0011247265132594284, 0.0033741795397782847, 0.01645215704358046, 0.9706772655712471, 0.9389825507113941, 0.12460509142114125, 0.7933190820479326, 0.06645604875794199, 0.008307006094742749, 0.008307006094742749, 0.9287118715991648, 0.98836099651947, 0.286222345193957, 0.29313396432506106, 0.20287634978946667, 0.015246218671553107, 0.16445587873715284, 0.004065658312414162, 0.007114902046724783, 0.011383843274759654, 0.0016262633249656648, 0.0006098487468621243, 0.0004065658312414162, 0.0032525266499313296, 0.006301770384241951, 0.0016262633249656648, 0.002032829156207081, 0.016341046669470442, 0.008170523334735221, 0.057193663343146545, 0.17975151336417486, 0.024511570004205663, 0.008170523334735221, 0.008170523334735221, 0.12255785002102831, 0.008170523334735221, 0.08987575668208743, 0.4738903534146428, 0.28523598040193865, 0.6845663529646527, 0.11274750584394103, 0.7516500389596069, 0.1315387568179312, 0.061366498252004534, 0.12940326805314, 0.17075895165775176, 0.32550925159758926, 0.037353520675133194, 0.041355683604611754, 0.15208219132018516, 0.0053362172393047426, 0.04402379222426413, 0.0066702715491309275, 0.008004325858957113, 0.004002162929478557, 0.016008651717914227, 0.1303003632007261, 0.06515018160036305, 0.19545054480108917, 0.032575090800181526, 0.5700640890031767, 0.10924090011582806, 0.10924090011582806, 0.7646863008107964, 0.9577665226217812, 0.9901987193443216, 0.9541150570574993, 0.4346522223442404, 0.00812434060456524, 0.006093255453423931, 0.24576130328809853, 0.030466277267119653, 0.01015542575570655, 0.0812434060456524, 0.01015542575570655, 0.00203108515114131, 0.06296363968538062, 0.00812434060456524, 0.006093255453423931, 0.09342991695250027, 0.9250195798430233, 0.015678297963441074, 0.04703489389032322, 0.015678297963441074, 0.5182851385139139, 0.07316966661372902, 0.041157937470222575, 0.09298645132161397, 0.0899377152127086, 0.004573104163358064, 0.08079150688599247, 0.010670576381168816, 0.03201172914350645, 0.004573104163358064, 0.03963356941576989, 0.0030487361089053763, 0.009146208326716128, 0.0026438152543767027, 0.03833532118846219, 0.17845752967042744, 0.2366214652667149, 0.09121162627599624, 0.10046497966631471, 0.270991063573612, 0.03569150593408549, 0.027760060170955378, 0.0013219076271883514, 0.0026438152543767027, 0.003965722881565054, 0.0052876305087534055, 0.0052876305087534055, 0.0696403177858602, 0.2149766331650467, 0.11808575624558904, 0.01211135961493221, 0.46023166536742394, 0.04238975865226273, 0.02725055913359747, 0.05147327836346189, 0.9700550948909819, 0.3658377572832635, 0.09145943932081588, 0.15636613819365294, 0.011801217976879467, 0.020652131459539067, 0.32748379885840523, 0.020652131459539067, 0.004102974600764408, 0.06769908091261274, 0.06154461901146613, 0.03487528410649748, 0.5067173631944044, 0.16617047133095855, 0.020514873003822043, 0.07795651741452377, 0.049235695209172904, 0.010257436501911021, 0.005246749485462923, 0.01574024845638877, 0.03148049691277754, 0.0026233747427314613, 0.6584670604255968, 0.24922060055948883, 0.007870124228194384, 0.02098699794185169, 0.005246749485462923, 0.07166697242558602, 0.09266493886875135, 0.016433191129433738, 0.3702032779436322, 0.031953427196121154, 0.11868415815702144, 0.12142302334526038, 0.04793014079418173, 0.06527628698636179, 0.0073036405019705495, 0.002738865188238956, 0.010042505690209506, 0.005021252845104753, 0.03423581485298695, 0.0041082977823584345, 0.01150501079379163, 0.0028762526984479073, 0.01150501079379163, 0.054648801270510236, 0.04314379047671861, 0.652909362547675, 0.11792636063636419, 0.08628758095343722, 0.008628758095343721, 0.005752505396895815, 0.07778581235425026, 0.02670958616983292, 0.011714730776242509, 0.14994855393590412, 0.17337801548838913, 0.08012875850949876, 0.15604021393955023, 0.16400623086739513, 0.024835229245634118, 0.03280124617347902, 0.03748713848397603, 0.05669929695701374, 0.00046858923104970036, 0.0070288384657455055, 0.0453596748061733, 0.030705010638025002, 0.11584163104345796, 0.15143152973753238, 0.055827292069136364, 0.020935234525926136, 0.38171910952271987, 0.04396399250444489, 0.009769776112098864, 0.018841711073333524, 0.055827292069136364, 0.061410021276050004, 0.0006978411508642045, 0.0020935234525926135, 0.006280570357777841, 0.00753159259805864, 0.0836006778384509, 0.14460657788272588, 0.029373211132428696, 0.11297388897087961, 0.3163268891184629, 0.013556866676505552, 0.18377085939263083, 0.07757540376000399, 0.000753159259805864, 0.000753159259805864, 0.008284751857864503, 0.000753159259805864, 0.02108845927456419, 0.11723561310086957, 0.7871534022486957, 0.0921136960078261, 0.9477105654131126, 0.8554373552594879, 0.2365489284210458, 0.13196467733546008, 0.0673289170078878, 0.1027888132987087, 0.07047093313492256, 0.05790286862678351, 0.0879764515569734, 0.057454009180064256, 0.05880058752022201, 0.048925679692398465, 0.02423841012283961, 0.01750551842205083, 0.008079470040946536, 0.02738042624987437, 0.003590875573754016, 0.01109417785422564, 0.46928372323374457, 0.43267293631479997, 0.028290153528275384, 0.0011094177854225641, 0.0005547088927112821, 0.037720204704367176, 0.001664126678133846, 0.0038829622489789744, 0.013313013425070769, 0.023284353827083562, 0.9080897992562589, 0.046568707654167124, 0.29248019743280523, 0.05362136952934763, 0.22423481803181736, 0.04387202961492079, 0.36560024679100656, 0.014624009871640262, 0.3030623769664209, 0.011060670692205142, 0.006636402415323085, 0.011060670692205142, 0.019909207245969254, 0.17475859693684123, 0.02654560966129234, 0.11945524347581553, 0.11281884106049245, 0.0022121341384410283, 0.015484938969087198, 0.05530335346102571, 0.022121341384410284, 0.1172431093373745, 0.8384617093292821, 0.06311002113231155, 0.02704715191384781, 0.04507858652307968, 0.02704715191384781, 0.1594384298379973, 0.1567811226740307, 0.10363497939469825, 0.10629228655866486, 0.07706190775503204, 0.05846075760726568, 0.05846075760726568, 0.03454499313156608, 0.24181495192096258, 0.0026573071639666218, 0.9944748149057094, 0.045561506732830964, 0.8956725469917503, 0.056674069350594616, 0.982882373367722, 0.5594888978561656, 0.03822594954296784, 0.05212629483131978, 0.031275776898791866, 0.024325604254615895, 0.057338924314451756, 0.09035224437428761, 0.08166452856906765, 0.029538233737747874, 0.0034750863220879852, 0.031275776898791866, 0.8881396223575264, 0.956557625950719, 0.9459133421164222, 0.021074516831440224, 0.10262373413570891, 0.23181968514584245, 0.15576816788455816, 0.025655933533927228, 0.0943771840712323, 0.05772585045133626, 0.185089234780475, 0.031153633576911633, 0.03848390030089084, 0.000916283340497401, 0.04489788368437265, 0.00916283340497401, 0.000916283340497401, 0.000916283340497401, 0.22843673367493508, 0.05710918341873377, 0.6853102010248052, 0.13228903216796076, 0.7055415048957907, 0.1469878135199564, 0.9994051458122681, 0.9586307876373562, 0.9667737123924425, 0.9780433576634459, 0.12068147085392895, 0.018566380131373683, 0.12068147085392895, 0.009283190065686842, 0.037132760262747366, 0.04641595032843421, 0.22279656157648423, 0.009283190065686842, 0.027849570197060528, 0.3806107926931605, 0.12898233692450006, 0.006788544048657898, 0.20365632145973692, 0.03394272024328949, 0.013577088097315795, 0.020365632145973693, 0.38015846672484227, 0.20365632145973692, 0.013577088097315795, 0.9004523102774511, 0.9833098701540306, 0.007804046588524053, 0.9949916292491372, 0.8881396232237729, 0.26010910391273057, 0.7431688683220874, 0.7488264694669029, 0.03660251581915615, 0.06557950750932144, 0.018301257909578074, 0.007625524128990865, 0.042702935122348844, 0.028976991690165287, 0.0167761530837799, 0.012200838606385383, 0.001525104825798173, 0.006100419303192692, 0.001525104825798173, 0.012200838606385383, 0.9603030033464552, 0.02921195792675013, 0.043182894326500194, 0.021591447163250097, 0.03683246869025017, 0.030482043054000138, 0.7074374158782533, 0.011430766145250052, 0.07747519276225036, 0.01778119178150008, 0.0076205107635000345, 0.0025401702545000114, 0.006350425636250029, 0.0076205107635000345, 0.020797648246533164, 0.9150965228474591, 0.04159529649306633, 0.009342433618854977, 0.16193551606015294, 0.6960113046046957, 0.08563897483950396, 0.021799011777328278, 0.021799011777328278, 0.003114144539618326, 0.9617621370992173, 0.025309529923663615, 0.0164710937173434, 0.8317902327258416, 0.0741199217280453, 0.0329421874346868, 0.024706640576015095, 0.0082355468586717, 0.01988471937855594, 0.8881841322421653, 0.053025918342815836, 0.0331411989642599, 0.12161602857552917, 0.1087390373145908, 0.048646411430211665, 0.037200196976044216, 0.6209571341385842, 0.01001543764739652, 0.014307768067709314, 0.025753982521876766, 0.005723107227083726, 0.005723107227083726, 0.03149551371769008, 0.2642884411962689, 0.016432441939664387, 0.33549568960148124, 0.16021630891172778, 0.03834236452588357, 0.05340543630390926, 0.004108110484916097, 0.008216220969832193, 0.021909922586219183, 0.005477480646554796, 0.058882916950464055, 0.20345098911814016, 0.005651416364392783, 0.005651416364392783, 0.04521133091514226, 0.07346841273710618, 0.5933987182612421, 0.016954249093178348, 0.005651416364392783, 0.02260566545757113, 0.011302832728785565, 0.02260566545757113, 0.006775904269101558, 0.13687326623585147, 0.4946410116444137, 0.1965012238039452, 0.1409388087973124, 0.004065542561460935, 0.01761735109966405, 0.0013551808538203116, 0.023785270492857735, 0.0924982741388912, 0.09117687022262132, 0.11892635246428868, 0.25370955192381583, 0.002642807832539748, 0.21274603051944974, 0.01585684699523849, 0.014535443078968615, 0.010571231330158993, 0.1334617955432573, 0.01585684699523849, 0.001321403916269874, 0.013214039162698742, 0.938873075634824, 0.030609158423069664, 0.06121831684613933, 0.12243663369227865, 0.734619802153672, 0.6620388935462914, 0.13208949077966872, 0.08593774098918205, 0.001591439647947816, 0.014322956831530342, 0.009548637887686895, 0.01909727577537379, 0.011140077535634712, 0.04456031014253885, 0.006365758591791264, 0.012731517183582527, 0.960786037315015, 0.19787766605130133, 0.13948753508534356, 0.16219480823877158, 0.02270727315342802, 0.02270727315342802, 0.0032438961647754316, 0.08109740411938579, 0.09082909261371208, 0.24329221235815737, 0.009731688494326296, 0.02270727315342802, 0.9663457782006227, 0.8991994380901294, 0.0930206315265651, 0.9695223023639908, 0.004161039924308974, 0.020805199621544868, 0.9004523124123409, 0.028882470640641363, 0.37547211832833777, 0.06498555894144308, 0.12997111788288615, 0.057764941281282726, 0.007220617660160341, 0.028882470640641363, 0.021661852980481025, 0.007220617660160341, 0.028882470640641363, 0.25272161810561194, 0.6129446585189915, 0.011707931679576242, 0.036501198765737694, 0.0061983167715403634, 0.057850956534376725, 0.10950359629721308, 0.07369109939497988, 0.04820913044531394, 0.013085335406585212, 0.005509614908035879, 0.0061983167715403634, 0.0006887018635044848, 0.004132211181026909, 0.013085335406585212, 0.4175496632353282, 0.15153891172248204, 0.07231713053423004, 0.05996143989019074, 0.0726805332002312, 0.032706239940104034, 0.04070109859212947, 0.047605749246151435, 0.025801589286082074, 0.01998714663006358, 0.015626314638049706, 0.015262911972048552, 0.00799485865202543, 0.019623743964062423, 0.000363402666001156, 0.4233322378612809, 0.015874958919798034, 0.015874958919798034, 0.0476248767593941, 0.1005414064920542, 0.021166611893064045, 0.021166611893064045, 0.021166611893064045, 0.32808248434249265, 0.005291652973266011, 0.9203555022078325, 0.977252749620858, 0.9165004894453255, 0.9149030817223214, 0.02325515365851724, 0.06169734644096411, 0.2273309918863216, 0.25390831035319844, 0.0541038268789993, 0.09207142468882336, 0.02278055868589444, 0.05125625704326249, 0.11390279342947221, 0.02705191343949965, 0.01613622906917523, 0.03322164808359606, 0.015661634096552426, 0.002847569835736805, 0.005220544698850809, 0.1314949372687487, 0.06574746863437435, 0.7889696236124921, 0.02492186211702643, 0.25404220738646294, 0.007235379324297996, 0.13827613819769502, 0.009647172432397327, 0.05466731045025153, 0.4783389664397008, 0.02492186211702643, 0.0008039310360331107, 0.0032157241441324426, 0.0032157241441324426, 0.9546114284710937, 0.9543798301203879, 0.9165004886058761, 0.15284818066612876, 0.1549769854107824, 0.013198589416852346, 0.03576391971018055, 0.11623273905808679, 0.1651952481851197, 0.12559947993456264, 0.11325241241557174, 0.025119895986912527, 0.005534892336099371, 0.019159242701882438, 0.049388270075963615, 0.0029803266425150457, 0.01617891605936739, 0.004257609489307208, 0.7981356321556615, 0.024941738504864423, 0.17459216953405093, 0.9778388185327603, 0.013556558556750482, 0.09489590989725338, 0.013556558556750482, 0.06778279278375242, 0.10845246845400386, 0.10845246845400386, 0.5964885764970213, 0.3598036313718312, 0.22152615735442155, 0.023986908758122077, 0.028219892656614207, 0.015520940961137816, 0.023986908758122077, 0.021164919492460656, 0.019753924859629946, 0.009876962429814973, 0.008465967796984263, 0.049384812149074864, 0.20741621102611443, 0.011287957062645683, 0.8672635339794821, 0.05781756893196548, 0.04103182311300776, 0.007460331475092319, 0.0037301657375461597, 0.01678574581895772, 0.005595248606319239, 0.011497335162128272, 0.8680488047406845, 0.05748667581064136, 0.005748667581064136, 0.011497335162128272, 0.005748667581064136, 0.022994670324256544, 0.011497335162128272, 0.019135896130307594, 0.9217123302764825, 0.015946580108589663, 0.0047839740325768985, 0.01275726408687173, 0.0031893160217179323, 0.009567948065153797, 0.0015946580108589662, 0.011162606076012764, 0.9953649213689693, 0.893178812894436, 0.09655987166426334, 0.9804779720334833, 0.8930295858884237, 0.04891876704825879, 0.06312098973968876, 0.19804210530827346, 0.3511105054270187, 0.02919345775460605, 0.10967271967270921, 0.059175927880958205, 0.024459383524129394, 0.025248395895875502, 0.03471654435682882, 0.012624197947937751, 0.022881358780637174, 0.005523086602222766, 0.007101111345714985, 0.007890123717461095, 0.12896068857945334, 0.009920052967650255, 0.0694403707735518, 0.14880079451475384, 0.46624248947956204, 0.17360092693387946, 0.30511757689736424, 0.044151380636311105, 0.07016915851128015, 0.0457282156590365, 0.10091744145442538, 0.06149656588629047, 0.07095757602264284, 0.08199542118172062, 0.05755447832947697, 0.03626720552268412, 0.07095757602264284, 0.02286410782951825, 0.006307340090901586, 0.01813360276134206, 0.007095757602264285, 0.5059329814586775, 0.04431529764601554, 0.009847843921336788, 0.09355451725269949, 0.11694314656587436, 0.11325020509537306, 0.004923921960668394, 0.0036929414705012954, 0.014771765882005182, 0.04185333666568135, 0.04800823911651684, 0.002461960980334197, 0.9224675857490882, 0.03843614940621201, 0.014812686760025284, 0.1283766185868858, 0.014812686760025284, 0.11850149408020227, 0.44191182167408766, 0.014812686760025284, 0.05678196591343026, 0.08146977718013906, 0.07900099605346818, 0.02715659239337969, 0.009875124506683522, 0.007406343380012642, 0.007406343380012642, 0.7720386609792419, 0.04356877319295947, 0.03136951669893082, 0.05838215607856569, 0.01829888474104298, 0.01568475834946541, 0.026141263915775686, 0.006971003710873516, 0.009585130102451085, 0.004356877319295948, 0.006971003710873516, 0.001742750927718379, 0.001742750927718379, 0.003485501855436758, 0.9001576432376792, 0.9674419666229829, 0.9358428310864664, 0.03509410616574249, 0.02339607077716166, 0.9856852464667629, 0.07497884939703711, 0.14995769879407422, 0.010711264199576732, 0.021422528399153463, 0.1713802271932277, 0.55698573837799, 0.4322326035588178, 0.2466544748569341, 0.07634543269381293, 0.06342543639178305, 0.03875998890608964, 0.00822181582856447, 0.030538173077525172, 0.017618176775495292, 0.030538173077525172, 0.009396360946930823, 0.028189082840792468, 0.0011745451183663529, 0.0035236353550990585, 0.012919996302029882, 0.8651934379031573, 0.023383606429815063, 0.0701508192894452, 0.011691803214907532, 0.011691803214907532, 0.8433212189509139, 0.04517792244379896, 0.01505930748126632, 0.00752965374063316, 0.0376482687031658, 0.00752965374063316, 0.02258896122189948, 0.01505930748126632, 0.9831033298055298, 0.14418347596188955, 0.8410702764443557, 0.03451873950978329, 0.016350981873055243, 0.512330765355731, 0.16169304296687964, 0.1471588368574972, 0.0018167757636728048, 0.0036335515273456095, 0.04178584256447451, 0.02180130916407366, 0.01090065458203683, 0.025434860691419266, 0.02180130916407366, 0.9764388404898828, 0.9531522057998187, 0.9305921872199409, 0.9660452279591322, 0.00444490842898027, 0.13875844573947102, 0.0023190826585984016, 0.03749183631400749, 0.2999346905120599, 0.013527982175157341, 0.00019325688821653347, 0.4827557067649006, 0.0013527982175157343, 0.003285367099681069, 0.0005797706646496004, 0.015074037280889609, 0.970099887919161, 0.16563514101461765, 0.8178235087596747, 0.010352196313413603, 0.003739345974392734, 0.04487215169271281, 0.5122903984918046, 0.007478691948785468, 0.003739345974392734, 0.022436075846356405, 0.08226561143664014, 0.1981853366428149, 0.03739345974392734, 0.007478691948785468, 0.08226561143664014, 0.957868193735975, 0.13474162571190884, 0.09899384746181057, 0.0859321592550439, 0.2069246394861457, 0.044684722812622826, 0.10243113383201233, 0.06255861193767195, 0.035060320976057914, 0.05843386829342985, 0.06255861193767195, 0.03987252189434037, 0.026123376413533347, 0.01168677365868597, 0.014436602754847375, 0.015124060028887727, 0.9315352404379738, 0.001407712812078525, 0.001407712812078525, 0.4631375151738347, 0.3997904386303011, 0.004223138436235575, 0.00281542562415705, 0.001407712812078525, 0.026746543429491978, 0.039415958738198704, 0.00844627687247115, 0.04926994842274838, 0.004223138436235575, 0.9491365189715432, 0.9315504972580183, 0.07768788307242494, 0.8545667137966744, 0.9367882654933828, 0.1534326635175387, 0.828536382994709, 0.04417221191733643, 0.08834442383467286, 0.8613581323880605, 0.2272296581967743, 0.07023462162445751, 0.053708828301055736, 0.14356782949705285, 0.024788689985102648, 0.12084486367737542, 0.09915475994041059, 0.043380207473929636, 0.051643104135630516, 0.10845051868482408, 0.015492931240689156, 0.007230034578988273, 0.008262896661700882, 0.013427207075263934, 0.012394344992551324, 0.9232403842805935, 0.8670952727610095, 0.9597117460862236, 0.9301101554640026, 0.05314915174080015, 0.9135141453491514, 0.9165004889865203, 0.9789904264863295, 0.9407044790491488, 0.9407044790491488, 0.9541150571098685, 0.9791931398166694, 0.9566043334855922, 0.9793689887107073, 0.8930295859065335, 0.9292717532878465, 0.9831033296422944, 0.043470580873785636, 0.043470580873785636, 0.8694116174757127, 0.06634530558989704, 0.8624889726686615, 0.9315352408853964, 0.01004821712475312, 0.6598329245254548, 0.02344583995775728, 0.07619897986271115, 0.00334940570825104, 0.02595789423894556, 0.01004821712475312, 0.0167470285412552, 0.02763259709307108, 0.11387979408053536, 0.00167470285412552, 0.0125602714059414, 0.019259082822443478, 0.9135141453025013, 0.818391305804538, 0.9820283563937596, 0.977895513031476, 0.9648379513745998, 0.06106907767790675, 0.9160361651686013, 0.02262831398565075, 0.9277608734116807, 0.0452566279713015, 0.07199380288781834, 0.46681695999482214, 0.030283107563923592, 0.0068565526559827, 0.07599345860380825, 0.028568969399927917, 0.006285173267984142, 0.05428104185986304, 0.02628345184793368, 0.001714138163995675, 0.20283968273948821, 0.00342827632799135, 0.0005713793879985583, 0.02399793429593945, 0.0005713793879985583, 0.961100542947769, 0.8731755626850088, 0.08450086090500085, 0.028166953635000283, 0.9267407514872557, 0.9491365191810787, 0.5132085692822924, 0.040139217709229576, 0.06737654401192107, 0.05877528307422902, 0.108949305210766, 0.004300630468846026, 0.15482269687845693, 0.01433543489615342, 0.010034804427307394, 0.011468347916922736, 0.01433543489615342, 0.677606093761233, 0.07238522069852935, 0.012064203449754892, 0.008042802299836595, 0.06434241839869276, 0.10857783104779402, 0.006032101724877446, 0.010053502874795743, 0.03016050862438723, 0.010053502874795743, 0.18349650170792423, 0.02621378595827489, 0.013106892979137445, 0.13106892979137444, 0.013106892979137445, 0.02621378595827489, 0.4980619332072229, 0.013106892979137445, 0.03932067893741233, 0.05242757191654978, 0.008764494068385364, 0.18405437543609265, 0.7625109839495267, 0.03505797627354146, 0.09151485246063522, 0.11321425046676521, 0.1632172110895865, 0.06887200236728218, 0.15519786834819066, 0.08302378367562782, 0.07830652323951261, 0.07972170137034718, 0.050946412710044346, 0.007547616697784348, 0.03443600118364109, 0.03160564492197195, 0.017453863613626303, 0.012264877133899565, 0.011793151090288043, 0.21882528530192946, 0.1287207560599585, 0.025744151211991702, 0.051488302423983404, 0.5663713266638174, 0.9187802911306239, 0.01685835396569952, 0.0421458849142488, 0.00842917698284976, 0.7811538320196113, 0.02154907122812721, 0.04309814245625442, 0.07542174929844524, 0.005387267807031803, 0.032323606842190815, 0.010774535614063606, 0.010774535614063606, 0.016161803421095407, 0.0675501379650687, 0.6088894380462443, 0.1801337012401832, 0.015011141770015267, 0.032836872621908396, 0.03565146170378626, 0.01594933813064122, 0.016887534491267175, 0.0018763927212519084, 0.0065673745243816795, 0.008443767245633588, 0.009381963606259541, 0.05131637402845735, 0.9236947325122323, 0.14235786972700706, 0.17157542377578144, 0.19022492636010552, 0.05594850775297221, 0.07397636025115215, 0.06154335852826943, 0.06651655921742251, 0.11811351636738578, 0.035434054910215736, 0.008703101206017898, 0.01305465180902685, 0.011811351636738578, 0.017406202412035797, 0.03170415439335092, 0.0012433001722882712, 0.03392566424280559, 0.1451264525942239, 0.13193313872202175, 0.5974686424982985, 0.0697360876102115, 0.0018847591246003105, 0.0018847591246003105, 0.011308554747601864, 0.005654277373800932, 0.003769518249200621, 0.9055589518892981, 0.07027482447950566, 0.028109929791802265, 0.014054964895901132, 0.014054964895901132, 0.042164894687703396, 0.632473420315551, 0.014054964895901132, 0.16865957875081358, 0.9315504806352384, 0.02469348130920481, 0.5414927687089912, 0.2945579556169431, 0.008819100467573147, 0.019402021028660923, 0.04409550233786574, 0.007055280374058517, 0.0035276401870292587, 0.0035276401870292587, 0.0035276401870292587, 0.04938696261840962, 0.10221760847398628, 0.008518134039498856, 0.01703626807899771, 0.012777201059248285, 0.19165801588872428, 0.06388600529624143, 0.01703626807899771, 0.19165801588872428, 0.02555440211849657, 0.32794816052070597, 0.04259067019749428, 0.1314249637338664, 0.005973861987903018, 0.014934654969757544, 0.11649030876410883, 0.0328562409334666, 0.01792158596370905, 0.2060982385826541, 0.08363406783064224, 0.37037944324998706, 0.011947723975806035, 0.002986930993951509, 0.06981847563752333, 0.07768534613189217, 0.05408473464878568, 0.03146748197747531, 0.6500001745972243, 0.056051452272377886, 0.015733740988737654, 0.0039334352471844134, 0.004916794058980516, 0.02360061148310648, 0.0019667176235922067, 0.0039334352471844134, 0.00590015287077662, 0.0019667176235922067, 0.960907597650629, 0.9035658560489661, 0.023167187068279277, 0.9151038891970315, 0.005791796767069819, 0.005791796767069819, 0.017375390301209458, 0.023167187068279277, 0.005791796767069819, 0.9718620460304868, 0.005521943443355038, 0.019326802051742635, 0.996823282394832, 0.9733850158432982, 0.9764614354716894, 0.017130902376696306, 0.8507375983788003, 0.08979368426731586, 0.010360809723151829, 0.00345360324105061, 0.020721619446303657, 0.0011512010803502032, 0.020721619446303657, 0.0011512010803502032, 0.0011512010803502032, 0.0011512010803502032, 0.015595021064489536, 0.11566307289496407, 0.3028033256688385, 0.05198340354829845, 0.16894606153196998, 0.09616929656435214, 0.02079336141931938, 0.06497925443537307, 0.1377560194029909, 0.007797510532244768, 0.0012995850887074613, 0.007797510532244768, 0.0025991701774149226, 0.005198340354829845, 0.064060400279616, 0.8968456039146241, 0.2097013879582538, 0.07863802048434518, 0.6815295108643249, 0.012664120780925178, 0.5677747483448121, 0.32926714030405463, 0.01477480757774604, 0.012664120780925178, 0.03799236234277553, 0.012664120780925178, 0.012664120780925178, 0.0026839177554079567, 0.9581586386806406, 0.03489093082030344, 0.1238990310759392, 0.03151817457194945, 0.0880335220802726, 0.05108117947867669, 0.15215670483010077, 0.0619495155379696, 0.19128271464355526, 0.06521001635575747, 0.07607835241505038, 0.011955169665222204, 0.030431340966020157, 0.07607835241505038, 0.020649838512656535, 0.015215670483010079, 0.003260500817787874, 0.9331461324904502, 0.035890235865017314, 0.8670952728380773, 0.1146900160862379, 0.8410601179657446, 0.885790367251948, 0.948329012869782, 0.049249964784190935, 0.03283330985612729, 0.008208327464031823, 0.008208327464031823, 0.7633744541549595, 0.09849992956838187, 0.024624982392095467, 0.9132457223309401, 0.9193429091818087, 0.6814876942966507, 0.020043755714607373, 0.14647359945290003, 0.009250964175972634, 0.07092405868245687, 0.07092405868245687, 0.9346515489503011, 0.9647009919238605, 0.29246098550725513, 0.7045651014492965, 0.9847585062144713, 0.9506245209455517, 0.9358157564822346, 0.9213819927780134, 0.05265039958731505, 0.9356185794380008, 0.03226270963579313, 0.8831148214534374, 0.9718742214681948, 0.9611005428587467, 0.924568513438966, 0.8205818366265033, 0.02205865152221783, 0.10146979700220202, 0.008823460608887132, 0.0397055727399921, 0.9527508702996104, 0.9833801699072916, 0.9507989210413205, 0.9750838821387418, 0.9607257448617961, 0.9272043839425681, 0.8831148214534387, 0.04753005433941958, 0.9030710324489719, 0.9945086734004026, 0.9245685138567016, 0.022053323346595193, 0.9703462272501885, 0.9963907486497243, 0.9786397876323674, 0.3178633662085895, 0.33074971889272153, 0.004295450894710669, 0.030068156262974686, 0.004295450894710669, 0.004295450894710669, 0.015034078131487343, 0.015034078131487343, 0.004295450894710669, 0.021477254473553347, 0.01932952902619801, 0.23195434831437614, 0.9389743508093694, 0.2442799894717608, 0.29723085424165113, 0.006354103772386842, 0.013414219075038888, 0.03388855345272982, 0.014826242135569297, 0.016238265196099704, 0.014826242135569297, 0.05930496854227719, 0.2640483123191865, 0.02753444968034298, 0.004942080711856432, 0.0014120230605304091, 0.02508538074367582, 0.02508538074367582, 0.05017076148735164, 0.8779883260286537, 0.9035658559716548, 0.024230187263626492, 0.12890459624249295, 0.24811711757953528, 0.1637960659021151, 0.1637960659021151, 0.1928722906184669, 0.0038768299621802387, 0.0009692074905450597, 0.019384149810901193, 0.024230187263626492, 0.026168602244716614, 0.002907622471635179, 0.4224533627791289, 0.0027792984393363745, 0.005558596878672749, 0.4168947659004562, 0.008337895318009124, 0.047248073468718364, 0.09171684849810036, 0.01662640988668449, 0.3491546076203743, 0.5174970077230548, 0.008313204943342246, 0.012469807415013369, 0.04364432595254679, 0.018704711122520052, 0.022861313594191177, 0.006234903707506684, 0.0020783012358355614, 0.009233849260400284, 0.16159236205700497, 0.7571756393528233, 0.018467698520800567, 0.03231847241140099, 0.018467698520800567, 0.9846478626817504, 0.06207346693037299, 0.5690067801950857, 0.015120459893295983, 0.04098440444761806, 0.03620952237605091, 0.04615719335848248, 0.05371742330513047, 0.02069115564345766, 0.048544634394266054, 0.07321485843069635, 0.010743484661026094, 0.01313092569680967, 0.005570695750161678, 0.004774882071567153, 0.006131825830395232, 0.9366363955928717, 0.00766478228799404, 0.011241680689057926, 0.006131825830395232, 0.0005109854858662694, 0.003065912915197616, 0.004598869372796424, 0.003065912915197616, 0.017373506519453158, 0.004598869372796424, 0.9485612770254119, 0.9958305059096779, 0.9315504804793756, 0.15891349212881345, 0.17175498644225293, 0.09390342716702613, 0.09069305358866626, 0.11958641579390507, 0.00802593394589967, 0.169347206258483, 0.02648558202146891, 0.05537894422670772, 0.04414263670244818, 0.01284149431343947, 0.006420747156719735, 0.006420747156719735, 0.024880395232288976, 0.011236307524259538, 0.632522553061045, 0.10663215453902673, 0.0012117290288525765, 0.12117290288525766, 0.015752477375083496, 0.04604570309639791, 0.029081496692461836, 0.021811122519346377, 0.008482103201968036, 0.01696420640393607, 0.9315504806264214, 0.11673788793402323, 0.05188350574845477, 0.2983301580536149, 0.038912629311341075, 0.42803892242475183, 0.06485438218556847, 0.9254605128369907, 0.9264123056615792, 0.006467774857315433, 0.025871099429261732, 0.19834509562433994, 0.0021559249524384775, 0.5411371630620578, 0.00862369980975391, 0.0021559249524384775, 0.21343657029140928, 0.004311849904876955, 0.0021559249524384775, 0.8735812428316936, 0.11640503399846812, 0.08798054895233055, 0.021656750511342904, 0.0852734551384127, 0.0257173912322197, 0.25988100613611487, 0.03654576648789115, 0.05008123555748047, 0.15159725357940035, 0.08391990823145376, 0.04602059483660367, 0.002707093813917863, 0.009474828348712522, 0.010828375255671452, 0.012181922162630384, 0.9254022854819235, 0.045379449866219834, 0.9075889973243968, 0.9781673143529163, 0.8879482865206648, 0.8797073596284668, 0.0195650094893961, 0.0195650094893961, 0.9391204554910128, 0.008908521958797785, 0.8277501653382943, 0.007423768298998154, 0.0007423768298998154, 0.10653107509062351, 0.01299159452324677, 0.0022271304896994463, 0.007794956713948062, 0.0007423768298998154, 0.0022271304896994463, 0.020044174407295015, 0.0003711884149499077, 0.0014847536597996308, 0.8930295859896206, 0.9738985568745051, 0.8825282297872881, 0.09289770839866189, 0.07075358082699669, 0.07075358082699669, 0.035376790413498345, 0.07075358082699669, 0.7075358082699669, 0.9766249604946126, 0.019409277910548667, 0.004313172869010815, 0.21134547058152994, 0.20595400449526644, 0.17684008762944342, 0.03774026260384463, 0.2523206128371327, 0.010782932172527038, 0.00862634573802163, 0.061462713383404116, 0.007548052520768927, 0.0021565864345054076, 0.09891339717624144, 0.010334235525875972, 0.06938700995945295, 0.34693504979726475, 0.13582138119722706, 0.02362110977343079, 0.24064005581682618, 0.028050067855949063, 0.0029526387216788487, 0.014763193608394244, 0.01328687424755482, 0.01328687424755482, 0.0014763193608394243, 0.9168865717923299, 0.019371744915800206, 0.4891365591239552, 0.3478842524462454, 0.014528808686850154, 0.028250461335541967, 0.019371744915800206, 0.005650092267108393, 0.015335964725008496, 0.005650092267108393, 0.002421468114475026, 0.012107340572375128, 0.03228624152633368, 0.0016143120763166838, 0.004842936228950052, 0.005663038213252052, 0.005663038213252052, 0.5889559741782134, 0.2619155173629074, 0.0651249394523986, 0.002831519106626026, 0.008494557319878079, 0.05238310347258148, 0.007078797766565065, 0.001415759553313013, 0.01220114968533314, 0.3172298918186616, 0.10981034716799826, 0.04880459874133256, 0.04270402389866599, 0.4636436880426593, 0.9530407900330812, 0.889449243595116, 0.8105772035645471, 0.1529390950121787, 0.030587819002435738, 0.9443441089204208, 0.09150864039303565, 0.14641382462885705, 0.05490518423582139, 0.01830172807860713, 0.6039570265940353, 0.07320691231442852, 0.01830172807860713, 0.8183913061216073, 0.01976630558037558, 0.03953261116075116, 0.05929891674112673, 0.8499511399561498, 0.020632009679963675, 0.06002039179625797, 0.1706829891706086, 0.19319063609420534, 0.0018756372436330615, 0.06189602903989103, 0.018756372436330614, 0.1613048029524433, 0.16880735192697555, 0.016880735192697553, 0.09190622493802002, 0.026258921410862862, 0.0018756372436330615, 0.003751274487266123, 0.017890159244269288, 0.04651441403510014, 0.06440457327936944, 0.49734642699068615, 0.21468191093123143, 0.028624254790830857, 0.039358350337392434, 0.07513866882593101, 0.007156063697707714, 0.007156063697707714, 0.8797073552877149, 0.04256571540623312, 0.02128285770311656, 0.04256571540623312, 0.08513143081246624, 0.7874657350153127, 0.02128285770311656, 0.8930295895789396, 0.01126839217856326, 0.03380517653568978, 0.04507356871425304, 0.02253678435712652, 0.8563978055708078, 0.02253678435712652, 0.25225074565131916, 0.014446077944789203, 0.016668551474756772, 0.032225866184529765, 0.022224735299675696, 0.23224848388161104, 0.015557314709772988, 0.3489283442049085, 0.012223604414821634, 0.04444947059935139, 0.0066674205899027094, 0.001111236764983785, 0.001111236764983785, 0.001111236764983785, 0.05280614937579234, 0.34984073961462425, 0.12541460476750682, 0.45875342270219593, 0.009901153007961063, 0.8205669223212089, 0.048167450366863415, 0.03612558777514756, 0.01806279388757378, 0.005160798253592508, 0.0008601330422654181, 0.03182492256382047, 0.013762128676246689, 0.007741197380388763, 0.012041862591715854, 0.0017202660845308361, 0.0034405321690616723, 0.9619958998552597, 0.0125042119295898, 0.24258171143404214, 0.7427501886176342, 0.03820377285706491, 0.9550943214266228, 0.0019886916763020464, 0.22173912190767814, 0.1680444466475229, 0.016903879248567392, 0.11037238803476357, 0.36492492260142545, 0.003977383352604093, 0.09147981710989413, 0.01590953341041637, 0.002983037514453069, 0.0019886916763020464, 0.012607943857773368, 0.17166200483276048, 0.21627472925257393, 0.21627472925257393, 0.044612724419813454, 0.12510959674252034, 0.00484920917606668, 0.025215887715546736, 0.03879367340853344, 0.011638102022560031, 0.03685398973810677, 0.05334130093673348, 0.0038793673408533437, 0.03976351524374677, 0.8490507832838143, 0.8655465935902283, 0.05770310623934856, 0.9502968451191752, 0.9512472841173915, 0.12045887132653245, 0.05019119638605519, 0.030114717831633112, 0.020076478554422076, 0.010038239277211038, 0.7629061850680389, 0.13602938926987196, 0.6218486366622719, 0.11659661937417598, 0.11659661937417598, 0.9272043833021547, 0.0006555225259695195, 0.005899702733725675, 0.1848573523234045, 0.1206161447783916, 0.06882986522679956, 0.059652549863226274, 0.050475234499653, 0.19993437042070344, 0.24319885713469175, 0.0032776126298475977, 0.04785314439577493, 0.015732540623268468, 0.9031548737236649, 0.15105543325306692, 0.4608389566863407, 0.09878545793692631, 0.16640074710734673, 0.01726347808606479, 0.01486577279633357, 0.056585844837656815, 0.0023977052897312208, 0.0014386231738387325, 0.005274951637408686, 0.01726347808606479, 0.007193115869193662, 0.31786134325561743, 0.004314859863198427, 0.023012585937058277, 0.023012585937058277, 0.010068006347462995, 0.0014382866210661423, 0.02588915917919056, 0.5896975146371183, 0.004314859863198427, 0.9135550831842386, 0.972992442235869, 0.9696707759908654, 0.012684603355185602, 0.08879222348629921, 0.09340480652454852, 0.17527815545347378, 0.12684603355185603, 0.1891159045682217, 0.05419785069942939, 0.043819538863368444, 0.05419785069942939, 0.026522352469933532, 0.01383774911474793, 0.0461258303824931, 0.028828643989058187, 0.011531457595623275, 0.034594372786869824, 0.9327365328077754, 0.04172228131835288, 0.04172228131835288, 0.8761679076854104, 0.860749800352105, 0.06096611944869408, 0.8535256722817172, 0.10928698036527253, 0.007050772926791776, 0.08108388865810542, 0.4371479214610901, 0.01762693231697944, 0.01762693231697944, 0.03525386463395888, 0.2961324629252546, 0.9700905475421644, 0.03839325025456749, 0.05758987538185123, 0.8830447558550523, 0.9488450861413036, 0.8808691618709686, 0.9426278765689682, 0.03366528130603458, 0.010559432856781091, 0.42113502805279884, 0.10000404058480916, 0.06211431092224171, 0.33169042032477075, 0.004969144873779337, 0.00434800176455692, 0.018013150167450098, 0.020497722604339765, 0.0012422862184448343, 0.0018634293276672514, 0.007453717310669006, 0.00434800176455692, 0.011180575966003508, 0.0432597599422143, 0.8796151188250241, 0.0432597599422143, 0.00720995999036905, 0.0144199199807381, 0.9511060148656553, 0.019410326833992967, 0.019410326833992967, 0.9968701325678427, 0.9652988184419787, 0.9803133242849158, 0.01167039671767757, 0.9483290130980184, 0.042628573917782346, 0.9378286261912115, 0.9474772606228303, 0.8312361146614028, 0.1539326138261857, 0.8797073600257748, 0.891204424186613, 0.005784954332912236, 0.002892477166456118, 0.05206458899621013, 0.04338715749684177, 0.8677431499368354, 0.011569908665824472, 0.008677431499368355, 0.005784954332912236, 0.9254377611904744, 0.2819700424435031, 0.15732709637319228, 0.07201592439617957, 0.052073053024929844, 0.09583657631183896, 0.06758417520256851, 0.03988574274249945, 0.03046827570607597, 0.07478576764218647, 0.01717302812524282, 0.03046827570607597, 0.022712714617256633, 0.013295247580833152, 0.03379208760128426, 0.010525404334826245, 0.9418272363425264, 0.043805917969419836, 0.8633626605650168, 0.5933466476189108, 0.20578496449210779, 0.001143249802733932, 0.1497657241581451, 0.008002748619137525, 0.0057162490136696605, 0.001143249802733932, 0.013718997632807185, 0.009145998421871457, 0.001143249802733932, 0.002286499605467864, 0.004572999210935728, 0.0034297494082017963, 0.9745877537670974, 0.01760884181539589, 0.10984563227699341, 0.2574244970155494, 0.15847957633856302, 0.13164705547700736, 0.08972124163082668, 0.02012439064616673, 0.06624278587696548, 0.034379167353868166, 0.009223679046159752, 0.008385162769236138, 0.04024878129233346, 0.046956911507722375, 0.010062195323083365, 0.0016770325538472276, 0.03505038122783721, 0.21614401757166282, 0.2920865102319768, 0.2784558064211512, 0.01168346040927907, 0.056470058644848845, 0.015577947212372094, 0.07204800585722093, 0.0038944868030930235, 0.0038944868030930235, 0.01168346040927907, 0.9327365329111412, 0.9791931398166694, 0.960303453411851, 0.0073198482970089854, 0.09515802786111681, 0.3013337548935366, 0.089058154280276, 0.018299620742522463, 0.06343868524074454, 0.010979772445513479, 0.09271807842878048, 0.13541719349466624, 0.014639696594017971, 0.004879898864672657, 0.1537168142371887, 0.004879898864672657, 0.0073198482970089854, 0.979193139676957, 0.9871921925048411, 0.9477105264562488, 0.9547778473497939, 0.9546114283718532, 0.9528749049654119, 0.017605724171477415, 0.032010407584504394, 0.4561483080791876, 0.33610927963729614, 0.0064020815169008784, 0.05921925403133312, 0.008002601896126098, 0.0032010407584504392, 0.020806764929927855, 0.014404683413026977, 0.0064020815169008784, 0.022407285309153074, 0.008002601896126098, 0.0064020815169008784, 0.0016005203792252196, 0.0017360852563560682, 0.010416511538136409, 0.2317673817235351, 0.3394046676176113, 0.03038149198623119, 0.0008680426281780341, 0.34027271024578937, 0.00434021314089017, 0.0017360852563560682, 0.025173236217162987, 0.011284554166314442, 0.002604127884534102, 0.07071896077749566, 0.8486275293299479, 0.055617128813891144, 0.037078085875927425, 0.11123425762778229, 0.7786398033944759, 0.09327157667934549, 0.14923452268695278, 0.018654315335869098, 0.055962946007607296, 0.6715553520912876, 0.9652988184691129, 0.3816490083132227, 0.020629676125039065, 0.030944514187558596, 0.0928335425626758, 0.010314838062519533, 0.45385287475085945, 0.020629676125039065, 0.9437065915897962, 0.39786356374790355, 0.042126730279189784, 0.007021121713198297, 0.03978635637479035, 0.1872299123519546, 0.04446710418358922, 0.016382617330796028, 0.00936149561759773, 0.004680747808798865, 0.21765477310914721, 0.014042243426396595, 0.021063365139594892, 0.9767185149552943, 0.9663457927779067, 0.009345385858178396, 0.9812655151087316, 0.038489285508945585, 0.038489285508945585, 0.8852535667057484, 0.9644575754789819, 0.7254958494640099, 0.13364397226968605, 0.0031819993397544295, 0.04772999009631645, 0.006363998679508859, 0.0031819993397544295, 0.006363998679508859, 0.038183992077053155, 0.038183992077053155, 0.8797073590266413, 0.9733597046242195, 0.2111323930088487, 0.048722859925118926, 0.08120476654186488, 0.016240953308372975, 0.6009152724098001, 0.03248190661674595, 0.012205413004028925, 0.00813694200268595, 0.0325477680107438, 0.0650955360214876, 0.020342355006714875, 0.028479297009400825, 0.0162738840053719, 0.02441082600805785, 0.7933518452618801, 0.16993412097684596, 0.01888156899742733, 0.05664470699228199, 0.03776313799485466, 0.15105255197941864, 0.05664470699228199, 0.5098023629305379, 0.8808714605381954, 0.386182013208365, 0.05075535030738511, 0.024274297973097225, 0.011033771805953285, 0.017654034889525255, 0.48769271382313517, 0.02206754361190657, 0.12613035771966088, 0.02802896838214686, 0.08408690514644059, 0.01401448419107343, 0.7427676621268918, 0.03335246465591794, 0.9338690103657024, 0.04193988858209176, 0.1113674068429869, 0.03938948995209969, 0.2391707159681449, 0.0005667552511093481, 0.2218846808093098, 0.0665937420053484, 0.02238683241881925, 0.08274626666196482, 0.1048497214552294, 0.027771007304358056, 0.010201594519968266, 0.015585769405507072, 0.0025503986299920665, 0.012751993149960332, 0.002848383242188167, 0.1039659883398681, 0.5511621573634103, 0.11820790455080893, 0.008545149726564501, 0.0769063475390805, 0.012817724589846752, 0.008545149726564501, 0.008545149726564501, 0.012817724589846752, 0.03133221566406984, 0.011393532968752668, 0.046998323496104756, 0.007120958105470417, 0.9789904248495437, 0.23127280117822033, 0.0786327524005949, 0.09096730179676665, 0.09019639245950592, 0.3630982978498059, 0.010021821384389546, 0.025440008129604234, 0.0015418186745214688, 0.06321456565538022, 0.02081455210603983, 0.01233454939617175, 0.0023127280117822033, 0.009250912047128813, 0.0007709093372607344, 0.9550980026510307, 0.055179748390142926, 0.004598312365845244, 0.0321881865609167, 0.055179748390142926, 0.23451393065810744, 0.4828227984137506, 0.05058143602429768, 0.055179748390142926, 0.009196624731690488, 0.018393249463380976, 0.009196624731690488, 0.04226280098153593, 0.11093985257653183, 0.08452560196307186, 0.0862865520039692, 0.010565700245383983, 0.18137785421242505, 0.09685225224935318, 0.035219000817946614, 0.10917890253563449, 0.1443979033535811, 0.06163325143140657, 0.007043800163589322, 0.012326650286281314, 0.019370450449870635, 0.004658596670083161, 0.10248912674182954, 0.14907509344266115, 0.18401456846828487, 0.33076036357590444, 0.018634386680332644, 0.10714772341191271, 0.023292983350415807, 0.04192737003074845, 0.016305088345291065, 0.018634386680332644, 0.0023292983350415805, 0.0023292983350415805, 0.05804933636384684, 0.8707400454577027, 0.9292466547249224, 0.0059778562535793694, 0.020922496887527793, 0.037361601584871056, 0.022416960950922635, 0.5858299128507782, 0.0014944640633948424, 0.2226751454458315, 0.06874534691616274, 0.029889281267896847, 0.004483392190184527, 0.8490507826658581, 0.8857903689743698, 0.9751522031195626, 0.8135017369511512, 0.8735965081125168, 0.9035658567363746, 0.03313828574005168, 0.8814784006853748, 0.006627657148010336, 0.01988297144403101, 0.006627657148010336, 0.006627657148010336, 0.006627657148010336, 0.046393600036072354, 0.13749332142079232, 0.07157186594506998, 0.08193095180554062, 0.1309011758732201, 0.025426847112064332, 0.16103669837640744, 0.04897022406767946, 0.0951152429006851, 0.05367889945880248, 0.04237807852010722, 0.02825205234673815, 0.010359085860470654, 0.005650410469347629, 0.0951152429006851, 0.01318429109514447, 0.042819046789335895, 0.042819046789335895, 0.042819046789335895, 0.8706539513831633, 0.1561848612615443, 0.1561848612615443, 0.029284661486539555, 0.04880776914423259, 0.14642330743269777, 0.019523107657693037, 0.06833087680192562, 0.009761553828846518, 0.3807005993250142, 0.03670530727184264, 0.07341061454368528, 0.01835265363592132, 0.03670530727184264, 0.807516759980538, 0.000824920333568688, 0.06434378601835766, 0.18519461488617045, 0.2614997457412741, 0.3435793189313585, 0.019385627838864168, 0.005774442334980816, 0.07836743168902535, 0.011136424503177287, 0.013611185503883351, 0.001649840667137376, 0.014023645670667695, 0.02666679078968076, 0.8000037236904228, 0.1333339539484038, 0.1278302526596225, 0.28323173628504594, 0.12031082603258589, 0.02757123096580093, 0.04261008421987417, 0.007519426627036618, 0.3709583802671398, 0.007519426627036618, 0.005012951084691079, 0.007519426627036618, 0.2921696058399355, 0.2741344449856185, 0.010821096512590203, 0.014428128683453605, 0.23085005893525767, 0.12985315815108245, 0.043284386050360814, 0.20715069348627274, 0.11924995411375938, 0.08175383452128865, 0.07622162015518641, 0.05224869123541004, 0.07622162015518641, 0.06331311996761452, 0.05163400075028757, 0.09281826325349313, 0.08544197743202347, 0.03011983377100108, 0.01229380970244942, 0.03442266716685838, 0.009835047761959537, 0.0067615953363471815, 0.3768479037709108, 0.12561596792363694, 0.49104423824694443, 0.03332297189043711, 0.06664594378087423, 0.09996891567131135, 0.16661485945218557, 0.04998445783565567, 0.04998445783565567, 0.04998445783565567, 0.48318309241133817, 0.1132343582823049, 0.8775662766878629, 0.9232403846557873, 0.08962349564304384, 0.07169879651443507, 0.11651054433595699, 0.02688704869291315, 0.08066114607873945, 0.03584939825721754, 0.07169879651443507, 0.04481174782152192, 0.0537740973858263, 0.02688704869291315, 0.3853810312650885, 0.9696707762464389, 0.9115403547838093, 0.05362002086963585, 0.019020020883855893, 0.31739659849934526, 0.14027265401843722, 0.029718782631024836, 0.09985510964024345, 0.11530887660837637, 0.01426501566289192, 0.04755005220963974, 0.024963777410060863, 0.03685129046247079, 0.019020020883855893, 0.026152528715301854, 0.03685129046247079, 0.008321259136686954, 0.06181506787253166, 0.11915759829364808, 0.05128301698713968, 0.054299665045206724, 0.14479910678721794, 0.02111653640646928, 0.00150832402903352, 0.4042308397809834, 0.00150832402903352, 0.09351608980007825, 0.028658156551636883, 0.07089122936457544, 0.004524972087100561, 0.004524972087100561, 0.018426758497596774, 0.66643443232975, 0.1566274472295726, 0.04299576982772581, 0.024569011330129033, 0.003071126416266129, 0.08292041323918549, 0.003071126416266129, 0.038674069250833026, 0.7691842662110124, 0.1203193265581472, 0.025782712833888687, 0.012891356416944343, 0.004297118805648114, 0.025782712833888687, 0.944877909127218, 0.8607498009563165, 0.008974470586708173, 0.004487235293354087, 0.2019255882009339, 0.0987191764537899, 0.008974470586708173, 0.51603205873572, 0.004487235293354087, 0.008974470586708173, 0.13910429409397668, 0.004487235293354087, 0.008592559095508254, 0.10955512846773023, 0.19118443987505862, 0.1525179239452715, 0.14822164439751737, 0.13318466598037793, 0.0021481397738770634, 0.047259075025295395, 0.0021481397738770634, 0.006444419321631189, 0.18474002055342745, 0.004296279547754127, 0.008592559095508254, 0.10140582241420944, 0.044365047306216626, 0.028520387553996406, 0.10457475436465348, 0.03485825145488449, 0.01901359170266427, 0.560900955228596, 0.003168931950444045, 0.08556116266198921, 0.00633786390088809, 0.00633786390088809, 0.8649558892921178, 0.060345759718054726, 0.020115253239351576, 0.020115253239351576, 0.10091956311258249, 0.06727970874172166, 0.03363985437086083, 0.06727970874172166, 0.7064369417880775, 0.2665133589143186, 0.22382957877569726, 0.07964168733181787, 0.07183367876987494, 0.025506161302346897, 0.0749568821946521, 0.12753080651173448, 0.001041067808259057, 0.03747844109732605, 0.06298460239967295, 0.015095483219756328, 0.0067669407536838705, 0.0036437373289067, 0.002602669520647643, 0.0005205339041295285, 0.16492716633750992, 0.12727038558414783, 0.12584038125174166, 0.1334670710245745, 0.07531356150672418, 0.014776711434863605, 0.230230697517391, 0.023356737429300535, 0.014776711434863605, 0.02145006498609233, 0.056246837074642106, 0.0033366767756143625, 0.004290012997218466, 0.0028600086648123105, 0.0014300043324061552, 0.9565576266600522, 0.9607257448046677, 0.021686730035681074, 0.04531555529843806, 0.11555466601101706, 0.5687102189953976, 0.028160380792600796, 0.10810996764055937, 0.056644444123047574, 0.017802539581529237, 0.0035605079163058477, 0.001942095227075917, 0.0029131428406138755, 0.014889396740915363, 0.009063111059687613, 0.005178920605535779, 0.3612643471034744, 0.25121030758850865, 0.009569916479562235, 0.01674735383923391, 0.028709749438686705, 0.07655933183649788, 0.007177437359671676, 0.007177437359671676, 0.20096824607080693, 0.03827966591824894, 0.040968164657337866, 0.09559238420045503, 0.15021660374357218, 0.5394141679882819, 0.12290449397201361, 0.02731210977155858, 0.02731210977155858, 0.9783314463571539, 0.08305656246878476, 0.07297455199569529, 0.05953187136490931, 0.03552708452422007, 0.12674527451883918, 0.0441688077868682, 0.3120622289289601, 0.08401675394241233, 0.0441688077868682, 0.01008201047308948, 0.05569110547039903, 0.046569286470937124, 0.007201436052206771, 0.018243637998923822, 0.0004800957368137848, 0.18932732569575322, 0.0757309302783013, 0.1281600358555868, 0.0757309302783013, 0.0320400089638967, 0.35244009860286374, 0.052429105577285515, 0.055341833664912486, 0.017476368525761836, 0.002912728087626973, 0.008738184262880918, 0.011650912350507891, 0.9599842211035295, 0.6897313016787789, 0.03019025899604083, 0.12540569121432346, 0.018578620920640512, 0.03251258661112089, 0.02322327615080064, 0.034834914226200955, 0.002322327615080064, 0.016256293305560447, 0.002322327615080064, 0.018578620920640512, 0.004644655230160128, 0.8995794076437591, 0.12021022652165358, 0.12021022652165358, 0.25043797192011163, 0.05008759438402233, 0.07012263213763126, 0.31555184461934066, 0.005008759438402233, 0.04007007550721786, 0.02003503775360893, 0.005008759438402233, 0.989460674667294, 0.15076737574589974, 0.1172094759831027, 0.176057387161341, 0.07197926325933278, 0.21399240428450286, 0.026749050535562858, 0.06176598941848151, 0.037448670749788, 0.0228582795485719, 0.009240581094103533, 0.02383097229531964, 0.04766194459063928, 0.013617698454468365, 0.025776357788815117, 0.04675479578828998, 0.005194977309809997, 0.8987310745971295, 0.05194977309809997, 0.00967419735642774, 0.0644946490428516, 0.4192152187785354, 0.06771938149499418, 0.02579785961714064, 0.10319143846856256, 0.02579785961714064, 0.03869678942571096, 0.00322473245214258, 0.23863020145855093, 0.00322473245214258, 0.8732525341556387, 0.27797500640048683, 0.5932043951020698, 0.060180156024847664, 0.014328608577344682, 0.05158299087844086, 0.11453187310993623, 0.7788167371475664, 0.09162549848794899, 0.1111915095939341, 0.04941844870841516, 0.8401136280430577, 0.9570771012458456, 0.11259917044626859, 0.8632603067547259, 0.7319572249413832, 0.11513933875482432, 0.08882177561086448, 0.0016448476964974902, 0.04276604010893475, 0.021383020054467374, 0.1108047884364206, 0.18217058437852202, 0.08075603225027264, 0.14367061551501992, 0.007512189046536989, 0.15869499360809391, 0.07230481957291852, 0.053524346956576055, 0.026292661662879465, 0.049768252433307555, 0.08169505588108976, 0.006573165415719866, 0.011268283569805485, 0.012207307200622608, 0.0037560945232684947, 0.9389825506931976, 0.9577665228044502, 0.965817606059149, 0.868811172873514, 0.04137196061302448, 0.04137196061302448, 0.051315488887594116, 0.03421032592506274, 0.051315488887594116, 0.1197361407377196, 0.051315488887594116, 0.10263097777518823, 0.03421032592506274, 0.01710516296253137, 0.5131548888759411, 0.9173878769971979, 0.015548947067749118, 0.04664684120324735, 0.015548947067749118, 0.9729548464630506, 0.3626544070269282, 0.01353188085921374, 0.018944633202899235, 0.016238257031056486, 0.043302018749483966, 0.0622466519523832, 0.05142114726501221, 0.021651009374741983, 0.1759144511697786, 0.2300419746066336, 0.002706376171842748, 0.9327365325224425, 0.21322271166420845, 0.10521774333756691, 0.0278722498907462, 0.09267523088673112, 0.00975528746176117, 0.22994606159865616, 0.05853172477056703, 0.029962668632552168, 0.07316465596320879, 0.10103690585395499, 0.0418083748361193, 0.004180837483611931, 0.0006968062472686551, 0.011845706203567136, 0.0006968062472686551, 0.8607497999868925, 0.8948909897560929, 0.013208723096030892, 0.05613707315813129, 0.02311526541805406, 0.00990654232202317, 0.9121755871136069, 0.12546972131579914, 0.031367430328949786, 0.8155531885526944, 0.9776838510058513, 0.014069615122022134, 0.42208845366066405, 0.5627846048808854, 0.8706993171940375, 0.9512419444073295, 0.9463340737750752, 0.027038116393573574, 0.028452297038419488, 0.06259505348452288, 0.02194891485820932, 0.031703988128524575, 0.23574760403261863, 0.10893165151852033, 0.17559131886567456, 0.1097445742910466, 0.03414275644610339, 0.04633659803399745, 0.061782130711996605, 0.06991135843725932, 0.0008129227725262711, 0.004877536635157626, 0.00812922772526271, 0.09429030952375383, 0.020831580011061893, 0.3420764717605953, 0.07784432530449445, 0.033988367386469404, 0.06249474003318568, 0.09648310741965509, 0.0975795063676057, 0.06797673477293881, 0.008771191583605007, 0.020831580011061893, 0.06139834108523506, 0.012060388427456886, 0.002192797895901252, 0.001096398947950626, 0.18393654905830994, 0.01558784314053474, 0.008313516341618529, 0.008313516341618529, 0.5393393726625021, 0.0904094902151015, 0.04780271896430654, 0.025979738567557902, 0.017666222225939374, 0.019744601311344007, 0.02390135948215327, 0.017666222225939374, 0.1516926369609742, 0.13500644689526706, 0.06750322344763353, 0.17292960613551062, 0.13955722600409629, 0.02654621146817049, 0.1441080051129255, 0.014410800511292551, 0.04550779108829227, 0.0022753895544146132, 0.030338527392194843, 0.037164696055438685, 0.016686190065707165, 0.015927726880902292, 0.12570418175805068, 0.009924014349319792, 0.09593213871009132, 0.04962007174659896, 0.1124721626256243, 0.4895847078997764, 0.013232019132426389, 0.003308004783106597, 0.029772043047959374, 0.04962007174659896, 0.016540023915532984, 0.02398378579504752, 0.517215554536677, 0.2116829789736803, 0.10010623636193747, 0.010427732954368487, 0.0010427732954368487, 0.0010427732954368487, 0.04692479829465819, 0.03024042556766861, 0.01564159943155273, 0.01564159943155273, 0.007299413068057941, 0.0010427732954368487, 0.019812692613300126, 0.8902723124515944, 0.02295831178241934, 0.0076527705941397805, 0.0025509235313799267, 0.015305541188279561, 0.020407388251039413, 0.017856464719659487, 0.020407388251039413, 0.8912044243762883, 0.9511931305081237, 0.10490802404284612, 0.04808284435297114, 0.09398010487171632, 0.14206294922468746, 0.4272816395911753, 0.006556751502677882, 0.0502684281871971, 0.009835127254016824, 0.04152609285029325, 0.005463959585564902, 0.03169096559627643, 0.017484670673807687, 0.012020711088242785, 0.008742335336903844, 0.9444132588271421, 0.9444132579104486, 0.390102668029064, 0.16303682934345382, 0.09545065281562205, 0.07114334371350711, 0.04327886742571683, 0.032607365868690764, 0.06521473173738153, 0.038535977844816355, 0.02608589269495261, 0.030235921078240524, 0.019564419521214457, 0.005335750778513034, 0.003557167185675356, 0.007114334371350712, 0.008892917964188389, 0.03835127995257886, 0.47665162226776575, 0.03287252567363902, 0.10409633129985689, 0.021915017115759345, 0.3177677481785105, 0.005478754278939836, 0.07795621454280659, 0.056695428758404796, 0.13465164330121138, 0.035434642974003, 0.042521571568803596, 0.6519974307216552, 0.0070869285948005995, 0.664255328309058, 0.024857787753769324, 0.0483345872989959, 0.04971557550753865, 0.023476799545226582, 0.06076348117588057, 0.009666917459799182, 0.022095811336683844, 0.019333834919598364, 0.03314371700502577, 0.013809882085427402, 0.0013809882085427402, 0.020714823128141102, 0.006904941042713701, 0.004142964625628221, 0.9448779075966023, 0.1971821224036928, 0.023474062190915808, 0.7136114906038405, 0.018779249752732645, 0.023474062190915808, 0.018779249752732645, 0.01940932409032735, 0.44884061958881993, 0.32995850953556494, 0.0388186481806547, 0.007278496533872756, 0.03154015164678194, 0.004852331022581837, 0.11645594454196409, 0.03379644654662968, 0.07392972682075243, 0.0612560593657663, 0.040133280274122746, 0.01689822327331484, 0.0844911163665742, 0.42456785974203537, 0.10561389545821775, 0.0612560593657663, 0.04435783609245146, 0.002112277909164355, 0.02957189072830097, 0.010561389545821776, 0.002112277909164355, 0.00844911163665742, 0.15782164201933613, 0.834200107816491, 0.1621106589401785, 0.09149427341699469, 0.06877421894431816, 0.14921549288811886, 0.020263832367522314, 0.1443030486778104, 0.06570394131287538, 0.09088021789070613, 0.08105532947008925, 0.0614055526288555, 0.02579033210411931, 0.007982721841751216, 0.00859677736803977, 0.01473733263092532, 0.007982721841751216, 0.8881396224969494, 0.0031421161492014593, 0.7603921081067532, 0.0062842322984029185, 0.021994813044410214, 0.009426348447604378, 0.19481120125049048, 0.0062842322984029185, 0.8592566818664422, 0.00987651358467175, 0.039506054338687, 0.00987651358467175, 0.0197530271693435, 0.00987651358467175, 0.049382567923358746, 0.9254022919389137, 0.9571864935353455, 0.9444132591868551, 0.8797073565148648, 0.03138424759614924, 0.8002983137018056, 0.12553699038459695, 0.03138424759614924, 0.18073010674744486, 0.01643000970431317, 0.2135901261560712, 0.01643000970431317, 0.06572003881725268, 0.5093303008337082, 0.9677037469327558, 0.8554373592732595, 0.8905627495075052, 0.07124501996060043, 0.023748339986866807, 0.8135017369511512, 0.9529956114678935, 0.9639567505382945, 0.05361441190911395, 0.5131665139872336, 0.08271937837406153, 0.15165219368577945, 0.01072288238182279, 0.007659201701301993, 0.007659201701301993, 0.047487050548072354, 0.01838208408312478, 0.09344226075588431, 0.01072288238182279, 0.019474295376191705, 0.7984461104238599, 0.06329145997262305, 0.02434286922023963, 0.004868573844047926, 0.002434286922023963, 0.03408001690833549, 0.012171434610119816, 0.041382877674407376, 0.9912308164442988, 0.983103330185048, 0.2744660228219862, 0.009802357957928078, 0.029407073873784235, 0.05391296876860443, 0.029407073873784235, 0.004901178978964039, 0.49501907687536795, 0.009802357957928078, 0.019604715915856157, 0.014703536936892117, 0.03920943183171231, 0.009802357957928078, 0.009802357957928078, 0.07396509460058377, 0.8690898615568594, 0.018491273650145943, 0.018491273650145943, 0.10959569995408519, 0.01594119272059421, 0.01594119272059421, 0.1753531199265363, 0.09564715632356525, 0.4244342561858208, 0.1335074890349765, 0.017933841810668486, 0.003985298180148552, 0.0059779472702228284, 0.001992649090074276, 0.36966273567179947, 0.030609016329512056, 0.023545397176547737, 0.14598146249459595, 0.07534527096495276, 0.009418158870619095, 0.03767263548247638, 0.03767263548247638, 0.22839035261251303, 0.03767263548247638, 0.002354539717654774, 0.014974168587200172, 0.9283984524064106, 0.04492250576160051, 0.3370055198112802, 0.2512222965865907, 0.007659216359347277, 0.024509492349911285, 0.006893294723412549, 0.04672121979201839, 0.011488824539020915, 0.26271112112561157, 0.02604133562178074, 0.009191059631216731, 0.0015318432718694553, 0.0015318432718694553, 0.012254746174955642, 0.9512419460560663, 0.297890920304937, 0.07291036510959997, 0.036455182554799986, 0.05624513879883426, 0.14165442364150851, 0.06666090524306283, 0.00624945986653714, 0.036455182554799986, 0.11144870095324566, 0.06874405853190854, 0.023956262821725704, 0.010415766444228567, 0.01562364966634285, 0.0312472993326857, 0.02499783946614856, 0.010177293593327304, 0.865069955432821, 0.07124105515329113, 0.005088646796663652, 0.015265940389990957, 0.005088646796663652, 0.02035458718665461, 0.9543413535351718, 0.006876324379804134, 0.03163109214709901, 0.1444028119758868, 0.020628973139412404, 0.44421055493534706, 0.03438162189902067, 0.06601271404611969, 0.02200423801537323, 0.03713215165094232, 0.0027505297519216537, 0.011002119007686615, 0.09076748181341457, 0.01787844338749075, 0.06601271404611969, 0.004125794627882481, 0.9485578233894634, 0.06694153982844643, 0.12049477169120358, 0.04016492389706786, 0.7631335540442894, 0.07607346777231695, 0.8368081454954864, 0.07116086754796787, 0.017356309158040942, 0.6118098978209432, 0.03644824923188598, 0.05033329655831873, 0.0052068927474122825, 0.011281600952726612, 0.17616653795411558, 0.0008678154579020472, 0.019091940073845036, 0.9748650450799522, 0.007617684435925765, 0.028213646058984312, 0.18677433691047615, 0.2028561151640972, 0.36113466955499923, 0.018338869938339802, 0.09507998721877714, 0.06686634115979283, 0.00451418336943749, 0.0008464093817695294, 0.0016928187635390588, 0.01805673347774996, 0.006771275054156235, 0.0002821364605898431, 0.0008464093817695294, 0.9543798304314105, 0.9549680615852267, 0.024486360553467354, 0.5056949909721505, 0.014448428313490014, 0.46234970603168046, 0.06397535581831001, 0.048676901166105443, 0.1432491662888246, 0.18566760873357363, 0.06536612442305588, 0.0834461162847522, 0.10708918256543197, 0.15785223663865622, 0.04659074825898664, 0.02155691337356098, 0.022947681978306853, 0.02851075639729033, 0.011821533140339893, 0.009039995930848154, 0.004172305814237609, 0.022167030363007902, 0.2733933744770975, 0.08127911133102898, 0.03694505060501317, 0.01477802024200527, 0.01477802024200527, 0.5098416983491818, 0.044334060726015805, 0.9315512869670413, 0.07476421927476071, 0.018691054818690177, 0.8784795764784383, 0.018691054818690177, 0.11534036503471899, 0.054277818839867764, 0.08141672825980165, 0.08141672825980165, 0.0067847273549834705, 0.0067847273549834705, 0.1831876385845537, 0.013569454709966941, 0.4410072780739256, 0.013569454709966941, 0.0067847273549834705, 0.9389743483126441, 0.9254022870137582, 0.9731409273453794, 0.8490507816212127, 0.2411462350625133, 0.28259324421388277, 0.037679099228517705, 0.03014327938281416, 0.04144700915136947, 0.00376790992285177, 0.037679099228517705, 0.0640544686884801, 0.0640544686884801, 0.03391118930566593, 0.00376790992285177, 0.15448430683692257, 0.9642401898311016, 0.44961179468647344, 0.10084041938162053, 0.020471363333110934, 0.05383210357966208, 0.10993880308522538, 0.03563533617245236, 0.05383210357966208, 0.04928291172785965, 0.05383210357966208, 0.017438568765242645, 0.025778753826880434, 0.006823787777703644, 0.005307390493769501, 0.015922171481308502, 0.048427469655140935, 0.9201219234476777, 0.951326097868887, 0.9674419673061517, 0.6059611986282268, 0.06895420536114305, 0.3050701206886935, 0.014626649622060648, 0.0020895213745800926, 0.9577665219776194, 0.9507989208772548, 0.003166890326605022, 0.06650469685870546, 0.10767427110457074, 0.06967158718531048, 0.4275301940916779, 0.025335122612840176, 0.07600536783852052, 0.2058478712293264, 0.01900134195963013, 0.003166890326605022, 0.05041165354174496, 0.7309689763553019, 0.08822039369805368, 0.1260291338543624, 0.9245685138560532, 0.8678871825237088, 0.01950308275334177, 0.009751541376670884, 0.009751541376670884, 0.01950308275334177, 0.009751541376670884, 0.03900616550668354, 0.9631656981806547, 0.012199356519196184, 0.17782908156828284, 0.04551298393700115, 0.10134850031332215, 0.06850407891548627, 0.09008755583406414, 0.4405844527509699, 0.016891416718887026, 0.005161266219659924, 0.014076180599072521, 0.013606974579103436, 0.006099678259598092, 0.000469206019969084, 0.007976502339474428, 0.18304769279158187, 0.05393369519751966, 0.22880961598947733, 0.08335207439616674, 0.10868456759500172, 0.002451531599887257, 0.20429429999060475, 0.01879507559913564, 0.038407328398233694, 0.011440480799473867, 0.01634354399924838, 0.04331039159800821, 0.003268708799849676, 0.002451531599887257, 0.02750440940183909, 0.15815035406057476, 0.006876102350459773, 0.06188492115413795, 0.17877866111195406, 0.025212375285019163, 0.018336272934559392, 0.41485817514440626, 0.0573008529204981, 0.009168136467279696, 0.004584068233639848, 0.01146017058409962, 0.02292034116819924, 0.9571007224650266, 0.132919461496349, 0.15301947762506518, 0.10698395681413456, 0.0265838922992698, 0.1860872460948886, 0.04603552081093063, 0.1277323605599061, 0.08104845213192012, 0.016209690426384024, 0.001945162851166083, 0.0414968074915431, 0.05446455983265032, 0.007132263787608971, 0.007780651404664332, 0.010374201872885775, 0.9385389710461667, 0.06913060299155625, 0.10986827975443762, 0.11110275480785828, 0.150605956517319, 0.06666165288471497, 0.09999247932707245, 0.012344750534206476, 0.12838540555574735, 0.07777192836550079, 0.022220550961571654, 0.020986075908151006, 0.06419270277787367, 0.00493790021368259, 0.06048927761761173, 0.9850899042638422, 0.025294271531858356, 0.10370651328061926, 0.1062359404338051, 0.13911849342522098, 0.027823698685044192, 0.14417734773159263, 0.03035312583823003, 0.015176562919115014, 0.11635364904654845, 0.1897070364889377, 0.037941407297787534, 0.020235417225486687, 0.005058854306371672, 0.005058854306371672, 0.03288255299141586, 0.023644273096833708, 0.047288546193667416, 0.898482377679681, 0.7843231146109092, 0.03565105066413223, 0.05602307961506494, 0.020372028950932704, 0.05602307961506494, 0.005093007237733176, 0.03565105066413223, 0.8808714609579072, 0.07758945075184591, 0.07040524234889721, 0.099142075960692, 0.19397362687961478, 0.037357883695333216, 0.22558414385258904, 0.09626839259951252, 0.005747366722358956, 0.099142075960692, 0.054599983862410086, 0.004310525041769217, 0.008621050083538435, 0.020115783528256347, 0.007184208402948695, 0.05553633813891423, 0.006170704237657137, 0.1172433805154856, 0.07404845085188565, 0.08638985932719992, 0.17895042289205698, 0.037024225425942824, 0.049365633901257096, 0.09873126780251419, 0.018512112712971412, 0.012341408475314274, 0.24682816950628547, 0.014119192514713616, 0.00847151550882817, 0.0367099005382554, 0.6494828556768264, 0.02541454652648451, 0.05930060856179719, 0.0028238385029427234, 0.011295354011770894, 0.019766869520599063, 0.1440157636500789, 0.02541454652648451, 0.02620638740586768, 0.09172235592053687, 0.7905593534103417, 0.00873546246862256, 0.00873546246862256, 0.06988369974898048, 0.0727938007329954, 0.8735256087959449, 0.9603034536867213, 0.9859968355167741, 0.8936913829045237, 0.16192542670247934, 0.07929528904881139, 0.06262104602452861, 0.11486700750061463, 0.08596498625852449, 0.11005000396026626, 0.08559444752465155, 0.06632643336325812, 0.07447828550846303, 0.05187542274221305, 0.07225505310522533, 0.011857239483934412, 0.0025937711371106526, 0.01074562328231556, 0.00926346834682376, 0.013098880590821923, 0.07204384324952058, 0.4464535134705139, 0.27180177225955493, 0.034930348242191794, 0.13317195267335621, 0.002183146765136987, 0.014190453973390417, 0.010915733825684936, 0.9272043804307026, 0.1725442707949928, 0.12227546749251458, 0.07879974571739828, 0.03939987285869914, 0.05434465221889537, 0.027172326109447684, 0.09238590877212213, 0.046192954386061066, 0.0869514435502326, 0.05570326852436776, 0.0434757217751163, 0.08831005985570498, 0.020379244582085763, 0.017662011971140996, 0.05570326852436776, 0.044394747782285034, 0.029596498521523358, 0.08878949556457007, 0.029596498521523358, 0.059192997043046716, 0.014798249260761679, 0.45874572708361205, 0.2663684866937102, 0.050182549309064774, 0.012545637327266193, 0.1630932852544605, 0.06272818663633097, 0.050182549309064774, 0.06272818663633097, 0.13800201059992812, 0.03763691198179858, 0.388914757145252, 0.025091274654532387, 0.16571162456007338, 0.08285581228003669, 0.7457023105203302, 0.013565558324689682, 0.006782779162344841, 0.013565558324689682, 0.9292407452412431, 0.006782779162344841, 0.013565558324689682, 0.006782779162344841, 0.04019047548155026, 0.008737059887293534, 0.01223188384221095, 0.001747411977458707, 0.8684637527969774, 0.015726707797128363, 0.005242235932376121, 0.006989647909834828, 0.005242235932376121, 0.033200827571715434, 0.15696276183599644, 0.03608339352551643, 0.05592925996455046, 0.04330007223061971, 0.24807333048792543, 0.07757929607986032, 0.016237527086482392, 0.13801898023510034, 0.009020848381379107, 0.0018041696762758214, 0.0072166787051032855, 0.0018041696762758214, 0.1686898647317893, 0.03518130868737852, 0.002706254514413732, 0.051638459441180624, 0.02660163062121426, 0.03599044142870165, 0.13457295490731921, 0.043814450434941137, 0.11892493689484022, 0.07824009006239489, 0.05789766664617221, 0.05476806304367642, 0.3771172341007433, 0.0031296036024957953, 0.006259207204991591, 0.010953612608735284, 0.9659329459637843, 0.08143750506261858, 0.03193627649514454, 0.23153800458979795, 0.4870282165509543, 0.007984069123786136, 0.022355393546601182, 0.05908211151601741, 0.025549021196115636, 0.014371324422815045, 0.007984069123786136, 0.014371324422815045, 0.0175649520723295, 0.5997589698266569, 0.026760898916150046, 0.03463175153854712, 0.03148341048958829, 0.10232108409116195, 0.01416753472031473, 0.011019193671355901, 0.14797202930106496, 0.007870852622397072, 0.01416753472031473, 0.009445023146876487, 0.8948523618160841, 0.08285670016815593, 0.9648379511803733, 0.7828913505407822, 0.008029654877341355, 0.0722668938960722, 0.03211861950936542, 0.008029654877341355, 0.012044482316012033, 0.012044482316012033, 0.06423723901873084, 0.9707757189571694, 0.01753723088368143, 0.7014892353472572, 0.0035074461767362858, 0.07014892353472572, 0.0035074461767362858, 0.04910424647430801, 0.010522338530208859, 0.14029784706945145, 0.017983767267495746, 0.1958232435793981, 0.06793867634387281, 0.13987374541385578, 0.009990981815275413, 0.003996392726110166, 0.019981963630550825, 0.013987374541385579, 0.057947694528597396, 0.13188095996163546, 0.12188997814636005, 0.02198015999360591, 0.1278845672355253, 0.003996392726110166, 0.06594047998081773, 0.27213845634478423, 0.059312227664888875, 0.03140059111670587, 0.00697790913704575, 0.390762911674562, 0.03837850025375163, 0.00697790913704575, 0.027911636548183, 0.08024595507602612, 0.06629013680193463, 0.017444772842614375, 0.9208660178293167, 0.5726084656098703, 0.07085790377112108, 0.04213172656661253, 0.06702774681051994, 0.1455459645028433, 0.021065863283306265, 0.0631975898499188, 0.009575392401502849, 0.0019150784803005697, 0.005745235440901709, 0.9937250288329736, 0.15779748478770686, 0.045084995653630534, 0.766444926111719, 0.023175660290626295, 0.08111481101719203, 0.15643570696172748, 0.42874971537658646, 0.003862610048437716, 0.10429047130781832, 0.042488710532814875, 0.005793915072656574, 0.03476349043593944, 0.02703827033906401, 0.02703827033906401, 0.007725220096875432, 0.028969575363282866, 0.003862610048437716, 0.025106965314845152, 0.008950035246166409, 0.1029254053309137, 0.19242575779257778, 0.219275863531077, 0.013425052869249613, 0.09845038770783049, 0.1253004934463297, 0.008950035246166409, 0.2237508811541602, 0.004475017623083204, 0.9746732399497986, 0.9420842601786534, 0.9701532716417924, 0.1087225857116718, 0.02045276364873034, 0.0845022077065964, 0.09419035890862656, 0.3401617533157257, 0.03767614356345063, 0.04628783352081077, 0.06404944405786607, 0.02529683924974542, 0.007535228712690125, 0.048978986632485816, 0.07427582588223124, 0.008611689957360143, 0.03929083543045565, 0.9584052719541706, 0.9507989206628452, 0.14690145813320263, 0.008641262243129565, 0.008641262243129565, 0.8295611753404383, 0.8670952711532821, 0.22875912947059146, 0.020796284497326498, 0.015597213372994871, 0.02599535562165812, 0.08318513798930599, 0.14557399148128547, 0.4367219744438564, 0.03639349787032137, 0.8490507825809442, 0.8763310985184992, 0.025218161108446022, 0.006304540277111506, 0.06304540277111505, 0.025218161108446022, 0.9705020204158561, 0.9056622124698332, 0.4798460141956171, 0.029846881265756086, 0.02755096732223639, 0.03443870915279548, 0.15612214815933953, 0.036734623096315186, 0.018367311548157593, 0.006887741830559097, 0.032142795209275786, 0.011479569717598495, 0.016071397604637893, 0.009183655774078796, 0.006887741830559097, 0.11709161111950465, 0.018367311548157593, 0.960423814912934, 0.05384773540101395, 0.9154115018172372, 0.04471405062022698, 0.13414215186068093, 0.7223038946344358, 0.055032677686433204, 0.03783496590942283, 0.9799840524785747, 0.9631656975350807, 0.3141480623493876, 0.043330767220605186, 0.19498845249272334, 0.021665383610302593, 0.42247498040090053, 0.04384460328232473, 0.11204731949927431, 0.08525339527118697, 0.15102030019467408, 0.07307433880387455, 0.00974324517384994, 0.11935475337966177, 0.012179056467312425, 0.0316655468150123, 0.28742573262857324, 0.02435811293462485, 0.03897298069539976, 0.012179056467312425, 0.16462761815134955, 0.4832087445489736, 0.15723784975552837, 0.045570238440897255, 0.03612775660179242, 0.03448558584716549, 0.005747597641194249, 0.012726823348358693, 0.02996961627194144, 0.000821085377313464, 0.015600622168955818, 0.0036948841979105884, 0.0028737988205971244, 0.007389768395821177, 0.9803491103360868, 0.9048279217984991, 0.08352257739678454, 0.051358766895514676, 0.9244578041192641, 0.9602730061740558, 0.9958689474971307, 0.23146388589009742, 0.030190941637838795, 0.020127294425225862, 0.040254588850451724, 0.06038188327567759, 0.020127294425225862, 0.5535005966937112, 0.040254588850451724, 0.010063647212612931, 0.893029585629532, 0.930592186681064, 0.9792873086708791, 0.054310283136879155, 0.8689645301900665, 0.02961400327456767, 0.08884200982370301, 0.14807001637283834, 0.7403500818641917, 0.1787155620420038, 0.09218332350387944, 0.03531928103596913, 0.0935960947453182, 0.022957532673379938, 0.24264346071710793, 0.0695789836408592, 0.048387415019277714, 0.0769960326584127, 0.10030675814215234, 0.020131990190502404, 0.007063856207193827, 0.002825542482877531, 0.006710663396834135, 0.002825542482877531, 0.11917359423171554, 0.11588928257966039, 0.0600559844947228, 0.1614004583295675, 0.009383747577300436, 0.19377438747125403, 0.062401921389047904, 0.022051806806656027, 0.07413160586067345, 0.1355951524919913, 0.027212867974171266, 0.0032843116520551528, 0.012198871850490567, 0.0009383747577300437, 0.0032843116520551528, 0.9349389031058085, 0.8670952697753092, 0.8935963552989454, 0.9267407508367178, 0.017005317450648556, 0.11285347035430404, 0.15768567090601388, 0.1607775468061318, 0.13836144653027688, 0.14841004320566012, 0.03323766592626763, 0.10435081162897977, 0.02628094515100231, 0.02628094515100231, 0.010821565650412717, 0.02628094515100231, 0.016232348475619076, 0.006956720775265318, 0.015459379500589596, 0.05451564483024496, 0.029075010576130645, 0.018171881610081653, 0.05451564483024496, 0.09812816069444093, 0.010903128966048992, 0.021806257932097985, 0.7087033827931845, 0.9004523100768198, 0.04099475165514682, 0.942879288068377, 0.9705898331875804, 0.9327365345599213, 0.09485825349511784, 0.0569149520970707, 0.12762746833888583, 0.048291474506605446, 0.02242104173520967, 0.12417807730269971, 0.28112536944916744, 0.13625094592935108, 0.04311738795232629, 0.008623477590465257, 0.0017246955180930516, 0.018971650699023568, 0.01034817310855831, 0.027595128289488825, 0.05092271842200116, 0.05658079824666796, 0.03394847894800077, 0.06789695789600154, 0.6280468605380143, 0.07921311754533514, 0.05092271842200116, 0.016974239474000386, 0.011316159649333591, 0.1030208878066275, 0.0068680591871085, 0.0343402959355425, 0.0114467653118475, 0.567759559467636, 0.059523179621607, 0.0160254714365865, 0.105310240868997, 0.013736118374217, 0.0114467653118475, 0.013736118374217, 0.0572338265592375, 0.041633561104764974, 0.8436274223860272, 0.015338680407018674, 0.02191240058145525, 0.0087649602325821, 0.0175299204651642, 0.024103640639600774, 0.019721160523309723, 0.0087649602325821, 0.026077910901654424, 0.7208679656385901, 0.10989976737125792, 0.04284228219557513, 0.0037254158430934893, 0.018627079215467444, 0.022352495058560934, 0.009313539607733722, 0.04097957427402838, 0.0037254158430934893, 0.1604837924994048, 0.0047905609701314866, 0.6610974138781452, 0.011976402425328717, 0.0023952804850657433, 0.016766963395460206, 0.02155752436559169, 0.03353392679092041, 0.08623009746236676, 0.03389134328261775, 0.0542261492521884, 0.3423025671544393, 0.5219266865523134, 0.00677826865652355, 0.02033480596957065, 0.003389134328261775, 0.003389134328261775, 0.010167402984785325, 0.09405476161956894, 0.12540634882609192, 0.03135158720652298, 0.03135158720652298, 0.7210865057500285, 0.035683775719963534, 0.019824319844424183, 0.07136755143992707, 0.06343782350215739, 0.1189459190665451, 0.011894591906654511, 0.06740268747104222, 0.09515673525323609, 0.4400999005462169, 0.02775404778219386, 0.043613503657733206, 0.9543798328826848, 0.9631656995665501, 0.03472354876784502, 0.01157451625594834, 0.0578725812797417, 0.18519226009517345, 0.03472354876784502, 0.6713219428450037, 0.021755878707567226, 0.060432996409908964, 0.41819633515657006, 0.14262187152738515, 0.009669279425585434, 0.031425158133152664, 0.024173198563963588, 0.041094437558738095, 0.024173198563963588, 0.0024173198563963586, 0.004834639712792717, 0.031425158133152664, 0.021755878707567226, 0.17162970980414147, 0.9655999957322717, 0.9411378398099812, 0.025436157832702196, 0.9597397720885251, 0.011362897069847734, 0.011362897069847734, 0.011362897069847734, 0.022725794139695468, 0.6931367212607118, 0.0340886912095432, 0.011362897069847734, 0.2045321472572592, 0.9512419444049215, 0.9566043337848246, 0.12575351611286786, 0.10513818560256166, 0.02886146271442869, 0.21439943730718458, 0.002061533051030621, 0.10513818560256166, 0.010307665255153104, 0.34839908562417493, 0.039169127969581795, 0.006184599153091863, 0.006184599153091863, 0.006184599153091863, 0.002061533051030621, 0.5258344211516187, 0.44247042755441085, 0.03206307446046456, 0.05697839945466548, 0.15953951847306333, 0.034187039672799284, 0.011395679890933095, 0.6495537537831865, 0.09116543912746476, 0.9004523123780187, 0.9004523123780187, 0.1428023400893404, 0.7854128704913721, 0.1673684029363327, 0.23852018775950798, 0.08893973102896907, 0.14634628469312186, 0.02021357523385661, 0.04285277949577601, 0.11238747830024275, 0.009702516112251171, 0.05498092463608997, 0.06872615579511247, 0.03557589241158763, 0.0032341720374170573, 0.007276887084188379, 0.004042715046771322, 0.9792873087837504, 0.1896102733592912, 0.0100274663795779, 0.0209665206118447, 0.0109390542322668, 0.2990008156819592, 0.1203295965549348, 0.0401098655183116, 0.22972013887760281, 0.0191433449064669, 0.0072927028215112, 0.0510489197505784, 0.9407044792242949, 0.40472141443179344, 0.035741631404366175, 0.16819591249113494, 0.16504223913192614, 0.01892204015525268, 0.02049887683485707, 0.09355897632319381, 0.0010512244530695933, 0.019447652381787476, 0.01419153011643951, 0.0021024489061391865, 0.0010512244530695933, 0.01419153011643951, 0.042048978122783735, 0.9851079379612488, 0.7772923870370821, 0.0794137732886183, 0.009625911913771915, 0.0048129559568859575, 0.045723081590416596, 0.016845345849100853, 0.02165830180598681, 0.007219433935328937, 0.03128421371975872, 0.0048129559568859575, 0.9477105257986879, 0.02868177306649817, 0.3154995037314799, 0.04015448229309744, 0.011472709226599268, 0.5851081705565627, 0.0172090638398989, 0.25754271652173455, 0.041565438425976146, 0.006520068772702141, 0.027710292283984098, 0.1809319084424844, 0.08639091123830336, 0.07253576509631132, 0.07742581667583792, 0.025265266494220798, 0.006520068772702141, 0.16544674510731683, 0.04319545561915168, 0.007335077369289908, 0.0016300171931755353, 0.9233987435793913, 0.8930295858020955, 0.0013570525471595888, 0.16556041075346983, 0.020355788207393834, 0.09092252065969246, 0.03256926113183013, 0.08413725792389451, 0.0027141050943191775, 0.40711576414787665, 0.14113346490459724, 0.014927578018755478, 0.0067852627357979445, 0.008142315282957533, 0.016284630565915066, 0.009499367830117122, 0.9392992224370207, 0.9668134570009795, 0.19656610066675032, 0.2227749140889837, 0.1048352536889335, 0.03931322013335006, 0.013104406711116687, 0.4062366080446173, 0.9543027878148854, 0.9657431780671437, 0.024143579451678592, 0.2831629452308586, 0.04086887869311361, 0.0642225236606071, 0.37949673072176926, 0.16347551477245445, 0.035030467451240235, 0.020434439346556806, 0.011676822483746746, 0.0029192056209366864, 0.9607860373752445, 0.893596352358512, 0.8735965080677105, 0.9127249538373712, 0.9655999958641839, 0.9537701410110786, 0.9315352407225375, 0.9543027877115202, 0.09392972351027122, 0.09392972351027122, 0.7514377880821698, 0.18863121483913384, 0.02357890185489173, 0.07073670556467519, 0.707367055646752, 0.21181678215925862, 0.762540415773331, 0.026110974945508316, 0.09356432688807147, 0.03699054783947012, 0.06310152278497844, 0.05657377904860135, 0.4199515137069254, 0.010879572893961797, 0.09791615604565619, 0.06962926652135551, 0.03263871868188539, 0.030462804103093034, 0.0021759145787923597, 0.004351829157584719, 0.006527743736377079, 0.05004603531222427, 0.9179716314744164, 0.04172598324883711, 0.012660803628286744, 0.1329384380970108, 0.012660803628286744, 0.14559924172529756, 0.03165200907071686, 0.10761683084043733, 0.10761683084043733, 0.012660803628286744, 0.03165200907071686, 0.050643214513146975, 0.044312812699003605, 0.3165200907071686, 0.03245043002823858, 0.03245043002823858, 0.843711180734203, 0.06490086005647716, 0.9432988801944158, 0.8183913062315752, 0.9721822295835173, 0.9768490515692713, 0.9056622125047068, 0.8960370387391784, 0.09600396843634054, 0.14831542867567485, 0.01225747344427065, 0.06373886191020738, 0.04167540971052021, 0.02941793626624956, 0.11889749240942529, 0.008580231410989455, 0.14218669195353953, 0.2610841843629648, 0.053932883154790855, 0.047804146432655535, 0.0245149468885413, 0.047804146432655535, 0.001225747344427065, 0.11108519821592015, 0.2740101555992697, 0.02221703964318403, 0.5628316709606621, 0.029622719524245375, 0.25521994837338285, 0.016290635002556356, 0.12489486835293205, 0.05430211667518785, 0.09231359834781934, 0.027151058337593924, 0.07602296334526298, 0.016290635002556356, 0.05973232834270663, 0.04344169334015028, 0.23349910170330773, 0.879707359875078, 0.8633626607629135, 0.8633626605014025, 0.0016289556164672738, 0.05701344657635458, 0.20687736329134376, 0.0032579112329345476, 0.5538449095988731, 0.17755616219493284, 0.9272043829463525, 0.9599842207808214, 0.010139593278743104, 0.016899322131238508, 0.09463620393493563, 0.013519457704990806, 0.006759728852495403, 0.8584855642669161, 0.9221748674387203, 0.04021260404987434, 0.0982974765663595, 0.053616805399832455, 0.04468067116652705, 0.0893613423330541, 0.004468067116652705, 0.272552094115815, 0.06255293963313786, 0.026808402699916228, 0.3082966310490366, 0.015249702709480931, 0.9149821625688559, 0.015249702709480931, 0.045749108128442795, 0.0076248513547404655, 0.02068088356967926, 0.7341713667236137, 0.12408530141807556, 0.01034044178483963, 0.07238309249387741, 0.02068088356967926, 0.02055377235645423, 0.17984550811897448, 0.20707925649127634, 0.1567225142179635, 0.03905216747726303, 0.0950611971486008, 0.0313445028435927, 0.033399880079238116, 0.09660273007533486, 0.07656280202779199, 0.015929173576252027, 0.007193820324758979, 0.008735353251493046, 0.007193820324758979, 0.024664526827745073, 0.07259817363127294, 0.8711780835752754, 0.4469831923815869, 0.06833191331810466, 0.008220380549546425, 0.023119820295599322, 0.05394624735639842, 0.0806624841424243, 0.07192832980853123, 0.031853974629492396, 0.02260604651125267, 0.15207704016660886, 0.02568868921733258, 0.008220380549546425, 0.005137737843466516, 0.0015413213530399547, 0.9389743482212077, 0.9121756195587871, 0.06569045327613471, 0.07763417205361374, 0.023887437554958077, 0.16721206288470652, 0.6151015170401705, 0.035831156332437115, 0.005971859388739519, 0.005971859388739519, 0.04766333616704061, 0.9532667233408123, 0.9165264591985389, 0.15285132306520727, 0.7642566153260364, 0.03821283076630182, 0.8735965062542016], \"Term\": [\"access\", \"access\", \"access\", \"access\", \"access\", \"access\", \"access\", \"access\", \"access\", \"access\", \"access\", \"access\", \"access\", \"access\", \"accessibility\", \"accessibility\", \"accessibility\", \"accessibility\", \"accessibility\", \"account\", \"account\", \"account\", \"account\", \"account\", \"account\", \"account\", \"account\", \"account\", \"account\", \"account\", \"account\", \"account\", \"account\", \"account\", \"accuracy\", \"accuracy\", \"accuracy\", \"accuracy\", \"accuracy\", \"accuracy\", \"accuracy\", \"accuracy\", \"acquia\", \"activity\", \"activity\", \"activity\", \"activity\", \"activity\", \"activity\", \"activity\", \"activity\", \"activity\", \"activity\", \"activity\", \"activity\", \"activity\", \"activity\", \"activity\", \"actually\", \"actually\", \"actually\", \"actually\", \"actually\", \"actually\", \"actually\", \"actually\", \"actually\", \"actually\", \"actually\", \"actually\", \"actually\", \"actually\", \"actually\", \"additive\", \"address\", \"address\", \"address\", \"address\", \"address\", \"address\", \"address\", \"address\", \"address\", \"address\", \"address\", \"address\", \"address\", \"address\", \"adtech\", \"african\", \"african\", \"agency\", \"agency\", \"agency\", \"agency\", \"agency\", \"agency\", \"agency\", \"agency\", \"aggregated\", \"aggregation\", \"aggregation\", \"aggregation\", \"aggregation\", \"agile\", \"agile\", \"agile\", \"agriculture\", \"agriculture\", \"airberlin\", \"airpods\", \"airport\", \"airport\", \"airport\", \"airport\", \"airport\", \"airport\", \"airport\", \"alecrimcoredata\", \"alfred\", \"alfred\", \"algorithm\", \"algorithm\", \"algorithm\", \"algorithm\", \"algorithm\", \"algorithm\", \"algorithm\", \"algorithm\", \"algorithmia\", \"allow\", \"allow\", \"allow\", \"allow\", \"allow\", \"allow\", \"allow\", \"allow\", \"allow\", \"allow\", \"allow\", \"allow\", \"allow\", \"allow\", \"alptitude\", \"ambient\", \"ambient\", \"ambient\", \"ambient\", \"ambient\", \"ambient\", \"ambient\", \"america\", \"america\", \"america\", \"america\", \"america\", \"america\", \"america\", \"america\", \"america\", \"america\", \"america\", \"america\", \"american\", \"american\", \"american\", \"american\", \"american\", \"american\", \"american\", \"american\", \"american\", \"american\", \"american\", \"american\", \"american\", \"analytic\", \"analytic\", \"analytic\", \"analytic\", \"analytic\", \"analytic\", \"analytic\", \"analytic\", \"andrejko\", \"android\", \"android\", \"android\", \"android\", \"android\", \"android\", \"android\", \"android\", \"android\", \"android\", \"angular\", \"angular\", \"angular\", \"angular\", \"animation\", \"animation\", \"animation\", \"animation\", \"animation\", \"animation\", \"animation\", \"apache\", \"apache\", \"apache\", \"apache\", \"apple\", \"apple\", \"apple\", \"apple\", \"apple\", \"apple\", \"apple\", \"apple\", \"apple\", \"application\", \"application\", \"application\", \"application\", \"application\", \"application\", \"application\", \"application\", \"application\", \"application\", \"application\", \"application\", \"application\", \"application\", \"aquifer\", \"aramaic\", \"architecture\", \"architecture\", \"architecture\", \"architecture\", \"architecture\", \"architecture\", \"architecture\", \"architecture\", \"architecture\", \"architecture\", \"architecture\", \"architecture\", \"arjan\", \"array\", \"array\", \"array\", \"array\", \"array\", \"array\", \"array\", \"array\", \"array\", \"array\", \"array\", \"article\", \"article\", \"article\", \"article\", \"article\", \"article\", \"article\", \"article\", \"article\", \"article\", \"article\", \"article\", \"article\", \"artificial\", \"artificial\", \"artificial\", \"artificial\", \"artificial\", \"artist\", \"artist\", \"artist\", \"artist\", \"artist\", \"artist\", \"artist\", \"artist\", \"asked\", \"asset\", \"asset\", \"asset\", \"asset\", \"asset\", \"asset\", \"asset\", \"asset\", \"assistant\", \"assistant\", \"assistant\", \"assistant\", \"assistant\", \"assistant\", \"async\", \"async\", \"async\", \"async\", \"attribute\", \"attribute\", \"attribute\", \"attribute\", \"attribute\", \"attribute\", \"attribute\", \"attribute\", \"attribute\", \"attribute\", \"attribute\", \"attribute\", \"audits\", \"aurelia\", \"authentication\", \"authentication\", \"authentication\", \"authentication\", \"authentication\", \"authentication\", \"authentication\", \"authentication\", \"authentication\", \"autocomplete\", \"autocomplete\", \"autofill\", \"autonomous\", \"autonomous\", \"autonomous\", \"autonomous\", \"autonomous\", \"autonomous\", \"autonomous\", \"available\", \"available\", \"available\", \"available\", \"available\", \"available\", \"available\", \"available\", \"available\", \"available\", \"available\", \"available\", \"available\", \"available\", \"available\", \"await\", \"await\", \"await\", \"await\", \"await\", \"await\", \"awards\", \"awards\", \"bacca\", \"backend\", \"backend\", \"backend\", \"backend\", \"backend\", \"backend\", \"backend\", \"backend\", \"backlog\", \"backlog\", \"backlog\", \"bacteria\", \"bacteria\", \"bacteria\", \"balancer\", \"balancing\", \"balancing\", \"balancing\", \"balancing\", \"banking\", \"banking\", \"banking\", \"banking\", \"banking\", \"banks\", \"barbell\", \"barcode\", \"barcode\", \"battery\", \"battery\", \"battery\", \"battery\", \"battery\", \"battery\", \"battery\", \"battery\", \"battery\", \"battery\", \"battery\", \"baveja\", \"bayesian\", \"bcrypt\", \"beacon\", \"beacon\", \"beacon\", \"beacon\", \"bengio\", \"bessen\", \"bezos\", \"bezos\", \"bezos\", \"bicycle\", \"bicycle\", \"bicycle\", \"bicycle\", \"bigquery\", \"bigquery\", \"bigtable\", \"bisect\", \"bitcasa\", \"bitcoin\", \"bitcoin\", \"bitcoin\", \"bitcoin\", \"bitfury\", \"bitfury\", \"bixpy\", \"black\", \"black\", \"black\", \"black\", \"black\", \"black\", \"black\", \"black\", \"black\", \"black\", \"black\", \"blake\", \"blockchain\", \"blomfield\", \"bluemix\", \"bluemix\", \"bluemix\", \"bluetooth\", \"bluetooth\", \"bluetooth\", \"bluetooth\", \"boards\", \"boards\", \"boards\", \"boards\", \"boehme\", \"boots\", \"botsman\", \"brain\", \"brain\", \"brain\", \"brain\", \"brain\", \"brain\", \"brainprint\", \"braintree\", \"brand\", \"brand\", \"brand\", \"brand\", \"brand\", \"brand\", \"brand\", \"brand\", \"brand\", \"brand\", \"brazil\", \"brazil\", \"brazil\", \"brazil\", \"brazilians\", \"brockman\", \"browser\", \"browser\", \"browser\", \"browser\", \"browser\", \"browser\", \"browser\", \"browser\", \"browser\", \"browser\", \"bucket\", \"bucket\", \"bucket\", \"bucket\", \"budget\", \"budget\", \"budget\", \"budget\", \"budget\", \"budget\", \"budget\", \"budget\", \"budget\", \"budget\", \"budget\", \"build\", \"build\", \"build\", \"build\", \"build\", \"build\", \"build\", \"build\", \"build\", \"build\", \"build\", \"build\", \"build\", \"build\", \"bundle\", \"bundle\", \"bundle\", \"bundle\", \"bundle\", \"bundle\", \"bundle\", \"bundle\", \"bundle\", \"bunnell\", \"burda\", \"burndown\", \"burnout\", \"business\", \"business\", \"business\", \"business\", \"business\", \"business\", \"business\", \"business\", \"business\", \"business\", \"business\", \"business\", \"business\", \"button\", \"button\", \"button\", \"button\", \"button\", \"button\", \"button\", \"button\", \"button\", \"button\", \"button\", \"button\", \"button\", \"buyer\", \"buyer\", \"buyer\", \"buyer\", \"buyer\", \"buyer\", \"buyer\", \"buytaert\", \"buzzfeed\", \"calayer\", \"callahan\", \"camera\", \"camera\", \"camera\", \"camera\", \"camera\", \"camera\", \"camera\", \"camera\", \"cannabis\", \"cappuccino\", \"caravel\", \"caravel\", \"cardboard\", \"cassandra\", \"catmull\", \"catransaction\", \"causal\", \"causal\", \"cello\", \"centauri\", \"ceramic\", \"cersei\", \"change\", \"change\", \"change\", \"change\", \"change\", \"change\", \"change\", \"change\", \"change\", \"change\", \"change\", \"change\", \"change\", \"change\", \"change\", \"chart\", \"chart\", \"chart\", \"chart\", \"chart\", \"chart\", \"chart\", \"chart\", \"chart\", \"chart\", \"chart\", \"chart\", \"chart\", \"chasm\", \"cheque\", \"cheque\", \"cheque\", \"cheque\", \"chester\", \"child\", \"child\", \"child\", \"child\", \"child\", \"child\", \"child\", \"child\", \"child\", \"child\", \"child\", \"child\", \"chirp\", \"chrome\", \"chrome\", \"chrome\", \"chrome\", \"chrome\", \"chrome\", \"chromebooks\", \"chromebooks\", \"chromecast\", \"churn\", \"churn\", \"churn\", \"churn\", \"churn\", \"churn\", \"churn\", \"churn\", \"circuit\", \"circuit\", \"circuit\", \"circuit\", \"circuit\", \"circuit\", \"citrus\", \"claire\", \"class\", \"class\", \"class\", \"class\", \"class\", \"class\", \"class\", \"class\", \"class\", \"class\", \"class\", \"class\", \"class\", \"class\", \"classification\", \"classification\", \"classifier\", \"click\", \"click\", \"click\", \"click\", \"click\", \"click\", \"click\", \"click\", \"click\", \"click\", \"click\", \"click\", \"clinton\", \"clinton\", \"clinton\", \"cloud\", \"cloud\", \"cloud\", \"cloud\", \"cloud\", \"cloud\", \"cloud\", \"cloud\", \"cloud\", \"cloudfront\", \"cloudhsm\", \"cloudwatch\", \"cluster\", \"cluster\", \"cluster\", \"cluster\", \"cluster\", \"cluster\", \"cluster\", \"cluster\", \"coach\", \"coach\", \"coach\", \"coach\", \"coach\", \"coach\", \"coach\", \"coaching\", \"coaching\", \"coaching\", \"coauthor\", \"coauthor\", \"coffee\", \"coffee\", \"coffee\", \"coffee\", \"coffee\", \"coffee\", \"coffee\", \"coffee\", \"cognizant\", \"cognizant\", \"coindesk\", \"coinfest\", \"coldline\", \"collection\", \"collection\", \"collection\", \"collection\", \"collection\", \"collection\", \"collection\", \"collection\", \"collection\", \"collection\", \"collection\", \"collection\", \"collection\", \"collection\", \"color\", \"color\", \"color\", \"color\", \"color\", \"color\", \"color\", \"color\", \"color\", \"color\", \"color\", \"comic\", \"comic\", \"command\", \"command\", \"command\", \"command\", \"command\", \"command\", \"command\", \"command\", \"command\", \"command\", \"command\", \"command\", \"commerce\", \"commerce\", \"commerce\", \"commerce\", \"commerce\", \"commerce\", \"commerce\", \"commerce\", \"commerce\", \"commit\", \"commit\", \"commit\", \"commit\", \"commit\", \"commit\", \"commit\", \"commit\", \"commit\", \"commit\", \"commit\", \"commit\", \"community\", \"community\", \"community\", \"community\", \"community\", \"community\", \"community\", \"community\", \"community\", \"community\", \"community\", \"community\", \"community\", \"community\", \"community\", \"company\", \"company\", \"company\", \"company\", \"company\", \"company\", \"company\", \"company\", \"company\", \"company\", \"company\", \"company\", \"company\", \"company\", \"compiler\", \"compiler\", \"compiler\", \"compiler\", \"compiler\", \"component\", \"component\", \"component\", \"component\", \"component\", \"component\", \"component\", \"component\", \"component\", \"component\", \"component\", \"component\", \"component\", \"compound\", \"compound\", \"compound\", \"compound\", \"compound\", \"compound\", \"compound\", \"compound\", \"compound\", \"computational\", \"computational\", \"computational\", \"compute\", \"compute\", \"compute\", \"compute\", \"compute\", \"compute\", \"compute\", \"compute\", \"computer\", \"computer\", \"computer\", \"computer\", \"computer\", \"computer\", \"computer\", \"computer\", \"computer\", \"computer\", \"computer\", \"computer\", \"computer\", \"computer\", \"computer\", \"concatenation\", \"conditional\", \"conditional\", \"conditional\", \"configuration\", \"configuration\", \"configuration\", \"configuration\", \"configuration\", \"configuration\", \"configuration\", \"configuration\", \"configuration\", \"configure\", \"configure\", \"configure\", \"configure\", \"configure\", \"configure\", \"configure\", \"configure\", \"conjugate\", \"connections\", \"consensys\", \"consortium\", \"consortium\", \"consortium\", \"constraint\", \"constraint\", \"constraint\", \"constraint\", \"constraint\", \"constraint\", \"constraint\", \"constraint\", \"constraint\", \"constraint\", \"constraint\", \"constraintlayout\", \"constructor\", \"consultancy\", \"consultancy\", \"consultancy\", \"consumer\", \"consumer\", \"consumer\", \"consumer\", \"consumer\", \"consumer\", \"consumer\", \"consumer\", \"consumer\", \"consumer\", \"consumer\", \"consumer\", \"contain\", \"contain\", \"contain\", \"contain\", \"contain\", \"contain\", \"contain\", \"contain\", \"contain\", \"contain\", \"contain\", \"contain\", \"contain\", \"container\", \"container\", \"container\", \"container\", \"container\", \"container\", \"containers\", \"containers\", \"containment\", \"containment\", \"containment\", \"content\", \"content\", \"content\", \"content\", \"content\", \"content\", \"content\", \"content\", \"content\", \"content\", \"content\", \"content\", \"content\", \"content\", \"content\", \"continuous\", \"continuous\", \"continuous\", \"continuous\", \"continuous\", \"continuous\", \"continuous\", \"continuous\", \"contract\", \"contract\", \"contract\", \"contract\", \"contract\", \"contract\", \"contract\", \"contract\", \"contrib\", \"contrib\", \"contribute\", \"contribute\", \"contribute\", \"contribute\", \"contribute\", \"contribute\", \"contribute\", \"contribute\", \"contribute\", \"contribute\", \"contribute\", \"contribute\", \"contribute\", \"contribute\", \"contributed\", \"contributor\", \"contributor\", \"contributor\", \"contributor\", \"contributor\", \"contributor\", \"contributor\", \"contributor\", \"contributor\", \"contributor\", \"conversion\", \"conversion\", \"conversion\", \"conversion\", \"conversion\", \"conversion\", \"conversion\", \"converter\", \"converter\", \"converter\", \"converter\", \"converter\", \"convolutional\", \"cookie\", \"cookie\", \"cookie\", \"cookie\", \"cookie\", \"cookie\", \"cookie\", \"copywrite\", \"corda\", \"corda\", \"corrado\", \"count\", \"count\", \"count\", \"count\", \"count\", \"count\", \"count\", \"count\", \"count\", \"count\", \"count\", \"count\", \"count\", \"country\", \"country\", \"country\", \"country\", \"country\", \"country\", \"country\", \"country\", \"country\", \"country\", \"country\", \"country\", \"country\", \"country\", \"coverage\", \"coverage\", \"coverage\", \"coverage\", \"coverage\", \"coverage\", \"coverage\", \"coverage\", \"coverage\", \"coverage\", \"crack\", \"crack\", \"crack\", \"crack\", \"crack\", \"crack\", \"crack\", \"crack\", \"crack\", \"create\", \"create\", \"create\", \"create\", \"create\", \"create\", \"create\", \"create\", \"create\", \"create\", \"create\", \"create\", \"create\", \"create\", \"create\", \"credit\", \"credit\", \"credit\", \"credit\", \"credit\", \"credit\", \"credit\", \"credit\", \"credit\", \"credit\", \"credit\", \"credit\", \"credit\", \"credits\", \"credits\", \"credits\", \"credits\", \"credits\", \"creep\", \"creep\", \"creep\", \"creep\", \"creep\", \"cropx\", \"crowdflower\", \"culture\", \"culture\", \"culture\", \"culture\", \"culture\", \"culture\", \"culture\", \"culture\", \"currency\", \"currency\", \"currency\", \"currency\", \"currency\", \"currency\", \"customer\", \"customer\", \"customer\", \"customer\", \"customer\", \"customer\", \"customer\", \"customer\", \"customer\", \"customer\", \"customer\", \"cyclist\", \"cyclist\", \"cyclist\", \"cyclist\", \"dagger\", \"dagger\", \"dagger\", \"dakuten\", \"database\", \"database\", \"database\", \"database\", \"database\", \"database\", \"database\", \"database\", \"database\", \"dataflow\", \"dataflow\", \"dataproc\", \"dataset\", \"dataset\", \"dataset\", \"dataset\", \"dataset\", \"datastax\", \"datastore\", \"datum\", \"datum\", \"datum\", \"datum\", \"datum\", \"datum\", \"datum\", \"datum\", \"datum\", \"datum\", \"datum\", \"datum\", \"datum\", \"datum\", \"datum\", \"death\", \"death\", \"death\", \"death\", \"death\", \"death\", \"death\", \"death\", \"death\", \"death\", \"death\", \"debit\", \"debit\", \"debut\", \"debut\", \"debut\", \"decision\", \"decision\", \"decision\", \"decision\", \"decision\", \"decision\", \"decision\", \"decision\", \"decision\", \"decision\", \"decision\", \"decision\", \"decision\", \"decouple\", \"decouple\", \"decouple\", \"decouple\", \"decouple\", \"decoupled\", \"decoupled\", \"decoupled\", \"decrypt\", \"deepmind\", \"deeptext\", \"default\", \"default\", \"default\", \"default\", \"default\", \"default\", \"default\", \"default\", \"default\", \"default\", \"default\", \"default\", \"default\", \"defect\", \"defect\", \"defect\", \"defect\", \"define\", \"define\", \"define\", \"define\", \"define\", \"define\", \"define\", \"define\", \"define\", \"define\", \"define\", \"define\", \"define\", \"deliver\", \"deliver\", \"deliver\", \"deliver\", \"deliver\", \"deliver\", \"deliver\", \"deliver\", \"deliver\", \"deliver\", \"deliver\", \"deliver\", \"deliver\", \"deliver\", \"delivery\", \"delivery\", \"delivery\", \"delivery\", \"delivery\", \"delivery\", \"delivery\", \"delivery\", \"demandware\", \"dependency\", \"dependency\", \"dependency\", \"dependency\", \"dependency\", \"dependency\", \"dependency\", \"deploy\", \"deploy\", \"deploy\", \"deploy\", \"deploy\", \"deploy\", \"deploy\", \"deploy\", \"deploy\", \"deploy\", \"deployment\", \"deployment\", \"deployment\", \"deployment\", \"deployment\", \"deployment\", \"deployment\", \"deployment\", \"deployment\", \"design\", \"design\", \"design\", \"design\", \"design\", \"design\", \"design\", \"design\", \"design\", \"design\", \"design\", \"design\", \"design\", \"design\", \"design\", \"desktop\", \"desktop\", \"desktop\", \"desktop\", \"desktop\", \"desktop\", \"desktop\", \"desktop\", \"desktop\", \"desktop\", \"developer\", \"developer\", \"developer\", \"developer\", \"developer\", \"developer\", \"developer\", \"developer\", \"developer\", \"developer\", \"developer\", \"developer\", \"developer\", \"developer\", \"development\", \"development\", \"development\", \"development\", \"development\", \"development\", \"development\", \"development\", \"development\", \"development\", \"development\", \"development\", \"development\", \"development\", \"development\", \"device\", \"device\", \"device\", \"device\", \"device\", \"device\", \"device\", \"device\", \"device\", \"device\", \"device\", \"device\", \"device\", \"device\", \"devops\", \"devops\", \"devops\", \"devtools\", \"diageo\", \"different\", \"different\", \"different\", \"different\", \"different\", \"different\", \"different\", \"different\", \"different\", \"different\", \"different\", \"different\", \"different\", \"different\", \"different\", \"digital\", \"digital\", \"digital\", \"digital\", \"digital\", \"digital\", \"digital\", \"digital\", \"digital\", \"digital\", \"digitization\", \"digitization\", \"digitization\", \"directory\", \"directory\", \"directory\", \"directory\", \"directory\", \"directory\", \"display\", \"display\", \"display\", \"display\", \"display\", \"display\", \"display\", \"display\", \"display\", \"display\", \"display\", \"display\", \"display\", \"display\", \"disruption\", \"disruption\", \"disruption\", \"disruption\", \"disruption\", \"distribution\", \"distribution\", \"distribution\", \"distribution\", \"distribution\", \"distribution\", \"distribution\", \"distribution\", \"distribution\", \"distribution\", \"django\", \"docker\", \"docker\", \"docker\", \"dockerfile\", \"document\", \"document\", \"document\", \"document\", \"document\", \"document\", \"document\", \"document\", \"document\", \"document\", \"document\", \"dogville\", \"dotnet\", \"dries\", \"drive\", \"drive\", \"drive\", \"drive\", \"drive\", \"drive\", \"drive\", \"drive\", \"drive\", \"drive\", \"drive\", \"drive\", \"drive\", \"drive\", \"drive\", \"driving\", \"driving\", \"driving\", \"dropbox\", \"dropbox\", \"dropbox\", \"drupal\", \"drupalcon\", \"drush\", \"dynamodb\", \"earth\", \"earth\", \"earth\", \"earth\", \"earth\", \"earth\", \"earth\", \"earth\", \"earth\", \"earth\", \"ecommerce\", \"ecommerce\", \"ecommerce\", \"ecommerce\", \"ecommerce\", \"ecommerce\", \"ecommerce\", \"ecommerce\", \"ecommerce\", \"eddystone\", \"elastic\", \"elastic\", \"elasticsearch\", \"electoral\", \"electron\", \"electron\", \"element\", \"element\", \"element\", \"element\", \"element\", \"element\", \"element\", \"element\", \"element\", \"element\", \"element\", \"element\", \"element\", \"elixir\", \"email\", \"email\", \"email\", \"email\", \"email\", \"email\", \"email\", \"email\", \"email\", \"email\", \"email\", \"email\", \"email\", \"emoji\", \"emoji\", \"emoji\", \"employee\", \"employee\", \"employee\", \"employee\", \"employee\", \"employee\", \"employee\", \"emulator\", \"emulator\", \"encrypt\", \"encrypt\", \"encrypt\", \"encrypt\", \"encrypt\", \"encrypt\", \"encryption\", \"encryption\", \"encryption\", \"encryption\", \"engine\", \"engine\", \"engine\", \"engine\", \"engine\", \"engine\", \"engine\", \"engine\", \"engine\", \"engine\", \"engineer\", \"engineer\", \"engineer\", \"engineer\", \"engineer\", \"engineer\", \"engineer\", \"engineer\", \"engineer\", \"engineer\", \"engineer\", \"engineer\", \"english\", \"english\", \"english\", \"english\", \"english\", \"english\", \"english\", \"english\", \"english\", \"english\", \"english\", \"enterprise\", \"enterprise\", \"enterprise\", \"enterprise\", \"enterprise\", \"enterprise\", \"enterprise\", \"enterprise\", \"environment\", \"environment\", \"environment\", \"environment\", \"environment\", \"environment\", \"environment\", \"environment\", \"environment\", \"environment\", \"environment\", \"environment\", \"environment\", \"environment\", \"epidemic\", \"ericsson\", \"ericsson\", \"ericsson\", \"ericsson\", \"error\", \"error\", \"error\", \"error\", \"error\", \"error\", \"error\", \"error\", \"error\", \"error\", \"error\", \"esperanto\", \"estimate\", \"estimate\", \"estimate\", \"estimate\", \"estimate\", \"estimate\", \"estimate\", \"estimate\", \"estimate\", \"estimate\", \"estimate\", \"estonia\", \"ether\", \"ether\", \"ethereum\", \"ethereum\", \"ethereum\", \"eucalyptus\", \"europe\", \"europe\", \"europe\", \"europe\", \"europe\", \"europe\", \"europe\", \"europe\", \"europe\", \"europe\", \"europe\", \"event\", \"event\", \"event\", \"event\", \"event\", \"event\", \"event\", \"event\", \"event\", \"event\", \"event\", \"event\", \"event\", \"event\", \"example\", \"example\", \"example\", \"example\", \"example\", \"example\", \"example\", \"example\", \"example\", \"example\", \"example\", \"example\", \"example\", \"example\", \"example\", \"exception\", \"exception\", \"exception\", \"exception\", \"exception\", \"exception\", \"exception\", \"exception\", \"exception\", \"exception\", \"exceptionservice\", \"exhibitor\", \"exomars\", \"expander\", \"experience\", \"experience\", \"experience\", \"experience\", \"experience\", \"experience\", \"experience\", \"experience\", \"experience\", \"experience\", \"experience\", \"experience\", \"experience\", \"experience\", \"experience\", \"exponential\", \"exponential\", \"exponential\", \"facebook\", \"facebook\", \"facebook\", \"facebook\", \"facebook\", \"facebook\", \"facebook\", \"facebook\", \"facebook\", \"facebook\", \"facebook\", \"failover\", \"fasttext\", \"favro\", \"feature\", \"feature\", \"feature\", \"feature\", \"feature\", \"feature\", \"feature\", \"feature\", \"feature\", \"feature\", \"feature\", \"feature\", \"feature\", \"feature\", \"feature\", \"features\", \"features\", \"features\", \"federighi\", \"female\", \"female\", \"female\", \"female\", \"female\", \"female\", \"female\", \"field\", \"field\", \"field\", \"field\", \"field\", \"field\", \"field\", \"field\", \"field\", \"field\", \"field\", \"field\", \"field\", \"filter\", \"filter\", \"filter\", \"filter\", \"filter\", \"filter\", \"filter\", \"finance\", \"finance\", \"finance\", \"finance\", \"finance\", \"finance\", \"finance\", \"finance\", \"financial\", \"financial\", \"financial\", \"financial\", \"financial\", \"financial\", \"financial\", \"financial\", \"financial\", \"fintech\", \"firebase\", \"firebase\", \"firewall\", \"fjord\", \"focus\", \"focus\", \"focus\", \"focus\", \"focus\", \"focus\", \"focus\", \"focus\", \"focus\", \"focus\", \"focus\", \"focus\", \"focus\", \"focus\", \"focus\", \"folder\", \"folder\", \"folder\", \"folder\", \"folder\", \"folder\", \"follow\", \"follow\", \"follow\", \"follow\", \"follow\", \"follow\", \"follow\", \"follow\", \"follow\", \"follow\", \"follow\", \"follow\", \"follow\", \"follow\", \"follow\", \"framework\", \"framework\", \"framework\", \"framework\", \"framework\", \"framework\", \"framework\", \"framework\", \"framework\", \"framework\", \"framework\", \"framework\", \"franz\", \"franz\", \"friend\", \"friend\", \"friend\", \"friend\", \"friend\", \"friend\", \"friend\", \"friend\", \"friend\", \"friend\", \"friend\", \"friend\", \"friend\", \"function\", \"function\", \"function\", \"function\", \"function\", \"function\", \"function\", \"function\", \"function\", \"function\", \"function\", \"function\", \"function\", \"function\", \"futhark\", \"galen\", \"gateway\", \"gateway\", \"gateway\", \"gcloud\", \"gender\", \"gender\", \"gender\", \"gender\", \"gender\", \"gender\", \"generate\", \"generate\", \"generate\", \"generate\", \"generate\", \"generate\", \"generate\", \"generate\", \"generate\", \"generate\", \"generate\", \"generate\", \"generate\", \"generate\", \"generator\", \"generator\", \"generator\", \"generator\", \"generator\", \"generic\", \"generic\", \"generic\", \"generic\", \"generic\", \"generic\", \"generic\", \"generic\", \"giannandrea\", \"gitlab\", \"gitlab\", \"global\", \"global\", \"global\", \"global\", \"global\", \"global\", \"global\", \"global\", \"global\", \"global\", \"global\", \"global\", \"globant\", \"goldin\", \"goodson\", \"goofs\", \"google\", \"google\", \"google\", \"google\", \"google\", \"google\", \"google\", \"google\", \"google\", \"google\", \"google\", \"google\", \"gourmet\", \"governance\", \"governance\", \"governance\", \"government\", \"government\", \"government\", \"government\", \"government\", \"government\", \"government\", \"government\", \"government\", \"government\", \"government\", \"graphene\", \"great\", \"great\", \"great\", \"great\", \"great\", \"great\", \"great\", \"great\", \"great\", \"great\", \"great\", \"great\", \"great\", \"great\", \"great\", \"greta\", \"growth\", \"growth\", \"growth\", \"growth\", \"growth\", \"growth\", \"growth\", \"growth\", \"growth\", \"growth\", \"growth\", \"growth\", \"guava\", \"guild\", \"habitat\", \"habitat\", \"halal\", \"hangout\", \"hangout\", \"hangouts\", \"hangouts\", \"hangouts\", \"happen\", \"happen\", \"happen\", \"happen\", \"happen\", \"happen\", \"happen\", \"happen\", \"happen\", \"happen\", \"happen\", \"happen\", \"happen\", \"happen\", \"happen\", \"harald\", \"hashcat\", \"hashmap\", \"heading\", \"heading\", \"helix\", \"hemingway\", \"hendrix\", \"herobuttoncomponent\", \"heroescomponent\", \"heron\", \"heroservice\", \"hinton\", \"hiragana\", \"hoffer\", \"hollar\", \"homebot\", \"honcho\", \"honcho\", \"honcho\", \"hopper\", \"hopper\", \"hubble\", \"human\", \"human\", \"human\", \"human\", \"human\", \"human\", \"human\", \"human\", \"human\", \"human\", \"human\", \"human\", \"human\", \"humanitarian\", \"hyperdev\", \"hyperledger\", \"hyperparameter\", \"ibook\", \"icaza\", \"icaza\", \"icloud\", \"icloud\", \"icloud\", \"image\", \"image\", \"image\", \"image\", \"image\", \"image\", \"image\", \"image\", \"image\", \"image\", \"image\", \"image\", \"image\", \"image\", \"image\", \"imagenet\", \"immutable\", \"immutable\", \"immutable\", \"impeachment\", \"impersonation\", \"implement\", \"implement\", \"implement\", \"implement\", \"implement\", \"implement\", \"implement\", \"implement\", \"implement\", \"implement\", \"implement\", \"implementation\", \"implementation\", \"implementation\", \"implementation\", \"implementation\", \"implementation\", \"implementation\", \"implementation\", \"implementation\", \"implementation\", \"impression\", \"impression\", \"impression\", \"impression\", \"impression\", \"impression\", \"impression\", \"impression\", \"impression\", \"impression\", \"inbox\", \"inbox\", \"inbox\", \"inbox\", \"include\", \"include\", \"include\", \"include\", \"include\", \"include\", \"include\", \"include\", \"include\", \"include\", \"include\", \"include\", \"include\", \"include\", \"include\", \"income\", \"income\", \"income\", \"income\", \"income\", \"incumbent\", \"incumbent\", \"incumbent\", \"incumbent\", \"index\", \"index\", \"index\", \"index\", \"index\", \"index\", \"index\", \"index\", \"index\", \"industry\", \"industry\", \"industry\", \"industry\", \"industry\", \"industry\", \"industry\", \"industry\", \"industry\", \"industry\", \"industry\", \"industry\", \"inflation\", \"inflation\", \"information\", \"information\", \"information\", \"information\", \"information\", \"information\", \"information\", \"information\", \"information\", \"information\", \"information\", \"information\", \"information\", \"information\", \"information\", \"infrastructure\", \"infrastructure\", \"infrastructure\", \"infrastructure\", \"infrastructure\", \"infrastructure\", \"infrastructure\", \"infrastructure\", \"infrastructure\", \"infrastructure\", \"inhabitant\", \"injection\", \"injection\", \"injection\", \"injection\", \"injection\", \"injection\", \"injection\", \"injection\", \"innersource\", \"innovation\", \"innovation\", \"innovation\", \"innovation\", \"innovation\", \"innovation\", \"innovation\", \"innovation\", \"innovation\", \"innovation\", \"innovation\", \"instal\", \"instal\", \"instal\", \"instal\", \"instal\", \"instal\", \"instal\", \"instal\", \"instal\", \"instal\", \"instal\", \"install\", \"install\", \"install\", \"install\", \"install\", \"install\", \"install\", \"install\", \"install\", \"install\", \"install\", \"instance\", \"instance\", \"instance\", \"instance\", \"instance\", \"instance\", \"instance\", \"instance\", \"instance\", \"instance\", \"instance\", \"instance\", \"instance\", \"instance\", \"instances\", \"instapaper\", \"institution\", \"institution\", \"institution\", \"institution\", \"institution\", \"institution\", \"institution\", \"insurance\", \"insurance\", \"insurance\", \"insurer\", \"insurtech\", \"integer\", \"integer\", \"intelligence\", \"intelligence\", \"intelligence\", \"intelligence\", \"intelligence\", \"intelligence\", \"intelligence\", \"intelligence\", \"intelligence\", \"intelligence\", \"internet\", \"internet\", \"internet\", \"internet\", \"internet\", \"internet\", \"internet\", \"internet\", \"internet\", \"internet\", \"internet\", \"internet\", \"internet\", \"internet\", \"intolerant\", \"intolerant\", \"intranet\", \"intranet\", \"intranet\", \"investment\", \"investment\", \"investment\", \"investment\", \"investment\", \"investment\", \"investment\", \"investment\", \"iphone\", \"iphone\", \"iphone\", \"issue\", \"issue\", \"issue\", \"issue\", \"issue\", \"issue\", \"issue\", \"issue\", \"issue\", \"issue\", \"issue\", \"issue\", \"issue\", \"issue\", \"issue\", \"itunes\", \"itunes\", \"jacaranda\", \"jacoco\", \"jacoco\", \"jacquard\", \"jamboard\", \"japanese\", \"japanese\", \"japanese\", \"japanese\", \"japanese\", \"japanese\", \"japanese\", \"jasonette\", \"jassy\", \"javascript\", \"javascript\", \"javascript\", \"javascript\", \"javascript\", \"javascript\", \"javetski\", \"jenkin\", \"jenkins\", \"jenkins\", \"jpmorgan\", \"jshell\", \"jshint\", \"julie\", \"julie\", \"kanban\", \"kanban\", \"kanji\", \"kelley\", \"keras\", \"keystoneml\", \"keyword\", \"keyword\", \"keyword\", \"keyword\", \"keyword\", \"kimberly\", \"kinesis\", \"kinvey\", \"knapp\", \"knuedge\", \"kopin\", \"korneyev\", \"kosher\", \"kosher\", \"kotlin\", \"krita\", \"kubectl\", \"kubectl\", \"kubernetes\", \"kurzweil\", \"label\", \"label\", \"label\", \"label\", \"label\", \"label\", \"label\", \"label\", \"label\", \"label\", \"label\", \"label\", \"lander\", \"language\", \"language\", \"language\", \"language\", \"language\", \"language\", \"language\", \"language\", \"language\", \"language\", \"language\", \"language\", \"language\", \"latin\", \"latin\", \"latin\", \"latin\", \"laude\", \"launch\", \"launch\", \"launch\", \"launch\", \"launch\", \"launch\", \"launch\", \"launch\", \"launch\", \"launch\", \"launch\", \"launch\", \"layout\", \"layout\", \"layout\", \"layout\", \"layout\", \"layout\", \"layout\", \"leader\", \"leader\", \"leader\", \"leader\", \"leader\", \"leader\", \"leader\", \"leader\", \"leader\", \"leader\", \"leadership\", \"leadership\", \"leadership\", \"leadership\", \"leadership\", \"leadership\", \"leadfeeder\", \"learn\", \"learn\", \"learn\", \"learn\", \"learn\", \"learn\", \"learn\", \"learn\", \"learn\", \"learn\", \"learn\", \"learn\", \"learn\", \"learn\", \"learning\", \"learning\", \"learning\", \"learning\", \"learning\", \"learning\", \"learning\", \"learning\", \"learning\", \"learning\", \"learning\", \"lecun\", \"ledger\", \"lepton\", \"level\", \"level\", \"level\", \"level\", \"level\", \"level\", \"level\", \"level\", \"level\", \"level\", \"level\", \"level\", \"level\", \"level\", \"level\", \"library\", \"library\", \"library\", \"library\", \"library\", \"library\", \"library\", \"library\", \"library\", \"library\", \"lightbend\", \"lightning\", \"lightning\", \"lightning\", \"lightning\", \"lightning\", \"lightning\", \"linte\", \"linus\", \"linux\", \"linux\", \"linux\", \"linux\", \"linux\", \"linux\", \"linux\", \"linux\", \"linux\", \"linux\", \"lister\", \"little\", \"little\", \"little\", \"little\", \"little\", \"little\", \"little\", \"little\", \"little\", \"little\", \"little\", \"little\", \"little\", \"little\", \"little\", \"lizardcoin\", \"locator\", \"locator\", \"logout\", \"luminar\", \"luqman\", \"macbook\", \"macbook\", \"macbook\", \"machine\", \"machine\", \"machine\", \"machine\", \"machine\", \"machine\", \"machine\", \"machine\", \"machine\", \"machine\", \"machine\", \"machine\", \"machine\", \"madden\", \"maechler\", \"magento\", \"magento\", \"maintainer\", \"maintainer\", \"maintainer\", \"maintainer\", \"maintainer\", \"makoto\", \"management\", \"management\", \"management\", \"management\", \"management\", \"management\", \"management\", \"management\", \"management\", \"management\", \"management\", \"management\", \"manager\", \"manager\", \"manager\", \"manager\", \"manager\", \"manager\", \"manager\", \"manager\", \"manager\", \"manager\", \"manager\", \"manager\", \"manager\", \"mandeleil\", \"market\", \"market\", \"market\", \"market\", \"market\", \"market\", \"market\", \"market\", \"market\", \"market\", \"market\", \"market\", \"market\", \"market\", \"marketing\", \"marketing\", \"marketing\", \"marketing\", \"marketing\", \"marketing\", \"marketing\", \"marketing\", \"marketing\", \"marketing\", \"marketplace\", \"marketplace\", \"marketplace\", \"marketplace\", \"marketplace\", \"marketplace\", \"marketscape\", \"matcher\", \"mckinsey\", \"mckinsey\", \"mckinsey\", \"mcparseface\", \"mechanic\", \"mechanic\", \"mechanic\", \"mechanic\", \"mechanic\", \"mechanic\", \"mechanic\", \"mediawiki\", \"meditation\", \"meditation\", \"meditation\", \"meditation\", \"medium\", \"medium\", \"medium\", \"medium\", \"medium\", \"medium\", \"medium\", \"medium\", \"medium\", \"medium\", \"medium\", \"medium\", \"medium\", \"medium\", \"meeting\", \"meeting\", \"meeting\", \"meeting\", \"meeting\", \"meeting\", \"meeting\", \"meeting\", \"meeting\", \"meeting\", \"meetspace\", \"meetup\", \"meetup\", \"meetup\", \"meetup\", \"meetup\", \"meetup\", \"mentoring\", \"merchant\", \"merchant\", \"merchant\", \"merchant\", \"merchant\", \"merchant\", \"message\", \"message\", \"message\", \"message\", \"message\", \"message\", \"message\", \"message\", \"message\", \"message\", \"message\", \"message\", \"message\", \"message\", \"messenger\", \"messenger\", \"messenger\", \"messenger\", \"messenger\", \"method\", \"method\", \"method\", \"method\", \"method\", \"method\", \"method\", \"method\", \"method\", \"method\", \"method\", \"method\", \"methods\", \"microservice\", \"microservice\", \"microservice\", \"microservices\", \"microservices\", \"microsoft\", \"microsoft\", \"microsoft\", \"microsoft\", \"microsoft\", \"microsoft\", \"microsoft\", \"microsoft\", \"microsoft\", \"microsoft\", \"microsoft\", \"million\", \"million\", \"million\", \"million\", \"million\", \"million\", \"million\", \"million\", \"million\", \"million\", \"million\", \"million\", \"million\", \"million\", \"milner\", \"mindfulness\", \"mindfulness\", \"minhash\", \"minification\", \"mining\", \"mining\", \"mining\", \"mining\", \"mining\", \"mining\", \"minority\", \"minority\", \"minority\", \"minority\", \"mobify\", \"mobile\", \"mobile\", \"mobile\", \"mobile\", \"mobile\", \"mobile\", \"mobile\", \"mobile\", \"mobile\", \"mobile\", \"mobile\", \"mobile\", \"mockito\", \"model\", \"model\", \"model\", \"model\", \"model\", \"model\", \"model\", \"model\", \"model\", \"model\", \"model\", \"model\", \"module\", \"module\", \"module\", \"module\", \"module\", \"module\", \"module\", \"module\", \"module\", \"mondo\", \"monolith\", \"montgomery\", \"month\", \"month\", \"month\", \"month\", \"month\", \"month\", \"month\", \"month\", \"month\", \"month\", \"month\", \"month\", \"month\", \"month\", \"month\", \"moorfields\", \"mortality\", \"mortality\", \"mortality\", \"multilingual\", \"multipurpose\", \"multipurpose\", \"music\", \"music\", \"music\", \"music\", \"music\", \"music\", \"music\", \"music\", \"mycroft\", \"nadella\", \"nadella\", \"nadella\", \"nanotechnology\", \"nedbank\", \"nested\", \"nested\", \"network\", \"network\", \"network\", \"network\", \"network\", \"network\", \"network\", \"network\", \"network\", \"network\", \"network\", \"network\", \"network\", \"network\", \"networking\", \"networking\", \"networking\", \"networking\", \"networking\", \"networks\", \"networks\", \"networks\", \"neural\", \"neurala\", \"neuron\", \"neuron\", \"ngoninit\", \"nicole\", \"nicole\", \"nodejs\", \"nomination\", \"nomination\", \"nooyi\", \"norway\", \"notification\", \"notification\", \"notification\", \"notification\", \"notification\", \"notification\", \"notification\", \"notification\", \"notifications\", \"number\", \"number\", \"number\", \"number\", \"number\", \"number\", \"number\", \"number\", \"number\", \"number\", \"number\", \"number\", \"number\", \"number\", \"number\", \"nvidia\", \"nvidia\", \"obermayer\", \"object\", \"object\", \"object\", \"object\", \"object\", \"object\", \"object\", \"object\", \"object\", \"object\", \"object\", \"object\", \"object\", \"observable\", \"offer\", \"offer\", \"offer\", \"offer\", \"offer\", \"offer\", \"offer\", \"offer\", \"offer\", \"offer\", \"offer\", \"offer\", \"offer\", \"offer\", \"offer\", \"office\", \"office\", \"office\", \"office\", \"office\", \"office\", \"office\", \"office\", \"office\", \"office\", \"office\", \"omnitone\", \"oninit\", \"onintercepttouchevent\", \"online\", \"online\", \"online\", \"online\", \"online\", \"online\", \"online\", \"online\", \"online\", \"online\", \"online\", \"online\", \"online\", \"online\", \"ontouchevent\", \"openai\", \"openjdk\", \"openledger\", \"openstack\", \"opensuse\", \"opportunity\", \"opportunity\", \"opportunity\", \"opportunity\", \"opportunity\", \"opportunity\", \"opportunity\", \"opportunity\", \"opportunity\", \"opportunity\", \"opportunity\", \"opportunity\", \"opportunity\", \"opportunity\", \"opportunity\", \"organization\", \"organization\", \"organization\", \"organization\", \"organization\", \"organization\", \"organization\", \"organization\", \"organization\", \"organization\", \"organization\", \"organization\", \"outbreak\", \"outbreak\", \"overflow\", \"overflow\", \"overflow\", \"overflow\", \"overlay\", \"overlay\", \"overlay\", \"overlay\", \"overlay\", \"overridden\", \"override\", \"override\", \"override\", \"override\", \"override\", \"override\", \"override\", \"overwrite\", \"package\", \"package\", \"package\", \"package\", \"package\", \"package\", \"package\", \"package\", \"package\", \"package\", \"package\", \"package\", \"padding\", \"paintcode\", \"palantir\", \"palantir\", \"parallax\", \"parallax\", \"parallax\", \"parallelism\", \"parameter\", \"parameter\", \"parameter\", \"parameter\", \"parameter\", \"parameter\", \"parameter\", \"parameter\", \"parameter\", \"parks\", \"parsey\", \"passive\", \"passive\", \"passive\", \"passive\", \"passive\", \"passive\", \"password\", \"password\", \"password\", \"password\", \"password\", \"password\", \"password\", \"password\", \"password\", \"patent\", \"patent\", \"patent\", \"patent\", \"patent\", \"patent\", \"patent\", \"paulides\", \"payment\", \"payment\", \"payment\", \"payment\", \"payment\", \"payment\", \"payment\", \"paypal\", \"paypal\", \"paypal\", \"paypal\", \"paypal\", \"pebble\", \"pebble\", \"people\", \"people\", \"people\", \"people\", \"people\", \"people\", \"people\", \"people\", \"people\", \"people\", \"people\", \"people\", \"people\", \"people\", \"people\", \"percent\", \"percent\", \"percent\", \"percent\", \"percent\", \"percent\", \"percent\", \"percent\", \"percent\", \"percent\", \"percent\", \"percent\", \"percent\", \"percent\", \"perceptron\", \"performance\", \"performance\", \"performance\", \"performance\", \"performance\", \"performance\", \"performance\", \"performance\", \"performance\", \"performance\", \"performance\", \"performance\", \"performance\", \"performance\", \"performed\", \"permission\", \"permission\", \"permission\", \"permission\", \"permission\", \"permission\", \"permission\", \"permission\", \"permission\", \"permission\", \"permission\", \"person\", \"person\", \"person\", \"person\", \"person\", \"person\", \"person\", \"person\", \"person\", \"person\", \"person\", \"person\", \"person\", \"person\", \"personal\", \"personal\", \"personal\", \"personal\", \"personal\", \"personal\", \"personal\", \"personal\", \"personal\", \"personal\", \"personal\", \"personal\", \"personal\", \"pfizer\", \"pfizer\", \"phippy\", \"phone\", \"phone\", \"phone\", \"phone\", \"phone\", \"phone\", \"phone\", \"phone\", \"phone\", \"phone\", \"photodiode\", \"phpcs\", \"phpstorm\", \"pictograph\", \"pinhole\", \"pinner\", \"pinterest\", \"pinterest\", \"pinterest\", \"pinterest\", \"pinterest\", \"pinterest\", \"pinterest\", \"pinterest\", \"place\", \"place\", \"place\", \"place\", \"place\", \"place\", \"place\", \"place\", \"place\", \"place\", \"place\", \"place\", \"place\", \"place\", \"place\", \"plague\", \"plague\", \"plague\", \"plague\", \"planet\", \"planet\", \"planet\", \"planet\", \"planet\", \"planet\", \"planet\", \"planet\", \"planet\", \"plate\", \"plate\", \"plate\", \"plate\", \"plate\", \"platform\", \"platform\", \"platform\", \"platform\", \"platform\", \"platform\", \"platform\", \"platform\", \"platform\", \"platform\", \"platform\", \"platform\", \"playback\", \"playback\", \"playback\", \"player\", \"player\", \"player\", \"player\", \"player\", \"player\", \"player\", \"player\", \"player\", \"player\", \"plugin\", \"plugin\", \"plugin\", \"plugin\", \"plugin\", \"plugin\", \"plugin\", \"point\", \"point\", \"point\", \"point\", \"point\", \"point\", \"point\", \"point\", \"point\", \"point\", \"point\", \"point\", \"point\", \"point\", \"point\", \"pokemon\", \"pokemon\", \"pokemon\", \"political\", \"political\", \"political\", \"political\", \"political\", \"political\", \"political\", \"political\", \"polymer\", \"polymer\", \"popslate\", \"population\", \"population\", \"population\", \"population\", \"population\", \"population\", \"population\", \"population\", \"population\", \"population\", \"population\", \"posey\", \"postback\", \"postback\", \"power\", \"power\", \"power\", \"power\", \"power\", \"power\", \"power\", \"power\", \"power\", \"power\", \"power\", \"power\", \"power\", \"power\", \"power\", \"practice\", \"practice\", \"practice\", \"practice\", \"practice\", \"practice\", \"practice\", \"practice\", \"practice\", \"practice\", \"practice\", \"practice\", \"practice\", \"predict\", \"predict\", \"predict\", \"predict\", \"predict\", \"predict\", \"predict\", \"predict\", \"prediction\", \"prediction\", \"prediction\", \"prediction\", \"prediction\", \"prediction\", \"prediction\", \"preemptive\", \"preston\", \"preview\", \"preview\", \"preview\", \"preview\", \"preview\", \"preview\", \"preview\", \"preview\", \"preview\", \"preview\", \"price\", \"price\", \"price\", \"price\", \"price\", \"price\", \"price\", \"price\", \"price\", \"price\", \"price\", \"price\", \"price\", \"principle\", \"principle\", \"principle\", \"principle\", \"principle\", \"principle\", \"principle\", \"principle\", \"principle\", \"principle\", \"principle\", \"printer\", \"printer\", \"printer\", \"printer\", \"probe\", \"probe\", \"probe\", \"probe\", \"probe\", \"problem\", \"problem\", \"problem\", \"problem\", \"problem\", \"problem\", \"problem\", \"problem\", \"problem\", \"problem\", \"problem\", \"problem\", \"problem\", \"problem\", \"problem\", \"process\", \"process\", \"process\", \"process\", \"process\", \"process\", \"process\", \"process\", \"process\", \"process\", \"process\", \"process\", \"process\", \"process\", \"process\", \"procfile\", \"procrastinator\", \"product\", \"product\", \"product\", \"product\", \"product\", \"product\", \"product\", \"product\", \"product\", \"product\", \"product\", \"product\", \"product\", \"product\", \"programming\", \"programming\", \"programming\", \"programming\", \"programming\", \"programming\", \"programming\", \"programming\", \"programming\", \"programming\", \"progressive\", \"progressive\", \"progressive\", \"progressive\", \"progressive\", \"progressive\", \"progressive\", \"proguard\", \"project\", \"project\", \"project\", \"project\", \"project\", \"project\", \"project\", \"project\", \"project\", \"project\", \"project\", \"project\", \"project\", \"project\", \"project\", \"promise\", \"promise\", \"promise\", \"promise\", \"promise\", \"promise\", \"promise\", \"promise\", \"promise\", \"promise\", \"promise\", \"promise\", \"pronunciation\", \"property\", \"property\", \"property\", \"property\", \"property\", \"property\", \"property\", \"property\", \"property\", \"property\", \"property\", \"property\", \"prototypal\", \"prototype\", \"prototype\", \"prototype\", \"prototype\", \"prototype\", \"prototype\", \"prototype\", \"prototype\", \"prototype\", \"prototype\", \"protractor\", \"provide\", \"provide\", \"provide\", \"provide\", \"provide\", \"provide\", \"provide\", \"provide\", \"provide\", \"provide\", \"provide\", \"provide\", \"provide\", \"provide\", \"proxy\", \"proxy\", \"proxy\", \"proxy\", \"purchase\", \"purchase\", \"purchase\", \"purchase\", \"purchase\", \"purchase\", \"purchase\", \"purchase\", \"purchase\", \"purchase\", \"purchase\", \"pychyl\", \"python\", \"python\", \"python\", \"python\", \"python\", \"quadrant\", \"quadrant\", \"quadrant\", \"quantum\", \"quantum\", \"quantum\", \"quartile\", \"qubit\", \"qubit\", \"query\", \"query\", \"query\", \"query\", \"query\", \"query\", \"question\", \"question\", \"question\", \"question\", \"question\", \"question\", \"question\", \"question\", \"question\", \"question\", \"question\", \"question\", \"question\", \"question\", \"question\", \"quizlet\", \"qunit\", \"quotes\", \"rachel\", \"rachel\", \"rachel\", \"radio\", \"radio\", \"radio\", \"radio\", \"radio\", \"radio\", \"radio\", \"radio\", \"radio\", \"rails\", \"rails\", \"rails\", \"rails\", \"rakuten\", \"react\", \"react\", \"react\", \"react\", \"react\", \"react\", \"react\", \"react\", \"react\", \"react\", \"react\", \"reactors\", \"really\", \"really\", \"really\", \"really\", \"really\", \"really\", \"really\", \"really\", \"really\", \"really\", \"really\", \"really\", \"really\", \"really\", \"really\", \"recht\", \"recognition\", \"recognition\", \"recognition\", \"recognition\", \"recognition\", \"reconsider\", \"recruiting\", \"recruiting\", \"recruiting\", \"recyclerview\", \"redis\", \"redis\", \"redis\", \"redwood\", \"regress\", \"reinforcement\", \"reinforcement\", \"release\", \"release\", \"release\", \"release\", \"release\", \"release\", \"release\", \"release\", \"release\", \"release\", \"release\", \"release\", \"release\", \"release\", \"release\", \"report\", \"report\", \"report\", \"report\", \"report\", \"report\", \"report\", \"report\", \"report\", \"report\", \"report\", \"report\", \"report\", \"report\", \"report\", \"request\", \"request\", \"request\", \"request\", \"request\", \"request\", \"request\", \"request\", \"request\", \"request\", \"request\", \"request\", \"require\", \"require\", \"require\", \"require\", \"require\", \"require\", \"require\", \"require\", \"require\", \"require\", \"require\", \"require\", \"require\", \"require\", \"requirement\", \"requirement\", \"requirement\", \"requirement\", \"requirement\", \"requirement\", \"requirement\", \"requirement\", \"requirement\", \"requirement\", \"requirement\", \"research\", \"research\", \"research\", \"research\", \"research\", \"research\", \"research\", \"research\", \"research\", \"research\", \"research\", \"research\", \"research\", \"research\", \"researcher\", \"researcher\", \"researcher\", \"researcher\", \"researcher\", \"researcher\", \"researcher\", \"researcher\", \"reservoir\", \"resharper\", \"resource\", \"resource\", \"resource\", \"resource\", \"resource\", \"resource\", \"resource\", \"resource\", \"resource\", \"resource\", \"resource\", \"resource\", \"resource\", \"resource\", \"restartpolicy\", \"restb\", \"result\", \"result\", \"result\", \"result\", \"result\", \"result\", \"result\", \"result\", \"result\", \"result\", \"result\", \"result\", \"result\", \"result\", \"result\", \"retail\", \"retail\", \"retail\", \"retail\", \"retail\", \"retail\", \"retail\", \"retailer\", \"retailer\", \"retailer\", \"retailer\", \"retailer\", \"retailer\", \"retailer\", \"return\", \"return\", \"return\", \"return\", \"return\", \"return\", \"return\", \"return\", \"return\", \"return\", \"return\", \"return\", \"return\", \"return\", \"return\", \"retweet\", \"reuse\", \"reuse\", \"reuse\", \"reuse\", \"reuse\", \"reuse\", \"revenue\", \"revenue\", \"revenue\", \"revenue\", \"revenue\", \"revenue\", \"revenue\", \"revenue\", \"review\", \"review\", \"review\", \"review\", \"review\", \"review\", \"review\", \"review\", \"review\", \"review\", \"review\", \"review\", \"review\", \"review\", \"review\", \"reviews\", \"reviews\", \"right\", \"right\", \"right\", \"right\", \"right\", \"right\", \"right\", \"right\", \"right\", \"right\", \"right\", \"right\", \"right\", \"right\", \"right\", \"rinna\", \"robot\", \"robot\", \"robot\", \"robot\", \"robot\", \"robot\", \"robot\", \"robotic\", \"robotic\", \"robotic\", \"robotic\", \"robotic\", \"robotic\", \"robotic\", \"robotium\", \"rollup\", \"rousseff\", \"rubik\", \"rumor\", \"rumor\", \"rumor\", \"rumor\", \"safari\", \"safari\", \"safari\", \"safari\", \"safari\", \"safari\", \"saxena\", \"scatterplot\", \"schema\", \"schema\", \"schema\", \"schiano\", \"schiaparelli\", \"schiller\", \"science\", \"science\", \"science\", \"science\", \"science\", \"science\", \"science\", \"science\", \"science\", \"science\", \"science\", \"scientist\", \"scientist\", \"scientist\", \"scientist\", \"scientist\", \"scientist\", \"scientist\", \"scientist\", \"scientist\", \"scikit\", \"scipy\", \"scope\", \"scope\", \"scope\", \"scope\", \"scope\", \"scope\", \"scope\", \"scope\", \"scope\", \"scope\", \"scope\", \"scope\", \"scope\", \"scout\", \"scout\", \"scout\", \"scout\", \"screen\", \"screen\", \"screen\", \"screen\", \"screen\", \"screen\", \"screen\", \"screen\", \"screen\", \"screen\", \"screen\", \"script\", \"script\", \"script\", \"script\", \"script\", \"script\", \"script\", \"script\", \"script\", \"script\", \"script\", \"scrum\", \"scrum\", \"scrum\", \"search\", \"search\", \"search\", \"search\", \"search\", \"search\", \"search\", \"search\", \"search\", \"search\", \"search\", \"search\", \"search\", \"searcher\", \"second\", \"second\", \"second\", \"second\", \"second\", \"second\", \"second\", \"second\", \"second\", \"second\", \"second\", \"second\", \"second\", \"second\", \"second\", \"sector\", \"sector\", \"sector\", \"sector\", \"sector\", \"sector\", \"sector\", \"securities\", \"security\", \"security\", \"security\", \"security\", \"security\", \"security\", \"security\", \"security\", \"security\", \"security\", \"security\", \"security\", \"security\", \"security\", \"security\", \"seesaw\", \"seller\", \"seller\", \"seller\", \"seller\", \"sentience\", \"sentience\", \"server\", \"server\", \"server\", \"server\", \"server\", \"server\", \"server\", \"server\", \"server\", \"server\", \"serverless\", \"service\", \"service\", \"service\", \"service\", \"service\", \"service\", \"service\", \"service\", \"service\", \"service\", \"service\", \"service\", \"service\", \"service\", \"service\", \"setter\", \"settlement\", \"settlement\", \"shard\", \"shard\", \"shard\", \"share\", \"share\", \"share\", \"share\", \"share\", \"share\", \"share\", \"share\", \"share\", \"share\", \"share\", \"share\", \"share\", \"share\", \"share\", \"shell\", \"shell\", \"shell\", \"shell\", \"shell\", \"shell\", \"shell\", \"shell\", \"shippable\", \"shopper\", \"shopper\", \"shopper\", \"shopper\", \"shopping\", \"shopping\", \"shopping\", \"shopping\", \"shopping\", \"shopping\", \"shopping\", \"shopping\", \"shopping\", \"shopping\", \"shopping\", \"shoreline\", \"shuddle\", \"sierra\", \"sieve\", \"signal\", \"signal\", \"signal\", \"signal\", \"signal\", \"signal\", \"signal\", \"signal\", \"signal\", \"signal\", \"signal\", \"signal\", \"silbermann\", \"simple\", \"simple\", \"simple\", \"simple\", \"simple\", \"simple\", \"simple\", \"simple\", \"simple\", \"simple\", \"simple\", \"simple\", \"simple\", \"simple\", \"singularity\", \"singularity\", \"sirosh\", \"sites\", \"slack\", \"slack\", \"slack\", \"slack\", \"slack\", \"slides\", \"smarterchild\", \"smartphone\", \"smartphone\", \"smartphone\", \"smartphone\", \"smartphone\", \"smartphone\", \"smartphone\", \"smartphone\", \"smartphone\", \"smartphone\", \"snapchat\", \"snapchat\", \"snapchat\", \"snapchat\", \"sniffer\", \"snippet\", \"snippet\", \"snippet\", \"snippet\", \"snippet\", \"snippet\", \"snippet\", \"sofman\", \"software\", \"software\", \"software\", \"software\", \"software\", \"software\", \"software\", \"software\", \"software\", \"software\", \"software\", \"software\", \"software\", \"software\", \"solution\", \"solution\", \"solution\", \"solution\", \"solution\", \"solution\", \"solution\", \"solution\", \"solution\", \"solution\", \"solution\", \"solution\", \"solution\", \"solution\", \"sound\", \"sound\", \"sound\", \"sound\", \"sound\", \"sound\", \"sound\", \"sound\", \"sound\", \"sound\", \"sound\", \"sound\", \"sound\", \"soundtracks\", \"source\", \"source\", \"source\", \"source\", \"source\", \"source\", \"source\", \"source\", \"source\", \"source\", \"source\", \"source\", \"source\", \"source\", \"source\", \"southampton\", \"space\", \"space\", \"space\", \"space\", \"space\", \"space\", \"space\", \"space\", \"space\", \"space\", \"space\", \"space\", \"space\", \"space\", \"spanner\", \"speak\", \"speak\", \"speak\", \"speak\", \"speak\", \"speak\", \"speak\", \"speak\", \"speak\", \"speak\", \"speak\", \"speak\", \"speak\", \"speak\", \"speak\", \"specs\", \"specs\", \"specs\", \"speech\", \"speech\", \"speech\", \"speech\", \"speech\", \"speech\", \"speech\", \"spence\", \"spend\", \"spend\", \"spend\", \"spend\", \"spend\", \"spend\", \"spend\", \"spend\", \"spend\", \"spend\", \"spend\", \"spend\", \"spend\", \"spend\", \"spread\", \"spread\", \"spread\", \"spread\", \"spread\", \"spread\", \"spread\", \"spread\", \"spread\", \"spread\", \"spread\", \"spread\", \"spring\", \"spring\", \"spring\", \"spring\", \"spring\", \"spring\", \"spring\", \"spring\", \"spring\", \"spring\", \"spring\", \"sprint\", \"sprint\", \"sprint\", \"sprint\", \"sprint\", \"sprint\", \"sprite\", \"sprite\", \"squads\", \"stackdriver\", \"stars\", \"start\", \"start\", \"start\", \"start\", \"start\", \"start\", \"start\", \"start\", \"start\", \"start\", \"start\", \"start\", \"start\", \"start\", \"start\", \"startup\", \"startup\", \"startup\", \"startup\", \"startup\", \"startup\", \"startup\", \"startup\", \"startup\", \"statcounter\", \"state\", \"state\", \"state\", \"state\", \"state\", \"state\", \"state\", \"state\", \"state\", \"state\", \"state\", \"state\", \"state\", \"state\", \"state\", \"station\", \"station\", \"station\", \"station\", \"station\", \"station\", \"station\", \"station\", \"steal\", \"steal\", \"steal\", \"steal\", \"steal\", \"steal\", \"steal\", \"steal\", \"steal\", \"steal\", \"stereotype\", \"stereotype\", \"stereotype\", \"steve\", \"steve\", \"steve\", \"steve\", \"steve\", \"steve\", \"steve\", \"storage\", \"storage\", \"storage\", \"storage\", \"storage\", \"storage\", \"storage\", \"storage\", \"storage\", \"storage\", \"store\", \"store\", \"store\", \"store\", \"store\", \"store\", \"store\", \"store\", \"store\", \"store\", \"store\", \"store\", \"store\", \"store\", \"store\", \"story\", \"story\", \"story\", \"story\", \"story\", \"story\", \"story\", \"story\", \"story\", \"story\", \"story\", \"story\", \"story\", \"storyline\", \"strategy\", \"strategy\", \"strategy\", \"strategy\", \"strategy\", \"strategy\", \"strategy\", \"strategy\", \"strategy\", \"strategy\", \"strategy\", \"strategy\", \"stream\", \"stream\", \"stream\", \"stream\", \"stream\", \"stream\", \"stream\", \"stream\", \"stream\", \"stream\", \"stream\", \"streams\", \"streams\", \"strictmode\", \"string\", \"string\", \"string\", \"string\", \"string\", \"string\", \"string\", \"string\", \"struct\", \"student\", \"student\", \"student\", \"student\", \"student\", \"student\", \"student\", \"student\", \"study\", \"study\", \"study\", \"study\", \"study\", \"study\", \"study\", \"study\", \"study\", \"study\", \"study\", \"study\", \"study\", \"study\", \"study\", \"stuff\", \"stuff\", \"stuff\", \"stuff\", \"stuff\", \"stuff\", \"stuff\", \"stuff\", \"stuff\", \"stuff\", \"stuff\", \"stunnel\", \"style\", \"style\", \"style\", \"style\", \"style\", \"style\", \"style\", \"style\", \"style\", \"style\", \"subnet\", \"subsystem\", \"subsystem\", \"subsystem\", \"success\", \"success\", \"success\", \"success\", \"success\", \"success\", \"success\", \"success\", \"success\", \"success\", \"success\", \"success\", \"success\", \"success\", \"success\", \"suite\", \"suite\", \"suite\", \"suite\", \"suite\", \"suite\", \"suite\", \"suite\", \"suite\", \"suite\", \"superintelligence\", \"supervise\", \"supervised\", \"support\", \"support\", \"support\", \"support\", \"support\", \"support\", \"support\", \"support\", \"support\", \"support\", \"support\", \"support\", \"support\", \"support\", \"swagbot\", \"swanest\", \"swarm\", \"swarm\", \"swarm\", \"swarm\", \"swarming\", \"swift\", \"swift\", \"swift\", \"swift\", \"swift\", \"swift\", \"swift\", \"swift\", \"sybil\", \"syntax\", \"syntax\", \"syntax\", \"syntax\", \"syntax\", \"syntaxnet\", \"syscall\", \"table\", \"table\", \"table\", \"table\", \"table\", \"table\", \"table\", \"table\", \"table\", \"table\", \"table\", \"table\", \"table\", \"table\", \"table\", \"tactical\", \"takipi\", \"takipi\", \"talent\", \"talent\", \"talent\", \"talent\", \"talent\", \"tango\", \"tapia\", \"teacher\", \"teacher\", \"teacher\", \"teacher\", \"teacher\", \"technical\", \"technical\", \"technical\", \"technical\", \"technical\", \"technical\", \"technical\", \"technical\", \"technical\", \"technical\", \"technical\", \"technical\", \"technical\", \"technology\", \"technology\", \"technology\", \"technology\", \"technology\", \"technology\", \"technology\", \"technology\", \"technology\", \"technology\", \"technology\", \"technology\", \"technology\", \"technology\", \"telecom\", \"telegram\", \"telegram\", \"telepresence\", \"telepresence\", \"tennis\", \"tensorflow\", \"terminal\", \"terminal\", \"terminal\", \"terminal\", \"terminal\", \"terminal\", \"terminal\", \"terminal\", \"terminal\", \"tetra\", \"tettra\", \"theano\", \"therapist\", \"therapist\", \"thief\", \"thief\", \"thief\", \"thief\", \"thing\", \"thing\", \"thing\", \"thing\", \"thing\", \"thing\", \"thing\", \"thing\", \"thing\", \"thing\", \"thing\", \"thing\", \"thing\", \"thing\", \"thing\", \"think\", \"think\", \"think\", \"think\", \"think\", \"think\", \"think\", \"think\", \"think\", \"think\", \"think\", \"think\", \"think\", \"think\", \"think\", \"thorium\", \"tiingo\", \"tijms\", \"tkinter\", \"today\", \"today\", \"today\", \"today\", \"today\", \"today\", \"today\", \"today\", \"today\", \"today\", \"today\", \"today\", \"today\", \"today\", \"today\", \"token\", \"token\", \"token\", \"token\", \"token\", \"token\", \"token\", \"token\", \"tokens\", \"torres\", \"torres\", \"torus\", \"torvalds\", \"track\", \"track\", \"track\", \"track\", \"track\", \"track\", \"track\", \"track\", \"track\", \"track\", \"track\", \"track\", \"track\", \"track\", \"tracking\", \"tracking\", \"tracking\", \"tracking\", \"tracking\", \"tracking\", \"tracking\", \"tracking\", \"tracking\", \"traffic\", \"traffic\", \"traffic\", \"traffic\", \"traffic\", \"traffic\", \"traffic\", \"traffic\", \"traffic\", \"traffic\", \"traffic\", \"traffic\", \"train\", \"train\", \"train\", \"train\", \"train\", \"train\", \"train\", \"train\", \"train\", \"training\", \"training\", \"training\", \"training\", \"training\", \"training\", \"training\", \"training\", \"training\", \"training\", \"transaction\", \"transaction\", \"transaction\", \"transaction\", \"transaction\", \"transaction\", \"transaction\", \"transaction\", \"transaction\", \"transformation\", \"transformation\", \"transformation\", \"transformation\", \"transformation\", \"transformation\", \"transformation\", \"transformation\", \"transformation\", \"transit\", \"transit\", \"transit\", \"transit\", \"transit\", \"transition\", \"transition\", \"transition\", \"transition\", \"transition\", \"transition\", \"transition\", \"transition\", \"transition\", \"transition\", \"transition\", \"transpile\", \"treasury\", \"trello\", \"trello\", \"trello\", \"trello\", \"trello\", \"trello\", \"trend\", \"trend\", \"trend\", \"trend\", \"trend\", \"trend\", \"trend\", \"trend\", \"trend\", \"trend\", \"trend\", \"trend\", \"trend\", \"trend\", \"trendwatching\", \"trivia\", \"trivia\", \"trooly\", \"trump\", \"trump\", \"trump\", \"trump\", \"trump\", \"trump\", \"trump\", \"trump\", \"tuple\", \"turing\", \"twitter\", \"twitter\", \"twitter\", \"twitter\", \"twitter\", \"twitter\", \"twitter\", \"twitter\", \"twitter\", \"twitter\", \"twitter\", \"twitter\", \"twitter\", \"typescript\", \"typescript\", \"typescript\", \"ubuntu\", \"ubuntu\", \"ubuntu\", \"ubuntu\", \"ubuntu\", \"ubuntu\", \"uidata\", \"uirepeat\", \"unanimous\", \"unanimous\", \"understand\", \"understand\", \"understand\", \"understand\", \"understand\", \"understand\", \"understand\", \"understand\", \"understand\", \"understand\", \"understand\", \"understand\", \"understand\", \"understand\", \"unsupervised\", \"update\", \"update\", \"update\", \"update\", \"update\", \"update\", \"update\", \"update\", \"update\", \"update\", \"update\", \"upspin\", \"value\", \"value\", \"value\", \"value\", \"value\", \"value\", \"value\", \"value\", \"value\", \"value\", \"value\", \"value\", \"value\", \"value\", \"valve\", \"variable\", \"variable\", \"variable\", \"variable\", \"variable\", \"variable\", \"variable\", \"variable\", \"variable\", \"variable\", \"vectorization\", \"vehicle\", \"vehicle\", \"vehicle\", \"vehicle\", \"vehicle\", \"vehicle\", \"version\", \"version\", \"version\", \"version\", \"version\", \"version\", \"version\", \"version\", \"version\", \"version\", \"version\", \"version\", \"version\", \"version\", \"vessi\", \"vickers\", \"video\", \"video\", \"video\", \"video\", \"video\", \"video\", \"video\", \"video\", \"video\", \"video\", \"video\", \"video\", \"video\", \"video\", \"virality\", \"virtu\", \"visualization\", \"visualization\", \"visualization\", \"visualization\", \"visualization\", \"visualization\", \"vlendright\", \"vmware\", \"vmware\", \"voice\", \"voice\", \"voice\", \"voice\", \"voice\", \"voice\", \"voice\", \"voice\", \"voice\", \"voltron\", \"vondrick\", \"voronoi\", \"vsphere\", \"vxlan\", \"walgreen\", \"walgreens\", \"walkme\", \"walkthrough\", \"walkthrough\", \"walkthrough\", \"wallet\", \"wallet\", \"wallet\", \"wallet\", \"walmart\", \"walmart\", \"watch\", \"watch\", \"watch\", \"watch\", \"watch\", \"watch\", \"watch\", \"watch\", \"watch\", \"watch\", \"watch\", \"watch\", \"watch\", \"watch\", \"watch\", \"watchos\", \"watchos\", \"water\", \"water\", \"water\", \"water\", \"water\", \"water\", \"water\", \"water\", \"water\", \"water\", \"water\", \"water\", \"waterfall\", \"waterfall\", \"waterfall\", \"waterfall\", \"waterwheel\", \"weakreference\", \"webassembly\", \"webhook\", \"webhooks\", \"webpack\", \"webpack\", \"website\", \"website\", \"website\", \"website\", \"website\", \"website\", \"website\", \"website\", \"website\", \"website\", \"website\", \"website\", \"website\", \"website\", \"wechat\", \"wechat\", \"wechat\", \"wechat\", \"wechat\", \"white\", \"white\", \"white\", \"white\", \"white\", \"white\", \"white\", \"white\", \"white\", \"white\", \"white\", \"whois\", \"wikileaks\", \"wimbledon\", \"windows\", \"windows\", \"windows\", \"windows\", \"windows\", \"windows\", \"winfield\", \"wolpert\", \"woman\", \"woman\", \"woman\", \"woman\", \"woman\", \"woman\", \"women\", \"workflow\", \"workflow\", \"workflow\", \"workflow\", \"workflow\", \"workflow\", \"workflow\", \"workflow\", \"workflow\", \"workflow\", \"workload\", \"workload\", \"workload\", \"workload\", \"workload\", \"workplace\", \"workplace\", \"workplace\", \"workplace\", \"workplace\", \"workplace\", \"world\", \"world\", \"world\", \"world\", \"world\", \"world\", \"world\", \"world\", \"world\", \"world\", \"world\", \"world\", \"world\", \"world\", \"world\", \"wozniak\", \"wozniak\", \"write\", \"write\", \"write\", \"write\", \"write\", \"write\", \"write\", \"write\", \"write\", \"write\", \"write\", \"write\", \"write\", \"write\", \"xiaomi\", \"yammer\", \"youtube\", \"youtube\", \"youtube\", \"youtube\", \"youtube\", \"youtube\", \"youtube\", \"youtube\", \"zendesk\", \"zendesk\", \"zigbee\", \"zookeeper\", \"zookeeper\", \"zookeeper\", \"zumbrunnen\"]}, \"R\": 30, \"lambda.step\": 0.01, \"plot.opts\": {\"xlab\": \"PC1\", \"ylab\": \"PC2\"}, \"topic.order\": [7, 5, 6, 3, 14, 11, 2, 9, 15, 12, 10, 4, 13, 8, 1]};\n",
       "\n",
       "function LDAvis_load_lib(url, callback){\n",
       "  var s = document.createElement('script');\n",
       "  s.src = url;\n",
       "  s.async = true;\n",
       "  s.onreadystatechange = s.onload = callback;\n",
       "  s.onerror = function(){console.warn(\"failed to load library \" + url);};\n",
       "  document.getElementsByTagName(\"head\")[0].appendChild(s);\n",
       "}\n",
       "\n",
       "if(typeof(LDAvis) !== \"undefined\"){\n",
       "   // already loaded: just create the visualization\n",
       "   !function(LDAvis){\n",
       "       new LDAvis(\"#\" + \"ldavis_el53521406536504619448213691644\", ldavis_el53521406536504619448213691644_data);\n",
       "   }(LDAvis);\n",
       "}else if(typeof define === \"function\" && define.amd){\n",
       "   // require.js is available: use it to load d3/LDAvis\n",
       "   require.config({paths: {d3: \"https://cdnjs.cloudflare.com/ajax/libs/d3/3.5.5/d3.min\"}});\n",
       "   require([\"d3\"], function(d3){\n",
       "      window.d3 = d3;\n",
       "      LDAvis_load_lib(\"https://cdn.rawgit.com/bmabey/pyLDAvis/files/ldavis.v1.0.0.js\", function(){\n",
       "        new LDAvis(\"#\" + \"ldavis_el53521406536504619448213691644\", ldavis_el53521406536504619448213691644_data);\n",
       "      });\n",
       "    });\n",
       "}else{\n",
       "    // require.js not available: dynamically load d3 & LDAvis\n",
       "    LDAvis_load_lib(\"https://cdnjs.cloudflare.com/ajax/libs/d3/3.5.5/d3.min.js\", function(){\n",
       "         LDAvis_load_lib(\"https://cdn.rawgit.com/bmabey/pyLDAvis/files/ldavis.v1.0.0.js\", function(){\n",
       "                 new LDAvis(\"#\" + \"ldavis_el53521406536504619448213691644\", ldavis_el53521406536504619448213691644_data);\n",
       "            })\n",
       "         });\n",
       "}\n",
       "</script>"
      ],
      "text/plain": [
       "PreparedData(topic_coordinates=              x         y  topics  cluster       Freq\n",
       "topic                                                \n",
       "6     -0.144774 -0.050035       1        1  13.525094\n",
       "4     -0.004657  0.014986       2        1  12.828754\n",
       "5      0.066064  0.183712       3        1  11.886457\n",
       "2      0.042413  0.144496       4        1  10.830029\n",
       "13    -0.173971  0.062413       5        1   9.398981\n",
       "10     0.050079  0.000165       6        1   8.097757\n",
       "1     -0.073929  0.066920       7        1   6.971852\n",
       "8     -0.073956 -0.035232       8        1   5.915535\n",
       "14     0.043999 -0.035346       9        1   5.122229\n",
       "11     0.083070 -0.078391      10        1   3.875720\n",
       "9     -0.097405 -0.116462      11        1   3.233102\n",
       "3     -0.046987  0.036495      12        1   2.566767\n",
       "12     0.141688  0.060895      13        1   1.993615\n",
       "7     -0.051172 -0.132614      14        1   1.946124\n",
       "0      0.239539 -0.122002      15        1   1.807984, topic_info=      Category         Freq      Term        Total  loglift  logprob\n",
       "10871  Default  5174.000000    google  5174.000000  30.0000  30.0000\n",
       "4677   Default  2369.000000     cloud  2369.000000  29.0000  29.0000\n",
       "7841   Default  1045.000000    drupal  1045.000000  28.0000  28.0000\n",
       "1201   Default  1656.000000     apple  1656.000000  27.0000  27.0000\n",
       "15458  Default  2694.000000   machine  2694.000000  26.0000  26.0000\n",
       "...        ...          ...       ...          ...      ...      ...\n",
       "8451   Topic15    43.250721  engineer   730.262735   1.1866  -5.7850\n",
       "29410  Topic15    48.442912     world  1946.114772   0.3198  -5.6716\n",
       "24969  Topic15    40.987105     state   736.042984   1.1249  -5.8387\n",
       "19328  Topic15    44.892728    people  3528.860114  -0.3515  -5.7477\n",
       "16515  Topic15    41.294317   million  1031.095962   0.7953  -5.8313\n",
       "\n",
       "[1189 rows x 6 columns], token_table=       Topic      Freq        Term\n",
       "term                              \n",
       "122        1  0.120003      access\n",
       "122        2  0.050770      access\n",
       "122        3  0.141234      access\n",
       "122        4  0.079386      access\n",
       "122        5  0.313853      access\n",
       "...      ...       ...         ...\n",
       "29705      6  0.916526      zigbee\n",
       "29733      4  0.152851   zookeeper\n",
       "29733      9  0.764257   zookeeper\n",
       "29733     13  0.038213   zookeeper\n",
       "29745     11  0.873597  zumbrunnen\n",
       "\n",
       "[5107 rows x 3 columns], R=30, lambda_step=0.01, plot_opts={'xlab': 'PC1', 'ylab': 'PC2'}, topic_order=[7, 5, 6, 3, 14, 11, 2, 9, 15, 12, 10, 4, 13, 8, 1])"
      ]
     },
     "execution_count": 48,
     "metadata": {},
     "output_type": "execute_result"
    }
   ],
   "source": [
    "pyLDAvis.sklearn.prepare(lda_tf, dtm_tf, tf_vectorizer)"
   ]
  },
  {
   "cell_type": "markdown",
   "metadata": {},
   "source": [
    "#### Using different MDS functions\n",
    "\n",
    "With `sklearn` installed, other MDS functions, such as MMDS and TSNE can be used for plotting if the default PCoA is not satisfactory."
   ]
  },
  {
   "cell_type": "code",
   "execution_count": 240,
   "metadata": {},
   "outputs": [],
   "source": [
    "# pyLDAvis.sklearn.prepare(lda_tf, dtm_tf, tf_vectorizer, mds='mmds')"
   ]
  },
  {
   "cell_type": "code",
   "execution_count": 241,
   "metadata": {},
   "outputs": [],
   "source": [
    "# pyLDAvis.sklearn.prepare(lda_tf, dtm_tf, tf_vectorizer, mds='tsne')"
   ]
  },
  {
   "cell_type": "markdown",
   "metadata": {},
   "source": [
    "### Tf-IDf LDA"
   ]
  },
  {
   "cell_type": "code",
   "execution_count": 279,
   "metadata": {},
   "outputs": [
    {
     "name": "stdout",
     "output_type": "stream",
     "text": [
      "Time Taken : 14.3805    sec\n",
      "topic_0 : #kittlaus, #bryant, #bluemix, #shots, #whiteboard, #jamboard, #sussman, #instrumentation, #disclosure, #bootloader\n",
      "topic_1 : #firebase, #swarm, #balancer, #microservice, #stackdriver, #downtime, #gcloud, #layout, #niantic, #proxy\n",
      "topic_2 : #aggregations, #aggregation, #elasticsearch, #facets, #raspberry, #sorted, #buffer, #gradle, #macos, #sierra\n",
      "topic_3 : #mycroft, #thunder, #burda, #kickstarter, #tesla, #skully, #walgreens, #publishing, #interviewer, #coupons\n",
      "topic_4 : #layout, #arguments, #debate, #bigquery, #graphs, #constraints, #angular, #optimization, #micro, #checklist\n",
      "topic_5 : #sprints, #kotlin, #optionals, #dagger, #kibana, #espresso, #retrolambda, #subcommittee, #unicode, #safari\n",
      "topic_6 : #female, #scandic, #portrait, #kotlin, #bigquery, #sarcastic, #istanbul, #tattoo, #vintage, #dzone\n",
      "topic_7 : #acquia, #protocol, #whatsapp, #ubuntu, #dynamic, #keyboard, #caching, #optimization, #exposed, #dropbox\n",
      "topic_8 : #evaluations, #martech, #brazilian, #resistance, #aliases, #iwork, #dualshock, #forwarding, #heroku, #honey\n",
      "topic_9 : #keyboard, #incognito, #bonuses, #verge, #reservations, #deeptext, #macrumors, #gboard, #weave, #consultancies\n",
      "topic_10 : #shareable, #customizable, #favorites, #infographics, #decks, #african, #coaching, #qualcomm, #slide, #snapdragon\n",
      "topic_11 : #google, #people, #using, #company, #users, #learning, #cloud, #business, #technology, #platform\n",
      "topic_12 : #instapaper, #webpass, #sublime, #fblearner, #passengers, #fiber, #humility, #undifferentiated, #fleksy, #pooling\n",
      "topic_13 : #mcdonald, #comics, #diversion, #shoot, #foxconn, #braintree, #laude, #walkthrough, #tetra, #seenit\n",
      "topic_14 : #trendwatching, #briefing, #memcache, #spotting, #french, #oreal, #bekele, #torvalds, #futhark, #arena\n"
     ]
    }
   ],
   "source": [
    "tf_idf_vectorizer = TfidfVectorizer(strip_accents = 'ascii',\n",
    "                                    stop_words = 'english',\n",
    "                                    lowercase = True,\n",
    "                                    analyzer = 'word',\n",
    "                                    token_pattern = r'\\b[a-zA-Z]{5,}\\b',\n",
    "                                    ngram_range = (1, 1),\n",
    "                                    max_df = 0.5, min_df = 1,\n",
    "                                    #max_features = 1000,\n",
    "                                    norm='l2', \n",
    "                                    use_idf=True, smooth_idf=True, sublinear_tf=True)\n",
    "lda_tf_idf = LatentDirichletAllocation(n_components=15, random_state=0)\n",
    "\n",
    "start_time = default_timer()\n",
    "\n",
    "dtm_tf_idf = tf_idf_vectorizer.fit_transform(eng_shared_articles_content_df['text_content'])\n",
    "lda_tf_idf.fit(dtm_tf_idf)\n",
    "\n",
    "end_time = default_timer()\n",
    "time_taken_str = convert_sec(end_time - start_time)\n",
    "print(\"Time Taken : {}\".format(time_taken_str))\n",
    "\n",
    "tf_idf_feature_names = tf_idf_vectorizer.get_feature_names()\n",
    "topics = get_topics(lda_tf_idf, tf_idf_feature_names, n_top_words=10)"
   ]
  },
  {
   "cell_type": "code",
   "execution_count": 265,
   "metadata": {},
   "outputs": [
    {
     "data": {
      "text/plain": [
       "(2185, 12133)"
      ]
     },
     "execution_count": 265,
     "metadata": {},
     "output_type": "execute_result"
    }
   ],
   "source": [
    "dtm_tf_idf.shape"
   ]
  },
  {
   "cell_type": "code",
   "execution_count": 266,
   "metadata": {},
   "outputs": [
    {
     "data": {
      "text/plain": [
       "(15, 12133)"
      ]
     },
     "execution_count": 266,
     "metadata": {},
     "output_type": "execute_result"
    }
   ],
   "source": [
    "lda_tf_idf.components_.shape"
   ]
  },
  {
   "cell_type": "code",
   "execution_count": 267,
   "metadata": {},
   "outputs": [
    {
     "data": {
      "text/plain": [
       "(2185, 15)"
      ]
     },
     "execution_count": 267,
     "metadata": {},
     "output_type": "execute_result"
    }
   ],
   "source": [
    "reduced_dtm_tf_idf = lda_tf_idf.transform(dtm_tf_idf)\n",
    "reduced_dtm_tf_idf.shape"
   ]
  },
  {
   "cell_type": "code",
   "execution_count": null,
   "metadata": {},
   "outputs": [],
   "source": [
    "pyLDAvis.sklearn.prepare(lda_tf_idf, dtm_tf_idf, tf_idf_vectorizer)"
   ]
  },
  {
   "cell_type": "markdown",
   "metadata": {},
   "source": [
    "#### Using different MDS functions\n",
    "\n",
    "With `sklearn` installed, other MDS functions, such as MMDS and TSNE can be used for plotting if the default PCoA is not satisfactory."
   ]
  },
  {
   "cell_type": "code",
   "execution_count": null,
   "metadata": {},
   "outputs": [],
   "source": [
    "# pyLDAvis.sklearn.prepare(lda_tf_idf, dtm_tf_idf, tf_idf_vectorizer, mds='mmds')"
   ]
  },
  {
   "cell_type": "code",
   "execution_count": null,
   "metadata": {},
   "outputs": [],
   "source": [
    "# pyLDAvis.sklearn.prepare(lda_tf_idf, dtm_tf_idf, tf_idf_vectorizer, mds='tsne')"
   ]
  }
 ],
 "metadata": {
  "kernelspec": {
   "display_name": "Python 3",
   "language": "python",
   "name": "python3"
  },
  "language_info": {
   "codemirror_mode": {
    "name": "ipython",
    "version": 3
   },
   "file_extension": ".py",
   "mimetype": "text/x-python",
   "name": "python",
   "nbconvert_exporter": "python",
   "pygments_lexer": "ipython3",
   "version": "3.7.3"
  },
  "toc": {
   "base_numbering": 1,
   "nav_menu": {},
   "number_sections": true,
   "sideBar": true,
   "skip_h1_title": false,
   "title_cell": "Table of Contents",
   "title_sidebar": "Contents",
   "toc_cell": false,
   "toc_position": {},
   "toc_section_display": true,
   "toc_window_display": true
  }
 },
 "nbformat": 4,
 "nbformat_minor": 2
}

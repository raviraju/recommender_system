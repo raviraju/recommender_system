{
 "cells": [
  {
   "cell_type": "markdown",
   "metadata": {},
   "source": [
    "## Imports"
   ]
  },
  {
   "cell_type": "code",
   "execution_count": 1,
   "metadata": {
    "ExecuteTime": {
     "end_time": "2021-12-03T03:37:59.965475Z",
     "start_time": "2021-12-03T03:37:58.604364Z"
    }
   },
   "outputs": [],
   "source": [
    "import pandas as pd\n",
    "import numpy as np\n",
    "\n",
    "import matplotlib.pyplot as plt\n",
    "from matplotlib_venn import venn2\n",
    "\n",
    "from collections import Counter\n",
    "from collections import defaultdict\n",
    "from pprint import pprint"
   ]
  },
  {
   "cell_type": "markdown",
   "metadata": {},
   "source": [
    "## Load Data"
   ]
  },
  {
   "cell_type": "code",
   "execution_count": 2,
   "metadata": {
    "ExecuteTime": {
     "end_time": "2021-12-03T03:38:00.082679Z",
     "start_time": "2021-12-03T03:37:59.967281Z"
    }
   },
   "outputs": [
    {
     "data": {
      "text/plain": [
       "(72312, 8)"
      ]
     },
     "execution_count": 2,
     "metadata": {},
     "output_type": "execute_result"
    }
   ],
   "source": [
    "interactions_df = pd.read_csv('../data/users_interactions.csv')\n",
    "interactions_df.shape"
   ]
  },
  {
   "cell_type": "code",
   "execution_count": 3,
   "metadata": {
    "ExecuteTime": {
     "end_time": "2021-12-03T03:38:00.096133Z",
     "start_time": "2021-12-03T03:38:00.084450Z"
    }
   },
   "outputs": [
    {
     "data": {
      "text/html": [
       "<div>\n",
       "<style scoped>\n",
       "    .dataframe tbody tr th:only-of-type {\n",
       "        vertical-align: middle;\n",
       "    }\n",
       "\n",
       "    .dataframe tbody tr th {\n",
       "        vertical-align: top;\n",
       "    }\n",
       "\n",
       "    .dataframe thead th {\n",
       "        text-align: right;\n",
       "    }\n",
       "</style>\n",
       "<table border=\"1\" class=\"dataframe\">\n",
       "  <thead>\n",
       "    <tr style=\"text-align: right;\">\n",
       "      <th></th>\n",
       "      <th>timestamp</th>\n",
       "      <th>eventType</th>\n",
       "      <th>contentId</th>\n",
       "      <th>personId</th>\n",
       "      <th>sessionId</th>\n",
       "      <th>userAgent</th>\n",
       "      <th>userRegion</th>\n",
       "      <th>userCountry</th>\n",
       "    </tr>\n",
       "  </thead>\n",
       "  <tbody>\n",
       "    <tr>\n",
       "      <th>0</th>\n",
       "      <td>1465413032</td>\n",
       "      <td>VIEW</td>\n",
       "      <td>-3499919498720038879</td>\n",
       "      <td>-8845298781299428018</td>\n",
       "      <td>1264196770339959068</td>\n",
       "      <td>NaN</td>\n",
       "      <td>NaN</td>\n",
       "      <td>NaN</td>\n",
       "    </tr>\n",
       "    <tr>\n",
       "      <th>1</th>\n",
       "      <td>1465412560</td>\n",
       "      <td>VIEW</td>\n",
       "      <td>8890720798209849691</td>\n",
       "      <td>-1032019229384696495</td>\n",
       "      <td>3621737643587579081</td>\n",
       "      <td>Mozilla/5.0 (Macintosh; Intel Mac OS X 10_11_2...</td>\n",
       "      <td>NY</td>\n",
       "      <td>US</td>\n",
       "    </tr>\n",
       "    <tr>\n",
       "      <th>2</th>\n",
       "      <td>1465416190</td>\n",
       "      <td>VIEW</td>\n",
       "      <td>310515487419366995</td>\n",
       "      <td>-1130272294246983140</td>\n",
       "      <td>2631864456530402479</td>\n",
       "      <td>NaN</td>\n",
       "      <td>NaN</td>\n",
       "      <td>NaN</td>\n",
       "    </tr>\n",
       "    <tr>\n",
       "      <th>3</th>\n",
       "      <td>1465413895</td>\n",
       "      <td>FOLLOW</td>\n",
       "      <td>310515487419366995</td>\n",
       "      <td>344280948527967603</td>\n",
       "      <td>-3167637573980064150</td>\n",
       "      <td>NaN</td>\n",
       "      <td>NaN</td>\n",
       "      <td>NaN</td>\n",
       "    </tr>\n",
       "    <tr>\n",
       "      <th>4</th>\n",
       "      <td>1465412290</td>\n",
       "      <td>VIEW</td>\n",
       "      <td>-7820640624231356730</td>\n",
       "      <td>-445337111692715325</td>\n",
       "      <td>5611481178424124714</td>\n",
       "      <td>NaN</td>\n",
       "      <td>NaN</td>\n",
       "      <td>NaN</td>\n",
       "    </tr>\n",
       "  </tbody>\n",
       "</table>\n",
       "</div>"
      ],
      "text/plain": [
       "    timestamp eventType            contentId             personId  \\\n",
       "0  1465413032      VIEW -3499919498720038879 -8845298781299428018   \n",
       "1  1465412560      VIEW  8890720798209849691 -1032019229384696495   \n",
       "2  1465416190      VIEW   310515487419366995 -1130272294246983140   \n",
       "3  1465413895    FOLLOW   310515487419366995   344280948527967603   \n",
       "4  1465412290      VIEW -7820640624231356730  -445337111692715325   \n",
       "\n",
       "             sessionId                                          userAgent  \\\n",
       "0  1264196770339959068                                                NaN   \n",
       "1  3621737643587579081  Mozilla/5.0 (Macintosh; Intel Mac OS X 10_11_2...   \n",
       "2  2631864456530402479                                                NaN   \n",
       "3 -3167637573980064150                                                NaN   \n",
       "4  5611481178424124714                                                NaN   \n",
       "\n",
       "  userRegion userCountry  \n",
       "0        NaN         NaN  \n",
       "1         NY          US  \n",
       "2        NaN         NaN  \n",
       "3        NaN         NaN  \n",
       "4        NaN         NaN  "
      ]
     },
     "execution_count": 3,
     "metadata": {},
     "output_type": "execute_result"
    }
   ],
   "source": [
    "interactions_df.head()"
   ]
  },
  {
   "cell_type": "code",
   "execution_count": 4,
   "metadata": {
    "ExecuteTime": {
     "end_time": "2021-12-03T03:38:00.115715Z",
     "start_time": "2021-12-03T03:38:00.098911Z"
    }
   },
   "outputs": [],
   "source": [
    "interactions_df.fillna('UNKOWN', inplace=True)"
   ]
  },
  {
   "cell_type": "markdown",
   "metadata": {},
   "source": [
    "## Data Distribution across Time Periods"
   ]
  },
  {
   "cell_type": "code",
   "execution_count": 5,
   "metadata": {
    "ExecuteTime": {
     "end_time": "2021-12-03T03:38:00.136375Z",
     "start_time": "2021-12-03T03:38:00.117111Z"
    }
   },
   "outputs": [
    {
     "name": "stderr",
     "output_type": "stream",
     "text": [
      "/Users/ravi/Personal_Projects/recommender_system/rec_sys_env/lib/python3.7/site-packages/ipykernel_launcher.py:2: FutureWarning: Treating datetime data as categorical rather than numeric in `.describe` is deprecated and will be removed in a future version of pandas. Specify `datetime_is_numeric=True` to silence this warning and adopt the future behavior now.\n",
      "  \n"
     ]
    },
    {
     "data": {
      "text/plain": [
       "count                   72312\n",
       "unique                  68772\n",
       "top       2016-05-27 02:23:45\n",
       "freq                        7\n",
       "first     2016-03-14 13:54:36\n",
       "last      2017-02-28 19:21:51\n",
       "Name: datetime, dtype: object"
      ]
     },
     "execution_count": 5,
     "metadata": {},
     "output_type": "execute_result"
    }
   ],
   "source": [
    "interactions_df['datetime'] = pd.to_datetime(interactions_df['timestamp'], unit='s')\n",
    "interactions_df['datetime'].describe()"
   ]
  },
  {
   "cell_type": "code",
   "execution_count": 6,
   "metadata": {
    "ExecuteTime": {
     "end_time": "2021-12-03T03:38:00.150564Z",
     "start_time": "2021-12-03T03:38:00.138100Z"
    }
   },
   "outputs": [],
   "source": [
    "interactions_df['year'] = interactions_df['datetime'].dt.year\n",
    "interactions_df['quarter'] = interactions_df['datetime'].dt.to_period(\"Q\")\n",
    "interactions_df['month'] = interactions_df['datetime'].dt.to_period(\"M\")"
   ]
  },
  {
   "cell_type": "code",
   "execution_count": 7,
   "metadata": {
    "ExecuteTime": {
     "end_time": "2021-12-03T03:38:00.157687Z",
     "start_time": "2021-12-03T03:38:00.152334Z"
    }
   },
   "outputs": [
    {
     "data": {
      "text/plain": [
       "2016    66508\n",
       "2017     5804\n",
       "Name: year, dtype: int64"
      ]
     },
     "execution_count": 7,
     "metadata": {},
     "output_type": "execute_result"
    }
   ],
   "source": [
    "interactions_df['year'].value_counts()"
   ]
  },
  {
   "cell_type": "code",
   "execution_count": 8,
   "metadata": {
    "ExecuteTime": {
     "end_time": "2021-12-03T03:38:00.166400Z",
     "start_time": "2021-12-03T03:38:00.159275Z"
    }
   },
   "outputs": [
    {
     "data": {
      "text/plain": [
       "2016Q1      858\n",
       "2016Q2    32435\n",
       "2016Q3    23047\n",
       "2016Q4    10168\n",
       "2017Q1     5804\n",
       "Freq: Q-DEC, Name: quarter, dtype: int64"
      ]
     },
     "execution_count": 8,
     "metadata": {},
     "output_type": "execute_result"
    }
   ],
   "source": [
    "interactions_df['quarter'].value_counts().sort_index()"
   ]
  },
  {
   "cell_type": "code",
   "execution_count": 9,
   "metadata": {
    "ExecuteTime": {
     "end_time": "2021-12-03T03:38:00.174643Z",
     "start_time": "2021-12-03T03:38:00.168238Z"
    }
   },
   "outputs": [
    {
     "data": {
      "text/plain": [
       "2016-03      858\n",
       "2016-04     7048\n",
       "2016-05     9072\n",
       "2016-06    16315\n",
       "2016-07     8097\n",
       "2016-08     7945\n",
       "2016-09     7005\n",
       "2016-10     5085\n",
       "2016-11     2629\n",
       "2016-12     2454\n",
       "2017-01     2895\n",
       "2017-02     2909\n",
       "Freq: M, Name: month, dtype: int64"
      ]
     },
     "execution_count": 9,
     "metadata": {},
     "output_type": "execute_result"
    }
   ],
   "source": [
    "interactions_df['month'].value_counts().sort_index()"
   ]
  },
  {
   "cell_type": "code",
   "execution_count": 10,
   "metadata": {
    "ExecuteTime": {
     "end_time": "2021-12-03T03:38:00.191484Z",
     "start_time": "2021-12-03T03:38:00.178441Z"
    }
   },
   "outputs": [
    {
     "data": {
      "text/html": [
       "<div>\n",
       "<style scoped>\n",
       "    .dataframe tbody tr th:only-of-type {\n",
       "        vertical-align: middle;\n",
       "    }\n",
       "\n",
       "    .dataframe tbody tr th {\n",
       "        vertical-align: top;\n",
       "    }\n",
       "\n",
       "    .dataframe thead th {\n",
       "        text-align: right;\n",
       "    }\n",
       "</style>\n",
       "<table border=\"1\" class=\"dataframe\">\n",
       "  <thead>\n",
       "    <tr style=\"text-align: right;\">\n",
       "      <th></th>\n",
       "      <th>timestamp</th>\n",
       "      <th>eventType</th>\n",
       "      <th>contentId</th>\n",
       "      <th>personId</th>\n",
       "      <th>sessionId</th>\n",
       "      <th>userAgent</th>\n",
       "      <th>userRegion</th>\n",
       "      <th>userCountry</th>\n",
       "      <th>datetime</th>\n",
       "      <th>year</th>\n",
       "      <th>quarter</th>\n",
       "      <th>month</th>\n",
       "    </tr>\n",
       "  </thead>\n",
       "  <tbody>\n",
       "    <tr>\n",
       "      <th>0</th>\n",
       "      <td>1465413032</td>\n",
       "      <td>VIEW</td>\n",
       "      <td>-3499919498720038879</td>\n",
       "      <td>-8845298781299428018</td>\n",
       "      <td>1264196770339959068</td>\n",
       "      <td>UNKOWN</td>\n",
       "      <td>UNKOWN</td>\n",
       "      <td>UNKOWN</td>\n",
       "      <td>2016-06-08 19:10:32</td>\n",
       "      <td>2016</td>\n",
       "      <td>2016Q2</td>\n",
       "      <td>2016-06</td>\n",
       "    </tr>\n",
       "    <tr>\n",
       "      <th>1</th>\n",
       "      <td>1465412560</td>\n",
       "      <td>VIEW</td>\n",
       "      <td>8890720798209849691</td>\n",
       "      <td>-1032019229384696495</td>\n",
       "      <td>3621737643587579081</td>\n",
       "      <td>Mozilla/5.0 (Macintosh; Intel Mac OS X 10_11_2...</td>\n",
       "      <td>NY</td>\n",
       "      <td>US</td>\n",
       "      <td>2016-06-08 19:02:40</td>\n",
       "      <td>2016</td>\n",
       "      <td>2016Q2</td>\n",
       "      <td>2016-06</td>\n",
       "    </tr>\n",
       "    <tr>\n",
       "      <th>2</th>\n",
       "      <td>1465416190</td>\n",
       "      <td>VIEW</td>\n",
       "      <td>310515487419366995</td>\n",
       "      <td>-1130272294246983140</td>\n",
       "      <td>2631864456530402479</td>\n",
       "      <td>UNKOWN</td>\n",
       "      <td>UNKOWN</td>\n",
       "      <td>UNKOWN</td>\n",
       "      <td>2016-06-08 20:03:10</td>\n",
       "      <td>2016</td>\n",
       "      <td>2016Q2</td>\n",
       "      <td>2016-06</td>\n",
       "    </tr>\n",
       "    <tr>\n",
       "      <th>3</th>\n",
       "      <td>1465413895</td>\n",
       "      <td>FOLLOW</td>\n",
       "      <td>310515487419366995</td>\n",
       "      <td>344280948527967603</td>\n",
       "      <td>-3167637573980064150</td>\n",
       "      <td>UNKOWN</td>\n",
       "      <td>UNKOWN</td>\n",
       "      <td>UNKOWN</td>\n",
       "      <td>2016-06-08 19:24:55</td>\n",
       "      <td>2016</td>\n",
       "      <td>2016Q2</td>\n",
       "      <td>2016-06</td>\n",
       "    </tr>\n",
       "    <tr>\n",
       "      <th>4</th>\n",
       "      <td>1465412290</td>\n",
       "      <td>VIEW</td>\n",
       "      <td>-7820640624231356730</td>\n",
       "      <td>-445337111692715325</td>\n",
       "      <td>5611481178424124714</td>\n",
       "      <td>UNKOWN</td>\n",
       "      <td>UNKOWN</td>\n",
       "      <td>UNKOWN</td>\n",
       "      <td>2016-06-08 18:58:10</td>\n",
       "      <td>2016</td>\n",
       "      <td>2016Q2</td>\n",
       "      <td>2016-06</td>\n",
       "    </tr>\n",
       "  </tbody>\n",
       "</table>\n",
       "</div>"
      ],
      "text/plain": [
       "    timestamp eventType            contentId             personId  \\\n",
       "0  1465413032      VIEW -3499919498720038879 -8845298781299428018   \n",
       "1  1465412560      VIEW  8890720798209849691 -1032019229384696495   \n",
       "2  1465416190      VIEW   310515487419366995 -1130272294246983140   \n",
       "3  1465413895    FOLLOW   310515487419366995   344280948527967603   \n",
       "4  1465412290      VIEW -7820640624231356730  -445337111692715325   \n",
       "\n",
       "             sessionId                                          userAgent  \\\n",
       "0  1264196770339959068                                             UNKOWN   \n",
       "1  3621737643587579081  Mozilla/5.0 (Macintosh; Intel Mac OS X 10_11_2...   \n",
       "2  2631864456530402479                                             UNKOWN   \n",
       "3 -3167637573980064150                                             UNKOWN   \n",
       "4  5611481178424124714                                             UNKOWN   \n",
       "\n",
       "  userRegion userCountry            datetime  year quarter    month  \n",
       "0     UNKOWN      UNKOWN 2016-06-08 19:10:32  2016  2016Q2  2016-06  \n",
       "1         NY          US 2016-06-08 19:02:40  2016  2016Q2  2016-06  \n",
       "2     UNKOWN      UNKOWN 2016-06-08 20:03:10  2016  2016Q2  2016-06  \n",
       "3     UNKOWN      UNKOWN 2016-06-08 19:24:55  2016  2016Q2  2016-06  \n",
       "4     UNKOWN      UNKOWN 2016-06-08 18:58:10  2016  2016Q2  2016-06  "
      ]
     },
     "execution_count": 10,
     "metadata": {},
     "output_type": "execute_result"
    }
   ],
   "source": [
    "interactions_df.head()"
   ]
  },
  {
   "cell_type": "markdown",
   "metadata": {},
   "source": [
    "## Type of Interactions"
   ]
  },
  {
   "cell_type": "code",
   "execution_count": 11,
   "metadata": {
    "ExecuteTime": {
     "end_time": "2021-12-03T03:38:00.202668Z",
     "start_time": "2021-12-03T03:38:00.193453Z"
    }
   },
   "outputs": [
    {
     "data": {
      "text/plain": [
       "VIEW               61086\n",
       "LIKE                5745\n",
       "BOOKMARK            2463\n",
       "COMMENT CREATED     1611\n",
       "FOLLOW              1407\n",
       "Name: eventType, dtype: int64"
      ]
     },
     "execution_count": 11,
     "metadata": {},
     "output_type": "execute_result"
    }
   ],
   "source": [
    "interactions_df['eventType'].value_counts()"
   ]
  },
  {
   "cell_type": "code",
   "execution_count": 12,
   "metadata": {
    "ExecuteTime": {
     "end_time": "2021-12-03T03:38:00.213950Z",
     "start_time": "2021-12-03T03:38:00.204286Z"
    }
   },
   "outputs": [
    {
     "data": {
      "text/plain": [
       "VIEW               84.475606\n",
       "LIKE                7.944739\n",
       "BOOKMARK            3.406074\n",
       "COMMENT CREATED     2.227846\n",
       "FOLLOW              1.945735\n",
       "Name: eventType, dtype: float64"
      ]
     },
     "execution_count": 12,
     "metadata": {},
     "output_type": "execute_result"
    }
   ],
   "source": [
    "interactions_df['eventType'].value_counts()/ len(interactions_df) * 100"
   ]
  },
  {
   "cell_type": "code",
   "execution_count": 13,
   "metadata": {
    "ExecuteTime": {
     "end_time": "2021-12-03T03:38:00.217684Z",
     "start_time": "2021-12-03T03:38:00.215269Z"
    }
   },
   "outputs": [],
   "source": [
    "# Here is the description of event types:\n",
    "\n",
    "# VIEW: The user has opened the article.\n",
    "# LIKE: The user has liked the article.\n",
    "# COMMENT CREATED: The user created a comment in the article.\n",
    "# FOLLOW: The user chose to be notified on any new comment in the article.\n",
    "# BOOKMARK: The user has bookmarked the article for easy return in the future."
   ]
  },
  {
   "cell_type": "code",
   "execution_count": 14,
   "metadata": {
    "ExecuteTime": {
     "end_time": "2021-12-03T03:38:00.223776Z",
     "start_time": "2021-12-03T03:38:00.218954Z"
    }
   },
   "outputs": [
    {
     "data": {
      "text/plain": [
       "2987"
      ]
     },
     "execution_count": 14,
     "metadata": {},
     "output_type": "execute_result"
    }
   ],
   "source": [
    "#No of Items\n",
    "no_of_items = len(interactions_df['contentId'].unique())\n",
    "no_of_items"
   ]
  },
  {
   "cell_type": "code",
   "execution_count": 15,
   "metadata": {
    "ExecuteTime": {
     "end_time": "2021-12-03T03:38:00.230176Z",
     "start_time": "2021-12-03T03:38:00.225569Z"
    }
   },
   "outputs": [
    {
     "data": {
      "text/plain": [
       "1895"
      ]
     },
     "execution_count": 15,
     "metadata": {},
     "output_type": "execute_result"
    }
   ],
   "source": [
    "#No of Users\n",
    "no_of_users = len(interactions_df['personId'].unique())\n",
    "no_of_users"
   ]
  },
  {
   "cell_type": "markdown",
   "metadata": {},
   "source": [
    "### User Item Utility Matrix"
   ]
  },
  {
   "cell_type": "code",
   "execution_count": 16,
   "metadata": {
    "ExecuteTime": {
     "end_time": "2021-12-03T03:38:00.234924Z",
     "start_time": "2021-12-03T03:38:00.232240Z"
    }
   },
   "outputs": [],
   "source": [
    "# for user_id, df in pd.get_dummies(interactions_df['contentId']).groupby(interactions_df['personId']):\n",
    "#     print(user_id)\n",
    "#     user_df = df.loc[:, (df!=0).any(axis=0)]\n",
    "#     print(user_df.sum())\n",
    "#     break"
   ]
  },
  {
   "cell_type": "code",
   "execution_count": 17,
   "metadata": {
    "ExecuteTime": {
     "end_time": "2021-12-03T03:38:00.238859Z",
     "start_time": "2021-12-03T03:38:00.236760Z"
    }
   },
   "outputs": [],
   "source": [
    "# interactions_df[(interactions_df['personId'] == -9223121837663643404) & \\\n",
    "#                 (interactions_df['contentId'] == -7423191370472335463)]"
   ]
  },
  {
   "cell_type": "code",
   "execution_count": 18,
   "metadata": {
    "ExecuteTime": {
     "end_time": "2021-12-03T03:38:11.043203Z",
     "start_time": "2021-12-03T03:38:00.240550Z"
    }
   },
   "outputs": [
    {
     "name": "stdout",
     "output_type": "stream",
     "text": [
      "40710 5660365 0.007192115702785951\n"
     ]
    }
   ],
   "source": [
    "uim_df = pd.get_dummies(interactions_df['contentId'])\\\n",
    "            .groupby(interactions_df['personId'])\\\n",
    "            .apply(sum)\n",
    "uim = uim_df.values\n",
    "non_zero_count = np.count_nonzero(uim)\n",
    "count = uim.size\n",
    "density = non_zero_count/count\n",
    "\n",
    "print(non_zero_count, count, density)"
   ]
  },
  {
   "cell_type": "code",
   "execution_count": 19,
   "metadata": {
    "ExecuteTime": {
     "end_time": "2021-12-03T03:38:11.049985Z",
     "start_time": "2021-12-03T03:38:11.046541Z"
    }
   },
   "outputs": [],
   "source": [
    "# uim_df.loc[-9223121837663643404, -7423191370472335463]"
   ]
  },
  {
   "cell_type": "markdown",
   "metadata": {},
   "source": [
    "### Analyse User interaction profile (no of items interacted)"
   ]
  },
  {
   "cell_type": "markdown",
   "metadata": {},
   "source": [
    "#### If there no repetitions in user_interactions"
   ]
  },
  {
   "cell_type": "code",
   "execution_count": 20,
   "metadata": {
    "ExecuteTime": {
     "end_time": "2021-12-03T03:38:11.066247Z",
     "start_time": "2021-12-03T03:38:11.053098Z"
    }
   },
   "outputs": [
    {
     "data": {
      "text/plain": [
       "count    1895.000000\n",
       "mean       38.159367\n",
       "std       104.143355\n",
       "min         1.000000\n",
       "25%         3.000000\n",
       "50%        10.000000\n",
       "75%        32.000000\n",
       "max      1885.000000\n",
       "Name: contentId, dtype: float64"
      ]
     },
     "execution_count": 20,
     "metadata": {},
     "output_type": "execute_result"
    }
   ],
   "source": [
    "interactions_df.groupby('personId')['contentId'].size().describe()"
   ]
  },
  {
   "cell_type": "code",
   "execution_count": 21,
   "metadata": {
    "ExecuteTime": {
     "end_time": "2021-12-03T03:38:11.089216Z",
     "start_time": "2021-12-03T03:38:11.068088Z"
    }
   },
   "outputs": [
    {
     "name": "stdout",
     "output_type": "stream",
     "text": [
      "-9223121837663643404\n",
      "63\n",
      "43\n"
     ]
    }
   ],
   "source": [
    "for user_id, user_df in interactions_df.groupby('personId'):\n",
    "    print(user_id)\n",
    "    print(user_df['contentId'].size)\n",
    "    print(user_df['contentId'].unique().size)    \n",
    "    break"
   ]
  },
  {
   "cell_type": "markdown",
   "metadata": {},
   "source": [
    "#### As we have repetitions in user_interactions"
   ]
  },
  {
   "cell_type": "code",
   "execution_count": 22,
   "metadata": {
    "ExecuteTime": {
     "end_time": "2021-12-03T03:38:11.095550Z",
     "start_time": "2021-12-03T03:38:11.091196Z"
    }
   },
   "outputs": [],
   "source": [
    "def get_users_items(df, user_id_col, item_id_col):\n",
    "    return df.groupby(user_id_col)[item_id_col].unique()\n",
    "\n",
    "def get_users_no_of_items(df, user_id_col, item_id_col):\n",
    "    users_items = get_users_items(df, user_id_col, item_id_col)\n",
    "    users_no_of_items = users_items.apply(lambda x: len(x))\n",
    "    return users_no_of_items"
   ]
  },
  {
   "cell_type": "code",
   "execution_count": 23,
   "metadata": {
    "ExecuteTime": {
     "end_time": "2021-12-03T03:38:11.199046Z",
     "start_time": "2021-12-03T03:38:11.098640Z"
    }
   },
   "outputs": [],
   "source": [
    "users_items = get_users_items(interactions_df, 'personId', 'contentId')\n",
    "# users_items"
   ]
  },
  {
   "cell_type": "code",
   "execution_count": 24,
   "metadata": {
    "ExecuteTime": {
     "end_time": "2021-12-03T03:38:11.281413Z",
     "start_time": "2021-12-03T03:38:11.200926Z"
    }
   },
   "outputs": [],
   "source": [
    "users_no_of_items = get_users_no_of_items(interactions_df, 'personId', 'contentId')\n",
    "# users_no_of_items.sort_values(ascending=False)"
   ]
  },
  {
   "cell_type": "code",
   "execution_count": 25,
   "metadata": {
    "ExecuteTime": {
     "end_time": "2021-12-03T03:38:11.288925Z",
     "start_time": "2021-12-03T03:38:11.283230Z"
    }
   },
   "outputs": [
    {
     "data": {
      "text/plain": [
       "count    1895.000000\n",
       "mean       21.482850\n",
       "std        52.307036\n",
       "min         1.000000\n",
       "25%         2.000000\n",
       "50%         6.000000\n",
       "75%        19.000000\n",
       "max       961.000000\n",
       "Name: contentId, dtype: float64"
      ]
     },
     "execution_count": 25,
     "metadata": {},
     "output_type": "execute_result"
    }
   ],
   "source": [
    "users_no_of_items.describe()"
   ]
  },
  {
   "cell_type": "code",
   "execution_count": 26,
   "metadata": {
    "ExecuteTime": {
     "end_time": "2021-12-03T03:38:11.293899Z",
     "start_time": "2021-12-03T03:38:11.290436Z"
    }
   },
   "outputs": [
    {
     "data": {
      "text/plain": [
       "854"
      ]
     },
     "execution_count": 26,
     "metadata": {},
     "output_type": "execute_result"
    }
   ],
   "source": [
    "len(users_no_of_items[users_no_of_items < 6])"
   ]
  },
  {
   "cell_type": "code",
   "execution_count": 27,
   "metadata": {
    "ExecuteTime": {
     "end_time": "2021-12-03T03:38:11.298994Z",
     "start_time": "2021-12-03T03:38:11.295186Z"
    }
   },
   "outputs": [
    {
     "data": {
      "text/plain": [
       "1041"
      ]
     },
     "execution_count": 27,
     "metadata": {},
     "output_type": "execute_result"
    }
   ],
   "source": [
    "len(users_no_of_items[users_no_of_items >= 6])"
   ]
  },
  {
   "cell_type": "code",
   "execution_count": 28,
   "metadata": {
    "ExecuteTime": {
     "end_time": "2021-12-03T03:38:11.307701Z",
     "start_time": "2021-12-03T03:38:11.305384Z"
    }
   },
   "outputs": [],
   "source": [
    "# users_no_of_items[(users_no_of_items>=19) & (users_no_of_items<=962)].sort_values()"
   ]
  },
  {
   "cell_type": "markdown",
   "metadata": {},
   "source": [
    "#### Form User Groups based on number of items interacted"
   ]
  },
  {
   "cell_type": "code",
   "execution_count": 29,
   "metadata": {
    "ExecuteTime": {
     "end_time": "2021-12-03T03:38:11.401060Z",
     "start_time": "2021-12-03T03:38:11.309261Z"
    }
   },
   "outputs": [
    {
     "name": "stdout",
     "output_type": "stream",
     "text": [
      "user_grp_1   275  users interacted with    1  <= no_of_items <  2\n",
      "user_grp_2   579  users interacted with    2  <= no_of_items <  6\n",
      "user_grp_3   555  users interacted with    6  <= no_of_items <  19\n",
      "user_grp_4   486  users interacted with   19  <= no_of_items <  962\n"
     ]
    }
   ],
   "source": [
    "def get_user_groups(df, user_id_col, item_id_col):\n",
    "    users_no_of_items = get_users_no_of_items(df, user_id_col, item_id_col)\n",
    "    users_no_of_items_dist = users_no_of_items.describe()\n",
    "    quartiles = []\n",
    "    quartiles.append((users_no_of_items_dist['min'], users_no_of_items_dist['25%']))\n",
    "    quartiles.append((users_no_of_items_dist['25%'], users_no_of_items_dist['50%']))\n",
    "    quartiles.append((users_no_of_items_dist['50%'], users_no_of_items_dist['75%']))\n",
    "    quartiles.append((users_no_of_items_dist['75%'], users_no_of_items_dist['max']+1))\n",
    "    #print(quartiles)\n",
    "    \n",
    "    #all_users_set = set()\n",
    "    user_groups = []\n",
    "    i = 0 \n",
    "    for quartile in quartiles:\n",
    "        min_items, max_items = quartile\n",
    "        user_group = dict()\n",
    "        user_group['grp_id'] = 'user_grp_' + str(i+1)\n",
    "        i += 1\n",
    "        user_group['usage'] = '{:3d}  <= no_of_items <  {}'.format(int(min_items), int(max_items))\n",
    "        \n",
    "        user_group['users'] = set(users_no_of_items[(users_no_of_items>=min_items) & \\\n",
    "                                                     (users_no_of_items<max_items)].index)\n",
    "        #all_users_set = all_users_set.union(user_group['users'])        \n",
    "        user_group['no_of_users'] = len(user_group['users'])\n",
    "        \n",
    "        print(user_group['grp_id'], ' ', user_group['no_of_users'], ' users interacted with ', user_group['usage'])\n",
    "        user_groups.append(user_group)\n",
    "    \n",
    "    #print(\"Total No of Users : \", len(all_users_set))\n",
    "    return user_groups        \n",
    "\n",
    "user_groups = get_user_groups(interactions_df, 'personId', 'contentId')"
   ]
  },
  {
   "cell_type": "markdown",
   "metadata": {},
   "source": [
    "### Analyse Item interaction profile (no of users interacted)"
   ]
  },
  {
   "cell_type": "markdown",
   "metadata": {},
   "source": [
    "#### If there no repetitions in user_interactions"
   ]
  },
  {
   "cell_type": "code",
   "execution_count": 30,
   "metadata": {
    "ExecuteTime": {
     "end_time": "2021-12-03T03:38:11.411434Z",
     "start_time": "2021-12-03T03:38:11.402581Z"
    }
   },
   "outputs": [
    {
     "data": {
      "text/plain": [
       "count    2987.000000\n",
       "mean       24.208905\n",
       "std        32.448298\n",
       "min         1.000000\n",
       "25%         6.000000\n",
       "50%        14.000000\n",
       "75%        30.000000\n",
       "max       433.000000\n",
       "Name: personId, dtype: float64"
      ]
     },
     "execution_count": 30,
     "metadata": {},
     "output_type": "execute_result"
    }
   ],
   "source": [
    "interactions_df.groupby('contentId')['personId'].size().describe()"
   ]
  },
  {
   "cell_type": "code",
   "execution_count": 31,
   "metadata": {
    "ExecuteTime": {
     "end_time": "2021-12-03T03:38:11.425935Z",
     "start_time": "2021-12-03T03:38:11.413624Z"
    }
   },
   "outputs": [
    {
     "name": "stdout",
     "output_type": "stream",
     "text": [
      "-9222795471790223670\n",
      "26\n",
      "5\n"
     ]
    }
   ],
   "source": [
    "for item_id, item_df in interactions_df.groupby('contentId'):\n",
    "    print(item_id)\n",
    "    print(item_df['personId'].size)\n",
    "    print(item_df['personId'].unique().size)    \n",
    "    break"
   ]
  },
  {
   "cell_type": "markdown",
   "metadata": {},
   "source": [
    "#### As we have repetitions in user_interactions"
   ]
  },
  {
   "cell_type": "code",
   "execution_count": 32,
   "metadata": {
    "ExecuteTime": {
     "end_time": "2021-12-03T03:38:11.430785Z",
     "start_time": "2021-12-03T03:38:11.427847Z"
    }
   },
   "outputs": [],
   "source": [
    "def get_items_users(df, user_id_col, item_id_col):\n",
    "    return df.groupby(item_id_col)[user_id_col].unique()\n",
    "\n",
    "def get_items_no_of_users(df, user_id_col, item_id_col):\n",
    "    items_users = get_items_users(df, user_id_col, item_id_col)\n",
    "    items_no_of_users = items_users.apply(lambda x: len(x))\n",
    "    return items_no_of_users"
   ]
  },
  {
   "cell_type": "code",
   "execution_count": 33,
   "metadata": {
    "ExecuteTime": {
     "end_time": "2021-12-03T03:38:11.555179Z",
     "start_time": "2021-12-03T03:38:11.432039Z"
    }
   },
   "outputs": [],
   "source": [
    "items_users = get_items_users(interactions_df, 'personId', 'contentId')\n",
    "# items_users"
   ]
  },
  {
   "cell_type": "code",
   "execution_count": 34,
   "metadata": {
    "ExecuteTime": {
     "end_time": "2021-12-03T03:38:11.692800Z",
     "start_time": "2021-12-03T03:38:11.556522Z"
    }
   },
   "outputs": [],
   "source": [
    "items_no_of_users = get_items_no_of_users(interactions_df, 'personId', 'contentId')\n",
    "# items_no_of_users.sort_values(ascending=False)"
   ]
  },
  {
   "cell_type": "code",
   "execution_count": 35,
   "metadata": {
    "ExecuteTime": {
     "end_time": "2021-12-03T03:38:11.700011Z",
     "start_time": "2021-12-03T03:38:11.694231Z"
    }
   },
   "outputs": [
    {
     "data": {
      "text/plain": [
       "count    2987.000000\n",
       "mean       13.629059\n",
       "std        17.151984\n",
       "min         1.000000\n",
       "25%         4.000000\n",
       "50%         9.000000\n",
       "75%        17.000000\n",
       "max       268.000000\n",
       "Name: personId, dtype: float64"
      ]
     },
     "execution_count": 35,
     "metadata": {},
     "output_type": "execute_result"
    }
   ],
   "source": [
    "items_no_of_users.describe()"
   ]
  },
  {
   "cell_type": "code",
   "execution_count": 36,
   "metadata": {
    "ExecuteTime": {
     "end_time": "2021-12-03T03:38:11.704732Z",
     "start_time": "2021-12-03T03:38:11.701246Z"
    }
   },
   "outputs": [
    {
     "data": {
      "text/plain": [
       "1459"
      ]
     },
     "execution_count": 36,
     "metadata": {},
     "output_type": "execute_result"
    }
   ],
   "source": [
    "len(items_no_of_users[items_no_of_users < 9])"
   ]
  },
  {
   "cell_type": "code",
   "execution_count": 37,
   "metadata": {
    "ExecuteTime": {
     "end_time": "2021-12-03T03:38:11.709510Z",
     "start_time": "2021-12-03T03:38:11.706018Z"
    }
   },
   "outputs": [
    {
     "data": {
      "text/plain": [
       "1528"
      ]
     },
     "execution_count": 37,
     "metadata": {},
     "output_type": "execute_result"
    }
   ],
   "source": [
    "len(items_no_of_users[items_no_of_users >= 9])"
   ]
  },
  {
   "cell_type": "markdown",
   "metadata": {},
   "source": [
    "### Analyse relation bw User interaction profile and Item interaction profile"
   ]
  },
  {
   "cell_type": "markdown",
   "metadata": {},
   "source": [
    "#### Do users with less interactions resort to viewing Popular Items ?"
   ]
  },
  {
   "cell_type": "code",
   "execution_count": 38,
   "metadata": {
    "ExecuteTime": {
     "end_time": "2021-12-03T03:38:11.846446Z",
     "start_time": "2021-12-03T03:38:11.710853Z"
    }
   },
   "outputs": [],
   "source": [
    "def get_popularity_items(df, user_id_col, item_id_col):\n",
    "    items_no_of_users = get_items_no_of_users(df, user_id_col, item_id_col)\n",
    "    popular_items = items_no_of_users.sort_values(ascending=False)\n",
    "    popularity_items_df = pd.DataFrame(popular_items)\\\n",
    "                            .rename(columns={user_id_col : 'no_of_users'})\n",
    "    popularity_items_df['rank'] = range(1, len(popularity_items_df)+1)\n",
    "    return popularity_items_df\n",
    "popularity_items_df = get_popularity_items(interactions_df, 'personId', 'contentId')"
   ]
  },
  {
   "cell_type": "code",
   "execution_count": 39,
   "metadata": {
    "ExecuteTime": {
     "end_time": "2021-12-03T03:38:11.853598Z",
     "start_time": "2021-12-03T03:38:11.847639Z"
    }
   },
   "outputs": [
    {
     "data": {
      "text/html": [
       "<div>\n",
       "<style scoped>\n",
       "    .dataframe tbody tr th:only-of-type {\n",
       "        vertical-align: middle;\n",
       "    }\n",
       "\n",
       "    .dataframe tbody tr th {\n",
       "        vertical-align: top;\n",
       "    }\n",
       "\n",
       "    .dataframe thead th {\n",
       "        text-align: right;\n",
       "    }\n",
       "</style>\n",
       "<table border=\"1\" class=\"dataframe\">\n",
       "  <thead>\n",
       "    <tr style=\"text-align: right;\">\n",
       "      <th></th>\n",
       "      <th>no_of_users</th>\n",
       "      <th>rank</th>\n",
       "    </tr>\n",
       "    <tr>\n",
       "      <th>contentId</th>\n",
       "      <th></th>\n",
       "      <th></th>\n",
       "    </tr>\n",
       "  </thead>\n",
       "  <tbody>\n",
       "    <tr>\n",
       "      <th>-4029704725707465084</th>\n",
       "      <td>268</td>\n",
       "      <td>1</td>\n",
       "    </tr>\n",
       "    <tr>\n",
       "      <th>-133139342397538859</th>\n",
       "      <td>193</td>\n",
       "      <td>2</td>\n",
       "    </tr>\n",
       "    <tr>\n",
       "      <th>-6783772548752091658</th>\n",
       "      <td>193</td>\n",
       "      <td>3</td>\n",
       "    </tr>\n",
       "    <tr>\n",
       "      <th>7507067965574797372</th>\n",
       "      <td>149</td>\n",
       "      <td>4</td>\n",
       "    </tr>\n",
       "    <tr>\n",
       "      <th>-8208801367848627943</th>\n",
       "      <td>145</td>\n",
       "      <td>5</td>\n",
       "    </tr>\n",
       "  </tbody>\n",
       "</table>\n",
       "</div>"
      ],
      "text/plain": [
       "                      no_of_users  rank\n",
       "contentId                              \n",
       "-4029704725707465084          268     1\n",
       "-133139342397538859           193     2\n",
       "-6783772548752091658          193     3\n",
       " 7507067965574797372          149     4\n",
       "-8208801367848627943          145     5"
      ]
     },
     "execution_count": 39,
     "metadata": {},
     "output_type": "execute_result"
    }
   ],
   "source": [
    "popularity_items_df.head()"
   ]
  },
  {
   "cell_type": "code",
   "execution_count": 40,
   "metadata": {
    "ExecuteTime": {
     "end_time": "2021-12-03T03:38:11.859413Z",
     "start_time": "2021-12-03T03:38:11.854891Z"
    }
   },
   "outputs": [
    {
     "data": {
      "text/html": [
       "<div>\n",
       "<style scoped>\n",
       "    .dataframe tbody tr th:only-of-type {\n",
       "        vertical-align: middle;\n",
       "    }\n",
       "\n",
       "    .dataframe tbody tr th {\n",
       "        vertical-align: top;\n",
       "    }\n",
       "\n",
       "    .dataframe thead th {\n",
       "        text-align: right;\n",
       "    }\n",
       "</style>\n",
       "<table border=\"1\" class=\"dataframe\">\n",
       "  <thead>\n",
       "    <tr style=\"text-align: right;\">\n",
       "      <th></th>\n",
       "      <th>no_of_users</th>\n",
       "      <th>rank</th>\n",
       "    </tr>\n",
       "    <tr>\n",
       "      <th>contentId</th>\n",
       "      <th></th>\n",
       "      <th></th>\n",
       "    </tr>\n",
       "  </thead>\n",
       "  <tbody>\n",
       "    <tr>\n",
       "      <th>1433951803438448289</th>\n",
       "      <td>1</td>\n",
       "      <td>2983</td>\n",
       "    </tr>\n",
       "    <tr>\n",
       "      <th>1431351528207086249</th>\n",
       "      <td>1</td>\n",
       "      <td>2984</td>\n",
       "    </tr>\n",
       "    <tr>\n",
       "      <th>-389749390447363927</th>\n",
       "      <td>1</td>\n",
       "      <td>2985</td>\n",
       "    </tr>\n",
       "    <tr>\n",
       "      <th>1362723651715193305</th>\n",
       "      <td>1</td>\n",
       "      <td>2986</td>\n",
       "    </tr>\n",
       "    <tr>\n",
       "      <th>3116298625885250927</th>\n",
       "      <td>1</td>\n",
       "      <td>2987</td>\n",
       "    </tr>\n",
       "  </tbody>\n",
       "</table>\n",
       "</div>"
      ],
      "text/plain": [
       "                      no_of_users  rank\n",
       "contentId                              \n",
       " 1433951803438448289            1  2983\n",
       " 1431351528207086249            1  2984\n",
       "-389749390447363927             1  2985\n",
       " 1362723651715193305            1  2986\n",
       " 3116298625885250927            1  2987"
      ]
     },
     "execution_count": 40,
     "metadata": {},
     "output_type": "execute_result"
    }
   ],
   "source": [
    "popularity_items_df.tail()"
   ]
  },
  {
   "cell_type": "code",
   "execution_count": 41,
   "metadata": {
    "ExecuteTime": {
     "end_time": "2021-12-03T03:38:14.889507Z",
     "start_time": "2021-12-03T03:38:11.860879Z"
    }
   },
   "outputs": [],
   "source": [
    "def get_ranks(items):\n",
    "    return [popularity_items_df.loc[item_id]['rank'] for item_id in items]\n",
    "users_item_ranks = users_items.apply(get_ranks)\n",
    "# users_item_ranks"
   ]
  },
  {
   "cell_type": "code",
   "execution_count": 42,
   "metadata": {
    "ExecuteTime": {
     "end_time": "2021-12-03T03:38:14.998439Z",
     "start_time": "2021-12-03T03:38:14.891061Z"
    }
   },
   "outputs": [
    {
     "name": "stdout",
     "output_type": "stream",
     "text": [
      "user_grp_1   275  users interacted with    1  <= no_of_items <  2\n",
      "user_grp_2   579  users interacted with    2  <= no_of_items <  6\n",
      "user_grp_3   555  users interacted with    6  <= no_of_items <  19\n",
      "user_grp_4   486  users interacted with   19  <= no_of_items <  962\n"
     ]
    }
   ],
   "source": [
    "user_groups = get_user_groups(interactions_df, 'personId', 'contentId')"
   ]
  },
  {
   "cell_type": "code",
   "execution_count": 43,
   "metadata": {
    "ExecuteTime": {
     "end_time": "2021-12-03T03:38:15.002956Z",
     "start_time": "2021-12-03T03:38:15.000469Z"
    }
   },
   "outputs": [],
   "source": [
    "# for user_group in user_groups:\n",
    "#     users = user_group['users']    \n",
    "#     print(user_group['no_of_users'], ' users interacted with ', user_group['usage'])\n",
    "    \n",
    "#     item_ranks_dict = defaultdict(int)\n",
    "#     item_ranks_count = Counter()\n",
    "#     for user_id in users:\n",
    "#         item_ranks = users_item_ranks[user_id]\n",
    "#         #print(user_id)\n",
    "#         #print(item_ranks)\n",
    "#         item_ranks_count.update(item_ranks)        \n",
    "\n",
    "#     #pprint(item_ranks_count)\n",
    "#     item_ranks_count_series = pd.Series(item_ranks_count)\n",
    "#     print(item_ranks_count_series.describe())\n",
    "#     print(item_ranks_count_series.unique())\n",
    "#     print(item_ranks_count_series[item_ranks_count_series!=1].sort_index())\n",
    "#     #print(item_ranks_count_series.sort_index())    \n",
    "#     print('*'*40)"
   ]
  },
  {
   "cell_type": "code",
   "execution_count": 44,
   "metadata": {
    "ExecuteTime": {
     "end_time": "2021-12-03T03:38:15.007552Z",
     "start_time": "2021-12-03T03:38:15.005008Z"
    }
   },
   "outputs": [],
   "source": [
    "# popularity_items_df[popularity_items_df['rank'] == 1]"
   ]
  },
  {
   "cell_type": "code",
   "execution_count": 45,
   "metadata": {
    "ExecuteTime": {
     "end_time": "2021-12-03T03:38:15.012951Z",
     "start_time": "2021-12-03T03:38:15.009885Z"
    }
   },
   "outputs": [],
   "source": [
    "# temp_users = interactions_df[interactions_df['contentId'] == -4029704725707465084]['personId'].unique()\n",
    "# user_grp_counts = defaultdict(int)\n",
    "# for user_id in temp_users:\n",
    "#     for user_group in user_groups:\n",
    "#         users = user_group['users']  \n",
    "#         if user_id in users:\n",
    "#             user_grp_counts[user_group['grp_id']] +=1\n",
    "# #             if user_group['grp_id'] == 'user_grp_1':\n",
    "# #                 print(user_id, user_group['usage'])\n",
    "# user_grp_counts"
   ]
  },
  {
   "cell_type": "markdown",
   "metadata": {},
   "source": [
    "## Demographs"
   ]
  },
  {
   "cell_type": "code",
   "execution_count": 46,
   "metadata": {
    "ExecuteTime": {
     "end_time": "2021-12-03T03:38:15.037521Z",
     "start_time": "2021-12-03T03:38:15.021344Z"
    }
   },
   "outputs": [
    {
     "data": {
      "text/plain": [
       "BR        51396\n",
       "UNKOWN    15394\n",
       "US         4657\n",
       "KR          239\n",
       "CA          226\n",
       "JP          144\n",
       "AU          138\n",
       "GB           22\n",
       "DE           19\n",
       "IE           14\n",
       "IS           13\n",
       "ZZ           11\n",
       "SG           11\n",
       "AR            7\n",
       "PT            6\n",
       "ES            3\n",
       "IN            3\n",
       "MY            2\n",
       "IT            2\n",
       "CN            1\n",
       "NL            1\n",
       "CL            1\n",
       "CO            1\n",
       "CH            1\n",
       "Name: userCountry, dtype: int64"
      ]
     },
     "execution_count": 46,
     "metadata": {},
     "output_type": "execute_result"
    }
   ],
   "source": [
    "interactions_df['userCountry'].value_counts()"
   ]
  },
  {
   "cell_type": "code",
   "execution_count": 47,
   "metadata": {
    "ExecuteTime": {
     "end_time": "2021-12-03T03:38:15.051847Z",
     "start_time": "2021-12-03T03:38:15.039913Z"
    },
    "code_folding": [
     0
    ]
   },
   "outputs": [],
   "source": [
    "country_code_dict = {\n",
    "    'BR': 'Brazil',\n",
    "    'US': 'United States',\n",
    "    'KR': 'South Korea',\n",
    "    'CA': 'Canada',\n",
    "    'JP': 'Japan',\n",
    "    'AU': 'Australia',\n",
    "    'GB': 'United Kingdom',\n",
    "    'DE': 'Germany',\n",
    "    'DE': 'Germany',\n",
    "    'IE': 'Ireland',\n",
    "    'IS': 'Iceland',\n",
    "    'SG': 'Singapure',\n",
    "    'AR': 'Argentina',\n",
    "    'PT': 'Portugal',\n",
    "    'IN': 'India',\n",
    "    'ES': 'Spain',\n",
    "    'IT': 'Italy',\n",
    "    'MY': 'Malaysia',\n",
    "    'CO': 'Colombia',\n",
    "    'CN': 'China',\n",
    "    'CL': 'Chile',\n",
    "    'NL': 'Netherlands',\n",
    "    'UNKOWN' : 'UNKOWN'\n",
    "}\n",
    "\n",
    "interactions_df['userCountryName'] = interactions_df['userCountry'].map(country_code_dict)"
   ]
  },
  {
   "cell_type": "code",
   "execution_count": 48,
   "metadata": {
    "ExecuteTime": {
     "end_time": "2021-12-03T03:38:15.063505Z",
     "start_time": "2021-12-03T03:38:15.053896Z"
    }
   },
   "outputs": [
    {
     "data": {
      "text/plain": [
       "Brazil            51396\n",
       "UNKOWN            15394\n",
       "United States      4657\n",
       "South Korea         239\n",
       "Canada              226\n",
       "Japan               144\n",
       "Australia           138\n",
       "United Kingdom       22\n",
       "Germany              19\n",
       "Ireland              14\n",
       "Iceland              13\n",
       "Singapure            11\n",
       "Argentina             7\n",
       "Portugal              6\n",
       "India                 3\n",
       "Spain                 3\n",
       "Malaysia              2\n",
       "Italy                 2\n",
       "China                 1\n",
       "Netherlands           1\n",
       "Chile                 1\n",
       "Colombia              1\n",
       "Name: userCountryName, dtype: int64"
      ]
     },
     "execution_count": 48,
     "metadata": {},
     "output_type": "execute_result"
    }
   ],
   "source": [
    "interactions_df['userCountryName'].value_counts()"
   ]
  },
  {
   "cell_type": "code",
   "execution_count": 49,
   "metadata": {
    "ExecuteTime": {
     "end_time": "2021-12-03T03:38:15.067887Z",
     "start_time": "2021-12-03T03:38:15.065471Z"
    }
   },
   "outputs": [],
   "source": [
    "# interactions_df['userRegion'].value_counts()"
   ]
  },
  {
   "cell_type": "markdown",
   "metadata": {},
   "source": [
    "## Analyse Trend in Interactions"
   ]
  },
  {
   "cell_type": "code",
   "execution_count": 50,
   "metadata": {
    "ExecuteTime": {
     "end_time": "2021-12-03T03:38:15.101929Z",
     "start_time": "2021-12-03T03:38:15.069846Z"
    },
    "code_folding": [
     0,
     62
    ]
   },
   "outputs": [],
   "source": [
    "def analyse_trend(of_cols, period_col):\n",
    "    periods = interactions_df[period_col].value_counts().sort_index().index\n",
    "\n",
    "    for period in periods:        \n",
    "        count = len(interactions_df[interactions_df[period_col] == period])\n",
    "        print(\"No of interactions in {} : {}\".format(period, count))        \n",
    "    print()\n",
    "            \n",
    "    for i, period in enumerate(periods):\n",
    "        elapsed_periods = list(periods[:i])\n",
    "        elapsed_periods.append(period)\n",
    "        \n",
    "        print(elapsed_periods)\n",
    "        interactions_during_elapsed_periods_df = interactions_df[interactions_df[period_col].isin(elapsed_periods)]\n",
    "        print(\"\\t no of interactions     : \", len(interactions_during_elapsed_periods_df))\n",
    "        for of_col in of_cols:\n",
    "            count = len(interactions_during_elapsed_periods_df[of_col].unique())\n",
    "            print(\"\\t no of unique {}  : {}\".format(of_col, count))        \n",
    "        print()\n",
    "        \n",
    "        no_of_elapsed_periods = len(elapsed_periods)\n",
    "        if no_of_elapsed_periods > 1:\n",
    "            train_periods = elapsed_periods[:no_of_elapsed_periods-1] #except last period\n",
    "            test_period = elapsed_periods[-1] #last period\n",
    "            \n",
    "            print(\"\\t train {} : {}\".format(period_col, train_periods))\n",
    "            interactions_during_train_periods_df = interactions_df[interactions_df[period_col].isin(train_periods)]\n",
    "            print(\"\\t\\t no of interactions     : \", len(interactions_during_train_periods_df))\n",
    "            for of_col in of_cols:\n",
    "                count = len(interactions_during_train_periods_df[of_col].unique())\n",
    "                print(\"\\t\\t no of unique {}  : {}\".format(of_col, count))\n",
    "            print()\n",
    "            \n",
    "            print(\"\\t test  {} : {}\".format(period_col, test_period))\n",
    "            interactions_during_test_periods_df = interactions_df[interactions_df[period_col].isin([test_period])]\n",
    "            print(\"\\t\\t no of interactions     : \", len(interactions_during_test_periods_df))\n",
    "            for of_col in of_cols:\n",
    "                count = len(interactions_during_test_periods_df[of_col].unique())\n",
    "                print(\"\\t\\t no of unique {}  : {}\".format(of_col, count))\n",
    "            print()\n",
    "            \n",
    "            print(\"\\t train and test {}\".format(period_col))\n",
    "            for of_col in of_cols:\n",
    "                train_set = set(interactions_during_train_periods_df[of_col].unique())\n",
    "                test_set = set(interactions_during_test_periods_df[of_col].unique())\n",
    "                \n",
    "                common = train_set.intersection(test_set)\n",
    "                print(\"\\t\\t common        {} : {}\".format(of_col, len(common)))\n",
    "                \n",
    "                only_in_train = train_set - test_set\n",
    "                print(\"\\t\\t only_in_train {} : {}\".format(of_col, len(only_in_train)))\n",
    "                \n",
    "                only_in_test = test_set - train_set\n",
    "                print(\"\\t\\t only_in_test  {} : {}\".format(of_col, len(only_in_test)))\n",
    "                \n",
    "                print()\n",
    "                \n",
    "                venn2(subsets = (len(only_in_train), len(only_in_test), len(common)), \n",
    "                      set_labels = ('Train_' + of_col, 'Test_' + of_col))\n",
    "                plt.show()                                           \n",
    "        print('*'*30)\n",
    "\n",
    "def analyse_trend_user_item(period_col, user_col, item_col):\n",
    "    periods = interactions_df[period_col].value_counts().sort_index().index\n",
    "\n",
    "    for period in periods:        \n",
    "        count = len(interactions_df[interactions_df[period_col] == period])\n",
    "        print(\"interactions_count in {} : {}\".format(period, count))        \n",
    "    print()\n",
    "            \n",
    "    for i, period in enumerate(periods):\n",
    "        elapsed_periods = list(periods[:i])\n",
    "        elapsed_periods.append(period)\n",
    "        \n",
    "        # print(elapsed_periods)\n",
    "        print(\"elapsed_\" + period_col + \"s   : \", [str(period) for period in elapsed_periods])\n",
    "        interactions_during_elapsed_periods_df = interactions_df[interactions_df[period_col].isin(elapsed_periods)]\n",
    "        print(\"interactions_count : \", len(interactions_during_elapsed_periods_df))\n",
    "        \n",
    "        users_count = len(interactions_during_elapsed_periods_df[user_col].unique())\n",
    "        items_count = len(interactions_during_elapsed_periods_df[item_col].unique())\n",
    "        print(\"users_count        :  {}\\nitems_count        :  {}\".format(users_count, items_count))        \n",
    "        print()\n",
    "        \n",
    "        no_of_elapsed_periods = len(elapsed_periods)\n",
    "        if no_of_elapsed_periods > 1:\n",
    "            train_periods = elapsed_periods[:no_of_elapsed_periods-1] #except last period\n",
    "            test_period = elapsed_periods[-1] #last period\n",
    "            \n",
    "            # print(\"Train {} : {}\".format(period_col, train_periods))\n",
    "            print(\"Train {} : {}\".format(period_col, [str(period) for period in train_periods]))\n",
    "            interactions_during_train_periods_df = interactions_df[interactions_df[period_col].isin(train_periods)]\n",
    "            print(\"\\t interactions_count : \", len(interactions_during_train_periods_df))\n",
    "            users_count = len(interactions_during_train_periods_df[user_col].unique())\n",
    "            items_count = len(interactions_during_train_periods_df[item_col].unique())\n",
    "            print(\"\\t users_count        :  {}\\n\\t items_count        :  {}\".format(users_count, items_count))\n",
    "                   \n",
    "            print(\"Test  {} : {}\".format(period_col, test_period))\n",
    "            interactions_during_test_periods_df = interactions_df[interactions_df[period_col].isin([test_period])]\n",
    "            print(\"\\t interactions_count : \", len(interactions_during_test_periods_df))\n",
    "            users_count = len(interactions_during_test_periods_df[user_col].unique())\n",
    "            items_count = len(interactions_during_test_periods_df[item_col].unique())\n",
    "            print(\"\\t users_count        :  {}\\n\\t items_count        :  {}\".format(users_count, items_count))\n",
    "            \n",
    "            print(\"Train and test {}\".format(period_col))\n",
    "            train_users_set = set(interactions_during_train_periods_df[user_col].unique())\n",
    "            test_users_set = set(interactions_during_test_periods_df[user_col].unique())\n",
    "            common_users_set = train_users_set.intersection(test_users_set)\n",
    "            only_in_train_users_set = train_users_set - test_users_set\n",
    "            only_in_test_users_set = test_users_set - train_users_set\n",
    "                \n",
    "            train_items_set = set(interactions_during_train_periods_df[item_col].unique())\n",
    "            test_items_set = set(interactions_during_test_periods_df[item_col].unique())\n",
    "            common_items_set = train_items_set.intersection(test_items_set)\n",
    "            only_in_train_items_set = train_items_set - test_items_set\n",
    "            only_in_test_items_set = test_items_set - train_items_set\n",
    "\n",
    "            print(\"\\t Common\")\n",
    "            print(\"\\t\\t users_count        :  {}\\n\\t\\t items_count        :  {}\".format(len(common_users_set), \n",
    "                                                                          len(common_items_set)))\n",
    "            print(\"\\t Only_in_train\")\n",
    "            print(\"\\t\\t users_count        :  {}\\n\\t\\t items_count        :  {}\".format(len(only_in_train_users_set), \n",
    "                                                                          len(only_in_train_items_set)))\n",
    "            print(\"\\t Only_in_test\")\n",
    "            print(\"\\t\\t users_count        :  {}\\n\\t\\t items_count        :  {}\".format(len(only_in_test_users_set), \n",
    "                                                                          len(only_in_test_items_set)))   \n",
    "                       \n",
    "            \n",
    "            fig, (ax1, ax2) = plt.subplots(1, 2)\n",
    "            ax1.set_title('Users')\n",
    "            venn2(subsets = (len(only_in_train_users_set), len(only_in_test_users_set), len(common_users_set)), \n",
    "                  set_labels = ('Train', 'Test'), ax=ax1)\n",
    "            \n",
    "            ax2.set_title('Items')\n",
    "            venn2(subsets = (len(only_in_train_items_set), len(only_in_test_items_set), len(common_items_set)), \n",
    "                  set_labels = ('Train', 'Test'), ax=ax2)\n",
    "            plt.show()                        \n",
    "            \n",
    "            print(\"Recommender Setup : {}\".format(period_col))\n",
    "                         \n",
    "            items_ununsed_set = train_items_set - test_items_set\n",
    "            items_added_set = test_items_set - train_items_set\n",
    "\n",
    "            existing_users_in_test_set = common_users_set\n",
    "            existing_users_in_test_items_used_set = set(interactions_during_test_periods_df[\\\n",
    "                interactions_during_test_periods_df[user_col].isin(existing_users_in_test_set)][item_col].unique())                                                                \n",
    "\n",
    "            existing_items_in_test_set = common_items_set\n",
    "            existing_items_used_set = existing_users_in_test_items_used_set.intersection(existing_items_in_test_set)\n",
    "            existing_items_unused_set = existing_items_in_test_set - existing_items_used_set\n",
    "            new_items_used_set = existing_users_in_test_items_used_set.intersection(items_added_set)\n",
    "                        \n",
    "            print(\"\\t No of train_users in test   : \", len(existing_users_in_test_set))\n",
    "            print(\"\\t No of items_used            : \", len(existing_users_in_test_items_used_set))\n",
    "            print(\"\\t No of existing_items_used   : \", len(existing_items_used_set))\n",
    "            print(\"\\t No of existing_items_unused : \", len(existing_items_unused_set))\n",
    "            print(\"\\t No of new_items_used        : \", len(new_items_used_set))\n",
    "            is_valid = True if (existing_users_in_test_items_used_set == existing_items_used_set.union(new_items_used_set)) else False            \n",
    "            if not is_valid:\n",
    "                print(\"\\t Items Add Up ? : \", is_valid)\n",
    "                input()                                      \n",
    "            print()\n",
    "            \n",
    "            \n",
    "#             new_users_in_test_set = only_in_test_users_set\n",
    "#             new_items_in_test_set = only_in_test_items_set\n",
    "#             new_users_used_items_set = set(interactions_during_test_periods_df[\\\n",
    "#                 interactions_during_test_periods_df[user_col].isin(new_users_in_test_set)][item_col].unique())\n",
    "#             new_users_used_existing_items_set = new_users_used_items_set.intersection(existing_items_used_set)\n",
    "#             new_users_used_new_items_set = new_users_used_items_set.intersection(new_items_in_test_set)\n",
    "#             print(\"\\t No of new users in test   : \", len(new_users_in_test_set))\n",
    "#             print(\"\\t No of items_used          : \", len(new_users_used_items_set))\n",
    "#             print(\"\\t No of existing_items_used : \", len(new_users_used_existing_items_set))\n",
    "#             print(\"\\t No of new_items_used      : \", len(new_users_used_new_items_set))\n",
    "        print('*'*80)"
   ]
  },
  {
   "cell_type": "code",
   "execution_count": 51,
   "metadata": {
    "ExecuteTime": {
     "end_time": "2021-12-03T03:38:15.286999Z",
     "start_time": "2021-12-03T03:38:15.103799Z"
    },
    "scrolled": true
   },
   "outputs": [
    {
     "name": "stdout",
     "output_type": "stream",
     "text": [
      "interactions_count in 2016 : 66508\n",
      "interactions_count in 2017 : 5804\n",
      "\n",
      "elapsed_years   :  ['2016']\n",
      "interactions_count :  66508\n",
      "users_count        :  1823\n",
      "items_count        :  2787\n",
      "\n",
      "********************************************************************************\n",
      "elapsed_years   :  ['2016', '2017']\n",
      "interactions_count :  72312\n",
      "users_count        :  1895\n",
      "items_count        :  2987\n",
      "\n",
      "Train year : ['2016']\n",
      "\t interactions_count :  66508\n",
      "\t users_count        :  1823\n",
      "\t items_count        :  2787\n",
      "Test  year : 2017\n",
      "\t interactions_count :  5804\n",
      "\t users_count        :  965\n",
      "\t items_count        :  502\n",
      "Train and test year\n",
      "\t Common\n",
      "\t\t users_count        :  893\n",
      "\t\t items_count        :  302\n",
      "\t Only_in_train\n",
      "\t\t users_count        :  930\n",
      "\t\t items_count        :  2485\n",
      "\t Only_in_test\n",
      "\t\t users_count        :  72\n",
      "\t\t items_count        :  200\n"
     ]
    },
    {
     "data": {
      "image/png": "[encoded data removed]",
      "text/plain": [
       "<Figure size 432x288 with 2 Axes>"
      ]
     },
     "metadata": {},
     "output_type": "display_data"
    },
    {
     "name": "stdout",
     "output_type": "stream",
     "text": [
      "Recommender Setup : year\n",
      "\t No of train_users in test   :  893\n",
      "\t No of items_used            :  488\n",
      "\t No of existing_items_used   :  289\n",
      "\t No of existing_items_unused :  13\n",
      "\t No of new_items_used        :  199\n",
      "\n",
      "********************************************************************************\n"
     ]
    }
   ],
   "source": [
    "# analyse_trend(of_cols=['personId', 'contentId'], period_col='year')\n",
    "analyse_trend_user_item(period_col='year', user_col='personId', item_col='contentId')"
   ]
  },
  {
   "cell_type": "code",
   "execution_count": 52,
   "metadata": {
    "ExecuteTime": {
     "end_time": "2021-12-03T03:38:15.825851Z",
     "start_time": "2021-12-03T03:38:15.288538Z"
    }
   },
   "outputs": [
    {
     "name": "stdout",
     "output_type": "stream",
     "text": [
      "interactions_count in 2016Q1 : 858\n",
      "interactions_count in 2016Q2 : 32435\n",
      "interactions_count in 2016Q3 : 23047\n",
      "interactions_count in 2016Q4 : 10168\n",
      "interactions_count in 2017Q1 : 5804\n",
      "\n",
      "elapsed_quarters   :  ['2016Q1']\n",
      "interactions_count :  858\n",
      "users_count        :  209\n",
      "items_count        :  114\n",
      "\n",
      "********************************************************************************\n",
      "elapsed_quarters   :  ['2016Q1', '2016Q2']\n",
      "interactions_count :  33293\n",
      "users_count        :  1374\n",
      "items_count        :  1498\n",
      "\n",
      "Train quarter : ['2016Q1']\n",
      "\t interactions_count :  858\n",
      "\t users_count        :  209\n",
      "\t items_count        :  114\n",
      "Test  quarter : 2016Q2\n",
      "\t interactions_count :  32435\n",
      "\t users_count        :  1362\n",
      "\t items_count        :  1461\n",
      "Train and test quarter\n",
      "\t Common\n",
      "\t\t users_count        :  197\n",
      "\t\t items_count        :  77\n",
      "\t Only_in_train\n",
      "\t\t users_count        :  12\n",
      "\t\t items_count        :  37\n",
      "\t Only_in_test\n",
      "\t\t users_count        :  1165\n",
      "\t\t items_count        :  1384\n"
     ]
    },
    {
     "data": {
      "image/png": "[encoded data removed]",
      "text/plain": [
       "<Figure size 432x288 with 2 Axes>"
      ]
     },
     "metadata": {},
     "output_type": "display_data"
    },
    {
     "name": "stdout",
     "output_type": "stream",
     "text": [
      "Recommender Setup : quarter\n",
      "\t No of train_users in test   :  197\n",
      "\t No of items_used            :  1374\n",
      "\t No of existing_items_used   :  68\n",
      "\t No of existing_items_unused :  9\n",
      "\t No of new_items_used        :  1306\n",
      "\n",
      "********************************************************************************\n",
      "elapsed_quarters   :  ['2016Q1', '2016Q2', '2016Q3']\n",
      "interactions_count :  56340\n",
      "users_count        :  1712\n",
      "items_count        :  2364\n",
      "\n",
      "Train quarter : ['2016Q1', '2016Q2']\n",
      "\t interactions_count :  33293\n",
      "\t users_count        :  1374\n",
      "\t items_count        :  1498\n",
      "Test  quarter : 2016Q3\n",
      "\t interactions_count :  23047\n",
      "\t users_count        :  1427\n",
      "\t items_count        :  1328\n",
      "Train and test quarter\n",
      "\t Common\n",
      "\t\t users_count        :  1089\n",
      "\t\t items_count        :  462\n",
      "\t Only_in_train\n",
      "\t\t users_count        :  285\n",
      "\t\t items_count        :  1036\n",
      "\t Only_in_test\n",
      "\t\t users_count        :  338\n",
      "\t\t items_count        :  866\n"
     ]
    },
    {
     "data": {
      "image/png": "[encoded data removed]",
      "text/plain": [
       "<Figure size 432x288 with 2 Axes>"
      ]
     },
     "metadata": {},
     "output_type": "display_data"
    },
    {
     "name": "stdout",
     "output_type": "stream",
     "text": [
      "Recommender Setup : quarter\n",
      "\t No of train_users in test   :  1089\n",
      "\t No of items_used            :  1289\n",
      "\t No of existing_items_used   :  425\n",
      "\t No of existing_items_unused :  37\n",
      "\t No of new_items_used        :  864\n",
      "\n",
      "********************************************************************************\n",
      "elapsed_quarters   :  ['2016Q1', '2016Q2', '2016Q3', '2016Q4']\n",
      "interactions_count :  66508\n",
      "users_count        :  1823\n",
      "items_count        :  2787\n",
      "\n",
      "Train quarter : ['2016Q1', '2016Q2', '2016Q3']\n",
      "\t interactions_count :  56340\n",
      "\t users_count        :  1712\n",
      "\t items_count        :  2364\n",
      "Test  quarter : 2016Q4\n",
      "\t interactions_count :  10168\n",
      "\t users_count        :  1060\n",
      "\t items_count        :  943\n",
      "Train and test quarter\n",
      "\t Common\n",
      "\t\t users_count        :  949\n",
      "\t\t items_count        :  520\n",
      "\t Only_in_train\n",
      "\t\t users_count        :  763\n",
      "\t\t items_count        :  1844\n",
      "\t Only_in_test\n",
      "\t\t users_count        :  111\n",
      "\t\t items_count        :  423\n"
     ]
    },
    {
     "data": {
      "image/png": "[encoded data removed]",
      "text/plain": [
       "<Figure size 432x288 with 2 Axes>"
      ]
     },
     "metadata": {},
     "output_type": "display_data"
    },
    {
     "name": "stdout",
     "output_type": "stream",
     "text": [
      "Recommender Setup : quarter\n",
      "\t No of train_users in test   :  949\n",
      "\t No of items_used            :  911\n",
      "\t No of existing_items_used   :  490\n",
      "\t No of existing_items_unused :  30\n",
      "\t No of new_items_used        :  421\n",
      "\n",
      "********************************************************************************\n",
      "elapsed_quarters   :  ['2016Q1', '2016Q2', '2016Q3', '2016Q4', '2017Q1']\n",
      "interactions_count :  72312\n",
      "users_count        :  1895\n",
      "items_count        :  2987\n",
      "\n",
      "Train quarter : ['2016Q1', '2016Q2', '2016Q3', '2016Q4']\n",
      "\t interactions_count :  66508\n",
      "\t users_count        :  1823\n",
      "\t items_count        :  2787\n",
      "Test  quarter : 2017Q1\n",
      "\t interactions_count :  5804\n",
      "\t users_count        :  965\n",
      "\t items_count        :  502\n",
      "Train and test quarter\n",
      "\t Common\n",
      "\t\t users_count        :  893\n",
      "\t\t items_count        :  302\n",
      "\t Only_in_train\n",
      "\t\t users_count        :  930\n",
      "\t\t items_count        :  2485\n",
      "\t Only_in_test\n",
      "\t\t users_count        :  72\n",
      "\t\t items_count        :  200\n"
     ]
    },
    {
     "data": {
      "image/png": "[encoded data removed]",
      "text/plain": [
       "<Figure size 432x288 with 2 Axes>"
      ]
     },
     "metadata": {},
     "output_type": "display_data"
    },
    {
     "name": "stdout",
     "output_type": "stream",
     "text": [
      "Recommender Setup : quarter\n",
      "\t No of train_users in test   :  893\n",
      "\t No of items_used            :  488\n",
      "\t No of existing_items_used   :  289\n",
      "\t No of existing_items_unused :  13\n",
      "\t No of new_items_used        :  199\n",
      "\n",
      "********************************************************************************\n"
     ]
    }
   ],
   "source": [
    "# analyse_trend(of_cols=['personId', 'contentId'], period_col='quarter')\n",
    "analyse_trend_user_item(period_col='quarter', user_col='personId', item_col='contentId')"
   ]
  },
  {
   "cell_type": "code",
   "execution_count": 53,
   "metadata": {
    "ExecuteTime": {
     "end_time": "2021-12-03T03:38:17.110503Z",
     "start_time": "2021-12-03T03:38:15.827454Z"
    }
   },
   "outputs": [
    {
     "name": "stdout",
     "output_type": "stream",
     "text": [
      "interactions_count in 2016-03 : 858\n",
      "interactions_count in 2016-04 : 7048\n",
      "interactions_count in 2016-05 : 9072\n",
      "interactions_count in 2016-06 : 16315\n",
      "interactions_count in 2016-07 : 8097\n",
      "interactions_count in 2016-08 : 7945\n",
      "interactions_count in 2016-09 : 7005\n",
      "interactions_count in 2016-10 : 5085\n",
      "interactions_count in 2016-11 : 2629\n",
      "interactions_count in 2016-12 : 2454\n",
      "interactions_count in 2017-01 : 2895\n",
      "interactions_count in 2017-02 : 2909\n",
      "\n",
      "elapsed_months   :  ['2016-03']\n",
      "interactions_count :  858\n",
      "users_count        :  209\n",
      "items_count        :  114\n",
      "\n",
      "********************************************************************************\n",
      "elapsed_months   :  ['2016-03', '2016-04']\n",
      "interactions_count :  7906\n",
      "users_count        :  868\n",
      "items_count        :  638\n",
      "\n",
      "Train month : ['2016-03']\n",
      "\t interactions_count :  858\n",
      "\t users_count        :  209\n",
      "\t items_count        :  114\n",
      "Test  month : 2016-04\n",
      "\t interactions_count :  7048\n",
      "\t users_count        :  835\n",
      "\t items_count        :  593\n",
      "Train and test month\n",
      "\t Common\n",
      "\t\t users_count        :  176\n",
      "\t\t items_count        :  69\n",
      "\t Only_in_train\n",
      "\t\t users_count        :  33\n",
      "\t\t items_count        :  45\n",
      "\t Only_in_test\n",
      "\t\t users_count        :  659\n",
      "\t\t items_count        :  524\n"
     ]
    },
    {
     "data": {
      "image/png": "[encoded data removed]",
      "text/plain": [
       "<Figure size 432x288 with 2 Axes>"
      ]
     },
     "metadata": {},
     "output_type": "display_data"
    },
    {
     "name": "stdout",
     "output_type": "stream",
     "text": [
      "Recommender Setup : month\n",
      "\t No of train_users in test   :  176\n",
      "\t No of items_used            :  552\n",
      "\t No of existing_items_used   :  60\n",
      "\t No of existing_items_unused :  9\n",
      "\t No of new_items_used        :  492\n",
      "\n",
      "********************************************************************************\n",
      "elapsed_months   :  ['2016-03', '2016-04', '2016-05']\n",
      "interactions_count :  16978\n",
      "users_count        :  1144\n",
      "items_count        :  1070\n",
      "\n",
      "Train month : ['2016-03', '2016-04']\n",
      "\t interactions_count :  7906\n",
      "\t users_count        :  868\n",
      "\t items_count        :  638\n",
      "Test  month : 2016-05\n",
      "\t interactions_count :  9072\n",
      "\t users_count        :  886\n",
      "\t items_count        :  635\n",
      "Train and test month\n",
      "\t Common\n",
      "\t\t users_count        :  610\n",
      "\t\t items_count        :  203\n",
      "\t Only_in_train\n",
      "\t\t users_count        :  258\n",
      "\t\t items_count        :  435\n",
      "\t Only_in_test\n",
      "\t\t users_count        :  276\n",
      "\t\t items_count        :  432\n"
     ]
    },
    {
     "data": {
      "image/png": "[encoded data removed]",
      "text/plain": [
       "<Figure size 432x288 with 2 Axes>"
      ]
     },
     "metadata": {},
     "output_type": "display_data"
    },
    {
     "name": "stdout",
     "output_type": "stream",
     "text": [
      "Recommender Setup : month\n",
      "\t No of train_users in test   :  610\n",
      "\t No of items_used            :  614\n",
      "\t No of existing_items_used   :  186\n",
      "\t No of existing_items_unused :  17\n",
      "\t No of new_items_used        :  428\n",
      "\n",
      "********************************************************************************\n",
      "elapsed_months   :  ['2016-03', '2016-04', '2016-05', '2016-06']\n",
      "interactions_count :  33293\n",
      "users_count        :  1374\n",
      "items_count        :  1498\n",
      "\n",
      "Train month : ['2016-03', '2016-04', '2016-05']\n",
      "\t interactions_count :  16978\n",
      "\t users_count        :  1144\n",
      "\t items_count        :  1070\n",
      "Test  month : 2016-06\n",
      "\t interactions_count :  16315\n",
      "\t users_count        :  992\n",
      "\t items_count        :  712\n",
      "Train and test month\n",
      "\t Common\n",
      "\t\t users_count        :  762\n",
      "\t\t items_count        :  284\n",
      "\t Only_in_train\n",
      "\t\t users_count        :  382\n",
      "\t\t items_count        :  786\n",
      "\t Only_in_test\n",
      "\t\t users_count        :  230\n",
      "\t\t items_count        :  428\n"
     ]
    },
    {
     "data": {
      "image/png": "[encoded data removed]",
      "text/plain": [
       "<Figure size 432x288 with 2 Axes>"
      ]
     },
     "metadata": {},
     "output_type": "display_data"
    },
    {
     "name": "stdout",
     "output_type": "stream",
     "text": [
      "Recommender Setup : month\n",
      "\t No of train_users in test   :  762\n",
      "\t No of items_used            :  693\n",
      "\t No of existing_items_used   :  266\n",
      "\t No of existing_items_unused :  18\n",
      "\t No of new_items_used        :  427\n",
      "\n",
      "********************************************************************************\n",
      "elapsed_months   :  ['2016-03', '2016-04', '2016-05', '2016-06', '2016-07']\n",
      "interactions_count :  41390\n",
      "users_count        :  1547\n",
      "items_count        :  1825\n",
      "\n",
      "Train month : ['2016-03', '2016-04', '2016-05', '2016-06']\n",
      "\t interactions_count :  33293\n",
      "\t users_count        :  1374\n",
      "\t items_count        :  1498\n",
      "Test  month : 2016-07\n",
      "\t interactions_count :  8097\n",
      "\t users_count        :  1070\n",
      "\t items_count        :  619\n",
      "Train and test month\n",
      "\t Common\n",
      "\t\t users_count        :  897\n",
      "\t\t items_count        :  292\n",
      "\t Only_in_train\n",
      "\t\t users_count        :  477\n",
      "\t\t items_count        :  1206\n",
      "\t Only_in_test\n",
      "\t\t users_count        :  173\n",
      "\t\t items_count        :  327\n"
     ]
    },
    {
     "data": {
      "image/png": "[encoded data removed]",
      "text/plain": [
       "<Figure size 432x288 with 2 Axes>"
      ]
     },
     "metadata": {},
     "output_type": "display_data"
    },
    {
     "name": "stdout",
     "output_type": "stream",
     "text": [
      "Recommender Setup : month\n",
      "\t No of train_users in test   :  897\n",
      "\t No of items_used            :  594\n",
      "\t No of existing_items_used   :  269\n",
      "\t No of existing_items_unused :  23\n",
      "\t No of new_items_used        :  325\n",
      "\n",
      "********************************************************************************\n",
      "elapsed_months   :  ['2016-03', '2016-04', '2016-05', '2016-06', '2016-07', '2016-08']\n",
      "interactions_count :  49335\n",
      "users_count        :  1628\n",
      "items_count        :  2119\n",
      "\n",
      "Train month : ['2016-03', '2016-04', '2016-05', '2016-06', '2016-07']\n",
      "\t interactions_count :  41390\n",
      "\t users_count        :  1547\n",
      "\t items_count        :  1825\n",
      "Test  month : 2016-08\n",
      "\t interactions_count :  7945\n",
      "\t users_count        :  930\n",
      "\t items_count        :  631\n",
      "Train and test month\n",
      "\t Common\n",
      "\t\t users_count        :  849\n",
      "\t\t items_count        :  337\n",
      "\t Only_in_train\n",
      "\t\t users_count        :  698\n",
      "\t\t items_count        :  1488\n",
      "\t Only_in_test\n",
      "\t\t users_count        :  81\n",
      "\t\t items_count        :  294\n"
     ]
    },
    {
     "data": {
      "image/png": "[encoded data removed]",
      "text/plain": [
       "<Figure size 432x288 with 2 Axes>"
      ]
     },
     "metadata": {},
     "output_type": "display_data"
    },
    {
     "name": "stdout",
     "output_type": "stream",
     "text": [
      "Recommender Setup : month\n",
      "\t No of train_users in test   :  849\n",
      "\t No of items_used            :  610\n",
      "\t No of existing_items_used   :  316\n",
      "\t No of existing_items_unused :  21\n",
      "\t No of new_items_used        :  294\n",
      "\n",
      "********************************************************************************\n",
      "elapsed_months   :  ['2016-03', '2016-04', '2016-05', '2016-06', '2016-07', '2016-08', '2016-09']\n",
      "interactions_count :  56340\n",
      "users_count        :  1712\n",
      "items_count        :  2364\n",
      "\n",
      "Train month : ['2016-03', '2016-04', '2016-05', '2016-06', '2016-07', '2016-08']\n",
      "\t interactions_count :  49335\n",
      "\t users_count        :  1628\n",
      "\t items_count        :  2119\n",
      "Test  month : 2016-09\n",
      "\t interactions_count :  7005\n",
      "\t users_count        :  869\n",
      "\t items_count        :  595\n",
      "Train and test month\n",
      "\t Common\n",
      "\t\t users_count        :  785\n",
      "\t\t items_count        :  350\n",
      "\t Only_in_train\n",
      "\t\t users_count        :  843\n",
      "\t\t items_count        :  1769\n",
      "\t Only_in_test\n",
      "\t\t users_count        :  84\n",
      "\t\t items_count        :  245\n"
     ]
    },
    {
     "data": {
      "image/png": "[encoded data removed]",
      "text/plain": [
       "<Figure size 432x288 with 2 Axes>"
      ]
     },
     "metadata": {},
     "output_type": "display_data"
    },
    {
     "name": "stdout",
     "output_type": "stream",
     "text": [
      "Recommender Setup : month\n",
      "\t No of train_users in test   :  785\n",
      "\t No of items_used            :  577\n",
      "\t No of existing_items_used   :  333\n",
      "\t No of existing_items_unused :  17\n",
      "\t No of new_items_used        :  244\n",
      "\n",
      "********************************************************************************\n",
      "elapsed_months   :  ['2016-03', '2016-04', '2016-05', '2016-06', '2016-07', '2016-08', '2016-09', '2016-10']\n",
      "interactions_count :  61425\n",
      "users_count        :  1761\n",
      "items_count        :  2557\n",
      "\n",
      "Train month : ['2016-03', '2016-04', '2016-05', '2016-06', '2016-07', '2016-08', '2016-09']\n",
      "\t interactions_count :  56340\n",
      "\t users_count        :  1712\n",
      "\t items_count        :  2364\n",
      "Test  month : 2016-10\n",
      "\t interactions_count :  5085\n",
      "\t users_count        :  747\n",
      "\t items_count        :  516\n",
      "Train and test month\n",
      "\t Common\n",
      "\t\t users_count        :  698\n",
      "\t\t items_count        :  323\n",
      "\t Only_in_train\n",
      "\t\t users_count        :  1014\n",
      "\t\t items_count        :  2041\n",
      "\t Only_in_test\n",
      "\t\t users_count        :  49\n",
      "\t\t items_count        :  193\n"
     ]
    },
    {
     "data": {
      "image/png": "[encoded data removed]",
      "text/plain": [
       "<Figure size 432x288 with 2 Axes>"
      ]
     },
     "metadata": {},
     "output_type": "display_data"
    },
    {
     "name": "stdout",
     "output_type": "stream",
     "text": [
      "Recommender Setup : month\n",
      "\t No of train_users in test   :  698\n",
      "\t No of items_used            :  498\n",
      "\t No of existing_items_used   :  306\n",
      "\t No of existing_items_unused :  17\n",
      "\t No of new_items_used        :  192\n",
      "\n",
      "********************************************************************************\n",
      "elapsed_months   :  ['2016-03', '2016-04', '2016-05', '2016-06', '2016-07', '2016-08', '2016-09', '2016-10', '2016-11']\n",
      "interactions_count :  64054\n",
      "users_count        :  1792\n",
      "items_count        :  2669\n",
      "\n",
      "Train month : ['2016-03', '2016-04', '2016-05', '2016-06', '2016-07', '2016-08', '2016-09', '2016-10']\n",
      "\t interactions_count :  61425\n",
      "\t users_count        :  1761\n",
      "\t items_count        :  2557\n",
      "Test  month : 2016-11\n",
      "\t interactions_count :  2629\n",
      "\t users_count        :  606\n",
      "\t items_count        :  351\n",
      "Train and test month\n",
      "\t Common\n",
      "\t\t users_count        :  575\n",
      "\t\t items_count        :  239\n",
      "\t Only_in_train\n",
      "\t\t users_count        :  1186\n",
      "\t\t items_count        :  2318\n",
      "\t Only_in_test\n",
      "\t\t users_count        :  31\n",
      "\t\t items_count        :  112\n"
     ]
    },
    {
     "data": {
      "image/png": "[encoded data removed]",
      "text/plain": [
       "<Figure size 432x288 with 2 Axes>"
      ]
     },
     "metadata": {},
     "output_type": "display_data"
    },
    {
     "name": "stdout",
     "output_type": "stream",
     "text": [
      "Recommender Setup : month\n",
      "\t No of train_users in test   :  575\n",
      "\t No of items_used            :  338\n",
      "\t No of existing_items_used   :  227\n",
      "\t No of existing_items_unused :  12\n",
      "\t No of new_items_used        :  111\n",
      "\n",
      "********************************************************************************\n",
      "elapsed_months   :  ['2016-03', '2016-04', '2016-05', '2016-06', '2016-07', '2016-08', '2016-09', '2016-10', '2016-11', '2016-12']\n",
      "interactions_count :  66508\n",
      "users_count        :  1823\n",
      "items_count        :  2787\n",
      "\n",
      "Train month : ['2016-03', '2016-04', '2016-05', '2016-06', '2016-07', '2016-08', '2016-09', '2016-10', '2016-11']\n",
      "\t interactions_count :  64054\n",
      "\t users_count        :  1792\n",
      "\t items_count        :  2669\n",
      "Test  month : 2016-12\n",
      "\t interactions_count :  2454\n",
      "\t users_count        :  539\n",
      "\t items_count        :  335\n",
      "Train and test month\n",
      "\t Common\n",
      "\t\t users_count        :  508\n",
      "\t\t items_count        :  217\n",
      "\t Only_in_train\n",
      "\t\t users_count        :  1284\n",
      "\t\t items_count        :  2452\n",
      "\t Only_in_test\n",
      "\t\t users_count        :  31\n",
      "\t\t items_count        :  118\n"
     ]
    },
    {
     "data": {
      "image/png": "[encoded data removed]",
      "text/plain": [
       "<Figure size 432x288 with 2 Axes>"
      ]
     },
     "metadata": {},
     "output_type": "display_data"
    },
    {
     "name": "stdout",
     "output_type": "stream",
     "text": [
      "Recommender Setup : month\n",
      "\t No of train_users in test   :  508\n",
      "\t No of items_used            :  315\n",
      "\t No of existing_items_used   :  197\n",
      "\t No of existing_items_unused :  20\n",
      "\t No of new_items_used        :  118\n",
      "\n",
      "********************************************************************************\n",
      "elapsed_months   :  ['2016-03', '2016-04', '2016-05', '2016-06', '2016-07', '2016-08', '2016-09', '2016-10', '2016-11', '2016-12', '2017-01']\n",
      "interactions_count :  69403\n",
      "users_count        :  1849\n",
      "items_count        :  2907\n",
      "\n",
      "Train month : ['2016-03', '2016-04', '2016-05', '2016-06', '2016-07', '2016-08', '2016-09', '2016-10', '2016-11', '2016-12']\n",
      "\t interactions_count :  66508\n",
      "\t users_count        :  1823\n",
      "\t items_count        :  2787\n",
      "Test  month : 2017-01\n",
      "\t interactions_count :  2895\n",
      "\t users_count        :  654\n",
      "\t items_count        :  310\n",
      "Train and test month\n",
      "\t Common\n",
      "\t\t users_count        :  628\n",
      "\t\t items_count        :  190\n",
      "\t Only_in_train\n",
      "\t\t users_count        :  1195\n",
      "\t\t items_count        :  2597\n",
      "\t Only_in_test\n",
      "\t\t users_count        :  26\n",
      "\t\t items_count        :  120\n"
     ]
    },
    {
     "data": {
      "image/png": "[encoded data removed]",
      "text/plain": [
       "<Figure size 432x288 with 2 Axes>"
      ]
     },
     "metadata": {},
     "output_type": "display_data"
    },
    {
     "name": "stdout",
     "output_type": "stream",
     "text": [
      "Recommender Setup : month\n",
      "\t No of train_users in test   :  628\n",
      "\t No of items_used            :  302\n",
      "\t No of existing_items_used   :  182\n",
      "\t No of existing_items_unused :  8\n",
      "\t No of new_items_used        :  120\n",
      "\n",
      "********************************************************************************\n",
      "elapsed_months   :  ['2016-03', '2016-04', '2016-05', '2016-06', '2016-07', '2016-08', '2016-09', '2016-10', '2016-11', '2016-12', '2017-01', '2017-02']\n",
      "interactions_count :  72312\n",
      "users_count        :  1895\n",
      "items_count        :  2987\n",
      "\n",
      "Train month : ['2016-03', '2016-04', '2016-05', '2016-06', '2016-07', '2016-08', '2016-09', '2016-10', '2016-11', '2016-12', '2017-01']\n",
      "\t interactions_count :  69403\n",
      "\t users_count        :  1849\n",
      "\t items_count        :  2907\n",
      "Test  month : 2017-02\n",
      "\t interactions_count :  2909\n",
      "\t users_count        :  723\n",
      "\t items_count        :  280\n",
      "Train and test month\n",
      "\t Common\n",
      "\t\t users_count        :  677\n",
      "\t\t items_count        :  200\n",
      "\t Only_in_train\n",
      "\t\t users_count        :  1172\n",
      "\t\t items_count        :  2707\n",
      "\t Only_in_test\n",
      "\t\t users_count        :  46\n",
      "\t\t items_count        :  80\n"
     ]
    },
    {
     "data": {
      "image/png": "[encoded data removed]",
      "text/plain": [
       "<Figure size 432x288 with 2 Axes>"
      ]
     },
     "metadata": {},
     "output_type": "display_data"
    },
    {
     "name": "stdout",
     "output_type": "stream",
     "text": [
      "Recommender Setup : month\n",
      "\t No of train_users in test   :  677\n",
      "\t No of items_used            :  268\n",
      "\t No of existing_items_used   :  189\n",
      "\t No of existing_items_unused :  11\n",
      "\t No of new_items_used        :  79\n",
      "\n",
      "********************************************************************************\n"
     ]
    }
   ],
   "source": [
    "# analyse_trend(of_cols=['personId', 'contentId'], period_col='month')\n",
    "analyse_trend_user_item(period_col='month', user_col='personId', item_col='contentId')"
   ]
  }
 ],
 "metadata": {
  "kernelspec": {
   "display_name": "Python 3.7.4 64-bit ('rec_sys_env': venv)",
   "language": "python",
   "name": "python37464bitrecsysenvvenv552fbf97be6047e0bc1a9e01a304d66d"
  },
  "language_info": {
   "codemirror_mode": {
    "name": "ipython",
    "version": 3
   },
   "file_extension": ".py",
   "mimetype": "text/x-python",
   "name": "python",
   "nbconvert_exporter": "python",
   "pygments_lexer": "ipython3",
   "version": "3.7.4"
  },
  "toc": {
   "base_numbering": 1,
   "nav_menu": {},
   "number_sections": true,
   "sideBar": true,
   "skip_h1_title": false,
   "title_cell": "Table of Contents",
   "title_sidebar": "Contents",
   "toc_cell": false,
   "toc_position": {
    "height": "703px",
    "left": "789px",
    "top": "110px",
    "width": "336px"
   },
   "toc_section_display": true,
   "toc_window_display": true
  }
 },
 "nbformat": 4,
 "nbformat_minor": 2
}

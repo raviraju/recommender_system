{
 "cells": [
  {
   "cell_type": "markdown",
   "metadata": {
    "heading_collapsed": true
   },
   "source": [
    "## Imports"
   ]
  },
  {
   "cell_type": "code",
   "execution_count": 46,
   "metadata": {
    "hidden": true
   },
   "outputs": [],
   "source": [
    "import pandas as pd\n",
    "import numpy as np\n",
    "\n",
    "import matplotlib.pyplot as plt\n",
    "from matplotlib_venn import venn2\n",
    "\n",
    "from collections import Counter\n",
    "from pprint import pprint\n",
    "\n",
    "import os\n",
    "from math import log"
   ]
  },
  {
   "cell_type": "markdown",
   "metadata": {},
   "source": [
    "## Load Data"
   ]
  },
  {
   "cell_type": "markdown",
   "metadata": {
    "heading_collapsed": true
   },
   "source": [
    "### Load Interactions Data"
   ]
  },
  {
   "cell_type": "code",
   "execution_count": 2,
   "metadata": {
    "hidden": true
   },
   "outputs": [
    {
     "data": {
      "text/plain": [
       "(72312, 8)"
      ]
     },
     "execution_count": 2,
     "metadata": {},
     "output_type": "execute_result"
    }
   ],
   "source": [
    "interactions_df = pd.read_csv('../data/users_interactions.csv')\n",
    "interactions_df.fillna('UNKOWN', inplace=True)\n",
    "interactions_df.shape"
   ]
  },
  {
   "cell_type": "code",
   "execution_count": 3,
   "metadata": {
    "hidden": true
   },
   "outputs": [
    {
     "data": {
      "text/html": [
       "<div>\n",
       "<style scoped>\n",
       "    .dataframe tbody tr th:only-of-type {\n",
       "        vertical-align: middle;\n",
       "    }\n",
       "\n",
       "    .dataframe tbody tr th {\n",
       "        vertical-align: top;\n",
       "    }\n",
       "\n",
       "    .dataframe thead th {\n",
       "        text-align: right;\n",
       "    }\n",
       "</style>\n",
       "<table border=\"1\" class=\"dataframe\">\n",
       "  <thead>\n",
       "    <tr style=\"text-align: right;\">\n",
       "      <th></th>\n",
       "      <th>timestamp</th>\n",
       "      <th>eventType</th>\n",
       "      <th>contentId</th>\n",
       "      <th>personId</th>\n",
       "      <th>sessionId</th>\n",
       "      <th>userAgent</th>\n",
       "      <th>userRegion</th>\n",
       "      <th>userCountry</th>\n",
       "    </tr>\n",
       "  </thead>\n",
       "  <tbody>\n",
       "    <tr>\n",
       "      <th>0</th>\n",
       "      <td>1465413032</td>\n",
       "      <td>VIEW</td>\n",
       "      <td>-3499919498720038879</td>\n",
       "      <td>-8845298781299428018</td>\n",
       "      <td>1264196770339959068</td>\n",
       "      <td>UNKOWN</td>\n",
       "      <td>UNKOWN</td>\n",
       "      <td>UNKOWN</td>\n",
       "    </tr>\n",
       "    <tr>\n",
       "      <th>1</th>\n",
       "      <td>1465412560</td>\n",
       "      <td>VIEW</td>\n",
       "      <td>8890720798209849691</td>\n",
       "      <td>-1032019229384696495</td>\n",
       "      <td>3621737643587579081</td>\n",
       "      <td>Mozilla/5.0 (Macintosh; Intel Mac OS X 10_11_2...</td>\n",
       "      <td>NY</td>\n",
       "      <td>US</td>\n",
       "    </tr>\n",
       "    <tr>\n",
       "      <th>2</th>\n",
       "      <td>1465416190</td>\n",
       "      <td>VIEW</td>\n",
       "      <td>310515487419366995</td>\n",
       "      <td>-1130272294246983140</td>\n",
       "      <td>2631864456530402479</td>\n",
       "      <td>UNKOWN</td>\n",
       "      <td>UNKOWN</td>\n",
       "      <td>UNKOWN</td>\n",
       "    </tr>\n",
       "    <tr>\n",
       "      <th>3</th>\n",
       "      <td>1465413895</td>\n",
       "      <td>FOLLOW</td>\n",
       "      <td>310515487419366995</td>\n",
       "      <td>344280948527967603</td>\n",
       "      <td>-3167637573980064150</td>\n",
       "      <td>UNKOWN</td>\n",
       "      <td>UNKOWN</td>\n",
       "      <td>UNKOWN</td>\n",
       "    </tr>\n",
       "    <tr>\n",
       "      <th>4</th>\n",
       "      <td>1465412290</td>\n",
       "      <td>VIEW</td>\n",
       "      <td>-7820640624231356730</td>\n",
       "      <td>-445337111692715325</td>\n",
       "      <td>5611481178424124714</td>\n",
       "      <td>UNKOWN</td>\n",
       "      <td>UNKOWN</td>\n",
       "      <td>UNKOWN</td>\n",
       "    </tr>\n",
       "  </tbody>\n",
       "</table>\n",
       "</div>"
      ],
      "text/plain": [
       "    timestamp eventType            contentId             personId  \\\n",
       "0  1465413032      VIEW -3499919498720038879 -8845298781299428018   \n",
       "1  1465412560      VIEW  8890720798209849691 -1032019229384696495   \n",
       "2  1465416190      VIEW   310515487419366995 -1130272294246983140   \n",
       "3  1465413895    FOLLOW   310515487419366995   344280948527967603   \n",
       "4  1465412290      VIEW -7820640624231356730  -445337111692715325   \n",
       "\n",
       "             sessionId                                          userAgent  \\\n",
       "0  1264196770339959068                                             UNKOWN   \n",
       "1  3621737643587579081  Mozilla/5.0 (Macintosh; Intel Mac OS X 10_11_2...   \n",
       "2  2631864456530402479                                             UNKOWN   \n",
       "3 -3167637573980064150                                             UNKOWN   \n",
       "4  5611481178424124714                                             UNKOWN   \n",
       "\n",
       "  userRegion userCountry  \n",
       "0     UNKOWN      UNKOWN  \n",
       "1         NY          US  \n",
       "2     UNKOWN      UNKOWN  \n",
       "3     UNKOWN      UNKOWN  \n",
       "4     UNKOWN      UNKOWN  "
      ]
     },
     "execution_count": 3,
     "metadata": {},
     "output_type": "execute_result"
    }
   ],
   "source": [
    "interactions_df.head()"
   ]
  },
  {
   "cell_type": "markdown",
   "metadata": {
    "heading_collapsed": true,
    "hidden": true
   },
   "source": [
    "#### Drop Columns/Features not used"
   ]
  },
  {
   "cell_type": "code",
   "execution_count": 52,
   "metadata": {
    "hidden": true
   },
   "outputs": [
    {
     "data": {
      "text/html": [
       "<div>\n",
       "<style scoped>\n",
       "    .dataframe tbody tr th:only-of-type {\n",
       "        vertical-align: middle;\n",
       "    }\n",
       "\n",
       "    .dataframe tbody tr th {\n",
       "        vertical-align: top;\n",
       "    }\n",
       "\n",
       "    .dataframe thead th {\n",
       "        text-align: right;\n",
       "    }\n",
       "</style>\n",
       "<table border=\"1\" class=\"dataframe\">\n",
       "  <thead>\n",
       "    <tr style=\"text-align: right;\">\n",
       "      <th></th>\n",
       "      <th>timestamp</th>\n",
       "      <th>eventType</th>\n",
       "      <th>contentId</th>\n",
       "      <th>personId</th>\n",
       "      <th>sessionId</th>\n",
       "    </tr>\n",
       "  </thead>\n",
       "  <tbody>\n",
       "    <tr>\n",
       "      <th>0</th>\n",
       "      <td>1465413032</td>\n",
       "      <td>VIEW</td>\n",
       "      <td>-3499919498720038879</td>\n",
       "      <td>-8845298781299428018</td>\n",
       "      <td>1264196770339959068</td>\n",
       "    </tr>\n",
       "    <tr>\n",
       "      <th>1</th>\n",
       "      <td>1465412560</td>\n",
       "      <td>VIEW</td>\n",
       "      <td>8890720798209849691</td>\n",
       "      <td>-1032019229384696495</td>\n",
       "      <td>3621737643587579081</td>\n",
       "    </tr>\n",
       "    <tr>\n",
       "      <th>2</th>\n",
       "      <td>1465416190</td>\n",
       "      <td>VIEW</td>\n",
       "      <td>310515487419366995</td>\n",
       "      <td>-1130272294246983140</td>\n",
       "      <td>2631864456530402479</td>\n",
       "    </tr>\n",
       "    <tr>\n",
       "      <th>3</th>\n",
       "      <td>1465413895</td>\n",
       "      <td>FOLLOW</td>\n",
       "      <td>310515487419366995</td>\n",
       "      <td>344280948527967603</td>\n",
       "      <td>-3167637573980064150</td>\n",
       "    </tr>\n",
       "    <tr>\n",
       "      <th>4</th>\n",
       "      <td>1465412290</td>\n",
       "      <td>VIEW</td>\n",
       "      <td>-7820640624231356730</td>\n",
       "      <td>-445337111692715325</td>\n",
       "      <td>5611481178424124714</td>\n",
       "    </tr>\n",
       "  </tbody>\n",
       "</table>\n",
       "</div>"
      ],
      "text/plain": [
       "    timestamp eventType            contentId             personId  \\\n",
       "0  1465413032      VIEW -3499919498720038879 -8845298781299428018   \n",
       "1  1465412560      VIEW  8890720798209849691 -1032019229384696495   \n",
       "2  1465416190      VIEW   310515487419366995 -1130272294246983140   \n",
       "3  1465413895    FOLLOW   310515487419366995   344280948527967603   \n",
       "4  1465412290      VIEW -7820640624231356730  -445337111692715325   \n",
       "\n",
       "             sessionId  \n",
       "0  1264196770339959068  \n",
       "1  3621737643587579081  \n",
       "2  2631864456530402479  \n",
       "3 -3167637573980064150  \n",
       "4  5611481178424124714  "
      ]
     },
     "execution_count": 52,
     "metadata": {},
     "output_type": "execute_result"
    }
   ],
   "source": [
    "interactions_df.drop(['userAgent', 'userRegion', 'userCountry'], axis=1, inplace=True)\n",
    "interactions_df.head()"
   ]
  },
  {
   "cell_type": "code",
   "execution_count": 53,
   "metadata": {
    "hidden": true
   },
   "outputs": [
    {
     "data": {
      "text/plain": [
       "(72312, 5)"
      ]
     },
     "execution_count": 53,
     "metadata": {},
     "output_type": "execute_result"
    }
   ],
   "source": [
    "interactions_df.shape"
   ]
  },
  {
   "cell_type": "markdown",
   "metadata": {
    "heading_collapsed": true,
    "hidden": true
   },
   "source": [
    "#### Observe TimeStamp is not unique key"
   ]
  },
  {
   "cell_type": "code",
   "execution_count": 4,
   "metadata": {
    "hidden": true
   },
   "outputs": [],
   "source": [
    "# i_timestamp = interactions_df.groupby('timestamp').size()\n",
    "# i_timestamp[i_timestamp > 1].sort_values(ascending=False)"
   ]
  },
  {
   "cell_type": "code",
   "execution_count": 5,
   "metadata": {
    "hidden": true
   },
   "outputs": [
    {
     "data": {
      "text/html": [
       "<div>\n",
       "<style scoped>\n",
       "    .dataframe tbody tr th:only-of-type {\n",
       "        vertical-align: middle;\n",
       "    }\n",
       "\n",
       "    .dataframe tbody tr th {\n",
       "        vertical-align: top;\n",
       "    }\n",
       "\n",
       "    .dataframe thead th {\n",
       "        text-align: right;\n",
       "    }\n",
       "</style>\n",
       "<table border=\"1\" class=\"dataframe\">\n",
       "  <thead>\n",
       "    <tr style=\"text-align: right;\">\n",
       "      <th></th>\n",
       "      <th>timestamp</th>\n",
       "      <th>eventType</th>\n",
       "      <th>contentId</th>\n",
       "      <th>personId</th>\n",
       "      <th>sessionId</th>\n",
       "      <th>userAgent</th>\n",
       "      <th>userRegion</th>\n",
       "      <th>userCountry</th>\n",
       "    </tr>\n",
       "  </thead>\n",
       "  <tbody>\n",
       "    <tr>\n",
       "      <th>35441</th>\n",
       "      <td>1464315825</td>\n",
       "      <td>BOOKMARK</td>\n",
       "      <td>1031060816592502094</td>\n",
       "      <td>1116121227607581999</td>\n",
       "      <td>5983514973000434140</td>\n",
       "      <td>UNKOWN</td>\n",
       "      <td>UNKOWN</td>\n",
       "      <td>UNKOWN</td>\n",
       "    </tr>\n",
       "    <tr>\n",
       "      <th>35443</th>\n",
       "      <td>1464315825</td>\n",
       "      <td>BOOKMARK</td>\n",
       "      <td>-4095842175692097942</td>\n",
       "      <td>1116121227607581999</td>\n",
       "      <td>5983514973000434140</td>\n",
       "      <td>UNKOWN</td>\n",
       "      <td>UNKOWN</td>\n",
       "      <td>UNKOWN</td>\n",
       "    </tr>\n",
       "    <tr>\n",
       "      <th>35458</th>\n",
       "      <td>1464315825</td>\n",
       "      <td>BOOKMARK</td>\n",
       "      <td>-7331393944609614247</td>\n",
       "      <td>1116121227607581999</td>\n",
       "      <td>5983514973000434140</td>\n",
       "      <td>UNKOWN</td>\n",
       "      <td>UNKOWN</td>\n",
       "      <td>UNKOWN</td>\n",
       "    </tr>\n",
       "    <tr>\n",
       "      <th>35464</th>\n",
       "      <td>1464315825</td>\n",
       "      <td>VIEW</td>\n",
       "      <td>8396284143617057811</td>\n",
       "      <td>1116121227607581999</td>\n",
       "      <td>5983514973000434140</td>\n",
       "      <td>Mozilla/5.0 (Windows NT 6.3; WOW64) AppleWebKi...</td>\n",
       "      <td>SP</td>\n",
       "      <td>BR</td>\n",
       "    </tr>\n",
       "    <tr>\n",
       "      <th>35469</th>\n",
       "      <td>1464315825</td>\n",
       "      <td>BOOKMARK</td>\n",
       "      <td>817467807875770568</td>\n",
       "      <td>1116121227607581999</td>\n",
       "      <td>5983514973000434140</td>\n",
       "      <td>UNKOWN</td>\n",
       "      <td>UNKOWN</td>\n",
       "      <td>UNKOWN</td>\n",
       "    </tr>\n",
       "    <tr>\n",
       "      <th>35473</th>\n",
       "      <td>1464315825</td>\n",
       "      <td>BOOKMARK</td>\n",
       "      <td>-3954182109690207118</td>\n",
       "      <td>1116121227607581999</td>\n",
       "      <td>5983514973000434140</td>\n",
       "      <td>UNKOWN</td>\n",
       "      <td>UNKOWN</td>\n",
       "      <td>UNKOWN</td>\n",
       "    </tr>\n",
       "    <tr>\n",
       "      <th>35480</th>\n",
       "      <td>1464315825</td>\n",
       "      <td>BOOKMARK</td>\n",
       "      <td>-6792965795755857419</td>\n",
       "      <td>1116121227607581999</td>\n",
       "      <td>5983514973000434140</td>\n",
       "      <td>UNKOWN</td>\n",
       "      <td>UNKOWN</td>\n",
       "      <td>UNKOWN</td>\n",
       "    </tr>\n",
       "  </tbody>\n",
       "</table>\n",
       "</div>"
      ],
      "text/plain": [
       "        timestamp eventType            contentId             personId  \\\n",
       "35441  1464315825  BOOKMARK  1031060816592502094  1116121227607581999   \n",
       "35443  1464315825  BOOKMARK -4095842175692097942  1116121227607581999   \n",
       "35458  1464315825  BOOKMARK -7331393944609614247  1116121227607581999   \n",
       "35464  1464315825      VIEW  8396284143617057811  1116121227607581999   \n",
       "35469  1464315825  BOOKMARK   817467807875770568  1116121227607581999   \n",
       "35473  1464315825  BOOKMARK -3954182109690207118  1116121227607581999   \n",
       "35480  1464315825  BOOKMARK -6792965795755857419  1116121227607581999   \n",
       "\n",
       "                 sessionId                                          userAgent  \\\n",
       "35441  5983514973000434140                                             UNKOWN   \n",
       "35443  5983514973000434140                                             UNKOWN   \n",
       "35458  5983514973000434140                                             UNKOWN   \n",
       "35464  5983514973000434140  Mozilla/5.0 (Windows NT 6.3; WOW64) AppleWebKi...   \n",
       "35469  5983514973000434140                                             UNKOWN   \n",
       "35473  5983514973000434140                                             UNKOWN   \n",
       "35480  5983514973000434140                                             UNKOWN   \n",
       "\n",
       "      userRegion userCountry  \n",
       "35441     UNKOWN      UNKOWN  \n",
       "35443     UNKOWN      UNKOWN  \n",
       "35458     UNKOWN      UNKOWN  \n",
       "35464         SP          BR  \n",
       "35469     UNKOWN      UNKOWN  \n",
       "35473     UNKOWN      UNKOWN  \n",
       "35480     UNKOWN      UNKOWN  "
      ]
     },
     "execution_count": 5,
     "metadata": {},
     "output_type": "execute_result"
    }
   ],
   "source": [
    "interactions_df[interactions_df['timestamp'] == 1464315825]"
   ]
  },
  {
   "cell_type": "markdown",
   "metadata": {
    "heading_collapsed": true,
    "hidden": true
   },
   "source": [
    "#### Infer Unique Key ('sessionId', 'personId', 'contentId')"
   ]
  },
  {
   "cell_type": "code",
   "execution_count": 6,
   "metadata": {
    "hidden": true
   },
   "outputs": [],
   "source": [
    "# ii_df = interactions_df.set_index(['sessionId', 'personId', 'contentId'])\n",
    "# ii_df.head()"
   ]
  },
  {
   "cell_type": "code",
   "execution_count": 7,
   "metadata": {
    "hidden": true
   },
   "outputs": [],
   "source": [
    "# ii_df.shape"
   ]
  },
  {
   "cell_type": "markdown",
   "metadata": {
    "heading_collapsed": true
   },
   "source": [
    "### Load Articles Data"
   ]
  },
  {
   "cell_type": "code",
   "execution_count": 8,
   "metadata": {
    "hidden": true
   },
   "outputs": [
    {
     "data": {
      "text/plain": [
       "(3122, 13)"
      ]
     },
     "execution_count": 8,
     "metadata": {},
     "output_type": "execute_result"
    }
   ],
   "source": [
    "articles_df = pd.read_csv('../data/shared_articles.csv')\n",
    "articles_df.fillna('UNKOWN', inplace=True)\n",
    "articles_df.shape"
   ]
  },
  {
   "cell_type": "code",
   "execution_count": 9,
   "metadata": {
    "collapsed": true,
    "hidden": true
   },
   "outputs": [
    {
     "data": {
      "text/html": [
       "<div>\n",
       "<style scoped>\n",
       "    .dataframe tbody tr th:only-of-type {\n",
       "        vertical-align: middle;\n",
       "    }\n",
       "\n",
       "    .dataframe tbody tr th {\n",
       "        vertical-align: top;\n",
       "    }\n",
       "\n",
       "    .dataframe thead th {\n",
       "        text-align: right;\n",
       "    }\n",
       "</style>\n",
       "<table border=\"1\" class=\"dataframe\">\n",
       "  <thead>\n",
       "    <tr style=\"text-align: right;\">\n",
       "      <th></th>\n",
       "      <th>timestamp</th>\n",
       "      <th>eventType</th>\n",
       "      <th>contentId</th>\n",
       "      <th>authorPersonId</th>\n",
       "      <th>authorSessionId</th>\n",
       "      <th>authorUserAgent</th>\n",
       "      <th>authorRegion</th>\n",
       "      <th>authorCountry</th>\n",
       "      <th>contentType</th>\n",
       "      <th>url</th>\n",
       "      <th>title</th>\n",
       "      <th>text</th>\n",
       "      <th>lang</th>\n",
       "    </tr>\n",
       "  </thead>\n",
       "  <tbody>\n",
       "    <tr>\n",
       "      <th>0</th>\n",
       "      <td>1459192779</td>\n",
       "      <td>CONTENT REMOVED</td>\n",
       "      <td>-6451309518266745024</td>\n",
       "      <td>4340306774493623681</td>\n",
       "      <td>8940341205206233829</td>\n",
       "      <td>UNKOWN</td>\n",
       "      <td>UNKOWN</td>\n",
       "      <td>UNKOWN</td>\n",
       "      <td>HTML</td>\n",
       "      <td>http://www.nytimes.com/2016/03/28/business/dea...</td>\n",
       "      <td>Ethereum, a Virtual Currency, Enables Transact...</td>\n",
       "      <td>All of this work is still very early. The firs...</td>\n",
       "      <td>en</td>\n",
       "    </tr>\n",
       "    <tr>\n",
       "      <th>1</th>\n",
       "      <td>1459193988</td>\n",
       "      <td>CONTENT SHARED</td>\n",
       "      <td>-4110354420726924665</td>\n",
       "      <td>4340306774493623681</td>\n",
       "      <td>8940341205206233829</td>\n",
       "      <td>UNKOWN</td>\n",
       "      <td>UNKOWN</td>\n",
       "      <td>UNKOWN</td>\n",
       "      <td>HTML</td>\n",
       "      <td>http://www.nytimes.com/2016/03/28/business/dea...</td>\n",
       "      <td>Ethereum, a Virtual Currency, Enables Transact...</td>\n",
       "      <td>All of this work is still very early. The firs...</td>\n",
       "      <td>en</td>\n",
       "    </tr>\n",
       "    <tr>\n",
       "      <th>2</th>\n",
       "      <td>1459194146</td>\n",
       "      <td>CONTENT SHARED</td>\n",
       "      <td>-7292285110016212249</td>\n",
       "      <td>4340306774493623681</td>\n",
       "      <td>8940341205206233829</td>\n",
       "      <td>UNKOWN</td>\n",
       "      <td>UNKOWN</td>\n",
       "      <td>UNKOWN</td>\n",
       "      <td>HTML</td>\n",
       "      <td>http://cointelegraph.com/news/bitcoin-future-w...</td>\n",
       "      <td>Bitcoin Future: When GBPcoin of Branson Wins O...</td>\n",
       "      <td>The alarm clock wakes me at 8:00 with stream o...</td>\n",
       "      <td>en</td>\n",
       "    </tr>\n",
       "    <tr>\n",
       "      <th>3</th>\n",
       "      <td>1459194474</td>\n",
       "      <td>CONTENT SHARED</td>\n",
       "      <td>-6151852268067518688</td>\n",
       "      <td>3891637997717104548</td>\n",
       "      <td>-1457532940883382585</td>\n",
       "      <td>UNKOWN</td>\n",
       "      <td>UNKOWN</td>\n",
       "      <td>UNKOWN</td>\n",
       "      <td>HTML</td>\n",
       "      <td>https://cloudplatform.googleblog.com/2016/03/G...</td>\n",
       "      <td>Google Data Center 360° Tour</td>\n",
       "      <td>We're excited to share the Google Data Center ...</td>\n",
       "      <td>en</td>\n",
       "    </tr>\n",
       "    <tr>\n",
       "      <th>4</th>\n",
       "      <td>1459194497</td>\n",
       "      <td>CONTENT SHARED</td>\n",
       "      <td>2448026894306402386</td>\n",
       "      <td>4340306774493623681</td>\n",
       "      <td>8940341205206233829</td>\n",
       "      <td>UNKOWN</td>\n",
       "      <td>UNKOWN</td>\n",
       "      <td>UNKOWN</td>\n",
       "      <td>HTML</td>\n",
       "      <td>https://bitcoinmagazine.com/articles/ibm-wants...</td>\n",
       "      <td>IBM Wants to \"Evolve the Internet\" With Blockc...</td>\n",
       "      <td>The Aite Group projects the blockchain market ...</td>\n",
       "      <td>en</td>\n",
       "    </tr>\n",
       "  </tbody>\n",
       "</table>\n",
       "</div>"
      ],
      "text/plain": [
       "    timestamp        eventType            contentId       authorPersonId  \\\n",
       "0  1459192779  CONTENT REMOVED -6451309518266745024  4340306774493623681   \n",
       "1  1459193988   CONTENT SHARED -4110354420726924665  4340306774493623681   \n",
       "2  1459194146   CONTENT SHARED -7292285110016212249  4340306774493623681   \n",
       "3  1459194474   CONTENT SHARED -6151852268067518688  3891637997717104548   \n",
       "4  1459194497   CONTENT SHARED  2448026894306402386  4340306774493623681   \n",
       "\n",
       "       authorSessionId authorUserAgent authorRegion authorCountry contentType  \\\n",
       "0  8940341205206233829          UNKOWN       UNKOWN        UNKOWN        HTML   \n",
       "1  8940341205206233829          UNKOWN       UNKOWN        UNKOWN        HTML   \n",
       "2  8940341205206233829          UNKOWN       UNKOWN        UNKOWN        HTML   \n",
       "3 -1457532940883382585          UNKOWN       UNKOWN        UNKOWN        HTML   \n",
       "4  8940341205206233829          UNKOWN       UNKOWN        UNKOWN        HTML   \n",
       "\n",
       "                                                 url  \\\n",
       "0  http://www.nytimes.com/2016/03/28/business/dea...   \n",
       "1  http://www.nytimes.com/2016/03/28/business/dea...   \n",
       "2  http://cointelegraph.com/news/bitcoin-future-w...   \n",
       "3  https://cloudplatform.googleblog.com/2016/03/G...   \n",
       "4  https://bitcoinmagazine.com/articles/ibm-wants...   \n",
       "\n",
       "                                               title  \\\n",
       "0  Ethereum, a Virtual Currency, Enables Transact...   \n",
       "1  Ethereum, a Virtual Currency, Enables Transact...   \n",
       "2  Bitcoin Future: When GBPcoin of Branson Wins O...   \n",
       "3                       Google Data Center 360° Tour   \n",
       "4  IBM Wants to \"Evolve the Internet\" With Blockc...   \n",
       "\n",
       "                                                text lang  \n",
       "0  All of this work is still very early. The firs...   en  \n",
       "1  All of this work is still very early. The firs...   en  \n",
       "2  The alarm clock wakes me at 8:00 with stream o...   en  \n",
       "3  We're excited to share the Google Data Center ...   en  \n",
       "4  The Aite Group projects the blockchain market ...   en  "
      ]
     },
     "execution_count": 9,
     "metadata": {},
     "output_type": "execute_result"
    }
   ],
   "source": [
    "articles_df.head()"
   ]
  },
  {
   "cell_type": "markdown",
   "metadata": {
    "hidden": true
   },
   "source": [
    "#### Drop Columns/Features not used"
   ]
  },
  {
   "cell_type": "code",
   "execution_count": 54,
   "metadata": {
    "collapsed": true,
    "hidden": true
   },
   "outputs": [
    {
     "data": {
      "text/html": [
       "<div>\n",
       "<style scoped>\n",
       "    .dataframe tbody tr th:only-of-type {\n",
       "        vertical-align: middle;\n",
       "    }\n",
       "\n",
       "    .dataframe tbody tr th {\n",
       "        vertical-align: top;\n",
       "    }\n",
       "\n",
       "    .dataframe thead th {\n",
       "        text-align: right;\n",
       "    }\n",
       "</style>\n",
       "<table border=\"1\" class=\"dataframe\">\n",
       "  <thead>\n",
       "    <tr style=\"text-align: right;\">\n",
       "      <th></th>\n",
       "      <th>contentId</th>\n",
       "      <th>eventType</th>\n",
       "      <th>lang</th>\n",
       "    </tr>\n",
       "  </thead>\n",
       "  <tbody>\n",
       "    <tr>\n",
       "      <th>0</th>\n",
       "      <td>-6451309518266745024</td>\n",
       "      <td>CONTENT REMOVED</td>\n",
       "      <td>en</td>\n",
       "    </tr>\n",
       "    <tr>\n",
       "      <th>1</th>\n",
       "      <td>-4110354420726924665</td>\n",
       "      <td>CONTENT SHARED</td>\n",
       "      <td>en</td>\n",
       "    </tr>\n",
       "    <tr>\n",
       "      <th>2</th>\n",
       "      <td>-7292285110016212249</td>\n",
       "      <td>CONTENT SHARED</td>\n",
       "      <td>en</td>\n",
       "    </tr>\n",
       "    <tr>\n",
       "      <th>3</th>\n",
       "      <td>-6151852268067518688</td>\n",
       "      <td>CONTENT SHARED</td>\n",
       "      <td>en</td>\n",
       "    </tr>\n",
       "    <tr>\n",
       "      <th>4</th>\n",
       "      <td>2448026894306402386</td>\n",
       "      <td>CONTENT SHARED</td>\n",
       "      <td>en</td>\n",
       "    </tr>\n",
       "  </tbody>\n",
       "</table>\n",
       "</div>"
      ],
      "text/plain": [
       "             contentId        eventType lang\n",
       "0 -6451309518266745024  CONTENT REMOVED   en\n",
       "1 -4110354420726924665   CONTENT SHARED   en\n",
       "2 -7292285110016212249   CONTENT SHARED   en\n",
       "3 -6151852268067518688   CONTENT SHARED   en\n",
       "4  2448026894306402386   CONTENT SHARED   en"
      ]
     },
     "execution_count": 54,
     "metadata": {},
     "output_type": "execute_result"
    }
   ],
   "source": [
    "articles_df = articles_df[['contentId', 'eventType', 'lang']]\n",
    "articles_df.head()"
   ]
  },
  {
   "cell_type": "code",
   "execution_count": 55,
   "metadata": {
    "hidden": true
   },
   "outputs": [
    {
     "data": {
      "text/plain": [
       "(3122, 3)"
      ]
     },
     "execution_count": 55,
     "metadata": {},
     "output_type": "execute_result"
    }
   ],
   "source": [
    "articles_df.shape"
   ]
  },
  {
   "cell_type": "markdown",
   "metadata": {},
   "source": [
    "### Get Metadata of Articles which are shared"
   ]
  },
  {
   "cell_type": "code",
   "execution_count": 56,
   "metadata": {},
   "outputs": [
    {
     "data": {
      "text/plain": [
       "(3047, 3)"
      ]
     },
     "execution_count": 56,
     "metadata": {},
     "output_type": "execute_result"
    }
   ],
   "source": [
    "shared_articles_df = articles_df[articles_df['eventType'] == 'CONTENT SHARED']\n",
    "shared_articles_df.shape"
   ]
  },
  {
   "cell_type": "code",
   "execution_count": 75,
   "metadata": {
    "collapsed": true
   },
   "outputs": [
    {
     "data": {
      "text/html": [
       "<div>\n",
       "<style scoped>\n",
       "    .dataframe tbody tr th:only-of-type {\n",
       "        vertical-align: middle;\n",
       "    }\n",
       "\n",
       "    .dataframe tbody tr th {\n",
       "        vertical-align: top;\n",
       "    }\n",
       "\n",
       "    .dataframe thead th {\n",
       "        text-align: right;\n",
       "    }\n",
       "</style>\n",
       "<table border=\"1\" class=\"dataframe\">\n",
       "  <thead>\n",
       "    <tr style=\"text-align: right;\">\n",
       "      <th></th>\n",
       "      <th>contentId</th>\n",
       "      <th>eventType</th>\n",
       "      <th>lang</th>\n",
       "    </tr>\n",
       "  </thead>\n",
       "  <tbody>\n",
       "    <tr>\n",
       "      <th>1</th>\n",
       "      <td>-4110354420726924665</td>\n",
       "      <td>CONTENT SHARED</td>\n",
       "      <td>en</td>\n",
       "    </tr>\n",
       "    <tr>\n",
       "      <th>2</th>\n",
       "      <td>-7292285110016212249</td>\n",
       "      <td>CONTENT SHARED</td>\n",
       "      <td>en</td>\n",
       "    </tr>\n",
       "    <tr>\n",
       "      <th>3</th>\n",
       "      <td>-6151852268067518688</td>\n",
       "      <td>CONTENT SHARED</td>\n",
       "      <td>en</td>\n",
       "    </tr>\n",
       "    <tr>\n",
       "      <th>4</th>\n",
       "      <td>2448026894306402386</td>\n",
       "      <td>CONTENT SHARED</td>\n",
       "      <td>en</td>\n",
       "    </tr>\n",
       "    <tr>\n",
       "      <th>5</th>\n",
       "      <td>-2826566343807132236</td>\n",
       "      <td>CONTENT SHARED</td>\n",
       "      <td>en</td>\n",
       "    </tr>\n",
       "  </tbody>\n",
       "</table>\n",
       "</div>"
      ],
      "text/plain": [
       "             contentId       eventType lang\n",
       "1 -4110354420726924665  CONTENT SHARED   en\n",
       "2 -7292285110016212249  CONTENT SHARED   en\n",
       "3 -6151852268067518688  CONTENT SHARED   en\n",
       "4  2448026894306402386  CONTENT SHARED   en\n",
       "5 -2826566343807132236  CONTENT SHARED   en"
      ]
     },
     "execution_count": 75,
     "metadata": {},
     "output_type": "execute_result"
    }
   ],
   "source": [
    "shared_articles_df.head()"
   ]
  },
  {
   "cell_type": "code",
   "execution_count": 76,
   "metadata": {
    "collapsed": true
   },
   "outputs": [
    {
     "name": "stderr",
     "output_type": "stream",
     "text": [
      "/home/ravi/recommendation_system/anaconda3/lib/python3.7/site-packages/pandas/core/frame.py:3940: SettingWithCopyWarning: \n",
      "A value is trying to be set on a copy of a slice from a DataFrame\n",
      "\n",
      "See the caveats in the documentation: http://pandas.pydata.org/pandas-docs/stable/indexing.html#indexing-view-versus-copy\n",
      "  errors=errors)\n"
     ]
    },
    {
     "data": {
      "text/html": [
       "<div>\n",
       "<style scoped>\n",
       "    .dataframe tbody tr th:only-of-type {\n",
       "        vertical-align: middle;\n",
       "    }\n",
       "\n",
       "    .dataframe tbody tr th {\n",
       "        vertical-align: top;\n",
       "    }\n",
       "\n",
       "    .dataframe thead th {\n",
       "        text-align: right;\n",
       "    }\n",
       "</style>\n",
       "<table border=\"1\" class=\"dataframe\">\n",
       "  <thead>\n",
       "    <tr style=\"text-align: right;\">\n",
       "      <th></th>\n",
       "      <th>contentId</th>\n",
       "      <th>lang</th>\n",
       "    </tr>\n",
       "  </thead>\n",
       "  <tbody>\n",
       "    <tr>\n",
       "      <th>1</th>\n",
       "      <td>-4110354420726924665</td>\n",
       "      <td>en</td>\n",
       "    </tr>\n",
       "    <tr>\n",
       "      <th>2</th>\n",
       "      <td>-7292285110016212249</td>\n",
       "      <td>en</td>\n",
       "    </tr>\n",
       "    <tr>\n",
       "      <th>3</th>\n",
       "      <td>-6151852268067518688</td>\n",
       "      <td>en</td>\n",
       "    </tr>\n",
       "    <tr>\n",
       "      <th>4</th>\n",
       "      <td>2448026894306402386</td>\n",
       "      <td>en</td>\n",
       "    </tr>\n",
       "    <tr>\n",
       "      <th>5</th>\n",
       "      <td>-2826566343807132236</td>\n",
       "      <td>en</td>\n",
       "    </tr>\n",
       "  </tbody>\n",
       "</table>\n",
       "</div>"
      ],
      "text/plain": [
       "             contentId lang\n",
       "1 -4110354420726924665   en\n",
       "2 -7292285110016212249   en\n",
       "3 -6151852268067518688   en\n",
       "4  2448026894306402386   en\n",
       "5 -2826566343807132236   en"
      ]
     },
     "execution_count": 76,
     "metadata": {},
     "output_type": "execute_result"
    }
   ],
   "source": [
    "shared_articles_df.drop(['eventType'], axis=1, inplace=True)\n",
    "shared_articles_df.head()"
   ]
  },
  {
   "cell_type": "code",
   "execution_count": 77,
   "metadata": {},
   "outputs": [
    {
     "data": {
      "text/plain": [
       "(3047, 2)"
      ]
     },
     "execution_count": 77,
     "metadata": {},
     "output_type": "execute_result"
    }
   ],
   "source": [
    "shared_articles_df.shape"
   ]
  },
  {
   "cell_type": "code",
   "execution_count": 78,
   "metadata": {},
   "outputs": [
    {
     "data": {
      "text/plain": [
       "(72312, 6)"
      ]
     },
     "execution_count": 78,
     "metadata": {},
     "output_type": "execute_result"
    }
   ],
   "source": [
    "interactions_meta_df = interactions_df.merge(shared_articles_df, \n",
    "                                              how='left',\n",
    "                                              on='contentId',\n",
    "                                              suffixes=('_interaction', '_article')\n",
    "                                             )\n",
    "interactions_meta_df.shape"
   ]
  },
  {
   "cell_type": "code",
   "execution_count": 79,
   "metadata": {},
   "outputs": [
    {
     "data": {
      "text/html": [
       "<div>\n",
       "<style scoped>\n",
       "    .dataframe tbody tr th:only-of-type {\n",
       "        vertical-align: middle;\n",
       "    }\n",
       "\n",
       "    .dataframe tbody tr th {\n",
       "        vertical-align: top;\n",
       "    }\n",
       "\n",
       "    .dataframe thead th {\n",
       "        text-align: right;\n",
       "    }\n",
       "</style>\n",
       "<table border=\"1\" class=\"dataframe\">\n",
       "  <thead>\n",
       "    <tr style=\"text-align: right;\">\n",
       "      <th></th>\n",
       "      <th>timestamp</th>\n",
       "      <th>eventType</th>\n",
       "      <th>contentId</th>\n",
       "      <th>personId</th>\n",
       "      <th>sessionId</th>\n",
       "      <th>lang</th>\n",
       "    </tr>\n",
       "  </thead>\n",
       "  <tbody>\n",
       "    <tr>\n",
       "      <th>0</th>\n",
       "      <td>1465413032</td>\n",
       "      <td>VIEW</td>\n",
       "      <td>-3499919498720038879</td>\n",
       "      <td>-8845298781299428018</td>\n",
       "      <td>1264196770339959068</td>\n",
       "      <td>en</td>\n",
       "    </tr>\n",
       "    <tr>\n",
       "      <th>1</th>\n",
       "      <td>1465412560</td>\n",
       "      <td>VIEW</td>\n",
       "      <td>8890720798209849691</td>\n",
       "      <td>-1032019229384696495</td>\n",
       "      <td>3621737643587579081</td>\n",
       "      <td>en</td>\n",
       "    </tr>\n",
       "    <tr>\n",
       "      <th>2</th>\n",
       "      <td>1465416190</td>\n",
       "      <td>VIEW</td>\n",
       "      <td>310515487419366995</td>\n",
       "      <td>-1130272294246983140</td>\n",
       "      <td>2631864456530402479</td>\n",
       "      <td>pt</td>\n",
       "    </tr>\n",
       "    <tr>\n",
       "      <th>3</th>\n",
       "      <td>1465413895</td>\n",
       "      <td>FOLLOW</td>\n",
       "      <td>310515487419366995</td>\n",
       "      <td>344280948527967603</td>\n",
       "      <td>-3167637573980064150</td>\n",
       "      <td>pt</td>\n",
       "    </tr>\n",
       "    <tr>\n",
       "      <th>4</th>\n",
       "      <td>1465412290</td>\n",
       "      <td>VIEW</td>\n",
       "      <td>-7820640624231356730</td>\n",
       "      <td>-445337111692715325</td>\n",
       "      <td>5611481178424124714</td>\n",
       "      <td>en</td>\n",
       "    </tr>\n",
       "  </tbody>\n",
       "</table>\n",
       "</div>"
      ],
      "text/plain": [
       "    timestamp eventType            contentId             personId  \\\n",
       "0  1465413032      VIEW -3499919498720038879 -8845298781299428018   \n",
       "1  1465412560      VIEW  8890720798209849691 -1032019229384696495   \n",
       "2  1465416190      VIEW   310515487419366995 -1130272294246983140   \n",
       "3  1465413895    FOLLOW   310515487419366995   344280948527967603   \n",
       "4  1465412290      VIEW -7820640624231356730  -445337111692715325   \n",
       "\n",
       "             sessionId lang  \n",
       "0  1264196770339959068   en  \n",
       "1  3621737643587579081   en  \n",
       "2  2631864456530402479   pt  \n",
       "3 -3167637573980064150   pt  \n",
       "4  5611481178424124714   en  "
      ]
     },
     "execution_count": 79,
     "metadata": {},
     "output_type": "execute_result"
    }
   ],
   "source": [
    "interactions_meta_df.head()"
   ]
  },
  {
   "cell_type": "code",
   "execution_count": 80,
   "metadata": {},
   "outputs": [
    {
     "data": {
      "text/plain": [
       "en    47041\n",
       "pt    25133\n",
       "la       54\n",
       "ja       34\n",
       "es        7\n",
       "Name: lang, dtype: int64"
      ]
     },
     "execution_count": 80,
     "metadata": {},
     "output_type": "execute_result"
    }
   ],
   "source": [
    "interactions_meta_df['lang'].value_counts()"
   ]
  },
  {
   "cell_type": "code",
   "execution_count": 17,
   "metadata": {},
   "outputs": [],
   "source": [
    "# interactions_meta_df[interactions_meta_df['lang'] == 'pt']['url'].to_dict()"
   ]
  },
  {
   "cell_type": "markdown",
   "metadata": {},
   "source": [
    "### Filter Interactions in English\n",
    "#### To get intuition about articles rec and aid in Topic Modelling"
   ]
  },
  {
   "cell_type": "code",
   "execution_count": 81,
   "metadata": {},
   "outputs": [],
   "source": [
    "interactions_eng_meta_df = interactions_meta_df[interactions_meta_df['lang'] == 'en']"
   ]
  },
  {
   "cell_type": "code",
   "execution_count": 82,
   "metadata": {
    "scrolled": true
   },
   "outputs": [
    {
     "data": {
      "text/plain": [
       "(47041, 6)"
      ]
     },
     "execution_count": 82,
     "metadata": {},
     "output_type": "execute_result"
    }
   ],
   "source": [
    "interactions_eng_meta_df.shape"
   ]
  },
  {
   "cell_type": "code",
   "execution_count": 83,
   "metadata": {},
   "outputs": [
    {
     "data": {
      "text/html": [
       "<div>\n",
       "<style scoped>\n",
       "    .dataframe tbody tr th:only-of-type {\n",
       "        vertical-align: middle;\n",
       "    }\n",
       "\n",
       "    .dataframe tbody tr th {\n",
       "        vertical-align: top;\n",
       "    }\n",
       "\n",
       "    .dataframe thead th {\n",
       "        text-align: right;\n",
       "    }\n",
       "</style>\n",
       "<table border=\"1\" class=\"dataframe\">\n",
       "  <thead>\n",
       "    <tr style=\"text-align: right;\">\n",
       "      <th></th>\n",
       "      <th>timestamp</th>\n",
       "      <th>eventType</th>\n",
       "      <th>contentId</th>\n",
       "      <th>personId</th>\n",
       "      <th>sessionId</th>\n",
       "    </tr>\n",
       "  </thead>\n",
       "  <tbody>\n",
       "    <tr>\n",
       "      <th>0</th>\n",
       "      <td>1465413032</td>\n",
       "      <td>VIEW</td>\n",
       "      <td>-3499919498720038879</td>\n",
       "      <td>-8845298781299428018</td>\n",
       "      <td>1264196770339959068</td>\n",
       "    </tr>\n",
       "    <tr>\n",
       "      <th>1</th>\n",
       "      <td>1465412560</td>\n",
       "      <td>VIEW</td>\n",
       "      <td>8890720798209849691</td>\n",
       "      <td>-1032019229384696495</td>\n",
       "      <td>3621737643587579081</td>\n",
       "    </tr>\n",
       "    <tr>\n",
       "      <th>4</th>\n",
       "      <td>1465412290</td>\n",
       "      <td>VIEW</td>\n",
       "      <td>-7820640624231356730</td>\n",
       "      <td>-445337111692715325</td>\n",
       "      <td>5611481178424124714</td>\n",
       "    </tr>\n",
       "    <tr>\n",
       "      <th>7</th>\n",
       "      <td>1465415066</td>\n",
       "      <td>VIEW</td>\n",
       "      <td>-1492913151930215984</td>\n",
       "      <td>4254153380739593270</td>\n",
       "      <td>8743229464706506141</td>\n",
       "    </tr>\n",
       "    <tr>\n",
       "      <th>9</th>\n",
       "      <td>1465413771</td>\n",
       "      <td>VIEW</td>\n",
       "      <td>3064370296170038610</td>\n",
       "      <td>3609194402293569455</td>\n",
       "      <td>1143207167886864524</td>\n",
       "    </tr>\n",
       "  </tbody>\n",
       "</table>\n",
       "</div>"
      ],
      "text/plain": [
       "    timestamp eventType            contentId             personId  \\\n",
       "0  1465413032      VIEW -3499919498720038879 -8845298781299428018   \n",
       "1  1465412560      VIEW  8890720798209849691 -1032019229384696495   \n",
       "4  1465412290      VIEW -7820640624231356730  -445337111692715325   \n",
       "7  1465415066      VIEW -1492913151930215984  4254153380739593270   \n",
       "9  1465413771      VIEW  3064370296170038610  3609194402293569455   \n",
       "\n",
       "             sessionId  \n",
       "0  1264196770339959068  \n",
       "1  3621737643587579081  \n",
       "4  5611481178424124714  \n",
       "7  8743229464706506141  \n",
       "9  1143207167886864524  "
      ]
     },
     "execution_count": 83,
     "metadata": {},
     "output_type": "execute_result"
    }
   ],
   "source": [
    "interactions_eng_meta_df.drop(['lang'], axis=1, inplace=True)\n",
    "interactions_eng_meta_df.head()"
   ]
  },
  {
   "cell_type": "code",
   "execution_count": 84,
   "metadata": {},
   "outputs": [
    {
     "data": {
      "text/plain": [
       "(47041, 5)"
      ]
     },
     "execution_count": 84,
     "metadata": {},
     "output_type": "execute_result"
    }
   ],
   "source": [
    "interactions_eng_meta_df.shape"
   ]
  },
  {
   "cell_type": "markdown",
   "metadata": {},
   "source": [
    "### Convert TimeStamp to DateTime"
   ]
  },
  {
   "cell_type": "code",
   "execution_count": 85,
   "metadata": {},
   "outputs": [
    {
     "data": {
      "text/html": [
       "<div>\n",
       "<style scoped>\n",
       "    .dataframe tbody tr th:only-of-type {\n",
       "        vertical-align: middle;\n",
       "    }\n",
       "\n",
       "    .dataframe tbody tr th {\n",
       "        vertical-align: top;\n",
       "    }\n",
       "\n",
       "    .dataframe thead th {\n",
       "        text-align: right;\n",
       "    }\n",
       "</style>\n",
       "<table border=\"1\" class=\"dataframe\">\n",
       "  <thead>\n",
       "    <tr style=\"text-align: right;\">\n",
       "      <th></th>\n",
       "      <th>timestamp</th>\n",
       "      <th>eventType</th>\n",
       "      <th>contentId</th>\n",
       "      <th>personId</th>\n",
       "      <th>sessionId</th>\n",
       "      <th>datetime</th>\n",
       "    </tr>\n",
       "  </thead>\n",
       "  <tbody>\n",
       "    <tr>\n",
       "      <th>0</th>\n",
       "      <td>1465413032</td>\n",
       "      <td>VIEW</td>\n",
       "      <td>-3499919498720038879</td>\n",
       "      <td>-8845298781299428018</td>\n",
       "      <td>1264196770339959068</td>\n",
       "      <td>2016-06-08 19:10:32</td>\n",
       "    </tr>\n",
       "    <tr>\n",
       "      <th>1</th>\n",
       "      <td>1465412560</td>\n",
       "      <td>VIEW</td>\n",
       "      <td>8890720798209849691</td>\n",
       "      <td>-1032019229384696495</td>\n",
       "      <td>3621737643587579081</td>\n",
       "      <td>2016-06-08 19:02:40</td>\n",
       "    </tr>\n",
       "    <tr>\n",
       "      <th>4</th>\n",
       "      <td>1465412290</td>\n",
       "      <td>VIEW</td>\n",
       "      <td>-7820640624231356730</td>\n",
       "      <td>-445337111692715325</td>\n",
       "      <td>5611481178424124714</td>\n",
       "      <td>2016-06-08 18:58:10</td>\n",
       "    </tr>\n",
       "    <tr>\n",
       "      <th>7</th>\n",
       "      <td>1465415066</td>\n",
       "      <td>VIEW</td>\n",
       "      <td>-1492913151930215984</td>\n",
       "      <td>4254153380739593270</td>\n",
       "      <td>8743229464706506141</td>\n",
       "      <td>2016-06-08 19:44:26</td>\n",
       "    </tr>\n",
       "    <tr>\n",
       "      <th>9</th>\n",
       "      <td>1465413771</td>\n",
       "      <td>VIEW</td>\n",
       "      <td>3064370296170038610</td>\n",
       "      <td>3609194402293569455</td>\n",
       "      <td>1143207167886864524</td>\n",
       "      <td>2016-06-08 19:22:51</td>\n",
       "    </tr>\n",
       "  </tbody>\n",
       "</table>\n",
       "</div>"
      ],
      "text/plain": [
       "    timestamp eventType            contentId             personId  \\\n",
       "0  1465413032      VIEW -3499919498720038879 -8845298781299428018   \n",
       "1  1465412560      VIEW  8890720798209849691 -1032019229384696495   \n",
       "4  1465412290      VIEW -7820640624231356730  -445337111692715325   \n",
       "7  1465415066      VIEW -1492913151930215984  4254153380739593270   \n",
       "9  1465413771      VIEW  3064370296170038610  3609194402293569455   \n",
       "\n",
       "             sessionId            datetime  \n",
       "0  1264196770339959068 2016-06-08 19:10:32  \n",
       "1  3621737643587579081 2016-06-08 19:02:40  \n",
       "4  5611481178424124714 2016-06-08 18:58:10  \n",
       "7  8743229464706506141 2016-06-08 19:44:26  \n",
       "9  1143207167886864524 2016-06-08 19:22:51  "
      ]
     },
     "execution_count": 85,
     "metadata": {},
     "output_type": "execute_result"
    }
   ],
   "source": [
    "interactions_eng_meta_df.loc[:, 'datetime'] = interactions_eng_meta_df['timestamp'].apply(lambda x: pd.to_datetime(x, unit='s'))\n",
    "interactions_eng_meta_df.head()"
   ]
  },
  {
   "cell_type": "code",
   "execution_count": 86,
   "metadata": {},
   "outputs": [
    {
     "data": {
      "text/plain": [
       "count                   47041\n",
       "unique                  44782\n",
       "top       2016-06-13 14:51:58\n",
       "freq                        4\n",
       "first     2016-03-28 20:03:20\n",
       "last      2017-02-28 19:21:51\n",
       "Name: datetime, dtype: object"
      ]
     },
     "execution_count": 86,
     "metadata": {},
     "output_type": "execute_result"
    }
   ],
   "source": [
    "interactions_eng_meta_df['datetime'].describe()"
   ]
  },
  {
   "cell_type": "code",
   "execution_count": 87,
   "metadata": {},
   "outputs": [],
   "source": [
    "interactions_eng_meta_df.loc[:, 'year'] = interactions_eng_meta_df['datetime'].dt.year\n",
    "interactions_eng_meta_df.loc[:, 'quarter'] = interactions_eng_meta_df['datetime'].dt.to_period(\"Q\")\n",
    "interactions_eng_meta_df.loc[:, 'month'] = interactions_eng_meta_df['datetime'].dt.to_period(\"M\")"
   ]
  },
  {
   "cell_type": "code",
   "execution_count": 88,
   "metadata": {},
   "outputs": [
    {
     "data": {
      "text/html": [
       "<div>\n",
       "<style scoped>\n",
       "    .dataframe tbody tr th:only-of-type {\n",
       "        vertical-align: middle;\n",
       "    }\n",
       "\n",
       "    .dataframe tbody tr th {\n",
       "        vertical-align: top;\n",
       "    }\n",
       "\n",
       "    .dataframe thead th {\n",
       "        text-align: right;\n",
       "    }\n",
       "</style>\n",
       "<table border=\"1\" class=\"dataframe\">\n",
       "  <thead>\n",
       "    <tr style=\"text-align: right;\">\n",
       "      <th></th>\n",
       "      <th>timestamp</th>\n",
       "      <th>eventType</th>\n",
       "      <th>contentId</th>\n",
       "      <th>personId</th>\n",
       "      <th>sessionId</th>\n",
       "      <th>datetime</th>\n",
       "      <th>year</th>\n",
       "      <th>quarter</th>\n",
       "      <th>month</th>\n",
       "    </tr>\n",
       "  </thead>\n",
       "  <tbody>\n",
       "    <tr>\n",
       "      <th>0</th>\n",
       "      <td>1465413032</td>\n",
       "      <td>VIEW</td>\n",
       "      <td>-3499919498720038879</td>\n",
       "      <td>-8845298781299428018</td>\n",
       "      <td>1264196770339959068</td>\n",
       "      <td>2016-06-08 19:10:32</td>\n",
       "      <td>2016</td>\n",
       "      <td>2016Q2</td>\n",
       "      <td>2016-06</td>\n",
       "    </tr>\n",
       "    <tr>\n",
       "      <th>1</th>\n",
       "      <td>1465412560</td>\n",
       "      <td>VIEW</td>\n",
       "      <td>8890720798209849691</td>\n",
       "      <td>-1032019229384696495</td>\n",
       "      <td>3621737643587579081</td>\n",
       "      <td>2016-06-08 19:02:40</td>\n",
       "      <td>2016</td>\n",
       "      <td>2016Q2</td>\n",
       "      <td>2016-06</td>\n",
       "    </tr>\n",
       "    <tr>\n",
       "      <th>4</th>\n",
       "      <td>1465412290</td>\n",
       "      <td>VIEW</td>\n",
       "      <td>-7820640624231356730</td>\n",
       "      <td>-445337111692715325</td>\n",
       "      <td>5611481178424124714</td>\n",
       "      <td>2016-06-08 18:58:10</td>\n",
       "      <td>2016</td>\n",
       "      <td>2016Q2</td>\n",
       "      <td>2016-06</td>\n",
       "    </tr>\n",
       "    <tr>\n",
       "      <th>7</th>\n",
       "      <td>1465415066</td>\n",
       "      <td>VIEW</td>\n",
       "      <td>-1492913151930215984</td>\n",
       "      <td>4254153380739593270</td>\n",
       "      <td>8743229464706506141</td>\n",
       "      <td>2016-06-08 19:44:26</td>\n",
       "      <td>2016</td>\n",
       "      <td>2016Q2</td>\n",
       "      <td>2016-06</td>\n",
       "    </tr>\n",
       "    <tr>\n",
       "      <th>9</th>\n",
       "      <td>1465413771</td>\n",
       "      <td>VIEW</td>\n",
       "      <td>3064370296170038610</td>\n",
       "      <td>3609194402293569455</td>\n",
       "      <td>1143207167886864524</td>\n",
       "      <td>2016-06-08 19:22:51</td>\n",
       "      <td>2016</td>\n",
       "      <td>2016Q2</td>\n",
       "      <td>2016-06</td>\n",
       "    </tr>\n",
       "  </tbody>\n",
       "</table>\n",
       "</div>"
      ],
      "text/plain": [
       "    timestamp eventType            contentId             personId  \\\n",
       "0  1465413032      VIEW -3499919498720038879 -8845298781299428018   \n",
       "1  1465412560      VIEW  8890720798209849691 -1032019229384696495   \n",
       "4  1465412290      VIEW -7820640624231356730  -445337111692715325   \n",
       "7  1465415066      VIEW -1492913151930215984  4254153380739593270   \n",
       "9  1465413771      VIEW  3064370296170038610  3609194402293569455   \n",
       "\n",
       "             sessionId            datetime  year quarter    month  \n",
       "0  1264196770339959068 2016-06-08 19:10:32  2016  2016Q2  2016-06  \n",
       "1  3621737643587579081 2016-06-08 19:02:40  2016  2016Q2  2016-06  \n",
       "4  5611481178424124714 2016-06-08 18:58:10  2016  2016Q2  2016-06  \n",
       "7  8743229464706506141 2016-06-08 19:44:26  2016  2016Q2  2016-06  \n",
       "9  1143207167886864524 2016-06-08 19:22:51  2016  2016Q2  2016-06  "
      ]
     },
     "execution_count": 88,
     "metadata": {},
     "output_type": "execute_result"
    }
   ],
   "source": [
    "interactions_eng_meta_df.head()"
   ]
  },
  {
   "cell_type": "markdown",
   "metadata": {},
   "source": [
    "## Data Distribution across Time Periods"
   ]
  },
  {
   "cell_type": "code",
   "execution_count": 89,
   "metadata": {},
   "outputs": [
    {
     "data": {
      "text/plain": [
       "2016    43412\n",
       "2017     3629\n",
       "Name: year, dtype: int64"
      ]
     },
     "execution_count": 89,
     "metadata": {},
     "output_type": "execute_result"
    }
   ],
   "source": [
    "interactions_eng_meta_df['year'].value_counts()"
   ]
  },
  {
   "cell_type": "code",
   "execution_count": 90,
   "metadata": {},
   "outputs": [
    {
     "data": {
      "text/plain": [
       "2016Q1      743\n",
       "2016Q2    22314\n",
       "2016Q3    13696\n",
       "2016Q4     6659\n",
       "2017Q1     3629\n",
       "Freq: Q-DEC, Name: quarter, dtype: int64"
      ]
     },
     "execution_count": 90,
     "metadata": {},
     "output_type": "execute_result"
    }
   ],
   "source": [
    "interactions_eng_meta_df['quarter'].value_counts().sort_index()"
   ]
  },
  {
   "cell_type": "code",
   "execution_count": 91,
   "metadata": {},
   "outputs": [
    {
     "data": {
      "text/plain": [
       "2016-03      743\n",
       "2016-04     4920\n",
       "2016-05     6062\n",
       "2016-06    11332\n",
       "2016-07     4317\n",
       "2016-08     5450\n",
       "2016-09     3929\n",
       "2016-10     3460\n",
       "2016-11     1719\n",
       "2016-12     1480\n",
       "2017-01     1547\n",
       "2017-02     2082\n",
       "Freq: M, Name: month, dtype: int64"
      ]
     },
     "execution_count": 91,
     "metadata": {},
     "output_type": "execute_result"
    }
   ],
   "source": [
    "interactions_eng_meta_df['month'].value_counts().sort_index()"
   ]
  },
  {
   "cell_type": "markdown",
   "metadata": {},
   "source": [
    "## Type of Interactions"
   ]
  },
  {
   "cell_type": "code",
   "execution_count": 92,
   "metadata": {},
   "outputs": [
    {
     "data": {
      "text/plain": [
       "VIEW               39823\n",
       "LIKE                3431\n",
       "BOOKMARK            1847\n",
       "COMMENT CREATED     1038\n",
       "FOLLOW               902\n",
       "Name: eventType, dtype: int64"
      ]
     },
     "execution_count": 92,
     "metadata": {},
     "output_type": "execute_result"
    }
   ],
   "source": [
    "interactions_eng_meta_df['eventType'].value_counts()"
   ]
  },
  {
   "cell_type": "code",
   "execution_count": 93,
   "metadata": {},
   "outputs": [
    {
     "data": {
      "text/plain": [
       "VIEW               84.655938\n",
       "LIKE                7.293637\n",
       "BOOKMARK            3.926362\n",
       "COMMENT CREATED     2.206586\n",
       "FOLLOW              1.917476\n",
       "Name: eventType, dtype: float64"
      ]
     },
     "execution_count": 93,
     "metadata": {},
     "output_type": "execute_result"
    }
   ],
   "source": [
    "interactions_eng_meta_df['eventType'].value_counts()/ len(interactions_eng_meta_df) * 100"
   ]
  },
  {
   "cell_type": "markdown",
   "metadata": {},
   "source": [
    "As there are different interactions types, we associate them with a weight or strength, assuming that, for example, a comment in an article indicates a higher interest of the user on the item than a like, or than a simple view."
   ]
  },
  {
   "cell_type": "code",
   "execution_count": 95,
   "metadata": {},
   "outputs": [
    {
     "name": "stderr",
     "output_type": "stream",
     "text": [
      "/home/ravi/recommendation_system/anaconda3/lib/python3.7/site-packages/pandas/core/indexing.py:362: SettingWithCopyWarning: \n",
      "A value is trying to be set on a copy of a slice from a DataFrame.\n",
      "Try using .loc[row_indexer,col_indexer] = value instead\n",
      "\n",
      "See the caveats in the documentation: http://pandas.pydata.org/pandas-docs/stable/indexing.html#indexing-view-versus-copy\n",
      "  self.obj[key] = _infer_fill_value(value)\n",
      "/home/ravi/recommendation_system/anaconda3/lib/python3.7/site-packages/pandas/core/indexing.py:543: SettingWithCopyWarning: \n",
      "A value is trying to be set on a copy of a slice from a DataFrame.\n",
      "Try using .loc[row_indexer,col_indexer] = value instead\n",
      "\n",
      "See the caveats in the documentation: http://pandas.pydata.org/pandas-docs/stable/indexing.html#indexing-view-versus-copy\n",
      "  self.obj[item] = s\n"
     ]
    }
   ],
   "source": [
    "event_type_strength_dict = {\n",
    "   'VIEW': 1.0,\n",
    "   'LIKE': 2.0, \n",
    "   'BOOKMARK': 2.5, \n",
    "   'FOLLOW': 3.0,\n",
    "   'COMMENT CREATED': 4.0,  \n",
    "}\n",
    "\n",
    "interactions_eng_meta_df.loc[:, 'eventStrength'] = interactions_eng_meta_df['eventType'].\\\n",
    "                                                    apply(lambda x: event_type_strength_dict[x])"
   ]
  },
  {
   "cell_type": "code",
   "execution_count": 96,
   "metadata": {},
   "outputs": [
    {
     "data": {
      "text/plain": [
       "1.0    39823\n",
       "2.0     3431\n",
       "2.5     1847\n",
       "4.0     1038\n",
       "3.0      902\n",
       "Name: eventStrength, dtype: int64"
      ]
     },
     "execution_count": 96,
     "metadata": {},
     "output_type": "execute_result"
    }
   ],
   "source": [
    "interactions_eng_meta_df['eventStrength'].value_counts()"
   ]
  },
  {
   "cell_type": "markdown",
   "metadata": {},
   "source": [
    "### Sort By Interaction TimeStamp"
   ]
  },
  {
   "cell_type": "code",
   "execution_count": 97,
   "metadata": {},
   "outputs": [],
   "source": [
    "sorted_interactions_eng_meta_df = interactions_eng_meta_df.sort_values('timestamp', ascending=True)"
   ]
  },
  {
   "cell_type": "code",
   "execution_count": 98,
   "metadata": {},
   "outputs": [
    {
     "name": "stdout",
     "output_type": "stream",
     "text": [
      "(-9156344805277471150, -3206777048078326150)\n",
      "        timestamp        eventType            contentId             personId  \\\n",
      "12904  1463684167             VIEW -3206777048078326150 -9156344805277471150   \n",
      "12908  1463684612  COMMENT CREATED -3206777048078326150 -9156344805277471150   \n",
      "3810   1463689402             VIEW -3206777048078326150 -9156344805277471150   \n",
      "11459  1463695228             VIEW -3206777048078326150 -9156344805277471150   \n",
      "23914  1463725997             VIEW -3206777048078326150 -9156344805277471150   \n",
      "23912  1463726178  COMMENT CREATED -3206777048078326150 -9156344805277471150   \n",
      "10653  1463772991             VIEW -3206777048078326150 -9156344805277471150   \n",
      "\n",
      "                 sessionId            datetime  year quarter    month  \\\n",
      "12904   150994502476287038 2016-05-19 18:56:07  2016  2016Q2  2016-05   \n",
      "12908   150994502476287038 2016-05-19 19:03:32  2016  2016Q2  2016-05   \n",
      "3810    150994502476287038 2016-05-19 20:23:22  2016  2016Q2  2016-05   \n",
      "11459   150994502476287038 2016-05-19 22:00:28  2016  2016Q2  2016-05   \n",
      "23914  3304026662683492693 2016-05-20 06:33:17  2016  2016Q2  2016-05   \n",
      "23912  3304026662683492693 2016-05-20 06:36:18  2016  2016Q2  2016-05   \n",
      "10653  3304026662683492693 2016-05-20 19:36:31  2016  2016Q2  2016-05   \n",
      "\n",
      "       eventStrength  \n",
      "12904            1.0  \n",
      "12908            4.0  \n",
      "3810             1.0  \n",
      "11459            1.0  \n",
      "23914            1.0  \n",
      "23912            4.0  \n",
      "10653            1.0  \n"
     ]
    }
   ],
   "source": [
    "for _id, df in sorted_interactions_eng_meta_df.groupby(['personId', 'contentId']):\n",
    "    if len(df) > 3:\n",
    "        print(_id)\n",
    "        print(df)\n",
    "        break"
   ]
  },
  {
   "cell_type": "markdown",
   "metadata": {},
   "source": [
    "## Total User, Item Counts"
   ]
  },
  {
   "cell_type": "code",
   "execution_count": 99,
   "metadata": {},
   "outputs": [
    {
     "data": {
      "text/plain": [
       "(47041, 10)"
      ]
     },
     "execution_count": 99,
     "metadata": {},
     "output_type": "execute_result"
    }
   ],
   "source": [
    "sorted_interactions_eng_meta_df.shape"
   ]
  },
  {
   "cell_type": "code",
   "execution_count": 100,
   "metadata": {},
   "outputs": [
    {
     "data": {
      "text/plain": [
       "1644"
      ]
     },
     "execution_count": 100,
     "metadata": {},
     "output_type": "execute_result"
    }
   ],
   "source": [
    "#No of Users\n",
    "no_of_users = len(sorted_interactions_eng_meta_df['personId'].unique())\n",
    "no_of_users"
   ]
  },
  {
   "cell_type": "code",
   "execution_count": 101,
   "metadata": {},
   "outputs": [
    {
     "data": {
      "text/plain": [
       "2149"
      ]
     },
     "execution_count": 101,
     "metadata": {},
     "output_type": "execute_result"
    }
   ],
   "source": [
    "#No of Items\n",
    "no_of_items = len(sorted_interactions_eng_meta_df['contentId'].unique())\n",
    "no_of_items"
   ]
  },
  {
   "cell_type": "markdown",
   "metadata": {},
   "source": [
    "## Generate DataSets across Time Periods"
   ]
  },
  {
   "cell_type": "markdown",
   "metadata": {},
   "source": [
    "In Deskdrop, users are allowed to view an article many times, and interact with them in different ways (eg. like or comment). Thus, to model the user interest on a given article, we aggregate all the interactions the user has performed in an item by a weighted sum of interaction type strength and apply a log transformation to smooth the distribution."
   ]
  },
  {
   "cell_type": "code",
   "execution_count": 121,
   "metadata": {},
   "outputs": [],
   "source": [
    "def smooth_user_preference(x):\n",
    "    return log(1+x, 2).round(4)\n",
    "\n",
    "def estimate_preference(df, user_col, item_col, event_strength):    \n",
    "    #print(df.shape)\n",
    "    \n",
    "    aggregated_df = df.groupby([user_col, item_col])[event_strength].sum() \\\n",
    "                      .apply(smooth_user_preference).reset_index()\n",
    "    aggregated_df.rename(columns={event_strength: 'preference'}, inplace=True)    \n",
    "    #print(aggregated_df.shape)\n",
    "    \n",
    "    preferences_df = df.merge(aggregated_df, on=[user_col, item_col], how='left')\n",
    "    #print(preferences_df.shape)\n",
    "    \n",
    "    return preferences_df"
   ]
  },
  {
   "cell_type": "code",
   "execution_count": 119,
   "metadata": {
    "code_folding": [
     5
    ]
   },
   "outputs": [],
   "source": [
    "def generate_datasets(interactions_df, period_col, user_col, item_col, datasets_dir):\n",
    "    if not os.path.exists(datasets_dir):\n",
    "        os.makedirs(datasets_dir)\n",
    "    periods = interactions_df[period_col].value_counts().sort_index().index\n",
    "\n",
    "    for period in periods:        \n",
    "        count = len(interactions_df[interactions_df[period_col] == period])\n",
    "        print(\"interactions_count in {} : {}\".format(period, count))        \n",
    "    print()\n",
    "    \n",
    "    no_of_datasets = 0\n",
    "    for i, period in enumerate(periods):\n",
    "        elapsed_periods = list(periods[:i])\n",
    "        elapsed_periods.append(period)\n",
    "        \n",
    "        # print(elapsed_periods)\n",
    "        print(\"elapsed_\" + period_col + \"s   : \", [str(period) for period in elapsed_periods])\n",
    "        interactions_during_elapsed_periods_df = interactions_df[interactions_df[period_col].isin(elapsed_periods)]\n",
    "        print(\"interactions_count : \", len(interactions_during_elapsed_periods_df))\n",
    "        \n",
    "        users_count = len(interactions_during_elapsed_periods_df[user_col].unique())\n",
    "        items_count = len(interactions_during_elapsed_periods_df[item_col].unique())\n",
    "        print(\"users_count        :  {}\\nitems_count        :  {}\".format(users_count, items_count))        \n",
    "        print()\n",
    "        \n",
    "        no_of_elapsed_periods = len(elapsed_periods)\n",
    "        if no_of_elapsed_periods > 1:\n",
    "            train_periods = elapsed_periods[:no_of_elapsed_periods-1] #except last period\n",
    "            test_period = elapsed_periods[-1] #last period\n",
    "            \n",
    "            no_of_datasets += 1\n",
    "            dataset_name = 'dataset_' + str(no_of_datasets)\n",
    "            print(\"Generating Dataset : \", dataset_name)\n",
    "            dataset_dir = os.path.join(datasets_dir, dataset_name)\n",
    "            if not os.path.exists(dataset_dir):\n",
    "                os.makedirs(dataset_dir)\n",
    "\n",
    "            #################################################################################################\n",
    "            # print(\"Train {} : {}\".format(period_col, train_periods))\n",
    "            print(\"Train {} : {}\".format(period_col, [str(period) for period in train_periods]))\n",
    "            interactions_during_train_periods_df = interactions_df[interactions_df[period_col].isin(train_periods)]\n",
    "            train_df = estimate_preference(interactions_during_train_periods_df,\n",
    "                                           user_col, item_col, 'eventStrength') \n",
    "            train_periods_str = '_'.join([str(period) for period in train_periods])\n",
    "            train_file_name = 'train_' + train_periods_str + '.csv'\n",
    "            train_file_path = os.path.join(dataset_dir, train_file_name)\n",
    "            #interactions_during_train_periods_df.to_csv(train_file_path, index=False)\n",
    "            train_df.to_csv(train_file_path, index=False)\n",
    "            \n",
    "            print(\"\\t interactions_count : \", len(train_df))\n",
    "            users_count = len(train_df[user_col].unique())\n",
    "            items_count = len(train_df[item_col].unique())\n",
    "            print(\"\\t users_count        :  {}\\n\\t items_count        :  {}\".format(users_count, items_count))            \n",
    "            #################################################################################################            \n",
    "            print(\"Test  {} : {}\".format(period_col, test_period))\n",
    "            interactions_during_test_periods_df = interactions_df[interactions_df[period_col].isin([test_period])]\n",
    "            test_df = estimate_preference(interactions_during_test_periods_df,\n",
    "                                          user_col, item_col, 'eventStrength')\n",
    "            \n",
    "            test_period_str = str(test_period)\n",
    "            test_file_name = 'test_' + test_period_str + '.csv'\n",
    "            test_file_path = os.path.join(dataset_dir, test_file_name)\n",
    "            #interactions_during_test_periods_df.to_csv(test_file_path, index=False)\n",
    "            test_df.to_csv(test_file_path, index=False)\n",
    "            \n",
    "            print(\"\\t interactions_count : \", len(test_df))\n",
    "            users_count = len(test_df[user_col].unique())\n",
    "            items_count = len(test_df[item_col].unique())\n",
    "            print(\"\\t users_count        :  {}\\n\\t items_count        :  {}\".format(users_count, items_count))            \n",
    "            #################################################################################################\n",
    "            print(\"Train and test {}\".format(period_col))\n",
    "            train_users_set = set(train_df[user_col].unique())\n",
    "            test_users_set = set(test_df[user_col].unique())\n",
    "            common_users_set = train_users_set.intersection(test_users_set)\n",
    "            only_in_train_users_set = train_users_set - test_users_set\n",
    "            only_in_test_users_set = test_users_set - train_users_set\n",
    "                \n",
    "            train_items_set = set(train_df[item_col].unique())\n",
    "            test_items_set = set(test_df[item_col].unique())\n",
    "            common_items_set = train_items_set.intersection(test_items_set)\n",
    "            only_in_train_items_set = train_items_set - test_items_set\n",
    "            only_in_test_items_set = test_items_set - train_items_set\n",
    "\n",
    "            print(\"\\t Common\")\n",
    "            print(\"\\t\\t users_count        :  {}\\n\\t\\t items_count        :  {}\".format(len(common_users_set), \n",
    "                                                                                        len(common_items_set)))\n",
    "            print(\"\\t Only_in_train\")\n",
    "            print(\"\\t\\t users_count        :  {}\\n\\t\\t items_count        :  {}\".format(len(only_in_train_users_set), \n",
    "                                                                                        len(only_in_train_items_set)))\n",
    "            print(\"\\t Only_in_test\")\n",
    "            print(\"\\t\\t users_count        :  {}\\n\\t\\t items_count        :  {}\".format(len(only_in_test_users_set), \n",
    "                                                                                        len(only_in_test_items_set)))   \n",
    "                       \n",
    "            \n",
    "            fig, (ax1, ax2) = plt.subplots(1, 2)\n",
    "            ax1.set_title('Users')\n",
    "            venn2(subsets = (len(only_in_train_users_set), len(only_in_test_users_set), len(common_users_set)), \n",
    "                  set_labels = ('Train', 'Test'), ax=ax1)\n",
    "            \n",
    "            ax2.set_title('Items')\n",
    "            venn2(subsets = (len(only_in_train_items_set), len(only_in_test_items_set), len(common_items_set)), \n",
    "                  set_labels = ('Train', 'Test'), ax=ax2)\n",
    "            plt.show()                        \n",
    "            \n",
    "            print(\"Recommender Setup : {}\".format(period_col))\n",
    "                                     \n",
    "            existing_users_in_test_set = common_users_set                        \n",
    "            new_items_in_test_set = only_in_test_items_set\n",
    "            \n",
    "            existing_users_in_test_items_used_set = set(test_df[test_df[user_col].isin(existing_users_in_test_set)][item_col].unique())\n",
    "            existing_items_used_set = existing_users_in_test_items_used_set.intersection(common_items_set)\n",
    "            new_items_used_set = existing_users_in_test_items_used_set.intersection(new_items_in_test_set)\n",
    "                                                                    \n",
    "            print(\"\\t No of train_users in test   : \", len(existing_users_in_test_set))\n",
    "            print(\"\\t No of items_used            : \", len(existing_users_in_test_items_used_set))\n",
    "            print(\"\\t\\t No of existing_items_used   : \", len(existing_items_used_set))            \n",
    "            print(\"\\t\\t No of new_items_used        : \", len(new_items_used_set))\n",
    "            is_valid = True if (existing_users_in_test_items_used_set == existing_items_used_set.union(new_items_used_set)) else False            \n",
    "            if not is_valid:\n",
    "                print(\"\\t Items Add Up ? : \", is_valid)\n",
    "                input()                                      \n",
    "            print()                        \n",
    "            \n",
    "#             new_users_in_test_set = only_in_test_users_set\n",
    "#             new_items_in_test_set = only_in_test_items_set\n",
    "#             new_users_used_items_set = set(interactions_during_test_periods_df[\\\n",
    "#                 interactions_during_test_periods_df[user_col].isin(new_users_in_test_set)][item_col].unique())\n",
    "#             new_users_used_existing_items_set = new_users_used_items_set.intersection(existing_items_used_set)\n",
    "#             new_users_used_new_items_set = new_users_used_items_set.intersection(new_items_in_test_set)\n",
    "#             print(\"\\t No of new users in test   : \", len(new_users_in_test_set))\n",
    "#             print(\"\\t No of items_used          : \", len(new_users_used_items_set))\n",
    "#             print(\"\\t No of existing_items_used : \", len(new_users_used_existing_items_set))\n",
    "#             print(\"\\t No of new_items_used      : \", len(new_users_used_new_items_set))\n",
    "        print('*'*80)"
   ]
  },
  {
   "cell_type": "code",
   "execution_count": 120,
   "metadata": {},
   "outputs": [
    {
     "name": "stdout",
     "output_type": "stream",
     "text": [
      "interactions_count in 2016Q1 : 743\n",
      "interactions_count in 2016Q2 : 22314\n",
      "interactions_count in 2016Q3 : 13696\n",
      "interactions_count in 2016Q4 : 6659\n",
      "interactions_count in 2017Q1 : 3629\n",
      "\n",
      "elapsed_quarters   :  ['2016Q1']\n",
      "interactions_count :  743\n",
      "users_count        :  174\n",
      "items_count        :  99\n",
      "\n",
      "********************************************************************************\n",
      "elapsed_quarters   :  ['2016Q1', '2016Q2']\n",
      "interactions_count :  23057\n",
      "users_count        :  1111\n",
      "items_count        :  1143\n",
      "\n",
      "Generating Dataset :  dataset_1\n",
      "Train quarter : ['2016Q1']\n",
      "(743, 10)\n",
      "(496, 3)\n",
      "(743, 11)\n",
      "\n",
      "\t interactions_count :  743\n",
      "\t users_count        :  174\n",
      "\t items_count        :  99\n",
      "Test  quarter : 2016Q2\n",
      "(22314, 10)\n",
      "(11077, 3)\n",
      "(22314, 11)\n",
      "\n",
      "\t interactions_count :  22314\n",
      "\t users_count        :  1098\n",
      "\t items_count        :  1112\n",
      "Train and test quarter\n",
      "\t Common\n",
      "\t\t users_count        :  161\n",
      "\t\t items_count        :  68\n",
      "\t Only_in_train\n",
      "\t\t users_count        :  13\n",
      "\t\t items_count        :  31\n",
      "\t Only_in_test\n",
      "\t\t users_count        :  937\n",
      "\t\t items_count        :  1044\n"
     ]
    },
    {
     "data": {
      "image/png": "[encoded data removed]",
      "text/plain": [
       "<Figure size 432x288 with 2 Axes>"
      ]
     },
     "metadata": {},
     "output_type": "display_data"
    },
    {
     "name": "stdout",
     "output_type": "stream",
     "text": [
      "Recommender Setup : quarter\n",
      "\t No of train_users in test   :  161\n",
      "\t No of items_used            :  1052\n",
      "\t\t No of existing_items_used   :  61\n",
      "\t\t No of new_items_used        :  991\n",
      "\n",
      "********************************************************************************\n",
      "elapsed_quarters   :  ['2016Q1', '2016Q2', '2016Q3']\n",
      "interactions_count :  36753\n",
      "users_count        :  1405\n",
      "items_count        :  1721\n",
      "\n",
      "Generating Dataset :  dataset_2\n",
      "Train quarter : ['2016Q1', '2016Q2']\n",
      "(23057, 10)\n",
      "(11541, 3)\n",
      "(23057, 11)\n",
      "\n",
      "\t interactions_count :  23057\n",
      "\t users_count        :  1111\n",
      "\t items_count        :  1143\n",
      "Test  quarter : 2016Q3\n",
      "(13696, 10)\n",
      "(8311, 3)\n",
      "(13696, 11)\n",
      "\n",
      "\t interactions_count :  13696\n",
      "\t users_count        :  1052\n",
      "\t items_count        :  892\n",
      "Train and test quarter\n",
      "\t Common\n",
      "\t\t users_count        :  758\n",
      "\t\t items_count        :  314\n",
      "\t Only_in_train\n",
      "\t\t users_count        :  353\n",
      "\t\t items_count        :  829\n",
      "\t Only_in_test\n",
      "\t\t users_count        :  294\n",
      "\t\t items_count        :  578\n"
     ]
    },
    {
     "data": {
      "image/png": "[encoded data removed]",
      "text/plain": [
       "<Figure size 432x288 with 2 Axes>"
      ]
     },
     "metadata": {},
     "output_type": "display_data"
    },
    {
     "name": "stdout",
     "output_type": "stream",
     "text": [
      "Recommender Setup : quarter\n",
      "\t No of train_users in test   :  758\n",
      "\t No of items_used            :  856\n",
      "\t\t No of existing_items_used   :  281\n",
      "\t\t No of new_items_used        :  575\n",
      "\n",
      "********************************************************************************\n",
      "elapsed_quarters   :  ['2016Q1', '2016Q2', '2016Q3', '2016Q4']\n",
      "interactions_count :  43412\n",
      "users_count        :  1549\n",
      "items_count        :  2017\n",
      "\n",
      "Generating Dataset :  dataset_3\n",
      "Train quarter : ['2016Q1', '2016Q2', '2016Q3']\n",
      "(36753, 10)\n",
      "(19713, 3)\n",
      "(36753, 11)\n",
      "\n",
      "\t interactions_count :  36753\n",
      "\t users_count        :  1405\n",
      "\t items_count        :  1721\n",
      "Test  quarter : 2016Q4\n",
      "(6659, 10)\n",
      "(4426, 3)\n",
      "(6659, 11)\n",
      "\n",
      "\t interactions_count :  6659\n",
      "\t users_count        :  866\n",
      "\t items_count        :  636\n",
      "Train and test quarter\n",
      "\t Common\n",
      "\t\t users_count        :  722\n",
      "\t\t items_count        :  340\n",
      "\t Only_in_train\n",
      "\t\t users_count        :  683\n",
      "\t\t items_count        :  1381\n",
      "\t Only_in_test\n",
      "\t\t users_count        :  144\n",
      "\t\t items_count        :  296\n"
     ]
    },
    {
     "data": {
      "image/png": "[encoded data removed]",
      "text/plain": [
       "<Figure size 432x288 with 2 Axes>"
      ]
     },
     "metadata": {},
     "output_type": "display_data"
    },
    {
     "name": "stdout",
     "output_type": "stream",
     "text": [
      "Recommender Setup : quarter\n",
      "\t No of train_users in test   :  722\n",
      "\t No of items_used            :  609\n",
      "\t\t No of existing_items_used   :  316\n",
      "\t\t No of new_items_used        :  293\n",
      "\n",
      "********************************************************************************\n",
      "elapsed_quarters   :  ['2016Q1', '2016Q2', '2016Q3', '2016Q4', '2017Q1']\n",
      "interactions_count :  47041\n",
      "users_count        :  1644\n",
      "items_count        :  2149\n",
      "\n",
      "Generating Dataset :  dataset_4\n",
      "Train quarter : ['2016Q1', '2016Q2', '2016Q3', '2016Q4']\n",
      "(43412, 10)\n",
      "(23997, 3)\n",
      "(43412, 11)\n",
      "\n",
      "\t interactions_count :  43412\n",
      "\t users_count        :  1549\n",
      "\t items_count        :  2017\n",
      "Test  quarter : 2017Q1\n",
      "(3629, 10)\n",
      "(2272, 3)\n",
      "(3629, 11)\n",
      "\n",
      "\t interactions_count :  3629\n",
      "\t users_count        :  764\n",
      "\t items_count        :  319\n",
      "Train and test quarter\n",
      "\t Common\n",
      "\t\t users_count        :  669\n",
      "\t\t items_count        :  187\n",
      "\t Only_in_train\n",
      "\t\t users_count        :  880\n",
      "\t\t items_count        :  1830\n",
      "\t Only_in_test\n",
      "\t\t users_count        :  95\n",
      "\t\t items_count        :  132\n"
     ]
    },
    {
     "data": {
      "image/png": "[encoded data removed]",
      "text/plain": [
       "<Figure size 432x288 with 2 Axes>"
      ]
     },
     "metadata": {},
     "output_type": "display_data"
    },
    {
     "name": "stdout",
     "output_type": "stream",
     "text": [
      "Recommender Setup : quarter\n",
      "\t No of train_users in test   :  669\n",
      "\t No of items_used            :  306\n",
      "\t\t No of existing_items_used   :  174\n",
      "\t\t No of new_items_used        :  132\n",
      "\n",
      "********************************************************************************\n"
     ]
    }
   ],
   "source": [
    "generate_datasets(interactions_df = sorted_interactions_eng_meta_df,\n",
    "                  period_col='quarter', user_col='personId', item_col='contentId',\n",
    "                  datasets_dir='../train_test_datasets')"
   ]
  }
 ],
 "metadata": {
  "kernelspec": {
   "display_name": "rec_sys_env",
   "language": "python",
   "name": "rec_sys_env"
  },
  "language_info": {
   "codemirror_mode": {
    "name": "ipython",
    "version": 3
   },
   "file_extension": ".py",
   "mimetype": "text/x-python",
   "name": "python",
   "nbconvert_exporter": "python",
   "pygments_lexer": "ipython3",
   "version": "3.7.3"
  },
  "toc": {
   "base_numbering": 1,
   "nav_menu": {},
   "number_sections": true,
   "sideBar": true,
   "skip_h1_title": false,
   "title_cell": "Table of Contents",
   "title_sidebar": "Contents",
   "toc_cell": false,
   "toc_position": {
    "height": "687px",
    "left": "212px",
    "top": "170px",
    "width": "212px"
   },
   "toc_section_display": true,
   "toc_window_display": true
  }
 },
 "nbformat": 4,
 "nbformat_minor": 2
}

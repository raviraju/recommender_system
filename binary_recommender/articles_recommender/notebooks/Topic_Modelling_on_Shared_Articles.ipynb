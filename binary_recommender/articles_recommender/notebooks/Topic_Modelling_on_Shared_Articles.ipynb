{
 "cells": [
  {
   "cell_type": "markdown",
   "metadata": {},
   "source": [
    "## Imports"
   ]
  },
  {
   "cell_type": "code",
   "execution_count": 1,
   "metadata": {},
   "outputs": [],
   "source": [
    "import pandas as pd\n",
    "\n",
    "from sklearn.pipeline import Pipeline\n",
    "\n",
    "import spacy\n",
    "spacy_lemmatizer = spacy.load('en', disable=['parser', 'ner'])\n",
    "\n",
    "from sklearn.feature_extraction.text import CountVectorizer, TfidfVectorizer\n",
    "from sklearn.decomposition import LatentDirichletAllocation\n",
    "from sklearn import preprocessing\n",
    "\n",
    "import pyLDAvis\n",
    "import pyLDAvis.sklearn\n",
    "pyLDAvis.enable_notebook()\n",
    "\n",
    "from pprint import pprint\n",
    "\n",
    "from timeit import default_timer"
   ]
  },
  {
   "cell_type": "markdown",
   "metadata": {},
   "source": [
    "## Utilities"
   ]
  },
  {
   "cell_type": "code",
   "execution_count": 2,
   "metadata": {
    "code_folding": [
     0
    ]
   },
   "outputs": [],
   "source": [
    "def lemmatize_spacy(text):\n",
    "    \"\"\"Apply Lemmatization using Spacy Lemmatization\"\"\"\n",
    "    lemma_text = None\n",
    "    if isinstance(text, str):\n",
    "        lemma_text = \"\"\n",
    "\n",
    "        # Parse the sentence using the loaded 'en' model object `nlp`\n",
    "        doc = spacy_lemmatizer(text)\n",
    "\n",
    "        # Extract the lemma for each token\n",
    "        lemmas = []\n",
    "        for token in doc:\n",
    "            lemma = token.lemma_\n",
    "            if lemma == '-PRON-': #https://spacy.io/api/annotation#lemmatization\n",
    "                lemma = token.text\n",
    "            if lemma.isalpha():\n",
    "                lemmas.append(lemma)\n",
    "        lemma_text = \" \".join(lemmas)\n",
    "        if len(lemma_text) == 0:\n",
    "            return None\n",
    "    return lemma_text"
   ]
  },
  {
   "cell_type": "code",
   "execution_count": 3,
   "metadata": {
    "code_folding": [
     0
    ]
   },
   "outputs": [],
   "source": [
    "def convert_sec(no_of_secs):\n",
    "    \"\"\"return no_of_secs to min or hrs string\"\"\"\n",
    "    if no_of_secs < 60:\n",
    "        return \"{:06.4f}    sec\".format(no_of_secs)\n",
    "    elif no_of_secs < 3600:\n",
    "        return \"{:06.4f}    min\".format(no_of_secs/60)\n",
    "    else:\n",
    "        return \"{:06.4f}    hr\".format(no_of_secs/3600)"
   ]
  },
  {
   "cell_type": "markdown",
   "metadata": {},
   "source": [
    "## Load Data"
   ]
  },
  {
   "cell_type": "code",
   "execution_count": 4,
   "metadata": {},
   "outputs": [
    {
     "data": {
      "text/plain": [
       "(3122, 13)"
      ]
     },
     "execution_count": 4,
     "metadata": {},
     "output_type": "execute_result"
    }
   ],
   "source": [
    "articles_df = pd.read_csv('../data/shared_articles.csv')\n",
    "articles_df.fillna('UNKOWN', inplace=True)\n",
    "articles_df.shape"
   ]
  },
  {
   "cell_type": "code",
   "execution_count": 5,
   "metadata": {
    "collapsed": true
   },
   "outputs": [
    {
     "data": {
      "text/html": [
       "<div>\n",
       "<style scoped>\n",
       "    .dataframe tbody tr th:only-of-type {\n",
       "        vertical-align: middle;\n",
       "    }\n",
       "\n",
       "    .dataframe tbody tr th {\n",
       "        vertical-align: top;\n",
       "    }\n",
       "\n",
       "    .dataframe thead th {\n",
       "        text-align: right;\n",
       "    }\n",
       "</style>\n",
       "<table border=\"1\" class=\"dataframe\">\n",
       "  <thead>\n",
       "    <tr style=\"text-align: right;\">\n",
       "      <th></th>\n",
       "      <th>timestamp</th>\n",
       "      <th>eventType</th>\n",
       "      <th>contentId</th>\n",
       "      <th>authorPersonId</th>\n",
       "      <th>authorSessionId</th>\n",
       "      <th>authorUserAgent</th>\n",
       "      <th>authorRegion</th>\n",
       "      <th>authorCountry</th>\n",
       "      <th>contentType</th>\n",
       "      <th>url</th>\n",
       "      <th>title</th>\n",
       "      <th>text</th>\n",
       "      <th>lang</th>\n",
       "    </tr>\n",
       "  </thead>\n",
       "  <tbody>\n",
       "    <tr>\n",
       "      <th>0</th>\n",
       "      <td>1459192779</td>\n",
       "      <td>CONTENT REMOVED</td>\n",
       "      <td>-6451309518266745024</td>\n",
       "      <td>4340306774493623681</td>\n",
       "      <td>8940341205206233829</td>\n",
       "      <td>UNKOWN</td>\n",
       "      <td>UNKOWN</td>\n",
       "      <td>UNKOWN</td>\n",
       "      <td>HTML</td>\n",
       "      <td>http://www.nytimes.com/2016/03/28/business/dea...</td>\n",
       "      <td>Ethereum, a Virtual Currency, Enables Transact...</td>\n",
       "      <td>All of this work is still very early. The firs...</td>\n",
       "      <td>en</td>\n",
       "    </tr>\n",
       "    <tr>\n",
       "      <th>1</th>\n",
       "      <td>1459193988</td>\n",
       "      <td>CONTENT SHARED</td>\n",
       "      <td>-4110354420726924665</td>\n",
       "      <td>4340306774493623681</td>\n",
       "      <td>8940341205206233829</td>\n",
       "      <td>UNKOWN</td>\n",
       "      <td>UNKOWN</td>\n",
       "      <td>UNKOWN</td>\n",
       "      <td>HTML</td>\n",
       "      <td>http://www.nytimes.com/2016/03/28/business/dea...</td>\n",
       "      <td>Ethereum, a Virtual Currency, Enables Transact...</td>\n",
       "      <td>All of this work is still very early. The firs...</td>\n",
       "      <td>en</td>\n",
       "    </tr>\n",
       "    <tr>\n",
       "      <th>2</th>\n",
       "      <td>1459194146</td>\n",
       "      <td>CONTENT SHARED</td>\n",
       "      <td>-7292285110016212249</td>\n",
       "      <td>4340306774493623681</td>\n",
       "      <td>8940341205206233829</td>\n",
       "      <td>UNKOWN</td>\n",
       "      <td>UNKOWN</td>\n",
       "      <td>UNKOWN</td>\n",
       "      <td>HTML</td>\n",
       "      <td>http://cointelegraph.com/news/bitcoin-future-w...</td>\n",
       "      <td>Bitcoin Future: When GBPcoin of Branson Wins O...</td>\n",
       "      <td>The alarm clock wakes me at 8:00 with stream o...</td>\n",
       "      <td>en</td>\n",
       "    </tr>\n",
       "    <tr>\n",
       "      <th>3</th>\n",
       "      <td>1459194474</td>\n",
       "      <td>CONTENT SHARED</td>\n",
       "      <td>-6151852268067518688</td>\n",
       "      <td>3891637997717104548</td>\n",
       "      <td>-1457532940883382585</td>\n",
       "      <td>UNKOWN</td>\n",
       "      <td>UNKOWN</td>\n",
       "      <td>UNKOWN</td>\n",
       "      <td>HTML</td>\n",
       "      <td>https://cloudplatform.googleblog.com/2016/03/G...</td>\n",
       "      <td>Google Data Center 360° Tour</td>\n",
       "      <td>We're excited to share the Google Data Center ...</td>\n",
       "      <td>en</td>\n",
       "    </tr>\n",
       "    <tr>\n",
       "      <th>4</th>\n",
       "      <td>1459194497</td>\n",
       "      <td>CONTENT SHARED</td>\n",
       "      <td>2448026894306402386</td>\n",
       "      <td>4340306774493623681</td>\n",
       "      <td>8940341205206233829</td>\n",
       "      <td>UNKOWN</td>\n",
       "      <td>UNKOWN</td>\n",
       "      <td>UNKOWN</td>\n",
       "      <td>HTML</td>\n",
       "      <td>https://bitcoinmagazine.com/articles/ibm-wants...</td>\n",
       "      <td>IBM Wants to \"Evolve the Internet\" With Blockc...</td>\n",
       "      <td>The Aite Group projects the blockchain market ...</td>\n",
       "      <td>en</td>\n",
       "    </tr>\n",
       "  </tbody>\n",
       "</table>\n",
       "</div>"
      ],
      "text/plain": [
       "    timestamp        eventType            contentId       authorPersonId  \\\n",
       "0  1459192779  CONTENT REMOVED -6451309518266745024  4340306774493623681   \n",
       "1  1459193988   CONTENT SHARED -4110354420726924665  4340306774493623681   \n",
       "2  1459194146   CONTENT SHARED -7292285110016212249  4340306774493623681   \n",
       "3  1459194474   CONTENT SHARED -6151852268067518688  3891637997717104548   \n",
       "4  1459194497   CONTENT SHARED  2448026894306402386  4340306774493623681   \n",
       "\n",
       "       authorSessionId authorUserAgent authorRegion authorCountry contentType  \\\n",
       "0  8940341205206233829          UNKOWN       UNKOWN        UNKOWN        HTML   \n",
       "1  8940341205206233829          UNKOWN       UNKOWN        UNKOWN        HTML   \n",
       "2  8940341205206233829          UNKOWN       UNKOWN        UNKOWN        HTML   \n",
       "3 -1457532940883382585          UNKOWN       UNKOWN        UNKOWN        HTML   \n",
       "4  8940341205206233829          UNKOWN       UNKOWN        UNKOWN        HTML   \n",
       "\n",
       "                                                 url  \\\n",
       "0  http://www.nytimes.com/2016/03/28/business/dea...   \n",
       "1  http://www.nytimes.com/2016/03/28/business/dea...   \n",
       "2  http://cointelegraph.com/news/bitcoin-future-w...   \n",
       "3  https://cloudplatform.googleblog.com/2016/03/G...   \n",
       "4  https://bitcoinmagazine.com/articles/ibm-wants...   \n",
       "\n",
       "                                               title  \\\n",
       "0  Ethereum, a Virtual Currency, Enables Transact...   \n",
       "1  Ethereum, a Virtual Currency, Enables Transact...   \n",
       "2  Bitcoin Future: When GBPcoin of Branson Wins O...   \n",
       "3                       Google Data Center 360° Tour   \n",
       "4  IBM Wants to \"Evolve the Internet\" With Blockc...   \n",
       "\n",
       "                                                text lang  \n",
       "0  All of this work is still very early. The firs...   en  \n",
       "1  All of this work is still very early. The firs...   en  \n",
       "2  The alarm clock wakes me at 8:00 with stream o...   en  \n",
       "3  We're excited to share the Google Data Center ...   en  \n",
       "4  The Aite Group projects the blockchain market ...   en  "
      ]
     },
     "execution_count": 5,
     "metadata": {},
     "output_type": "execute_result"
    }
   ],
   "source": [
    "articles_df.head()"
   ]
  },
  {
   "cell_type": "markdown",
   "metadata": {},
   "source": [
    "### Filtering Shared Articles"
   ]
  },
  {
   "cell_type": "code",
   "execution_count": 6,
   "metadata": {},
   "outputs": [
    {
     "data": {
      "text/plain": [
       "CONTENT SHARED     3047\n",
       "CONTENT REMOVED      75\n",
       "Name: eventType, dtype: int64"
      ]
     },
     "execution_count": 6,
     "metadata": {},
     "output_type": "execute_result"
    }
   ],
   "source": [
    "articles_df['eventType'].value_counts()"
   ]
  },
  {
   "cell_type": "code",
   "execution_count": 7,
   "metadata": {},
   "outputs": [
    {
     "data": {
      "text/plain": [
       "(3047, 13)"
      ]
     },
     "execution_count": 7,
     "metadata": {},
     "output_type": "execute_result"
    }
   ],
   "source": [
    "shared_articles_df = articles_df[articles_df['eventType'] == 'CONTENT SHARED']\n",
    "shared_articles_df.shape"
   ]
  },
  {
   "cell_type": "markdown",
   "metadata": {},
   "source": [
    "### Filtering Shared Articles in English"
   ]
  },
  {
   "cell_type": "code",
   "execution_count": 8,
   "metadata": {},
   "outputs": [
    {
     "data": {
      "text/plain": [
       "en    2211\n",
       "pt     829\n",
       "la       3\n",
       "es       2\n",
       "ja       2\n",
       "Name: lang, dtype: int64"
      ]
     },
     "execution_count": 8,
     "metadata": {},
     "output_type": "execute_result"
    }
   ],
   "source": [
    "shared_articles_df['lang'].value_counts()"
   ]
  },
  {
   "cell_type": "code",
   "execution_count": 9,
   "metadata": {},
   "outputs": [
    {
     "data": {
      "text/plain": [
       "(2211, 13)"
      ]
     },
     "execution_count": 9,
     "metadata": {},
     "output_type": "execute_result"
    }
   ],
   "source": [
    "eng_shared_articles_df = shared_articles_df[shared_articles_df['lang'] == 'en']\n",
    "eng_shared_articles_df.shape"
   ]
  },
  {
   "cell_type": "code",
   "execution_count": 10,
   "metadata": {},
   "outputs": [
    {
     "data": {
      "text/html": [
       "<div>\n",
       "<style scoped>\n",
       "    .dataframe tbody tr th:only-of-type {\n",
       "        vertical-align: middle;\n",
       "    }\n",
       "\n",
       "    .dataframe tbody tr th {\n",
       "        vertical-align: top;\n",
       "    }\n",
       "\n",
       "    .dataframe thead th {\n",
       "        text-align: right;\n",
       "    }\n",
       "</style>\n",
       "<table border=\"1\" class=\"dataframe\">\n",
       "  <thead>\n",
       "    <tr style=\"text-align: right;\">\n",
       "      <th></th>\n",
       "      <th>contentId</th>\n",
       "      <th>url</th>\n",
       "      <th>title</th>\n",
       "      <th>text</th>\n",
       "    </tr>\n",
       "  </thead>\n",
       "  <tbody>\n",
       "    <tr>\n",
       "      <th>1</th>\n",
       "      <td>-4110354420726924665</td>\n",
       "      <td>http://www.nytimes.com/2016/03/28/business/dea...</td>\n",
       "      <td>Ethereum, a Virtual Currency, Enables Transact...</td>\n",
       "      <td>All of this work is still very early. The firs...</td>\n",
       "    </tr>\n",
       "    <tr>\n",
       "      <th>2</th>\n",
       "      <td>-7292285110016212249</td>\n",
       "      <td>http://cointelegraph.com/news/bitcoin-future-w...</td>\n",
       "      <td>Bitcoin Future: When GBPcoin of Branson Wins O...</td>\n",
       "      <td>The alarm clock wakes me at 8:00 with stream o...</td>\n",
       "    </tr>\n",
       "    <tr>\n",
       "      <th>3</th>\n",
       "      <td>-6151852268067518688</td>\n",
       "      <td>https://cloudplatform.googleblog.com/2016/03/G...</td>\n",
       "      <td>Google Data Center 360° Tour</td>\n",
       "      <td>We're excited to share the Google Data Center ...</td>\n",
       "    </tr>\n",
       "    <tr>\n",
       "      <th>4</th>\n",
       "      <td>2448026894306402386</td>\n",
       "      <td>https://bitcoinmagazine.com/articles/ibm-wants...</td>\n",
       "      <td>IBM Wants to \"Evolve the Internet\" With Blockc...</td>\n",
       "      <td>The Aite Group projects the blockchain market ...</td>\n",
       "    </tr>\n",
       "    <tr>\n",
       "      <th>5</th>\n",
       "      <td>-2826566343807132236</td>\n",
       "      <td>http://www.coindesk.com/ieee-blockchain-oxford...</td>\n",
       "      <td>IEEE to Talk Blockchain at Cloud Computing Oxf...</td>\n",
       "      <td>One of the largest and oldest organizations fo...</td>\n",
       "    </tr>\n",
       "  </tbody>\n",
       "</table>\n",
       "</div>"
      ],
      "text/plain": [
       "             contentId                                                url  \\\n",
       "1 -4110354420726924665  http://www.nytimes.com/2016/03/28/business/dea...   \n",
       "2 -7292285110016212249  http://cointelegraph.com/news/bitcoin-future-w...   \n",
       "3 -6151852268067518688  https://cloudplatform.googleblog.com/2016/03/G...   \n",
       "4  2448026894306402386  https://bitcoinmagazine.com/articles/ibm-wants...   \n",
       "5 -2826566343807132236  http://www.coindesk.com/ieee-blockchain-oxford...   \n",
       "\n",
       "                                               title  \\\n",
       "1  Ethereum, a Virtual Currency, Enables Transact...   \n",
       "2  Bitcoin Future: When GBPcoin of Branson Wins O...   \n",
       "3                       Google Data Center 360° Tour   \n",
       "4  IBM Wants to \"Evolve the Internet\" With Blockc...   \n",
       "5  IEEE to Talk Blockchain at Cloud Computing Oxf...   \n",
       "\n",
       "                                                text  \n",
       "1  All of this work is still very early. The firs...  \n",
       "2  The alarm clock wakes me at 8:00 with stream o...  \n",
       "3  We're excited to share the Google Data Center ...  \n",
       "4  The Aite Group projects the blockchain market ...  \n",
       "5  One of the largest and oldest organizations fo...  "
      ]
     },
     "execution_count": 10,
     "metadata": {},
     "output_type": "execute_result"
    }
   ],
   "source": [
    "eng_shared_articles_df = eng_shared_articles_df[['contentId', 'url', 'title', 'text']]\n",
    "eng_shared_articles_df.head()"
   ]
  },
  {
   "cell_type": "code",
   "execution_count": 11,
   "metadata": {},
   "outputs": [
    {
     "data": {
      "text/plain": [
       "2211"
      ]
     },
     "execution_count": 11,
     "metadata": {},
     "output_type": "execute_result"
    }
   ],
   "source": [
    "len(eng_shared_articles_df['contentId'].unique())"
   ]
  },
  {
   "cell_type": "markdown",
   "metadata": {},
   "source": [
    "### Combine title and text to create text_content"
   ]
  },
  {
   "cell_type": "code",
   "execution_count": 12,
   "metadata": {},
   "outputs": [
    {
     "data": {
      "text/html": [
       "<div>\n",
       "<style scoped>\n",
       "    .dataframe tbody tr th:only-of-type {\n",
       "        vertical-align: middle;\n",
       "    }\n",
       "\n",
       "    .dataframe tbody tr th {\n",
       "        vertical-align: top;\n",
       "    }\n",
       "\n",
       "    .dataframe thead th {\n",
       "        text-align: right;\n",
       "    }\n",
       "</style>\n",
       "<table border=\"1\" class=\"dataframe\">\n",
       "  <thead>\n",
       "    <tr style=\"text-align: right;\">\n",
       "      <th></th>\n",
       "      <th>contentId</th>\n",
       "      <th>url</th>\n",
       "      <th>title</th>\n",
       "      <th>text</th>\n",
       "      <th>text_content</th>\n",
       "    </tr>\n",
       "  </thead>\n",
       "  <tbody>\n",
       "    <tr>\n",
       "      <th>1</th>\n",
       "      <td>-4110354420726924665</td>\n",
       "      <td>http://www.nytimes.com/2016/03/28/business/dea...</td>\n",
       "      <td>Ethereum, a Virtual Currency, Enables Transact...</td>\n",
       "      <td>All of this work is still very early. The firs...</td>\n",
       "      <td>Ethereum, a Virtual Currency, Enables Transact...</td>\n",
       "    </tr>\n",
       "    <tr>\n",
       "      <th>2</th>\n",
       "      <td>-7292285110016212249</td>\n",
       "      <td>http://cointelegraph.com/news/bitcoin-future-w...</td>\n",
       "      <td>Bitcoin Future: When GBPcoin of Branson Wins O...</td>\n",
       "      <td>The alarm clock wakes me at 8:00 with stream o...</td>\n",
       "      <td>Bitcoin Future: When GBPcoin of Branson Wins O...</td>\n",
       "    </tr>\n",
       "    <tr>\n",
       "      <th>3</th>\n",
       "      <td>-6151852268067518688</td>\n",
       "      <td>https://cloudplatform.googleblog.com/2016/03/G...</td>\n",
       "      <td>Google Data Center 360° Tour</td>\n",
       "      <td>We're excited to share the Google Data Center ...</td>\n",
       "      <td>Google Data Center 360° Tour. We're excited to...</td>\n",
       "    </tr>\n",
       "    <tr>\n",
       "      <th>4</th>\n",
       "      <td>2448026894306402386</td>\n",
       "      <td>https://bitcoinmagazine.com/articles/ibm-wants...</td>\n",
       "      <td>IBM Wants to \"Evolve the Internet\" With Blockc...</td>\n",
       "      <td>The Aite Group projects the blockchain market ...</td>\n",
       "      <td>IBM Wants to \"Evolve the Internet\" With Blockc...</td>\n",
       "    </tr>\n",
       "    <tr>\n",
       "      <th>5</th>\n",
       "      <td>-2826566343807132236</td>\n",
       "      <td>http://www.coindesk.com/ieee-blockchain-oxford...</td>\n",
       "      <td>IEEE to Talk Blockchain at Cloud Computing Oxf...</td>\n",
       "      <td>One of the largest and oldest organizations fo...</td>\n",
       "      <td>IEEE to Talk Blockchain at Cloud Computing Oxf...</td>\n",
       "    </tr>\n",
       "  </tbody>\n",
       "</table>\n",
       "</div>"
      ],
      "text/plain": [
       "             contentId                                                url  \\\n",
       "1 -4110354420726924665  http://www.nytimes.com/2016/03/28/business/dea...   \n",
       "2 -7292285110016212249  http://cointelegraph.com/news/bitcoin-future-w...   \n",
       "3 -6151852268067518688  https://cloudplatform.googleblog.com/2016/03/G...   \n",
       "4  2448026894306402386  https://bitcoinmagazine.com/articles/ibm-wants...   \n",
       "5 -2826566343807132236  http://www.coindesk.com/ieee-blockchain-oxford...   \n",
       "\n",
       "                                               title  \\\n",
       "1  Ethereum, a Virtual Currency, Enables Transact...   \n",
       "2  Bitcoin Future: When GBPcoin of Branson Wins O...   \n",
       "3                       Google Data Center 360° Tour   \n",
       "4  IBM Wants to \"Evolve the Internet\" With Blockc...   \n",
       "5  IEEE to Talk Blockchain at Cloud Computing Oxf...   \n",
       "\n",
       "                                                text  \\\n",
       "1  All of this work is still very early. The firs...   \n",
       "2  The alarm clock wakes me at 8:00 with stream o...   \n",
       "3  We're excited to share the Google Data Center ...   \n",
       "4  The Aite Group projects the blockchain market ...   \n",
       "5  One of the largest and oldest organizations fo...   \n",
       "\n",
       "                                        text_content  \n",
       "1  Ethereum, a Virtual Currency, Enables Transact...  \n",
       "2  Bitcoin Future: When GBPcoin of Branson Wins O...  \n",
       "3  Google Data Center 360° Tour. We're excited to...  \n",
       "4  IBM Wants to \"Evolve the Internet\" With Blockc...  \n",
       "5  IEEE to Talk Blockchain at Cloud Computing Oxf...  "
      ]
     },
     "execution_count": 12,
     "metadata": {},
     "output_type": "execute_result"
    }
   ],
   "source": [
    "eng_shared_articles_df['text_content'] = eng_shared_articles_df[['title', 'text']].apply(lambda x: '. '.join(x), axis=1)\n",
    "eng_shared_articles_df.head()"
   ]
  },
  {
   "cell_type": "code",
   "execution_count": 13,
   "metadata": {},
   "outputs": [
    {
     "data": {
      "text/html": [
       "<div>\n",
       "<style scoped>\n",
       "    .dataframe tbody tr th:only-of-type {\n",
       "        vertical-align: middle;\n",
       "    }\n",
       "\n",
       "    .dataframe tbody tr th {\n",
       "        vertical-align: top;\n",
       "    }\n",
       "\n",
       "    .dataframe thead th {\n",
       "        text-align: right;\n",
       "    }\n",
       "</style>\n",
       "<table border=\"1\" class=\"dataframe\">\n",
       "  <thead>\n",
       "    <tr style=\"text-align: right;\">\n",
       "      <th></th>\n",
       "      <th>contentId</th>\n",
       "      <th>url</th>\n",
       "      <th>text_content</th>\n",
       "    </tr>\n",
       "  </thead>\n",
       "  <tbody>\n",
       "    <tr>\n",
       "      <th>1</th>\n",
       "      <td>-4110354420726924665</td>\n",
       "      <td>http://www.nytimes.com/2016/03/28/business/dea...</td>\n",
       "      <td>Ethereum, a Virtual Currency, Enables Transact...</td>\n",
       "    </tr>\n",
       "    <tr>\n",
       "      <th>2</th>\n",
       "      <td>-7292285110016212249</td>\n",
       "      <td>http://cointelegraph.com/news/bitcoin-future-w...</td>\n",
       "      <td>Bitcoin Future: When GBPcoin of Branson Wins O...</td>\n",
       "    </tr>\n",
       "    <tr>\n",
       "      <th>3</th>\n",
       "      <td>-6151852268067518688</td>\n",
       "      <td>https://cloudplatform.googleblog.com/2016/03/G...</td>\n",
       "      <td>Google Data Center 360° Tour. We're excited to...</td>\n",
       "    </tr>\n",
       "    <tr>\n",
       "      <th>4</th>\n",
       "      <td>2448026894306402386</td>\n",
       "      <td>https://bitcoinmagazine.com/articles/ibm-wants...</td>\n",
       "      <td>IBM Wants to \"Evolve the Internet\" With Blockc...</td>\n",
       "    </tr>\n",
       "    <tr>\n",
       "      <th>5</th>\n",
       "      <td>-2826566343807132236</td>\n",
       "      <td>http://www.coindesk.com/ieee-blockchain-oxford...</td>\n",
       "      <td>IEEE to Talk Blockchain at Cloud Computing Oxf...</td>\n",
       "    </tr>\n",
       "  </tbody>\n",
       "</table>\n",
       "</div>"
      ],
      "text/plain": [
       "             contentId                                                url  \\\n",
       "1 -4110354420726924665  http://www.nytimes.com/2016/03/28/business/dea...   \n",
       "2 -7292285110016212249  http://cointelegraph.com/news/bitcoin-future-w...   \n",
       "3 -6151852268067518688  https://cloudplatform.googleblog.com/2016/03/G...   \n",
       "4  2448026894306402386  https://bitcoinmagazine.com/articles/ibm-wants...   \n",
       "5 -2826566343807132236  http://www.coindesk.com/ieee-blockchain-oxford...   \n",
       "\n",
       "                                        text_content  \n",
       "1  Ethereum, a Virtual Currency, Enables Transact...  \n",
       "2  Bitcoin Future: When GBPcoin of Branson Wins O...  \n",
       "3  Google Data Center 360° Tour. We're excited to...  \n",
       "4  IBM Wants to \"Evolve the Internet\" With Blockc...  \n",
       "5  IEEE to Talk Blockchain at Cloud Computing Oxf...  "
      ]
     },
     "execution_count": 13,
     "metadata": {},
     "output_type": "execute_result"
    }
   ],
   "source": [
    "eng_shared_articles_df.drop(['title', 'text'], inplace=True, axis=1)\n",
    "eng_shared_articles_df.head()"
   ]
  },
  {
   "cell_type": "markdown",
   "metadata": {},
   "source": [
    "## Get Unique Text Content"
   ]
  },
  {
   "cell_type": "code",
   "execution_count": 14,
   "metadata": {},
   "outputs": [
    {
     "data": {
      "text/html": [
       "<div>\n",
       "<style scoped>\n",
       "    .dataframe tbody tr th:only-of-type {\n",
       "        vertical-align: middle;\n",
       "    }\n",
       "\n",
       "    .dataframe tbody tr th {\n",
       "        vertical-align: top;\n",
       "    }\n",
       "\n",
       "    .dataframe thead th {\n",
       "        text-align: right;\n",
       "    }\n",
       "</style>\n",
       "<table border=\"1\" class=\"dataframe\">\n",
       "  <thead>\n",
       "    <tr style=\"text-align: right;\">\n",
       "      <th></th>\n",
       "      <th>contentId</th>\n",
       "      <th>url</th>\n",
       "      <th>text_content</th>\n",
       "    </tr>\n",
       "  </thead>\n",
       "  <tbody>\n",
       "    <tr>\n",
       "      <th>1</th>\n",
       "      <td>-4110354420726924665</td>\n",
       "      <td>http://www.nytimes.com/2016/03/28/business/dea...</td>\n",
       "      <td>Ethereum, a Virtual Currency, Enables Transact...</td>\n",
       "    </tr>\n",
       "    <tr>\n",
       "      <th>2</th>\n",
       "      <td>-7292285110016212249</td>\n",
       "      <td>http://cointelegraph.com/news/bitcoin-future-w...</td>\n",
       "      <td>Bitcoin Future: When GBPcoin of Branson Wins O...</td>\n",
       "    </tr>\n",
       "    <tr>\n",
       "      <th>3</th>\n",
       "      <td>-6151852268067518688</td>\n",
       "      <td>https://cloudplatform.googleblog.com/2016/03/G...</td>\n",
       "      <td>Google Data Center 360° Tour. We're excited to...</td>\n",
       "    </tr>\n",
       "    <tr>\n",
       "      <th>4</th>\n",
       "      <td>2448026894306402386</td>\n",
       "      <td>https://bitcoinmagazine.com/articles/ibm-wants...</td>\n",
       "      <td>IBM Wants to \"Evolve the Internet\" With Blockc...</td>\n",
       "    </tr>\n",
       "    <tr>\n",
       "      <th>5</th>\n",
       "      <td>-2826566343807132236</td>\n",
       "      <td>http://www.coindesk.com/ieee-blockchain-oxford...</td>\n",
       "      <td>IEEE to Talk Blockchain at Cloud Computing Oxf...</td>\n",
       "    </tr>\n",
       "  </tbody>\n",
       "</table>\n",
       "</div>"
      ],
      "text/plain": [
       "             contentId                                                url  \\\n",
       "1 -4110354420726924665  http://www.nytimes.com/2016/03/28/business/dea...   \n",
       "2 -7292285110016212249  http://cointelegraph.com/news/bitcoin-future-w...   \n",
       "3 -6151852268067518688  https://cloudplatform.googleblog.com/2016/03/G...   \n",
       "4  2448026894306402386  https://bitcoinmagazine.com/articles/ibm-wants...   \n",
       "5 -2826566343807132236  http://www.coindesk.com/ieee-blockchain-oxford...   \n",
       "\n",
       "                                        text_content  \n",
       "1  Ethereum, a Virtual Currency, Enables Transact...  \n",
       "2  Bitcoin Future: When GBPcoin of Branson Wins O...  \n",
       "3  Google Data Center 360° Tour. We're excited to...  \n",
       "4  IBM Wants to \"Evolve the Internet\" With Blockc...  \n",
       "5  IEEE to Talk Blockchain at Cloud Computing Oxf...  "
      ]
     },
     "execution_count": 14,
     "metadata": {},
     "output_type": "execute_result"
    }
   ],
   "source": [
    "eng_shared_articles_df.head()"
   ]
  },
  {
   "cell_type": "markdown",
   "metadata": {},
   "source": [
    "### Multiple ContentIds, Urls for Text_Content"
   ]
  },
  {
   "cell_type": "code",
   "execution_count": 15,
   "metadata": {},
   "outputs": [
    {
     "data": {
      "text/plain": [
       "(2211, 2191, 2185)"
      ]
     },
     "execution_count": 15,
     "metadata": {},
     "output_type": "execute_result"
    }
   ],
   "source": [
    "len(eng_shared_articles_df['contentId'].unique()), len(eng_shared_articles_df['url'].unique()), len(eng_shared_articles_df['text_content'].unique())"
   ]
  },
  {
   "cell_type": "code",
   "execution_count": 16,
   "metadata": {},
   "outputs": [
    {
     "data": {
      "text/plain": [
       "(2191, 2)"
      ]
     },
     "execution_count": 16,
     "metadata": {},
     "output_type": "execute_result"
    }
   ],
   "source": [
    "url_contents_df = eng_shared_articles_df[['url', 'text_content']].drop_duplicates()\n",
    "url_contents_df.shape"
   ]
  },
  {
   "cell_type": "code",
   "execution_count": 17,
   "metadata": {},
   "outputs": [
    {
     "data": {
      "text/html": [
       "<div>\n",
       "<style scoped>\n",
       "    .dataframe tbody tr th:only-of-type {\n",
       "        vertical-align: middle;\n",
       "    }\n",
       "\n",
       "    .dataframe tbody tr th {\n",
       "        vertical-align: top;\n",
       "    }\n",
       "\n",
       "    .dataframe thead th {\n",
       "        text-align: right;\n",
       "    }\n",
       "</style>\n",
       "<table border=\"1\" class=\"dataframe\">\n",
       "  <thead>\n",
       "    <tr style=\"text-align: right;\">\n",
       "      <th></th>\n",
       "      <th>url</th>\n",
       "      <th>text_content</th>\n",
       "    </tr>\n",
       "  </thead>\n",
       "  <tbody>\n",
       "    <tr>\n",
       "      <th>1</th>\n",
       "      <td>http://www.nytimes.com/2016/03/28/business/dea...</td>\n",
       "      <td>Ethereum, a Virtual Currency, Enables Transact...</td>\n",
       "    </tr>\n",
       "    <tr>\n",
       "      <th>2</th>\n",
       "      <td>http://cointelegraph.com/news/bitcoin-future-w...</td>\n",
       "      <td>Bitcoin Future: When GBPcoin of Branson Wins O...</td>\n",
       "    </tr>\n",
       "    <tr>\n",
       "      <th>3</th>\n",
       "      <td>https://cloudplatform.googleblog.com/2016/03/G...</td>\n",
       "      <td>Google Data Center 360° Tour. We're excited to...</td>\n",
       "    </tr>\n",
       "    <tr>\n",
       "      <th>4</th>\n",
       "      <td>https://bitcoinmagazine.com/articles/ibm-wants...</td>\n",
       "      <td>IBM Wants to \"Evolve the Internet\" With Blockc...</td>\n",
       "    </tr>\n",
       "    <tr>\n",
       "      <th>5</th>\n",
       "      <td>http://www.coindesk.com/ieee-blockchain-oxford...</td>\n",
       "      <td>IEEE to Talk Blockchain at Cloud Computing Oxf...</td>\n",
       "    </tr>\n",
       "  </tbody>\n",
       "</table>\n",
       "</div>"
      ],
      "text/plain": [
       "                                                 url  \\\n",
       "1  http://www.nytimes.com/2016/03/28/business/dea...   \n",
       "2  http://cointelegraph.com/news/bitcoin-future-w...   \n",
       "3  https://cloudplatform.googleblog.com/2016/03/G...   \n",
       "4  https://bitcoinmagazine.com/articles/ibm-wants...   \n",
       "5  http://www.coindesk.com/ieee-blockchain-oxford...   \n",
       "\n",
       "                                        text_content  \n",
       "1  Ethereum, a Virtual Currency, Enables Transact...  \n",
       "2  Bitcoin Future: When GBPcoin of Branson Wins O...  \n",
       "3  Google Data Center 360° Tour. We're excited to...  \n",
       "4  IBM Wants to \"Evolve the Internet\" With Blockc...  \n",
       "5  IEEE to Talk Blockchain at Cloud Computing Oxf...  "
      ]
     },
     "execution_count": 17,
     "metadata": {},
     "output_type": "execute_result"
    }
   ],
   "source": [
    "url_contents_df.head()"
   ]
  },
  {
   "cell_type": "code",
   "execution_count": 18,
   "metadata": {},
   "outputs": [
    {
     "data": {
      "text/plain": [
       "(2191, 2185)"
      ]
     },
     "execution_count": 18,
     "metadata": {},
     "output_type": "execute_result"
    }
   ],
   "source": [
    "len(url_contents_df['url'].unique()), len(url_contents_df['text_content'].unique())"
   ]
  },
  {
   "cell_type": "code",
   "execution_count": 19,
   "metadata": {},
   "outputs": [
    {
     "data": {
      "text/plain": [
       "6"
      ]
     },
     "execution_count": 19,
     "metadata": {},
     "output_type": "execute_result"
    }
   ],
   "source": [
    "len(url_contents_df['url'].unique()) - len(url_contents_df['text_content'].unique())"
   ]
  },
  {
   "cell_type": "markdown",
   "metadata": {},
   "source": [
    "### Multiple Urls for Text Content"
   ]
  },
  {
   "cell_type": "code",
   "execution_count": 20,
   "metadata": {},
   "outputs": [
    {
     "name": "stdout",
     "output_type": "stream",
     "text": [
      "['http://android-developers.blogspot.com.br/2016/04/android-n-developer-preview-2-out-today.html',\n",
      " 'http://android-developers.blogspot.com/2016/04/android-n-developer-preview-2-out-today.html']\n",
      "['https://www.oreilly.com/learning/how-to-build-a-robot-that-sees-with-100-and-tensorflow?twitter=@bigdata&utm_source=hackernewsletter&utm_medium=email&utm_term=fav',\n",
      " 'https://www.oreilly.com/learning/how-to-build-a-robot-that-sees-with-100-and-tensorflow']\n",
      "['https://www.blog.google/products/g-suite/introducing-google-cloud-search-g-suite/',\n",
      " 'https://blog.google/products/g-suite/introducing-google-cloud-search-g-suite/']\n",
      "['https://www.ted.com/talks/linus_torvalds_the_mind_behind_linux',\n",
      " 'http://www.ted.com/talks/linus_torvalds_the_mind_behind_linux']\n",
      "['https://www.thinkwithgoogle.com/articles/youtube-empowering-ads-engage.html?utm_source=Gplus&utm_medium=social&utm_campaign=Think',\n",
      " 'https://www.thinkwithgoogle.com/articles/youtube-empowering-ads-engage.html?utm_medium=email-d&utm_source=2016-06-think-letter&utm_campaign=20160606-think-letter-weekly-insight-a-OT-OT-CS&utm_content=Video-img&mkt_tok=eyJpIjoiTm1WaVpHTm1ORFExWkRKaiIsInQiOiJpSTJNQW5VOXlTTmpkaU83K1NiRDA1RW03bkFvaEpRSFJQd3JrNGN5RFZ4ZUpUXC9XXC9JaG1raXRiaTRsVHc2RkdcL250aUtsR2EzSW1ldGZlY0Rpc2xJdWJaMDhNYUNXZ3ZOSGsraUVyalFubz0ifQ%3D%3D']\n",
      "['https://hbr.org/2016/11/the-competitive-landscape-for-machine-intelligence',\n",
      " 'https://hbr.org/2016/11/the-competitive-landscape-for-machine-intelligence?']\n"
     ]
    }
   ],
   "source": [
    "content_urls = url_contents_df.groupby('text_content').apply(lambda x : list(x['url'].unique()))\n",
    "for content in content_urls.index:\n",
    "    if len(content_urls[content]) > 1:\n",
    "        #print(content)\n",
    "        pprint(content_urls[content])"
   ]
  },
  {
   "cell_type": "code",
   "execution_count": 21,
   "metadata": {},
   "outputs": [
    {
     "data": {
      "text/plain": [
       "(2185, 2)"
      ]
     },
     "execution_count": 21,
     "metadata": {},
     "output_type": "execute_result"
    }
   ],
   "source": [
    "eng_shared_articles_content_df = eng_shared_articles_df['text_content'].drop_duplicates()\\\n",
    "                                                                       .reset_index()\\\n",
    "                                                                       .rename(columns={'index' : 'text_content_id'})\n",
    "eng_shared_articles_content_df.shape"
   ]
  },
  {
   "cell_type": "code",
   "execution_count": 22,
   "metadata": {},
   "outputs": [
    {
     "data": {
      "text/html": [
       "<div>\n",
       "<style scoped>\n",
       "    .dataframe tbody tr th:only-of-type {\n",
       "        vertical-align: middle;\n",
       "    }\n",
       "\n",
       "    .dataframe tbody tr th {\n",
       "        vertical-align: top;\n",
       "    }\n",
       "\n",
       "    .dataframe thead th {\n",
       "        text-align: right;\n",
       "    }\n",
       "</style>\n",
       "<table border=\"1\" class=\"dataframe\">\n",
       "  <thead>\n",
       "    <tr style=\"text-align: right;\">\n",
       "      <th></th>\n",
       "      <th>text_content_id</th>\n",
       "      <th>text_content</th>\n",
       "    </tr>\n",
       "  </thead>\n",
       "  <tbody>\n",
       "    <tr>\n",
       "      <th>0</th>\n",
       "      <td>1</td>\n",
       "      <td>Ethereum, a Virtual Currency, Enables Transact...</td>\n",
       "    </tr>\n",
       "    <tr>\n",
       "      <th>1</th>\n",
       "      <td>2</td>\n",
       "      <td>Bitcoin Future: When GBPcoin of Branson Wins O...</td>\n",
       "    </tr>\n",
       "    <tr>\n",
       "      <th>2</th>\n",
       "      <td>3</td>\n",
       "      <td>Google Data Center 360° Tour. We're excited to...</td>\n",
       "    </tr>\n",
       "    <tr>\n",
       "      <th>3</th>\n",
       "      <td>4</td>\n",
       "      <td>IBM Wants to \"Evolve the Internet\" With Blockc...</td>\n",
       "    </tr>\n",
       "    <tr>\n",
       "      <th>4</th>\n",
       "      <td>5</td>\n",
       "      <td>IEEE to Talk Blockchain at Cloud Computing Oxf...</td>\n",
       "    </tr>\n",
       "  </tbody>\n",
       "</table>\n",
       "</div>"
      ],
      "text/plain": [
       "   text_content_id                                       text_content\n",
       "0                1  Ethereum, a Virtual Currency, Enables Transact...\n",
       "1                2  Bitcoin Future: When GBPcoin of Branson Wins O...\n",
       "2                3  Google Data Center 360° Tour. We're excited to...\n",
       "3                4  IBM Wants to \"Evolve the Internet\" With Blockc...\n",
       "4                5  IEEE to Talk Blockchain at Cloud Computing Oxf..."
      ]
     },
     "execution_count": 22,
     "metadata": {},
     "output_type": "execute_result"
    }
   ],
   "source": [
    "eng_shared_articles_content_df.head()"
   ]
  },
  {
   "cell_type": "code",
   "execution_count": 23,
   "metadata": {},
   "outputs": [
    {
     "data": {
      "text/html": [
       "<div>\n",
       "<style scoped>\n",
       "    .dataframe tbody tr th:only-of-type {\n",
       "        vertical-align: middle;\n",
       "    }\n",
       "\n",
       "    .dataframe tbody tr th {\n",
       "        vertical-align: top;\n",
       "    }\n",
       "\n",
       "    .dataframe thead th {\n",
       "        text-align: right;\n",
       "    }\n",
       "</style>\n",
       "<table border=\"1\" class=\"dataframe\">\n",
       "  <thead>\n",
       "    <tr style=\"text-align: right;\">\n",
       "      <th></th>\n",
       "      <th>contentId</th>\n",
       "      <th>url</th>\n",
       "      <th>text_content</th>\n",
       "      <th>text_content_id</th>\n",
       "    </tr>\n",
       "  </thead>\n",
       "  <tbody>\n",
       "    <tr>\n",
       "      <th>0</th>\n",
       "      <td>-4110354420726924665</td>\n",
       "      <td>http://www.nytimes.com/2016/03/28/business/dea...</td>\n",
       "      <td>Ethereum, a Virtual Currency, Enables Transact...</td>\n",
       "      <td>1</td>\n",
       "    </tr>\n",
       "    <tr>\n",
       "      <th>1</th>\n",
       "      <td>-7292285110016212249</td>\n",
       "      <td>http://cointelegraph.com/news/bitcoin-future-w...</td>\n",
       "      <td>Bitcoin Future: When GBPcoin of Branson Wins O...</td>\n",
       "      <td>2</td>\n",
       "    </tr>\n",
       "    <tr>\n",
       "      <th>2</th>\n",
       "      <td>-6151852268067518688</td>\n",
       "      <td>https://cloudplatform.googleblog.com/2016/03/G...</td>\n",
       "      <td>Google Data Center 360° Tour. We're excited to...</td>\n",
       "      <td>3</td>\n",
       "    </tr>\n",
       "    <tr>\n",
       "      <th>3</th>\n",
       "      <td>2448026894306402386</td>\n",
       "      <td>https://bitcoinmagazine.com/articles/ibm-wants...</td>\n",
       "      <td>IBM Wants to \"Evolve the Internet\" With Blockc...</td>\n",
       "      <td>4</td>\n",
       "    </tr>\n",
       "    <tr>\n",
       "      <th>4</th>\n",
       "      <td>-2826566343807132236</td>\n",
       "      <td>http://www.coindesk.com/ieee-blockchain-oxford...</td>\n",
       "      <td>IEEE to Talk Blockchain at Cloud Computing Oxf...</td>\n",
       "      <td>5</td>\n",
       "    </tr>\n",
       "  </tbody>\n",
       "</table>\n",
       "</div>"
      ],
      "text/plain": [
       "             contentId                                                url  \\\n",
       "0 -4110354420726924665  http://www.nytimes.com/2016/03/28/business/dea...   \n",
       "1 -7292285110016212249  http://cointelegraph.com/news/bitcoin-future-w...   \n",
       "2 -6151852268067518688  https://cloudplatform.googleblog.com/2016/03/G...   \n",
       "3  2448026894306402386  https://bitcoinmagazine.com/articles/ibm-wants...   \n",
       "4 -2826566343807132236  http://www.coindesk.com/ieee-blockchain-oxford...   \n",
       "\n",
       "                                        text_content  text_content_id  \n",
       "0  Ethereum, a Virtual Currency, Enables Transact...                1  \n",
       "1  Bitcoin Future: When GBPcoin of Branson Wins O...                2  \n",
       "2  Google Data Center 360° Tour. We're excited to...                3  \n",
       "3  IBM Wants to \"Evolve the Internet\" With Blockc...                4  \n",
       "4  IEEE to Talk Blockchain at Cloud Computing Oxf...                5  "
      ]
     },
     "execution_count": 23,
     "metadata": {},
     "output_type": "execute_result"
    }
   ],
   "source": [
    "eng_shared_articles_text_id_df = eng_shared_articles_df.merge(eng_shared_articles_content_df)\n",
    "eng_shared_articles_text_id_df.head()"
   ]
  },
  {
   "cell_type": "code",
   "execution_count": 24,
   "metadata": {},
   "outputs": [
    {
     "data": {
      "text/plain": [
       "337     4\n",
       "80      4\n",
       "618     3\n",
       "723     2\n",
       "838     2\n",
       "       ..\n",
       "489     1\n",
       "491     1\n",
       "2540    1\n",
       "493     1\n",
       "2       1\n",
       "Name: text_content_id, Length: 2185, dtype: int64"
      ]
     },
     "execution_count": 24,
     "metadata": {},
     "output_type": "execute_result"
    }
   ],
   "source": [
    "eng_shared_articles_text_id_df['text_content_id'].value_counts()"
   ]
  },
  {
   "cell_type": "code",
   "execution_count": 25,
   "metadata": {},
   "outputs": [
    {
     "data": {
      "text/html": [
       "<div>\n",
       "<style scoped>\n",
       "    .dataframe tbody tr th:only-of-type {\n",
       "        vertical-align: middle;\n",
       "    }\n",
       "\n",
       "    .dataframe tbody tr th {\n",
       "        vertical-align: top;\n",
       "    }\n",
       "\n",
       "    .dataframe thead th {\n",
       "        text-align: right;\n",
       "    }\n",
       "</style>\n",
       "<table border=\"1\" class=\"dataframe\">\n",
       "  <thead>\n",
       "    <tr style=\"text-align: right;\">\n",
       "      <th></th>\n",
       "      <th>contentId</th>\n",
       "      <th>url</th>\n",
       "      <th>text_content</th>\n",
       "      <th>text_content_id</th>\n",
       "    </tr>\n",
       "  </thead>\n",
       "  <tbody>\n",
       "    <tr>\n",
       "      <th>280</th>\n",
       "      <td>8160885002406274828</td>\n",
       "      <td>https://medium.com/quality-functions/preventin...</td>\n",
       "      <td>Preventing Software Bugs from Ever Occurring -...</td>\n",
       "      <td>337</td>\n",
       "    </tr>\n",
       "    <tr>\n",
       "      <th>281</th>\n",
       "      <td>-4248528062574538011</td>\n",
       "      <td>https://medium.com/quality-functions/preventin...</td>\n",
       "      <td>Preventing Software Bugs from Ever Occurring -...</td>\n",
       "      <td>337</td>\n",
       "    </tr>\n",
       "    <tr>\n",
       "      <th>282</th>\n",
       "      <td>-3265730906936163775</td>\n",
       "      <td>https://medium.com/quality-functions/preventin...</td>\n",
       "      <td>Preventing Software Bugs from Ever Occurring -...</td>\n",
       "      <td>337</td>\n",
       "    </tr>\n",
       "    <tr>\n",
       "      <th>283</th>\n",
       "      <td>2824996248683640175</td>\n",
       "      <td>https://medium.com/quality-functions/preventin...</td>\n",
       "      <td>Preventing Software Bugs from Ever Occurring -...</td>\n",
       "      <td>337</td>\n",
       "    </tr>\n",
       "  </tbody>\n",
       "</table>\n",
       "</div>"
      ],
      "text/plain": [
       "               contentId                                                url  \\\n",
       "280  8160885002406274828  https://medium.com/quality-functions/preventin...   \n",
       "281 -4248528062574538011  https://medium.com/quality-functions/preventin...   \n",
       "282 -3265730906936163775  https://medium.com/quality-functions/preventin...   \n",
       "283  2824996248683640175  https://medium.com/quality-functions/preventin...   \n",
       "\n",
       "                                          text_content  text_content_id  \n",
       "280  Preventing Software Bugs from Ever Occurring -...              337  \n",
       "281  Preventing Software Bugs from Ever Occurring -...              337  \n",
       "282  Preventing Software Bugs from Ever Occurring -...              337  \n",
       "283  Preventing Software Bugs from Ever Occurring -...              337  "
      ]
     },
     "execution_count": 25,
     "metadata": {},
     "output_type": "execute_result"
    }
   ],
   "source": [
    "eng_shared_articles_text_id_df[eng_shared_articles_text_id_df['text_content_id'] == 337]"
   ]
  },
  {
   "cell_type": "markdown",
   "metadata": {},
   "source": [
    "## Extract Topics of Articles"
   ]
  },
  {
   "cell_type": "code",
   "execution_count": 26,
   "metadata": {},
   "outputs": [
    {
     "data": {
      "text/plain": [
       "(2185, 2)"
      ]
     },
     "execution_count": 26,
     "metadata": {},
     "output_type": "execute_result"
    }
   ],
   "source": [
    "eng_shared_articles_content_df.shape"
   ]
  },
  {
   "cell_type": "code",
   "execution_count": 27,
   "metadata": {},
   "outputs": [
    {
     "data": {
      "text/html": [
       "<div>\n",
       "<style scoped>\n",
       "    .dataframe tbody tr th:only-of-type {\n",
       "        vertical-align: middle;\n",
       "    }\n",
       "\n",
       "    .dataframe tbody tr th {\n",
       "        vertical-align: top;\n",
       "    }\n",
       "\n",
       "    .dataframe thead th {\n",
       "        text-align: right;\n",
       "    }\n",
       "</style>\n",
       "<table border=\"1\" class=\"dataframe\">\n",
       "  <thead>\n",
       "    <tr style=\"text-align: right;\">\n",
       "      <th></th>\n",
       "      <th>text_content_id</th>\n",
       "      <th>text_content</th>\n",
       "    </tr>\n",
       "  </thead>\n",
       "  <tbody>\n",
       "    <tr>\n",
       "      <th>0</th>\n",
       "      <td>1</td>\n",
       "      <td>Ethereum, a Virtual Currency, Enables Transact...</td>\n",
       "    </tr>\n",
       "    <tr>\n",
       "      <th>1</th>\n",
       "      <td>2</td>\n",
       "      <td>Bitcoin Future: When GBPcoin of Branson Wins O...</td>\n",
       "    </tr>\n",
       "    <tr>\n",
       "      <th>2</th>\n",
       "      <td>3</td>\n",
       "      <td>Google Data Center 360° Tour. We're excited to...</td>\n",
       "    </tr>\n",
       "    <tr>\n",
       "      <th>3</th>\n",
       "      <td>4</td>\n",
       "      <td>IBM Wants to \"Evolve the Internet\" With Blockc...</td>\n",
       "    </tr>\n",
       "    <tr>\n",
       "      <th>4</th>\n",
       "      <td>5</td>\n",
       "      <td>IEEE to Talk Blockchain at Cloud Computing Oxf...</td>\n",
       "    </tr>\n",
       "  </tbody>\n",
       "</table>\n",
       "</div>"
      ],
      "text/plain": [
       "   text_content_id                                       text_content\n",
       "0                1  Ethereum, a Virtual Currency, Enables Transact...\n",
       "1                2  Bitcoin Future: When GBPcoin of Branson Wins O...\n",
       "2                3  Google Data Center 360° Tour. We're excited to...\n",
       "3                4  IBM Wants to \"Evolve the Internet\" With Blockc...\n",
       "4                5  IEEE to Talk Blockchain at Cloud Computing Oxf..."
      ]
     },
     "execution_count": 27,
     "metadata": {},
     "output_type": "execute_result"
    }
   ],
   "source": [
    "eng_shared_articles_content_df.head()"
   ]
  },
  {
   "cell_type": "code",
   "execution_count": 28,
   "metadata": {},
   "outputs": [],
   "source": [
    "eng_shared_articles_content_df.loc[:, 'processed_text'] = eng_shared_articles_content_df['text_content'].apply(lemmatize_spacy)"
   ]
  },
  {
   "cell_type": "code",
   "execution_count": 29,
   "metadata": {},
   "outputs": [
    {
     "data": {
      "text/html": [
       "<div>\n",
       "<style scoped>\n",
       "    .dataframe tbody tr th:only-of-type {\n",
       "        vertical-align: middle;\n",
       "    }\n",
       "\n",
       "    .dataframe tbody tr th {\n",
       "        vertical-align: top;\n",
       "    }\n",
       "\n",
       "    .dataframe thead th {\n",
       "        text-align: right;\n",
       "    }\n",
       "</style>\n",
       "<table border=\"1\" class=\"dataframe\">\n",
       "  <thead>\n",
       "    <tr style=\"text-align: right;\">\n",
       "      <th></th>\n",
       "      <th>text_content_id</th>\n",
       "      <th>text_content</th>\n",
       "      <th>processed_text</th>\n",
       "    </tr>\n",
       "  </thead>\n",
       "  <tbody>\n",
       "    <tr>\n",
       "      <th>0</th>\n",
       "      <td>1</td>\n",
       "      <td>Ethereum, a Virtual Currency, Enables Transact...</td>\n",
       "      <td>Ethereum a Virtual Currency Enables Transactio...</td>\n",
       "    </tr>\n",
       "    <tr>\n",
       "      <th>1</th>\n",
       "      <td>2</td>\n",
       "      <td>Bitcoin Future: When GBPcoin of Branson Wins O...</td>\n",
       "      <td>Bitcoin Future when GBPcoin of Branson Wins ov...</td>\n",
       "    </tr>\n",
       "    <tr>\n",
       "      <th>2</th>\n",
       "      <td>3</td>\n",
       "      <td>Google Data Center 360° Tour. We're excited to...</td>\n",
       "      <td>Google Data Center Tour We be excite to share ...</td>\n",
       "    </tr>\n",
       "    <tr>\n",
       "      <th>3</th>\n",
       "      <td>4</td>\n",
       "      <td>IBM Wants to \"Evolve the Internet\" With Blockc...</td>\n",
       "      <td>IBM want to evolve the internet with Blockchai...</td>\n",
       "    </tr>\n",
       "    <tr>\n",
       "      <th>4</th>\n",
       "      <td>5</td>\n",
       "      <td>IEEE to Talk Blockchain at Cloud Computing Oxf...</td>\n",
       "      <td>ieee to talk Blockchain at Cloud Computing Oxf...</td>\n",
       "    </tr>\n",
       "  </tbody>\n",
       "</table>\n",
       "</div>"
      ],
      "text/plain": [
       "   text_content_id                                       text_content  \\\n",
       "0                1  Ethereum, a Virtual Currency, Enables Transact...   \n",
       "1                2  Bitcoin Future: When GBPcoin of Branson Wins O...   \n",
       "2                3  Google Data Center 360° Tour. We're excited to...   \n",
       "3                4  IBM Wants to \"Evolve the Internet\" With Blockc...   \n",
       "4                5  IEEE to Talk Blockchain at Cloud Computing Oxf...   \n",
       "\n",
       "                                      processed_text  \n",
       "0  Ethereum a Virtual Currency Enables Transactio...  \n",
       "1  Bitcoin Future when GBPcoin of Branson Wins ov...  \n",
       "2  Google Data Center Tour We be excite to share ...  \n",
       "3  IBM want to evolve the internet with Blockchai...  \n",
       "4  ieee to talk Blockchain at Cloud Computing Oxf...  "
      ]
     },
     "execution_count": 29,
     "metadata": {},
     "output_type": "execute_result"
    }
   ],
   "source": [
    "eng_shared_articles_content_df.head()"
   ]
  },
  {
   "cell_type": "code",
   "execution_count": 30,
   "metadata": {
    "code_folding": [
     0
    ]
   },
   "outputs": [],
   "source": [
    "# bow_lda_pipeline = Pipeline(steps=[('vectorizer', CountVectorizer()),\n",
    "#                                    ('dim_reduce', LatentDirichletAllocation())\n",
    "#                               ])\n",
    "\n",
    "# bow_lda_pipeline_params = {\n",
    "#     'vectorizer__strip_accents': 'unicode',\n",
    "#     'vectorizer__stop_words': 'english',\n",
    "#     'vectorizer__lowercase': True,\n",
    "#     'vectorizer__token_pattern': r'\\b[a-zA-Z]{3,}\\b',\n",
    "#     'vectorizer__min_df': 5,\n",
    "#     'vectorizer__max_df': 0.5,\n",
    "    \n",
    "#     'dim_reduce__n_components': 30,\n",
    "#     'dim_reduce__random_state': 0\n",
    "# }\n",
    "# bow_lda_pipeline.set_params(**bow_lda_pipeline_params)\n",
    "\n",
    "# start_time = default_timer()\n",
    "# bow_lda_pipeline.fit(eng_shared_articles_content_df['text_content'])\n",
    "# end_time = default_timer()\n",
    "\n",
    "# time_taken_str = convert_sec(end_time - start_time)\n",
    "# print(\"Time Taken : {}\".format(time_taken_str))\n",
    "\n",
    "\n",
    "# start_time = default_timer()\n",
    "# pyLDAvis.sklearn.prepare(bow_lda_pipeline.named_steps['dim_reduce'], \n",
    "#                          bow_lda_pipeline.named_steps['vectorizer'].fit_transform(eng_shared_articles_content_df['text_content']), \n",
    "#                          bow_lda_pipeline.named_steps['vectorizer'])\n",
    "# end_time = default_timer()\n",
    "\n",
    "# time_taken_str = convert_sec(end_time - start_time)\n",
    "# print(\"Time Taken : {}\".format(time_taken_str))"
   ]
  },
  {
   "cell_type": "code",
   "execution_count": 31,
   "metadata": {
    "code_folding": []
   },
   "outputs": [],
   "source": [
    "def get_topics(model, feature_names, n_top_words=10):\n",
    "    topics_df = pd.DataFrame(model.components_, columns=feature_names)   \n",
    "    topics = dict()\n",
    "    for i, topic_words in topics_df.iterrows():\n",
    "        topic_id_str = 'topic_' + str(i)        \n",
    "        topic_words_dict = topic_words.sort_values(ascending=False).head(n_top_words).to_dict()\n",
    "        topic_words_str = ', '.join(['#'+str(word) for word in topic_words_dict.keys()])\n",
    "        print(topic_id_str + \" : \" + topic_words_str)\n",
    "        topics[topic_id_str] = dict()\n",
    "        topics[topic_id_str]['words_str'] = topic_words_str\n",
    "        topics[topic_id_str]['words'] = topic_words_dict\n",
    "    return topics"
   ]
  },
  {
   "cell_type": "markdown",
   "metadata": {},
   "source": [
    "### Term Frequency LDA"
   ]
  },
  {
   "cell_type": "code",
   "execution_count": 37,
   "metadata": {},
   "outputs": [
    {
     "name": "stdout",
     "output_type": "stream",
     "text": [
      "Time Taken : 27.4318    sec\n",
      "topic_0 : #woman, #country, #brazil, #black, #music, #trend, #quantum, #plague, #death, #america\n",
      "topic_1 : #software, #change, #project, #build, #development, #process, #agile, #organization, #service, #developer\n",
      "topic_2 : #product, #company, #business, #people, #design, #digital, #service, #build, #platform, #experience\n",
      "topic_3 : #drupal, #module, #content, #acquia, #community, #support, #build, #developer, #commerce, #feature\n",
      "topic_4 : #machine, #learning, #datum, #learn, #model, #image, #human, #intelligence, #computer, #algorithm\n",
      "topic_5 : #customer, #company, #technology, #datum, #digital, #blockchain, #business, #bitcoin, #service, #industry\n",
      "topic_6 : #datum, #example, #method, #event, #function, #write, #value, #create, #result, #class\n",
      "topic_7 : #password, #token, #kotlin, #field, #label, #place, #swarm, #aggregation, #value, #google\n",
      "topic_8 : #google, #android, #facebook, #developer, #search, #windows, #content, #create, #message, #mobile\n",
      "topic_9 : #docker, #container, #command, #build, #image, #version, #server, #start, #application, #create\n",
      "topic_10 : #apple, #people, #thing, #company, #email, #device, #think, #phone, #feature, #microsoft\n",
      "topic_11 : #language, #people, #write, #think, #thing, #story, #change, #learn, #world, #really\n",
      "topic_12 : #payment, #account, #store, #customer, #consumer, #online, #credit, #retailer, #wallet, #chart\n",
      "topic_13 : #cloud, #google, #service, #application, #platform, #datum, #server, #instance, #support, #network\n",
      "topic_14 : #mobile, #people, #experience, #thing, #website, #start, #world, #sound, #content, #think\n"
     ]
    }
   ],
   "source": [
    "tf_vectorizer = CountVectorizer(strip_accents = 'ascii',\n",
    "                                stop_words = 'english',\n",
    "                                lowercase = True,\n",
    "                                analyzer = 'word',\n",
    "                                token_pattern = r'\\b[a-zA-Z]{5,}\\b',\n",
    "                                ngram_range = (1, 1),\n",
    "                                max_df = 0.8, min_df = 1)\n",
    "lda_tf = LatentDirichletAllocation(n_components=15, n_jobs=-1, random_state=0)\n",
    "\n",
    "start_time = default_timer()\n",
    "\n",
    "dtm_tf = tf_vectorizer.fit_transform(eng_shared_articles_content_df['processed_text'])\n",
    "lda_tf.fit(dtm_tf)\n",
    "\n",
    "end_time = default_timer()\n",
    "time_taken_str = convert_sec(end_time - start_time)\n",
    "print(\"Time Taken : {}\".format(time_taken_str))\n",
    "\n",
    "tf_feature_names = tf_vectorizer.get_feature_names()\n",
    "topics = get_topics(lda_tf, tf_feature_names, n_top_words=10)\n",
    "\n",
    "# n_components=5\n",
    "# Time Taken : 10.7162    sec\n",
    "# topic_0 : #people, #world, #woman, #company, #country, #think, #thing, #million, #space, #write\n",
    "# topic_1 : #change, #build, #create, #datum, #example, #application, #write, #project, #event, #start\n",
    "# topic_2 : #google, #cloud, #service, #apple, #platform, #company, #android, #developer, #product, #device\n",
    "# topic_3 : #company, #customer, #business, #product, #digital, #technology, #drupal, #experience, #datum, #organization\n",
    "# topic_4 : #machine, #datum, #learn, #learning, #people, #model, #thing, #image, #human, #think\n",
    "\n",
    "# n_components=10\n",
    "# Time Taken : 14.4023    sec\n",
    "# topic_0 : #woman, #people, #country, #world, #music, #black, #space, #brazil, #america, #write\n",
    "# topic_1 : #software, #change, #project, #build, #process, #development, #design, #organization, #people, #agile\n",
    "# topic_2 : #google, #apple, #product, #company, #cloud, #platform, #android, #service, #developer, #build\n",
    "# topic_3 : #drupal, #module, #content, #acquia, #commerce, #feature, #build, #service, #support, #vehicle\n",
    "# topic_4 : #machine, #learning, #learn, #datum, #people, #human, #computer, #thing, #google, #image\n",
    "# topic_5 : #company, #customer, #digital, #business, #technology, #datum, #product, #blockchain, #market, #experience\n",
    "# topic_6 : #datum, #example, #event, #write, #method, #function, #value, #class, #result, #create\n",
    "# topic_7 : #cloud, #google, #mobile, #docker, #application, #storage, #device, #security, #datum, #password\n",
    "# topic_8 : #google, #service, #create, #instance, #cloud, #message, #datum, #update, #windows, #application\n",
    "# topic_9 : #docker, #build, #container, #image, #command, #start, #version, #server, #support, #application\n",
    "    \n",
    "# n_components = 15\n",
    "# Time Taken : 23.2102    sec\n",
    "# topic_0 : #woman, #country, #brazil, #black, #music, #trend, #quantum, #plague, #death, #america\n",
    "# topic_1 : #software, #change, #project, #build, #development, #process, #agile, #organization, #service, #developer\n",
    "# topic_2 : #product, #company, #business, #people, #design, #digital, #service, #build, #platform, #experience\n",
    "# topic_3 : #drupal, #module, #content, #acquia, #community, #support, #build, #developer, #commerce, #feature\n",
    "# topic_4 : #machine, #learning, #datum, #learn, #model, #image, #human, #intelligence, #computer, #algorithm\n",
    "# topic_5 : #customer, #company, #technology, #datum, #digital, #blockchain, #business, #bitcoin, #service, #industry\n",
    "# topic_6 : #datum, #example, #method, #event, #function, #write, #value, #create, #result, #class\n",
    "# topic_7 : #password, #token, #kotlin, #field, #label, #place, #swarm, #aggregation, #value, #google\n",
    "# topic_8 : #google, #android, #facebook, #developer, #search, #windows, #content, #create, #message, #mobile\n",
    "# topic_9 : #docker, #container, #command, #build, #image, #version, #server, #start, #application, #create\n",
    "# topic_10 : #apple, #people, #thing, #company, #email, #device, #think, #phone, #feature, #microsoft\n",
    "# topic_11 : #language, #people, #write, #think, #thing, #story, #change, #learn, #world, #really\n",
    "# topic_12 : #payment, #account, #store, #customer, #consumer, #online, #credit, #retailer, #wallet, #chart\n",
    "# topic_13 : #cloud, #google, #service, #application, #platform, #datum, #server, #instance, #support, #network\n",
    "# topic_14 : #mobile, #people, #experience, #thing, #website, #start, #world, #sound, #content, #think\n",
    "\n",
    "\n",
    "\n",
    "# n_components = 20\n",
    "# Time Taken : 32.3148    sec\n",
    "# topic_0 : #woman, #music, #trend, #quantum, #light, #brazil, #power, #circuit, #gender, #world\n",
    "# topic_1 : #software, #project, #change, #build, #service, #agile, #microservice, #asset, #component, #development\n",
    "# topic_2 : #company, #product, #service, #platform, #business, #build, #google, #design, #slack, #developer\n",
    "# topic_3 : #vehicle, #internet, #technology, #drive, #autonomous, #sensor, #driver, #device, #airbnb, #china\n",
    "# topic_4 : #machine, #learning, #learn, #human, #google, #intelligence, #computer, #datum, #company, #people\n",
    "# topic_5 : #company, #technology, #blockchain, #bitcoin, #customer, #financial, #datum, #service, #industry, #business\n",
    "# topic_6 : #event, #datum, #example, #method, #function, #content, #write, #result, #database, #search\n",
    "# topic_7 : #google, #field, #design, #label, #place, #aggregation, #apple, #bucket, #swarm, #different\n",
    "# topic_8 : #google, #facebook, #notification, #message, #search, #android, #drive, #create, #desktop, #share\n",
    "# topic_9 : #docker, #container, #command, #image, #build, #server, #linux, #windows, #application, #start\n",
    "# topic_10 : #apple, #email, #people, #thing, #feature, #company, #device, #phone, #microsoft, #iphone\n",
    "# topic_11 : #people, #thing, #think, #story, #change, #write, #really, #start, #point, #problem\n",
    "# topic_12 : #consumer, #customer, #brand, #store, #company, #datum, #online, #market, #growth, #percent\n",
    "# topic_13 : #cloud, #google, #service, #datum, #application, #platform, #instance, #server, #network, #request\n",
    "# topic_14 : #mobile, #people, #website, #experience, #content, #digital, #account, #world, #thing, #marketing\n",
    "# topic_15 : #datum, #model, #learn, #language, #machine, #image, #learning, #network, #example, #algorithm\n",
    "# topic_16 : #password, #event, #salesforce, #trello, #include, #storage, #million, #space, #board, #create\n",
    "# topic_17 : #customer, #company, #drupal, #business, #product, #organization, #experience, #change, #process, #digital\n",
    "# topic_18 : #woman, #write, #people, #japanese, #technical, #english, #death, #speak, #black, #release\n",
    "# topic_19 : #developer, #module, #build, #javascript, #android, #support, #library, #project, #create, #framework"
   ]
  },
  {
   "cell_type": "code",
   "execution_count": 38,
   "metadata": {},
   "outputs": [
    {
     "data": {
      "text/plain": [
       "(2185, 29751)"
      ]
     },
     "execution_count": 38,
     "metadata": {},
     "output_type": "execute_result"
    }
   ],
   "source": [
    "dtm_tf.shape"
   ]
  },
  {
   "cell_type": "code",
   "execution_count": 39,
   "metadata": {},
   "outputs": [
    {
     "data": {
      "text/plain": [
       "(15, 29751)"
      ]
     },
     "execution_count": 39,
     "metadata": {},
     "output_type": "execute_result"
    }
   ],
   "source": [
    "lda_tf.components_.shape"
   ]
  },
  {
   "cell_type": "code",
   "execution_count": 40,
   "metadata": {},
   "outputs": [
    {
     "data": {
      "text/plain": [
       "(2185, 15)"
      ]
     },
     "execution_count": 40,
     "metadata": {},
     "output_type": "execute_result"
    }
   ],
   "source": [
    "reduced_dtm_tf = pd.DataFrame(lda_tf.transform(dtm_tf), columns=['topic_' + str(i) for i in range(lda_tf.n_components)])\n",
    "reduced_dtm_tf.shape"
   ]
  },
  {
   "cell_type": "code",
   "execution_count": 41,
   "metadata": {},
   "outputs": [
    {
     "data": {
      "text/html": [
       "<div>\n",
       "<style scoped>\n",
       "    .dataframe tbody tr th:only-of-type {\n",
       "        vertical-align: middle;\n",
       "    }\n",
       "\n",
       "    .dataframe tbody tr th {\n",
       "        vertical-align: top;\n",
       "    }\n",
       "\n",
       "    .dataframe thead th {\n",
       "        text-align: right;\n",
       "    }\n",
       "</style>\n",
       "<table border=\"1\" class=\"dataframe\">\n",
       "  <thead>\n",
       "    <tr style=\"text-align: right;\">\n",
       "      <th></th>\n",
       "      <th>topic_0</th>\n",
       "      <th>topic_1</th>\n",
       "      <th>topic_2</th>\n",
       "      <th>topic_3</th>\n",
       "      <th>topic_4</th>\n",
       "      <th>topic_5</th>\n",
       "      <th>topic_6</th>\n",
       "      <th>topic_7</th>\n",
       "      <th>topic_8</th>\n",
       "      <th>topic_9</th>\n",
       "      <th>topic_10</th>\n",
       "      <th>topic_11</th>\n",
       "      <th>topic_12</th>\n",
       "      <th>topic_13</th>\n",
       "      <th>topic_14</th>\n",
       "    </tr>\n",
       "  </thead>\n",
       "  <tbody>\n",
       "    <tr>\n",
       "      <th>0</th>\n",
       "      <td>0.000168</td>\n",
       "      <td>0.081273</td>\n",
       "      <td>0.210969</td>\n",
       "      <td>0.000168</td>\n",
       "      <td>0.086958</td>\n",
       "      <td>0.618952</td>\n",
       "      <td>0.000168</td>\n",
       "      <td>0.000168</td>\n",
       "      <td>0.000168</td>\n",
       "      <td>0.000168</td>\n",
       "      <td>0.000168</td>\n",
       "      <td>0.000168</td>\n",
       "      <td>0.000168</td>\n",
       "      <td>0.000168</td>\n",
       "      <td>0.000168</td>\n",
       "    </tr>\n",
       "    <tr>\n",
       "      <th>1</th>\n",
       "      <td>0.000450</td>\n",
       "      <td>0.000450</td>\n",
       "      <td>0.000450</td>\n",
       "      <td>0.000450</td>\n",
       "      <td>0.122925</td>\n",
       "      <td>0.085803</td>\n",
       "      <td>0.000450</td>\n",
       "      <td>0.000450</td>\n",
       "      <td>0.000450</td>\n",
       "      <td>0.000450</td>\n",
       "      <td>0.000450</td>\n",
       "      <td>0.000450</td>\n",
       "      <td>0.682560</td>\n",
       "      <td>0.000450</td>\n",
       "      <td>0.103758</td>\n",
       "    </tr>\n",
       "    <tr>\n",
       "      <th>2</th>\n",
       "      <td>0.000680</td>\n",
       "      <td>0.000680</td>\n",
       "      <td>0.000680</td>\n",
       "      <td>0.000680</td>\n",
       "      <td>0.000680</td>\n",
       "      <td>0.000680</td>\n",
       "      <td>0.000680</td>\n",
       "      <td>0.000680</td>\n",
       "      <td>0.604374</td>\n",
       "      <td>0.000680</td>\n",
       "      <td>0.131411</td>\n",
       "      <td>0.000680</td>\n",
       "      <td>0.000680</td>\n",
       "      <td>0.256052</td>\n",
       "      <td>0.000680</td>\n",
       "    </tr>\n",
       "    <tr>\n",
       "      <th>3</th>\n",
       "      <td>0.000151</td>\n",
       "      <td>0.031980</td>\n",
       "      <td>0.000151</td>\n",
       "      <td>0.000151</td>\n",
       "      <td>0.000151</td>\n",
       "      <td>0.551659</td>\n",
       "      <td>0.000151</td>\n",
       "      <td>0.000151</td>\n",
       "      <td>0.023101</td>\n",
       "      <td>0.000151</td>\n",
       "      <td>0.000151</td>\n",
       "      <td>0.000151</td>\n",
       "      <td>0.000151</td>\n",
       "      <td>0.000151</td>\n",
       "      <td>0.391597</td>\n",
       "    </tr>\n",
       "    <tr>\n",
       "      <th>4</th>\n",
       "      <td>0.123703</td>\n",
       "      <td>0.000538</td>\n",
       "      <td>0.000538</td>\n",
       "      <td>0.000538</td>\n",
       "      <td>0.146711</td>\n",
       "      <td>0.500976</td>\n",
       "      <td>0.000538</td>\n",
       "      <td>0.038940</td>\n",
       "      <td>0.000538</td>\n",
       "      <td>0.000538</td>\n",
       "      <td>0.000538</td>\n",
       "      <td>0.000538</td>\n",
       "      <td>0.000538</td>\n",
       "      <td>0.184294</td>\n",
       "      <td>0.000538</td>\n",
       "    </tr>\n",
       "  </tbody>\n",
       "</table>\n",
       "</div>"
      ],
      "text/plain": [
       "    topic_0   topic_1   topic_2   topic_3   topic_4   topic_5   topic_6  \\\n",
       "0  0.000168  0.081273  0.210969  0.000168  0.086958  0.618952  0.000168   \n",
       "1  0.000450  0.000450  0.000450  0.000450  0.122925  0.085803  0.000450   \n",
       "2  0.000680  0.000680  0.000680  0.000680  0.000680  0.000680  0.000680   \n",
       "3  0.000151  0.031980  0.000151  0.000151  0.000151  0.551659  0.000151   \n",
       "4  0.123703  0.000538  0.000538  0.000538  0.146711  0.500976  0.000538   \n",
       "\n",
       "    topic_7   topic_8   topic_9  topic_10  topic_11  topic_12  topic_13  \\\n",
       "0  0.000168  0.000168  0.000168  0.000168  0.000168  0.000168  0.000168   \n",
       "1  0.000450  0.000450  0.000450  0.000450  0.000450  0.682560  0.000450   \n",
       "2  0.000680  0.604374  0.000680  0.131411  0.000680  0.000680  0.256052   \n",
       "3  0.000151  0.023101  0.000151  0.000151  0.000151  0.000151  0.000151   \n",
       "4  0.038940  0.000538  0.000538  0.000538  0.000538  0.000538  0.184294   \n",
       "\n",
       "   topic_14  \n",
       "0  0.000168  \n",
       "1  0.103758  \n",
       "2  0.000680  \n",
       "3  0.391597  \n",
       "4  0.000538  "
      ]
     },
     "execution_count": 41,
     "metadata": {},
     "output_type": "execute_result"
    }
   ],
   "source": [
    "reduced_dtm_tf.head()"
   ]
  },
  {
   "cell_type": "code",
   "execution_count": 42,
   "metadata": {},
   "outputs": [],
   "source": [
    "def get_topic_names(x):\n",
    "    return x[x>0.1].to_dict()\n",
    "reduced_dtm_tf.loc[:, 'mostly_about'] = reduced_dtm_tf.apply(get_topic_names, axis=1)"
   ]
  },
  {
   "cell_type": "code",
   "execution_count": 43,
   "metadata": {},
   "outputs": [
    {
     "data": {
      "text/html": [
       "<div>\n",
       "<style scoped>\n",
       "    .dataframe tbody tr th:only-of-type {\n",
       "        vertical-align: middle;\n",
       "    }\n",
       "\n",
       "    .dataframe tbody tr th {\n",
       "        vertical-align: top;\n",
       "    }\n",
       "\n",
       "    .dataframe thead th {\n",
       "        text-align: right;\n",
       "    }\n",
       "</style>\n",
       "<table border=\"1\" class=\"dataframe\">\n",
       "  <thead>\n",
       "    <tr style=\"text-align: right;\">\n",
       "      <th></th>\n",
       "      <th>topic_0</th>\n",
       "      <th>topic_1</th>\n",
       "      <th>topic_2</th>\n",
       "      <th>topic_3</th>\n",
       "      <th>topic_4</th>\n",
       "      <th>topic_5</th>\n",
       "      <th>topic_6</th>\n",
       "      <th>topic_7</th>\n",
       "      <th>topic_8</th>\n",
       "      <th>topic_9</th>\n",
       "      <th>topic_10</th>\n",
       "      <th>topic_11</th>\n",
       "      <th>topic_12</th>\n",
       "      <th>topic_13</th>\n",
       "      <th>topic_14</th>\n",
       "      <th>mostly_about</th>\n",
       "    </tr>\n",
       "  </thead>\n",
       "  <tbody>\n",
       "    <tr>\n",
       "      <th>0</th>\n",
       "      <td>0.000168</td>\n",
       "      <td>0.081273</td>\n",
       "      <td>0.210969</td>\n",
       "      <td>0.000168</td>\n",
       "      <td>0.086958</td>\n",
       "      <td>0.618952</td>\n",
       "      <td>0.000168</td>\n",
       "      <td>0.000168</td>\n",
       "      <td>0.000168</td>\n",
       "      <td>0.000168</td>\n",
       "      <td>0.000168</td>\n",
       "      <td>0.000168</td>\n",
       "      <td>0.000168</td>\n",
       "      <td>0.000168</td>\n",
       "      <td>0.000168</td>\n",
       "      <td>{'topic_2': 0.2109692974037969, 'topic_5': 0.6...</td>\n",
       "    </tr>\n",
       "    <tr>\n",
       "      <th>1</th>\n",
       "      <td>0.000450</td>\n",
       "      <td>0.000450</td>\n",
       "      <td>0.000450</td>\n",
       "      <td>0.000450</td>\n",
       "      <td>0.122925</td>\n",
       "      <td>0.085803</td>\n",
       "      <td>0.000450</td>\n",
       "      <td>0.000450</td>\n",
       "      <td>0.000450</td>\n",
       "      <td>0.000450</td>\n",
       "      <td>0.000450</td>\n",
       "      <td>0.000450</td>\n",
       "      <td>0.682560</td>\n",
       "      <td>0.000450</td>\n",
       "      <td>0.103758</td>\n",
       "      <td>{'topic_4': 0.12292520324381467, 'topic_12': 0...</td>\n",
       "    </tr>\n",
       "    <tr>\n",
       "      <th>2</th>\n",
       "      <td>0.000680</td>\n",
       "      <td>0.000680</td>\n",
       "      <td>0.000680</td>\n",
       "      <td>0.000680</td>\n",
       "      <td>0.000680</td>\n",
       "      <td>0.000680</td>\n",
       "      <td>0.000680</td>\n",
       "      <td>0.000680</td>\n",
       "      <td>0.604374</td>\n",
       "      <td>0.000680</td>\n",
       "      <td>0.131411</td>\n",
       "      <td>0.000680</td>\n",
       "      <td>0.000680</td>\n",
       "      <td>0.256052</td>\n",
       "      <td>0.000680</td>\n",
       "      <td>{'topic_8': 0.6043744437668673, 'topic_10': 0....</td>\n",
       "    </tr>\n",
       "    <tr>\n",
       "      <th>3</th>\n",
       "      <td>0.000151</td>\n",
       "      <td>0.031980</td>\n",
       "      <td>0.000151</td>\n",
       "      <td>0.000151</td>\n",
       "      <td>0.000151</td>\n",
       "      <td>0.551659</td>\n",
       "      <td>0.000151</td>\n",
       "      <td>0.000151</td>\n",
       "      <td>0.023101</td>\n",
       "      <td>0.000151</td>\n",
       "      <td>0.000151</td>\n",
       "      <td>0.000151</td>\n",
       "      <td>0.000151</td>\n",
       "      <td>0.000151</td>\n",
       "      <td>0.391597</td>\n",
       "      <td>{'topic_5': 0.551659427679873, 'topic_14': 0.3...</td>\n",
       "    </tr>\n",
       "    <tr>\n",
       "      <th>4</th>\n",
       "      <td>0.123703</td>\n",
       "      <td>0.000538</td>\n",
       "      <td>0.000538</td>\n",
       "      <td>0.000538</td>\n",
       "      <td>0.146711</td>\n",
       "      <td>0.500976</td>\n",
       "      <td>0.000538</td>\n",
       "      <td>0.038940</td>\n",
       "      <td>0.000538</td>\n",
       "      <td>0.000538</td>\n",
       "      <td>0.000538</td>\n",
       "      <td>0.000538</td>\n",
       "      <td>0.000538</td>\n",
       "      <td>0.184294</td>\n",
       "      <td>0.000538</td>\n",
       "      <td>{'topic_0': 0.12370324630402275, 'topic_4': 0....</td>\n",
       "    </tr>\n",
       "  </tbody>\n",
       "</table>\n",
       "</div>"
      ],
      "text/plain": [
       "    topic_0   topic_1   topic_2   topic_3   topic_4   topic_5   topic_6  \\\n",
       "0  0.000168  0.081273  0.210969  0.000168  0.086958  0.618952  0.000168   \n",
       "1  0.000450  0.000450  0.000450  0.000450  0.122925  0.085803  0.000450   \n",
       "2  0.000680  0.000680  0.000680  0.000680  0.000680  0.000680  0.000680   \n",
       "3  0.000151  0.031980  0.000151  0.000151  0.000151  0.551659  0.000151   \n",
       "4  0.123703  0.000538  0.000538  0.000538  0.146711  0.500976  0.000538   \n",
       "\n",
       "    topic_7   topic_8   topic_9  topic_10  topic_11  topic_12  topic_13  \\\n",
       "0  0.000168  0.000168  0.000168  0.000168  0.000168  0.000168  0.000168   \n",
       "1  0.000450  0.000450  0.000450  0.000450  0.000450  0.682560  0.000450   \n",
       "2  0.000680  0.604374  0.000680  0.131411  0.000680  0.000680  0.256052   \n",
       "3  0.000151  0.023101  0.000151  0.000151  0.000151  0.000151  0.000151   \n",
       "4  0.038940  0.000538  0.000538  0.000538  0.000538  0.000538  0.184294   \n",
       "\n",
       "   topic_14                                       mostly_about  \n",
       "0  0.000168  {'topic_2': 0.2109692974037969, 'topic_5': 0.6...  \n",
       "1  0.103758  {'topic_4': 0.12292520324381467, 'topic_12': 0...  \n",
       "2  0.000680  {'topic_8': 0.6043744437668673, 'topic_10': 0....  \n",
       "3  0.391597  {'topic_5': 0.551659427679873, 'topic_14': 0.3...  \n",
       "4  0.000538  {'topic_0': 0.12370324630402275, 'topic_4': 0....  "
      ]
     },
     "execution_count": 43,
     "metadata": {},
     "output_type": "execute_result"
    }
   ],
   "source": [
    "reduced_dtm_tf.head()"
   ]
  },
  {
   "cell_type": "code",
   "execution_count": 44,
   "metadata": {},
   "outputs": [],
   "source": [
    "reduced_dtm_tf.loc[:, 'no_of_topics'] = reduced_dtm_tf['mostly_about'].apply(lambda x: len(x))"
   ]
  },
  {
   "cell_type": "code",
   "execution_count": 45,
   "metadata": {},
   "outputs": [
    {
     "data": {
      "text/html": [
       "<div>\n",
       "<style scoped>\n",
       "    .dataframe tbody tr th:only-of-type {\n",
       "        vertical-align: middle;\n",
       "    }\n",
       "\n",
       "    .dataframe tbody tr th {\n",
       "        vertical-align: top;\n",
       "    }\n",
       "\n",
       "    .dataframe thead th {\n",
       "        text-align: right;\n",
       "    }\n",
       "</style>\n",
       "<table border=\"1\" class=\"dataframe\">\n",
       "  <thead>\n",
       "    <tr style=\"text-align: right;\">\n",
       "      <th></th>\n",
       "      <th>topic_0</th>\n",
       "      <th>topic_1</th>\n",
       "      <th>topic_2</th>\n",
       "      <th>topic_3</th>\n",
       "      <th>topic_4</th>\n",
       "      <th>topic_5</th>\n",
       "      <th>topic_6</th>\n",
       "      <th>topic_7</th>\n",
       "      <th>topic_8</th>\n",
       "      <th>topic_9</th>\n",
       "      <th>topic_10</th>\n",
       "      <th>topic_11</th>\n",
       "      <th>topic_12</th>\n",
       "      <th>topic_13</th>\n",
       "      <th>topic_14</th>\n",
       "      <th>mostly_about</th>\n",
       "      <th>no_of_topics</th>\n",
       "    </tr>\n",
       "  </thead>\n",
       "  <tbody>\n",
       "    <tr>\n",
       "      <th>0</th>\n",
       "      <td>0.000168</td>\n",
       "      <td>0.081273</td>\n",
       "      <td>0.210969</td>\n",
       "      <td>0.000168</td>\n",
       "      <td>0.086958</td>\n",
       "      <td>0.618952</td>\n",
       "      <td>0.000168</td>\n",
       "      <td>0.000168</td>\n",
       "      <td>0.000168</td>\n",
       "      <td>0.000168</td>\n",
       "      <td>0.000168</td>\n",
       "      <td>0.000168</td>\n",
       "      <td>0.000168</td>\n",
       "      <td>0.000168</td>\n",
       "      <td>0.000168</td>\n",
       "      <td>{'topic_2': 0.2109692974037969, 'topic_5': 0.6...</td>\n",
       "      <td>2</td>\n",
       "    </tr>\n",
       "    <tr>\n",
       "      <th>1</th>\n",
       "      <td>0.000450</td>\n",
       "      <td>0.000450</td>\n",
       "      <td>0.000450</td>\n",
       "      <td>0.000450</td>\n",
       "      <td>0.122925</td>\n",
       "      <td>0.085803</td>\n",
       "      <td>0.000450</td>\n",
       "      <td>0.000450</td>\n",
       "      <td>0.000450</td>\n",
       "      <td>0.000450</td>\n",
       "      <td>0.000450</td>\n",
       "      <td>0.000450</td>\n",
       "      <td>0.682560</td>\n",
       "      <td>0.000450</td>\n",
       "      <td>0.103758</td>\n",
       "      <td>{'topic_4': 0.12292520324381467, 'topic_12': 0...</td>\n",
       "      <td>3</td>\n",
       "    </tr>\n",
       "    <tr>\n",
       "      <th>2</th>\n",
       "      <td>0.000680</td>\n",
       "      <td>0.000680</td>\n",
       "      <td>0.000680</td>\n",
       "      <td>0.000680</td>\n",
       "      <td>0.000680</td>\n",
       "      <td>0.000680</td>\n",
       "      <td>0.000680</td>\n",
       "      <td>0.000680</td>\n",
       "      <td>0.604374</td>\n",
       "      <td>0.000680</td>\n",
       "      <td>0.131411</td>\n",
       "      <td>0.000680</td>\n",
       "      <td>0.000680</td>\n",
       "      <td>0.256052</td>\n",
       "      <td>0.000680</td>\n",
       "      <td>{'topic_8': 0.6043744437668673, 'topic_10': 0....</td>\n",
       "      <td>3</td>\n",
       "    </tr>\n",
       "    <tr>\n",
       "      <th>3</th>\n",
       "      <td>0.000151</td>\n",
       "      <td>0.031980</td>\n",
       "      <td>0.000151</td>\n",
       "      <td>0.000151</td>\n",
       "      <td>0.000151</td>\n",
       "      <td>0.551659</td>\n",
       "      <td>0.000151</td>\n",
       "      <td>0.000151</td>\n",
       "      <td>0.023101</td>\n",
       "      <td>0.000151</td>\n",
       "      <td>0.000151</td>\n",
       "      <td>0.000151</td>\n",
       "      <td>0.000151</td>\n",
       "      <td>0.000151</td>\n",
       "      <td>0.391597</td>\n",
       "      <td>{'topic_5': 0.551659427679873, 'topic_14': 0.3...</td>\n",
       "      <td>2</td>\n",
       "    </tr>\n",
       "    <tr>\n",
       "      <th>4</th>\n",
       "      <td>0.123703</td>\n",
       "      <td>0.000538</td>\n",
       "      <td>0.000538</td>\n",
       "      <td>0.000538</td>\n",
       "      <td>0.146711</td>\n",
       "      <td>0.500976</td>\n",
       "      <td>0.000538</td>\n",
       "      <td>0.038940</td>\n",
       "      <td>0.000538</td>\n",
       "      <td>0.000538</td>\n",
       "      <td>0.000538</td>\n",
       "      <td>0.000538</td>\n",
       "      <td>0.000538</td>\n",
       "      <td>0.184294</td>\n",
       "      <td>0.000538</td>\n",
       "      <td>{'topic_0': 0.12370324630402275, 'topic_4': 0....</td>\n",
       "      <td>4</td>\n",
       "    </tr>\n",
       "  </tbody>\n",
       "</table>\n",
       "</div>"
      ],
      "text/plain": [
       "    topic_0   topic_1   topic_2   topic_3   topic_4   topic_5   topic_6  \\\n",
       "0  0.000168  0.081273  0.210969  0.000168  0.086958  0.618952  0.000168   \n",
       "1  0.000450  0.000450  0.000450  0.000450  0.122925  0.085803  0.000450   \n",
       "2  0.000680  0.000680  0.000680  0.000680  0.000680  0.000680  0.000680   \n",
       "3  0.000151  0.031980  0.000151  0.000151  0.000151  0.551659  0.000151   \n",
       "4  0.123703  0.000538  0.000538  0.000538  0.146711  0.500976  0.000538   \n",
       "\n",
       "    topic_7   topic_8   topic_9  topic_10  topic_11  topic_12  topic_13  \\\n",
       "0  0.000168  0.000168  0.000168  0.000168  0.000168  0.000168  0.000168   \n",
       "1  0.000450  0.000450  0.000450  0.000450  0.000450  0.682560  0.000450   \n",
       "2  0.000680  0.604374  0.000680  0.131411  0.000680  0.000680  0.256052   \n",
       "3  0.000151  0.023101  0.000151  0.000151  0.000151  0.000151  0.000151   \n",
       "4  0.038940  0.000538  0.000538  0.000538  0.000538  0.000538  0.184294   \n",
       "\n",
       "   topic_14                                       mostly_about  no_of_topics  \n",
       "0  0.000168  {'topic_2': 0.2109692974037969, 'topic_5': 0.6...             2  \n",
       "1  0.103758  {'topic_4': 0.12292520324381467, 'topic_12': 0...             3  \n",
       "2  0.000680  {'topic_8': 0.6043744437668673, 'topic_10': 0....             3  \n",
       "3  0.391597  {'topic_5': 0.551659427679873, 'topic_14': 0.3...             2  \n",
       "4  0.000538  {'topic_0': 0.12370324630402275, 'topic_4': 0....             4  "
      ]
     },
     "execution_count": 45,
     "metadata": {},
     "output_type": "execute_result"
    }
   ],
   "source": [
    "reduced_dtm_tf.head()"
   ]
  },
  {
   "cell_type": "code",
   "execution_count": 46,
   "metadata": {},
   "outputs": [
    {
     "data": {
      "text/plain": [
       "2    825\n",
       "3    790\n",
       "4    263\n",
       "1    255\n",
       "5     51\n",
       "6      1\n",
       "Name: no_of_topics, dtype: int64"
      ]
     },
     "execution_count": 46,
     "metadata": {},
     "output_type": "execute_result"
    }
   ],
   "source": [
    "reduced_dtm_tf['no_of_topics'].value_counts()"
   ]
  },
  {
   "cell_type": "code",
   "execution_count": 47,
   "metadata": {},
   "outputs": [
    {
     "data": {
      "text/html": [
       "<div>\n",
       "<style scoped>\n",
       "    .dataframe tbody tr th:only-of-type {\n",
       "        vertical-align: middle;\n",
       "    }\n",
       "\n",
       "    .dataframe tbody tr th {\n",
       "        vertical-align: top;\n",
       "    }\n",
       "\n",
       "    .dataframe thead th {\n",
       "        text-align: right;\n",
       "    }\n",
       "</style>\n",
       "<table border=\"1\" class=\"dataframe\">\n",
       "  <thead>\n",
       "    <tr style=\"text-align: right;\">\n",
       "      <th></th>\n",
       "      <th>topic_0</th>\n",
       "      <th>topic_1</th>\n",
       "      <th>topic_2</th>\n",
       "      <th>topic_3</th>\n",
       "      <th>topic_4</th>\n",
       "      <th>topic_5</th>\n",
       "      <th>topic_6</th>\n",
       "      <th>topic_7</th>\n",
       "      <th>topic_8</th>\n",
       "      <th>topic_9</th>\n",
       "      <th>topic_10</th>\n",
       "      <th>topic_11</th>\n",
       "      <th>topic_12</th>\n",
       "      <th>topic_13</th>\n",
       "      <th>topic_14</th>\n",
       "      <th>mostly_about</th>\n",
       "      <th>no_of_topics</th>\n",
       "    </tr>\n",
       "  </thead>\n",
       "  <tbody>\n",
       "  </tbody>\n",
       "</table>\n",
       "</div>"
      ],
      "text/plain": [
       "Empty DataFrame\n",
       "Columns: [topic_0, topic_1, topic_2, topic_3, topic_4, topic_5, topic_6, topic_7, topic_8, topic_9, topic_10, topic_11, topic_12, topic_13, topic_14, mostly_about, no_of_topics]\n",
       "Index: []"
      ]
     },
     "execution_count": 47,
     "metadata": {},
     "output_type": "execute_result"
    }
   ],
   "source": [
    "reduced_dtm_tf[reduced_dtm_tf['no_of_topics'] == 0]"
   ]
  },
  {
   "cell_type": "code",
   "execution_count": null,
   "metadata": {},
   "outputs": [],
   "source": []
  },
  {
   "cell_type": "code",
   "execution_count": null,
   "metadata": {},
   "outputs": [],
   "source": []
  },
  {
   "cell_type": "code",
   "execution_count": 48,
   "metadata": {
    "collapsed": true
   },
   "outputs": [
    {
     "data": {
      "text/plain": [
       "{'topic_0': {'words_str': '#woman, #country, #brazil, #black, #music, #trend, #quantum, #plague, #death, #america',\n",
       "  'words': {'woman': 289.0235386792721,\n",
       "   'country': 158.21889710255434,\n",
       "   'brazil': 137.60603062522927,\n",
       "   'black': 119.91825424776653,\n",
       "   'music': 95.7943771986731,\n",
       "   'trend': 81.39803435926935,\n",
       "   'quantum': 77.23813796587133,\n",
       "   'plague': 69.69554502290272,\n",
       "   'death': 66.31711949439827,\n",
       "   'america': 59.02767034060135}},\n",
       " 'topic_1': {'words_str': '#software, #change, #project, #build, #development, #process, #agile, #organization, #service, #developer',\n",
       "  'words': {'software': 969.4987918685139,\n",
       "   'change': 703.2200174689532,\n",
       "   'project': 670.8877562289442,\n",
       "   'build': 566.5540015018217,\n",
       "   'development': 564.0065049722285,\n",
       "   'process': 498.4440280422339,\n",
       "   'agile': 485.9623118911154,\n",
       "   'organization': 404.1648888063069,\n",
       "   'service': 347.3021201178763,\n",
       "   'developer': 343.9782715653292}},\n",
       " 'topic_2': {'words_str': '#product, #company, #business, #people, #design, #digital, #service, #build, #platform, #experience',\n",
       "  'words': {'product': 1752.7669758349152,\n",
       "   'company': 1734.5902347872725,\n",
       "   'business': 1418.7659179631248,\n",
       "   'people': 842.4279586810344,\n",
       "   'design': 809.2941825708637,\n",
       "   'digital': 777.8244879330042,\n",
       "   'service': 716.8841256154225,\n",
       "   'build': 692.6402995619503,\n",
       "   'platform': 632.4249380535009,\n",
       "   'experience': 533.8217590968928}},\n",
       " 'topic_3': {'words_str': '#drupal, #module, #content, #acquia, #community, #support, #build, #developer, #commerce, #feature',\n",
       "  'words': {'drupal': 1162.0666665253455,\n",
       "   'module': 456.09657727122266,\n",
       "   'content': 238.3252030863,\n",
       "   'acquia': 184.06666652773617,\n",
       "   'community': 159.0073335579081,\n",
       "   'support': 154.0504569406559,\n",
       "   'build': 139.05179225645347,\n",
       "   'developer': 134.15410435997853,\n",
       "   'commerce': 132.91605228810485,\n",
       "   'feature': 128.77103868001927}},\n",
       " 'topic_4': {'words_str': '#machine, #learning, #datum, #learn, #model, #image, #human, #intelligence, #computer, #algorithm',\n",
       "  'words': {'machine': 2288.4990809128353,\n",
       "   'learning': 1881.1217953056282,\n",
       "   'datum': 1479.3901376991682,\n",
       "   'learn': 1467.7421456565512,\n",
       "   'model': 986.1631594063211,\n",
       "   'image': 838.5453355536152,\n",
       "   'human': 808.497725953926,\n",
       "   'intelligence': 758.2094498305714,\n",
       "   'computer': 751.5883448700304,\n",
       "   'algorithm': 750.7101078966934}},\n",
       " 'topic_5': {'words_str': '#customer, #company, #technology, #datum, #digital, #blockchain, #business, #bitcoin, #service, #industry',\n",
       "  'words': {'customer': 1830.886161582432,\n",
       "   'company': 1694.2024252830593,\n",
       "   'technology': 1206.5529322960347,\n",
       "   'datum': 1022.5488139057019,\n",
       "   'digital': 867.6514773550058,\n",
       "   'blockchain': 863.6070295139797,\n",
       "   'business': 836.1187851850983,\n",
       "   'bitcoin': 732.6910131828023,\n",
       "   'service': 678.3636174329425,\n",
       "   'industry': 665.5971189987446}},\n",
       " 'topic_6': {'words_str': '#datum, #example, #method, #event, #function, #write, #value, #create, #result, #class',\n",
       "  'words': {'datum': 1418.5231514175573,\n",
       "   'example': 1158.0135417452345,\n",
       "   'method': 960.8305203182967,\n",
       "   'event': 896.6391793130246,\n",
       "   'function': 892.393829878319,\n",
       "   'write': 876.8624738862527,\n",
       "   'value': 775.7653356101341,\n",
       "   'create': 672.4766007305112,\n",
       "   'result': 662.5167156893472,\n",
       "   'class': 658.7957913772168}},\n",
       " 'topic_7': {'words_str': '#password, #token, #kotlin, #field, #label, #place, #swarm, #aggregation, #value, #google',\n",
       "  'words': {'password': 228.19765670294197,\n",
       "   'token': 227.92855879209176,\n",
       "   'kotlin': 179.0666658802606,\n",
       "   'field': 172.57048614693335,\n",
       "   'label': 126.02695523926576,\n",
       "   'place': 117.94334328265411,\n",
       "   'swarm': 112.55081418036632,\n",
       "   'aggregation': 105.61807239446534,\n",
       "   'value': 93.09188166687505,\n",
       "   'google': 91.82650356276618}},\n",
       " 'topic_8': {'words_str': '#google, #android, #facebook, #developer, #search, #windows, #content, #create, #message, #mobile',\n",
       "  'words': {'google': 2531.792577787946,\n",
       "   'android': 1036.3776384856649,\n",
       "   'facebook': 602.9579642986041,\n",
       "   'developer': 354.6710264772188,\n",
       "   'search': 347.96200132674244,\n",
       "   'windows': 344.67282727897464,\n",
       "   'content': 325.1834390148233,\n",
       "   'create': 321.82095857661795,\n",
       "   'message': 318.49118968230755,\n",
       "   'mobile': 308.9042931650395}},\n",
       " 'topic_9': {'words_str': '#docker, #container, #command, #build, #image, #version, #server, #start, #application, #create',\n",
       "  'words': {'docker': 883.3077377646728,\n",
       "   'container': 630.9481136536018,\n",
       "   'command': 413.8211610791321,\n",
       "   'build': 392.97693928736936,\n",
       "   'image': 388.3414403230552,\n",
       "   'version': 222.2555884589007,\n",
       "   'server': 222.11937519145397,\n",
       "   'start': 213.0724222857054,\n",
       "   'application': 190.0571968835469,\n",
       "   'create': 153.61365617138694}},\n",
       " 'topic_10': {'words_str': '#apple, #people, #thing, #company, #email, #device, #think, #phone, #feature, #microsoft',\n",
       "  'words': {'apple': 1586.9746859436675,\n",
       "   'people': 812.0702209285073,\n",
       "   'thing': 712.5477096165092,\n",
       "   'company': 594.2210722339926,\n",
       "   'email': 578.0090736650917,\n",
       "   'device': 436.1161542982862,\n",
       "   'think': 428.5673863245151,\n",
       "   'phone': 406.4605778558415,\n",
       "   'feature': 402.4496900468252,\n",
       "   'microsoft': 380.6984636988737}},\n",
       " 'topic_11': {'words_str': '#language, #people, #write, #think, #thing, #story, #change, #learn, #world, #really',\n",
       "  'words': {'language': 399.53534553895366,\n",
       "   'people': 395.30752860948627,\n",
       "   'write': 315.7635198892491,\n",
       "   'think': 308.1520439887931,\n",
       "   'thing': 303.4677864687544,\n",
       "   'story': 257.60029422513713,\n",
       "   'change': 204.896023507309,\n",
       "   'learn': 196.35024692573023,\n",
       "   'world': 159.25046129840317,\n",
       "   'really': 154.61019404671165}},\n",
       " 'topic_12': {'words_str': '#payment, #account, #store, #customer, #consumer, #online, #credit, #retailer, #wallet, #chart',\n",
       "  'words': {'payment': 254.89512592909898,\n",
       "   'account': 234.39299106928866,\n",
       "   'store': 215.91089761130894,\n",
       "   'customer': 171.07786515746668,\n",
       "   'consumer': 154.10022355313754,\n",
       "   'online': 145.6918572599078,\n",
       "   'credit': 123.93951823722773,\n",
       "   'retailer': 105.56121757286154,\n",
       "   'wallet': 103.7065030781493,\n",
       "   'chart': 102.93421256282323}},\n",
       " 'topic_13': {'words_str': '#cloud, #google, #service, #application, #platform, #datum, #server, #instance, #support, #network',\n",
       "  'words': {'cloud': 2195.7197266061876,\n",
       "   'google': 1608.8617354713494,\n",
       "   'service': 1326.7165760383693,\n",
       "   'application': 1000.903633692926,\n",
       "   'platform': 863.672604627981,\n",
       "   'datum': 838.8870102720063,\n",
       "   'server': 730.8584651226734,\n",
       "   'instance': 685.2228333563539,\n",
       "   'support': 654.7102693288097,\n",
       "   'network': 553.9879016454823}},\n",
       " 'topic_14': {'words_str': '#mobile, #people, #experience, #thing, #website, #start, #world, #sound, #content, #think',\n",
       "  'words': {'mobile': 401.1220889889667,\n",
       "   'people': 316.11448229209776,\n",
       "   'experience': 259.2218717470254,\n",
       "   'thing': 236.07376265037277,\n",
       "   'website': 229.91067154949488,\n",
       "   'start': 217.11188157566778,\n",
       "   'world': 202.73307739775385,\n",
       "   'sound': 195.6650525818349,\n",
       "   'content': 171.22208128611413,\n",
       "   'think': 170.88943736216905}}}"
      ]
     },
     "execution_count": 48,
     "metadata": {},
     "output_type": "execute_result"
    }
   ],
   "source": [
    "topics"
   ]
  },
  {
   "cell_type": "code",
   "execution_count": 49,
   "metadata": {},
   "outputs": [
    {
     "name": "stderr",
     "output_type": "stream",
     "text": [
      "/home/ravi/recommendation_system/recommender_system/rec_sys_env/lib/python3.7/site-packages/pyLDAvis/_prepare.py:257: FutureWarning: Sorting because non-concatenation axis is not aligned. A future version\n",
      "of pandas will change to not sort by default.\n",
      "\n",
      "To accept the future behavior, pass 'sort=False'.\n",
      "\n",
      "To retain the current behavior and silence the warning, pass 'sort=True'.\n",
      "\n",
      "  return pd.concat([default_term_info] + list(topic_dfs))\n"
     ]
    },
    {
     "data": {
      "text/html": [
       "\n",
       "<link rel=\"stylesheet\" type=\"text/css\" href=\"https://cdn.rawgit.com/bmabey/pyLDAvis/files/ldavis.v1.0.0.css\">\n",
       "\n",
       "\n",
       "<div id=\"ldavis_el215011397515690190727208221357\"></div>\n",
       "<script type=\"text/javascript\">\n",
       "\n",
       "var ldavis_el215011397515690190727208221357_data = {\"mdsDat\": {\"x\": [-0.14477448843916593, -0.0046569847530273135, 0.06606410241538964, 0.04241318812081234, -0.17397124219039775, 0.0500785727065334, -0.07392885106459454, -0.07395591177169739, 0.04399898398195877, 0.08306983361716477, -0.09740540575433224, -0.046986661846269165, 0.1416879037355392, -0.05117189990367862, 0.2395388611457648], \"y\": [-0.05003544870946589, 0.014985889146775715, 0.1837121228028516, 0.14449639517377658, 0.06241268287582938, 0.00016506689768514522, 0.066920102241118, -0.03523200788916008, -0.035346240696909184, -0.07839058799709278, -0.11646192753251569, 0.03649490699647148, 0.06089518464093519, -0.1326137800390469, -0.12200235791125257], \"topics\": [1, 2, 3, 4, 5, 6, 7, 8, 9, 10, 11, 12, 13, 14, 15], \"cluster\": [1, 1, 1, 1, 1, 1, 1, 1, 1, 1, 1, 1, 1, 1, 1], \"Freq\": [13.525094235779989, 12.828753852108388, 11.886457190133273, 10.83002945694966, 9.398981037409031, 8.097757498943881, 6.97185172189299, 5.915535410472629, 5.122229032228288, 3.8757198097137944, 3.233101544392459, 2.5667666548195553, 1.9936145382759247, 1.9461240660061843, 1.807983950873937]}, \"tinfo\": {\"Category\": [\"Default\", \"Default\", \"Default\", \"Default\", \"Default\", \"Default\", \"Default\", \"Default\", \"Default\", \"Default\", \"Default\", \"Default\", \"Default\", \"Default\", \"Default\", \"Default\", \"Default\", \"Default\", \"Default\", \"Default\", \"Default\", \"Default\", \"Default\", \"Default\", \"Default\", \"Default\", \"Default\", \"Default\", \"Default\", \"Default\", \"Topic1\", \"Topic1\", \"Topic1\", \"Topic1\", \"Topic1\", \"Topic1\", \"Topic1\", \"Topic1\", \"Topic1\", \"Topic1\", \"Topic1\", \"Topic1\", \"Topic1\", \"Topic1\", \"Topic1\", \"Topic1\", \"Topic1\", \"Topic1\", \"Topic1\", \"Topic1\", \"Topic1\", \"Topic1\", \"Topic1\", \"Topic1\", \"Topic1\", \"Topic1\", \"Topic1\", \"Topic1\", \"Topic1\", \"Topic1\", \"Topic1\", \"Topic1\", \"Topic1\", \"Topic1\", \"Topic1\", \"Topic1\", \"Topic1\", \"Topic1\", \"Topic1\", \"Topic1\", \"Topic1\", \"Topic1\", \"Topic1\", \"Topic1\", \"Topic1\", \"Topic1\", \"Topic1\", \"Topic1\", \"Topic1\", \"Topic1\", \"Topic1\", \"Topic1\", \"Topic1\", \"Topic1\", \"Topic1\", \"Topic1\", \"Topic1\", \"Topic1\", \"Topic1\", \"Topic1\", \"Topic1\", \"Topic1\", \"Topic1\", \"Topic1\", \"Topic1\", \"Topic1\", \"Topic1\", \"Topic1\", \"Topic1\", \"Topic1\", \"Topic1\", \"Topic1\", \"Topic1\", \"Topic1\", \"Topic1\", \"Topic1\", \"Topic1\", \"Topic1\", \"Topic1\", \"Topic1\", \"Topic1\", \"Topic1\", \"Topic1\", \"Topic1\", \"Topic1\", \"Topic1\", \"Topic1\", \"Topic1\", \"Topic1\", \"Topic2\", \"Topic2\", \"Topic2\", \"Topic2\", \"Topic2\", \"Topic2\", \"Topic2\", \"Topic2\", \"Topic2\", \"Topic2\", \"Topic2\", \"Topic2\", \"Topic2\", \"Topic2\", \"Topic2\", \"Topic2\", \"Topic2\", \"Topic2\", \"Topic2\", \"Topic2\", \"Topic2\", \"Topic2\", \"Topic2\", \"Topic2\", \"Topic2\", \"Topic2\", \"Topic2\", \"Topic2\", \"Topic2\", \"Topic2\", \"Topic2\", \"Topic2\", \"Topic2\", \"Topic2\", \"Topic2\", \"Topic2\", \"Topic2\", \"Topic2\", \"Topic2\", \"Topic2\", \"Topic2\", \"Topic2\", \"Topic2\", \"Topic2\", \"Topic2\", \"Topic2\", \"Topic2\", \"Topic2\", \"Topic2\", \"Topic2\", \"Topic2\", \"Topic2\", \"Topic2\", \"Topic2\", \"Topic2\", \"Topic2\", \"Topic2\", \"Topic2\", \"Topic2\", \"Topic2\", \"Topic2\", \"Topic2\", \"Topic2\", \"Topic2\", \"Topic2\", \"Topic2\", \"Topic2\", \"Topic2\", \"Topic2\", \"Topic2\", \"Topic2\", \"Topic2\", \"Topic2\", \"Topic2\", \"Topic2\", \"Topic3\", \"Topic3\", \"Topic3\", \"Topic3\", \"Topic3\", \"Topic3\", \"Topic3\", \"Topic3\", \"Topic3\", \"Topic3\", \"Topic3\", \"Topic3\", \"Topic3\", \"Topic3\", \"Topic3\", \"Topic3\", \"Topic3\", \"Topic3\", \"Topic3\", \"Topic3\", \"Topic3\", \"Topic3\", \"Topic3\", \"Topic3\", \"Topic3\", \"Topic3\", \"Topic3\", \"Topic3\", \"Topic3\", \"Topic3\", \"Topic3\", \"Topic3\", \"Topic3\", \"Topic3\", \"Topic3\", \"Topic3\", \"Topic3\", \"Topic3\", \"Topic3\", \"Topic3\", \"Topic3\", \"Topic3\", \"Topic3\", \"Topic3\", \"Topic3\", \"Topic3\", \"Topic3\", \"Topic3\", \"Topic3\", \"Topic3\", \"Topic3\", \"Topic3\", \"Topic3\", \"Topic3\", \"Topic3\", \"Topic3\", \"Topic3\", \"Topic3\", \"Topic3\", \"Topic3\", \"Topic3\", \"Topic3\", \"Topic3\", \"Topic3\", \"Topic3\", \"Topic3\", \"Topic3\", \"Topic3\", \"Topic3\", \"Topic3\", \"Topic3\", \"Topic3\", \"Topic3\", \"Topic3\", \"Topic3\", \"Topic3\", \"Topic4\", \"Topic4\", \"Topic4\", \"Topic4\", \"Topic4\", \"Topic4\", \"Topic4\", \"Topic4\", \"Topic4\", \"Topic4\", \"Topic4\", \"Topic4\", \"Topic4\", \"Topic4\", \"Topic4\", \"Topic4\", \"Topic4\", \"Topic4\", \"Topic4\", \"Topic4\", \"Topic4\", \"Topic4\", \"Topic4\", \"Topic4\", \"Topic4\", \"Topic4\", \"Topic4\", \"Topic4\", \"Topic4\", \"Topic4\", \"Topic4\", \"Topic4\", \"Topic4\", \"Topic4\", \"Topic4\", \"Topic4\", \"Topic4\", \"Topic4\", \"Topic4\", \"Topic4\", \"Topic4\", \"Topic4\", \"Topic4\", \"Topic4\", \"Topic4\", \"Topic4\", \"Topic4\", \"Topic4\", \"Topic4\", \"Topic4\", \"Topic4\", \"Topic4\", \"Topic4\", \"Topic4\", \"Topic4\", \"Topic4\", \"Topic4\", \"Topic4\", \"Topic4\", \"Topic4\", \"Topic4\", \"Topic4\", \"Topic4\", \"Topic4\", \"Topic4\", \"Topic4\", \"Topic4\", \"Topic4\", \"Topic4\", \"Topic4\", \"Topic4\", \"Topic4\", \"Topic4\", \"Topic4\", \"Topic4\", \"Topic4\", \"Topic4\", \"Topic4\", \"Topic4\", \"Topic4\", \"Topic4\", \"Topic5\", \"Topic5\", \"Topic5\", \"Topic5\", \"Topic5\", \"Topic5\", \"Topic5\", \"Topic5\", \"Topic5\", \"Topic5\", \"Topic5\", \"Topic5\", \"Topic5\", \"Topic5\", \"Topic5\", \"Topic5\", \"Topic5\", \"Topic5\", \"Topic5\", \"Topic5\", \"Topic5\", \"Topic5\", \"Topic5\", \"Topic5\", \"Topic5\", \"Topic5\", \"Topic5\", \"Topic5\", \"Topic5\", \"Topic5\", \"Topic5\", \"Topic5\", \"Topic5\", \"Topic5\", \"Topic5\", \"Topic5\", \"Topic5\", \"Topic5\", \"Topic5\", \"Topic5\", \"Topic5\", \"Topic5\", \"Topic5\", \"Topic5\", \"Topic5\", \"Topic5\", \"Topic5\", \"Topic5\", \"Topic5\", \"Topic5\", \"Topic5\", \"Topic5\", \"Topic5\", \"Topic5\", \"Topic5\", \"Topic5\", \"Topic5\", \"Topic5\", \"Topic5\", \"Topic5\", \"Topic5\", \"Topic5\", \"Topic5\", \"Topic5\", \"Topic5\", \"Topic5\", \"Topic5\", \"Topic5\", \"Topic5\", \"Topic5\", \"Topic5\", \"Topic5\", \"Topic5\", \"Topic5\", \"Topic6\", \"Topic6\", \"Topic6\", \"Topic6\", \"Topic6\", \"Topic6\", \"Topic6\", \"Topic6\", \"Topic6\", \"Topic6\", \"Topic6\", \"Topic6\", \"Topic6\", \"Topic6\", \"Topic6\", \"Topic6\", \"Topic6\", \"Topic6\", \"Topic6\", \"Topic6\", \"Topic6\", \"Topic6\", \"Topic6\", \"Topic6\", \"Topic6\", \"Topic6\", \"Topic6\", \"Topic6\", \"Topic6\", \"Topic6\", \"Topic6\", \"Topic6\", \"Topic6\", \"Topic6\", \"Topic6\", \"Topic6\", \"Topic6\", \"Topic6\", \"Topic6\", \"Topic6\", \"Topic6\", \"Topic6\", \"Topic6\", \"Topic6\", \"Topic6\", \"Topic6\", \"Topic6\", \"Topic6\", \"Topic6\", \"Topic6\", \"Topic6\", \"Topic6\", \"Topic6\", \"Topic6\", \"Topic6\", \"Topic6\", \"Topic6\", \"Topic6\", \"Topic6\", \"Topic6\", \"Topic6\", \"Topic6\", \"Topic6\", \"Topic6\", \"Topic6\", \"Topic6\", \"Topic6\", \"Topic6\", \"Topic6\", \"Topic6\", \"Topic6\", \"Topic6\", \"Topic6\", \"Topic6\", \"Topic6\", \"Topic6\", \"Topic6\", \"Topic6\", \"Topic6\", \"Topic6\", \"Topic6\", \"Topic7\", \"Topic7\", \"Topic7\", \"Topic7\", \"Topic7\", \"Topic7\", \"Topic7\", \"Topic7\", \"Topic7\", \"Topic7\", \"Topic7\", \"Topic7\", \"Topic7\", \"Topic7\", \"Topic7\", \"Topic7\", \"Topic7\", \"Topic7\", \"Topic7\", \"Topic7\", \"Topic7\", \"Topic7\", \"Topic7\", \"Topic7\", \"Topic7\", \"Topic7\", \"Topic7\", \"Topic7\", \"Topic7\", \"Topic7\", \"Topic7\", \"Topic7\", \"Topic7\", \"Topic7\", \"Topic7\", \"Topic7\", \"Topic7\", \"Topic7\", \"Topic7\", \"Topic7\", \"Topic7\", \"Topic7\", \"Topic7\", \"Topic7\", \"Topic7\", \"Topic7\", \"Topic7\", \"Topic7\", \"Topic7\", \"Topic7\", \"Topic7\", \"Topic7\", \"Topic7\", \"Topic7\", \"Topic7\", \"Topic7\", \"Topic7\", \"Topic7\", \"Topic7\", \"Topic7\", \"Topic7\", \"Topic7\", \"Topic7\", \"Topic7\", \"Topic7\", \"Topic7\", \"Topic7\", \"Topic7\", \"Topic7\", \"Topic7\", \"Topic7\", \"Topic7\", \"Topic7\", \"Topic7\", \"Topic7\", \"Topic7\", \"Topic7\", \"Topic7\", \"Topic8\", \"Topic8\", \"Topic8\", \"Topic8\", \"Topic8\", \"Topic8\", \"Topic8\", \"Topic8\", \"Topic8\", \"Topic8\", \"Topic8\", \"Topic8\", \"Topic8\", \"Topic8\", \"Topic8\", \"Topic8\", \"Topic8\", \"Topic8\", \"Topic8\", \"Topic8\", \"Topic8\", \"Topic8\", \"Topic8\", \"Topic8\", \"Topic8\", \"Topic8\", \"Topic8\", \"Topic8\", \"Topic8\", \"Topic8\", \"Topic8\", \"Topic8\", \"Topic8\", \"Topic8\", \"Topic8\", \"Topic8\", \"Topic8\", \"Topic8\", \"Topic8\", \"Topic8\", \"Topic8\", \"Topic8\", \"Topic8\", \"Topic8\", \"Topic8\", \"Topic8\", \"Topic8\", \"Topic8\", \"Topic8\", \"Topic8\", \"Topic8\", \"Topic8\", \"Topic8\", \"Topic8\", \"Topic8\", \"Topic8\", \"Topic8\", \"Topic8\", \"Topic8\", \"Topic8\", \"Topic8\", \"Topic8\", \"Topic8\", \"Topic8\", \"Topic8\", \"Topic8\", \"Topic8\", \"Topic8\", \"Topic8\", \"Topic8\", \"Topic8\", \"Topic8\", \"Topic8\", \"Topic8\", \"Topic8\", \"Topic8\", \"Topic8\", \"Topic8\", \"Topic9\", \"Topic9\", \"Topic9\", \"Topic9\", \"Topic9\", \"Topic9\", \"Topic9\", \"Topic9\", \"Topic9\", \"Topic9\", \"Topic9\", \"Topic9\", \"Topic9\", \"Topic9\", \"Topic9\", \"Topic9\", \"Topic9\", \"Topic9\", \"Topic9\", \"Topic9\", \"Topic9\", \"Topic9\", \"Topic9\", \"Topic9\", \"Topic9\", \"Topic9\", \"Topic9\", \"Topic9\", \"Topic9\", \"Topic9\", \"Topic9\", \"Topic9\", \"Topic9\", \"Topic9\", \"Topic9\", \"Topic9\", \"Topic9\", \"Topic9\", \"Topic9\", \"Topic9\", \"Topic9\", \"Topic9\", \"Topic9\", \"Topic9\", \"Topic9\", \"Topic9\", \"Topic9\", \"Topic9\", \"Topic9\", \"Topic9\", \"Topic9\", \"Topic9\", \"Topic9\", \"Topic9\", \"Topic9\", \"Topic9\", \"Topic9\", \"Topic9\", \"Topic9\", \"Topic9\", \"Topic9\", \"Topic9\", \"Topic9\", \"Topic9\", \"Topic9\", \"Topic9\", \"Topic9\", \"Topic9\", \"Topic9\", \"Topic9\", \"Topic9\", \"Topic9\", \"Topic9\", \"Topic9\", \"Topic9\", \"Topic9\", \"Topic9\", \"Topic9\", \"Topic9\", \"Topic9\", \"Topic9\", \"Topic9\", \"Topic10\", \"Topic10\", \"Topic10\", \"Topic10\", \"Topic10\", \"Topic10\", \"Topic10\", \"Topic10\", \"Topic10\", \"Topic10\", \"Topic10\", \"Topic10\", \"Topic10\", \"Topic10\", \"Topic10\", \"Topic10\", \"Topic10\", \"Topic10\", \"Topic10\", \"Topic10\", \"Topic10\", \"Topic10\", \"Topic10\", \"Topic10\", \"Topic10\", \"Topic10\", \"Topic10\", \"Topic10\", \"Topic10\", \"Topic10\", \"Topic10\", \"Topic10\", \"Topic10\", \"Topic10\", \"Topic10\", \"Topic10\", \"Topic10\", \"Topic10\", \"Topic10\", \"Topic10\", \"Topic10\", \"Topic10\", \"Topic10\", \"Topic10\", \"Topic10\", \"Topic10\", \"Topic10\", \"Topic10\", \"Topic10\", \"Topic10\", \"Topic10\", \"Topic10\", \"Topic10\", \"Topic10\", \"Topic10\", \"Topic10\", \"Topic10\", \"Topic10\", \"Topic10\", \"Topic10\", \"Topic10\", \"Topic10\", \"Topic10\", \"Topic10\", \"Topic10\", \"Topic10\", \"Topic10\", \"Topic10\", \"Topic10\", \"Topic10\", \"Topic10\", \"Topic10\", \"Topic11\", \"Topic11\", \"Topic11\", \"Topic11\", \"Topic11\", \"Topic11\", \"Topic11\", \"Topic11\", \"Topic11\", \"Topic11\", \"Topic11\", \"Topic11\", \"Topic11\", \"Topic11\", \"Topic11\", \"Topic11\", \"Topic11\", \"Topic11\", \"Topic11\", \"Topic11\", \"Topic11\", \"Topic11\", \"Topic11\", \"Topic11\", \"Topic11\", \"Topic11\", \"Topic11\", \"Topic11\", \"Topic11\", \"Topic11\", \"Topic11\", \"Topic11\", \"Topic11\", \"Topic11\", \"Topic11\", \"Topic11\", \"Topic11\", \"Topic11\", \"Topic11\", \"Topic11\", \"Topic11\", \"Topic11\", \"Topic11\", \"Topic11\", \"Topic11\", \"Topic11\", \"Topic11\", \"Topic11\", \"Topic11\", \"Topic11\", \"Topic11\", \"Topic11\", \"Topic11\", \"Topic11\", \"Topic11\", \"Topic11\", \"Topic11\", \"Topic11\", \"Topic11\", \"Topic11\", \"Topic11\", \"Topic11\", \"Topic11\", \"Topic11\", \"Topic11\", \"Topic11\", \"Topic11\", \"Topic11\", \"Topic11\", \"Topic11\", \"Topic11\", \"Topic11\", \"Topic11\", \"Topic11\", \"Topic11\", \"Topic11\", \"Topic11\", \"Topic11\", \"Topic11\", \"Topic11\", \"Topic11\", \"Topic12\", \"Topic12\", \"Topic12\", \"Topic12\", \"Topic12\", \"Topic12\", \"Topic12\", \"Topic12\", \"Topic12\", \"Topic12\", \"Topic12\", \"Topic12\", \"Topic12\", \"Topic12\", \"Topic12\", \"Topic12\", \"Topic12\", \"Topic12\", \"Topic12\", \"Topic12\", \"Topic12\", \"Topic12\", \"Topic12\", \"Topic12\", \"Topic12\", \"Topic12\", \"Topic12\", \"Topic12\", \"Topic12\", \"Topic12\", \"Topic12\", \"Topic12\", \"Topic12\", \"Topic12\", \"Topic12\", \"Topic12\", \"Topic12\", \"Topic12\", \"Topic12\", \"Topic12\", \"Topic12\", \"Topic12\", \"Topic12\", \"Topic12\", \"Topic12\", \"Topic12\", \"Topic12\", \"Topic12\", \"Topic12\", \"Topic12\", \"Topic12\", \"Topic12\", \"Topic12\", \"Topic12\", \"Topic12\", \"Topic12\", \"Topic12\", \"Topic12\", \"Topic12\", \"Topic12\", \"Topic12\", \"Topic12\", \"Topic12\", \"Topic12\", \"Topic12\", \"Topic12\", \"Topic12\", \"Topic12\", \"Topic12\", \"Topic12\", \"Topic12\", \"Topic12\", \"Topic12\", \"Topic12\", \"Topic12\", \"Topic12\", \"Topic13\", \"Topic13\", \"Topic13\", \"Topic13\", \"Topic13\", \"Topic13\", \"Topic13\", \"Topic13\", \"Topic13\", \"Topic13\", \"Topic13\", \"Topic13\", \"Topic13\", \"Topic13\", \"Topic13\", \"Topic13\", \"Topic13\", \"Topic13\", \"Topic13\", \"Topic13\", \"Topic13\", \"Topic13\", \"Topic13\", \"Topic13\", \"Topic13\", \"Topic13\", \"Topic13\", \"Topic13\", \"Topic13\", \"Topic13\", \"Topic13\", \"Topic13\", \"Topic13\", \"Topic13\", \"Topic13\", \"Topic13\", \"Topic13\", \"Topic13\", \"Topic13\", \"Topic13\", \"Topic13\", \"Topic13\", \"Topic13\", \"Topic13\", \"Topic13\", \"Topic13\", \"Topic13\", \"Topic13\", \"Topic13\", \"Topic13\", \"Topic13\", \"Topic13\", \"Topic13\", \"Topic13\", \"Topic13\", \"Topic13\", \"Topic13\", \"Topic13\", \"Topic13\", \"Topic13\", \"Topic13\", \"Topic13\", \"Topic13\", \"Topic13\", \"Topic13\", \"Topic13\", \"Topic13\", \"Topic13\", \"Topic13\", \"Topic13\", \"Topic13\", \"Topic14\", \"Topic14\", \"Topic14\", \"Topic14\", \"Topic14\", \"Topic14\", \"Topic14\", \"Topic14\", \"Topic14\", \"Topic14\", \"Topic14\", \"Topic14\", \"Topic14\", \"Topic14\", \"Topic14\", \"Topic14\", \"Topic14\", \"Topic14\", \"Topic14\", \"Topic14\", \"Topic14\", \"Topic14\", \"Topic14\", \"Topic14\", \"Topic14\", \"Topic14\", \"Topic14\", \"Topic14\", \"Topic14\", \"Topic14\", \"Topic14\", \"Topic14\", \"Topic14\", \"Topic14\", \"Topic14\", \"Topic14\", \"Topic14\", \"Topic14\", \"Topic14\", \"Topic14\", \"Topic14\", \"Topic14\", \"Topic14\", \"Topic14\", \"Topic14\", \"Topic14\", \"Topic14\", \"Topic14\", \"Topic14\", \"Topic14\", \"Topic14\", \"Topic14\", \"Topic14\", \"Topic14\", \"Topic14\", \"Topic14\", \"Topic14\", \"Topic14\", \"Topic14\", \"Topic14\", \"Topic14\", \"Topic14\", \"Topic14\", \"Topic14\", \"Topic14\", \"Topic14\", \"Topic14\", \"Topic14\", \"Topic14\", \"Topic14\", \"Topic14\", \"Topic14\", \"Topic14\", \"Topic14\", \"Topic15\", \"Topic15\", \"Topic15\", \"Topic15\", \"Topic15\", \"Topic15\", \"Topic15\", \"Topic15\", \"Topic15\", \"Topic15\", \"Topic15\", \"Topic15\", \"Topic15\", \"Topic15\", \"Topic15\", \"Topic15\", \"Topic15\", \"Topic15\", \"Topic15\", \"Topic15\", \"Topic15\", \"Topic15\", \"Topic15\", \"Topic15\", \"Topic15\", \"Topic15\", \"Topic15\", \"Topic15\", \"Topic15\", \"Topic15\", \"Topic15\", \"Topic15\", \"Topic15\", \"Topic15\", \"Topic15\", \"Topic15\", \"Topic15\", \"Topic15\", \"Topic15\", \"Topic15\", \"Topic15\", \"Topic15\", \"Topic15\", \"Topic15\", \"Topic15\", \"Topic15\", \"Topic15\", \"Topic15\", \"Topic15\", \"Topic15\", \"Topic15\", \"Topic15\", \"Topic15\", \"Topic15\", \"Topic15\", \"Topic15\", \"Topic15\", \"Topic15\", \"Topic15\", \"Topic15\", \"Topic15\", \"Topic15\", \"Topic15\", \"Topic15\", \"Topic15\", \"Topic15\", \"Topic15\", \"Topic15\", \"Topic15\", \"Topic15\", \"Topic15\"], \"Freq\": [5174.0, 2369.0, 1045.0, 1656.0, 2694.0, 3017.0, 1957.0, 4731.0, 899.0, 1327.0, 850.0, 2723.0, 4919.0, 3089.0, 1750.0, 3544.0, 695.0, 3528.0, 1802.0, 843.0, 3738.0, 2131.0, 1243.0, 2302.0, 1152.0, 1529.0, 769.0, 1416.0, 998.0, 1108.0, 74.50354223753865, 71.52604729342852, 83.95613752791495, 32.818611487017485, 37.60031883100929, 30.833615051984083, 29.841116383937177, 56.690799785051134, 27.85611895199852, 24.878624970791538, 30.571436217255638, 27.679519794211622, 22.89362769337215, 19.916131544342328, 18.923635040581008, 17.931136399847087, 20.753925214756876, 35.75788470400903, 16.938638198777635, 16.938638104315466, 16.938637842082088, 15.946140054020127, 15.946140024303787, 15.946139398775376, 15.944960566811254, 14.953641700965553, 14.95364154556149, 14.953641393461858, 14.953636805643265, 13.961142950179015, 27.83648520019983, 464.9766973151315, 58.934833332836604, 115.4884788035951, 953.622702230413, 138.94682967286386, 75.17955900970047, 38.958277341400546, 54.43796359074352, 34.5618319850397, 885.6994001610136, 89.32351810613652, 186.46202810553766, 112.10931232350839, 323.3839284927, 74.21799429090116, 491.0726068660241, 653.8537333129732, 444.6002512763156, 62.36697869724337, 195.3306404488868, 80.5606304170077, 442.3231916909052, 889.9129024532755, 480.6329860199598, 144.61938756336704, 228.0250526226435, 416.250637729666, 522.2187765608301, 336.98299278564133, 297.3625366586406, 164.33529328016502, 197.5659973780157, 518.6670323085596, 380.5359235376477, 1149.3265248617154, 870.284555027295, 312.31466268302773, 592.7858261131905, 769.9458124999486, 410.8936179319772, 436.9787160329633, 1407.8818815862428, 321.7462041137492, 657.546744538463, 298.63220902614574, 357.74324769750467, 339.728514227921, 367.8060590924825, 667.4319139684605, 508.651740498993, 470.62847948613853, 512.3370289127275, 440.068537813398, 527.2242144530067, 505.87742148144815, 516.1627738122168, 437.3910395813797, 387.4806033872522, 508.47694514738794, 327.4812783031456, 109.20373506197151, 83.86794882905046, 75.09786900035739, 60.48106917566038, 59.48859005682045, 47.813176085653765, 84.05199617544874, 40.99200285671042, 40.99200280355066, 35.14528296871467, 34.17081530530815, 29.29856307155649, 29.298563026890765, 27.34965641204178, 27.349656052364818, 26.37520312504892, 26.37520292451947, 24.426296451933688, 24.4262964301622, 24.34566042307268, 22.46070724995328, 21.502936546767028, 21.502936391217773, 21.5029362644159, 19.554029888215602, 19.55402950338501, 18.5795765861042, 18.579576478673, 1833.0653766337705, 482.07641587884945, 48.65138311294652, 35.10886998173963, 349.1336344803445, 270.93391361202674, 42.940176497803265, 2230.035524625859, 738.839714785799, 731.5319561489925, 384.5012835337591, 42.736166070451745, 122.97399898410133, 328.22921811083495, 169.5830202580262, 190.73078557155674, 387.42940765889864, 787.8432923544397, 241.55073411070094, 732.3877570824149, 1430.2462050800177, 86.85762857996377, 179.1585706063731, 154.44459074116503, 199.9189825726077, 960.9699636305568, 817.123285252959, 495.8334647701531, 216.81194300896132, 678.0664602490483, 1441.5966295841142, 335.13669811335456, 206.84571089194168, 420.92723210964584, 717.9317587025611, 429.6833148044669, 327.97254652619563, 401.2979877474656, 417.0564285018659, 379.0334642017495, 447.6363025686954, 363.6799462499923, 392.76388073233574, 349.7919070949854, 384.3183473930459, 842.5063290530577, 200.0562273467297, 139.57064878595176, 134.66504034217306, 58.59904430243618, 47.86780970653182, 42.961443954492246, 37.136575334250885, 35.18544092109871, 351.71451322507755, 29.332018871437413, 233.28703725163103, 28.35647413200502, 21.527506586451704, 39.07895953859713, 17.625239730595958, 16.64967202055593, 16.64165184686634, 15.674106266888714, 44.04992085665056, 14.698539459936283, 14.698539091245124, 14.698539033374853, 14.69853861940974, 13.72297265100409, 12.747405916091159, 12.747405873511044, 12.74740572748681, 12.742427647102078, 30.80692765950275, 577.5456996010084, 109.1179031251399, 157.88663075923006, 714.7890125375776, 336.74135695451184, 177.25119639646084, 34.982519290242344, 170.33557928193602, 150.8529717738762, 58.00196512422087, 38.83636937457238, 50.83015090797963, 92.52198947537984, 353.6638923168096, 1786.1517173811847, 105.9372843565991, 649.3344382241924, 180.47653782901526, 275.7733077189449, 1177.072959177991, 415.7372075084074, 846.4519580106023, 387.10741880618946, 512.1692577443587, 606.1995637232809, 1652.8076048678247, 268.69333452685015, 306.60822481158834, 408.83277708536616, 281.8128825188607, 815.6897110425804, 328.5796041346544, 997.5646538751402, 285.15157315544224, 661.7890099947705, 478.8349610756104, 282.9557498428788, 311.63077615641157, 449.45403925153784, 403.1161623814397, 361.95043848378543, 346.4821699763743, 356.6981574743004, 350.43707496540964, 306.80477127550193, 319.8375878935872, 43.16425125720457, 27.127996931303084, 20.11213571034744, 23.912622818452054, 19.10986975483206, 19.109869652701807, 19.10986955977743, 13.096274423147463, 13.096274313239302, 19.601771076011964, 12.094008372340138, 12.094008256770177, 12.094006872504773, 11.091742593711354, 11.09174247980048, 63.80999859049861, 10.08947614053971, 10.089474157969908, 10.089464541400528, 21.114401528751667, 9.087210840301085, 9.08721078581197, 9.087210703349065, 8.084944938795044, 8.084944884119869, 8.084944882102084, 8.084944839078576, 8.084944836010282, 8.084944456458325, 8.084944401998019, 64.69449549084688, 35.01944960508578, 133.2921329809911, 93.79931676716242, 43.47678310631856, 79.03161984697958, 164.357983730344, 250.68838003862527, 446.7839050573869, 210.02213378632953, 77.49593854082818, 1756.7385731649895, 213.2433618730314, 1421.980701793188, 71.26957712017189, 290.4079016335427, 26.410998108443586, 57.681336386494195, 34.351058172103016, 779.5869616115543, 1738.5206454124343, 364.55435235538073, 249.32849595077462, 304.9290794023491, 811.1279634778847, 153.98990990067344, 444.95187370141906, 431.1198336248693, 283.59939843177995, 221.8292825499495, 390.5721541113192, 844.3368174612403, 633.8579506730188, 535.0313466247243, 718.508514435226, 694.2097542597897, 234.84489505844093, 244.78876106367574, 244.29809252709825, 471.1050011920946, 382.8015731321206, 423.2874606154226, 426.2287670572709, 347.2769485733494, 344.29001290974077, 301.2039871857582, 313.877008701646, 319.8329094131214, 305.43841499251647, 309.5600054248822, 280.171403806722, 297.2000026546991, 157.3146953427707, 102.3241697362302, 77.2424157467774, 68.55987944176107, 57.94789054679145, 126.13923893866541, 55.05371110837684, 52.159489546327194, 47.333396656626135, 45.40069817216636, 116.76731031510965, 32.86500778414894, 30.935294890062654, 28.041376504563946, 58.86535577875774, 25.147197332260824, 24.182471360298802, 24.18247050854143, 24.182468683452594, 25.08798900623778, 23.217745220478086, 23.21774514988885, 22.25301876294767, 21.288292259995245, 19.358840182387702, 19.358840172227833, 39.61453935357027, 117.92080558131399, 17.419381937209717, 2118.268479186483, 79.90724736316284, 119.70575235520273, 497.02704820451385, 172.56365405287295, 210.05116221037474, 133.72505802738723, 122.21279255841345, 73.80332196699041, 324.3230823445081, 100.83333515720771, 661.0524610812259, 306.23564441953187, 705.0783534239482, 137.37856316572672, 433.5095951264776, 287.4513631863223, 251.2144470003027, 518.7099299876802, 316.86299823746185, 230.13453903212744, 190.21555796721356, 965.5980188473313, 1279.9183200763503, 1552.1111644270716, 833.2076414634632, 248.22640156986054, 631.6161893132404, 390.6392199171059, 470.6966840208105, 534.4466762705177, 322.9106221257905, 313.33906376940286, 247.46008743463227, 809.2963277261156, 339.85056238671683, 440.36024882595547, 499.26775486096443, 336.61910625449417, 482.7038770521662, 328.4789727743049, 370.4685375563646, 329.2952202457418, 300.9385093655346, 49.23464030119165, 105.10935103647094, 43.44989143231919, 36.7010173075751, 30.916268969471457, 29.952144060421247, 26.078322500379567, 23.20326967285335, 22.189513878176854, 357.1419541490766, 18.38264624587324, 17.418521498451977, 17.418521333341506, 16.45439668389402, 16.454396620432224, 37.51153418892833, 15.490271889430316, 15.490271761316926, 14.526146994858586, 17.193724497256536, 13.562022271795591, 13.562022262007343, 47.98434768864006, 42.44041252837858, 12.597897544817709, 12.597897359326192, 25.979838795651684, 137.17764395613378, 22.209781129061874, 10.669647784403995, 1530.0416714915996, 40.557300331776034, 24.029081327353705, 43.759608796165494, 60.50417775164748, 46.470164252434074, 557.2728897575123, 86.70593141346487, 51.26389508100019, 391.8787284046626, 40.01140255698567, 48.1088030096075, 139.12387507854748, 367.04083492405823, 178.51090718120022, 420.4704054811397, 192.7431132874456, 686.9849269151193, 782.9370494710656, 109.89068074836402, 105.2611020963001, 134.5211583619995, 123.65635269981034, 329.70795809186404, 413.1924509739933, 130.3355755256048, 388.0117319479274, 572.9032798376354, 192.4932762094466, 141.69745407676015, 208.69411077752878, 112.123402703894, 120.73195284082095, 333.83426688240075, 297.29979069117974, 234.72238243086986, 259.9906070401017, 143.18879451096907, 192.0795063459032, 175.84218837763657, 157.0426601722809, 164.32148825175562, 170.59070561299984, 224.44872955919865, 193.5916765895407, 168.81866630463367, 191.72782151834875, 185.22621097726937, 168.69533569029196, 176.49303482760624, 171.4787034795594, 49.484561738044235, 36.887316916806725, 23.321053158582245, 49.886330997086986, 17.50694030021189, 17.50694030021189, 17.506940180282857, 15.568902621540145, 15.56890258964466, 15.568902371015456, 29.268598738529352, 12.661846145737542, 12.661845983794759, 12.661845823464864, 12.66149569898825, 11.692827110010928, 124.13459072309551, 10.72380842657363, 10.723808017460474, 58.7047641561738, 470.9066352485796, 9.754789587376598, 9.754789587376598, 9.754789402193943, 8.785770785334654, 8.785770765482072, 8.785770530410264, 8.785766616748429, 8.785520670781354, 7.816751908799786, 21.28675135337514, 59.129172182829436, 181.26910771186002, 65.03635993429015, 187.71761960216904, 296.7372325891702, 94.32544861767971, 35.149694210649756, 63.82104637047302, 306.594576408802, 151.8598790376267, 25.85280043544434, 43.54065099008685, 939.4625936726094, 24.29007226983714, 110.5595270341418, 295.23346985642144, 176.96884095851684, 546.5329286158562, 29.83229393495648, 650.1028746155682, 148.32771988155258, 268.1999420853153, 391.6433913007604, 200.8920990675265, 152.07919261142754, 681.4334448634152, 252.4026346975581, 483.0016533416041, 100.94246638534314, 549.0015007452253, 234.46691711070252, 204.94045481145307, 333.3214253407884, 249.82077273273362, 163.20124808444075, 294.5437443949662, 216.2226055074906, 336.5422972060669, 265.92242724612584, 245.22600388395273, 210.50454751421844, 230.9639699592661, 235.02791791433373, 196.82209845936808, 195.54217668355503, 196.72916071918587, 190.1318887015795, 69.1310384615952, 57.279388123976986, 52.35761166306422, 39.53163940275664, 32.625113746909875, 43.55438604518563, 19.798708282133624, 19.79870822399605, 16.83876835061916, 14.865475314140081, 13.878827722299917, 11.90553555085018, 11.905535543624424, 11.905535527454749, 11.905535221131016, 10.918889020787274, 10.918888994805233, 10.918888765694552, 10.91888826310218, 10.918887965565013, 18.134491137091025, 9.892303051135412, 8.945595702567244, 8.945595585703236, 8.94559555004931, 8.945595531941738, 8.945595333658442, 16.83876866237971, 7.958949191796265, 7.9589491753235215, 300.3168247142838, 9.690096271764535, 39.05024790265122, 1022.5384748207773, 26.777109066227563, 226.63700607099793, 2497.984542426674, 34.485540178266604, 163.79112668986025, 340.0702736436771, 594.9064262866797, 250.75044479689822, 103.23909132466895, 29.010632598600132, 56.61577740528559, 104.83226037701577, 300.2549967244912, 114.82053449181008, 212.91394158557625, 216.00400639493245, 139.16123569754927, 314.23824988877965, 78.92267795635203, 149.60601152868097, 116.0344350721483, 343.3155260394534, 94.0119412203289, 169.46986852327834, 320.84113494869854, 192.70593144195377, 304.77937102165566, 251.71198011004304, 349.9349629031495, 146.2510412375681, 244.05888635682194, 199.33406031608854, 202.4762449674047, 317.52355505193316, 226.54298646165782, 266.38126669531476, 237.48167009078068, 190.3420849216085, 160.61923368884607, 189.81518735119045, 189.8944648835461, 179.45447528494333, 178.88774030162665, 174.89714059015287, 58.34333683601952, 30.59016375296425, 26.835260768389382, 24.114423454272647, 22.264211838044712, 20.414000498944688, 20.41400003843607, 19.48889447753409, 18.563788624749474, 16.713577443708196, 16.713572447265918, 15.788471629330557, 15.788471571136569, 20.17723914537444, 14.863350772007001, 13.93826007891455, 13.938259523715267, 13.013154410563555, 13.013154388414787, 13.013154023444262, 12.088048238752885, 11.16294276810143, 11.162942730435441, 17.960973374448674, 10.237836967539254, 9.312731355424193, 9.312731355424177, 8.38762557368509, 8.387625555789208, 8.387625519093412, 17.622112930705082, 27.72016231942508, 16.506746180386685, 137.53362720060147, 92.7663521076422, 57.280182856248864, 60.770477086917, 76.2113250496601, 181.01086791471357, 148.3077724464979, 371.0803565050969, 20.414000429252575, 212.69168740607424, 68.75877176883847, 36.60388146963928, 33.0052395936048, 30.090664089841223, 68.8028051359678, 57.58589939416271, 239.8076476522602, 90.16130611863579, 37.54414841932243, 61.587543344509285, 292.43932958427115, 62.71590858563282, 64.41895901800332, 187.54953841049425, 218.39319850622726, 48.75250096137335, 158.3985342850156, 111.82986927064108, 200.85145303181554, 102.86233385198229, 150.86307614663158, 111.3586401843706, 106.38486407072975, 103.67191102879615, 158.09080347368598, 90.36790016362731, 131.8081432719852, 94.97846826587346, 134.61171980841826, 142.90426632274983, 106.81245796724728, 130.5958659542302, 131.24802975016547, 121.85832183102751, 100.31709865943743, 104.82132951480023, 103.24909550348109, 108.0907281499858, 101.72334647587898, 55.322751943607884, 38.4452389976989, 37.52705829771083, 30.97075040120858, 30.03413503410579, 27.224288807995478, 27.224288604356932, 26.287673221379052, 25.351057769659953, 23.477826838065706, 20.667980505096004, 20.667979977820202, 18.794749783015217, 18.794748752315925, 17.85813424344534, 17.858134224191442, 37.466917688521434, 18.721765486639836, 16.921518848621044, 15.984903342262703, 15.048287848850041, 12.238441101026613, 11.301826194543448, 22.54121170831997, 10.365210753489949, 10.365210723216153, 10.365210431524995, 21.590670180422638, 9.428595434767562, 9.42789344013693, 38.25248105826541, 18.76062602213819, 61.87905943601531, 39.43547607183521, 72.28451213519902, 36.95321209706332, 27.131383311410392, 41.55423553832368, 104.97519767512675, 35.18416246267045, 26.507925522703562, 241.27241308525836, 137.57747023699983, 374.2109737141336, 111.47153940638873, 26.287530067434343, 110.5092374273824, 295.7489883198271, 117.89746521773323, 288.61996246538337, 370.2511350977856, 284.2326145441705, 75.15784025976811, 136.05300673997363, 144.8102950248496, 183.90467304456376, 94.94935517357881, 191.90877934314966, 84.05352504050485, 149.15644098149062, 139.32314121528105, 104.92657664873855, 139.576932798494, 121.05448897713795, 98.16994866568348, 65.8015992091822, 74.68715766002623, 82.24327207066167, 108.68446107328407, 99.64439258456254, 90.70383628425576, 84.83840109437709, 43.88701960655198, 16.495675918048462, 14.669586310096681, 13.756541529504, 13.75654131634718, 11.930451890581034, 19.22493352903639, 9.19131746358892, 20.076091284101164, 8.278272757348919, 8.278272735371477, 8.278272718099617, 8.278272688262078, 8.278272496700604, 8.278272305549372, 8.276635103074465, 806.4995304551397, 7.365227894784281, 7.365227883902817, 7.365227864583796, 7.36522750969744, 7.36522702657214, 7.364923697751644, 15.355202315426242, 13.756541567606007, 6.452183171992749, 6.452183132430116, 6.452183119220581, 6.4521829630631125, 16.132339997923943, 47.308450616979805, 20.134265979532504, 43.36941655462223, 43.75007082009919, 44.30558225507147, 576.0838897335169, 11.930451633071254, 38.400512031547095, 11.733410804814364, 11.004222245560678, 52.876856552506965, 377.83725629678133, 30.18458186213948, 44.9323308393795, 11.57747170375362, 19.5838092377139, 16.15928009941322, 54.52818657740312, 69.0336644249874, 31.506309316211265, 84.43806040631269, 39.67154076866737, 124.03229828809299, 354.5731299370293, 111.23689068382002, 75.47035349520993, 202.80493891090782, 76.63775755071397, 202.9293077254679, 358.8055481286841, 96.70835618682308, 98.57101715993464, 92.8143048353475, 109.11010408182922, 59.60627223850342, 194.54466566910375, 173.53073395926384, 98.71087061968109, 100.76846581150308, 140.25614887880326, 117.68421134160535, 115.65647120294877, 86.73520663843415, 89.92826904246095, 64.26139175428364, 90.83544356905652, 97.50100130919431, 80.17217278359782, 75.74640322230347, 79.82325738472699, 80.1467831409806, 1044.7417857117457, 165.48287926818463, 47.37281720650372, 27.93010557765568, 23.434916922382758, 19.838765979178277, 19.838765966236597, 18.939728176302506, 18.039869557391675, 17.141652822296663, 17.14165275330761, 15.343577317844794, 15.343577295213658, 15.343577269710426, 14.444539597821496, 14.444538852549073, 11.747426335722366, 9.949350867697092, 9.949350832128786, 9.94935009855895, 9.949348450838214, 9.0503131665518, 9.050312884420503, 8.15127542335765, 8.15127534740741, 8.151275199849154, 7.252237669808611, 7.252237640138793, 7.252237636795245, 7.252237156567155, 15.33769212099971, 18.928945467250507, 22.391857877931567, 410.04803452466945, 21.390691821497214, 102.3782799297156, 15.335531990487107, 24.27765882332284, 20.450371586079264, 119.49654681382407, 34.50956022581705, 51.413335361237486, 43.76896557214913, 55.731245084903726, 79.74650672503167, 214.26335116984868, 142.95359327298019, 68.89147380002235, 90.79572190140541, 85.43084666602562, 44.798511057114446, 38.525788590033756, 47.25482231846858, 138.49717413814224, 32.73251978617221, 50.32850327738057, 120.60960234637876, 52.99870687383725, 115.77002316121884, 86.13309474317514, 125.01280858765378, 88.28036350737146, 102.22668843416655, 98.13884168470481, 96.57726915573346, 84.32792268881153, 66.29128132182323, 69.99596506268037, 64.50122415053146, 79.58260019727514, 60.966821452414024, 64.76125046568349, 70.28194490166365, 67.7742863079737, 70.31389814201411, 67.3703595723176, 24.337291930452828, 20.01466112935587, 18.279285806585268, 17.411598333647134, 13.073160209444207, 13.073160189326055, 13.073160140185788, 13.073160124911947, 12.20547254428315, 11.337784877347845, 10.470097331614088, 10.47009728606181, 10.469859016894063, 9.602409717753282, 9.602409695454552, 8.734721884109112, 6.999346830327191, 6.999346768416325, 6.9993467058348475, 6.985686762014637, 47.34535531695551, 7.753019858915078, 6.131659205819899, 6.131659194553674, 6.131659165328616, 6.131658956879771, 6.131658903042599, 11.337784936106475, 76.41539305680908, 5.263971580597383, 5.263971580597383, 15.676223118462282, 75.67617683896225, 57.134331547049584, 10.46758359100803, 52.91419994301397, 89.98484936315207, 35.8899410263285, 91.59416217830473, 57.84488583287229, 24.55799857987863, 221.1693464666089, 13.870483023534867, 23.740006382909826, 76.06965338576241, 89.31474244002267, 45.18553616757416, 64.95821456675728, 203.37989776065046, 42.8653430014045, 107.54078623511525, 187.34321398124706, 58.443075913782685, 126.41502162204246, 73.67100643022162, 133.71085700197344, 86.02481473967907, 30.96092161800372, 148.44214652540765, 63.53997993241516, 65.80213559761506, 30.687549600114494, 73.36972920692223, 48.30743507636104, 45.43524266715513, 55.453621970220524, 55.71430224877566, 52.180808924622355, 55.8598294144337, 57.559116823954696, 55.48988190754362, 152.96161647727487, 60.70628587979908, 30.808724717386575, 13.724404189702835, 11.161756076560836, 10.30754008299737, 10.30754008299737, 10.307539806361225, 9.453324035731054, 14.97531017457908, 8.59910798456559, 8.599107953899537, 7.744891973073566, 7.744891897288801, 7.744891870072784, 7.744891611297235, 6.890675961735894, 6.890675961735894, 6.89067594450593, 6.890675942418713, 6.890675821049725, 6.890675770960413, 22.959944395489767, 14.390256118539904, 6.036459927808321, 6.036459913999178, 6.036459913999178, 6.036459905567411, 6.036459844274755, 6.036459741901158, 96.14270968988887, 194.9300964197829, 48.03073052261564, 18.849700552036765, 37.0438158360973, 194.70022867062946, 11.581611445987043, 17.86239919811321, 22.816238773829717, 26.45935623524216, 90.22065052282946, 77.89604825027618, 11.096307980285609, 42.84358572757815, 30.63145640877161, 27.50795040867418, 32.62529300888183, 147.41247561372018, 31.89783473242559, 107.65424540823088, 31.12122487154763, 32.11070858496274, 58.68877841104678, 21.733813778111976, 49.64808796731989, 100.7490944926207, 54.91159407254385, 35.18621236309297, 50.76818208809874, 53.11035158278455, 50.84572980156981, 79.52057760542739, 56.44117931906996, 73.33180415771596, 75.40964370433188, 78.43967134457775, 60.63175600086401, 61.11362074223684, 51.30978181239898, 45.79725604638486, 47.745906250482626, 52.67261189020417, 54.4608781736307, 50.58701079709035, 19.35535984807887, 16.723966462218787, 16.723966377646537, 14.969704288250915, 14.09257326713159, 28.12667127075489, 13.21544202321259, 11.461179869568083, 11.461179678419144, 10.584048478648517, 9.70691766587002, 9.706917575965404, 9.706917506579085, 8.829786547779097, 8.829786497983692, 8.82978647326027, 7.952655416107678, 7.952654847887732, 7.075524236439061, 7.075524227730464, 7.07552419493164, 7.075524145339305, 7.075523893965828, 7.075523772654305, 14.077982105054778, 120.6985314765641, 13.215442100178677, 21.10962224975568, 34.93418802490807, 13.205584499453256, 61.13213132085503, 253.51153959056322, 67.74797430103102, 22.829339672556213, 12.222027323872148, 12.156206140693788, 28.251102836257914, 24.184605419916274, 36.09738814758489, 105.18403240885975, 44.01777129438783, 51.64908258639892, 43.81582117379475, 18.041542849555984, 138.778718093614, 58.16880916018615, 20.871372317314286, 42.99489094687749, 84.02422916392176, 29.78521510047291, 47.525467277805376, 43.28849851919603, 40.83248733365484, 49.893884419256715, 38.865700202755015, 28.925702576327176, 51.77500647480398, 71.39674887505569, 26.515350164750004, 43.43380197077705, 41.86847688397249, 39.64606633448965, 41.093163728899675, 34.61311727945863, 51.719346623037815, 49.33669723126324, 43.25072123768936, 48.44291151079797, 40.987104554909465, 44.89272784180903, 41.294317065419285], \"Term\": [\"google\", \"cloud\", \"drupal\", \"apple\", \"machine\", \"customer\", \"learning\", \"company\", \"docker\", \"android\", \"container\", \"business\", \"datum\", \"product\", \"image\", \"service\", \"module\", \"people\", \"digital\", \"blockchain\", \"build\", \"software\", \"facebook\", \"application\", \"server\", \"content\", \"command\", \"language\", \"consumer\", \"store\", \"elasticsearch\", \"django\", \"constructor\", \"copywrite\", \"bayesian\", \"recyclerview\", \"padding\", \"integer\", \"observable\", \"struct\", \"proguard\", \"phpstorm\", \"saxena\", \"methods\", \"hashmap\", \"rollup\", \"parallelism\", \"causal\", \"setter\", \"fasttext\", \"transpile\", \"regress\", \"tuple\", \"searcher\", \"minification\", \"vectorization\", \"openjdk\", \"aggregated\", \"devtools\", \"overwrite\", \"nested\", \"filter\", \"rails\", \"compiler\", \"method\", \"syntax\", \"schema\", \"conditional\", \"streams\", \"heading\", \"function\", \"snippet\", \"keyword\", \"generic\", \"variable\", \"generator\", \"element\", \"class\", \"query\", \"immutable\", \"string\", \"async\", \"javascript\", \"event\", \"return\", \"index\", \"parameter\", \"error\", \"library\", \"implementation\", \"property\", \"angular\", \"array\", \"object\", \"stream\", \"example\", \"write\", \"contain\", \"simple\", \"value\", \"framework\", \"database\", \"datum\", \"document\", \"result\", \"style\", \"implement\", \"define\", \"generate\", \"create\", \"number\", \"content\", \"problem\", \"search\", \"different\", \"thing\", \"change\", \"start\", \"follow\", \"neural\", \"tensorflow\", \"deepmind\", \"scikit\", \"openai\", \"hyperparameter\", \"classifier\", \"convolutional\", \"neuron\", \"theano\", \"unsupervised\", \"corrado\", \"supervised\", \"keras\", \"imagenet\", \"hinton\", \"turing\", \"deeptext\", \"heron\", \"brockman\", \"lecun\", \"seesaw\", \"supervise\", \"giannandrea\", \"scipy\", \"homebot\", \"perceptron\", \"hendrix\", \"makoto\", \"bengio\", \"learning\", \"artificial\", \"networks\", \"reinforcement\", \"researcher\", \"recognition\", \"computational\", \"machine\", \"intelligence\", \"algorithm\", \"train\", \"nvidia\", \"classification\", \"scientist\", \"accuracy\", \"dataset\", \"training\", \"human\", \"robot\", \"computer\", \"learn\", \"robotic\", \"prediction\", \"speech\", \"student\", \"model\", \"image\", \"research\", \"predict\", \"network\", \"datum\", \"science\", \"python\", \"language\", \"google\", \"problem\", \"search\", \"technology\", \"example\", \"software\", \"build\", \"feature\", \"people\", \"world\", \"company\", \"blockchain\", \"fintech\", \"insurer\", \"ledger\", \"coindesk\", \"jpmorgan\", \"telecom\", \"insurtech\", \"torus\", \"insurance\", \"consensys\", \"ethereum\", \"graphene\", \"hyperledger\", \"settlement\", \"rakuten\", \"demandware\", \"gourmet\", \"virtu\", \"agriculture\", \"tapia\", \"banks\", \"treasury\", \"sofman\", \"adtech\", \"vlendright\", \"walkme\", \"bitcasa\", \"securities\", \"corda\", \"financial\", \"incumbent\", \"institution\", \"bitcoin\", \"banking\", \"currency\", \"julie\", \"sector\", \"finance\", \"ether\", \"digitization\", \"consortium\", \"disruption\", \"analytic\", \"customer\", \"mckinsey\", \"industry\", \"contract\", \"transaction\", \"technology\", \"marketing\", \"digital\", \"percent\", \"consumer\", \"market\", \"company\", \"investment\", \"innovation\", \"startup\", \"global\", \"business\", \"growth\", \"datum\", \"opportunity\", \"service\", \"experience\", \"brand\", \"report\", \"platform\", \"world\", \"provide\", \"include\", \"product\", \"create\", \"offer\", \"value\", \"globant\", \"silbermann\", \"marketscape\", \"tactical\", \"swanest\", \"smarterchild\", \"kinvey\", \"tettra\", \"goodson\", \"zendesk\", \"lizardcoin\", \"shuddle\", \"robotium\", \"jassy\", \"cello\", \"coaching\", \"reconsider\", \"chromecast\", \"yammer\", \"cognizant\", \"laude\", \"instapaper\", \"pinner\", \"tetra\", \"fjord\", \"vickers\", \"hoffer\", \"madden\", \"additive\", \"mentoring\", \"telegram\", \"bezos\", \"pinterest\", \"consultancy\", \"printer\", \"governance\", \"leadership\", \"culture\", \"employee\", \"talent\", \"coach\", \"product\", \"agency\", \"business\", \"workplace\", \"slack\", \"recruiting\", \"snapchat\", \"quadrant\", \"digital\", \"company\", \"enterprise\", \"leader\", \"strategy\", \"design\", \"transformation\", \"focus\", \"market\", \"growth\", \"success\", \"organization\", \"people\", \"platform\", \"experience\", \"service\", \"build\", \"manager\", \"engineer\", \"decision\", \"customer\", \"technology\", \"change\", \"create\", \"model\", \"think\", \"great\", \"value\", \"developer\", \"world\", \"start\", \"process\", \"kubernetes\", \"balancer\", \"datastore\", \"gcloud\", \"subnet\", \"stackdriver\", \"elastic\", \"kinesis\", \"firewall\", \"serverless\", \"cassandra\", \"bigquery\", \"dynamodb\", \"cloudfront\", \"bigtable\", \"dataflow\", \"cloudwatch\", \"decrypt\", \"slides\", \"qunit\", \"instances\", \"failover\", \"openstack\", \"resharper\", \"nodejs\", \"dataproc\", \"quizlet\", \"vmware\", \"balancing\", \"datastax\", \"cloud\", \"gateway\", \"workload\", \"storage\", \"proxy\", \"backend\", \"encryption\", \"networking\", \"firebase\", \"cluster\", \"encrypt\", \"instance\", \"compute\", \"server\", \"apache\", \"engine\", \"configuration\", \"deployment\", \"request\", \"infrastructure\", \"spring\", \"configure\", \"application\", \"service\", \"google\", \"platform\", \"traffic\", \"support\", \"resource\", \"performance\", \"network\", \"security\", \"address\", \"deploy\", \"datum\", \"access\", \"provide\", \"create\", \"available\", \"build\", \"update\", \"developer\", \"include\", \"allow\", \"federighi\", \"palantir\", \"mycroft\", \"leadfeeder\", \"knapp\", \"sierra\", \"schiller\", \"airpods\", \"burnout\", \"iphone\", \"javetski\", \"chester\", \"phippy\", \"popslate\", \"harald\", \"emulator\", \"alptitude\", \"zigbee\", \"maechler\", \"buzzfeed\", \"montgomery\", \"posey\", \"macbook\", \"comic\", \"ibook\", \"strictmode\", \"itunes\", \"steve\", \"watchos\", \"kimberly\", \"apple\", \"icloud\", \"franz\", \"emoji\", \"bluetooth\", \"nadella\", \"email\", \"inbox\", \"rumor\", \"phone\", \"debut\", \"dropbox\", \"meeting\", \"microsoft\", \"friend\", \"device\", \"watch\", \"thing\", \"people\", \"camera\", \"permission\", \"smartphone\", \"music\", \"really\", \"think\", \"voice\", \"feature\", \"company\", \"little\", \"personal\", \"message\", \"stuff\", \"promise\", \"product\", \"start\", \"right\", \"design\", \"office\", \"today\", \"actually\", \"spend\", \"month\", \"place\", \"build\", \"experience\", \"launch\", \"software\", \"world\", \"question\", \"include\", \"developer\", \"monolith\", \"ceramic\", \"aquifer\", \"microservices\", \"heroservice\", \"oninit\", \"ontouchevent\", \"botsman\", \"burndown\", \"bunnell\", \"kanban\", \"squads\", \"onintercepttouchevent\", \"audits\", \"elixir\", \"openledger\", \"scrum\", \"ngoninit\", \"jamboard\", \"defect\", \"agile\", \"herobuttoncomponent\", \"heroescomponent\", \"upspin\", \"innersource\", \"lightbend\", \"lepton\", \"guild\", \"shippable\", \"exceptionservice\", \"rachel\", \"backlog\", \"sprint\", \"accessibility\", \"continuous\", \"microservice\", \"devops\", \"gitlab\", \"features\", \"asset\", \"reuse\", \"waterfall\", \"creep\", \"software\", \"barcode\", \"tracking\", \"architecture\", \"principle\", \"development\", \"playback\", \"project\", \"requirement\", \"practice\", \"organization\", \"review\", \"delivery\", \"change\", \"component\", \"process\", \"scope\", \"build\", \"management\", \"deliver\", \"developer\", \"solution\", \"track\", \"feature\", \"release\", \"service\", \"design\", \"problem\", \"level\", \"start\", \"people\", \"source\", \"different\", \"thing\", \"require\", \"constraintlayout\", \"tango\", \"webhook\", \"cardboard\", \"spanner\", \"kubectl\", \"sites\", \"galen\", \"trooly\", \"schiaparelli\", \"burda\", \"airberlin\", \"xiaomi\", \"shoreline\", \"lander\", \"reactors\", \"omnitone\", \"moorfields\", \"torvalds\", \"andrejko\", \"chromebooks\", \"notifications\", \"exomars\", \"chirp\", \"favro\", \"baveja\", \"hemingway\", \"postback\", \"syscall\", \"webhooks\", \"notification\", \"linus\", \"hangouts\", \"android\", \"hangout\", \"desktop\", \"google\", \"subsystem\", \"chrome\", \"windows\", \"facebook\", \"linux\", \"youtube\", \"bluemix\", \"ubuntu\", \"constraint\", \"video\", \"preview\", \"screen\", \"button\", \"messenger\", \"message\", \"progressive\", \"layout\", \"assistant\", \"search\", \"folder\", \"twitter\", \"content\", \"click\", \"mobile\", \"update\", \"developer\", \"slack\", \"device\", \"launch\", \"drive\", \"create\", \"share\", \"feature\", \"service\", \"information\", \"article\", \"platform\", \"build\", \"start\", \"change\", \"project\", \"hiragana\", \"valve\", \"webassembly\", \"tennis\", \"jshell\", \"calayer\", \"virality\", \"aurelia\", \"exhibitor\", \"paintcode\", \"estonia\", \"pronunciation\", \"wolpert\", \"southampton\", \"opensuse\", \"preemptive\", \"retweet\", \"dakuten\", \"catransaction\", \"jshint\", \"linte\", \"humanitarian\", \"helix\", \"telepresence\", \"prototypal\", \"kanji\", \"korneyev\", \"obermayer\", \"wimbledon\", \"wikileaks\", \"inflation\", \"webpack\", \"takipi\", \"animation\", \"japanese\", \"airport\", \"trump\", \"wechat\", \"sound\", \"player\", \"mobile\", \"zookeeper\", \"website\", \"typescript\", \"passive\", \"mechanic\", \"await\", \"conversion\", \"coffee\", \"experience\", \"color\", \"impression\", \"exception\", \"people\", \"prototype\", \"budget\", \"world\", \"thing\", \"battery\", \"content\", \"little\", \"start\", \"browser\", \"point\", \"online\", \"internet\", \"video\", \"think\", \"medium\", \"right\", \"javascript\", \"number\", \"design\", \"second\", \"different\", \"create\", \"learn\", \"actually\", \"really\", \"device\", \"include\", \"allow\", \"kurzweil\", \"storyline\", \"protractor\", \"parsey\", \"syntaxnet\", \"esperanto\", \"voltron\", \"soundtracks\", \"goldin\", \"mcparseface\", \"superintelligence\", \"bisect\", \"catmull\", \"quotes\", \"knuedge\", \"procrastinator\", \"trivia\", \"goofs\", \"performed\", \"nanotechnology\", \"callahan\", \"expander\", \"mockito\", \"torres\", \"matcher\", \"asked\", \"crowdflower\", \"nicole\", \"pychyl\", \"connections\", \"specs\", \"singularity\", \"polymer\", \"credits\", \"exponential\", \"reviews\", \"nomination\", \"overflow\", \"english\", \"boards\", \"containment\", \"story\", \"commit\", \"language\", \"transition\", \"cheque\", \"brain\", \"write\", \"technical\", \"think\", \"people\", \"thing\", \"estimate\", \"human\", \"really\", \"learn\", \"activity\", \"change\", \"programming\", \"world\", \"point\", \"happen\", \"start\", \"problem\", \"actually\", \"child\", \"speak\", \"person\", \"different\", \"right\", \"great\", \"understand\", \"dockerfile\", \"stunnel\", \"jenkin\", \"procfile\", \"dotnet\", \"halal\", \"kosher\", \"stars\", \"locator\", \"brainprint\", \"voronoi\", \"aramaic\", \"pinhole\", \"zumbrunnen\", \"centauri\", \"lister\", \"docker\", \"photodiode\", \"sybil\", \"sieve\", \"milner\", \"concatenation\", \"bessen\", \"mindfulness\", \"intolerant\", \"cappuccino\", \"weakreference\", \"mediawiki\", \"hyperdev\", \"therapist\", \"scout\", \"honcho\", \"meditation\", \"bicycle\", \"plate\", \"container\", \"wozniak\", \"dagger\", \"sprite\", \"habitat\", \"jenkins\", \"command\", \"cyclist\", \"injection\", \"containers\", \"electron\", \"walkthrough\", \"terminal\", \"shell\", \"minority\", \"swift\", \"redis\", \"install\", \"image\", \"dependency\", \"directory\", \"server\", \"instal\", \"version\", \"build\", \"script\", \"linux\", \"package\", \"windows\", \"bundle\", \"start\", \"application\", \"browser\", \"environment\", \"create\", \"process\", \"project\", \"question\", \"follow\", \"plugin\", \"support\", \"people\", \"development\", \"release\", \"developer\", \"change\", \"drupal\", \"acquia\", \"drush\", \"kelley\", \"dries\", \"overridden\", \"neurala\", \"drupalcon\", \"sirosh\", \"waterwheel\", \"buytaert\", \"sniffer\", \"krita\", \"keystoneml\", \"contributed\", \"mondo\", \"minhash\", \"vessi\", \"cropx\", \"algorithmia\", \"chasm\", \"bixpy\", \"blake\", \"phpcs\", \"blomfield\", \"jacquard\", \"multilingual\", \"preston\", \"recht\", \"barbell\", \"pfizer\", \"magento\", \"jacoco\", \"module\", \"decoupled\", \"vehicle\", \"contrib\", \"driving\", \"maintainer\", \"commerce\", \"decouple\", \"coverage\", \"override\", \"ecommerce\", \"contribute\", \"content\", \"community\", \"workflow\", \"distribution\", \"react\", \"contributor\", \"teacher\", \"autonomous\", \"support\", \"lightning\", \"suite\", \"developer\", \"government\", \"feature\", \"release\", \"build\", \"development\", \"application\", \"provide\", \"project\", \"source\", \"security\", \"issue\", \"state\", \"change\", \"science\", \"computer\", \"experience\", \"allow\", \"create\", \"include\", \"braintree\", \"quartile\", \"coldline\", \"hollar\", \"hubble\", \"walgreens\", \"greta\", \"alecrimcoredata\", \"mandeleil\", \"futhark\", \"spence\", \"paulides\", \"nedbank\", \"cersei\", \"walgreen\", \"brazilians\", \"electoral\", \"rinna\", \"dogville\", \"luminar\", \"shopper\", \"vsphere\", \"scatterplot\", \"boots\", \"bacca\", \"diageo\", \"cloudhsm\", \"sentience\", \"merchant\", \"schiano\", \"pictograph\", \"alfred\", \"mining\", \"seller\", \"coauthor\", \"paypal\", \"wallet\", \"walmart\", \"retailer\", \"trello\", \"thief\", \"payment\", \"clinton\", \"debit\", \"marketplace\", \"chart\", \"buyer\", \"shopping\", \"account\", \"churn\", \"credit\", \"store\", \"retail\", \"online\", \"purchase\", \"consumer\", \"price\", \"visualization\", \"customer\", \"study\", \"brand\", \"steal\", \"mobile\", \"revenue\", \"commerce\", \"million\", \"offer\", \"space\", \"point\", \"company\", \"people\", \"kotlin\", \"autofill\", \"logout\", \"swagbot\", \"jasonette\", \"arjan\", \"tijms\", \"vondrick\", \"redwood\", \"icaza\", \"guava\", \"impersonation\", \"kopin\", \"winfield\", \"mobify\", \"statcounter\", \"uirepeat\", \"uidata\", \"eucalyptus\", \"bcrypt\", \"eddystone\", \"tokens\", \"parallax\", \"multipurpose\", \"hashcat\", \"citrus\", \"jacaranda\", \"conjugate\", \"swarming\", \"tiingo\", \"swarm\", \"password\", \"beacon\", \"autocomplete\", \"meetup\", \"token\", \"caravel\", \"converter\", \"transit\", \"intranet\", \"aggregation\", \"bucket\", \"unanimous\", \"pokemon\", \"safari\", \"ambient\", \"cookie\", \"field\", \"shard\", \"label\", \"station\", \"crack\", \"attribute\", \"compound\", \"count\", \"place\", \"collection\", \"authentication\", \"spring\", \"display\", \"table\", \"value\", \"browser\", \"support\", \"design\", \"google\", \"number\", \"different\", \"docker\", \"default\", \"security\", \"provide\", \"example\", \"information\", \"epidemic\", \"trendwatching\", \"vxlan\", \"coinfest\", \"thorium\", \"pebble\", \"women\", \"norway\", \"reservoir\", \"claire\", \"rousseff\", \"restartpolicy\", \"restb\", \"impeachment\", \"tkinter\", \"boehme\", \"cannabis\", \"inhabitant\", \"nooyi\", \"whois\", \"luqman\", \"parks\", \"meetspace\", \"rubik\", \"african\", \"brazil\", \"bitfury\", \"mortality\", \"latin\", \"hopper\", \"plague\", \"woman\", \"quantum\", \"qubit\", \"awards\", \"outbreak\", \"bacteria\", \"ericsson\", \"overlay\", \"black\", \"female\", \"gender\", \"income\", \"stereotype\", \"country\", \"death\", \"probe\", \"artist\", \"music\", \"radio\", \"circuit\", \"population\", \"earth\", \"water\", \"planet\", \"political\", \"america\", \"trend\", \"patent\", \"white\", \"american\", \"spread\", \"signal\", \"europe\", \"power\", \"space\", \"engineer\", \"world\", \"state\", \"people\", \"million\"], \"Total\": [5174.0, 2369.0, 1045.0, 1656.0, 2694.0, 3017.0, 1957.0, 4731.0, 899.0, 1327.0, 850.0, 2723.0, 4919.0, 3089.0, 1750.0, 3544.0, 695.0, 3528.0, 1802.0, 843.0, 3738.0, 2131.0, 1243.0, 2302.0, 1152.0, 1529.0, 769.0, 1416.0, 998.0, 1108.0, 75.37751855922464, 72.40002353083888, 85.2828031298832, 33.69258802753022, 38.65179284702557, 31.70759133241986, 30.715092977809622, 58.37404113401118, 28.730096280987453, 25.752601256710047, 31.686602853694847, 28.71346638035226, 23.767604572061487, 20.790109399644184, 19.79761118636239, 18.805112819255765, 21.77389709399161, 37.542771284645916, 17.812614493660718, 17.812614499465667, 17.812614447909954, 16.820116158743176, 16.820116158785755, 16.820116129589767, 16.820021741082282, 15.827617813317705, 15.827617802335846, 15.827617808240483, 15.827617151721224, 14.835119437297967, 29.704192604526007, 536.1692055312463, 64.31303648040273, 129.15099966834106, 1162.6108414184396, 158.61584763451793, 84.21641264635888, 42.51885920869405, 60.34514999816074, 37.629951457243905, 1147.6109225880105, 102.54789077677007, 226.66843414992613, 132.80823188503103, 415.5450450649926, 85.53000607510728, 655.6926337680716, 902.6794482405357, 607.9590238837203, 71.00519374288308, 249.07670759844743, 94.54988886550316, 648.5810436477199, 1452.0071064008207, 724.119144402565, 185.62284924739342, 314.2678213368752, 628.3618742875448, 825.2670161306037, 497.33909287827055, 430.6024668985062, 216.07261961538603, 272.58389068019375, 874.6994730361038, 635.2551927820556, 2751.7684749093696, 1946.3819106139592, 526.014833127674, 1318.9155778564818, 1902.5432619646222, 812.3605597228075, 889.1050297214261, 4919.252544890849, 575.5252717861442, 1686.735451783623, 522.171811905615, 697.5721401157678, 656.0095490580468, 851.3934325408261, 3260.677848176391, 1805.156305219856, 1529.5835334222877, 1921.1044507701504, 1305.6165971595829, 2227.8688959518986, 2831.314711592234, 3085.476930556214, 2698.7731877522906, 1268.3635073903968, 509.5949646835544, 328.35645776669037, 110.07891433365656, 84.74312804491011, 75.9730481758568, 61.356248393041504, 60.38212888025432, 48.68835524640945, 85.68689001679472, 41.867182017958086, 41.867182013132535, 36.02046210385751, 35.04600870176083, 30.173742191156105, 30.17374218836125, 28.22483555099498, 28.22483554216606, 27.250382233966906, 27.250382232471193, 25.301475597507487, 25.301475593924167, 25.30156771491406, 23.35247591954036, 22.378115639534936, 22.378115630896065, 22.37811564325062, 20.42920900178743, 20.42920896763159, 19.454755682649594, 19.454755681759345, 1957.0027479444127, 513.5011695946727, 51.518967637820374, 36.9848248836476, 392.01488703938065, 302.8301805495465, 45.53790563402873, 2694.049597789713, 868.6579756299335, 869.0354499581395, 456.36259536361024, 45.6559317258496, 142.576360578667, 410.79791825384336, 203.10739330614507, 240.76062749800303, 536.8528197215298, 1194.2417098490828, 318.25685382576995, 1112.2643603538802, 2513.1510726633524, 101.2503037055495, 232.7140684790014, 196.34764949697686, 285.10772499736834, 2085.3271757016028, 1750.1506372199117, 958.9812132473821, 325.61342792778896, 1609.9349492130048, 4919.252544890849, 652.8095479128127, 348.95223587205976, 1416.4074623885565, 5174.45980440064, 1921.1044507701504, 1305.6165971595829, 2435.800289786995, 2751.7684749093696, 2131.2599528580004, 3738.870236854303, 2348.7358399389477, 3528.860113929718, 1946.1147718432978, 4731.537033297081, 843.819291493026, 200.9313325256944, 140.4461577820043, 135.56523846061464, 59.4741494081531, 48.742914833523706, 43.86192586563228, 38.01168026810524, 36.060546693606, 362.191322768209, 30.207146611630844, 240.32453862265467, 29.23157923303785, 22.4026117542972, 40.83906213079087, 18.500344661866666, 17.524777808533152, 17.523968626019077, 16.549211105968077, 46.61534798418517, 15.573644325569084, 15.573644300218024, 15.573644292721797, 15.573644315130654, 14.598077546226127, 13.622510764918488, 13.622510766394008, 13.622510765956553, 13.6219602680362, 33.05875156005957, 627.0937048510782, 118.63554437575911, 172.6579920216916, 795.5835090925742, 372.9954893306706, 199.52239623414053, 37.986416355363346, 196.51589901182479, 173.95335282456705, 64.5018196666027, 42.94729445473528, 57.289490336569926, 110.91740858911052, 480.11095455263046, 3017.4104503461454, 130.77101050197388, 1065.8749510953241, 248.3266280558162, 417.4876413158574, 2435.800289786995, 706.3346298175451, 1802.747374595427, 702.1527055690626, 998.217659445674, 1238.9178209973663, 4731.537033297081, 473.7794359192514, 566.9512461485664, 916.1088168410449, 550.4256606651302, 2723.7384632898975, 710.3721664104723, 4919.252544890849, 624.7967929556013, 3544.384153360999, 2107.059825083274, 707.8158240696175, 912.0767598958266, 2424.4765447201426, 1946.1147718432978, 2056.1477472584497, 2119.8744770249004, 3089.446859428103, 3260.677848176391, 1192.582693407986, 1902.5432619646222, 44.03757636108243, 28.001321957685022, 20.985460653059537, 24.988968023638282, 19.983194750320326, 19.98319474581402, 19.98319474236581, 13.96959934336458, 13.969599335275221, 20.9804868986805, 12.967333437858041, 12.967333416392988, 12.967333347378533, 11.965067539151104, 11.965067534718443, 68.84473701198677, 10.962801615468525, 10.962801551315064, 10.962801225532568, 22.980224897142968, 9.960535737953265, 9.960535737101017, 9.960535729523311, 8.958269836447224, 8.958269833850197, 8.958269834716184, 8.958269833668533, 8.95826983283506, 8.95826980625602, 8.958269796829434, 71.83686360032023, 38.842962540783795, 150.8828802799804, 107.70946614951046, 49.713517801689655, 96.59785901705463, 216.59439564137966, 341.9836208683713, 642.2309480359326, 290.736352884104, 99.97669190450709, 3089.446859428103, 314.34190677896095, 2723.7384632898975, 96.70766692639033, 478.5784975283915, 31.880201518358838, 79.34673272892495, 43.65596985566304, 1802.747374595427, 4731.537033297081, 737.9088903012156, 481.16220245519867, 626.24708309501, 2190.688328058198, 295.060597528125, 1267.4072496315466, 1238.9178209973663, 710.3721664104723, 517.7846002883275, 1152.0171562299147, 3528.860113929718, 2424.4765447201426, 2107.059825083274, 3544.384153360999, 3738.870236854303, 677.3602152256591, 730.2627353902025, 749.5946698978772, 3017.4104503461454, 2435.800289786995, 3085.476930556214, 3260.677848176391, 2085.3271757016028, 2131.344629130966, 1454.6358555823554, 1902.5432619646222, 2134.0652617215956, 1946.1147718432978, 2698.7731877522906, 2097.8957420024994, 298.07583059405613, 158.19052295171286, 103.20115864465993, 78.11824340073089, 69.4357070597621, 58.8237182014904, 128.13865071878382, 55.92953944270113, 53.035357736955056, 48.21180145621629, 46.28204064794795, 119.65784559986496, 33.74083545624939, 31.81138884029206, 28.917204150843347, 60.782303338770674, 26.023025349094834, 25.05829910853704, 25.058299125390416, 25.05829910375782, 26.017069758969278, 24.093572854912093, 24.093572857416838, 23.128846597375745, 22.164120314819495, 20.23466781742129, 20.234667817813417, 41.4188791683279, 123.48186135172078, 18.304923755015007, 2369.2514367564577, 85.48443963301405, 131.15009768397485, 572.2748916110316, 192.49362227466096, 238.90670901338382, 150.86961716116835, 138.69702485669603, 82.85015153930436, 423.1640567743135, 121.42484490232003, 1016.9228037663095, 429.239781822675, 1152.3187227126725, 177.27686729121422, 698.9210303575328, 440.0785952132961, 381.18839207805996, 962.2883592531086, 530.5717780844085, 354.127900358997, 277.44229952970215, 2302.9897005045673, 3544.384153360999, 5174.45980440064, 2424.4765447201426, 436.80462242245477, 1857.939623839488, 915.0872955227148, 1297.1693967974127, 1609.9349492130048, 727.1326545741608, 700.6073579993982, 487.4512261488014, 4919.252544890849, 1083.3085004382922, 2056.1477472584497, 3260.677848176391, 1158.5296217899538, 3738.870236854303, 1096.9869739381802, 2134.0652617215956, 2119.8744770249004, 1677.0264099459548, 50.11050806259065, 107.00467751418454, 44.32575918706293, 37.576885506284626, 31.79213662316398, 30.828011808974754, 26.972164451860554, 24.07913809121011, 23.116473916535266, 372.58965852625374, 19.25851406357336, 18.29438924693283, 18.294389238379747, 17.330264431581703, 17.330264438624514, 39.51080889357141, 16.36613962788652, 16.366139623635988, 15.402014813677226, 18.3032822739177, 14.43789000003016, 14.437889996224802, 51.111654228534, 45.31102688372042, 13.473765186660584, 13.473765189372918, 27.862731350136183, 147.432192035911, 23.965882218674132, 11.545515562259045, 1656.8731818608476, 44.19242196454089, 26.017174338446637, 48.08235951229215, 68.19647589598041, 52.09248987097851, 787.348799340092, 114.09671707202429, 63.726236987927486, 669.1361970447039, 53.21625480837575, 68.03285089101831, 279.48325846242193, 1005.6863131840435, 405.0581840555817, 1327.7404306995604, 459.5768647108397, 2831.314711592234, 3528.860113929718, 225.0364069448159, 217.4710894865847, 315.7671712212474, 283.65684454257905, 1435.11916536312, 2131.344629130966, 342.5589457720795, 2348.7358399389477, 4731.537033297081, 738.7996639486549, 429.31383453813737, 899.8982318719377, 286.6188081157422, 343.3207528872733, 3089.446859428103, 2698.7731877522906, 1628.5172222846884, 2190.688328058198, 513.5464827898733, 1293.7129850028737, 982.2939984514229, 695.970901672033, 867.1930601206448, 1061.8697584093802, 3738.870236854303, 2107.059825083274, 1031.7708124992134, 2131.2599528580004, 1946.1147718432978, 1064.9359261915652, 2119.8744770249004, 2134.0652617215956, 50.36010340162705, 37.76285850236927, 24.196594745936835, 52.35085046397835, 18.38248172711879, 18.38248172711879, 18.382481729741624, 16.444444048393937, 16.444444045375203, 16.44444404118803, 30.995536682714732, 13.537387531088662, 13.537387534963507, 13.53738752403201, 13.53739387953356, 12.568368687343101, 133.56334198812132, 11.599349854398106, 11.599349857189747, 63.7824336756335, 511.95045467114045, 10.630331015440538, 10.630331015440538, 10.630331013461317, 9.661312174797832, 9.661312174889273, 9.661312176414318, 9.661312002399377, 9.661303812162974, 8.692293337529762, 24.170959876752516, 70.40515409523017, 228.9518164818316, 78.88219216217655, 244.04119335979453, 399.8652636531269, 119.41763794892593, 41.61364511413163, 80.18687228277761, 456.9206421422964, 213.0010544972886, 30.816232608621622, 55.74940051972121, 2131.2599528580004, 29.02651232754627, 176.73840436828584, 575.327807129472, 315.5637342922039, 1432.990873011147, 37.49982545282388, 2082.9178918284606, 302.2970236037219, 662.9875151168706, 1152.0171562299147, 473.422552809641, 330.26845269034555, 3085.476930556214, 744.0652443168957, 2097.8957420024994, 204.03254080130935, 3738.870236854303, 927.391533211921, 756.482510148582, 2134.0652617215956, 1223.7247931611269, 579.8124883548561, 2348.7358399389477, 1230.1291510045417, 3544.384153360999, 2190.688328058198, 1921.1044507701504, 1245.9609146308576, 2698.7731877522906, 3528.860113929718, 1542.2873196460466, 2227.8688959518986, 2831.314711592234, 1318.4555559638254, 70.00540472313531, 58.16421181123882, 53.232380086221056, 40.40600663395845, 33.499480460781804, 45.34463963928547, 20.673074640011873, 20.67307465461037, 17.71313484592357, 15.739841631479907, 14.753194962117405, 12.779901841079358, 12.779901839419566, 12.779901838175071, 12.779901804193415, 11.793255240311208, 11.793255235396611, 11.79325523670354, 11.793255214549905, 11.793255226133919, 19.697154451828432, 10.8056969570121, 9.819962022548273, 9.81996202663121, 9.81996203154266, 9.819962034332395, 9.8199620274642, 18.64975029441445, 8.833315434662095, 8.833315434321959, 345.72442320269255, 10.794329845239584, 45.277334169789505, 1327.342110220671, 32.58758523362567, 347.67459776382765, 5174.45980440064, 44.36065637812582, 261.8888670818176, 613.8902680287301, 1243.8877903437653, 463.83803799336397, 167.45203376449058, 38.01502282556077, 87.75255268407847, 191.35963974788532, 736.8911410933009, 222.85437126086765, 501.8445068834096, 513.8485011797677, 302.9950145793967, 899.8982318719377, 146.45518172914615, 359.8030300908507, 268.9446247353505, 1305.6165971595829, 201.61182672331398, 485.07589994740596, 1529.5835334222877, 654.1668341227728, 1525.5005898096292, 1096.9869739381802, 2134.0652617215956, 478.5784975283915, 1327.7404306995604, 1031.7708124992134, 1091.3654715768964, 3260.677848176391, 1438.0537446525498, 2348.7358399389477, 3544.384153360999, 1608.6219921606191, 843.8803792607046, 2424.4765447201426, 3738.870236854303, 2698.7731877522906, 3085.476930556214, 2082.9178918284606, 59.2218057428531, 31.468632832415004, 27.772571004066588, 24.992892485462455, 23.14268095895254, 21.292469429268053, 21.2924694519706, 20.36736366879245, 19.442257908582377, 17.592046374135844, 17.592046639511096, 16.666940610344135, 16.666940615946892, 21.30971714227965, 15.74183549365746, 14.816729087180981, 14.816729111182728, 13.891623317397137, 13.891623319007739, 13.891623334990076, 12.966517569954563, 12.041411790462705, 12.04141178984779, 19.47087246145182, 11.116306037054244, 10.191200262257775, 10.19120026225776, 9.266094499343417, 9.266094500026162, 9.266094497219479, 19.486957504936978, 31.24870824469382, 18.57088311240606, 170.9542117697057, 121.82749827926737, 77.14031124018241, 88.00572546358552, 135.03149151198326, 436.2936802125123, 398.96658998084945, 1525.5005898096292, 26.169220650406647, 815.8288121500414, 155.94262509558342, 61.57274028270575, 54.63964909242089, 47.85198272473883, 181.18734731968135, 156.38635663864028, 2107.059825083274, 374.92776973394496, 76.29573245098773, 188.97686697372362, 3528.860113929718, 199.65023521253292, 218.94276056396205, 1946.1147718432978, 2831.314711592234, 128.45342431141393, 1529.5835334222877, 738.7996639486549, 2698.7731877522906, 640.4812169391544, 1626.835007541657, 819.6891187556034, 769.4763572538201, 736.8911410933009, 2131.344629130966, 533.1521345049779, 1628.5172222846884, 648.5810436477199, 1805.156305219856, 2190.688328058198, 960.0829716704194, 2227.8688959518986, 3260.677848176391, 2513.1510726633524, 982.2939984514229, 1435.11916536312, 1327.7404306995604, 2119.8744770249004, 1677.0264099459548, 56.20045362457828, 39.34020488563471, 38.404760262733525, 31.848452173154246, 30.911836728732542, 28.10199040303856, 28.10199040127691, 27.16537495973948, 26.228759528518058, 24.355528649714056, 21.545682326398563, 21.545682347476166, 19.672451440017028, 19.672451486493603, 18.735836003426105, 18.735836004540207, 39.31411365573232, 19.667816216161444, 17.799220554135513, 16.862605111934208, 15.925989686941783, 13.116143381449525, 12.179527919334056, 24.393366458519615, 11.242912478715958, 11.242912469169204, 11.242912489951022, 23.458443670405167, 10.306297030906688, 10.306252453196919, 42.29353957740886, 20.64943733631234, 70.64993453714091, 44.938783111141085, 91.25826628195168, 44.35386624061589, 32.48174558801289, 53.94021705145464, 176.9467927191815, 45.17373445351256, 31.824677536335464, 639.058569080455, 334.04863077114135, 1416.4074623885565, 252.21546258528042, 32.81796822070825, 325.0274189893464, 1946.3819106139592, 410.54083404733234, 2131.344629130966, 3528.860113929718, 2831.314711592234, 308.2712729398439, 1194.2417098490828, 1435.11916536312, 2513.1510726633524, 550.3688717612342, 3085.476930556214, 417.9764795797858, 1946.1147718432978, 1626.835007541657, 968.1834745774532, 2698.7731877522906, 1921.1044507701504, 982.2939984514229, 252.9077302034048, 395.3464319936991, 567.8752813966421, 2227.8688959518986, 1628.5172222846884, 1454.6358555823554, 1236.7925867031379, 44.76629268387383, 17.374948896165712, 15.548859310371563, 14.635814518444494, 14.63581452929765, 12.809724931470937, 21.039319518947803, 10.070590555264985, 22.036406411889832, 9.157545762069768, 9.157545761824334, 9.157545760047233, 9.15754576135465, 9.157545780834587, 9.157545755391128, 9.157705783686682, 899.8824433182318, 8.244500968506655, 8.24450096933119, 8.244500978650429, 8.244500962506141, 8.244501010985342, 8.244521428777336, 17.330089577016324, 15.610267741617587, 7.331456175144853, 7.331456180330216, 7.33145618131535, 7.331456184155775, 18.412719327566062, 54.07956309121559, 23.004063435532256, 50.591143394687876, 51.46842979673622, 54.48803316609855, 850.7400643018135, 13.774451201472544, 49.61649412997206, 13.737433544210143, 12.872020197380648, 75.22370876868375, 769.942441321662, 42.380873406189004, 71.14923497899531, 13.780535572616675, 26.911783919522385, 21.292514501879694, 99.36755322132953, 135.33612535697912, 51.45946796917931, 192.34205035588099, 71.07514962756682, 334.79179868064756, 1750.1506372199117, 338.9480651773961, 205.1420934703946, 1152.3187227126725, 234.7932059681072, 1226.980922884426, 3738.870236854303, 424.71145952723384, 463.83803799336397, 427.28215270226735, 613.8902680287301, 190.9285259399602, 2698.7731877522906, 2302.9897005045673, 640.4812169391544, 756.7708765559365, 3260.677848176391, 2097.8957420024994, 2082.9178918284606, 1064.9359261915652, 1268.3635073903968, 277.2362298506015, 1857.939623839488, 3528.860113929718, 1432.990873011147, 1230.1291510045417, 2134.0652617215956, 3085.476930556214, 1045.6219926210952, 166.3630861739504, 48.615306144072406, 28.810312467904385, 24.315123781359222, 20.718972837570035, 20.71897283815244, 19.819935104345486, 18.920956799485158, 18.02185962151918, 18.0218596252051, 16.223784149257067, 16.22378414924569, 16.22378415657587, 15.324746413788747, 15.324746430398429, 12.627633209173812, 10.82955772848117, 10.829557733191463, 10.82955779444585, 10.82955796223899, 9.930519993663403, 9.930520011468976, 9.031482256081606, 9.031482260799004, 9.031482273643348, 8.132444523526495, 8.132444517817849, 8.132444526977057, 8.132444566903834, 17.226725792903302, 21.529056361833874, 26.157464288297206, 695.2717110437567, 27.462241677055957, 174.32674013589016, 19.13146690671594, 35.020637317393884, 28.26712057005716, 350.50633447335275, 61.396605531145745, 119.84755280747379, 96.94771686563318, 147.30699143032018, 261.3817688267489, 1529.5835334222877, 776.1869003817026, 223.81042493138725, 376.32081588463325, 369.4977846775486, 117.91885174498877, 92.31315890704724, 140.18033487125822, 1857.939623839488, 77.09579262806717, 223.46280712767754, 2134.0652617215956, 267.4264448510676, 2348.7358399389477, 1230.1291510045417, 3738.870236854303, 1432.990873011147, 2302.9897005045673, 2056.1477472584497, 2082.9178918284606, 1542.2873196460466, 727.1326545741608, 920.1040477074274, 736.042984301079, 3085.476930556214, 652.8095479128127, 1112.2643603538802, 2107.059825083274, 1677.0264099459548, 3260.677848176391, 2119.8744770249004, 25.237563187884746, 20.896958013064587, 19.161582769603115, 18.29389512793484, 13.955457001974384, 13.955457004414196, 13.955457008677284, 13.955457013481842, 13.087769380832352, 12.220081763051297, 11.352394126976778, 11.352394132385891, 11.352423756962919, 10.484706500499284, 10.484706503182347, 9.617018886625477, 7.881643625572487, 7.881643632022557, 7.881643633259844, 7.883341976399087, 53.50152838886583, 8.764962507451544, 7.013956001521054, 7.013956003114861, 7.0139560053316865, 7.013956034431023, 7.013956029318712, 13.14518753099223, 88.74380516347114, 6.146268376437699, 6.146268376437699, 18.531813066184103, 99.61906390000237, 74.69203745258453, 12.327156750547246, 71.35474887024048, 127.23238844889688, 47.21061238897163, 141.10485051784784, 86.3966992560992, 33.76780878722986, 453.15419676363473, 17.56481928944331, 35.05869065294132, 163.91897907819103, 209.1962379444161, 85.23079044350057, 147.3898577907463, 824.0365693471595, 86.50593000339242, 352.18015947445684, 1108.5431854327653, 182.52324325695156, 819.6891187556034, 310.10324572371235, 998.217659445674, 465.5190561437039, 76.31020785944344, 3017.4104503461454, 500.4513162415529, 707.8158240696175, 79.70898360234274, 1525.5005898096292, 412.173034092764, 350.50633447335275, 1031.095961930772, 1192.582693407986, 810.06092203246, 1626.835007541657, 4731.537033297081, 3528.860113929718, 153.8448121089439, 61.58948077211328, 31.691919720817214, 14.607599112486369, 12.044951025802716, 11.190734989798141, 11.190734989798141, 11.190735026621939, 10.336518959270446, 16.374899343891265, 9.482302935464057, 9.482302933370702, 8.628086901383252, 8.628086910653522, 8.62808690734261, 8.628086934062866, 7.773870868867658, 7.773870868867658, 7.773870868571344, 7.773870870952204, 7.773870887002479, 7.773870888734588, 25.981256517936206, 16.402552910416876, 6.91965483895993, 6.919654838344909, 6.919654838344909, 6.919654840124039, 6.91965485179003, 6.919654862786627, 115.72383430384525, 245.79258391417974, 58.73770808050993, 22.656255222306044, 46.986171403737984, 275.1503728279866, 13.961980587930158, 23.727197242893148, 31.896311769247237, 38.14948521748743, 171.92270106635146, 155.66487137361844, 14.005372732328858, 87.56848497706117, 60.86423672272587, 53.44917956755799, 70.01109024744123, 708.7199176610751, 69.21168021205001, 465.6088613334538, 67.57556129639954, 75.49663571365117, 223.8659327494289, 43.49813304253147, 232.51832496377347, 1061.8697584093802, 315.3635206626577, 132.45818592888486, 354.127900358997, 452.0521529968054, 435.5563947954306, 1902.5432619646222, 640.4812169391544, 1857.939623839488, 2190.688328058198, 5174.45980440064, 1805.156305219856, 2227.8688959518986, 899.8824433182318, 492.3476494513677, 727.1326545741608, 2056.1477472584497, 2751.7684749093696, 1608.6219921606191, 20.237027233050696, 17.605633880629725, 17.60563387822459, 15.85137163939252, 14.974240512928574, 29.98279168620792, 14.097109408442934, 12.34284716443089, 12.342847161803958, 11.465716065882642, 10.588584925851267, 10.588584929884302, 10.588584940162098, 9.711453807935591, 9.711453814752673, 9.711453817516098, 8.834322690670726, 8.834322694628915, 7.957191582204001, 7.957191583567095, 7.9571915857977595, 7.957191591241434, 7.9571916250610375, 7.957191613961135, 15.873636163244948, 136.4611030005876, 14.964797041504102, 23.96800866112079, 39.86385577392945, 15.072656476727095, 70.06227893767947, 295.869855676487, 80.94143188511025, 26.643180301506533, 14.198778953518174, 14.140479285977039, 36.64610645131147, 32.66996061042681, 53.60689910056194, 206.66993248255864, 73.76503378890732, 93.35966150844419, 77.68754866031063, 24.1383186642403, 395.9754829499101, 122.39118096006351, 29.726644740359212, 90.3320135877029, 283.65684454257905, 58.46188090639572, 129.7957464295058, 111.57788399404117, 107.72159063038771, 157.96785565266993, 102.44270712772024, 60.01865639642878, 206.82081373146914, 413.6812914327188, 52.96170038285764, 184.15488405020645, 176.4310422630615, 162.05605737792987, 265.39912590138107, 138.49230731568662, 841.2188450108762, 810.06092203246, 730.2627353902025, 1946.1147718432978, 736.042984301079, 3528.860113929718, 1031.095961930772], \"loglift\": [30.0, 29.0, 28.0, 27.0, 26.0, 25.0, 24.0, 23.0, 22.0, 21.0, 20.0, 19.0, 18.0, 17.0, 16.0, 15.0, 14.0, 13.0, 12.0, 11.0, 10.0, 9.0, 8.0, 7.0, 6.0, 5.0, 4.0, 3.0, 2.0, 1.0, 1.989, 1.9885, 1.9849, 1.9743, 1.973, 1.9727, 1.9718, 1.9714, 1.9697, 1.9661, 1.9648, 1.9639, 1.9632, 1.9577, 1.9555, 1.953, 1.9526, 1.9519, 1.9503, 1.9503, 1.9503, 1.9473, 1.9473, 1.9473, 1.9472, 1.9438, 1.9438, 1.9438, 1.9438, 1.9399, 1.9357, 1.8582, 1.9133, 1.8888, 1.8025, 1.8682, 1.8871, 1.9132, 1.8976, 1.9156, 1.7416, 1.8626, 1.8054, 1.8312, 1.7499, 1.8588, 1.7115, 1.6781, 1.6877, 1.8709, 1.7576, 1.8405, 1.6179, 1.511, 1.5908, 1.751, 1.6798, 1.5888, 1.543, 1.6114, 1.6304, 1.7269, 1.6787, 1.478, 1.4882, 1.1276, 1.1957, 1.4793, 1.2009, 1.096, 1.319, 1.2903, 0.7496, 1.4191, 1.0586, 1.4418, 1.3328, 1.3426, 1.1613, 0.4144, 0.734, 0.8219, 0.679, 0.9131, 0.5594, 0.2784, 0.2126, 0.1809, 0.8148, 2.0513, 2.0508, 2.0455, 2.0431, 2.0419, 2.0391, 2.0386, 2.0353, 2.0342, 2.0324, 2.0324, 2.0289, 2.0282, 2.024, 2.024, 2.022, 2.022, 2.0208, 2.0208, 2.0183, 2.0183, 2.015, 2.0145, 2.0136, 2.0136, 2.0136, 2.0097, 2.0097, 2.0075, 2.0075, 1.9881, 1.9903, 1.9962, 2.0014, 1.9376, 1.9422, 1.9947, 1.8645, 1.8916, 1.8812, 1.8821, 1.9874, 1.9056, 1.8291, 1.8731, 1.8205, 1.7273, 1.6375, 1.7777, 1.6356, 1.4898, 1.9002, 1.7919, 1.8134, 1.6985, 1.2787, 1.2918, 1.3938, 1.6468, 1.1888, 0.8261, 1.3867, 1.5305, 0.8401, 0.0784, 0.5559, 0.672, 0.2502, 0.1667, 0.3266, -0.0691, 0.1881, -0.142, 0.3372, -0.4571, 2.1282, 2.1254, 2.1235, 2.1231, 2.1149, 2.1117, 2.109, 2.1065, 2.1052, 2.1004, 2.1004, 2.1, 2.0994, 2.0899, 2.0857, 2.0813, 2.0785, 2.0781, 2.0754, 2.0732, 2.0719, 2.0719, 2.0719, 2.0719, 2.068, 2.0634, 2.0634, 2.0634, 2.063, 2.0592, 2.0475, 2.0461, 2.0403, 2.0227, 2.0275, 2.0114, 2.0474, 1.9868, 1.9873, 2.0236, 2.0292, 2.0101, 1.9484, 1.8241, 1.6054, 1.9192, 1.6342, 1.8106, 1.7151, 1.4025, 1.5997, 1.3738, 1.5343, 1.4625, 1.415, 1.078, 1.5626, 1.5151, 1.3229, 1.4603, 0.924, 1.3588, 0.5342, 1.3454, 0.4516, 0.6481, 1.2129, 1.0559, 0.4444, 0.5554, 0.3927, 0.3185, -0.0291, -0.1007, 0.7721, 0.3466, 2.2028, 2.1912, 2.1803, 2.1788, 2.1782, 2.1782, 2.1782, 2.1583, 2.1583, 2.1549, 2.1531, 2.1531, 2.1531, 2.1471, 2.1471, 2.1469, 2.1398, 2.1398, 2.1398, 2.1382, 2.1311, 2.1311, 2.1311, 2.1203, 2.1203, 2.1203, 2.1203, 2.1203, 2.1203, 2.1203, 2.1181, 2.1192, 2.0989, 2.0846, 2.0888, 2.0221, 1.9469, 1.9123, 1.86, 1.8976, 1.9681, 1.6583, 1.8348, 1.5729, 1.9176, 1.7233, 2.0346, 1.904, 1.9831, 1.3845, 1.2216, 1.5177, 1.5654, 1.5032, 1.2293, 1.5726, 1.1761, 1.1672, 1.3046, 1.3752, 1.1412, 0.7927, 0.8813, 0.8521, 0.6269, 0.5391, 1.1636, 1.1298, 1.1017, 0.3658, 0.3723, 0.2364, 0.1881, 0.4303, 0.3998, 0.6481, 0.4209, 0.3249, 0.371, 0.0574, 0.2096, 2.3616, 2.359, 2.356, 2.3533, 2.3519, 2.3496, 2.3488, 2.3488, 2.3479, 2.3462, 2.3453, 2.3401, 2.3383, 2.3366, 2.3338, 2.3325, 2.3303, 2.329, 2.329, 2.329, 2.3282, 2.3275, 2.3275, 2.326, 2.3243, 2.3203, 2.3203, 2.32, 2.3185, 2.315, 2.2526, 2.2971, 2.2733, 2.2236, 2.2553, 2.2358, 2.2439, 2.238, 2.2489, 2.0985, 2.1787, 1.9339, 2.0269, 1.8733, 2.1096, 1.8869, 1.9387, 1.9476, 1.7466, 1.8491, 1.9336, 1.9871, 1.4954, 1.346, 1.1605, 1.2965, 1.7994, 1.2856, 1.5133, 1.3508, 1.2619, 1.5528, 1.5599, 1.6866, 0.5598, 1.2053, 0.8236, 0.488, 1.1286, 0.3174, 1.1587, 0.6136, 0.5024, 0.6467, 2.4959, 2.4957, 2.4936, 2.49, 2.4856, 2.4848, 2.4799, 2.4765, 2.4727, 2.4712, 2.467, 2.4645, 2.4645, 2.4617, 2.4617, 2.4617, 2.4586, 2.4586, 2.455, 2.451, 2.451, 2.451, 2.4504, 2.4481, 2.4464, 2.4464, 2.4436, 2.4415, 2.4375, 2.4347, 2.4339, 2.4277, 2.4341, 2.4194, 2.3939, 2.3994, 2.168, 2.2391, 2.296, 1.9785, 2.2284, 2.1671, 1.816, 1.5056, 1.6942, 1.3637, 1.6446, 1.0974, 1.0079, 1.7968, 1.788, 1.6603, 1.6833, 1.0428, 0.873, 1.5473, 0.713, 0.4023, 1.1686, 1.4051, 1.0522, 1.575, 1.4685, 0.2885, 0.3078, 0.5766, 0.3823, 1.2364, 0.6062, 0.7933, 1.0248, 0.8501, 0.6851, -0.2993, 0.1263, 0.7034, 0.1052, 0.1616, 0.671, 0.0278, -0.0077, 2.6458, 2.6398, 2.6264, 2.6151, 2.6145, 2.6145, 2.6145, 2.6086, 2.6086, 2.6086, 2.606, 2.5964, 2.5964, 2.5964, 2.5964, 2.5911, 2.5901, 2.5848, 2.5848, 2.5803, 2.5797, 2.5773, 2.5773, 2.5773, 2.5683, 2.5683, 2.5683, 2.5683, 2.5683, 2.5571, 2.5362, 2.4887, 2.4298, 2.4703, 2.4009, 2.365, 2.4274, 2.4945, 2.435, 2.2643, 2.325, 2.4877, 2.4161, 1.8441, 2.4851, 2.1942, 1.9961, 2.0849, 1.6994, 2.4345, 1.4989, 1.9513, 1.7583, 1.5844, 1.8061, 1.8878, 1.153, 1.5822, 1.1946, 1.9596, 0.7449, 1.2882, 1.3573, 0.8066, 1.0744, 1.3956, 0.5871, 0.9247, 0.3089, 0.5545, 0.6048, 0.8851, 0.205, -0.0457, 0.6046, 0.2303, -0.0034, 0.7268, 2.815, 2.8123, 2.811, 2.8057, 2.8011, 2.7873, 2.7844, 2.7844, 2.777, 2.7704, 2.7665, 2.7567, 2.7567, 2.7567, 2.7567, 2.7506, 2.7506, 2.7506, 2.7506, 2.7506, 2.7449, 2.7393, 2.7343, 2.7343, 2.7343, 2.7343, 2.7343, 2.7254, 2.7234, 2.7234, 2.6868, 2.7197, 2.6796, 2.5667, 2.6312, 2.3997, 2.0993, 2.5758, 2.3583, 2.2369, 2.09, 2.2125, 2.3439, 2.5573, 2.3894, 2.2258, 1.9298, 2.1644, 1.9702, 1.961, 2.0495, 1.7755, 2.2093, 1.95, 1.987, 1.4918, 2.0647, 1.776, 1.2658, 1.6054, 1.2171, 1.3556, 1.0196, 1.6421, 1.1338, 1.1835, 1.143, 0.4984, 0.9795, 0.6509, 0.1246, 0.6933, 1.1686, 0.2803, -0.1525, 0.117, -0.0201, 0.3503, 2.9566, 2.9433, 2.9372, 2.9358, 2.9329, 2.9294, 2.9294, 2.9275, 2.9253, 2.9204, 2.9204, 2.9174, 2.9174, 2.917, 2.9142, 2.9105, 2.9105, 2.9063, 2.9063, 2.9063, 2.9014, 2.8958, 2.8958, 2.8909, 2.8893, 2.8814, 2.8814, 2.872, 2.872, 2.872, 2.871, 2.8518, 2.8538, 2.7541, 2.6991, 2.6739, 2.6013, 2.3996, 2.0918, 1.982, 1.5579, 2.7232, 1.6272, 2.1527, 2.4515, 2.4675, 2.5077, 2.0033, 1.9725, 0.7984, 1.5464, 2.2625, 1.8504, 0.4811, 1.8136, 1.7482, 0.632, 0.4094, 2.0028, 0.7039, 1.0835, 0.3736, 1.1428, 0.5936, 0.9754, 0.9929, 1.0104, 0.3702, 1.1967, 0.4575, 1.0504, 0.3756, 0.2418, 0.7756, 0.1349, -0.241, -0.0549, 0.69, 0.3548, 0.4175, -0.0046, 0.1691, 3.2347, 3.2274, 3.2273, 3.2225, 3.2216, 3.2187, 3.2187, 3.2176, 3.2164, 3.2137, 3.2088, 3.2088, 3.2048, 3.2048, 3.2025, 3.2025, 3.2023, 3.2011, 3.1999, 3.197, 3.1938, 3.1812, 3.1756, 3.1715, 3.1692, 3.1692, 3.1692, 3.1675, 3.1614, 3.1614, 3.15, 3.1545, 3.1179, 3.1198, 3.0174, 3.0679, 3.0705, 2.9896, 2.7283, 3.0005, 3.0676, 2.2764, 2.3633, 1.9194, 2.4339, 3.0286, 2.1716, 1.3662, 2.0028, 1.251, 0.9959, 0.9517, 1.839, 1.0782, 0.9569, 0.6356, 1.4932, 0.473, 1.6465, 0.6818, 0.7928, 1.0283, 0.2885, 0.486, 0.9472, 1.9041, 1.584, 1.3182, 0.2301, 0.4566, 0.4755, 0.5709, 3.4119, 3.3798, 3.3735, 3.3698, 3.3698, 3.3606, 3.3415, 3.3404, 3.3386, 3.3308, 3.3308, 3.3308, 3.3308, 3.3308, 3.3308, 3.3306, 3.3222, 3.319, 3.319, 3.319, 3.319, 3.319, 3.3189, 3.3107, 3.3053, 3.304, 3.304, 3.304, 3.304, 3.2995, 3.298, 3.2985, 3.2777, 3.2693, 3.2249, 3.0419, 3.288, 3.1755, 3.274, 3.275, 3.0792, 2.7199, 3.0924, 2.9721, 3.2575, 3.1139, 3.1559, 2.8316, 2.7586, 2.9411, 2.6085, 2.8486, 2.4388, 1.8352, 2.3175, 2.4318, 1.6944, 2.3121, 1.6323, 1.088, 1.952, 1.883, 1.9049, 1.7043, 2.2676, 0.8018, 0.8461, 1.5617, 1.4155, 0.2855, 0.551, 0.5408, 0.9239, 0.7853, 1.9698, 0.4136, -0.1571, 0.5484, 0.6442, 0.1458, -0.2189, 3.6617, 3.6572, 3.6366, 3.6315, 3.6257, 3.6191, 3.6191, 3.6171, 3.6148, 3.6124, 3.6124, 3.6067, 3.6067, 3.6067, 3.6034, 3.6034, 3.5903, 3.5778, 3.5778, 3.5778, 3.5778, 3.5697, 3.5697, 3.56, 3.56, 3.56, 3.548, 3.548, 3.548, 3.548, 3.5464, 3.5338, 3.5071, 3.1345, 3.4127, 3.1303, 3.4414, 3.2961, 3.3388, 2.5864, 3.0864, 2.8162, 2.8673, 2.6905, 2.4754, 1.697, 1.9706, 2.4843, 2.2407, 2.1981, 2.6947, 2.7887, 2.5751, 1.0661, 2.8058, 2.1718, 0.7893, 2.0439, 0.6525, 1.0035, 0.2644, 0.8755, 0.5478, 0.6203, 0.5913, 0.7562, 1.2675, 1.0865, 1.2279, 0.0049, 1.2916, 0.8191, 0.262, 0.4539, -0.1742, 0.2136, 3.8789, 3.8721, 3.8681, 3.8658, 3.8499, 3.8499, 3.8499, 3.8499, 3.8454, 3.8403, 3.8343, 3.8343, 3.8343, 3.8273, 3.8273, 3.819, 3.7965, 3.7965, 3.7965, 3.7943, 3.793, 3.7925, 3.7808, 3.7808, 3.7808, 3.7808, 3.7808, 3.7673, 3.7657, 3.7603, 3.7603, 3.7479, 3.6403, 3.6473, 3.7517, 3.6162, 3.5688, 3.6411, 3.4831, 3.514, 3.5968, 3.1979, 3.6791, 3.5254, 3.1475, 3.0641, 3.2806, 3.0959, 2.5161, 3.2131, 2.7289, 2.1374, 2.7764, 2.0459, 2.4779, 1.9049, 2.2267, 3.0131, 0.9033, 1.8514, 1.5397, 2.9607, 0.8807, 1.7714, 1.8721, 0.9924, 0.8516, 1.1728, 0.5437, -0.494, -0.2373, 3.9336, 3.9249, 3.9111, 3.877, 3.8632, 3.8571, 3.8571, 3.8571, 3.85, 3.85, 3.8416, 3.8416, 3.8313, 3.8313, 3.8313, 3.8313, 3.8187, 3.8187, 3.8187, 3.8187, 3.8187, 3.8187, 3.8157, 3.8084, 3.8028, 3.8028, 3.8028, 3.8028, 3.8028, 3.8028, 3.754, 3.7075, 3.7381, 3.7554, 3.7016, 3.5935, 3.7524, 3.6554, 3.6043, 3.5734, 3.2945, 3.247, 3.7065, 3.2245, 3.2527, 3.2751, 3.1758, 2.3691, 3.1647, 2.4749, 3.164, 3.0844, 2.6005, 3.2455, 2.3953, 1.5842, 2.1913, 2.6137, 1.9969, 1.7979, 1.7915, 0.7644, 1.5103, 0.7071, 0.5703, -0.2498, 0.5457, 0.3433, 1.0749, 1.5644, 1.2161, 0.2748, 0.0168, 0.4799, 3.9684, 3.9616, 3.9616, 3.9557, 3.9523, 3.9491, 3.9484, 3.9388, 3.9388, 3.9329, 3.926, 3.926, 3.926, 3.9178, 3.9178, 3.9178, 3.9078, 3.9078, 3.8955, 3.8955, 3.8955, 3.8955, 3.8955, 3.8955, 3.8929, 3.8902, 3.8886, 3.886, 3.881, 3.8807, 3.8766, 3.8584, 3.835, 3.8585, 3.863, 3.8618, 3.7528, 3.7122, 3.6175, 3.3375, 3.4967, 3.421, 3.4403, 3.7218, 2.9645, 3.2691, 3.6593, 3.2705, 2.7963, 3.3386, 3.0083, 3.0661, 3.0429, 2.8605, 3.0438, 3.283, 2.628, 2.2561, 3.3211, 2.5684, 2.5746, 2.605, 2.1476, 2.6264, 1.2239, 1.2145, 1.1866, 0.3198, 1.1249, -0.3515, 0.7953], \"logprob\": [30.0, 29.0, 28.0, 27.0, 26.0, 25.0, 24.0, 23.0, 22.0, 21.0, 20.0, 19.0, 18.0, 17.0, 16.0, 15.0, 14.0, 13.0, 12.0, 11.0, 10.0, 9.0, 8.0, 7.0, 6.0, 5.0, 4.0, 3.0, 2.0, 1.0, -7.2535, -7.2943, -7.134, -8.0733, -7.9373, -8.1357, -8.1684, -7.5267, -8.2373, -8.3503, -8.1443, -8.2436, -8.4335, -8.5728, -8.6239, -8.6778, -8.5316, -7.9876, -8.7347, -8.7347, -8.7347, -8.7951, -8.7951, -8.7951, -8.7952, -8.8594, -8.8594, -8.8594, -8.8594, -8.9281, -8.238, -5.4223, -7.4879, -6.8152, -4.7041, -6.6302, -7.2445, -7.9018, -7.5673, -8.0216, -4.778, -7.0721, -6.3361, -6.8449, -5.7855, -7.2573, -5.3677, -5.0814, -5.4672, -7.4313, -6.2896, -7.1753, -5.4723, -4.7732, -5.3892, -6.5902, -6.1349, -5.533, -5.3062, -5.7443, -5.8694, -6.4624, -6.2783, -5.3131, -5.6227, -4.5174, -4.7955, -5.8203, -5.1795, -4.918, -5.546, -5.4844, -4.3145, -5.7906, -5.0758, -5.8651, -5.6845, -5.7362, -5.6568, -5.0609, -5.3326, -5.4103, -5.3253, -5.4774, -5.2967, -5.338, -5.3179, -5.4835, -5.6047, -5.2801, -5.72, -6.8183, -7.0822, -7.1927, -7.4091, -7.4257, -7.6442, -7.08, -7.7981, -7.7981, -7.952, -7.9801, -8.1339, -8.1339, -8.2028, -8.2028, -8.239, -8.239, -8.3158, -8.3158, -8.3191, -8.3997, -8.4433, -8.4433, -8.4433, -8.5383, -8.5383, -8.5894, -8.5894, -3.9977, -5.3334, -7.6268, -7.953, -5.656, -5.9096, -7.7517, -3.8017, -4.9064, -4.9163, -5.5595, -7.7564, -6.6995, -5.7178, -6.3781, -6.2606, -5.5519, -4.8422, -6.0244, -4.9152, -4.2459, -7.0472, -6.3232, -6.4716, -6.2136, -4.6435, -4.8057, -5.3052, -6.1324, -4.9922, -4.238, -5.6969, -6.1795, -5.469, -4.9351, -5.4484, -5.7185, -5.5168, -5.4783, -5.5738, -5.4075, -5.6152, -5.5383, -5.6541, -5.56, -4.6988, -6.1366, -6.4966, -6.5324, -7.3645, -7.5667, -7.6749, -7.8206, -7.8746, -5.5724, -8.0565, -5.9829, -8.0903, -8.3659, -7.7696, -8.5659, -8.6228, -8.6233, -8.6832, -7.6499, -8.7474, -8.7474, -8.7474, -8.7474, -8.8161, -8.8899, -8.8899, -8.8899, -8.8902, -8.0074, -5.0764, -6.7428, -6.3733, -4.8632, -5.6159, -6.2576, -7.8803, -6.2974, -6.4189, -7.3747, -7.7758, -7.5067, -6.9077, -5.5668, -3.9474, -6.7723, -4.9592, -6.2396, -5.8156, -4.3644, -5.4051, -4.6941, -5.4765, -5.1965, -5.028, -4.025, -5.8416, -5.7096, -5.4219, -5.7939, -4.7311, -5.6404, -4.5299, -5.7822, -4.9402, -5.2638, -5.7899, -5.6934, -5.3271, -5.436, -5.5437, -5.5874, -5.5583, -5.576, -5.709, -5.6674, -7.5771, -8.0415, -8.3408, -8.1677, -8.3919, -8.3919, -8.3919, -8.7698, -8.7698, -8.3665, -8.8494, -8.8494, -8.8494, -8.9359, -8.9359, -7.1862, -9.0306, -9.0306, -9.0306, -8.2922, -9.1352, -9.1352, -9.1352, -9.2521, -9.2521, -9.2521, -9.2521, -9.2521, -9.2521, -9.2521, -7.1724, -7.7862, -6.4496, -6.8009, -7.5699, -6.9723, -6.2401, -5.8179, -5.24, -5.9949, -6.9919, -3.8709, -5.9797, -4.0823, -7.0756, -5.6708, -8.0683, -7.2872, -7.8055, -4.6833, -3.8813, -5.4434, -5.8233, -5.622, -4.6437, -6.3052, -5.2441, -5.2757, -5.6945, -5.9402, -5.3745, -4.6036, -4.8903, -5.0598, -4.7649, -4.7993, -5.8832, -5.8417, -5.8437, -5.187, -5.3946, -5.2941, -5.2871, -5.492, -5.5006, -5.6343, -5.5931, -5.5743, -5.6204, -5.607, -5.7067, -5.506, -6.1421, -6.5722, -6.8534, -6.9727, -7.1408, -6.363, -7.1921, -7.2461, -7.3432, -7.3849, -6.4402, -7.708, -7.7685, -7.8667, -7.1251, -7.9756, -8.0148, -8.0148, -8.0148, -7.978, -8.0555, -8.0555, -8.0979, -8.1422, -8.2372, -8.2372, -7.5212, -6.4304, -8.3428, -3.542, -6.8195, -6.4153, -4.9917, -6.0496, -5.853, -6.3046, -6.3946, -6.899, -5.4186, -6.5869, -4.7066, -5.476, -4.6421, -6.2776, -5.1285, -5.5393, -5.6741, -4.949, -5.4419, -5.7617, -5.9522, -4.3276, -4.0458, -3.853, -4.4751, -5.686, -4.7521, -5.2326, -5.0462, -4.9192, -5.423, -5.4531, -5.6891, -4.5042, -5.3719, -5.1128, -4.9872, -5.3814, -5.021, -5.4059, -5.2856, -5.4034, -5.4935, -7.1548, -6.3964, -7.2798, -7.4486, -7.6201, -7.6518, -7.7903, -7.9071, -7.9518, -5.1732, -8.14, -8.1938, -8.1938, -8.2508, -8.2508, -7.4267, -8.3112, -8.3112, -8.3754, -8.2068, -8.4441, -8.4441, -7.1805, -7.3033, -8.5178, -8.5178, -7.794, -6.1301, -7.9508, -8.684, -3.7183, -7.3487, -7.8721, -7.2727, -6.9487, -7.2126, -4.7283, -6.5888, -7.1144, -5.0804, -7.3622, -7.1779, -6.116, -5.1459, -5.8667, -5.01, -5.79, -4.5191, -4.3883, -6.3519, -6.3949, -6.1496, -6.2339, -5.2532, -5.0275, -6.1813, -5.0903, -4.7007, -5.7913, -6.0977, -5.7105, -6.3318, -6.2578, -5.2407, -5.3566, -5.593, -5.4907, -6.0872, -5.7935, -5.8818, -5.9949, -5.9495, -5.9121, -5.6377, -5.7856, -5.9225, -5.7953, -5.8298, -5.9233, -5.8781, -5.9069, -7.0, -7.2938, -7.7523, -6.9919, -8.0391, -8.0391, -8.0391, -8.1564, -8.1564, -8.1564, -7.5251, -8.3631, -8.3631, -8.3631, -8.3631, -8.4427, -6.0803, -8.5292, -8.5292, -6.8291, -4.747, -8.6239, -8.6239, -8.6239, -8.7285, -8.7285, -8.7285, -8.7285, -8.7286, -8.8454, -7.8436, -6.8219, -5.7017, -6.7267, -5.6667, -5.2088, -6.3549, -7.342, -6.7456, -5.1761, -5.8787, -7.6492, -7.128, -4.0564, -7.7116, -6.1961, -5.2139, -5.7257, -4.5981, -7.5061, -4.4245, -5.9022, -5.3099, -4.9313, -5.5989, -5.8773, -4.3775, -5.3706, -4.7216, -6.2871, -4.5936, -5.4443, -5.5789, -5.0926, -5.3809, -5.8067, -5.2162, -5.5254, -5.0829, -5.3185, -5.3995, -5.5522, -5.4594, -5.442, -5.6194, -5.6259, -5.6198, -5.6539, -6.5014, -6.6894, -6.7793, -7.0603, -7.2523, -6.9634, -7.7517, -7.7517, -7.9137, -8.0383, -8.107, -8.2604, -8.2604, -8.2604, -8.2604, -8.3469, -8.3469, -8.3469, -8.3469, -8.3469, -7.8395, -8.4456, -8.5462, -8.5462, -8.5462, -8.5462, -8.5462, -7.9137, -8.6631, -8.6631, -5.0325, -8.4663, -7.0725, -3.8073, -7.4498, -5.314, -2.9141, -7.1968, -5.6388, -4.9082, -4.349, -5.2129, -6.1003, -7.3697, -6.7011, -6.085, -5.0327, -5.994, -5.3765, -5.3621, -5.8017, -4.9872, -6.3689, -5.7294, -5.9835, -4.8987, -6.1939, -5.6047, -4.9664, -5.4762, -5.0178, -5.2091, -4.8796, -5.752, -5.24, -5.4424, -5.4267, -4.9768, -5.3144, -5.1524, -5.2673, -5.4885, -5.6583, -5.4913, -5.4909, -5.5474, -5.5506, -5.5732, -6.527, -7.1727, -7.3037, -7.4106, -7.4904, -7.5772, -7.5772, -7.6235, -7.6722, -7.7772, -7.7772, -7.8341, -7.8341, -7.5888, -7.8945, -7.9587, -7.9587, -8.0274, -8.0274, -8.0274, -8.1012, -8.1808, -8.1808, -7.7052, -8.2673, -8.362, -8.362, -8.4666, -8.4666, -8.4666, -7.7242, -7.2712, -7.7896, -5.6695, -6.0633, -6.5454, -6.4863, -6.2599, -5.3948, -5.5941, -4.677, -7.5772, -5.2335, -6.3628, -6.9932, -7.0967, -7.1892, -6.3621, -6.5401, -5.1135, -6.0918, -6.9679, -6.4729, -4.9151, -6.4548, -6.428, -5.3593, -5.2071, -6.7066, -5.5283, -5.8764, -5.2908, -5.96, -5.577, -5.8806, -5.9263, -5.9521, -5.5302, -6.0895, -5.712, -6.0397, -5.691, -5.6312, -5.9223, -5.7213, -5.7163, -5.7905, -5.985, -5.9411, -5.9562, -5.9104, -5.9711, -6.3013, -6.6653, -6.6895, -6.8815, -6.9122, -7.0104, -7.0104, -7.0454, -7.0817, -7.1585, -7.2859, -7.2859, -7.3809, -7.3809, -7.4321, -7.4321, -6.6911, -7.3848, -7.4859, -7.5429, -7.6033, -7.8099, -7.8896, -7.1992, -7.9761, -7.9761, -7.9761, -7.2423, -8.0708, -8.0708, -6.6703, -7.3828, -6.1893, -6.6398, -6.0339, -6.7049, -7.0138, -6.5875, -5.6608, -6.7539, -7.0371, -4.8286, -5.3903, -4.3897, -5.6007, -7.0454, -5.6094, -4.625, -5.5447, -4.6494, -4.4003, -4.6647, -5.9949, -5.4015, -5.3391, -5.1001, -5.7612, -5.0575, -5.8831, -5.3095, -5.3777, -5.6613, -5.3759, -5.5183, -5.7278, -6.1279, -6.0012, -5.9048, -5.6261, -5.7129, -5.8069, -5.8738, -6.3516, -7.3301, -7.4474, -7.5117, -7.5117, -7.6541, -7.177, -7.915, -7.1337, -8.0196, -8.0196, -8.0196, -8.0196, -8.0196, -8.0196, -8.0198, -3.4405, -8.1365, -8.1365, -8.1365, -8.1365, -8.1365, -8.1365, -7.4018, -7.5117, -8.2688, -8.2688, -8.2688, -8.2688, -7.3524, -6.2765, -7.1308, -6.3635, -6.3547, -6.3421, -3.777, -7.6541, -6.4852, -7.6708, -7.7349, -6.1653, -4.1988, -6.7259, -6.3281, -7.6842, -7.1585, -7.3507, -6.1345, -5.8986, -6.683, -5.6972, -6.4526, -5.3127, -4.2623, -5.4216, -5.8095, -4.821, -5.7941, -4.8204, -4.2504, -5.5615, -5.5424, -5.6026, -5.4409, -6.0455, -4.8626, -4.9769, -5.541, -5.5204, -5.1898, -5.3652, -5.3826, -5.6704, -5.6342, -5.9703, -5.6242, -5.5534, -5.749, -5.8058, -5.7534, -5.7494, -2.9509, -4.7936, -6.0444, -6.5727, -6.7482, -6.9148, -6.9148, -6.9612, -7.0098, -7.0609, -7.0609, -7.1717, -7.1717, -7.1717, -7.2321, -7.2321, -7.4388, -7.6049, -7.6049, -7.6049, -7.6049, -7.6996, -7.6996, -7.8043, -7.8043, -7.8043, -7.9211, -7.9211, -7.9211, -7.9211, -7.1721, -6.9617, -6.7937, -3.8862, -6.8395, -5.2738, -7.1723, -6.7129, -6.8844, -5.1191, -6.3612, -5.9625, -6.1235, -5.8819, -5.5236, -4.5352, -4.9399, -5.6699, -5.3938, -5.4547, -6.1003, -6.2511, -6.0469, -4.9716, -6.4141, -5.9839, -5.1099, -5.9322, -5.1508, -5.4465, -5.074, -5.4219, -5.2752, -5.316, -5.3321, -5.4677, -5.7084, -5.654, -5.7357, -5.5256, -5.7921, -5.7317, -5.6499, -5.6862, -5.6495, -5.6922, -6.4577, -6.6533, -6.744, -6.7926, -7.0792, -7.0792, -7.0792, -7.0792, -7.1478, -7.2216, -7.3012, -7.3012, -7.3012, -7.3877, -7.3877, -7.4824, -7.7039, -7.7039, -7.7039, -7.7059, -5.7923, -7.6017, -7.8363, -7.8363, -7.8363, -7.8363, -7.8363, -7.2216, -5.3135, -7.9888, -7.9888, -6.8976, -5.3233, -5.6043, -7.3014, -5.6811, -5.1501, -6.0693, -5.1324, -5.592, -6.4487, -4.2508, -7.02, -6.4826, -5.3181, -5.1576, -5.839, -5.476, -4.3347, -5.8917, -4.9719, -4.4168, -5.5817, -4.8102, -5.3501, -4.7541, -5.1951, -6.217, -4.6495, -5.4981, -5.4631, -6.2259, -5.3542, -5.7721, -5.8334, -5.6342, -5.6295, -5.695, -5.6269, -5.5969, -5.6335, -4.5954, -5.5196, -6.1978, -7.0064, -7.2131, -7.2927, -7.2927, -7.2927, -7.3793, -6.9192, -7.474, -7.474, -7.5786, -7.5786, -7.5786, -7.5786, -7.6955, -7.6955, -7.6955, -7.6955, -7.6955, -7.6955, -6.4919, -6.9591, -7.8278, -7.8278, -7.8278, -7.8278, -7.8278, -7.8278, -5.0598, -4.353, -5.7538, -6.6891, -6.0135, -4.3542, -7.1762, -6.7429, -6.4982, -6.35, -5.1234, -5.2702, -7.219, -5.8681, -6.2036, -6.3111, -6.1405, -4.6324, -6.1631, -4.9467, -6.1877, -6.1564, -5.5534, -6.5468, -5.7207, -5.013, -5.6199, -6.065, -5.6984, -5.6533, -5.6968, -5.2496, -5.5924, -5.3306, -5.3027, -5.2633, -5.5208, -5.5129, -5.6877, -5.8014, -5.7597, -5.6615, -5.6281, -5.7019, -6.589, -6.7352, -6.7352, -6.846, -6.9063, -6.2153, -6.9706, -7.113, -7.113, -7.1926, -7.2792, -7.2792, -7.2792, -7.3739, -7.3739, -7.3739, -7.4785, -7.4785, -7.5954, -7.5954, -7.5954, -7.5954, -7.5954, -7.5954, -6.9074, -4.7587, -6.9706, -6.5023, -5.9985, -6.9714, -5.439, -4.0166, -5.3362, -6.4239, -7.0488, -7.0542, -6.2109, -6.3663, -5.9658, -4.8963, -5.7674, -5.6075, -5.772, -6.6593, -4.6191, -5.4886, -6.5136, -5.7909, -5.1209, -6.158, -5.6907, -5.7841, -5.8425, -5.6421, -5.8919, -6.1873, -5.6051, -5.2837, -6.2743, -5.7808, -5.8175, -5.872, -5.8362, -6.0078, -5.6062, -5.6533, -5.785, -5.6716, -5.8387, -5.7477, -5.8313]}, \"token.table\": {\"Topic\": [1, 2, 3, 4, 5, 6, 7, 8, 9, 10, 11, 12, 13, 14, 2, 6, 7, 12, 13, 1, 2, 3, 4, 5, 6, 7, 8, 9, 10, 11, 12, 13, 14, 15, 1, 2, 3, 7, 10, 11, 12, 13, 12, 1, 2, 3, 4, 5, 6, 7, 8, 9, 10, 11, 12, 13, 14, 15, 1, 2, 3, 4, 5, 6, 7, 8, 9, 10, 11, 12, 13, 14, 15, 4, 1, 2, 3, 4, 5, 6, 7, 8, 9, 11, 12, 13, 14, 15, 3, 12, 15, 3, 4, 6, 8, 9, 12, 13, 15, 1, 1, 3, 4, 14, 3, 4, 7, 3, 15, 8, 6, 3, 4, 6, 8, 9, 12, 14, 13, 8, 13, 1, 2, 3, 5, 8, 13, 14, 15, 12, 1, 2, 3, 4, 5, 6, 7, 8, 9, 10, 11, 12, 13, 14, 6, 1, 6, 8, 9, 10, 14, 15, 2, 3, 4, 5, 6, 7, 9, 10, 11, 13, 14, 15, 2, 3, 4, 6, 7, 8, 9, 10, 11, 12, 13, 14, 15, 1, 2, 3, 4, 5, 7, 8, 13, 8, 1, 2, 4, 5, 6, 7, 8, 10, 11, 14, 1, 7, 9, 12, 1, 2, 7, 9, 10, 13, 14, 1, 2, 5, 12, 2, 3, 4, 6, 8, 9, 11, 12, 14, 1, 2, 3, 4, 5, 6, 7, 8, 9, 10, 11, 12, 13, 14, 7, 11, 1, 2, 3, 4, 5, 6, 7, 8, 10, 11, 12, 13, 14, 1, 2, 3, 5, 6, 7, 8, 9, 11, 12, 14, 1, 2, 3, 4, 5, 6, 7, 8, 9, 10, 11, 12, 13, 2, 3, 6, 8, 10, 1, 2, 4, 6, 8, 10, 13, 15, 10, 1, 3, 4, 5, 7, 9, 11, 12, 1, 2, 3, 4, 6, 8, 1, 5, 7, 9, 1, 2, 3, 4, 5, 6, 7, 8, 10, 12, 13, 14, 7, 9, 1, 2, 3, 5, 7, 8, 9, 12, 14, 2, 14, 14, 2, 3, 4, 7, 8, 9, 12, 1, 2, 3, 4, 5, 6, 7, 8, 9, 10, 11, 12, 13, 14, 15, 1, 2, 6, 9, 10, 14, 7, 15, 13, 1, 2, 3, 4, 5, 7, 8, 11, 6, 7, 10, 7, 10, 15, 5, 4, 5, 10, 13, 3, 4, 9, 12, 13, 3, 12, 6, 7, 2, 3, 5, 6, 7, 8, 9, 11, 12, 13, 15, 8, 1, 14, 6, 9, 13, 14, 2, 11, 4, 6, 15, 3, 7, 11, 14, 1, 5, 5, 10, 3, 3, 7, 13, 15, 13, 15, 12, 1, 2, 3, 4, 6, 7, 9, 11, 12, 13, 15, 12, 3, 12, 5, 8, 14, 6, 7, 9, 15, 10, 13, 14, 15, 15, 13, 7, 2, 4, 6, 9, 10, 11, 11, 13, 1, 2, 3, 4, 6, 8, 9, 13, 14, 15, 3, 9, 13, 15, 13, 2, 1, 4, 5, 6, 7, 8, 9, 10, 11, 14, 1, 5, 13, 14, 2, 3, 4, 5, 6, 7, 8, 9, 10, 12, 13, 1, 2, 3, 4, 5, 6, 7, 8, 9, 10, 11, 12, 14, 15, 1, 4, 5, 6, 8, 10, 11, 12, 14, 7, 8, 7, 6, 1, 2, 3, 4, 5, 6, 7, 8, 9, 10, 12, 13, 15, 1, 2, 4, 5, 6, 7, 8, 9, 10, 11, 12, 14, 15, 1, 2, 3, 4, 6, 13, 15, 12, 6, 9, 10, 2, 6, 8, 9, 10, 11, 14, 15, 15, 11, 1, 14, 8, 5, 10, 9, 1, 15, 4, 11, 7, 13, 1, 2, 3, 4, 5, 6, 7, 8, 9, 10, 11, 12, 13, 14, 15, 1, 2, 3, 4, 5, 6, 7, 9, 10, 12, 13, 14, 15, 12, 4, 9, 10, 12, 6, 1, 2, 4, 5, 6, 8, 9, 10, 11, 13, 14, 15, 8, 1, 5, 8, 9, 11, 14, 4, 8, 4, 1, 3, 4, 6, 7, 8, 12, 13, 1, 4, 6, 9, 10, 15, 14, 15, 1, 2, 3, 4, 5, 6, 7, 9, 10, 11, 12, 13, 14, 15, 1, 2, 2, 1, 2, 3, 4, 5, 6, 7, 8, 9, 10, 11, 13, 8, 13, 15, 2, 3, 4, 5, 6, 7, 12, 13, 14, 5, 13, 5, 1, 2, 3, 5, 8, 10, 12, 13, 2, 3, 4, 6, 7, 9, 11, 4, 7, 11, 2, 13, 1, 2, 6, 7, 9, 10, 11, 15, 1, 4, 3, 15, 13, 1, 2, 3, 4, 5, 6, 7, 8, 9, 10, 11, 12, 13, 14, 1, 2, 6, 7, 8, 9, 10, 11, 13, 14, 15, 2, 6, 1, 2, 4, 5, 6, 7, 8, 9, 10, 11, 12, 14, 1, 2, 3, 4, 9, 12, 13, 14, 15, 1, 2, 3, 4, 5, 6, 7, 8, 9, 10, 11, 12, 1, 2, 3, 4, 5, 6, 7, 8, 9, 10, 11, 12, 13, 14, 15, 1, 2, 3, 4, 5, 6, 7, 8, 9, 10, 11, 12, 13, 15, 1, 4, 7, 10, 11, 1, 2, 3, 4, 5, 6, 7, 8, 9, 11, 12, 13, 14, 1, 3, 6, 7, 8, 9, 13, 14, 15, 2, 13, 14, 1, 2, 4, 5, 8, 9, 10, 14, 1, 2, 3, 4, 5, 6, 7, 8, 9, 10, 11, 12, 13, 14, 15, 11, 1, 2, 9, 1, 2, 4, 5, 7, 8, 11, 12, 14, 1, 2, 5, 6, 8, 9, 11, 12, 14, 10, 3, 3, 6, 9, 1, 2, 3, 4, 6, 7, 8, 9, 10, 11, 14, 8, 1, 3, 4, 9, 1, 2, 3, 4, 5, 6, 7, 8, 9, 12, 13, 15, 1, 2, 5, 6, 7, 8, 9, 10, 11, 12, 13, 14, 15, 1, 5, 8, 11, 13, 14, 5, 11, 5, 9, 10, 1, 2, 3, 4, 5, 6, 7, 8, 9, 10, 11, 12, 13, 14, 15, 1, 2, 3, 4, 5, 7, 11, 12, 1, 3, 4, 7, 8, 12, 13, 15, 7, 12, 1, 2, 3, 4, 5, 6, 7, 8, 9, 10, 11, 12, 14, 15, 12, 2, 3, 4, 5, 6, 7, 9, 11, 12, 14, 1, 3, 4, 9, 11, 13, 14, 1, 2, 5, 9, 14, 2, 1, 3, 5, 6, 9, 10, 14, 1, 3, 9, 2, 1, 2, 3, 4, 5, 6, 7, 8, 9, 10, 12, 13, 14, 1, 2, 3, 4, 5, 6, 7, 8, 9, 10, 12, 13, 14, 15, 2, 3, 4, 5, 6, 7, 9, 11, 12, 15, 1, 2, 4, 6, 7, 9, 12, 13, 14, 1, 2, 3, 4, 5, 6, 7, 8, 9, 10, 11, 12, 13, 14, 15, 1, 2, 3, 4, 5, 6, 8, 9, 10, 12, 13, 14, 15, 2, 3, 10, 12, 15, 2, 4, 7, 9, 15, 12, 10, 2, 3, 4, 6, 7, 10, 14, 15, 3, 4, 9, 10, 13, 15, 1, 2, 3, 4, 5, 6, 7, 8, 9, 12, 13, 9, 11, 12, 14, 8, 10, 11, 9, 1, 2, 3, 5, 7, 8, 10, 13, 14, 1, 5, 5, 1, 2, 5, 9, 13, 5, 5, 1, 2, 3, 4, 5, 6, 7, 8, 9, 10, 11, 12, 13, 14, 15, 2, 3, 4, 6, 7, 8, 9, 10, 11, 12, 15, 3, 13, 3, 6, 8, 1, 2, 3, 4, 5, 6, 7, 9, 10, 11, 12, 13, 14, 4, 5, 7, 11, 12, 4, 7, 12, 5, 2, 2, 1, 2, 3, 5, 6, 7, 8, 9, 10, 11, 12, 13, 14, 7, 8, 10, 12, 1, 2, 3, 4, 5, 6, 7, 8, 9, 10, 11, 12, 14, 1, 2, 3, 4, 5, 6, 7, 8, 9, 10, 11, 12, 13, 15, 3, 4, 5, 6, 7, 9, 12, 13, 3, 1, 5, 7, 9, 10, 11, 12, 1, 2, 3, 4, 5, 7, 8, 11, 12, 14, 1, 2, 3, 4, 5, 7, 8, 11, 12, 1, 2, 3, 4, 5, 6, 7, 8, 9, 10, 11, 12, 13, 14, 15, 1, 2, 4, 6, 7, 8, 9, 11, 12, 14, 1, 2, 3, 4, 5, 6, 7, 8, 9, 10, 11, 12, 13, 14, 1, 2, 3, 4, 5, 6, 7, 8, 9, 10, 11, 12, 13, 14, 15, 1, 2, 3, 4, 5, 6, 7, 8, 9, 10, 11, 12, 13, 14, 5, 7, 11, 1, 13, 1, 2, 3, 4, 5, 6, 7, 8, 9, 10, 11, 12, 13, 14, 15, 2, 3, 4, 6, 7, 8, 9, 11, 12, 13, 2, 3, 4, 1, 4, 5, 8, 11, 12, 1, 2, 3, 4, 5, 6, 7, 8, 9, 10, 11, 12, 13, 14, 3, 4, 5, 9, 10, 1, 2, 3, 4, 5, 8, 9, 11, 12, 13, 1, 5, 11, 14, 11, 1, 2, 3, 4, 5, 6, 7, 8, 9, 10, 14, 13, 11, 12, 1, 2, 3, 4, 5, 6, 7, 8, 9, 10, 11, 12, 13, 14, 15, 3, 4, 12, 4, 6, 8, 12, 12, 12, 5, 2, 4, 6, 7, 8, 9, 10, 11, 13, 15, 1, 2, 3, 7, 9, 11, 12, 13, 14, 14, 5, 14, 1, 13, 2, 11, 1, 2, 3, 4, 5, 7, 8, 9, 10, 11, 12, 13, 14, 7, 1, 2, 3, 4, 5, 6, 7, 8, 9, 10, 11, 13, 14, 5, 6, 9, 2, 3, 4, 6, 7, 8, 12, 6, 7, 3, 5, 6, 8, 9, 11, 3, 5, 6, 13, 1, 2, 3, 4, 5, 6, 8, 9, 11, 12, 1, 2, 3, 4, 5, 6, 7, 8, 9, 10, 11, 15, 2, 6, 7, 8, 9, 10, 11, 12, 13, 14, 15, 1, 3, 4, 5, 7, 8, 12, 14, 1, 2, 3, 4, 5, 6, 7, 8, 9, 10, 11, 12, 13, 14, 15, 9, 10, 13, 15, 1, 2, 5, 6, 7, 8, 9, 10, 11, 12, 14, 10, 1, 2, 3, 4, 5, 6, 7, 9, 10, 12, 15, 9, 3, 4, 3, 4, 13, 14, 2, 3, 4, 5, 6, 7, 9, 11, 12, 13, 15, 1, 2, 3, 4, 5, 6, 7, 8, 9, 11, 12, 13, 14, 15, 1, 2, 3, 4, 5, 6, 7, 8, 9, 10, 11, 12, 13, 14, 15, 1, 2, 3, 4, 5, 6, 7, 8, 9, 14, 7, 9, 8, 10, 1, 2, 3, 4, 5, 6, 7, 8, 9, 10, 11, 12, 13, 14, 15, 2, 9, 10, 1, 2, 3, 4, 5, 6, 8, 9, 11, 12, 14, 5, 1, 8, 1, 2, 3, 4, 5, 6, 7, 8, 9, 10, 11, 12, 13, 14, 15, 7, 11, 12, 6, 4, 6, 9, 11, 12, 14, 15, 1, 2, 3, 4, 5, 6, 7, 8, 9, 10, 12, 14, 15, 1, 2, 6, 7, 9, 11, 14, 2, 3, 4, 6, 10, 12, 13, 15, 2, 3, 4, 5, 6, 7, 9, 10, 13, 3, 5, 14, 5, 4, 1, 2, 3, 4, 5, 6, 7, 8, 9, 10, 11, 12, 13, 14, 15, 1, 5, 6, 7, 8, 11, 1, 2, 3, 4, 5, 6, 7, 8, 9, 10, 11, 12, 13, 14, 15, 1, 2, 3, 4, 5, 7, 8, 9, 10, 11, 12, 14, 6, 7, 1, 2, 3, 4, 6, 7, 8, 9, 10, 11, 13, 14, 15, 1, 2, 3, 4, 5, 6, 7, 8, 9, 10, 11, 13, 14, 15, 13, 8, 5, 9, 13, 5, 1, 2, 8, 10, 14, 15, 1, 2, 3, 4, 5, 6, 7, 8, 9, 10, 11, 12, 13, 14, 1, 7, 9, 12, 13, 1, 2, 7, 8, 10, 11, 12, 13, 2, 5, 7, 1, 2, 3, 4, 5, 6, 8, 9, 12, 13, 14, 15, 4, 10, 4, 10, 1, 2, 3, 4, 5, 6, 7, 8, 9, 10, 12, 14, 3, 3, 4, 12, 1, 2, 3, 4, 7, 8, 9, 12, 13, 14, 15, 3, 1, 2, 3, 4, 5, 6, 7, 8, 9, 10, 11, 12, 13, 14, 15, 13, 1, 2, 3, 4, 6, 7, 8, 9, 10, 12, 13, 15, 14, 7, 2, 11, 11, 4, 8, 4, 6, 8, 1, 2, 3, 4, 5, 6, 7, 8, 9, 10, 11, 12, 13, 14, 15, 6, 14, 1, 1, 8, 9, 8, 2, 7, 7, 2, 7, 2, 9, 4, 13, 2, 4, 5, 11, 2, 15, 13, 1, 2, 3, 4, 5, 6, 7, 8, 9, 10, 12, 13, 15, 9, 11, 3, 2, 6, 6, 14, 4, 6, 13, 1, 2, 3, 4, 5, 6, 7, 8, 9, 10, 11, 12, 13, 14, 15, 2, 1, 3, 14, 15, 14, 1, 2, 3, 4, 5, 6, 7, 8, 11, 12, 14, 1, 2, 3, 4, 5, 7, 8, 11, 12, 14, 1, 3, 4, 6, 7, 8, 9, 10, 11, 14, 1, 2, 6, 8, 1, 2, 3, 4, 5, 6, 7, 8, 9, 10, 11, 12, 13, 14, 15, 3, 4, 6, 13, 15, 3, 8, 9, 12, 1, 2, 4, 5, 6, 9, 13, 14, 15, 2, 3, 4, 5, 6, 7, 9, 10, 11, 12, 13, 15, 7, 9, 1, 2, 3, 4, 5, 6, 7, 8, 9, 10, 11, 12, 13, 14, 15, 2, 3, 4, 5, 7, 9, 10, 12, 13, 14, 15, 1, 5, 6, 7, 10, 11, 12, 14, 7, 2, 3, 4, 5, 6, 7, 9, 10, 12, 13, 15, 1, 2, 3, 4, 5, 6, 7, 8, 9, 11, 12, 1, 2, 4, 5, 6, 7, 8, 9, 11, 12, 14, 1, 2, 3, 4, 5, 7, 8, 9, 10, 11, 12, 13, 14, 15, 5, 4, 2, 3, 9, 10, 12, 13, 14, 3, 10, 12, 3, 3, 1, 14, 2, 3, 4, 6, 8, 9, 10, 11, 13, 14, 1, 2, 3, 4, 5, 6, 7, 8, 9, 10, 11, 12, 13, 15, 2, 11, 4, 12, 14, 2, 3, 4, 5, 6, 7, 12, 13, 4, 6, 9, 1, 2, 3, 4, 5, 6, 7, 8, 9, 10, 11, 12, 13, 14, 15, 6, 12, 14, 11, 12, 12, 7, 2, 3, 4, 6, 9, 10, 15, 14, 4, 1, 5, 9, 10, 11, 12, 6, 11, 7, 11, 3, 9, 9, 3, 6, 7, 8, 9, 12, 2, 12, 1, 2, 8, 9, 15, 6, 5, 4, 6, 10, 14, 9, 9, 11, 14, 12, 1, 8, 5, 10, 1, 2, 3, 5, 6, 7, 8, 9, 10, 11, 13, 14, 8, 1, 2, 3, 4, 5, 6, 7, 8, 9, 10, 11, 12, 14, 2, 3, 9, 15, 4, 2, 3, 4, 5, 6, 8, 9, 10, 11, 12, 13, 15, 1, 6, 7, 8, 9, 12, 14, 2, 3, 4, 5, 6, 7, 9, 10, 12, 13, 2, 3, 4, 6, 7, 12, 6, 1, 2, 3, 4, 5, 6, 7, 8, 9, 10, 11, 12, 13, 14, 1, 2, 3, 4, 5, 6, 7, 8, 9, 10, 12, 2, 3, 7, 1, 2, 3, 4, 5, 6, 7, 8, 9, 10, 11, 12, 13, 14, 15, 1, 2, 4, 5, 7, 8, 9, 11, 12, 14, 7, 6, 7, 9, 10, 12, 15, 9, 8, 1, 3, 5, 6, 8, 9, 10, 11, 12, 15, 11, 1, 2, 3, 4, 5, 6, 7, 8, 9, 10, 11, 12, 13, 14, 15, 4, 4, 11, 14, 13, 15, 1, 2, 6, 1, 2, 3, 4, 5, 6, 7, 8, 9, 10, 11, 12, 13, 4, 6, 12, 14, 7, 8, 9, 11, 12, 2, 1, 2, 3, 4, 5, 6, 7, 9, 10, 12, 13, 14, 1, 2, 3, 4, 5, 6, 7, 8, 9, 10, 11, 12, 13, 13, 2, 3, 4, 5, 6, 7, 8, 9, 10, 11, 12, 13, 14, 15, 1, 2, 3, 4, 6, 7, 8, 9, 12, 15, 2, 3, 4, 5, 12, 13, 4, 10, 3, 4, 13, 10, 1, 2, 4, 8, 9, 10, 14, 11, 1, 4, 10, 11, 1, 2, 3, 4, 5, 6, 7, 8, 9, 10, 12, 13, 14, 15, 2, 3, 4, 6, 7, 8, 9, 10, 11, 14, 15, 2, 5, 10, 11, 14, 15, 4, 2, 3, 4, 9, 13, 15, 1, 2, 3, 4, 5, 6, 7, 8, 9, 10, 11, 13, 14, 15, 2, 4, 6, 8, 14, 1, 2, 3, 4, 5, 6, 7, 9, 10, 11, 12, 14, 1, 1, 5, 7, 4, 7, 1, 2, 3, 4, 5, 6, 7, 8, 11, 12, 14, 1, 2, 3, 4, 5, 6, 7, 8, 9, 10, 12, 13, 14, 15, 11, 11, 15, 12, 1, 2, 3, 6, 10, 12, 13, 4, 11, 12, 15, 14, 1, 2, 3, 4, 5, 6, 7, 8, 9, 12, 13, 14, 10, 1, 2, 3, 4, 5, 6, 7, 8, 9, 10, 12, 13, 1, 2, 5, 7, 9, 10, 11, 12, 14, 12, 7, 6, 1, 2, 3, 4, 5, 6, 7, 8, 9, 10, 11, 12, 13, 14, 15, 8, 2, 4, 15, 12, 9, 14, 2, 3, 4, 6, 8, 9, 10, 15, 6, 2, 3, 6, 10, 13, 1, 2, 1, 2, 3, 4, 5, 6, 7, 8, 9, 11, 12, 13, 14, 15, 2, 5, 6, 8, 14, 2, 9, 10, 2, 12, 2, 10, 7, 3, 10, 5, 10, 15, 15, 15, 3, 4, 6, 7, 8, 9, 12, 14, 8, 1, 2, 3, 4, 5, 6, 7, 8, 9, 10, 11, 12, 13, 14, 15, 2, 9, 9, 1, 2, 3, 5, 6, 7, 8, 9, 11, 12, 13, 14, 15, 1, 1, 2, 3, 4, 5, 6, 7, 8, 9, 10, 11, 12, 13, 14, 15, 2, 3, 4, 6, 7, 8, 9, 10, 12, 13, 15, 8, 7, 7, 1, 2, 3, 4, 5, 6, 7, 8, 9, 11, 12, 13, 14, 15, 7, 2, 1, 7, 5, 9, 1, 2, 3, 4, 5, 6, 7, 8, 9, 10, 11, 12, 13, 14, 15, 1, 2, 3, 4, 5, 6, 7, 8, 9, 12, 13, 14, 11, 15, 1, 5, 8, 10, 4, 9, 13, 14, 15, 12, 1, 3, 5, 7, 11, 12, 14, 1, 1, 2, 3, 4, 5, 6, 7, 8, 9, 11, 12, 13, 1, 9, 2, 6, 7, 8, 14, 1, 1, 2, 4, 5, 6, 8, 10, 11, 14, 15, 10, 1, 2, 4, 5, 9, 11, 1, 5, 6, 8, 9, 11, 12, 13, 14, 2, 3, 4, 6, 9, 12, 15, 13, 3, 4, 6, 8, 9, 13, 14, 3, 5, 6, 8, 13, 2, 15, 1, 2, 3, 4, 5, 6, 7, 8, 9, 10, 11, 12, 13, 14, 15, 1, 2, 3, 4, 5, 6, 7, 8, 9, 10, 11, 12, 13, 15, 2, 1, 2, 3, 4, 5, 6, 7, 8, 9, 10, 11, 12, 13, 14, 10, 1, 2, 3, 4, 5, 6, 7, 8, 9, 12, 14, 1, 2, 3, 4, 5, 6, 7, 8, 9, 10, 11, 13, 14, 15, 1, 2, 3, 4, 6, 7, 8, 9, 10, 11, 12, 13, 15, 4, 12, 6, 1, 2, 3, 4, 6, 7, 8, 9, 13, 15, 11, 12, 1, 13, 11, 4, 2, 4, 5, 8, 10, 12, 14, 15, 1, 2, 3, 4, 5, 6, 7, 8, 9, 10, 11, 12, 13, 14, 15, 4, 6, 9, 15, 2, 3, 4, 5, 6, 8, 10, 11, 15, 1, 4, 9, 10, 11, 1, 2, 3, 4, 5, 6, 7, 8, 9, 12, 13, 14, 5, 7, 9, 2, 3, 4, 5, 6, 8, 9, 10, 12, 14, 1, 5, 6, 8, 11, 12, 14, 1, 2, 3, 4, 5, 6, 7, 8, 9, 10, 11, 12, 13, 14, 15, 5, 9, 14, 2, 3, 4, 9, 10, 11, 13, 15, 8, 10, 6, 1, 2, 3, 8, 9, 10, 11, 12, 13, 14, 15, 6, 8, 10, 1, 2, 3, 4, 5, 6, 7, 8, 9, 10, 11, 12, 13, 14, 15, 1, 2, 3, 4, 5, 6, 7, 8, 9, 10, 11, 12, 14, 1, 2, 3, 4, 7, 9, 10, 14, 1, 2, 3, 6, 8, 9, 10, 9, 12, 2, 4, 5, 6, 7, 8, 9, 11, 12, 14, 1, 2, 3, 4, 5, 6, 8, 9, 10, 11, 13, 14, 15, 1, 2, 3, 4, 5, 6, 7, 9, 10, 11, 12, 4, 6, 9, 10, 2, 4, 8, 11, 15, 1, 2, 3, 4, 5, 6, 7, 8, 9, 10, 11, 12, 13, 14, 15, 1, 2, 3, 4, 5, 6, 7, 8, 9, 10, 11, 12, 13, 14, 15, 11, 10, 1, 2, 3, 4, 5, 6, 7, 8, 9, 10, 12, 13, 14, 15, 1, 2, 3, 4, 5, 7, 8, 9, 10, 11, 3, 4, 5, 8, 9, 12, 14, 1, 1, 2, 3, 4, 5, 6, 7, 8, 9, 10, 11, 12, 13, 14, 15, 1, 2, 3, 4, 5, 6, 7, 9, 10, 11, 12, 13, 9, 1, 2, 3, 5, 7, 8, 9, 10, 11, 12, 13, 15, 9, 1, 2, 4, 6, 7, 9, 10, 12, 13, 14, 10, 1, 2, 3, 4, 5, 6, 7, 8, 9, 10, 11, 12, 13, 14, 3, 4, 5, 11, 1, 2, 3, 4, 5, 6, 8, 9, 11, 13, 15, 10, 1, 2, 5, 10, 11, 3, 4, 10, 2, 9, 15, 13, 5, 15, 1, 2, 5, 6, 8, 12, 1, 2, 3, 4, 5, 6, 7, 8, 9, 10, 11, 12, 13, 14, 15, 5, 5, 10, 7, 8, 9, 1, 2, 6, 7, 8, 9, 11, 12, 15, 1, 6, 7, 11, 3, 1, 2, 3, 6, 7, 8, 9, 10, 11, 12, 14, 8, 1, 2, 3, 4, 5, 6, 7, 8, 9, 10, 11, 12, 13, 14, 15, 12, 2, 3, 6, 7, 8, 4, 2, 3, 4, 1, 1, 5, 11, 14, 1, 2, 5, 1, 2, 3, 4, 5, 6, 7, 8, 9, 10, 11, 12, 13, 14, 15, 1, 2, 3, 4, 5, 6, 7, 8, 9, 10, 11, 12, 13, 14, 15, 1, 2, 3, 4, 5, 6, 7, 8, 9, 11, 12, 14, 1, 2, 3, 4, 5, 6, 7, 8, 9, 10, 11, 12, 13, 14, 1, 2, 3, 4, 5, 7, 8, 9, 11, 12, 14, 1, 2, 3, 4, 6, 7, 8, 9, 10, 11, 12, 13, 14, 15, 2, 3, 7, 9, 10, 11, 13, 15, 15, 5, 1, 2, 3, 4, 5, 6, 7, 8, 9, 10, 11, 12, 13, 14, 15, 15, 1, 2, 3, 4, 5, 6, 7, 8, 9, 10, 11, 12, 13, 14, 15, 2, 3, 4, 6, 9, 13, 14, 2, 3, 4, 6, 7, 13, 15, 1, 2, 3, 4, 5, 6, 7, 8, 9, 10, 11, 12, 13, 14, 15, 9, 1, 2, 7, 11, 12, 14, 2, 3, 4, 6, 8, 9, 12, 13, 1, 2, 3, 4, 5, 6, 7, 8, 9, 10, 11, 12, 13, 14, 15, 8, 10, 1, 2, 3, 4, 5, 6, 7, 8, 9, 10, 11, 12, 13, 14, 15, 13, 1, 2, 3, 4, 6, 9, 11, 2, 8, 9, 10, 11, 13, 15, 4, 1, 15, 15, 3, 6, 8, 9, 6, 8, 9, 10, 11, 14, 1, 13, 1, 2, 4, 13, 8, 6, 1, 2, 3, 4, 6, 8, 9, 10, 11, 12, 13, 1, 2, 3, 4, 7, 8, 10, 11, 15, 2, 2, 1, 2, 3, 4, 5, 6, 7, 8, 9, 10, 11, 12, 14, 3, 11, 13, 14, 1, 2, 4, 6, 7, 8, 9, 10, 11, 14, 15, 1, 2, 4, 5, 7, 8, 9, 10, 11, 14, 15, 4, 7, 10, 1, 2, 3, 4, 5, 6, 7, 8, 9, 10, 13, 14, 15, 1, 1, 2, 3, 4, 5, 6, 7, 8, 9, 10, 11, 12, 13, 14, 15, 2, 3, 4, 7, 12, 13, 15, 3, 1, 2, 3, 4, 5, 6, 7, 8, 9, 10, 11, 12, 13, 14, 15, 2, 2, 3, 10, 13, 9, 13, 1, 2, 5, 7, 8, 9, 10, 11, 12, 14, 5, 1, 2, 3, 4, 5, 6, 7, 8, 9, 10, 11, 12, 13, 14, 15, 1, 3, 15, 1, 2, 14, 1, 2, 3, 4, 5, 6, 7, 8, 9, 10, 11, 12, 13, 14, 15, 2, 5, 6, 8, 9, 10, 11, 13, 7, 2, 3, 13, 15, 1, 2, 3, 4, 6, 7, 8, 9, 13, 14, 15, 8, 4, 6, 11, 1, 2, 3, 4, 6, 7, 8, 9, 10, 11, 13, 15, 4, 1, 2, 3, 4, 5, 6, 7, 8, 9, 10, 11, 12, 13, 14, 3, 10, 12, 8, 4, 6, 8, 11, 15, 5, 4, 1, 2, 3, 4, 6, 7, 8, 9, 13, 15, 2, 4, 5, 6, 12, 1, 2, 5, 6, 7, 9, 11, 3, 1, 2, 3, 4, 5, 6, 7, 8, 9, 10, 11, 12, 13, 15, 1, 2, 3, 4, 5, 6, 7, 8, 9, 10, 11, 12, 13, 14, 1, 2, 3, 4, 6, 7, 8, 9, 10, 11, 13, 14, 15, 10, 1, 2, 3, 4, 5, 6, 7, 8, 9, 10, 11, 12, 13, 14, 15, 9, 1, 2, 3, 4, 5, 6, 7, 8, 9, 10, 11, 13, 14, 15, 8, 1, 2, 3, 4, 5, 6, 7, 8, 9, 10, 11, 12, 13, 14, 15, 7, 8, 10, 2, 6, 8, 9, 10, 12, 15, 13, 1, 2, 3, 4, 5, 6, 7, 8, 9, 10, 11, 12, 13, 15, 2, 3, 4, 5, 6, 7, 8, 9, 11, 13, 14, 15, 1, 2, 4, 5, 6, 7, 8, 9, 13, 14, 15, 3, 6, 7, 8, 9, 10, 9, 11, 7, 5, 11, 1, 2, 3, 4, 5, 6, 7, 8, 9, 10, 11, 12, 13, 14, 15, 1, 2, 3, 4, 5, 6, 9, 13, 15, 14, 1, 2, 3, 4, 5, 6, 7, 8, 9, 10, 11, 12, 13, 14, 15, 1, 2, 4, 9, 10, 11, 14, 15, 2, 4, 6, 7, 8, 9, 10, 11, 13, 15, 6, 11, 15, 2, 3, 4, 6, 7, 10, 13, 1, 2, 3, 4, 5, 6, 7, 8, 11, 14, 1, 2, 3, 4, 5, 6, 7, 8, 9, 10, 11, 12, 13, 14, 15, 1, 2, 3, 4, 5, 6, 7, 8, 9, 10, 11, 12, 13, 10, 1, 2, 3, 4, 5, 6, 7, 9, 10, 11, 12, 13, 1, 2, 3, 4, 5, 6, 7, 8, 9, 13, 15, 1, 5, 6, 1, 2, 5, 6, 8, 9, 11, 14, 1, 1, 2, 3, 6, 7, 10, 11, 12, 1, 2, 3, 4, 5, 6, 7, 8, 9, 10, 11, 12, 13, 14, 15, 1, 2, 4, 5, 6, 7, 8, 9, 10, 11, 15, 11, 1, 2, 4, 6, 7, 8, 9, 11, 12, 14, 5, 1, 7, 8, 1, 2, 3, 4, 5, 6, 7, 8, 9, 10, 11, 12, 13, 14, 15, 2, 3, 4, 5, 6, 7, 8, 9, 12, 14, 10, 2, 2, 1, 2, 3, 4, 5, 6, 7, 8, 9, 10, 11, 12, 13, 14, 14, 4, 5, 11, 13, 14, 14, 1, 3, 4, 6, 9, 10, 11, 12, 11, 1, 5, 9, 10, 11, 10, 8, 1, 2, 3, 4, 5, 6, 7, 8, 9, 10, 11, 12, 13, 14, 15, 4, 7, 9, 2, 3, 4, 6, 10, 8, 3, 2, 6, 10, 11, 12, 1, 2, 3, 4, 5, 6, 7, 8, 9, 10, 11, 12, 15, 2, 3, 4, 5, 6, 7, 8, 9, 10, 11, 12, 13, 14, 15, 3, 4, 6, 7, 9, 9, 2, 1, 2, 3, 5, 8, 9, 11, 13, 14, 4, 4, 2, 4, 11, 3, 6, 10, 13, 1, 2, 3, 4, 5, 6, 7, 8, 9, 10, 11, 12, 13, 14, 15, 1, 2, 3, 4, 5, 6, 7, 8, 9, 10, 11, 12, 13, 14, 15, 15, 14, 14, 15, 1, 2, 3, 4, 5, 6, 7, 8, 9, 10, 11, 12, 13, 14, 15, 1, 3, 5, 7, 8, 12, 13, 14, 14, 2, 10, 3, 8, 1, 2, 3, 4, 5, 6, 7, 8, 9, 10, 11, 12, 13, 15, 2, 3, 5, 6, 7, 8, 9, 11, 15, 1, 2, 3, 4, 5, 6, 8, 9, 11, 12, 13, 15, 1, 2, 3, 4, 5, 6, 7, 8, 10, 1, 2, 3, 4, 6, 7, 8, 10, 11, 14, 1, 2, 3, 4, 6, 7, 8, 9, 13, 1, 2, 3, 4, 7, 9, 11, 13, 15, 3, 4, 8, 12, 14, 1, 2, 3, 4, 5, 6, 7, 9, 10, 11, 12, 1, 3, 1, 4, 6, 8, 11, 13, 1, 2, 3, 4, 5, 7, 8, 9, 10, 11, 12, 13, 14, 15, 15, 10, 11, 8, 1, 4, 6, 8, 9, 10, 12, 13, 1, 2, 1, 2, 3, 4, 5, 6, 7, 8, 9, 10, 11, 12, 13, 1, 9, 14, 1, 5, 6, 7, 8, 11, 14, 14, 3, 14, 1, 2, 3, 4, 5, 6, 7, 8, 9, 10, 11, 12, 13, 14, 2, 1, 2, 3, 4, 5, 6, 7, 8, 9, 11, 12, 7, 1, 2, 3, 4, 5, 6, 7, 8, 9, 10, 11, 12, 13, 14, 9, 1, 2, 3, 4, 5, 6, 7, 9, 11, 13, 1, 2, 3, 4, 9, 12, 13, 1, 2, 3, 4, 5, 6, 7, 8, 9, 10, 11, 12, 13, 14, 12, 4, 1, 2, 3, 4, 5, 6, 7, 8, 9, 10, 11, 12, 14, 15, 9, 3, 1, 2, 4, 9, 10, 13, 3, 5, 9, 2, 3, 4, 6, 8, 9, 10, 12, 15, 10, 14, 11, 13, 15, 13, 13, 3, 6, 8, 11, 3, 4, 6, 13, 3, 13, 1, 2, 3, 4, 5, 6, 7, 8, 9, 10, 11, 12, 13, 14, 15, 6, 14, 2, 3, 4, 6, 8, 9, 10, 11, 12, 13, 14, 15, 4, 6, 7, 13, 12, 11, 9, 8, 8, 9, 14, 1, 2, 3, 4, 5, 6, 7, 8, 9, 11, 12, 13, 14, 15, 2, 4, 8, 9, 12, 2, 4, 6, 7, 8, 9, 10, 11, 12, 13, 15, 15, 9, 9, 2, 5, 6, 7, 8, 11, 14, 9, 2, 4, 6, 10, 11, 15, 15, 1, 2, 3, 4, 5, 6, 7, 8, 11, 12, 1, 5, 6, 7, 13, 2, 4, 6, 9, 10, 15, 1, 2, 3, 4, 5, 6, 7, 8, 9, 10, 11, 12, 13, 14, 15, 5, 11, 1, 2, 3, 4, 5, 6, 7, 8, 9, 10, 11, 12, 14, 15, 8, 4, 2, 4, 5, 6, 8, 9, 10, 12, 1, 4, 6, 4, 9, 13, 11], \"Freq\": [0.12000275078373679, 0.050770394562350184, 0.1412340066916287, 0.07938643513385665, 0.3138533482036193, 0.04800110031349472, 0.03784702140102468, 0.1458494971063878, 0.01938505974198825, 0.0027692942488554647, 0.003692392331807286, 0.004615490414759107, 0.01846196165903643, 0.015692667410180966, 0.07606279485317038, 0.012677132475528399, 0.8240136109093459, 0.03803139742658519, 0.03803139742658519, 0.04126030477862942, 0.018203075637630628, 0.13348922134262461, 0.04975507340952372, 0.17232244936956995, 0.05703630366457597, 0.03276553614773513, 0.1480516818527291, 0.050968611785365756, 0.009708307006736335, 0.008494768630894293, 0.010921845382578376, 0.2463482902959345, 0.013348922134262461, 0.004854153503368167, 0.06892905163180205, 0.8369956269575963, 0.029541022127915165, 0.024617518439929303, 0.009847007375971722, 0.004923503687985861, 0.004923503687985861, 0.024617518439929303, 0.9918065587426941, 0.18533024891758507, 0.03270533804427972, 0.1617097269967164, 0.11265171993029681, 0.014535705797457653, 0.052691933515783995, 0.09811601413283916, 0.07631245543665267, 0.036339264493644136, 0.17261150634480962, 0.02180355869618648, 0.023620521920868685, 0.009084816123411034, 0.0018169632246822066, 0.0018169632246822066, 0.1649200751052042, 0.12012696828650676, 0.02137852825437832, 0.08042398724266131, 0.006108150929822378, 0.17917242727478974, 0.09976646518709884, 0.04886520743857902, 0.10180251549703963, 0.09976646518709884, 0.03257680495905268, 0.00814420123976317, 0.004072100619881585, 0.02443260371928951, 0.00814420123976317, 0.8930295886392247, 0.08278531382487966, 0.057093319879227354, 0.12132330474335813, 0.0713666498490342, 0.44675522805495405, 0.0713666498490342, 0.04710198890036257, 0.028546659939613677, 0.004281998990942052, 0.008563997981884104, 0.015700662966787522, 0.008563997981884104, 0.03711065792149778, 0.001427332996980684, 0.9590303898350819, 0.06299753816428512, 0.8819655342999917, 0.13679372388052846, 0.6776061206175015, 0.028631244533133864, 0.006362498785140859, 0.07953123481426073, 0.04135624210341558, 0.006362498785140859, 0.019087496355422576, 0.9477105261026968, 0.4478756994998746, 0.011633135051944795, 0.011633135051944795, 0.5234910773375158, 0.0019533140187215302, 0.07617924673013968, 0.9200109028178408, 0.9438951311685486, 0.04290432414402494, 0.9389743480992582, 0.9551836910805359, 0.03889017235954966, 0.025926781573033107, 0.09074373550561587, 0.012963390786516553, 0.7389132748314435, 0.03889017235954966, 0.03889017235954966, 0.9315352401172666, 0.10792252182003156, 0.8633801745602525, 0.07824767102800638, 0.8423131645955981, 0.012657711489824561, 0.011507010445295056, 0.009205608356236045, 0.0069042062671770335, 0.03682243342494418, 0.0011507010445295056, 0.9233987379548124, 0.17709917878369688, 0.11269947740780711, 0.07930703965734574, 0.07990333318860399, 0.17948435290872986, 0.056051591938274435, 0.06261082078211506, 0.061418233719598585, 0.06082194018834035, 0.011329577093906536, 0.03637390540675256, 0.04054796012556023, 0.025640621844104265, 0.017292512406488922, 0.9165264589605033, 0.037418722161526655, 0.018709361080763327, 0.33676849945373993, 0.018709361080763327, 0.018709361080763327, 0.5238621102613732, 0.037418722161526655, 0.024175516524617646, 0.33362212803972346, 0.019340413219694114, 0.004835103304923529, 0.019340413219694114, 0.009670206609847057, 0.2369200619412529, 0.06769144626892941, 0.009670206609847057, 0.009670206609847057, 0.009670206609847057, 0.2514253718560235, 0.10202286269533971, 0.1757060413086406, 0.05667936816407761, 0.11902667314456299, 0.005667936816407761, 0.017003810449223285, 0.11335873632815523, 0.08501905224611642, 0.022671747265631044, 0.011335873632815522, 0.028339684082038807, 0.017003810449223285, 0.23805334628912597, 0.07498266735768394, 0.0520712967761694, 0.7373295623505587, 0.02499422245256131, 0.07498266735768394, 0.012497111226280656, 0.01666281496837421, 0.006248555613140328, 0.9327365336437339, 0.044449731192654794, 0.0007533852744517762, 0.0474632722904619, 0.0022601558233553286, 0.07684529799408117, 0.014314320214583749, 0.7707131357641671, 0.0007533852744517762, 0.0158210907634873, 0.025615099331360393, 0.7590040806277241, 0.08330532592255507, 0.10181762057201175, 0.05090881028600588, 0.0350971171630604, 0.0175485585815302, 0.0350971171630604, 0.8072336947503892, 0.08189327338047427, 0.011699039054353468, 0.005849519527176734, 0.18614949882767626, 0.02256357561547591, 0.7728024648300499, 0.01692268171160693, 0.013881569363183558, 0.007242557928617508, 0.015088662351286475, 0.9234261358987322, 0.004224825458360213, 0.009053197410771886, 0.000603546494051459, 0.004828371952411672, 0.021124127291801065, 0.13373919993325178, 0.0629616363322127, 0.11767312721399752, 0.033869018164914416, 0.419454763427017, 0.00694749090562347, 0.0629616363322127, 0.017368727264058675, 0.007815927268826404, 0.004776399997616135, 0.07555396359865524, 0.04429025452334962, 0.0004342181816014669, 0.012158109084841072, 0.9505469774362456, 0.8735965082372394, 0.06083488328962967, 0.1060265108762117, 0.026072092838412716, 0.03128651140609526, 0.2120530217524234, 0.0017381395225608478, 0.5127511591554501, 0.0052144185676825435, 0.012166976657925934, 0.0052144185676825435, 0.026072092838412716, 0.0017381395225608478, 0.8935963552989454, 0.7263818837786766, 0.08437769357025032, 0.018342976863097896, 0.014674381490478316, 0.018342976863097896, 0.007337190745239158, 0.033017358353576214, 0.014674381490478316, 0.029348762980956632, 0.011005786117858737, 0.05136033521667411, 0.40527070945720384, 0.04029007053083313, 0.07939513898723, 0.046215080903014474, 0.0023700041488725373, 0.07110012446617611, 0.04740008297745074, 0.19078533398423925, 0.02488504356316164, 0.022515039414289104, 0.05214009127519582, 0.0023700041488725373, 0.014220024893235223, 0.9386541424637108, 0.02726381326658081, 0.013631906633290405, 0.017526737099944806, 0.001947415233327201, 0.011070272434800814, 0.08856217947840651, 0.05535136217400407, 0.08856217947840651, 0.011070272434800814, 0.19926490382641465, 0.06642163460880489, 0.476021714696435, 0.8894492443503789, 0.008754255402526334, 0.24293058742010576, 0.004377127701263167, 0.010942819253157918, 0.6718891021438962, 0.05471409626578959, 0.0021885638506315835, 0.0021885638506315835, 0.0037182375404752176, 0.37182375404752177, 0.01487295016190087, 0.007436475080950435, 0.17103892686186, 0.4313155546951253, 0.8566905891896095, 0.03172928108109665, 0.03172928108109665, 0.0740349891892255, 0.38415849586305306, 0.14740965538931106, 0.03126871477955083, 0.004466959254221547, 0.022334796271107737, 0.017867837016886188, 0.03126871477955083, 0.03126871477955083, 0.022334796271107737, 0.004466959254221547, 0.035735674033772376, 0.26355059599907127, 0.9603034541873, 0.9328649651949029, 0.06794597054826032, 0.03019820913256014, 0.01509910456628007, 0.30953164360874147, 0.022648656849420107, 0.03774776141570018, 0.022648656849420107, 0.22648656849420107, 0.26423432990990126, 0.1324137625818398, 0.8386204963516519, 0.9904288725164868, 0.14980703262898054, 0.32814873813967166, 0.021401004661282936, 0.12127235974726996, 0.01426733644085529, 0.007133668220427645, 0.3352824063600993, 0.1104848746139414, 0.10789538536517715, 0.05265294805820645, 0.02157907707303543, 0.2908859589445176, 0.09667426528719873, 0.044021317228992274, 0.12429548394068407, 0.029347544819328185, 0.0034526523316856686, 0.03280019715101385, 0.05265294805820645, 0.013810609326742674, 0.015536935492585509, 0.006042141580449921, 0.12538665397657767, 0.04179555132552589, 0.08359110265105178, 0.6269332698828883, 0.08359110265105178, 0.020897775662762946, 0.07042859130870686, 0.8451430957044824, 0.8554373588085064, 0.05860027982393623, 0.004185734273138302, 0.004185734273138302, 0.02092867136569151, 0.8790041973590434, 0.004185734273138302, 0.02092867136569151, 0.004185734273138302, 0.028407011186919573, 0.8380068300141275, 0.12783155034113808, 0.13644014287419784, 0.08186408572451871, 0.7640648000955079, 0.992474119628037, 0.024295066232075335, 0.9556059384616299, 0.008098355410691779, 0.008098355410691779, 0.9034961806233544, 0.016085985411691768, 0.07238693435261297, 0.002680997568615295, 0.002680997568615295, 0.9631656991029394, 0.8607497957609841, 0.1378050505986551, 0.8268303035919307, 0.015569845729852504, 0.015569845729852504, 0.054494460054483766, 0.2646873774074926, 0.03892461432463126, 0.07006430578433627, 0.38146122038138636, 0.03892461432463126, 0.031139691459705007, 0.007784922864926252, 0.09341907437911502, 0.9165004883455092, 0.9831368017104613, 0.9004523121365644, 0.05107451580998009, 0.034049677206653396, 0.08512419301663349, 0.8171922529596815, 0.9766249605393029, 0.8490486755928174, 0.9010641236041455, 0.051489378491665454, 0.025744689245832727, 0.07771754482888174, 0.03885877241444087, 0.8548929931176992, 0.019429386207220435, 0.016714323995837152, 0.9777879537564735, 0.9682817140253651, 0.9746732389963, 0.9543027877421654, 0.8987114386213384, 0.03896511132484124, 0.060333075599754184, 0.001256939074994879, 0.06682349230841894, 0.8687054000094463, 0.9062969517953581, 0.019354532862866106, 0.19354532862866103, 0.004838633215716526, 0.03387043251001568, 0.1112885639614801, 0.06290223180431484, 0.02419316607858263, 0.029031799294299155, 0.004838633215716526, 0.004838633215716526, 0.5080564876502353, 0.9062969501703538, 0.9990290675962429, 0.8857903685116966, 0.15783233979714156, 0.7628563090195175, 0.05261077993238052, 0.8944743727380114, 0.058654057228722065, 0.014663514307180516, 0.029327028614361032, 0.7747865086517884, 0.15495730173035768, 0.0221367573900511, 0.0221367573900511, 0.9267407505730109, 0.8554373590788753, 0.972972996406203, 0.510726142785637, 0.006153327021513699, 0.0030766635107568495, 0.05845660670438014, 0.34150964969401026, 0.08306991479043493, 0.873596508044297, 0.9509634437100157, 0.005651187588604375, 0.0014127968971510937, 0.39982152189375947, 0.25289064459004573, 0.11584934556638968, 0.05086068829743937, 0.025430344148719686, 0.09324459521197218, 0.0028255937943021873, 0.049447891400288276, 0.03664047768966421, 0.007328095537932842, 0.06595285984139558, 0.8866995600898739, 0.9358409405347458, 0.948561276891072, 0.30289725111240845, 0.0031226520733237985, 0.13271271311626143, 0.006245304146647597, 0.0015613260366618992, 0.14832597348288043, 0.16081658177617564, 0.0015613260366618992, 0.15457127762952802, 0.08743425805306636, 0.19914576568528086, 0.28908256309153674, 0.006424056957589705, 0.501076442691997, 0.009134807631219754, 0.12788730683707655, 0.18726355644000495, 0.06851105723414816, 0.04567403815609877, 0.03197182670926914, 0.004567403815609877, 0.2923138441990321, 0.18726355644000495, 0.018269615262439507, 0.022837019078049386, 0.07676115559481608, 0.11982229166020071, 0.06312067149957001, 0.18561756788432876, 0.1291834081961539, 0.059911145830100355, 0.14683579937823701, 0.050817489766602976, 0.01818731212699475, 0.00989603748086479, 0.09601830961163405, 0.03343255905697564, 0.009628577008408985, 0.0005349209449116103, 0.33520397062158, 0.02618781020481094, 0.06808830653250844, 0.02095024816384875, 0.11522636490116814, 0.07856343061443283, 0.3142537224577313, 0.0419004963276975, 0.005237562040962188, 0.9729729968325568, 0.9489469932410285, 0.9729729965848133, 0.9517022396855841, 0.009545703579996302, 0.022395689168452863, 0.2995882354337301, 0.5220765573367208, 0.009912846025380775, 0.033409962529987056, 0.06902277973228095, 0.016154267596916818, 0.006608564016920517, 0.002569997117691312, 0.0011014273361534194, 0.005139994235382624, 0.0018357122269223656, 0.24520846068580715, 0.011676593365990817, 0.005838296682995408, 0.01362269226032262, 0.10314324139958554, 0.05059857125262687, 0.4203573611756694, 0.0778439557732721, 0.009730494471659013, 0.001946098894331803, 0.003892197788663606, 0.003892197788663606, 0.05449076904129048, 0.023465698130839215, 0.03519854719625882, 0.1642598869158745, 0.1525270378504549, 0.07039709439251764, 0.5279782079438823, 0.011732849065419607, 0.9432988800014876, 0.9287951606485967, 0.9392992234385242, 0.9418566943000704, 0.30217332796588403, 0.4888097952389301, 0.08443078281399702, 0.031106077878841006, 0.017774901645052004, 0.04888097952389301, 0.017774901645052004, 0.013331176233789002, 0.9055589522950308, 0.8183913068104037, 0.14324615246413955, 0.8594769147848372, 0.9899518247958404, 0.9722993923777042, 0.9658176083409132, 0.9358157575588922, 0.9589063025489312, 0.026636286181914753, 0.9193429095223947, 0.8735965086814149, 0.9797987087677326, 0.9537701412551508, 0.1672350860542592, 0.03208580139413113, 0.09139591912267654, 0.13709387868401482, 0.07843195896343164, 0.04310516752948929, 0.2207114217111444, 0.058013721712620925, 0.03240990039811225, 0.062227008764375515, 0.0259279203184898, 0.0259279203184898, 0.013612158167207145, 0.008426574103509185, 0.0035650890437923474, 0.05258220753913712, 0.06692280959526543, 0.04302180616838492, 0.01912080274150441, 0.03824160548300882, 0.04780200685376102, 0.10994461576365035, 0.13384561919053087, 0.009560401370752205, 0.014340602056128306, 0.4254378609984731, 0.014340602056128306, 0.028681204112256612, 0.9233987236476751, 0.06094222489794457, 0.06094222489794457, 0.7922489236732794, 0.06094222489794457, 0.9292466542904764, 0.20165457164548703, 0.1186203362620512, 0.00790802241747008, 0.0197700560436752, 0.12652835867952128, 0.11466632505331616, 0.04349412329608544, 0.26096473977651263, 0.01581604483494016, 0.00395401120873504, 0.02767807846114528, 0.0593101681310256, 0.9165004890642635, 0.1450997150945263, 0.1450997150945263, 0.6262198230395346, 0.01145524066535734, 0.007636827110238227, 0.06109461688190582, 0.05076875456531605, 0.9138375821756889, 0.9121755924515874, 0.10403911037829494, 0.21963812190973375, 0.05779950576571941, 0.034679703459431645, 0.05779950576571941, 0.034679703459431645, 0.011559901153143882, 0.4970757495851869, 0.030817650886367568, 0.500786826903473, 0.061635301772735136, 0.015408825443183784, 0.015408825443183784, 0.36981181063641083, 0.8670952728380773, 0.9593818595187068, 0.7245096820081025, 0.07090003004360636, 0.013293755633176193, 0.013293755633176193, 0.07090003004360636, 0.0022156259388626987, 0.02547969829692104, 0.005539064847156747, 0.011078129694313495, 0.004431251877725397, 0.008862503755450795, 0.014401568602607542, 0.02104844641919564, 0.013293755633176193, 0.13326192310482413, 0.8626956074680721, 0.977110298926438, 0.39745212755803466, 0.01987260637790173, 0.03974521275580346, 0.009171972174416185, 0.09630570783136994, 0.06267514319184393, 0.0015286620290693642, 0.2950317716103873, 0.06267514319184393, 0.006114648116277457, 0.0015286620290693642, 0.006114648116277457, 0.0569319833880109, 0.7970477674321527, 0.1138639667760218, 0.01857126656858197, 0.05951246786750131, 0.017305043847996835, 0.8939532407331048, 0.0004220742401950448, 0.0012662227205851343, 0.005909039362730626, 0.0021103712009752237, 0.0008441484803900895, 0.9744937624582941, 0.8554373558829965, 0.9606876857947487, 0.1417889800409014, 0.06853134035310234, 0.0023631496673483564, 0.7656604922208675, 0.007089449002045069, 0.004726299334696713, 0.0023631496673483564, 0.007089449002045069, 0.010002331352943261, 0.010002331352943261, 0.7701795141766311, 0.050011656764716306, 0.08001865082354609, 0.020004662705886522, 0.050011656764716306, 0.9296280700274411, 0.043576315782536304, 0.029050877188357534, 0.08112170715729776, 0.8112170715729776, 0.006394419701909711, 0.04476093791336798, 0.377270762412673, 0.012788839403819422, 0.37087634271076325, 0.06394419701909712, 0.1087051349324651, 0.006394419701909711, 0.04351567508481284, 0.9138291767810697, 0.9920276386821583, 0.9462903489514585, 0.9393796022191974, 0.41539363755432523, 0.10147020153998784, 0.038051325577495444, 0.019025662788747722, 0.05707698836624316, 0.05073510076999392, 0.019025662788747722, 0.02853849418312158, 0.03488038177937082, 0.02219660658687234, 0.02536755038499696, 0.009512831394373861, 0.00317094379812462, 0.1744019088968541, 0.3574021740109799, 0.08801695330121147, 0.20003853023002607, 0.008001541209201043, 0.016003082418402086, 0.24004623627603128, 0.02400462362760313, 0.021337443224536113, 0.02400462362760313, 0.002667180403067014, 0.02400462362760313, 0.044139366011997624, 0.9269266862519502, 0.1246846450433477, 0.03636635480430975, 0.011689185472813847, 0.13507503213029334, 0.016884379016286668, 0.05325073382059642, 0.1233858466574795, 0.0038963951576046155, 0.0012987983858682053, 0.4909457898581816, 0.0038963951576046155, 0.0012987983858682053, 0.002853015485447739, 0.042795232281716084, 0.316684718884699, 0.1397977587869392, 0.01711809291268643, 0.3395088427682809, 0.12838569684514825, 0.005706030970895478, 0.005706030970895478, 0.09280085934924331, 0.02095503275628075, 0.06585867437688235, 0.02993576108040107, 0.06585867437688235, 0.09280085934924331, 0.11076231599748396, 0.02993576108040107, 0.026942184972360964, 0.41311350290953475, 0.044903641620601606, 0.0059871522160802135, 0.03993883429977399, 0.10049126049620552, 0.11466310492515759, 0.12883494935410963, 0.10564465847036991, 0.05926407670289044, 0.09018446454787675, 0.0077300969612465785, 0.0373621353126918, 0.02576698987082193, 0.06184077568997263, 0.1842339775763768, 0.027055339364363027, 0.0077300969612465785, 0.009018446454787676, 0.0008453912485204997, 0.08115755985796796, 0.3493579334510965, 0.36753384529428723, 0.0033815649940819987, 0.12110229635056158, 0.03191351963164886, 0.01246952091567737, 0.005917738739643498, 0.0073971734245543725, 0.0021134781213012492, 0.0014794346849108745, 0.012258173103547246, 0.0033815649940819987, 0.8904305835442178, 0.007742874639514937, 0.015485749279029874, 0.02322862391854481, 0.05420012247660456, 0.2513220465924049, 0.11020538941485135, 0.0053758726543829925, 0.03897507674427669, 0.06451047185259591, 0.0026879363271914963, 0.3386799772261285, 0.01478364979955323, 0.016127617963148978, 0.06316650368900016, 0.0698863445069789, 0.0013439681635957481, 0.02284745878112772, 0.16092644696165606, 0.06896847726928117, 0.06896847726928117, 0.11494746211546862, 0.022989492423093724, 0.022989492423093724, 0.022989492423093724, 0.5057688333080619, 0.022989492423093724, 0.9442682837804414, 0.021959727529777706, 0.021959727529777706, 0.08619890692071319, 0.17006811365438007, 0.004659400374092605, 0.7128882572361686, 0.0023297001870463026, 0.0023297001870463026, 0.004659400374092605, 0.013978201122277814, 0.004495334183331371, 0.6581169244397127, 0.017981336733325484, 0.005394401019997645, 0.01258693571332784, 0.10159455254328899, 0.03776080713998352, 0.01888040356999176, 0.01258693571332784, 0.035063606629984694, 0.022476670916656855, 0.05843934438330783, 0.0008990668366662743, 0.0008990668366662743, 0.01258693571332784, 0.8490507782912377, 0.9172400371462804, 0.047037950622886175, 0.023518975311443088, 0.06816964134658647, 0.006816964134658646, 0.002272321378219549, 0.6521562355490105, 0.03181249929507368, 0.009089285512878196, 0.10679910477631879, 0.11361606891097745, 0.006816964134658646, 0.09010882638436167, 0.003604353055374467, 0.6848270805211487, 0.003604353055374467, 0.028834824442995736, 0.02523047138762127, 0.0756914141628638, 0.08650447332898721, 0.8670952726151361, 0.873256311241267, 0.9600377146788817, 0.8902156346719126, 0.034910417045957355, 0.06982083409191471, 0.1619986327359428, 0.0731606728484903, 0.02612881173160368, 0.10974100927273546, 0.010451524692641472, 0.010451524692641472, 0.5487050463636773, 0.010451524692641472, 0.005225762346320736, 0.020903049385282944, 0.02612881173160368, 0.9856381842643208, 0.9849582438334076, 0.1021265854640019, 0.8727180939651071, 0.01856847008436398, 0.03706606434967969, 0.01001785522964316, 0.5129141877577298, 0.20636781773064908, 0.0060107131377858955, 0.055098203763037375, 0.011019640752607475, 0.001001785522964316, 0.013023211798536107, 0.001001785522964316, 0.13423926007721834, 0.011019640752607475, 0.5931391670931674, 0.08174674418271217, 0.08935109247877843, 0.003802174148033124, 0.05703261222049686, 0.041823915628364364, 0.013307609518115935, 0.024714131962215308, 0.049428263924430615, 0.007604348296066248, 0.005703261222049686, 0.020911957814182182, 0.011406522444099372, 0.005877235844186328, 0.29738813371582823, 0.012929918857209921, 0.6770575692502651, 0.002350894337674531, 0.004701788675349062, 0.07256612014318962, 0.8707934417182754, 0.03142215655942661, 0.09426646967827983, 0.8483982271045184, 0.30792695508834705, 0.035303727334969726, 0.03857259097709655, 0.05295559100245459, 0.07649140922576775, 0.005230181827402923, 0.007191500012679018, 0.20986104582454226, 0.10329609109120771, 0.007191500012679018, 0.007845272741104383, 0.13990736388302819, 0.0006537727284253653, 0.005230181827402923, 0.0026150909137014613, 0.040976688657872656, 0.02868368206051086, 0.045074357523659916, 0.02868368206051086, 0.045074357523659916, 0.770361746768006, 0.01639067546314906, 0.020488344328936328, 0.04026954369852075, 0.7248517865733736, 0.056377361177929054, 0.11678167672571019, 0.028188680588964527, 0.00805390873970415, 0.00805390873970415, 0.0161078174794083, 0.15680972162918022, 0.784048608145901, 0.007651643069741623, 0.1032971814415119, 0.05356150148819135, 0.1032971814415119, 0.07651643069741622, 0.0344323938138373, 0.1759877906040573, 0.022954929209224866, 0.042084036883578924, 0.022954929209224866, 0.026780750744095676, 0.3060657227896649, 0.019129107674354055, 0.007651643069741623, 0.9135550841743927, 0.016960816446255758, 0.042402041115639395, 0.050882449338767274, 0.05936285756189515, 0.042402041115639395, 0.1272061233469182, 0.21201020557819697, 0.050882449338767274, 0.38161837004075455, 0.016960816446255758, 0.40841703957085196, 0.09934468530101805, 0.02759574591694946, 0.38082129365390255, 0.011038298366779784, 0.05519149183389892, 0.016557447550169677, 0.042145727949369306, 0.042145727949369306, 0.08429145589873861, 0.042145727949369306, 0.7586231030886474, 0.9858620147892506, 0.08570070797061025, 0.02856690265687008, 0.19996831859809058, 0.11426761062748032, 0.0714172566421752, 0.01428345132843504, 0.47135389383835635, 0.9794439053787051, 0.9377244613632996, 0.030249176173009665, 0.9716699330254226, 0.44297583864001894, 0.025804417784855472, 0.04300736297475912, 0.01720294518990365, 0.008601472594951825, 0.1419242978167051, 0.01720294518990365, 0.004300736297475912, 0.030105154082331383, 0.004300736297475912, 0.030105154082331383, 0.025804417784855472, 0.21503681487379558, 0.0025254088777170516, 0.01767786214401936, 0.3005236564483292, 0.07828767520922861, 0.012627044388585258, 0.012627044388585258, 0.010101635510868207, 0.01767786214401936, 0.09596553735324796, 0.03283031541032167, 0.025254088777170516, 0.03535572428803872, 0.012627044388585258, 0.3510318340026702, 0.008343933410191745, 0.2419740688955606, 0.03337573364076698, 0.09178326751210919, 0.06675146728153396, 0.06675146728153396, 0.01668786682038349, 0.01668786682038349, 0.425540603919779, 0.01668786682038349, 0.026491246677345166, 0.11921061004805325, 0.05298249335469033, 0.1457018567253984, 0.09271936337070807, 0.06622811669336291, 0.05298249335469033, 0.026491246677345166, 0.42385994683752265, 0.20455869333213494, 0.06777731818051248, 0.1073396441772822, 0.1306476811986349, 0.15303566412703948, 0.04232248827561413, 0.05336313739099172, 0.09752573385250211, 0.04017569539206848, 0.014107496091871376, 0.04293585767091288, 0.02146792883545644, 0.005213639860039422, 0.011960703208325731, 0.007053748045935688, 0.011357823240153636, 0.06530748363088341, 0.23851428804322639, 0.014197279050192047, 0.05394966039072978, 0.08518367430115227, 0.025555102290345685, 0.002839455810038409, 0.13061496726176683, 0.019876190670268863, 0.3066612274841482, 0.042591837150576135, 0.005678911620076818, 0.022252493965553843, 0.022252493965553843, 0.8678472646565999, 0.022252493965553843, 0.022252493965553843, 0.05381223783632897, 0.035874825224219316, 0.7892461549328249, 0.07174965044843863, 0.05381223783632897, 0.923398743177761, 0.8894492427062877, 0.01754469990335995, 0.0350893998067199, 0.733953279290558, 0.07602703291455978, 0.09941996611903972, 0.03216528315615991, 0.0029241166505599918, 0.0029241166505599918, 0.887118455575732, 0.015035906026707322, 0.04009574940455286, 0.015035906026707322, 0.030071812053414644, 0.010023937351138216, 0.005965380015812934, 0.007953840021083911, 0.5918982615689944, 0.15609411041377177, 0.07920699020996062, 0.051037140135288435, 0.055014060145830386, 0.0013256400035139852, 0.0003314100008784963, 0.0016570500043924816, 0.04904868013001745, 0.02359554958709197, 0.707866487612759, 0.07078664876127591, 0.18876439669673575, 0.020154588056553666, 0.20154588056553666, 0.7658743461490394, 0.9358157576673912, 0.4915054862943702, 0.041614880990598846, 0.03261706888452342, 0.26431073061596566, 0.15296280580328225, 0.010122538619334855, 0.0011247265132594284, 0.0011247265132594284, 0.0033741795397782847, 0.01645215704358046, 0.9706772655712471, 0.9389825507113941, 0.12460509142114125, 0.7933190820479326, 0.06645604875794199, 0.008307006094742749, 0.008307006094742749, 0.9287118715991648, 0.98836099651947, 0.286222345193957, 0.29313396432506106, 0.20287634978946667, 0.015246218671553107, 0.16445587873715284, 0.004065658312414162, 0.007114902046724783, 0.011383843274759654, 0.0016262633249656648, 0.0006098487468621243, 0.0004065658312414162, 0.0032525266499313296, 0.006301770384241951, 0.0016262633249656648, 0.002032829156207081, 0.016341046669470442, 0.008170523334735221, 0.057193663343146545, 0.17975151336417486, 0.024511570004205663, 0.008170523334735221, 0.008170523334735221, 0.12255785002102831, 0.008170523334735221, 0.08987575668208743, 0.4738903534146428, 0.28523598040193865, 0.6845663529646527, 0.11274750584394103, 0.7516500389596069, 0.1315387568179312, 0.061366498252004534, 0.12940326805314, 0.17075895165775176, 0.32550925159758926, 0.037353520675133194, 0.041355683604611754, 0.15208219132018516, 0.0053362172393047426, 0.04402379222426413, 0.0066702715491309275, 0.008004325858957113, 0.004002162929478557, 0.016008651717914227, 0.1303003632007261, 0.06515018160036305, 0.19545054480108917, 0.032575090800181526, 0.5700640890031767, 0.10924090011582806, 0.10924090011582806, 0.7646863008107964, 0.9577665226217812, 0.9901987193443216, 0.9541150570574993, 0.4346522223442404, 0.00812434060456524, 0.006093255453423931, 0.24576130328809853, 0.030466277267119653, 0.01015542575570655, 0.0812434060456524, 0.01015542575570655, 0.00203108515114131, 0.06296363968538062, 0.00812434060456524, 0.006093255453423931, 0.09342991695250027, 0.9250195798430233, 0.015678297963441074, 0.04703489389032322, 0.015678297963441074, 0.5182851385139139, 0.07316966661372902, 0.041157937470222575, 0.09298645132161397, 0.0899377152127086, 0.004573104163358064, 0.08079150688599247, 0.010670576381168816, 0.03201172914350645, 0.004573104163358064, 0.03963356941576989, 0.0030487361089053763, 0.009146208326716128, 0.0026438152543767027, 0.03833532118846219, 0.17845752967042744, 0.2366214652667149, 0.09121162627599624, 0.10046497966631471, 0.270991063573612, 0.03569150593408549, 0.027760060170955378, 0.0013219076271883514, 0.0026438152543767027, 0.003965722881565054, 0.0052876305087534055, 0.0052876305087534055, 0.0696403177858602, 0.2149766331650467, 0.11808575624558904, 0.01211135961493221, 0.46023166536742394, 0.04238975865226273, 0.02725055913359747, 0.05147327836346189, 0.9700550948909819, 0.3658377572832635, 0.09145943932081588, 0.15636613819365294, 0.011801217976879467, 0.020652131459539067, 0.32748379885840523, 0.020652131459539067, 0.004102974600764408, 0.06769908091261274, 0.06154461901146613, 0.03487528410649748, 0.5067173631944044, 0.16617047133095855, 0.020514873003822043, 0.07795651741452377, 0.049235695209172904, 0.010257436501911021, 0.005246749485462923, 0.01574024845638877, 0.03148049691277754, 0.0026233747427314613, 0.6584670604255968, 0.24922060055948883, 0.007870124228194384, 0.02098699794185169, 0.005246749485462923, 0.07166697242558602, 0.09266493886875135, 0.016433191129433738, 0.3702032779436322, 0.031953427196121154, 0.11868415815702144, 0.12142302334526038, 0.04793014079418173, 0.06527628698636179, 0.0073036405019705495, 0.002738865188238956, 0.010042505690209506, 0.005021252845104753, 0.03423581485298695, 0.0041082977823584345, 0.01150501079379163, 0.0028762526984479073, 0.01150501079379163, 0.054648801270510236, 0.04314379047671861, 0.652909362547675, 0.11792636063636419, 0.08628758095343722, 0.008628758095343721, 0.005752505396895815, 0.07778581235425026, 0.02670958616983292, 0.011714730776242509, 0.14994855393590412, 0.17337801548838913, 0.08012875850949876, 0.15604021393955023, 0.16400623086739513, 0.024835229245634118, 0.03280124617347902, 0.03748713848397603, 0.05669929695701374, 0.00046858923104970036, 0.0070288384657455055, 0.0453596748061733, 0.030705010638025002, 0.11584163104345796, 0.15143152973753238, 0.055827292069136364, 0.020935234525926136, 0.38171910952271987, 0.04396399250444489, 0.009769776112098864, 0.018841711073333524, 0.055827292069136364, 0.061410021276050004, 0.0006978411508642045, 0.0020935234525926135, 0.006280570357777841, 0.00753159259805864, 0.0836006778384509, 0.14460657788272588, 0.029373211132428696, 0.11297388897087961, 0.3163268891184629, 0.013556866676505552, 0.18377085939263083, 0.07757540376000399, 0.000753159259805864, 0.000753159259805864, 0.008284751857864503, 0.000753159259805864, 0.02108845927456419, 0.11723561310086957, 0.7871534022486957, 0.0921136960078261, 0.9477105654131126, 0.8554373552594879, 0.2365489284210458, 0.13196467733546008, 0.0673289170078878, 0.1027888132987087, 0.07047093313492256, 0.05790286862678351, 0.0879764515569734, 0.057454009180064256, 0.05880058752022201, 0.048925679692398465, 0.02423841012283961, 0.01750551842205083, 0.008079470040946536, 0.02738042624987437, 0.003590875573754016, 0.01109417785422564, 0.46928372323374457, 0.43267293631479997, 0.028290153528275384, 0.0011094177854225641, 0.0005547088927112821, 0.037720204704367176, 0.001664126678133846, 0.0038829622489789744, 0.013313013425070769, 0.023284353827083562, 0.9080897992562589, 0.046568707654167124, 0.29248019743280523, 0.05362136952934763, 0.22423481803181736, 0.04387202961492079, 0.36560024679100656, 0.014624009871640262, 0.3030623769664209, 0.011060670692205142, 0.006636402415323085, 0.011060670692205142, 0.019909207245969254, 0.17475859693684123, 0.02654560966129234, 0.11945524347581553, 0.11281884106049245, 0.0022121341384410283, 0.015484938969087198, 0.05530335346102571, 0.022121341384410284, 0.1172431093373745, 0.8384617093292821, 0.06311002113231155, 0.02704715191384781, 0.04507858652307968, 0.02704715191384781, 0.1594384298379973, 0.1567811226740307, 0.10363497939469825, 0.10629228655866486, 0.07706190775503204, 0.05846075760726568, 0.05846075760726568, 0.03454499313156608, 0.24181495192096258, 0.0026573071639666218, 0.9944748149057094, 0.045561506732830964, 0.8956725469917503, 0.056674069350594616, 0.982882373367722, 0.5594888978561656, 0.03822594954296784, 0.05212629483131978, 0.031275776898791866, 0.024325604254615895, 0.057338924314451756, 0.09035224437428761, 0.08166452856906765, 0.029538233737747874, 0.0034750863220879852, 0.031275776898791866, 0.8881396223575264, 0.956557625950719, 0.9459133421164222, 0.021074516831440224, 0.10262373413570891, 0.23181968514584245, 0.15576816788455816, 0.025655933533927228, 0.0943771840712323, 0.05772585045133626, 0.185089234780475, 0.031153633576911633, 0.03848390030089084, 0.000916283340497401, 0.04489788368437265, 0.00916283340497401, 0.000916283340497401, 0.000916283340497401, 0.22843673367493508, 0.05710918341873377, 0.6853102010248052, 0.13228903216796076, 0.7055415048957907, 0.1469878135199564, 0.9994051458122681, 0.9586307876373562, 0.9667737123924425, 0.9780433576634459, 0.12068147085392895, 0.018566380131373683, 0.12068147085392895, 0.009283190065686842, 0.037132760262747366, 0.04641595032843421, 0.22279656157648423, 0.009283190065686842, 0.027849570197060528, 0.3806107926931605, 0.12898233692450006, 0.006788544048657898, 0.20365632145973692, 0.03394272024328949, 0.013577088097315795, 0.020365632145973693, 0.38015846672484227, 0.20365632145973692, 0.013577088097315795, 0.9004523102774511, 0.9833098701540306, 0.007804046588524053, 0.9949916292491372, 0.8881396232237729, 0.26010910391273057, 0.7431688683220874, 0.7488264694669029, 0.03660251581915615, 0.06557950750932144, 0.018301257909578074, 0.007625524128990865, 0.042702935122348844, 0.028976991690165287, 0.0167761530837799, 0.012200838606385383, 0.001525104825798173, 0.006100419303192692, 0.001525104825798173, 0.012200838606385383, 0.9603030033464552, 0.02921195792675013, 0.043182894326500194, 0.021591447163250097, 0.03683246869025017, 0.030482043054000138, 0.7074374158782533, 0.011430766145250052, 0.07747519276225036, 0.01778119178150008, 0.0076205107635000345, 0.0025401702545000114, 0.006350425636250029, 0.0076205107635000345, 0.020797648246533164, 0.9150965228474591, 0.04159529649306633, 0.009342433618854977, 0.16193551606015294, 0.6960113046046957, 0.08563897483950396, 0.021799011777328278, 0.021799011777328278, 0.003114144539618326, 0.9617621370992173, 0.025309529923663615, 0.0164710937173434, 0.8317902327258416, 0.0741199217280453, 0.0329421874346868, 0.024706640576015095, 0.0082355468586717, 0.01988471937855594, 0.8881841322421653, 0.053025918342815836, 0.0331411989642599, 0.12161602857552917, 0.1087390373145908, 0.048646411430211665, 0.037200196976044216, 0.6209571341385842, 0.01001543764739652, 0.014307768067709314, 0.025753982521876766, 0.005723107227083726, 0.005723107227083726, 0.03149551371769008, 0.2642884411962689, 0.016432441939664387, 0.33549568960148124, 0.16021630891172778, 0.03834236452588357, 0.05340543630390926, 0.004108110484916097, 0.008216220969832193, 0.021909922586219183, 0.005477480646554796, 0.058882916950464055, 0.20345098911814016, 0.005651416364392783, 0.005651416364392783, 0.04521133091514226, 0.07346841273710618, 0.5933987182612421, 0.016954249093178348, 0.005651416364392783, 0.02260566545757113, 0.011302832728785565, 0.02260566545757113, 0.006775904269101558, 0.13687326623585147, 0.4946410116444137, 0.1965012238039452, 0.1409388087973124, 0.004065542561460935, 0.01761735109966405, 0.0013551808538203116, 0.023785270492857735, 0.0924982741388912, 0.09117687022262132, 0.11892635246428868, 0.25370955192381583, 0.002642807832539748, 0.21274603051944974, 0.01585684699523849, 0.014535443078968615, 0.010571231330158993, 0.1334617955432573, 0.01585684699523849, 0.001321403916269874, 0.013214039162698742, 0.938873075634824, 0.030609158423069664, 0.06121831684613933, 0.12243663369227865, 0.734619802153672, 0.6620388935462914, 0.13208949077966872, 0.08593774098918205, 0.001591439647947816, 0.014322956831530342, 0.009548637887686895, 0.01909727577537379, 0.011140077535634712, 0.04456031014253885, 0.006365758591791264, 0.012731517183582527, 0.960786037315015, 0.19787766605130133, 0.13948753508534356, 0.16219480823877158, 0.02270727315342802, 0.02270727315342802, 0.0032438961647754316, 0.08109740411938579, 0.09082909261371208, 0.24329221235815737, 0.009731688494326296, 0.02270727315342802, 0.9663457782006227, 0.8991994380901294, 0.0930206315265651, 0.9695223023639908, 0.004161039924308974, 0.020805199621544868, 0.9004523124123409, 0.028882470640641363, 0.37547211832833777, 0.06498555894144308, 0.12997111788288615, 0.057764941281282726, 0.007220617660160341, 0.028882470640641363, 0.021661852980481025, 0.007220617660160341, 0.028882470640641363, 0.25272161810561194, 0.6129446585189915, 0.011707931679576242, 0.036501198765737694, 0.0061983167715403634, 0.057850956534376725, 0.10950359629721308, 0.07369109939497988, 0.04820913044531394, 0.013085335406585212, 0.005509614908035879, 0.0061983167715403634, 0.0006887018635044848, 0.004132211181026909, 0.013085335406585212, 0.4175496632353282, 0.15153891172248204, 0.07231713053423004, 0.05996143989019074, 0.0726805332002312, 0.032706239940104034, 0.04070109859212947, 0.047605749246151435, 0.025801589286082074, 0.01998714663006358, 0.015626314638049706, 0.015262911972048552, 0.00799485865202543, 0.019623743964062423, 0.000363402666001156, 0.4233322378612809, 0.015874958919798034, 0.015874958919798034, 0.0476248767593941, 0.1005414064920542, 0.021166611893064045, 0.021166611893064045, 0.021166611893064045, 0.32808248434249265, 0.005291652973266011, 0.9203555022078325, 0.977252749620858, 0.9165004894453255, 0.9149030817223214, 0.02325515365851724, 0.06169734644096411, 0.2273309918863216, 0.25390831035319844, 0.0541038268789993, 0.09207142468882336, 0.02278055868589444, 0.05125625704326249, 0.11390279342947221, 0.02705191343949965, 0.01613622906917523, 0.03322164808359606, 0.015661634096552426, 0.002847569835736805, 0.005220544698850809, 0.1314949372687487, 0.06574746863437435, 0.7889696236124921, 0.02492186211702643, 0.25404220738646294, 0.007235379324297996, 0.13827613819769502, 0.009647172432397327, 0.05466731045025153, 0.4783389664397008, 0.02492186211702643, 0.0008039310360331107, 0.0032157241441324426, 0.0032157241441324426, 0.9546114284710937, 0.9543798301203879, 0.9165004886058761, 0.15284818066612876, 0.1549769854107824, 0.013198589416852346, 0.03576391971018055, 0.11623273905808679, 0.1651952481851197, 0.12559947993456264, 0.11325241241557174, 0.025119895986912527, 0.005534892336099371, 0.019159242701882438, 0.049388270075963615, 0.0029803266425150457, 0.01617891605936739, 0.004257609489307208, 0.7981356321556615, 0.024941738504864423, 0.17459216953405093, 0.9778388185327603, 0.013556558556750482, 0.09489590989725338, 0.013556558556750482, 0.06778279278375242, 0.10845246845400386, 0.10845246845400386, 0.5964885764970213, 0.3598036313718312, 0.22152615735442155, 0.023986908758122077, 0.028219892656614207, 0.015520940961137816, 0.023986908758122077, 0.021164919492460656, 0.019753924859629946, 0.009876962429814973, 0.008465967796984263, 0.049384812149074864, 0.20741621102611443, 0.011287957062645683, 0.8672635339794821, 0.05781756893196548, 0.04103182311300776, 0.007460331475092319, 0.0037301657375461597, 0.01678574581895772, 0.005595248606319239, 0.011497335162128272, 0.8680488047406845, 0.05748667581064136, 0.005748667581064136, 0.011497335162128272, 0.005748667581064136, 0.022994670324256544, 0.011497335162128272, 0.019135896130307594, 0.9217123302764825, 0.015946580108589663, 0.0047839740325768985, 0.01275726408687173, 0.0031893160217179323, 0.009567948065153797, 0.0015946580108589662, 0.011162606076012764, 0.9953649213689693, 0.893178812894436, 0.09655987166426334, 0.9804779720334833, 0.8930295858884237, 0.04891876704825879, 0.06312098973968876, 0.19804210530827346, 0.3511105054270187, 0.02919345775460605, 0.10967271967270921, 0.059175927880958205, 0.024459383524129394, 0.025248395895875502, 0.03471654435682882, 0.012624197947937751, 0.022881358780637174, 0.005523086602222766, 0.007101111345714985, 0.007890123717461095, 0.12896068857945334, 0.009920052967650255, 0.0694403707735518, 0.14880079451475384, 0.46624248947956204, 0.17360092693387946, 0.30511757689736424, 0.044151380636311105, 0.07016915851128015, 0.0457282156590365, 0.10091744145442538, 0.06149656588629047, 0.07095757602264284, 0.08199542118172062, 0.05755447832947697, 0.03626720552268412, 0.07095757602264284, 0.02286410782951825, 0.006307340090901586, 0.01813360276134206, 0.007095757602264285, 0.5059329814586775, 0.04431529764601554, 0.009847843921336788, 0.09355451725269949, 0.11694314656587436, 0.11325020509537306, 0.004923921960668394, 0.0036929414705012954, 0.014771765882005182, 0.04185333666568135, 0.04800823911651684, 0.002461960980334197, 0.9224675857490882, 0.03843614940621201, 0.014812686760025284, 0.1283766185868858, 0.014812686760025284, 0.11850149408020227, 0.44191182167408766, 0.014812686760025284, 0.05678196591343026, 0.08146977718013906, 0.07900099605346818, 0.02715659239337969, 0.009875124506683522, 0.007406343380012642, 0.007406343380012642, 0.7720386609792419, 0.04356877319295947, 0.03136951669893082, 0.05838215607856569, 0.01829888474104298, 0.01568475834946541, 0.026141263915775686, 0.006971003710873516, 0.009585130102451085, 0.004356877319295948, 0.006971003710873516, 0.001742750927718379, 0.001742750927718379, 0.003485501855436758, 0.9001576432376792, 0.9674419666229829, 0.9358428310864664, 0.03509410616574249, 0.02339607077716166, 0.9856852464667629, 0.07497884939703711, 0.14995769879407422, 0.010711264199576732, 0.021422528399153463, 0.1713802271932277, 0.55698573837799, 0.4322326035588178, 0.2466544748569341, 0.07634543269381293, 0.06342543639178305, 0.03875998890608964, 0.00822181582856447, 0.030538173077525172, 0.017618176775495292, 0.030538173077525172, 0.009396360946930823, 0.028189082840792468, 0.0011745451183663529, 0.0035236353550990585, 0.012919996302029882, 0.8651934379031573, 0.023383606429815063, 0.0701508192894452, 0.011691803214907532, 0.011691803214907532, 0.8433212189509139, 0.04517792244379896, 0.01505930748126632, 0.00752965374063316, 0.0376482687031658, 0.00752965374063316, 0.02258896122189948, 0.01505930748126632, 0.9831033298055298, 0.14418347596188955, 0.8410702764443557, 0.03451873950978329, 0.016350981873055243, 0.512330765355731, 0.16169304296687964, 0.1471588368574972, 0.0018167757636728048, 0.0036335515273456095, 0.04178584256447451, 0.02180130916407366, 0.01090065458203683, 0.025434860691419266, 0.02180130916407366, 0.9764388404898828, 0.9531522057998187, 0.9305921872199409, 0.9660452279591322, 0.00444490842898027, 0.13875844573947102, 0.0023190826585984016, 0.03749183631400749, 0.2999346905120599, 0.013527982175157341, 0.00019325688821653347, 0.4827557067649006, 0.0013527982175157343, 0.003285367099681069, 0.0005797706646496004, 0.015074037280889609, 0.970099887919161, 0.16563514101461765, 0.8178235087596747, 0.010352196313413603, 0.003739345974392734, 0.04487215169271281, 0.5122903984918046, 0.007478691948785468, 0.003739345974392734, 0.022436075846356405, 0.08226561143664014, 0.1981853366428149, 0.03739345974392734, 0.007478691948785468, 0.08226561143664014, 0.957868193735975, 0.13474162571190884, 0.09899384746181057, 0.0859321592550439, 0.2069246394861457, 0.044684722812622826, 0.10243113383201233, 0.06255861193767195, 0.035060320976057914, 0.05843386829342985, 0.06255861193767195, 0.03987252189434037, 0.026123376413533347, 0.01168677365868597, 0.014436602754847375, 0.015124060028887727, 0.9315352404379738, 0.001407712812078525, 0.001407712812078525, 0.4631375151738347, 0.3997904386303011, 0.004223138436235575, 0.00281542562415705, 0.001407712812078525, 0.026746543429491978, 0.039415958738198704, 0.00844627687247115, 0.04926994842274838, 0.004223138436235575, 0.9491365189715432, 0.9315504972580183, 0.07768788307242494, 0.8545667137966744, 0.9367882654933828, 0.1534326635175387, 0.828536382994709, 0.04417221191733643, 0.08834442383467286, 0.8613581323880605, 0.2272296581967743, 0.07023462162445751, 0.053708828301055736, 0.14356782949705285, 0.024788689985102648, 0.12084486367737542, 0.09915475994041059, 0.043380207473929636, 0.051643104135630516, 0.10845051868482408, 0.015492931240689156, 0.007230034578988273, 0.008262896661700882, 0.013427207075263934, 0.012394344992551324, 0.9232403842805935, 0.8670952727610095, 0.9597117460862236, 0.9301101554640026, 0.05314915174080015, 0.9135141453491514, 0.9165004889865203, 0.9789904264863295, 0.9407044790491488, 0.9407044790491488, 0.9541150571098685, 0.9791931398166694, 0.9566043334855922, 0.9793689887107073, 0.8930295859065335, 0.9292717532878465, 0.9831033296422944, 0.043470580873785636, 0.043470580873785636, 0.8694116174757127, 0.06634530558989704, 0.8624889726686615, 0.9315352408853964, 0.01004821712475312, 0.6598329245254548, 0.02344583995775728, 0.07619897986271115, 0.00334940570825104, 0.02595789423894556, 0.01004821712475312, 0.0167470285412552, 0.02763259709307108, 0.11387979408053536, 0.00167470285412552, 0.0125602714059414, 0.019259082822443478, 0.9135141453025013, 0.818391305804538, 0.9820283563937596, 0.977895513031476, 0.9648379513745998, 0.06106907767790675, 0.9160361651686013, 0.02262831398565075, 0.9277608734116807, 0.0452566279713015, 0.07199380288781834, 0.46681695999482214, 0.030283107563923592, 0.0068565526559827, 0.07599345860380825, 0.028568969399927917, 0.006285173267984142, 0.05428104185986304, 0.02628345184793368, 0.001714138163995675, 0.20283968273948821, 0.00342827632799135, 0.0005713793879985583, 0.02399793429593945, 0.0005713793879985583, 0.961100542947769, 0.8731755626850088, 0.08450086090500085, 0.028166953635000283, 0.9267407514872557, 0.9491365191810787, 0.5132085692822924, 0.040139217709229576, 0.06737654401192107, 0.05877528307422902, 0.108949305210766, 0.004300630468846026, 0.15482269687845693, 0.01433543489615342, 0.010034804427307394, 0.011468347916922736, 0.01433543489615342, 0.677606093761233, 0.07238522069852935, 0.012064203449754892, 0.008042802299836595, 0.06434241839869276, 0.10857783104779402, 0.006032101724877446, 0.010053502874795743, 0.03016050862438723, 0.010053502874795743, 0.18349650170792423, 0.02621378595827489, 0.013106892979137445, 0.13106892979137444, 0.013106892979137445, 0.02621378595827489, 0.4980619332072229, 0.013106892979137445, 0.03932067893741233, 0.05242757191654978, 0.008764494068385364, 0.18405437543609265, 0.7625109839495267, 0.03505797627354146, 0.09151485246063522, 0.11321425046676521, 0.1632172110895865, 0.06887200236728218, 0.15519786834819066, 0.08302378367562782, 0.07830652323951261, 0.07972170137034718, 0.050946412710044346, 0.007547616697784348, 0.03443600118364109, 0.03160564492197195, 0.017453863613626303, 0.012264877133899565, 0.011793151090288043, 0.21882528530192946, 0.1287207560599585, 0.025744151211991702, 0.051488302423983404, 0.5663713266638174, 0.9187802911306239, 0.01685835396569952, 0.0421458849142488, 0.00842917698284976, 0.7811538320196113, 0.02154907122812721, 0.04309814245625442, 0.07542174929844524, 0.005387267807031803, 0.032323606842190815, 0.010774535614063606, 0.010774535614063606, 0.016161803421095407, 0.0675501379650687, 0.6088894380462443, 0.1801337012401832, 0.015011141770015267, 0.032836872621908396, 0.03565146170378626, 0.01594933813064122, 0.016887534491267175, 0.0018763927212519084, 0.0065673745243816795, 0.008443767245633588, 0.009381963606259541, 0.05131637402845735, 0.9236947325122323, 0.14235786972700706, 0.17157542377578144, 0.19022492636010552, 0.05594850775297221, 0.07397636025115215, 0.06154335852826943, 0.06651655921742251, 0.11811351636738578, 0.035434054910215736, 0.008703101206017898, 0.01305465180902685, 0.011811351636738578, 0.017406202412035797, 0.03170415439335092, 0.0012433001722882712, 0.03392566424280559, 0.1451264525942239, 0.13193313872202175, 0.5974686424982985, 0.0697360876102115, 0.0018847591246003105, 0.0018847591246003105, 0.011308554747601864, 0.005654277373800932, 0.003769518249200621, 0.9055589518892981, 0.07027482447950566, 0.028109929791802265, 0.014054964895901132, 0.014054964895901132, 0.042164894687703396, 0.632473420315551, 0.014054964895901132, 0.16865957875081358, 0.9315504806352384, 0.02469348130920481, 0.5414927687089912, 0.2945579556169431, 0.008819100467573147, 0.019402021028660923, 0.04409550233786574, 0.007055280374058517, 0.0035276401870292587, 0.0035276401870292587, 0.0035276401870292587, 0.04938696261840962, 0.10221760847398628, 0.008518134039498856, 0.01703626807899771, 0.012777201059248285, 0.19165801588872428, 0.06388600529624143, 0.01703626807899771, 0.19165801588872428, 0.02555440211849657, 0.32794816052070597, 0.04259067019749428, 0.1314249637338664, 0.005973861987903018, 0.014934654969757544, 0.11649030876410883, 0.0328562409334666, 0.01792158596370905, 0.2060982385826541, 0.08363406783064224, 0.37037944324998706, 0.011947723975806035, 0.002986930993951509, 0.06981847563752333, 0.07768534613189217, 0.05408473464878568, 0.03146748197747531, 0.6500001745972243, 0.056051452272377886, 0.015733740988737654, 0.0039334352471844134, 0.004916794058980516, 0.02360061148310648, 0.0019667176235922067, 0.0039334352471844134, 0.00590015287077662, 0.0019667176235922067, 0.960907597650629, 0.9035658560489661, 0.023167187068279277, 0.9151038891970315, 0.005791796767069819, 0.005791796767069819, 0.017375390301209458, 0.023167187068279277, 0.005791796767069819, 0.9718620460304868, 0.005521943443355038, 0.019326802051742635, 0.996823282394832, 0.9733850158432982, 0.9764614354716894, 0.017130902376696306, 0.8507375983788003, 0.08979368426731586, 0.010360809723151829, 0.00345360324105061, 0.020721619446303657, 0.0011512010803502032, 0.020721619446303657, 0.0011512010803502032, 0.0011512010803502032, 0.0011512010803502032, 0.015595021064489536, 0.11566307289496407, 0.3028033256688385, 0.05198340354829845, 0.16894606153196998, 0.09616929656435214, 0.02079336141931938, 0.06497925443537307, 0.1377560194029909, 0.007797510532244768, 0.0012995850887074613, 0.007797510532244768, 0.0025991701774149226, 0.005198340354829845, 0.064060400279616, 0.8968456039146241, 0.2097013879582538, 0.07863802048434518, 0.6815295108643249, 0.012664120780925178, 0.5677747483448121, 0.32926714030405463, 0.01477480757774604, 0.012664120780925178, 0.03799236234277553, 0.012664120780925178, 0.012664120780925178, 0.0026839177554079567, 0.9581586386806406, 0.03489093082030344, 0.1238990310759392, 0.03151817457194945, 0.0880335220802726, 0.05108117947867669, 0.15215670483010077, 0.0619495155379696, 0.19128271464355526, 0.06521001635575747, 0.07607835241505038, 0.011955169665222204, 0.030431340966020157, 0.07607835241505038, 0.020649838512656535, 0.015215670483010079, 0.003260500817787874, 0.9331461324904502, 0.035890235865017314, 0.8670952728380773, 0.1146900160862379, 0.8410601179657446, 0.885790367251948, 0.948329012869782, 0.049249964784190935, 0.03283330985612729, 0.008208327464031823, 0.008208327464031823, 0.7633744541549595, 0.09849992956838187, 0.024624982392095467, 0.9132457223309401, 0.9193429091818087, 0.6814876942966507, 0.020043755714607373, 0.14647359945290003, 0.009250964175972634, 0.07092405868245687, 0.07092405868245687, 0.9346515489503011, 0.9647009919238605, 0.29246098550725513, 0.7045651014492965, 0.9847585062144713, 0.9506245209455517, 0.9358157564822346, 0.9213819927780134, 0.05265039958731505, 0.9356185794380008, 0.03226270963579313, 0.8831148214534374, 0.9718742214681948, 0.9611005428587467, 0.924568513438966, 0.8205818366265033, 0.02205865152221783, 0.10146979700220202, 0.008823460608887132, 0.0397055727399921, 0.9527508702996104, 0.9833801699072916, 0.9507989210413205, 0.9750838821387418, 0.9607257448617961, 0.9272043839425681, 0.8831148214534387, 0.04753005433941958, 0.9030710324489719, 0.9945086734004026, 0.9245685138567016, 0.022053323346595193, 0.9703462272501885, 0.9963907486497243, 0.9786397876323674, 0.3178633662085895, 0.33074971889272153, 0.004295450894710669, 0.030068156262974686, 0.004295450894710669, 0.004295450894710669, 0.015034078131487343, 0.015034078131487343, 0.004295450894710669, 0.021477254473553347, 0.01932952902619801, 0.23195434831437614, 0.9389743508093694, 0.2442799894717608, 0.29723085424165113, 0.006354103772386842, 0.013414219075038888, 0.03388855345272982, 0.014826242135569297, 0.016238265196099704, 0.014826242135569297, 0.05930496854227719, 0.2640483123191865, 0.02753444968034298, 0.004942080711856432, 0.0014120230605304091, 0.02508538074367582, 0.02508538074367582, 0.05017076148735164, 0.8779883260286537, 0.9035658559716548, 0.024230187263626492, 0.12890459624249295, 0.24811711757953528, 0.1637960659021151, 0.1637960659021151, 0.1928722906184669, 0.0038768299621802387, 0.0009692074905450597, 0.019384149810901193, 0.024230187263626492, 0.026168602244716614, 0.002907622471635179, 0.4224533627791289, 0.0027792984393363745, 0.005558596878672749, 0.4168947659004562, 0.008337895318009124, 0.047248073468718364, 0.09171684849810036, 0.01662640988668449, 0.3491546076203743, 0.5174970077230548, 0.008313204943342246, 0.012469807415013369, 0.04364432595254679, 0.018704711122520052, 0.022861313594191177, 0.006234903707506684, 0.0020783012358355614, 0.009233849260400284, 0.16159236205700497, 0.7571756393528233, 0.018467698520800567, 0.03231847241140099, 0.018467698520800567, 0.9846478626817504, 0.06207346693037299, 0.5690067801950857, 0.015120459893295983, 0.04098440444761806, 0.03620952237605091, 0.04615719335848248, 0.05371742330513047, 0.02069115564345766, 0.048544634394266054, 0.07321485843069635, 0.010743484661026094, 0.01313092569680967, 0.005570695750161678, 0.004774882071567153, 0.006131825830395232, 0.9366363955928717, 0.00766478228799404, 0.011241680689057926, 0.006131825830395232, 0.0005109854858662694, 0.003065912915197616, 0.004598869372796424, 0.003065912915197616, 0.017373506519453158, 0.004598869372796424, 0.9485612770254119, 0.9958305059096779, 0.9315504804793756, 0.15891349212881345, 0.17175498644225293, 0.09390342716702613, 0.09069305358866626, 0.11958641579390507, 0.00802593394589967, 0.169347206258483, 0.02648558202146891, 0.05537894422670772, 0.04414263670244818, 0.01284149431343947, 0.006420747156719735, 0.006420747156719735, 0.024880395232288976, 0.011236307524259538, 0.632522553061045, 0.10663215453902673, 0.0012117290288525765, 0.12117290288525766, 0.015752477375083496, 0.04604570309639791, 0.029081496692461836, 0.021811122519346377, 0.008482103201968036, 0.01696420640393607, 0.9315504806264214, 0.11673788793402323, 0.05188350574845477, 0.2983301580536149, 0.038912629311341075, 0.42803892242475183, 0.06485438218556847, 0.9254605128369907, 0.9264123056615792, 0.006467774857315433, 0.025871099429261732, 0.19834509562433994, 0.0021559249524384775, 0.5411371630620578, 0.00862369980975391, 0.0021559249524384775, 0.21343657029140928, 0.004311849904876955, 0.0021559249524384775, 0.8735812428316936, 0.11640503399846812, 0.08798054895233055, 0.021656750511342904, 0.0852734551384127, 0.0257173912322197, 0.25988100613611487, 0.03654576648789115, 0.05008123555748047, 0.15159725357940035, 0.08391990823145376, 0.04602059483660367, 0.002707093813917863, 0.009474828348712522, 0.010828375255671452, 0.012181922162630384, 0.9254022854819235, 0.045379449866219834, 0.9075889973243968, 0.9781673143529163, 0.8879482865206648, 0.8797073596284668, 0.0195650094893961, 0.0195650094893961, 0.9391204554910128, 0.008908521958797785, 0.8277501653382943, 0.007423768298998154, 0.0007423768298998154, 0.10653107509062351, 0.01299159452324677, 0.0022271304896994463, 0.007794956713948062, 0.0007423768298998154, 0.0022271304896994463, 0.020044174407295015, 0.0003711884149499077, 0.0014847536597996308, 0.8930295859896206, 0.9738985568745051, 0.8825282297872881, 0.09289770839866189, 0.07075358082699669, 0.07075358082699669, 0.035376790413498345, 0.07075358082699669, 0.7075358082699669, 0.9766249604946126, 0.019409277910548667, 0.004313172869010815, 0.21134547058152994, 0.20595400449526644, 0.17684008762944342, 0.03774026260384463, 0.2523206128371327, 0.010782932172527038, 0.00862634573802163, 0.061462713383404116, 0.007548052520768927, 0.0021565864345054076, 0.09891339717624144, 0.010334235525875972, 0.06938700995945295, 0.34693504979726475, 0.13582138119722706, 0.02362110977343079, 0.24064005581682618, 0.028050067855949063, 0.0029526387216788487, 0.014763193608394244, 0.01328687424755482, 0.01328687424755482, 0.0014763193608394243, 0.9168865717923299, 0.019371744915800206, 0.4891365591239552, 0.3478842524462454, 0.014528808686850154, 0.028250461335541967, 0.019371744915800206, 0.005650092267108393, 0.015335964725008496, 0.005650092267108393, 0.002421468114475026, 0.012107340572375128, 0.03228624152633368, 0.0016143120763166838, 0.004842936228950052, 0.005663038213252052, 0.005663038213252052, 0.5889559741782134, 0.2619155173629074, 0.0651249394523986, 0.002831519106626026, 0.008494557319878079, 0.05238310347258148, 0.007078797766565065, 0.001415759553313013, 0.01220114968533314, 0.3172298918186616, 0.10981034716799826, 0.04880459874133256, 0.04270402389866599, 0.4636436880426593, 0.9530407900330812, 0.889449243595116, 0.8105772035645471, 0.1529390950121787, 0.030587819002435738, 0.9443441089204208, 0.09150864039303565, 0.14641382462885705, 0.05490518423582139, 0.01830172807860713, 0.6039570265940353, 0.07320691231442852, 0.01830172807860713, 0.8183913061216073, 0.01976630558037558, 0.03953261116075116, 0.05929891674112673, 0.8499511399561498, 0.020632009679963675, 0.06002039179625797, 0.1706829891706086, 0.19319063609420534, 0.0018756372436330615, 0.06189602903989103, 0.018756372436330614, 0.1613048029524433, 0.16880735192697555, 0.016880735192697553, 0.09190622493802002, 0.026258921410862862, 0.0018756372436330615, 0.003751274487266123, 0.017890159244269288, 0.04651441403510014, 0.06440457327936944, 0.49734642699068615, 0.21468191093123143, 0.028624254790830857, 0.039358350337392434, 0.07513866882593101, 0.007156063697707714, 0.007156063697707714, 0.8797073552877149, 0.04256571540623312, 0.02128285770311656, 0.04256571540623312, 0.08513143081246624, 0.7874657350153127, 0.02128285770311656, 0.8930295895789396, 0.01126839217856326, 0.03380517653568978, 0.04507356871425304, 0.02253678435712652, 0.8563978055708078, 0.02253678435712652, 0.25225074565131916, 0.014446077944789203, 0.016668551474756772, 0.032225866184529765, 0.022224735299675696, 0.23224848388161104, 0.015557314709772988, 0.3489283442049085, 0.012223604414821634, 0.04444947059935139, 0.0066674205899027094, 0.001111236764983785, 0.001111236764983785, 0.001111236764983785, 0.05280614937579234, 0.34984073961462425, 0.12541460476750682, 0.45875342270219593, 0.009901153007961063, 0.8205669223212089, 0.048167450366863415, 0.03612558777514756, 0.01806279388757378, 0.005160798253592508, 0.0008601330422654181, 0.03182492256382047, 0.013762128676246689, 0.007741197380388763, 0.012041862591715854, 0.0017202660845308361, 0.0034405321690616723, 0.9619958998552597, 0.0125042119295898, 0.24258171143404214, 0.7427501886176342, 0.03820377285706491, 0.9550943214266228, 0.0019886916763020464, 0.22173912190767814, 0.1680444466475229, 0.016903879248567392, 0.11037238803476357, 0.36492492260142545, 0.003977383352604093, 0.09147981710989413, 0.01590953341041637, 0.002983037514453069, 0.0019886916763020464, 0.012607943857773368, 0.17166200483276048, 0.21627472925257393, 0.21627472925257393, 0.044612724419813454, 0.12510959674252034, 0.00484920917606668, 0.025215887715546736, 0.03879367340853344, 0.011638102022560031, 0.03685398973810677, 0.05334130093673348, 0.0038793673408533437, 0.03976351524374677, 0.8490507832838143, 0.8655465935902283, 0.05770310623934856, 0.9502968451191752, 0.9512472841173915, 0.12045887132653245, 0.05019119638605519, 0.030114717831633112, 0.020076478554422076, 0.010038239277211038, 0.7629061850680389, 0.13602938926987196, 0.6218486366622719, 0.11659661937417598, 0.11659661937417598, 0.9272043833021547, 0.0006555225259695195, 0.005899702733725675, 0.1848573523234045, 0.1206161447783916, 0.06882986522679956, 0.059652549863226274, 0.050475234499653, 0.19993437042070344, 0.24319885713469175, 0.0032776126298475977, 0.04785314439577493, 0.015732540623268468, 0.9031548737236649, 0.15105543325306692, 0.4608389566863407, 0.09878545793692631, 0.16640074710734673, 0.01726347808606479, 0.01486577279633357, 0.056585844837656815, 0.0023977052897312208, 0.0014386231738387325, 0.005274951637408686, 0.01726347808606479, 0.007193115869193662, 0.31786134325561743, 0.004314859863198427, 0.023012585937058277, 0.023012585937058277, 0.010068006347462995, 0.0014382866210661423, 0.02588915917919056, 0.5896975146371183, 0.004314859863198427, 0.9135550831842386, 0.972992442235869, 0.9696707759908654, 0.012684603355185602, 0.08879222348629921, 0.09340480652454852, 0.17527815545347378, 0.12684603355185603, 0.1891159045682217, 0.05419785069942939, 0.043819538863368444, 0.05419785069942939, 0.026522352469933532, 0.01383774911474793, 0.0461258303824931, 0.028828643989058187, 0.011531457595623275, 0.034594372786869824, 0.9327365328077754, 0.04172228131835288, 0.04172228131835288, 0.8761679076854104, 0.860749800352105, 0.06096611944869408, 0.8535256722817172, 0.10928698036527253, 0.007050772926791776, 0.08108388865810542, 0.4371479214610901, 0.01762693231697944, 0.01762693231697944, 0.03525386463395888, 0.2961324629252546, 0.9700905475421644, 0.03839325025456749, 0.05758987538185123, 0.8830447558550523, 0.9488450861413036, 0.8808691618709686, 0.9426278765689682, 0.03366528130603458, 0.010559432856781091, 0.42113502805279884, 0.10000404058480916, 0.06211431092224171, 0.33169042032477075, 0.004969144873779337, 0.00434800176455692, 0.018013150167450098, 0.020497722604339765, 0.0012422862184448343, 0.0018634293276672514, 0.007453717310669006, 0.00434800176455692, 0.011180575966003508, 0.0432597599422143, 0.8796151188250241, 0.0432597599422143, 0.00720995999036905, 0.0144199199807381, 0.9511060148656553, 0.019410326833992967, 0.019410326833992967, 0.9968701325678427, 0.9652988184419787, 0.9803133242849158, 0.01167039671767757, 0.9483290130980184, 0.042628573917782346, 0.9378286261912115, 0.9474772606228303, 0.8312361146614028, 0.1539326138261857, 0.8797073600257748, 0.891204424186613, 0.005784954332912236, 0.002892477166456118, 0.05206458899621013, 0.04338715749684177, 0.8677431499368354, 0.011569908665824472, 0.008677431499368355, 0.005784954332912236, 0.9254377611904744, 0.2819700424435031, 0.15732709637319228, 0.07201592439617957, 0.052073053024929844, 0.09583657631183896, 0.06758417520256851, 0.03988574274249945, 0.03046827570607597, 0.07478576764218647, 0.01717302812524282, 0.03046827570607597, 0.022712714617256633, 0.013295247580833152, 0.03379208760128426, 0.010525404334826245, 0.9418272363425264, 0.043805917969419836, 0.8633626605650168, 0.5933466476189108, 0.20578496449210779, 0.001143249802733932, 0.1497657241581451, 0.008002748619137525, 0.0057162490136696605, 0.001143249802733932, 0.013718997632807185, 0.009145998421871457, 0.001143249802733932, 0.002286499605467864, 0.004572999210935728, 0.0034297494082017963, 0.9745877537670974, 0.01760884181539589, 0.10984563227699341, 0.2574244970155494, 0.15847957633856302, 0.13164705547700736, 0.08972124163082668, 0.02012439064616673, 0.06624278587696548, 0.034379167353868166, 0.009223679046159752, 0.008385162769236138, 0.04024878129233346, 0.046956911507722375, 0.010062195323083365, 0.0016770325538472276, 0.03505038122783721, 0.21614401757166282, 0.2920865102319768, 0.2784558064211512, 0.01168346040927907, 0.056470058644848845, 0.015577947212372094, 0.07204800585722093, 0.0038944868030930235, 0.0038944868030930235, 0.01168346040927907, 0.9327365329111412, 0.9791931398166694, 0.960303453411851, 0.0073198482970089854, 0.09515802786111681, 0.3013337548935366, 0.089058154280276, 0.018299620742522463, 0.06343868524074454, 0.010979772445513479, 0.09271807842878048, 0.13541719349466624, 0.014639696594017971, 0.004879898864672657, 0.1537168142371887, 0.004879898864672657, 0.0073198482970089854, 0.979193139676957, 0.9871921925048411, 0.9477105264562488, 0.9547778473497939, 0.9546114283718532, 0.9528749049654119, 0.017605724171477415, 0.032010407584504394, 0.4561483080791876, 0.33610927963729614, 0.0064020815169008784, 0.05921925403133312, 0.008002601896126098, 0.0032010407584504392, 0.020806764929927855, 0.014404683413026977, 0.0064020815169008784, 0.022407285309153074, 0.008002601896126098, 0.0064020815169008784, 0.0016005203792252196, 0.0017360852563560682, 0.010416511538136409, 0.2317673817235351, 0.3394046676176113, 0.03038149198623119, 0.0008680426281780341, 0.34027271024578937, 0.00434021314089017, 0.0017360852563560682, 0.025173236217162987, 0.011284554166314442, 0.002604127884534102, 0.07071896077749566, 0.8486275293299479, 0.055617128813891144, 0.037078085875927425, 0.11123425762778229, 0.7786398033944759, 0.09327157667934549, 0.14923452268695278, 0.018654315335869098, 0.055962946007607296, 0.6715553520912876, 0.9652988184691129, 0.3816490083132227, 0.020629676125039065, 0.030944514187558596, 0.0928335425626758, 0.010314838062519533, 0.45385287475085945, 0.020629676125039065, 0.9437065915897962, 0.39786356374790355, 0.042126730279189784, 0.007021121713198297, 0.03978635637479035, 0.1872299123519546, 0.04446710418358922, 0.016382617330796028, 0.00936149561759773, 0.004680747808798865, 0.21765477310914721, 0.014042243426396595, 0.021063365139594892, 0.9767185149552943, 0.9663457927779067, 0.009345385858178396, 0.9812655151087316, 0.038489285508945585, 0.038489285508945585, 0.8852535667057484, 0.9644575754789819, 0.7254958494640099, 0.13364397226968605, 0.0031819993397544295, 0.04772999009631645, 0.006363998679508859, 0.0031819993397544295, 0.006363998679508859, 0.038183992077053155, 0.038183992077053155, 0.8797073590266413, 0.9733597046242195, 0.2111323930088487, 0.048722859925118926, 0.08120476654186488, 0.016240953308372975, 0.6009152724098001, 0.03248190661674595, 0.012205413004028925, 0.00813694200268595, 0.0325477680107438, 0.0650955360214876, 0.020342355006714875, 0.028479297009400825, 0.0162738840053719, 0.02441082600805785, 0.7933518452618801, 0.16993412097684596, 0.01888156899742733, 0.05664470699228199, 0.03776313799485466, 0.15105255197941864, 0.05664470699228199, 0.5098023629305379, 0.8808714605381954, 0.386182013208365, 0.05075535030738511, 0.024274297973097225, 0.011033771805953285, 0.017654034889525255, 0.48769271382313517, 0.02206754361190657, 0.12613035771966088, 0.02802896838214686, 0.08408690514644059, 0.01401448419107343, 0.7427676621268918, 0.03335246465591794, 0.9338690103657024, 0.04193988858209176, 0.1113674068429869, 0.03938948995209969, 0.2391707159681449, 0.0005667552511093481, 0.2218846808093098, 0.0665937420053484, 0.02238683241881925, 0.08274626666196482, 0.1048497214552294, 0.027771007304358056, 0.010201594519968266, 0.015585769405507072, 0.0025503986299920665, 0.012751993149960332, 0.002848383242188167, 0.1039659883398681, 0.5511621573634103, 0.11820790455080893, 0.008545149726564501, 0.0769063475390805, 0.012817724589846752, 0.008545149726564501, 0.008545149726564501, 0.012817724589846752, 0.03133221566406984, 0.011393532968752668, 0.046998323496104756, 0.007120958105470417, 0.9789904248495437, 0.23127280117822033, 0.0786327524005949, 0.09096730179676665, 0.09019639245950592, 0.3630982978498059, 0.010021821384389546, 0.025440008129604234, 0.0015418186745214688, 0.06321456565538022, 0.02081455210603983, 0.01233454939617175, 0.0023127280117822033, 0.009250912047128813, 0.0007709093372607344, 0.9550980026510307, 0.055179748390142926, 0.004598312365845244, 0.0321881865609167, 0.055179748390142926, 0.23451393065810744, 0.4828227984137506, 0.05058143602429768, 0.055179748390142926, 0.009196624731690488, 0.018393249463380976, 0.009196624731690488, 0.04226280098153593, 0.11093985257653183, 0.08452560196307186, 0.0862865520039692, 0.010565700245383983, 0.18137785421242505, 0.09685225224935318, 0.035219000817946614, 0.10917890253563449, 0.1443979033535811, 0.06163325143140657, 0.007043800163589322, 0.012326650286281314, 0.019370450449870635, 0.004658596670083161, 0.10248912674182954, 0.14907509344266115, 0.18401456846828487, 0.33076036357590444, 0.018634386680332644, 0.10714772341191271, 0.023292983350415807, 0.04192737003074845, 0.016305088345291065, 0.018634386680332644, 0.0023292983350415805, 0.0023292983350415805, 0.05804933636384684, 0.8707400454577027, 0.9292466547249224, 0.0059778562535793694, 0.020922496887527793, 0.037361601584871056, 0.022416960950922635, 0.5858299128507782, 0.0014944640633948424, 0.2226751454458315, 0.06874534691616274, 0.029889281267896847, 0.004483392190184527, 0.8490507826658581, 0.8857903689743698, 0.9751522031195626, 0.8135017369511512, 0.8735965081125168, 0.9035658567363746, 0.03313828574005168, 0.8814784006853748, 0.006627657148010336, 0.01988297144403101, 0.006627657148010336, 0.006627657148010336, 0.006627657148010336, 0.046393600036072354, 0.13749332142079232, 0.07157186594506998, 0.08193095180554062, 0.1309011758732201, 0.025426847112064332, 0.16103669837640744, 0.04897022406767946, 0.0951152429006851, 0.05367889945880248, 0.04237807852010722, 0.02825205234673815, 0.010359085860470654, 0.005650410469347629, 0.0951152429006851, 0.01318429109514447, 0.042819046789335895, 0.042819046789335895, 0.042819046789335895, 0.8706539513831633, 0.1561848612615443, 0.1561848612615443, 0.029284661486539555, 0.04880776914423259, 0.14642330743269777, 0.019523107657693037, 0.06833087680192562, 0.009761553828846518, 0.3807005993250142, 0.03670530727184264, 0.07341061454368528, 0.01835265363592132, 0.03670530727184264, 0.807516759980538, 0.000824920333568688, 0.06434378601835766, 0.18519461488617045, 0.2614997457412741, 0.3435793189313585, 0.019385627838864168, 0.005774442334980816, 0.07836743168902535, 0.011136424503177287, 0.013611185503883351, 0.001649840667137376, 0.014023645670667695, 0.02666679078968076, 0.8000037236904228, 0.1333339539484038, 0.1278302526596225, 0.28323173628504594, 0.12031082603258589, 0.02757123096580093, 0.04261008421987417, 0.007519426627036618, 0.3709583802671398, 0.007519426627036618, 0.005012951084691079, 0.007519426627036618, 0.2921696058399355, 0.2741344449856185, 0.010821096512590203, 0.014428128683453605, 0.23085005893525767, 0.12985315815108245, 0.043284386050360814, 0.20715069348627274, 0.11924995411375938, 0.08175383452128865, 0.07622162015518641, 0.05224869123541004, 0.07622162015518641, 0.06331311996761452, 0.05163400075028757, 0.09281826325349313, 0.08544197743202347, 0.03011983377100108, 0.01229380970244942, 0.03442266716685838, 0.009835047761959537, 0.0067615953363471815, 0.3768479037709108, 0.12561596792363694, 0.49104423824694443, 0.03332297189043711, 0.06664594378087423, 0.09996891567131135, 0.16661485945218557, 0.04998445783565567, 0.04998445783565567, 0.04998445783565567, 0.48318309241133817, 0.1132343582823049, 0.8775662766878629, 0.9232403846557873, 0.08962349564304384, 0.07169879651443507, 0.11651054433595699, 0.02688704869291315, 0.08066114607873945, 0.03584939825721754, 0.07169879651443507, 0.04481174782152192, 0.0537740973858263, 0.02688704869291315, 0.3853810312650885, 0.9696707762464389, 0.9115403547838093, 0.05362002086963585, 0.019020020883855893, 0.31739659849934526, 0.14027265401843722, 0.029718782631024836, 0.09985510964024345, 0.11530887660837637, 0.01426501566289192, 0.04755005220963974, 0.024963777410060863, 0.03685129046247079, 0.019020020883855893, 0.026152528715301854, 0.03685129046247079, 0.008321259136686954, 0.06181506787253166, 0.11915759829364808, 0.05128301698713968, 0.054299665045206724, 0.14479910678721794, 0.02111653640646928, 0.00150832402903352, 0.4042308397809834, 0.00150832402903352, 0.09351608980007825, 0.028658156551636883, 0.07089122936457544, 0.004524972087100561, 0.004524972087100561, 0.018426758497596774, 0.66643443232975, 0.1566274472295726, 0.04299576982772581, 0.024569011330129033, 0.003071126416266129, 0.08292041323918549, 0.003071126416266129, 0.038674069250833026, 0.7691842662110124, 0.1203193265581472, 0.025782712833888687, 0.012891356416944343, 0.004297118805648114, 0.025782712833888687, 0.944877909127218, 0.8607498009563165, 0.008974470586708173, 0.004487235293354087, 0.2019255882009339, 0.0987191764537899, 0.008974470586708173, 0.51603205873572, 0.004487235293354087, 0.008974470586708173, 0.13910429409397668, 0.004487235293354087, 0.008592559095508254, 0.10955512846773023, 0.19118443987505862, 0.1525179239452715, 0.14822164439751737, 0.13318466598037793, 0.0021481397738770634, 0.047259075025295395, 0.0021481397738770634, 0.006444419321631189, 0.18474002055342745, 0.004296279547754127, 0.008592559095508254, 0.10140582241420944, 0.044365047306216626, 0.028520387553996406, 0.10457475436465348, 0.03485825145488449, 0.01901359170266427, 0.560900955228596, 0.003168931950444045, 0.08556116266198921, 0.00633786390088809, 0.00633786390088809, 0.8649558892921178, 0.060345759718054726, 0.020115253239351576, 0.020115253239351576, 0.10091956311258249, 0.06727970874172166, 0.03363985437086083, 0.06727970874172166, 0.7064369417880775, 0.2665133589143186, 0.22382957877569726, 0.07964168733181787, 0.07183367876987494, 0.025506161302346897, 0.0749568821946521, 0.12753080651173448, 0.001041067808259057, 0.03747844109732605, 0.06298460239967295, 0.015095483219756328, 0.0067669407536838705, 0.0036437373289067, 0.002602669520647643, 0.0005205339041295285, 0.16492716633750992, 0.12727038558414783, 0.12584038125174166, 0.1334670710245745, 0.07531356150672418, 0.014776711434863605, 0.230230697517391, 0.023356737429300535, 0.014776711434863605, 0.02145006498609233, 0.056246837074642106, 0.0033366767756143625, 0.004290012997218466, 0.0028600086648123105, 0.0014300043324061552, 0.9565576266600522, 0.9607257448046677, 0.021686730035681074, 0.04531555529843806, 0.11555466601101706, 0.5687102189953976, 0.028160380792600796, 0.10810996764055937, 0.056644444123047574, 0.017802539581529237, 0.0035605079163058477, 0.001942095227075917, 0.0029131428406138755, 0.014889396740915363, 0.009063111059687613, 0.005178920605535779, 0.3612643471034744, 0.25121030758850865, 0.009569916479562235, 0.01674735383923391, 0.028709749438686705, 0.07655933183649788, 0.007177437359671676, 0.007177437359671676, 0.20096824607080693, 0.03827966591824894, 0.040968164657337866, 0.09559238420045503, 0.15021660374357218, 0.5394141679882819, 0.12290449397201361, 0.02731210977155858, 0.02731210977155858, 0.9783314463571539, 0.08305656246878476, 0.07297455199569529, 0.05953187136490931, 0.03552708452422007, 0.12674527451883918, 0.0441688077868682, 0.3120622289289601, 0.08401675394241233, 0.0441688077868682, 0.01008201047308948, 0.05569110547039903, 0.046569286470937124, 0.007201436052206771, 0.018243637998923822, 0.0004800957368137848, 0.18932732569575322, 0.0757309302783013, 0.1281600358555868, 0.0757309302783013, 0.0320400089638967, 0.35244009860286374, 0.052429105577285515, 0.055341833664912486, 0.017476368525761836, 0.002912728087626973, 0.008738184262880918, 0.011650912350507891, 0.9599842211035295, 0.6897313016787789, 0.03019025899604083, 0.12540569121432346, 0.018578620920640512, 0.03251258661112089, 0.02322327615080064, 0.034834914226200955, 0.002322327615080064, 0.016256293305560447, 0.002322327615080064, 0.018578620920640512, 0.004644655230160128, 0.8995794076437591, 0.12021022652165358, 0.12021022652165358, 0.25043797192011163, 0.05008759438402233, 0.07012263213763126, 0.31555184461934066, 0.005008759438402233, 0.04007007550721786, 0.02003503775360893, 0.005008759438402233, 0.989460674667294, 0.15076737574589974, 0.1172094759831027, 0.176057387161341, 0.07197926325933278, 0.21399240428450286, 0.026749050535562858, 0.06176598941848151, 0.037448670749788, 0.0228582795485719, 0.009240581094103533, 0.02383097229531964, 0.04766194459063928, 0.013617698454468365, 0.025776357788815117, 0.04675479578828998, 0.005194977309809997, 0.8987310745971295, 0.05194977309809997, 0.00967419735642774, 0.0644946490428516, 0.4192152187785354, 0.06771938149499418, 0.02579785961714064, 0.10319143846856256, 0.02579785961714064, 0.03869678942571096, 0.00322473245214258, 0.23863020145855093, 0.00322473245214258, 0.8732525341556387, 0.27797500640048683, 0.5932043951020698, 0.060180156024847664, 0.014328608577344682, 0.05158299087844086, 0.11453187310993623, 0.7788167371475664, 0.09162549848794899, 0.1111915095939341, 0.04941844870841516, 0.8401136280430577, 0.9570771012458456, 0.11259917044626859, 0.8632603067547259, 0.7319572249413832, 0.11513933875482432, 0.08882177561086448, 0.0016448476964974902, 0.04276604010893475, 0.021383020054467374, 0.1108047884364206, 0.18217058437852202, 0.08075603225027264, 0.14367061551501992, 0.007512189046536989, 0.15869499360809391, 0.07230481957291852, 0.053524346956576055, 0.026292661662879465, 0.049768252433307555, 0.08169505588108976, 0.006573165415719866, 0.011268283569805485, 0.012207307200622608, 0.0037560945232684947, 0.9389825506931976, 0.9577665228044502, 0.965817606059149, 0.868811172873514, 0.04137196061302448, 0.04137196061302448, 0.051315488887594116, 0.03421032592506274, 0.051315488887594116, 0.1197361407377196, 0.051315488887594116, 0.10263097777518823, 0.03421032592506274, 0.01710516296253137, 0.5131548888759411, 0.9173878769971979, 0.015548947067749118, 0.04664684120324735, 0.015548947067749118, 0.9729548464630506, 0.3626544070269282, 0.01353188085921374, 0.018944633202899235, 0.016238257031056486, 0.043302018749483966, 0.0622466519523832, 0.05142114726501221, 0.021651009374741983, 0.1759144511697786, 0.2300419746066336, 0.002706376171842748, 0.9327365325224425, 0.21322271166420845, 0.10521774333756691, 0.0278722498907462, 0.09267523088673112, 0.00975528746176117, 0.22994606159865616, 0.05853172477056703, 0.029962668632552168, 0.07316465596320879, 0.10103690585395499, 0.0418083748361193, 0.004180837483611931, 0.0006968062472686551, 0.011845706203567136, 0.0006968062472686551, 0.8607497999868925, 0.8948909897560929, 0.013208723096030892, 0.05613707315813129, 0.02311526541805406, 0.00990654232202317, 0.9121755871136069, 0.12546972131579914, 0.031367430328949786, 0.8155531885526944, 0.9776838510058513, 0.014069615122022134, 0.42208845366066405, 0.5627846048808854, 0.8706993171940375, 0.9512419444073295, 0.9463340737750752, 0.027038116393573574, 0.028452297038419488, 0.06259505348452288, 0.02194891485820932, 0.031703988128524575, 0.23574760403261863, 0.10893165151852033, 0.17559131886567456, 0.1097445742910466, 0.03414275644610339, 0.04633659803399745, 0.061782130711996605, 0.06991135843725932, 0.0008129227725262711, 0.004877536635157626, 0.00812922772526271, 0.09429030952375383, 0.020831580011061893, 0.3420764717605953, 0.07784432530449445, 0.033988367386469404, 0.06249474003318568, 0.09648310741965509, 0.0975795063676057, 0.06797673477293881, 0.008771191583605007, 0.020831580011061893, 0.06139834108523506, 0.012060388427456886, 0.002192797895901252, 0.001096398947950626, 0.18393654905830994, 0.01558784314053474, 0.008313516341618529, 0.008313516341618529, 0.5393393726625021, 0.0904094902151015, 0.04780271896430654, 0.025979738567557902, 0.017666222225939374, 0.019744601311344007, 0.02390135948215327, 0.017666222225939374, 0.1516926369609742, 0.13500644689526706, 0.06750322344763353, 0.17292960613551062, 0.13955722600409629, 0.02654621146817049, 0.1441080051129255, 0.014410800511292551, 0.04550779108829227, 0.0022753895544146132, 0.030338527392194843, 0.037164696055438685, 0.016686190065707165, 0.015927726880902292, 0.12570418175805068, 0.009924014349319792, 0.09593213871009132, 0.04962007174659896, 0.1124721626256243, 0.4895847078997764, 0.013232019132426389, 0.003308004783106597, 0.029772043047959374, 0.04962007174659896, 0.016540023915532984, 0.02398378579504752, 0.517215554536677, 0.2116829789736803, 0.10010623636193747, 0.010427732954368487, 0.0010427732954368487, 0.0010427732954368487, 0.04692479829465819, 0.03024042556766861, 0.01564159943155273, 0.01564159943155273, 0.007299413068057941, 0.0010427732954368487, 0.019812692613300126, 0.8902723124515944, 0.02295831178241934, 0.0076527705941397805, 0.0025509235313799267, 0.015305541188279561, 0.020407388251039413, 0.017856464719659487, 0.020407388251039413, 0.8912044243762883, 0.9511931305081237, 0.10490802404284612, 0.04808284435297114, 0.09398010487171632, 0.14206294922468746, 0.4272816395911753, 0.006556751502677882, 0.0502684281871971, 0.009835127254016824, 0.04152609285029325, 0.005463959585564902, 0.03169096559627643, 0.017484670673807687, 0.012020711088242785, 0.008742335336903844, 0.9444132588271421, 0.9444132579104486, 0.390102668029064, 0.16303682934345382, 0.09545065281562205, 0.07114334371350711, 0.04327886742571683, 0.032607365868690764, 0.06521473173738153, 0.038535977844816355, 0.02608589269495261, 0.030235921078240524, 0.019564419521214457, 0.005335750778513034, 0.003557167185675356, 0.007114334371350712, 0.008892917964188389, 0.03835127995257886, 0.47665162226776575, 0.03287252567363902, 0.10409633129985689, 0.021915017115759345, 0.3177677481785105, 0.005478754278939836, 0.07795621454280659, 0.056695428758404796, 0.13465164330121138, 0.035434642974003, 0.042521571568803596, 0.6519974307216552, 0.0070869285948005995, 0.664255328309058, 0.024857787753769324, 0.0483345872989959, 0.04971557550753865, 0.023476799545226582, 0.06076348117588057, 0.009666917459799182, 0.022095811336683844, 0.019333834919598364, 0.03314371700502577, 0.013809882085427402, 0.0013809882085427402, 0.020714823128141102, 0.006904941042713701, 0.004142964625628221, 0.9448779075966023, 0.1971821224036928, 0.023474062190915808, 0.7136114906038405, 0.018779249752732645, 0.023474062190915808, 0.018779249752732645, 0.01940932409032735, 0.44884061958881993, 0.32995850953556494, 0.0388186481806547, 0.007278496533872756, 0.03154015164678194, 0.004852331022581837, 0.11645594454196409, 0.03379644654662968, 0.07392972682075243, 0.0612560593657663, 0.040133280274122746, 0.01689822327331484, 0.0844911163665742, 0.42456785974203537, 0.10561389545821775, 0.0612560593657663, 0.04435783609245146, 0.002112277909164355, 0.02957189072830097, 0.010561389545821776, 0.002112277909164355, 0.00844911163665742, 0.15782164201933613, 0.834200107816491, 0.1621106589401785, 0.09149427341699469, 0.06877421894431816, 0.14921549288811886, 0.020263832367522314, 0.1443030486778104, 0.06570394131287538, 0.09088021789070613, 0.08105532947008925, 0.0614055526288555, 0.02579033210411931, 0.007982721841751216, 0.00859677736803977, 0.01473733263092532, 0.007982721841751216, 0.8881396224969494, 0.0031421161492014593, 0.7603921081067532, 0.0062842322984029185, 0.021994813044410214, 0.009426348447604378, 0.19481120125049048, 0.0062842322984029185, 0.8592566818664422, 0.00987651358467175, 0.039506054338687, 0.00987651358467175, 0.0197530271693435, 0.00987651358467175, 0.049382567923358746, 0.9254022919389137, 0.9571864935353455, 0.9444132591868551, 0.8797073565148648, 0.03138424759614924, 0.8002983137018056, 0.12553699038459695, 0.03138424759614924, 0.18073010674744486, 0.01643000970431317, 0.2135901261560712, 0.01643000970431317, 0.06572003881725268, 0.5093303008337082, 0.9677037469327558, 0.8554373592732595, 0.8905627495075052, 0.07124501996060043, 0.023748339986866807, 0.8135017369511512, 0.9529956114678935, 0.9639567505382945, 0.05361441190911395, 0.5131665139872336, 0.08271937837406153, 0.15165219368577945, 0.01072288238182279, 0.007659201701301993, 0.007659201701301993, 0.047487050548072354, 0.01838208408312478, 0.09344226075588431, 0.01072288238182279, 0.019474295376191705, 0.7984461104238599, 0.06329145997262305, 0.02434286922023963, 0.004868573844047926, 0.002434286922023963, 0.03408001690833549, 0.012171434610119816, 0.041382877674407376, 0.9912308164442988, 0.983103330185048, 0.2744660228219862, 0.009802357957928078, 0.029407073873784235, 0.05391296876860443, 0.029407073873784235, 0.004901178978964039, 0.49501907687536795, 0.009802357957928078, 0.019604715915856157, 0.014703536936892117, 0.03920943183171231, 0.009802357957928078, 0.009802357957928078, 0.07396509460058377, 0.8690898615568594, 0.018491273650145943, 0.018491273650145943, 0.10959569995408519, 0.01594119272059421, 0.01594119272059421, 0.1753531199265363, 0.09564715632356525, 0.4244342561858208, 0.1335074890349765, 0.017933841810668486, 0.003985298180148552, 0.0059779472702228284, 0.001992649090074276, 0.36966273567179947, 0.030609016329512056, 0.023545397176547737, 0.14598146249459595, 0.07534527096495276, 0.009418158870619095, 0.03767263548247638, 0.03767263548247638, 0.22839035261251303, 0.03767263548247638, 0.002354539717654774, 0.014974168587200172, 0.9283984524064106, 0.04492250576160051, 0.3370055198112802, 0.2512222965865907, 0.007659216359347277, 0.024509492349911285, 0.006893294723412549, 0.04672121979201839, 0.011488824539020915, 0.26271112112561157, 0.02604133562178074, 0.009191059631216731, 0.0015318432718694553, 0.0015318432718694553, 0.012254746174955642, 0.9512419460560663, 0.297890920304937, 0.07291036510959997, 0.036455182554799986, 0.05624513879883426, 0.14165442364150851, 0.06666090524306283, 0.00624945986653714, 0.036455182554799986, 0.11144870095324566, 0.06874405853190854, 0.023956262821725704, 0.010415766444228567, 0.01562364966634285, 0.0312472993326857, 0.02499783946614856, 0.010177293593327304, 0.865069955432821, 0.07124105515329113, 0.005088646796663652, 0.015265940389990957, 0.005088646796663652, 0.02035458718665461, 0.9543413535351718, 0.006876324379804134, 0.03163109214709901, 0.1444028119758868, 0.020628973139412404, 0.44421055493534706, 0.03438162189902067, 0.06601271404611969, 0.02200423801537323, 0.03713215165094232, 0.0027505297519216537, 0.011002119007686615, 0.09076748181341457, 0.01787844338749075, 0.06601271404611969, 0.004125794627882481, 0.9485578233894634, 0.06694153982844643, 0.12049477169120358, 0.04016492389706786, 0.7631335540442894, 0.07607346777231695, 0.8368081454954864, 0.07116086754796787, 0.017356309158040942, 0.6118098978209432, 0.03644824923188598, 0.05033329655831873, 0.0052068927474122825, 0.011281600952726612, 0.17616653795411558, 0.0008678154579020472, 0.019091940073845036, 0.9748650450799522, 0.007617684435925765, 0.028213646058984312, 0.18677433691047615, 0.2028561151640972, 0.36113466955499923, 0.018338869938339802, 0.09507998721877714, 0.06686634115979283, 0.00451418336943749, 0.0008464093817695294, 0.0016928187635390588, 0.01805673347774996, 0.006771275054156235, 0.0002821364605898431, 0.0008464093817695294, 0.9543798304314105, 0.9549680615852267, 0.024486360553467354, 0.5056949909721505, 0.014448428313490014, 0.46234970603168046, 0.06397535581831001, 0.048676901166105443, 0.1432491662888246, 0.18566760873357363, 0.06536612442305588, 0.0834461162847522, 0.10708918256543197, 0.15785223663865622, 0.04659074825898664, 0.02155691337356098, 0.022947681978306853, 0.02851075639729033, 0.011821533140339893, 0.009039995930848154, 0.004172305814237609, 0.022167030363007902, 0.2733933744770975, 0.08127911133102898, 0.03694505060501317, 0.01477802024200527, 0.01477802024200527, 0.5098416983491818, 0.044334060726015805, 0.9315512869670413, 0.07476421927476071, 0.018691054818690177, 0.8784795764784383, 0.018691054818690177, 0.11534036503471899, 0.054277818839867764, 0.08141672825980165, 0.08141672825980165, 0.0067847273549834705, 0.0067847273549834705, 0.1831876385845537, 0.013569454709966941, 0.4410072780739256, 0.013569454709966941, 0.0067847273549834705, 0.9389743483126441, 0.9254022870137582, 0.9731409273453794, 0.8490507816212127, 0.2411462350625133, 0.28259324421388277, 0.037679099228517705, 0.03014327938281416, 0.04144700915136947, 0.00376790992285177, 0.037679099228517705, 0.0640544686884801, 0.0640544686884801, 0.03391118930566593, 0.00376790992285177, 0.15448430683692257, 0.9642401898311016, 0.44961179468647344, 0.10084041938162053, 0.020471363333110934, 0.05383210357966208, 0.10993880308522538, 0.03563533617245236, 0.05383210357966208, 0.04928291172785965, 0.05383210357966208, 0.017438568765242645, 0.025778753826880434, 0.006823787777703644, 0.005307390493769501, 0.015922171481308502, 0.048427469655140935, 0.9201219234476777, 0.951326097868887, 0.9674419673061517, 0.6059611986282268, 0.06895420536114305, 0.3050701206886935, 0.014626649622060648, 0.0020895213745800926, 0.9577665219776194, 0.9507989208772548, 0.003166890326605022, 0.06650469685870546, 0.10767427110457074, 0.06967158718531048, 0.4275301940916779, 0.025335122612840176, 0.07600536783852052, 0.2058478712293264, 0.01900134195963013, 0.003166890326605022, 0.05041165354174496, 0.7309689763553019, 0.08822039369805368, 0.1260291338543624, 0.9245685138560532, 0.8678871825237088, 0.01950308275334177, 0.009751541376670884, 0.009751541376670884, 0.01950308275334177, 0.009751541376670884, 0.03900616550668354, 0.9631656981806547, 0.012199356519196184, 0.17782908156828284, 0.04551298393700115, 0.10134850031332215, 0.06850407891548627, 0.09008755583406414, 0.4405844527509699, 0.016891416718887026, 0.005161266219659924, 0.014076180599072521, 0.013606974579103436, 0.006099678259598092, 0.000469206019969084, 0.007976502339474428, 0.18304769279158187, 0.05393369519751966, 0.22880961598947733, 0.08335207439616674, 0.10868456759500172, 0.002451531599887257, 0.20429429999060475, 0.01879507559913564, 0.038407328398233694, 0.011440480799473867, 0.01634354399924838, 0.04331039159800821, 0.003268708799849676, 0.002451531599887257, 0.02750440940183909, 0.15815035406057476, 0.006876102350459773, 0.06188492115413795, 0.17877866111195406, 0.025212375285019163, 0.018336272934559392, 0.41485817514440626, 0.0573008529204981, 0.009168136467279696, 0.004584068233639848, 0.01146017058409962, 0.02292034116819924, 0.9571007224650266, 0.132919461496349, 0.15301947762506518, 0.10698395681413456, 0.0265838922992698, 0.1860872460948886, 0.04603552081093063, 0.1277323605599061, 0.08104845213192012, 0.016209690426384024, 0.001945162851166083, 0.0414968074915431, 0.05446455983265032, 0.007132263787608971, 0.007780651404664332, 0.010374201872885775, 0.9385389710461667, 0.06913060299155625, 0.10986827975443762, 0.11110275480785828, 0.150605956517319, 0.06666165288471497, 0.09999247932707245, 0.012344750534206476, 0.12838540555574735, 0.07777192836550079, 0.022220550961571654, 0.020986075908151006, 0.06419270277787367, 0.00493790021368259, 0.06048927761761173, 0.9850899042638422, 0.025294271531858356, 0.10370651328061926, 0.1062359404338051, 0.13911849342522098, 0.027823698685044192, 0.14417734773159263, 0.03035312583823003, 0.015176562919115014, 0.11635364904654845, 0.1897070364889377, 0.037941407297787534, 0.020235417225486687, 0.005058854306371672, 0.005058854306371672, 0.03288255299141586, 0.023644273096833708, 0.047288546193667416, 0.898482377679681, 0.7843231146109092, 0.03565105066413223, 0.05602307961506494, 0.020372028950932704, 0.05602307961506494, 0.005093007237733176, 0.03565105066413223, 0.8808714609579072, 0.07758945075184591, 0.07040524234889721, 0.099142075960692, 0.19397362687961478, 0.037357883695333216, 0.22558414385258904, 0.09626839259951252, 0.005747366722358956, 0.099142075960692, 0.054599983862410086, 0.004310525041769217, 0.008621050083538435, 0.020115783528256347, 0.007184208402948695, 0.05553633813891423, 0.006170704237657137, 0.1172433805154856, 0.07404845085188565, 0.08638985932719992, 0.17895042289205698, 0.037024225425942824, 0.049365633901257096, 0.09873126780251419, 0.018512112712971412, 0.012341408475314274, 0.24682816950628547, 0.014119192514713616, 0.00847151550882817, 0.0367099005382554, 0.6494828556768264, 0.02541454652648451, 0.05930060856179719, 0.0028238385029427234, 0.011295354011770894, 0.019766869520599063, 0.1440157636500789, 0.02541454652648451, 0.02620638740586768, 0.09172235592053687, 0.7905593534103417, 0.00873546246862256, 0.00873546246862256, 0.06988369974898048, 0.0727938007329954, 0.8735256087959449, 0.9603034536867213, 0.9859968355167741, 0.8936913829045237, 0.16192542670247934, 0.07929528904881139, 0.06262104602452861, 0.11486700750061463, 0.08596498625852449, 0.11005000396026626, 0.08559444752465155, 0.06632643336325812, 0.07447828550846303, 0.05187542274221305, 0.07225505310522533, 0.011857239483934412, 0.0025937711371106526, 0.01074562328231556, 0.00926346834682376, 0.013098880590821923, 0.07204384324952058, 0.4464535134705139, 0.27180177225955493, 0.034930348242191794, 0.13317195267335621, 0.002183146765136987, 0.014190453973390417, 0.010915733825684936, 0.9272043804307026, 0.1725442707949928, 0.12227546749251458, 0.07879974571739828, 0.03939987285869914, 0.05434465221889537, 0.027172326109447684, 0.09238590877212213, 0.046192954386061066, 0.0869514435502326, 0.05570326852436776, 0.0434757217751163, 0.08831005985570498, 0.020379244582085763, 0.017662011971140996, 0.05570326852436776, 0.044394747782285034, 0.029596498521523358, 0.08878949556457007, 0.029596498521523358, 0.059192997043046716, 0.014798249260761679, 0.45874572708361205, 0.2663684866937102, 0.050182549309064774, 0.012545637327266193, 0.1630932852544605, 0.06272818663633097, 0.050182549309064774, 0.06272818663633097, 0.13800201059992812, 0.03763691198179858, 0.388914757145252, 0.025091274654532387, 0.16571162456007338, 0.08285581228003669, 0.7457023105203302, 0.013565558324689682, 0.006782779162344841, 0.013565558324689682, 0.9292407452412431, 0.006782779162344841, 0.013565558324689682, 0.006782779162344841, 0.04019047548155026, 0.008737059887293534, 0.01223188384221095, 0.001747411977458707, 0.8684637527969774, 0.015726707797128363, 0.005242235932376121, 0.006989647909834828, 0.005242235932376121, 0.033200827571715434, 0.15696276183599644, 0.03608339352551643, 0.05592925996455046, 0.04330007223061971, 0.24807333048792543, 0.07757929607986032, 0.016237527086482392, 0.13801898023510034, 0.009020848381379107, 0.0018041696762758214, 0.0072166787051032855, 0.0018041696762758214, 0.1686898647317893, 0.03518130868737852, 0.002706254514413732, 0.051638459441180624, 0.02660163062121426, 0.03599044142870165, 0.13457295490731921, 0.043814450434941137, 0.11892493689484022, 0.07824009006239489, 0.05789766664617221, 0.05476806304367642, 0.3771172341007433, 0.0031296036024957953, 0.006259207204991591, 0.010953612608735284, 0.9659329459637843, 0.08143750506261858, 0.03193627649514454, 0.23153800458979795, 0.4870282165509543, 0.007984069123786136, 0.022355393546601182, 0.05908211151601741, 0.025549021196115636, 0.014371324422815045, 0.007984069123786136, 0.014371324422815045, 0.0175649520723295, 0.5997589698266569, 0.026760898916150046, 0.03463175153854712, 0.03148341048958829, 0.10232108409116195, 0.01416753472031473, 0.011019193671355901, 0.14797202930106496, 0.007870852622397072, 0.01416753472031473, 0.009445023146876487, 0.8948523618160841, 0.08285670016815593, 0.9648379511803733, 0.7828913505407822, 0.008029654877341355, 0.0722668938960722, 0.03211861950936542, 0.008029654877341355, 0.012044482316012033, 0.012044482316012033, 0.06423723901873084, 0.9707757189571694, 0.01753723088368143, 0.7014892353472572, 0.0035074461767362858, 0.07014892353472572, 0.0035074461767362858, 0.04910424647430801, 0.010522338530208859, 0.14029784706945145, 0.017983767267495746, 0.1958232435793981, 0.06793867634387281, 0.13987374541385578, 0.009990981815275413, 0.003996392726110166, 0.019981963630550825, 0.013987374541385579, 0.057947694528597396, 0.13188095996163546, 0.12188997814636005, 0.02198015999360591, 0.1278845672355253, 0.003996392726110166, 0.06594047998081773, 0.27213845634478423, 0.059312227664888875, 0.03140059111670587, 0.00697790913704575, 0.390762911674562, 0.03837850025375163, 0.00697790913704575, 0.027911636548183, 0.08024595507602612, 0.06629013680193463, 0.017444772842614375, 0.9208660178293167, 0.5726084656098703, 0.07085790377112108, 0.04213172656661253, 0.06702774681051994, 0.1455459645028433, 0.021065863283306265, 0.0631975898499188, 0.009575392401502849, 0.0019150784803005697, 0.005745235440901709, 0.9937250288329736, 0.15779748478770686, 0.045084995653630534, 0.766444926111719, 0.023175660290626295, 0.08111481101719203, 0.15643570696172748, 0.42874971537658646, 0.003862610048437716, 0.10429047130781832, 0.042488710532814875, 0.005793915072656574, 0.03476349043593944, 0.02703827033906401, 0.02703827033906401, 0.007725220096875432, 0.028969575363282866, 0.003862610048437716, 0.025106965314845152, 0.008950035246166409, 0.1029254053309137, 0.19242575779257778, 0.219275863531077, 0.013425052869249613, 0.09845038770783049, 0.1253004934463297, 0.008950035246166409, 0.2237508811541602, 0.004475017623083204, 0.9746732399497986, 0.9420842601786534, 0.9701532716417924, 0.1087225857116718, 0.02045276364873034, 0.0845022077065964, 0.09419035890862656, 0.3401617533157257, 0.03767614356345063, 0.04628783352081077, 0.06404944405786607, 0.02529683924974542, 0.007535228712690125, 0.048978986632485816, 0.07427582588223124, 0.008611689957360143, 0.03929083543045565, 0.9584052719541706, 0.9507989206628452, 0.14690145813320263, 0.008641262243129565, 0.008641262243129565, 0.8295611753404383, 0.8670952711532821, 0.22875912947059146, 0.020796284497326498, 0.015597213372994871, 0.02599535562165812, 0.08318513798930599, 0.14557399148128547, 0.4367219744438564, 0.03639349787032137, 0.8490507825809442, 0.8763310985184992, 0.025218161108446022, 0.006304540277111506, 0.06304540277111505, 0.025218161108446022, 0.9705020204158561, 0.9056622124698332, 0.4798460141956171, 0.029846881265756086, 0.02755096732223639, 0.03443870915279548, 0.15612214815933953, 0.036734623096315186, 0.018367311548157593, 0.006887741830559097, 0.032142795209275786, 0.011479569717598495, 0.016071397604637893, 0.009183655774078796, 0.006887741830559097, 0.11709161111950465, 0.018367311548157593, 0.960423814912934, 0.05384773540101395, 0.9154115018172372, 0.04471405062022698, 0.13414215186068093, 0.7223038946344358, 0.055032677686433204, 0.03783496590942283, 0.9799840524785747, 0.9631656975350807, 0.3141480623493876, 0.043330767220605186, 0.19498845249272334, 0.021665383610302593, 0.42247498040090053, 0.04384460328232473, 0.11204731949927431, 0.08525339527118697, 0.15102030019467408, 0.07307433880387455, 0.00974324517384994, 0.11935475337966177, 0.012179056467312425, 0.0316655468150123, 0.28742573262857324, 0.02435811293462485, 0.03897298069539976, 0.012179056467312425, 0.16462761815134955, 0.4832087445489736, 0.15723784975552837, 0.045570238440897255, 0.03612775660179242, 0.03448558584716549, 0.005747597641194249, 0.012726823348358693, 0.02996961627194144, 0.000821085377313464, 0.015600622168955818, 0.0036948841979105884, 0.0028737988205971244, 0.007389768395821177, 0.9803491103360868, 0.9048279217984991, 0.08352257739678454, 0.051358766895514676, 0.9244578041192641, 0.9602730061740558, 0.9958689474971307, 0.23146388589009742, 0.030190941637838795, 0.020127294425225862, 0.040254588850451724, 0.06038188327567759, 0.020127294425225862, 0.5535005966937112, 0.040254588850451724, 0.010063647212612931, 0.893029585629532, 0.930592186681064, 0.9792873086708791, 0.054310283136879155, 0.8689645301900665, 0.02961400327456767, 0.08884200982370301, 0.14807001637283834, 0.7403500818641917, 0.1787155620420038, 0.09218332350387944, 0.03531928103596913, 0.0935960947453182, 0.022957532673379938, 0.24264346071710793, 0.0695789836408592, 0.048387415019277714, 0.0769960326584127, 0.10030675814215234, 0.020131990190502404, 0.007063856207193827, 0.002825542482877531, 0.006710663396834135, 0.002825542482877531, 0.11917359423171554, 0.11588928257966039, 0.0600559844947228, 0.1614004583295675, 0.009383747577300436, 0.19377438747125403, 0.062401921389047904, 0.022051806806656027, 0.07413160586067345, 0.1355951524919913, 0.027212867974171266, 0.0032843116520551528, 0.012198871850490567, 0.0009383747577300437, 0.0032843116520551528, 0.9349389031058085, 0.8670952697753092, 0.8935963552989454, 0.9267407508367178, 0.017005317450648556, 0.11285347035430404, 0.15768567090601388, 0.1607775468061318, 0.13836144653027688, 0.14841004320566012, 0.03323766592626763, 0.10435081162897977, 0.02628094515100231, 0.02628094515100231, 0.010821565650412717, 0.02628094515100231, 0.016232348475619076, 0.006956720775265318, 0.015459379500589596, 0.05451564483024496, 0.029075010576130645, 0.018171881610081653, 0.05451564483024496, 0.09812816069444093, 0.010903128966048992, 0.021806257932097985, 0.7087033827931845, 0.9004523100768198, 0.04099475165514682, 0.942879288068377, 0.9705898331875804, 0.9327365345599213, 0.09485825349511784, 0.0569149520970707, 0.12762746833888583, 0.048291474506605446, 0.02242104173520967, 0.12417807730269971, 0.28112536944916744, 0.13625094592935108, 0.04311738795232629, 0.008623477590465257, 0.0017246955180930516, 0.018971650699023568, 0.01034817310855831, 0.027595128289488825, 0.05092271842200116, 0.05658079824666796, 0.03394847894800077, 0.06789695789600154, 0.6280468605380143, 0.07921311754533514, 0.05092271842200116, 0.016974239474000386, 0.011316159649333591, 0.1030208878066275, 0.0068680591871085, 0.0343402959355425, 0.0114467653118475, 0.567759559467636, 0.059523179621607, 0.0160254714365865, 0.105310240868997, 0.013736118374217, 0.0114467653118475, 0.013736118374217, 0.0572338265592375, 0.041633561104764974, 0.8436274223860272, 0.015338680407018674, 0.02191240058145525, 0.0087649602325821, 0.0175299204651642, 0.024103640639600774, 0.019721160523309723, 0.0087649602325821, 0.026077910901654424, 0.7208679656385901, 0.10989976737125792, 0.04284228219557513, 0.0037254158430934893, 0.018627079215467444, 0.022352495058560934, 0.009313539607733722, 0.04097957427402838, 0.0037254158430934893, 0.1604837924994048, 0.0047905609701314866, 0.6610974138781452, 0.011976402425328717, 0.0023952804850657433, 0.016766963395460206, 0.02155752436559169, 0.03353392679092041, 0.08623009746236676, 0.03389134328261775, 0.0542261492521884, 0.3423025671544393, 0.5219266865523134, 0.00677826865652355, 0.02033480596957065, 0.003389134328261775, 0.003389134328261775, 0.010167402984785325, 0.09405476161956894, 0.12540634882609192, 0.03135158720652298, 0.03135158720652298, 0.7210865057500285, 0.035683775719963534, 0.019824319844424183, 0.07136755143992707, 0.06343782350215739, 0.1189459190665451, 0.011894591906654511, 0.06740268747104222, 0.09515673525323609, 0.4400999005462169, 0.02775404778219386, 0.043613503657733206, 0.9543798328826848, 0.9631656995665501, 0.03472354876784502, 0.01157451625594834, 0.0578725812797417, 0.18519226009517345, 0.03472354876784502, 0.6713219428450037, 0.021755878707567226, 0.060432996409908964, 0.41819633515657006, 0.14262187152738515, 0.009669279425585434, 0.031425158133152664, 0.024173198563963588, 0.041094437558738095, 0.024173198563963588, 0.0024173198563963586, 0.004834639712792717, 0.031425158133152664, 0.021755878707567226, 0.17162970980414147, 0.9655999957322717, 0.9411378398099812, 0.025436157832702196, 0.9597397720885251, 0.011362897069847734, 0.011362897069847734, 0.011362897069847734, 0.022725794139695468, 0.6931367212607118, 0.0340886912095432, 0.011362897069847734, 0.2045321472572592, 0.9512419444049215, 0.9566043337848246, 0.12575351611286786, 0.10513818560256166, 0.02886146271442869, 0.21439943730718458, 0.002061533051030621, 0.10513818560256166, 0.010307665255153104, 0.34839908562417493, 0.039169127969581795, 0.006184599153091863, 0.006184599153091863, 0.006184599153091863, 0.002061533051030621, 0.5258344211516187, 0.44247042755441085, 0.03206307446046456, 0.05697839945466548, 0.15953951847306333, 0.034187039672799284, 0.011395679890933095, 0.6495537537831865, 0.09116543912746476, 0.9004523123780187, 0.9004523123780187, 0.1428023400893404, 0.7854128704913721, 0.1673684029363327, 0.23852018775950798, 0.08893973102896907, 0.14634628469312186, 0.02021357523385661, 0.04285277949577601, 0.11238747830024275, 0.009702516112251171, 0.05498092463608997, 0.06872615579511247, 0.03557589241158763, 0.0032341720374170573, 0.007276887084188379, 0.004042715046771322, 0.9792873087837504, 0.1896102733592912, 0.0100274663795779, 0.0209665206118447, 0.0109390542322668, 0.2990008156819592, 0.1203295965549348, 0.0401098655183116, 0.22972013887760281, 0.0191433449064669, 0.0072927028215112, 0.0510489197505784, 0.9407044792242949, 0.40472141443179344, 0.035741631404366175, 0.16819591249113494, 0.16504223913192614, 0.01892204015525268, 0.02049887683485707, 0.09355897632319381, 0.0010512244530695933, 0.019447652381787476, 0.01419153011643951, 0.0021024489061391865, 0.0010512244530695933, 0.01419153011643951, 0.042048978122783735, 0.9851079379612488, 0.7772923870370821, 0.0794137732886183, 0.009625911913771915, 0.0048129559568859575, 0.045723081590416596, 0.016845345849100853, 0.02165830180598681, 0.007219433935328937, 0.03128421371975872, 0.0048129559568859575, 0.9477105257986879, 0.02868177306649817, 0.3154995037314799, 0.04015448229309744, 0.011472709226599268, 0.5851081705565627, 0.0172090638398989, 0.25754271652173455, 0.041565438425976146, 0.006520068772702141, 0.027710292283984098, 0.1809319084424844, 0.08639091123830336, 0.07253576509631132, 0.07742581667583792, 0.025265266494220798, 0.006520068772702141, 0.16544674510731683, 0.04319545561915168, 0.007335077369289908, 0.0016300171931755353, 0.9233987435793913, 0.8930295858020955, 0.0013570525471595888, 0.16556041075346983, 0.020355788207393834, 0.09092252065969246, 0.03256926113183013, 0.08413725792389451, 0.0027141050943191775, 0.40711576414787665, 0.14113346490459724, 0.014927578018755478, 0.0067852627357979445, 0.008142315282957533, 0.016284630565915066, 0.009499367830117122, 0.9392992224370207, 0.9668134570009795, 0.19656610066675032, 0.2227749140889837, 0.1048352536889335, 0.03931322013335006, 0.013104406711116687, 0.4062366080446173, 0.9543027878148854, 0.9657431780671437, 0.024143579451678592, 0.2831629452308586, 0.04086887869311361, 0.0642225236606071, 0.37949673072176926, 0.16347551477245445, 0.035030467451240235, 0.020434439346556806, 0.011676822483746746, 0.0029192056209366864, 0.9607860373752445, 0.893596352358512, 0.8735965080677105, 0.9127249538373712, 0.9655999958641839, 0.9537701410110786, 0.9315352407225375, 0.9543027877115202, 0.09392972351027122, 0.09392972351027122, 0.7514377880821698, 0.18863121483913384, 0.02357890185489173, 0.07073670556467519, 0.707367055646752, 0.21181678215925862, 0.762540415773331, 0.026110974945508316, 0.09356432688807147, 0.03699054783947012, 0.06310152278497844, 0.05657377904860135, 0.4199515137069254, 0.010879572893961797, 0.09791615604565619, 0.06962926652135551, 0.03263871868188539, 0.030462804103093034, 0.0021759145787923597, 0.004351829157584719, 0.006527743736377079, 0.05004603531222427, 0.9179716314744164, 0.04172598324883711, 0.012660803628286744, 0.1329384380970108, 0.012660803628286744, 0.14559924172529756, 0.03165200907071686, 0.10761683084043733, 0.10761683084043733, 0.012660803628286744, 0.03165200907071686, 0.050643214513146975, 0.044312812699003605, 0.3165200907071686, 0.03245043002823858, 0.03245043002823858, 0.843711180734203, 0.06490086005647716, 0.9432988801944158, 0.8183913062315752, 0.9721822295835173, 0.9768490515692713, 0.9056622125047068, 0.8960370387391784, 0.09600396843634054, 0.14831542867567485, 0.01225747344427065, 0.06373886191020738, 0.04167540971052021, 0.02941793626624956, 0.11889749240942529, 0.008580231410989455, 0.14218669195353953, 0.2610841843629648, 0.053932883154790855, 0.047804146432655535, 0.0245149468885413, 0.047804146432655535, 0.001225747344427065, 0.11108519821592015, 0.2740101555992697, 0.02221703964318403, 0.5628316709606621, 0.029622719524245375, 0.25521994837338285, 0.016290635002556356, 0.12489486835293205, 0.05430211667518785, 0.09231359834781934, 0.027151058337593924, 0.07602296334526298, 0.016290635002556356, 0.05973232834270663, 0.04344169334015028, 0.23349910170330773, 0.879707359875078, 0.8633626607629135, 0.8633626605014025, 0.0016289556164672738, 0.05701344657635458, 0.20687736329134376, 0.0032579112329345476, 0.5538449095988731, 0.17755616219493284, 0.9272043829463525, 0.9599842207808214, 0.010139593278743104, 0.016899322131238508, 0.09463620393493563, 0.013519457704990806, 0.006759728852495403, 0.8584855642669161, 0.9221748674387203, 0.04021260404987434, 0.0982974765663595, 0.053616805399832455, 0.04468067116652705, 0.0893613423330541, 0.004468067116652705, 0.272552094115815, 0.06255293963313786, 0.026808402699916228, 0.3082966310490366, 0.015249702709480931, 0.9149821625688559, 0.015249702709480931, 0.045749108128442795, 0.0076248513547404655, 0.02068088356967926, 0.7341713667236137, 0.12408530141807556, 0.01034044178483963, 0.07238309249387741, 0.02068088356967926, 0.02055377235645423, 0.17984550811897448, 0.20707925649127634, 0.1567225142179635, 0.03905216747726303, 0.0950611971486008, 0.0313445028435927, 0.033399880079238116, 0.09660273007533486, 0.07656280202779199, 0.015929173576252027, 0.007193820324758979, 0.008735353251493046, 0.007193820324758979, 0.024664526827745073, 0.07259817363127294, 0.8711780835752754, 0.4469831923815869, 0.06833191331810466, 0.008220380549546425, 0.023119820295599322, 0.05394624735639842, 0.0806624841424243, 0.07192832980853123, 0.031853974629492396, 0.02260604651125267, 0.15207704016660886, 0.02568868921733258, 0.008220380549546425, 0.005137737843466516, 0.0015413213530399547, 0.9389743482212077, 0.9121756195587871, 0.06569045327613471, 0.07763417205361374, 0.023887437554958077, 0.16721206288470652, 0.6151015170401705, 0.035831156332437115, 0.005971859388739519, 0.005971859388739519, 0.04766333616704061, 0.9532667233408123, 0.9165264591985389, 0.15285132306520727, 0.7642566153260364, 0.03821283076630182, 0.8735965062542016], \"Term\": [\"access\", \"access\", \"access\", \"access\", \"access\", \"access\", \"access\", \"access\", \"access\", \"access\", \"access\", \"access\", \"access\", \"access\", \"accessibility\", \"accessibility\", \"accessibility\", \"accessibility\", \"accessibility\", \"account\", \"account\", \"account\", \"account\", \"account\", \"account\", \"account\", \"account\", \"account\", \"account\", \"account\", \"account\", \"account\", \"account\", \"account\", \"accuracy\", \"accuracy\", \"accuracy\", \"accuracy\", \"accuracy\", \"accuracy\", \"accuracy\", \"accuracy\", \"acquia\", \"activity\", \"activity\", \"activity\", \"activity\", \"activity\", \"activity\", \"activity\", \"activity\", \"activity\", \"activity\", \"activity\", \"activity\", \"activity\", \"activity\", \"activity\", \"actually\", \"actually\", \"actually\", \"actually\", \"actually\", \"actually\", \"actually\", \"actually\", \"actually\", \"actually\", \"actually\", \"actually\", \"actually\", \"actually\", \"actually\", \"additive\", \"address\", \"address\", \"address\", \"address\", \"address\", \"address\", \"address\", \"address\", \"address\", \"address\", \"address\", \"address\", \"address\", \"address\", \"adtech\", \"african\", \"african\", \"agency\", \"agency\", \"agency\", \"agency\", \"agency\", \"agency\", \"agency\", \"agency\", \"aggregated\", \"aggregation\", \"aggregation\", \"aggregation\", \"aggregation\", \"agile\", \"agile\", \"agile\", \"agriculture\", \"agriculture\", \"airberlin\", \"airpods\", \"airport\", \"airport\", \"airport\", \"airport\", \"airport\", \"airport\", \"airport\", \"alecrimcoredata\", \"alfred\", \"alfred\", \"algorithm\", \"algorithm\", \"algorithm\", \"algorithm\", \"algorithm\", \"algorithm\", \"algorithm\", \"algorithm\", \"algorithmia\", \"allow\", \"allow\", \"allow\", \"allow\", \"allow\", \"allow\", \"allow\", \"allow\", \"allow\", \"allow\", \"allow\", \"allow\", \"allow\", \"allow\", \"alptitude\", \"ambient\", \"ambient\", \"ambient\", \"ambient\", \"ambient\", \"ambient\", \"ambient\", \"america\", \"america\", \"america\", \"america\", \"america\", \"america\", \"america\", \"america\", \"america\", \"america\", \"america\", \"america\", \"american\", \"american\", \"american\", \"american\", \"american\", \"american\", \"american\", \"american\", \"american\", \"american\", \"american\", \"american\", \"american\", \"analytic\", \"analytic\", \"analytic\", \"analytic\", \"analytic\", \"analytic\", \"analytic\", \"analytic\", \"andrejko\", \"android\", \"android\", \"android\", \"android\", \"android\", \"android\", \"android\", \"android\", \"android\", \"android\", \"angular\", \"angular\", \"angular\", \"angular\", \"animation\", \"animation\", \"animation\", \"animation\", \"animation\", \"animation\", \"animation\", \"apache\", \"apache\", \"apache\", \"apache\", \"apple\", \"apple\", \"apple\", \"apple\", \"apple\", \"apple\", \"apple\", \"apple\", \"apple\", \"application\", \"application\", \"application\", \"application\", \"application\", \"application\", \"application\", \"application\", \"application\", \"application\", \"application\", \"application\", \"application\", \"application\", \"aquifer\", \"aramaic\", \"architecture\", \"architecture\", \"architecture\", \"architecture\", \"architecture\", \"architecture\", \"architecture\", \"architecture\", \"architecture\", \"architecture\", \"architecture\", \"architecture\", \"arjan\", \"array\", \"array\", \"array\", \"array\", \"array\", \"array\", \"array\", \"array\", \"array\", \"array\", \"array\", \"article\", \"article\", \"article\", \"article\", \"article\", \"article\", \"article\", \"article\", \"article\", \"article\", \"article\", \"article\", \"article\", \"artificial\", \"artificial\", \"artificial\", \"artificial\", \"artificial\", \"artist\", \"artist\", \"artist\", \"artist\", \"artist\", \"artist\", \"artist\", \"artist\", \"asked\", \"asset\", \"asset\", \"asset\", \"asset\", \"asset\", \"asset\", \"asset\", \"asset\", \"assistant\", \"assistant\", \"assistant\", \"assistant\", \"assistant\", \"assistant\", \"async\", \"async\", \"async\", \"async\", \"attribute\", \"attribute\", \"attribute\", \"attribute\", \"attribute\", \"attribute\", \"attribute\", \"attribute\", \"attribute\", \"attribute\", \"attribute\", \"attribute\", \"audits\", \"aurelia\", \"authentication\", \"authentication\", \"authentication\", \"authentication\", \"authentication\", \"authentication\", \"authentication\", \"authentication\", \"authentication\", \"autocomplete\", \"autocomplete\", \"autofill\", \"autonomous\", \"autonomous\", \"autonomous\", \"autonomous\", \"autonomous\", \"autonomous\", \"autonomous\", \"available\", \"available\", \"available\", \"available\", \"available\", \"available\", \"available\", \"available\", \"available\", \"available\", \"available\", \"available\", \"available\", \"available\", \"available\", \"await\", \"await\", \"await\", \"await\", \"await\", \"await\", \"awards\", \"awards\", \"bacca\", \"backend\", \"backend\", \"backend\", \"backend\", \"backend\", \"backend\", \"backend\", \"backend\", \"backlog\", \"backlog\", \"backlog\", \"bacteria\", \"bacteria\", \"bacteria\", \"balancer\", \"balancing\", \"balancing\", \"balancing\", \"balancing\", \"banking\", \"banking\", \"banking\", \"banking\", \"banking\", \"banks\", \"barbell\", \"barcode\", \"barcode\", \"battery\", \"battery\", \"battery\", \"battery\", \"battery\", \"battery\", \"battery\", \"battery\", \"battery\", \"battery\", \"battery\", \"baveja\", \"bayesian\", \"bcrypt\", \"beacon\", \"beacon\", \"beacon\", \"beacon\", \"bengio\", \"bessen\", \"bezos\", \"bezos\", \"bezos\", \"bicycle\", \"bicycle\", \"bicycle\", \"bicycle\", \"bigquery\", \"bigquery\", \"bigtable\", \"bisect\", \"bitcasa\", \"bitcoin\", \"bitcoin\", \"bitcoin\", \"bitcoin\", \"bitfury\", \"bitfury\", \"bixpy\", \"black\", \"black\", \"black\", \"black\", \"black\", \"black\", \"black\", \"black\", \"black\", \"black\", \"black\", \"blake\", \"blockchain\", \"blomfield\", \"bluemix\", \"bluemix\", \"bluemix\", \"bluetooth\", \"bluetooth\", \"bluetooth\", \"bluetooth\", \"boards\", \"boards\", \"boards\", \"boards\", \"boehme\", \"boots\", \"botsman\", \"brain\", \"brain\", \"brain\", \"brain\", \"brain\", \"brain\", \"brainprint\", \"braintree\", \"brand\", \"brand\", \"brand\", \"brand\", \"brand\", \"brand\", \"brand\", \"brand\", \"brand\", \"brand\", \"brazil\", \"brazil\", \"brazil\", \"brazil\", \"brazilians\", \"brockman\", \"browser\", \"browser\", \"browser\", \"browser\", \"browser\", \"browser\", \"browser\", \"browser\", \"browser\", \"browser\", \"bucket\", \"bucket\", \"bucket\", \"bucket\", \"budget\", \"budget\", \"budget\", \"budget\", \"budget\", \"budget\", \"budget\", \"budget\", \"budget\", \"budget\", \"budget\", \"build\", \"build\", \"build\", \"build\", \"build\", \"build\", \"build\", \"build\", \"build\", \"build\", \"build\", \"build\", \"build\", \"build\", \"bundle\", \"bundle\", \"bundle\", \"bundle\", \"bundle\", \"bundle\", \"bundle\", \"bundle\", \"bundle\", \"bunnell\", \"burda\", \"burndown\", \"burnout\", \"business\", \"business\", \"business\", \"business\", \"business\", \"business\", \"business\", \"business\", \"business\", \"business\", \"business\", \"business\", \"business\", \"button\", \"button\", \"button\", \"button\", \"button\", \"button\", \"button\", \"button\", \"button\", \"button\", \"button\", \"button\", \"button\", \"buyer\", \"buyer\", \"buyer\", \"buyer\", \"buyer\", \"buyer\", \"buyer\", \"buytaert\", \"buzzfeed\", \"calayer\", \"callahan\", \"camera\", \"camera\", \"camera\", \"camera\", \"camera\", \"camera\", \"camera\", \"camera\", \"cannabis\", \"cappuccino\", \"caravel\", \"caravel\", \"cardboard\", \"cassandra\", \"catmull\", \"catransaction\", \"causal\", \"causal\", \"cello\", \"centauri\", \"ceramic\", \"cersei\", \"change\", \"change\", \"change\", \"change\", \"change\", \"change\", \"change\", \"change\", \"change\", \"change\", \"change\", \"change\", \"change\", \"change\", \"change\", \"chart\", \"chart\", \"chart\", \"chart\", \"chart\", \"chart\", \"chart\", \"chart\", \"chart\", \"chart\", \"chart\", \"chart\", \"chart\", \"chasm\", \"cheque\", \"cheque\", \"cheque\", \"cheque\", \"chester\", \"child\", \"child\", \"child\", \"child\", \"child\", \"child\", \"child\", \"child\", \"child\", \"child\", \"child\", \"child\", \"chirp\", \"chrome\", \"chrome\", \"chrome\", \"chrome\", \"chrome\", \"chrome\", \"chromebooks\", \"chromebooks\", \"chromecast\", \"churn\", \"churn\", \"churn\", \"churn\", \"churn\", \"churn\", \"churn\", \"churn\", \"circuit\", \"circuit\", \"circuit\", \"circuit\", \"circuit\", \"circuit\", \"citrus\", \"claire\", \"class\", \"class\", \"class\", \"class\", \"class\", \"class\", \"class\", \"class\", \"class\", \"class\", \"class\", \"class\", \"class\", \"class\", \"classification\", \"classification\", \"classifier\", \"click\", \"click\", \"click\", \"click\", \"click\", \"click\", \"click\", \"click\", \"click\", \"click\", \"click\", \"click\", \"clinton\", \"clinton\", \"clinton\", \"cloud\", \"cloud\", \"cloud\", \"cloud\", \"cloud\", \"cloud\", \"cloud\", \"cloud\", \"cloud\", \"cloudfront\", \"cloudhsm\", \"cloudwatch\", \"cluster\", \"cluster\", \"cluster\", \"cluster\", \"cluster\", \"cluster\", \"cluster\", \"cluster\", \"coach\", \"coach\", \"coach\", \"coach\", \"coach\", \"coach\", \"coach\", \"coaching\", \"coaching\", \"coaching\", \"coauthor\", \"coauthor\", \"coffee\", \"coffee\", \"coffee\", \"coffee\", \"coffee\", \"coffee\", \"coffee\", \"coffee\", \"cognizant\", \"cognizant\", \"coindesk\", \"coinfest\", \"coldline\", \"collection\", \"collection\", \"collection\", \"collection\", \"collection\", \"collection\", \"collection\", \"collection\", \"collection\", \"collection\", \"collection\", \"collection\", \"collection\", \"collection\", \"color\", \"color\", \"color\", \"color\", \"color\", \"color\", \"color\", \"color\", \"color\", \"color\", \"color\", \"comic\", \"comic\", \"command\", \"command\", \"command\", \"command\", \"command\", \"command\", \"command\", \"command\", \"command\", \"command\", \"command\", \"command\", \"commerce\", \"commerce\", \"commerce\", \"commerce\", \"commerce\", \"commerce\", \"commerce\", \"commerce\", \"commerce\", \"commit\", \"commit\", \"commit\", \"commit\", \"commit\", \"commit\", \"commit\", \"commit\", \"commit\", \"commit\", \"commit\", \"commit\", \"community\", \"community\", \"community\", \"community\", \"community\", \"community\", \"community\", \"community\", \"community\", \"community\", \"community\", \"community\", \"community\", \"community\", \"community\", \"company\", \"company\", \"company\", \"company\", \"company\", \"company\", \"company\", \"company\", \"company\", \"company\", \"company\", \"company\", \"company\", \"company\", \"compiler\", \"compiler\", \"compiler\", \"compiler\", \"compiler\", \"component\", \"component\", \"component\", \"component\", \"component\", \"component\", \"component\", \"component\", \"component\", \"component\", \"component\", \"component\", \"component\", \"compound\", \"compound\", \"compound\", \"compound\", \"compound\", \"compound\", \"compound\", \"compound\", \"compound\", \"computational\", \"computational\", \"computational\", \"compute\", \"compute\", \"compute\", \"compute\", \"compute\", \"compute\", \"compute\", \"compute\", \"computer\", \"computer\", \"computer\", \"computer\", \"computer\", \"computer\", \"computer\", \"computer\", \"computer\", \"computer\", \"computer\", \"computer\", \"computer\", \"computer\", \"computer\", \"concatenation\", \"conditional\", \"conditional\", \"conditional\", \"configuration\", \"configuration\", \"configuration\", \"configuration\", \"configuration\", \"configuration\", \"configuration\", \"configuration\", \"configuration\", \"configure\", \"configure\", \"configure\", \"configure\", \"configure\", \"configure\", \"configure\", \"configure\", \"conjugate\", \"connections\", \"consensys\", \"consortium\", \"consortium\", \"consortium\", \"constraint\", \"constraint\", \"constraint\", \"constraint\", \"constraint\", \"constraint\", \"constraint\", \"constraint\", \"constraint\", \"constraint\", \"constraint\", \"constraintlayout\", \"constructor\", \"consultancy\", \"consultancy\", \"consultancy\", \"consumer\", \"consumer\", \"consumer\", \"consumer\", \"consumer\", \"consumer\", \"consumer\", \"consumer\", \"consumer\", \"consumer\", \"consumer\", \"consumer\", \"contain\", \"contain\", \"contain\", \"contain\", \"contain\", \"contain\", \"contain\", \"contain\", \"contain\", \"contain\", \"contain\", \"contain\", \"contain\", \"container\", \"container\", \"container\", \"container\", \"container\", \"container\", \"containers\", \"containers\", \"containment\", \"containment\", \"containment\", \"content\", \"content\", \"content\", \"content\", \"content\", \"content\", \"content\", \"content\", \"content\", \"content\", \"content\", \"content\", \"content\", \"content\", \"content\", \"continuous\", \"continuous\", \"continuous\", \"continuous\", \"continuous\", \"continuous\", \"continuous\", \"continuous\", \"contract\", \"contract\", \"contract\", \"contract\", \"contract\", \"contract\", \"contract\", \"contract\", \"contrib\", \"contrib\", \"contribute\", \"contribute\", \"contribute\", \"contribute\", \"contribute\", \"contribute\", \"contribute\", \"contribute\", \"contribute\", \"contribute\", \"contribute\", \"contribute\", \"contribute\", \"contribute\", \"contributed\", \"contributor\", \"contributor\", \"contributor\", \"contributor\", \"contributor\", \"contributor\", \"contributor\", \"contributor\", \"contributor\", \"contributor\", \"conversion\", \"conversion\", \"conversion\", \"conversion\", \"conversion\", \"conversion\", \"conversion\", \"converter\", \"converter\", \"converter\", \"converter\", \"converter\", \"convolutional\", \"cookie\", \"cookie\", \"cookie\", \"cookie\", \"cookie\", \"cookie\", \"cookie\", \"copywrite\", \"corda\", \"corda\", \"corrado\", \"count\", \"count\", \"count\", \"count\", \"count\", \"count\", \"count\", \"count\", \"count\", \"count\", \"count\", \"count\", \"count\", \"country\", \"country\", \"country\", \"country\", \"country\", \"country\", \"country\", \"country\", \"country\", \"country\", \"country\", \"country\", \"country\", \"country\", \"coverage\", \"coverage\", \"coverage\", \"coverage\", \"coverage\", \"coverage\", \"coverage\", \"coverage\", \"coverage\", \"coverage\", \"crack\", \"crack\", \"crack\", \"crack\", \"crack\", \"crack\", \"crack\", \"crack\", \"crack\", \"create\", \"create\", \"create\", \"create\", \"create\", \"create\", \"create\", \"create\", \"create\", \"create\", \"create\", \"create\", \"create\", \"create\", \"create\", \"credit\", \"credit\", \"credit\", \"credit\", \"credit\", \"credit\", \"credit\", \"credit\", \"credit\", \"credit\", \"credit\", \"credit\", \"credit\", \"credits\", \"credits\", \"credits\", \"credits\", \"credits\", \"creep\", \"creep\", \"creep\", \"creep\", \"creep\", \"cropx\", \"crowdflower\", \"culture\", \"culture\", \"culture\", \"culture\", \"culture\", \"culture\", \"culture\", \"culture\", \"currency\", \"currency\", \"currency\", \"currency\", \"currency\", \"currency\", \"customer\", \"customer\", \"customer\", \"customer\", \"customer\", \"customer\", \"customer\", \"customer\", \"customer\", \"customer\", \"customer\", \"cyclist\", \"cyclist\", \"cyclist\", \"cyclist\", \"dagger\", \"dagger\", \"dagger\", \"dakuten\", \"database\", \"database\", \"database\", \"database\", \"database\", \"database\", \"database\", \"database\", \"database\", \"dataflow\", \"dataflow\", \"dataproc\", \"dataset\", \"dataset\", \"dataset\", \"dataset\", \"dataset\", \"datastax\", \"datastore\", \"datum\", \"datum\", \"datum\", \"datum\", \"datum\", \"datum\", \"datum\", \"datum\", \"datum\", \"datum\", \"datum\", \"datum\", \"datum\", \"datum\", \"datum\", \"death\", \"death\", \"death\", \"death\", \"death\", \"death\", \"death\", \"death\", \"death\", \"death\", \"death\", \"debit\", \"debit\", \"debut\", \"debut\", \"debut\", \"decision\", \"decision\", \"decision\", \"decision\", \"decision\", \"decision\", \"decision\", \"decision\", \"decision\", \"decision\", \"decision\", \"decision\", \"decision\", \"decouple\", \"decouple\", \"decouple\", \"decouple\", \"decouple\", \"decoupled\", \"decoupled\", \"decoupled\", \"decrypt\", \"deepmind\", \"deeptext\", \"default\", \"default\", \"default\", \"default\", \"default\", \"default\", \"default\", \"default\", \"default\", \"default\", \"default\", \"default\", \"default\", \"defect\", \"defect\", \"defect\", \"defect\", \"define\", \"define\", \"define\", \"define\", \"define\", \"define\", \"define\", \"define\", \"define\", \"define\", \"define\", \"define\", \"define\", \"deliver\", \"deliver\", \"deliver\", \"deliver\", \"deliver\", \"deliver\", \"deliver\", \"deliver\", \"deliver\", \"deliver\", \"deliver\", \"deliver\", \"deliver\", \"deliver\", \"delivery\", \"delivery\", \"delivery\", \"delivery\", \"delivery\", \"delivery\", \"delivery\", \"delivery\", \"demandware\", \"dependency\", \"dependency\", \"dependency\", \"dependency\", \"dependency\", \"dependency\", \"dependency\", \"deploy\", \"deploy\", \"deploy\", \"deploy\", \"deploy\", \"deploy\", \"deploy\", \"deploy\", \"deploy\", \"deploy\", \"deployment\", \"deployment\", \"deployment\", \"deployment\", \"deployment\", \"deployment\", \"deployment\", \"deployment\", \"deployment\", \"design\", \"design\", \"design\", \"design\", \"design\", \"design\", \"design\", \"design\", \"design\", \"design\", \"design\", \"design\", \"design\", \"design\", \"design\", \"desktop\", \"desktop\", \"desktop\", \"desktop\", \"desktop\", \"desktop\", \"desktop\", \"desktop\", \"desktop\", \"desktop\", \"developer\", \"developer\", \"developer\", \"developer\", \"developer\", \"developer\", \"developer\", \"developer\", \"developer\", \"developer\", \"developer\", \"developer\", \"developer\", \"developer\", \"development\", \"development\", \"development\", \"development\", \"development\", \"development\", \"development\", \"development\", \"development\", \"development\", \"development\", \"development\", \"development\", \"development\", \"development\", \"device\", \"device\", \"device\", \"device\", \"device\", \"device\", \"device\", \"device\", \"device\", \"device\", \"device\", \"device\", \"device\", \"device\", \"devops\", \"devops\", \"devops\", \"devtools\", \"diageo\", \"different\", \"different\", \"different\", \"different\", \"different\", \"different\", \"different\", \"different\", \"different\", \"different\", \"different\", \"different\", \"different\", \"different\", \"different\", \"digital\", \"digital\", \"digital\", \"digital\", \"digital\", \"digital\", \"digital\", \"digital\", \"digital\", \"digital\", \"digitization\", \"digitization\", \"digitization\", \"directory\", \"directory\", \"directory\", \"directory\", \"directory\", \"directory\", \"display\", \"display\", \"display\", \"display\", \"display\", \"display\", \"display\", \"display\", \"display\", \"display\", \"display\", \"display\", \"display\", \"display\", \"disruption\", \"disruption\", \"disruption\", \"disruption\", \"disruption\", \"distribution\", \"distribution\", \"distribution\", \"distribution\", \"distribution\", \"distribution\", \"distribution\", \"distribution\", \"distribution\", \"distribution\", \"django\", \"docker\", \"docker\", \"docker\", \"dockerfile\", \"document\", \"document\", \"document\", \"document\", \"document\", \"document\", \"document\", \"document\", \"document\", \"document\", \"document\", \"dogville\", \"dotnet\", \"dries\", \"drive\", \"drive\", \"drive\", \"drive\", \"drive\", \"drive\", \"drive\", \"drive\", \"drive\", \"drive\", \"drive\", \"drive\", \"drive\", \"drive\", \"drive\", \"driving\", \"driving\", \"driving\", \"dropbox\", \"dropbox\", \"dropbox\", \"drupal\", \"drupalcon\", \"drush\", \"dynamodb\", \"earth\", \"earth\", \"earth\", \"earth\", \"earth\", \"earth\", \"earth\", \"earth\", \"earth\", \"earth\", \"ecommerce\", \"ecommerce\", \"ecommerce\", \"ecommerce\", \"ecommerce\", \"ecommerce\", \"ecommerce\", \"ecommerce\", \"ecommerce\", \"eddystone\", \"elastic\", \"elastic\", \"elasticsearch\", \"electoral\", \"electron\", \"electron\", \"element\", \"element\", \"element\", \"element\", \"element\", \"element\", \"element\", \"element\", \"element\", \"element\", \"element\", \"element\", \"element\", \"elixir\", \"email\", \"email\", \"email\", \"email\", \"email\", \"email\", \"email\", \"email\", \"email\", \"email\", \"email\", \"email\", \"email\", \"emoji\", \"emoji\", \"emoji\", \"employee\", \"employee\", \"employee\", \"employee\", \"employee\", \"employee\", \"employee\", \"emulator\", \"emulator\", \"encrypt\", \"encrypt\", \"encrypt\", \"encrypt\", \"encrypt\", \"encrypt\", \"encryption\", \"encryption\", \"encryption\", \"encryption\", \"engine\", \"engine\", \"engine\", \"engine\", \"engine\", \"engine\", \"engine\", \"engine\", \"engine\", \"engine\", \"engineer\", \"engineer\", \"engineer\", \"engineer\", \"engineer\", \"engineer\", \"engineer\", \"engineer\", \"engineer\", \"engineer\", \"engineer\", \"engineer\", \"english\", \"english\", \"english\", \"english\", \"english\", \"english\", \"english\", \"english\", \"english\", \"english\", \"english\", \"enterprise\", \"enterprise\", \"enterprise\", \"enterprise\", \"enterprise\", \"enterprise\", \"enterprise\", \"enterprise\", \"environment\", \"environment\", \"environment\", \"environment\", \"environment\", \"environment\", \"environment\", \"environment\", \"environment\", \"environment\", \"environment\", \"environment\", \"environment\", \"environment\", \"epidemic\", \"ericsson\", \"ericsson\", \"ericsson\", \"ericsson\", \"error\", \"error\", \"error\", \"error\", \"error\", \"error\", \"error\", \"error\", \"error\", \"error\", \"error\", \"esperanto\", \"estimate\", \"estimate\", \"estimate\", \"estimate\", \"estimate\", \"estimate\", \"estimate\", \"estimate\", \"estimate\", \"estimate\", \"estimate\", \"estonia\", \"ether\", \"ether\", \"ethereum\", \"ethereum\", \"ethereum\", \"eucalyptus\", \"europe\", \"europe\", \"europe\", \"europe\", \"europe\", \"europe\", \"europe\", \"europe\", \"europe\", \"europe\", \"europe\", \"event\", \"event\", \"event\", \"event\", \"event\", \"event\", \"event\", \"event\", \"event\", \"event\", \"event\", \"event\", \"event\", \"event\", \"example\", \"example\", \"example\", \"example\", \"example\", \"example\", \"example\", \"example\", \"example\", \"example\", \"example\", \"example\", \"example\", \"example\", \"example\", \"exception\", \"exception\", \"exception\", \"exception\", \"exception\", \"exception\", \"exception\", \"exception\", \"exception\", \"exception\", \"exceptionservice\", \"exhibitor\", \"exomars\", \"expander\", \"experience\", \"experience\", \"experience\", \"experience\", \"experience\", \"experience\", \"experience\", \"experience\", \"experience\", \"experience\", \"experience\", \"experience\", \"experience\", \"experience\", \"experience\", \"exponential\", \"exponential\", \"exponential\", \"facebook\", \"facebook\", \"facebook\", \"facebook\", \"facebook\", \"facebook\", \"facebook\", \"facebook\", \"facebook\", \"facebook\", \"facebook\", \"failover\", \"fasttext\", \"favro\", \"feature\", \"feature\", \"feature\", \"feature\", \"feature\", \"feature\", \"feature\", \"feature\", \"feature\", \"feature\", \"feature\", \"feature\", \"feature\", \"feature\", \"feature\", \"features\", \"features\", \"features\", \"federighi\", \"female\", \"female\", \"female\", \"female\", \"female\", \"female\", \"female\", \"field\", \"field\", \"field\", \"field\", \"field\", \"field\", \"field\", \"field\", \"field\", \"field\", \"field\", \"field\", \"field\", \"filter\", \"filter\", \"filter\", \"filter\", \"filter\", \"filter\", \"filter\", \"finance\", \"finance\", \"finance\", \"finance\", \"finance\", \"finance\", \"finance\", \"finance\", \"financial\", \"financial\", \"financial\", \"financial\", \"financial\", \"financial\", \"financial\", \"financial\", \"financial\", \"fintech\", \"firebase\", \"firebase\", \"firewall\", \"fjord\", \"focus\", \"focus\", \"focus\", \"focus\", \"focus\", \"focus\", \"focus\", \"focus\", \"focus\", \"focus\", \"focus\", \"focus\", \"focus\", \"focus\", \"focus\", \"folder\", \"folder\", \"folder\", \"folder\", \"folder\", \"folder\", \"follow\", \"follow\", \"follow\", \"follow\", \"follow\", \"follow\", \"follow\", \"follow\", \"follow\", \"follow\", \"follow\", \"follow\", \"follow\", \"follow\", \"follow\", \"framework\", \"framework\", \"framework\", \"framework\", \"framework\", \"framework\", \"framework\", \"framework\", \"framework\", \"framework\", \"framework\", \"framework\", \"franz\", \"franz\", \"friend\", \"friend\", \"friend\", \"friend\", \"friend\", \"friend\", \"friend\", \"friend\", \"friend\", \"friend\", \"friend\", \"friend\", \"friend\", \"function\", \"function\", \"function\", \"function\", \"function\", \"function\", \"function\", \"function\", \"function\", \"function\", \"function\", \"function\", \"function\", \"function\", \"futhark\", \"galen\", \"gateway\", \"gateway\", \"gateway\", \"gcloud\", \"gender\", \"gender\", \"gender\", \"gender\", \"gender\", \"gender\", \"generate\", \"generate\", \"generate\", \"generate\", \"generate\", \"generate\", \"generate\", \"generate\", \"generate\", \"generate\", \"generate\", \"generate\", \"generate\", \"generate\", \"generator\", \"generator\", \"generator\", \"generator\", \"generator\", \"generic\", \"generic\", \"generic\", \"generic\", \"generic\", \"generic\", \"generic\", \"generic\", \"giannandrea\", \"gitlab\", \"gitlab\", \"global\", \"global\", \"global\", \"global\", \"global\", \"global\", \"global\", \"global\", \"global\", \"global\", \"global\", \"global\", \"globant\", \"goldin\", \"goodson\", \"goofs\", \"google\", \"google\", \"google\", \"google\", \"google\", \"google\", \"google\", \"google\", \"google\", \"google\", \"google\", \"google\", \"gourmet\", \"governance\", \"governance\", \"governance\", \"government\", \"government\", \"government\", \"government\", \"government\", \"government\", \"government\", \"government\", \"government\", \"government\", \"government\", \"graphene\", \"great\", \"great\", \"great\", \"great\", \"great\", \"great\", \"great\", \"great\", \"great\", \"great\", \"great\", \"great\", \"great\", \"great\", \"great\", \"greta\", \"growth\", \"growth\", \"growth\", \"growth\", \"growth\", \"growth\", \"growth\", \"growth\", \"growth\", \"growth\", \"growth\", \"growth\", \"guava\", \"guild\", \"habitat\", \"habitat\", \"halal\", \"hangout\", \"hangout\", \"hangouts\", \"hangouts\", \"hangouts\", \"happen\", \"happen\", \"happen\", \"happen\", \"happen\", \"happen\", \"happen\", \"happen\", \"happen\", \"happen\", \"happen\", \"happen\", \"happen\", \"happen\", \"happen\", \"harald\", \"hashcat\", \"hashmap\", \"heading\", \"heading\", \"helix\", \"hemingway\", \"hendrix\", \"herobuttoncomponent\", \"heroescomponent\", \"heron\", \"heroservice\", \"hinton\", \"hiragana\", \"hoffer\", \"hollar\", \"homebot\", \"honcho\", \"honcho\", \"honcho\", \"hopper\", \"hopper\", \"hubble\", \"human\", \"human\", \"human\", \"human\", \"human\", \"human\", \"human\", \"human\", \"human\", \"human\", \"human\", \"human\", \"human\", \"humanitarian\", \"hyperdev\", \"hyperledger\", \"hyperparameter\", \"ibook\", \"icaza\", \"icaza\", \"icloud\", \"icloud\", \"icloud\", \"image\", \"image\", \"image\", \"image\", \"image\", \"image\", \"image\", \"image\", \"image\", \"image\", \"image\", \"image\", \"image\", \"image\", \"image\", \"imagenet\", \"immutable\", \"immutable\", \"immutable\", \"impeachment\", \"impersonation\", \"implement\", \"implement\", \"implement\", \"implement\", \"implement\", \"implement\", \"implement\", \"implement\", \"implement\", \"implement\", \"implement\", \"implementation\", \"implementation\", \"implementation\", \"implementation\", \"implementation\", \"implementation\", \"implementation\", \"implementation\", \"implementation\", \"implementation\", \"impression\", \"impression\", \"impression\", \"impression\", \"impression\", \"impression\", \"impression\", \"impression\", \"impression\", \"impression\", \"inbox\", \"inbox\", \"inbox\", \"inbox\", \"include\", \"include\", \"include\", \"include\", \"include\", \"include\", \"include\", \"include\", \"include\", \"include\", \"include\", \"include\", \"include\", \"include\", \"include\", \"income\", \"income\", \"income\", \"income\", \"income\", \"incumbent\", \"incumbent\", \"incumbent\", \"incumbent\", \"index\", \"index\", \"index\", \"index\", \"index\", \"index\", \"index\", \"index\", \"index\", \"industry\", \"industry\", \"industry\", \"industry\", \"industry\", \"industry\", \"industry\", \"industry\", \"industry\", \"industry\", \"industry\", \"industry\", \"inflation\", \"inflation\", \"information\", \"information\", \"information\", \"information\", \"information\", \"information\", \"information\", \"information\", \"information\", \"information\", \"information\", \"information\", \"information\", \"information\", \"information\", \"infrastructure\", \"infrastructure\", \"infrastructure\", \"infrastructure\", \"infrastructure\", \"infrastructure\", \"infrastructure\", \"infrastructure\", \"infrastructure\", \"infrastructure\", \"inhabitant\", \"injection\", \"injection\", \"injection\", \"injection\", \"injection\", \"injection\", \"injection\", \"injection\", \"innersource\", \"innovation\", \"innovation\", \"innovation\", \"innovation\", \"innovation\", \"innovation\", \"innovation\", \"innovation\", \"innovation\", \"innovation\", \"innovation\", \"instal\", \"instal\", \"instal\", \"instal\", \"instal\", \"instal\", \"instal\", \"instal\", \"instal\", \"instal\", \"instal\", \"install\", \"install\", \"install\", \"install\", \"install\", \"install\", \"install\", \"install\", \"install\", \"install\", \"install\", \"instance\", \"instance\", \"instance\", \"instance\", \"instance\", \"instance\", \"instance\", \"instance\", \"instance\", \"instance\", \"instance\", \"instance\", \"instance\", \"instance\", \"instances\", \"instapaper\", \"institution\", \"institution\", \"institution\", \"institution\", \"institution\", \"institution\", \"institution\", \"insurance\", \"insurance\", \"insurance\", \"insurer\", \"insurtech\", \"integer\", \"integer\", \"intelligence\", \"intelligence\", \"intelligence\", \"intelligence\", \"intelligence\", \"intelligence\", \"intelligence\", \"intelligence\", \"intelligence\", \"intelligence\", \"internet\", \"internet\", \"internet\", \"internet\", \"internet\", \"internet\", \"internet\", \"internet\", \"internet\", \"internet\", \"internet\", \"internet\", \"internet\", \"internet\", \"intolerant\", \"intolerant\", \"intranet\", \"intranet\", \"intranet\", \"investment\", \"investment\", \"investment\", \"investment\", \"investment\", \"investment\", \"investment\", \"investment\", \"iphone\", \"iphone\", \"iphone\", \"issue\", \"issue\", \"issue\", \"issue\", \"issue\", \"issue\", \"issue\", \"issue\", \"issue\", \"issue\", \"issue\", \"issue\", \"issue\", \"issue\", \"issue\", \"itunes\", \"itunes\", \"jacaranda\", \"jacoco\", \"jacoco\", \"jacquard\", \"jamboard\", \"japanese\", \"japanese\", \"japanese\", \"japanese\", \"japanese\", \"japanese\", \"japanese\", \"jasonette\", \"jassy\", \"javascript\", \"javascript\", \"javascript\", \"javascript\", \"javascript\", \"javascript\", \"javetski\", \"jenkin\", \"jenkins\", \"jenkins\", \"jpmorgan\", \"jshell\", \"jshint\", \"julie\", \"julie\", \"kanban\", \"kanban\", \"kanji\", \"kelley\", \"keras\", \"keystoneml\", \"keyword\", \"keyword\", \"keyword\", \"keyword\", \"keyword\", \"kimberly\", \"kinesis\", \"kinvey\", \"knapp\", \"knuedge\", \"kopin\", \"korneyev\", \"kosher\", \"kosher\", \"kotlin\", \"krita\", \"kubectl\", \"kubectl\", \"kubernetes\", \"kurzweil\", \"label\", \"label\", \"label\", \"label\", \"label\", \"label\", \"label\", \"label\", \"label\", \"label\", \"label\", \"label\", \"lander\", \"language\", \"language\", \"language\", \"language\", \"language\", \"language\", \"language\", \"language\", \"language\", \"language\", \"language\", \"language\", \"language\", \"latin\", \"latin\", \"latin\", \"latin\", \"laude\", \"launch\", \"launch\", \"launch\", \"launch\", \"launch\", \"launch\", \"launch\", \"launch\", \"launch\", \"launch\", \"launch\", \"launch\", \"layout\", \"layout\", \"layout\", \"layout\", \"layout\", \"layout\", \"layout\", \"leader\", \"leader\", \"leader\", \"leader\", \"leader\", \"leader\", \"leader\", \"leader\", \"leader\", \"leader\", \"leadership\", \"leadership\", \"leadership\", \"leadership\", \"leadership\", \"leadership\", \"leadfeeder\", \"learn\", \"learn\", \"learn\", \"learn\", \"learn\", \"learn\", \"learn\", \"learn\", \"learn\", \"learn\", \"learn\", \"learn\", \"learn\", \"learn\", \"learning\", \"learning\", \"learning\", \"learning\", \"learning\", \"learning\", \"learning\", \"learning\", \"learning\", \"learning\", \"learning\", \"lecun\", \"ledger\", \"lepton\", \"level\", \"level\", \"level\", \"level\", \"level\", \"level\", \"level\", \"level\", \"level\", \"level\", \"level\", \"level\", \"level\", \"level\", \"level\", \"library\", \"library\", \"library\", \"library\", \"library\", \"library\", \"library\", \"library\", \"library\", \"library\", \"lightbend\", \"lightning\", \"lightning\", \"lightning\", \"lightning\", \"lightning\", \"lightning\", \"linte\", \"linus\", \"linux\", \"linux\", \"linux\", \"linux\", \"linux\", \"linux\", \"linux\", \"linux\", \"linux\", \"linux\", \"lister\", \"little\", \"little\", \"little\", \"little\", \"little\", \"little\", \"little\", \"little\", \"little\", \"little\", \"little\", \"little\", \"little\", \"little\", \"little\", \"lizardcoin\", \"locator\", \"locator\", \"logout\", \"luminar\", \"luqman\", \"macbook\", \"macbook\", \"macbook\", \"machine\", \"machine\", \"machine\", \"machine\", \"machine\", \"machine\", \"machine\", \"machine\", \"machine\", \"machine\", \"machine\", \"machine\", \"machine\", \"madden\", \"maechler\", \"magento\", \"magento\", \"maintainer\", \"maintainer\", \"maintainer\", \"maintainer\", \"maintainer\", \"makoto\", \"management\", \"management\", \"management\", \"management\", \"management\", \"management\", \"management\", \"management\", \"management\", \"management\", \"management\", \"management\", \"manager\", \"manager\", \"manager\", \"manager\", \"manager\", \"manager\", \"manager\", \"manager\", \"manager\", \"manager\", \"manager\", \"manager\", \"manager\", \"mandeleil\", \"market\", \"market\", \"market\", \"market\", \"market\", \"market\", \"market\", \"market\", \"market\", \"market\", \"market\", \"market\", \"market\", \"market\", \"marketing\", \"marketing\", \"marketing\", \"marketing\", \"marketing\", \"marketing\", \"marketing\", \"marketing\", \"marketing\", \"marketing\", \"marketplace\", \"marketplace\", \"marketplace\", \"marketplace\", \"marketplace\", \"marketplace\", \"marketscape\", \"matcher\", \"mckinsey\", \"mckinsey\", \"mckinsey\", \"mcparseface\", \"mechanic\", \"mechanic\", \"mechanic\", \"mechanic\", \"mechanic\", \"mechanic\", \"mechanic\", \"mediawiki\", \"meditation\", \"meditation\", \"meditation\", \"meditation\", \"medium\", \"medium\", \"medium\", \"medium\", \"medium\", \"medium\", \"medium\", \"medium\", \"medium\", \"medium\", \"medium\", \"medium\", \"medium\", \"medium\", \"meeting\", \"meeting\", \"meeting\", \"meeting\", \"meeting\", \"meeting\", \"meeting\", \"meeting\", \"meeting\", \"meeting\", \"meetspace\", \"meetup\", \"meetup\", \"meetup\", \"meetup\", \"meetup\", \"meetup\", \"mentoring\", \"merchant\", \"merchant\", \"merchant\", \"merchant\", \"merchant\", \"merchant\", \"message\", \"message\", \"message\", \"message\", \"message\", \"message\", \"message\", \"message\", \"message\", \"message\", \"message\", \"message\", \"message\", \"message\", \"messenger\", \"messenger\", \"messenger\", \"messenger\", \"messenger\", \"method\", \"method\", \"method\", \"method\", \"method\", \"method\", \"method\", \"method\", \"method\", \"method\", \"method\", \"method\", \"methods\", \"microservice\", \"microservice\", \"microservice\", \"microservices\", \"microservices\", \"microsoft\", \"microsoft\", \"microsoft\", \"microsoft\", \"microsoft\", \"microsoft\", \"microsoft\", \"microsoft\", \"microsoft\", \"microsoft\", \"microsoft\", \"million\", \"million\", \"million\", \"million\", \"million\", \"million\", \"million\", \"million\", \"million\", \"million\", \"million\", \"million\", \"million\", \"million\", \"milner\", \"mindfulness\", \"mindfulness\", \"minhash\", \"minification\", \"mining\", \"mining\", \"mining\", \"mining\", \"mining\", \"mining\", \"minority\", \"minority\", \"minority\", \"minority\", \"mobify\", \"mobile\", \"mobile\", \"mobile\", \"mobile\", \"mobile\", \"mobile\", \"mobile\", \"mobile\", \"mobile\", \"mobile\", \"mobile\", \"mobile\", \"mockito\", \"model\", \"model\", \"model\", \"model\", \"model\", \"model\", \"model\", \"model\", \"model\", \"model\", \"model\", \"model\", \"module\", \"module\", \"module\", \"module\", \"module\", \"module\", \"module\", \"module\", \"module\", \"mondo\", \"monolith\", \"montgomery\", \"month\", \"month\", \"month\", \"month\", \"month\", \"month\", \"month\", \"month\", \"month\", \"month\", \"month\", \"month\", \"month\", \"month\", \"month\", \"moorfields\", \"mortality\", \"mortality\", \"mortality\", \"multilingual\", \"multipurpose\", \"multipurpose\", \"music\", \"music\", \"music\", \"music\", \"music\", \"music\", \"music\", \"music\", \"mycroft\", \"nadella\", \"nadella\", \"nadella\", \"nanotechnology\", \"nedbank\", \"nested\", \"nested\", \"network\", \"network\", \"network\", \"network\", \"network\", \"network\", \"network\", \"network\", \"network\", \"network\", \"network\", \"network\", \"network\", \"network\", \"networking\", \"networking\", \"networking\", \"networking\", \"networking\", \"networks\", \"networks\", \"networks\", \"neural\", \"neurala\", \"neuron\", \"neuron\", \"ngoninit\", \"nicole\", \"nicole\", \"nodejs\", \"nomination\", \"nomination\", \"nooyi\", \"norway\", \"notification\", \"notification\", \"notification\", \"notification\", \"notification\", \"notification\", \"notification\", \"notification\", \"notifications\", \"number\", \"number\", \"number\", \"number\", \"number\", \"number\", \"number\", \"number\", \"number\", \"number\", \"number\", \"number\", \"number\", \"number\", \"number\", \"nvidia\", \"nvidia\", \"obermayer\", \"object\", \"object\", \"object\", \"object\", \"object\", \"object\", \"object\", \"object\", \"object\", \"object\", \"object\", \"object\", \"object\", \"observable\", \"offer\", \"offer\", \"offer\", \"offer\", \"offer\", \"offer\", \"offer\", \"offer\", \"offer\", \"offer\", \"offer\", \"offer\", \"offer\", \"offer\", \"offer\", \"office\", \"office\", \"office\", \"office\", \"office\", \"office\", \"office\", \"office\", \"office\", \"office\", \"office\", \"omnitone\", \"oninit\", \"onintercepttouchevent\", \"online\", \"online\", \"online\", \"online\", \"online\", \"online\", \"online\", \"online\", \"online\", \"online\", \"online\", \"online\", \"online\", \"online\", \"ontouchevent\", \"openai\", \"openjdk\", \"openledger\", \"openstack\", \"opensuse\", \"opportunity\", \"opportunity\", \"opportunity\", \"opportunity\", \"opportunity\", \"opportunity\", \"opportunity\", \"opportunity\", \"opportunity\", \"opportunity\", \"opportunity\", \"opportunity\", \"opportunity\", \"opportunity\", \"opportunity\", \"organization\", \"organization\", \"organization\", \"organization\", \"organization\", \"organization\", \"organization\", \"organization\", \"organization\", \"organization\", \"organization\", \"organization\", \"outbreak\", \"outbreak\", \"overflow\", \"overflow\", \"overflow\", \"overflow\", \"overlay\", \"overlay\", \"overlay\", \"overlay\", \"overlay\", \"overridden\", \"override\", \"override\", \"override\", \"override\", \"override\", \"override\", \"override\", \"overwrite\", \"package\", \"package\", \"package\", \"package\", \"package\", \"package\", \"package\", \"package\", \"package\", \"package\", \"package\", \"package\", \"padding\", \"paintcode\", \"palantir\", \"palantir\", \"parallax\", \"parallax\", \"parallax\", \"parallelism\", \"parameter\", \"parameter\", \"parameter\", \"parameter\", \"parameter\", \"parameter\", \"parameter\", \"parameter\", \"parameter\", \"parks\", \"parsey\", \"passive\", \"passive\", \"passive\", \"passive\", \"passive\", \"passive\", \"password\", \"password\", \"password\", \"password\", \"password\", \"password\", \"password\", \"password\", \"password\", \"patent\", \"patent\", \"patent\", \"patent\", \"patent\", \"patent\", \"patent\", \"paulides\", \"payment\", \"payment\", \"payment\", \"payment\", \"payment\", \"payment\", \"payment\", \"paypal\", \"paypal\", \"paypal\", \"paypal\", \"paypal\", \"pebble\", \"pebble\", \"people\", \"people\", \"people\", \"people\", \"people\", \"people\", \"people\", \"people\", \"people\", \"people\", \"people\", \"people\", \"people\", \"people\", \"people\", \"percent\", \"percent\", \"percent\", \"percent\", \"percent\", \"percent\", \"percent\", \"percent\", \"percent\", \"percent\", \"percent\", \"percent\", \"percent\", \"percent\", \"perceptron\", \"performance\", \"performance\", \"performance\", \"performance\", \"performance\", \"performance\", \"performance\", \"performance\", \"performance\", \"performance\", \"performance\", \"performance\", \"performance\", \"performance\", \"performed\", \"permission\", \"permission\", \"permission\", \"permission\", \"permission\", \"permission\", \"permission\", \"permission\", \"permission\", \"permission\", \"permission\", \"person\", \"person\", \"person\", \"person\", \"person\", \"person\", \"person\", \"person\", \"person\", \"person\", \"person\", \"person\", \"person\", \"person\", \"personal\", \"personal\", \"personal\", \"personal\", \"personal\", \"personal\", \"personal\", \"personal\", \"personal\", \"personal\", \"personal\", \"personal\", \"personal\", \"pfizer\", \"pfizer\", \"phippy\", \"phone\", \"phone\", \"phone\", \"phone\", \"phone\", \"phone\", \"phone\", \"phone\", \"phone\", \"phone\", \"photodiode\", \"phpcs\", \"phpstorm\", \"pictograph\", \"pinhole\", \"pinner\", \"pinterest\", \"pinterest\", \"pinterest\", \"pinterest\", \"pinterest\", \"pinterest\", \"pinterest\", \"pinterest\", \"place\", \"place\", \"place\", \"place\", \"place\", \"place\", \"place\", \"place\", \"place\", \"place\", \"place\", \"place\", \"place\", \"place\", \"place\", \"plague\", \"plague\", \"plague\", \"plague\", \"planet\", \"planet\", \"planet\", \"planet\", \"planet\", \"planet\", \"planet\", \"planet\", \"planet\", \"plate\", \"plate\", \"plate\", \"plate\", \"plate\", \"platform\", \"platform\", \"platform\", \"platform\", \"platform\", \"platform\", \"platform\", \"platform\", \"platform\", \"platform\", \"platform\", \"platform\", \"playback\", \"playback\", \"playback\", \"player\", \"player\", \"player\", \"player\", \"player\", \"player\", \"player\", \"player\", \"player\", \"player\", \"plugin\", \"plugin\", \"plugin\", \"plugin\", \"plugin\", \"plugin\", \"plugin\", \"point\", \"point\", \"point\", \"point\", \"point\", \"point\", \"point\", \"point\", \"point\", \"point\", \"point\", \"point\", \"point\", \"point\", \"point\", \"pokemon\", \"pokemon\", \"pokemon\", \"political\", \"political\", \"political\", \"political\", \"political\", \"political\", \"political\", \"political\", \"polymer\", \"polymer\", \"popslate\", \"population\", \"population\", \"population\", \"population\", \"population\", \"population\", \"population\", \"population\", \"population\", \"population\", \"population\", \"posey\", \"postback\", \"postback\", \"power\", \"power\", \"power\", \"power\", \"power\", \"power\", \"power\", \"power\", \"power\", \"power\", \"power\", \"power\", \"power\", \"power\", \"power\", \"practice\", \"practice\", \"practice\", \"practice\", \"practice\", \"practice\", \"practice\", \"practice\", \"practice\", \"practice\", \"practice\", \"practice\", \"practice\", \"predict\", \"predict\", \"predict\", \"predict\", \"predict\", \"predict\", \"predict\", \"predict\", \"prediction\", \"prediction\", \"prediction\", \"prediction\", \"prediction\", \"prediction\", \"prediction\", \"preemptive\", \"preston\", \"preview\", \"preview\", \"preview\", \"preview\", \"preview\", \"preview\", \"preview\", \"preview\", \"preview\", \"preview\", \"price\", \"price\", \"price\", \"price\", \"price\", \"price\", \"price\", \"price\", \"price\", \"price\", \"price\", \"price\", \"price\", \"principle\", \"principle\", \"principle\", \"principle\", \"principle\", \"principle\", \"principle\", \"principle\", \"principle\", \"principle\", \"principle\", \"printer\", \"printer\", \"printer\", \"printer\", \"probe\", \"probe\", \"probe\", \"probe\", \"probe\", \"problem\", \"problem\", \"problem\", \"problem\", \"problem\", \"problem\", \"problem\", \"problem\", \"problem\", \"problem\", \"problem\", \"problem\", \"problem\", \"problem\", \"problem\", \"process\", \"process\", \"process\", \"process\", \"process\", \"process\", \"process\", \"process\", \"process\", \"process\", \"process\", \"process\", \"process\", \"process\", \"process\", \"procfile\", \"procrastinator\", \"product\", \"product\", \"product\", \"product\", \"product\", \"product\", \"product\", \"product\", \"product\", \"product\", \"product\", \"product\", \"product\", \"product\", \"programming\", \"programming\", \"programming\", \"programming\", \"programming\", \"programming\", \"programming\", \"programming\", \"programming\", \"programming\", \"progressive\", \"progressive\", \"progressive\", \"progressive\", \"progressive\", \"progressive\", \"progressive\", \"proguard\", \"project\", \"project\", \"project\", \"project\", \"project\", \"project\", \"project\", \"project\", \"project\", \"project\", \"project\", \"project\", \"project\", \"project\", \"project\", \"promise\", \"promise\", \"promise\", \"promise\", \"promise\", \"promise\", \"promise\", \"promise\", \"promise\", \"promise\", \"promise\", \"promise\", \"pronunciation\", \"property\", \"property\", \"property\", \"property\", \"property\", \"property\", \"property\", \"property\", \"property\", \"property\", \"property\", \"property\", \"prototypal\", \"prototype\", \"prototype\", \"prototype\", \"prototype\", \"prototype\", \"prototype\", \"prototype\", \"prototype\", \"prototype\", \"prototype\", \"protractor\", \"provide\", \"provide\", \"provide\", \"provide\", \"provide\", \"provide\", \"provide\", \"provide\", \"provide\", \"provide\", \"provide\", \"provide\", \"provide\", \"provide\", \"proxy\", \"proxy\", \"proxy\", \"proxy\", \"purchase\", \"purchase\", \"purchase\", \"purchase\", \"purchase\", \"purchase\", \"purchase\", \"purchase\", \"purchase\", \"purchase\", \"purchase\", \"pychyl\", \"python\", \"python\", \"python\", \"python\", \"python\", \"quadrant\", \"quadrant\", \"quadrant\", \"quantum\", \"quantum\", \"quantum\", \"quartile\", \"qubit\", \"qubit\", \"query\", \"query\", \"query\", \"query\", \"query\", \"query\", \"question\", \"question\", \"question\", \"question\", \"question\", \"question\", \"question\", \"question\", \"question\", \"question\", \"question\", \"question\", \"question\", \"question\", \"question\", \"quizlet\", \"qunit\", \"quotes\", \"rachel\", \"rachel\", \"rachel\", \"radio\", \"radio\", \"radio\", \"radio\", \"radio\", \"radio\", \"radio\", \"radio\", \"radio\", \"rails\", \"rails\", \"rails\", \"rails\", \"rakuten\", \"react\", \"react\", \"react\", \"react\", \"react\", \"react\", \"react\", \"react\", \"react\", \"react\", \"react\", \"reactors\", \"really\", \"really\", \"really\", \"really\", \"really\", \"really\", \"really\", \"really\", \"really\", \"really\", \"really\", \"really\", \"really\", \"really\", \"really\", \"recht\", \"recognition\", \"recognition\", \"recognition\", \"recognition\", \"recognition\", \"reconsider\", \"recruiting\", \"recruiting\", \"recruiting\", \"recyclerview\", \"redis\", \"redis\", \"redis\", \"redwood\", \"regress\", \"reinforcement\", \"reinforcement\", \"release\", \"release\", \"release\", \"release\", \"release\", \"release\", \"release\", \"release\", \"release\", \"release\", \"release\", \"release\", \"release\", \"release\", \"release\", \"report\", \"report\", \"report\", \"report\", \"report\", \"report\", \"report\", \"report\", \"report\", \"report\", \"report\", \"report\", \"report\", \"report\", \"report\", \"request\", \"request\", \"request\", \"request\", \"request\", \"request\", \"request\", \"request\", \"request\", \"request\", \"request\", \"request\", \"require\", \"require\", \"require\", \"require\", \"require\", \"require\", \"require\", \"require\", \"require\", \"require\", \"require\", \"require\", \"require\", \"require\", \"requirement\", \"requirement\", \"requirement\", \"requirement\", \"requirement\", \"requirement\", \"requirement\", \"requirement\", \"requirement\", \"requirement\", \"requirement\", \"research\", \"research\", \"research\", \"research\", \"research\", \"research\", \"research\", \"research\", \"research\", \"research\", \"research\", \"research\", \"research\", \"research\", \"researcher\", \"researcher\", \"researcher\", \"researcher\", \"researcher\", \"researcher\", \"researcher\", \"researcher\", \"reservoir\", \"resharper\", \"resource\", \"resource\", \"resource\", \"resource\", \"resource\", \"resource\", \"resource\", \"resource\", \"resource\", \"resource\", \"resource\", \"resource\", \"resource\", \"resource\", \"restartpolicy\", \"restb\", \"result\", \"result\", \"result\", \"result\", \"result\", \"result\", \"result\", \"result\", \"result\", \"result\", \"result\", \"result\", \"result\", \"result\", \"result\", \"retail\", \"retail\", \"retail\", \"retail\", \"retail\", \"retail\", \"retail\", \"retailer\", \"retailer\", \"retailer\", \"retailer\", \"retailer\", \"retailer\", \"retailer\", \"return\", \"return\", \"return\", \"return\", \"return\", \"return\", \"return\", \"return\", \"return\", \"return\", \"return\", \"return\", \"return\", \"return\", \"return\", \"retweet\", \"reuse\", \"reuse\", \"reuse\", \"reuse\", \"reuse\", \"reuse\", \"revenue\", \"revenue\", \"revenue\", \"revenue\", \"revenue\", \"revenue\", \"revenue\", \"revenue\", \"review\", \"review\", \"review\", \"review\", \"review\", \"review\", \"review\", \"review\", \"review\", \"review\", \"review\", \"review\", \"review\", \"review\", \"review\", \"reviews\", \"reviews\", \"right\", \"right\", \"right\", \"right\", \"right\", \"right\", \"right\", \"right\", \"right\", \"right\", \"right\", \"right\", \"right\", \"right\", \"right\", \"rinna\", \"robot\", \"robot\", \"robot\", \"robot\", \"robot\", \"robot\", \"robot\", \"robotic\", \"robotic\", \"robotic\", \"robotic\", \"robotic\", \"robotic\", \"robotic\", \"robotium\", \"rollup\", \"rousseff\", \"rubik\", \"rumor\", \"rumor\", \"rumor\", \"rumor\", \"safari\", \"safari\", \"safari\", \"safari\", \"safari\", \"safari\", \"saxena\", \"scatterplot\", \"schema\", \"schema\", \"schema\", \"schiano\", \"schiaparelli\", \"schiller\", \"science\", \"science\", \"science\", \"science\", \"science\", \"science\", \"science\", \"science\", \"science\", \"science\", \"science\", \"scientist\", \"scientist\", \"scientist\", \"scientist\", \"scientist\", \"scientist\", \"scientist\", \"scientist\", \"scientist\", \"scikit\", \"scipy\", \"scope\", \"scope\", \"scope\", \"scope\", \"scope\", \"scope\", \"scope\", \"scope\", \"scope\", \"scope\", \"scope\", \"scope\", \"scope\", \"scout\", \"scout\", \"scout\", \"scout\", \"screen\", \"screen\", \"screen\", \"screen\", \"screen\", \"screen\", \"screen\", \"screen\", \"screen\", \"screen\", \"screen\", \"script\", \"script\", \"script\", \"script\", \"script\", \"script\", \"script\", \"script\", \"script\", \"script\", \"script\", \"scrum\", \"scrum\", \"scrum\", \"search\", \"search\", \"search\", \"search\", \"search\", \"search\", \"search\", \"search\", \"search\", \"search\", \"search\", \"search\", \"search\", \"searcher\", \"second\", \"second\", \"second\", \"second\", \"second\", \"second\", \"second\", \"second\", \"second\", \"second\", \"second\", \"second\", \"second\", \"second\", \"second\", \"sector\", \"sector\", \"sector\", \"sector\", \"sector\", \"sector\", \"sector\", \"securities\", \"security\", \"security\", \"security\", \"security\", \"security\", \"security\", \"security\", \"security\", \"security\", \"security\", \"security\", \"security\", \"security\", \"security\", \"security\", \"seesaw\", \"seller\", \"seller\", \"seller\", \"seller\", \"sentience\", \"sentience\", \"server\", \"server\", \"server\", \"server\", \"server\", \"server\", \"server\", \"server\", \"server\", \"server\", \"serverless\", \"service\", \"service\", \"service\", \"service\", \"service\", \"service\", \"service\", \"service\", \"service\", \"service\", \"service\", \"service\", \"service\", \"service\", \"service\", \"setter\", \"settlement\", \"settlement\", \"shard\", \"shard\", \"shard\", \"share\", \"share\", \"share\", \"share\", \"share\", \"share\", \"share\", \"share\", \"share\", \"share\", \"share\", \"share\", \"share\", \"share\", \"share\", \"shell\", \"shell\", \"shell\", \"shell\", \"shell\", \"shell\", \"shell\", \"shell\", \"shippable\", \"shopper\", \"shopper\", \"shopper\", \"shopper\", \"shopping\", \"shopping\", \"shopping\", \"shopping\", \"shopping\", \"shopping\", \"shopping\", \"shopping\", \"shopping\", \"shopping\", \"shopping\", \"shoreline\", \"shuddle\", \"sierra\", \"sieve\", \"signal\", \"signal\", \"signal\", \"signal\", \"signal\", \"signal\", \"signal\", \"signal\", \"signal\", \"signal\", \"signal\", \"signal\", \"silbermann\", \"simple\", \"simple\", \"simple\", \"simple\", \"simple\", \"simple\", \"simple\", \"simple\", \"simple\", \"simple\", \"simple\", \"simple\", \"simple\", \"simple\", \"singularity\", \"singularity\", \"sirosh\", \"sites\", \"slack\", \"slack\", \"slack\", \"slack\", \"slack\", \"slides\", \"smarterchild\", \"smartphone\", \"smartphone\", \"smartphone\", \"smartphone\", \"smartphone\", \"smartphone\", \"smartphone\", \"smartphone\", \"smartphone\", \"smartphone\", \"snapchat\", \"snapchat\", \"snapchat\", \"snapchat\", \"sniffer\", \"snippet\", \"snippet\", \"snippet\", \"snippet\", \"snippet\", \"snippet\", \"snippet\", \"sofman\", \"software\", \"software\", \"software\", \"software\", \"software\", \"software\", \"software\", \"software\", \"software\", \"software\", \"software\", \"software\", \"software\", \"software\", \"solution\", \"solution\", \"solution\", \"solution\", \"solution\", \"solution\", \"solution\", \"solution\", \"solution\", \"solution\", \"solution\", \"solution\", \"solution\", \"solution\", \"sound\", \"sound\", \"sound\", \"sound\", \"sound\", \"sound\", \"sound\", \"sound\", \"sound\", \"sound\", \"sound\", \"sound\", \"sound\", \"soundtracks\", \"source\", \"source\", \"source\", \"source\", \"source\", \"source\", \"source\", \"source\", \"source\", \"source\", \"source\", \"source\", \"source\", \"source\", \"source\", \"southampton\", \"space\", \"space\", \"space\", \"space\", \"space\", \"space\", \"space\", \"space\", \"space\", \"space\", \"space\", \"space\", \"space\", \"space\", \"spanner\", \"speak\", \"speak\", \"speak\", \"speak\", \"speak\", \"speak\", \"speak\", \"speak\", \"speak\", \"speak\", \"speak\", \"speak\", \"speak\", \"speak\", \"speak\", \"specs\", \"specs\", \"specs\", \"speech\", \"speech\", \"speech\", \"speech\", \"speech\", \"speech\", \"speech\", \"spence\", \"spend\", \"spend\", \"spend\", \"spend\", \"spend\", \"spend\", \"spend\", \"spend\", \"spend\", \"spend\", \"spend\", \"spend\", \"spend\", \"spend\", \"spread\", \"spread\", \"spread\", \"spread\", \"spread\", \"spread\", \"spread\", \"spread\", \"spread\", \"spread\", \"spread\", \"spread\", \"spring\", \"spring\", \"spring\", \"spring\", \"spring\", \"spring\", \"spring\", \"spring\", \"spring\", \"spring\", \"spring\", \"sprint\", \"sprint\", \"sprint\", \"sprint\", \"sprint\", \"sprint\", \"sprite\", \"sprite\", \"squads\", \"stackdriver\", \"stars\", \"start\", \"start\", \"start\", \"start\", \"start\", \"start\", \"start\", \"start\", \"start\", \"start\", \"start\", \"start\", \"start\", \"start\", \"start\", \"startup\", \"startup\", \"startup\", \"startup\", \"startup\", \"startup\", \"startup\", \"startup\", \"startup\", \"statcounter\", \"state\", \"state\", \"state\", \"state\", \"state\", \"state\", \"state\", \"state\", \"state\", \"state\", \"state\", \"state\", \"state\", \"state\", \"state\", \"station\", \"station\", \"station\", \"station\", \"station\", \"station\", \"station\", \"station\", \"steal\", \"steal\", \"steal\", \"steal\", \"steal\", \"steal\", \"steal\", \"steal\", \"steal\", \"steal\", \"stereotype\", \"stereotype\", \"stereotype\", \"steve\", \"steve\", \"steve\", \"steve\", \"steve\", \"steve\", \"steve\", \"storage\", \"storage\", \"storage\", \"storage\", \"storage\", \"storage\", \"storage\", \"storage\", \"storage\", \"storage\", \"store\", \"store\", \"store\", \"store\", \"store\", \"store\", \"store\", \"store\", \"store\", \"store\", \"store\", \"store\", \"store\", \"store\", \"store\", \"story\", \"story\", \"story\", \"story\", \"story\", \"story\", \"story\", \"story\", \"story\", \"story\", \"story\", \"story\", \"story\", \"storyline\", \"strategy\", \"strategy\", \"strategy\", \"strategy\", \"strategy\", \"strategy\", \"strategy\", \"strategy\", \"strategy\", \"strategy\", \"strategy\", \"strategy\", \"stream\", \"stream\", \"stream\", \"stream\", \"stream\", \"stream\", \"stream\", \"stream\", \"stream\", \"stream\", \"stream\", \"streams\", \"streams\", \"strictmode\", \"string\", \"string\", \"string\", \"string\", \"string\", \"string\", \"string\", \"string\", \"struct\", \"student\", \"student\", \"student\", \"student\", \"student\", \"student\", \"student\", \"student\", \"study\", \"study\", \"study\", \"study\", \"study\", \"study\", \"study\", \"study\", \"study\", \"study\", \"study\", \"study\", \"study\", \"study\", \"study\", \"stuff\", \"stuff\", \"stuff\", \"stuff\", \"stuff\", \"stuff\", \"stuff\", \"stuff\", \"stuff\", \"stuff\", \"stuff\", \"stunnel\", \"style\", \"style\", \"style\", \"style\", \"style\", \"style\", \"style\", \"style\", \"style\", \"style\", \"subnet\", \"subsystem\", \"subsystem\", \"subsystem\", \"success\", \"success\", \"success\", \"success\", \"success\", \"success\", \"success\", \"success\", \"success\", \"success\", \"success\", \"success\", \"success\", \"success\", \"success\", \"suite\", \"suite\", \"suite\", \"suite\", \"suite\", \"suite\", \"suite\", \"suite\", \"suite\", \"suite\", \"superintelligence\", \"supervise\", \"supervised\", \"support\", \"support\", \"support\", \"support\", \"support\", \"support\", \"support\", \"support\", \"support\", \"support\", \"support\", \"support\", \"support\", \"support\", \"swagbot\", \"swanest\", \"swarm\", \"swarm\", \"swarm\", \"swarm\", \"swarming\", \"swift\", \"swift\", \"swift\", \"swift\", \"swift\", \"swift\", \"swift\", \"swift\", \"sybil\", \"syntax\", \"syntax\", \"syntax\", \"syntax\", \"syntax\", \"syntaxnet\", \"syscall\", \"table\", \"table\", \"table\", \"table\", \"table\", \"table\", \"table\", \"table\", \"table\", \"table\", \"table\", \"table\", \"table\", \"table\", \"table\", \"tactical\", \"takipi\", \"takipi\", \"talent\", \"talent\", \"talent\", \"talent\", \"talent\", \"tango\", \"tapia\", \"teacher\", \"teacher\", \"teacher\", \"teacher\", \"teacher\", \"technical\", \"technical\", \"technical\", \"technical\", \"technical\", \"technical\", \"technical\", \"technical\", \"technical\", \"technical\", \"technical\", \"technical\", \"technical\", \"technology\", \"technology\", \"technology\", \"technology\", \"technology\", \"technology\", \"technology\", \"technology\", \"technology\", \"technology\", \"technology\", \"technology\", \"technology\", \"technology\", \"telecom\", \"telegram\", \"telegram\", \"telepresence\", \"telepresence\", \"tennis\", \"tensorflow\", \"terminal\", \"terminal\", \"terminal\", \"terminal\", \"terminal\", \"terminal\", \"terminal\", \"terminal\", \"terminal\", \"tetra\", \"tettra\", \"theano\", \"therapist\", \"therapist\", \"thief\", \"thief\", \"thief\", \"thief\", \"thing\", \"thing\", \"thing\", \"thing\", \"thing\", \"thing\", \"thing\", \"thing\", \"thing\", \"thing\", \"thing\", \"thing\", \"thing\", \"thing\", \"thing\", \"think\", \"think\", \"think\", \"think\", \"think\", \"think\", \"think\", \"think\", \"think\", \"think\", \"think\", \"think\", \"think\", \"think\", \"think\", \"thorium\", \"tiingo\", \"tijms\", \"tkinter\", \"today\", \"today\", \"today\", \"today\", \"today\", \"today\", \"today\", \"today\", \"today\", \"today\", \"today\", \"today\", \"today\", \"today\", \"today\", \"token\", \"token\", \"token\", \"token\", \"token\", \"token\", \"token\", \"token\", \"tokens\", \"torres\", \"torres\", \"torus\", \"torvalds\", \"track\", \"track\", \"track\", \"track\", \"track\", \"track\", \"track\", \"track\", \"track\", \"track\", \"track\", \"track\", \"track\", \"track\", \"tracking\", \"tracking\", \"tracking\", \"tracking\", \"tracking\", \"tracking\", \"tracking\", \"tracking\", \"tracking\", \"traffic\", \"traffic\", \"traffic\", \"traffic\", \"traffic\", \"traffic\", \"traffic\", \"traffic\", \"traffic\", \"traffic\", \"traffic\", \"traffic\", \"train\", \"train\", \"train\", \"train\", \"train\", \"train\", \"train\", \"train\", \"train\", \"training\", \"training\", \"training\", \"training\", \"training\", \"training\", \"training\", \"training\", \"training\", \"training\", \"transaction\", \"transaction\", \"transaction\", \"transaction\", \"transaction\", \"transaction\", \"transaction\", \"transaction\", \"transaction\", \"transformation\", \"transformation\", \"transformation\", \"transformation\", \"transformation\", \"transformation\", \"transformation\", \"transformation\", \"transformation\", \"transit\", \"transit\", \"transit\", \"transit\", \"transit\", \"transition\", \"transition\", \"transition\", \"transition\", \"transition\", \"transition\", \"transition\", \"transition\", \"transition\", \"transition\", \"transition\", \"transpile\", \"treasury\", \"trello\", \"trello\", \"trello\", \"trello\", \"trello\", \"trello\", \"trend\", \"trend\", \"trend\", \"trend\", \"trend\", \"trend\", \"trend\", \"trend\", \"trend\", \"trend\", \"trend\", \"trend\", \"trend\", \"trend\", \"trendwatching\", \"trivia\", \"trivia\", \"trooly\", \"trump\", \"trump\", \"trump\", \"trump\", \"trump\", \"trump\", \"trump\", \"trump\", \"tuple\", \"turing\", \"twitter\", \"twitter\", \"twitter\", \"twitter\", \"twitter\", \"twitter\", \"twitter\", \"twitter\", \"twitter\", \"twitter\", \"twitter\", \"twitter\", \"twitter\", \"typescript\", \"typescript\", \"typescript\", \"ubuntu\", \"ubuntu\", \"ubuntu\", \"ubuntu\", \"ubuntu\", \"ubuntu\", \"uidata\", \"uirepeat\", \"unanimous\", \"unanimous\", \"understand\", \"understand\", \"understand\", \"understand\", \"understand\", \"understand\", \"understand\", \"understand\", \"understand\", \"understand\", \"understand\", \"understand\", \"understand\", \"understand\", \"unsupervised\", \"update\", \"update\", \"update\", \"update\", \"update\", \"update\", \"update\", \"update\", \"update\", \"update\", \"update\", \"upspin\", \"value\", \"value\", \"value\", \"value\", \"value\", \"value\", \"value\", \"value\", \"value\", \"value\", \"value\", \"value\", \"value\", \"value\", \"valve\", \"variable\", \"variable\", \"variable\", \"variable\", \"variable\", \"variable\", \"variable\", \"variable\", \"variable\", \"variable\", \"vectorization\", \"vehicle\", \"vehicle\", \"vehicle\", \"vehicle\", \"vehicle\", \"vehicle\", \"version\", \"version\", \"version\", \"version\", \"version\", \"version\", \"version\", \"version\", \"version\", \"version\", \"version\", \"version\", \"version\", \"version\", \"vessi\", \"vickers\", \"video\", \"video\", \"video\", \"video\", \"video\", \"video\", \"video\", \"video\", \"video\", \"video\", \"video\", \"video\", \"video\", \"video\", \"virality\", \"virtu\", \"visualization\", \"visualization\", \"visualization\", \"visualization\", \"visualization\", \"visualization\", \"vlendright\", \"vmware\", \"vmware\", \"voice\", \"voice\", \"voice\", \"voice\", \"voice\", \"voice\", \"voice\", \"voice\", \"voice\", \"voltron\", \"vondrick\", \"voronoi\", \"vsphere\", \"vxlan\", \"walgreen\", \"walgreens\", \"walkme\", \"walkthrough\", \"walkthrough\", \"walkthrough\", \"wallet\", \"wallet\", \"wallet\", \"wallet\", \"walmart\", \"walmart\", \"watch\", \"watch\", \"watch\", \"watch\", \"watch\", \"watch\", \"watch\", \"watch\", \"watch\", \"watch\", \"watch\", \"watch\", \"watch\", \"watch\", \"watch\", \"watchos\", \"watchos\", \"water\", \"water\", \"water\", \"water\", \"water\", \"water\", \"water\", \"water\", \"water\", \"water\", \"water\", \"water\", \"waterfall\", \"waterfall\", \"waterfall\", \"waterfall\", \"waterwheel\", \"weakreference\", \"webassembly\", \"webhook\", \"webhooks\", \"webpack\", \"webpack\", \"website\", \"website\", \"website\", \"website\", \"website\", \"website\", \"website\", \"website\", \"website\", \"website\", \"website\", \"website\", \"website\", \"website\", \"wechat\", \"wechat\", \"wechat\", \"wechat\", \"wechat\", \"white\", \"white\", \"white\", \"white\", \"white\", \"white\", \"white\", \"white\", \"white\", \"white\", \"white\", \"whois\", \"wikileaks\", \"wimbledon\", \"windows\", \"windows\", \"windows\", \"windows\", \"windows\", \"windows\", \"winfield\", \"wolpert\", \"woman\", \"woman\", \"woman\", \"woman\", \"woman\", \"woman\", \"women\", \"workflow\", \"workflow\", \"workflow\", \"workflow\", \"workflow\", \"workflow\", \"workflow\", \"workflow\", \"workflow\", \"workflow\", \"workload\", \"workload\", \"workload\", \"workload\", \"workload\", \"workplace\", \"workplace\", \"workplace\", \"workplace\", \"workplace\", \"workplace\", \"world\", \"world\", \"world\", \"world\", \"world\", \"world\", \"world\", \"world\", \"world\", \"world\", \"world\", \"world\", \"world\", \"world\", \"world\", \"wozniak\", \"wozniak\", \"write\", \"write\", \"write\", \"write\", \"write\", \"write\", \"write\", \"write\", \"write\", \"write\", \"write\", \"write\", \"write\", \"write\", \"xiaomi\", \"yammer\", \"youtube\", \"youtube\", \"youtube\", \"youtube\", \"youtube\", \"youtube\", \"youtube\", \"youtube\", \"zendesk\", \"zendesk\", \"zigbee\", \"zookeeper\", \"zookeeper\", \"zookeeper\", \"zumbrunnen\"]}, \"R\": 30, \"lambda.step\": 0.01, \"plot.opts\": {\"xlab\": \"PC1\", \"ylab\": \"PC2\"}, \"topic.order\": [7, 5, 6, 3, 14, 11, 2, 9, 15, 12, 10, 4, 13, 8, 1]};\n",
       "\n",
       "function LDAvis_load_lib(url, callback){\n",
       "  var s = document.createElement('script');\n",
       "  s.src = url;\n",
       "  s.async = true;\n",
       "  s.onreadystatechange = s.onload = callback;\n",
       "  s.onerror = function(){console.warn(\"failed to load library \" + url);};\n",
       "  document.getElementsByTagName(\"head\")[0].appendChild(s);\n",
       "}\n",
       "\n",
       "if(typeof(LDAvis) !== \"undefined\"){\n",
       "   // already loaded: just create the visualization\n",
       "   !function(LDAvis){\n",
       "       new LDAvis(\"#\" + \"ldavis_el215011397515690190727208221357\", ldavis_el215011397515690190727208221357_data);\n",
       "   }(LDAvis);\n",
       "}else if(typeof define === \"function\" && define.amd){\n",
       "   // require.js is available: use it to load d3/LDAvis\n",
       "   require.config({paths: {d3: \"https://cdnjs.cloudflare.com/ajax/libs/d3/3.5.5/d3.min\"}});\n",
       "   require([\"d3\"], function(d3){\n",
       "      window.d3 = d3;\n",
       "      LDAvis_load_lib(\"https://cdn.rawgit.com/bmabey/pyLDAvis/files/ldavis.v1.0.0.js\", function(){\n",
       "        new LDAvis(\"#\" + \"ldavis_el215011397515690190727208221357\", ldavis_el215011397515690190727208221357_data);\n",
       "      });\n",
       "    });\n",
       "}else{\n",
       "    // require.js not available: dynamically load d3 & LDAvis\n",
       "    LDAvis_load_lib(\"https://cdnjs.cloudflare.com/ajax/libs/d3/3.5.5/d3.min.js\", function(){\n",
       "         LDAvis_load_lib(\"https://cdn.rawgit.com/bmabey/pyLDAvis/files/ldavis.v1.0.0.js\", function(){\n",
       "                 new LDAvis(\"#\" + \"ldavis_el215011397515690190727208221357\", ldavis_el215011397515690190727208221357_data);\n",
       "            })\n",
       "         });\n",
       "}\n",
       "</script>"
      ],
      "text/plain": [
       "PreparedData(topic_coordinates=              x         y  topics  cluster       Freq\n",
       "topic                                                \n",
       "6     -0.144774 -0.050035       1        1  13.525094\n",
       "4     -0.004657  0.014986       2        1  12.828754\n",
       "5      0.066064  0.183712       3        1  11.886457\n",
       "2      0.042413  0.144496       4        1  10.830029\n",
       "13    -0.173971  0.062413       5        1   9.398981\n",
       "10     0.050079  0.000165       6        1   8.097757\n",
       "1     -0.073929  0.066920       7        1   6.971852\n",
       "8     -0.073956 -0.035232       8        1   5.915535\n",
       "14     0.043999 -0.035346       9        1   5.122229\n",
       "11     0.083070 -0.078391      10        1   3.875720\n",
       "9     -0.097405 -0.116462      11        1   3.233102\n",
       "3     -0.046987  0.036495      12        1   2.566767\n",
       "12     0.141688  0.060895      13        1   1.993615\n",
       "7     -0.051172 -0.132614      14        1   1.946124\n",
       "0      0.239539 -0.122002      15        1   1.807984, topic_info=      Category         Freq      Term        Total  loglift  logprob\n",
       "10871  Default  5174.000000    google  5174.000000  30.0000  30.0000\n",
       "4677   Default  2369.000000     cloud  2369.000000  29.0000  29.0000\n",
       "7841   Default  1045.000000    drupal  1045.000000  28.0000  28.0000\n",
       "1201   Default  1656.000000     apple  1656.000000  27.0000  27.0000\n",
       "15458  Default  2694.000000   machine  2694.000000  26.0000  26.0000\n",
       "...        ...          ...       ...          ...      ...      ...\n",
       "8451   Topic15    43.250721  engineer   730.262735   1.1866  -5.7850\n",
       "29410  Topic15    48.442912     world  1946.114772   0.3198  -5.6716\n",
       "24969  Topic15    40.987105     state   736.042984   1.1249  -5.8387\n",
       "19328  Topic15    44.892728    people  3528.860114  -0.3515  -5.7477\n",
       "16515  Topic15    41.294317   million  1031.095962   0.7953  -5.8313\n",
       "\n",
       "[1189 rows x 6 columns], token_table=       Topic      Freq        Term\n",
       "term                              \n",
       "122        1  0.120003      access\n",
       "122        2  0.050770      access\n",
       "122        3  0.141234      access\n",
       "122        4  0.079386      access\n",
       "122        5  0.313853      access\n",
       "...      ...       ...         ...\n",
       "29705      6  0.916526      zigbee\n",
       "29733      4  0.152851   zookeeper\n",
       "29733      9  0.764257   zookeeper\n",
       "29733     13  0.038213   zookeeper\n",
       "29745     11  0.873597  zumbrunnen\n",
       "\n",
       "[5107 rows x 3 columns], R=30, lambda_step=0.01, plot_opts={'xlab': 'PC1', 'ylab': 'PC2'}, topic_order=[7, 5, 6, 3, 14, 11, 2, 9, 15, 12, 10, 4, 13, 8, 1])"
      ]
     },
     "execution_count": 49,
     "metadata": {},
     "output_type": "execute_result"
    }
   ],
   "source": [
    "pyLDAvis.sklearn.prepare(lda_tf, dtm_tf, tf_vectorizer)"
   ]
  },
  {
   "cell_type": "markdown",
   "metadata": {},
   "source": [
    "#### Using different MDS functions\n",
    "\n",
    "With `sklearn` installed, other MDS functions, such as MMDS and TSNE can be used for plotting if the default PCoA is not satisfactory."
   ]
  },
  {
   "cell_type": "code",
   "execution_count": 50,
   "metadata": {},
   "outputs": [],
   "source": [
    "# pyLDAvis.sklearn.prepare(lda_tf, dtm_tf, tf_vectorizer, mds='mmds')"
   ]
  },
  {
   "cell_type": "code",
   "execution_count": 51,
   "metadata": {},
   "outputs": [],
   "source": [
    "# pyLDAvis.sklearn.prepare(lda_tf, dtm_tf, tf_vectorizer, mds='tsne')"
   ]
  },
  {
   "cell_type": "markdown",
   "metadata": {},
   "source": [
    "### Tf-IDf LDA"
   ]
  },
  {
   "cell_type": "code",
   "execution_count": 52,
   "metadata": {},
   "outputs": [
    {
     "name": "stdout",
     "output_type": "stream",
     "text": [
      "Time Taken : 13.7012    sec\n",
      "topic_0 : #kittlaus, #bryant, #bluemix, #shots, #whiteboard, #jamboard, #sussman, #instrumentation, #disclosure, #bootloader\n",
      "topic_1 : #firebase, #swarm, #balancer, #microservice, #stackdriver, #downtime, #gcloud, #layout, #niantic, #proxy\n",
      "topic_2 : #aggregations, #aggregation, #elasticsearch, #facets, #raspberry, #sorted, #buffer, #gradle, #macos, #sierra\n",
      "topic_3 : #mycroft, #thunder, #burda, #kickstarter, #tesla, #skully, #walgreens, #publishing, #interviewer, #coupons\n",
      "topic_4 : #layout, #arguments, #debate, #bigquery, #graphs, #constraints, #angular, #optimization, #micro, #checklist\n",
      "topic_5 : #sprints, #kotlin, #optionals, #dagger, #kibana, #espresso, #retrolambda, #subcommittee, #unicode, #safari\n",
      "topic_6 : #female, #scandic, #portrait, #kotlin, #bigquery, #sarcastic, #istanbul, #tattoo, #vintage, #dzone\n",
      "topic_7 : #acquia, #protocol, #whatsapp, #ubuntu, #dynamic, #keyboard, #caching, #optimization, #exposed, #dropbox\n",
      "topic_8 : #evaluations, #martech, #brazilian, #resistance, #aliases, #iwork, #dualshock, #forwarding, #heroku, #honey\n",
      "topic_9 : #keyboard, #incognito, #bonuses, #verge, #reservations, #deeptext, #macrumors, #gboard, #weave, #consultancies\n",
      "topic_10 : #shareable, #customizable, #favorites, #infographics, #decks, #african, #coaching, #qualcomm, #slide, #snapdragon\n",
      "topic_11 : #google, #people, #using, #company, #users, #learning, #cloud, #business, #technology, #platform\n",
      "topic_12 : #instapaper, #webpass, #sublime, #fblearner, #passengers, #fiber, #humility, #undifferentiated, #fleksy, #pooling\n",
      "topic_13 : #mcdonald, #comics, #diversion, #shoot, #foxconn, #braintree, #laude, #walkthrough, #tetra, #seenit\n",
      "topic_14 : #trendwatching, #briefing, #memcache, #spotting, #french, #oreal, #bekele, #torvalds, #futhark, #arena\n"
     ]
    }
   ],
   "source": [
    "tf_idf_vectorizer = TfidfVectorizer(strip_accents = 'ascii',\n",
    "                                    stop_words = 'english',\n",
    "                                    lowercase = True,\n",
    "                                    analyzer = 'word',\n",
    "                                    token_pattern = r'\\b[a-zA-Z]{5,}\\b',\n",
    "                                    ngram_range = (1, 1),\n",
    "                                    max_df = 0.8, min_df = 1,\n",
    "                                    #max_features = 1000,\n",
    "                                    norm='l2', \n",
    "                                    use_idf=True, smooth_idf=True, sublinear_tf=True)\n",
    "lda_tf_idf = LatentDirichletAllocation(n_components=15, random_state=0)\n",
    "\n",
    "start_time = default_timer()\n",
    "\n",
    "dtm_tf_idf = tf_idf_vectorizer.fit_transform(eng_shared_articles_content_df['text_content'])\n",
    "lda_tf_idf.fit(dtm_tf_idf)\n",
    "\n",
    "end_time = default_timer()\n",
    "time_taken_str = convert_sec(end_time - start_time)\n",
    "print(\"Time Taken : {}\".format(time_taken_str))\n",
    "\n",
    "tf_idf_feature_names = tf_idf_vectorizer.get_feature_names()\n",
    "topics = get_topics(lda_tf_idf, tf_idf_feature_names, n_top_words=10)"
   ]
  },
  {
   "cell_type": "code",
   "execution_count": 53,
   "metadata": {},
   "outputs": [
    {
     "data": {
      "text/plain": [
       "(2185, 36915)"
      ]
     },
     "execution_count": 53,
     "metadata": {},
     "output_type": "execute_result"
    }
   ],
   "source": [
    "dtm_tf_idf.shape"
   ]
  },
  {
   "cell_type": "code",
   "execution_count": 54,
   "metadata": {},
   "outputs": [
    {
     "data": {
      "text/plain": [
       "(15, 36915)"
      ]
     },
     "execution_count": 54,
     "metadata": {},
     "output_type": "execute_result"
    }
   ],
   "source": [
    "lda_tf_idf.components_.shape"
   ]
  },
  {
   "cell_type": "code",
   "execution_count": 55,
   "metadata": {},
   "outputs": [
    {
     "data": {
      "text/plain": [
       "(2185, 15)"
      ]
     },
     "execution_count": 55,
     "metadata": {},
     "output_type": "execute_result"
    }
   ],
   "source": [
    "reduced_dtm_tf_idf = lda_tf_idf.transform(dtm_tf_idf)\n",
    "reduced_dtm_tf_idf.shape"
   ]
  },
  {
   "cell_type": "code",
   "execution_count": 56,
   "metadata": {},
   "outputs": [
    {
     "name": "stderr",
     "output_type": "stream",
     "text": [
      "/home/ravi/recommendation_system/recommender_system/rec_sys_env/lib/python3.7/site-packages/pyLDAvis/_prepare.py:257: FutureWarning: Sorting because non-concatenation axis is not aligned. A future version\n",
      "of pandas will change to not sort by default.\n",
      "\n",
      "To accept the future behavior, pass 'sort=False'.\n",
      "\n",
      "To retain the current behavior and silence the warning, pass 'sort=True'.\n",
      "\n",
      "  return pd.concat([default_term_info] + list(topic_dfs))\n"
     ]
    },
    {
     "data": {
      "text/html": [
       "\n",
       "<link rel=\"stylesheet\" type=\"text/css\" href=\"https://cdn.rawgit.com/bmabey/pyLDAvis/files/ldavis.v1.0.0.css\">\n",
       "\n",
       "\n",
       "<div id=\"ldavis_el21501139751552982136157798396\"></div>\n",
       "<script type=\"text/javascript\">\n",
       "\n",
       "var ldavis_el21501139751552982136157798396_data = {\"mdsDat\": {\"x\": [0.32360156694905634, -0.05268815770381733, -0.04783800790643369, -0.02856107497379223, -0.02309010151444573, -0.02089040671546054, -0.020051054641092324, -0.018986077034595747, -0.017310606260096416, -0.017153754358129696, -0.01714333227102043, -0.01656872005468537, -0.016288686413520288, -0.014161114261148564, -0.012870472840817994], \"y\": [0.0038202247989403727, 0.0619328891250304, -0.024757854217354647, -0.005555707308067563, -0.007265678218564726, -0.004497339805967083, -0.004710605036697924, -0.004251951269954345, -0.003303000887485518, -0.0027645968173911333, -0.002896958668455148, -0.002711561420264681, -0.0022261822734419806, -0.0008210386985863685, 9.360698260716556e-06], \"topics\": [1, 2, 3, 4, 5, 6, 7, 8, 9, 10, 11, 12, 13, 14, 15], \"cluster\": [1, 1, 1, 1, 1, 1, 1, 1, 1, 1, 1, 1, 1, 1, 1], \"Freq\": [73.71303014985594, 4.385899148036123, 3.848176524948168, 2.162808461441546, 1.8121328963740186, 1.656521783734027, 1.6086083350289497, 1.529938460548165, 1.421311600657022, 1.41519357064455, 1.412309704814889, 1.3713875630662529, 1.340624676123333, 1.2049425610284263, 1.1171145636985904]}, \"tinfo\": {\"Category\": [\"Default\", \"Default\", \"Default\", \"Default\", \"Default\", \"Default\", \"Default\", \"Default\", \"Default\", \"Default\", \"Default\", \"Default\", \"Default\", \"Default\", \"Default\", \"Default\", \"Default\", \"Default\", \"Default\", \"Default\", \"Default\", \"Default\", \"Default\", \"Default\", \"Default\", \"Default\", \"Default\", \"Default\", \"Default\", \"Default\", \"Topic1\", \"Topic1\", \"Topic1\", \"Topic1\", \"Topic1\", \"Topic1\", \"Topic1\", \"Topic1\", \"Topic1\", \"Topic1\", \"Topic1\", \"Topic1\", \"Topic1\", \"Topic1\", \"Topic1\", \"Topic1\", \"Topic1\", \"Topic1\", \"Topic1\", \"Topic1\", \"Topic1\", \"Topic1\", \"Topic1\", \"Topic1\", \"Topic1\", \"Topic1\", \"Topic1\", \"Topic1\", \"Topic1\", \"Topic1\", \"Topic2\", \"Topic2\", \"Topic2\", \"Topic2\", \"Topic2\", \"Topic2\", \"Topic2\", \"Topic2\", \"Topic2\", \"Topic2\", \"Topic2\", \"Topic2\", \"Topic2\", \"Topic2\", \"Topic2\", \"Topic2\", \"Topic2\", \"Topic2\", \"Topic2\", \"Topic2\", \"Topic2\", \"Topic2\", \"Topic2\", \"Topic2\", \"Topic2\", \"Topic2\", \"Topic2\", \"Topic2\", \"Topic2\", \"Topic2\", \"Topic2\", \"Topic2\", \"Topic2\", \"Topic2\", \"Topic2\", \"Topic2\", \"Topic2\", \"Topic2\", \"Topic2\", \"Topic2\", \"Topic2\", \"Topic2\", \"Topic2\", \"Topic2\", \"Topic2\", \"Topic2\", \"Topic2\", \"Topic2\", \"Topic3\", \"Topic3\", \"Topic3\", \"Topic3\", \"Topic3\", \"Topic3\", \"Topic3\", \"Topic3\", \"Topic3\", \"Topic3\", \"Topic3\", \"Topic3\", \"Topic3\", \"Topic3\", \"Topic3\", \"Topic3\", \"Topic3\", \"Topic3\", \"Topic3\", \"Topic3\", \"Topic3\", \"Topic3\", \"Topic3\", \"Topic3\", \"Topic3\", \"Topic3\", \"Topic3\", \"Topic3\", \"Topic3\", \"Topic3\", \"Topic3\", \"Topic3\", \"Topic3\", \"Topic3\", \"Topic3\", \"Topic3\", \"Topic3\", \"Topic3\", \"Topic3\", \"Topic3\", \"Topic3\", \"Topic3\", \"Topic3\", \"Topic3\", \"Topic3\", \"Topic3\", \"Topic3\", \"Topic3\", \"Topic4\", \"Topic4\", \"Topic4\", \"Topic4\", \"Topic4\", \"Topic4\", \"Topic4\", \"Topic4\", \"Topic4\", \"Topic4\", \"Topic4\", \"Topic4\", \"Topic4\", \"Topic4\", \"Topic4\", \"Topic4\", \"Topic4\", \"Topic4\", \"Topic4\", \"Topic4\", \"Topic4\", \"Topic4\", \"Topic4\", \"Topic4\", \"Topic4\", \"Topic4\", \"Topic4\", \"Topic4\", \"Topic4\", \"Topic4\", \"Topic4\", \"Topic4\", \"Topic4\", \"Topic4\", \"Topic4\", \"Topic4\", \"Topic4\", \"Topic4\", \"Topic4\", \"Topic4\", \"Topic4\", \"Topic4\", \"Topic5\", \"Topic5\", \"Topic5\", \"Topic5\", \"Topic5\", \"Topic5\", \"Topic5\", \"Topic5\", \"Topic5\", \"Topic5\", \"Topic5\", \"Topic5\", \"Topic5\", \"Topic5\", \"Topic5\", \"Topic5\", \"Topic5\", \"Topic5\", \"Topic5\", \"Topic5\", \"Topic5\", \"Topic5\", \"Topic5\", \"Topic5\", \"Topic5\", \"Topic5\", \"Topic5\", \"Topic5\", \"Topic5\", \"Topic5\", \"Topic5\", \"Topic5\", \"Topic5\", \"Topic5\", \"Topic5\", \"Topic5\", \"Topic5\", \"Topic5\", \"Topic5\", \"Topic5\", \"Topic5\", \"Topic5\", \"Topic5\", \"Topic5\", \"Topic6\", \"Topic6\", \"Topic6\", \"Topic6\", \"Topic6\", \"Topic6\", \"Topic6\", \"Topic6\", \"Topic6\", \"Topic6\", \"Topic6\", \"Topic6\", \"Topic6\", \"Topic6\", \"Topic6\", \"Topic6\", \"Topic6\", \"Topic6\", \"Topic6\", \"Topic6\", \"Topic6\", \"Topic6\", \"Topic6\", \"Topic6\", \"Topic6\", \"Topic6\", \"Topic6\", \"Topic6\", \"Topic6\", \"Topic6\", \"Topic6\", \"Topic6\", \"Topic6\", \"Topic6\", \"Topic6\", \"Topic6\", \"Topic6\", \"Topic6\", \"Topic6\", \"Topic6\", \"Topic6\", \"Topic7\", \"Topic7\", \"Topic7\", \"Topic7\", \"Topic7\", \"Topic7\", \"Topic7\", \"Topic7\", \"Topic7\", \"Topic7\", \"Topic7\", \"Topic7\", \"Topic7\", \"Topic7\", \"Topic7\", \"Topic7\", \"Topic7\", \"Topic7\", \"Topic7\", \"Topic7\", \"Topic7\", \"Topic7\", \"Topic7\", \"Topic7\", \"Topic7\", \"Topic7\", \"Topic7\", \"Topic7\", \"Topic7\", \"Topic7\", \"Topic7\", \"Topic7\", \"Topic7\", \"Topic7\", \"Topic7\", \"Topic7\", \"Topic7\", \"Topic7\", \"Topic7\", \"Topic7\", \"Topic7\", \"Topic7\", \"Topic7\", \"Topic7\", \"Topic7\", \"Topic8\", \"Topic8\", \"Topic8\", \"Topic8\", \"Topic8\", \"Topic8\", \"Topic8\", \"Topic8\", \"Topic8\", \"Topic8\", \"Topic8\", \"Topic8\", \"Topic8\", \"Topic8\", \"Topic8\", \"Topic8\", \"Topic8\", \"Topic8\", \"Topic8\", \"Topic8\", \"Topic8\", \"Topic8\", \"Topic8\", \"Topic8\", \"Topic8\", \"Topic8\", \"Topic8\", \"Topic8\", \"Topic8\", \"Topic8\", \"Topic8\", \"Topic8\", \"Topic8\", \"Topic8\", \"Topic8\", \"Topic8\", \"Topic8\", \"Topic8\", \"Topic8\", \"Topic8\", \"Topic8\", \"Topic8\", \"Topic9\", \"Topic9\", \"Topic9\", \"Topic9\", \"Topic9\", \"Topic9\", \"Topic9\", \"Topic9\", \"Topic9\", \"Topic9\", \"Topic9\", \"Topic9\", \"Topic9\", \"Topic9\", \"Topic9\", \"Topic9\", \"Topic9\", \"Topic9\", \"Topic9\", \"Topic9\", \"Topic9\", \"Topic9\", \"Topic9\", \"Topic9\", \"Topic9\", \"Topic9\", \"Topic9\", \"Topic9\", \"Topic9\", \"Topic9\", \"Topic9\", \"Topic9\", \"Topic9\", \"Topic9\", \"Topic9\", \"Topic9\", \"Topic9\", \"Topic9\", \"Topic9\", \"Topic9\", \"Topic9\", \"Topic9\", \"Topic9\", \"Topic9\", \"Topic9\", \"Topic10\", \"Topic10\", \"Topic10\", \"Topic10\", \"Topic10\", \"Topic10\", \"Topic10\", \"Topic10\", \"Topic10\", \"Topic10\", \"Topic10\", \"Topic10\", \"Topic10\", \"Topic10\", \"Topic10\", \"Topic10\", \"Topic10\", \"Topic10\", \"Topic10\", \"Topic10\", \"Topic10\", \"Topic10\", \"Topic10\", \"Topic10\", \"Topic10\", \"Topic10\", \"Topic10\", \"Topic10\", \"Topic10\", \"Topic10\", \"Topic10\", \"Topic10\", \"Topic10\", \"Topic10\", \"Topic10\", \"Topic10\", \"Topic10\", \"Topic10\", \"Topic10\", \"Topic10\", \"Topic10\", \"Topic10\", \"Topic10\", \"Topic10\", \"Topic10\", \"Topic11\", \"Topic11\", \"Topic11\", \"Topic11\", \"Topic11\", \"Topic11\", \"Topic11\", \"Topic11\", \"Topic11\", \"Topic11\", \"Topic11\", \"Topic11\", \"Topic11\", \"Topic11\", \"Topic11\", \"Topic11\", \"Topic11\", \"Topic11\", \"Topic11\", \"Topic11\", \"Topic11\", \"Topic11\", \"Topic11\", \"Topic11\", \"Topic11\", \"Topic11\", \"Topic11\", \"Topic11\", \"Topic11\", \"Topic11\", \"Topic11\", \"Topic11\", \"Topic11\", \"Topic11\", \"Topic11\", \"Topic11\", \"Topic11\", \"Topic11\", \"Topic11\", \"Topic11\", \"Topic11\", \"Topic11\", \"Topic11\", \"Topic12\", \"Topic12\", \"Topic12\", \"Topic12\", \"Topic12\", \"Topic12\", \"Topic12\", \"Topic12\", \"Topic12\", \"Topic12\", \"Topic12\", \"Topic12\", \"Topic12\", \"Topic12\", \"Topic12\", \"Topic12\", \"Topic12\", \"Topic12\", \"Topic12\", \"Topic12\", \"Topic12\", \"Topic12\", \"Topic12\", \"Topic12\", \"Topic12\", \"Topic12\", \"Topic12\", \"Topic12\", \"Topic12\", \"Topic12\", \"Topic12\", \"Topic12\", \"Topic12\", \"Topic12\", \"Topic12\", \"Topic12\", \"Topic12\", \"Topic12\", \"Topic13\", \"Topic13\", \"Topic13\", \"Topic13\", \"Topic13\", \"Topic13\", \"Topic13\", \"Topic13\", \"Topic13\", \"Topic13\", \"Topic13\", \"Topic13\", \"Topic13\", \"Topic13\", \"Topic13\", \"Topic13\", \"Topic13\", \"Topic13\", \"Topic13\", \"Topic13\", \"Topic13\", \"Topic13\", \"Topic13\", \"Topic13\", \"Topic13\", \"Topic13\", \"Topic13\", \"Topic13\", \"Topic13\", \"Topic13\", \"Topic13\", \"Topic13\", \"Topic13\", \"Topic13\", \"Topic13\", \"Topic13\", \"Topic13\", \"Topic13\", \"Topic13\", \"Topic13\", \"Topic13\", \"Topic13\", \"Topic13\", \"Topic14\", \"Topic14\", \"Topic14\", \"Topic14\", \"Topic14\", \"Topic14\", \"Topic14\", \"Topic14\", \"Topic14\", \"Topic14\", \"Topic14\", \"Topic14\", \"Topic14\", \"Topic14\", \"Topic14\", \"Topic14\", \"Topic14\", \"Topic14\", \"Topic14\", \"Topic14\", \"Topic14\", \"Topic14\", \"Topic14\", \"Topic14\", \"Topic14\", \"Topic14\", \"Topic14\", \"Topic14\", \"Topic14\", \"Topic14\", \"Topic14\", \"Topic14\", \"Topic14\", \"Topic14\", \"Topic14\", \"Topic14\", \"Topic14\", \"Topic14\", \"Topic14\", \"Topic14\", \"Topic14\", \"Topic14\", \"Topic14\", \"Topic14\", \"Topic14\", \"Topic14\", \"Topic15\", \"Topic15\", \"Topic15\", \"Topic15\", \"Topic15\", \"Topic15\", \"Topic15\", \"Topic15\", \"Topic15\", \"Topic15\", \"Topic15\", \"Topic15\", \"Topic15\", \"Topic15\", \"Topic15\", \"Topic15\", \"Topic15\", \"Topic15\", \"Topic15\", \"Topic15\", \"Topic15\", \"Topic15\", \"Topic15\", \"Topic15\", \"Topic15\", \"Topic15\", \"Topic15\", \"Topic15\", \"Topic15\", \"Topic15\", \"Topic15\", \"Topic15\", \"Topic15\", \"Topic15\", \"Topic15\", \"Topic15\", \"Topic15\", \"Topic15\", \"Topic15\", \"Topic15\", \"Topic15\", \"Topic15\"], \"Freq\": [2.0, 1.0, 1.0, 1.0, 2.0, 1.0, 1.0, 1.0, 1.0, 1.0, 40.0, 1.0, 4.0, 2.0, 1.0, 1.0, 1.0, 1.0, 1.0, 1.0, 1.0, 1.0, 1.0, 1.0, 1.0, 1.0, 1.0, 1.0, 1.0, 1.0, 40.728429215044066, 30.7870364760347, 30.135818482392917, 29.88123653874881, 28.369017175158323, 25.624117672210687, 25.469579367404005, 25.011853838367387, 24.499723417741304, 24.423059353235246, 24.360196409811333, 23.531717280022015, 23.52791372490645, 23.492159885545757, 23.458371945566437, 22.985493195963127, 22.951896073723844, 22.90365195994774, 22.865962749197827, 22.716889375843195, 22.655323397345796, 22.611963605842732, 22.522134804974186, 22.08246090180497, 21.43090095893652, 21.291543486145496, 21.260041108431395, 21.23910108135444, 21.15137092424384, 20.403265080336105, 1.7870127361181452, 1.0175417993057114, 0.7387290869565322, 0.7653102920836639, 1.0750976006623039, 0.6042485335045107, 0.5964737584878231, 0.6554849431218545, 0.5508458592173081, 0.5366302023691628, 0.6200262426857489, 0.4915259625593422, 0.6083627916868122, 0.8484916496046262, 0.8376354243676182, 0.5483546161626153, 0.5764403564010773, 0.5001903389731199, 0.4980013754571107, 0.7721414898883853, 0.5997599778644073, 0.5234754715976172, 0.4946301152254861, 0.8157495314232425, 0.6590839836793941, 0.507409428237887, 0.546397543482573, 0.9100913796661989, 1.2836086443347725, 0.44340438584840025, 0.6069136269814905, 0.7555985808999984, 0.7350804992627167, 0.8255523761394119, 0.6557236293109099, 0.751432838168499, 0.6875865905818386, 0.9269684157837337, 0.778844772257323, 0.9777028293301957, 0.6315758798748462, 0.8636156402137076, 0.7748065053095511, 0.8060770889181236, 0.6942420646772448, 0.7873245410969788, 0.6822778371982002, 0.6538047666085043, 1.1868629265242738, 0.4778558041105328, 0.5110937380582142, 0.4156689188734289, 0.3712731722475128, 0.37059350680528186, 0.5088715615361779, 0.5071744200087028, 0.3965269873939207, 0.45169440003174904, 0.38536120940534085, 0.4860055476881639, 0.415080944617826, 0.654333163879837, 0.40479251529214355, 0.3784459627315887, 0.5887922552847327, 0.30976413533125063, 0.35072948988796687, 0.6227982919267797, 0.39421198595741047, 0.4609904352725122, 0.29522760575645696, 0.31191763211515655, 0.47564159368049247, 0.4109864219544722, 0.315686343319031, 0.45505133639721707, 0.290415274285962, 0.34376215876664284, 0.4658639670207314, 0.39810529940742045, 0.5028260735078538, 0.4997091748346351, 0.5506171604208803, 0.5026474565376339, 0.47175233894653157, 0.45332864453751354, 0.6047241891169992, 0.5615462014992252, 0.5221903314141104, 0.4585729941351821, 0.4570188369313592, 0.4881938529898966, 0.47369690127894687, 0.4612339014557591, 0.5311327977080372, 0.47237367220101584, 0.33156083097792577, 0.33216963050815435, 0.2674651605905194, 0.25034154219965027, 0.2618738809200632, 0.19381782032515416, 0.24504449579689372, 0.19642752307421377, 0.2000139725251466, 0.21967349706344155, 0.15819853940478004, 0.3295497208308731, 0.2258966694364114, 0.14530000165022156, 0.14340527117917795, 0.16748370648395727, 0.22125380671790779, 0.37322074763623453, 0.19000011041615497, 0.13423939261604811, 0.23184029689675512, 0.12498562858580095, 0.1942823618021742, 0.15079482880835815, 0.12708171996502382, 0.12104453516430484, 0.12666147336268094, 0.11885318745602819, 0.1141367886940384, 0.11114652436213462, 0.2245118463958333, 0.27459420980282745, 0.2458815357744497, 0.23592315109585757, 0.17576146276702478, 0.16337027025375805, 0.19775388462673998, 0.25745000428668224, 0.18994868982061003, 0.1694732822087153, 0.17311053241853835, 0.1674811009452264, 0.2953159892618277, 0.26788614440340197, 0.1664843187039656, 0.12916857516531663, 0.13185746101626478, 0.23527029998423143, 0.12563508691022607, 0.10724134121916082, 0.10538777360125083, 0.11980128444409373, 0.10026437780868615, 0.1327678488653707, 0.1138316977830547, 0.1463447799165645, 0.09321589407172232, 0.089267817994752, 0.11167464975727494, 0.0927493836601941, 0.08869394625388706, 0.08553667356621424, 0.08509847254580999, 0.08452632217556562, 0.08972743580116468, 0.08194736724243727, 0.10006830622038546, 0.10686484547170771, 0.07986600961070783, 0.07927681162765285, 0.14151207980232236, 0.07770225715952249, 0.09851973386586259, 0.09022641496328651, 0.09310882527183648, 0.11192151896845448, 0.13614615601252517, 0.10975198770769098, 0.14081413623968175, 0.14938981536048526, 0.11387739253295893, 0.14031361654842944, 0.11524237273272689, 0.10784358160737922, 0.11314112375956757, 0.10459313838075958, 0.12310670140502816, 0.10908607868098458, 0.10888367739370931, 0.09635852373842613, 0.09226956043388018, 0.08390161524794422, 0.08202024449976357, 0.08069986912127039, 0.08778065786105718, 0.09283555711915974, 0.07786557727530007, 0.07749779879279328, 0.07709198853833613, 0.07649353295871096, 0.07840850329298507, 0.07808348337836886, 0.07412498279913868, 0.07329753429539602, 0.07258830137964759, 0.07258169594063832, 0.11450240321355924, 0.07134545453763651, 0.11570764587187965, 0.11983903454603113, 0.07821394741247895, 0.06797403686310519, 0.08010323040050538, 0.06739438492309184, 0.0669262131749916, 0.08251212231943987, 0.1358485233866138, 0.09895427718913127, 0.1067590099546417, 0.08776833760356435, 0.10244598190435063, 0.0957758195422378, 0.08521076109378528, 0.09205382707203952, 0.08952845888774491, 0.09031069208027596, 0.08202171898617955, 0.1213588480973481, 0.09864056760747451, 0.09681124405831254, 0.09248676141107237, 0.09919259259676137, 0.11217864564896146, 0.07381166257314332, 0.0729281819712341, 0.0703162286600554, 0.06910183811692451, 0.06910183811692451, 0.09594128283976748, 0.07048099922297053, 0.06837700312078078, 0.07391232106559055, 0.06814677300611194, 0.09411678526929114, 0.10837958631475846, 0.06613710953403766, 0.08186812703654159, 0.06463499881410845, 0.09373120567433134, 0.06758353025587627, 0.06313295457681363, 0.07873971862954691, 0.06212458223100367, 0.06071399045192283, 0.06043558776476953, 0.06638294915832588, 0.0598087677276438, 0.11075335692797245, 0.08163658421387578, 0.07417299161361735, 0.09223916302955257, 0.0801272188572566, 0.07964466711885539, 0.08488960442652532, 0.07596312927974937, 0.12301853088011105, 0.07984511812252668, 0.07780590908994067, 0.07263866648221894, 0.07400750083600816, 0.07664023599666725, 0.07454479750397516, 0.12612735310938594, 0.14469757320944795, 0.12218452344083672, 0.09913920911242761, 0.11864316945751854, 0.08758511340163443, 0.1405376739436111, 0.12906897319443672, 0.07573875259160459, 0.07461283745980893, 0.07387497015575102, 0.07258647855109057, 0.07173916841849978, 0.07085191603255785, 0.06966252112865819, 0.06909258983870516, 0.06804881567172946, 0.0678235017577654, 0.0675834510392778, 0.06696010184040765, 0.0902977543665351, 0.06605824634928056, 0.08118329312386113, 0.06513597766365048, 0.06372652279729979, 0.06367779369367262, 0.06320670190191369, 0.06219847490288399, 0.0731635898415372, 0.05982667496101658, 0.10298202839263955, 0.08477534373765984, 0.11597074783699955, 0.0740004207944684, 0.10174217451110744, 0.09751000819426633, 0.07666877785161663, 0.08265396326736332, 0.07080075601726082, 0.07781493651303804, 0.07141533234998955, 0.0784023132031948, 0.08121738947882864, 0.07030239997786089, 0.0820663620152335, 0.0694290635716293, 0.06484063646613002, 0.06414613884942343, 0.06362082784142806, 0.06280313598629035, 0.061176247907008714, 0.0740936827930151, 0.06587048386835179, 0.059130290551925986, 0.058399663798867886, 0.05815447340413484, 0.08050463659023782, 0.05761730814115985, 0.05761730814115985, 0.061323130218353235, 0.05999671907441138, 0.0560675665037327, 0.0558765692547368, 0.0558765692547368, 0.05525824449413567, 0.05578752167129661, 0.0576250795681395, 0.054570290035044454, 0.05439797988651878, 0.05435078689778657, 0.05514855193583014, 0.0661086842187682, 0.07686691593479303, 0.060445585035800505, 0.07704080237310917, 0.059785638506461625, 0.06806623142459776, 0.06725548439643574, 0.061845826472211915, 0.06999146793242456, 0.069591603947426, 0.06572498735277651, 0.06521634170103226, 0.059697207389607494, 0.06086236000444004, 0.05919959690139915, 0.059767702499107185, 0.09438908958191113, 0.09214202141450517, 0.08121641888276353, 0.08779833344307875, 0.07662590981420135, 0.07365055053171529, 0.07982988724480594, 0.0650955335690723, 0.06242966788692053, 0.06231577634409295, 0.06737892251752675, 0.07351017863785594, 0.06024890373010779, 0.05933628814393245, 0.05838934449749066, 0.0581755692671192, 0.05578171651484255, 0.055638753280888915, 0.055609682753343964, 0.06721942147932691, 0.054535647872228546, 0.05680804693540173, 0.05643040390370576, 0.0535752497681982, 0.05316495619570377, 0.05524241619335817, 0.06020601468480252, 0.05274486554534687, 0.05249177879718698, 0.051530386038006956, 0.10814416119326326, 0.10240782971838858, 0.062096432756114914, 0.06362193589663694, 0.08319914266118505, 0.06649917964135554, 0.07423958853668211, 0.06049329669687819, 0.059196166316749524, 0.05857803170144619, 0.06025955585882345, 0.07659511667519679, 0.06460160796591481, 0.06235814162903921, 0.05863527248312061, 0.090403772268585, 0.08909557891077367, 0.08247740301678107, 0.0660331400270897, 0.06590862543030858, 0.06701726633462826, 0.06190344424089636, 0.05747971360871237, 0.06319571495914778, 0.05505773678976444, 0.0547997828472898, 0.053889820302803385, 0.06404534690282744, 0.05368554893473101, 0.06558734673088963, 0.053115654115787406, 0.05444096375072408, 0.05251842164794286, 0.05909747672134011, 0.058384409887543925, 0.05148841929321535, 0.05142598926743945, 0.08401764762363828, 0.052516448770156224, 0.05305120641189126, 0.05360842856888277, 0.05002647112886934, 0.056546647862487254, 0.04919883499112394, 0.06488073623037294, 0.07771773980124631, 0.06023730513027732, 0.05705728930741376, 0.05788455979930248, 0.06129903530567891, 0.05908672825547444, 0.055101359398851246, 0.058761430306079235, 0.05999192252258347, 0.06833541885517476, 0.05542639100455033, 0.060905795469543146, 0.05581135474840775, 0.22274194808324227, 0.12968229031384262, 0.2118336076009549, 0.07568951545647888, 0.07202600402196199, 0.07074335398593215, 0.10441117843002862, 0.07036269484098144, 0.08713004261169564, 0.06629236526618343, 0.06309724679751892, 0.06234892491887078, 0.06234892491887078, 0.061322869316298434, 0.061322869316298434, 0.06267036373313405, 0.05982429534284375, 0.05883959500732246, 0.058813158981625965, 0.05944028099049759, 0.058681383141955125, 0.05515134309851814, 0.05502372343350245, 0.060094554758960333, 0.0562728457577105, 0.05433682650352247, 0.052101501964494035, 0.06899538003040404, 0.05147106392127146, 0.05112698706249648, 0.05532778165579865, 0.07382685335615166, 0.07108260132177545, 0.09460150917388771, 0.0631796145584122, 0.06155522473602014, 0.07008313644298551, 0.060051887682026926, 0.09618228303166516, 0.0663371193871596, 0.07202897735910893, 0.06763355735987508, 0.061635979877288714, 0.06108259013523474, 0.06108259013523474, 0.060192313293841886, 0.0597794544936305, 0.059756163487315855, 0.06950437873848714, 0.07387824408521972, 0.05540544750860385, 0.059771750529522105, 0.05217426664737512, 0.052072839315957305, 0.051200401985478414, 0.05102687204033166, 0.06063326525835287, 0.050787648116566664, 0.0586635334036745, 0.05026407041472388, 0.04991425111206334, 0.04981177575227837, 0.049810168882376236, 0.04977122090378148, 0.04967005460192577, 0.09091438807414479, 0.0686921262389281, 0.06521681392072337, 0.06778451667509734, 0.08818323404161231, 0.10392492248506381, 0.052982312542470746, 0.05906385073329687, 0.062067804349454275, 0.08756291677548401, 0.06243221671438325, 0.05358586271470242, 0.06588289140609323, 0.053158755793826194, 0.056638939017279635, 0.05328561123021829, 0.09499510496447486, 0.07669843214457574, 0.06083147357195734, 0.05615830321598594, 0.0554559349003103, 0.07677038992185724, 0.056788696430664656, 0.05431043359915478, 0.058831582332122496, 0.05041779787766985, 0.04884390775041865, 0.04658878179703452, 0.04535204944017739, 0.045298432903782895, 0.045095993059314984, 0.048867240918126324, 0.059219040518970346, 0.04259951626264512, 0.04207847562625986, 0.049662884950770654, 0.04158061862463642, 0.052148901760571596, 0.05055217240660856, 0.04735146539472785, 0.040903360142557625, 0.04016091429392541, 0.05259169529442272, 0.03876550818434547, 0.038682486651515226, 0.03861143456822574, 0.0534686678324931, 0.04025880705090652, 0.0463002111399395, 0.0482717458593724, 0.06705929997682752, 0.05713787321521735, 0.06459430993019724, 0.04838868009132465, 0.05212702522578928, 0.04959207995916638, 0.05233439805213828, 0.04933035765132747, 0.059048864297507796, 0.05095909022899624, 0.049531957433198624, 0.04939765019418214, 0.07439879703210148, 0.057351659622952945, 0.055890408696835335, 0.05381460729380889, 0.05172435769905325, 0.0501034488178618, 0.04975940134319106, 0.04948765113773382, 0.04863521952926765, 0.04793660921669803, 0.047245071034271016, 0.04630250080294411, 0.04626484807850082, 0.0462552852473906, 0.04521188102988777, 0.04638617767072286, 0.04335140223932613, 0.04313563012105568, 0.042057622507832106, 0.042006203314065994, 0.045711041931870144, 0.04177434688215892, 0.0412687596749021, 0.041010507073003716, 0.041010507073003716, 0.039389422714179737, 0.0392890883092937, 0.03860571445815994, 0.03810420500893759, 0.05099144820574073, 0.051937975477749795, 0.05543157793166472, 0.047156533983266975, 0.04967467034340114, 0.04703223523045744, 0.04688969846368478, 0.0465837587463, 0.043689118431128694, 0.045494666554207176, 0.04805322825379217, 0.045769396211317176, 0.04373404377420812], \"Term\": [\"acquia\", \"layout\", \"protocol\", \"dynamic\", \"techcrunch\", \"optimization\", \"whatsapp\", \"keyboard\", \"worry\", \"ubuntu\", \"google\", \"experienced\", \"chatbot\", \"delete\", \"caching\", \"indicate\", \"bigquery\", \"traditionally\", \"snapchat\", \"greatly\", \"exposed\", \"proprietary\", \"hangouts\", \"expose\", \"dropbox\", \"constraints\", \"publishing\", \"hosts\", \"skype\", \"possibly\", \"google\", \"people\", \"using\", \"company\", \"users\", \"learning\", \"cloud\", \"business\", \"technology\", \"platform\", \"world\", \"different\", \"companies\", \"services\", \"example\", \"today\", \"machine\", \"software\", \"based\", \"things\", \"service\", \"build\", \"developers\", \"better\", \"create\", \"information\", \"customers\", \"right\", \"product\", \"experience\", \"acquia\", \"ubuntu\", \"schema\", \"greene\", \"whatsapp\", \"https\", \"vmware\", \"replies\", \"trips\", \"translations\", \"psychology\", \"toggle\", \"chats\", \"exposed\", \"dropbox\", \"dialogue\", \"headers\", \"editorial\", \"carriers\", \"delivers\", \"mentions\", \"lately\", \"inner\", \"hangouts\", \"hoping\", \"tolerance\", \"diane\", \"caching\", \"protocol\", \"drupalcon\", \"protocols\", \"hosts\", \"skype\", \"snapchat\", \"requested\", \"clicks\", \"modified\", \"keyboard\", \"expose\", \"dynamic\", \"telegram\", \"optimization\", \"proprietary\", \"experienced\", \"screens\", \"worry\", \"traditionally\", \"greatly\", \"layout\", \"fonts\", \"checklist\", \"danny\", \"losses\", \"markov\", \"layouts\", \"safari\", \"wrapper\", \"forrester\", \"specifications\", \"exponentially\", \"performers\", \"arguments\", \"bitcoins\", \"arrow\", \"graphs\", \"deliberate\", \"intend\", \"debate\", \"radical\", \"operator\", \"pointers\", \"fetched\", \"animations\", \"hacking\", \"constructing\", \"firefox\", \"evaluates\", \"visitor\", \"compose\", \"fundamentals\", \"constraint\", \"expressions\", \"angular\", \"jquery\", \"inline\", \"universities\", \"bigquery\", \"constraints\", \"micro\", \"debugger\", \"expectation\", \"removing\", \"marks\", \"stands\", \"optimization\", \"worry\", \"balancer\", \"swarm\", \"downtime\", \"niantic\", \"gcloud\", \"containerization\", \"provisioned\", \"oauth\", \"kubectl\", \"redis\", \"opengl\", \"microservice\", \"outage\", \"meeker\", \"dockerized\", \"balancers\", \"pokemon\", \"firebase\", \"xamarin\", \"mehanna\", \"fault\", \"tapscott\", \"espresso\", \"spinning\", \"recorder\", \"redundancy\", \"daemon\", \"kasisto\", \"cmake\", \"bitcasa\", \"nginx\", \"stackdriver\", \"proxy\", \"debugger\", \"rails\", \"dockerfile\", \"raspberry\", \"layout\", \"transactional\", \"gradle\", \"dynamic\", \"protocol\", \"aggregations\", \"aggregation\", \"facets\", \"montreal\", \"bengio\", \"elasticsearch\", \"shard\", \"typings\", \"decrypt\", \"shards\", \"realtime\", \"thesis\", \"tenant\", \"sorted\", \"authcache\", \"ramaswamy\", \"cursor\", \"nullpointerexception\", \"tesco\", \"practi\", \"jgamblin\", \"blispay\", \"tsconfig\", \"polly\", \"takipi\", \"waterfall\", \"unwind\", \"mindlessness\", \"buffer\", \"unconference\", \"neatly\", \"theft\", \"badge\", \"redundant\", \"sierra\", \"restore\", \"gradle\", \"raspberry\", \"converted\", \"macos\", \"tesla\", \"fault\", \"microservice\", \"directories\", \"martech\", \"iwork\", \"dualshock\", \"weakreference\", \"lingq\", \"panther\", \"intrapreneur\", \"livestreaming\", \"supporters\", \"valve\", \"shuddle\", \"moodstocks\", \"ruston\", \"bradesco\", \"intrapreneurs\", \"stratumn\", \"lotte\", \"exportables\", \"grenades\", \"kantar\", \"aliases\", \"callout\", \"resistance\", \"brazilian\", \"pebble\", \"servicemax\", \"mainframes\", \"radim\", \"greta\", \"diagnosed\", \"evaluations\", \"honey\", \"forwarding\", \"merchandise\", \"heroku\", \"steam\", \"integrity\", \"grade\", \"invention\", \"firefox\", \"lawyers\", \"incognito\", \"macrumors\", \"gboard\", \"beirne\", \"deeptext\", \"bonuses\", \"roped\", \"garric\", \"byttow\", \"telebit\", \"octopocket\", \"weave\", \"subfolders\", \"bixpy\", \"imbued\", \"chromebase\", \"consultancies\", \"reservations\", \"enercity\", \"trailer\", \"akdogan\", \"serial\", \"dorsey\", \"favro\", \"hipchat\", \"smacc\", \"nahapetian\", \"bunnell\", \"cleverness\", \"hebron\", \"verge\", \"chromecast\", \"passport\", \"invites\", \"pencil\", \"tenure\", \"closure\", \"notebooks\", \"keyboard\", \"roads\", \"appointment\", \"touchscreen\", \"narrative\", \"coaching\", \"reminder\", \"infographics\", \"shareable\", \"decks\", \"snapdragon\", \"african\", \"mobify\", \"customizable\", \"favorites\", \"lepton\", \"infrakit\", \"zeroth\", \"drupaldb\", \"sniffer\", \"ilooklikeanengineer\", \"africonnection\", \"attia\", \"tapes\", \"ngrok\", \"skates\", \"readism\", \"bestselling\", \"gruber\", \"amplitude\", \"bosebuild\", \"improv\", \"jupyterhub\", \"phpcs\", \"hither\", \"movidius\", \"heron\", \"qualcomm\", \"fasttext\", \"coaching\", \"bacteria\", \"slide\", \"bonus\", \"deposit\", \"grade\", \"hollywood\", \"briefing\", \"companion\", \"speaker\", \"bryant\", \"sussman\", \"kittlaus\", \"bootloader\", \"sphero\", \"mckenzie\", \"houseparty\", \"robotium\", \"tapia\", \"jamboard\", \"helpers\", \"commonaccord\", \"neurala\", \"hubble\", \"bluemix\", \"lowenthal\", \"freebiesbug\", \"recharge\", \"canceling\", \"ricci\", \"lakers\", \"playoffs\", \"marsala\", \"cinder\", \"bitfury\", \"fuschia\", \"tisch\", \"yougov\", \"solvers\", \"meerkat\", \"whiteboard\", \"mailchimp\", \"shots\", \"blizzard\", \"deletes\", \"prints\", \"mentoring\", \"instrumentation\", \"disclosure\", \"simulation\", \"polymer\", \"launcher\", \"bicycle\", \"mario\", \"edition\", \"optionals\", \"dagger\", \"retrolambda\", \"kibana\", \"unicode\", \"botnet\", \"subcommittee\", \"instrumentationregistry\", \"ibook\", \"schieffer\", \"undocumented\", \"drowning\", \"spothero\", \"metaclasses\", \"androidjunitrunner\", \"unilver\", \"daugherty\", \"etheropt\", \"replicationcontroller\", \"agreeing\", \"swagbot\", \"introspect\", \"multiyear\", \"weslack\", \"genderbread\", \"batten\", \"bytecode\", \"enums\", \"yakuza\", \"butterknife\", \"sprints\", \"kotlin\", \"julie\", \"encapsulate\", \"espresso\", \"brothers\", \"rxjava\", \"genome\", \"elixir\", \"inherited\", \"estimating\", \"safari\", \"elasticsearch\", \"instrumentation\", \"ninja\", \"instapaper\", \"webpass\", \"fblearner\", \"undifferentiated\", \"fleksy\", \"humility\", \"xmind\", \"crows\", \"chime\", \"prisma\", \"botanists\", \"jshell\", \"alaska\", \"gotomeeting\", \"pooling\", \"ceramic\", \"hejlsberg\", \"posey\", \"garrett\", \"bodson\", \"boonin\", \"stacker\", \"sublime\", \"chester\", \"priming\", \"exhibitor\", \"levandowski\", \"flower\", \"disambiguation\", \"anders\", \"passengers\", \"convolution\", \"arcade\", \"zendesk\", \"stetho\", \"summarization\", \"spanner\", \"contest\", \"compilers\", \"fiber\", \"clash\", \"airlines\", \"debian\", \"trendwatching\", \"memcache\", \"briefing\", \"bekele\", \"futhark\", \"winfield\", \"spotting\", \"currents\", \"oreal\", \"walkme\", \"crowdflower\", \"micah\", \"godbolt\", \"silvestre\", \"marcos\", \"growers\", \"unblurred\", \"atonement\", \"syllables\", \"terrorism\", \"bueno\", \"lizardcoin\", \"swanest\", \"laggard\", \"grounded\", \"interrogate\", \"gavini\", \"poncho\", \"batterymanager\", \"miracles\", \"curved\", \"torvalds\", \"arena\", \"french\", \"reshape\", \"linus\", \"debate\", \"transitions\", \"scandic\", \"gould\", \"istanbul\", \"finalize\", \"figcaption\", \"arcas\", \"aguera\", \"kinvey\", \"swimproof\", \"refcardz\", \"tattoo\", \"sarcastic\", \"strangler\", \"margaret\", \"oldman\", \"observability\", \"dogville\", \"blaise\", \"sirosh\", \"strangled\", \"containerd\", \"innersourcing\", \"limes\", \"rinna\", \"caster\", \"gotwarlost\", \"lincoln\", \"portrait\", \"vintage\", \"sarcasm\", \"dzone\", \"kotlin\", \"female\", \"hackerrank\", \"magnifying\", \"airpods\", \"bigquery\", \"stewart\", \"hoffa\", \"favor\", \"combinatorial\", \"techcrunch\", \"ingest\", \"mycroft\", \"burda\", \"skully\", \"strictmode\", \"chainsaw\", \"thunder\", \"rejoice\", \"montgomery\", \"interviewer\", \"coinfest\", \"wkwebview\", \"clipping\", \"autofill\", \"palermo\", \"moorfields\", \"fanatics\", \"walgreens\", \"mcguigan\", \"protractor\", \"browder\", \"astro\", \"redeem\", \"cheerful\", \"alsup\", \"zestmoney\", \"curso\", \"snappy\", \"retinopathy\", \"kopru\", \"codesprint\", \"graphene\", \"bounced\", \"diseases\", \"palantir\", \"kickstarter\", \"coupons\", \"tesla\", \"mechanic\", \"charging\", \"filing\", \"celebrating\", \"facet\", \"publishing\", \"espresso\", \"composer\", \"circuit\", \"mcdonald\", \"comics\", \"diversion\", \"foxconn\", \"laude\", \"tetra\", \"seenit\", \"itseez\", \"wocintech\", \"omnitone\", \"wework\", \"terrapattern\", \"meetspace\", \"pmbok\", \"kiddi\", \"diploma\", \"hartrell\", \"vectorization\", \"njenga\", \"gummi\", \"webcam\", \"insidedna\", \"subtree\", \"henwood\", \"bercovici\", \"kopin\", \"gansbrest\", \"spatialization\", \"doctoroff\", \"walkthrough\", \"braintree\", \"shoot\", \"mesos\", \"thunder\", \"tinker\", \"uncensored\", \"cheese\", \"sidewalk\", \"expiration\", \"pokemon\", \"trades\", \"invites\"], \"Total\": [2.0, 1.0, 1.0, 1.0, 2.0, 1.0, 1.0, 1.0, 1.0, 1.0, 40.0, 1.0, 4.0, 2.0, 1.0, 1.0, 1.0, 1.0, 1.0, 1.0, 1.0, 1.0, 1.0, 1.0, 1.0, 1.0, 1.0, 1.0, 1.0, 1.0, 40.890508041151705, 30.94911531568768, 30.297897315296343, 30.043315374750797, 28.531096002624302, 25.786196500615006, 25.63165818837794, 25.17393266874072, 24.661802249383257, 24.58513818052692, 24.522275250266656, 23.693796114992594, 23.689992555282526, 23.65423871205405, 23.620450777642933, 23.147572024597803, 23.113974902620114, 23.065730790790937, 23.028041584373064, 22.878968213633524, 22.81740222711415, 22.77404243351183, 22.684213633024118, 22.244539735885276, 21.59297979094929, 21.453622316151044, 21.42211993493674, 21.401179920445625, 21.313449750952554, 20.565343914605833, 2.105116294161428, 1.2372565575475067, 0.9393527150605163, 0.9766512197202187, 1.3952906133214888, 0.8002027862585365, 0.7920964375515978, 0.882246595685352, 0.7466656440916584, 0.7407802089036234, 0.8588489699217529, 0.6870242421509059, 0.85046527370626, 1.1936433146720915, 1.1842003452889789, 0.7753694120517804, 0.8159587599877035, 0.7084132721103111, 0.7056515621712238, 1.094630808565593, 0.8526544634336836, 0.7451624194287297, 0.7052136094273993, 1.1634266618499252, 0.9421146640074837, 0.7257069608565249, 0.7821851123994662, 1.3034913406288513, 1.8428278617333136, 0.6395235420732989, 0.8789972957124658, 1.1102691641334377, 1.0798740821715918, 1.2472781133036714, 0.9659421738624488, 1.1304299784983283, 1.0311311724053691, 1.52245352055469, 1.2312121652262646, 1.8312392073337413, 0.9454098594090367, 1.5698824052215083, 1.3287464392467727, 1.4928685263622676, 1.1345019943251196, 1.55103100930054, 1.4288313608773402, 1.3104899258407505, 1.6643404743524501, 0.6773380871008892, 0.7528367247797837, 0.6316912035814828, 0.5687812102656594, 0.5680291407801114, 0.7888346890775307, 0.7949256355997539, 0.6249730705653994, 0.7153021934713926, 0.6103481722697442, 0.7709159919023286, 0.6648586488312155, 1.0610375843662083, 0.657265642199273, 0.6164036257830161, 0.9619706627429148, 0.5074857486312538, 0.5766128150794395, 1.024305246407867, 0.6486711604842513, 0.7625016283884705, 0.4926641947415335, 0.5205403594181504, 0.7943173832700476, 0.6865345772706893, 0.5296003481543856, 0.7637070159077959, 0.48830313191863517, 0.581910720899985, 0.7894065139945827, 0.6750683177961144, 0.8661074131282704, 0.8722290238029682, 0.978324360215597, 0.8995901698428987, 0.8898913074574116, 0.8416333326258232, 1.420468097269357, 1.256369660322587, 1.1103087941475127, 0.8883884085300718, 0.9090126188034384, 1.0757285033749737, 1.002764316341093, 0.9873002938954973, 1.5698824052215083, 1.55103100930054, 0.5362249977393537, 0.5849241535682961, 0.5086256048780261, 0.4828846498411161, 0.534854241436971, 0.4102023998766862, 0.5370426915141716, 0.43170251398594295, 0.4476628559656434, 0.5010334853671415, 0.3628620378202933, 0.7606226702532445, 0.529754358404614, 0.3499637151404753, 0.34806923589568667, 0.4084729085278386, 0.5462222297434159, 0.923636362901072, 0.476212103672911, 0.3389029810263446, 0.5999037194105767, 0.3296486606803055, 0.5153853597443315, 0.4051989063401283, 0.3419220952127744, 0.32571089442645423, 0.3442485088117291, 0.3235164328960127, 0.3187999704806294, 0.3158095491873108, 0.6610486558077734, 0.9615070269704952, 0.8547434001400653, 0.8883884085300718, 0.5955059216823266, 0.5403742266454521, 0.7973148717613552, 1.6643404743524501, 0.9415868690816176, 0.7105650925984169, 1.8312392073337413, 1.8428278617333136, 0.6242082642754727, 0.5880391444829497, 0.41438862721608266, 0.3483713851878365, 0.3587921632898041, 0.6453331111038546, 0.34704820438137235, 0.3136288831001213, 0.31177875476740724, 0.3639642889407996, 0.31449908450410186, 0.42115918146722287, 0.36223975150942755, 0.4686951798263281, 0.2996031812078005, 0.29565461703990614, 0.37358467862077027, 0.3141612788679485, 0.3015252914226421, 0.2919233186061819, 0.29148472889387594, 0.2909127063250538, 0.3102202043348491, 0.28833362137997237, 0.35253400413730507, 0.3819184537813674, 0.28625366227547544, 0.28566321649427473, 0.5125944480974158, 0.28408864697361463, 0.3622349744448869, 0.3346149348696328, 0.35574916926268335, 0.46453924008420283, 0.6374679768058701, 0.46066210512258904, 0.7105650925984169, 0.7973148717613552, 0.5372425812836428, 0.905629724837573, 0.5674402062986137, 0.5999037194105767, 0.7606226702532445, 0.5801358318073454, 0.3535516875374935, 0.31630175353378304, 0.3160993517269413, 0.30357405186183567, 0.3087938439146538, 0.29111720756611786, 0.28923588633550745, 0.2879159118252911, 0.31679426710760167, 0.33670735878651176, 0.2850812737748232, 0.28471374903162244, 0.28430754781345113, 0.2837091365241168, 0.29250919782079987, 0.2943148465867151, 0.28134041356870054, 0.2805132863059401, 0.2798044838326588, 0.27979743238536825, 0.4430260715151225, 0.2785660200072132, 0.45892837871646386, 0.4759079754672425, 0.3122152279972138, 0.27518998710227943, 0.3258520119522342, 0.2746099948084493, 0.27414185958539566, 0.34434396613251467, 0.5771274455658397, 0.4533184485305295, 0.5094231534449596, 0.4039269167789478, 0.5506697444213172, 0.4855190300378775, 0.38683050059154833, 0.7030358476341853, 0.6571536311099281, 0.7637070159077959, 0.4624053299782134, 0.3288237603751295, 0.30610399230929985, 0.30427676463167386, 0.3065215439827411, 0.3397314251881252, 0.4194128622890991, 0.2812735858275162, 0.28038996172146124, 0.27777805846712145, 0.2765642718833455, 0.2765642718833455, 0.38491653284755956, 0.28305266800860585, 0.27583871886776223, 0.2988393580630153, 0.27560878574675696, 0.3849654184949578, 0.44443308004882726, 0.27359899543208904, 0.3396589047320399, 0.27209674013219054, 0.3949476787395459, 0.28731340788605386, 0.2705949400831086, 0.33947109537969716, 0.2695865006163867, 0.26817582983444044, 0.26789747556353566, 0.2960580730245184, 0.2672727944216914, 0.5066413499711024, 0.38318490755747003, 0.342272611147252, 0.45063306390449526, 0.3971500257404596, 0.39563788528538985, 0.46507588173381165, 0.38463867386407763, 1.52245352055469, 0.4795725477800544, 0.4391316697368366, 0.3699681370187857, 0.42378729624043737, 0.6287080931473126, 0.7467893024831792, 0.34073627428719677, 0.43670882519583065, 0.37275543282414436, 0.32420516564782553, 0.39695638288210516, 0.29548032110193273, 0.47710959445970214, 0.4773550807959562, 0.28363387865319956, 0.2825080217851956, 0.2817701544380473, 0.2804815973359901, 0.279634371898044, 0.278747052952183, 0.27755766396138254, 0.2769882727790665, 0.2759441686900739, 0.27572048945147276, 0.27547862434214176, 0.27485544908885573, 0.37374937127637853, 0.27395458135745343, 0.33827478684854867, 0.273031111871988, 0.27162256966805204, 0.271573451654684, 0.271101957361499, 0.2700937171733572, 0.3238847073398957, 0.267721926800224, 0.4948375352566973, 0.4080573249880197, 0.6287080931473126, 0.362268217376353, 0.7822398917964215, 0.851714663623511, 0.4301596731707698, 0.7030358476341853, 0.3757855588692229, 0.7548743989993334, 0.4275388000795414, 1.1378295129058378, 0.3098368068663268, 0.27879807186353683, 0.32678654227780357, 0.28635354450208156, 0.2733361889039068, 0.2726417109955297, 0.2721165451289044, 0.27129897396962427, 0.26967253260208934, 0.329052423645177, 0.2938744429032022, 0.26762597988592235, 0.2668954818544155, 0.2666501174044164, 0.3716936016281369, 0.26611304588690154, 0.26611304588690154, 0.2870772137885025, 0.2829563770158025, 0.26456314933615704, 0.2643721616660102, 0.2643721616660102, 0.26375410571866414, 0.2682384308117729, 0.27735284326262033, 0.2630661555299335, 0.2628939373614764, 0.26284693919073376, 0.26957945000793465, 0.3234688667732791, 0.42419683117870355, 0.3097272902992298, 0.49843865270893145, 0.3151747296758922, 0.4111221195858394, 0.4307997968883039, 0.35317758150537204, 0.5277309792589701, 0.5775136311106353, 0.5563600409720324, 0.5394798576458932, 0.3512783471501404, 0.41512392136019827, 0.39521280062000413, 0.8624200804573711, 0.3029766123119309, 0.3069081621158341, 0.28974585110093537, 0.32201114336585457, 0.2851547634555345, 0.2821787315044757, 0.3108318134274665, 0.27362363698806746, 0.2709578236186952, 0.2708441631615, 0.2943792373119988, 0.32743697197719124, 0.26877717768555087, 0.26786489108402917, 0.2669174594045251, 0.26670390801056243, 0.2643101920766631, 0.26416727144693963, 0.2641382604022856, 0.32350094704650767, 0.2630639059510841, 0.27590690630045533, 0.27443314689323, 0.26210596754915516, 0.26169323292751523, 0.2730435807590252, 0.29760377035185, 0.26128152044063974, 0.2610198652582463, 0.26005888843531394, 0.5488896594824938, 0.5526820550670944, 0.3192645696562879, 0.3318002029217437, 0.5153853597443315, 0.3741432285250923, 0.46916170186404776, 0.3263588411426808, 0.31131206722725474, 0.30589088379311447, 0.33732952467454014, 0.7949256355997539, 0.6453331111038546, 0.5277309792589701, 0.3726305506293464, 0.2989492097152022, 0.2976408823147561, 0.2910243103128294, 0.2745791361735331, 0.27445461817383104, 0.28441802176541, 0.2704514150090577, 0.26602509385110557, 0.2971043415606902, 0.26360319029649576, 0.2633454347578493, 0.2624356601377856, 0.31276738637187734, 0.26223112602241927, 0.32246682281215483, 0.26166115554480057, 0.2698468957388273, 0.26106380200500584, 0.2948739318141955, 0.29197029830838156, 0.2600343700313211, 0.2599716179549787, 0.425462407229441, 0.2664222252231931, 0.2697074545144965, 0.27465183797738507, 0.2585721528114962, 0.29351464282155815, 0.25774662285665184, 0.35401317440377067, 0.4466201893239613, 0.33422631291970256, 0.31208164968866214, 0.34369638301275945, 0.39808051061300953, 0.37004685420495764, 0.30865542031839405, 0.41767512732052375, 0.4645043866499463, 0.9465117871477671, 0.3196380945564088, 0.6587666820701069, 0.38538491781009043, 0.695516560915387, 0.4055186807092933, 0.7548743989993334, 0.2844639737709301, 0.28080038503360094, 0.2795184702461296, 0.41712886512316083, 0.2851856066657209, 0.361202881248715, 0.2750669898389228, 0.2718719421910415, 0.2711234787924218, 0.2711234787924218, 0.2700970491183091, 0.2700970491183091, 0.27677650894978933, 0.26859863641716764, 0.2676138681040189, 0.26758736290914914, 0.28014493348902275, 0.28034799909778424, 0.26392572810744697, 0.26379850976012637, 0.2931092302760027, 0.2762317428486844, 0.268356269757628, 0.26087738786995823, 0.3456168412826472, 0.2602457312775063, 0.25990134465978315, 0.2845298717354095, 0.4604692209630411, 0.46333792091836457, 0.8640719067871361, 0.38661956288471133, 0.4596396261111354, 1.024305246407867, 0.4719716146424265, 0.3051429812437352, 0.27529756162303876, 0.3097551361959747, 0.2968816703093804, 0.2705965772579337, 0.2700430098375111, 0.2700430098375111, 0.2691530605604299, 0.26874010942524407, 0.26871686078898116, 0.32360322400552516, 0.35392435602918587, 0.2719059133434118, 0.2980669380777473, 0.26113470844227815, 0.26103351495278165, 0.26016095911120923, 0.2599873234238933, 0.3100764194549187, 0.259748219085741, 0.3023423782749039, 0.25922678897353923, 0.25887827848653877, 0.25877223367339064, 0.2587707784973262, 0.2587318061274515, 0.25863147170194545, 0.4741957044225047, 0.35999465568915784, 0.3420059688016468, 0.3719062009536539, 0.5526820550670944, 0.7011004966598914, 0.281322700584378, 0.3271149936495232, 0.43960906470652766, 1.420468097269357, 0.5383363711470424, 0.3111422359995288, 0.9554780768958091, 0.30289969653547816, 2.7498528982772563, 0.4592066215639001, 0.3047404428801573, 0.2982195644549163, 0.2705766604066357, 0.2659035704549851, 0.26520114654970406, 0.3689617522384673, 0.27570493528400997, 0.2640560325566484, 0.2978359986091345, 0.2601631774970055, 0.25858971398677066, 0.2563339843644546, 0.2550982005722556, 0.2550438711005118, 0.25484132960248657, 0.27635354419815983, 0.3506191466241577, 0.25234507341033935, 0.2518248568599242, 0.29783613972049533, 0.2513260158404696, 0.31559550950915166, 0.30732690974385846, 0.28834100951997654, 0.2506490283948463, 0.24990937343009334, 0.33575374851222284, 0.2485108208672193, 0.2484290992322929, 0.24835660026577455, 0.3490702229573281, 0.25977062906958065, 0.30808023743518453, 0.3258580145569215, 0.5451012846961872, 0.444766384134121, 0.5674402062986137, 0.34853626767691526, 0.43296269730809495, 0.395014264771732, 0.5163007270203995, 0.38978951829262665, 1.294307557120473, 0.5153853597443315, 0.47627588422946315, 0.6099275922494191, 0.34202500843322436, 0.2795699829999231, 0.27616118611688284, 0.27179656229365096, 0.2619961685641345, 0.26037526822021095, 0.2600311239892198, 0.2597597076250969, 0.25890728555369147, 0.25820852302009656, 0.25751686693859155, 0.2565743317975634, 0.25653798157538155, 0.2565300595822932, 0.2554836821765745, 0.26596711349042695, 0.2536236023972676, 0.2534080425276314, 0.2523296613475707, 0.25227802779373865, 0.2746336005795331, 0.25204609905392705, 0.2515411087733478, 0.2512823058787123, 0.2512823058787123, 0.2496612718705169, 0.24956165118282894, 0.24887776497869077, 0.24837620833415974, 0.33636592815204097, 0.3688809639538856, 0.40220342261715275, 0.3266452422116367, 0.3689617522384673, 0.3367839948807897, 0.34381791642407084, 0.3803950713385663, 0.31214090674274186, 0.39416192836302594, 0.5462222297434159, 0.47185965702025945, 0.45063306390449526], \"loglift\": [30.0, 29.0, 28.0, 27.0, 26.0, 25.0, 24.0, 23.0, 22.0, 21.0, 20.0, 19.0, 18.0, 17.0, 16.0, 15.0, 14.0, 13.0, 12.0, 11.0, 10.0, 9.0, 8.0, 7.0, 6.0, 5.0, 4.0, 3.0, 2.0, 1.0, 0.301, 0.2997, 0.2996, 0.2996, 0.2993, 0.2987, 0.2986, 0.2985, 0.2984, 0.2984, 0.2984, 0.2981, 0.2981, 0.2981, 0.2981, 0.298, 0.298, 0.2979, 0.2979, 0.2979, 0.2979, 0.2978, 0.2978, 0.2977, 0.2975, 0.2974, 0.2974, 0.2974, 0.2974, 0.2971, 2.963, 2.9313, 2.8865, 2.8829, 2.8661, 2.8459, 2.8431, 2.8297, 2.8226, 2.8044, 2.8009, 2.7919, 2.7918, 2.7855, 2.7805, 2.7804, 2.7793, 2.7787, 2.7783, 2.7778, 2.775, 2.7737, 2.7721, 2.7718, 2.7695, 2.7689, 2.768, 2.7675, 2.7651, 2.7605, 2.7564, 2.7419, 2.7422, 2.7141, 2.7394, 2.7184, 2.7216, 2.6306, 2.6688, 2.4992, 2.7234, 2.5291, 2.5874, 2.5105, 2.6356, 2.4487, 2.3876, 2.4314, 2.9195, 2.9087, 2.8703, 2.8391, 2.831, 2.8305, 2.8192, 2.8082, 2.8026, 2.7979, 2.7977, 2.7962, 2.7865, 2.7742, 2.7729, 2.7697, 2.7667, 2.7639, 2.7604, 2.76, 2.7595, 2.7543, 2.7455, 2.7454, 2.7448, 2.7445, 2.7402, 2.7398, 2.7379, 2.7312, 2.7302, 2.7295, 2.7138, 2.7005, 2.6828, 2.6755, 2.6229, 2.6388, 2.4036, 2.4523, 2.5032, 2.5963, 2.5699, 2.4675, 2.5076, 2.4965, 2.1738, 2.0687, 3.353, 3.2679, 3.191, 3.1768, 3.1196, 3.084, 3.0491, 3.0463, 3.0281, 3.0092, 3.0036, 2.9974, 2.9814, 2.9547, 2.947, 2.9422, 2.93, 2.9276, 2.9149, 2.9077, 2.883, 2.8639, 2.8582, 2.8453, 2.844, 2.8439, 2.8339, 2.8324, 2.8066, 2.7895, 2.7539, 2.5806, 2.5878, 2.5079, 2.6135, 2.6375, 2.4395, 1.9674, 2.2329, 2.4004, 1.4749, 1.4356, 3.2622, 3.2244, 3.0988, 3.0185, 3.0096, 3.0016, 2.9946, 2.9375, 2.926, 2.8994, 2.8675, 2.8563, 2.8531, 2.8467, 2.8431, 2.8131, 2.8031, 2.7907, 2.787, 2.7831, 2.7795, 2.7747, 2.7702, 2.7526, 2.7514, 2.737, 2.7341, 2.7288, 2.7236, 2.7143, 2.7086, 2.7, 2.6702, 2.5874, 2.4669, 2.5762, 2.392, 2.336, 2.4593, 2.1459, 2.4166, 2.2946, 2.1052, 2.2975, 3.0455, 3.0359, 3.0347, 2.9529, 2.8925, 2.8564, 2.8402, 2.8285, 2.817, 2.8121, 2.8027, 2.7992, 2.7954, 2.7897, 2.7839, 2.7736, 2.7666, 2.7584, 2.7512, 2.7511, 2.7474, 2.7383, 2.7226, 2.7214, 2.7162, 2.7021, 2.6973, 2.6957, 2.6904, 2.6718, 2.6539, 2.5785, 2.5377, 2.5739, 2.4187, 2.4772, 2.5876, 2.0674, 2.1071, 1.9655, 2.371, 3.133, 2.9974, 2.9846, 2.9316, 2.8987, 2.811, 2.792, 2.7831, 2.756, 2.7429, 2.7429, 2.7405, 2.7395, 2.735, 2.7328, 2.7325, 2.7212, 2.7186, 2.7099, 2.707, 2.6924, 2.6915, 2.6826, 2.6744, 2.6686, 2.6621, 2.6443, 2.6408, 2.6347, 2.6327, 2.6093, 2.5836, 2.6006, 2.5435, 2.5291, 2.5269, 2.429, 2.5077, 1.6141, 2.337, 2.3992, 2.5019, 2.3847, 2.0253, 1.8254, 3.1861, 3.0753, 3.0646, 2.9951, 2.9722, 2.964, 2.9577, 2.872, 2.8595, 2.8485, 2.8412, 2.8282, 2.8195, 2.8102, 2.7976, 2.7914, 2.78, 2.7775, 2.7748, 2.7678, 2.7595, 2.7575, 2.7528, 2.7468, 2.7301, 2.7295, 2.7239, 2.7115, 2.6923, 2.6814, 2.6103, 2.6085, 2.4896, 2.5916, 2.1402, 2.0126, 2.4553, 2.0392, 2.5108, 1.9077, 2.3904, 1.5049, 2.9147, 2.8759, 2.8718, 2.8367, 2.8148, 2.8066, 2.8003, 2.7904, 2.7701, 2.7627, 2.7581, 2.7437, 2.734, 2.7308, 2.7238, 2.7235, 2.7235, 2.71, 2.7026, 2.7021, 2.6994, 2.6994, 2.6906, 2.6833, 2.6823, 2.6807, 2.6782, 2.6775, 2.6668, 2.6658, 2.5455, 2.6196, 2.3864, 2.5912, 2.4552, 2.3964, 2.5113, 2.2334, 2.1375, 2.1177, 2.1407, 2.4813, 2.3336, 2.3551, 1.5843, 3.0917, 3.0547, 2.986, 2.9584, 2.9438, 2.9147, 2.8985, 2.822, 2.79, 2.7886, 2.7834, 2.764, 2.7625, 2.7506, 2.7381, 2.7352, 2.7022, 2.7002, 2.6998, 2.6867, 2.6844, 2.6775, 2.6762, 2.6702, 2.6641, 2.66, 2.6599, 2.6578, 2.654, 2.6392, 2.6335, 2.5721, 2.6206, 2.6063, 2.4342, 2.5305, 2.4143, 2.5724, 2.598, 2.605, 2.5355, 1.9182, 1.9564, 2.1222, 2.4087, 3.064, 3.0538, 2.9991, 2.8349, 2.8334, 2.8144, 2.7854, 2.7278, 2.7121, 2.6939, 2.6902, 2.6769, 2.6741, 2.6739, 2.6673, 2.6654, 2.6592, 2.6563, 2.6526, 2.6503, 2.6405, 2.6395, 2.6378, 2.636, 2.6339, 2.6261, 2.6173, 2.6131, 2.6038, 2.5632, 2.5113, 2.5464, 2.5607, 2.4786, 2.3891, 2.4253, 2.5369, 2.2987, 2.2132, 1.6316, 2.5078, 1.8789, 2.3277, 3.1507, 3.1493, 3.0186, 2.9654, 2.9287, 2.9153, 2.9043, 2.8899, 2.8673, 2.8664, 2.8287, 2.8195, 2.8195, 2.8067, 2.8067, 2.804, 2.7875, 2.7746, 2.7743, 2.739, 2.7254, 2.7238, 2.7219, 2.7047, 2.6983, 2.6922, 2.6785, 2.6781, 2.6687, 2.6634, 2.6518, 2.4588, 2.4147, 2.0774, 2.4779, 2.2788, 1.6073, 2.2276, 3.1575, 2.8889, 2.8533, 2.8328, 2.8327, 2.8257, 2.8257, 2.8143, 2.809, 2.8086, 2.7739, 2.7454, 2.7213, 2.7052, 2.7016, 2.7, 2.6865, 2.6838, 2.6801, 2.68, 2.6723, 2.6716, 2.666, 2.6643, 2.6643, 2.6637, 2.662, 2.6603, 2.6556, 2.6549, 2.6097, 2.4767, 2.4031, 2.6425, 2.6003, 2.3544, 1.5257, 2.1576, 2.5531, 1.6377, 2.5719, 0.4294, 2.1582, 3.2531, 3.0608, 2.9263, 2.8638, 2.8538, 2.8489, 2.8387, 2.8373, 2.7969, 2.7778, 2.7521, 2.7136, 2.6915, 2.6906, 2.6869, 2.6862, 2.6403, 2.6398, 2.6295, 2.6275, 2.6196, 2.6184, 2.6138, 2.6122, 2.6059, 2.5905, 2.5649, 2.5608, 2.559, 2.5574, 2.5426, 2.5543, 2.5235, 2.5091, 2.3233, 2.3667, 2.2457, 2.4443, 2.3018, 2.3436, 2.1297, 2.3517, 1.3314, 2.1048, 2.1554, 1.9053, 2.969, 2.9104, 2.8968, 2.8749, 2.872, 2.8464, 2.8408, 2.8364, 2.8223, 2.8105, 2.7987, 2.7822, 2.7815, 2.7814, 2.7626, 2.748, 2.7279, 2.7238, 2.7027, 2.7017, 2.7013, 2.6971, 2.6869, 2.6817, 2.6817, 2.6478, 2.6457, 2.6309, 2.6198, 2.6079, 2.534, 2.5126, 2.559, 2.4892, 2.5258, 2.5021, 2.3945, 2.5281, 2.3353, 2.0637, 2.1614, 2.1619], \"logprob\": [30.0, 29.0, 28.0, 27.0, 26.0, 25.0, 24.0, 23.0, 22.0, 21.0, 20.0, 19.0, 18.0, 17.0, 16.0, 15.0, 14.0, 13.0, 12.0, 11.0, 10.0, 9.0, 8.0, 7.0, 6.0, 5.0, 4.0, 3.0, 2.0, 1.0, -6.2105, -6.4903, -6.5117, -6.5202, -6.5721, -6.6739, -6.6799, -6.6981, -6.7188, -6.7219, -6.7245, -6.7591, -6.7592, -6.7607, -6.7622, -6.7826, -6.784, -6.7861, -6.7878, -6.7943, -6.797, -6.7989, -6.8029, -6.8226, -6.8526, -6.8591, -6.8606, -6.8616, -6.8657, -6.9017, -6.5151, -7.0782, -7.3985, -7.3631, -7.0232, -7.5994, -7.6123, -7.518, -7.6919, -7.7181, -7.5736, -7.8059, -7.5926, -7.2599, -7.2728, -7.6965, -7.6465, -7.7884, -7.7928, -7.3542, -7.6069, -7.7429, -7.7996, -7.2993, -7.5125, -7.7741, -7.7, -7.1898, -6.846, -7.9089, -7.595, -7.3759, -7.4034, -7.2873, -7.5176, -7.3814, -7.4702, -7.1715, -7.3456, -7.1182, -7.5552, -7.2423, -7.3508, -7.3112, -7.4606, -7.3347, -7.4779, -7.5206, -6.7935, -7.7033, -7.636, -7.8427, -7.9557, -7.9575, -7.6404, -7.6437, -7.8898, -7.7596, -7.9184, -7.6864, -7.8441, -7.389, -7.8692, -7.9365, -7.4945, -8.1368, -8.0126, -7.4384, -7.8957, -7.7392, -8.1848, -8.1299, -7.7079, -7.854, -8.1178, -7.7522, -8.2013, -8.0326, -7.7287, -7.8859, -7.6523, -7.6586, -7.5615, -7.6527, -7.7161, -7.756, -7.4678, -7.5419, -7.6146, -7.7445, -7.7479, -7.6819, -7.712, -7.7387, -7.5976, -7.7148, -7.4926, -7.4908, -7.7074, -7.7736, -7.7285, -8.0295, -7.795, -8.0161, -7.998, -7.9043, -8.2325, -7.4987, -7.8763, -8.3176, -8.3307, -8.1755, -7.8971, -7.3742, -8.0494, -8.3968, -7.8503, -8.4682, -8.0271, -8.2805, -8.4516, -8.5002, -8.4549, -8.5185, -8.559, -8.5855, -7.8825, -7.6811, -7.7915, -7.8329, -8.1273, -8.2004, -8.0094, -7.7456, -8.0496, -8.1637, -8.1425, -8.1755, -7.4314, -7.5289, -8.0046, -8.2584, -8.2378, -7.6588, -8.2861, -8.4444, -8.4618, -8.3337, -8.5117, -8.2309, -8.3848, -8.1335, -8.5846, -8.6279, -8.4039, -8.5896, -8.6343, -8.6705, -8.6757, -8.6824, -8.6227, -8.7134, -8.5136, -8.4479, -8.7391, -8.7465, -8.1671, -8.7666, -8.5292, -8.6172, -8.5857, -8.4017, -8.2058, -8.4213, -8.1721, -8.1129, -8.3844, -8.1756, -8.3725, -8.4388, -8.3909, -8.4694, -8.2167, -8.3376, -8.3394, -8.4616, -8.505, -8.6001, -8.6227, -8.639, -8.5549, -8.4989, -8.6747, -8.6795, -8.6847, -8.6925, -8.6678, -8.6719, -8.724, -8.7352, -8.7449, -8.745, -8.2891, -8.7622, -8.2786, -8.2436, -8.6703, -8.8106, -8.6464, -8.8191, -8.8261, -8.6168, -8.1182, -8.4351, -8.3591, -8.555, -8.4004, -8.4677, -8.5846, -8.5073, -8.5352, -8.5265, -8.6227, -8.2016, -8.4089, -8.4276, -8.4733, -8.4033, -8.2803, -8.6988, -8.7109, -8.7474, -8.7648, -8.7648, -8.4366, -8.745, -8.7753, -8.6975, -8.7787, -8.4558, -8.3147, -8.8086, -8.5952, -8.8316, -8.4599, -8.787, -8.8551, -8.6342, -8.8712, -8.8942, -8.8988, -8.8049, -8.9092, -8.2931, -8.5981, -8.694, -8.476, -8.6167, -8.6228, -8.559, -8.6701, -8.188, -8.6203, -8.6461, -8.7149, -8.6962, -8.6612, -8.689, -8.1129, -7.9756, -8.1447, -8.3537, -8.1741, -8.4776, -8.0047, -8.0899, -8.6229, -8.6379, -8.6478, -8.6654, -8.6772, -8.6896, -8.7066, -8.7148, -8.73, -8.7333, -8.7369, -8.7461, -8.4471, -8.7597, -8.5535, -8.7737, -8.7956, -8.7964, -8.8038, -8.8199, -8.6575, -8.8588, -8.3157, -8.5102, -8.1969, -8.6461, -8.3278, -8.3703, -8.6107, -8.5356, -8.6903, -8.5959, -8.6817, -8.5884, -8.4794, -8.6238, -8.469, -8.6363, -8.7046, -8.7154, -8.7236, -8.7366, -8.7628, -8.5712, -8.6889, -8.7968, -8.8093, -8.8135, -8.4883, -8.8227, -8.8227, -8.7604, -8.7823, -8.85, -8.8534, -8.8534, -8.8646, -8.855, -8.8226, -8.8771, -8.8802, -8.8811, -8.8665, -8.6853, -8.5345, -8.7748, -8.5322, -8.7858, -8.6561, -8.6681, -8.7519, -8.6282, -8.6339, -8.6911, -8.6989, -8.7873, -8.768, -8.7957, -8.7861, -8.3248, -8.3489, -8.4751, -8.3972, -8.5333, -8.5729, -8.4924, -8.6964, -8.7382, -8.74, -8.6619, -8.5748, -8.7738, -8.789, -8.8051, -8.8088, -8.8508, -8.8534, -8.8539, -8.6643, -8.8734, -8.8326, -8.8392, -8.8912, -8.8989, -8.8605, -8.7745, -8.9068, -8.9116, -8.9301, -8.1888, -8.2433, -8.7436, -8.7193, -8.451, -8.6751, -8.565, -8.7697, -8.7914, -8.8019, -8.7736, -8.5337, -8.704, -8.7394, -8.8009, -8.3659, -8.3805, -8.4577, -8.6801, -8.6819, -8.6653, -8.7446, -8.8188, -8.724, -8.8618, -8.8665, -8.8833, -8.7106, -8.8871, -8.6868, -8.8977, -8.8731, -8.9091, -8.791, -8.8032, -8.9289, -8.9301, -8.4392, -8.9091, -8.899, -8.8885, -8.9577, -8.8352, -8.9743, -8.6977, -8.5171, -8.7719, -8.8262, -8.8118, -8.7545, -8.7912, -8.861, -8.7967, -8.776, -8.6458, -8.8552, -8.7609, -8.8482, -7.4348, -7.9757, -7.485, -8.5142, -8.5638, -8.5818, -8.1925, -8.5871, -8.3734, -8.6467, -8.6961, -8.7081, -8.7081, -8.7247, -8.7247, -8.7029, -8.7494, -8.766, -8.7664, -8.7558, -8.7687, -8.8307, -8.833, -8.7449, -8.8106, -8.8456, -8.8876, -8.6068, -8.8998, -8.9065, -8.8275, -8.5391, -8.577, -8.2911, -8.6948, -8.7209, -8.5911, -8.7456, -8.2519, -8.6234, -8.5411, -8.604, -8.6969, -8.7059, -8.7059, -8.7206, -8.7275, -8.7279, -8.5767, -8.5157, -8.8034, -8.7276, -8.8635, -8.8655, -8.8824, -8.8858, -8.7133, -8.8905, -8.7463, -8.9008, -8.9078, -8.9099, -8.9099, -8.9107, -8.9127, -8.3082, -8.5885, -8.6404, -8.6018, -8.3387, -8.1745, -8.8482, -8.7395, -8.6899, -8.3458, -8.684, -8.8368, -8.6302, -8.8448, -8.7814, -8.8425, -8.1576, -8.3715, -8.6033, -8.6832, -8.6958, -8.3706, -8.6721, -8.7167, -8.6367, -8.7911, -8.8228, -8.8701, -8.897, -8.8981, -8.9026, -8.8223, -8.6302, -8.9596, -8.9719, -8.8062, -8.9838, -8.7573, -8.7884, -8.8538, -9.0002, -9.0185, -8.7489, -9.0539, -9.056, -9.0579, -8.7323, -9.0161, -8.8763, -8.8346, -8.5058, -8.666, -8.5433, -8.8322, -8.7577, -8.8076, -8.7538, -8.8129, -8.6331, -8.7804, -8.8088, -8.8115, -8.3263, -8.5865, -8.6123, -8.6502, -8.6898, -8.7216, -8.7285, -8.734, -8.7514, -8.7659, -8.7804, -8.8005, -8.8014, -8.8016, -8.8244, -8.7987, -8.8664, -8.8714, -8.8967, -8.8979, -8.8134, -8.9035, -8.9156, -8.9219, -8.9219, -8.9622, -8.9648, -8.9823, -8.9954, -8.7041, -8.6857, -8.6206, -8.7823, -8.7302, -8.7849, -8.7879, -8.7945, -8.8586, -8.8181, -8.7634, -8.8121, -8.8576]}, \"token.table\": {\"Topic\": [2, 3, 3, 1, 1, 3, 1, 1, 2, 1, 2, 3, 2, 1, 1, 1, 3, 3, 1, 1, 3, 1, 2, 1, 2, 2, 1, 2, 2, 2, 1, 1, 2, 2, 2, 2, 1, 1, 3, 2, 2, 2, 2, 2, 2, 2, 2, 1, 3, 2, 2, 3, 3, 1, 1, 2, 3, 2, 2, 3, 1, 1, 2, 1, 2, 2, 2, 2, 2, 2, 1, 3, 2, 2, 1, 1, 2, 2, 1, 2, 1, 1, 2, 1, 1, 2, 2, 2, 2, 2, 1, 1, 2, 2, 1, 2], \"Freq\": [0.9500662768831492, 1.0221558827172885, 0.9424736830574498, 0.9987822853163469, 0.9890067522731981, 0.7039932835678283, 1.0099217153541293, 0.9930907629320588, 0.7671704205703154, 0.9277634627889902, 1.1758269630952474, 1.3283092695730476, 0.8846191440609241, 0.9753563275643107, 1.0130860085326767, 0.9985582358601075, 1.15459120294113, 0.7959440852330347, 0.972538306584354, 0.9802951371657518, 0.9762714810911074, 0.6991644408568227, 0.9135500226879258, 1.0139209748278932, 1.289707827593821, 1.2784697434758827, 1.0129233780657736, 0.8444517044588188, 0.54607830369468, 1.4116053995164057, 0.9737324751553769, 0.9725098730683363, 0.6698513515029618, 0.8122076992442859, 0.8377712066143581, 1.0465964883766201, 1.05651087876403, 1.0026776864385765, 1.0395327412050699, 0.7630733974230635, 1.0239069790815087, 0.8595298980082974, 1.2255521345405618, 1.0614419223094234, 0.9006824942134618, 1.2496832267676101, 0.6692799619094365, 0.9788556771688135, 1.1116173047718345, 0.6568345020054606, 1.3419893085411347, 0.6008385996795956, 1.267692729346636, 1.008291393396459, 0.9950690046562612, 1.1728080282051752, 0.9006503463460298, 0.9698087176117972, 0.6369903864607626, 0.6369903864607626, 1.001644140189252, 0.9761995163000391, 0.8070591792980403, 0.9852933356816841, 0.7525890346444658, 0.5426442809798997, 1.1376599278265769, 1.1643490706999473, 1.1334699446736591, 1.0352586594302704, 0.9812543083167878, 1.2579793067631062, 1.064562846273965, 0.8814440212552198, 1.0080025662460763, 0.9723415866383114, 0.926033892756304, 0.8017458090010858, 0.9971502836226122, 0.8788662876621622, 0.7273116322887568, 0.9731648870309222, 1.0577423009160143, 1.005290089362262, 0.9936247298662259, 1.3779666641473816, 0.699872656340615, 1.3499280731055565, 1.3392875484669322, 0.8082398059640942, 0.9813853627433222, 0.9901677231196521, 1.2624725381811344, 0.7166965723502577, 0.9787020068514655, 0.6447324353953211], \"Term\": [\"acquia\", \"angular\", \"arguments\", \"based\", \"better\", \"bigquery\", \"build\", \"business\", \"caching\", \"chatbot\", \"chats\", \"checklist\", \"clicks\", \"cloud\", \"companies\", \"company\", \"constraint\", \"constraints\", \"create\", \"customers\", \"debate\", \"delete\", \"delivers\", \"developers\", \"dialogue\", \"diane\", \"different\", \"dropbox\", \"dynamic\", \"editorial\", \"example\", \"experience\", \"experienced\", \"expose\", \"exposed\", \"favor\", \"fiber\", \"google\", \"graphs\", \"greatly\", \"greene\", \"hangouts\", \"headers\", \"hoping\", \"hosts\", \"https\", \"indicate\", \"information\", \"jquery\", \"keyboard\", \"lately\", \"layout\", \"layouts\", \"learning\", \"machine\", \"mentions\", \"micro\", \"modified\", \"optimization\", \"optimization\", \"people\", \"platform\", \"possibly\", \"product\", \"proprietary\", \"protocol\", \"protocols\", \"psychology\", \"replies\", \"requested\", \"right\", \"safari\", \"schema\", \"screens\", \"service\", \"services\", \"skype\", \"snapchat\", \"software\", \"speaker\", \"techcrunch\", \"technology\", \"telegram\", \"things\", \"today\", \"tolerance\", \"traditionally\", \"translations\", \"trips\", \"ubuntu\", \"users\", \"using\", \"vmware\", \"whatsapp\", \"world\", \"worry\"]}, \"R\": 30, \"lambda.step\": 0.01, \"plot.opts\": {\"xlab\": \"PC1\", \"ylab\": \"PC2\"}, \"topic.order\": [12, 8, 5, 2, 3, 9, 10, 11, 1, 6, 13, 15, 7, 4, 14]};\n",
       "\n",
       "function LDAvis_load_lib(url, callback){\n",
       "  var s = document.createElement('script');\n",
       "  s.src = url;\n",
       "  s.async = true;\n",
       "  s.onreadystatechange = s.onload = callback;\n",
       "  s.onerror = function(){console.warn(\"failed to load library \" + url);};\n",
       "  document.getElementsByTagName(\"head\")[0].appendChild(s);\n",
       "}\n",
       "\n",
       "if(typeof(LDAvis) !== \"undefined\"){\n",
       "   // already loaded: just create the visualization\n",
       "   !function(LDAvis){\n",
       "       new LDAvis(\"#\" + \"ldavis_el21501139751552982136157798396\", ldavis_el21501139751552982136157798396_data);\n",
       "   }(LDAvis);\n",
       "}else if(typeof define === \"function\" && define.amd){\n",
       "   // require.js is available: use it to load d3/LDAvis\n",
       "   require.config({paths: {d3: \"https://cdnjs.cloudflare.com/ajax/libs/d3/3.5.5/d3.min\"}});\n",
       "   require([\"d3\"], function(d3){\n",
       "      window.d3 = d3;\n",
       "      LDAvis_load_lib(\"https://cdn.rawgit.com/bmabey/pyLDAvis/files/ldavis.v1.0.0.js\", function(){\n",
       "        new LDAvis(\"#\" + \"ldavis_el21501139751552982136157798396\", ldavis_el21501139751552982136157798396_data);\n",
       "      });\n",
       "    });\n",
       "}else{\n",
       "    // require.js not available: dynamically load d3 & LDAvis\n",
       "    LDAvis_load_lib(\"https://cdnjs.cloudflare.com/ajax/libs/d3/3.5.5/d3.min.js\", function(){\n",
       "         LDAvis_load_lib(\"https://cdn.rawgit.com/bmabey/pyLDAvis/files/ldavis.v1.0.0.js\", function(){\n",
       "                 new LDAvis(\"#\" + \"ldavis_el21501139751552982136157798396\", ldavis_el21501139751552982136157798396_data);\n",
       "            })\n",
       "         });\n",
       "}\n",
       "</script>"
      ],
      "text/plain": [
       "PreparedData(topic_coordinates=              x         y  topics  cluster       Freq\n",
       "topic                                                \n",
       "11     0.323602  0.003820       1        1  73.713030\n",
       "7     -0.052688  0.061933       2        1   4.385899\n",
       "4     -0.047838 -0.024758       3        1   3.848177\n",
       "1     -0.028561 -0.005556       4        1   2.162808\n",
       "2     -0.023090 -0.007266       5        1   1.812133\n",
       "8     -0.020890 -0.004497       6        1   1.656522\n",
       "9     -0.020051 -0.004711       7        1   1.608608\n",
       "10    -0.018986 -0.004252       8        1   1.529938\n",
       "0     -0.017311 -0.003303       9        1   1.421312\n",
       "5     -0.017154 -0.002765      10        1   1.415194\n",
       "12    -0.017143 -0.002897      11        1   1.412310\n",
       "14    -0.016569 -0.002712      12        1   1.371388\n",
       "6     -0.016289 -0.002226      13        1   1.340625\n",
       "3     -0.014161 -0.000821      14        1   1.204943\n",
       "13    -0.012870  0.000009      15        1   1.117115, topic_info=      Category      Freq        Term     Total  loglift  logprob\n",
       "276    Default  2.000000      acquia  2.000000  30.0000  30.0000\n",
       "18313  Default  1.000000      layout  1.000000  29.0000  29.0000\n",
       "25575  Default  1.000000    protocol  1.000000  28.0000  28.0000\n",
       "10026  Default  1.000000     dynamic  1.000000  27.0000  27.0000\n",
       "32599  Default  2.000000  techcrunch  2.000000  26.0000  26.0000\n",
       "...        ...       ...         ...       ...      ...      ...\n",
       "29634  Topic15  0.043689    sidewalk  0.312141   2.5281  -8.8586\n",
       "11408  Topic15  0.045495  expiration  0.394162   2.3353  -8.8181\n",
       "24531  Topic15  0.048053     pokemon  0.546222   2.0637  -8.7634\n",
       "33550  Topic15  0.045769      trades  0.471860   2.1614  -8.8121\n",
       "16920  Topic15  0.043734     invites  0.450633   2.1619  -8.8576\n",
       "\n",
       "[672 rows x 6 columns], token_table=       Topic      Freq       Term\n",
       "term                             \n",
       "276        2  0.950066     acquia\n",
       "1228       3  1.022156    angular\n",
       "1655       3  0.942474  arguments\n",
       "2670       1  0.998782      based\n",
       "3033       1  0.989007     better\n",
       "...      ...       ...        ...\n",
       "35037      1  0.990168      using\n",
       "35590      2  1.262473     vmware\n",
       "36119      2  0.716697   whatsapp\n",
       "36506      1  0.978702      world\n",
       "36520      2  0.644732      worry\n",
       "\n",
       "[96 rows x 3 columns], R=30, lambda_step=0.01, plot_opts={'xlab': 'PC1', 'ylab': 'PC2'}, topic_order=[12, 8, 5, 2, 3, 9, 10, 11, 1, 6, 13, 15, 7, 4, 14])"
      ]
     },
     "execution_count": 56,
     "metadata": {},
     "output_type": "execute_result"
    }
   ],
   "source": [
    "pyLDAvis.sklearn.prepare(lda_tf_idf, dtm_tf_idf, tf_idf_vectorizer)"
   ]
  },
  {
   "cell_type": "markdown",
   "metadata": {},
   "source": [
    "#### Using different MDS functions\n",
    "\n",
    "With `sklearn` installed, other MDS functions, such as MMDS and TSNE can be used for plotting if the default PCoA is not satisfactory."
   ]
  },
  {
   "cell_type": "code",
   "execution_count": 57,
   "metadata": {},
   "outputs": [],
   "source": [
    "# pyLDAvis.sklearn.prepare(lda_tf_idf, dtm_tf_idf, tf_idf_vectorizer, mds='mmds')"
   ]
  },
  {
   "cell_type": "code",
   "execution_count": 58,
   "metadata": {},
   "outputs": [],
   "source": [
    "# pyLDAvis.sklearn.prepare(lda_tf_idf, dtm_tf_idf, tf_idf_vectorizer, mds='tsne')"
   ]
  }
 ],
 "metadata": {
  "kernelspec": {
   "display_name": "Python 3",
   "language": "python",
   "name": "python3"
  },
  "language_info": {
   "codemirror_mode": {
    "name": "ipython",
    "version": 3
   },
   "file_extension": ".py",
   "mimetype": "text/x-python",
   "name": "python",
   "nbconvert_exporter": "python",
   "pygments_lexer": "ipython3",
   "version": "3.7.3"
  },
  "toc": {
   "base_numbering": 1,
   "nav_menu": {},
   "number_sections": true,
   "sideBar": true,
   "skip_h1_title": false,
   "title_cell": "Table of Contents",
   "title_sidebar": "Contents",
   "toc_cell": false,
   "toc_position": {},
   "toc_section_display": true,
   "toc_window_display": true
  }
 },
 "nbformat": 4,
 "nbformat_minor": 2
}

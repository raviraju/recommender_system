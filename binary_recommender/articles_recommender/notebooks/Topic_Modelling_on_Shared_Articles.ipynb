{
 "cells": [
  {
   "cell_type": "markdown",
   "metadata": {},
   "source": [
    "## Imports"
   ]
  },
  {
   "cell_type": "code",
   "execution_count": 4,
   "metadata": {
    "ExecuteTime": {
     "end_time": "2021-12-03T06:22:10.126996Z",
     "start_time": "2021-12-03T06:22:10.124318Z"
    }
   },
   "outputs": [],
   "source": [
    "# !python -m spacy download en"
   ]
  },
  {
   "cell_type": "code",
   "execution_count": 5,
   "metadata": {
    "ExecuteTime": {
     "end_time": "2021-12-03T06:22:10.259017Z",
     "start_time": "2021-12-03T06:22:10.129320Z"
    }
   },
   "outputs": [],
   "source": [
    "import pandas as pd\n",
    "\n",
    "from sklearn.pipeline import Pipeline\n",
    "\n",
    "import spacy\n",
    "spacy_lemmatizer = spacy.load('en', disable=['parser', 'ner'])\n",
    "\n",
    "from sklearn.feature_extraction.text import CountVectorizer, TfidfVectorizer\n",
    "from sklearn.decomposition import LatentDirichletAllocation\n",
    "from sklearn import preprocessing\n",
    "\n",
    "import pyLDAvis\n",
    "import pyLDAvis.sklearn\n",
    "pyLDAvis.enable_notebook()\n",
    "\n",
    "from pprint import pprint\n",
    "\n",
    "from timeit import default_timer"
   ]
  },
  {
   "cell_type": "markdown",
   "metadata": {},
   "source": [
    "## Utilities"
   ]
  },
  {
   "cell_type": "code",
   "execution_count": 6,
   "metadata": {
    "ExecuteTime": {
     "end_time": "2021-12-03T06:22:10.266170Z",
     "start_time": "2021-12-03T06:22:10.261400Z"
    },
    "code_folding": [
     0
    ]
   },
   "outputs": [],
   "source": [
    "def lemmatize_spacy(text):\n",
    "    \"\"\"Apply Lemmatization using Spacy Lemmatization\"\"\"\n",
    "    lemma_text = None\n",
    "    if isinstance(text, str):\n",
    "        lemma_text = \"\"\n",
    "\n",
    "        # Parse the sentence using the loaded 'en' model object `nlp`\n",
    "        doc = spacy_lemmatizer(text)\n",
    "\n",
    "        # Extract the lemma for each token\n",
    "        lemmas = []\n",
    "        for token in doc:\n",
    "            lemma = token.lemma_\n",
    "            if lemma == '-PRON-': #https://spacy.io/api/annotation#lemmatization\n",
    "                lemma = token.text\n",
    "            if lemma.isalpha():\n",
    "                lemmas.append(lemma)\n",
    "        lemma_text = \" \".join(lemmas)\n",
    "        if len(lemma_text) == 0:\n",
    "            return None\n",
    "    return lemma_text"
   ]
  },
  {
   "cell_type": "code",
   "execution_count": 7,
   "metadata": {
    "ExecuteTime": {
     "end_time": "2021-12-03T06:22:10.271211Z",
     "start_time": "2021-12-03T06:22:10.267554Z"
    },
    "code_folding": [
     0
    ]
   },
   "outputs": [],
   "source": [
    "def convert_sec(no_of_secs):\n",
    "    \"\"\"return no_of_secs to min or hrs string\"\"\"\n",
    "    if no_of_secs < 60:\n",
    "        return \"{:06.4f}    sec\".format(no_of_secs)\n",
    "    elif no_of_secs < 3600:\n",
    "        return \"{:06.4f}    min\".format(no_of_secs/60)\n",
    "    else:\n",
    "        return \"{:06.4f}    hr\".format(no_of_secs/3600)"
   ]
  },
  {
   "cell_type": "markdown",
   "metadata": {},
   "source": [
    "## Load Data"
   ]
  },
  {
   "cell_type": "code",
   "execution_count": 8,
   "metadata": {
    "ExecuteTime": {
     "end_time": "2021-12-03T06:22:10.471372Z",
     "start_time": "2021-12-03T06:22:10.273849Z"
    }
   },
   "outputs": [
    {
     "data": {
      "text/plain": [
       "(3122, 13)"
      ]
     },
     "execution_count": 8,
     "metadata": {},
     "output_type": "execute_result"
    }
   ],
   "source": [
    "articles_df = pd.read_csv('../data/shared_articles.csv')\n",
    "articles_df.fillna('UNKOWN', inplace=True)\n",
    "articles_df.shape"
   ]
  },
  {
   "cell_type": "code",
   "execution_count": 9,
   "metadata": {
    "ExecuteTime": {
     "end_time": "2021-12-03T06:22:10.487384Z",
     "start_time": "2021-12-03T06:22:10.472900Z"
    }
   },
   "outputs": [
    {
     "data": {
      "text/html": [
       "<div>\n",
       "<style scoped>\n",
       "    .dataframe tbody tr th:only-of-type {\n",
       "        vertical-align: middle;\n",
       "    }\n",
       "\n",
       "    .dataframe tbody tr th {\n",
       "        vertical-align: top;\n",
       "    }\n",
       "\n",
       "    .dataframe thead th {\n",
       "        text-align: right;\n",
       "    }\n",
       "</style>\n",
       "<table border=\"1\" class=\"dataframe\">\n",
       "  <thead>\n",
       "    <tr style=\"text-align: right;\">\n",
       "      <th></th>\n",
       "      <th>timestamp</th>\n",
       "      <th>eventType</th>\n",
       "      <th>contentId</th>\n",
       "      <th>authorPersonId</th>\n",
       "      <th>authorSessionId</th>\n",
       "      <th>authorUserAgent</th>\n",
       "      <th>authorRegion</th>\n",
       "      <th>authorCountry</th>\n",
       "      <th>contentType</th>\n",
       "      <th>url</th>\n",
       "      <th>title</th>\n",
       "      <th>text</th>\n",
       "      <th>lang</th>\n",
       "    </tr>\n",
       "  </thead>\n",
       "  <tbody>\n",
       "    <tr>\n",
       "      <th>0</th>\n",
       "      <td>1459192779</td>\n",
       "      <td>CONTENT REMOVED</td>\n",
       "      <td>-6451309518266745024</td>\n",
       "      <td>4340306774493623681</td>\n",
       "      <td>8940341205206233829</td>\n",
       "      <td>UNKOWN</td>\n",
       "      <td>UNKOWN</td>\n",
       "      <td>UNKOWN</td>\n",
       "      <td>HTML</td>\n",
       "      <td>http://www.nytimes.com/2016/03/28/business/dea...</td>\n",
       "      <td>Ethereum, a Virtual Currency, Enables Transact...</td>\n",
       "      <td>All of this work is still very early. The firs...</td>\n",
       "      <td>en</td>\n",
       "    </tr>\n",
       "    <tr>\n",
       "      <th>1</th>\n",
       "      <td>1459193988</td>\n",
       "      <td>CONTENT SHARED</td>\n",
       "      <td>-4110354420726924665</td>\n",
       "      <td>4340306774493623681</td>\n",
       "      <td>8940341205206233829</td>\n",
       "      <td>UNKOWN</td>\n",
       "      <td>UNKOWN</td>\n",
       "      <td>UNKOWN</td>\n",
       "      <td>HTML</td>\n",
       "      <td>http://www.nytimes.com/2016/03/28/business/dea...</td>\n",
       "      <td>Ethereum, a Virtual Currency, Enables Transact...</td>\n",
       "      <td>All of this work is still very early. The firs...</td>\n",
       "      <td>en</td>\n",
       "    </tr>\n",
       "    <tr>\n",
       "      <th>2</th>\n",
       "      <td>1459194146</td>\n",
       "      <td>CONTENT SHARED</td>\n",
       "      <td>-7292285110016212249</td>\n",
       "      <td>4340306774493623681</td>\n",
       "      <td>8940341205206233829</td>\n",
       "      <td>UNKOWN</td>\n",
       "      <td>UNKOWN</td>\n",
       "      <td>UNKOWN</td>\n",
       "      <td>HTML</td>\n",
       "      <td>http://cointelegraph.com/news/bitcoin-future-w...</td>\n",
       "      <td>Bitcoin Future: When GBPcoin of Branson Wins O...</td>\n",
       "      <td>The alarm clock wakes me at 8:00 with stream o...</td>\n",
       "      <td>en</td>\n",
       "    </tr>\n",
       "    <tr>\n",
       "      <th>3</th>\n",
       "      <td>1459194474</td>\n",
       "      <td>CONTENT SHARED</td>\n",
       "      <td>-6151852268067518688</td>\n",
       "      <td>3891637997717104548</td>\n",
       "      <td>-1457532940883382585</td>\n",
       "      <td>UNKOWN</td>\n",
       "      <td>UNKOWN</td>\n",
       "      <td>UNKOWN</td>\n",
       "      <td>HTML</td>\n",
       "      <td>https://cloudplatform.googleblog.com/2016/03/G...</td>\n",
       "      <td>Google Data Center 360° Tour</td>\n",
       "      <td>We're excited to share the Google Data Center ...</td>\n",
       "      <td>en</td>\n",
       "    </tr>\n",
       "    <tr>\n",
       "      <th>4</th>\n",
       "      <td>1459194497</td>\n",
       "      <td>CONTENT SHARED</td>\n",
       "      <td>2448026894306402386</td>\n",
       "      <td>4340306774493623681</td>\n",
       "      <td>8940341205206233829</td>\n",
       "      <td>UNKOWN</td>\n",
       "      <td>UNKOWN</td>\n",
       "      <td>UNKOWN</td>\n",
       "      <td>HTML</td>\n",
       "      <td>https://bitcoinmagazine.com/articles/ibm-wants...</td>\n",
       "      <td>IBM Wants to \"Evolve the Internet\" With Blockc...</td>\n",
       "      <td>The Aite Group projects the blockchain market ...</td>\n",
       "      <td>en</td>\n",
       "    </tr>\n",
       "  </tbody>\n",
       "</table>\n",
       "</div>"
      ],
      "text/plain": [
       "    timestamp        eventType            contentId       authorPersonId  \\\n",
       "0  1459192779  CONTENT REMOVED -6451309518266745024  4340306774493623681   \n",
       "1  1459193988   CONTENT SHARED -4110354420726924665  4340306774493623681   \n",
       "2  1459194146   CONTENT SHARED -7292285110016212249  4340306774493623681   \n",
       "3  1459194474   CONTENT SHARED -6151852268067518688  3891637997717104548   \n",
       "4  1459194497   CONTENT SHARED  2448026894306402386  4340306774493623681   \n",
       "\n",
       "       authorSessionId authorUserAgent authorRegion authorCountry contentType  \\\n",
       "0  8940341205206233829          UNKOWN       UNKOWN        UNKOWN        HTML   \n",
       "1  8940341205206233829          UNKOWN       UNKOWN        UNKOWN        HTML   \n",
       "2  8940341205206233829          UNKOWN       UNKOWN        UNKOWN        HTML   \n",
       "3 -1457532940883382585          UNKOWN       UNKOWN        UNKOWN        HTML   \n",
       "4  8940341205206233829          UNKOWN       UNKOWN        UNKOWN        HTML   \n",
       "\n",
       "                                                 url  \\\n",
       "0  http://www.nytimes.com/2016/03/28/business/dea...   \n",
       "1  http://www.nytimes.com/2016/03/28/business/dea...   \n",
       "2  http://cointelegraph.com/news/bitcoin-future-w...   \n",
       "3  https://cloudplatform.googleblog.com/2016/03/G...   \n",
       "4  https://bitcoinmagazine.com/articles/ibm-wants...   \n",
       "\n",
       "                                               title  \\\n",
       "0  Ethereum, a Virtual Currency, Enables Transact...   \n",
       "1  Ethereum, a Virtual Currency, Enables Transact...   \n",
       "2  Bitcoin Future: When GBPcoin of Branson Wins O...   \n",
       "3                       Google Data Center 360° Tour   \n",
       "4  IBM Wants to \"Evolve the Internet\" With Blockc...   \n",
       "\n",
       "                                                text lang  \n",
       "0  All of this work is still very early. The firs...   en  \n",
       "1  All of this work is still very early. The firs...   en  \n",
       "2  The alarm clock wakes me at 8:00 with stream o...   en  \n",
       "3  We're excited to share the Google Data Center ...   en  \n",
       "4  The Aite Group projects the blockchain market ...   en  "
      ]
     },
     "execution_count": 9,
     "metadata": {},
     "output_type": "execute_result"
    }
   ],
   "source": [
    "articles_df.head()"
   ]
  },
  {
   "cell_type": "markdown",
   "metadata": {},
   "source": [
    "### Filtering Shared Articles"
   ]
  },
  {
   "cell_type": "code",
   "execution_count": 10,
   "metadata": {
    "ExecuteTime": {
     "end_time": "2021-12-03T06:22:10.494906Z",
     "start_time": "2021-12-03T06:22:10.489038Z"
    }
   },
   "outputs": [
    {
     "data": {
      "text/plain": [
       "CONTENT SHARED     3047\n",
       "CONTENT REMOVED      75\n",
       "Name: eventType, dtype: int64"
      ]
     },
     "execution_count": 10,
     "metadata": {},
     "output_type": "execute_result"
    }
   ],
   "source": [
    "articles_df['eventType'].value_counts()"
   ]
  },
  {
   "cell_type": "code",
   "execution_count": 11,
   "metadata": {
    "ExecuteTime": {
     "end_time": "2021-12-03T06:22:10.503112Z",
     "start_time": "2021-12-03T06:22:10.496485Z"
    }
   },
   "outputs": [
    {
     "data": {
      "text/plain": [
       "(3047, 13)"
      ]
     },
     "execution_count": 11,
     "metadata": {},
     "output_type": "execute_result"
    }
   ],
   "source": [
    "shared_articles_df = articles_df[articles_df['eventType'] == 'CONTENT SHARED']\n",
    "shared_articles_df.shape"
   ]
  },
  {
   "cell_type": "markdown",
   "metadata": {},
   "source": [
    "### Filtering Shared Articles in English"
   ]
  },
  {
   "cell_type": "code",
   "execution_count": 12,
   "metadata": {
    "ExecuteTime": {
     "end_time": "2021-12-03T06:22:10.510031Z",
     "start_time": "2021-12-03T06:22:10.504983Z"
    }
   },
   "outputs": [
    {
     "data": {
      "text/plain": [
       "en    2211\n",
       "pt     829\n",
       "la       3\n",
       "es       2\n",
       "ja       2\n",
       "Name: lang, dtype: int64"
      ]
     },
     "execution_count": 12,
     "metadata": {},
     "output_type": "execute_result"
    }
   ],
   "source": [
    "shared_articles_df['lang'].value_counts()"
   ]
  },
  {
   "cell_type": "code",
   "execution_count": 13,
   "metadata": {
    "ExecuteTime": {
     "end_time": "2021-12-03T06:22:10.516681Z",
     "start_time": "2021-12-03T06:22:10.511527Z"
    }
   },
   "outputs": [
    {
     "data": {
      "text/plain": [
       "(2211, 13)"
      ]
     },
     "execution_count": 13,
     "metadata": {},
     "output_type": "execute_result"
    }
   ],
   "source": [
    "eng_shared_articles_df = shared_articles_df[shared_articles_df['lang'] == 'en']\n",
    "eng_shared_articles_df.shape"
   ]
  },
  {
   "cell_type": "code",
   "execution_count": 14,
   "metadata": {
    "ExecuteTime": {
     "end_time": "2021-12-03T06:22:10.531368Z",
     "start_time": "2021-12-03T06:22:10.520777Z"
    }
   },
   "outputs": [
    {
     "data": {
      "text/html": [
       "<div>\n",
       "<style scoped>\n",
       "    .dataframe tbody tr th:only-of-type {\n",
       "        vertical-align: middle;\n",
       "    }\n",
       "\n",
       "    .dataframe tbody tr th {\n",
       "        vertical-align: top;\n",
       "    }\n",
       "\n",
       "    .dataframe thead th {\n",
       "        text-align: right;\n",
       "    }\n",
       "</style>\n",
       "<table border=\"1\" class=\"dataframe\">\n",
       "  <thead>\n",
       "    <tr style=\"text-align: right;\">\n",
       "      <th></th>\n",
       "      <th>contentId</th>\n",
       "      <th>url</th>\n",
       "      <th>title</th>\n",
       "      <th>text</th>\n",
       "    </tr>\n",
       "  </thead>\n",
       "  <tbody>\n",
       "    <tr>\n",
       "      <th>1</th>\n",
       "      <td>-4110354420726924665</td>\n",
       "      <td>http://www.nytimes.com/2016/03/28/business/dea...</td>\n",
       "      <td>Ethereum, a Virtual Currency, Enables Transact...</td>\n",
       "      <td>All of this work is still very early. The firs...</td>\n",
       "    </tr>\n",
       "    <tr>\n",
       "      <th>2</th>\n",
       "      <td>-7292285110016212249</td>\n",
       "      <td>http://cointelegraph.com/news/bitcoin-future-w...</td>\n",
       "      <td>Bitcoin Future: When GBPcoin of Branson Wins O...</td>\n",
       "      <td>The alarm clock wakes me at 8:00 with stream o...</td>\n",
       "    </tr>\n",
       "    <tr>\n",
       "      <th>3</th>\n",
       "      <td>-6151852268067518688</td>\n",
       "      <td>https://cloudplatform.googleblog.com/2016/03/G...</td>\n",
       "      <td>Google Data Center 360° Tour</td>\n",
       "      <td>We're excited to share the Google Data Center ...</td>\n",
       "    </tr>\n",
       "    <tr>\n",
       "      <th>4</th>\n",
       "      <td>2448026894306402386</td>\n",
       "      <td>https://bitcoinmagazine.com/articles/ibm-wants...</td>\n",
       "      <td>IBM Wants to \"Evolve the Internet\" With Blockc...</td>\n",
       "      <td>The Aite Group projects the blockchain market ...</td>\n",
       "    </tr>\n",
       "    <tr>\n",
       "      <th>5</th>\n",
       "      <td>-2826566343807132236</td>\n",
       "      <td>http://www.coindesk.com/ieee-blockchain-oxford...</td>\n",
       "      <td>IEEE to Talk Blockchain at Cloud Computing Oxf...</td>\n",
       "      <td>One of the largest and oldest organizations fo...</td>\n",
       "    </tr>\n",
       "  </tbody>\n",
       "</table>\n",
       "</div>"
      ],
      "text/plain": [
       "             contentId                                                url  \\\n",
       "1 -4110354420726924665  http://www.nytimes.com/2016/03/28/business/dea...   \n",
       "2 -7292285110016212249  http://cointelegraph.com/news/bitcoin-future-w...   \n",
       "3 -6151852268067518688  https://cloudplatform.googleblog.com/2016/03/G...   \n",
       "4  2448026894306402386  https://bitcoinmagazine.com/articles/ibm-wants...   \n",
       "5 -2826566343807132236  http://www.coindesk.com/ieee-blockchain-oxford...   \n",
       "\n",
       "                                               title  \\\n",
       "1  Ethereum, a Virtual Currency, Enables Transact...   \n",
       "2  Bitcoin Future: When GBPcoin of Branson Wins O...   \n",
       "3                       Google Data Center 360° Tour   \n",
       "4  IBM Wants to \"Evolve the Internet\" With Blockc...   \n",
       "5  IEEE to Talk Blockchain at Cloud Computing Oxf...   \n",
       "\n",
       "                                                text  \n",
       "1  All of this work is still very early. The firs...  \n",
       "2  The alarm clock wakes me at 8:00 with stream o...  \n",
       "3  We're excited to share the Google Data Center ...  \n",
       "4  The Aite Group projects the blockchain market ...  \n",
       "5  One of the largest and oldest organizations fo...  "
      ]
     },
     "execution_count": 14,
     "metadata": {},
     "output_type": "execute_result"
    }
   ],
   "source": [
    "eng_shared_articles_df = eng_shared_articles_df[['contentId', 'url', 'title', 'text']]\n",
    "eng_shared_articles_df.head()"
   ]
  },
  {
   "cell_type": "code",
   "execution_count": 15,
   "metadata": {
    "ExecuteTime": {
     "end_time": "2021-12-03T06:22:10.537708Z",
     "start_time": "2021-12-03T06:22:10.533264Z"
    }
   },
   "outputs": [
    {
     "data": {
      "text/plain": [
       "2211"
      ]
     },
     "execution_count": 15,
     "metadata": {},
     "output_type": "execute_result"
    }
   ],
   "source": [
    "len(eng_shared_articles_df['contentId'].unique())"
   ]
  },
  {
   "cell_type": "markdown",
   "metadata": {},
   "source": [
    "### Combine title and text to create text_content"
   ]
  },
  {
   "cell_type": "code",
   "execution_count": 16,
   "metadata": {
    "ExecuteTime": {
     "end_time": "2021-12-03T06:22:10.583374Z",
     "start_time": "2021-12-03T06:22:10.539286Z"
    }
   },
   "outputs": [
    {
     "data": {
      "text/html": [
       "<div>\n",
       "<style scoped>\n",
       "    .dataframe tbody tr th:only-of-type {\n",
       "        vertical-align: middle;\n",
       "    }\n",
       "\n",
       "    .dataframe tbody tr th {\n",
       "        vertical-align: top;\n",
       "    }\n",
       "\n",
       "    .dataframe thead th {\n",
       "        text-align: right;\n",
       "    }\n",
       "</style>\n",
       "<table border=\"1\" class=\"dataframe\">\n",
       "  <thead>\n",
       "    <tr style=\"text-align: right;\">\n",
       "      <th></th>\n",
       "      <th>contentId</th>\n",
       "      <th>url</th>\n",
       "      <th>title</th>\n",
       "      <th>text</th>\n",
       "      <th>text_content</th>\n",
       "    </tr>\n",
       "  </thead>\n",
       "  <tbody>\n",
       "    <tr>\n",
       "      <th>1</th>\n",
       "      <td>-4110354420726924665</td>\n",
       "      <td>http://www.nytimes.com/2016/03/28/business/dea...</td>\n",
       "      <td>Ethereum, a Virtual Currency, Enables Transact...</td>\n",
       "      <td>All of this work is still very early. The firs...</td>\n",
       "      <td>Ethereum, a Virtual Currency, Enables Transact...</td>\n",
       "    </tr>\n",
       "    <tr>\n",
       "      <th>2</th>\n",
       "      <td>-7292285110016212249</td>\n",
       "      <td>http://cointelegraph.com/news/bitcoin-future-w...</td>\n",
       "      <td>Bitcoin Future: When GBPcoin of Branson Wins O...</td>\n",
       "      <td>The alarm clock wakes me at 8:00 with stream o...</td>\n",
       "      <td>Bitcoin Future: When GBPcoin of Branson Wins O...</td>\n",
       "    </tr>\n",
       "    <tr>\n",
       "      <th>3</th>\n",
       "      <td>-6151852268067518688</td>\n",
       "      <td>https://cloudplatform.googleblog.com/2016/03/G...</td>\n",
       "      <td>Google Data Center 360° Tour</td>\n",
       "      <td>We're excited to share the Google Data Center ...</td>\n",
       "      <td>Google Data Center 360° Tour. We're excited to...</td>\n",
       "    </tr>\n",
       "    <tr>\n",
       "      <th>4</th>\n",
       "      <td>2448026894306402386</td>\n",
       "      <td>https://bitcoinmagazine.com/articles/ibm-wants...</td>\n",
       "      <td>IBM Wants to \"Evolve the Internet\" With Blockc...</td>\n",
       "      <td>The Aite Group projects the blockchain market ...</td>\n",
       "      <td>IBM Wants to \"Evolve the Internet\" With Blockc...</td>\n",
       "    </tr>\n",
       "    <tr>\n",
       "      <th>5</th>\n",
       "      <td>-2826566343807132236</td>\n",
       "      <td>http://www.coindesk.com/ieee-blockchain-oxford...</td>\n",
       "      <td>IEEE to Talk Blockchain at Cloud Computing Oxf...</td>\n",
       "      <td>One of the largest and oldest organizations fo...</td>\n",
       "      <td>IEEE to Talk Blockchain at Cloud Computing Oxf...</td>\n",
       "    </tr>\n",
       "  </tbody>\n",
       "</table>\n",
       "</div>"
      ],
      "text/plain": [
       "             contentId                                                url  \\\n",
       "1 -4110354420726924665  http://www.nytimes.com/2016/03/28/business/dea...   \n",
       "2 -7292285110016212249  http://cointelegraph.com/news/bitcoin-future-w...   \n",
       "3 -6151852268067518688  https://cloudplatform.googleblog.com/2016/03/G...   \n",
       "4  2448026894306402386  https://bitcoinmagazine.com/articles/ibm-wants...   \n",
       "5 -2826566343807132236  http://www.coindesk.com/ieee-blockchain-oxford...   \n",
       "\n",
       "                                               title  \\\n",
       "1  Ethereum, a Virtual Currency, Enables Transact...   \n",
       "2  Bitcoin Future: When GBPcoin of Branson Wins O...   \n",
       "3                       Google Data Center 360° Tour   \n",
       "4  IBM Wants to \"Evolve the Internet\" With Blockc...   \n",
       "5  IEEE to Talk Blockchain at Cloud Computing Oxf...   \n",
       "\n",
       "                                                text  \\\n",
       "1  All of this work is still very early. The firs...   \n",
       "2  The alarm clock wakes me at 8:00 with stream o...   \n",
       "3  We're excited to share the Google Data Center ...   \n",
       "4  The Aite Group projects the blockchain market ...   \n",
       "5  One of the largest and oldest organizations fo...   \n",
       "\n",
       "                                        text_content  \n",
       "1  Ethereum, a Virtual Currency, Enables Transact...  \n",
       "2  Bitcoin Future: When GBPcoin of Branson Wins O...  \n",
       "3  Google Data Center 360° Tour. We're excited to...  \n",
       "4  IBM Wants to \"Evolve the Internet\" With Blockc...  \n",
       "5  IEEE to Talk Blockchain at Cloud Computing Oxf...  "
      ]
     },
     "execution_count": 16,
     "metadata": {},
     "output_type": "execute_result"
    }
   ],
   "source": [
    "eng_shared_articles_df['text_content'] = eng_shared_articles_df[['title', 'text']].apply(lambda x: '. '.join(x), axis=1)\n",
    "eng_shared_articles_df.head()"
   ]
  },
  {
   "cell_type": "code",
   "execution_count": 17,
   "metadata": {
    "ExecuteTime": {
     "end_time": "2021-12-03T06:22:10.594585Z",
     "start_time": "2021-12-03T06:22:10.585254Z"
    }
   },
   "outputs": [
    {
     "data": {
      "text/html": [
       "<div>\n",
       "<style scoped>\n",
       "    .dataframe tbody tr th:only-of-type {\n",
       "        vertical-align: middle;\n",
       "    }\n",
       "\n",
       "    .dataframe tbody tr th {\n",
       "        vertical-align: top;\n",
       "    }\n",
       "\n",
       "    .dataframe thead th {\n",
       "        text-align: right;\n",
       "    }\n",
       "</style>\n",
       "<table border=\"1\" class=\"dataframe\">\n",
       "  <thead>\n",
       "    <tr style=\"text-align: right;\">\n",
       "      <th></th>\n",
       "      <th>contentId</th>\n",
       "      <th>url</th>\n",
       "      <th>text_content</th>\n",
       "    </tr>\n",
       "  </thead>\n",
       "  <tbody>\n",
       "    <tr>\n",
       "      <th>1</th>\n",
       "      <td>-4110354420726924665</td>\n",
       "      <td>http://www.nytimes.com/2016/03/28/business/dea...</td>\n",
       "      <td>Ethereum, a Virtual Currency, Enables Transact...</td>\n",
       "    </tr>\n",
       "    <tr>\n",
       "      <th>2</th>\n",
       "      <td>-7292285110016212249</td>\n",
       "      <td>http://cointelegraph.com/news/bitcoin-future-w...</td>\n",
       "      <td>Bitcoin Future: When GBPcoin of Branson Wins O...</td>\n",
       "    </tr>\n",
       "    <tr>\n",
       "      <th>3</th>\n",
       "      <td>-6151852268067518688</td>\n",
       "      <td>https://cloudplatform.googleblog.com/2016/03/G...</td>\n",
       "      <td>Google Data Center 360° Tour. We're excited to...</td>\n",
       "    </tr>\n",
       "    <tr>\n",
       "      <th>4</th>\n",
       "      <td>2448026894306402386</td>\n",
       "      <td>https://bitcoinmagazine.com/articles/ibm-wants...</td>\n",
       "      <td>IBM Wants to \"Evolve the Internet\" With Blockc...</td>\n",
       "    </tr>\n",
       "    <tr>\n",
       "      <th>5</th>\n",
       "      <td>-2826566343807132236</td>\n",
       "      <td>http://www.coindesk.com/ieee-blockchain-oxford...</td>\n",
       "      <td>IEEE to Talk Blockchain at Cloud Computing Oxf...</td>\n",
       "    </tr>\n",
       "  </tbody>\n",
       "</table>\n",
       "</div>"
      ],
      "text/plain": [
       "             contentId                                                url  \\\n",
       "1 -4110354420726924665  http://www.nytimes.com/2016/03/28/business/dea...   \n",
       "2 -7292285110016212249  http://cointelegraph.com/news/bitcoin-future-w...   \n",
       "3 -6151852268067518688  https://cloudplatform.googleblog.com/2016/03/G...   \n",
       "4  2448026894306402386  https://bitcoinmagazine.com/articles/ibm-wants...   \n",
       "5 -2826566343807132236  http://www.coindesk.com/ieee-blockchain-oxford...   \n",
       "\n",
       "                                        text_content  \n",
       "1  Ethereum, a Virtual Currency, Enables Transact...  \n",
       "2  Bitcoin Future: When GBPcoin of Branson Wins O...  \n",
       "3  Google Data Center 360° Tour. We're excited to...  \n",
       "4  IBM Wants to \"Evolve the Internet\" With Blockc...  \n",
       "5  IEEE to Talk Blockchain at Cloud Computing Oxf...  "
      ]
     },
     "execution_count": 17,
     "metadata": {},
     "output_type": "execute_result"
    }
   ],
   "source": [
    "eng_shared_articles_df.drop(['title', 'text'], inplace=True, axis=1)\n",
    "eng_shared_articles_df.head()"
   ]
  },
  {
   "cell_type": "markdown",
   "metadata": {},
   "source": [
    "## Get Unique Text Content"
   ]
  },
  {
   "cell_type": "code",
   "execution_count": 18,
   "metadata": {
    "ExecuteTime": {
     "end_time": "2021-12-03T06:22:10.604720Z",
     "start_time": "2021-12-03T06:22:10.596467Z"
    }
   },
   "outputs": [
    {
     "data": {
      "text/html": [
       "<div>\n",
       "<style scoped>\n",
       "    .dataframe tbody tr th:only-of-type {\n",
       "        vertical-align: middle;\n",
       "    }\n",
       "\n",
       "    .dataframe tbody tr th {\n",
       "        vertical-align: top;\n",
       "    }\n",
       "\n",
       "    .dataframe thead th {\n",
       "        text-align: right;\n",
       "    }\n",
       "</style>\n",
       "<table border=\"1\" class=\"dataframe\">\n",
       "  <thead>\n",
       "    <tr style=\"text-align: right;\">\n",
       "      <th></th>\n",
       "      <th>contentId</th>\n",
       "      <th>url</th>\n",
       "      <th>text_content</th>\n",
       "    </tr>\n",
       "  </thead>\n",
       "  <tbody>\n",
       "    <tr>\n",
       "      <th>1</th>\n",
       "      <td>-4110354420726924665</td>\n",
       "      <td>http://www.nytimes.com/2016/03/28/business/dea...</td>\n",
       "      <td>Ethereum, a Virtual Currency, Enables Transact...</td>\n",
       "    </tr>\n",
       "    <tr>\n",
       "      <th>2</th>\n",
       "      <td>-7292285110016212249</td>\n",
       "      <td>http://cointelegraph.com/news/bitcoin-future-w...</td>\n",
       "      <td>Bitcoin Future: When GBPcoin of Branson Wins O...</td>\n",
       "    </tr>\n",
       "    <tr>\n",
       "      <th>3</th>\n",
       "      <td>-6151852268067518688</td>\n",
       "      <td>https://cloudplatform.googleblog.com/2016/03/G...</td>\n",
       "      <td>Google Data Center 360° Tour. We're excited to...</td>\n",
       "    </tr>\n",
       "    <tr>\n",
       "      <th>4</th>\n",
       "      <td>2448026894306402386</td>\n",
       "      <td>https://bitcoinmagazine.com/articles/ibm-wants...</td>\n",
       "      <td>IBM Wants to \"Evolve the Internet\" With Blockc...</td>\n",
       "    </tr>\n",
       "    <tr>\n",
       "      <th>5</th>\n",
       "      <td>-2826566343807132236</td>\n",
       "      <td>http://www.coindesk.com/ieee-blockchain-oxford...</td>\n",
       "      <td>IEEE to Talk Blockchain at Cloud Computing Oxf...</td>\n",
       "    </tr>\n",
       "  </tbody>\n",
       "</table>\n",
       "</div>"
      ],
      "text/plain": [
       "             contentId                                                url  \\\n",
       "1 -4110354420726924665  http://www.nytimes.com/2016/03/28/business/dea...   \n",
       "2 -7292285110016212249  http://cointelegraph.com/news/bitcoin-future-w...   \n",
       "3 -6151852268067518688  https://cloudplatform.googleblog.com/2016/03/G...   \n",
       "4  2448026894306402386  https://bitcoinmagazine.com/articles/ibm-wants...   \n",
       "5 -2826566343807132236  http://www.coindesk.com/ieee-blockchain-oxford...   \n",
       "\n",
       "                                        text_content  \n",
       "1  Ethereum, a Virtual Currency, Enables Transact...  \n",
       "2  Bitcoin Future: When GBPcoin of Branson Wins O...  \n",
       "3  Google Data Center 360° Tour. We're excited to...  \n",
       "4  IBM Wants to \"Evolve the Internet\" With Blockc...  \n",
       "5  IEEE to Talk Blockchain at Cloud Computing Oxf...  "
      ]
     },
     "execution_count": 18,
     "metadata": {},
     "output_type": "execute_result"
    }
   ],
   "source": [
    "eng_shared_articles_df.head()"
   ]
  },
  {
   "cell_type": "markdown",
   "metadata": {},
   "source": [
    "### Multiple ContentIds, Urls for Text_Content"
   ]
  },
  {
   "cell_type": "code",
   "execution_count": 19,
   "metadata": {
    "ExecuteTime": {
     "end_time": "2021-12-03T06:22:10.648052Z",
     "start_time": "2021-12-03T06:22:10.606752Z"
    }
   },
   "outputs": [
    {
     "data": {
      "text/plain": [
       "(2211, 2191, 2185)"
      ]
     },
     "execution_count": 19,
     "metadata": {},
     "output_type": "execute_result"
    }
   ],
   "source": [
    "len(eng_shared_articles_df['contentId'].unique()), len(eng_shared_articles_df['url'].unique()), len(eng_shared_articles_df['text_content'].unique())"
   ]
  },
  {
   "cell_type": "code",
   "execution_count": 20,
   "metadata": {
    "ExecuteTime": {
     "end_time": "2021-12-03T06:22:10.684976Z",
     "start_time": "2021-12-03T06:22:10.650100Z"
    }
   },
   "outputs": [
    {
     "data": {
      "text/plain": [
       "(2191, 2)"
      ]
     },
     "execution_count": 20,
     "metadata": {},
     "output_type": "execute_result"
    }
   ],
   "source": [
    "url_contents_df = eng_shared_articles_df[['url', 'text_content']].drop_duplicates()\n",
    "url_contents_df.shape"
   ]
  },
  {
   "cell_type": "code",
   "execution_count": 21,
   "metadata": {
    "ExecuteTime": {
     "end_time": "2021-12-03T06:22:10.695065Z",
     "start_time": "2021-12-03T06:22:10.687120Z"
    }
   },
   "outputs": [
    {
     "data": {
      "text/html": [
       "<div>\n",
       "<style scoped>\n",
       "    .dataframe tbody tr th:only-of-type {\n",
       "        vertical-align: middle;\n",
       "    }\n",
       "\n",
       "    .dataframe tbody tr th {\n",
       "        vertical-align: top;\n",
       "    }\n",
       "\n",
       "    .dataframe thead th {\n",
       "        text-align: right;\n",
       "    }\n",
       "</style>\n",
       "<table border=\"1\" class=\"dataframe\">\n",
       "  <thead>\n",
       "    <tr style=\"text-align: right;\">\n",
       "      <th></th>\n",
       "      <th>url</th>\n",
       "      <th>text_content</th>\n",
       "    </tr>\n",
       "  </thead>\n",
       "  <tbody>\n",
       "    <tr>\n",
       "      <th>1</th>\n",
       "      <td>http://www.nytimes.com/2016/03/28/business/dea...</td>\n",
       "      <td>Ethereum, a Virtual Currency, Enables Transact...</td>\n",
       "    </tr>\n",
       "    <tr>\n",
       "      <th>2</th>\n",
       "      <td>http://cointelegraph.com/news/bitcoin-future-w...</td>\n",
       "      <td>Bitcoin Future: When GBPcoin of Branson Wins O...</td>\n",
       "    </tr>\n",
       "    <tr>\n",
       "      <th>3</th>\n",
       "      <td>https://cloudplatform.googleblog.com/2016/03/G...</td>\n",
       "      <td>Google Data Center 360° Tour. We're excited to...</td>\n",
       "    </tr>\n",
       "    <tr>\n",
       "      <th>4</th>\n",
       "      <td>https://bitcoinmagazine.com/articles/ibm-wants...</td>\n",
       "      <td>IBM Wants to \"Evolve the Internet\" With Blockc...</td>\n",
       "    </tr>\n",
       "    <tr>\n",
       "      <th>5</th>\n",
       "      <td>http://www.coindesk.com/ieee-blockchain-oxford...</td>\n",
       "      <td>IEEE to Talk Blockchain at Cloud Computing Oxf...</td>\n",
       "    </tr>\n",
       "  </tbody>\n",
       "</table>\n",
       "</div>"
      ],
      "text/plain": [
       "                                                 url  \\\n",
       "1  http://www.nytimes.com/2016/03/28/business/dea...   \n",
       "2  http://cointelegraph.com/news/bitcoin-future-w...   \n",
       "3  https://cloudplatform.googleblog.com/2016/03/G...   \n",
       "4  https://bitcoinmagazine.com/articles/ibm-wants...   \n",
       "5  http://www.coindesk.com/ieee-blockchain-oxford...   \n",
       "\n",
       "                                        text_content  \n",
       "1  Ethereum, a Virtual Currency, Enables Transact...  \n",
       "2  Bitcoin Future: When GBPcoin of Branson Wins O...  \n",
       "3  Google Data Center 360° Tour. We're excited to...  \n",
       "4  IBM Wants to \"Evolve the Internet\" With Blockc...  \n",
       "5  IEEE to Talk Blockchain at Cloud Computing Oxf...  "
      ]
     },
     "execution_count": 21,
     "metadata": {},
     "output_type": "execute_result"
    }
   ],
   "source": [
    "url_contents_df.head()"
   ]
  },
  {
   "cell_type": "code",
   "execution_count": 22,
   "metadata": {
    "ExecuteTime": {
     "end_time": "2021-12-03T06:22:10.729648Z",
     "start_time": "2021-12-03T06:22:10.696680Z"
    }
   },
   "outputs": [
    {
     "data": {
      "text/plain": [
       "(2191, 2185)"
      ]
     },
     "execution_count": 22,
     "metadata": {},
     "output_type": "execute_result"
    }
   ],
   "source": [
    "len(url_contents_df['url'].unique()), len(url_contents_df['text_content'].unique())"
   ]
  },
  {
   "cell_type": "code",
   "execution_count": 23,
   "metadata": {
    "ExecuteTime": {
     "end_time": "2021-12-03T06:22:10.762416Z",
     "start_time": "2021-12-03T06:22:10.731261Z"
    }
   },
   "outputs": [
    {
     "data": {
      "text/plain": [
       "6"
      ]
     },
     "execution_count": 23,
     "metadata": {},
     "output_type": "execute_result"
    }
   ],
   "source": [
    "len(url_contents_df['url'].unique()) - len(url_contents_df['text_content'].unique())"
   ]
  },
  {
   "cell_type": "markdown",
   "metadata": {},
   "source": [
    "### Multiple Urls for Text Content"
   ]
  },
  {
   "cell_type": "code",
   "execution_count": 24,
   "metadata": {
    "ExecuteTime": {
     "end_time": "2021-12-03T06:22:11.005031Z",
     "start_time": "2021-12-03T06:22:10.763841Z"
    }
   },
   "outputs": [
    {
     "name": "stdout",
     "output_type": "stream",
     "text": [
      "['http://android-developers.blogspot.com.br/2016/04/android-n-developer-preview-2-out-today.html',\n",
      " 'http://android-developers.blogspot.com/2016/04/android-n-developer-preview-2-out-today.html']\n",
      "['https://www.oreilly.com/learning/how-to-build-a-robot-that-sees-with-100-and-tensorflow?twitter=@bigdata&utm_source=hackernewsletter&utm_medium=email&utm_term=fav',\n",
      " 'https://www.oreilly.com/learning/how-to-build-a-robot-that-sees-with-100-and-tensorflow']\n",
      "['https://www.blog.google/products/g-suite/introducing-google-cloud-search-g-suite/',\n",
      " 'https://blog.google/products/g-suite/introducing-google-cloud-search-g-suite/']\n",
      "['https://www.ted.com/talks/linus_torvalds_the_mind_behind_linux',\n",
      " 'http://www.ted.com/talks/linus_torvalds_the_mind_behind_linux']\n",
      "['https://www.thinkwithgoogle.com/articles/youtube-empowering-ads-engage.html?utm_source=Gplus&utm_medium=social&utm_campaign=Think',\n",
      " 'https://www.thinkwithgoogle.com/articles/youtube-empowering-ads-engage.html?utm_medium=email-d&utm_source=2016-06-think-letter&utm_campaign=20160606-think-letter-weekly-insight-a-OT-OT-CS&utm_content=Video-img&mkt_tok=eyJpIjoiTm1WaVpHTm1ORFExWkRKaiIsInQiOiJpSTJNQW5VOXlTTmpkaU83K1NiRDA1RW03bkFvaEpRSFJQd3JrNGN5RFZ4ZUpUXC9XXC9JaG1raXRiaTRsVHc2RkdcL250aUtsR2EzSW1ldGZlY0Rpc2xJdWJaMDhNYUNXZ3ZOSGsraUVyalFubz0ifQ%3D%3D']\n",
      "['https://hbr.org/2016/11/the-competitive-landscape-for-machine-intelligence',\n",
      " 'https://hbr.org/2016/11/the-competitive-landscape-for-machine-intelligence?']\n"
     ]
    }
   ],
   "source": [
    "content_urls = url_contents_df.groupby('text_content').apply(lambda x : list(x['url'].unique()))\n",
    "for content in content_urls.index:\n",
    "    if len(content_urls[content]) > 1:\n",
    "        #print(content)\n",
    "        pprint(content_urls[content])"
   ]
  },
  {
   "cell_type": "code",
   "execution_count": 25,
   "metadata": {
    "ExecuteTime": {
     "end_time": "2021-12-03T06:22:11.012620Z",
     "start_time": "2021-12-03T06:22:11.006620Z"
    }
   },
   "outputs": [
    {
     "data": {
      "text/plain": [
       "(2185, 2)"
      ]
     },
     "execution_count": 25,
     "metadata": {},
     "output_type": "execute_result"
    }
   ],
   "source": [
    "eng_shared_articles_content_df = eng_shared_articles_df['text_content'].drop_duplicates()\\\n",
    "                                                                       .reset_index()\\\n",
    "                                                                       .rename(columns={'index' : 'text_content_id'})\n",
    "eng_shared_articles_content_df.shape"
   ]
  },
  {
   "cell_type": "code",
   "execution_count": 26,
   "metadata": {
    "ExecuteTime": {
     "end_time": "2021-12-03T06:22:11.020837Z",
     "start_time": "2021-12-03T06:22:11.014459Z"
    }
   },
   "outputs": [
    {
     "data": {
      "text/html": [
       "<div>\n",
       "<style scoped>\n",
       "    .dataframe tbody tr th:only-of-type {\n",
       "        vertical-align: middle;\n",
       "    }\n",
       "\n",
       "    .dataframe tbody tr th {\n",
       "        vertical-align: top;\n",
       "    }\n",
       "\n",
       "    .dataframe thead th {\n",
       "        text-align: right;\n",
       "    }\n",
       "</style>\n",
       "<table border=\"1\" class=\"dataframe\">\n",
       "  <thead>\n",
       "    <tr style=\"text-align: right;\">\n",
       "      <th></th>\n",
       "      <th>text_content_id</th>\n",
       "      <th>text_content</th>\n",
       "    </tr>\n",
       "  </thead>\n",
       "  <tbody>\n",
       "    <tr>\n",
       "      <th>0</th>\n",
       "      <td>1</td>\n",
       "      <td>Ethereum, a Virtual Currency, Enables Transact...</td>\n",
       "    </tr>\n",
       "    <tr>\n",
       "      <th>1</th>\n",
       "      <td>2</td>\n",
       "      <td>Bitcoin Future: When GBPcoin of Branson Wins O...</td>\n",
       "    </tr>\n",
       "    <tr>\n",
       "      <th>2</th>\n",
       "      <td>3</td>\n",
       "      <td>Google Data Center 360° Tour. We're excited to...</td>\n",
       "    </tr>\n",
       "    <tr>\n",
       "      <th>3</th>\n",
       "      <td>4</td>\n",
       "      <td>IBM Wants to \"Evolve the Internet\" With Blockc...</td>\n",
       "    </tr>\n",
       "    <tr>\n",
       "      <th>4</th>\n",
       "      <td>5</td>\n",
       "      <td>IEEE to Talk Blockchain at Cloud Computing Oxf...</td>\n",
       "    </tr>\n",
       "  </tbody>\n",
       "</table>\n",
       "</div>"
      ],
      "text/plain": [
       "   text_content_id                                       text_content\n",
       "0                1  Ethereum, a Virtual Currency, Enables Transact...\n",
       "1                2  Bitcoin Future: When GBPcoin of Branson Wins O...\n",
       "2                3  Google Data Center 360° Tour. We're excited to...\n",
       "3                4  IBM Wants to \"Evolve the Internet\" With Blockc...\n",
       "4                5  IEEE to Talk Blockchain at Cloud Computing Oxf..."
      ]
     },
     "execution_count": 26,
     "metadata": {},
     "output_type": "execute_result"
    }
   ],
   "source": [
    "eng_shared_articles_content_df.head()"
   ]
  },
  {
   "cell_type": "code",
   "execution_count": 27,
   "metadata": {
    "ExecuteTime": {
     "end_time": "2021-12-03T06:22:11.035062Z",
     "start_time": "2021-12-03T06:22:11.022585Z"
    }
   },
   "outputs": [
    {
     "data": {
      "text/html": [
       "<div>\n",
       "<style scoped>\n",
       "    .dataframe tbody tr th:only-of-type {\n",
       "        vertical-align: middle;\n",
       "    }\n",
       "\n",
       "    .dataframe tbody tr th {\n",
       "        vertical-align: top;\n",
       "    }\n",
       "\n",
       "    .dataframe thead th {\n",
       "        text-align: right;\n",
       "    }\n",
       "</style>\n",
       "<table border=\"1\" class=\"dataframe\">\n",
       "  <thead>\n",
       "    <tr style=\"text-align: right;\">\n",
       "      <th></th>\n",
       "      <th>contentId</th>\n",
       "      <th>url</th>\n",
       "      <th>text_content</th>\n",
       "      <th>text_content_id</th>\n",
       "    </tr>\n",
       "  </thead>\n",
       "  <tbody>\n",
       "    <tr>\n",
       "      <th>0</th>\n",
       "      <td>-4110354420726924665</td>\n",
       "      <td>http://www.nytimes.com/2016/03/28/business/dea...</td>\n",
       "      <td>Ethereum, a Virtual Currency, Enables Transact...</td>\n",
       "      <td>1</td>\n",
       "    </tr>\n",
       "    <tr>\n",
       "      <th>1</th>\n",
       "      <td>-7292285110016212249</td>\n",
       "      <td>http://cointelegraph.com/news/bitcoin-future-w...</td>\n",
       "      <td>Bitcoin Future: When GBPcoin of Branson Wins O...</td>\n",
       "      <td>2</td>\n",
       "    </tr>\n",
       "    <tr>\n",
       "      <th>2</th>\n",
       "      <td>-6151852268067518688</td>\n",
       "      <td>https://cloudplatform.googleblog.com/2016/03/G...</td>\n",
       "      <td>Google Data Center 360° Tour. We're excited to...</td>\n",
       "      <td>3</td>\n",
       "    </tr>\n",
       "    <tr>\n",
       "      <th>3</th>\n",
       "      <td>2448026894306402386</td>\n",
       "      <td>https://bitcoinmagazine.com/articles/ibm-wants...</td>\n",
       "      <td>IBM Wants to \"Evolve the Internet\" With Blockc...</td>\n",
       "      <td>4</td>\n",
       "    </tr>\n",
       "    <tr>\n",
       "      <th>4</th>\n",
       "      <td>-2826566343807132236</td>\n",
       "      <td>http://www.coindesk.com/ieee-blockchain-oxford...</td>\n",
       "      <td>IEEE to Talk Blockchain at Cloud Computing Oxf...</td>\n",
       "      <td>5</td>\n",
       "    </tr>\n",
       "  </tbody>\n",
       "</table>\n",
       "</div>"
      ],
      "text/plain": [
       "             contentId                                                url  \\\n",
       "0 -4110354420726924665  http://www.nytimes.com/2016/03/28/business/dea...   \n",
       "1 -7292285110016212249  http://cointelegraph.com/news/bitcoin-future-w...   \n",
       "2 -6151852268067518688  https://cloudplatform.googleblog.com/2016/03/G...   \n",
       "3  2448026894306402386  https://bitcoinmagazine.com/articles/ibm-wants...   \n",
       "4 -2826566343807132236  http://www.coindesk.com/ieee-blockchain-oxford...   \n",
       "\n",
       "                                        text_content  text_content_id  \n",
       "0  Ethereum, a Virtual Currency, Enables Transact...                1  \n",
       "1  Bitcoin Future: When GBPcoin of Branson Wins O...                2  \n",
       "2  Google Data Center 360° Tour. We're excited to...                3  \n",
       "3  IBM Wants to \"Evolve the Internet\" With Blockc...                4  \n",
       "4  IEEE to Talk Blockchain at Cloud Computing Oxf...                5  "
      ]
     },
     "execution_count": 27,
     "metadata": {},
     "output_type": "execute_result"
    }
   ],
   "source": [
    "eng_shared_articles_text_id_df = eng_shared_articles_df.merge(eng_shared_articles_content_df)\n",
    "eng_shared_articles_text_id_df.head()"
   ]
  },
  {
   "cell_type": "code",
   "execution_count": 28,
   "metadata": {
    "ExecuteTime": {
     "end_time": "2021-12-03T06:22:11.043432Z",
     "start_time": "2021-12-03T06:22:11.037132Z"
    }
   },
   "outputs": [
    {
     "data": {
      "text/plain": [
       "80      4\n",
       "337     4\n",
       "618     3\n",
       "1513    2\n",
       "681     2\n",
       "       ..\n",
       "957     1\n",
       "955     1\n",
       "954     1\n",
       "953     1\n",
       "3121    1\n",
       "Name: text_content_id, Length: 2185, dtype: int64"
      ]
     },
     "execution_count": 28,
     "metadata": {},
     "output_type": "execute_result"
    }
   ],
   "source": [
    "eng_shared_articles_text_id_df['text_content_id'].value_counts()"
   ]
  },
  {
   "cell_type": "code",
   "execution_count": 29,
   "metadata": {
    "ExecuteTime": {
     "end_time": "2021-12-03T06:22:11.054257Z",
     "start_time": "2021-12-03T06:22:11.045283Z"
    }
   },
   "outputs": [
    {
     "data": {
      "text/html": [
       "<div>\n",
       "<style scoped>\n",
       "    .dataframe tbody tr th:only-of-type {\n",
       "        vertical-align: middle;\n",
       "    }\n",
       "\n",
       "    .dataframe tbody tr th {\n",
       "        vertical-align: top;\n",
       "    }\n",
       "\n",
       "    .dataframe thead th {\n",
       "        text-align: right;\n",
       "    }\n",
       "</style>\n",
       "<table border=\"1\" class=\"dataframe\">\n",
       "  <thead>\n",
       "    <tr style=\"text-align: right;\">\n",
       "      <th></th>\n",
       "      <th>contentId</th>\n",
       "      <th>url</th>\n",
       "      <th>text_content</th>\n",
       "      <th>text_content_id</th>\n",
       "    </tr>\n",
       "  </thead>\n",
       "  <tbody>\n",
       "    <tr>\n",
       "      <th>280</th>\n",
       "      <td>8160885002406274828</td>\n",
       "      <td>https://medium.com/quality-functions/preventin...</td>\n",
       "      <td>Preventing Software Bugs from Ever Occurring -...</td>\n",
       "      <td>337</td>\n",
       "    </tr>\n",
       "    <tr>\n",
       "      <th>281</th>\n",
       "      <td>-4248528062574538011</td>\n",
       "      <td>https://medium.com/quality-functions/preventin...</td>\n",
       "      <td>Preventing Software Bugs from Ever Occurring -...</td>\n",
       "      <td>337</td>\n",
       "    </tr>\n",
       "    <tr>\n",
       "      <th>282</th>\n",
       "      <td>-3265730906936163775</td>\n",
       "      <td>https://medium.com/quality-functions/preventin...</td>\n",
       "      <td>Preventing Software Bugs from Ever Occurring -...</td>\n",
       "      <td>337</td>\n",
       "    </tr>\n",
       "    <tr>\n",
       "      <th>283</th>\n",
       "      <td>2824996248683640175</td>\n",
       "      <td>https://medium.com/quality-functions/preventin...</td>\n",
       "      <td>Preventing Software Bugs from Ever Occurring -...</td>\n",
       "      <td>337</td>\n",
       "    </tr>\n",
       "  </tbody>\n",
       "</table>\n",
       "</div>"
      ],
      "text/plain": [
       "               contentId                                                url  \\\n",
       "280  8160885002406274828  https://medium.com/quality-functions/preventin...   \n",
       "281 -4248528062574538011  https://medium.com/quality-functions/preventin...   \n",
       "282 -3265730906936163775  https://medium.com/quality-functions/preventin...   \n",
       "283  2824996248683640175  https://medium.com/quality-functions/preventin...   \n",
       "\n",
       "                                          text_content  text_content_id  \n",
       "280  Preventing Software Bugs from Ever Occurring -...              337  \n",
       "281  Preventing Software Bugs from Ever Occurring -...              337  \n",
       "282  Preventing Software Bugs from Ever Occurring -...              337  \n",
       "283  Preventing Software Bugs from Ever Occurring -...              337  "
      ]
     },
     "execution_count": 29,
     "metadata": {},
     "output_type": "execute_result"
    }
   ],
   "source": [
    "eng_shared_articles_text_id_df[eng_shared_articles_text_id_df['text_content_id'] == 337]"
   ]
  },
  {
   "cell_type": "markdown",
   "metadata": {},
   "source": [
    "## Extract Topics of Articles"
   ]
  },
  {
   "cell_type": "code",
   "execution_count": 30,
   "metadata": {
    "ExecuteTime": {
     "end_time": "2021-12-03T06:22:11.059681Z",
     "start_time": "2021-12-03T06:22:11.056160Z"
    }
   },
   "outputs": [
    {
     "data": {
      "text/plain": [
       "(2185, 2)"
      ]
     },
     "execution_count": 30,
     "metadata": {},
     "output_type": "execute_result"
    }
   ],
   "source": [
    "eng_shared_articles_content_df.shape"
   ]
  },
  {
   "cell_type": "code",
   "execution_count": 31,
   "metadata": {
    "ExecuteTime": {
     "end_time": "2021-12-03T06:22:11.067852Z",
     "start_time": "2021-12-03T06:22:11.061070Z"
    }
   },
   "outputs": [
    {
     "data": {
      "text/html": [
       "<div>\n",
       "<style scoped>\n",
       "    .dataframe tbody tr th:only-of-type {\n",
       "        vertical-align: middle;\n",
       "    }\n",
       "\n",
       "    .dataframe tbody tr th {\n",
       "        vertical-align: top;\n",
       "    }\n",
       "\n",
       "    .dataframe thead th {\n",
       "        text-align: right;\n",
       "    }\n",
       "</style>\n",
       "<table border=\"1\" class=\"dataframe\">\n",
       "  <thead>\n",
       "    <tr style=\"text-align: right;\">\n",
       "      <th></th>\n",
       "      <th>text_content_id</th>\n",
       "      <th>text_content</th>\n",
       "    </tr>\n",
       "  </thead>\n",
       "  <tbody>\n",
       "    <tr>\n",
       "      <th>0</th>\n",
       "      <td>1</td>\n",
       "      <td>Ethereum, a Virtual Currency, Enables Transact...</td>\n",
       "    </tr>\n",
       "    <tr>\n",
       "      <th>1</th>\n",
       "      <td>2</td>\n",
       "      <td>Bitcoin Future: When GBPcoin of Branson Wins O...</td>\n",
       "    </tr>\n",
       "    <tr>\n",
       "      <th>2</th>\n",
       "      <td>3</td>\n",
       "      <td>Google Data Center 360° Tour. We're excited to...</td>\n",
       "    </tr>\n",
       "    <tr>\n",
       "      <th>3</th>\n",
       "      <td>4</td>\n",
       "      <td>IBM Wants to \"Evolve the Internet\" With Blockc...</td>\n",
       "    </tr>\n",
       "    <tr>\n",
       "      <th>4</th>\n",
       "      <td>5</td>\n",
       "      <td>IEEE to Talk Blockchain at Cloud Computing Oxf...</td>\n",
       "    </tr>\n",
       "  </tbody>\n",
       "</table>\n",
       "</div>"
      ],
      "text/plain": [
       "   text_content_id                                       text_content\n",
       "0                1  Ethereum, a Virtual Currency, Enables Transact...\n",
       "1                2  Bitcoin Future: When GBPcoin of Branson Wins O...\n",
       "2                3  Google Data Center 360° Tour. We're excited to...\n",
       "3                4  IBM Wants to \"Evolve the Internet\" With Blockc...\n",
       "4                5  IEEE to Talk Blockchain at Cloud Computing Oxf..."
      ]
     },
     "execution_count": 31,
     "metadata": {},
     "output_type": "execute_result"
    }
   ],
   "source": [
    "eng_shared_articles_content_df.head()"
   ]
  },
  {
   "cell_type": "code",
   "execution_count": 32,
   "metadata": {
    "ExecuteTime": {
     "end_time": "2021-12-03T06:23:17.528771Z",
     "start_time": "2021-12-03T06:22:11.075767Z"
    }
   },
   "outputs": [],
   "source": [
    "eng_shared_articles_content_df.loc[:, 'processed_text'] = eng_shared_articles_content_df['text_content'].apply(lemmatize_spacy)"
   ]
  },
  {
   "cell_type": "code",
   "execution_count": 33,
   "metadata": {
    "ExecuteTime": {
     "end_time": "2021-12-03T06:23:17.537751Z",
     "start_time": "2021-12-03T06:23:17.530521Z"
    }
   },
   "outputs": [
    {
     "data": {
      "text/html": [
       "<div>\n",
       "<style scoped>\n",
       "    .dataframe tbody tr th:only-of-type {\n",
       "        vertical-align: middle;\n",
       "    }\n",
       "\n",
       "    .dataframe tbody tr th {\n",
       "        vertical-align: top;\n",
       "    }\n",
       "\n",
       "    .dataframe thead th {\n",
       "        text-align: right;\n",
       "    }\n",
       "</style>\n",
       "<table border=\"1\" class=\"dataframe\">\n",
       "  <thead>\n",
       "    <tr style=\"text-align: right;\">\n",
       "      <th></th>\n",
       "      <th>text_content_id</th>\n",
       "      <th>text_content</th>\n",
       "      <th>processed_text</th>\n",
       "    </tr>\n",
       "  </thead>\n",
       "  <tbody>\n",
       "    <tr>\n",
       "      <th>0</th>\n",
       "      <td>1</td>\n",
       "      <td>Ethereum, a Virtual Currency, Enables Transact...</td>\n",
       "      <td>Ethereum a Virtual Currency Enables Transactio...</td>\n",
       "    </tr>\n",
       "    <tr>\n",
       "      <th>1</th>\n",
       "      <td>2</td>\n",
       "      <td>Bitcoin Future: When GBPcoin of Branson Wins O...</td>\n",
       "      <td>Bitcoin Future when GBPcoin of Branson Wins ov...</td>\n",
       "    </tr>\n",
       "    <tr>\n",
       "      <th>2</th>\n",
       "      <td>3</td>\n",
       "      <td>Google Data Center 360° Tour. We're excited to...</td>\n",
       "      <td>Google Data Center Tour We be excite to share ...</td>\n",
       "    </tr>\n",
       "    <tr>\n",
       "      <th>3</th>\n",
       "      <td>4</td>\n",
       "      <td>IBM Wants to \"Evolve the Internet\" With Blockc...</td>\n",
       "      <td>IBM want to evolve the internet with Blockchai...</td>\n",
       "    </tr>\n",
       "    <tr>\n",
       "      <th>4</th>\n",
       "      <td>5</td>\n",
       "      <td>IEEE to Talk Blockchain at Cloud Computing Oxf...</td>\n",
       "      <td>ieee to talk Blockchain at Cloud Computing Oxf...</td>\n",
       "    </tr>\n",
       "  </tbody>\n",
       "</table>\n",
       "</div>"
      ],
      "text/plain": [
       "   text_content_id                                       text_content  \\\n",
       "0                1  Ethereum, a Virtual Currency, Enables Transact...   \n",
       "1                2  Bitcoin Future: When GBPcoin of Branson Wins O...   \n",
       "2                3  Google Data Center 360° Tour. We're excited to...   \n",
       "3                4  IBM Wants to \"Evolve the Internet\" With Blockc...   \n",
       "4                5  IEEE to Talk Blockchain at Cloud Computing Oxf...   \n",
       "\n",
       "                                      processed_text  \n",
       "0  Ethereum a Virtual Currency Enables Transactio...  \n",
       "1  Bitcoin Future when GBPcoin of Branson Wins ov...  \n",
       "2  Google Data Center Tour We be excite to share ...  \n",
       "3  IBM want to evolve the internet with Blockchai...  \n",
       "4  ieee to talk Blockchain at Cloud Computing Oxf...  "
      ]
     },
     "execution_count": 33,
     "metadata": {},
     "output_type": "execute_result"
    }
   ],
   "source": [
    "eng_shared_articles_content_df.head()"
   ]
  },
  {
   "cell_type": "code",
   "execution_count": 34,
   "metadata": {
    "ExecuteTime": {
     "end_time": "2021-12-03T06:23:17.542965Z",
     "start_time": "2021-12-03T06:23:17.539816Z"
    },
    "code_folding": [
     0
    ]
   },
   "outputs": [],
   "source": [
    "# bow_lda_pipeline = Pipeline(steps=[('vectorizer', CountVectorizer()),\n",
    "#                                    ('dim_reduce', LatentDirichletAllocation())\n",
    "#                               ])\n",
    "\n",
    "# bow_lda_pipeline_params = {\n",
    "#     'vectorizer__strip_accents': 'unicode',\n",
    "#     'vectorizer__stop_words': 'english',\n",
    "#     'vectorizer__lowercase': True,\n",
    "#     'vectorizer__token_pattern': r'\\b[a-zA-Z]{3,}\\b',\n",
    "#     'vectorizer__min_df': 5,\n",
    "#     'vectorizer__max_df': 0.5,\n",
    "    \n",
    "#     'dim_reduce__n_components': 30,\n",
    "#     'dim_reduce__random_state': 0\n",
    "# }\n",
    "# bow_lda_pipeline.set_params(**bow_lda_pipeline_params)\n",
    "\n",
    "# start_time = default_timer()\n",
    "# bow_lda_pipeline.fit(eng_shared_articles_content_df['text_content'])\n",
    "# end_time = default_timer()\n",
    "\n",
    "# time_taken_str = convert_sec(end_time - start_time)\n",
    "# print(\"Time Taken : {}\".format(time_taken_str))\n",
    "\n",
    "\n",
    "# start_time = default_timer()\n",
    "# pyLDAvis.sklearn.prepare(bow_lda_pipeline.named_steps['dim_reduce'], \n",
    "#                          bow_lda_pipeline.named_steps['vectorizer'].fit_transform(eng_shared_articles_content_df['text_content']), \n",
    "#                          bow_lda_pipeline.named_steps['vectorizer'])\n",
    "# end_time = default_timer()\n",
    "\n",
    "# time_taken_str = convert_sec(end_time - start_time)\n",
    "# print(\"Time Taken : {}\".format(time_taken_str))"
   ]
  },
  {
   "cell_type": "code",
   "execution_count": 35,
   "metadata": {
    "ExecuteTime": {
     "end_time": "2021-12-03T06:23:17.550710Z",
     "start_time": "2021-12-03T06:23:17.544673Z"
    },
    "code_folding": [
     0
    ]
   },
   "outputs": [],
   "source": [
    "def get_topics(model, feature_names, n_top_words=10):\n",
    "    topics_df = pd.DataFrame(model.components_, columns=feature_names)   \n",
    "    topics = dict()\n",
    "    for i, topic_words in topics_df.iterrows():\n",
    "        topic_id_str = 'topic_' + str(i)        \n",
    "        topic_words_dict = topic_words.sort_values(ascending=False).head(n_top_words).to_dict()\n",
    "        topic_words_str = ', '.join(['#'+str(word) for word in topic_words_dict.keys()])\n",
    "        print(topic_id_str + \" : \" + topic_words_str)\n",
    "        topics[topic_id_str] = dict()\n",
    "        topics[topic_id_str]['words_str'] = topic_words_str\n",
    "        topics[topic_id_str]['words'] = topic_words_dict\n",
    "    return topics"
   ]
  },
  {
   "cell_type": "markdown",
   "metadata": {},
   "source": [
    "### Term Frequency LDA"
   ]
  },
  {
   "cell_type": "code",
   "execution_count": 36,
   "metadata": {
    "ExecuteTime": {
     "end_time": "2021-12-03T06:23:25.242356Z",
     "start_time": "2021-12-03T06:23:17.552814Z"
    }
   },
   "outputs": [
    {
     "name": "stdout",
     "output_type": "stream",
     "text": [
      "Time Taken : 7.5867    sec\n",
      "topic_0 : #woman, #country, #brazil, #black, #music, #trend, #technical, #plague, #death, #white\n",
      "topic_1 : #software, #change, #project, #build, #development, #agile, #process, #organization, #service, #developer\n",
      "topic_2 : #product, #company, #business, #design, #people, #digital, #build, #service, #platform, #experience\n",
      "topic_3 : #drupal, #module, #content, #acquia, #community, #support, #react, #build, #developer, #commerce\n",
      "topic_4 : #machine, #learning, #learn, #datum, #model, #image, #human, #computer, #algorithm, #intelligence\n",
      "topic_5 : #customer, #company, #datum, #technology, #business, #blockchain, #digital, #bitcoin, #service, #industry\n",
      "topic_6 : #datum, #example, #method, #function, #event, #write, #value, #create, #class, #result\n",
      "topic_7 : #password, #token, #kotlin, #field, #label, #place, #design, #swarm, #google, #aggregation\n",
      "topic_8 : #google, #android, #facebook, #search, #service, #message, #create, #windows, #notification, #video\n",
      "topic_9 : #docker, #container, #build, #command, #image, #version, #start, #server, #application, #create\n",
      "topic_10 : #apple, #people, #thing, #email, #company, #feature, #think, #device, #phone, #microsoft\n",
      "topic_11 : #language, #people, #thing, #think, #write, #story, #learn, #change, #human, #world\n",
      "topic_12 : #payment, #store, #account, #consumer, #customer, #online, #credit, #wallet, #retailer, #mobile\n",
      "topic_13 : #cloud, #google, #service, #application, #platform, #datum, #server, #instance, #support, #network\n",
      "topic_14 : #mobile, #people, #experience, #thing, #world, #website, #start, #sound, #content, #think\n"
     ]
    },
    {
     "name": "stderr",
     "output_type": "stream",
     "text": [
      "/Users/ravi/Personal_Projects/recommender_system/rec_sys_env/lib/python3.7/site-packages/sklearn/utils/deprecation.py:87: FutureWarning: Function get_feature_names is deprecated; get_feature_names is deprecated in 1.0 and will be removed in 1.2. Please use get_feature_names_out instead.\n",
      "  warnings.warn(msg, category=FutureWarning)\n"
     ]
    }
   ],
   "source": [
    "tf_vectorizer = CountVectorizer(strip_accents = 'ascii',\n",
    "                                stop_words = 'english',\n",
    "                                lowercase = True,\n",
    "                                analyzer = 'word',\n",
    "                                token_pattern = r'\\b[a-zA-Z]{5,}\\b',\n",
    "                                ngram_range = (1, 1),\n",
    "                                max_df = 0.8, min_df = 1)\n",
    "lda_tf = LatentDirichletAllocation(n_components=15, n_jobs=-1, random_state=0)\n",
    "\n",
    "start_time = default_timer()\n",
    "\n",
    "dtm_tf = tf_vectorizer.fit_transform(eng_shared_articles_content_df['processed_text'])\n",
    "lda_tf.fit(dtm_tf)\n",
    "\n",
    "end_time = default_timer()\n",
    "time_taken_str = convert_sec(end_time - start_time)\n",
    "print(\"Time Taken : {}\".format(time_taken_str))\n",
    "\n",
    "tf_feature_names = tf_vectorizer.get_feature_names()\n",
    "topics = get_topics(lda_tf, tf_feature_names, n_top_words=10)\n",
    "\n",
    "# n_components=5\n",
    "# Time Taken : 10.7162    sec\n",
    "# topic_0 : #people, #world, #woman, #company, #country, #think, #thing, #million, #space, #write\n",
    "# topic_1 : #change, #build, #create, #datum, #example, #application, #write, #project, #event, #start\n",
    "# topic_2 : #google, #cloud, #service, #apple, #platform, #company, #android, #developer, #product, #device\n",
    "# topic_3 : #company, #customer, #business, #product, #digital, #technology, #drupal, #experience, #datum, #organization\n",
    "# topic_4 : #machine, #datum, #learn, #learning, #people, #model, #thing, #image, #human, #think\n",
    "\n",
    "# n_components=10\n",
    "# Time Taken : 14.4023    sec\n",
    "# topic_0 : #woman, #people, #country, #world, #music, #black, #space, #brazil, #america, #write\n",
    "# topic_1 : #software, #change, #project, #build, #process, #development, #design, #organization, #people, #agile\n",
    "# topic_2 : #google, #apple, #product, #company, #cloud, #platform, #android, #service, #developer, #build\n",
    "# topic_3 : #drupal, #module, #content, #acquia, #commerce, #feature, #build, #service, #support, #vehicle\n",
    "# topic_4 : #machine, #learning, #learn, #datum, #people, #human, #computer, #thing, #google, #image\n",
    "# topic_5 : #company, #customer, #digital, #business, #technology, #datum, #product, #blockchain, #market, #experience\n",
    "# topic_6 : #datum, #example, #event, #write, #method, #function, #value, #class, #result, #create\n",
    "# topic_7 : #cloud, #google, #mobile, #docker, #application, #storage, #device, #security, #datum, #password\n",
    "# topic_8 : #google, #service, #create, #instance, #cloud, #message, #datum, #update, #windows, #application\n",
    "# topic_9 : #docker, #build, #container, #image, #command, #start, #version, #server, #support, #application\n",
    "    \n",
    "# n_components = 15\n",
    "# Time Taken : 23.2102    sec\n",
    "# topic_0 : #woman, #country, #brazil, #black, #music, #trend, #quantum, #plague, #death, #america\n",
    "# topic_1 : #software, #change, #project, #build, #development, #process, #agile, #organization, #service, #developer\n",
    "# topic_2 : #product, #company, #business, #people, #design, #digital, #service, #build, #platform, #experience\n",
    "# topic_3 : #drupal, #module, #content, #acquia, #community, #support, #build, #developer, #commerce, #feature\n",
    "# topic_4 : #machine, #learning, #datum, #learn, #model, #image, #human, #intelligence, #computer, #algorithm\n",
    "# topic_5 : #customer, #company, #technology, #datum, #digital, #blockchain, #business, #bitcoin, #service, #industry\n",
    "# topic_6 : #datum, #example, #method, #event, #function, #write, #value, #create, #result, #class\n",
    "# topic_7 : #password, #token, #kotlin, #field, #label, #place, #swarm, #aggregation, #value, #google\n",
    "# topic_8 : #google, #android, #facebook, #developer, #search, #windows, #content, #create, #message, #mobile\n",
    "# topic_9 : #docker, #container, #command, #build, #image, #version, #server, #start, #application, #create\n",
    "# topic_10 : #apple, #people, #thing, #company, #email, #device, #think, #phone, #feature, #microsoft\n",
    "# topic_11 : #language, #people, #write, #think, #thing, #story, #change, #learn, #world, #really\n",
    "# topic_12 : #payment, #account, #store, #customer, #consumer, #online, #credit, #retailer, #wallet, #chart\n",
    "# topic_13 : #cloud, #google, #service, #application, #platform, #datum, #server, #instance, #support, #network\n",
    "# topic_14 : #mobile, #people, #experience, #thing, #website, #start, #world, #sound, #content, #think\n",
    "\n",
    "\n",
    "\n",
    "# n_components = 20\n",
    "# Time Taken : 32.3148    sec\n",
    "# topic_0 : #woman, #music, #trend, #quantum, #light, #brazil, #power, #circuit, #gender, #world\n",
    "# topic_1 : #software, #project, #change, #build, #service, #agile, #microservice, #asset, #component, #development\n",
    "# topic_2 : #company, #product, #service, #platform, #business, #build, #google, #design, #slack, #developer\n",
    "# topic_3 : #vehicle, #internet, #technology, #drive, #autonomous, #sensor, #driver, #device, #airbnb, #china\n",
    "# topic_4 : #machine, #learning, #learn, #human, #google, #intelligence, #computer, #datum, #company, #people\n",
    "# topic_5 : #company, #technology, #blockchain, #bitcoin, #customer, #financial, #datum, #service, #industry, #business\n",
    "# topic_6 : #event, #datum, #example, #method, #function, #content, #write, #result, #database, #search\n",
    "# topic_7 : #google, #field, #design, #label, #place, #aggregation, #apple, #bucket, #swarm, #different\n",
    "# topic_8 : #google, #facebook, #notification, #message, #search, #android, #drive, #create, #desktop, #share\n",
    "# topic_9 : #docker, #container, #command, #image, #build, #server, #linux, #windows, #application, #start\n",
    "# topic_10 : #apple, #email, #people, #thing, #feature, #company, #device, #phone, #microsoft, #iphone\n",
    "# topic_11 : #people, #thing, #think, #story, #change, #write, #really, #start, #point, #problem\n",
    "# topic_12 : #consumer, #customer, #brand, #store, #company, #datum, #online, #market, #growth, #percent\n",
    "# topic_13 : #cloud, #google, #service, #datum, #application, #platform, #instance, #server, #network, #request\n",
    "# topic_14 : #mobile, #people, #website, #experience, #content, #digital, #account, #world, #thing, #marketing\n",
    "# topic_15 : #datum, #model, #learn, #language, #machine, #image, #learning, #network, #example, #algorithm\n",
    "# topic_16 : #password, #event, #salesforce, #trello, #include, #storage, #million, #space, #board, #create\n",
    "# topic_17 : #customer, #company, #drupal, #business, #product, #organization, #experience, #change, #process, #digital\n",
    "# topic_18 : #woman, #write, #people, #japanese, #technical, #english, #death, #speak, #black, #release\n",
    "# topic_19 : #developer, #module, #build, #javascript, #android, #support, #library, #project, #create, #framework"
   ]
  },
  {
   "cell_type": "code",
   "execution_count": 37,
   "metadata": {
    "ExecuteTime": {
     "end_time": "2021-12-03T06:23:25.248945Z",
     "start_time": "2021-12-03T06:23:25.244602Z"
    }
   },
   "outputs": [
    {
     "data": {
      "text/plain": [
       "(2185, 29751)"
      ]
     },
     "execution_count": 37,
     "metadata": {},
     "output_type": "execute_result"
    }
   ],
   "source": [
    "dtm_tf.shape"
   ]
  },
  {
   "cell_type": "code",
   "execution_count": 38,
   "metadata": {
    "ExecuteTime": {
     "end_time": "2021-12-03T06:23:25.254480Z",
     "start_time": "2021-12-03T06:23:25.250270Z"
    }
   },
   "outputs": [
    {
     "data": {
      "text/plain": [
       "(15, 29751)"
      ]
     },
     "execution_count": 38,
     "metadata": {},
     "output_type": "execute_result"
    }
   ],
   "source": [
    "lda_tf.components_.shape"
   ]
  },
  {
   "cell_type": "code",
   "execution_count": 39,
   "metadata": {
    "ExecuteTime": {
     "end_time": "2021-12-03T06:23:25.647998Z",
     "start_time": "2021-12-03T06:23:25.257338Z"
    }
   },
   "outputs": [
    {
     "data": {
      "text/plain": [
       "(2185, 15)"
      ]
     },
     "execution_count": 39,
     "metadata": {},
     "output_type": "execute_result"
    }
   ],
   "source": [
    "reduced_dtm_tf = pd.DataFrame(lda_tf.transform(dtm_tf), columns=['topic_' + str(i) for i in range(lda_tf.n_components)])\n",
    "reduced_dtm_tf.shape"
   ]
  },
  {
   "cell_type": "code",
   "execution_count": 40,
   "metadata": {
    "ExecuteTime": {
     "end_time": "2021-12-03T06:23:25.667159Z",
     "start_time": "2021-12-03T06:23:25.650134Z"
    }
   },
   "outputs": [
    {
     "data": {
      "text/html": [
       "<div>\n",
       "<style scoped>\n",
       "    .dataframe tbody tr th:only-of-type {\n",
       "        vertical-align: middle;\n",
       "    }\n",
       "\n",
       "    .dataframe tbody tr th {\n",
       "        vertical-align: top;\n",
       "    }\n",
       "\n",
       "    .dataframe thead th {\n",
       "        text-align: right;\n",
       "    }\n",
       "</style>\n",
       "<table border=\"1\" class=\"dataframe\">\n",
       "  <thead>\n",
       "    <tr style=\"text-align: right;\">\n",
       "      <th></th>\n",
       "      <th>topic_0</th>\n",
       "      <th>topic_1</th>\n",
       "      <th>topic_2</th>\n",
       "      <th>topic_3</th>\n",
       "      <th>topic_4</th>\n",
       "      <th>topic_5</th>\n",
       "      <th>topic_6</th>\n",
       "      <th>topic_7</th>\n",
       "      <th>topic_8</th>\n",
       "      <th>topic_9</th>\n",
       "      <th>topic_10</th>\n",
       "      <th>topic_11</th>\n",
       "      <th>topic_12</th>\n",
       "      <th>topic_13</th>\n",
       "      <th>topic_14</th>\n",
       "    </tr>\n",
       "  </thead>\n",
       "  <tbody>\n",
       "    <tr>\n",
       "      <th>0</th>\n",
       "      <td>0.000168</td>\n",
       "      <td>0.012941</td>\n",
       "      <td>0.309521</td>\n",
       "      <td>0.000168</td>\n",
       "      <td>0.072652</td>\n",
       "      <td>0.564456</td>\n",
       "      <td>0.000168</td>\n",
       "      <td>0.000168</td>\n",
       "      <td>0.000168</td>\n",
       "      <td>0.000168</td>\n",
       "      <td>0.000168</td>\n",
       "      <td>0.000168</td>\n",
       "      <td>0.000168</td>\n",
       "      <td>0.038751</td>\n",
       "      <td>0.000168</td>\n",
       "    </tr>\n",
       "    <tr>\n",
       "      <th>1</th>\n",
       "      <td>0.000450</td>\n",
       "      <td>0.000450</td>\n",
       "      <td>0.000450</td>\n",
       "      <td>0.000450</td>\n",
       "      <td>0.111673</td>\n",
       "      <td>0.113502</td>\n",
       "      <td>0.000450</td>\n",
       "      <td>0.000450</td>\n",
       "      <td>0.000450</td>\n",
       "      <td>0.000450</td>\n",
       "      <td>0.000450</td>\n",
       "      <td>0.000450</td>\n",
       "      <td>0.577152</td>\n",
       "      <td>0.000450</td>\n",
       "      <td>0.192718</td>\n",
       "    </tr>\n",
       "    <tr>\n",
       "      <th>2</th>\n",
       "      <td>0.000680</td>\n",
       "      <td>0.000680</td>\n",
       "      <td>0.000680</td>\n",
       "      <td>0.000680</td>\n",
       "      <td>0.000680</td>\n",
       "      <td>0.000680</td>\n",
       "      <td>0.000680</td>\n",
       "      <td>0.000680</td>\n",
       "      <td>0.618954</td>\n",
       "      <td>0.000680</td>\n",
       "      <td>0.131277</td>\n",
       "      <td>0.000680</td>\n",
       "      <td>0.000680</td>\n",
       "      <td>0.241605</td>\n",
       "      <td>0.000680</td>\n",
       "    </tr>\n",
       "    <tr>\n",
       "      <th>3</th>\n",
       "      <td>0.000151</td>\n",
       "      <td>0.037151</td>\n",
       "      <td>0.000151</td>\n",
       "      <td>0.000151</td>\n",
       "      <td>0.000151</td>\n",
       "      <td>0.528791</td>\n",
       "      <td>0.000151</td>\n",
       "      <td>0.000151</td>\n",
       "      <td>0.027521</td>\n",
       "      <td>0.000151</td>\n",
       "      <td>0.000151</td>\n",
       "      <td>0.000151</td>\n",
       "      <td>0.000151</td>\n",
       "      <td>0.000151</td>\n",
       "      <td>0.404874</td>\n",
       "    </tr>\n",
       "    <tr>\n",
       "      <th>4</th>\n",
       "      <td>0.061285</td>\n",
       "      <td>0.000538</td>\n",
       "      <td>0.000538</td>\n",
       "      <td>0.000538</td>\n",
       "      <td>0.195780</td>\n",
       "      <td>0.504231</td>\n",
       "      <td>0.000538</td>\n",
       "      <td>0.053001</td>\n",
       "      <td>0.000538</td>\n",
       "      <td>0.000538</td>\n",
       "      <td>0.000538</td>\n",
       "      <td>0.000538</td>\n",
       "      <td>0.000538</td>\n",
       "      <td>0.180326</td>\n",
       "      <td>0.000538</td>\n",
       "    </tr>\n",
       "  </tbody>\n",
       "</table>\n",
       "</div>"
      ],
      "text/plain": [
       "    topic_0   topic_1   topic_2   topic_3   topic_4   topic_5   topic_6  \\\n",
       "0  0.000168  0.012941  0.309521  0.000168  0.072652  0.564456  0.000168   \n",
       "1  0.000450  0.000450  0.000450  0.000450  0.111673  0.113502  0.000450   \n",
       "2  0.000680  0.000680  0.000680  0.000680  0.000680  0.000680  0.000680   \n",
       "3  0.000151  0.037151  0.000151  0.000151  0.000151  0.528791  0.000151   \n",
       "4  0.061285  0.000538  0.000538  0.000538  0.195780  0.504231  0.000538   \n",
       "\n",
       "    topic_7   topic_8   topic_9  topic_10  topic_11  topic_12  topic_13  \\\n",
       "0  0.000168  0.000168  0.000168  0.000168  0.000168  0.000168  0.038751   \n",
       "1  0.000450  0.000450  0.000450  0.000450  0.000450  0.577152  0.000450   \n",
       "2  0.000680  0.618954  0.000680  0.131277  0.000680  0.000680  0.241605   \n",
       "3  0.000151  0.027521  0.000151  0.000151  0.000151  0.000151  0.000151   \n",
       "4  0.053001  0.000538  0.000538  0.000538  0.000538  0.000538  0.180326   \n",
       "\n",
       "   topic_14  \n",
       "0  0.000168  \n",
       "1  0.192718  \n",
       "2  0.000680  \n",
       "3  0.404874  \n",
       "4  0.000538  "
      ]
     },
     "execution_count": 40,
     "metadata": {},
     "output_type": "execute_result"
    }
   ],
   "source": [
    "reduced_dtm_tf.head()"
   ]
  },
  {
   "cell_type": "code",
   "execution_count": 41,
   "metadata": {
    "ExecuteTime": {
     "end_time": "2021-12-03T06:23:26.029999Z",
     "start_time": "2021-12-03T06:23:25.669233Z"
    }
   },
   "outputs": [],
   "source": [
    "def get_topic_names(x):\n",
    "    return x[x>0.1].to_dict()\n",
    "reduced_dtm_tf.loc[:, 'mostly_about'] = reduced_dtm_tf.apply(get_topic_names, axis=1)"
   ]
  },
  {
   "cell_type": "code",
   "execution_count": 42,
   "metadata": {
    "ExecuteTime": {
     "end_time": "2021-12-03T06:23:26.045224Z",
     "start_time": "2021-12-03T06:23:26.031719Z"
    }
   },
   "outputs": [
    {
     "data": {
      "text/html": [
       "<div>\n",
       "<style scoped>\n",
       "    .dataframe tbody tr th:only-of-type {\n",
       "        vertical-align: middle;\n",
       "    }\n",
       "\n",
       "    .dataframe tbody tr th {\n",
       "        vertical-align: top;\n",
       "    }\n",
       "\n",
       "    .dataframe thead th {\n",
       "        text-align: right;\n",
       "    }\n",
       "</style>\n",
       "<table border=\"1\" class=\"dataframe\">\n",
       "  <thead>\n",
       "    <tr style=\"text-align: right;\">\n",
       "      <th></th>\n",
       "      <th>topic_0</th>\n",
       "      <th>topic_1</th>\n",
       "      <th>topic_2</th>\n",
       "      <th>topic_3</th>\n",
       "      <th>topic_4</th>\n",
       "      <th>topic_5</th>\n",
       "      <th>topic_6</th>\n",
       "      <th>topic_7</th>\n",
       "      <th>topic_8</th>\n",
       "      <th>topic_9</th>\n",
       "      <th>topic_10</th>\n",
       "      <th>topic_11</th>\n",
       "      <th>topic_12</th>\n",
       "      <th>topic_13</th>\n",
       "      <th>topic_14</th>\n",
       "      <th>mostly_about</th>\n",
       "    </tr>\n",
       "  </thead>\n",
       "  <tbody>\n",
       "    <tr>\n",
       "      <th>0</th>\n",
       "      <td>0.000168</td>\n",
       "      <td>0.012941</td>\n",
       "      <td>0.309521</td>\n",
       "      <td>0.000168</td>\n",
       "      <td>0.072652</td>\n",
       "      <td>0.564456</td>\n",
       "      <td>0.000168</td>\n",
       "      <td>0.000168</td>\n",
       "      <td>0.000168</td>\n",
       "      <td>0.000168</td>\n",
       "      <td>0.000168</td>\n",
       "      <td>0.000168</td>\n",
       "      <td>0.000168</td>\n",
       "      <td>0.038751</td>\n",
       "      <td>0.000168</td>\n",
       "      <td>{'topic_2': 0.30952064779929167, 'topic_5': 0....</td>\n",
       "    </tr>\n",
       "    <tr>\n",
       "      <th>1</th>\n",
       "      <td>0.000450</td>\n",
       "      <td>0.000450</td>\n",
       "      <td>0.000450</td>\n",
       "      <td>0.000450</td>\n",
       "      <td>0.111673</td>\n",
       "      <td>0.113502</td>\n",
       "      <td>0.000450</td>\n",
       "      <td>0.000450</td>\n",
       "      <td>0.000450</td>\n",
       "      <td>0.000450</td>\n",
       "      <td>0.000450</td>\n",
       "      <td>0.000450</td>\n",
       "      <td>0.577152</td>\n",
       "      <td>0.000450</td>\n",
       "      <td>0.192718</td>\n",
       "      <td>{'topic_4': 0.11167252677737557, 'topic_5': 0....</td>\n",
       "    </tr>\n",
       "    <tr>\n",
       "      <th>2</th>\n",
       "      <td>0.000680</td>\n",
       "      <td>0.000680</td>\n",
       "      <td>0.000680</td>\n",
       "      <td>0.000680</td>\n",
       "      <td>0.000680</td>\n",
       "      <td>0.000680</td>\n",
       "      <td>0.000680</td>\n",
       "      <td>0.000680</td>\n",
       "      <td>0.618954</td>\n",
       "      <td>0.000680</td>\n",
       "      <td>0.131277</td>\n",
       "      <td>0.000680</td>\n",
       "      <td>0.000680</td>\n",
       "      <td>0.241605</td>\n",
       "      <td>0.000680</td>\n",
       "      <td>{'topic_8': 0.6189542836324868, 'topic_10': 0....</td>\n",
       "    </tr>\n",
       "    <tr>\n",
       "      <th>3</th>\n",
       "      <td>0.000151</td>\n",
       "      <td>0.037151</td>\n",
       "      <td>0.000151</td>\n",
       "      <td>0.000151</td>\n",
       "      <td>0.000151</td>\n",
       "      <td>0.528791</td>\n",
       "      <td>0.000151</td>\n",
       "      <td>0.000151</td>\n",
       "      <td>0.027521</td>\n",
       "      <td>0.000151</td>\n",
       "      <td>0.000151</td>\n",
       "      <td>0.000151</td>\n",
       "      <td>0.000151</td>\n",
       "      <td>0.000151</td>\n",
       "      <td>0.404874</td>\n",
       "      <td>{'topic_5': 0.5287913666013795, 'topic_14': 0....</td>\n",
       "    </tr>\n",
       "    <tr>\n",
       "      <th>4</th>\n",
       "      <td>0.061285</td>\n",
       "      <td>0.000538</td>\n",
       "      <td>0.000538</td>\n",
       "      <td>0.000538</td>\n",
       "      <td>0.195780</td>\n",
       "      <td>0.504231</td>\n",
       "      <td>0.000538</td>\n",
       "      <td>0.053001</td>\n",
       "      <td>0.000538</td>\n",
       "      <td>0.000538</td>\n",
       "      <td>0.000538</td>\n",
       "      <td>0.000538</td>\n",
       "      <td>0.000538</td>\n",
       "      <td>0.180326</td>\n",
       "      <td>0.000538</td>\n",
       "      <td>{'topic_4': 0.19577970746143628, 'topic_5': 0....</td>\n",
       "    </tr>\n",
       "  </tbody>\n",
       "</table>\n",
       "</div>"
      ],
      "text/plain": [
       "    topic_0   topic_1   topic_2   topic_3   topic_4   topic_5   topic_6  \\\n",
       "0  0.000168  0.012941  0.309521  0.000168  0.072652  0.564456  0.000168   \n",
       "1  0.000450  0.000450  0.000450  0.000450  0.111673  0.113502  0.000450   \n",
       "2  0.000680  0.000680  0.000680  0.000680  0.000680  0.000680  0.000680   \n",
       "3  0.000151  0.037151  0.000151  0.000151  0.000151  0.528791  0.000151   \n",
       "4  0.061285  0.000538  0.000538  0.000538  0.195780  0.504231  0.000538   \n",
       "\n",
       "    topic_7   topic_8   topic_9  topic_10  topic_11  topic_12  topic_13  \\\n",
       "0  0.000168  0.000168  0.000168  0.000168  0.000168  0.000168  0.038751   \n",
       "1  0.000450  0.000450  0.000450  0.000450  0.000450  0.577152  0.000450   \n",
       "2  0.000680  0.618954  0.000680  0.131277  0.000680  0.000680  0.241605   \n",
       "3  0.000151  0.027521  0.000151  0.000151  0.000151  0.000151  0.000151   \n",
       "4  0.053001  0.000538  0.000538  0.000538  0.000538  0.000538  0.180326   \n",
       "\n",
       "   topic_14                                       mostly_about  \n",
       "0  0.000168  {'topic_2': 0.30952064779929167, 'topic_5': 0....  \n",
       "1  0.192718  {'topic_4': 0.11167252677737557, 'topic_5': 0....  \n",
       "2  0.000680  {'topic_8': 0.6189542836324868, 'topic_10': 0....  \n",
       "3  0.404874  {'topic_5': 0.5287913666013795, 'topic_14': 0....  \n",
       "4  0.000538  {'topic_4': 0.19577970746143628, 'topic_5': 0....  "
      ]
     },
     "execution_count": 42,
     "metadata": {},
     "output_type": "execute_result"
    }
   ],
   "source": [
    "reduced_dtm_tf.head()"
   ]
  },
  {
   "cell_type": "code",
   "execution_count": 43,
   "metadata": {
    "ExecuteTime": {
     "end_time": "2021-12-03T06:23:26.051079Z",
     "start_time": "2021-12-03T06:23:26.047243Z"
    }
   },
   "outputs": [],
   "source": [
    "reduced_dtm_tf.loc[:, 'no_of_topics'] = reduced_dtm_tf['mostly_about'].apply(lambda x: len(x))"
   ]
  },
  {
   "cell_type": "code",
   "execution_count": 44,
   "metadata": {
    "ExecuteTime": {
     "end_time": "2021-12-03T06:23:26.069366Z",
     "start_time": "2021-12-03T06:23:26.052378Z"
    }
   },
   "outputs": [
    {
     "data": {
      "text/html": [
       "<div>\n",
       "<style scoped>\n",
       "    .dataframe tbody tr th:only-of-type {\n",
       "        vertical-align: middle;\n",
       "    }\n",
       "\n",
       "    .dataframe tbody tr th {\n",
       "        vertical-align: top;\n",
       "    }\n",
       "\n",
       "    .dataframe thead th {\n",
       "        text-align: right;\n",
       "    }\n",
       "</style>\n",
       "<table border=\"1\" class=\"dataframe\">\n",
       "  <thead>\n",
       "    <tr style=\"text-align: right;\">\n",
       "      <th></th>\n",
       "      <th>topic_0</th>\n",
       "      <th>topic_1</th>\n",
       "      <th>topic_2</th>\n",
       "      <th>topic_3</th>\n",
       "      <th>topic_4</th>\n",
       "      <th>topic_5</th>\n",
       "      <th>topic_6</th>\n",
       "      <th>topic_7</th>\n",
       "      <th>topic_8</th>\n",
       "      <th>topic_9</th>\n",
       "      <th>topic_10</th>\n",
       "      <th>topic_11</th>\n",
       "      <th>topic_12</th>\n",
       "      <th>topic_13</th>\n",
       "      <th>topic_14</th>\n",
       "      <th>mostly_about</th>\n",
       "      <th>no_of_topics</th>\n",
       "    </tr>\n",
       "  </thead>\n",
       "  <tbody>\n",
       "    <tr>\n",
       "      <th>0</th>\n",
       "      <td>0.000168</td>\n",
       "      <td>0.012941</td>\n",
       "      <td>0.309521</td>\n",
       "      <td>0.000168</td>\n",
       "      <td>0.072652</td>\n",
       "      <td>0.564456</td>\n",
       "      <td>0.000168</td>\n",
       "      <td>0.000168</td>\n",
       "      <td>0.000168</td>\n",
       "      <td>0.000168</td>\n",
       "      <td>0.000168</td>\n",
       "      <td>0.000168</td>\n",
       "      <td>0.000168</td>\n",
       "      <td>0.038751</td>\n",
       "      <td>0.000168</td>\n",
       "      <td>{'topic_2': 0.30952064779929167, 'topic_5': 0....</td>\n",
       "      <td>2</td>\n",
       "    </tr>\n",
       "    <tr>\n",
       "      <th>1</th>\n",
       "      <td>0.000450</td>\n",
       "      <td>0.000450</td>\n",
       "      <td>0.000450</td>\n",
       "      <td>0.000450</td>\n",
       "      <td>0.111673</td>\n",
       "      <td>0.113502</td>\n",
       "      <td>0.000450</td>\n",
       "      <td>0.000450</td>\n",
       "      <td>0.000450</td>\n",
       "      <td>0.000450</td>\n",
       "      <td>0.000450</td>\n",
       "      <td>0.000450</td>\n",
       "      <td>0.577152</td>\n",
       "      <td>0.000450</td>\n",
       "      <td>0.192718</td>\n",
       "      <td>{'topic_4': 0.11167252677737557, 'topic_5': 0....</td>\n",
       "      <td>4</td>\n",
       "    </tr>\n",
       "    <tr>\n",
       "      <th>2</th>\n",
       "      <td>0.000680</td>\n",
       "      <td>0.000680</td>\n",
       "      <td>0.000680</td>\n",
       "      <td>0.000680</td>\n",
       "      <td>0.000680</td>\n",
       "      <td>0.000680</td>\n",
       "      <td>0.000680</td>\n",
       "      <td>0.000680</td>\n",
       "      <td>0.618954</td>\n",
       "      <td>0.000680</td>\n",
       "      <td>0.131277</td>\n",
       "      <td>0.000680</td>\n",
       "      <td>0.000680</td>\n",
       "      <td>0.241605</td>\n",
       "      <td>0.000680</td>\n",
       "      <td>{'topic_8': 0.6189542836324868, 'topic_10': 0....</td>\n",
       "      <td>3</td>\n",
       "    </tr>\n",
       "    <tr>\n",
       "      <th>3</th>\n",
       "      <td>0.000151</td>\n",
       "      <td>0.037151</td>\n",
       "      <td>0.000151</td>\n",
       "      <td>0.000151</td>\n",
       "      <td>0.000151</td>\n",
       "      <td>0.528791</td>\n",
       "      <td>0.000151</td>\n",
       "      <td>0.000151</td>\n",
       "      <td>0.027521</td>\n",
       "      <td>0.000151</td>\n",
       "      <td>0.000151</td>\n",
       "      <td>0.000151</td>\n",
       "      <td>0.000151</td>\n",
       "      <td>0.000151</td>\n",
       "      <td>0.404874</td>\n",
       "      <td>{'topic_5': 0.5287913666013795, 'topic_14': 0....</td>\n",
       "      <td>2</td>\n",
       "    </tr>\n",
       "    <tr>\n",
       "      <th>4</th>\n",
       "      <td>0.061285</td>\n",
       "      <td>0.000538</td>\n",
       "      <td>0.000538</td>\n",
       "      <td>0.000538</td>\n",
       "      <td>0.195780</td>\n",
       "      <td>0.504231</td>\n",
       "      <td>0.000538</td>\n",
       "      <td>0.053001</td>\n",
       "      <td>0.000538</td>\n",
       "      <td>0.000538</td>\n",
       "      <td>0.000538</td>\n",
       "      <td>0.000538</td>\n",
       "      <td>0.000538</td>\n",
       "      <td>0.180326</td>\n",
       "      <td>0.000538</td>\n",
       "      <td>{'topic_4': 0.19577970746143628, 'topic_5': 0....</td>\n",
       "      <td>3</td>\n",
       "    </tr>\n",
       "  </tbody>\n",
       "</table>\n",
       "</div>"
      ],
      "text/plain": [
       "    topic_0   topic_1   topic_2   topic_3   topic_4   topic_5   topic_6  \\\n",
       "0  0.000168  0.012941  0.309521  0.000168  0.072652  0.564456  0.000168   \n",
       "1  0.000450  0.000450  0.000450  0.000450  0.111673  0.113502  0.000450   \n",
       "2  0.000680  0.000680  0.000680  0.000680  0.000680  0.000680  0.000680   \n",
       "3  0.000151  0.037151  0.000151  0.000151  0.000151  0.528791  0.000151   \n",
       "4  0.061285  0.000538  0.000538  0.000538  0.195780  0.504231  0.000538   \n",
       "\n",
       "    topic_7   topic_8   topic_9  topic_10  topic_11  topic_12  topic_13  \\\n",
       "0  0.000168  0.000168  0.000168  0.000168  0.000168  0.000168  0.038751   \n",
       "1  0.000450  0.000450  0.000450  0.000450  0.000450  0.577152  0.000450   \n",
       "2  0.000680  0.618954  0.000680  0.131277  0.000680  0.000680  0.241605   \n",
       "3  0.000151  0.027521  0.000151  0.000151  0.000151  0.000151  0.000151   \n",
       "4  0.053001  0.000538  0.000538  0.000538  0.000538  0.000538  0.180326   \n",
       "\n",
       "   topic_14                                       mostly_about  no_of_topics  \n",
       "0  0.000168  {'topic_2': 0.30952064779929167, 'topic_5': 0....             2  \n",
       "1  0.192718  {'topic_4': 0.11167252677737557, 'topic_5': 0....             4  \n",
       "2  0.000680  {'topic_8': 0.6189542836324868, 'topic_10': 0....             3  \n",
       "3  0.404874  {'topic_5': 0.5287913666013795, 'topic_14': 0....             2  \n",
       "4  0.000538  {'topic_4': 0.19577970746143628, 'topic_5': 0....             3  "
      ]
     },
     "execution_count": 44,
     "metadata": {},
     "output_type": "execute_result"
    }
   ],
   "source": [
    "reduced_dtm_tf.head()"
   ]
  },
  {
   "cell_type": "code",
   "execution_count": 45,
   "metadata": {
    "ExecuteTime": {
     "end_time": "2021-12-03T06:23:26.076156Z",
     "start_time": "2021-12-03T06:23:26.071064Z"
    }
   },
   "outputs": [
    {
     "data": {
      "text/plain": [
       "2    825\n",
       "3    767\n",
       "4    287\n",
       "1    254\n",
       "5     50\n",
       "6      2\n",
       "Name: no_of_topics, dtype: int64"
      ]
     },
     "execution_count": 45,
     "metadata": {},
     "output_type": "execute_result"
    }
   ],
   "source": [
    "reduced_dtm_tf['no_of_topics'].value_counts()"
   ]
  },
  {
   "cell_type": "code",
   "execution_count": 46,
   "metadata": {
    "ExecuteTime": {
     "end_time": "2021-12-03T06:23:26.087630Z",
     "start_time": "2021-12-03T06:23:26.077778Z"
    }
   },
   "outputs": [
    {
     "data": {
      "text/html": [
       "<div>\n",
       "<style scoped>\n",
       "    .dataframe tbody tr th:only-of-type {\n",
       "        vertical-align: middle;\n",
       "    }\n",
       "\n",
       "    .dataframe tbody tr th {\n",
       "        vertical-align: top;\n",
       "    }\n",
       "\n",
       "    .dataframe thead th {\n",
       "        text-align: right;\n",
       "    }\n",
       "</style>\n",
       "<table border=\"1\" class=\"dataframe\">\n",
       "  <thead>\n",
       "    <tr style=\"text-align: right;\">\n",
       "      <th></th>\n",
       "      <th>topic_0</th>\n",
       "      <th>topic_1</th>\n",
       "      <th>topic_2</th>\n",
       "      <th>topic_3</th>\n",
       "      <th>topic_4</th>\n",
       "      <th>topic_5</th>\n",
       "      <th>topic_6</th>\n",
       "      <th>topic_7</th>\n",
       "      <th>topic_8</th>\n",
       "      <th>topic_9</th>\n",
       "      <th>topic_10</th>\n",
       "      <th>topic_11</th>\n",
       "      <th>topic_12</th>\n",
       "      <th>topic_13</th>\n",
       "      <th>topic_14</th>\n",
       "      <th>mostly_about</th>\n",
       "      <th>no_of_topics</th>\n",
       "    </tr>\n",
       "  </thead>\n",
       "  <tbody>\n",
       "  </tbody>\n",
       "</table>\n",
       "</div>"
      ],
      "text/plain": [
       "Empty DataFrame\n",
       "Columns: [topic_0, topic_1, topic_2, topic_3, topic_4, topic_5, topic_6, topic_7, topic_8, topic_9, topic_10, topic_11, topic_12, topic_13, topic_14, mostly_about, no_of_topics]\n",
       "Index: []"
      ]
     },
     "execution_count": 46,
     "metadata": {},
     "output_type": "execute_result"
    }
   ],
   "source": [
    "reduced_dtm_tf[reduced_dtm_tf['no_of_topics'] == 0]"
   ]
  },
  {
   "cell_type": "code",
   "execution_count": null,
   "metadata": {},
   "outputs": [],
   "source": []
  },
  {
   "cell_type": "code",
   "execution_count": null,
   "metadata": {},
   "outputs": [],
   "source": []
  },
  {
   "cell_type": "code",
   "execution_count": 47,
   "metadata": {
    "ExecuteTime": {
     "end_time": "2021-12-03T06:23:26.097964Z",
     "start_time": "2021-12-03T06:23:26.089304Z"
    }
   },
   "outputs": [
    {
     "data": {
      "text/plain": [
       "{'topic_0': {'words_str': '#woman, #country, #brazil, #black, #music, #trend, #technical, #plague, #death, #white',\n",
       "  'words': {'woman': 295.8352776157405,\n",
       "   'country': 152.8645733002662,\n",
       "   'brazil': 139.74893830198724,\n",
       "   'black': 121.70954171216943,\n",
       "   'music': 104.792084141382,\n",
       "   'trend': 74.04677792260088,\n",
       "   'technical': 69.39006419048542,\n",
       "   'plague': 68.85755816731393,\n",
       "   'death': 65.58216656728166,\n",
       "   'white': 62.11874189062583}},\n",
       " 'topic_1': {'words_str': '#software, #change, #project, #build, #development, #agile, #process, #organization, #service, #developer',\n",
       "  'words': {'software': 957.3085578975662,\n",
       "   'change': 703.2097343339267,\n",
       "   'project': 676.1621800295693,\n",
       "   'build': 574.807926265171,\n",
       "   'development': 544.4248146285677,\n",
       "   'agile': 481.9616304688019,\n",
       "   'process': 472.0548293029117,\n",
       "   'organization': 372.59456240478437,\n",
       "   'service': 344.17199591254683,\n",
       "   'developer': 341.8456758187348}},\n",
       " 'topic_2': {'words_str': '#product, #company, #business, #design, #people, #digital, #build, #service, #platform, #experience',\n",
       "  'words': {'product': 1766.669826786823,\n",
       "   'company': 1735.3084417158318,\n",
       "   'business': 1384.0446731181423,\n",
       "   'design': 823.3059822796648,\n",
       "   'people': 820.089096755713,\n",
       "   'digital': 756.9760248268293,\n",
       "   'build': 688.9277718652003,\n",
       "   'service': 645.141854729782,\n",
       "   'platform': 600.4273997843088,\n",
       "   'experience': 504.2487758768332}},\n",
       " 'topic_3': {'words_str': '#drupal, #module, #content, #acquia, #community, #support, #react, #build, #developer, #commerce',\n",
       "  'words': {'drupal': 1162.0666665254787,\n",
       "   'module': 462.18623633458066,\n",
       "   'content': 235.57465079852628,\n",
       "   'acquia': 184.066666512156,\n",
       "   'community': 167.1272776233318,\n",
       "   'support': 152.35290461029442,\n",
       "   'react': 148.1470424153076,\n",
       "   'build': 143.62026336859591,\n",
       "   'developer': 135.80343890322723,\n",
       "   'commerce': 128.9938642430719}},\n",
       " 'topic_4': {'words_str': '#machine, #learning, #learn, #datum, #model, #image, #human, #computer, #algorithm, #intelligence',\n",
       "  'words': {'machine': 2278.522783098647,\n",
       "   'learning': 1870.5831908580997,\n",
       "   'learn': 1480.1949054099355,\n",
       "   'datum': 1399.181956764652,\n",
       "   'model': 968.3035644984857,\n",
       "   'image': 849.8653006038977,\n",
       "   'human': 781.5463064831783,\n",
       "   'computer': 758.7060012134533,\n",
       "   'algorithm': 753.5386041675929,\n",
       "   'intelligence': 747.0777905721792}},\n",
       " 'topic_5': {'words_str': '#customer, #company, #datum, #technology, #business, #blockchain, #digital, #bitcoin, #service, #industry',\n",
       "  'words': {'customer': 1826.162171671869,\n",
       "   'company': 1678.675407339984,\n",
       "   'datum': 1186.1027331232249,\n",
       "   'technology': 1181.1631034589452,\n",
       "   'business': 867.9697702830474,\n",
       "   'blockchain': 862.1232233435021,\n",
       "   'digital': 854.4222792728103,\n",
       "   'bitcoin': 714.8042741872868,\n",
       "   'service': 663.8019322286694,\n",
       "   'industry': 661.731025151868}},\n",
       " 'topic_6': {'words_str': '#datum, #example, #method, #function, #event, #write, #value, #create, #class, #result',\n",
       "  'words': {'datum': 1339.4368978033917,\n",
       "   'example': 1150.430482660228,\n",
       "   'method': 954.9769863705619,\n",
       "   'function': 886.7141738070698,\n",
       "   'event': 878.7775710548074,\n",
       "   'write': 861.5972571321948,\n",
       "   'value': 785.1465446407666,\n",
       "   'create': 674.3962224259564,\n",
       "   'class': 655.6232170586183,\n",
       "   'result': 651.0208056192284}},\n",
       " 'topic_7': {'words_str': '#password, #token, #kotlin, #field, #label, #place, #design, #swarm, #google, #aggregation',\n",
       "  'words': {'password': 230.75082891821188,\n",
       "   'token': 222.15207181348188,\n",
       "   'kotlin': 179.06666572464405,\n",
       "   'field': 155.47606493414003,\n",
       "   'label': 123.52873372186606,\n",
       "   'place': 121.2814852491223,\n",
       "   'design': 120.4046838294155,\n",
       "   'swarm': 110.84781735298222,\n",
       "   'google': 106.3245280328824,\n",
       "   'aggregation': 98.80391348968084}},\n",
       " 'topic_8': {'words_str': '#google, #android, #facebook, #search, #service, #message, #create, #windows, #notification, #video',\n",
       "  'words': {'google': 2520.1736499164513,\n",
       "   'android': 700.597228516067,\n",
       "   'facebook': 650.6238070617425,\n",
       "   'search': 349.94740082205317,\n",
       "   'service': 319.1808329273443,\n",
       "   'message': 315.2110993345265,\n",
       "   'create': 310.3587683866605,\n",
       "   'windows': 308.98379444007435,\n",
       "   'notification': 307.2406235617439,\n",
       "   'video': 306.42055519604526}},\n",
       " 'topic_9': {'words_str': '#docker, #container, #build, #command, #image, #version, #start, #server, #application, #create',\n",
       "  'words': {'docker': 855.3295098387115,\n",
       "   'container': 641.5242020752889,\n",
       "   'build': 395.5583058794346,\n",
       "   'command': 392.8306326589762,\n",
       "   'image': 370.8903384071925,\n",
       "   'version': 228.19808550221956,\n",
       "   'start': 214.04689247855177,\n",
       "   'server': 200.45667291658904,\n",
       "   'application': 200.2032050832213,\n",
       "   'create': 155.7745458161222}},\n",
       " 'topic_10': {'words_str': '#apple, #people, #thing, #email, #company, #feature, #think, #device, #phone, #microsoft',\n",
       "  'words': {'apple': 1590.631407616765,\n",
       "   'people': 710.537482972768,\n",
       "   'thing': 641.0242216747304,\n",
       "   'email': 573.8464915040488,\n",
       "   'company': 542.1436473473759,\n",
       "   'feature': 423.8741294081504,\n",
       "   'think': 400.79077260648637,\n",
       "   'device': 386.2121540410006,\n",
       "   'phone': 367.64636062161026,\n",
       "   'microsoft': 366.13587164776817}},\n",
       " 'topic_11': {'words_str': '#language, #people, #thing, #think, #write, #story, #learn, #change, #human, #world',\n",
       "  'words': {'language': 437.7007509355705,\n",
       "   'people': 387.87767153734035,\n",
       "   'thing': 296.1840014701933,\n",
       "   'think': 296.1483532934907,\n",
       "   'write': 280.3645297999834,\n",
       "   'story': 257.85729413319746,\n",
       "   'learn': 197.4956612862821,\n",
       "   'change': 188.73762848580114,\n",
       "   'human': 166.11535202161483,\n",
       "   'world': 158.5787536973193}},\n",
       " 'topic_12': {'words_str': '#payment, #store, #account, #consumer, #customer, #online, #credit, #wallet, #retailer, #mobile',\n",
       "  'words': {'payment': 258.4335263716561,\n",
       "   'store': 222.9756172980466,\n",
       "   'account': 216.7940512220269,\n",
       "   'consumer': 200.1095894952974,\n",
       "   'customer': 197.56950533971855,\n",
       "   'online': 160.463008195801,\n",
       "   'credit': 127.61917713015788,\n",
       "   'wallet': 111.5676683748358,\n",
       "   'retailer': 109.05364792470236,\n",
       "   'mobile': 106.57585035532917}},\n",
       " 'topic_13': {'words_str': '#cloud, #google, #service, #application, #platform, #datum, #server, #instance, #support, #network',\n",
       "  'words': {'cloud': 2184.8280651634627,\n",
       "   'google': 1619.7491048408565,\n",
       "   'service': 1312.5446481794756,\n",
       "   'application': 1008.0091775763094,\n",
       "   'platform': 852.1292465638768,\n",
       "   'datum': 848.0889320140897,\n",
       "   'server': 760.9542633661845,\n",
       "   'instance': 688.9482753096088,\n",
       "   'support': 666.3242484834564,\n",
       "   'network': 546.3982248839219}},\n",
       " 'topic_14': {'words_str': '#mobile, #people, #experience, #thing, #world, #website, #start, #sound, #content, #think',\n",
       "  'words': {'mobile': 436.1690432445178,\n",
       "   'people': 428.8639175155952,\n",
       "   'experience': 272.2950673851083,\n",
       "   'thing': 267.3604667823841,\n",
       "   'world': 253.49667926808246,\n",
       "   'website': 219.2250608959057,\n",
       "   'start': 209.9278924303032,\n",
       "   'sound': 204.12759242916906,\n",
       "   'content': 192.80936381108305,\n",
       "   'think': 189.6768502137145}}}"
      ]
     },
     "execution_count": 47,
     "metadata": {},
     "output_type": "execute_result"
    }
   ],
   "source": [
    "topics"
   ]
  },
  {
   "cell_type": "code",
   "execution_count": 48,
   "metadata": {
    "ExecuteTime": {
     "end_time": "2021-12-03T06:23:30.137733Z",
     "start_time": "2021-12-03T06:23:26.099698Z"
    }
   },
   "outputs": [
    {
     "name": "stderr",
     "output_type": "stream",
     "text": [
      "/Users/ravi/Personal_Projects/recommender_system/rec_sys_env/lib/python3.7/site-packages/sklearn/utils/deprecation.py:87: FutureWarning: Function get_feature_names is deprecated; get_feature_names is deprecated in 1.0 and will be removed in 1.2. Please use get_feature_names_out instead.\n",
      "  warnings.warn(msg, category=FutureWarning)\n",
      "/Users/ravi/Personal_Projects/recommender_system/rec_sys_env/lib/python3.7/site-packages/pyLDAvis/_prepare.py:232: FutureWarning: In a future version of pandas all arguments of DataFrame.drop except for the argument 'labels' will be keyword-only\n",
      "  head(R).drop('saliency', 1)\n"
     ]
    },
    {
     "data": {
      "text/html": [
       "\n",
       "<link rel=\"stylesheet\" type=\"text/css\" href=\"https://cdn.rawgit.com/bmabey/pyLDAvis/files/ldavis.v1.0.0.css\">\n",
       "\n",
       "\n",
       "<div id=\"ldavis_el800571404148430344482222365880\"></div>\n",
       "<script type=\"text/javascript\">\n",
       "\n",
       "var ldavis_el800571404148430344482222365880_data = {\"mdsDat\": {\"x\": [0.14667630190146644, 0.010866961691938412, -0.058851680686924625, -0.040169368139745094, 0.17563722514312288, -0.04566856562967769, 0.07984954349362672, 0.06192393997100962, -0.061014386143435156, -0.07584921234486515, 0.10678158795492103, 0.056771514992755824, -0.14097074340438168, 0.027435909343413053, -0.2434190281432247], \"y\": [0.05920479414459208, -0.008188041079332544, -0.18701342536881274, -0.13990238652627926, -0.06410532221973549, 0.006784908667491686, -0.05123438194112533, 0.030389123870572445, 0.0189500598614134, 0.0939467899202716, 0.10559898593794088, -0.0262657205434044, -0.08609111825903454, 0.1302106796243553, 0.11771505391108701], \"topics\": [1, 2, 3, 4, 5, 6, 7, 8, 9, 10, 11, 12, 13, 14, 15], \"cluster\": [1, 1, 1, 1, 1, 1, 1, 1, 1, 1, 1, 1, 1, 1, 1], \"Freq\": [13.521347864037873, 12.842205310369309, 11.806402853069027, 10.642835114539, 9.518321711655544, 7.454612203982079, 7.049992015061327, 5.8806529274458725, 5.667295246585248, 3.7115788678407076, 3.2902757938952942, 2.563978619094016, 2.105014434146477, 2.011388073316242, 1.9340989649619695]}, \"tinfo\": {\"Term\": [\"google\", \"cloud\", \"drupal\", \"apple\", \"machine\", \"customer\", \"learning\", \"company\", \"docker\", \"container\", \"product\", \"business\", \"datum\", \"image\", \"module\", \"android\", \"service\", \"people\", \"digital\", \"facebook\", \"language\", \"blockchain\", \"build\", \"software\", \"consumer\", \"application\", \"server\", \"content\", \"command\", \"store\", \"elasticsearch\", \"django\", \"integer\", \"bayesian\", \"copywrite\", \"recyclerview\", \"padding\", \"discriminator\", \"observable\", \"struct\", \"phpstorm\", \"pinnery\", \"methods\", \"hashmap\", \"streams\", \"rollup\", \"causal\", \"fasttext\", \"transpile\", \"parallelism\", \"constructor\", \"regress\", \"tuple\", \"minification\", \"searcher\", \"heading\", \"vectorization\", \"openjdk\", \"aggregated\", \"devtools\", \"nested\", \"coefficient\", \"typescript\", \"filter\", \"keyword\", \"method\", \"syntax\", \"rails\", \"function\", \"append\", \"variable\", \"generic\", \"string\", \"element\", \"class\", \"snippet\", \"immutable\", \"javascript\", \"query\", \"index\", \"parameter\", \"return\", \"event\", \"schema\", \"hypothesis\", \"property\", \"generator\", \"error\", \"array\", \"library\", \"implementation\", \"object\", \"document\", \"example\", \"write\", \"stream\", \"contain\", \"value\", \"style\", \"simple\", \"define\", \"datum\", \"result\", \"database\", \"implement\", \"content\", \"framework\", \"search\", \"create\", \"number\", \"problem\", \"different\", \"change\", \"thing\", \"generate\", \"start\", \"follow\", \"tensorflow\", \"neural\", \"deepmind\", \"scikit\", \"openai\", \"hyperparameter\", \"classifier\", \"convolutional\", \"theano\", \"unsupervised\", \"corrado\", \"supervised\", \"keras\", \"imagenet\", \"neuron\", \"hinton\", \"turing\", \"deeptext\", \"goldin\", \"heron\", \"brockman\", \"lecun\", \"seesaw\", \"supervise\", \"giannandrea\", \"scipy\", \"homebot\", \"perceptron\", \"hendrix\", \"makoto\", \"learning\", \"artificial\", \"reinforcement\", \"researcher\", \"computational\", \"machine\", \"recognition\", \"algorithm\", \"robotic\", \"intelligence\", \"train\", \"networks\", \"accuracy\", \"classification\", \"nvidia\", \"robot\", \"dataset\", \"computer\", \"training\", \"human\", \"learn\", \"scientist\", \"prediction\", \"student\", \"speech\", \"image\", \"model\", \"research\", \"network\", \"predict\", \"datum\", \"python\", \"science\", \"vision\", \"language\", \"google\", \"problem\", \"search\", \"software\", \"build\", \"technology\", \"example\", \"people\", \"world\", \"feature\", \"company\", \"blockchain\", \"fintech\", \"insurer\", \"ledger\", \"coindesk\", \"jpmorgan\", \"telecom\", \"insurtech\", \"torus\", \"insurance\", \"hyperledger\", \"settlement\", \"agriculture\", \"lending\", \"demandware\", \"virtu\", \"tapia\", \"banks\", \"treasury\", \"sofman\", \"adtech\", \"vlendright\", \"walkme\", \"bitcasa\", \"incumbent\", \"martech\", \"storj\", \"wkwebview\", \"nedbank\", \"securities\", \"financial\", \"institution\", \"forrester\", \"communications\", \"julie\", \"bitcoin\", \"ethereum\", \"banking\", \"corda\", \"finance\", \"sector\", \"currency\", \"consortium\", \"digitization\", \"analytic\", \"disruption\", \"customer\", \"mckinsey\", \"industry\", \"healthcare\", \"contract\", \"transaction\", \"technology\", \"digital\", \"salesforce\", \"percent\", \"marketing\", \"investment\", \"market\", \"company\", \"consumer\", \"innovation\", \"business\", \"startup\", \"datum\", \"global\", \"service\", \"opportunity\", \"experience\", \"report\", \"platform\", \"world\", \"provide\", \"organization\", \"include\", \"product\", \"value\", \"information\", \"create\", \"globant\", \"silbermann\", \"marketscape\", \"swanest\", \"smarterchild\", \"kinvey\", \"zendesk\", \"tactical\", \"zigbee\", \"tettra\", \"goodson\", \"lizardcoin\", \"shuddle\", \"robotium\", \"jassy\", \"cello\", \"hyperscale\", \"yammer\", \"chromecast\", \"cognizant\", \"laude\", \"instapaper\", \"pinner\", \"mason\", \"tetra\", \"fjord\", \"vickers\", \"madden\", \"hoffer\", \"sigfox\", \"printer\", \"pinterest\", \"coaching\", \"consultancy\", \"governance\", \"culture\", \"employee\", \"leadership\", \"talent\", \"product\", \"printing\", \"business\", \"agency\", \"workplace\", \"weave\", \"enterprise\", \"company\", \"digital\", \"slack\", \"strategy\", \"design\", \"leader\", \"transformation\", \"growth\", \"focus\", \"snapchat\", \"market\", \"success\", \"organization\", \"people\", \"platform\", \"invest\", \"experience\", \"build\", \"service\", \"manager\", \"startup\", \"engineer\", \"customer\", \"technology\", \"change\", \"create\", \"model\", \"think\", \"great\", \"developer\", \"value\", \"world\", \"start\", \"process\", \"share\", \"thing\", \"kubernetes\", \"balancer\", \"datastore\", \"firebase\", \"gcloud\", \"subnet\", \"stackdriver\", \"elastic\", \"serverless\", \"cassandra\", \"mesos\", \"bigquery\", \"dataflow\", \"dynamodb\", \"kinesis\", \"bigtable\", \"balancing\", \"cloudwatch\", \"instances\", \"cloudfront\", \"decrypt\", \"slides\", \"qunit\", \"firewall\", \"failover\", \"openstack\", \"resharper\", \"nodejs\", \"dataproc\", \"quizlet\", \"vmware\", \"cloud\", \"gateway\", \"storage\", \"workload\", \"backend\", \"proxy\", \"encryption\", \"networking\", \"cluster\", \"packet\", \"apache\", \"instance\", \"server\", \"compute\", \"engine\", \"deployment\", \"spring\", \"configuration\", \"latency\", \"request\", \"infrastructure\", \"application\", \"configure\", \"service\", \"google\", \"platform\", \"traffic\", \"support\", \"resource\", \"performance\", \"network\", \"address\", \"deploy\", \"security\", \"datum\", \"update\", \"access\", \"provide\", \"create\", \"available\", \"build\", \"developer\", \"include\", \"allow\", \"federighi\", \"palantir\", \"mycroft\", \"leadfeeder\", \"sierra\", \"schiller\", \"airpods\", \"burnout\", \"saxena\", \"xamarin\", \"javetski\", \"vocaliq\", \"emulator\", \"chester\", \"phippy\", \"harald\", \"alptitude\", \"comic\", \"maechler\", \"montgomery\", \"posey\", \"iphone\", \"ibook\", \"strictmode\", \"rojas\", \"apple\", \"kimberly\", \"fanderl\", \"macbook\", \"itunes\", \"steve\", \"icloud\", \"emoji\", \"rumor\", \"email\", \"nadella\", \"inbox\", \"calendar\", \"phone\", \"watchos\", \"coffee\", \"meeting\", \"debut\", \"microsoft\", \"watch\", \"permission\", \"device\", \"thing\", \"people\", \"android\", \"music\", \"friend\", \"really\", \"think\", \"feature\", \"message\", \"company\", \"office\", \"personal\", \"touch\", \"little\", \"product\", \"windows\", \"start\", \"right\", \"design\", \"launch\", \"developer\", \"today\", \"experience\", \"question\", \"software\", \"build\", \"release\", \"include\", \"update\", \"customer\", \"monolith\", \"ceramic\", \"aquifer\", \"oninit\", \"heroservice\", \"ontouchevent\", \"kanban\", \"popslate\", \"botsman\", \"burndown\", \"bunnell\", \"dropwizard\", \"alecrimcoredata\", \"microservices\", \"scrum\", \"squads\", \"onintercepttouchevent\", \"audits\", \"openledger\", \"defect\", \"ngoninit\", \"jamboard\", \"heroescomponent\", \"herobuttoncomponent\", \"upspin\", \"agile\", \"innersource\", \"lightbend\", \"lepton\", \"shippable\", \"features\", \"backlog\", \"rachel\", \"sprint\", \"microservice\", \"devops\", \"continuous\", \"accessibility\", \"gitlab\", \"reuse\", \"asset\", \"creep\", \"bitbucket\", \"software\", \"principle\", \"architecture\", \"atlassian\", \"waterfall\", \"development\", \"project\", \"requirement\", \"practice\", \"review\", \"tracking\", \"delivery\", \"organization\", \"component\", \"change\", \"process\", \"scope\", \"build\", \"management\", \"deliver\", \"developer\", \"solution\", \"feature\", \"release\", \"service\", \"level\", \"problem\", \"design\", \"start\", \"people\", \"different\", \"thing\", \"source\", \"require\", \"constraintlayout\", \"tango\", \"webhook\", \"sites\", \"galen\", \"trooly\", \"schiaparelli\", \"cardboard\", \"burda\", \"chromebooks\", \"airberlin\", \"xiaomi\", \"shoreline\", \"lander\", \"omnitone\", \"reactors\", \"moorfields\", \"andrejko\", \"antibiotic\", \"buttons\", \"dualshock\", \"orbiter\", \"exomars\", \"baveja\", \"chirp\", \"favro\", \"hemingway\", \"bluemix\", \"postback\", \"webhooks\", \"hangouts\", \"notification\", \"hangout\", \"messenger\", \"subsystem\", \"google\", \"desktop\", \"android\", \"facebook\", \"chrome\", \"heroku\", \"linux\", \"youtube\", \"windows\", \"whatsapp\", \"progressive\", \"ubuntu\", \"video\", \"button\", \"constraint\", \"message\", \"slack\", \"assistant\", \"screen\", \"search\", \"messaging\", \"twitter\", \"folder\", \"layout\", \"mobile\", \"click\", \"content\", \"developer\", \"share\", \"drive\", \"create\", \"service\", \"launch\", \"device\", \"update\", \"feature\", \"platform\", \"information\", \"build\", \"start\", \"hiragana\", \"valve\", \"tennis\", \"calayer\", \"aurelia\", \"telepresence\", \"exhibitor\", \"paintcode\", \"estonia\", \"wolpert\", \"pronunciation\", \"thorium\", \"opensuse\", \"preemptive\", \"retweet\", \"dakuten\", \"catransaction\", \"jshint\", \"linte\", \"humanitarian\", \"helix\", \"prototypal\", \"kanji\", \"glimmer\", \"virality\", \"obermayer\", \"wimbledon\", \"wikileaks\", \"ramaswamy\", \"krebs\", \"inflation\", \"takipi\", \"trump\", \"mnemonic\", \"nuclear\", \"wechat\", \"animation\", \"gambling\", \"airport\", \"jshell\", \"headphone\", \"sound\", \"player\", \"passive\", \"mobile\", \"battery\", \"promise\", \"await\", \"website\", \"conversion\", \"impression\", \"zookeeper\", \"campaign\", \"people\", \"advertising\", \"japanese\", \"medium\", \"smartphone\", \"experience\", \"world\", \"internet\", \"china\", \"online\", \"tweet\", \"thing\", \"content\", \"little\", \"device\", \"video\", \"point\", \"money\", \"start\", \"think\", \"number\", \"right\", \"actually\", \"second\", \"social\", \"different\", \"really\", \"design\", \"create\", \"digital\", \"allow\", \"kurzweil\", \"protractor\", \"parsey\", \"syntaxnet\", \"esperanto\", \"voltron\", \"mcparseface\", \"bisect\", \"superintelligence\", \"catmull\", \"procrastinator\", \"performed\", \"nanotechnology\", \"callahan\", \"expander\", \"mockito\", \"torres\", \"matcher\", \"crowdflower\", \"nicole\", \"pychyl\", \"arabic\", \"singularity\", \"kernighan\", \"carbony\", \"listview\", \"carryover\", \"packer\", \"felix\", \"ettlinger\", \"polymer\", \"exponential\", \"cheque\", \"overflow\", \"english\", \"linguistic\", \"quantum\", \"containment\", \"bostrom\", \"grammar\", \"story\", \"language\", \"transition\", \"commit\", \"brain\", \"think\", \"write\", \"people\", \"thing\", \"japanese\", \"human\", \"phrase\", \"sleep\", \"speak\", \"sentence\", \"activity\", \"learn\", \"point\", \"really\", \"programming\", \"world\", \"change\", \"person\", \"happen\", \"start\", \"actually\", \"progress\", \"problem\", \"understand\", \"different\", \"great\", \"right\", \"important\", \"technology\", \"dockerfile\", \"knapp\", \"sweat\", \"stunnel\", \"containerd\", \"jenkin\", \"procfile\", \"dotnet\", \"sprite\", \"halal\", \"locator\", \"stars\", \"kosher\", \"voronoi\", \"brainprint\", \"lister\", \"aramaic\", \"centauri\", \"zumbrunnen\", \"movielister\", \"sieve\", \"milner\", \"concatenation\", \"scout\", \"intolerant\", \"meditation\", \"weakreference\", \"mediawiki\", \"hyperdev\", \"honcho\", \"docker\", \"therapist\", \"bicycle\", \"container\", \"plate\", \"mindfulness\", \"dagger\", \"jenkins\", \"debugger\", \"backplane\", \"injection\", \"command\", \"swift\", \"cyclist\", \"shell\", \"analytics\", \"terminal\", \"dependency\", \"redis\", \"adwords\", \"image\", \"install\", \"minority\", \"version\", \"instal\", \"build\", \"server\", \"windows\", \"linux\", \"browser\", \"package\", \"application\", \"start\", \"script\", \"directory\", \"environment\", \"project\", \"process\", \"create\", \"developer\", \"release\", \"support\", \"people\", \"development\", \"source\", \"follow\", \"change\", \"drupal\", \"acquia\", \"kelley\", \"dries\", \"neurala\", \"drupalcon\", \"waterwheel\", \"buytaert\", \"sniffer\", \"krita\", \"keystoneml\", \"contributed\", \"mondo\", \"minhash\", \"vessi\", \"cropx\", \"algorithmia\", \"bixpy\", \"blake\", \"drush\", \"phpcs\", \"blomfield\", \"jacquard\", \"almaden\", \"magento\", \"multilingual\", \"bessen\", \"preston\", \"recht\", \"sybil\", \"pfizer\", \"jacoco\", \"module\", \"lingq\", \"decoupled\", \"vehicle\", \"maintainer\", \"siemens\", \"react\", \"decouple\", \"commerce\", \"coverage\", \"driving\", \"contribute\", \"ecommerce\", \"community\", \"contributor\", \"content\", \"workflow\", \"distribution\", \"lightning\", \"autonomous\", \"support\", \"angular\", \"government\", \"plugin\", \"suite\", \"developer\", \"release\", \"development\", \"build\", \"feature\", \"project\", \"application\", \"provide\", \"issue\", \"security\", \"source\", \"computer\", \"create\", \"allow\", \"state\", \"change\", \"experience\", \"include\", \"braintree\", \"quartile\", \"overridden\", \"coldline\", \"hollar\", \"hubble\", \"greta\", \"walgreens\", \"mandeleil\", \"futhark\", \"spence\", \"paulides\", \"cersei\", \"walgreen\", \"electoral\", \"rinna\", \"dogville\", \"scatterplot\", \"boots\", \"diageo\", \"bacca\", \"cloudhsm\", \"sentience\", \"shopper\", \"pictograph\", \"tversky\", \"schiano\", \"jemaa\", \"voisine\", \"kitty\", \"merchant\", \"alfred\", \"coauthor\", \"seller\", \"wallet\", \"asteroid\", \"mining\", \"paypal\", \"walmart\", \"retailer\", \"clinton\", \"payment\", \"debit\", \"qualcomm\", \"marketplace\", \"trello\", \"shopping\", \"chart\", \"buyer\", \"churn\", \"credit\", \"account\", \"retail\", \"store\", \"consumer\", \"online\", \"purchase\", \"price\", \"visualization\", \"brand\", \"customer\", \"growth\", \"amazon\", \"category\", \"mobile\", \"revenue\", \"million\", \"company\", \"offer\", \"product\", \"bitcoin\", \"market\", \"kotlin\", \"autofill\", \"logout\", \"swagbot\", \"jasonette\", \"tijms\", \"arjan\", \"vondrick\", \"redwood\", \"korneyev\", \"guava\", \"impersonation\", \"icaza\", \"kopin\", \"winfield\", \"statcounter\", \"cooling\", \"uidata\", \"uirepeat\", \"eucalyptus\", \"bcrypt\", \"eddystone\", \"tokens\", \"lakes\", \"multipurpose\", \"bekele\", \"hashcat\", \"jacaranda\", \"citrus\", \"conjugate\", \"password\", \"swarm\", \"beacon\", \"autocomplete\", \"meetup\", \"token\", \"caravel\", \"parallax\", \"transit\", \"converter\", \"intranet\", \"aggregation\", \"bucket\", \"unanimous\", \"pokemon\", \"safari\", \"ambient\", \"label\", \"crack\", \"cookie\", \"field\", \"station\", \"shard\", \"attribute\", \"farmer\", \"place\", \"count\", \"material\", \"collection\", \"table\", \"design\", \"docker\", \"display\", \"browser\", \"google\", \"image\", \"value\", \"support\", \"website\", \"different\", \"number\", \"security\", \"information\", \"provide\", \"example\", \"epidemic\", \"trendwatching\", \"vxlan\", \"coinfest\", \"hopper\", \"nomination\", \"thief\", \"pebble\", \"women\", \"outbreak\", \"norway\", \"reservoir\", \"claire\", \"rousseff\", \"restb\", \"restartpolicy\", \"asked\", \"taglines\", \"impeachment\", \"tkinter\", \"boehme\", \"connections\", \"cannabis\", \"inhabitant\", \"brazil\", \"goofs\", \"african\", \"nooyi\", \"luqman\", \"parks\", \"woman\", \"mortality\", \"plague\", \"bitfury\", \"latin\", \"storyline\", \"sexuality\", \"rakuten\", \"stereotype\", \"specs\", \"trivia\", \"boards\", \"quotes\", \"black\", \"credits\", \"female\", \"overlay\", \"gender\", \"ericsson\", \"reviews\", \"steal\", \"country\", \"income\", \"death\", \"music\", \"artist\", \"award\", \"population\", \"earth\", \"white\", \"solar\", \"planet\", \"trend\", \"technical\", \"american\", \"circuit\", \"america\", \"spread\", \"space\", \"recent\", \"people\", \"world\", \"engineer\", \"company\", \"million\", \"state\"], \"Freq\": [5185.0, 2371.0, 1047.0, 1639.0, 2692.0, 3013.0, 1956.0, 4719.0, 907.0, 856.0, 3083.0, 2719.0, 4916.0, 1751.0, 695.0, 1318.0, 3542.0, 3522.0, 1800.0, 1245.0, 1418.0, 843.0, 3739.0, 2128.0, 993.0, 2306.0, 1157.0, 1532.0, 775.0, 1109.0, 74.31671108826598, 71.34668280479053, 57.483414097158274, 37.668586394768795, 32.73631294217456, 30.756294195681555, 29.76628447469666, 28.77627507823695, 27.786264731767993, 24.816237347149826, 27.523812465650646, 20.856198603873235, 19.85466025429134, 18.87618061446381, 57.55003173296095, 17.886170839147383, 35.70634146688969, 16.896161382830005, 16.896161234701367, 20.606823955303685, 80.4704720809445, 15.90615223111282, 15.906152194772284, 15.906151950626809, 15.906151590304452, 35.49037276171346, 14.916142737543804, 14.916142634438943, 14.916142416610057, 14.916142392726405, 27.763661957104674, 26.722171490946614, 144.11974290079647, 460.24245406019554, 198.00714420901505, 945.4362670101102, 137.94233496133856, 57.646377781513024, 877.8554356322576, 35.1323003588044, 325.7935871161637, 111.5371579005539, 200.73359716063757, 492.46131687062064, 649.0731983571984, 87.08636734294883, 61.85910398620032, 467.9097973944279, 433.1230227200022, 146.44658951390744, 231.16252856006824, 479.7562004580215, 869.9981236907848, 71.81859614938129, 90.02248866177034, 293.8054337951709, 72.96746318808482, 404.51249302120726, 195.84845541324313, 501.2504082024386, 325.607886919923, 510.00909902435257, 339.7854970713343, 1138.9370806878048, 852.9894500862107, 358.7123448681941, 311.2247577409093, 777.3025201813759, 299.4321114667669, 583.3966818032849, 346.2733513670591, 1326.0552229302161, 644.5167674142511, 416.3806115352537, 348.0335427747383, 528.0575500902917, 363.63910972995814, 452.40325477832874, 667.6586515862983, 514.0517347914044, 495.05848916761016, 515.093762826274, 510.40130927903704, 498.1805705172839, 369.0723769529031, 456.81726440644076, 394.89511493014186, 327.23472814680247, 507.78527589426983, 109.12151908521223, 83.80480734110851, 75.04133023222576, 60.43553488630215, 59.38263912446311, 47.777179066978206, 40.96114129577254, 40.961141238282714, 35.11882321814569, 34.14510302372872, 29.27650512605368, 29.27650504810307, 82.94383657358617, 27.329065732842217, 27.32906540367226, 26.355346077449298, 26.35534598086436, 26.3553458939151, 24.407906687237713, 24.407906661527505, 24.337236152376278, 22.459198517950213, 21.48674768753045, 21.486747523673746, 21.48674740460966, 19.539308287891128, 19.539307839804753, 18.565588618176896, 1821.4236740105434, 478.9624498916636, 35.08273053128861, 347.84137878791705, 42.903142239051824, 2218.642484969861, 267.2899746142731, 733.7353717383163, 93.11130535514822, 727.4443503640371, 384.2714860561322, 48.28428989479919, 171.58665898366402, 122.65025756005235, 42.67418088468245, 251.98020230629223, 192.96204764190574, 738.7669679583297, 385.4840587750735, 761.0070227942875, 1441.2949159597006, 297.06351394453594, 176.67905050685363, 209.5028653580543, 149.7155780767283, 827.5305721794296, 942.8562411048248, 494.48177019618277, 671.8977615889246, 213.96959868979084, 1362.4110131827122, 209.6750215042487, 291.5417996340278, 223.52125313963248, 397.6694355422728, 707.8169170321903, 438.8287337182656, 331.76389738255176, 390.8476306501943, 465.0831110639725, 403.41980891569705, 407.06735621736175, 402.7229381534209, 352.8584774428567, 363.5932743919673, 392.9940956315044, 840.9044877464698, 200.01952773919507, 139.5454785583478, 134.66428339350338, 58.58829447557439, 47.859028556724354, 42.97528292572645, 37.129762762815425, 35.17898650729907, 352.96322299218946, 21.523557441827357, 39.07131805994349, 44.43956486027475, 29.613966563219986, 16.646618203008277, 15.671230901000957, 14.695843054402301, 14.695842760987048, 14.695842649508002, 14.69584193450917, 13.720455212926089, 12.745067459447183, 12.74506740299886, 12.745067244823648, 111.14038757596997, 11.769679432715057, 11.769679193406363, 11.76967904372755, 11.769677741866442, 12.657807696751554, 574.6083058775292, 157.84853916935805, 42.09703488363704, 18.078672151391494, 34.995228629731486, 697.2113797066269, 214.46442932723696, 321.3969382868479, 30.350006366906094, 151.1699609129601, 169.0886139477863, 167.83574313686094, 51.141585043616885, 38.70893888557324, 364.97601361732836, 91.2417243977515, 1781.2163318791174, 105.07427783452945, 645.4443792538534, 71.25423373215341, 176.8060166399696, 271.359075984393, 1152.0920995575927, 833.3930807299474, 108.83369508757465, 378.7439447756337, 380.4650237379323, 276.7773767200009, 582.2985487544672, 1637.3595389616241, 460.75874296923746, 302.62180706999095, 846.6071383956626, 384.5116900045103, 1156.910154146575, 274.02468183624256, 647.464316784169, 280.98508171165963, 479.3333509675426, 325.8817543180295, 463.2310049829362, 379.3077070689866, 366.4242011013142, 306.743209407433, 341.6044958470537, 361.3011492386648, 330.9175427891547, 317.802405546375, 341.9890450576849, 43.13355386228951, 27.10870405497607, 20.09783235672559, 19.096279195371924, 19.09627906732901, 19.096278991749646, 20.024552459501596, 23.68099166543672, 16.091619650110015, 13.086960614758265, 13.086960497323874, 12.08540739467585, 12.085407268408204, 12.085405968666631, 11.083854373680644, 11.083854297547763, 10.082278778284303, 10.082168163085791, 10.07839947029514, 21.099385364333703, 9.080748201041299, 9.080748152786558, 9.080748056689632, 9.080747395495747, 8.079195090630122, 8.079195051109854, 8.079195048644062, 8.079195021286905, 8.07919497824622, 8.079194757733152, 44.464874801520864, 132.36413973760878, 60.04143952232426, 93.24552843673746, 78.87505681677216, 251.65980648533775, 440.02662802281804, 158.3425132025885, 203.06565446200784, 1769.4136600877064, 29.979246519013472, 1386.1942473093304, 201.68606245468158, 66.60811794327148, 21.98492010684303, 368.42417665051124, 1738.0035673230561, 758.1516921719085, 247.88921558021184, 307.2678326226759, 824.584667372229, 232.65010538367468, 150.83767875502832, 293.2816855343217, 437.34314491907946, 54.147458765862865, 424.5289901563796, 217.6966678302556, 387.8200849346257, 821.3627856698787, 601.3599298299979, 152.89986644711428, 505.0319299004103, 689.9977527601505, 646.1438312609715, 227.9856365237373, 266.8116360798924, 230.32843588436035, 456.2468851544683, 409.3681437990354, 422.38699998985453, 424.4753086390683, 349.37106271278714, 339.77913249953536, 298.0020108527606, 329.6767687974559, 313.45636129387657, 314.6667959088863, 310.65388347356173, 292.1236795723512, 269.09758996861837, 269.55565544337304, 297.44712436296, 157.4455023983753, 102.41037807231852, 83.09654027166353, 77.30664274691284, 68.61688692478307, 57.99607415341365, 126.2525529768089, 47.37393521520847, 45.444196863144654, 44.34501019841072, 117.05318822909314, 59.40891558220286, 32.8544065316128, 54.421753031950004, 28.064692889427533, 119.59035629603088, 25.16810716320131, 25.16792603482539, 30.74059606697053, 24.20257908029238, 24.20257848142187, 24.202578192493934, 51.19170275072071, 23.23705076377332, 23.23705015396526, 22.271522121807937, 21.305993529608507, 19.374937056847426, 19.374937048269885, 39.64821174673441, 2109.513609071188, 79.79132494452412, 502.2315540258441, 120.13580227573735, 212.63995668238195, 169.97436295060658, 133.89825566761303, 123.3629429048561, 327.7763192228757, 73.2975155387735, 144.81922678753764, 665.1991458206611, 734.7229743369336, 306.13586290608356, 443.15605340149926, 261.3088875958498, 246.68866971963834, 290.0042053919467, 105.30432086544731, 517.8708707547333, 315.7508583868072, 973.2615174946447, 188.847493859881, 1267.2991719561246, 1563.9138083330229, 822.7550126144988, 250.41409680817256, 643.3550047448784, 404.80370690293614, 486.491692427829, 527.5630196002337, 315.7813561935233, 256.17249502972925, 309.97902264035434, 818.8539740551711, 355.35450163971456, 345.0985971607068, 446.3137461394449, 500.48233257927643, 339.1231687976293, 465.7094484417826, 356.75493481280444, 341.1332823873336, 311.3592226910538, 48.67135458579758, 103.9233898227353, 42.95278810589442, 36.28112673316113, 29.6094663554899, 25.791949577664525, 22.9373737251562, 21.984710680029384, 21.982820517367106, 51.227322614424175, 18.172333310092053, 25.424012597164012, 37.20143712192288, 17.21923894189042, 17.21923882434807, 16.266144483306125, 15.313050141052043, 42.241103028582565, 14.35995565639581, 13.40686131384907, 13.406861299024271, 344.3848753701043, 12.453766995513265, 12.453766851988748, 11.500672239024388, 1516.0219080040688, 10.547578044576916, 10.547578001922416, 46.45512677694917, 25.259640093954864, 133.87735983735072, 39.98555290272893, 42.56229064008204, 53.824428293642384, 546.9298850667554, 42.801001095436646, 83.73781849191617, 98.6571305730614, 350.40169232884386, 20.970602070248262, 91.45010944829995, 138.7486162537143, 38.66848890798007, 348.96205372672785, 192.3652795147523, 106.23336491170294, 368.09664631283744, 610.9566043815274, 677.2093053655549, 333.17250704476385, 120.64739017896987, 148.8118688571895, 305.25766611880937, 381.99144621926314, 403.9920646240198, 213.04157493798294, 516.7140814195948, 143.45845494963788, 129.82530624841536, 101.36261480109061, 160.116831042503, 294.9860923912656, 145.79488541637505, 272.06499251486156, 218.96240545055096, 236.40159800117488, 176.96132887514784, 227.52444912388287, 186.11160098810637, 214.03233404921315, 174.769840026591, 204.47757896003893, 227.09813653866885, 174.06348951723155, 180.5470728463628, 166.16746594330044, 164.48715309960517, 49.3552886061962, 36.790952792758034, 23.260129442556362, 17.461205286988964, 17.461205286988964, 17.461205198575023, 29.4287296056936, 16.494717394872243, 15.528230523696191, 15.528230503174342, 15.528230212254636, 15.52823007927748, 14.561743019376484, 49.18267916058875, 125.41089057181316, 12.628768422457181, 12.628768293286928, 12.628768011747033, 11.662280796160292, 59.05504903918139, 10.695793620608784, 10.69579320963825, 9.729306239587713, 9.729306239587713, 9.72930606284739, 465.8098338677117, 8.762818890553524, 8.762818877442498, 8.762818599243177, 8.762818350172815, 69.62226531695792, 60.83950932772184, 21.212456816288057, 178.57401718228306, 299.2810189692167, 95.85475476473486, 185.62441135743694, 63.780073828880305, 35.08333051064449, 149.17378612887242, 292.8343475463854, 43.47611903474311, 33.59550609487702, 925.2266407196273, 182.2265491466259, 295.2018810741024, 26.484473003983357, 25.76806158456499, 526.1797131213926, 653.5022143585172, 148.4622582784747, 260.2541943302406, 197.7790316096704, 94.62624392903412, 150.3853828260857, 360.10794271105374, 256.1370883772568, 679.6433342746102, 456.2350355569933, 98.92983283161826, 555.5446071069657, 225.01836170147413, 198.67922556518715, 330.38953185263574, 236.49972276603165, 311.6793215145918, 214.06649565717254, 332.63789086695743, 211.5444324976251, 247.47996883141667, 258.1930005432686, 235.29073679044538, 229.05499116711047, 201.49180553430642, 206.2170678433082, 190.55776631638045, 188.1972116212393, 69.50229336955674, 57.59212962313228, 52.63922487441179, 19.905033471257056, 19.90503336625275, 16.92919777864168, 14.9453075104831, 38.22684273370772, 13.953361311353422, 18.45085436191471, 11.969471950244255, 11.969471919771946, 11.969471906700807, 11.969471627838248, 10.97752683095725, 10.977526817221982, 10.97752657994457, 10.97752583517055, 10.977520295277515, 17.263107370303672, 9.985581642554262, 9.985576939913402, 8.993636323358972, 8.993636193251989, 8.993636167029452, 8.993636140554322, 8.99363590738643, 34.784211305945114, 16.929198031493506, 8.001691196433049, 40.906457055624585, 304.76586099488674, 27.896314772324278, 208.43805615288, 34.952638335205734, 2499.874148703065, 217.7314470393019, 694.9540561533895, 645.3831607430471, 163.30243263965966, 43.910586462591944, 259.5676186884047, 107.52727865450906, 306.4949909759318, 59.6531129217098, 91.51314669362702, 56.62022817656576, 303.95239811797455, 227.1436785265686, 103.05559009003113, 312.67213615886357, 195.94809870016843, 125.33393952612263, 196.22432994445785, 347.1286435956041, 137.4897027052833, 171.26013421278287, 91.14731447631138, 124.27310328696093, 276.73873862259103, 171.22392181684998, 266.53861765366173, 291.01330830124635, 230.4131253604756, 197.48957665326597, 307.8588897788277, 316.6098943313023, 179.7008085048829, 195.75077071059914, 181.0350470227701, 229.0368788443505, 212.4937148351377, 190.62626240679228, 187.84506626382046, 177.38480105564867, 59.07048843328167, 30.9714187797014, 24.414969209248014, 20.66842668874497, 19.731790706979822, 18.79515523653832, 18.795155131599373, 16.921884081180657, 16.92188396283302, 15.985248320301476, 15.98524820109464, 15.048612806523527, 15.048605376211293, 14.111977052840343, 14.111976576226052, 13.17534149193132, 13.17534147354116, 13.175340904773442, 12.238705327751845, 11.302070112038717, 11.3020700451986, 10.365434338351475, 9.428798884357152, 9.428787237007919, 19.675682320012637, 8.492163225376332, 8.492163210925673, 8.492163171201069, 8.492163156161762, 8.492163023445087, 17.817959425010855, 16.680675252106944, 73.81135004827195, 13.175341501855684, 35.43388199511524, 93.67969131428548, 115.39225944609572, 17.85851813191625, 52.45654321562654, 19.243917886055815, 58.999035184890644, 191.19318059729378, 162.61675336674327, 39.49472373997681, 408.5314761400255, 64.55417327825317, 124.4059913967701, 31.063852424076163, 205.33400781605565, 73.153473153378, 40.18289285051508, 20.668426663951983, 76.99491878853924, 401.68923494100443, 73.94963345747148, 52.9615752294568, 121.99977110631583, 87.03688529967202, 255.0412679382289, 237.43402743034076, 136.8227575606331, 72.15955976850174, 133.70218335222285, 65.40164994526536, 250.4193450860327, 180.59212415770412, 121.11087689675293, 157.7123975583583, 117.72993745048522, 164.56612313239043, 106.68528229708562, 196.62594836983354, 177.6581002424758, 143.84169741225853, 138.78929929600636, 115.37044573085029, 112.83282903757274, 98.58853187578273, 134.7329563789467, 119.87466515070896, 129.55189288783043, 135.2928138901495, 115.30060674578836, 111.72794471111814, 55.47987122021098, 37.63363701480385, 31.058708843604247, 30.119433437344355, 27.30160709427486, 27.30160688754259, 23.544505023155647, 20.726678028059208, 20.708472523317802, 18.848127783002496, 17.908852111983666, 16.969575758311674, 16.030300990701548, 15.091025742182929, 12.273198934654125, 11.333923929859276, 22.60522984269718, 10.394648456042354, 10.39464820186449, 21.636921727968684, 9.455373098535851, 9.45537247228199, 18.807743690823365, 8.51609760580728, 8.516097587442998, 8.516097508138976, 8.516097452052291, 7.576821824518153, 7.57682178917022, 6.637546678878064, 61.9851955090948, 73.19490207873399, 26.362331979005926, 40.932473060449944, 117.74185679640641, 24.32163223177265, 60.726727763637754, 25.423056178834955, 21.276882137530905, 26.904116287519262, 242.1990320235932, 411.12158005441063, 111.70705745985246, 137.3005252907152, 101.01497554001641, 278.1648847444032, 263.33952646004917, 364.3239835650414, 278.1983682024524, 50.11353811990542, 156.0280759136137, 44.954817372797066, 41.65757823453402, 85.02664922393727, 53.573782343187986, 94.69335698012117, 185.50283075447325, 147.01436962960145, 137.2033639910323, 79.88728771453535, 148.94913395453105, 177.27662534951133, 85.51421678147543, 101.83282672331538, 137.43582516121742, 98.03883791277012, 69.58904749553903, 110.84189162365608, 93.6202920162586, 104.59059766256614, 95.13856809065469, 95.91245954270286, 76.2312741747306, 75.76693320769908, 44.34214529337601, 29.581930429033974, 35.11318340251226, 16.666742577471684, 16.66669480690436, 14.821715700065287, 13.899202283417518, 13.899202137124218, 12.976688329271457, 12.054175326369336, 20.35679636668728, 9.286635066904095, 19.392967771435313, 8.36412170766036, 8.364121706633846, 8.36412163568633, 8.364121616008875, 8.364121503416689, 8.364121451301784, 7.4416082454474175, 7.441608187242469, 7.441608074826558, 7.441539521617201, 48.74681283988758, 13.89920227195775, 44.92893471136821, 6.519094843831704, 6.519094780745408, 6.519094730967969, 20.34321752276486, 789.0529574441512, 16.270360476243038, 43.36627766333774, 591.8146902413772, 43.225215024483006, 14.821715736557474, 38.80420869048965, 53.62935583203368, 51.5317971507154, 12.622499727666114, 48.48816505897727, 362.3915332146926, 103.4792332893206, 29.581930792646812, 69.6098134809804, 107.00865698638246, 52.620108493131404, 124.78990468691254, 40.63654374123703, 39.11303281791671, 342.15131717230514, 113.27452846118409, 31.235442142188305, 210.5157979204686, 76.49244583187513, 364.9078483853802, 184.92397232275496, 126.90449008120966, 105.57548919537116, 115.28012922326123, 90.51487636406777, 184.69014484312845, 197.46113234626938, 85.72275602694299, 64.34200196748836, 100.69426976344546, 134.59490802149193, 133.42199202380698, 143.70411011997993, 114.91602029444904, 90.15714519141015, 98.38841860678299, 108.30499680827019, 87.99584434032185, 88.2522080282009, 82.76187282906959, 86.31912226700697, 1047.0130884112068, 165.84264442819955, 27.990826545868245, 23.485865177124328, 19.881896089214877, 18.980903773253395, 17.178919333031104, 17.178919240424985, 15.376934750152522, 15.376934743443154, 15.376934709816043, 14.475942498274916, 14.44390127990461, 11.772965627157062, 9.970981082721137, 9.970981020401808, 9.970980490464672, 9.069988861633856, 9.069988588048755, 44.35561739184601, 8.168996556771205, 8.168996433679707, 8.168996414315732, 8.168996311739313, 19.478937691914194, 7.268004273639534, 7.2680042553219835, 7.268004233998806, 7.268004240859333, 7.268004199105653, 15.365366578130034, 22.58487301630817, 416.4262280861244, 11.54604468714829, 21.39416769317191, 102.05646892103385, 20.48978228063531, 17.272561953974108, 133.4793406319915, 34.55941143563754, 116.22247507628123, 51.43615121072969, 22.09270815761842, 82.77648288573263, 55.50752113791518, 150.58038591310475, 45.929851803932344, 212.25094031948012, 66.67936781411264, 89.64785413495093, 33.80742423662292, 45.964650251757966, 137.26878997517903, 48.93072477826517, 54.08127476089948, 54.744735968116615, 48.97796484929346, 122.3578492343004, 92.24534153974953, 92.70381905354392, 129.4007476848038, 107.93648495619884, 103.13022686882192, 102.06610030000277, 96.88944571352516, 72.62858145700851, 66.82200147845892, 78.60668098705433, 71.34512079184786, 80.48967434553927, 70.17172460320768, 62.51574368249226, 73.92384799230028, 69.40756267784003, 66.60970432811297, 24.564234991128277, 20.188183155144706, 19.312972393417656, 18.437762981186452, 17.56255288361963, 13.186501498730207, 13.186501435187838, 13.18650138819798, 12.311291179891617, 11.436080859721674, 10.560870662604527, 10.560870612336714, 9.685660374277408, 9.685660162956923, 7.060029497779781, 7.060029492071981, 7.060029381797473, 6.184819277450917, 6.184819270431243, 6.184819239204461, 6.184819236084965, 6.184818971790211, 11.436080908811508, 46.422033477643204, 5.309609000348019, 5.309609000348019, 5.309609000348019, 5.309608983588888, 5.309608958537724, 5.309608794816625, 74.19807018007754, 15.812132323277188, 10.555505001242375, 61.30762381375117, 97.64516993838488, 9.685660398793202, 75.0420878983233, 54.11113872018244, 36.660019612117395, 95.44487340393455, 13.908518423707557, 226.18367819209678, 23.953039478873837, 12.308915250072767, 77.93047600339932, 47.67612440144152, 67.31886813703491, 86.9987646970417, 43.84065357755248, 43.39487522498056, 111.69361536179409, 189.74038161382245, 64.30747012635547, 195.15055177127675, 175.1379692450036, 140.4388738452606, 76.90930214954291, 88.47958216491601, 33.29609958941644, 91.04414938943135, 172.91486148769172, 84.37501010068574, 79.58498487222977, 57.1816138644369, 93.27627950698678, 57.013407959698235, 69.47906590020794, 91.9291953259265, 65.93437873323786, 63.01666777178451, 56.43524784251075, 57.3005945719888, 153.83490539241788, 61.05287043928063, 30.98461800693031, 13.802759608041125, 11.22548082629911, 10.36638792519448, 10.36638792519448, 10.366387682371727, 9.507294997762633, 8.648202044161616, 8.64820204247016, 8.64820201087298, 14.80592589385454, 7.789109147977037, 7.789109078223405, 7.789108926003273, 7.789102544464615, 6.930016230057847, 6.930016230057847, 6.930016226327017, 6.930016209476879, 6.930016121368418, 6.930016020246634, 6.923412242995716, 14.565713996717916, 7.618440700388342, 6.070923307732281, 6.07092330244089, 6.07092330244089, 6.070923276389702, 198.23640425873958, 95.22857549418936, 48.30379044684695, 18.957317336309305, 37.64998662415609, 190.8492728775555, 11.6511876938738, 20.073094743829863, 23.101234685188388, 17.920517624258288, 26.63388991686212, 84.88174291165048, 75.55509996011118, 11.055348378331532, 39.35617986469352, 30.11583013693524, 26.89073920111678, 106.12266101257478, 33.006472064547665, 31.41784764527114, 133.56838718775106, 30.43021870702411, 30.32810090326464, 54.984159600067706, 29.729524986588565, 104.1920657518723, 48.92903286292561, 45.599365016473996, 50.37256233827306, 56.14352062527142, 103.43881185672275, 72.28542347719696, 53.123430582589585, 54.59254962756643, 91.3426496474988, 68.46813036221847, 64.79450534104872, 62.36588694240303, 51.93991008597933, 61.06342465175821, 56.651809448096294, 47.21595965371781, 51.674578402629855, 49.319280897200755, 50.08359725000521, 19.564564561236722, 16.904729385841087, 16.904729315255786, 15.131506089890596, 14.244893460925574, 29.32104739779665, 31.83785463384724, 28.430681684182368, 13.358282675814344, 13.358282345053349, 11.585059373806956, 11.585058875496117, 10.698447711314659, 9.811836037668748, 9.811835962987663, 9.811835898566061, 9.810629160243739, 15.440495458912656, 8.925224345179466, 8.925224267444024, 8.925224228571688, 8.892666287518967, 8.038612611456976, 8.021544350562062, 123.90304269753366, 16.715018443705077, 14.274990832289134, 7.152000873927188, 7.1520008100507395, 7.152000683579943, 262.29101615535194, 21.337788111508008, 61.04991618051731, 13.358282757865798, 33.884852396173784, 31.331304036645342, 11.816991711836835, 14.669630420816453, 20.100856218212176, 30.46698019263942, 28.551825091284023, 31.244479534378414, 15.6533605349476, 107.90910275735341, 30.54365623659851, 46.867533000911365, 35.79506225468697, 52.108105248557955, 23.979987662179862, 28.74394626398881, 44.90193094732147, 135.53151804011816, 43.31224051940365, 58.14591569077498, 92.9098870695933, 45.08478003380411, 39.6694071932581, 45.88585415690839, 44.048915593776776, 55.07520287674226, 28.108983168073486, 37.96114398393823, 65.65073908993229, 61.522042246928876, 44.55013735912505, 40.389401920916406, 45.42051113902561, 41.3639352531525, 53.40933074298101, 46.59807884147384, 49.49165749742477, 44.00497747686178, 40.542483551413355, 42.85510670289444, 39.29693502656465, 38.21110778578734], \"Total\": [5185.0, 2371.0, 1047.0, 1639.0, 2692.0, 3013.0, 1956.0, 4719.0, 907.0, 856.0, 3083.0, 2719.0, 4916.0, 1751.0, 695.0, 1318.0, 3542.0, 3522.0, 1800.0, 1245.0, 1418.0, 843.0, 3739.0, 2128.0, 993.0, 2306.0, 1157.0, 1532.0, 775.0, 1109.0, 75.19324792056382, 72.22321949917638, 58.362672126558294, 38.56260481776632, 33.61284988416295, 31.632830923651316, 30.642821445631505, 29.652811976074805, 28.662802481377945, 25.69277406903035, 28.639203873749626, 21.73273607734609, 20.741522575280936, 19.75271720409863, 60.307513566093164, 18.762707708983633, 37.4694900034692, 17.77269825386726, 17.772698216565246, 21.719956674486507, 84.85839678142662, 16.782688782085586, 16.78268878184788, 16.782688765641147, 16.782688761786154, 37.507870566240534, 15.792679305022395, 15.792679298972814, 15.792679299872699, 15.79267928125427, 29.60091960900693, 28.605434587679454, 160.44335723284686, 534.8270099485067, 227.41242503554972, 1160.507942634756, 158.3146407764242, 64.10161014714272, 1145.5249223019487, 38.51629666602071, 414.72684545586, 132.49824668082522, 249.4731384112525, 655.1508031150787, 901.8521996919214, 102.28251844481848, 70.83218539015158, 650.0546394825228, 606.8100336163112, 185.74209084325224, 314.5057041173258, 722.9522666716, 1448.2280303175335, 83.87252676015626, 108.77717000717305, 430.0373595589621, 85.4561553675475, 627.6997430967876, 272.7381649098986, 823.9947367732535, 496.0579190796213, 873.4923807242773, 575.5883839429835, 2748.670542102276, 1943.0448517282987, 633.6494719632433, 525.9163750448608, 1903.077947896372, 521.538478037461, 1318.513643957901, 656.0173402137892, 4916.206985794483, 1685.6428561389348, 887.6016123246274, 696.4956900841657, 1532.1326337565106, 809.3538286253367, 1306.2609075293096, 3260.542108403476, 1805.9441321510153, 1918.669261572573, 2226.9597646322604, 3082.4543091918154, 2826.1708490379656, 850.5660367494477, 2700.9250730810727, 1269.465789703154, 328.1123510669958, 509.2043565109563, 109.9991417849485, 84.68242999410157, 75.91895283684089, 61.31315757142642, 60.34076246299525, 48.654801675159014, 41.83876388913764, 41.83876388461623, 35.99644578282495, 35.02272609215981, 30.154127677315277, 30.154127675184753, 85.59124962018545, 28.20668830774954, 28.20668830211676, 27.232968624321746, 27.232968623346803, 27.232968622220344, 25.28552925674229, 25.285529254781075, 25.285650323248017, 23.33808046226747, 22.364370202742155, 22.364370195358813, 22.364370206238, 20.41693083392458, 20.41693079713721, 19.443211149505906, 1956.021044116228, 513.1846732776079, 36.96167058596675, 391.7663788460646, 45.52046192085902, 2692.975172254258, 302.3589403733951, 868.9090063408071, 101.80095431320159, 867.9812596647062, 455.8806158437133, 51.60919545496671, 203.25702203742102, 142.44312622369407, 45.65054747306673, 319.20568056887714, 240.69079407189477, 1112.281982778012, 536.5622743101604, 1193.6507649894002, 2512.5471862900035, 410.85758507474037, 232.39960416175762, 285.4454972014342, 196.28082780013452, 1751.1698869202792, 2083.790117439032, 958.9679801866571, 1610.9624487442143, 325.4726025999284, 4916.206985794483, 348.7109633812877, 650.6041521044292, 431.6647716246092, 1418.4505239047332, 5185.50060767372, 1918.669261572573, 1306.2609075293096, 2128.891308618478, 3739.944454023426, 2435.1658811721522, 2748.670542102276, 3522.5603351794107, 1946.458670263698, 2344.326726577317, 4719.474627363549, 843.6079438177974, 200.89703936638227, 140.422994432363, 135.54561810861065, 59.46580607239734, 48.73654011449827, 43.85890197571387, 38.00727414748901, 36.05649850922565, 362.23146410748376, 22.401069064883387, 40.84382227450314, 46.65209004644298, 31.152221934749566, 17.52412997941293, 16.54874220035199, 15.573354385205365, 15.573354366732184, 15.573354357230832, 15.573354367016499, 14.59796656991408, 13.62257875355052, 13.622578754452295, 13.622578754874095, 118.82384486920337, 12.647190936440037, 12.647190895603494, 12.64719090070843, 12.647190747115024, 13.61361671662954, 626.9897914468, 172.73978828258893, 45.63118581054067, 19.463049741268556, 37.95848738103602, 794.6241332762576, 240.5988959024696, 372.61543938902804, 33.05473612394332, 174.00257988460186, 196.48505052258062, 199.33405578713365, 57.297784152827205, 42.94741839518405, 480.03736526354515, 110.89158476110262, 3013.106417417196, 130.3814611257194, 1064.7695363212874, 86.35210798519682, 248.5161685636705, 417.08983281317893, 2435.1658811721522, 1800.2380951614155, 146.17923566219648, 700.6635201679698, 704.9872174798812, 473.5442752789968, 1235.5635142826968, 4719.474627363549, 993.5253764500717, 567.2201632939777, 2719.624728319573, 914.8829000527572, 4916.206985794483, 550.6992192527119, 3542.5714754150276, 623.6052601250644, 2106.738981269341, 910.9822716929233, 2425.136734262782, 1946.458670263698, 2057.1319229926266, 1151.874418539436, 2120.6282654498937, 3083.900659678246, 1903.077947896372, 1609.6218721228165, 3260.542108403476, 44.00932088630096, 27.984471121892543, 20.973599355115248, 19.972046243265435, 19.972046237669925, 19.972046235519063, 20.97275474106703, 24.968759642155785, 16.9673868982522, 13.96272758328675, 13.96272757426598, 12.96117446979287, 12.961174449836356, 12.961174415649642, 11.959621361264984, 11.959621360714282, 10.95806761874459, 10.958063581689196, 10.95793165745701, 22.96516193745991, 9.956515142168946, 9.956515141703289, 9.956515133063228, 9.956515098666024, 8.95496203175777, 8.954962029682283, 8.954962030458656, 8.954962029079894, 8.954962028621493, 8.954962014491878, 49.75254251110594, 150.70360688947028, 68.53482352323825, 107.59991856639711, 96.62130468665131, 341.35139885415947, 641.0878870404089, 216.34286283687462, 290.23712363733546, 3083.900659678246, 36.69894013668117, 2719.624728319573, 313.4854252010087, 96.16863057851516, 26.71849773852403, 738.4780415210982, 4719.474627363549, 1800.2380951614155, 478.9258346277845, 626.3184778372483, 2186.780099178206, 480.6253472629352, 294.76470204547803, 704.8961585270245, 1266.0860097349134, 78.96685340445951, 1235.5635142826968, 516.4979138051644, 1151.874418539436, 3522.5603351794107, 2425.136734262782, 351.69917329974, 2106.738981269341, 3739.944454023426, 3542.5714754150276, 676.3138125316718, 914.8829000527572, 730.1505769957008, 3013.106417417196, 2435.1658811721522, 3082.4543091918154, 3260.542108403476, 2083.790117439032, 2127.90716836506, 1454.642771241806, 2132.0808385958308, 1903.077947896372, 1946.458670263698, 2700.9250730810727, 2097.7400690151344, 1437.8314217088866, 2826.1708490379656, 298.3252932277241, 158.32367104899146, 103.2885507026395, 83.97762191829423, 78.18481145857031, 69.49505559341884, 58.87424287638347, 128.25335966162288, 48.25346378263951, 46.32237307757681, 45.342110150348, 119.74744204976905, 60.81843913036362, 33.771541451477695, 55.99620038394969, 28.942861580312215, 123.67859440319111, 26.046276273630976, 26.04625930724139, 31.845484707954256, 25.08074786317238, 25.0807478724466, 25.08074787974204, 53.05407519762557, 24.115219439927685, 24.11521946261344, 23.149691010597248, 22.18416256843262, 20.253105725169483, 20.253105725000065, 41.465753941932746, 2371.679391756336, 85.6080913415148, 572.9719551819842, 131.22421055550205, 239.13024141817655, 192.76246745760713, 150.95056601202467, 138.97692351287805, 423.1212310202203, 83.24693882122705, 177.19968134655332, 1017.0076607374587, 1157.529244704758, 429.4803714520326, 698.8829236708686, 381.30363818255023, 356.0685428240829, 441.2626538030027, 128.26376761945883, 962.674672295835, 530.9673187366228, 2306.063654586869, 277.6743813244968, 3542.5714754150276, 5185.50060767372, 2425.136734262782, 437.7092968255466, 1860.999455805254, 915.8324998511785, 1298.4971046317194, 1610.9624487442143, 700.3066923103179, 488.7150936975076, 728.2453352839432, 4916.206985794483, 1094.6301787603632, 1084.2447094025772, 2057.1319229926266, 3260.542108403476, 1159.0023507228536, 3739.944454023426, 2132.0808385958308, 2120.6282654498937, 1678.2395793745545, 49.55035222296846, 105.80414169611504, 43.83178574317465, 37.160124862810285, 30.488463955989534, 26.676198412969494, 23.816795607699866, 22.86370865532234, 22.863781877675706, 53.41755090944688, 19.051331002507823, 26.684159794412796, 39.080167337200905, 18.098236584678713, 18.098236583477608, 17.14514217618872, 16.192047764027418, 44.8209065232882, 15.238953349872503, 14.285858933824741, 14.285858931142947, 368.4877203057875, 13.33276451968577, 13.332764523208379, 12.379670120377895, 1639.2140737379714, 11.426575695064178, 11.426575697255211, 50.57771551745075, 27.524931471601796, 145.9678100262188, 43.912519025896785, 47.60355812253253, 63.059715549345896, 781.3010642221863, 51.632665605022716, 113.19334395262867, 140.5598757242845, 663.9915325736075, 23.73330832580604, 156.8227439904606, 277.95802939459463, 52.79730126173603, 1002.3597640707017, 458.40329664674516, 216.39095593422059, 1323.1606487328092, 2826.1708490379656, 3522.5603351794107, 1318.739110770372, 282.7344299501061, 402.7633191401943, 1432.857992151494, 2127.90716836506, 2344.326726577317, 896.9513285498319, 4719.474627363549, 509.8086734123031, 428.16142275052056, 268.81115513587486, 738.6395351441807, 3083.900659678246, 613.4422375778046, 2700.9250730810727, 1627.9660422328475, 2186.780099178206, 1028.7278447974572, 2132.0808385958308, 1292.1230423116976, 2106.738981269341, 1064.1581630822068, 2128.891308618478, 3739.944454023426, 1225.6149042276818, 2120.6282654498937, 1094.6301787603632, 3013.106417417196, 50.233393559398955, 37.66905761575085, 24.13823427719725, 18.339310003926006, 18.339310003926006, 18.339310004994996, 30.918826726091048, 17.37282260613924, 16.40633524165782, 16.406335239308742, 16.406335229642405, 16.406335238138915, 15.43984786353706, 52.242762301471984, 133.3059595472985, 13.506873098950047, 13.506873101124087, 13.506873091479024, 12.54038571306739, 63.670063392135184, 11.573898338496106, 11.573898343149278, 10.607410957723035, 10.607410957723035, 10.607410956781345, 510.84078755414225, 9.640923575505967, 9.640923575440477, 9.640923580429362, 9.640923561732366, 80.57760147150968, 70.31120406280915, 24.027864080329376, 228.3535691894327, 399.1207968094418, 119.42394467415282, 243.5665689823353, 78.54167231109454, 41.529466296468776, 212.56254661040305, 456.32065013772666, 55.75762414592661, 41.721008219326144, 2128.891308618478, 314.824139067759, 574.3910104061697, 31.80824812450188, 30.75413270197405, 1432.435983366015, 2083.6228497137763, 302.1734767533888, 663.9601138926992, 473.3049753423205, 176.03309609578778, 329.4544122576924, 1151.874418539436, 742.8894672519175, 3082.4543091918154, 2097.7400690151344, 203.51622587588773, 3739.944454023426, 926.8874918296325, 755.3913273835913, 2132.0808385958308, 1223.409795806006, 2344.326726577317, 1225.6149042276818, 3542.5714754150276, 1246.4449179904066, 1918.669261572573, 2186.780099178206, 2700.9250730810727, 3522.5603351794107, 2226.9597646322604, 2826.1708490379656, 1543.009091494083, 1319.2700049266116, 70.37870096220881, 58.4745558358805, 53.515632600968964, 20.781441088583097, 20.78144109633174, 17.80560550065313, 15.821715097422873, 40.51415515635229, 14.829769825828551, 19.79397304981907, 12.845879516385974, 12.845879513543418, 12.845879512597959, 12.845879482450204, 11.853934319598467, 11.853934319918501, 11.853934315201933, 11.853934299595753, 11.853933954144786, 18.727757476157127, 10.86198912266993, 10.861988963412784, 9.87004391264732, 9.870043921186836, 9.870043911822249, 9.870043916434808, 9.87004391065809, 38.31808038976588, 18.744880982229475, 8.878098726412937, 45.46175624943908, 347.1491686002191, 32.70298195694124, 303.6255224303136, 44.52474477640224, 5185.50060767372, 348.7729166130139, 1318.739110770372, 1245.3875842275174, 262.5483971194949, 58.895754883296725, 466.285193075992, 167.5699691133944, 613.4422375778046, 87.00691891838507, 147.99146372131923, 88.10760322055046, 738.461344953375, 515.2860097785942, 191.33756935362902, 896.9513285498319, 478.9258346277845, 269.2962368345258, 501.9588318395624, 1306.2609075293096, 343.592928471374, 485.03072849416867, 202.3614551324849, 360.21269364839037, 1526.5268311168065, 653.7273998283225, 1532.1326337565106, 2132.0808385958308, 1437.8314217088866, 1090.4205447672039, 3260.542108403476, 3542.5714754150276, 1028.7278447974572, 1323.1606487328092, 1094.6301787603632, 2344.326726577317, 2425.136734262782, 1609.6218721228165, 3739.944454023426, 2700.9250730810727, 59.95058321562193, 31.85151366003895, 25.29506409885232, 21.548521491020082, 20.61188584056705, 19.675250195323866, 19.67525018971773, 17.80197888359152, 17.801978887654872, 16.865343235907094, 16.865343231839084, 15.928707578221308, 15.928707808257336, 14.992071931451306, 14.99207193982394, 14.055436274533625, 14.055436276167201, 14.055436291700698, 13.118800638308366, 12.182164971634052, 12.182164970101963, 11.245529330752921, 10.30889366709806, 10.308893640428842, 21.605092512103443, 9.372258015838014, 9.372258016315287, 9.372258013192475, 9.37225802004917, 9.372258015558304, 19.706394605065686, 18.776153885030148, 89.68867538151586, 14.9306465595112, 43.75829920060042, 134.84743651154554, 173.53356075353182, 21.39607597481599, 77.95874272234293, 23.609715523867106, 98.64875021844406, 437.50107952746504, 398.9283796661804, 61.74085251040467, 1526.5268311168065, 129.73309484932213, 339.2539707454346, 48.279154314201435, 815.4526019033628, 181.60180034118503, 76.29084292257231, 26.429944199387723, 226.97018328202904, 3522.5603351794107, 214.6449408896102, 123.3323397056008, 533.1100851285885, 314.30490668379804, 2106.738981269341, 1946.458670263698, 769.7136877425078, 244.39006922113992, 819.9158923646228, 203.13825614864044, 2826.1708490379656, 1532.1326337565106, 738.6395351441807, 1323.1606487328092, 738.461344953375, 1628.184039150935, 607.9152982796804, 2700.9250730810727, 2127.90716836506, 1805.9441321510153, 1627.9660422328475, 981.2978263023059, 961.3672462993743, 574.6188075115941, 2226.9597646322604, 1432.857992151494, 2186.780099178206, 3260.542108403476, 1800.2380951614155, 1678.2395793745545, 56.35979008270764, 38.51355609794859, 31.938627777996746, 30.999352301048823, 28.181525877868097, 28.181525876245804, 24.424423992090894, 21.606597592003617, 21.607618471188744, 19.7280466193502, 18.78877115175288, 17.84949562396064, 16.91022018696444, 15.970944733184792, 13.153118326135084, 12.21384283588313, 24.458868122804706, 11.274567362477056, 11.274567370057808, 23.522377051024286, 10.335291882794055, 10.335291882399106, 20.704987081346445, 9.396016410146629, 9.396016410620701, 9.396016415679455, 9.396016414727988, 8.456740952005138, 8.456740932455173, 7.517465462471301, 70.874182992703, 91.53170122424503, 32.953899365099815, 54.06837686890563, 177.7059552326843, 30.238245397439186, 84.99448635312528, 31.96159262736858, 26.45501945010909, 35.97009111840393, 639.0371478394384, 1418.4505239047332, 252.8328066658877, 334.3626690704167, 325.8751622907236, 2127.90716836506, 1943.0448517282987, 3522.5603351794107, 2826.1708490379656, 123.3323397056008, 1193.6507649894002, 103.69485861925124, 88.88832572115773, 395.3094111688773, 151.96728907886035, 549.3223332434483, 2512.5471862900035, 1628.184039150935, 1432.857992151494, 417.811978332767, 1946.458670263698, 3082.4543091918154, 568.2659270687543, 966.8348648430297, 2700.9250730810727, 981.2978263023059, 358.26225494610424, 1918.669261572573, 1236.7655292216166, 2226.9597646322604, 1454.642771241806, 1627.9660422328475, 1449.4280146682104, 2435.1658811721522, 45.22318165190638, 30.462966818966176, 36.884510139790066, 17.547778837045005, 17.547775560881217, 15.702751982509321, 14.780238556633934, 14.780238563132862, 13.857725147187013, 12.93521170093484, 22.1909269051608, 10.167671422134548, 21.252587246922012, 9.245157991909364, 9.24515799421168, 9.245157997211225, 9.245157992423794, 9.24515798811001, 9.245158007628682, 8.322644569670784, 8.322644574620684, 8.32264456095498, 8.32264684960196, 54.52936011607034, 15.753958177818248, 50.97239430439615, 7.400131141409795, 7.400131146173083, 7.400131143784116, 23.21346611543796, 907.2158809997477, 18.58329337260247, 51.975516789147214, 856.2325472808238, 55.070613298153454, 17.475975402918493, 50.07432734546893, 75.7080740864375, 73.06261913945036, 14.889624665313589, 71.38428049864433, 775.1051045547329, 192.25186743571552, 42.71445545766592, 136.09332165162863, 257.19379264646136, 100.08369443728765, 338.9154486846542, 71.49457316964751, 68.29648950322043, 1751.1698869202792, 337.5952682587607, 51.931434411866476, 1227.6193602822527, 235.95463597579942, 3739.944454023426, 1157.529244704758, 613.4422375778046, 466.285193075992, 644.0427548853592, 427.60789671038424, 2306.063654586869, 2700.9250730810727, 426.59195271623514, 206.01880608204436, 757.891161736846, 2083.6228497137763, 2097.7400690151344, 3260.542108403476, 2132.0808385958308, 1225.6149042276818, 1860.999455805254, 3522.5603351794107, 1432.435983366015, 1543.009091494083, 1269.465789703154, 3082.4543091918154, 1047.895559542453, 166.72511557051496, 28.87329764794981, 24.368336277703953, 20.7643671836915, 19.863374912471645, 18.06139035509924, 18.061390360587186, 16.259405808610282, 16.259405808359286, 16.259405814880708, 15.358413535315394, 15.360742631273027, 12.65543671806368, 10.853452162125397, 10.853452165825285, 10.85345221114778, 9.952459890203146, 9.952459908497625, 48.946427443957134, 9.051467616668448, 9.05146762291281, 9.051467629054967, 9.051467637438519, 21.60472111204345, 8.150475346250897, 8.150475346586793, 8.150475341270475, 8.150475349139883, 8.150475346547548, 17.26225005731294, 26.234884283183597, 695.5846644446658, 13.601049392780054, 27.487191969496166, 174.8067459854848, 28.358201503835495, 24.02729634422027, 367.8901808149522, 61.31683644694209, 350.7136357768399, 120.00733457842333, 35.24923255150833, 261.23469428599867, 146.93660436665277, 776.9976359381942, 118.20097663833994, 1532.1326337565106, 224.10281856280238, 377.44338708003903, 77.30494412933936, 140.31453232072954, 1860.999455805254, 213.11214299382337, 268.45292717791347, 276.3492734371517, 223.69009948704337, 2132.0808385958308, 1225.6149042276818, 1432.435983366015, 3739.944454023426, 2344.326726577317, 2083.6228497137763, 2306.063654586869, 2057.1319229926266, 920.8162981632478, 728.2453352839432, 1543.009091494083, 1112.281982778012, 3260.542108403476, 1678.2395793745545, 737.7768241160536, 3082.4543091918154, 2106.738981269341, 2120.6282654498937, 25.44842491544655, 21.072373585368837, 20.19716331365757, 19.321952983954322, 18.44674268880227, 14.070691303777323, 14.070691309807984, 14.070691307527794, 13.195481030697794, 12.320270760524945, 11.445060473505968, 11.445060478586724, 10.569850195383937, 10.569850200692995, 7.944219368174033, 7.944219370808982, 7.944219369569015, 7.069009088733581, 7.069009089653706, 7.069009093882398, 7.069009092125631, 7.069009116740206, 13.256906412041062, 54.081331249622245, 6.193798811787425, 6.193798811787425, 6.193798811787425, 6.193798814359484, 6.193798815215914, 6.193798833291498, 89.67369031108346, 18.680212516703506, 12.41938408697963, 74.86082770945968, 127.16017302057666, 11.522944607556997, 100.37069440310589, 71.68727180709769, 47.471607994246526, 141.53206427910433, 17.713065829076797, 454.3418479804247, 35.212594682087165, 15.855490036876578, 164.4285920249659, 88.44115690315085, 147.8316569487828, 210.4513492397333, 85.86772060488238, 86.64975374236086, 351.22546959595405, 827.0565901860172, 182.13509230448872, 1109.4153716735073, 993.5253764500717, 819.9158923646228, 310.0313844938231, 465.35306233296126, 76.29308131640808, 705.7409063606681, 3013.106417417196, 704.8961585270245, 724.5907085598528, 353.9753292367472, 1526.5268311168065, 411.3541738856722, 1029.8652538754852, 4719.474627363549, 1192.698097488336, 3083.900659678246, 794.6241332762576, 1235.5635142826968, 154.720170568939, 61.93813473080395, 31.86988240885384, 14.68802393152908, 12.110745163024557, 11.251652235795484, 11.251652235795484, 11.25165226660901, 10.392559310697846, 9.53346638996775, 9.533466393886386, 9.533466391736685, 16.484446841613938, 8.674373465291508, 8.674373473319148, 8.674373488014963, 8.67437432476691, 7.815280541101115, 7.815280541101115, 7.815280539659397, 7.815280542451999, 7.815280552743115, 7.8152805616849035, 7.815404447605227, 16.492430106385225, 8.677575369977822, 6.956187617015057, 6.956187615984918, 6.956187615984918, 6.956187619057455, 246.82866309711054, 116.42433259007142, 59.03324397190207, 22.76374049877211, 47.252898151197456, 277.0585372755664, 14.025890904922502, 26.470767862969737, 32.02047698535652, 23.845208682344193, 38.29898297694709, 173.1348752863856, 156.39528537979595, 14.084331257026268, 88.00912142118239, 61.26921062972816, 53.980363675561996, 466.3859366855059, 75.42738479982361, 70.26087526434321, 711.339054044339, 68.22541378783397, 69.57312785684772, 224.7039988453198, 81.57348499492399, 1060.641457051253, 232.5776579655968, 226.2748942115555, 315.7936849584179, 435.2354364708662, 2186.780099178206, 907.2158809997477, 452.0853940550522, 644.0427548853592, 5185.50060767372, 1751.1698869202792, 1903.077947896372, 1860.999455805254, 815.4526019033628, 2226.9597646322604, 1805.9441321510153, 728.2453352839432, 1609.6218721228165, 2057.1319229926266, 2748.670542102276, 20.447994390263613, 17.788159320174643, 17.78815931690047, 16.01493592882999, 15.128324337089529, 31.139775480949197, 33.82409595488173, 30.287830957938603, 14.241712547165285, 14.241712555542339, 12.468489155994648, 12.468489143625689, 11.581877460310494, 10.695265767656164, 10.695265774583044, 10.695265774389224, 10.695337454502544, 16.93787342942294, 9.808654075278502, 9.808654083592138, 9.808654087881317, 9.81058798799084, 8.922042385332139, 8.921512633375652, 137.87187026508386, 18.738703415398536, 16.02882838292184, 8.035430699930092, 8.03543070526403, 8.035430715097636, 297.7772617971784, 24.196490545095074, 70.75033564042636, 15.116922834381809, 40.28630817345537, 37.595296712709214, 13.3939880954326, 17.03657103699322, 24.220157979121957, 40.57686649685631, 37.74146056646485, 43.68649473952102, 18.83936799915367, 207.45379124047645, 43.3441899506911, 74.11420632617356, 54.28333529433589, 94.02724944044493, 33.067129087307634, 42.78736821562441, 79.40900671520572, 398.09589927925987, 78.37293329007704, 122.8366823125042, 282.7344299501061, 90.55112852605811, 84.38480018288796, 112.40370337985553, 107.99512408621098, 183.67455765626963, 47.850271398493646, 102.84665338998408, 414.6912177990234, 408.0745681980267, 176.54720623938664, 131.2548744884047, 207.98023469467435, 162.52446856969073, 810.2987886764502, 480.62570888439257, 3522.5603351794107, 1946.458670263698, 730.1505769957008, 4719.474627363549, 1029.8652538754852, 737.7768241160536], \"Category\": [\"Default\", \"Default\", \"Default\", \"Default\", \"Default\", \"Default\", \"Default\", \"Default\", \"Default\", \"Default\", \"Default\", \"Default\", \"Default\", \"Default\", \"Default\", \"Default\", \"Default\", \"Default\", \"Default\", \"Default\", \"Default\", \"Default\", \"Default\", \"Default\", \"Default\", \"Default\", \"Default\", \"Default\", \"Default\", \"Default\", \"Topic1\", \"Topic1\", \"Topic1\", \"Topic1\", \"Topic1\", \"Topic1\", \"Topic1\", \"Topic1\", \"Topic1\", \"Topic1\", \"Topic1\", \"Topic1\", \"Topic1\", \"Topic1\", \"Topic1\", \"Topic1\", \"Topic1\", \"Topic1\", \"Topic1\", \"Topic1\", \"Topic1\", \"Topic1\", \"Topic1\", \"Topic1\", \"Topic1\", \"Topic1\", \"Topic1\", \"Topic1\", \"Topic1\", \"Topic1\", \"Topic1\", \"Topic1\", \"Topic1\", \"Topic1\", \"Topic1\", \"Topic1\", \"Topic1\", \"Topic1\", \"Topic1\", \"Topic1\", \"Topic1\", \"Topic1\", \"Topic1\", \"Topic1\", \"Topic1\", \"Topic1\", \"Topic1\", \"Topic1\", \"Topic1\", \"Topic1\", \"Topic1\", \"Topic1\", \"Topic1\", \"Topic1\", \"Topic1\", \"Topic1\", \"Topic1\", \"Topic1\", \"Topic1\", \"Topic1\", \"Topic1\", \"Topic1\", \"Topic1\", \"Topic1\", \"Topic1\", \"Topic1\", \"Topic1\", \"Topic1\", \"Topic1\", \"Topic1\", \"Topic1\", \"Topic1\", \"Topic1\", \"Topic1\", \"Topic1\", \"Topic1\", \"Topic1\", \"Topic1\", \"Topic1\", \"Topic1\", \"Topic1\", \"Topic1\", \"Topic1\", \"Topic1\", \"Topic1\", \"Topic1\", \"Topic1\", \"Topic2\", \"Topic2\", \"Topic2\", \"Topic2\", \"Topic2\", \"Topic2\", \"Topic2\", \"Topic2\", \"Topic2\", \"Topic2\", \"Topic2\", \"Topic2\", \"Topic2\", \"Topic2\", \"Topic2\", \"Topic2\", \"Topic2\", \"Topic2\", \"Topic2\", \"Topic2\", \"Topic2\", \"Topic2\", \"Topic2\", \"Topic2\", \"Topic2\", \"Topic2\", \"Topic2\", \"Topic2\", \"Topic2\", \"Topic2\", \"Topic2\", \"Topic2\", \"Topic2\", \"Topic2\", \"Topic2\", \"Topic2\", \"Topic2\", \"Topic2\", \"Topic2\", \"Topic2\", \"Topic2\", \"Topic2\", \"Topic2\", \"Topic2\", \"Topic2\", \"Topic2\", \"Topic2\", \"Topic2\", \"Topic2\", \"Topic2\", \"Topic2\", \"Topic2\", \"Topic2\", \"Topic2\", \"Topic2\", \"Topic2\", \"Topic2\", \"Topic2\", \"Topic2\", \"Topic2\", \"Topic2\", \"Topic2\", \"Topic2\", \"Topic2\", \"Topic2\", \"Topic2\", \"Topic2\", \"Topic2\", \"Topic2\", \"Topic2\", \"Topic2\", \"Topic2\", \"Topic2\", \"Topic2\", \"Topic2\", \"Topic2\", \"Topic3\", \"Topic3\", \"Topic3\", \"Topic3\", \"Topic3\", \"Topic3\", \"Topic3\", \"Topic3\", \"Topic3\", \"Topic3\", \"Topic3\", \"Topic3\", \"Topic3\", \"Topic3\", \"Topic3\", \"Topic3\", \"Topic3\", \"Topic3\", \"Topic3\", \"Topic3\", \"Topic3\", \"Topic3\", \"Topic3\", \"Topic3\", \"Topic3\", \"Topic3\", \"Topic3\", \"Topic3\", \"Topic3\", \"Topic3\", \"Topic3\", \"Topic3\", \"Topic3\", \"Topic3\", \"Topic3\", \"Topic3\", \"Topic3\", \"Topic3\", \"Topic3\", \"Topic3\", \"Topic3\", \"Topic3\", \"Topic3\", \"Topic3\", \"Topic3\", \"Topic3\", \"Topic3\", \"Topic3\", \"Topic3\", \"Topic3\", \"Topic3\", \"Topic3\", \"Topic3\", \"Topic3\", \"Topic3\", \"Topic3\", \"Topic3\", \"Topic3\", \"Topic3\", \"Topic3\", \"Topic3\", \"Topic3\", \"Topic3\", \"Topic3\", \"Topic3\", \"Topic3\", \"Topic3\", \"Topic3\", \"Topic3\", \"Topic3\", \"Topic3\", \"Topic3\", \"Topic3\", \"Topic3\", \"Topic3\", \"Topic3\", \"Topic3\", \"Topic3\", \"Topic3\", \"Topic4\", \"Topic4\", \"Topic4\", \"Topic4\", \"Topic4\", \"Topic4\", \"Topic4\", \"Topic4\", \"Topic4\", \"Topic4\", \"Topic4\", \"Topic4\", \"Topic4\", \"Topic4\", \"Topic4\", \"Topic4\", \"Topic4\", \"Topic4\", \"Topic4\", \"Topic4\", \"Topic4\", \"Topic4\", \"Topic4\", \"Topic4\", \"Topic4\", \"Topic4\", \"Topic4\", \"Topic4\", \"Topic4\", \"Topic4\", \"Topic4\", \"Topic4\", \"Topic4\", \"Topic4\", \"Topic4\", \"Topic4\", \"Topic4\", \"Topic4\", \"Topic4\", \"Topic4\", \"Topic4\", \"Topic4\", \"Topic4\", \"Topic4\", \"Topic4\", \"Topic4\", \"Topic4\", \"Topic4\", \"Topic4\", \"Topic4\", \"Topic4\", \"Topic4\", \"Topic4\", \"Topic4\", \"Topic4\", \"Topic4\", \"Topic4\", \"Topic4\", \"Topic4\", \"Topic4\", \"Topic4\", \"Topic4\", \"Topic4\", \"Topic4\", \"Topic4\", \"Topic4\", \"Topic4\", \"Topic4\", \"Topic4\", \"Topic4\", \"Topic4\", \"Topic4\", \"Topic4\", \"Topic4\", \"Topic4\", \"Topic4\", \"Topic4\", \"Topic4\", \"Topic4\", \"Topic4\", \"Topic4\", \"Topic4\", \"Topic5\", \"Topic5\", \"Topic5\", \"Topic5\", \"Topic5\", \"Topic5\", \"Topic5\", \"Topic5\", \"Topic5\", \"Topic5\", \"Topic5\", \"Topic5\", \"Topic5\", \"Topic5\", \"Topic5\", \"Topic5\", \"Topic5\", \"Topic5\", \"Topic5\", \"Topic5\", \"Topic5\", \"Topic5\", \"Topic5\", \"Topic5\", \"Topic5\", \"Topic5\", \"Topic5\", \"Topic5\", \"Topic5\", \"Topic5\", \"Topic5\", \"Topic5\", \"Topic5\", \"Topic5\", \"Topic5\", \"Topic5\", \"Topic5\", \"Topic5\", \"Topic5\", \"Topic5\", \"Topic5\", \"Topic5\", \"Topic5\", \"Topic5\", \"Topic5\", \"Topic5\", \"Topic5\", \"Topic5\", \"Topic5\", \"Topic5\", \"Topic5\", \"Topic5\", \"Topic5\", \"Topic5\", \"Topic5\", \"Topic5\", \"Topic5\", \"Topic5\", \"Topic5\", \"Topic5\", \"Topic5\", \"Topic5\", \"Topic5\", \"Topic5\", \"Topic5\", \"Topic5\", \"Topic5\", \"Topic5\", \"Topic5\", \"Topic5\", \"Topic5\", \"Topic5\", \"Topic5\", \"Topic5\", \"Topic5\", \"Topic6\", \"Topic6\", \"Topic6\", \"Topic6\", \"Topic6\", \"Topic6\", \"Topic6\", \"Topic6\", \"Topic6\", \"Topic6\", \"Topic6\", \"Topic6\", \"Topic6\", \"Topic6\", \"Topic6\", \"Topic6\", \"Topic6\", \"Topic6\", \"Topic6\", \"Topic6\", \"Topic6\", \"Topic6\", \"Topic6\", \"Topic6\", \"Topic6\", \"Topic6\", \"Topic6\", \"Topic6\", \"Topic6\", \"Topic6\", \"Topic6\", \"Topic6\", \"Topic6\", \"Topic6\", \"Topic6\", \"Topic6\", \"Topic6\", \"Topic6\", \"Topic6\", \"Topic6\", \"Topic6\", \"Topic6\", \"Topic6\", \"Topic6\", \"Topic6\", \"Topic6\", \"Topic6\", \"Topic6\", \"Topic6\", \"Topic6\", \"Topic6\", \"Topic6\", \"Topic6\", \"Topic6\", \"Topic6\", \"Topic6\", \"Topic6\", \"Topic6\", \"Topic6\", \"Topic6\", \"Topic6\", \"Topic6\", \"Topic6\", \"Topic6\", \"Topic6\", \"Topic6\", \"Topic6\", \"Topic6\", \"Topic6\", \"Topic6\", \"Topic6\", \"Topic6\", \"Topic6\", \"Topic6\", \"Topic6\", \"Topic6\", \"Topic6\", \"Topic7\", \"Topic7\", \"Topic7\", \"Topic7\", \"Topic7\", \"Topic7\", \"Topic7\", \"Topic7\", \"Topic7\", \"Topic7\", \"Topic7\", \"Topic7\", \"Topic7\", \"Topic7\", \"Topic7\", \"Topic7\", \"Topic7\", \"Topic7\", \"Topic7\", \"Topic7\", \"Topic7\", \"Topic7\", \"Topic7\", \"Topic7\", \"Topic7\", \"Topic7\", \"Topic7\", \"Topic7\", \"Topic7\", \"Topic7\", \"Topic7\", \"Topic7\", \"Topic7\", \"Topic7\", \"Topic7\", \"Topic7\", \"Topic7\", \"Topic7\", \"Topic7\", \"Topic7\", \"Topic7\", \"Topic7\", \"Topic7\", \"Topic7\", \"Topic7\", \"Topic7\", \"Topic7\", \"Topic7\", \"Topic7\", \"Topic7\", \"Topic7\", \"Topic7\", \"Topic7\", \"Topic7\", \"Topic7\", \"Topic7\", \"Topic7\", \"Topic7\", \"Topic7\", \"Topic7\", \"Topic7\", \"Topic7\", \"Topic7\", \"Topic7\", \"Topic7\", \"Topic7\", \"Topic7\", \"Topic7\", \"Topic7\", \"Topic7\", \"Topic7\", \"Topic7\", \"Topic7\", \"Topic7\", \"Topic7\", \"Topic7\", \"Topic7\", \"Topic8\", \"Topic8\", \"Topic8\", \"Topic8\", \"Topic8\", \"Topic8\", \"Topic8\", \"Topic8\", \"Topic8\", \"Topic8\", \"Topic8\", \"Topic8\", \"Topic8\", \"Topic8\", \"Topic8\", \"Topic8\", \"Topic8\", \"Topic8\", \"Topic8\", \"Topic8\", \"Topic8\", \"Topic8\", \"Topic8\", \"Topic8\", \"Topic8\", \"Topic8\", \"Topic8\", \"Topic8\", \"Topic8\", \"Topic8\", \"Topic8\", \"Topic8\", \"Topic8\", \"Topic8\", \"Topic8\", \"Topic8\", \"Topic8\", \"Topic8\", \"Topic8\", \"Topic8\", \"Topic8\", \"Topic8\", \"Topic8\", \"Topic8\", \"Topic8\", \"Topic8\", \"Topic8\", \"Topic8\", \"Topic8\", \"Topic8\", \"Topic8\", \"Topic8\", \"Topic8\", \"Topic8\", \"Topic8\", \"Topic8\", \"Topic8\", \"Topic8\", \"Topic8\", \"Topic8\", \"Topic8\", \"Topic8\", \"Topic8\", \"Topic8\", \"Topic8\", \"Topic8\", \"Topic8\", \"Topic8\", \"Topic8\", \"Topic8\", \"Topic8\", \"Topic8\", \"Topic8\", \"Topic8\", \"Topic8\", \"Topic9\", \"Topic9\", \"Topic9\", \"Topic9\", \"Topic9\", \"Topic9\", \"Topic9\", \"Topic9\", \"Topic9\", \"Topic9\", \"Topic9\", \"Topic9\", \"Topic9\", \"Topic9\", \"Topic9\", \"Topic9\", \"Topic9\", \"Topic9\", \"Topic9\", \"Topic9\", \"Topic9\", \"Topic9\", \"Topic9\", \"Topic9\", \"Topic9\", \"Topic9\", \"Topic9\", \"Topic9\", \"Topic9\", \"Topic9\", \"Topic9\", \"Topic9\", \"Topic9\", \"Topic9\", \"Topic9\", \"Topic9\", \"Topic9\", \"Topic9\", \"Topic9\", \"Topic9\", \"Topic9\", \"Topic9\", \"Topic9\", \"Topic9\", \"Topic9\", \"Topic9\", \"Topic9\", \"Topic9\", \"Topic9\", \"Topic9\", \"Topic9\", \"Topic9\", \"Topic9\", \"Topic9\", \"Topic9\", \"Topic9\", \"Topic9\", \"Topic9\", \"Topic9\", \"Topic9\", \"Topic9\", \"Topic9\", \"Topic9\", \"Topic9\", \"Topic9\", \"Topic9\", \"Topic9\", \"Topic9\", \"Topic9\", \"Topic9\", \"Topic9\", \"Topic9\", \"Topic9\", \"Topic9\", \"Topic9\", \"Topic9\", \"Topic9\", \"Topic9\", \"Topic9\", \"Topic9\", \"Topic9\", \"Topic9\", \"Topic9\", \"Topic9\", \"Topic10\", \"Topic10\", \"Topic10\", \"Topic10\", \"Topic10\", \"Topic10\", \"Topic10\", \"Topic10\", \"Topic10\", \"Topic10\", \"Topic10\", \"Topic10\", \"Topic10\", \"Topic10\", \"Topic10\", \"Topic10\", \"Topic10\", \"Topic10\", \"Topic10\", \"Topic10\", \"Topic10\", \"Topic10\", \"Topic10\", \"Topic10\", \"Topic10\", \"Topic10\", \"Topic10\", \"Topic10\", \"Topic10\", \"Topic10\", \"Topic10\", \"Topic10\", \"Topic10\", \"Topic10\", \"Topic10\", \"Topic10\", \"Topic10\", \"Topic10\", \"Topic10\", \"Topic10\", \"Topic10\", \"Topic10\", \"Topic10\", \"Topic10\", \"Topic10\", \"Topic10\", \"Topic10\", \"Topic10\", \"Topic10\", \"Topic10\", \"Topic10\", \"Topic10\", \"Topic10\", \"Topic10\", \"Topic10\", \"Topic10\", \"Topic10\", \"Topic10\", \"Topic10\", \"Topic10\", \"Topic10\", \"Topic10\", \"Topic10\", \"Topic10\", \"Topic10\", \"Topic10\", \"Topic10\", \"Topic10\", \"Topic10\", \"Topic10\", \"Topic10\", \"Topic10\", \"Topic10\", \"Topic10\", \"Topic11\", \"Topic11\", \"Topic11\", \"Topic11\", \"Topic11\", \"Topic11\", \"Topic11\", \"Topic11\", \"Topic11\", \"Topic11\", \"Topic11\", \"Topic11\", \"Topic11\", \"Topic11\", \"Topic11\", \"Topic11\", \"Topic11\", \"Topic11\", \"Topic11\", \"Topic11\", \"Topic11\", \"Topic11\", \"Topic11\", \"Topic11\", \"Topic11\", \"Topic11\", \"Topic11\", \"Topic11\", \"Topic11\", \"Topic11\", \"Topic11\", \"Topic11\", \"Topic11\", \"Topic11\", \"Topic11\", \"Topic11\", \"Topic11\", \"Topic11\", \"Topic11\", \"Topic11\", \"Topic11\", \"Topic11\", \"Topic11\", \"Topic11\", \"Topic11\", \"Topic11\", \"Topic11\", \"Topic11\", \"Topic11\", \"Topic11\", \"Topic11\", \"Topic11\", \"Topic11\", \"Topic11\", \"Topic11\", \"Topic11\", \"Topic11\", \"Topic11\", \"Topic11\", \"Topic11\", \"Topic11\", \"Topic11\", \"Topic11\", \"Topic11\", \"Topic11\", \"Topic11\", \"Topic11\", \"Topic11\", \"Topic11\", \"Topic11\", \"Topic11\", \"Topic11\", \"Topic11\", \"Topic11\", \"Topic11\", \"Topic11\", \"Topic11\", \"Topic12\", \"Topic12\", \"Topic12\", \"Topic12\", \"Topic12\", \"Topic12\", \"Topic12\", \"Topic12\", \"Topic12\", \"Topic12\", \"Topic12\", \"Topic12\", \"Topic12\", \"Topic12\", \"Topic12\", \"Topic12\", \"Topic12\", \"Topic12\", \"Topic12\", \"Topic12\", \"Topic12\", \"Topic12\", \"Topic12\", \"Topic12\", \"Topic12\", \"Topic12\", \"Topic12\", \"Topic12\", \"Topic12\", \"Topic12\", \"Topic12\", \"Topic12\", \"Topic12\", \"Topic12\", \"Topic12\", \"Topic12\", \"Topic12\", \"Topic12\", \"Topic12\", \"Topic12\", \"Topic12\", \"Topic12\", \"Topic12\", \"Topic12\", \"Topic12\", \"Topic12\", \"Topic12\", \"Topic12\", \"Topic12\", \"Topic12\", \"Topic12\", \"Topic12\", \"Topic12\", \"Topic12\", \"Topic12\", \"Topic12\", \"Topic12\", \"Topic12\", \"Topic12\", \"Topic12\", \"Topic12\", \"Topic12\", \"Topic12\", \"Topic12\", \"Topic12\", \"Topic12\", \"Topic12\", \"Topic12\", \"Topic12\", \"Topic12\", \"Topic12\", \"Topic12\", \"Topic12\", \"Topic12\", \"Topic12\", \"Topic13\", \"Topic13\", \"Topic13\", \"Topic13\", \"Topic13\", \"Topic13\", \"Topic13\", \"Topic13\", \"Topic13\", \"Topic13\", \"Topic13\", \"Topic13\", \"Topic13\", \"Topic13\", \"Topic13\", \"Topic13\", \"Topic13\", \"Topic13\", \"Topic13\", \"Topic13\", \"Topic13\", \"Topic13\", \"Topic13\", \"Topic13\", \"Topic13\", \"Topic13\", \"Topic13\", \"Topic13\", \"Topic13\", \"Topic13\", \"Topic13\", \"Topic13\", \"Topic13\", \"Topic13\", \"Topic13\", \"Topic13\", \"Topic13\", \"Topic13\", \"Topic13\", \"Topic13\", \"Topic13\", \"Topic13\", \"Topic13\", \"Topic13\", \"Topic13\", \"Topic13\", \"Topic13\", \"Topic13\", \"Topic13\", \"Topic13\", \"Topic13\", \"Topic13\", \"Topic13\", \"Topic13\", \"Topic13\", \"Topic13\", \"Topic13\", \"Topic13\", \"Topic13\", \"Topic13\", \"Topic13\", \"Topic13\", \"Topic13\", \"Topic13\", \"Topic13\", \"Topic13\", \"Topic13\", \"Topic13\", \"Topic13\", \"Topic13\", \"Topic13\", \"Topic13\", \"Topic14\", \"Topic14\", \"Topic14\", \"Topic14\", \"Topic14\", \"Topic14\", \"Topic14\", \"Topic14\", \"Topic14\", \"Topic14\", \"Topic14\", \"Topic14\", \"Topic14\", \"Topic14\", \"Topic14\", \"Topic14\", \"Topic14\", \"Topic14\", \"Topic14\", \"Topic14\", \"Topic14\", \"Topic14\", \"Topic14\", \"Topic14\", \"Topic14\", \"Topic14\", \"Topic14\", \"Topic14\", \"Topic14\", \"Topic14\", \"Topic14\", \"Topic14\", \"Topic14\", \"Topic14\", \"Topic14\", \"Topic14\", \"Topic14\", \"Topic14\", \"Topic14\", \"Topic14\", \"Topic14\", \"Topic14\", \"Topic14\", \"Topic14\", \"Topic14\", \"Topic14\", \"Topic14\", \"Topic14\", \"Topic14\", \"Topic14\", \"Topic14\", \"Topic14\", \"Topic14\", \"Topic14\", \"Topic14\", \"Topic14\", \"Topic14\", \"Topic14\", \"Topic14\", \"Topic14\", \"Topic14\", \"Topic14\", \"Topic14\", \"Topic14\", \"Topic14\", \"Topic14\", \"Topic14\", \"Topic14\", \"Topic14\", \"Topic14\", \"Topic14\", \"Topic14\", \"Topic14\", \"Topic14\", \"Topic14\", \"Topic15\", \"Topic15\", \"Topic15\", \"Topic15\", \"Topic15\", \"Topic15\", \"Topic15\", \"Topic15\", \"Topic15\", \"Topic15\", \"Topic15\", \"Topic15\", \"Topic15\", \"Topic15\", \"Topic15\", \"Topic15\", \"Topic15\", \"Topic15\", \"Topic15\", \"Topic15\", \"Topic15\", \"Topic15\", \"Topic15\", \"Topic15\", \"Topic15\", \"Topic15\", \"Topic15\", \"Topic15\", \"Topic15\", \"Topic15\", \"Topic15\", \"Topic15\", \"Topic15\", \"Topic15\", \"Topic15\", \"Topic15\", \"Topic15\", \"Topic15\", \"Topic15\", \"Topic15\", \"Topic15\", \"Topic15\", \"Topic15\", \"Topic15\", \"Topic15\", \"Topic15\", \"Topic15\", \"Topic15\", \"Topic15\", \"Topic15\", \"Topic15\", \"Topic15\", \"Topic15\", \"Topic15\", \"Topic15\", \"Topic15\", \"Topic15\", \"Topic15\", \"Topic15\", \"Topic15\", \"Topic15\", \"Topic15\", \"Topic15\", \"Topic15\", \"Topic15\", \"Topic15\", \"Topic15\", \"Topic15\", \"Topic15\", \"Topic15\", \"Topic15\", \"Topic15\", \"Topic15\", \"Topic15\", \"Topic15\", \"Topic15\"], \"logprob\": [30.0, 29.0, 28.0, 27.0, 26.0, 25.0, 24.0, 23.0, 22.0, 21.0, 20.0, 19.0, 18.0, 17.0, 16.0, 15.0, 14.0, 13.0, 12.0, 11.0, 10.0, 9.0, 8.0, 7.0, 6.0, 5.0, 4.0, 3.0, 2.0, 1.0, -7.2557, -7.2965, -7.5126, -7.9352, -8.0756, -8.138, -8.1707, -8.2045, -8.2395, -8.3526, -8.249, -8.5264, -8.5756, -8.6262, -7.5114, -8.68, -7.9887, -8.737, -8.737, -8.5384, -7.1762, -8.7973, -8.7973, -8.7973, -8.7973, -7.9948, -8.8616, -8.8616, -8.8616, -8.8616, -8.2403, -8.2786, -6.5934, -5.4323, -6.2757, -4.7124, -6.6372, -7.5097, -4.7866, -8.0049, -5.7778, -6.8497, -6.2621, -5.3646, -5.0885, -7.0972, -7.4392, -5.4158, -5.493, -6.5774, -6.1209, -5.3908, -4.7956, -7.2899, -7.064, -5.8811, -7.274, -5.5614, -6.2867, -5.3469, -5.7784, -5.3296, -5.7357, -4.5262, -4.8153, -5.6815, -5.8235, -4.9082, -5.8622, -5.1952, -5.7168, -4.3741, -5.0956, -5.5325, -5.7118, -5.2948, -5.6679, -5.4495, -5.0603, -5.3217, -5.3594, -5.3197, -5.3289, -5.3531, -5.6531, -5.4398, -5.5854, -5.7218, -5.2825, -6.8201, -7.084, -7.1945, -7.4109, -7.4285, -7.646, -7.7999, -7.7999, -7.9538, -7.9819, -8.1357, -8.1357, -7.0944, -8.2046, -8.2046, -8.2408, -8.2408, -8.2408, -8.3176, -8.3176, -8.3205, -8.4008, -8.4451, -8.4451, -8.4451, -8.5401, -8.5401, -8.5912, -4.0051, -5.3409, -7.9548, -5.6608, -7.7536, -3.8079, -5.9242, -4.9144, -6.9787, -4.923, -5.5612, -7.6354, -6.3674, -6.7032, -7.7589, -5.9832, -6.25, -4.9075, -5.558, -4.8779, -4.2392, -5.8186, -6.3382, -6.1678, -6.5038, -4.7941, -4.6636, -5.309, -5.0024, -6.1467, -4.2955, -6.167, -5.8373, -6.103, -5.5269, -4.9503, -5.4284, -5.7081, -5.5442, -5.3703, -5.5125, -5.5035, -5.5143, -5.6465, -5.6165, -5.5387, -4.6939, -6.13, -6.49, -6.5256, -7.3579, -7.5602, -7.6678, -7.814, -7.868, -5.5621, -8.3593, -7.763, -7.6343, -8.0402, -8.6162, -8.6766, -8.7409, -8.7409, -8.7409, -8.7409, -8.8095, -8.8833, -8.8833, -8.8833, -6.7176, -8.9629, -8.9629, -8.9629, -8.9629, -8.8902, -5.0747, -6.3668, -7.6884, -8.5337, -7.8732, -4.8813, -6.0603, -5.6557, -8.0156, -6.41, -6.298, -6.3054, -7.4938, -7.7724, -5.5286, -6.9149, -3.9434, -6.7738, -4.9585, -7.1622, -6.2534, -5.825, -4.3791, -4.7029, -6.7386, -5.4916, -5.487, -5.8052, -5.0614, -4.0276, -5.2956, -5.7159, -4.6872, -5.4765, -4.3749, -5.8152, -4.9554, -5.7901, -5.256, -5.6419, -5.2902, -5.4901, -5.5246, -5.7024, -5.5948, -5.5387, -5.6266, -5.667, -5.5936, -7.5604, -8.0248, -8.3241, -8.3752, -8.3752, -8.3752, -8.3277, -8.16, -8.5464, -8.7531, -8.7531, -8.8327, -8.8327, -8.8327, -8.9192, -8.9192, -9.0139, -9.0139, -9.0143, -8.2754, -9.1185, -9.1185, -9.1185, -9.1185, -9.2354, -9.2354, -9.2354, -9.2354, -9.2354, -9.2354, -7.53, -6.4391, -7.2296, -6.7894, -6.9568, -5.7966, -5.2378, -6.2599, -6.0111, -3.8463, -7.9242, -4.0904, -6.018, -7.1258, -8.2343, -5.4154, -3.8642, -4.6938, -5.8117, -5.597, -4.6098, -5.8751, -6.3085, -5.6435, -5.244, -7.333, -5.2737, -5.9416, -5.3641, -4.6137, -4.9255, -6.2949, -5.1, -4.788, -4.8536, -5.8954, -5.7381, -5.8852, -5.2016, -5.3101, -5.2787, -5.2738, -5.4685, -5.4964, -5.6276, -5.5266, -5.577, -5.5732, -5.586, -5.6475, -5.7296, -5.7279, -5.5178, -6.1539, -6.584, -6.793, -6.8652, -6.9845, -7.1526, -6.3747, -7.3549, -7.3965, -7.421, -6.4504, -7.1286, -7.7209, -7.2162, -7.8785, -6.4289, -7.9874, -7.9874, -7.7874, -8.0265, -8.0265, -8.0265, -7.2774, -8.0673, -8.0673, -8.1097, -8.154, -8.249, -8.249, -7.533, -3.5588, -6.8336, -4.9939, -6.4244, -5.8534, -6.0774, -6.3159, -6.3979, -5.4207, -6.9185, -6.2375, -4.7129, -4.6135, -5.489, -5.1191, -5.6473, -5.7049, -5.5431, -6.5561, -4.9633, -5.458, -4.3323, -5.9721, -4.0684, -3.8581, -4.5003, -5.6899, -4.7463, -5.2096, -5.0258, -4.9447, -5.458, -5.6672, -5.4765, -4.5051, -5.3399, -5.3692, -5.112, -4.9974, -5.3866, -5.0694, -5.336, -5.3807, -5.4721, -7.0835, -6.325, -7.2085, -7.3773, -7.5805, -7.7186, -7.8358, -7.8783, -7.8784, -7.0323, -8.0687, -7.7329, -7.3523, -8.1226, -8.1226, -8.1795, -8.2399, -7.2252, -8.3042, -8.3728, -8.3728, -5.1269, -8.4466, -8.4466, -8.5262, -3.6448, -8.6127, -8.6127, -7.1301, -7.7394, -6.0717, -7.2801, -7.2176, -6.9829, -4.6643, -7.2121, -6.5409, -6.377, -5.1095, -7.9255, -6.4528, -6.036, -7.3136, -5.1137, -5.7092, -6.303, -5.0603, -4.5536, -4.4506, -5.16, -6.1757, -5.9659, -5.2475, -5.0232, -4.9672, -5.6071, -4.7211, -6.0026, -6.1024, -6.3499, -5.8927, -5.2817, -5.9864, -5.3626, -5.5797, -5.5031, -5.7927, -5.5414, -5.7423, -5.6025, -5.8051, -5.6482, -5.5432, -5.8092, -5.7726, -5.8556, -5.8658, -7.0138, -7.3076, -7.7661, -8.0528, -8.0528, -8.0528, -7.5308, -8.1098, -8.1702, -8.1702, -8.1702, -8.1702, -8.2344, -7.0173, -6.0812, -8.3768, -8.3768, -8.3768, -8.4564, -6.8343, -8.543, -8.543, -8.6377, -8.6377, -8.6377, -4.769, -8.7423, -8.7423, -8.7423, -8.7423, -6.6697, -6.8046, -7.8582, -5.7278, -5.2114, -6.35, -5.6891, -6.7574, -7.3551, -5.9077, -5.2332, -7.1406, -7.3984, -4.0828, -5.7076, -5.2252, -7.6363, -7.6637, -4.6472, -4.4305, -5.9125, -5.3512, -5.6257, -6.3629, -5.8996, -5.0264, -5.3671, -4.3912, -4.7898, -6.3184, -4.5929, -5.4966, -5.6211, -5.1125, -5.4469, -5.1708, -5.5465, -5.1058, -5.5584, -5.4015, -5.3591, -5.452, -5.4788, -5.6071, -5.5839, -5.6629, -5.6753, -6.4901, -6.6781, -6.768, -7.7405, -7.7405, -7.9024, -8.0271, -7.0879, -8.0957, -7.8163, -8.2491, -8.2491, -8.2491, -8.2491, -8.3356, -8.3356, -8.3356, -8.3356, -8.3356, -7.8829, -8.4303, -8.4303, -8.5349, -8.5349, -8.5349, -8.5349, -8.5349, -7.1823, -7.9024, -8.6518, -7.0202, -5.0119, -7.403, -5.3918, -7.1775, -2.9075, -5.3482, -4.1876, -4.2616, -5.6358, -6.9493, -5.1724, -6.0537, -5.0062, -6.6429, -6.215, -6.6951, -5.0146, -5.3059, -6.0962, -4.9863, -5.4536, -5.9005, -5.4522, -4.8818, -5.8079, -5.5883, -6.219, -5.909, -5.1084, -5.5885, -5.1459, -5.0581, -5.2916, -5.4458, -5.0018, -4.9738, -5.5402, -5.4546, -5.5328, -5.2976, -5.3725, -5.4811, -5.4958, -5.5531, -6.6158, -7.2614, -7.4993, -7.6659, -7.7123, -7.7609, -7.7609, -7.8659, -7.8659, -7.9228, -7.9228, -7.9832, -7.9832, -8.0475, -8.0475, -8.1161, -8.1161, -8.1161, -8.1899, -8.2695, -8.2695, -8.356, -8.4507, -8.4507, -7.7151, -8.5554, -8.5554, -8.5554, -8.5554, -8.5554, -7.8143, -7.8802, -6.393, -8.1161, -7.1268, -6.1546, -5.9462, -7.812, -6.7345, -7.7373, -6.617, -5.4412, -5.6031, -7.0183, -4.6819, -6.527, -5.8709, -7.2585, -5.3699, -6.4019, -7.0011, -7.6659, -6.3508, -4.6988, -6.3911, -6.7249, -5.8905, -6.2282, -5.1531, -5.2246, -5.7758, -6.4156, -5.7989, -6.5139, -5.1714, -5.4983, -5.8978, -5.6337, -5.9261, -5.5912, -6.0246, -5.4132, -5.5146, -5.7258, -5.7615, -5.9463, -5.9686, -6.1035, -5.7912, -5.908, -5.8304, -5.7871, -5.947, -5.9784, -6.2552, -6.6433, -6.8354, -6.8661, -6.9643, -6.9643, -7.1123, -7.2398, -7.2407, -7.3348, -7.3859, -7.4398, -7.4968, -7.5571, -7.7638, -7.8434, -7.1531, -7.9299, -7.9299, -7.1968, -8.0247, -8.0247, -7.337, -8.1293, -8.1293, -8.1293, -8.1293, -8.2461, -8.2461, -8.3785, -6.1443, -5.9781, -6.9993, -6.5593, -5.5027, -7.0799, -6.1649, -7.0356, -7.2136, -6.979, -4.7815, -4.2524, -5.5554, -5.3491, -5.656, -4.643, -4.6978, -4.3732, -4.6429, -6.3569, -5.2212, -6.4656, -6.5418, -5.8283, -6.2902, -5.7206, -5.0482, -5.2807, -5.3498, -5.8906, -5.2676, -5.0935, -5.8226, -5.6479, -5.3481, -5.6859, -6.0286, -5.5631, -5.732, -5.6212, -5.7159, -5.7078, -5.9375, -5.9436, -6.3588, -6.7636, -6.5922, -7.3373, -7.3373, -7.4547, -7.5189, -7.5189, -7.5876, -7.6613, -7.1373, -7.9222, -7.1858, -8.0268, -8.0268, -8.0268, -8.0268, -8.0268, -8.0268, -8.1437, -8.1437, -8.1437, -8.1437, -6.2641, -7.5189, -6.3457, -8.276, -8.276, -8.276, -7.138, -3.4799, -7.3614, -6.3811, -3.7676, -6.3843, -7.4547, -6.4922, -6.1687, -6.2086, -7.6153, -6.2694, -4.258, -5.5114, -6.7636, -5.9078, -5.4778, -6.1877, -5.3241, -6.4461, -6.4843, -4.3155, -5.4209, -6.7092, -4.8012, -5.8136, -4.2511, -4.9308, -5.3073, -5.4913, -5.4034, -5.6452, -4.9321, -4.8652, -5.6996, -5.9865, -5.5387, -5.2485, -5.2572, -5.183, -5.4066, -5.6492, -5.5618, -5.4658, -5.6735, -5.6706, -5.7348, -5.6927, -2.9476, -4.7903, -6.5695, -6.7449, -6.9115, -6.9579, -7.0577, -7.0577, -7.1685, -7.1685, -7.1685, -7.2289, -7.2311, -7.4355, -7.6017, -7.6017, -7.6017, -7.6964, -7.6964, -6.1091, -7.801, -7.801, -7.801, -7.801, -6.932, -7.9179, -7.9179, -7.9179, -7.9179, -7.9179, -7.1692, -6.7841, -3.8696, -7.455, -6.8382, -5.2758, -6.8814, -7.0522, -5.0074, -6.3587, -5.1458, -5.961, -6.8061, -5.4852, -5.8848, -4.8868, -6.0742, -4.5436, -5.7014, -5.4055, -6.3807, -6.0735, -4.9794, -6.0109, -5.9109, -5.8987, -6.01, -5.0944, -5.3769, -5.3719, -5.0384, -5.2198, -5.2654, -5.2757, -5.3278, -5.616, -5.6993, -5.5369, -5.6338, -5.5132, -5.6504, -5.7659, -5.5983, -5.6613, -5.7025, -6.5028, -6.699, -6.7433, -6.7897, -6.8383, -7.1249, -7.1249, -7.1249, -7.1936, -7.2673, -7.3469, -7.3469, -7.4335, -7.4335, -7.7497, -7.7497, -7.7497, -7.882, -7.882, -7.882, -7.882, -7.882, -7.2673, -5.8663, -8.0346, -8.0346, -8.0346, -8.0346, -8.0346, -8.0346, -5.3974, -6.9433, -7.3475, -5.5882, -5.1228, -7.4335, -5.3861, -5.7131, -6.1024, -5.1456, -7.0716, -4.2828, -6.528, -7.1938, -5.3483, -5.8397, -5.4947, -5.2382, -5.9235, -5.9338, -4.9883, -4.4584, -5.5404, -4.4303, -4.5385, -4.7593, -5.3615, -5.2213, -6.1987, -5.1928, -4.5513, -5.2688, -5.3273, -5.6579, -5.1685, -5.6608, -5.4631, -5.1831, -5.5154, -5.5607, -5.671, -5.6558, -4.6227, -5.5469, -6.2251, -7.0337, -7.2404, -7.32, -7.32, -7.32, -7.4065, -7.5013, -7.5013, -7.5013, -6.9636, -7.6059, -7.6059, -7.6059, -7.6059, -7.7227, -7.7227, -7.7227, -7.7227, -7.7227, -7.7227, -7.7237, -6.9799, -7.628, -7.8551, -7.8551, -7.8551, -7.8551, -4.3691, -5.1023, -5.7811, -6.7164, -6.0303, -4.4071, -7.2032, -6.6592, -6.5187, -6.7727, -6.3764, -5.2173, -5.3337, -7.2557, -5.986, -6.2536, -6.3668, -4.994, -6.1619, -6.2112, -4.764, -6.2432, -6.2465, -5.6516, -6.2665, -5.0124, -5.7682, -5.8387, -5.7392, -5.6307, -5.0196, -5.378, -5.686, -5.6587, -5.144, -5.4322, -5.4874, -5.5256, -5.7085, -5.5467, -5.6217, -5.8039, -5.7136, -5.7603, -5.7449, -6.6457, -6.7918, -6.7918, -6.9026, -6.963, -6.2411, -6.1588, -6.272, -7.0273, -7.0273, -7.1697, -7.1697, -7.2493, -7.3358, -7.3358, -7.3358, -7.336, -6.8824, -7.4305, -7.4305, -7.4305, -7.4342, -7.5352, -7.5373, -4.7999, -6.8031, -6.9609, -7.652, -7.652, -7.652, -4.05, -6.5589, -5.5077, -7.0273, -6.0965, -6.1748, -7.1499, -6.9336, -6.6187, -6.2028, -6.2677, -6.1776, -6.8687, -4.9381, -6.2003, -5.7721, -6.0416, -5.6661, -6.4422, -6.261, -5.8149, -4.7102, -5.851, -5.5565, -5.0878, -5.8109, -5.9388, -5.7933, -5.8341, -5.6107, -6.2833, -5.9829, -5.4351, -5.5, -5.8228, -5.9209, -5.8035, -5.897, -5.6414, -5.7779, -5.7176, -5.8351, -5.9171, -5.8616, -5.9483, -5.9763], \"loglift\": [30.0, 29.0, 28.0, 27.0, 26.0, 25.0, 24.0, 23.0, 22.0, 21.0, 20.0, 19.0, 18.0, 17.0, 16.0, 15.0, 14.0, 13.0, 12.0, 11.0, 10.0, 9.0, 8.0, 7.0, 6.0, 5.0, 4.0, 3.0, 2.0, 1.0, 1.9892, 1.9887, 1.9857, 1.9774, 1.9745, 1.9728, 1.9719, 1.9709, 1.9698, 1.9662, 1.9612, 1.9597, 1.9572, 1.9555, 1.9541, 1.9531, 1.9527, 1.9503, 1.9503, 1.9483, 1.9478, 1.9473, 1.9473, 1.9473, 1.9473, 1.9456, 1.9438, 1.9438, 1.9438, 1.9438, 1.9368, 1.9328, 1.8936, 1.8507, 1.8624, 1.7959, 1.8632, 1.8948, 1.7348, 1.9089, 1.7595, 1.8287, 1.7835, 1.7155, 1.672, 1.8401, 1.8654, 1.6721, 1.6637, 1.7632, 1.693, 1.5908, 1.4913, 1.8457, 1.8117, 1.6199, 1.8429, 1.5615, 1.6697, 1.5038, 1.5799, 1.4628, 1.4738, 1.1199, 1.1776, 1.4319, 1.4763, 1.1055, 1.446, 1.1855, 1.3619, 0.6906, 1.0395, 1.244, 1.3071, 0.9357, 1.2008, 0.9406, 0.415, 0.7444, 0.6462, 0.5369, 0.2026, 0.2652, 1.166, 0.2238, 0.8332, 2.0498, 2.0496, 2.0444, 2.042, 2.0408, 2.038, 2.0364, 2.0342, 2.0312, 2.0312, 2.0278, 2.0271, 2.0229, 2.0229, 2.021, 2.0208, 2.0208, 2.0197, 2.0197, 2.0197, 2.0171, 2.0171, 2.0142, 2.014, 2.0124, 2.0124, 2.0124, 2.0085, 2.0085, 2.0062, 1.9811, 1.9834, 2.0003, 1.9335, 1.9932, 1.8587, 1.9292, 1.8833, 1.9632, 1.8758, 1.8816, 1.9858, 1.8831, 1.9028, 1.985, 1.8159, 1.8314, 1.6432, 1.7218, 1.6023, 1.4967, 1.7281, 1.7783, 1.7431, 1.7816, 1.3028, 1.2594, 1.3901, 1.178, 1.633, 0.7692, 1.5437, 1.2497, 1.3943, 0.7807, 0.061, 0.5772, 0.6819, 0.3574, -0.0322, 0.2546, 0.1425, -0.1163, 0.3447, 0.1887, -0.4332, 2.1333, 2.1322, 2.1303, 2.13, 2.1217, 2.1184, 2.1162, 2.1132, 2.1119, 2.1106, 2.0966, 2.0922, 2.0879, 2.0859, 2.0852, 2.082, 2.0785, 2.0785, 2.0785, 2.0785, 2.0745, 2.0699, 2.0699, 2.0699, 2.0697, 2.0646, 2.0646, 2.0646, 2.0646, 2.0637, 2.0493, 2.0464, 2.0559, 2.0627, 2.0552, 2.0057, 2.0215, 1.9887, 2.0512, 1.9959, 1.9864, 1.9645, 2.0229, 2.0326, 1.8625, 1.9415, 1.6109, 1.9207, 1.636, 1.9443, 1.7961, 1.7067, 1.3881, 1.3664, 1.8415, 1.5214, 1.5197, 1.5995, 1.3842, 1.0779, 1.3681, 1.5083, 0.9695, 1.2697, 0.6897, 1.4386, 0.437, 1.3393, 0.656, 1.1085, 0.4811, 0.5011, 0.4113, 0.8134, 0.3107, -0.0077, 0.3872, 0.5142, -0.1183, 2.2202, 2.2085, 2.1976, 2.1954, 2.1954, 2.1954, 2.194, 2.1873, 2.1873, 2.1755, 2.1755, 2.1703, 2.1703, 2.1703, 2.1642, 2.1642, 2.157, 2.157, 2.1566, 2.1555, 2.1482, 2.1482, 2.1482, 2.1482, 2.1374, 2.1374, 2.1374, 2.1374, 2.1374, 2.1374, 2.1279, 2.1105, 2.108, 2.0971, 2.0373, 1.9354, 1.864, 1.9282, 1.8831, 1.6847, 2.038, 1.5664, 1.7992, 1.873, 2.0453, 1.5449, 1.2413, 1.3755, 1.5817, 1.5281, 1.265, 1.5147, 1.5703, 1.3634, 1.1773, 1.863, 1.172, 1.3763, 1.1517, 0.7843, 0.8458, 1.4073, 0.812, 0.5501, 0.5387, 1.1529, 1.008, 1.0865, 0.3526, 0.4571, 0.2527, 0.2015, 0.4545, 0.4057, 0.6549, 0.3735, 0.4367, 0.418, 0.0776, 0.2688, 0.5645, -0.1096, 2.349, 2.3464, 2.3434, 2.3414, 2.3407, 2.3392, 2.3369, 2.3362, 2.3336, 2.3328, 2.3297, 2.3292, 2.3285, 2.3244, 2.3234, 2.3211, 2.3183, 2.3177, 2.3176, 2.3166, 2.3163, 2.3163, 2.3163, 2.3162, 2.3149, 2.3149, 2.3133, 2.3116, 2.3076, 2.3076, 2.3071, 2.2348, 2.2816, 2.2202, 2.2637, 2.2345, 2.2261, 2.2321, 2.2328, 2.0966, 2.2247, 2.1502, 1.9274, 1.8974, 2.0134, 1.8964, 1.9741, 1.985, 1.9322, 2.1547, 1.732, 1.8322, 1.4893, 1.9664, 1.324, 1.1533, 1.271, 1.7935, 1.2898, 1.5355, 1.3702, 1.2356, 1.5555, 1.706, 1.4978, 0.5596, 1.2269, 1.2071, 0.8239, 0.4779, 1.123, 0.2687, 0.5641, 0.5248, 0.6674, 2.5784, 2.5784, 2.5761, 2.5724, 2.5671, 2.5626, 2.5587, 2.5571, 2.557, 2.5545, 2.5491, 2.548, 2.5471, 2.5466, 2.5466, 2.5437, 2.5405, 2.5371, 2.5369, 2.5328, 2.5328, 2.5287, 2.5281, 2.5281, 2.5227, 2.5182, 2.5163, 2.5163, 2.5113, 2.5105, 2.5099, 2.5027, 2.4844, 2.438, 2.2397, 2.4087, 2.2949, 2.2424, 1.9571, 2.4726, 2.057, 1.9015, 2.2849, 1.5412, 1.728, 1.8849, 1.3169, 1.0647, 0.9474, 1.2206, 1.7447, 1.6007, 1.0501, 0.8788, 0.838, 1.1588, 0.3844, 1.3283, 1.403, 1.621, 1.0674, 0.2493, 1.1595, 0.301, 0.5902, 0.3717, 0.8362, 0.3587, 0.6586, 0.3096, 0.7899, 0.2534, -0.2051, 0.6446, 0.1329, 0.7112, -0.3116, 2.6345, 2.6286, 2.6151, 2.6031, 2.6031, 2.6031, 2.6027, 2.6003, 2.5971, 2.5971, 2.5971, 2.5971, 2.5936, 2.5918, 2.5911, 2.5849, 2.5849, 2.5849, 2.5795, 2.5769, 2.5732, 2.5732, 2.5657, 2.5657, 2.5657, 2.5599, 2.5566, 2.5566, 2.5566, 2.5566, 2.506, 2.5075, 2.5275, 2.4063, 2.3643, 2.4323, 2.3805, 2.444, 2.4835, 2.298, 2.2086, 2.4033, 2.4355, 1.8188, 2.1054, 1.9865, 2.469, 2.4753, 1.6507, 1.4926, 1.9415, 1.7156, 1.7796, 2.0314, 1.8679, 1.4894, 1.5873, 1.1402, 1.1265, 1.9308, 0.7453, 1.2365, 1.3166, 0.7876, 1.0087, 0.6344, 0.9072, 0.2866, 0.8785, 0.6041, 0.5157, 0.2116, -0.0808, 0.2495, 0.0344, 0.5606, 0.7048, 2.821, 2.8183, 2.817, 2.7904, 2.7904, 2.783, 2.7765, 2.7754, 2.7726, 2.7632, 2.7628, 2.7628, 2.7628, 2.7628, 2.7567, 2.7567, 2.7567, 2.7567, 2.7567, 2.7521, 2.7494, 2.7494, 2.7405, 2.7405, 2.7405, 2.7405, 2.7405, 2.7367, 2.7316, 2.7296, 2.7279, 2.7033, 2.6745, 2.4573, 2.5915, 2.1039, 2.3623, 2.1929, 2.1761, 2.3587, 2.5399, 2.2477, 2.3898, 2.1396, 2.4561, 2.3528, 2.3913, 1.9458, 2.0144, 2.2147, 1.7797, 1.9398, 2.0687, 1.8942, 1.5083, 1.9176, 1.7925, 2.0359, 1.7693, 1.1258, 1.4938, 1.0846, 0.842, 1.0025, 1.1249, 0.4735, 0.4186, 1.0887, 0.9226, 1.034, 0.5076, 0.3988, 0.7001, -0.1577, 0.1105, 2.8557, 2.8424, 2.835, 2.8288, 2.8268, 2.8247, 2.8247, 2.8198, 2.8198, 2.8169, 2.8169, 2.8136, 2.8136, 2.81, 2.81, 2.8058, 2.8058, 2.8058, 2.801, 2.7955, 2.7955, 2.789, 2.7812, 2.7812, 2.7769, 2.7718, 2.7718, 2.7718, 2.7718, 2.7718, 2.7697, 2.7521, 2.6756, 2.7454, 2.6594, 2.5062, 2.4624, 2.6897, 2.4743, 2.666, 2.3564, 2.0427, 1.9731, 2.4237, 1.5523, 2.1725, 1.8673, 2.4295, 1.4914, 1.9612, 2.2293, 2.6246, 1.7894, 0.6992, 1.8049, 2.0251, 1.3957, 1.5864, 0.759, 0.7666, 1.1431, 1.6506, 1.0569, 1.7371, 0.4469, 0.7323, 1.0624, 0.7435, 1.0343, 0.5786, 1.1303, 0.2504, 0.3874, 0.3403, 0.4083, 0.7297, 0.728, 1.1077, 0.0654, 0.3895, 0.0444, -0.3117, 0.1223, 0.161, 3.278, 3.2706, 3.2658, 3.2649, 3.262, 3.262, 3.257, 3.2521, 3.2512, 3.2481, 3.2457, 3.2432, 3.2403, 3.237, 3.2245, 3.2189, 3.2149, 3.2125, 3.2125, 3.2102, 3.2047, 3.2047, 3.1976, 3.1954, 3.1954, 3.1954, 3.1954, 3.1838, 3.1838, 3.1692, 3.1597, 3.0702, 3.0705, 3.0154, 2.8821, 3.076, 2.9575, 3.0648, 3.0759, 3.0033, 2.3235, 2.0553, 2.4769, 2.4037, 2.1225, 1.259, 1.2951, 1.0248, 0.9754, 2.3931, 1.259, 2.4579, 2.5358, 1.757, 2.2511, 1.5357, 0.6877, 0.889, 0.9478, 1.6393, 0.7236, 0.4379, 1.3998, 1.043, 0.3155, 0.9902, 1.6551, 0.4424, 0.7127, 0.2354, 0.5665, 0.4621, 0.3486, -0.1764, 3.3945, 3.3849, 3.365, 3.3627, 3.3627, 3.3565, 3.3527, 3.3527, 3.3485, 3.3437, 3.3279, 3.3236, 3.3226, 3.3141, 3.3141, 3.3141, 3.3141, 3.3141, 3.3141, 3.3023, 3.3023, 3.3023, 3.3023, 3.3021, 3.2889, 3.288, 3.2874, 3.2874, 3.2874, 3.2822, 3.2747, 3.2813, 3.2331, 3.0449, 3.172, 3.2495, 3.1592, 3.0694, 3.0651, 3.249, 3.0274, 2.6539, 2.7948, 3.0468, 2.7438, 2.5373, 2.7713, 2.4151, 2.8492, 2.8568, 1.7814, 2.3222, 2.9058, 1.6509, 2.2878, 1.087, 1.5801, 1.8385, 1.9288, 1.6938, 1.8615, 0.8896, 0.7984, 1.8095, 2.2504, 1.3957, 0.6746, 0.6591, 0.2923, 0.4935, 0.8046, 0.4743, -0.0678, 0.6244, 0.5529, 0.6838, -0.1612, 3.6628, 3.6583, 3.6326, 3.6267, 3.6202, 3.6182, 3.6135, 3.6135, 3.6078, 3.6078, 3.6078, 3.6044, 3.6021, 3.5913, 3.5788, 3.5788, 3.5788, 3.5708, 3.5708, 3.5651, 3.561, 3.561, 3.561, 3.561, 3.56, 3.549, 3.549, 3.549, 3.549, 3.549, 3.5472, 3.5138, 3.1506, 3.4998, 3.413, 3.1255, 3.3386, 3.3335, 2.6498, 3.0902, 2.5591, 2.8164, 3.1964, 2.5143, 2.6901, 2.0227, 2.7183, 1.687, 2.4514, 2.2261, 2.8365, 2.5476, 1.0567, 2.1922, 2.0614, 2.0446, 2.1447, 0.8057, 1.0769, 0.9259, 0.2997, 0.5854, 0.6577, 0.5459, 0.6081, 1.1237, 1.275, 0.6866, 0.917, -0.0379, 0.4891, 1.1954, -0.0668, 0.2507, 0.203, 3.8255, 3.818, 3.8161, 3.814, 3.8117, 3.7959, 3.7959, 3.7959, 3.7915, 3.7864, 3.7804, 3.7804, 3.7735, 3.7735, 3.7429, 3.7429, 3.7429, 3.7272, 3.7272, 3.7272, 3.7272, 3.7272, 3.7131, 3.7081, 3.7068, 3.7068, 3.7068, 3.7068, 3.7068, 3.7068, 3.6714, 3.6942, 3.6982, 3.6611, 3.5967, 3.6872, 3.57, 3.5796, 3.6024, 3.4669, 3.619, 3.1633, 3.4755, 3.6077, 3.1142, 3.2429, 3.0742, 2.9775, 3.1886, 3.1693, 2.7152, 2.3886, 2.8198, 2.123, 2.1252, 2.0964, 2.4668, 2.2008, 3.0317, 1.8129, 1.0029, 1.7381, 1.6521, 2.0379, 1.0657, 1.8847, 1.1647, -0.0776, 0.9655, -0.0297, 1.2161, 0.7899, 3.9006, 3.8919, 3.8782, 3.8442, 3.8304, 3.8244, 3.8244, 3.8244, 3.8173, 3.8089, 3.8089, 3.8089, 3.799, 3.7987, 3.7987, 3.7987, 3.7987, 3.7861, 3.7861, 3.7861, 3.7861, 3.7861, 3.7861, 3.7852, 3.7821, 3.7762, 3.7702, 3.7702, 3.7702, 3.7702, 3.6871, 3.7054, 3.7058, 3.7234, 3.6792, 3.5336, 3.7208, 3.6297, 3.5799, 3.6207, 3.5431, 3.1935, 3.1788, 3.6642, 3.1016, 3.1961, 3.2095, 2.4259, 3.0799, 3.1015, 2.2338, 3.099, 3.076, 2.4986, 2.897, 1.586, 2.3475, 2.3045, 2.0707, 1.8584, 0.8551, 1.3766, 1.7651, 1.4385, -0.1327, 0.6647, 0.5263, 0.5105, 1.1527, 0.3099, 0.4444, 1.1704, 0.4676, 0.1756, -0.0988, 3.9014, 3.8946, 3.8946, 3.8888, 3.8854, 3.8853, 3.885, 3.8823, 3.8815, 3.8815, 3.872, 3.872, 3.8662, 3.8593, 3.8593, 3.8593, 3.8592, 3.853, 3.8511, 3.8511, 3.8511, 3.8473, 3.8413, 3.8392, 3.8387, 3.8312, 3.8296, 3.8291, 3.8291, 3.8291, 3.8186, 3.8198, 3.7981, 3.8219, 3.7725, 3.7633, 3.8203, 3.7959, 3.7591, 3.659, 3.6665, 3.6103, 3.7603, 3.2919, 3.5955, 3.4872, 3.5291, 3.3553, 3.6242, 3.5477, 3.3754, 2.868, 3.3525, 3.1976, 2.8327, 3.2482, 3.1907, 3.0496, 3.0487, 2.7411, 3.4135, 2.9489, 2.1023, 2.0535, 2.5686, 2.767, 2.424, 2.5771, 1.2261, 1.612, -0.3196, 0.1561, 1.0546, -0.7561, 0.6795, 0.985]}, \"token.table\": {\"Topic\": [1, 2, 3, 4, 5, 6, 7, 8, 9, 10, 11, 12, 13, 14, 2, 7, 12, 13, 14, 1, 2, 3, 4, 5, 6, 7, 8, 9, 10, 11, 12, 13, 14, 15, 1, 2, 3, 7, 10, 11, 12, 13, 12, 1, 2, 3, 4, 5, 6, 7, 8, 9, 10, 11, 12, 13, 15, 1, 2, 3, 4, 5, 6, 7, 8, 9, 10, 11, 12, 13, 14, 15, 1, 2, 3, 4, 5, 6, 7, 8, 9, 11, 12, 13, 14, 3, 2, 3, 4, 6, 8, 9, 13, 1, 3, 8, 11, 12, 15, 3, 4, 6, 8, 9, 12, 13, 15, 1, 1, 2, 3, 4, 14, 3, 4, 7, 3, 15, 8, 6, 2, 3, 6, 8, 9, 12, 14, 7, 8, 13, 1, 2, 3, 5, 8, 13, 14, 12, 1, 2, 3, 4, 5, 6, 7, 8, 9, 10, 11, 12, 13, 14, 12, 6, 1, 2, 3, 4, 5, 6, 8, 9, 10, 13, 15, 1, 3, 8, 14, 15, 2, 3, 4, 5, 6, 7, 9, 10, 12, 13, 14, 15, 2, 3, 4, 6, 7, 8, 9, 10, 11, 12, 13, 14, 15, 1, 2, 3, 4, 5, 7, 8, 9, 11, 13, 1, 2, 3, 5, 6, 7, 11, 8, 1, 2, 4, 5, 6, 7, 8, 9, 10, 11, 14, 1, 7, 9, 12, 1, 6, 7, 9, 10, 13, 14, 8, 1, 2, 5, 12, 1, 2, 5, 2, 3, 4, 6, 8, 9, 11, 12, 14, 1, 2, 3, 4, 5, 6, 7, 8, 9, 10, 11, 12, 14, 7, 10, 11, 1, 2, 3, 4, 5, 6, 7, 8, 10, 11, 12, 13, 14, 1, 2, 3, 5, 6, 7, 8, 9, 11, 12, 14, 2, 3, 6, 8, 10, 2, 4, 5, 6, 8, 10, 13, 15, 15, 1, 3, 4, 5, 7, 9, 11, 12, 1, 2, 3, 4, 6, 8, 11, 6, 13, 6, 7, 1, 2, 3, 4, 5, 6, 7, 10, 12, 13, 14, 7, 9, 2, 14, 14, 2, 3, 4, 7, 8, 9, 12, 1, 2, 3, 4, 5, 6, 7, 8, 9, 10, 11, 12, 13, 14, 15, 1, 2, 4, 9, 10, 11, 2, 3, 4, 5, 6, 7, 10, 13, 15, 13, 1, 3, 4, 5, 8, 6, 7, 10, 4, 11, 5, 4, 5, 3, 4, 9, 13, 3, 2, 3, 4, 5, 6, 7, 8, 9, 12, 13, 15, 8, 1, 14, 6, 9, 13, 14, 14, 12, 2, 3, 7, 11, 14, 1, 5, 5, 10, 7, 8, 3, 3, 7, 9, 13, 15, 13, 15, 12, 1, 2, 4, 6, 7, 9, 11, 12, 13, 15, 12, 3, 9, 12, 8, 10, 14, 10, 13, 15, 15, 13, 2, 10, 7, 2, 6, 9, 10, 11, 11, 13, 1, 2, 3, 4, 6, 8, 9, 13, 14, 15, 3, 9, 13, 15, 2, 1, 5, 6, 7, 8, 9, 10, 11, 12, 14, 1, 5, 8, 13, 14, 1, 2, 3, 4, 5, 6, 7, 8, 9, 10, 11, 12, 14, 15, 7, 8, 7, 6, 1, 2, 3, 4, 5, 6, 7, 8, 9, 10, 12, 13, 15, 1, 2, 4, 5, 6, 7, 8, 9, 11, 14, 15, 8, 15, 1, 2, 3, 4, 5, 6, 13, 15, 12, 9, 3, 4, 5, 6, 8, 9, 12, 10, 1, 2, 3, 4, 6, 8, 9, 10, 11, 12, 15, 15, 1, 14, 10, 8, 11, 10, 5, 1, 2, 3, 4, 5, 6, 7, 8, 9, 11, 12, 13, 14, 15, 10, 9, 1, 15, 4, 11, 7, 13, 1, 2, 3, 4, 5, 6, 7, 8, 9, 10, 11, 12, 13, 14, 15, 1, 2, 3, 4, 5, 6, 7, 9, 10, 12, 13, 14, 15, 4, 9, 10, 12, 6, 2, 3, 4, 6, 8, 9, 10, 12, 13, 15, 8, 1, 5, 8, 9, 11, 14, 4, 8, 4, 1, 3, 4, 6, 7, 8, 12, 13, 1, 2, 4, 7, 8, 9, 10, 15, 14, 15, 1, 2, 3, 4, 5, 6, 7, 9, 10, 11, 12, 13, 14, 15, 1, 2, 2, 1, 2, 3, 4, 5, 6, 7, 8, 9, 10, 11, 13, 14, 8, 13, 15, 2, 3, 4, 5, 6, 7, 8, 12, 13, 14, 5, 13, 5, 1, 2, 3, 5, 8, 10, 12, 13, 4, 7, 11, 2, 13, 1, 9, 1, 2, 4, 6, 7, 9, 10, 11, 13, 15, 1, 4, 3, 15, 13, 1, 2, 3, 4, 5, 6, 7, 8, 9, 10, 11, 12, 13, 14, 2, 6, 1, 2, 4, 5, 6, 7, 8, 9, 10, 11, 12, 1, 2, 3, 4, 9, 12, 13, 14, 15, 1, 2, 3, 4, 5, 6, 7, 8, 9, 10, 11, 12, 3, 6, 1, 2, 3, 4, 5, 6, 7, 8, 9, 10, 11, 12, 13, 14, 15, 1, 2, 3, 4, 5, 6, 7, 8, 9, 10, 11, 12, 13, 15, 1, 2, 3, 4, 5, 6, 7, 8, 9, 10, 11, 12, 14, 2, 13, 14, 1, 2, 3, 4, 5, 8, 9, 10, 11, 14, 1, 2, 3, 4, 5, 6, 7, 8, 9, 10, 11, 12, 14, 15, 11, 1, 2, 4, 5, 7, 8, 11, 12, 14, 1, 2, 5, 6, 8, 9, 11, 12, 14, 15, 3, 9, 1, 2, 3, 4, 5, 6, 8, 9, 11, 14, 15, 8, 1, 7, 11, 3, 4, 9, 1, 2, 3, 4, 5, 6, 7, 8, 9, 12, 13, 14, 15, 1, 2, 5, 6, 7, 8, 9, 10, 11, 12, 13, 14, 15, 1, 5, 8, 11, 13, 14, 11, 5, 9, 10, 1, 2, 3, 4, 5, 6, 7, 8, 9, 10, 11, 12, 13, 14, 15, 1, 2, 3, 4, 5, 7, 11, 12, 1, 3, 4, 7, 8, 12, 13, 15, 2, 3, 4, 5, 6, 7, 8, 9, 10, 11, 12, 14, 15, 12, 2, 3, 4, 5, 6, 7, 9, 11, 12, 14, 1, 3, 4, 9, 13, 14, 1, 2, 5, 9, 14, 2, 1, 2, 3, 5, 6, 9, 10, 14, 14, 1, 3, 9, 2, 1, 2, 3, 4, 5, 6, 7, 8, 9, 10, 12, 13, 14, 1, 2, 3, 4, 5, 6, 7, 8, 9, 10, 12, 13, 14, 15, 2, 3, 4, 5, 6, 7, 9, 11, 12, 15, 1, 2, 4, 6, 7, 9, 10, 12, 13, 14, 1, 2, 3, 4, 5, 6, 7, 8, 9, 10, 11, 12, 13, 14, 15, 1, 2, 3, 4, 5, 6, 8, 9, 10, 12, 13, 14, 15, 2, 3, 10, 12, 15, 2, 4, 7, 9, 11, 15, 12, 10, 2, 3, 4, 6, 7, 10, 11, 14, 15, 3, 4, 9, 10, 13, 15, 1, 2, 3, 4, 5, 6, 7, 8, 9, 12, 13, 9, 11, 12, 14, 15, 8, 10, 11, 9, 1, 2, 3, 5, 7, 8, 10, 14, 1, 5, 5, 1, 2, 5, 13, 5, 1, 2, 3, 4, 5, 6, 7, 8, 9, 10, 11, 12, 13, 14, 15, 2, 3, 4, 6, 7, 9, 10, 11, 12, 15, 3, 9, 13, 1, 5, 11, 3, 6, 8, 9, 4, 5, 7, 11, 12, 13, 4, 7, 12, 5, 2, 2, 7, 8, 10, 12, 1, 2, 3, 4, 5, 6, 7, 8, 9, 10, 11, 12, 14, 1, 2, 3, 4, 5, 6, 7, 8, 9, 10, 11, 12, 13, 3, 4, 5, 6, 7, 8, 9, 12, 13, 3, 1, 2, 5, 7, 10, 11, 12, 1, 2, 3, 4, 5, 7, 8, 11, 12, 14, 2, 3, 4, 5, 7, 8, 11, 13, 1, 2, 3, 4, 5, 6, 7, 8, 9, 10, 11, 12, 13, 14, 15, 1, 4, 5, 6, 7, 8, 9, 11, 12, 14, 1, 2, 3, 4, 5, 6, 7, 8, 9, 10, 11, 12, 14, 1, 2, 3, 4, 5, 6, 7, 8, 9, 10, 11, 12, 13, 14, 15, 1, 2, 3, 4, 5, 6, 7, 8, 9, 11, 12, 13, 14, 15, 5, 7, 11, 1, 13, 1, 2, 3, 4, 5, 6, 7, 8, 9, 10, 11, 12, 13, 14, 15, 2, 3, 4, 6, 7, 8, 9, 11, 12, 13, 14, 2, 3, 4, 1, 4, 5, 7, 8, 11, 12, 1, 1, 2, 3, 4, 5, 6, 7, 8, 9, 10, 11, 12, 13, 14, 15, 3, 4, 5, 9, 10, 13, 1, 2, 3, 4, 5, 8, 9, 11, 12, 13, 1, 5, 11, 14, 11, 1, 2, 3, 4, 5, 6, 7, 8, 9, 10, 14, 13, 11, 12, 1, 2, 3, 4, 5, 6, 7, 8, 9, 10, 11, 12, 13, 14, 15, 3, 4, 12, 7, 12, 12, 7, 12, 8, 5, 2, 4, 6, 7, 8, 9, 10, 11, 13, 14, 15, 1, 2, 3, 9, 11, 12, 13, 14, 14, 5, 14, 1, 13, 1, 2, 3, 4, 5, 6, 7, 8, 9, 10, 11, 12, 13, 14, 1, 2, 3, 4, 5, 6, 7, 8, 9, 10, 11, 13, 14, 5, 6, 9, 2, 3, 4, 6, 7, 8, 12, 6, 7, 3, 5, 6, 13, 1, 2, 3, 4, 5, 6, 8, 9, 11, 12, 1, 2, 3, 4, 5, 6, 7, 8, 9, 10, 11, 15, 1, 2, 7, 8, 9, 10, 13, 14, 15, 1, 2, 3, 4, 5, 7, 8, 12, 1, 2, 3, 4, 5, 6, 7, 8, 9, 10, 11, 12, 13, 14, 15, 9, 10, 13, 15, 1, 2, 5, 7, 8, 9, 10, 11, 12, 14, 10, 9, 3, 4, 13, 10, 14, 1, 2, 3, 4, 5, 6, 7, 8, 9, 11, 12, 13, 14, 15, 1, 2, 3, 4, 5, 6, 7, 8, 9, 10, 11, 12, 13, 14, 15, 9, 8, 10, 1, 2, 3, 4, 5, 6, 7, 8, 9, 10, 11, 12, 13, 14, 15, 2, 9, 10, 1, 2, 3, 4, 5, 6, 8, 9, 11, 12, 14, 5, 6, 2, 3, 9, 10, 14, 1, 8, 1, 2, 3, 4, 5, 6, 7, 8, 9, 10, 11, 12, 13, 14, 15, 1, 7, 11, 12, 6, 10, 2, 6, 9, 11, 12, 14, 15, 1, 2, 3, 4, 5, 6, 7, 8, 9, 10, 11, 12, 14, 15, 1, 2, 6, 7, 11, 14, 2, 3, 4, 6, 9, 10, 13, 15, 2, 3, 4, 6, 7, 9, 10, 13, 3, 5, 5, 10, 4, 1, 2, 3, 4, 5, 6, 7, 8, 9, 10, 11, 12, 13, 14, 15, 1, 5, 6, 7, 8, 11, 1, 2, 3, 4, 5, 6, 7, 8, 9, 10, 11, 12, 13, 14, 15, 2, 3, 13, 1, 2, 3, 4, 5, 7, 8, 9, 10, 11, 12, 14, 1, 2, 3, 4, 6, 7, 8, 9, 10, 11, 13, 14, 15, 1, 2, 3, 4, 5, 6, 7, 8, 9, 10, 11, 13, 14, 15, 13, 8, 9, 10, 14, 5, 9, 13, 5, 1, 2, 8, 10, 14, 15, 1, 2, 3, 4, 5, 6, 7, 8, 9, 10, 11, 13, 14, 15, 1, 3, 7, 9, 11, 12, 1, 2, 7, 8, 10, 11, 12, 13, 2, 5, 7, 9, 1, 2, 3, 4, 5, 6, 7, 8, 9, 12, 13, 14, 15, 4, 2, 4, 10, 15, 1, 2, 3, 4, 5, 6, 8, 9, 10, 11, 12, 14, 3, 4, 1, 2, 3, 4, 6, 7, 8, 9, 12, 13, 14, 15, 2, 8, 9, 10, 1, 2, 3, 4, 5, 6, 7, 8, 9, 10, 11, 12, 13, 14, 15, 13, 1, 2, 3, 4, 6, 7, 8, 9, 10, 12, 13, 15, 14, 11, 4, 8, 4, 6, 8, 1, 2, 3, 4, 5, 6, 7, 8, 9, 10, 11, 12, 13, 14, 15, 6, 14, 1, 1, 9, 6, 8, 9, 13, 2, 3, 4, 7, 13, 14, 9, 8, 2, 7, 7, 3, 5, 8, 11, 2, 7, 2, 9, 4, 13, 2, 4, 5, 11, 15, 13, 1, 2, 3, 4, 5, 6, 7, 8, 9, 10, 12, 13, 15, 9, 11, 3, 2, 4, 1, 2, 4, 10, 13, 6, 6, 14, 4, 6, 7, 1, 2, 3, 4, 5, 6, 7, 8, 9, 10, 11, 12, 13, 14, 15, 2, 1, 3, 14, 15, 14, 1, 2, 3, 4, 5, 6, 7, 8, 11, 12, 14, 1, 2, 3, 4, 5, 7, 8, 11, 12, 14, 1, 2, 3, 4, 5, 6, 7, 8, 9, 10, 11, 12, 13, 14, 15, 1, 6, 7, 8, 9, 11, 14, 15, 1, 2, 6, 8, 1, 2, 3, 4, 5, 6, 7, 8, 9, 10, 11, 12, 13, 14, 15, 3, 4, 6, 13, 15, 3, 8, 9, 1, 2, 4, 5, 6, 9, 10, 13, 14, 2, 3, 4, 5, 6, 7, 8, 9, 10, 11, 12, 13, 15, 7, 9, 1, 2, 3, 4, 5, 6, 7, 8, 9, 10, 11, 12, 13, 14, 15, 2, 3, 4, 5, 7, 9, 12, 13, 14, 15, 5, 7, 10, 11, 12, 14, 7, 2, 3, 4, 5, 6, 7, 8, 9, 10, 12, 13, 15, 1, 2, 3, 4, 5, 6, 7, 8, 9, 11, 12, 1, 2, 4, 5, 6, 7, 8, 9, 11, 12, 14, 1, 2, 3, 4, 5, 7, 8, 9, 10, 11, 12, 13, 14, 15, 5, 4, 2, 3, 9, 10, 12, 13, 14, 3, 10, 12, 3, 3, 1, 2, 3, 4, 6, 8, 9, 10, 11, 12, 13, 14, 1, 2, 3, 4, 5, 6, 7, 8, 9, 10, 11, 12, 13, 14, 15, 2, 11, 4, 12, 14, 1, 2, 3, 4, 5, 6, 7, 9, 10, 12, 13, 15, 2, 3, 4, 5, 6, 7, 9, 12, 13, 4, 6, 9, 1, 2, 3, 4, 5, 6, 7, 8, 9, 10, 11, 12, 13, 14, 15, 6, 12, 14, 14, 11, 12, 12, 7, 2, 3, 4, 6, 9, 10, 15, 14, 4, 1, 5, 9, 10, 11, 12, 6, 13, 11, 7, 11, 3, 1, 9, 9, 3, 6, 7, 9, 12, 2, 10, 12, 1, 2, 8, 9, 11, 6, 5, 8, 4, 13, 11, 14, 14, 9, 11, 14, 9, 12, 5, 10, 1, 2, 3, 5, 6, 7, 8, 9, 10, 11, 13, 14, 14, 8, 1, 2, 3, 4, 5, 6, 7, 8, 9, 10, 11, 12, 14, 1, 2, 5, 6, 13, 2, 9, 15, 4, 2, 3, 4, 5, 6, 8, 9, 10, 11, 12, 13, 15, 1, 6, 7, 8, 12, 14, 2, 3, 4, 5, 6, 7, 8, 9, 10, 12, 13, 2, 3, 4, 6, 7, 12, 6, 1, 2, 3, 4, 5, 6, 7, 8, 9, 10, 11, 12, 13, 14, 1, 2, 3, 4, 5, 7, 8, 9, 10, 12, 2, 3, 3, 9, 7, 1, 2, 3, 4, 5, 6, 7, 8, 9, 10, 11, 12, 13, 14, 15, 1, 2, 5, 7, 8, 9, 11, 12, 14, 7, 6, 7, 9, 12, 15, 9, 12, 2, 10, 9, 1, 3, 5, 6, 8, 9, 10, 11, 12, 15, 11, 10, 1, 2, 3, 4, 5, 6, 7, 8, 9, 10, 11, 12, 13, 14, 15, 4, 6, 11, 14, 15, 1, 2, 6, 7, 1, 2, 3, 4, 5, 6, 7, 8, 9, 10, 11, 12, 13, 4, 6, 12, 14, 7, 8, 9, 11, 12, 2, 1, 2, 3, 4, 5, 6, 7, 8, 9, 10, 12, 13, 14, 1, 2, 3, 4, 5, 6, 7, 8, 9, 10, 11, 12, 13, 2, 3, 4, 5, 6, 7, 8, 9, 10, 11, 12, 13, 14, 15, 1, 2, 3, 4, 6, 7, 8, 9, 12, 13, 2, 3, 4, 5, 9, 12, 13, 15, 4, 3, 4, 10, 1, 2, 3, 4, 6, 7, 8, 9, 10, 11, 14, 3, 4, 13, 10, 11, 4, 10, 11, 1, 2, 3, 4, 5, 6, 7, 8, 9, 10, 12, 13, 14, 15, 2, 3, 4, 6, 7, 8, 9, 10, 11, 14, 2, 5, 10, 11, 14, 15, 2, 3, 4, 9, 13, 15, 5, 1, 2, 3, 4, 5, 6, 7, 8, 9, 10, 11, 13, 15, 1, 2, 3, 4, 5, 6, 8, 9, 14, 2, 4, 6, 8, 14, 1, 2, 3, 4, 5, 7, 9, 10, 11, 12, 14, 1, 1, 5, 7, 11, 4, 7, 1, 2, 3, 4, 5, 6, 7, 8, 11, 12, 14, 1, 2, 3, 4, 5, 6, 7, 8, 9, 10, 11, 12, 13, 14, 15, 11, 11, 15, 12, 1, 2, 3, 6, 10, 12, 13, 2, 4, 11, 12, 15, 9, 13, 1, 2, 3, 4, 5, 6, 7, 8, 9, 11, 12, 13, 14, 10, 1, 2, 3, 4, 5, 6, 7, 8, 9, 10, 12, 13, 1, 2, 5, 7, 9, 10, 11, 12, 14, 12, 2, 3, 4, 5, 6, 7, 8, 9, 10, 12, 13, 15, 7, 6, 8, 2, 4, 15, 11, 12, 9, 14, 2, 4, 6, 8, 9, 10, 15, 6, 2, 3, 6, 10, 3, 1, 10, 1, 2, 3, 4, 5, 6, 7, 8, 9, 10, 11, 12, 13, 14, 15, 2, 4, 5, 6, 8, 14, 1, 2, 2, 10, 12, 2, 10, 7, 3, 10, 5, 10, 15, 15, 15, 3, 4, 6, 7, 8, 9, 12, 14, 7, 9, 10, 11, 14, 1, 2, 3, 4, 5, 6, 7, 8, 9, 10, 11, 12, 13, 14, 15, 2, 9, 9, 1, 2, 3, 5, 6, 7, 9, 11, 12, 13, 14, 15, 1, 1, 2, 3, 4, 5, 6, 7, 8, 9, 10, 11, 12, 13, 14, 15, 2, 3, 4, 6, 7, 8, 9, 10, 12, 13, 15, 8, 7, 7, 1, 2, 3, 4, 5, 6, 7, 8, 9, 11, 12, 13, 14, 15, 7, 2, 1, 7, 5, 9, 1, 2, 3, 4, 5, 6, 7, 8, 9, 10, 11, 12, 13, 14, 15, 8, 1, 2, 3, 4, 5, 6, 7, 8, 9, 11, 12, 13, 14, 15, 1, 5, 8, 9, 10, 4, 8, 9, 13, 14, 15, 13, 1, 2, 3, 4, 5, 6, 7, 8, 9, 11, 12, 13, 10, 5, 9, 14, 15, 1, 9, 2, 6, 7, 14, 1, 1, 2, 4, 5, 6, 8, 10, 11, 14, 15, 10, 1, 2, 4, 5, 6, 9, 10, 1, 5, 6, 8, 9, 11, 12, 13, 14, 13, 3, 4, 6, 8, 9, 13, 14, 3, 5, 6, 8, 13, 2, 15, 1, 2, 3, 4, 5, 6, 7, 8, 9, 10, 11, 12, 13, 14, 15, 1, 2, 3, 4, 5, 6, 7, 8, 9, 10, 11, 12, 13, 14, 15, 2, 1, 2, 3, 4, 5, 6, 7, 8, 9, 10, 11, 12, 13, 10, 1, 3, 4, 5, 6, 7, 8, 9, 11, 12, 14, 1, 2, 3, 4, 5, 6, 7, 8, 9, 10, 11, 13, 14, 15, 1, 2, 3, 4, 5, 6, 7, 8, 9, 10, 11, 12, 13, 15, 4, 12, 6, 1, 2, 3, 4, 6, 7, 8, 9, 13, 14, 15, 12, 1, 1, 2, 5, 7, 8, 9, 10, 13, 4, 1, 2, 4, 5, 6, 10, 12, 14, 15, 1, 2, 3, 4, 5, 6, 7, 8, 9, 10, 11, 12, 13, 14, 15, 4, 6, 9, 15, 2, 3, 4, 5, 6, 7, 8, 10, 11, 15, 1, 4, 7, 9, 11, 1, 2, 3, 4, 5, 6, 7, 8, 9, 11, 12, 13, 14, 2, 3, 4, 5, 6, 8, 9, 10, 13, 14, 15, 1, 5, 6, 11, 12, 14, 1, 2, 3, 4, 5, 6, 7, 8, 9, 10, 11, 12, 13, 14, 15, 5, 9, 13, 14, 15, 8, 10, 7, 1, 2, 3, 8, 9, 10, 11, 12, 13, 14, 15, 6, 8, 10, 1, 2, 3, 4, 5, 6, 7, 8, 9, 10, 11, 12, 13, 14, 1, 2, 3, 4, 7, 9, 10, 14, 1, 2, 3, 6, 8, 9, 10, 9, 12, 1, 2, 3, 4, 5, 6, 8, 9, 11, 13, 14, 15, 1, 2, 3, 4, 5, 6, 7, 9, 10, 11, 12, 4, 6, 9, 10, 2, 4, 6, 9, 10, 1, 2, 3, 4, 5, 6, 7, 8, 9, 10, 11, 12, 13, 14, 1, 2, 3, 4, 5, 6, 7, 8, 9, 10, 11, 12, 13, 14, 15, 11, 10, 1, 2, 3, 4, 5, 6, 7, 8, 9, 10, 12, 13, 14, 15, 1, 2, 3, 4, 5, 7, 8, 9, 10, 11, 12, 1, 2, 3, 4, 5, 6, 7, 8, 9, 10, 11, 12, 14, 3, 4, 5, 8, 9, 12, 14, 1, 2, 3, 4, 5, 6, 7, 8, 9, 10, 11, 12, 13, 14, 1, 2, 3, 4, 5, 6, 7, 9, 10, 11, 12, 13, 9, 1, 2, 3, 5, 7, 8, 9, 10, 11, 12, 13, 15, 9, 10, 1, 2, 3, 4, 5, 6, 7, 8, 9, 10, 11, 12, 13, 14, 3, 4, 5, 11, 1, 2, 3, 4, 5, 6, 8, 9, 13, 15, 10, 1, 2, 5, 10, 11, 13, 15, 2, 9, 10, 15, 13, 1, 2, 5, 8, 12, 1, 2, 3, 4, 5, 6, 7, 8, 9, 10, 11, 12, 13, 14, 15, 5, 5, 1, 10, 15, 7, 9, 15, 1, 6, 7, 8, 11, 3, 15, 9, 1, 2, 3, 5, 6, 7, 8, 9, 10, 11, 12, 14, 8, 1, 2, 3, 4, 5, 6, 7, 8, 9, 10, 11, 12, 13, 14, 15, 1, 2, 3, 4, 5, 6, 7, 8, 9, 10, 11, 12, 13, 14, 15, 12, 2, 3, 6, 7, 8, 1, 1, 5, 11, 14, 1, 2, 5, 1, 2, 3, 4, 5, 6, 7, 8, 9, 10, 11, 12, 13, 14, 15, 1, 2, 3, 4, 5, 6, 7, 8, 9, 10, 11, 12, 13, 14, 15, 1, 2, 3, 4, 5, 6, 7, 8, 9, 11, 12, 14, 1, 2, 3, 4, 5, 6, 7, 8, 9, 10, 11, 12, 13, 14, 1, 2, 3, 4, 5, 7, 8, 9, 11, 12, 14, 1, 2, 3, 4, 6, 7, 8, 9, 10, 11, 12, 13, 14, 15, 2, 3, 7, 10, 11, 13, 15, 15, 5, 1, 2, 3, 4, 5, 6, 7, 8, 9, 10, 11, 12, 13, 14, 15, 15, 1, 2, 3, 4, 5, 6, 7, 8, 9, 10, 11, 12, 13, 14, 15, 2, 3, 4, 6, 9, 13, 14, 2, 3, 4, 6, 7, 8, 13, 1, 2, 3, 4, 5, 6, 7, 8, 9, 10, 11, 12, 13, 14, 15, 9, 1, 2, 7, 11, 12, 14, 2, 3, 4, 6, 8, 9, 12, 13, 1, 2, 3, 4, 5, 6, 7, 8, 9, 10, 11, 12, 13, 14, 15, 8, 10, 15, 1, 2, 3, 4, 5, 6, 7, 8, 9, 10, 11, 12, 13, 14, 15, 13, 1, 2, 4, 6, 9, 2, 8, 9, 10, 11, 13, 15, 4, 6, 1, 15, 3, 6, 8, 9, 5, 6, 9, 11, 14, 3, 4, 6, 6, 13, 1, 2, 5, 13, 8, 6, 1, 2, 3, 4, 6, 8, 9, 10, 11, 12, 13, 14, 15, 1, 2, 3, 4, 7, 8, 9, 10, 11, 15, 2, 2, 1, 2, 3, 4, 5, 6, 7, 8, 9, 10, 11, 12, 14, 2, 3, 11, 13, 14, 1, 2, 4, 6, 7, 8, 9, 10, 11, 12, 14, 15, 1, 2, 4, 5, 7, 8, 9, 10, 11, 14, 15, 4, 6, 7, 10, 1, 2, 3, 4, 5, 6, 7, 8, 9, 10, 13, 14, 15, 1, 1, 2, 3, 4, 5, 6, 7, 8, 9, 10, 11, 12, 13, 14, 15, 2, 3, 4, 12, 13, 15, 3, 1, 2, 3, 4, 5, 6, 7, 8, 9, 11, 12, 13, 14, 15, 2, 2, 3, 10, 13, 1, 2, 6, 7, 8, 9, 10, 9, 13, 1, 2, 5, 7, 8, 9, 10, 11, 12, 14, 5, 1, 2, 3, 4, 5, 6, 7, 8, 9, 10, 11, 12, 13, 14, 15, 3, 15, 10, 15, 1, 2, 14, 1, 2, 3, 4, 5, 6, 7, 8, 9, 10, 11, 12, 13, 14, 15, 2, 5, 6, 8, 9, 10, 11, 13, 7, 2, 3, 13, 15, 1, 2, 3, 4, 7, 8, 9, 13, 14, 8, 4, 2, 4, 12, 6, 11, 4, 4, 1, 2, 3, 4, 5, 6, 7, 8, 9, 10, 11, 12, 13, 14, 15, 3, 10, 8, 4, 6, 8, 11, 15, 1, 2, 3, 4, 5, 6, 9, 10, 11, 5, 4, 1, 2, 3, 4, 6, 7, 8, 9, 13, 2, 4, 5, 6, 9, 12, 1, 2, 5, 6, 7, 9, 11, 1, 2, 3, 4, 6, 7, 8, 9, 10, 11, 12, 13, 14, 15, 3, 1, 2, 3, 4, 5, 6, 7, 8, 9, 10, 11, 12, 13, 15, 2, 3, 15, 1, 2, 3, 4, 5, 6, 7, 8, 9, 10, 11, 12, 13, 14, 1, 2, 3, 4, 6, 7, 8, 9, 10, 11, 13, 14, 15, 1, 2, 3, 4, 5, 6, 7, 8, 9, 10, 11, 12, 13, 14, 15, 1, 2, 3, 4, 5, 6, 7, 8, 9, 10, 11, 13, 14, 15, 1, 2, 3, 4, 5, 6, 7, 8, 9, 10, 11, 12, 13, 14, 15, 8, 10, 15, 2, 6, 8, 9, 10, 12, 15, 13, 2, 3, 4, 5, 6, 7, 8, 9, 11, 13, 14, 15, 1, 2, 4, 5, 6, 7, 8, 9, 13, 14, 15, 3, 6, 7, 8, 9, 10, 11, 7, 5, 11, 1, 2, 3, 4, 5, 6, 7, 8, 9, 10, 11, 12, 13, 14, 15, 1, 2, 3, 4, 5, 6, 7, 9, 11, 13, 15, 14, 1, 2, 3, 4, 5, 6, 7, 8, 9, 10, 11, 12, 13, 14, 15, 1, 2, 4, 6, 9, 10, 14, 15, 1, 2, 4, 6, 7, 8, 9, 10, 11, 13, 15, 6, 15, 2, 3, 4, 6, 7, 10, 13, 1, 2, 3, 4, 5, 6, 7, 8, 11, 14, 1, 2, 3, 4, 5, 6, 7, 8, 9, 10, 11, 12, 13, 14, 15, 3, 1, 2, 3, 4, 5, 6, 7, 8, 9, 10, 11, 12, 13, 14, 15, 10, 15, 1, 2, 3, 4, 5, 6, 7, 8, 9, 10, 11, 12, 13, 1, 2, 3, 4, 5, 6, 7, 8, 9, 13, 15, 1, 5, 8, 6, 1, 2, 5, 6, 8, 9, 11, 14, 1, 1, 2, 3, 6, 10, 12, 11, 1, 2, 4, 6, 7, 8, 9, 10, 11, 12, 14, 5, 1, 7, 8, 1, 2, 3, 4, 6, 7, 8, 9, 10, 11, 12, 13, 14, 15, 2, 3, 4, 5, 6, 7, 8, 9, 12, 10, 2, 2, 1, 2, 3, 4, 5, 6, 7, 8, 9, 10, 11, 12, 13, 14, 14, 4, 5, 11, 13, 14, 11, 15, 1, 3, 4, 6, 9, 10, 11, 12, 12, 1, 5, 9, 10, 11, 12, 10, 1, 2, 3, 4, 5, 6, 7, 8, 9, 10, 12, 13, 14, 15, 4, 10, 15, 7, 9, 2, 3, 4, 6, 10, 8, 3, 1, 2, 3, 4, 5, 6, 7, 8, 9, 10, 11, 12, 15, 2, 3, 4, 5, 6, 7, 8, 9, 10, 11, 12, 13, 14, 15, 3, 9, 9, 2, 1, 2, 3, 5, 8, 9, 11, 13, 14, 4, 4, 2, 4, 11, 6, 15, 1, 2, 3, 4, 5, 6, 7, 8, 9, 10, 11, 12, 13, 14, 15, 1, 2, 3, 4, 5, 6, 7, 8, 9, 10, 11, 12, 13, 14, 15, 9, 14, 15, 1, 2, 3, 4, 5, 6, 7, 8, 9, 10, 11, 12, 13, 14, 15, 1, 4, 5, 7, 8, 12, 13, 14, 15, 14, 2, 10, 3, 1, 2, 3, 4, 5, 6, 7, 8, 9, 10, 11, 13, 15, 2, 3, 5, 6, 7, 8, 9, 10, 11, 1, 2, 3, 4, 5, 6, 8, 9, 11, 12, 13, 14, 15, 1, 2, 3, 4, 5, 6, 7, 8, 10, 12, 1, 2, 3, 4, 6, 7, 8, 10, 11, 14, 1, 2, 3, 4, 5, 7, 8, 9, 13, 1, 2, 3, 4, 7, 9, 11, 13, 15, 3, 4, 8, 12, 14, 1, 2, 3, 4, 5, 6, 7, 9, 10, 11, 12, 1, 3, 1, 4, 6, 8, 11, 13, 1, 2, 3, 4, 5, 7, 8, 9, 10, 11, 12, 13, 14, 15, 15, 10, 11, 15, 8, 1, 4, 6, 8, 9, 12, 13, 1, 2, 13, 1, 3, 6, 8, 9, 10, 11, 1, 2, 3, 4, 5, 6, 7, 8, 9, 10, 11, 12, 13, 1, 9, 1, 5, 6, 7, 8, 11, 14, 14, 3, 14, 1, 2, 3, 4, 5, 6, 7, 8, 9, 10, 11, 12, 13, 14, 15, 2, 1, 2, 3, 4, 5, 6, 7, 8, 9, 10, 11, 12, 14, 7, 1, 2, 3, 4, 5, 6, 7, 8, 9, 10, 11, 12, 13, 14, 15, 9, 1, 2, 3, 4, 5, 6, 7, 9, 11, 13, 1, 2, 3, 4, 9, 12, 13, 1, 2, 3, 4, 5, 6, 7, 8, 9, 10, 11, 12, 13, 14, 12, 4, 1, 2, 3, 4, 5, 6, 7, 8, 9, 10, 11, 12, 14, 15, 1, 9, 3, 2, 3, 4, 6, 7, 8, 10, 12, 1, 2, 3, 4, 5, 9, 10, 13, 3, 5, 9, 6, 13, 10, 14, 11, 15, 13, 13, 3, 3, 4, 6, 9, 13, 15, 3, 13, 1, 2, 3, 4, 5, 6, 7, 8, 9, 10, 11, 14, 15, 6, 7, 14, 4, 6, 7, 13, 12, 11, 1, 4, 9, 12, 8, 8, 1, 2, 3, 4, 5, 6, 7, 8, 9, 11, 12, 13, 14, 15, 2, 4, 8, 9, 12, 4, 6, 8, 9, 2, 4, 6, 7, 8, 9, 10, 11, 12, 13, 15, 9, 9, 2, 5, 6, 7, 8, 11, 14, 3, 9, 2, 4, 6, 10, 14, 15, 15, 1, 2, 3, 4, 5, 6, 7, 8, 11, 12, 1, 5, 6, 7, 13, 2, 4, 6, 9, 10, 15, 1, 2, 3, 4, 5, 6, 7, 8, 9, 10, 11, 12, 13, 14, 15, 1, 2, 3, 4, 5, 6, 7, 8, 9, 10, 11, 12, 14, 15, 4, 6, 8, 4, 2, 4, 5, 6, 8, 9, 10, 12, 4, 4, 4, 9, 13, 11], \"Freq\": [0.11989913243075032, 0.05072655602839437, 0.14203435687950422, 0.07378408149584635, 0.3181938514508374, 0.048881953990998206, 0.034125137691828934, 0.14941276502908887, 0.022135224448753904, 0.0018446020373961587, 0.0036892040747923175, 0.004611505093490397, 0.016601418336565428, 0.01383451528047119, 0.07639256745431507, 0.8148540528460274, 0.03819628372715753, 0.03819628372715753, 0.012732094575719178, 0.04473696291045593, 0.014509285268255977, 0.13662910294274377, 0.04594607001614393, 0.17773874453613572, 0.04473696291045593, 0.020554820796695968, 0.14267463847118378, 0.08947392582091186, 0.009672856845503985, 0.021763927902383965, 0.006045535528439991, 0.22973035008071965, 0.01330017816256798, 0.003627321317063994, 0.07379818837077322, 0.8462192266515329, 0.024599396123591074, 0.024599396123591074, 0.00983975844943643, 0.004919879224718215, 0.004919879224718215, 0.014759637674154644, 0.9956508318015933, 0.165658657026913, 0.034588071247377436, 0.1620178074219259, 0.11286633775460006, 0.016383823222441946, 0.06371486808727422, 0.09466208972966457, 0.05643316887730003, 0.047331044864832285, 0.1729403562368872, 0.034588071247377436, 0.023665522432416142, 0.010922548814961295, 0.0036408496049870984, 0.16508749500693695, 0.12228703333847181, 0.021400230834232568, 0.07744845444769881, 0.0071334102780775226, 0.15897314334001336, 0.1059820955600089, 0.04687669611308086, 0.11719174028270216, 0.09986774389308531, 0.031590816945771885, 0.008152468889231454, 0.004076234444615727, 0.02853364111231009, 0.006114351666923591, 0.07853701900028189, 0.05711783200020501, 0.12280333880044078, 0.07853701900028189, 0.4512308728016196, 0.06568550680023576, 0.03998248240014351, 0.028558916000102505, 0.005711783200020501, 0.011423566400041002, 0.012851512200046128, 0.012851512200046128, 0.035698645000128135, 0.9590376805529567, 0.023294283011177287, 0.2935079659408338, 0.27021368292965653, 0.05124742262459003, 0.009317713204470914, 0.3447553885654238, 0.004658856602235457, 0.17570449209448982, 0.10249428705511905, 0.14642041007874151, 0.5710395993070919, 0.06238759166362185, 0.8734262832907059, 0.12121775669677204, 0.6443680750723145, 0.019139645794227163, 0.012759763862818109, 0.12759763862818108, 0.03827929158845433, 0.009569822897113582, 0.025519527725636218, 0.9498071679402058, 0.48517088114716367, 0.00577584382318052, 0.00577584382318052, 0.01155168764636104, 0.4909467249703442, 0.0019575570791594502, 0.08417495440385636, 0.9122215988883039, 0.9431517421019556, 0.021435266865953536, 0.9341516853472753, 0.9657050586840574, 0.025654595368773195, 0.06413648842193298, 0.15392757221263917, 0.012827297684386597, 0.667019479588103, 0.03848189305315979, 0.025654595368773195, 0.9715121633694455, 0.10706516310837666, 0.8565213048670133, 0.08286253160524827, 0.8447374749757255, 0.014961290428725384, 0.012659553439690708, 0.0034526054835520114, 0.005754342472586686, 0.03567692333003745, 0.9213658295494974, 0.175183569505355, 0.10963869656117456, 0.07388694768253068, 0.07984557249563799, 0.18531323168763741, 0.05184003587403362, 0.06316142301893751, 0.06435314798155897, 0.0667365979068019, 0.013108974588836088, 0.03336829895340095, 0.041710373691751186, 0.02800553662160437, 0.01430069955145755, 0.883834569204064, 0.9263806665222607, 0.0013800894604176362, 0.12834831981884018, 0.06762438356046417, 0.11178724629382854, 0.32156084427730924, 0.09798635168965217, 0.13386867766051072, 0.01104071568334109, 0.0013800894604176362, 0.1104071568334109, 0.012420805143758725, 0.09262627480710363, 0.018525254961420726, 0.3334545893055731, 0.5001818839583596, 0.05557576488426218, 0.019232596818020736, 0.30772154908833177, 0.019232596818020736, 0.004808149204505184, 0.019232596818020736, 0.009616298409010368, 0.312529698292837, 0.04808149204505184, 0.004808149204505184, 0.019232596818020736, 0.014424447613515553, 0.2163667142027333, 0.07929890423197579, 0.15859780846395158, 0.050977867006270154, 0.12461256379310481, 0.005664207445141128, 0.016992622335423382, 0.15293360101881046, 0.07929890423197579, 0.016992622335423382, 0.022656829780564512, 0.016992622335423382, 0.02832103722570564, 0.25488933503135075, 0.06249513511001317, 0.04791293691767677, 0.760357477171827, 0.022914882873671497, 0.08124367564301713, 0.0020831711703337727, 0.014582198192336408, 0.0020831711703337727, 0.004166342340667545, 0.0020831711703337727, 0.34604256612965545, 0.0038881187205579266, 0.1438603926606433, 0.042769305926137195, 0.031104949764463413, 0.01166435616167378, 0.41602870309969814, 0.9279619510271054, 0.05308100702276729, 0.0030332004013009875, 0.058389107725044014, 0.006066400802601975, 0.25251393340830725, 0.0242656032104079, 0.5270185697260467, 0.0007583001003252469, 0.0022749003009757407, 0.045498006019514814, 0.026540503511383644, 0.6616234908964648, 0.06569311257128019, 0.03753892146930297, 0.22992589399948068, 0.08067603718386253, 0.011525148169123218, 0.11525148169123219, 0.662696019724585, 0.10948890760667057, 0.011525148169123218, 0.005762574084561609, 0.9279619780700563, 0.14108377515141773, 0.028216755030283546, 0.8182858958782229, 0.011286702012113419, 0.90870626279284, 0.05192607215959086, 0.02596303607979543, 0.014031114281218985, 0.009150726705142815, 0.013421065834209463, 0.924833445666434, 0.0030502422350476054, 0.004270339129066648, 0.0018301453410285633, 0.0048803875760761685, 0.024401937880380843, 0.12532177913873516, 0.06417862737900623, 0.12011810664854546, 0.04076210117315261, 0.4219311110795478, 0.006504590612737119, 0.05810767614045159, 0.01777921434148146, 0.0078055087352845425, 0.00477003311600722, 0.0802232842237578, 0.04423121616661241, 0.0078055087352845425, 0.9528451723466571, 0.8708026925999938, 0.8653178243742105, 0.05397020398713925, 0.1079404079742785, 0.027855589154652513, 0.029596563476818296, 0.21413984162639121, 0.001740974322165782, 0.5135874250389058, 0.006963897288663128, 0.010445845932994692, 0.008704871610828911, 0.026114614832486734, 0.001740974322165782, 0.8887583610330991, 0.7186379657014642, 0.1026625665287806, 0.01833260116585368, 0.014666080932682943, 0.007333040466341471, 0.007333040466341471, 0.03666520233170736, 0.029332161865365886, 0.007333040466341471, 0.007333040466341471, 0.04399824279804883, 0.9333871897239697, 0.03117786019954805, 0.009743081312358765, 0.021434778887189282, 0.0019486162624717531, 0.05521742336497925, 0.0662609080379751, 0.01104348467299585, 0.07730439271097095, 0.01104348467299585, 0.20982620878692115, 0.0662609080379751, 0.49695681028481326, 0.9349868615683725, 0.008765765912177589, 0.26078153588728326, 0.0065743244341331915, 0.017531531824355177, 0.6420923530670084, 0.046020271038932345, 0.013148648868266383, 0.004382882956088794, 0.0037133827481386937, 0.37876504031014674, 0.014853530992554775, 0.0037133827481386937, 0.12625501343671558, 0.46417284351733673, 0.0037133827481386937, 0.08678337300555782, 0.8678337300555782, 0.1257535461979373, 0.8173980502865925, 0.4138778147157884, 0.15131016882082587, 0.0267017944977928, 0.0133508972488964, 0.022251495414827332, 0.031152093580758267, 0.03560239266372373, 0.022251495414827332, 0.0044502990829654665, 0.031152093580758267, 0.24476644956310067, 0.9624729507676509, 0.970313932199121, 0.13178853449686012, 0.8346607184801141, 0.9848536812598364, 0.12115637431724871, 0.38484965959596645, 0.014253691096146907, 0.11402952876917526, 0.014253691096146907, 0.02138053664422036, 0.3278348952113789, 0.11043981051476572, 0.1078513774558259, 0.05521990525738286, 0.023295897530458395, 0.29249293566019985, 0.08973234604324715, 0.04486617302162357, 0.12165635377017162, 0.029335574667984646, 0.004314055098233036, 0.0362380628251575, 0.05090585015914983, 0.017256220392932144, 0.012942165294699107, 0.0034512440785864286, 0.08285149267462188, 0.04142574633731094, 0.08285149267462188, 0.6420990682283196, 0.08285149267462188, 0.06213861950596642, 0.035551426246173155, 0.10665427873851946, 0.07110285249234631, 0.035551426246173155, 0.07110285249234631, 0.01185047541539105, 0.08295332790773735, 0.10665427873851946, 0.47401901661564205, 0.8487752557403795, 0.05018185875961679, 0.004181821563301399, 0.016727286253205596, 0.8907279929831979, 0.03345457250641119, 0.028444968716698344, 0.8675715458592995, 0.09955739050844421, 0.06716086016120804, 0.8730911820957046, 0.991639462120722, 0.024256420559082576, 0.970256822363303, 0.8614779906230909, 0.010734928232063437, 0.12076794261071368, 0.0026837320580158593, 0.9631836306276453, 0.015416266776976918, 0.007708133388488459, 0.007708133388488459, 0.08478946727337305, 0.10791386743883842, 0.12333013421581535, 0.08478946727337305, 0.5010286702517498, 0.007708133388488459, 0.007708133388488459, 0.05395693371941921, 0.911850045639694, 0.9854106116424189, 0.8956812186045711, 0.03387921559845053, 0.05081882339767579, 0.08469803899612631, 0.8131011743628126, 0.9219165099594457, 0.8588456135790188, 0.03847965587554507, 0.07695931175109014, 0.019239827937772534, 0.827312601324219, 0.019239827937772534, 0.01670181814129079, 0.9770563612655111, 0.967423346247367, 0.9719253533824265, 0.8149371611841922, 0.16778118024380428, 0.9542980249131363, 0.8771442633213887, 0.04278752504006775, 0.0050338264753020875, 0.07047357065422923, 0.0025169132376510438, 0.06615102894655306, 0.8599633763051898, 0.9042990476012153, 0.024101752829400434, 0.19763437320108354, 0.03374245396116061, 0.09640701131760174, 0.06748490792232122, 0.02892210339528052, 0.019281402263520347, 0.004820350565880087, 0.009640701131760174, 0.5205978611150494, 0.9042990459389448, 0.996908583143498, 0.0023707695199607563, 0.8838345706224333, 0.9134069255031866, 0.026097340728662474, 0.05219468145732495, 0.11445184672774276, 0.16023258541883986, 0.7096014497120051, 0.9175570796323201, 0.8487752560371833, 0.1512000400356351, 0.7938002101870842, 0.9752330282374041, 0.5308781399107098, 0.006137319536539997, 0.06444185513366997, 0.3099346365952698, 0.08592247351155995, 0.8653178242068698, 0.9823790699449392, 0.01275255539091645, 0.0028339011979814335, 0.35990545214364206, 0.24796635482337545, 0.08501703593944301, 0.060928875756600824, 0.05809497455861939, 0.12894250450815523, 0.0028339011979814335, 0.03967461677174007, 0.03626555576845796, 0.007253111153691593, 0.05077177807584115, 0.8993857830577575, 0.9491594878758763, 0.32606530918491644, 0.1335315075709658, 0.0062107677939984085, 0.004658075845498807, 0.15216381095296103, 0.11024112834347176, 0.0015526919484996021, 0.17855957407745426, 0.0031053838969992043, 0.08539805716747811, 0.1982156938089181, 0.29412651339387846, 0.006394054638997358, 0.006394054638997358, 0.4859481525637992, 0.0762043403327548, 0.124333397385021, 0.06417207606968826, 0.18449471870035375, 0.12460078103531137, 0.060696088615913475, 0.14866530956144447, 0.05026812625458914, 0.015240868066550962, 0.009625811410453239, 0.09759503235598423, 0.03449249088745744, 0.009358427760162871, 0.0002673836502903677, 0.9752330289516301, 0.9440470192340162, 0.9752330283770392, 0.9622235977398496, 0.011766329253732171, 0.020591076194031298, 0.3114400274347234, 0.5096291358022746, 0.009192444729478258, 0.030518916501867818, 0.06250862416045216, 0.018384889458956517, 0.010295538097015649, 0.003309280102612173, 0.0007353955783582607, 0.009192444729478258, 0.002206186735074782, 0.25810908403499416, 0.013584688633420746, 0.0019406698047743922, 0.013584688633420746, 0.06986411297187811, 0.0504574149241342, 0.440532045683787, 0.07956746199575007, 0.011644018828646354, 0.013584688633420746, 0.04463540550981102, 0.9077434936693949, 0.0533966760981997, 0.03493745937200786, 0.03493745937200786, 0.17468729686003928, 0.17468729686003928, 0.011645819790669285, 0.03493745937200786, 0.5124160707894485, 0.02329163958133857, 0.9412342937394617, 0.974544820105237, 0.014228811669719345, 0.04268643500915803, 0.007114405834859673, 0.7043261776511075, 0.21343217504579015, 0.014228811669719345, 0.007114405834859673, 0.9392055542483131, 0.0528703807102672, 0.008811730118377867, 0.2511343083737692, 0.07049384094702293, 0.07489970600621187, 0.008811730118377867, 0.3392516095575479, 0.004405865059188933, 0.11895835659810121, 0.03524692047351147, 0.0396527855327004, 0.8966556820164877, 0.14259343763311916, 0.855560625798715, 0.9578527331888153, 0.9379437841749468, 0.0246827311624986, 0.9578527327701084, 0.9714528209648885, 0.1299525594034665, 0.15255300451711284, 0.15255300451711284, 0.01695033383523476, 0.011300222556823173, 0.0847516691761738, 0.09040178045458538, 0.12147739248584911, 0.014125278196028967, 0.011300222556823173, 0.0028250556392057933, 0.16102817143473022, 0.0423758345880869, 0.0056501112784115865, 0.9630958587336216, 0.9249090348083446, 0.9607816918956426, 0.026688380330434514, 0.9197615600217489, 0.865317824777967, 0.982238535867404, 0.9460872022923464, 0.1654525740995383, 0.03049518032422863, 0.09018787372484638, 0.13690389464706895, 0.08142861980192964, 0.046391604110262705, 0.22060343213271774, 0.05223110672554052, 0.0340637652557873, 0.05742177571689859, 0.027899845828549596, 0.024006844085031048, 0.015896423786034074, 0.00973250435879637, 0.0071371698631173385, 0.04751692035297247, 0.06652368849416146, 0.038013536282377976, 0.01425507610589174, 0.052268612388269714, 0.04276522831767522, 0.10928891681183667, 0.1425507610589174, 0.01425507610589174, 0.01425507610589174, 0.4133972070708605, 0.01425507610589174, 0.02851015221178348, 0.06069084504512755, 0.09103626756769133, 0.7889809855866582, 0.030345422522563774, 0.9393180335807723, 0.053193650795347006, 0.2618764346847853, 0.09820366300679448, 0.01636727716779908, 0.06956092796314609, 0.2946109890203834, 0.01227545787584931, 0.1636727716779908, 0.00818363858389954, 0.02045909645974885, 0.911850046504847, 0.1599705062411192, 0.12569111204659367, 0.6208379170786292, 0.00761764315433901, 0.011426464731508514, 0.07236760996622059, 0.05052042849018332, 0.9093677128232996, 0.9125809790203313, 0.06924428219196141, 0.20773284657588426, 0.05770356849330118, 0.023081427397320473, 0.05770356849330118, 0.034622141095980705, 0.034622141095980705, 0.49625068904239017, 0.03809382333028484, 0.030475058664227873, 0.5409322912900447, 0.015237529332113937, 0.015237529332113937, 0.022856293998170903, 0.022856293998170903, 0.3047505866422787, 0.862541428039167, 0.9497596600978979, 0.7196301125857458, 0.07429155245492292, 0.01330594969341903, 0.011088291411182526, 0.07429155245492292, 0.002217658282236505, 0.02550307024571981, 0.00443531656447301, 0.00887063312894602, 0.01663243711677379, 0.007761803987827768, 0.014414778834537283, 0.01330594969341903, 0.014414778834537283, 0.1333865698100603, 0.8635025308756535, 0.9777801537755263, 0.40995681085171026, 0.02141565429822367, 0.036712550225526296, 0.010707827149111835, 0.10248920271292757, 0.05506882533828944, 0.0015296895927302623, 0.26157692035687485, 0.07495479004378285, 0.0030593791854605246, 0.016826585520032886, 0.006118758370921049, 0.0015296895927302623, 0.05645550068235251, 0.7903770095529351, 0.11291100136470501, 0.019817181092590418, 0.06704110199408247, 0.016022401734434807, 0.8896649384120379, 0.00042164215090617906, 0.0012649264527185373, 0.00042164215090617906, 0.0029514950563432536, 0.0016865686036247162, 0.00042164215090617906, 0.9734504054277097, 0.8487752527849097, 0.9598301015224115, 0.12053283139924215, 0.07562844323089703, 0.007090166552896597, 0.7751915431166946, 0.004726777701931064, 0.007090166552896597, 0.004726777701931064, 0.004726777701931064, 0.8754673451468898, 0.04377336725734449, 0.07295561209557415, 0.08051929089208143, 0.8857121998128957, 0.9438765881092076, 0.034958392152192874, 0.019129878254027285, 0.044636382592730325, 0.006376626084675761, 0.5802729737054942, 0.006376626084675761, 0.18492215645559706, 0.03825975650805457, 0.044636382592730325, 0.03188313042337881, 0.03188313042337881, 0.04354421722447502, 0.9144285617139755, 0.9921668248836947, 0.9366256641087831, 0.9315828485323341, 0.41799442575104406, 0.1013319820002531, 0.03799949325009491, 0.022166371062555368, 0.06016586431265028, 0.05699923987514237, 0.015833122187539548, 0.022166371062555368, 0.031666244375079096, 0.018999746625047456, 0.034832868812587, 0.015833122187539548, 0.0031666244375079095, 0.15833122187539547, 0.0446220336699534, 0.9370627070690214, 0.15094727065074853, 0.03354383792238856, 0.01032118089919648, 0.1354654993019538, 0.01806206657359384, 0.05289605210838196, 0.11869358034075952, 0.00258029522479912, 0.00129014761239956, 0.46703343568864075, 0.00774088567439736, 0.0028513291129527193, 0.048472594920196226, 0.31649753153775184, 0.12260715185696693, 0.028513291129527194, 0.3307541771025154, 0.14256645564763595, 0.005702658225905439, 0.005702658225905439, 0.08673217043225781, 0.029907644976640627, 0.0717783479439375, 0.0239261159813125, 0.06579681894860938, 0.08972293492992188, 0.12262134440422656, 0.03289840947430469, 0.0239261159813125, 0.4097347361799766, 0.038879938469632815, 0.005981528995328125, 0.9248293684331303, 0.051379409357396134, 0.03474914047505249, 0.10038640581681829, 0.11325645784461551, 0.14543158791410854, 0.09781239541125884, 0.06048924453064692, 0.08365533818068191, 0.010296041622237774, 0.03732315088061193, 0.02316609365003499, 0.05534122371952803, 0.19433778561973797, 0.027027109258374156, 0.009009036419458051, 0.0077220312166783305, 0.0006356639746733625, 0.08327198068221049, 0.34686064218009816, 0.36826132932743466, 0.0031783198733668122, 0.10954609163537614, 0.029240542834974674, 0.014832159409045125, 0.008263631670753712, 0.003813983848040175, 0.00254265589869345, 0.00084755196623115, 0.01949369522331645, 0.009111183636984863, 0.22614400581214644, 0.11172590763338187, 0.0053843810907653914, 0.03903676290804909, 0.06730476363456739, 0.0013460952726913479, 0.34460038980898505, 0.016153143272296173, 0.013460952726913479, 0.0013460952726913479, 0.07134304945264143, 0.07538133527071549, 0.02422971490844426, 0.9446301330324581, 0.021968142628661817, 0.021968142628661817, 0.08847901446933555, 0.16764444846821472, 0.0023283951176140934, 0.004656790235228187, 0.7124889059899125, 0.0023283951176140934, 0.004656790235228187, 0.004656790235228187, 0.0023283951176140934, 0.01397037070568456, 0.007192420738506767, 0.6643998657195626, 0.01708199925395357, 0.00899052592313346, 0.013485788884700188, 0.09440052219290132, 0.03596210369253384, 0.020678209623206954, 0.012586736292386842, 0.04225547183872726, 0.013485788884700188, 0.06383273405424755, 0.0017981051846266917, 0.0035962103692533834, 0.8410785807083456, 0.06798671888827737, 0.009064895851770316, 0.002266223962942579, 0.6572049492533478, 0.03852580737002384, 0.011331119814712895, 0.09291518248064573, 0.12010987003595668, 0.002266223962942579, 0.09363485344229791, 0.003601340517011458, 0.6806533577151656, 0.003601340517011458, 0.025209383619080206, 0.02160804310206875, 0.05762144827218333, 0.10804021551034375, 0.8625414276581839, 0.9173762073197772, 0.8900867765491686, 0.08726340946560476, 0.1515645886898582, 0.07316911178131086, 0.026131825636182448, 0.09930093741749331, 0.02090546050894596, 0.02090546050894596, 0.5383156081053584, 0.00522636512723649, 0.01567909538170947, 0.04181092101789192, 0.00522636512723649, 0.994619097013283, 0.9427470118962935, 0.01178433764870367, 0.035353012946111005, 0.09293687331026426, 0.8643129217854577, 0.03717474932410571, 0.03824763906461693, 0.013084718627368949, 0.46400425286285274, 0.20130336349798383, 0.0040260672699596765, 0.03824763906461693, 0.010065168174899192, 0.0020130336349798383, 0.04529325678704636, 0.0010065168174899191, 0.17614044306073584, 0.0010065168174899191, 0.006039100904939514, 0.5913487671371168, 0.08556493415167285, 0.09126926309511771, 0.003802885962296571, 0.05894473241559685, 0.03802885962296571, 0.011408657886889714, 0.026620201736076, 0.04753607452870714, 0.009507214905741428, 0.005704328943444857, 0.01711298683033457, 0.009507214905741428, 0.004671628067284968, 0.29431256823895297, 0.001167907016821242, 0.6914009539581752, 0.002335814033642484, 0.004671628067284968, 0.968783760711964, 0.031287552271212674, 0.1251502090848507, 0.7821888067803168, 0.34461768411357446, 0.03393962040512476, 0.02937082535058873, 0.05221480062326885, 0.07766951592711242, 0.004568795054536025, 0.0052214800623268855, 0.1742668970801598, 0.11813598641014578, 0.00848490510128119, 0.004568795054536025, 0.13836922165166246, 0.0013053700155817214, 0.0052214800623268855, 0.0032634250389543032, 0.04105653761015639, 0.024633922566093834, 0.04926784513218767, 0.032845230088125114, 0.04516219137117203, 0.7636515995489088, 0.024633922566093834, 0.020528268805078194, 0.036214947510323364, 0.7122273010363595, 0.09254931030415971, 0.10864484253097008, 0.02011941528351298, 0.0040238830567025955, 0.008047766113405191, 0.016095532226810382, 0.10335533752052287, 0.06124760741956911, 0.09569938659307674, 0.05741963195584604, 0.04210773010095376, 0.17225889586753812, 0.022967852782338417, 0.03827975463723069, 0.022967852782338417, 0.03827975463723069, 0.31772196348901477, 0.019139877318615345, 0.007655950927446139, 0.9115524834520288, 0.016920333967454508, 0.050761001902363524, 0.04230083491863627, 0.04230083491863627, 0.025380500951181762, 0.1269025047559088, 0.2199643415769086, 0.06768133586981803, 0.3891676812514537, 0.016920333967454508, 0.4074849470708563, 0.060572086726748915, 0.033039320032772136, 0.40197839373206096, 0.07158519340433962, 0.016519660016386068, 0.04193714608756744, 0.04193714608756744, 0.08387429217513488, 0.04193714608756744, 0.7548686295762139, 0.9865418899550601, 0.056930688451442696, 0.014232672112860674, 0.028465344225721348, 0.2704207701443528, 0.04269801633858202, 0.09962870479002472, 0.028465344225721348, 0.4412128354986809, 0.9222567185230351, 0.9817673929382674, 0.907585523826626, 0.06050570158844174, 0.9723182175030073, 0.43856319171933517, 0.030097473941523, 0.038696752210529574, 0.017198556538013145, 0.012898917403509859, 0.120389895766092, 0.02149819567251643, 0.004299639134503286, 0.05589530874854272, 0.004299639134503286, 0.025797834807019717, 0.02149819567251643, 0.21068231759066103, 0.0025119575504557283, 0.020095660403645826, 0.2662675003483072, 0.0803826416145833, 0.020095660403645826, 0.010047830201822913, 0.005023915100911457, 0.012559787752278641, 0.14318158037597653, 0.035167405706380196, 0.022607617954101555, 0.02763153305501301, 0.010047830201822913, 0.3416262268619791, 0.016665648037479112, 0.24165189654344715, 0.04999694411243734, 0.09166106420613512, 0.05832976813117689, 0.06666259214991645, 0.008332824018739556, 0.008332824018739556, 0.4249740249557174, 0.016665648037479112, 0.026515568653318562, 0.11932005893993353, 0.026515568653318562, 0.1325778432665928, 0.09280449028661497, 0.0662889216332964, 0.013257784326659281, 0.053031137306637124, 0.026515568653318562, 0.4375068827797563, 0.20487390678940998, 0.06747344235579371, 0.10489053311673384, 0.1300397252675297, 0.15334873262680387, 0.04048406541347622, 0.053365358954127744, 0.09446281929811118, 0.04140415780923704, 0.014108083401665956, 0.044164434996519515, 0.02453579722028862, 0.006133949305072155, 0.01349468847115874, 0.00674734423557937, 0.011388695713330689, 0.06548500035165146, 0.23346826212327912, 0.011388695713330689, 0.056943478566653445, 0.07402652213664948, 0.02562456535499405, 0.008541521784998016, 0.059790652494986114, 0.014235869641663361, 0.3188834799732593, 0.04270760892499008, 0.07687369606498215, 0.023071142894528947, 0.046142285789057894, 0.18456914315623157, 0.023071142894528947, 0.7152054297303974, 0.053804301132855316, 0.03586953408857021, 0.7711949829042595, 0.07173906817714042, 0.017934767044285104, 0.03586953408857021, 0.9213658333969919, 0.8869519930811082, 0.017577194703583057, 0.04394298675895765, 0.7382421775504885, 0.06737924636373506, 0.08495644106731812, 0.029295324505971766, 0.0029295324505971766, 0.0029295324505971766, 0.008788597351791529, 0.8428063099233033, 0.015050112677201846, 0.08528397183747713, 0.015050112677201846, 0.03010022535440369, 0.010033408451467897, 0.005310134387392476, 0.008297084980300743, 0.591084333996625, 0.15133883004068555, 0.07732883201640293, 0.05442887747077288, 0.05111004347865258, 0.002323183794484208, 0.0009956501976360892, 0.0006637667984240595, 0.057415828063681146, 0.023411278202787694, 0.7023383460836308, 0.04682255640557539, 0.18729022562230155, 0.023411278202787694, 0.01997031319264415, 0.17973281873379737, 0.778842214513122, 0.9249090349158411, 0.46867873404431587, 0.040558736599988876, 0.03492557873887931, 0.29067094563325363, 0.15209526224995829, 0.007886421005553392, 0.0022532631444438264, 0.0022532631444438264, 0.016442381854892916, 0.970100529438682, 0.9381277250919502, 0.11217711962816099, 0.8018586699346322, 0.07893945455315032, 0.004154708134376333, 0.9875247479621517, 0.26972013258016064, 0.2770428511117487, 0.23534403725131664, 0.014645437063176144, 0.16659184659362863, 0.002847723873395361, 0.0063056742910897285, 0.013018166278378793, 0.001830679632897018, 0.001220453088598012, 0.0016272707847973492, 0.0034579504176943674, 0.003661359265794036, 0.001220453088598012, 0.0016272707847973492, 0.016281781324180306, 0.016281781324180306, 0.048845343972540915, 0.17909959456598334, 0.03256356264836061, 0.016281781324180306, 0.11397246926926213, 0.016281781324180306, 0.08954979728299167, 0.4721716584012288, 0.2555903670619975, 0.028398929673555277, 0.6815743121653267, 0.1094951165756988, 0.17792956443551056, 0.7117182577420422, 0.1136421721681521, 0.7386741190929886, 0.13258253419617744, 0.018940362028025348, 0.11416114081582066, 0.06523493760904037, 0.19570481282712113, 0.03261746880452018, 0.5708057040791032, 0.01630873440226009, 0.07276116098797922, 0.10914174148196883, 0.7639921903737817, 0.9569092648644936, 0.9909168219975584, 0.9547251479877011, 0.9266521322057919, 0.01570596834247105, 0.0314119366849421, 0.01570596834247105, 0.5274250828297347, 0.06402269791574813, 0.04725484846162362, 0.09146099702249734, 0.0929853469728723, 0.004573049851124867, 0.07774184746912274, 0.013719149553374601, 0.027438299106749203, 0.006097399801499823, 0.03506004885862398, 0.0015243499503749557, 0.007621749751874778, 0.0026476343154842583, 0.038390697574521744, 0.18268676776841383, 0.235639454078099, 0.08207666378001201, 0.0860481152532384, 0.2634396143906837, 0.04500978336323239, 0.04633360052097452, 0.0013238171577421292, 0.005295268630968517, 0.003971451473226388, 0.007942902946452775, 0.06374174762477983, 0.20336652813620232, 0.12141285261862825, 0.006070642630931412, 0.45529819731985594, 0.003035321315465706, 0.0485651410474513, 0.027317891839191356, 0.06677706894024553, 0.970090955726266, 0.3098117846427763, 0.0029505884251692983, 0.10032000645575614, 0.1770353055101579, 0.026555295826523682, 0.3688235531461623, 0.01770353055101579, 0.004092363886018853, 0.07161636800532993, 0.07161636800532993, 0.03273891108815082, 0.5238225774104132, 0.16369455544075412, 0.02455418331611312, 0.05320073051824509, 0.04501600274620738, 0.010230909715047132, 0.015735491086836896, 0.03409356402147994, 0.005245163695612298, 0.6844938622774049, 0.23078720260694113, 0.005245163695612298, 0.015735491086836896, 0.005245163695612298, 0.07270964284874933, 0.09420243035749913, 0.01737714734749984, 0.3772670147812465, 0.0324678279387497, 0.10792123089499901, 0.11798168462249892, 0.043900161719999595, 0.05944813566249945, 0.0059448135662499456, 0.0041156401612499624, 0.010975040429999899, 0.005487520214999949, 0.047101215178749566, 0.0027437601074999747, 0.011468780428379016, 0.017203170642568523, 0.002867195107094754, 0.05447670703480032, 0.048742316820610816, 0.6250485333466563, 0.13189097492635868, 0.08601585321284262, 0.008601585321284261, 0.01433597553547377, 0.0764511349894924, 0.029548598186122828, 0.00984953272870761, 0.15477837145111956, 0.16744205638802936, 0.10693778391168261, 0.15477837145111956, 0.13648638209780545, 0.016884913249213044, 0.029079572818089133, 0.053937917323875, 0.05722109490011087, 0.0060973297844380435, 0.04398102304855482, 0.03281123941717582, 0.11658461665251833, 0.1633580856089179, 0.05375458372601145, 0.025830124647563943, 0.3672066368815847, 0.03769801975590413, 0.007679226246573064, 0.016754675447068504, 0.06143380997258451, 0.06492436735739045, 0.0006981114769611876, 0.002094334430883563, 0.005584891815689501, 0.006801895150539202, 0.09598229823538652, 0.13528213688294635, 0.040811370903235215, 0.12470141109321871, 0.2781219350442696, 0.014359556428916094, 0.14813016105618707, 0.11941104819835488, 0.0045345967670261346, 0.007557661278376891, 0.0007557661278376892, 0.024184516090806053, 0.0007557661278376892, 0.12560295207906058, 0.8038588933059878, 0.06698824110883231, 0.9498071690599599, 0.8487752555294446, 0.2312569846025226, 0.1333656784989305, 0.0615188483311565, 0.10417790374327232, 0.07364300092196836, 0.05163990918308757, 0.0902575803982661, 0.05568129338002486, 0.06062076295405932, 0.04714948229760169, 0.032780116264046893, 0.018859792919040677, 0.008082768393874576, 0.027391604001463843, 0.0035923415083887007, 0.010554159503160828, 0.46271657190173526, 0.42105541596820567, 0.0199973548480942, 0.0011109641582274555, 0.0011109641582274555, 0.0638804390980787, 0.0005554820791137278, 0.002221928316454911, 0.016108980294298105, 0.0005554820791137278, 0.02328428663158333, 0.9080871786317498, 0.04656857326316666, 0.3203591034000864, 0.0533931839000144, 0.21842666140914982, 0.009707851618184436, 0.033977480663645525, 0.31065125178190195, 0.04853925809092218, 0.9779848205761558, 0.32515980815363227, 0.013271828904229888, 0.004423942968076629, 0.004423942968076629, 0.015483800388268201, 0.11944646013806899, 0.030967600776536403, 0.11944646013806899, 0.14820208943056706, 0.0022119714840383147, 0.015483800388268201, 0.059723230069034496, 0.01990774335634483, 0.11723448865403067, 0.0022119714840383147, 0.82062133205188, 0.06312471785014462, 0.009017816835734946, 0.054106901014409674, 0.036071267342939785, 0.009017816835734946, 0.18810768033125996, 0.12452198557139744, 0.10862556188143181, 0.1033267539847766, 0.07418331055317294, 0.07948211844982815, 0.04768927106989689, 0.03179284737993126, 0.23844635534948447, 0.00529880789665521, 0.9830633484956963, 0.049602306289447014, 0.869693770274971, 0.07936369006311522, 0.9729523309235184, 0.5906998985470834, 0.03822175814128186, 0.05038322664078064, 0.036484405498496325, 0.029534994927354168, 0.059069989854708335, 0.08513027949649142, 0.05385793192635172, 0.02779764228456863, 0.0034747052855710787, 0.02258558435621201, 0.8811438448960858, 0.9472106921819887, 0.9438477759782097, 0.018341547301156034, 0.09996143279130039, 0.23477180545479723, 0.14764945577430608, 0.02842939831679185, 0.09354189123589578, 0.055941719268525904, 0.18066424091638694, 0.044936790887832284, 0.03576601723725427, 0.0009170773650578017, 0.044936790887832284, 0.01100492838069362, 0.0009170773650578017, 0.0009170773650578017, 0.3120635317074245, 0.02836941197340223, 0.624127063414849, 0.9752330284465766, 0.9991453732823871, 0.9565343293233842, 0.08172200115278966, 0.8989420126806862, 0.9206416879141517, 0.9771540942960442, 0.12963548232810954, 0.009259677309150682, 0.11111612770980818, 0.009259677309150682, 0.037038709236602727, 0.037038709236602727, 0.21297257811046566, 0.009259677309150682, 0.018519354618301363, 0.009259677309150682, 0.40742580160263, 0.06805656114828183, 0.006805656114828184, 0.19736402733001732, 0.02041696834448455, 0.10889049783725094, 0.3811167424303783, 0.21097533955967368, 0.006805656114828184, 0.8956812174251433, 0.9824304044153851, 0.007797066701709405, 0.984130916623998, 0.881143845050812, 0.7509721390261032, 0.04273825181449367, 0.05952827931304476, 0.022895492043478755, 0.009158196817391502, 0.001526366136231917, 0.041211885678261756, 0.02442185817971067, 0.015263661362319169, 0.012210929089855336, 0.003052732272463834, 0.004579098408695751, 0.001526366136231917, 0.009158196817391502, 0.024318410495082578, 0.0447970719646258, 0.021758577811389672, 0.03711757391354709, 0.03455774122985419, 0.7001142389900089, 0.010239330734771611, 0.07679498051078708, 0.020478661469543222, 0.010239330734771611, 0.006399581709232257, 0.006399581709232257, 0.006399581709232257, 0.021006833090626956, 0.903293822896959, 0.06302049927188087, 0.007799242664032493, 0.16690379301029534, 0.6863333544348593, 0.09203106343558341, 0.017158333860871483, 0.023397727992097477, 0.003119697065612997, 0.9467717904262716, 0.025588426768277613, 0.019874055985725957, 0.8877078340290927, 0.05299748262860255, 0.0331234266428766, 0.11446838560570573, 0.11160667596556309, 0.045787354242282294, 0.03720222532185436, 0.6338686852915955, 0.00858512892042793, 0.005723419280285287, 0.027186241581355113, 0.007154274100356608, 0.007154274100356608, 0.024652449189403278, 0.27939442414657045, 0.026022029699925682, 0.315003517420153, 0.1588713392205989, 0.03834825429462732, 0.064370283994553, 0.004108741531567213, 0.006847902552612022, 0.01917412714731366, 0.005478322042089617, 0.05615280093141858, 0.016881820286055498, 0.14630910914581433, 0.011254546857370333, 0.06190000771553683, 0.056272734286851665, 0.6640182645848496, 0.011254546857370333, 0.011254546857370333, 0.022509093714740667, 0.004062409213712944, 0.0013541364045709815, 0.14895500450280796, 0.4983221968821212, 0.2044745970902182, 0.12999709483881422, 0.005416545618283926, 0.005416545618283926, 0.018472309358927533, 0.09895880013711178, 0.089722645457648, 0.12402836283851343, 0.25861233102498543, 0.0039583520054844714, 0.20451485361669766, 0.015833408021937886, 0.01451395735344306, 0.009236154679463766, 0.1332645175179772, 0.011875056016453413, 0.0026389013369896475, 0.01451395735344306, 0.9780910351541896, 0.09072453771475157, 0.030241512571583855, 0.12096605028633542, 0.7257963017180126, 0.6452129452880011, 0.13222882582445455, 0.09718022138905696, 0.011151828683990143, 0.009558710300562979, 0.015931183834271632, 0.012744947067417306, 0.0653178537205137, 0.007965591917135816, 0.0031862367668543264, 0.958074453349739, 0.9549500146744349, 0.8894471406333807, 0.0789696059440852, 0.029094065347820865, 0.9311649032437073, 0.8956812189246213, 0.6007341259713409, 0.01035748493054036, 0.037286945749945295, 0.006214490958324216, 0.06352590757398087, 0.1084083422729891, 0.07871688547210673, 0.046953931685116294, 0.021405468856450078, 0.0034524949768467866, 0.006214490958324216, 0.0013809979907387147, 0.004142993972216144, 0.011047983925909718, 0.41438214677007246, 0.14807158361318656, 0.0734900734394685, 0.0585737714047249, 0.07458151017371804, 0.02910497957998753, 0.040383159167232695, 0.04765940406222958, 0.02910497957998753, 0.021828734684990646, 0.017099175503242674, 0.01600773876899314, 0.011278179587245168, 0.018190612237492205, 0.0003638122447498441, 0.9656802234682325, 0.9118500464286223, 0.9123311828006707, 0.021834693528234014, 0.06170674257979178, 0.22736561304400202, 0.23970696155996038, 0.04841605956260586, 0.10157879163134954, 0.025157364282530497, 0.052688064818129904, 0.12104014890651466, 0.023733362530689146, 0.01803735552332375, 0.03275204029235102, 0.01803735552332375, 0.0037973380049102635, 0.0033226707542964805, 0.13110211915105785, 0.054625882979607444, 0.7975378915022686, 0.02489184924645649, 0.24731256670672902, 0.004014814394589757, 0.10679406289608753, 0.010438517425933368, 0.025694812125374444, 0.5179110569020786, 0.05701036440317454, 0.0016059257578359028, 0.0008029628789179514, 0.0032118515156718055, 0.9537545390077931, 0.9626681073527846, 0.08581219743689489, 0.4780965285769858, 0.049035541392511366, 0.012258885348127841, 0.36776656044383527, 0.9565233009175111, 0.9118500460787129, 0.15185596613478652, 0.15526845975579295, 0.012796851078774145, 0.037110868128445024, 0.11730446822209634, 0.17233092786082516, 0.1330872512192511, 0.09768262990130931, 0.024740578752296682, 0.005545302134135463, 0.017489029807658, 0.04606866388358692, 0.006824987242012878, 0.01663590640240639, 0.004692178728883853, 0.012410396707496638, 0.8687277695247647, 0.024820793414993277, 0.08687277695247647, 0.9888930714257698, 0.9459909040488284, 0.013492689857583326, 0.053970759430333304, 0.013492689857583326, 0.06746344928791663, 0.10794151886066661, 0.10794151886066661, 0.6341564233064163, 0.37675423340849645, 0.21508730489365657, 0.021086990675848682, 0.03092758632457807, 0.014057993783899122, 0.016869592540678945, 0.022492790054238595, 0.03373918508135789, 0.011246395027119297, 0.007028996891949561, 0.0014057993783899122, 0.053420376378816664, 0.18837711670424823, 0.008434796270339473, 0.8600911910643574, 0.06357195760040903, 0.03739526917671119, 0.011218580753013357, 0.018697634588355595, 0.0056092903765066785, 0.0057470412258438805, 0.8678032251024259, 0.057470412258438804, 0.0057470412258438805, 0.011494082451687761, 0.011494082451687761, 0.022988164903375522, 0.011494082451687761, 0.01754414529559904, 0.9170803222699498, 0.020733989894798865, 0.011164456097199389, 0.0015949222995999127, 0.01754414529559904, 0.0015949222995999127, 0.011164456097199389, 0.9955348303329333, 0.9883585424787878, 0.9612833662640584, 0.018848693456158007, 0.8933594551806084, 0.048179981084201275, 0.0663462034602116, 0.19666910311419863, 0.34515822514419603, 0.02922392295271225, 0.10741766274510448, 0.06713603921569031, 0.03001375870819096, 0.019745893886967736, 0.03238326597462709, 0.010267864821223223, 0.021325565397925156, 0.009478029065744513, 0.007898357554787095, 0.008688193310265803, 0.14824957638478717, 0.019766610184638288, 0.069183135646234, 0.15319122893094672, 0.44969038170052106, 0.15319122893094672, 0.31115450546514134, 0.04411304381277953, 0.06853276449485392, 0.04568850966323594, 0.10082981442921035, 0.05750450354165903, 0.07404689497145135, 0.08113649129850521, 0.058292236466887234, 0.03466024871004106, 0.0653818327939411, 0.025207453607302588, 0.006301863401825647, 0.016542391429792323, 0.010240528027966676, 0.021914837018524355, 0.920423154778023, 0.04382967403704871, 0.4497414939251515, 0.04447992797061938, 0.012355535547394271, 0.0901954094959782, 0.12849756969290044, 0.12849756969290044, 0.004942214218957709, 0.0024711071094788545, 0.018533303321091408, 0.06177767773697136, 0.0543643564085348, 0.0012355535547394273, 0.012414238741188828, 0.13655662615307712, 0.009931390992951062, 0.09931390992951063, 0.3699443144874271, 0.01737993423766436, 0.07696828019537073, 0.13407377840483933, 0.06703688920241967, 0.02731132523061542, 0.009931390992951062, 0.004965695496475531, 0.029794172978853187, 0.766460845073232, 0.0436481119062205, 0.03404552728685199, 0.05848846995433547, 0.01833220700061261, 0.01134850909561733, 0.0349184895249764, 0.00785666014311969, 0.0087296223812441, 0.0034918489524976403, 0.006983697904995281, 0.0008729622381244101, 0.0008729622381244101, 0.0034918489524976403, 0.8928375206854066, 0.9623971652057529, 0.8412757564137787, 0.04673754202298771, 0.09347508404597542, 0.934491106463961, 0.03504341649239854, 0.023362277661599026, 0.9848460150191942, 0.08508171883797418, 0.13825779311170802, 0.010635214854746772, 0.03190564456424031, 0.17016343767594835, 0.5530311724468321, 0.43382874939397187, 0.23631322121460255, 0.07641969840273218, 0.06701419706085744, 0.03762200536749891, 0.005878438338671706, 0.034094942364295895, 0.012932564345077752, 0.03762200536749891, 0.009405501341874728, 0.03291925469656155, 0.004702750670937364, 0.01058118900960907, 0.001175687667734341, 0.8542392257880841, 0.011701907202576495, 0.02340381440515299, 0.058509536012882474, 0.02340381440515299, 0.011701907202576495, 0.8452942043059377, 0.037736348406515074, 0.015094539362606029, 0.0075472696813030146, 0.037736348406515074, 0.015094539362606029, 0.030189078725212058, 0.015094539362606029, 0.9389935781614425, 0.14447573097057057, 0.8427750973283282, 0.8730325788505863, 0.03813333897312691, 0.012711112991042302, 0.4975492799350844, 0.15798097574581146, 0.1489016093236384, 0.0018158732844346147, 0.0018158732844346147, 0.0018158732844346147, 0.06718731152408074, 0.018158732844346145, 0.014526986275476918, 0.025422225982084604, 0.014526986275476918, 0.9770657473013827, 0.9547251480218804, 0.9310501784737005, 0.05336548521165289, 0.907213248598099, 0.005978207765345724, 0.1365345515440249, 0.002121299529638805, 0.03394079247422088, 0.301610224032281, 0.01272779717783283, 0.4821135294633648, 0.002506990353209497, 0.0034712174121362266, 0.0005785362353560378, 0.0005785362353560378, 0.01754893247246648, 0.17594463307168146, 0.817625059568402, 0.003725047852941696, 0.04842562208824205, 0.4768061251765371, 0.003725047852941696, 0.003725047852941696, 0.003725047852941696, 0.022350287117650174, 0.15645200982355123, 0.20115258405885159, 0.03352543067647527, 0.011175143558825087, 0.03725047852941696, 0.08340262442274059, 0.08340262442274059, 0.055601749615160394, 0.7506236198046653, 0.13542843912930194, 0.09968083083121208, 0.08936902074522463, 0.20486129370828413, 0.043309602361147316, 0.09830592281974708, 0.06599558455031972, 0.03712251630955484, 0.05087159642420479, 0.06530813054458723, 0.04055978633821733, 0.027498160229299885, 0.011686718097452451, 0.015811442131847434, 0.01649889613757993, 0.923906275375279, 0.0014186486731458925, 0.0014186486731458925, 0.3589181143059108, 0.41566406123174654, 0.0014186486731458925, 0.0014186486731458925, 0.0014186486731458925, 0.041140811521230884, 0.04539675754066856, 0.008511892038875356, 0.11916648854425498, 0.004255946019437678, 0.9440427676727862, 0.9277003173541217, 0.12231300513410816, 0.8561910359387571, 0.021996510528832426, 0.06598953158649727, 0.9018569316821294, 0.22237510025551913, 0.07240119543202948, 0.052749442386192905, 0.14376808807217284, 0.026891872589039523, 0.10239597639672741, 0.09825876522918287, 0.04137211167544542, 0.07653840659957402, 0.10549888477238581, 0.018617450253950438, 0.0072401195432029485, 0.0072401195432029485, 0.01551454187829203, 0.010343027918861354, 0.9332089425435561, 0.8625414279114336, 0.9618929792635089, 0.9331374847897184, 0.026661070993991953, 0.31424625179087184, 0.03041092759266502, 0.5980815759890787, 0.050684879321108364, 0.08106345245445538, 0.8222150177523332, 0.023160986415558683, 0.023160986415558683, 0.011580493207779341, 0.034741479623338026, 0.9029593694549952, 0.9118500466123985, 0.9795791639164654, 0.9427371146320308, 0.9427371146320308, 0.03395830487210912, 0.1358332194884365, 0.7470827071864008, 0.06791660974421825, 0.9547251480613714, 0.9269705346799149, 0.9572197808341075, 0.9841438871044339, 0.8933594552864343, 0.9757820284947403, 0.9389935780146654, 0.04307844399570113, 0.04307844399570113, 0.8615688799140225, 0.9254164366159668, 0.9239062757712627, 0.010053191730754316, 0.6375399089253362, 0.030159575192262946, 0.06450798027234018, 0.0033510639102514385, 0.02261968139419721, 0.010890957708317175, 0.02513297932688579, 0.03434840508007724, 0.1306914924998061, 0.002513297932688579, 0.010053191730754316, 0.01843085150638291, 0.9029593693414347, 0.9459291820631835, 0.9820959855209717, 0.9785827769529457, 0.9125696562498169, 0.827379495109729, 0.027579316503657633, 0.11951037151584974, 0.018386211002438424, 0.009193105501219212, 0.9000383965592471, 0.06066324272862852, 0.9099486409294277, 0.022772549199700072, 0.9109019679880028, 0.045545098399400144, 0.07766236789234562, 0.47282676922692773, 0.029694434782367444, 0.0062815150501161895, 0.08051760200603479, 0.01998663879582424, 0.007423608695591861, 0.04339955852807549, 0.01884454515034857, 0.0011420936454756708, 0.19529801337633973, 0.003997327759164848, 0.0022841872909513416, 0.03883118394617281, 0.0017131404682135063, 0.9617257150458198, 0.8753083031180964, 0.08470725514046094, 0.02823575171348698, 0.9175570808112589, 0.9440427678856583, 0.49964415423438885, 0.040201253788973816, 0.06748067600292033, 0.06748067600292033, 0.11055344791967799, 0.0043072771916757655, 0.15362621983643565, 0.01435759063891922, 0.01579334970281114, 0.011486072511135375, 0.012921831575027298, 0.6571813239164808, 0.07660395800253457, 0.012095361789873879, 0.006047680894936939, 0.060476808949369396, 0.11893772426709315, 0.008063574526582585, 0.01612714905316517, 0.036286085369621635, 0.008063574526582585, 0.201458780322279, 0.10900851811958932, 0.10555888147023523, 0.13936532063390533, 0.0372560758130242, 0.10624880880010605, 0.08486106157411068, 0.022077674555866192, 0.06761287832734021, 0.05243447707018221, 0.01931796523638292, 0.022767601885737013, 0.006209345968837367, 0.022077674555866192, 0.003449636649354093, 0.17040052910666775, 0.1179695970738469, 0.01310773300820521, 0.02621546601641042, 0.5243093203282084, 0.02621546601641042, 0.06553866504102605, 0.03932319902461563, 0.008834441717867257, 0.18552327607521238, 0.7420931043008495, 0.06184109202507079, 0.09195388139308354, 0.11364556623452889, 0.16127296121248497, 0.07073375491775657, 0.1608014028463666, 0.08535206426742627, 0.07544933857894034, 0.07403466348058521, 0.04998518680854797, 0.008016492224012411, 0.03630999419111504, 0.03159441052993127, 0.020277009743090216, 0.010374284054604296, 0.010374284054604296, 0.25519014231578135, 0.12759507115789068, 0.012759507115789069, 0.051038028463156276, 0.5486588059789299, 0.934155935807198, 0.016831638483012577, 0.033663276966025155, 0.7860361608786315, 0.021535237284346066, 0.04307047456869213, 0.08075713981629776, 0.005383809321086517, 0.0323028559265191, 0.005383809321086517, 0.005383809321086517, 0.010767618642173033, 0.06480275556942652, 0.6057648890185522, 0.17844237040856578, 0.014087555558570983, 0.02254008889371357, 0.03193179259942756, 0.0009391703705713988, 0.033810133340570356, 0.018783407411427977, 0.003756681482285595, 0.008452533335142589, 0.009391703705713988, 0.00751336296457119, 0.05074494954764287, 0.9134090918575718, 0.1453757581533071, 0.1696050511788583, 0.19756192774680198, 0.05342869744095902, 0.07517293477158188, 0.06336892022067234, 0.06274765629694025, 0.1186614094328276, 0.03354825188153241, 0.009318958855981226, 0.015531598093302042, 0.010561486703445389, 0.013667806322105796, 0.03230572403406825, 0.0012425278474641633, 0.037667101710869434, 0.14313498650130385, 0.14125163141576036, 0.595140207031737, 0.06215071782293456, 0.003766710171086943, 0.009416775427717359, 0.003766710171086943, 0.003766710171086943, 0.8967089246807491, 0.014008686408473237, 0.07004343204236618, 0.042026059225419715, 0.6724169476067154, 0.014008686408473237, 0.16810423690167886, 0.9335205210904982, 0.0229187903414893, 0.5341841133439429, 0.30675919380147215, 0.0035259677448445073, 0.015866854851800283, 0.04231161293813409, 0.0017629838724222537, 0.010577903234533522, 0.005288951617266761, 0.0035259677448445073, 0.005288951617266761, 0.04760056455540085, 0.11866687799629336, 0.008476205571163811, 0.021190513927909528, 0.012714308356745717, 0.19495272813676764, 0.05085723342698287, 0.016952411142327622, 0.19495272813676764, 0.012714308356745717, 0.3220958117042248, 0.042381027855819056, 0.17476548265711342, 0.005924253649393675, 0.005924253649393675, 0.13033358028666087, 0.0236970145975747, 0.017772760948181025, 0.21031100455347548, 0.07701529744211778, 0.3347203311907427, 0.01481063412348419, 0.0029621268246968376, 0.060963159269658, 0.07571231070586558, 0.05408022193276113, 0.030481579634829, 0.6538790470052027, 0.05506349869517497, 0.0176989817234491, 0.0058996605744830325, 0.004916383812069194, 0.026548472585173646, 0.001966553524827677, 0.003933107049655354, 0.0058996605744830325, 0.0029498302872415162, 0.9598307267504433, 0.90393072997028, 0.017367162654455915, 0.9146705664680115, 0.017367162654455915, 0.011578108436303943, 0.017367162654455915, 0.017367162654455915, 0.005789054218151971, 0.9745150131277813, 0.0055213315191375715, 0.016563994557412715, 0.9969877124891626, 0.9734978587630296, 0.976651649472057, 0.8375756871534692, 0.09677628297234031, 0.006912591640881451, 0.0023041972136271503, 0.024194070743085078, 0.0023041972136271503, 0.024194070743085078, 0.0011520986068135751, 0.0011520986068135751, 0.0011520986068135751, 0.0011520986068135751, 0.014291028177323811, 0.11952496293761733, 0.278025457267936, 0.05846329708905196, 0.1662956006088589, 0.07145514088661906, 0.020786950076107362, 0.06755758774734892, 0.1779882600266693, 0.00909429065829697, 0.00649592189878355, 0.00649592189878355, 0.0012991843797567101, 0.0012991843797567101, 0.0012991843797567101, 0.063476111127933, 0.888665555791062, 0.20888283129646962, 0.0783310617361761, 0.7049795556255849, 0.005686678138124241, 0.031276729759683326, 0.33835734921839233, 0.4350308775665044, 0.019903373483434843, 0.034120068828745444, 0.03696340789780756, 0.02559005162155908, 0.005686678138124241, 0.008530017207186361, 0.054023442312180286, 0.0028433390690621205, 0.010558674787176264, 0.5849505832095651, 0.3209837135301585, 0.010558674787176264, 0.016893879659482025, 0.02956428940409354, 0.002111734957435253, 0.0063352048723057585, 0.01478214470204677, 0.0027137946392627563, 0.9335453559063882, 0.059703482063780636, 0.1324911388333953, 0.030407802355205484, 0.0901374141243591, 0.04995567529783758, 0.15529699059979943, 0.06841755529921234, 0.18570479295500492, 0.05429964706286693, 0.07167553412298436, 0.010859929412573386, 0.03909574588526419, 0.07927748471178572, 0.020633865883889435, 0.009773936471316047, 0.0032579788237720162, 0.9082674747362465, 0.03633069898944986, 0.03633069898944986, 0.862541428039167, 0.11435156212688088, 0.8766953096394201, 0.8838345700226796, 0.9504144302866653, 0.05675721401790705, 0.024324520293388736, 0.03243269372451831, 0.008108173431129578, 0.42973319184986764, 0.4054086715564789, 0.03243269372451831, 0.9082843253596167, 0.9197615599793969, 0.7199394813527557, 0.02153665115157816, 0.07691661125563629, 0.01076832557578908, 0.07845494348074901, 0.09229993350676353, 0.9448158765196284, 0.807259026303563, 0.9552465718561887, 0.2773812470255663, 0.7132660637800278, 0.9848873122144516, 0.16942177875698639, 0.8047534490956854, 0.9249090337861728, 0.9220599242710057, 0.05268913852977175, 0.9379398596495955, 0.8730325765920417, 0.9697541424399156, 0.9617257149778696, 0.9578527332371433, 0.9225429373484182, 0.8706648283137921, 0.017589188450783676, 0.0923432393666143, 0.013191891338087758, 0.004397297112695919, 0.9626681075373752, 0.9643511457873511, 0.017858354551617616, 0.9513296622661359, 0.8072590238360887, 0.9848023069546222, 0.9222568099021956, 0.9440427680608255, 0.04705309468355806, 0.8940087989876032, 0.9953453349599423, 0.8535829878690596, 0.9225429377184374, 0.9955575566074699, 0.9758730456463348, 0.340919370618195, 0.3216220477530141, 0.002144146985020094, 0.03216220477530141, 0.008576587940080376, 0.006432440955060283, 0.004288293970040188, 0.012864881910120566, 0.004288293970040188, 0.023585616835221035, 0.01929732286518085, 0.22727958041212998, 0.8956670185053468, 0.9341516878150827, 0.25661804473657285, 0.28058786210207687, 0.007754940912368959, 0.01480488719634074, 0.03242975290627019, 0.019739849595120987, 0.015509881824737918, 0.01903485496672381, 0.030314769021078658, 0.2897527922712402, 0.027494790507489944, 0.004229967770383068, 0.002114983885191534, 0.03118573603628623, 0.1091500761270018, 0.8186255709525135, 0.007796434009071557, 0.023389302027214672, 0.024822329107309457, 0.12411164553654729, 0.8439591896485215, 0.9039307299280039, 0.02819015752967172, 0.11567685331141155, 0.24885104577917105, 0.163308498792581, 0.172057168370755, 0.17497339156347963, 0.0077765951805990954, 0.0019441487951497739, 0.020413562349072625, 0.01944148795149774, 0.04374334789086991, 0.004860371987874435, 0.4858240786228939, 0.013880687960654111, 0.008328412776392466, 0.34424106142422195, 0.0499704766583548, 0.09438867813244796, 0.020806226839570556, 0.37659270579622706, 0.48478508536199394, 0.008322490735828221, 0.014564358787699388, 0.04577369904705522, 0.0020806226839570553, 0.020806226839570556, 0.020806226839570556, 0.0020806226839570553, 0.0020806226839570553, 0.009244585071003827, 0.18951399395557847, 0.7303222206093024, 0.018489170142007655, 0.032356047748513396, 0.013866877606505743, 0.9687803830828531, 0.06129238122982061, 0.5735215672218928, 0.015920099020732627, 0.039004242600794936, 0.034228212894575144, 0.052934329243935985, 0.05492434162152756, 0.01671610397176926, 0.03940224507631325, 0.07402846044640671, 0.013134081692104416, 0.013532084167622731, 0.00636803960829305, 0.004378027230701472, 0.0061349033212584145, 0.9309715790009645, 0.010224838868764024, 0.013803532472831434, 0.0061349033212584145, 0.0030674516606292073, 0.004601177490943811, 0.0005112419434382012, 0.02044967773752805, 0.00408993554750561, 0.9491594879494958, 0.9959746532848192, 0.9630131700665534, 0.03210043900221845, 0.9335205206137711, 0.1596540666400564, 0.16687460231724488, 0.09948293599681907, 0.0850418646424421, 0.12274910651220416, 0.00722053567718848, 0.1700837292848842, 0.02005704354774578, 0.05856656715941767, 0.05375287670795869, 0.015243353096286792, 0.005615972193368818, 0.004813690451458987, 0.023266170515385102, 0.00722053567718848, 0.608013592370633, 0.10922399862945503, 0.14563199817260672, 0.01820399977157584, 0.04368959945178201, 0.00970879987817378, 0.03883519951269512, 0.010922399862945503, 0.016990399786804115, 0.9335205210968396, 0.07761469939052494, 0.05174313292701663, 0.3492661472573622, 0.4398166298796413, 0.06467891615877078, 0.07352373858232127, 0.8822848629878551, 0.16535350957974035, 0.7936968459827537, 0.9147177650492422, 0.006433830721086355, 0.021446102403621183, 0.17371342946933158, 0.002144610240362118, 0.5575986624941508, 0.008578440961448473, 0.002144610240362118, 0.22732868547838453, 0.002144610240362118, 0.002144610240362118, 0.8653178239261219, 0.9578527326731137, 0.11913794999183547, 0.09341498351632553, 0.02030760511224468, 0.0893534624938766, 0.023015285793877308, 0.21661445453060993, 0.036553689202040426, 0.06092281533673404, 0.16381468123877377, 0.08799962215306029, 0.0446767312469383, 0.001353840340816312, 0.01218456306734681, 0.01218456306734681, 0.014892243748979433, 0.9258420236504825, 0.04506346239045276, 0.9012692478090552, 0.9727051892537835, 0.8711418537172231, 0.019771553336666057, 0.019771553336666057, 0.9094914534866386, 0.019771553336666057, 0.008912076222340321, 0.8239957140572155, 0.011882768296453761, 0.0011140095277925401, 0.10620224164955548, 0.0129967778242463, 0.0022280190555850803, 0.007798066694547781, 0.0007426730185283601, 0.00259935556484926, 0.01930949848173736, 0.00037133650926418003, 0.0018566825463209, 0.8933594552407036, 0.9186982648068236, 0.8794374109929398, 0.0462861795259442, 0.07052633432093698, 0.07052633432093698, 0.03526316716046849, 0.07052633432093698, 0.7052633432093698, 0.9772048379201411, 0.01618319389593952, 0.005394397965313174, 0.22656471454315327, 0.20498712268190059, 0.17477849407614682, 0.03883966535025485, 0.2427479084390928, 0.0010788795930626346, 0.015104314302876886, 0.009709916337563712, 0.05825949802538227, 0.006473277558375808, 0.0010788795930626346, 0.09906643744151297, 0.01035022480732225, 0.08575900554638437, 0.33712160800992474, 0.1389887331268988, 0.032529277965869935, 0.2158761174098641, 0.028093467334160394, 0.005914414175612715, 0.013307431895128608, 0.017743242526838145, 0.014786035439031788, 0.9094022394548071, 0.019424335311433293, 0.4710401313022573, 0.34397260447329786, 0.014568251483574969, 0.021043029920719398, 0.018614988006790237, 0.004046736523215269, 0.02994585027179299, 0.004856083827858323, 0.0008093473046430538, 0.012140209569645807, 0.04613279636465407, 0.0024280419139291617, 0.012140209569645807, 0.0042553963045232285, 0.0042553963045232285, 0.5390168652396089, 0.28085615609853304, 0.05390168652396089, 0.0028369308696821523, 0.007092327174205381, 0.0950371841343521, 0.005673861739364305, 0.007092327174205381, 0.006081667352890583, 0.31016503499741976, 0.10338834499913992, 0.05473500617601525, 0.006081667352890583, 0.0364900041173435, 0.4743700535254655, 0.006081667352890583, 0.9535797676578677, 0.9488272977222711, 0.9039307338775413, 0.8869519936774736, 0.004419403237307675, 0.08838806474615349, 0.0707104517969228, 0.11490448416999954, 0.08396866150884581, 0.08396866150884581, 0.11932388740730722, 0.053032838847692096, 0.16793732301769163, 0.013258209711923024, 0.20329254891615303, 0.8053292170023658, 0.13805643720040556, 0.05368861446682439, 0.9826229682129523, 0.9459291817578114, 0.03923692475688764, 0.05885538713533147, 0.8828308070299721, 0.01875785185640965, 0.05627355556922895, 0.1556901704082001, 0.1763238074502507, 0.005627355556922895, 0.04501884445538316, 0.01500628148512772, 0.15381438522255914, 0.22884579264819774, 0.016882066670768685, 0.08816190372512535, 0.028136777784614476, 0.00375157037128193, 0.00375157037128193, 0.025183658177626033, 0.050367316355252066, 0.06116031271709179, 0.5000754980985741, 0.20146926542100826, 0.03597665453946576, 0.039574319993412335, 0.07195330907893152, 0.007195330907893152, 0.010792996361839727, 0.04232544623190095, 0.021162723115950476, 0.04232544623190095, 0.06348816934785144, 0.8041834784061181, 0.021162723115950476, 0.011151542849758268, 0.04460617139903307, 0.0334546285492748, 0.055757714248791335, 0.8252141708821118, 0.022303085699516535, 0.9704003597120259, 0.24750506848451181, 0.01783820313401887, 0.013378652350514152, 0.021182866221647407, 0.023412641613399766, 0.2374710792216262, 0.018953090829895047, 0.34895984880924413, 0.018953090829895047, 0.02006797852577123, 0.003344663087628538, 0.0011148876958761793, 0.025642417005152122, 0.026193787049228583, 0.03201462861572382, 0.014552103916238101, 0.33469839007347635, 0.011641683132990481, 0.08731262349742862, 0.398727647304924, 0.08731262349742862, 0.0029104207832476203, 0.06916414612286027, 0.18443772299429406, 0.04940296151632877, 0.6850543996930922, 0.009880592303265753, 0.81429860605221, 0.04566965727065305, 0.0370527408044921, 0.018095524578938, 0.006031841526312667, 0.0370527408044921, 0.013787066345857524, 0.009478608112777048, 0.012925374699241429, 0.0025850749398482857, 0.0017233832932321905, 0.9642493663331805, 0.012527535623224426, 0.23551766971661922, 0.7491466302688207, 0.0025055071246448853, 0.038282814918147015, 0.9379289654946018, 0.0019952915826127768, 0.22945853200046934, 0.1815715340177627, 0.01895527003482138, 0.08579753805234941, 0.3481783811659296, 0.0039905831652255535, 0.10175987071325163, 0.0259387905739661, 0.0009976457913063884, 0.0019952915826127768, 0.01068100895588613, 0.1815771522500642, 0.19420016283429326, 0.22430118807360871, 0.045637038266058916, 0.09418707897463223, 0.005826004885028798, 0.030101025239315456, 0.06020205047863091, 0.009710008141714663, 0.0009710008141714663, 0.03495602931017279, 0.06699905617783118, 0.0038840032566858653, 0.03786903175268719, 0.8410788119968428, 0.8583211897571678, 0.1144428253009557, 0.9482090794126334, 0.9533633271419816, 0.09963067466523932, 0.06974147226566753, 0.03985226986609573, 0.019926134933047866, 0.009963067466523933, 0.7472300599892949, 0.03851231961239635, 0.11553695883718905, 0.5969409539921434, 0.11553695883718905, 0.09628079903099088, 0.8706923674191906, 0.06697633595532236, 0.0006550818365035879, 0.007205900201539467, 0.16442554096240056, 0.1087435848595956, 0.07009375650588391, 0.06419801997735161, 0.05633703793930856, 0.18145766871149385, 0.2679284711299674, 0.0006550818365035879, 0.0026203273460143517, 0.06092261079483367, 0.015066882239582522, 0.9006174508552728, 0.14876738180378188, 0.45254077755150424, 0.10941600984278152, 0.16748327822425768, 0.017756106860451388, 0.01247726428031719, 0.056627584041439555, 0.004319053020109796, 0.002399473900060998, 0.006238632140158595, 0.014876738180378189, 0.006718526920170795, 0.30909249583823073, 0.005750558062106619, 0.02443987176395313, 0.02731515079500644, 0.0014376395155266547, 0.0014376395155266547, 0.028752790310533093, 0.5980580384590883, 0.0028752790310533093, 0.9114142679207005, 0.021384558073778162, 0.2664844929193894, 0.24838986685696174, 0.0016449660056752434, 0.10856775637456606, 0.060863742209984, 0.016449660056752434, 0.17601136260725103, 0.006579864022700973, 0.00493489801702573, 0.06579864022700974, 0.023029524079453405, 0.9754467402657055, 0.909990786008659, 0.9279619498054064, 0.041328307431042405, 0.041328307431042405, 0.8678944560518905, 0.8410788111160317, 0.8588456136144135, 0.060633878303527816, 0.9095081745529172, 0.11318041458780599, 0.08842219889672343, 0.42796344266014136, 0.014147551823475749, 0.017684439779344686, 0.01061066386760681, 0.32893057989581115, 0.9810232293968499, 0.058102752682754506, 0.09683792113792418, 0.832806121786148, 0.9461733687142583, 0.9488273119259583, 0.9459165583315254, 0.03378273422612591, 0.010552697869060776, 0.4171419392946377, 0.09994025628934029, 0.06704066881520963, 0.3277543808743582, 0.00186224080042249, 0.0031037346673708165, 0.019243154937699063, 0.029175105873285676, 0.0006207469334741633, 0.0012414938669483267, 0.00186224080042249, 0.004345228534319143, 0.00372448160084498, 0.012414938669483266, 0.028781756703869957, 0.02158631752790247, 0.8850390186440011, 0.028781756703869957, 0.014390878351934979, 0.007195439175967489, 0.038752783924817534, 0.9300668141956208, 0.9976348267732654, 0.0019638480841993413, 0.9631885153576054, 0.9697252974844482, 0.023366874638179474, 0.9504144306687701, 0.04251271025163908, 0.9352796255360598, 0.946621263490124, 0.032113269429697194, 0.9312848134612185, 0.8711418542954891, 0.9624261488193695, 0.005761212126949445, 0.0028806060634747224, 0.03168666669822195, 0.04032848488864612, 0.8785848493597904, 0.025925454571272502, 0.008641818190424169, 0.005761212126949445, 0.04570561554121275, 0.7998482719712231, 0.022852807770606377, 0.022852807770606377, 0.0914112310824255, 0.2846156704680489, 0.15781219082372364, 0.07032332713899264, 0.05205033662256148, 0.09634849545027338, 0.06312487632948946, 0.03820716198890151, 0.02990125720870553, 0.07973668588988142, 0.01661180956039196, 0.03211616515009112, 0.023810260369895146, 0.013289447648313569, 0.03156243816474473, 0.010520812721581575, 0.9419383201344842, 0.04381108465741787, 0.8535829878435849, 0.5838631352194752, 0.21179349022667238, 0.0011448296769009318, 0.15569683605852672, 0.00686897806140559, 0.00686897806140559, 0.009158637415207454, 0.010303467092108385, 0.0011448296769009318, 0.0022896593538018636, 0.005724148384504659, 0.003434489030702795, 0.9768758661401458, 0.01676870286128346, 0.11570404974285588, 0.24733836720393104, 0.16349485289751373, 0.13079588231801098, 0.07797446830496808, 0.01928400829047598, 0.07294385744658305, 0.03940645172401613, 0.009222786573705902, 0.006707481144513383, 0.03353740572256692, 0.055336719442235414, 0.010061221716770076, 0.002515305429192519, 0.03726888338879618, 0.21380569944098862, 0.27068978461336174, 0.2804973855051502, 0.009807600891788469, 0.060807125529088506, 0.017653681605219244, 0.029422802675365404, 0.009807600891788469, 0.007846080713430775, 0.0627686457074462, 0.9279619494612323, 0.9269705346799149, 0.9624729500803629, 0.007317823762015525, 0.09757098349354033, 0.2744183910755822, 0.0878138851441863, 0.015855284817700304, 0.04634621715943166, 0.00853746105568478, 0.09513170890620182, 0.16343139735168005, 0.01463564752403105, 0.004878549174677016, 0.1707492211136956, 0.007317823762015525, 0.004878549174677016, 0.9269705346258821, 0.9878956070585453, 0.9498071679943269, 0.9569083658643533, 0.9537545381105738, 0.9416959731174239, 0.016035785198467527, 0.033675148916781805, 0.4506055640769375, 0.32713001804873754, 0.008017892599233764, 0.051314512635096086, 0.008017892599233764, 0.006414314079387011, 0.033675148916781805, 0.014432206678620774, 0.0032071570396935054, 0.01924294223816103, 0.01924294223816103, 0.006414314079387011, 0.0016035785198467527, 0.9206417014124868, 0.0017363003881412506, 0.008681501940706254, 0.266522109579682, 0.33684227529940264, 0.03212155718061314, 0.0017363003881412506, 0.3125340698654251, 0.004340750970353127, 0.002604450582211876, 0.0008681501940706253, 0.023440055239906884, 0.006077051358494377, 0.002604450582211876, 0.912811570188649, 0.05548529794548503, 0.05548529794548503, 0.11097059589097007, 0.018495099315161675, 0.7582990719216288, 0.09210929971212946, 0.07368743976970357, 0.05526557982727768, 0.018421859942425893, 0.09210929971212946, 0.6631869579273322, 0.9407261655973227, 0.3975604784378895, 0.042094638893423596, 0.007015773148903933, 0.03741745679415431, 0.18474869292113688, 0.03975604784378895, 0.014031546297807866, 0.01637013734744251, 0.002338591049634644, 0.21281178551675262, 0.01637013734744251, 0.02806309259561573, 0.9459909018619233, 0.8769091216286959, 0.04804981488376416, 0.04804981488376416, 0.01201245372094104, 0.9790221195273405, 0.9549500148924049, 0.009451425851287998, 0.9829482885339518, 0.18888760710997574, 0.7555504284399029, 0.9668527573384983, 0.7344858836449778, 0.13354288793545052, 0.003179592569891679, 0.04769388854837518, 0.006359185139783358, 0.003179592569891679, 0.006359185139783358, 0.04133470340859183, 0.022257147989241752, 0.8711418526511363, 0.9706115182993745, 0.16196731326822517, 0.03239346265364503, 0.03239346265364503, 0.016196731326822516, 0.04859019398046755, 0.6316725217460781, 0.04859019398046755, 0.004051393332736916, 0.008102786665473831, 0.040513933327369155, 0.06482229332379065, 0.016205573330947663, 0.02835975332915841, 0.012154179998210748, 0.024308359996421496, 0.8021758798819093, 0.9611133135190142, 0.36756464486448803, 0.04622070384523502, 0.019808873076529294, 0.011004929486960718, 0.0352157743582743, 0.4974228128106245, 0.022009858973921437, 0.09764634395400351, 0.027898955415429576, 0.08369686624628873, 0.027898955415429576, 0.7532717962165986, 0.03301656039314016, 0.9244636910079245, 0.042014894258003414, 0.11440542152686065, 0.03633720584475971, 0.23306910936365408, 0.0005677688413243705, 0.1921897527882994, 0.06500953233164042, 0.02668513554224541, 0.11412153710619846, 0.10333392912103542, 0.030659517431516004, 0.010219839143838668, 0.013342567771122705, 0.0036904974686084078, 0.013910336612447076, 0.0028544371762362353, 0.10704139410885882, 0.5409158448967666, 0.10704139410885882, 0.007136092940590588, 0.06993371081778776, 0.011417748704944941, 0.012844967293063059, 0.01855384164553553, 0.014272185881181176, 0.028544371762362353, 0.008563311528708706, 0.0642248364653153, 0.0014272185881181176, 0.0057088743524724705, 0.9795791621514526, 0.2294960835392228, 0.07778222965591108, 0.1001157411412717, 0.08548344051293198, 0.3742788476512157, 0.01078169519982926, 0.02695423799957315, 0.00154024217140418, 0.04466702297072122, 0.02156339039965852, 0.016172542799743887, 0.00154024217140418, 0.008471331942722989, 0.9524078639611362, 0.050833917492114716, 0.03234885658589118, 0.050833917492114716, 0.23106326132779414, 0.4898541140149236, 0.04621265226555883, 0.055455182718670594, 0.009242530453111766, 0.004621265226555883, 0.01848506090622353, 0.004621265226555883, 0.04047400856609381, 0.1126233281839132, 0.08622723564080854, 0.08974671464655583, 0.010558437017241863, 0.15485707625288064, 0.09854541216092405, 0.04223374806896745, 0.12142202569828142, 0.15133759724713336, 0.05807140359483024, 0.0035194790057472875, 0.012318176520115506, 0.022876613537357367, 0.004671135449690787, 0.11210725079257888, 0.15648303756464135, 0.17283201163855913, 0.0023355677248453935, 0.30362380422990115, 0.01868454179876315, 0.11911395396711506, 0.0350335158726809, 0.03269794814783551, 0.01401340634907236, 0.01868454179876315, 0.0023355677248453935, 0.00700670317453618, 0.05792987569290611, 0.8689481353935916, 0.939318033643111, 0.004518129905018678, 0.022590649525093393, 0.033132952636803645, 0.016566476318401822, 0.5271151555855125, 0.0030120866033457854, 0.21988232204424235, 0.11596533422881275, 0.04819338565353257, 0.0030120866033457854, 0.004518129905018678, 0.8838345712321667, 0.977680808566906, 0.23144831209157302, 0.13501151538675094, 0.009643679670482208, 0.038574718681928834, 0.07714943736385767, 0.06750575769337547, 0.4339655851716994, 0.8072590266387882, 0.9039307307546928, 0.9662842232686071, 0.033177706248710574, 0.8758914449659592, 0.006635541249742115, 0.01327108249948423, 0.006635541249742115, 0.006635541249742115, 0.006635541249742115, 0.0464487887481948, 0.14236667725567065, 0.07448322849799988, 0.08014018256113911, 0.12256733803468335, 0.025456293284126543, 0.14519515428724028, 0.04996976089106321, 0.09616821907336694, 0.06411214604891129, 0.04242715547354424, 0.022627816252556925, 0.010371082449088591, 0.00942825677189872, 0.09805387042774669, 0.017913687866607568, 0.028268417130408792, 0.042402625695613184, 0.056536834260817584, 0.8621867224774681, 0.1652946346784637, 0.1652946346784637, 0.029169641413846537, 0.04861606902307756, 0.13612499326461716, 0.009723213804615513, 0.009723213804615513, 0.05833928282769307, 0.009723213804615513, 0.3694821245753895, 0.018158504874205394, 0.07263401949682158, 0.09079252437102699, 0.018158504874205394, 0.780815709590832, 0.0012370436510302464, 0.0668003571556333, 0.1909170701423347, 0.24782107808972603, 0.33936230826596425, 0.018555654765453695, 0.0049481746041209855, 0.08741775133947075, 0.01360748016133271, 0.0004123478836767488, 0.011133392859272217, 0.002061739418383744, 0.014844523812362957, 0.13536264340277498, 0.24315141500128096, 0.10528205597993609, 0.027573871804268974, 0.025067156185699067, 0.010026862474279627, 0.4085946458268948, 0.010026862474279627, 0.027573871804268974, 0.0050134312371398135, 0.0025067156185699067, 0.264158465452242, 0.264158465452242, 0.02171165469470482, 0.19540489225234337, 0.19902350136812752, 0.054279136736762046, 0.20636487763092015, 0.12283623668507151, 0.07922937266187113, 0.07247337964419219, 0.053433762958006115, 0.06510320544308791, 0.06510320544308791, 0.05589048769170754, 0.101339895265184, 0.09028463396352757, 0.027638153254141092, 0.011669442485081795, 0.03193742153811859, 0.011669442485081795, 0.0061418118342535764, 0.39768605156846915, 0.07953721031369383, 0.011362458616241975, 0.44313588603343707, 0.05681229308120988, 0.11287608071367337, 0.8747896255309686, 0.9209787242256126, 0.08896504029058667, 0.06227552820341067, 0.14234406446493866, 0.017793008058117333, 0.07117203223246933, 0.035586016116234666, 0.04448252014529334, 0.04448252014529334, 0.035586016116234666, 0.035586016116234666, 0.4092391853366987, 0.9099907861794859, 0.9069142672133444, 0.053347898071373204, 0.11747693629169624, 0.052714009874479086, 0.05422012444232134, 0.16266037332696404, 0.022591718517633894, 0.0015061145678422596, 0.3915897876389875, 0.0015061145678422596, 0.08735464493485105, 0.03614674962821423, 0.06024458271369038, 0.007530572839211298, 0.0015061145678422596, 0.004518343703526779, 0.018434731378527774, 0.6575054191674906, 0.15669521671748607, 0.04608682844631943, 0.02457964183803703, 0.006144910459509258, 0.08295629120337498, 0.003072455229754629, 0.03872639986828768, 0.7616191974096578, 0.12048213292356168, 0.03012053323089042, 0.008605866637397264, 0.008605866637397264, 0.03012053323089042, 0.9338268962430686, 0.8588456141392188, 0.006446718078871248, 0.11389201939339204, 0.18265701223468536, 0.14612560978774827, 0.15472123389290995, 0.09884967720935914, 0.002148906026290416, 0.08595624105161663, 0.008595624105161664, 0.1891037303135566, 0.002148906026290416, 0.008595624105161664, 0.08893854226970065, 0.05082202415411466, 0.02541101207705733, 0.09211491877933281, 0.04129289462521816, 0.019058259057792997, 0.5781005247530542, 0.012705506038528665, 0.07940941274080415, 0.006352753019264332, 0.006352753019264332, 0.8843769138065288, 0.020099475313784747, 0.040198950627569494, 0.020099475313784747, 0.02724874332271204, 0.8174622996813612, 0.08174622996813612, 0.02724874332271204, 0.02724874332271204, 0.2579913119545626, 0.2288044160566727, 0.07974276914959208, 0.07609440716235584, 0.02449614477144332, 0.07400962888393514, 0.12873505869247873, 0.001042389139210354, 0.035962425302757214, 0.05785259722617465, 0.02084778278420708, 0.006775529404867301, 0.004169556556841416, 0.002084778278420708, 0.15826555677885787, 0.12727983030106943, 0.13109345817525878, 0.13919741740791114, 0.07913277838942893, 0.016207918465304724, 0.21737678882879274, 0.02574198815077809, 0.014777808012483717, 0.017638028918125728, 0.06340156340839788, 0.0023835174213683416, 0.0023835174213683416, 0.0023835174213683416, 0.0019068139370946732, 0.9472106925984809, 0.9580190133041622, 0.020104408942429642, 0.04799116973354173, 0.11705954239059839, 0.5736241841799683, 0.02853529011183562, 0.09565807480672169, 0.05415219828041532, 0.017186026999173726, 0.007782351848682442, 0.0012970586414470736, 0.0022698526225323787, 0.02042867360279141, 0.009727939810853053, 0.004215440584702989, 0.33986579457734906, 0.26566974083158973, 0.007180263265718642, 0.019147368708583044, 0.026327631974301685, 0.08855658027719658, 0.007180263265718642, 0.004786842177145761, 0.19147368708583043, 0.04308157959431185, 0.0023934210885728805, 0.044660021476186446, 0.19259634261605407, 0.07257253489880298, 0.025121262080354877, 0.008373754026784959, 0.044660021476186446, 0.23446511274997886, 0.033495016107139834, 0.08094628892558794, 0.1953875939583157, 0.008373754026784959, 0.055825026845233064, 0.005582502684523306, 0.033785732462349546, 0.09460005089457872, 0.1621715158192778, 0.6216574773072316, 0.04730002544728936, 0.027028585969879636, 0.013514292984939818, 0.07822912866519535, 0.0739097289229453, 0.0614314630008896, 0.0422341308131116, 0.12430272591586256, 0.0431939974225005, 0.3138763812701703, 0.0796689285792787, 0.03791473107086155, 0.0086387994845001, 0.06479099613375075, 0.04943313038352835, 0.0047993330469445, 0.01775753227369465, 0.10316754708307568, 0.0943246144759549, 0.10906283548782286, 0.1002199028807021, 0.0324240862261095, 0.08842932607120772, 0.058952884047471815, 0.36550788109432525, 0.017685865214241543, 0.0029476442023735907, 0.011790576809494363, 0.017685865214241543, 0.9486910393732484, 0.6836615318760226, 0.04185682848220547, 0.13022124416686146, 0.01860303488098021, 0.02325379360122526, 0.016277655520857682, 0.02325379360122526, 0.0046507587202450525, 0.032555311041715364, 0.0046507587202450525, 0.013952276160735156, 0.006976138080367578, 0.8892422673829325, 0.9866655757094334, 0.1468063358623415, 0.11618117308311132, 0.1779176123364801, 0.07194482684644551, 0.21680670792915335, 0.026250139525054443, 0.06270866664318561, 0.03888909559267325, 0.02090288888106187, 0.010208387593076728, 0.023819571050512363, 0.047153028406116314, 0.015069524542160883, 0.023819571050512363, 0.06225278270335004, 0.005187731891945837, 0.8819144216307923, 0.05187731891945837, 0.0064509598061026205, 0.0645095980610262, 0.40318498788141377, 0.06773507796407752, 0.02902931912746179, 0.08708795738238537, 0.025803839224410482, 0.06128411815797489, 0.24836195253495089, 0.0064509598061026205, 0.8708026925667173, 0.2666965187966055, 0.6022179456697543, 0.06308949907016474, 0.014338522515946531, 0.051618681057407516, 0.7568356431804057, 0.18920891079510144, 0.08235828346461449, 0.047061876265494, 0.7176936130487834, 0.141185628796482, 0.9491099765755189, 0.7135676340411139, 0.11535735423297454, 0.10052569440302067, 0.04614294169318982, 0.0214235086432667, 0.10806664271306839, 0.18794198732707545, 0.08457389429718395, 0.12592113150914055, 0.006577969556447641, 0.164449238911191, 0.07705621480410094, 0.06108114588129952, 0.02725158816242594, 0.05168404651494575, 0.0742370849941948, 0.006577969556447641, 0.01033680930298915, 0.013155939112895282, 0.0018794198732707545, 0.9381277250997977, 0.9569092642323089, 0.053080336879927366, 0.10616067375985473, 0.8492853900788379, 0.8739853001412571, 0.04161834762577415, 0.04161834762577415, 0.9048134651666828, 0.015600232158046255, 0.046800696474138766, 0.015600232158046255, 0.015600232158046255, 0.11739451534332812, 0.880458865074961, 0.8535829874600518, 0.32618429699367185, 0.013591012374736327, 0.01630921484968359, 0.0027182024749472654, 0.013591012374736327, 0.04620944207410351, 0.048927644549050776, 0.04620944207410351, 0.021745619799578123, 0.10057349157304882, 0.3615209291679863, 0.0027182024749472654, 0.927961949436179, 0.21076757198145982, 0.11724818573803063, 0.026520422964554546, 0.08723823343603469, 0.011864399747300717, 0.21286128958392464, 0.06560315154389809, 0.032801575771949046, 0.08374870409859331, 0.09561310384589403, 0.03768691684436699, 0.004187435204929665, 0.0006979058674882776, 0.013260211482277273, 0.0006979058674882776, 0.031209316777534322, 0.24135204974626542, 0.2101427329687311, 0.09362795033260297, 0.060338012436566356, 0.060338012436566356, 0.0041612422370045764, 0.0686604969105755, 0.014564347829516017, 0.04577366460705034, 0.03953180125154347, 0.006241863355506865, 0.02496745342202746, 0.0041612422370045764, 0.09778919256960754, 0.8588456133099902, 0.8830564086190772, 0.013229309492420632, 0.06614654746210316, 0.026458618984841264, 0.009921982119315473, 0.9799944897382498, 0.013987075601208605, 0.4056251924350495, 0.5734700996495528, 0.9622268876258656, 0.953363326207833, 0.9469268960285703, 0.027055054172244863, 0.02774117700651251, 0.0603778558377037, 0.018766090327934935, 0.034268512772750746, 0.2170339142274214, 0.14196955291568167, 0.17460623174687287, 0.08240761404875775, 0.019582007298714715, 0.02855709397729229, 0.07343252737018018, 0.07506436131173974, 0.006527335766238238, 0.008975086678577578, 0.02937301094807207, 0.09001272862052008, 0.01646574304033904, 0.3578554820767018, 0.07244926937749177, 0.03183376987798881, 0.0680584045667347, 0.07574241798555958, 0.08452414760707373, 0.06696068836404542, 0.009879445824203423, 0.04390864810757077, 0.06696068836404542, 0.006586297216135616, 0.0010977162026892693, 0.005488581013446347, 0.179707646808055, 0.01558158787353078, 0.009348952724118469, 0.009348952724118469, 0.5380841678992629, 0.09141198219138058, 0.04674476362059234, 0.03531826584666977, 0.021814223022943093, 0.016620360398432833, 0.024930540597649247, 0.011426497773922573, 0.14932500493783205, 0.13416510595937195, 0.07428350499445453, 0.17358084330336823, 0.14401904029537102, 0.02273984846769016, 0.142503050397525, 0.015917893927383114, 0.04547969693538032, 0.0030319797956920216, 0.0280458131101512, 0.03789974744615027, 0.015917893927383114, 0.013643909080614096, 0.11913686266177652, 0.016546786480802295, 0.09266200429249284, 0.049640359442406884, 0.11582750536561606, 0.4897848798317479, 0.016546786480802295, 0.0033093572961604588, 0.019856143776962754, 0.05294971673856734, 0.016546786480802295, 0.022941329068899504, 0.5151371163652889, 0.21898541383949527, 0.09072252859064804, 0.007299513794649842, 0.0010427876849499775, 0.002085575369899955, 0.050053808877598915, 0.03128363054849932, 0.017727390644149618, 0.012513452219399729, 0.010427876849499775, 0.005213938424749888, 0.014599027589299684, 0.8882844950223215, 0.010210166609451971, 0.010210166609451971, 0.015315249914177959, 0.0357355831330819, 0.01786779156654095, 0.020420333218903942, 0.962426149774113, 0.9503366584862427, 0.09717934230818669, 0.04804371979281139, 0.10809836953382564, 0.13321213215279523, 0.4422206026383776, 0.005459513612819477, 0.04367610890255581, 0.008735221780511162, 0.03821659528973634, 0.006551416335383372, 0.03384898439948075, 0.015286638115894534, 0.010919027225638953, 0.008735221780511162, 0.9349931278889675, 0.9349931278720235, 0.3826433325724827, 0.16136276970498495, 0.09847874915818934, 0.07000296626907435, 0.045086656241098734, 0.027882537412258428, 0.06881647531536123, 0.042120428856815925, 0.027882537412258428, 0.03084876479654124, 0.024916310027975615, 0.005932454768565623, 0.0023729819074262493, 0.00771219119913531, 0.004745963814852499, 0.04392344110505518, 0.45021527132681566, 0.02745215069065949, 0.07686602193384658, 0.04392344110505518, 0.35138752884044144, 0.0054904301381318976, 0.07772090413595437, 0.04945875717742551, 0.12717966131337988, 0.02119661021889665, 0.0423932204377933, 0.007065536739632216, 0.6712259902650605, 0.6639442493345682, 0.024897909350046307, 0.049795818700092614, 0.04702938432786524, 0.024897909350046307, 0.05256225307231998, 0.008299303116682102, 0.02213147497781894, 0.027664343722273672, 0.03319721246672841, 0.016598606233364205, 0.0013832171861136837, 0.02213147497781894, 0.004149651558341051, 0.004149651558341051, 0.9338268957215535, 0.19758890110109584, 0.02822698587158512, 0.7009701491443637, 0.023522488226320932, 0.02822698587158512, 0.01411349293579256, 0.021878956313936354, 0.41813116511078363, 0.3233223544170594, 0.03646492718989392, 0.014585970875957569, 0.04132691748187978, 0.0024309951459929283, 0.1385667233215969, 0.0380304474656777, 0.0760608949313554, 0.06760968438342703, 0.035917644828695604, 0.016902421095856757, 0.0760608949313554, 0.4183349221224547, 0.11197853976005101, 0.054932868561534454, 0.04859446065058817, 0.004225605273964189, 0.029579236917749323, 0.010564013184910473, 0.004225605273964189, 0.006338407910946284, 0.16359968588682328, 0.16359968588682328, 0.6777701272454107, 0.16769391554725863, 0.0939823043176944, 0.06879750381425995, 0.14005206133617204, 0.01965642966121713, 0.1345236904939547, 0.07125455752191209, 0.09336804089078136, 0.0853826163409119, 0.058969288983651384, 0.025184800503434447, 0.009828214830608565, 0.006756897696043388, 0.016585112526651954, 0.008599687976782493, 0.8811438447585531, 0.0031327763284720845, 0.7894596347749654, 0.021929434299304593, 0.0031327763284720845, 0.18170102705138091, 0.91354742818889, 0.00982309062568699, 0.029469271877060967, 0.00982309062568699, 0.00982309062568699, 0.00982309062568699, 0.01964618125137398, 0.925842027518039, 0.9693311601451375, 0.9593498059654553, 0.9349931284775798, 0.015857984630734238, 0.8563311700596488, 0.07928992315367119, 0.04757395389220271, 0.06528564606737691, 0.17953552668528652, 0.21217834971897498, 0.032642823033688456, 0.48964234550532687, 0.7456599393629787, 0.23943209062113996, 0.013681833749779425, 0.962220516172825, 0.8487752561476626, 0.8584455814225413, 0.07153713178521177, 0.05961427648767648, 0.8072590266387882, 0.9480640946722193, 0.9746516200509013, 0.03842582301255775, 0.44881361278667453, 0.23516603683685344, 0.08146274478662244, 0.00307406584100462, 0.0046110987615069305, 0.00153703292050231, 0.04918505345607392, 0.01690736212552541, 0.08146274478662244, 0.007685164602511551, 0.009222197523013861, 0.02305549380753465, 0.004867866805078392, 0.7228782205541412, 0.15090387095743016, 0.021905400622852764, 0.004867866805078392, 0.002433933402539196, 0.009735733610156784, 0.03650900103808794, 0.009735733610156784, 0.03650900103808794, 0.9919413035956915, 0.9389935784714405, 0.2604214959858852, 0.00982722626361831, 0.034395291922664085, 0.044222518186282395, 0.024568065659045773, 0.004913613131809155, 0.4864477000491063, 0.014740839395427464, 0.01965445252723662, 0.014740839395427464, 0.06879058384532817, 0.00982722626361831, 0.004913613131809155, 0.01833874444650397, 0.03667748889300794, 0.8985984778786944, 0.01833874444650397, 0.01833874444650397, 0.12152391019089989, 0.019921952490311458, 0.011953171494186874, 0.16734440091861624, 0.12351610543993104, 0.39047026881010455, 0.12351610543993104, 0.019921952490311458, 0.001992195249031146, 0.003984390498062292, 0.009960976245155729, 0.003984390498062292, 0.37740983854680366, 0.03281824683015684, 0.02109744439081511, 0.16174707366291585, 0.09845474049047051, 0.009376641951473383, 0.02812992585442015, 0.030474086342288494, 0.20159780195667773, 0.02812992585442015, 0.011720802439341729, 0.015003080183301008, 0.007501540091650504, 0.937692511456313, 0.030006160366602017, 0.3460258187278395, 0.2541605571186786, 0.008420982314173086, 0.02066968386206121, 0.007655438467430077, 0.030621753869720308, 0.011483157701145117, 0.2656437148198237, 0.03215284156320632, 0.007655438467430077, 0.0007655438467430077, 0.0022966315402290233, 0.01301424539463113, 0.9533633273609696, 0.29437241708552286, 0.07489333579561006, 0.03536629745903808, 0.0540896314079406, 0.1466661159330697, 0.05721018706609102, 0.0062411113163008385, 0.0384868531171885, 0.11754092979033245, 0.07177278013745964, 0.0270448157039703, 0.010401852193834731, 0.01352240785198515, 0.03328592702027114, 0.018723333948902514, 0.010178891445841344, 0.8601163271735935, 0.07634168584381007, 0.010178891445841344, 0.010178891445841344, 0.025447228614603357, 0.9549262529273368, 0.009612145331862231, 0.028836435995586693, 0.14555534359677094, 0.020597454282561923, 0.4256807218396131, 0.03707541770861147, 0.07689716265489785, 0.026090108757911772, 0.03982174494628639, 0.012358472569537154, 0.09200196246210993, 0.017851127044887, 0.0645386900853607, 0.004119490856512385, 0.9491549433448436, 0.026716242141512855, 0.13358121070756426, 0.013358121070756427, 0.814845385316142, 0.15134836015969605, 0.37508071865663806, 0.05922327136683758, 0.013160726970408352, 0.01974109045561253, 0.01974109045561253, 0.3553396282010255, 0.07543237984177924, 0.8297561782595715, 0.08811872396884136, 0.018142090228879106, 0.6349731580107687, 0.031100726106649896, 0.04233154386738458, 0.0017278181170361053, 0.008639090585180526, 0.15982317582583974, 0.0017278181170361053, 0.01295863587777079, 0.9740233408261466, 0.005927897332696656, 0.031333171615682325, 0.1826356940121303, 0.1823534131867638, 0.35764980573936495, 0.014678602919058387, 0.09399951484704698, 0.08948302164118285, 0.007903863110262208, 0.0011291233014660298, 0.003669650729764597, 0.017219130347356955, 0.01100895218929379, 0.00028228082536650744, 0.00028228082536650744, 0.9548567648220782, 0.024483506790309695, 0.07466036201279018, 0.8959243441534821, 0.5318145258055734, 0.014373365562312794, 0.43120096686938386, 0.06328975610495768, 0.047293444122385966, 0.1439668078431455, 0.18708730101355625, 0.06050778880364087, 0.07302664165956656, 0.09875983919674716, 0.15996311982571723, 0.05981229697831166, 0.024342213886522187, 0.025037705711851394, 0.029210656663826624, 0.012518852855925697, 0.011823361030596492, 0.0027819673013168215, 0.022043697395228497, 0.2718722678744848, 0.07347899131742833, 0.044087394790456993, 0.014695798263485665, 0.0073478991317428325, 0.5143529392219983, 0.044087394790456993, 0.9335205224241816, 0.055472007265371354, 0.055472007265371354, 0.8505707780690274, 0.018490669088457118, 0.11499566703693076, 0.054115608017379184, 0.06764451002172397, 0.06764451002172397, 0.006764451002172398, 0.18264017705865473, 0.027057804008689592, 0.45321821714555066, 0.013528902004344796, 0.9341516856227396, 0.9258420250760152, 0.04161933101726397, 0.20809665508631986, 0.7075286272934875, 0.9839787285874868, 0.8410788106157994, 0.8933594566960243, 0.9648208065964705, 0.44216455602989174, 0.10314644874796788, 0.0197191740253468, 0.05157322437398394, 0.11376446553084693, 0.0295787610380202, 0.054606943454806524, 0.057640662535629106, 0.05384851368460088, 0.01820231448493551, 0.026545041957197615, 0.006067438161645169, 0.0068258679318508155, 0.01592702517431857, 0.0007584297702056461, 0.04829754281280962, 0.9176533134433827, 0.9623971655645958, 0.5178254795812856, 0.06681619091371427, 0.4092491693464999, 0.004176011932107142, 0.002088005966053571, 0.03375021382910267, 0.022500142552735112, 0.022500142552735112, 0.19125121169824846, 0.056250356381837785, 0.056250356381837785, 0.12375078404004312, 0.47250299360743736, 0.011250071276367556, 0.956909264510653, 0.9513296621636836, 0.0031816238904791763, 0.07954059726197941, 0.08590384504293776, 0.06999572559054187, 0.31498076515743845, 0.031816238904791766, 0.09226709282389611, 0.27680127847168834, 0.04136111057622929, 0.05065416472291787, 0.6838312237593912, 0.10130832944583575, 0.10130832944583575, 0.05065416472291787, 0.9225429377041962, 0.8505852351194949, 0.0293305253489481, 0.009776841782982701, 0.019553683565965402, 0.019553683565965402, 0.009776841782982701, 0.0488842089149135, 0.022623693882030997, 0.12704074256832792, 0.14096301572650083, 0.2157952339516803, 0.04350710361929038, 0.01740284144771615, 0.1461838681608157, 0.1722881303323899, 0.027844546316345843, 0.0034805682895432304, 0.024363978026802614, 0.01740284144771615, 0.019143125592487768, 0.020883409737259384, 0.963183630610061, 0.01127347361644994, 0.18366367433466363, 0.046033350600503925, 0.1056888151542182, 0.06670138556399548, 0.0958245257398245, 0.4344984623006748, 0.019258850761435315, 0.00516700874087289, 0.01080374554909786, 0.009864289414393698, 0.007515649077633294, 0.0004697280673520809, 0.002818368404112485, 0.16718818443842398, 0.20898523054802998, 0.5851586455344839, 0.186364373394435, 0.05231280656685895, 0.2345902419482581, 0.08991263628678882, 0.10380822553111073, 0.002452162807821513, 0.1929034742152924, 0.01634775205214342, 0.03351289170689401, 0.010626038833893224, 0.027791178488643816, 0.040051992527751386, 0.004904325615643026, 0.0032695504104286845, 0.022857086457479768, 0.16457102249385433, 0.002285708645747977, 0.06171413343519537, 0.13485681009913064, 0.025142795103227745, 0.02742850374897572, 0.43657035133786354, 0.06171413343519537, 0.011428543228739884, 0.00685712593724393, 0.015999960520235838, 0.025142795103227745, 0.12508027403333036, 0.15229981553281158, 0.11665517785491951, 0.027219541499481217, 0.17498276678237926, 0.045365902499135365, 0.12378410539049792, 0.08619521474835719, 0.0200906139639028, 0.0019442529642486584, 0.057031420284627314, 0.05119866139188134, 0.005832758892745975, 0.005832758892745975, 0.007128927535578414, 0.07034442207806375, 0.1184748161314758, 0.10366546411504132, 0.14192295682416373, 0.06787619674199134, 0.0974949007748603, 0.01357523934839827, 0.12464537947165684, 0.08391966142646202, 0.017277577352506887, 0.018511690020543096, 0.06787619674199134, 0.0074046760082172374, 0.06540797140591893, 0.0303559684160253, 0.10624588945608857, 0.10371622542141978, 0.12648320173343877, 0.0303559684160253, 0.12901286576810753, 0.02782630438135653, 0.01517798420801265, 0.11636454559476365, 0.2150214429468459, 0.02782630438135653, 0.017707648242681426, 0.0050593280693375505, 0.010118656138675101, 0.03541529648536285, 0.04928916825440303, 0.17251208889041061, 0.7393375238160454, 0.7642111645908659, 0.03566318768090707, 0.06113689316726927, 0.015284223291817318, 0.08661059865363147, 0.005094741097272439, 0.030568446583634636, 0.961113313945677, 0.055376277056650006, 0.006152919672961112, 0.1045996344403389, 0.07998795574849446, 0.08614087542145557, 0.17843467051587225, 0.043070437710727785, 0.06152919672961112, 0.09844671476737779, 0.012305839345922224, 0.018458759018883338, 0.2522697065914056, 0.008425344109889994, 0.011233792146519992, 0.03370137643955998, 0.6936866650476096, 0.019659136256409988, 0.05897740876922996, 0.005616896073259996, 0.014042240183149991, 0.01685068821977999, 0.11514636950182992, 0.022467584293039983, 0.026275043658383318, 0.11385852251966104, 0.7838721358084356, 0.008758347886127773, 0.008758347886127773, 0.05692926125983052, 0.9381049098551992, 0.9624729502352807, 0.9851506731352946, 0.8851584228427581, 0.169201287571698, 0.08330479147403073, 0.05923896282597742, 0.1151457339929936, 0.0881179572036414, 0.1007062368041616, 0.08700722665065433, 0.06553310262623752, 0.07293797297948469, 0.050723361919743165, 0.07293797297948469, 0.011477549047533125, 0.004813165729610665, 0.00962633145922133, 0.008515600906234254, 0.01093036059524486, 0.07651252416671403, 0.42081888291692715, 0.2918406278930378, 0.03279108178573458, 0.1344434353215118, 0.0021860721190489723, 0.0032791081785734583, 0.0010930360595244862, 0.013116432714293833, 0.01420946877381832, 0.9222568074862446, 0.17349420016460881, 0.12063268605195457, 0.07590371257201636, 0.039307279724794184, 0.05692778442901227, 0.02981931565329214, 0.0840362532047324, 0.0420181266023662, 0.09894591103137847, 0.058283207867798274, 0.054216937551440254, 0.0853916766435184, 0.012198810949074058, 0.016265081265432076, 0.05150609067386824, 0.04397188427950529, 0.04397188427950529, 0.08794376855901058, 0.02931458951967019, 0.04397188427950529, 0.02931458951967019, 0.4397188427950529, 0.24917401091719663, 0.012593029951708412, 0.025186059903416824, 0.012593029951708412, 0.1007442396136673, 0.06296514975854206, 0.037779089855125236, 0.08815120966195888, 0.037779089855125236, 0.05037211980683365, 0.025186059903416824, 0.5666863478268785, 0.12386376680887189, 0.8257584453924792, 0.013701651067045255, 0.006850825533522628, 0.02740330213409051, 0.918010621492032, 0.006850825533522628, 0.02055247660056788, 0.006850825533522628, 0.03316043626247872, 0.008726430595389136, 0.015707575071700446, 0.0017452861190778274, 0.8761336317770694, 0.015707575071700446, 0.00698114447631131, 0.00698114447631131, 0.005235858357233482, 0.02792457790524524, 0.15052973328473662, 0.03605502593646386, 0.0531811632562842, 0.03605502593646386, 0.25238518155524703, 0.06670179798245815, 0.01892888861664353, 0.14512147939426703, 0.014422010374585546, 0.0036055025936463864, 0.007211005187292773, 0.0018027512968231932, 0.17576825144026134, 0.03244952334281748, 0.004506878242057983, 0.9488273007859417, 0.04538077339955581, 0.032861939358299036, 0.032861939358299036, 0.13770717445382452, 0.042251064889241616, 0.07354814999238356, 0.08137242126816904, 0.06259417020628388, 0.09076154679911162, 0.3786947297480175, 0.001564854255157097, 0.004694562765471291, 0.004694562765471291, 0.003129708510314194, 0.007824271275785485, 0.13299535945169794, 0.8245712286005272, 0.08142822191053507, 0.033529267845514445, 0.2378981385229358, 0.4901659632653778, 0.004789895406502063, 0.02235284523034296, 0.054285481273690046, 0.0015966318021673543, 0.027142740636845023, 0.006386527208669417, 0.012773054417338834, 0.01117642261517148, 0.0175629498238409, 0.5665592979785911, 0.0299850324835466, 0.02525055367035503, 0.02525055367035503, 0.14361252400014424, 0.012625276835177515, 0.014203436439574705, 0.14045620479134985, 0.011047117230780326, 0.020516074857163464, 0.009468957626383136, 0.961737544301768, 0.03316336359661269, 0.016581681798306346, 0.9000383963214507, 0.805697965240068, 0.012025342764777135, 0.07616050417692186, 0.028059133117813315, 0.00801689517651809, 0.00801689517651809, 0.012025342764777135, 0.04810137105910854, 0.973036229284972, 0.021019774558804473, 0.7356921095581566, 0.0035032957598007458, 0.05605273215681193, 0.05955602791661267, 0.1226153515930261, 0.968783579840396, 0.5733038166716502, 0.07669616276543816, 0.04218288952099098, 0.06710914241975838, 0.15530972960001227, 0.017256636622223584, 0.0498525057975348, 0.0019174040691359538, 0.007669616276543815, 0.0019174040691359538, 0.005752212207407861, 0.9928763911447864, 0.15721594891005292, 0.04491884254572941, 0.7860797445502646, 0.017425046180138144, 0.09099746338516586, 0.15682541562124327, 0.4220733408077906, 0.06582795223607743, 0.040658441086988996, 0.009680581211187856, 0.067764068478315, 0.017425046180138144, 0.027105627391326, 0.007744464968950285, 0.04259455732922657, 0.005808348726712714, 0.027105627391326, 0.01788188216274493, 0.1072912929764696, 0.18775976270882178, 0.2279939975749979, 0.03576376432548986, 0.09387988135441089, 0.1072912929764696, 0.008940941081372465, 0.21905305649362541, 0.9718794335433619, 0.9426653591142231, 0.970798215722312, 0.10209567735622312, 0.01880709846035689, 0.0870499985879376, 0.096722220653264, 0.3455132660002708, 0.04728641898604018, 0.045137036304856534, 0.05857067806225431, 0.02525524650390782, 0.006985493713846844, 0.05265987568899929, 0.07361635683053983, 0.005910802373255022, 0.03331543155834649, 0.9531574883907848, 0.9513296618971524, 0.15460685579686997, 0.01717853953298555, 0.008589269766492776, 0.8159806278168137, 0.9489078170579496, 0.027111651915941417, 0.17164982811433246, 0.020806039771434238, 0.0052015099428585595, 0.020806039771434238, 0.09362717897145408, 0.10923170880002975, 0.5357555241144316, 0.036410569600009914, 0.8588456135831541, 0.8716818566065976, 0.025266140771205727, 0.012633070385602864, 0.06316535192801431, 0.018949605578404295, 0.006316535192801432, 0.9677621554365505, 0.4733070488707535, 0.03676171253365076, 0.027571284400238066, 0.03446410550029758, 0.16083249233472205, 0.0413569266003571, 0.02067846330017855, 0.004595214066706345, 0.027571284400238066, 0.006892821100059517, 0.00919042813341269, 0.004595214066706345, 0.12866599386777766, 0.022976070333531724, 0.9612011306913224, 0.05903928873756316, 0.8855893310634474, 0.05325904368504777, 0.905403742645812, 0.04479096208327951, 0.15849109660237365, 0.6994281002235185, 0.06201825519223317, 0.03445458621790732, 0.9918844046081782, 0.9631836294851127, 0.049010650402243595, 0.11762556096538462, 0.09066970324415065, 0.1470319512067308, 0.08086757316370194, 0.01715372764078526, 0.1200760934854968, 0.014703195120673078, 0.02695585772123398, 0.12987822356594553, 0.01715372764078526, 0.0367579878016827, 0.15193301624695515, 0.1654918061705178, 0.47306838885468117, 0.16795570402913593, 0.04476081109822938, 0.02669222680169642, 0.030388073589623615, 0.006981043932751371, 0.022996380013769222, 0.031209372875829658, 0.0012319489293090655, 0.014783387151708786, 0.005338445360339284, 0.0028745475017211528, 0.0057490950034423055, 0.9804167013531375, 0.9656802231930779, 0.9488017071713577, 0.9966098470131388, 0.2697742139896542, 0.02997491266551713, 0.009991637555172378, 0.03996655022068951, 0.04995818777586188, 0.019983275110344756, 0.529556790424136, 0.04995818777586188, 0.009991637555172378, 0.893359454973555, 0.9310501778721856, 0.979952469643698, 0.05381177490714911, 0.8609883985143858, 0.029564722183082415, 0.9460711098586373, 0.17621015380917973, 0.09588946120941307, 0.032199044169950515, 0.09553562555919383, 0.022291645963811894, 0.21619358228395344, 0.0728901439451627, 0.05625986838485859, 0.0884589125548091, 0.09836631076094772, 0.02370698856468884, 0.008138219955042438, 0.0035383565021923644, 0.007076713004384729, 0.002476849551534655, 0.11560654696652475, 0.12077594540811733, 0.05733332817039032, 0.15978140637649763, 0.007519125005952829, 0.1795191095171238, 0.06203278129911084, 0.026786882833706956, 0.08365026569122523, 0.1306447969784304, 0.03289617190104363, 0.002819671877232311, 0.013628414073289503, 0.0014098359386161554, 0.005639343754464622, 0.9416959867170207, 0.8887583610330991, 0.9175570800335542, 0.017026242300145406, 0.10912273474184102, 0.1563318611195169, 0.1609753817468293, 0.133114257982955, 0.1439491394466839, 0.03327856449573875, 0.10602705432363276, 0.03173072428663462, 0.026313283554770174, 0.010834881463728895, 0.026313283554770174, 0.023991523241113984, 0.00773920104552064, 0.013930561881937151, 0.06496821999062581, 0.0036093455550347676, 0.032484109995312906, 0.05774952888055628, 0.1118897122060778, 0.010828036665104302, 0.021656073330208605, 0.6893850010116406, 0.0036093455550347676, 0.895681216400357, 0.04088496634346012, 0.9403542258995827, 0.9706988045731805, 0.07440167425302972, 0.07068159054037824, 0.1339230136554535, 0.11160251137954459, 0.007440167425302973, 0.3757284549778001, 0.07068159054037824, 0.02232050227590892, 0.05952133940242378, 0.04092092083916635, 0.01116025113795446, 0.007440167425302973, 0.014880334850605945, 0.05680749939521904, 0.06816899927426286, 0.03408449963713143, 0.062488249334740946, 0.5396712442545809, 0.07384974921378476, 0.07953049915330666, 0.005680749939521904, 0.08521124909282857, 0.09138485357769863, 0.004569242678884931, 0.03426932009163698, 0.01599234937609726, 0.5711553348606164, 0.029700077412752053, 0.01599234937609726, 0.14393114438487534, 0.02513083473386712, 0.011423106697212328, 0.006853864018327397, 0.0022846213394424656, 0.045692426788849314, 0.04167757816338839, 0.8423257902495339, 0.017548453963531958, 0.017548453963531958, 0.008774226981765979, 0.01974201070897345, 0.02412912419985644, 0.017548453963531958, 0.008774226981765979, 0.0021935567454414947, 0.022364598807152414, 0.7175308783961399, 0.11555042717028746, 0.03727433134525402, 0.0055911497017881034, 0.01863716567262701, 0.024228315374415114, 0.009318582836313505, 0.04100176447977943, 0.007454866269050804, 0.15823929237220807, 0.004795130071885092, 0.6497401247404301, 0.011987825179712731, 0.004795130071885092, 0.011987825179712731, 0.014385390215655278, 0.043156170646965836, 0.0983001664736444, 0.03053282817632427, 0.05088804696054045, 0.35282379225974714, 0.5122730060694405, 0.00678507292807206, 0.02035521878421618, 0.00678507292807206, 0.00339253646403603, 0.01017760939210809, 0.06246003146407321, 0.12492006292814642, 0.031230015732036605, 0.031230015732036605, 0.7182903618368419, 0.03955182925772269, 0.019775914628861344, 0.07119329266390083, 0.0632829268123563, 0.11865548777316806, 0.011865548777316806, 0.07119329266390083, 0.09096920729276217, 0.44298048768649406, 0.02768628048040588, 0.047462195109267226, 0.9565233029250987, 0.9631836312152867, 0.05653476475296839, 0.011306952950593679, 0.06784171770356207, 0.3052877296660293, 0.022613905901187357, 0.5427337416284965, 0.019291462313718765, 0.0578743869411563, 0.4147664397449535, 0.13986310177446104, 0.009645731156859383, 0.031348626259793, 0.02170289510293361, 0.05064008857351176, 0.0265257606813633, 0.004822865578429691, 0.004822865578429691, 0.03376005904900784, 0.024114327892148457, 0.15915456408817982, 0.9556919124689454, 0.18547241932178546, 0.02649605990311221, 0.768385737190254, 0.9547555122108271, 0.011149679664084906, 0.011149679664084906, 0.022299359328169812, 0.033449038992254716, 0.8250762951422831, 0.011149679664084906, 0.07804775764859434, 0.9533633262213361, 0.9572197810252612, 0.8072590266387882, 0.25598329426413174, 0.004922755658925611, 0.15260542542669395, 0.19691022635702443, 0.3199791178301647, 0.024613778294628054, 0.03938204527140489, 0.11958005254650028, 0.10514797723916404, 0.026802425570767303, 0.2082342294344229, 0.002061725043905177, 0.09277762697573297, 0.008246900175620709, 0.35255498250778533, 0.05979002627325014, 0.008246900175620709, 0.008246900175620709, 0.004123450087810354, 0.004123450087810354, 0.8975130069798833, 0.09972366744220926, 0.05674879144634122, 0.1588966160497554, 0.034049274867804735, 0.011349758289268244, 0.6469362224882899, 0.0794483080248777, 0.8956812187593911, 0.8956812187593911, 0.14200177228878066, 0.7810097475882937, 0.16737206455800854, 0.23771684531427298, 0.09217591961165687, 0.14473236500426825, 0.02102257815704455, 0.04851364190087204, 0.10834713357861422, 0.010511289078522276, 0.0444708384091327, 0.07600470564469952, 0.03638523142565403, 0.0032342427933914693, 0.005659924888435071, 0.004042803491739337, 0.0008085606983478673, 0.979952469749599, 0.1918456151444855, 0.009135505483070738, 0.01918456151444855, 0.011876157127991959, 0.3243104446490112, 0.15164939101897426, 0.04476397686704662, 0.16535264924358037, 0.025579415352598067, 0.0009135505483070739, 0.006394853838149517, 0.046591077963660764, 0.0009135505483070739, 0.9427371147157237, 0.4082859563681465, 0.03362973128386278, 0.1739287664837278, 0.1644704045601414, 0.02049311750110388, 0.018391259295862456, 0.09405815468455371, 0.0010509291026207118, 0.022069511155034947, 0.013662078334069253, 0.0021018582052414235, 0.0005254645513103559, 0.012085684680138186, 0.03415519583517313, 0.0010509291026207118, 0.9732661477527436, 0.786059555999243, 0.065103092061287, 0.009644902527598075, 0.0024112256318995187, 0.043402061374191336, 0.012056128159497593, 0.026523481950894705, 0.01687857942329663, 0.03375715884659326, 0.0024112256318995187, 0.9498071676304916, 0.017161809077145724, 0.331794975491484, 0.03432361815429145, 0.017161809077145724, 0.5835015086229546, 0.005720603025715241, 0.2517066853107914, 0.04480216081583665, 0.0048875084526367255, 0.03339797442635096, 0.17676488903702825, 0.0896043216316733, 0.0814584742106121, 0.0659813641105958, 0.021993788036865265, 0.007331262678955088, 0.1718773805843915, 0.04154382184741217, 0.00814584742106121, 0.0008145847421061209, 0.9213658337110809, 0.8933594551031564, 0.005416668086062855, 0.1665625436464328, 0.014895837236672852, 0.07177085214033284, 0.03791667660243999, 0.06229168298972284, 0.009479169150609998, 0.411666774540777, 0.15979170853885424, 0.020312505322735708, 0.0013541670215157138, 0.008125002129094283, 0.020312505322735708, 0.008125002129094283, 0.04628538384826575, 0.925707676965315, 0.9668408514853583, 0.5189211970134969, 0.09266449946669589, 0.2432443111000767, 0.046332249733347944, 0.041699024760013144, 0.013899674920004382, 0.01621628740667178, 0.027799349840008765, 0.1441808327858724, 0.2359322718314276, 0.02621469687015862, 0.07864409061047586, 0.01310734843507931, 0.01310734843507931, 0.02621469687015862, 0.43254249835761727, 0.9542980250058563, 0.9646514580686187, 0.024116286451715468, 0.9368854103937186, 0.8072590261919416, 0.9580744534048914, 0.8887583585991651, 0.8653178244223594, 0.9556919126448546, 0.9460872018171427, 0.9239062755250003, 0.9542980249426845, 0.14941785268667004, 0.03145639003929896, 0.01572819501964948, 0.02359229252947422, 0.7706815559628245, 0.00786409750982474, 0.21065222819526108, 0.7794132443224661, 0.03054079257808803, 0.10034831847086068, 0.03490376294638632, 0.0632630703403252, 0.05017415923543034, 0.41884515535663586, 0.01308891110489487, 0.09162237773426408, 0.08507792218181666, 0.037085248130535466, 0.01745188147319316, 0.006544455552447435, 0.05235564441957948, 0.8848323930113856, 0.04213487585768503, 0.04213487585768503, 0.032515955162533715, 0.032515955162533715, 0.8454148342258765, 0.06503191032506743, 0.9412342940254553, 0.9459291823666836, 0.037427253949167634, 0.823399586881688, 0.037427253949167634, 0.07485450789833527, 0.9903648228394552, 0.9010938317456941, 0.1643259211966804, 0.011036815602762116, 0.05273145232430789, 0.04292094956629712, 0.041694636721545775, 0.08829452482209693, 0.0049052513790053855, 0.11527340740662655, 0.251394133174026, 0.07480508352983213, 0.06008932939281597, 0.028205195429280964, 0.06376826792707001, 0.0012263128447513464, 0.10382103184291035, 0.1557315477643655, 0.00741578798877931, 0.6970840709452552, 0.02966315195511724, 0.20688009900551133, 0.08045337183547663, 0.6896003300183711, 0.022986677667279038, 0.21777648744828554, 0.027222060931035692, 0.07622177060689994, 0.05988853404827852, 0.08711059497931421, 0.043555297489657106, 0.06533294623448566, 0.005444412186207138, 0.06533294623448566, 0.043555297489657106, 0.2994426702413926, 0.8535829880845286, 0.8535829878001169, 0.0016301453319362725, 0.04890435995808817, 0.23800121846269578, 0.004890435995808818, 0.4988244715724994, 0.20702845715590662, 0.9222568090486992, 0.9488273004029553, 0.9486910391444191, 0.026865718193919544, 0.010074644322719829, 0.06044786593631898, 0.013432859096959772, 0.006716429548479886, 0.8798522708508651, 0.9128115707255698, 0.035697899969776986, 0.0981692249168867, 0.0580090874508876, 0.04462237496222123, 0.09370698742066458, 0.004462237496222123, 0.2632720122771052, 0.07585803743577609, 0.026773424977332736, 0.29896991224688224, 0.0076205449875962035, 0.9144653985115444, 0.015241089975192407, 0.04572326992557722, 0.0076205449875962035, 0.02079680232492378, 0.6966928778849465, 0.14557761627446644, 0.01039840116246189, 0.06239040697477133, 0.05199200581230944, 0.020036387412590912, 0.18135499376011774, 0.19471258536851166, 0.1618323598709266, 0.038531514254982524, 0.0760355214631655, 0.03185271845078555, 0.03288022549758508, 0.12175958504574476, 0.07654927498656527, 0.014898852178593242, 0.009761316944595573, 0.007706302850996504, 0.009247563421195804, 0.022605155029589746, 0.43900170355886226, 0.07205186224881678, 0.007205186224881678, 0.023674183310325513, 0.05815614595797354, 0.0802863607915387, 0.07719842383801798, 0.03190868185304743, 0.021100902515724915, 0.13535456979599153, 0.027276776422766352, 0.010293123178402397, 0.0046319054302810785, 0.011837091655162757, 0.01872043893766665, 0.9547423858209992, 0.9341516855539859, 0.9125699924492034, 0.07161187689829801, 0.053708907673723515, 0.023870625632766006, 0.10741781534744703, 0.6445068920846821, 0.08354718971468102, 0.0059676564081915014, 0.0059676564081915014, 0.953618170189047, 0.9429855107298902, 0.15134349016494195, 0.7945533233659452, 0.03783587254123549, 0.8653178229510805], \"Term\": [\"access\", \"access\", \"access\", \"access\", \"access\", \"access\", \"access\", \"access\", \"access\", \"access\", \"access\", \"access\", \"access\", \"access\", \"accessibility\", \"accessibility\", \"accessibility\", \"accessibility\", \"accessibility\", \"account\", \"account\", \"account\", \"account\", \"account\", \"account\", \"account\", \"account\", \"account\", \"account\", \"account\", \"account\", \"account\", \"account\", \"account\", \"accuracy\", \"accuracy\", \"accuracy\", \"accuracy\", \"accuracy\", \"accuracy\", \"accuracy\", \"accuracy\", \"acquia\", \"activity\", \"activity\", \"activity\", \"activity\", \"activity\", \"activity\", \"activity\", \"activity\", \"activity\", \"activity\", \"activity\", \"activity\", \"activity\", \"activity\", \"actually\", \"actually\", \"actually\", \"actually\", \"actually\", \"actually\", \"actually\", \"actually\", \"actually\", \"actually\", \"actually\", \"actually\", \"actually\", \"actually\", \"actually\", \"address\", \"address\", \"address\", \"address\", \"address\", \"address\", \"address\", \"address\", \"address\", \"address\", \"address\", \"address\", \"address\", \"adtech\", \"advertising\", \"advertising\", \"advertising\", \"advertising\", \"advertising\", \"advertising\", \"advertising\", \"adwords\", \"adwords\", \"adwords\", \"adwords\", \"african\", \"african\", \"agency\", \"agency\", \"agency\", \"agency\", \"agency\", \"agency\", \"agency\", \"agency\", \"aggregated\", \"aggregation\", \"aggregation\", \"aggregation\", \"aggregation\", \"aggregation\", \"agile\", \"agile\", \"agile\", \"agriculture\", \"agriculture\", \"airberlin\", \"airpods\", \"airport\", \"airport\", \"airport\", \"airport\", \"airport\", \"airport\", \"airport\", \"alecrimcoredata\", \"alfred\", \"alfred\", \"algorithm\", \"algorithm\", \"algorithm\", \"algorithm\", \"algorithm\", \"algorithm\", \"algorithm\", \"algorithmia\", \"allow\", \"allow\", \"allow\", \"allow\", \"allow\", \"allow\", \"allow\", \"allow\", \"allow\", \"allow\", \"allow\", \"allow\", \"allow\", \"allow\", \"almaden\", \"alptitude\", \"amazon\", \"amazon\", \"amazon\", \"amazon\", \"amazon\", \"amazon\", \"amazon\", \"amazon\", \"amazon\", \"amazon\", \"amazon\", \"ambient\", \"ambient\", \"ambient\", \"ambient\", \"ambient\", \"america\", \"america\", \"america\", \"america\", \"america\", \"america\", \"america\", \"america\", \"america\", \"america\", \"america\", \"america\", \"american\", \"american\", \"american\", \"american\", \"american\", \"american\", \"american\", \"american\", \"american\", \"american\", \"american\", \"american\", \"american\", \"analytic\", \"analytic\", \"analytic\", \"analytic\", \"analytic\", \"analytic\", \"analytic\", \"analytic\", \"analytic\", \"analytic\", \"analytics\", \"analytics\", \"analytics\", \"analytics\", \"analytics\", \"analytics\", \"analytics\", \"andrejko\", \"android\", \"android\", \"android\", \"android\", \"android\", \"android\", \"android\", \"android\", \"android\", \"android\", \"android\", \"angular\", \"angular\", \"angular\", \"angular\", \"animation\", \"animation\", \"animation\", \"animation\", \"animation\", \"animation\", \"animation\", \"antibiotic\", \"apache\", \"apache\", \"apache\", \"apache\", \"append\", \"append\", \"append\", \"apple\", \"apple\", \"apple\", \"apple\", \"apple\", \"apple\", \"apple\", \"apple\", \"apple\", \"application\", \"application\", \"application\", \"application\", \"application\", \"application\", \"application\", \"application\", \"application\", \"application\", \"application\", \"application\", \"application\", \"aquifer\", \"arabic\", \"aramaic\", \"architecture\", \"architecture\", \"architecture\", \"architecture\", \"architecture\", \"architecture\", \"architecture\", \"architecture\", \"architecture\", \"architecture\", \"architecture\", \"architecture\", \"arjan\", \"array\", \"array\", \"array\", \"array\", \"array\", \"array\", \"array\", \"array\", \"array\", \"array\", \"array\", \"artificial\", \"artificial\", \"artificial\", \"artificial\", \"artificial\", \"artist\", \"artist\", \"artist\", \"artist\", \"artist\", \"artist\", \"artist\", \"artist\", \"asked\", \"asset\", \"asset\", \"asset\", \"asset\", \"asset\", \"asset\", \"asset\", \"asset\", \"assistant\", \"assistant\", \"assistant\", \"assistant\", \"assistant\", \"assistant\", \"assistant\", \"asteroid\", \"asteroid\", \"atlassian\", \"atlassian\", \"attribute\", \"attribute\", \"attribute\", \"attribute\", \"attribute\", \"attribute\", \"attribute\", \"attribute\", \"attribute\", \"attribute\", \"attribute\", \"audits\", \"aurelia\", \"autocomplete\", \"autocomplete\", \"autofill\", \"autonomous\", \"autonomous\", \"autonomous\", \"autonomous\", \"autonomous\", \"autonomous\", \"autonomous\", \"available\", \"available\", \"available\", \"available\", \"available\", \"available\", \"available\", \"available\", \"available\", \"available\", \"available\", \"available\", \"available\", \"available\", \"available\", \"await\", \"await\", \"await\", \"await\", \"await\", \"await\", \"award\", \"award\", \"award\", \"award\", \"award\", \"award\", \"award\", \"award\", \"award\", \"bacca\", \"backend\", \"backend\", \"backend\", \"backend\", \"backend\", \"backlog\", \"backlog\", \"backlog\", \"backplane\", \"backplane\", \"balancer\", \"balancing\", \"balancing\", \"banking\", \"banking\", \"banking\", \"banking\", \"banks\", \"battery\", \"battery\", \"battery\", \"battery\", \"battery\", \"battery\", \"battery\", \"battery\", \"battery\", \"battery\", \"battery\", \"baveja\", \"bayesian\", \"bcrypt\", \"beacon\", \"beacon\", \"beacon\", \"beacon\", \"bekele\", \"bessen\", \"bicycle\", \"bicycle\", \"bicycle\", \"bicycle\", \"bicycle\", \"bigquery\", \"bigquery\", \"bigtable\", \"bisect\", \"bitbucket\", \"bitbucket\", \"bitcasa\", \"bitcoin\", \"bitcoin\", \"bitcoin\", \"bitcoin\", \"bitcoin\", \"bitfury\", \"bitfury\", \"bixpy\", \"black\", \"black\", \"black\", \"black\", \"black\", \"black\", \"black\", \"black\", \"black\", \"black\", \"blake\", \"blockchain\", \"blockchain\", \"blomfield\", \"bluemix\", \"bluemix\", \"bluemix\", \"boards\", \"boards\", \"boards\", \"boehme\", \"boots\", \"bostrom\", \"bostrom\", \"botsman\", \"brain\", \"brain\", \"brain\", \"brain\", \"brain\", \"brainprint\", \"braintree\", \"brand\", \"brand\", \"brand\", \"brand\", \"brand\", \"brand\", \"brand\", \"brand\", \"brand\", \"brand\", \"brazil\", \"brazil\", \"brazil\", \"brazil\", \"brockman\", \"browser\", \"browser\", \"browser\", \"browser\", \"browser\", \"browser\", \"browser\", \"browser\", \"browser\", \"browser\", \"bucket\", \"bucket\", \"bucket\", \"bucket\", \"bucket\", \"build\", \"build\", \"build\", \"build\", \"build\", \"build\", \"build\", \"build\", \"build\", \"build\", \"build\", \"build\", \"build\", \"build\", \"bunnell\", \"burda\", \"burndown\", \"burnout\", \"business\", \"business\", \"business\", \"business\", \"business\", \"business\", \"business\", \"business\", \"business\", \"business\", \"business\", \"business\", \"business\", \"button\", \"button\", \"button\", \"button\", \"button\", \"button\", \"button\", \"button\", \"button\", \"button\", \"button\", \"buttons\", \"buttons\", \"buyer\", \"buyer\", \"buyer\", \"buyer\", \"buyer\", \"buyer\", \"buyer\", \"buyer\", \"buytaert\", \"calayer\", \"calendar\", \"calendar\", \"calendar\", \"calendar\", \"calendar\", \"calendar\", \"calendar\", \"callahan\", \"campaign\", \"campaign\", \"campaign\", \"campaign\", \"campaign\", \"campaign\", \"campaign\", \"campaign\", \"campaign\", \"campaign\", \"campaign\", \"cannabis\", \"caravel\", \"caravel\", \"carbony\", \"cardboard\", \"cardboard\", \"carryover\", \"cassandra\", \"category\", \"category\", \"category\", \"category\", \"category\", \"category\", \"category\", \"category\", \"category\", \"category\", \"category\", \"category\", \"category\", \"category\", \"catmull\", \"catransaction\", \"causal\", \"causal\", \"cello\", \"centauri\", \"ceramic\", \"cersei\", \"change\", \"change\", \"change\", \"change\", \"change\", \"change\", \"change\", \"change\", \"change\", \"change\", \"change\", \"change\", \"change\", \"change\", \"change\", \"chart\", \"chart\", \"chart\", \"chart\", \"chart\", \"chart\", \"chart\", \"chart\", \"chart\", \"chart\", \"chart\", \"chart\", \"chart\", \"cheque\", \"cheque\", \"cheque\", \"cheque\", \"chester\", \"china\", \"china\", \"china\", \"china\", \"china\", \"china\", \"china\", \"china\", \"china\", \"china\", \"chirp\", \"chrome\", \"chrome\", \"chrome\", \"chrome\", \"chrome\", \"chrome\", \"chromebooks\", \"chromebooks\", \"chromecast\", \"churn\", \"churn\", \"churn\", \"churn\", \"churn\", \"churn\", \"churn\", \"churn\", \"circuit\", \"circuit\", \"circuit\", \"circuit\", \"circuit\", \"circuit\", \"circuit\", \"circuit\", \"citrus\", \"claire\", \"class\", \"class\", \"class\", \"class\", \"class\", \"class\", \"class\", \"class\", \"class\", \"class\", \"class\", \"class\", \"class\", \"class\", \"classification\", \"classification\", \"classifier\", \"click\", \"click\", \"click\", \"click\", \"click\", \"click\", \"click\", \"click\", \"click\", \"click\", \"click\", \"click\", \"click\", \"clinton\", \"clinton\", \"clinton\", \"cloud\", \"cloud\", \"cloud\", \"cloud\", \"cloud\", \"cloud\", \"cloud\", \"cloud\", \"cloud\", \"cloud\", \"cloudfront\", \"cloudhsm\", \"cloudwatch\", \"cluster\", \"cluster\", \"cluster\", \"cluster\", \"cluster\", \"cluster\", \"cluster\", \"cluster\", \"coaching\", \"coaching\", \"coaching\", \"coauthor\", \"coauthor\", \"coefficient\", \"coefficient\", \"coffee\", \"coffee\", \"coffee\", \"coffee\", \"coffee\", \"coffee\", \"coffee\", \"coffee\", \"coffee\", \"coffee\", \"cognizant\", \"cognizant\", \"coindesk\", \"coinfest\", \"coldline\", \"collection\", \"collection\", \"collection\", \"collection\", \"collection\", \"collection\", \"collection\", \"collection\", \"collection\", \"collection\", \"collection\", \"collection\", \"collection\", \"collection\", \"comic\", \"comic\", \"command\", \"command\", \"command\", \"command\", \"command\", \"command\", \"command\", \"command\", \"command\", \"command\", \"command\", \"commerce\", \"commerce\", \"commerce\", \"commerce\", \"commerce\", \"commerce\", \"commerce\", \"commerce\", \"commerce\", \"commit\", \"commit\", \"commit\", \"commit\", \"commit\", \"commit\", \"commit\", \"commit\", \"commit\", \"commit\", \"commit\", \"commit\", \"communications\", \"communications\", \"community\", \"community\", \"community\", \"community\", \"community\", \"community\", \"community\", \"community\", \"community\", \"community\", \"community\", \"community\", \"community\", \"community\", \"community\", \"company\", \"company\", \"company\", \"company\", \"company\", \"company\", \"company\", \"company\", \"company\", \"company\", \"company\", \"company\", \"company\", \"company\", \"component\", \"component\", \"component\", \"component\", \"component\", \"component\", \"component\", \"component\", \"component\", \"component\", \"component\", \"component\", \"component\", \"computational\", \"computational\", \"computational\", \"compute\", \"compute\", \"compute\", \"compute\", \"compute\", \"compute\", \"compute\", \"compute\", \"compute\", \"compute\", \"computer\", \"computer\", \"computer\", \"computer\", \"computer\", \"computer\", \"computer\", \"computer\", \"computer\", \"computer\", \"computer\", \"computer\", \"computer\", \"computer\", \"concatenation\", \"configuration\", \"configuration\", \"configuration\", \"configuration\", \"configuration\", \"configuration\", \"configuration\", \"configuration\", \"configuration\", \"configure\", \"configure\", \"configure\", \"configure\", \"configure\", \"configure\", \"configure\", \"configure\", \"conjugate\", \"connections\", \"consortium\", \"consortium\", \"constraint\", \"constraint\", \"constraint\", \"constraint\", \"constraint\", \"constraint\", \"constraint\", \"constraint\", \"constraint\", \"constraint\", \"constraint\", \"constraintlayout\", \"constructor\", \"constructor\", \"constructor\", \"consultancy\", \"consultancy\", \"consultancy\", \"consumer\", \"consumer\", \"consumer\", \"consumer\", \"consumer\", \"consumer\", \"consumer\", \"consumer\", \"consumer\", \"consumer\", \"consumer\", \"consumer\", \"consumer\", \"contain\", \"contain\", \"contain\", \"contain\", \"contain\", \"contain\", \"contain\", \"contain\", \"contain\", \"contain\", \"contain\", \"contain\", \"contain\", \"container\", \"container\", \"container\", \"container\", \"container\", \"container\", \"containerd\", \"containment\", \"containment\", \"containment\", \"content\", \"content\", \"content\", \"content\", \"content\", \"content\", \"content\", \"content\", \"content\", \"content\", \"content\", \"content\", \"content\", \"content\", \"content\", \"continuous\", \"continuous\", \"continuous\", \"continuous\", \"continuous\", \"continuous\", \"continuous\", \"continuous\", \"contract\", \"contract\", \"contract\", \"contract\", \"contract\", \"contract\", \"contract\", \"contract\", \"contribute\", \"contribute\", \"contribute\", \"contribute\", \"contribute\", \"contribute\", \"contribute\", \"contribute\", \"contribute\", \"contribute\", \"contribute\", \"contribute\", \"contribute\", \"contributed\", \"contributor\", \"contributor\", \"contributor\", \"contributor\", \"contributor\", \"contributor\", \"contributor\", \"contributor\", \"contributor\", \"contributor\", \"conversion\", \"conversion\", \"conversion\", \"conversion\", \"conversion\", \"conversion\", \"converter\", \"converter\", \"converter\", \"converter\", \"converter\", \"convolutional\", \"cookie\", \"cookie\", \"cookie\", \"cookie\", \"cookie\", \"cookie\", \"cookie\", \"cookie\", \"cooling\", \"copywrite\", \"corda\", \"corda\", \"corrado\", \"count\", \"count\", \"count\", \"count\", \"count\", \"count\", \"count\", \"count\", \"count\", \"count\", \"count\", \"count\", \"count\", \"country\", \"country\", \"country\", \"country\", \"country\", \"country\", \"country\", \"country\", \"country\", \"country\", \"country\", \"country\", \"country\", \"country\", \"coverage\", \"coverage\", \"coverage\", \"coverage\", \"coverage\", \"coverage\", \"coverage\", \"coverage\", \"coverage\", \"coverage\", \"crack\", \"crack\", \"crack\", \"crack\", \"crack\", \"crack\", \"crack\", \"crack\", \"crack\", \"crack\", \"create\", \"create\", \"create\", \"create\", \"create\", \"create\", \"create\", \"create\", \"create\", \"create\", \"create\", \"create\", \"create\", \"create\", \"create\", \"credit\", \"credit\", \"credit\", \"credit\", \"credit\", \"credit\", \"credit\", \"credit\", \"credit\", \"credit\", \"credit\", \"credit\", \"credit\", \"credits\", \"credits\", \"credits\", \"credits\", \"credits\", \"creep\", \"creep\", \"creep\", \"creep\", \"creep\", \"creep\", \"cropx\", \"crowdflower\", \"culture\", \"culture\", \"culture\", \"culture\", \"culture\", \"culture\", \"culture\", \"culture\", \"culture\", \"currency\", \"currency\", \"currency\", \"currency\", \"currency\", \"currency\", \"customer\", \"customer\", \"customer\", \"customer\", \"customer\", \"customer\", \"customer\", \"customer\", \"customer\", \"customer\", \"customer\", \"cyclist\", \"cyclist\", \"cyclist\", \"cyclist\", \"cyclist\", \"dagger\", \"dagger\", \"dagger\", \"dakuten\", \"database\", \"database\", \"database\", \"database\", \"database\", \"database\", \"database\", \"database\", \"dataflow\", \"dataflow\", \"dataproc\", \"dataset\", \"dataset\", \"dataset\", \"dataset\", \"datastore\", \"datum\", \"datum\", \"datum\", \"datum\", \"datum\", \"datum\", \"datum\", \"datum\", \"datum\", \"datum\", \"datum\", \"datum\", \"datum\", \"datum\", \"datum\", \"death\", \"death\", \"death\", \"death\", \"death\", \"death\", \"death\", \"death\", \"death\", \"death\", \"debit\", \"debit\", \"debit\", \"debugger\", \"debugger\", \"debugger\", \"debut\", \"debut\", \"debut\", \"debut\", \"decouple\", \"decouple\", \"decouple\", \"decouple\", \"decouple\", \"decouple\", \"decoupled\", \"decoupled\", \"decoupled\", \"decrypt\", \"deepmind\", \"deeptext\", \"defect\", \"defect\", \"defect\", \"defect\", \"define\", \"define\", \"define\", \"define\", \"define\", \"define\", \"define\", \"define\", \"define\", \"define\", \"define\", \"define\", \"define\", \"deliver\", \"deliver\", \"deliver\", \"deliver\", \"deliver\", \"deliver\", \"deliver\", \"deliver\", \"deliver\", \"deliver\", \"deliver\", \"deliver\", \"deliver\", \"delivery\", \"delivery\", \"delivery\", \"delivery\", \"delivery\", \"delivery\", \"delivery\", \"delivery\", \"delivery\", \"demandware\", \"dependency\", \"dependency\", \"dependency\", \"dependency\", \"dependency\", \"dependency\", \"dependency\", \"deploy\", \"deploy\", \"deploy\", \"deploy\", \"deploy\", \"deploy\", \"deploy\", \"deploy\", \"deploy\", \"deploy\", \"deployment\", \"deployment\", \"deployment\", \"deployment\", \"deployment\", \"deployment\", \"deployment\", \"deployment\", \"design\", \"design\", \"design\", \"design\", \"design\", \"design\", \"design\", \"design\", \"design\", \"design\", \"design\", \"design\", \"design\", \"design\", \"design\", \"desktop\", \"desktop\", \"desktop\", \"desktop\", \"desktop\", \"desktop\", \"desktop\", \"desktop\", \"desktop\", \"desktop\", \"developer\", \"developer\", \"developer\", \"developer\", \"developer\", \"developer\", \"developer\", \"developer\", \"developer\", \"developer\", \"developer\", \"developer\", \"developer\", \"development\", \"development\", \"development\", \"development\", \"development\", \"development\", \"development\", \"development\", \"development\", \"development\", \"development\", \"development\", \"development\", \"development\", \"development\", \"device\", \"device\", \"device\", \"device\", \"device\", \"device\", \"device\", \"device\", \"device\", \"device\", \"device\", \"device\", \"device\", \"device\", \"devops\", \"devops\", \"devops\", \"devtools\", \"diageo\", \"different\", \"different\", \"different\", \"different\", \"different\", \"different\", \"different\", \"different\", \"different\", \"different\", \"different\", \"different\", \"different\", \"different\", \"different\", \"digital\", \"digital\", \"digital\", \"digital\", \"digital\", \"digital\", \"digital\", \"digital\", \"digital\", \"digital\", \"digital\", \"digitization\", \"digitization\", \"digitization\", \"directory\", \"directory\", \"directory\", \"directory\", \"directory\", \"directory\", \"directory\", \"discriminator\", \"display\", \"display\", \"display\", \"display\", \"display\", \"display\", \"display\", \"display\", \"display\", \"display\", \"display\", \"display\", \"display\", \"display\", \"display\", \"disruption\", \"disruption\", \"disruption\", \"disruption\", \"disruption\", \"disruption\", \"distribution\", \"distribution\", \"distribution\", \"distribution\", \"distribution\", \"distribution\", \"distribution\", \"distribution\", \"distribution\", \"distribution\", \"django\", \"docker\", \"docker\", \"docker\", \"dockerfile\", \"document\", \"document\", \"document\", \"document\", \"document\", \"document\", \"document\", \"document\", \"document\", \"document\", \"document\", \"dogville\", \"dotnet\", \"dries\", \"drive\", \"drive\", \"drive\", \"drive\", \"drive\", \"drive\", \"drive\", \"drive\", \"drive\", \"drive\", \"drive\", \"drive\", \"drive\", \"drive\", \"drive\", \"driving\", \"driving\", \"driving\", \"dropwizard\", \"drupal\", \"drupalcon\", \"drush\", \"drush\", \"dualshock\", \"dynamodb\", \"earth\", \"earth\", \"earth\", \"earth\", \"earth\", \"earth\", \"earth\", \"earth\", \"earth\", \"earth\", \"earth\", \"ecommerce\", \"ecommerce\", \"ecommerce\", \"ecommerce\", \"ecommerce\", \"ecommerce\", \"ecommerce\", \"ecommerce\", \"eddystone\", \"elastic\", \"elastic\", \"elasticsearch\", \"electoral\", \"element\", \"element\", \"element\", \"element\", \"element\", \"element\", \"element\", \"element\", \"element\", \"element\", \"element\", \"element\", \"element\", \"element\", \"email\", \"email\", \"email\", \"email\", \"email\", \"email\", \"email\", \"email\", \"email\", \"email\", \"email\", \"email\", \"email\", \"emoji\", \"emoji\", \"emoji\", \"employee\", \"employee\", \"employee\", \"employee\", \"employee\", \"employee\", \"employee\", \"emulator\", \"emulator\", \"encryption\", \"encryption\", \"encryption\", \"encryption\", \"engine\", \"engine\", \"engine\", \"engine\", \"engine\", \"engine\", \"engine\", \"engine\", \"engine\", \"engine\", \"engineer\", \"engineer\", \"engineer\", \"engineer\", \"engineer\", \"engineer\", \"engineer\", \"engineer\", \"engineer\", \"engineer\", \"engineer\", \"engineer\", \"english\", \"english\", \"english\", \"english\", \"english\", \"english\", \"english\", \"english\", \"english\", \"enterprise\", \"enterprise\", \"enterprise\", \"enterprise\", \"enterprise\", \"enterprise\", \"enterprise\", \"enterprise\", \"environment\", \"environment\", \"environment\", \"environment\", \"environment\", \"environment\", \"environment\", \"environment\", \"environment\", \"environment\", \"environment\", \"environment\", \"environment\", \"environment\", \"epidemic\", \"ericsson\", \"ericsson\", \"ericsson\", \"ericsson\", \"error\", \"error\", \"error\", \"error\", \"error\", \"error\", \"error\", \"error\", \"error\", \"error\", \"esperanto\", \"estonia\", \"ethereum\", \"ethereum\", \"ethereum\", \"ettlinger\", \"eucalyptus\", \"event\", \"event\", \"event\", \"event\", \"event\", \"event\", \"event\", \"event\", \"event\", \"event\", \"event\", \"event\", \"event\", \"event\", \"example\", \"example\", \"example\", \"example\", \"example\", \"example\", \"example\", \"example\", \"example\", \"example\", \"example\", \"example\", \"example\", \"example\", \"example\", \"exhibitor\", \"exomars\", \"expander\", \"experience\", \"experience\", \"experience\", \"experience\", \"experience\", \"experience\", \"experience\", \"experience\", \"experience\", \"experience\", \"experience\", \"experience\", \"experience\", \"experience\", \"experience\", \"exponential\", \"exponential\", \"exponential\", \"facebook\", \"facebook\", \"facebook\", \"facebook\", \"facebook\", \"facebook\", \"facebook\", \"facebook\", \"facebook\", \"facebook\", \"facebook\", \"failover\", \"fanderl\", \"farmer\", \"farmer\", \"farmer\", \"farmer\", \"farmer\", \"fasttext\", \"favro\", \"feature\", \"feature\", \"feature\", \"feature\", \"feature\", \"feature\", \"feature\", \"feature\", \"feature\", \"feature\", \"feature\", \"feature\", \"feature\", \"feature\", \"feature\", \"features\", \"features\", \"features\", \"features\", \"federighi\", \"felix\", \"female\", \"female\", \"female\", \"female\", \"female\", \"female\", \"female\", \"field\", \"field\", \"field\", \"field\", \"field\", \"field\", \"field\", \"field\", \"field\", \"field\", \"field\", \"field\", \"field\", \"field\", \"filter\", \"filter\", \"filter\", \"filter\", \"filter\", \"filter\", \"finance\", \"finance\", \"finance\", \"finance\", \"finance\", \"finance\", \"finance\", \"finance\", \"financial\", \"financial\", \"financial\", \"financial\", \"financial\", \"financial\", \"financial\", \"financial\", \"fintech\", \"firebase\", \"firewall\", \"firewall\", \"fjord\", \"focus\", \"focus\", \"focus\", \"focus\", \"focus\", \"focus\", \"focus\", \"focus\", \"focus\", \"focus\", \"focus\", \"focus\", \"focus\", \"focus\", \"focus\", \"folder\", \"folder\", \"folder\", \"folder\", \"folder\", \"folder\", \"follow\", \"follow\", \"follow\", \"follow\", \"follow\", \"follow\", \"follow\", \"follow\", \"follow\", \"follow\", \"follow\", \"follow\", \"follow\", \"follow\", \"follow\", \"forrester\", \"forrester\", \"forrester\", \"framework\", \"framework\", \"framework\", \"framework\", \"framework\", \"framework\", \"framework\", \"framework\", \"framework\", \"framework\", \"framework\", \"framework\", \"friend\", \"friend\", \"friend\", \"friend\", \"friend\", \"friend\", \"friend\", \"friend\", \"friend\", \"friend\", \"friend\", \"friend\", \"friend\", \"function\", \"function\", \"function\", \"function\", \"function\", \"function\", \"function\", \"function\", \"function\", \"function\", \"function\", \"function\", \"function\", \"function\", \"futhark\", \"galen\", \"gambling\", \"gambling\", \"gambling\", \"gateway\", \"gateway\", \"gateway\", \"gcloud\", \"gender\", \"gender\", \"gender\", \"gender\", \"gender\", \"gender\", \"generate\", \"generate\", \"generate\", \"generate\", \"generate\", \"generate\", \"generate\", \"generate\", \"generate\", \"generate\", \"generate\", \"generate\", \"generate\", \"generate\", \"generator\", \"generator\", \"generator\", \"generator\", \"generator\", \"generator\", \"generic\", \"generic\", \"generic\", \"generic\", \"generic\", \"generic\", \"generic\", \"generic\", \"giannandrea\", \"gitlab\", \"gitlab\", \"glimmer\", \"global\", \"global\", \"global\", \"global\", \"global\", \"global\", \"global\", \"global\", \"global\", \"global\", \"global\", \"global\", \"global\", \"globant\", \"goldin\", \"goodson\", \"goofs\", \"goofs\", \"google\", \"google\", \"google\", \"google\", \"google\", \"google\", \"google\", \"google\", \"google\", \"google\", \"google\", \"google\", \"governance\", \"governance\", \"government\", \"government\", \"government\", \"government\", \"government\", \"government\", \"government\", \"government\", \"government\", \"government\", \"government\", \"government\", \"grammar\", \"grammar\", \"grammar\", \"grammar\", \"great\", \"great\", \"great\", \"great\", \"great\", \"great\", \"great\", \"great\", \"great\", \"great\", \"great\", \"great\", \"great\", \"great\", \"great\", \"greta\", \"growth\", \"growth\", \"growth\", \"growth\", \"growth\", \"growth\", \"growth\", \"growth\", \"growth\", \"growth\", \"growth\", \"growth\", \"guava\", \"halal\", \"hangout\", \"hangout\", \"hangouts\", \"hangouts\", \"hangouts\", \"happen\", \"happen\", \"happen\", \"happen\", \"happen\", \"happen\", \"happen\", \"happen\", \"happen\", \"happen\", \"happen\", \"happen\", \"happen\", \"happen\", \"happen\", \"harald\", \"hashcat\", \"hashmap\", \"heading\", \"heading\", \"headphone\", \"headphone\", \"headphone\", \"headphone\", \"healthcare\", \"healthcare\", \"healthcare\", \"healthcare\", \"healthcare\", \"healthcare\", \"helix\", \"hemingway\", \"hendrix\", \"herobuttoncomponent\", \"heroescomponent\", \"heroku\", \"heroku\", \"heroku\", \"heroku\", \"heron\", \"heroservice\", \"hinton\", \"hiragana\", \"hoffer\", \"hollar\", \"homebot\", \"honcho\", \"honcho\", \"honcho\", \"hopper\", \"hubble\", \"human\", \"human\", \"human\", \"human\", \"human\", \"human\", \"human\", \"human\", \"human\", \"human\", \"human\", \"human\", \"human\", \"humanitarian\", \"hyperdev\", \"hyperledger\", \"hyperparameter\", \"hyperscale\", \"hypothesis\", \"hypothesis\", \"hypothesis\", \"hypothesis\", \"hypothesis\", \"ibook\", \"icaza\", \"icaza\", \"icloud\", \"icloud\", \"icloud\", \"image\", \"image\", \"image\", \"image\", \"image\", \"image\", \"image\", \"image\", \"image\", \"image\", \"image\", \"image\", \"image\", \"image\", \"image\", \"imagenet\", \"immutable\", \"immutable\", \"immutable\", \"impeachment\", \"impersonation\", \"implement\", \"implement\", \"implement\", \"implement\", \"implement\", \"implement\", \"implement\", \"implement\", \"implement\", \"implement\", \"implement\", \"implementation\", \"implementation\", \"implementation\", \"implementation\", \"implementation\", \"implementation\", \"implementation\", \"implementation\", \"implementation\", \"implementation\", \"important\", \"important\", \"important\", \"important\", \"important\", \"important\", \"important\", \"important\", \"important\", \"important\", \"important\", \"important\", \"important\", \"important\", \"important\", \"impression\", \"impression\", \"impression\", \"impression\", \"impression\", \"impression\", \"impression\", \"impression\", \"inbox\", \"inbox\", \"inbox\", \"inbox\", \"include\", \"include\", \"include\", \"include\", \"include\", \"include\", \"include\", \"include\", \"include\", \"include\", \"include\", \"include\", \"include\", \"include\", \"include\", \"income\", \"income\", \"income\", \"income\", \"income\", \"incumbent\", \"incumbent\", \"incumbent\", \"index\", \"index\", \"index\", \"index\", \"index\", \"index\", \"index\", \"index\", \"index\", \"industry\", \"industry\", \"industry\", \"industry\", \"industry\", \"industry\", \"industry\", \"industry\", \"industry\", \"industry\", \"industry\", \"industry\", \"industry\", \"inflation\", \"inflation\", \"information\", \"information\", \"information\", \"information\", \"information\", \"information\", \"information\", \"information\", \"information\", \"information\", \"information\", \"information\", \"information\", \"information\", \"information\", \"infrastructure\", \"infrastructure\", \"infrastructure\", \"infrastructure\", \"infrastructure\", \"infrastructure\", \"infrastructure\", \"infrastructure\", \"infrastructure\", \"inhabitant\", \"injection\", \"injection\", \"injection\", \"injection\", \"injection\", \"injection\", \"innersource\", \"innovation\", \"innovation\", \"innovation\", \"innovation\", \"innovation\", \"innovation\", \"innovation\", \"innovation\", \"innovation\", \"innovation\", \"innovation\", \"innovation\", \"instal\", \"instal\", \"instal\", \"instal\", \"instal\", \"instal\", \"instal\", \"instal\", \"instal\", \"instal\", \"instal\", \"install\", \"install\", \"install\", \"install\", \"install\", \"install\", \"install\", \"install\", \"install\", \"install\", \"install\", \"instance\", \"instance\", \"instance\", \"instance\", \"instance\", \"instance\", \"instance\", \"instance\", \"instance\", \"instance\", \"instance\", \"instance\", \"instance\", \"instance\", \"instances\", \"instapaper\", \"institution\", \"institution\", \"institution\", \"institution\", \"institution\", \"institution\", \"institution\", \"insurance\", \"insurance\", \"insurance\", \"insurer\", \"insurtech\", \"integer\", \"intelligence\", \"intelligence\", \"intelligence\", \"intelligence\", \"intelligence\", \"intelligence\", \"intelligence\", \"intelligence\", \"intelligence\", \"intelligence\", \"intelligence\", \"internet\", \"internet\", \"internet\", \"internet\", \"internet\", \"internet\", \"internet\", \"internet\", \"internet\", \"internet\", \"internet\", \"internet\", \"internet\", \"internet\", \"internet\", \"intolerant\", \"intolerant\", \"intranet\", \"intranet\", \"intranet\", \"invest\", \"invest\", \"invest\", \"invest\", \"invest\", \"invest\", \"invest\", \"invest\", \"invest\", \"invest\", \"invest\", \"invest\", \"investment\", \"investment\", \"investment\", \"investment\", \"investment\", \"investment\", \"investment\", \"investment\", \"investment\", \"iphone\", \"iphone\", \"iphone\", \"issue\", \"issue\", \"issue\", \"issue\", \"issue\", \"issue\", \"issue\", \"issue\", \"issue\", \"issue\", \"issue\", \"issue\", \"issue\", \"issue\", \"issue\", \"itunes\", \"itunes\", \"itunes\", \"jacaranda\", \"jacoco\", \"jacoco\", \"jacquard\", \"jamboard\", \"japanese\", \"japanese\", \"japanese\", \"japanese\", \"japanese\", \"japanese\", \"japanese\", \"jasonette\", \"jassy\", \"javascript\", \"javascript\", \"javascript\", \"javascript\", \"javascript\", \"javascript\", \"javetski\", \"jemaa\", \"jenkin\", \"jenkins\", \"jenkins\", \"jpmorgan\", \"jshell\", \"jshell\", \"jshint\", \"julie\", \"julie\", \"kanban\", \"kanji\", \"kelley\", \"keras\", \"kernighan\", \"keystoneml\", \"keyword\", \"keyword\", \"keyword\", \"keyword\", \"keyword\", \"kimberly\", \"kinesis\", \"kinesis\", \"kinvey\", \"kitty\", \"knapp\", \"kopin\", \"korneyev\", \"kosher\", \"kosher\", \"kotlin\", \"krebs\", \"krita\", \"kubernetes\", \"kurzweil\", \"label\", \"label\", \"label\", \"label\", \"label\", \"label\", \"label\", \"label\", \"label\", \"label\", \"label\", \"label\", \"lakes\", \"lander\", \"language\", \"language\", \"language\", \"language\", \"language\", \"language\", \"language\", \"language\", \"language\", \"language\", \"language\", \"language\", \"language\", \"latency\", \"latency\", \"latency\", \"latency\", \"latency\", \"latin\", \"latin\", \"latin\", \"laude\", \"launch\", \"launch\", \"launch\", \"launch\", \"launch\", \"launch\", \"launch\", \"launch\", \"launch\", \"launch\", \"launch\", \"launch\", \"layout\", \"layout\", \"layout\", \"layout\", \"layout\", \"layout\", \"leader\", \"leader\", \"leader\", \"leader\", \"leader\", \"leader\", \"leader\", \"leader\", \"leader\", \"leader\", \"leader\", \"leadership\", \"leadership\", \"leadership\", \"leadership\", \"leadership\", \"leadership\", \"leadfeeder\", \"learn\", \"learn\", \"learn\", \"learn\", \"learn\", \"learn\", \"learn\", \"learn\", \"learn\", \"learn\", \"learn\", \"learn\", \"learn\", \"learn\", \"learning\", \"learning\", \"learning\", \"learning\", \"learning\", \"learning\", \"learning\", \"learning\", \"learning\", \"learning\", \"lecun\", \"ledger\", \"lending\", \"lending\", \"lepton\", \"level\", \"level\", \"level\", \"level\", \"level\", \"level\", \"level\", \"level\", \"level\", \"level\", \"level\", \"level\", \"level\", \"level\", \"level\", \"library\", \"library\", \"library\", \"library\", \"library\", \"library\", \"library\", \"library\", \"library\", \"lightbend\", \"lightning\", \"lightning\", \"lightning\", \"lightning\", \"lightning\", \"lingq\", \"lingq\", \"linguistic\", \"linguistic\", \"linte\", \"linux\", \"linux\", \"linux\", \"linux\", \"linux\", \"linux\", \"linux\", \"linux\", \"linux\", \"linux\", \"lister\", \"listview\", \"little\", \"little\", \"little\", \"little\", \"little\", \"little\", \"little\", \"little\", \"little\", \"little\", \"little\", \"little\", \"little\", \"little\", \"little\", \"lizardcoin\", \"locator\", \"locator\", \"logout\", \"luqman\", \"macbook\", \"macbook\", \"macbook\", \"macbook\", \"machine\", \"machine\", \"machine\", \"machine\", \"machine\", \"machine\", \"machine\", \"machine\", \"machine\", \"machine\", \"machine\", \"machine\", \"machine\", \"madden\", \"maechler\", \"magento\", \"magento\", \"maintainer\", \"maintainer\", \"maintainer\", \"maintainer\", \"maintainer\", \"makoto\", \"management\", \"management\", \"management\", \"management\", \"management\", \"management\", \"management\", \"management\", \"management\", \"management\", \"management\", \"management\", \"management\", \"manager\", \"manager\", \"manager\", \"manager\", \"manager\", \"manager\", \"manager\", \"manager\", \"manager\", \"manager\", \"manager\", \"manager\", \"mandeleil\", \"market\", \"market\", \"market\", \"market\", \"market\", \"market\", \"market\", \"market\", \"market\", \"market\", \"market\", \"market\", \"market\", \"market\", \"marketing\", \"marketing\", \"marketing\", \"marketing\", \"marketing\", \"marketing\", \"marketing\", \"marketing\", \"marketing\", \"marketing\", \"marketplace\", \"marketplace\", \"marketplace\", \"marketplace\", \"marketplace\", \"marketplace\", \"marketplace\", \"marketplace\", \"marketscape\", \"martech\", \"mason\", \"matcher\", \"material\", \"material\", \"material\", \"material\", \"material\", \"material\", \"material\", \"material\", \"material\", \"material\", \"material\", \"mckinsey\", \"mckinsey\", \"mckinsey\", \"mcparseface\", \"mediawiki\", \"meditation\", \"meditation\", \"meditation\", \"medium\", \"medium\", \"medium\", \"medium\", \"medium\", \"medium\", \"medium\", \"medium\", \"medium\", \"medium\", \"medium\", \"medium\", \"medium\", \"medium\", \"meeting\", \"meeting\", \"meeting\", \"meeting\", \"meeting\", \"meeting\", \"meeting\", \"meeting\", \"meeting\", \"meeting\", \"meetup\", \"meetup\", \"meetup\", \"meetup\", \"meetup\", \"meetup\", \"merchant\", \"merchant\", \"merchant\", \"merchant\", \"merchant\", \"merchant\", \"mesos\", \"message\", \"message\", \"message\", \"message\", \"message\", \"message\", \"message\", \"message\", \"message\", \"message\", \"message\", \"message\", \"message\", \"messaging\", \"messaging\", \"messaging\", \"messaging\", \"messaging\", \"messaging\", \"messaging\", \"messaging\", \"messaging\", \"messenger\", \"messenger\", \"messenger\", \"messenger\", \"messenger\", \"method\", \"method\", \"method\", \"method\", \"method\", \"method\", \"method\", \"method\", \"method\", \"method\", \"method\", \"methods\", \"microservice\", \"microservice\", \"microservice\", \"microservice\", \"microservices\", \"microservices\", \"microsoft\", \"microsoft\", \"microsoft\", \"microsoft\", \"microsoft\", \"microsoft\", \"microsoft\", \"microsoft\", \"microsoft\", \"microsoft\", \"microsoft\", \"million\", \"million\", \"million\", \"million\", \"million\", \"million\", \"million\", \"million\", \"million\", \"million\", \"million\", \"million\", \"million\", \"million\", \"million\", \"milner\", \"mindfulness\", \"mindfulness\", \"minhash\", \"minification\", \"mining\", \"mining\", \"mining\", \"mining\", \"mining\", \"mining\", \"minority\", \"minority\", \"minority\", \"minority\", \"minority\", \"mnemonic\", \"mnemonic\", \"mobile\", \"mobile\", \"mobile\", \"mobile\", \"mobile\", \"mobile\", \"mobile\", \"mobile\", \"mobile\", \"mobile\", \"mobile\", \"mobile\", \"mobile\", \"mockito\", \"model\", \"model\", \"model\", \"model\", \"model\", \"model\", \"model\", \"model\", \"model\", \"model\", \"model\", \"model\", \"module\", \"module\", \"module\", \"module\", \"module\", \"module\", \"module\", \"module\", \"module\", \"mondo\", \"money\", \"money\", \"money\", \"money\", \"money\", \"money\", \"money\", \"money\", \"money\", \"money\", \"money\", \"money\", \"monolith\", \"montgomery\", \"moorfields\", \"mortality\", \"mortality\", \"mortality\", \"movielister\", \"multilingual\", \"multipurpose\", \"multipurpose\", \"music\", \"music\", \"music\", \"music\", \"music\", \"music\", \"music\", \"mycroft\", \"nadella\", \"nadella\", \"nadella\", \"nanotechnology\", \"nedbank\", \"nested\", \"nested\", \"network\", \"network\", \"network\", \"network\", \"network\", \"network\", \"network\", \"network\", \"network\", \"network\", \"network\", \"network\", \"network\", \"network\", \"network\", \"networking\", \"networking\", \"networking\", \"networking\", \"networking\", \"networking\", \"networks\", \"networks\", \"neural\", \"neural\", \"neurala\", \"neuron\", \"neuron\", \"ngoninit\", \"nicole\", \"nicole\", \"nodejs\", \"nomination\", \"nomination\", \"nooyi\", \"norway\", \"notification\", \"notification\", \"notification\", \"notification\", \"notification\", \"notification\", \"notification\", \"notification\", \"nuclear\", \"nuclear\", \"nuclear\", \"nuclear\", \"nuclear\", \"number\", \"number\", \"number\", \"number\", \"number\", \"number\", \"number\", \"number\", \"number\", \"number\", \"number\", \"number\", \"number\", \"number\", \"number\", \"nvidia\", \"nvidia\", \"obermayer\", \"object\", \"object\", \"object\", \"object\", \"object\", \"object\", \"object\", \"object\", \"object\", \"object\", \"object\", \"object\", \"observable\", \"offer\", \"offer\", \"offer\", \"offer\", \"offer\", \"offer\", \"offer\", \"offer\", \"offer\", \"offer\", \"offer\", \"offer\", \"offer\", \"offer\", \"offer\", \"office\", \"office\", \"office\", \"office\", \"office\", \"office\", \"office\", \"office\", \"office\", \"office\", \"office\", \"omnitone\", \"oninit\", \"onintercepttouchevent\", \"online\", \"online\", \"online\", \"online\", \"online\", \"online\", \"online\", \"online\", \"online\", \"online\", \"online\", \"online\", \"online\", \"online\", \"ontouchevent\", \"openai\", \"openjdk\", \"openledger\", \"openstack\", \"opensuse\", \"opportunity\", \"opportunity\", \"opportunity\", \"opportunity\", \"opportunity\", \"opportunity\", \"opportunity\", \"opportunity\", \"opportunity\", \"opportunity\", \"opportunity\", \"opportunity\", \"opportunity\", \"opportunity\", \"opportunity\", \"orbiter\", \"organization\", \"organization\", \"organization\", \"organization\", \"organization\", \"organization\", \"organization\", \"organization\", \"organization\", \"organization\", \"organization\", \"organization\", \"organization\", \"outbreak\", \"overflow\", \"overflow\", \"overflow\", \"overflow\", \"overflow\", \"overlay\", \"overlay\", \"overlay\", \"overlay\", \"overlay\", \"overlay\", \"overridden\", \"package\", \"package\", \"package\", \"package\", \"package\", \"package\", \"package\", \"package\", \"package\", \"package\", \"package\", \"package\", \"packer\", \"packet\", \"packet\", \"packet\", \"packet\", \"padding\", \"paintcode\", \"palantir\", \"palantir\", \"parallax\", \"parallax\", \"parallelism\", \"parameter\", \"parameter\", \"parameter\", \"parameter\", \"parameter\", \"parameter\", \"parameter\", \"parameter\", \"parameter\", \"parks\", \"parsey\", \"passive\", \"passive\", \"passive\", \"passive\", \"passive\", \"passive\", \"passive\", \"password\", \"password\", \"password\", \"password\", \"password\", \"password\", \"password\", \"password\", \"password\", \"paulides\", \"payment\", \"payment\", \"payment\", \"payment\", \"payment\", \"payment\", \"payment\", \"paypal\", \"paypal\", \"paypal\", \"paypal\", \"paypal\", \"pebble\", \"pebble\", \"people\", \"people\", \"people\", \"people\", \"people\", \"people\", \"people\", \"people\", \"people\", \"people\", \"people\", \"people\", \"people\", \"people\", \"people\", \"percent\", \"percent\", \"percent\", \"percent\", \"percent\", \"percent\", \"percent\", \"percent\", \"percent\", \"percent\", \"percent\", \"percent\", \"percent\", \"percent\", \"percent\", \"perceptron\", \"performance\", \"performance\", \"performance\", \"performance\", \"performance\", \"performance\", \"performance\", \"performance\", \"performance\", \"performance\", \"performance\", \"performance\", \"performance\", \"performed\", \"permission\", \"permission\", \"permission\", \"permission\", \"permission\", \"permission\", \"permission\", \"permission\", \"permission\", \"permission\", \"permission\", \"person\", \"person\", \"person\", \"person\", \"person\", \"person\", \"person\", \"person\", \"person\", \"person\", \"person\", \"person\", \"person\", \"person\", \"personal\", \"personal\", \"personal\", \"personal\", \"personal\", \"personal\", \"personal\", \"personal\", \"personal\", \"personal\", \"personal\", \"personal\", \"personal\", \"personal\", \"pfizer\", \"pfizer\", \"phippy\", \"phone\", \"phone\", \"phone\", \"phone\", \"phone\", \"phone\", \"phone\", \"phone\", \"phone\", \"phone\", \"phone\", \"phpcs\", \"phpstorm\", \"phrase\", \"phrase\", \"phrase\", \"phrase\", \"phrase\", \"phrase\", \"phrase\", \"pictograph\", \"pinner\", \"pinnery\", \"pinterest\", \"pinterest\", \"pinterest\", \"pinterest\", \"pinterest\", \"pinterest\", \"pinterest\", \"pinterest\", \"place\", \"place\", \"place\", \"place\", \"place\", \"place\", \"place\", \"place\", \"place\", \"place\", \"place\", \"place\", \"place\", \"place\", \"place\", \"plague\", \"plague\", \"plague\", \"plague\", \"planet\", \"planet\", \"planet\", \"planet\", \"planet\", \"planet\", \"planet\", \"planet\", \"planet\", \"planet\", \"plate\", \"plate\", \"plate\", \"plate\", \"plate\", \"platform\", \"platform\", \"platform\", \"platform\", \"platform\", \"platform\", \"platform\", \"platform\", \"platform\", \"platform\", \"platform\", \"platform\", \"platform\", \"player\", \"player\", \"player\", \"player\", \"player\", \"player\", \"player\", \"player\", \"player\", \"player\", \"player\", \"plugin\", \"plugin\", \"plugin\", \"plugin\", \"plugin\", \"plugin\", \"point\", \"point\", \"point\", \"point\", \"point\", \"point\", \"point\", \"point\", \"point\", \"point\", \"point\", \"point\", \"point\", \"point\", \"point\", \"pokemon\", \"pokemon\", \"pokemon\", \"pokemon\", \"pokemon\", \"polymer\", \"polymer\", \"popslate\", \"population\", \"population\", \"population\", \"population\", \"population\", \"population\", \"population\", \"population\", \"population\", \"population\", \"population\", \"posey\", \"postback\", \"postback\", \"practice\", \"practice\", \"practice\", \"practice\", \"practice\", \"practice\", \"practice\", \"practice\", \"practice\", \"practice\", \"practice\", \"practice\", \"practice\", \"practice\", \"predict\", \"predict\", \"predict\", \"predict\", \"predict\", \"predict\", \"predict\", \"predict\", \"prediction\", \"prediction\", \"prediction\", \"prediction\", \"prediction\", \"prediction\", \"prediction\", \"preemptive\", \"preston\", \"price\", \"price\", \"price\", \"price\", \"price\", \"price\", \"price\", \"price\", \"price\", \"price\", \"price\", \"price\", \"principle\", \"principle\", \"principle\", \"principle\", \"principle\", \"principle\", \"principle\", \"principle\", \"principle\", \"principle\", \"principle\", \"printer\", \"printer\", \"printer\", \"printer\", \"printing\", \"printing\", \"printing\", \"printing\", \"printing\", \"problem\", \"problem\", \"problem\", \"problem\", \"problem\", \"problem\", \"problem\", \"problem\", \"problem\", \"problem\", \"problem\", \"problem\", \"problem\", \"problem\", \"process\", \"process\", \"process\", \"process\", \"process\", \"process\", \"process\", \"process\", \"process\", \"process\", \"process\", \"process\", \"process\", \"process\", \"process\", \"procfile\", \"procrastinator\", \"product\", \"product\", \"product\", \"product\", \"product\", \"product\", \"product\", \"product\", \"product\", \"product\", \"product\", \"product\", \"product\", \"product\", \"programming\", \"programming\", \"programming\", \"programming\", \"programming\", \"programming\", \"programming\", \"programming\", \"programming\", \"programming\", \"programming\", \"progress\", \"progress\", \"progress\", \"progress\", \"progress\", \"progress\", \"progress\", \"progress\", \"progress\", \"progress\", \"progress\", \"progress\", \"progress\", \"progressive\", \"progressive\", \"progressive\", \"progressive\", \"progressive\", \"progressive\", \"progressive\", \"project\", \"project\", \"project\", \"project\", \"project\", \"project\", \"project\", \"project\", \"project\", \"project\", \"project\", \"project\", \"project\", \"project\", \"promise\", \"promise\", \"promise\", \"promise\", \"promise\", \"promise\", \"promise\", \"promise\", \"promise\", \"promise\", \"promise\", \"promise\", \"pronunciation\", \"property\", \"property\", \"property\", \"property\", \"property\", \"property\", \"property\", \"property\", \"property\", \"property\", \"property\", \"property\", \"prototypal\", \"protractor\", \"provide\", \"provide\", \"provide\", \"provide\", \"provide\", \"provide\", \"provide\", \"provide\", \"provide\", \"provide\", \"provide\", \"provide\", \"provide\", \"provide\", \"proxy\", \"proxy\", \"proxy\", \"proxy\", \"purchase\", \"purchase\", \"purchase\", \"purchase\", \"purchase\", \"purchase\", \"purchase\", \"purchase\", \"purchase\", \"purchase\", \"pychyl\", \"python\", \"python\", \"python\", \"python\", \"python\", \"qualcomm\", \"qualcomm\", \"quantum\", \"quantum\", \"quantum\", \"quantum\", \"quartile\", \"query\", \"query\", \"query\", \"query\", \"query\", \"question\", \"question\", \"question\", \"question\", \"question\", \"question\", \"question\", \"question\", \"question\", \"question\", \"question\", \"question\", \"question\", \"question\", \"question\", \"quizlet\", \"qunit\", \"quotes\", \"quotes\", \"quotes\", \"rachel\", \"rachel\", \"rachel\", \"rails\", \"rails\", \"rails\", \"rails\", \"rails\", \"rakuten\", \"rakuten\", \"ramaswamy\", \"react\", \"react\", \"react\", \"react\", \"react\", \"react\", \"react\", \"react\", \"react\", \"react\", \"react\", \"react\", \"reactors\", \"really\", \"really\", \"really\", \"really\", \"really\", \"really\", \"really\", \"really\", \"really\", \"really\", \"really\", \"really\", \"really\", \"really\", \"really\", \"recent\", \"recent\", \"recent\", \"recent\", \"recent\", \"recent\", \"recent\", \"recent\", \"recent\", \"recent\", \"recent\", \"recent\", \"recent\", \"recent\", \"recent\", \"recht\", \"recognition\", \"recognition\", \"recognition\", \"recognition\", \"recognition\", \"recyclerview\", \"redis\", \"redis\", \"redis\", \"redwood\", \"regress\", \"reinforcement\", \"reinforcement\", \"release\", \"release\", \"release\", \"release\", \"release\", \"release\", \"release\", \"release\", \"release\", \"release\", \"release\", \"release\", \"release\", \"release\", \"release\", \"report\", \"report\", \"report\", \"report\", \"report\", \"report\", \"report\", \"report\", \"report\", \"report\", \"report\", \"report\", \"report\", \"report\", \"report\", \"request\", \"request\", \"request\", \"request\", \"request\", \"request\", \"request\", \"request\", \"request\", \"request\", \"request\", \"request\", \"require\", \"require\", \"require\", \"require\", \"require\", \"require\", \"require\", \"require\", \"require\", \"require\", \"require\", \"require\", \"require\", \"require\", \"requirement\", \"requirement\", \"requirement\", \"requirement\", \"requirement\", \"requirement\", \"requirement\", \"requirement\", \"requirement\", \"requirement\", \"requirement\", \"research\", \"research\", \"research\", \"research\", \"research\", \"research\", \"research\", \"research\", \"research\", \"research\", \"research\", \"research\", \"research\", \"research\", \"researcher\", \"researcher\", \"researcher\", \"researcher\", \"researcher\", \"researcher\", \"researcher\", \"reservoir\", \"resharper\", \"resource\", \"resource\", \"resource\", \"resource\", \"resource\", \"resource\", \"resource\", \"resource\", \"resource\", \"resource\", \"resource\", \"resource\", \"resource\", \"resource\", \"restartpolicy\", \"restb\", \"result\", \"result\", \"result\", \"result\", \"result\", \"result\", \"result\", \"result\", \"result\", \"result\", \"result\", \"result\", \"result\", \"result\", \"result\", \"retail\", \"retail\", \"retail\", \"retail\", \"retail\", \"retail\", \"retail\", \"retailer\", \"retailer\", \"retailer\", \"retailer\", \"retailer\", \"retailer\", \"retailer\", \"return\", \"return\", \"return\", \"return\", \"return\", \"return\", \"return\", \"return\", \"return\", \"return\", \"return\", \"return\", \"return\", \"return\", \"return\", \"retweet\", \"reuse\", \"reuse\", \"reuse\", \"reuse\", \"reuse\", \"reuse\", \"revenue\", \"revenue\", \"revenue\", \"revenue\", \"revenue\", \"revenue\", \"revenue\", \"revenue\", \"review\", \"review\", \"review\", \"review\", \"review\", \"review\", \"review\", \"review\", \"review\", \"review\", \"review\", \"review\", \"review\", \"review\", \"review\", \"reviews\", \"reviews\", \"reviews\", \"right\", \"right\", \"right\", \"right\", \"right\", \"right\", \"right\", \"right\", \"right\", \"right\", \"right\", \"right\", \"right\", \"right\", \"right\", \"rinna\", \"robot\", \"robot\", \"robot\", \"robot\", \"robot\", \"robotic\", \"robotic\", \"robotic\", \"robotic\", \"robotic\", \"robotic\", \"robotic\", \"robotium\", \"rojas\", \"rollup\", \"rousseff\", \"rumor\", \"rumor\", \"rumor\", \"rumor\", \"safari\", \"safari\", \"safari\", \"safari\", \"safari\", \"salesforce\", \"salesforce\", \"salesforce\", \"saxena\", \"scatterplot\", \"schema\", \"schema\", \"schema\", \"schiano\", \"schiaparelli\", \"schiller\", \"science\", \"science\", \"science\", \"science\", \"science\", \"science\", \"science\", \"science\", \"science\", \"science\", \"science\", \"science\", \"science\", \"scientist\", \"scientist\", \"scientist\", \"scientist\", \"scientist\", \"scientist\", \"scientist\", \"scientist\", \"scientist\", \"scientist\", \"scikit\", \"scipy\", \"scope\", \"scope\", \"scope\", \"scope\", \"scope\", \"scope\", \"scope\", \"scope\", \"scope\", \"scope\", \"scope\", \"scope\", \"scope\", \"scout\", \"scout\", \"scout\", \"scout\", \"scout\", \"screen\", \"screen\", \"screen\", \"screen\", \"screen\", \"screen\", \"screen\", \"screen\", \"screen\", \"screen\", \"screen\", \"screen\", \"script\", \"script\", \"script\", \"script\", \"script\", \"script\", \"script\", \"script\", \"script\", \"script\", \"script\", \"scrum\", \"scrum\", \"scrum\", \"scrum\", \"search\", \"search\", \"search\", \"search\", \"search\", \"search\", \"search\", \"search\", \"search\", \"search\", \"search\", \"search\", \"search\", \"searcher\", \"second\", \"second\", \"second\", \"second\", \"second\", \"second\", \"second\", \"second\", \"second\", \"second\", \"second\", \"second\", \"second\", \"second\", \"second\", \"sector\", \"sector\", \"sector\", \"sector\", \"sector\", \"sector\", \"securities\", \"security\", \"security\", \"security\", \"security\", \"security\", \"security\", \"security\", \"security\", \"security\", \"security\", \"security\", \"security\", \"security\", \"security\", \"seesaw\", \"seller\", \"seller\", \"seller\", \"seller\", \"sentence\", \"sentence\", \"sentence\", \"sentence\", \"sentence\", \"sentence\", \"sentence\", \"sentience\", \"sentience\", \"server\", \"server\", \"server\", \"server\", \"server\", \"server\", \"server\", \"server\", \"server\", \"server\", \"serverless\", \"service\", \"service\", \"service\", \"service\", \"service\", \"service\", \"service\", \"service\", \"service\", \"service\", \"service\", \"service\", \"service\", \"service\", \"service\", \"settlement\", \"settlement\", \"sexuality\", \"sexuality\", \"shard\", \"shard\", \"shard\", \"share\", \"share\", \"share\", \"share\", \"share\", \"share\", \"share\", \"share\", \"share\", \"share\", \"share\", \"share\", \"share\", \"share\", \"share\", \"shell\", \"shell\", \"shell\", \"shell\", \"shell\", \"shell\", \"shell\", \"shell\", \"shippable\", \"shopper\", \"shopper\", \"shopper\", \"shopper\", \"shopping\", \"shopping\", \"shopping\", \"shopping\", \"shopping\", \"shopping\", \"shopping\", \"shopping\", \"shopping\", \"shoreline\", \"shuddle\", \"siemens\", \"siemens\", \"siemens\", \"sierra\", \"sieve\", \"sigfox\", \"silbermann\", \"simple\", \"simple\", \"simple\", \"simple\", \"simple\", \"simple\", \"simple\", \"simple\", \"simple\", \"simple\", \"simple\", \"simple\", \"simple\", \"simple\", \"simple\", \"singularity\", \"singularity\", \"sites\", \"slack\", \"slack\", \"slack\", \"slack\", \"slack\", \"sleep\", \"sleep\", \"sleep\", \"sleep\", \"sleep\", \"sleep\", \"sleep\", \"sleep\", \"sleep\", \"slides\", \"smarterchild\", \"smartphone\", \"smartphone\", \"smartphone\", \"smartphone\", \"smartphone\", \"smartphone\", \"smartphone\", \"smartphone\", \"smartphone\", \"snapchat\", \"snapchat\", \"snapchat\", \"snapchat\", \"snapchat\", \"sniffer\", \"snippet\", \"snippet\", \"snippet\", \"snippet\", \"snippet\", \"snippet\", \"snippet\", \"social\", \"social\", \"social\", \"social\", \"social\", \"social\", \"social\", \"social\", \"social\", \"social\", \"social\", \"social\", \"social\", \"social\", \"sofman\", \"software\", \"software\", \"software\", \"software\", \"software\", \"software\", \"software\", \"software\", \"software\", \"software\", \"software\", \"software\", \"software\", \"software\", \"solar\", \"solar\", \"solar\", \"solution\", \"solution\", \"solution\", \"solution\", \"solution\", \"solution\", \"solution\", \"solution\", \"solution\", \"solution\", \"solution\", \"solution\", \"solution\", \"solution\", \"sound\", \"sound\", \"sound\", \"sound\", \"sound\", \"sound\", \"sound\", \"sound\", \"sound\", \"sound\", \"sound\", \"sound\", \"sound\", \"source\", \"source\", \"source\", \"source\", \"source\", \"source\", \"source\", \"source\", \"source\", \"source\", \"source\", \"source\", \"source\", \"source\", \"source\", \"space\", \"space\", \"space\", \"space\", \"space\", \"space\", \"space\", \"space\", \"space\", \"space\", \"space\", \"space\", \"space\", \"space\", \"speak\", \"speak\", \"speak\", \"speak\", \"speak\", \"speak\", \"speak\", \"speak\", \"speak\", \"speak\", \"speak\", \"speak\", \"speak\", \"speak\", \"speak\", \"specs\", \"specs\", \"specs\", \"speech\", \"speech\", \"speech\", \"speech\", \"speech\", \"speech\", \"speech\", \"spence\", \"spread\", \"spread\", \"spread\", \"spread\", \"spread\", \"spread\", \"spread\", \"spread\", \"spread\", \"spread\", \"spread\", \"spread\", \"spring\", \"spring\", \"spring\", \"spring\", \"spring\", \"spring\", \"spring\", \"spring\", \"spring\", \"spring\", \"spring\", \"sprint\", \"sprint\", \"sprint\", \"sprint\", \"sprint\", \"sprint\", \"sprite\", \"squads\", \"stackdriver\", \"stars\", \"start\", \"start\", \"start\", \"start\", \"start\", \"start\", \"start\", \"start\", \"start\", \"start\", \"start\", \"start\", \"start\", \"start\", \"start\", \"startup\", \"startup\", \"startup\", \"startup\", \"startup\", \"startup\", \"startup\", \"startup\", \"startup\", \"startup\", \"startup\", \"statcounter\", \"state\", \"state\", \"state\", \"state\", \"state\", \"state\", \"state\", \"state\", \"state\", \"state\", \"state\", \"state\", \"state\", \"state\", \"state\", \"station\", \"station\", \"station\", \"station\", \"station\", \"station\", \"station\", \"station\", \"steal\", \"steal\", \"steal\", \"steal\", \"steal\", \"steal\", \"steal\", \"steal\", \"steal\", \"steal\", \"steal\", \"stereotype\", \"stereotype\", \"steve\", \"steve\", \"steve\", \"steve\", \"steve\", \"steve\", \"steve\", \"storage\", \"storage\", \"storage\", \"storage\", \"storage\", \"storage\", \"storage\", \"storage\", \"storage\", \"storage\", \"store\", \"store\", \"store\", \"store\", \"store\", \"store\", \"store\", \"store\", \"store\", \"store\", \"store\", \"store\", \"store\", \"store\", \"store\", \"storj\", \"story\", \"story\", \"story\", \"story\", \"story\", \"story\", \"story\", \"story\", \"story\", \"story\", \"story\", \"story\", \"story\", \"story\", \"story\", \"storyline\", \"storyline\", \"strategy\", \"strategy\", \"strategy\", \"strategy\", \"strategy\", \"strategy\", \"strategy\", \"strategy\", \"strategy\", \"strategy\", \"strategy\", \"strategy\", \"strategy\", \"stream\", \"stream\", \"stream\", \"stream\", \"stream\", \"stream\", \"stream\", \"stream\", \"stream\", \"stream\", \"stream\", \"streams\", \"streams\", \"streams\", \"strictmode\", \"string\", \"string\", \"string\", \"string\", \"string\", \"string\", \"string\", \"string\", \"struct\", \"student\", \"student\", \"student\", \"student\", \"student\", \"student\", \"stunnel\", \"style\", \"style\", \"style\", \"style\", \"style\", \"style\", \"style\", \"style\", \"style\", \"style\", \"style\", \"subnet\", \"subsystem\", \"subsystem\", \"subsystem\", \"success\", \"success\", \"success\", \"success\", \"success\", \"success\", \"success\", \"success\", \"success\", \"success\", \"success\", \"success\", \"success\", \"success\", \"suite\", \"suite\", \"suite\", \"suite\", \"suite\", \"suite\", \"suite\", \"suite\", \"suite\", \"superintelligence\", \"supervise\", \"supervised\", \"support\", \"support\", \"support\", \"support\", \"support\", \"support\", \"support\", \"support\", \"support\", \"support\", \"support\", \"support\", \"support\", \"support\", \"swagbot\", \"swanest\", \"swarm\", \"swarm\", \"swarm\", \"swarm\", \"sweat\", \"sweat\", \"swift\", \"swift\", \"swift\", \"swift\", \"swift\", \"swift\", \"swift\", \"swift\", \"sybil\", \"syntax\", \"syntax\", \"syntax\", \"syntax\", \"syntax\", \"syntax\", \"syntaxnet\", \"table\", \"table\", \"table\", \"table\", \"table\", \"table\", \"table\", \"table\", \"table\", \"table\", \"table\", \"table\", \"table\", \"table\", \"tactical\", \"taglines\", \"taglines\", \"takipi\", \"takipi\", \"talent\", \"talent\", \"talent\", \"talent\", \"talent\", \"tango\", \"tapia\", \"technical\", \"technical\", \"technical\", \"technical\", \"technical\", \"technical\", \"technical\", \"technical\", \"technical\", \"technical\", \"technical\", \"technical\", \"technical\", \"technology\", \"technology\", \"technology\", \"technology\", \"technology\", \"technology\", \"technology\", \"technology\", \"technology\", \"technology\", \"technology\", \"technology\", \"technology\", \"technology\", \"telecom\", \"telepresence\", \"tennis\", \"tensorflow\", \"terminal\", \"terminal\", \"terminal\", \"terminal\", \"terminal\", \"terminal\", \"terminal\", \"terminal\", \"terminal\", \"tetra\", \"tettra\", \"theano\", \"therapist\", \"therapist\", \"thief\", \"thief\", \"thing\", \"thing\", \"thing\", \"thing\", \"thing\", \"thing\", \"thing\", \"thing\", \"thing\", \"thing\", \"thing\", \"thing\", \"thing\", \"thing\", \"thing\", \"think\", \"think\", \"think\", \"think\", \"think\", \"think\", \"think\", \"think\", \"think\", \"think\", \"think\", \"think\", \"think\", \"think\", \"think\", \"thorium\", \"tijms\", \"tkinter\", \"today\", \"today\", \"today\", \"today\", \"today\", \"today\", \"today\", \"today\", \"today\", \"today\", \"today\", \"today\", \"today\", \"today\", \"today\", \"token\", \"token\", \"token\", \"token\", \"token\", \"token\", \"token\", \"token\", \"token\", \"tokens\", \"torres\", \"torres\", \"torus\", \"touch\", \"touch\", \"touch\", \"touch\", \"touch\", \"touch\", \"touch\", \"touch\", \"touch\", \"touch\", \"touch\", \"touch\", \"touch\", \"tracking\", \"tracking\", \"tracking\", \"tracking\", \"tracking\", \"tracking\", \"tracking\", \"tracking\", \"tracking\", \"traffic\", \"traffic\", \"traffic\", \"traffic\", \"traffic\", \"traffic\", \"traffic\", \"traffic\", \"traffic\", \"traffic\", \"traffic\", \"traffic\", \"traffic\", \"train\", \"train\", \"train\", \"train\", \"train\", \"train\", \"train\", \"train\", \"train\", \"train\", \"training\", \"training\", \"training\", \"training\", \"training\", \"training\", \"training\", \"training\", \"training\", \"training\", \"transaction\", \"transaction\", \"transaction\", \"transaction\", \"transaction\", \"transaction\", \"transaction\", \"transaction\", \"transaction\", \"transformation\", \"transformation\", \"transformation\", \"transformation\", \"transformation\", \"transformation\", \"transformation\", \"transformation\", \"transformation\", \"transit\", \"transit\", \"transit\", \"transit\", \"transit\", \"transition\", \"transition\", \"transition\", \"transition\", \"transition\", \"transition\", \"transition\", \"transition\", \"transition\", \"transition\", \"transition\", \"transpile\", \"treasury\", \"trello\", \"trello\", \"trello\", \"trello\", \"trello\", \"trello\", \"trend\", \"trend\", \"trend\", \"trend\", \"trend\", \"trend\", \"trend\", \"trend\", \"trend\", \"trend\", \"trend\", \"trend\", \"trend\", \"trend\", \"trendwatching\", \"trivia\", \"trivia\", \"trivia\", \"trooly\", \"trump\", \"trump\", \"trump\", \"trump\", \"trump\", \"trump\", \"trump\", \"tuple\", \"turing\", \"tversky\", \"tweet\", \"tweet\", \"tweet\", \"tweet\", \"tweet\", \"tweet\", \"tweet\", \"twitter\", \"twitter\", \"twitter\", \"twitter\", \"twitter\", \"twitter\", \"twitter\", \"twitter\", \"twitter\", \"twitter\", \"twitter\", \"twitter\", \"twitter\", \"typescript\", \"typescript\", \"ubuntu\", \"ubuntu\", \"ubuntu\", \"ubuntu\", \"ubuntu\", \"ubuntu\", \"uidata\", \"uirepeat\", \"unanimous\", \"unanimous\", \"understand\", \"understand\", \"understand\", \"understand\", \"understand\", \"understand\", \"understand\", \"understand\", \"understand\", \"understand\", \"understand\", \"understand\", \"understand\", \"understand\", \"understand\", \"unsupervised\", \"update\", \"update\", \"update\", \"update\", \"update\", \"update\", \"update\", \"update\", \"update\", \"update\", \"update\", \"update\", \"update\", \"upspin\", \"value\", \"value\", \"value\", \"value\", \"value\", \"value\", \"value\", \"value\", \"value\", \"value\", \"value\", \"value\", \"value\", \"value\", \"value\", \"valve\", \"variable\", \"variable\", \"variable\", \"variable\", \"variable\", \"variable\", \"variable\", \"variable\", \"variable\", \"variable\", \"vectorization\", \"vehicle\", \"vehicle\", \"vehicle\", \"vehicle\", \"vehicle\", \"vehicle\", \"version\", \"version\", \"version\", \"version\", \"version\", \"version\", \"version\", \"version\", \"version\", \"version\", \"version\", \"version\", \"version\", \"version\", \"vessi\", \"vickers\", \"video\", \"video\", \"video\", \"video\", \"video\", \"video\", \"video\", \"video\", \"video\", \"video\", \"video\", \"video\", \"video\", \"video\", \"virality\", \"virality\", \"virtu\", \"vision\", \"vision\", \"vision\", \"vision\", \"vision\", \"vision\", \"vision\", \"vision\", \"visualization\", \"visualization\", \"visualization\", \"visualization\", \"visualization\", \"visualization\", \"visualization\", \"visualization\", \"vlendright\", \"vmware\", \"vmware\", \"vocaliq\", \"voisine\", \"voltron\", \"vondrick\", \"voronoi\", \"vxlan\", \"walgreen\", \"walgreens\", \"walkme\", \"wallet\", \"wallet\", \"wallet\", \"wallet\", \"wallet\", \"wallet\", \"walmart\", \"walmart\", \"watch\", \"watch\", \"watch\", \"watch\", \"watch\", \"watch\", \"watch\", \"watch\", \"watch\", \"watch\", \"watch\", \"watch\", \"watch\", \"watchos\", \"watchos\", \"watchos\", \"waterfall\", \"waterfall\", \"waterfall\", \"waterfall\", \"waterwheel\", \"weakreference\", \"weave\", \"weave\", \"weave\", \"weave\", \"webhook\", \"webhooks\", \"website\", \"website\", \"website\", \"website\", \"website\", \"website\", \"website\", \"website\", \"website\", \"website\", \"website\", \"website\", \"website\", \"website\", \"wechat\", \"wechat\", \"wechat\", \"wechat\", \"wechat\", \"whatsapp\", \"whatsapp\", \"whatsapp\", \"whatsapp\", \"white\", \"white\", \"white\", \"white\", \"white\", \"white\", \"white\", \"white\", \"white\", \"white\", \"white\", \"wikileaks\", \"wimbledon\", \"windows\", \"windows\", \"windows\", \"windows\", \"windows\", \"windows\", \"winfield\", \"wkwebview\", \"wolpert\", \"woman\", \"woman\", \"woman\", \"woman\", \"woman\", \"woman\", \"women\", \"workflow\", \"workflow\", \"workflow\", \"workflow\", \"workflow\", \"workflow\", \"workflow\", \"workflow\", \"workflow\", \"workflow\", \"workload\", \"workload\", \"workload\", \"workload\", \"workload\", \"workplace\", \"workplace\", \"workplace\", \"workplace\", \"workplace\", \"workplace\", \"world\", \"world\", \"world\", \"world\", \"world\", \"world\", \"world\", \"world\", \"world\", \"world\", \"world\", \"world\", \"world\", \"world\", \"world\", \"write\", \"write\", \"write\", \"write\", \"write\", \"write\", \"write\", \"write\", \"write\", \"write\", \"write\", \"write\", \"write\", \"write\", \"xamarin\", \"xamarin\", \"xiaomi\", \"yammer\", \"youtube\", \"youtube\", \"youtube\", \"youtube\", \"youtube\", \"youtube\", \"youtube\", \"youtube\", \"zendesk\", \"zigbee\", \"zookeeper\", \"zookeeper\", \"zookeeper\", \"zumbrunnen\"]}, \"R\": 30, \"lambda.step\": 0.01, \"plot.opts\": {\"xlab\": \"PC1\", \"ylab\": \"PC2\"}, \"topic.order\": [7, 5, 6, 3, 14, 11, 2, 9, 15, 12, 10, 4, 13, 8, 1]};\n",
       "\n",
       "function LDAvis_load_lib(url, callback){\n",
       "  var s = document.createElement('script');\n",
       "  s.src = url;\n",
       "  s.async = true;\n",
       "  s.onreadystatechange = s.onload = callback;\n",
       "  s.onerror = function(){console.warn(\"failed to load library \" + url);};\n",
       "  document.getElementsByTagName(\"head\")[0].appendChild(s);\n",
       "}\n",
       "\n",
       "if(typeof(LDAvis) !== \"undefined\"){\n",
       "   // already loaded: just create the visualization\n",
       "   !function(LDAvis){\n",
       "       new LDAvis(\"#\" + \"ldavis_el800571404148430344482222365880\", ldavis_el800571404148430344482222365880_data);\n",
       "   }(LDAvis);\n",
       "}else if(typeof define === \"function\" && define.amd){\n",
       "   // require.js is available: use it to load d3/LDAvis\n",
       "   require.config({paths: {d3: \"https://cdnjs.cloudflare.com/ajax/libs/d3/3.5.5/d3.min\"}});\n",
       "   require([\"d3\"], function(d3){\n",
       "      window.d3 = d3;\n",
       "      LDAvis_load_lib(\"https://cdn.rawgit.com/bmabey/pyLDAvis/files/ldavis.v1.0.0.js\", function(){\n",
       "        new LDAvis(\"#\" + \"ldavis_el800571404148430344482222365880\", ldavis_el800571404148430344482222365880_data);\n",
       "      });\n",
       "    });\n",
       "}else{\n",
       "    // require.js not available: dynamically load d3 & LDAvis\n",
       "    LDAvis_load_lib(\"https://cdnjs.cloudflare.com/ajax/libs/d3/3.5.5/d3.min.js\", function(){\n",
       "         LDAvis_load_lib(\"https://cdn.rawgit.com/bmabey/pyLDAvis/files/ldavis.v1.0.0.js\", function(){\n",
       "                 new LDAvis(\"#\" + \"ldavis_el800571404148430344482222365880\", ldavis_el800571404148430344482222365880_data);\n",
       "            })\n",
       "         });\n",
       "}\n",
       "</script>"
      ],
      "text/plain": [
       "PreparedData(topic_coordinates=              x         y  topics  cluster       Freq\n",
       "topic                                                \n",
       "6      0.146676  0.059205       1        1  13.521348\n",
       "4      0.010867 -0.008188       2        1  12.842205\n",
       "5     -0.058852 -0.187013       3        1  11.806403\n",
       "2     -0.040169 -0.139902       4        1  10.642835\n",
       "13     0.175637 -0.064105       5        1   9.518322\n",
       "10    -0.045669  0.006785       6        1   7.454612\n",
       "1      0.079850 -0.051234       7        1   7.049992\n",
       "8      0.061924  0.030389       8        1   5.880653\n",
       "14    -0.061014  0.018950       9        1   5.667295\n",
       "11    -0.075849  0.093947      10        1   3.711579\n",
       "9      0.106782  0.105599      11        1   3.290276\n",
       "3      0.056772 -0.026266      12        1   2.563979\n",
       "12    -0.140971 -0.086091      13        1   2.105014\n",
       "7      0.027436  0.130211      14        1   2.011388\n",
       "0     -0.243419  0.117715      15        1   1.934099, topic_info=           Term         Freq        Total Category  logprob  loglift\n",
       "10871    google  5185.000000  5185.000000  Default  30.0000  30.0000\n",
       "4677      cloud  2371.000000  2371.000000  Default  29.0000  29.0000\n",
       "7841     drupal  1047.000000  1047.000000  Default  28.0000  28.0000\n",
       "1201      apple  1639.000000  1639.000000  Default  27.0000  27.0000\n",
       "15458   machine  2692.000000  2692.000000  Default  26.0000  26.0000\n",
       "...         ...          ...          ...      ...      ...      ...\n",
       "29410     world    44.004977  1946.458670  Topic15  -5.8351   0.1561\n",
       "8451   engineer    40.542484   730.150577  Topic15  -5.9171   1.0546\n",
       "5063    company    42.855107  4719.474627  Topic15  -5.8616  -0.7561\n",
       "16515   million    39.296935  1029.865254  Topic15  -5.9483   0.6795\n",
       "24969     state    38.211108   737.776824  Topic15  -5.9763   0.9850\n",
       "\n",
       "[1191 rows x 6 columns], token_table=       Topic      Freq        Term\n",
       "term                              \n",
       "122        1  0.119899      access\n",
       "122        2  0.050727      access\n",
       "122        3  0.142034      access\n",
       "122        4  0.073784      access\n",
       "122        5  0.318194      access\n",
       "...      ...       ...         ...\n",
       "29705      4  0.942986      zigbee\n",
       "29733      4  0.151343   zookeeper\n",
       "29733      9  0.794553   zookeeper\n",
       "29733     13  0.037836   zookeeper\n",
       "29745     11  0.865318  zumbrunnen\n",
       "\n",
       "[5073 rows x 3 columns], R=30, lambda_step=0.01, plot_opts={'xlab': 'PC1', 'ylab': 'PC2'}, topic_order=[7, 5, 6, 3, 14, 11, 2, 9, 15, 12, 10, 4, 13, 8, 1])"
      ]
     },
     "execution_count": 48,
     "metadata": {},
     "output_type": "execute_result"
    }
   ],
   "source": [
    "pyLDAvis.sklearn.prepare(lda_tf, dtm_tf, tf_vectorizer)"
   ]
  },
  {
   "cell_type": "markdown",
   "metadata": {},
   "source": [
    "#### Using different MDS functions\n",
    "\n",
    "With `sklearn` installed, other MDS functions, such as MMDS and TSNE can be used for plotting if the default PCoA is not satisfactory."
   ]
  },
  {
   "cell_type": "code",
   "execution_count": 49,
   "metadata": {
    "ExecuteTime": {
     "end_time": "2021-12-03T06:23:30.141959Z",
     "start_time": "2021-12-03T06:23:30.139742Z"
    }
   },
   "outputs": [],
   "source": [
    "# pyLDAvis.sklearn.prepare(lda_tf, dtm_tf, tf_vectorizer, mds='mmds')"
   ]
  },
  {
   "cell_type": "code",
   "execution_count": 50,
   "metadata": {
    "ExecuteTime": {
     "end_time": "2021-12-03T06:23:30.145733Z",
     "start_time": "2021-12-03T06:23:30.143570Z"
    }
   },
   "outputs": [],
   "source": [
    "# pyLDAvis.sklearn.prepare(lda_tf, dtm_tf, tf_vectorizer, mds='tsne')"
   ]
  },
  {
   "cell_type": "markdown",
   "metadata": {},
   "source": [
    "### Tf-IDf LDA"
   ]
  },
  {
   "cell_type": "code",
   "execution_count": 51,
   "metadata": {
    "ExecuteTime": {
     "end_time": "2021-12-03T06:23:36.511156Z",
     "start_time": "2021-12-03T06:23:30.147386Z"
    }
   },
   "outputs": [
    {
     "name": "stdout",
     "output_type": "stream",
     "text": [
      "Time Taken : 6.2821    sec\n",
      "topic_0 : #kittlaus, #bryant, #bluemix, #shots, #whiteboard, #jamboard, #sussman, #instrumentation, #disclosure, #bootloader\n",
      "topic_1 : #firebase, #swarm, #balancer, #microservice, #stackdriver, #downtime, #gcloud, #layout, #niantic, #proxy\n",
      "topic_2 : #aggregations, #aggregation, #elasticsearch, #facets, #raspberry, #sorted, #buffer, #gradle, #macos, #sierra\n",
      "topic_3 : #mycroft, #thunder, #burda, #kickstarter, #tesla, #skully, #walgreens, #publishing, #interviewer, #coupons\n",
      "topic_4 : #layout, #arguments, #debate, #bigquery, #graphs, #constraints, #angular, #optimization, #micro, #checklist\n",
      "topic_5 : #sprints, #kotlin, #optionals, #dagger, #kibana, #espresso, #retrolambda, #subcommittee, #unicode, #safari\n",
      "topic_6 : #female, #scandic, #portrait, #kotlin, #bigquery, #sarcastic, #istanbul, #tattoo, #vintage, #dzone\n",
      "topic_7 : #acquia, #protocol, #whatsapp, #ubuntu, #dynamic, #keyboard, #caching, #optimization, #exposed, #dropbox\n",
      "topic_8 : #evaluations, #martech, #brazilian, #resistance, #aliases, #iwork, #dualshock, #forwarding, #heroku, #honey\n",
      "topic_9 : #keyboard, #incognito, #bonuses, #verge, #reservations, #deeptext, #macrumors, #gboard, #weave, #consultancies\n",
      "topic_10 : #shareable, #customizable, #favorites, #infographics, #decks, #african, #coaching, #qualcomm, #slide, #snapdragon\n",
      "topic_11 : #google, #people, #using, #company, #users, #learning, #cloud, #business, #technology, #platform\n",
      "topic_12 : #instapaper, #webpass, #sublime, #fblearner, #passengers, #fiber, #humility, #undifferentiated, #fleksy, #pooling\n",
      "topic_13 : #mcdonald, #comics, #diversion, #shoot, #foxconn, #braintree, #laude, #walkthrough, #tetra, #seenit\n",
      "topic_14 : #trendwatching, #briefing, #memcache, #spotting, #french, #oreal, #bekele, #torvalds, #futhark, #arena\n"
     ]
    },
    {
     "name": "stderr",
     "output_type": "stream",
     "text": [
      "/Users/ravi/Personal_Projects/recommender_system/rec_sys_env/lib/python3.7/site-packages/sklearn/utils/deprecation.py:87: FutureWarning: Function get_feature_names is deprecated; get_feature_names is deprecated in 1.0 and will be removed in 1.2. Please use get_feature_names_out instead.\n",
      "  warnings.warn(msg, category=FutureWarning)\n"
     ]
    }
   ],
   "source": [
    "tf_idf_vectorizer = TfidfVectorizer(strip_accents = 'ascii',\n",
    "                                    stop_words = 'english',\n",
    "                                    lowercase = True,\n",
    "                                    analyzer = 'word',\n",
    "                                    token_pattern = r'\\b[a-zA-Z]{5,}\\b',\n",
    "                                    ngram_range = (1, 1),\n",
    "                                    max_df = 0.8, min_df = 1,\n",
    "                                    #max_features = 1000,\n",
    "                                    norm='l2', \n",
    "                                    use_idf=True, smooth_idf=True, sublinear_tf=True)\n",
    "lda_tf_idf = LatentDirichletAllocation(n_components=15, random_state=0)\n",
    "\n",
    "start_time = default_timer()\n",
    "\n",
    "dtm_tf_idf = tf_idf_vectorizer.fit_transform(eng_shared_articles_content_df['text_content'])\n",
    "lda_tf_idf.fit(dtm_tf_idf)\n",
    "\n",
    "end_time = default_timer()\n",
    "time_taken_str = convert_sec(end_time - start_time)\n",
    "print(\"Time Taken : {}\".format(time_taken_str))\n",
    "\n",
    "tf_idf_feature_names = tf_idf_vectorizer.get_feature_names()\n",
    "topics = get_topics(lda_tf_idf, tf_idf_feature_names, n_top_words=10)"
   ]
  },
  {
   "cell_type": "code",
   "execution_count": 52,
   "metadata": {
    "ExecuteTime": {
     "end_time": "2021-12-03T06:23:36.516060Z",
     "start_time": "2021-12-03T06:23:36.512448Z"
    }
   },
   "outputs": [
    {
     "data": {
      "text/plain": [
       "(2185, 36915)"
      ]
     },
     "execution_count": 52,
     "metadata": {},
     "output_type": "execute_result"
    }
   ],
   "source": [
    "dtm_tf_idf.shape"
   ]
  },
  {
   "cell_type": "code",
   "execution_count": 53,
   "metadata": {
    "ExecuteTime": {
     "end_time": "2021-12-03T06:23:36.520824Z",
     "start_time": "2021-12-03T06:23:36.517580Z"
    }
   },
   "outputs": [
    {
     "data": {
      "text/plain": [
       "(15, 36915)"
      ]
     },
     "execution_count": 53,
     "metadata": {},
     "output_type": "execute_result"
    }
   ],
   "source": [
    "lda_tf_idf.components_.shape"
   ]
  },
  {
   "cell_type": "code",
   "execution_count": 54,
   "metadata": {
    "ExecuteTime": {
     "end_time": "2021-12-03T06:23:36.729991Z",
     "start_time": "2021-12-03T06:23:36.522468Z"
    }
   },
   "outputs": [
    {
     "data": {
      "text/plain": [
       "(2185, 15)"
      ]
     },
     "execution_count": 54,
     "metadata": {},
     "output_type": "execute_result"
    }
   ],
   "source": [
    "reduced_dtm_tf_idf = lda_tf_idf.transform(dtm_tf_idf)\n",
    "reduced_dtm_tf_idf.shape"
   ]
  },
  {
   "cell_type": "code",
   "execution_count": 55,
   "metadata": {
    "ExecuteTime": {
     "end_time": "2021-12-03T06:23:40.602286Z",
     "start_time": "2021-12-03T06:23:36.731857Z"
    }
   },
   "outputs": [
    {
     "name": "stderr",
     "output_type": "stream",
     "text": [
      "/Users/ravi/Personal_Projects/recommender_system/rec_sys_env/lib/python3.7/site-packages/pyLDAvis/_prepare.py:232: FutureWarning: In a future version of pandas all arguments of DataFrame.drop except for the argument 'labels' will be keyword-only\n",
      "  head(R).drop('saliency', 1)\n"
     ]
    },
    {
     "data": {
      "text/html": [
       "\n",
       "<link rel=\"stylesheet\" type=\"text/css\" href=\"https://cdn.rawgit.com/bmabey/pyLDAvis/files/ldavis.v1.0.0.css\">\n",
       "\n",
       "\n",
       "<div id=\"ldavis_el800571404140572827684667001540\"></div>\n",
       "<script type=\"text/javascript\">\n",
       "\n",
       "var ldavis_el800571404140572827684667001540_data = {\"mdsDat\": {\"x\": [0.3236015669490562, -0.052688157703817406, -0.0478380079064338, -0.028561074973792337, -0.023090101514445766, -0.020890406715460476, -0.020051054641092213, -0.018986077034595754, -0.017310606260096357, -0.017153754358129648, -0.017143332271020367, -0.01656872005468532, -0.01628868641352044, -0.014161114261148617, -0.012870472840817916], \"y\": [0.0038202247989403003, 0.0619328891250301, -0.02475785421735497, -0.005555707308067581, -0.007265678218565018, -0.004497339805967013, -0.004710605036697908, -0.0042519512699543335, -0.003303000887485475, -0.0027645968173910748, -0.0028969586684553343, -0.0027115614202645796, -0.002226182273441998, -0.000821038698586336, 9.360698260760216e-06], \"topics\": [1, 2, 3, 4, 5, 6, 7, 8, 9, 10, 11, 12, 13, 14, 15], \"cluster\": [1, 1, 1, 1, 1, 1, 1, 1, 1, 1, 1, 1, 1, 1, 1], \"Freq\": [73.71303014985592, 4.38589914803613, 3.8481765249481716, 2.162808461441545, 1.8121328963740218, 1.656521783734027, 1.608608335028948, 1.5299384605481656, 1.4213116006570221, 1.4151935706445473, 1.4123097048148894, 1.371387563066254, 1.3406246761233322, 1.204942561028426, 1.1171145636985882]}, \"tinfo\": {\"Term\": [\"acquia\", \"layout\", \"protocol\", \"dynamic\", \"techcrunch\", \"optimization\", \"whatsapp\", \"keyboard\", \"worry\", \"ubuntu\", \"google\", \"experienced\", \"chatbot\", \"delete\", \"caching\", \"indicate\", \"bigquery\", \"traditionally\", \"snapchat\", \"greatly\", \"exposed\", \"proprietary\", \"hangouts\", \"expose\", \"dropbox\", \"constraints\", \"publishing\", \"hosts\", \"skype\", \"possibly\", \"google\", \"people\", \"using\", \"company\", \"users\", \"learning\", \"cloud\", \"business\", \"technology\", \"platform\", \"world\", \"different\", \"companies\", \"services\", \"example\", \"today\", \"machine\", \"software\", \"based\", \"things\", \"service\", \"build\", \"developers\", \"better\", \"create\", \"information\", \"customers\", \"right\", \"product\", \"experience\", \"acquia\", \"ubuntu\", \"schema\", \"greene\", \"whatsapp\", \"https\", \"vmware\", \"replies\", \"trips\", \"translations\", \"psychology\", \"toggle\", \"chats\", \"exposed\", \"dropbox\", \"dialogue\", \"headers\", \"editorial\", \"carriers\", \"delivers\", \"mentions\", \"lately\", \"inner\", \"hangouts\", \"hoping\", \"tolerance\", \"diane\", \"caching\", \"protocol\", \"drupalcon\", \"protocols\", \"hosts\", \"skype\", \"snapchat\", \"requested\", \"clicks\", \"modified\", \"keyboard\", \"expose\", \"dynamic\", \"telegram\", \"optimization\", \"proprietary\", \"experienced\", \"screens\", \"worry\", \"traditionally\", \"greatly\", \"layout\", \"fonts\", \"checklist\", \"danny\", \"losses\", \"markov\", \"layouts\", \"safari\", \"wrapper\", \"forrester\", \"specifications\", \"exponentially\", \"performers\", \"arguments\", \"bitcoins\", \"arrow\", \"graphs\", \"deliberate\", \"intend\", \"debate\", \"radical\", \"operator\", \"pointers\", \"fetched\", \"animations\", \"hacking\", \"constructing\", \"firefox\", \"evaluates\", \"visitor\", \"compose\", \"fundamentals\", \"constraint\", \"expressions\", \"angular\", \"jquery\", \"inline\", \"universities\", \"bigquery\", \"constraints\", \"micro\", \"debugger\", \"expectation\", \"removing\", \"marks\", \"stands\", \"optimization\", \"worry\", \"balancer\", \"swarm\", \"downtime\", \"niantic\", \"gcloud\", \"containerization\", \"provisioned\", \"oauth\", \"kubectl\", \"redis\", \"opengl\", \"microservice\", \"outage\", \"meeker\", \"dockerized\", \"balancers\", \"pokemon\", \"firebase\", \"xamarin\", \"mehanna\", \"fault\", \"tapscott\", \"espresso\", \"spinning\", \"recorder\", \"redundancy\", \"daemon\", \"kasisto\", \"cmake\", \"bitcasa\", \"nginx\", \"stackdriver\", \"proxy\", \"debugger\", \"rails\", \"dockerfile\", \"raspberry\", \"layout\", \"transactional\", \"gradle\", \"dynamic\", \"protocol\", \"aggregations\", \"aggregation\", \"facets\", \"montreal\", \"bengio\", \"elasticsearch\", \"shard\", \"typings\", \"decrypt\", \"shards\", \"realtime\", \"thesis\", \"tenant\", \"sorted\", \"authcache\", \"ramaswamy\", \"cursor\", \"nullpointerexception\", \"tesco\", \"practi\", \"jgamblin\", \"blispay\", \"tsconfig\", \"polly\", \"takipi\", \"waterfall\", \"unwind\", \"mindlessness\", \"buffer\", \"unconference\", \"neatly\", \"theft\", \"badge\", \"redundant\", \"sierra\", \"restore\", \"gradle\", \"raspberry\", \"converted\", \"macos\", \"tesla\", \"fault\", \"microservice\", \"directories\", \"martech\", \"iwork\", \"dualshock\", \"weakreference\", \"lingq\", \"panther\", \"intrapreneur\", \"livestreaming\", \"supporters\", \"valve\", \"shuddle\", \"moodstocks\", \"ruston\", \"bradesco\", \"intrapreneurs\", \"stratumn\", \"lotte\", \"exportables\", \"grenades\", \"kantar\", \"aliases\", \"callout\", \"resistance\", \"brazilian\", \"pebble\", \"servicemax\", \"mainframes\", \"radim\", \"greta\", \"diagnosed\", \"evaluations\", \"honey\", \"forwarding\", \"merchandise\", \"heroku\", \"steam\", \"integrity\", \"grade\", \"invention\", \"firefox\", \"lawyers\", \"incognito\", \"macrumors\", \"gboard\", \"beirne\", \"deeptext\", \"bonuses\", \"roped\", \"garric\", \"byttow\", \"telebit\", \"octopocket\", \"weave\", \"subfolders\", \"bixpy\", \"imbued\", \"chromebase\", \"consultancies\", \"reservations\", \"enercity\", \"trailer\", \"akdogan\", \"serial\", \"dorsey\", \"favro\", \"hipchat\", \"smacc\", \"nahapetian\", \"bunnell\", \"cleverness\", \"hebron\", \"verge\", \"chromecast\", \"passport\", \"invites\", \"pencil\", \"tenure\", \"closure\", \"notebooks\", \"keyboard\", \"roads\", \"appointment\", \"touchscreen\", \"narrative\", \"coaching\", \"reminder\", \"infographics\", \"shareable\", \"decks\", \"snapdragon\", \"african\", \"mobify\", \"customizable\", \"favorites\", \"lepton\", \"infrakit\", \"zeroth\", \"drupaldb\", \"sniffer\", \"ilooklikeanengineer\", \"africonnection\", \"attia\", \"tapes\", \"ngrok\", \"skates\", \"readism\", \"bestselling\", \"gruber\", \"amplitude\", \"bosebuild\", \"improv\", \"jupyterhub\", \"phpcs\", \"hither\", \"movidius\", \"heron\", \"qualcomm\", \"fasttext\", \"coaching\", \"bacteria\", \"slide\", \"bonus\", \"deposit\", \"grade\", \"hollywood\", \"briefing\", \"companion\", \"speaker\", \"bryant\", \"sussman\", \"kittlaus\", \"bootloader\", \"sphero\", \"mckenzie\", \"houseparty\", \"robotium\", \"tapia\", \"jamboard\", \"helpers\", \"commonaccord\", \"neurala\", \"hubble\", \"bluemix\", \"freebiesbug\", \"lowenthal\", \"recharge\", \"canceling\", \"ricci\", \"playoffs\", \"lakers\", \"marsala\", \"cinder\", \"bitfury\", \"fuschia\", \"tisch\", \"yougov\", \"solvers\", \"meerkat\", \"whiteboard\", \"mailchimp\", \"shots\", \"blizzard\", \"deletes\", \"prints\", \"mentoring\", \"instrumentation\", \"disclosure\", \"simulation\", \"polymer\", \"launcher\", \"bicycle\", \"mario\", \"edition\", \"optionals\", \"dagger\", \"retrolambda\", \"kibana\", \"unicode\", \"botnet\", \"subcommittee\", \"instrumentationregistry\", \"ibook\", \"schieffer\", \"undocumented\", \"drowning\", \"spothero\", \"metaclasses\", \"androidjunitrunner\", \"unilver\", \"daugherty\", \"etheropt\", \"replicationcontroller\", \"agreeing\", \"swagbot\", \"introspect\", \"multiyear\", \"weslack\", \"genderbread\", \"batten\", \"bytecode\", \"enums\", \"yakuza\", \"butterknife\", \"sprints\", \"kotlin\", \"julie\", \"encapsulate\", \"espresso\", \"brothers\", \"rxjava\", \"genome\", \"elixir\", \"inherited\", \"estimating\", \"safari\", \"elasticsearch\", \"instrumentation\", \"ninja\", \"instapaper\", \"webpass\", \"fblearner\", \"undifferentiated\", \"fleksy\", \"humility\", \"xmind\", \"crows\", \"chime\", \"prisma\", \"botanists\", \"jshell\", \"alaska\", \"gotomeeting\", \"pooling\", \"ceramic\", \"hejlsberg\", \"posey\", \"garrett\", \"bodson\", \"boonin\", \"stacker\", \"sublime\", \"chester\", \"priming\", \"exhibitor\", \"levandowski\", \"flower\", \"disambiguation\", \"anders\", \"passengers\", \"convolution\", \"arcade\", \"zendesk\", \"stetho\", \"summarization\", \"spanner\", \"contest\", \"compilers\", \"fiber\", \"clash\", \"airlines\", \"debian\", \"trendwatching\", \"memcache\", \"briefing\", \"bekele\", \"futhark\", \"winfield\", \"spotting\", \"currents\", \"oreal\", \"walkme\", \"crowdflower\", \"godbolt\", \"micah\", \"silvestre\", \"marcos\", \"growers\", \"unblurred\", \"atonement\", \"syllables\", \"terrorism\", \"bueno\", \"lizardcoin\", \"swanest\", \"laggard\", \"grounded\", \"interrogate\", \"gavini\", \"poncho\", \"batterymanager\", \"miracles\", \"curved\", \"torvalds\", \"arena\", \"french\", \"reshape\", \"linus\", \"debate\", \"transitions\", \"scandic\", \"gould\", \"istanbul\", \"finalize\", \"figcaption\", \"arcas\", \"aguera\", \"kinvey\", \"swimproof\", \"refcardz\", \"tattoo\", \"sarcastic\", \"strangler\", \"margaret\", \"oldman\", \"observability\", \"dogville\", \"blaise\", \"sirosh\", \"strangled\", \"containerd\", \"innersourcing\", \"limes\", \"rinna\", \"caster\", \"gotwarlost\", \"lincoln\", \"portrait\", \"vintage\", \"sarcasm\", \"dzone\", \"kotlin\", \"female\", \"hackerrank\", \"magnifying\", \"airpods\", \"bigquery\", \"stewart\", \"hoffa\", \"favor\", \"combinatorial\", \"techcrunch\", \"ingest\", \"mycroft\", \"burda\", \"skully\", \"strictmode\", \"chainsaw\", \"thunder\", \"rejoice\", \"montgomery\", \"interviewer\", \"coinfest\", \"wkwebview\", \"clipping\", \"autofill\", \"palermo\", \"moorfields\", \"fanatics\", \"walgreens\", \"mcguigan\", \"protractor\", \"browder\", \"astro\", \"redeem\", \"cheerful\", \"alsup\", \"zestmoney\", \"curso\", \"snappy\", \"retinopathy\", \"kopru\", \"codesprint\", \"graphene\", \"bounced\", \"diseases\", \"palantir\", \"kickstarter\", \"coupons\", \"tesla\", \"mechanic\", \"charging\", \"filing\", \"celebrating\", \"facet\", \"publishing\", \"espresso\", \"composer\", \"circuit\", \"mcdonald\", \"comics\", \"diversion\", \"foxconn\", \"laude\", \"tetra\", \"seenit\", \"itseez\", \"wocintech\", \"omnitone\", \"wework\", \"terrapattern\", \"meetspace\", \"pmbok\", \"kiddi\", \"diploma\", \"hartrell\", \"vectorization\", \"njenga\", \"gummi\", \"webcam\", \"insidedna\", \"subtree\", \"bercovici\", \"henwood\", \"kopin\", \"gansbrest\", \"spatialization\", \"doctoroff\", \"walkthrough\", \"braintree\", \"shoot\", \"mesos\", \"thunder\", \"tinker\", \"uncensored\", \"cheese\", \"sidewalk\", \"expiration\", \"pokemon\", \"trades\", \"invites\"], \"Freq\": [2.0, 1.0, 1.0, 1.0, 2.0, 1.0, 1.0, 1.0, 1.0, 1.0, 40.0, 1.0, 4.0, 2.0, 1.0, 1.0, 1.0, 1.0, 1.0, 1.0, 1.0, 1.0, 1.0, 1.0, 1.0, 1.0, 1.0, 1.0, 1.0, 1.0, 40.728429215044066, 30.7870364760347, 30.13581848239292, 29.881236538748805, 28.369017175158323, 25.624117672210687, 25.469579367404005, 25.011853838367387, 24.499723417741304, 24.42305935323524, 24.360196409811326, 23.531717280022015, 23.527913724906448, 23.492159885545757, 23.458371945566437, 22.985493195963123, 22.951896073723844, 22.903651959947744, 22.865962749197827, 22.7168893758432, 22.655323397345796, 22.611963605842732, 22.522134804974186, 22.08246090180497, 21.43090095893652, 21.2915434861455, 21.260041108431395, 21.239101081354438, 21.15137092424384, 20.403265080336105, 1.7870127361181478, 1.017541799305713, 0.7387290869565333, 0.7653102920836664, 1.075097600662305, 0.6042485335045115, 0.596473758487824, 0.6554849431218553, 0.550845859217309, 0.5366302023691636, 0.6200262426857499, 0.491525962559343, 0.6083627916868131, 0.8484916496046274, 0.8376354243676196, 0.5483546161626164, 0.5764403564010783, 0.5001903389731207, 0.4980013754571115, 0.7721414898883865, 0.5997599778644082, 0.5234754715976179, 0.4946301152254868, 0.8157495314232438, 0.6590839836793951, 0.5074094282378877, 0.5463975434825739, 0.9100913796662004, 1.283608644334776, 0.44340438584840103, 0.6069136269814914, 0.7555985809000008, 0.7350804992627181, 0.8255523761394131, 0.6557236293109109, 0.7514328381685003, 0.6875865905818396, 0.9269684157837351, 0.7788447722573244, 0.9777028293301987, 0.631575879874847, 0.8636156402137091, 0.7748065053095523, 0.8060770889181247, 0.6942420646772458, 0.7873245410969809, 0.6822778371982064, 0.6538047666085056, 1.1868629265242745, 0.4778558041105331, 0.5110937380582146, 0.41566891887342916, 0.371273172247513, 0.3705935068052821, 0.5088715615361783, 0.5071744200087032, 0.39652698739392095, 0.4516944000317493, 0.38536120940534113, 0.4860055476881641, 0.4150809446178264, 0.654333163879837, 0.40479251529214383, 0.378445962731589, 0.5887922552847311, 0.3097641353312508, 0.3507294898879671, 0.6227982919267802, 0.3942119859574107, 0.4609904352725125, 0.2952276057564571, 0.3119176321151568, 0.47564159368049275, 0.4109864219544725, 0.31568634331903117, 0.4550513363972175, 0.29041527428596214, 0.34376215876664307, 0.4658639670207359, 0.3981052994074206, 0.5028260735078541, 0.49970917483463567, 0.5506171604208808, 0.5026474565376342, 0.471752338946532, 0.45332864453751387, 0.604724189116999, 0.5615462014992253, 0.5221903314141098, 0.4585729941351824, 0.45701883693135914, 0.48819385298989654, 0.4736969012789468, 0.4612339014557588, 0.5311327977080373, 0.4723736722010163, 0.3315608309779257, 0.3321696305081543, 0.26746516059051934, 0.25034154219965016, 0.26187388092006303, 0.19381782032515413, 0.24504449579689352, 0.1964275230742137, 0.20001397252514652, 0.21967349706344078, 0.15819853940478, 0.3295497208308727, 0.22589666943641157, 0.1453000016502215, 0.1434052711791779, 0.1674837064839572, 0.2212538067179077, 0.3732207476362344, 0.1900001104161549, 0.13423939261604806, 0.23184029689675492, 0.1249856285858009, 0.19428236180217415, 0.1507948288083581, 0.12708171996502376, 0.1210445351643048, 0.12666147336268088, 0.11885318745602816, 0.11413678869403836, 0.11114652436213458, 0.224511846395833, 0.2745942098028273, 0.24588153577444918, 0.2359231510958575, 0.17576146276702473, 0.1633702702537574, 0.1977538846267399, 0.25745000428668213, 0.1899486898206086, 0.16947328220871524, 0.1731105324185382, 0.16748110094522545, 0.29531598926182817, 0.2678861444034023, 0.16648431870396582, 0.12916857516531682, 0.13185746101626497, 0.23527029998423174, 0.12563508691022626, 0.10724134121916098, 0.105387773601251, 0.11980128444409391, 0.1002643778086863, 0.13276784886537088, 0.11383169778305488, 0.14634477991656472, 0.09321589407172245, 0.08926781799475213, 0.1116746497572751, 0.09274938366019425, 0.08869394625388718, 0.08553667356621436, 0.08509847254581011, 0.08452632217556574, 0.08972743580116481, 0.0819473672424374, 0.10006830622038562, 0.10686484547170787, 0.07986600961070796, 0.07927681162765297, 0.14151207980232258, 0.0777022571595226, 0.09851973386586277, 0.09022641496328665, 0.09310882527183663, 0.11192151896845468, 0.1361461560125254, 0.10975198770769129, 0.14081413623968195, 0.1493898153604855, 0.11387739253295914, 0.14031361654842944, 0.11524237273272707, 0.10784358160737949, 0.11314112375956784, 0.10459313838075987, 0.12310670140502816, 0.10908607868098458, 0.10888367739370931, 0.09635852373842613, 0.09226956043388018, 0.08390161524794422, 0.08202024449976357, 0.08069986912127039, 0.08778065786105718, 0.09283555711915974, 0.07786557727530007, 0.07749779879279328, 0.07709198853833613, 0.07649353295871096, 0.07840850329298507, 0.07808348337836886, 0.07412498279913868, 0.07329753429539601, 0.07258830137964759, 0.07258169594063832, 0.11450240321355924, 0.07134545453763651, 0.11570764587187965, 0.11983903454603109, 0.07821394741247895, 0.06797403686310519, 0.08010323040050538, 0.06739438492309184, 0.0669262131749916, 0.08251212231943987, 0.1358485233866138, 0.09895427718913127, 0.10675900995464145, 0.08776833760356435, 0.10244598190435063, 0.0957758195422378, 0.08521076109378528, 0.09205382707203952, 0.08952845888774491, 0.09031069208027595, 0.08202171898617955, 0.12135884809734795, 0.09864056760747442, 0.09681124405831243, 0.09248676141107226, 0.09919259259676126, 0.11217864564896134, 0.07381166257314324, 0.07292818197123402, 0.07031622866005531, 0.06910183811692443, 0.06910183811692443, 0.09594128283976737, 0.07048099922297046, 0.0683770031207807, 0.07391232106559047, 0.06814677300611187, 0.09411678526929103, 0.10837958631475832, 0.06613710953403758, 0.08186812703654148, 0.06463499881410838, 0.09373120567433124, 0.06758353025587618, 0.06313295457681356, 0.07873971862954683, 0.0621245822310036, 0.060713990451922766, 0.06043558776476947, 0.0663829491583258, 0.059808767727643736, 0.11075335692797231, 0.08163658421387568, 0.07417299161361726, 0.09223916302955247, 0.08012721885725654, 0.07964466711885528, 0.08488960442652524, 0.07596312927974927, 0.12301853088011093, 0.07984511812252659, 0.07780590908994058, 0.07263866648221885, 0.07400750083600807, 0.07664023599666718, 0.07454479750397508, 0.12612735310938597, 0.14469757320944798, 0.12218452344083675, 0.09913920911242764, 0.11864316945751857, 0.08758511340163443, 0.14053767394361114, 0.12906897319443672, 0.0757387525916046, 0.07461283745980896, 0.07387497015575104, 0.0725864785510906, 0.0717391684184998, 0.07085191603255787, 0.06966252112865821, 0.06909258983870518, 0.06804881567172946, 0.06782350175776541, 0.06758345103927782, 0.06696010184040767, 0.09029775436653512, 0.06605824634928059, 0.08118329312386115, 0.06513597766365051, 0.06372652279729982, 0.06367779369367264, 0.0632067019019137, 0.06219847490288401, 0.07316358984153722, 0.059826674961016596, 0.10298202839263958, 0.08477534373765987, 0.1159707478369996, 0.07400042079446843, 0.10174217451110747, 0.09751000819426636, 0.07666877785161665, 0.08265396326736334, 0.07080075601726085, 0.07781493651303807, 0.07141533234998956, 0.07840231320319482, 0.08121738947882864, 0.07030239997786089, 0.08206636201523351, 0.0694290635716293, 0.06484063646613002, 0.06414613884942343, 0.06362082784142806, 0.06280313598629035, 0.061176247907008714, 0.0740936827930151, 0.06587048386835179, 0.05913029055192599, 0.058399663798867886, 0.05815447340413484, 0.08050463659023782, 0.05761730814115985, 0.05761730814115985, 0.061323130218353235, 0.059996719074411335, 0.0560675665037327, 0.0558765692547368, 0.0558765692547368, 0.05525824449413567, 0.05578752167129661, 0.0576250795681395, 0.054570290035044454, 0.05439797988651878, 0.05435078689778657, 0.05514855193583014, 0.0661086842187682, 0.07686691593479303, 0.060445585035800505, 0.07704080237310917, 0.059785638506461625, 0.06806623142459776, 0.06725548439643574, 0.061845826472211915, 0.06999146793242456, 0.069591603947426, 0.0657249873527765, 0.06521634170103226, 0.059697207389607494, 0.06086236000444004, 0.05919959690139915, 0.059767702499107185, 0.09438908958191093, 0.09214202141450498, 0.08121641888276336, 0.08779833344307857, 0.07662590981420118, 0.07365055053171514, 0.07982988724480576, 0.06509553356907216, 0.0624296678869204, 0.06231577634409283, 0.06737892251752661, 0.0735101786378558, 0.06024890373010767, 0.059336288143932325, 0.058389344497490545, 0.05817556926711908, 0.055781716514842435, 0.055638753280888804, 0.055609682753343846, 0.06721942147932677, 0.054535647872228435, 0.05680804693540161, 0.05643040390370564, 0.05357524976819809, 0.05316495619570366, 0.055242416193358054, 0.060206014684802404, 0.052744865545346756, 0.052491778797186875, 0.051530386038006845, 0.10814416119326303, 0.10240782971838837, 0.06209643275611479, 0.06362193589663681, 0.08319914266118489, 0.0664991796413554, 0.07423958853668196, 0.06049329669687807, 0.0591961663167494, 0.05857803170144607, 0.060259555858823324, 0.07659511667519663, 0.06460160796591467, 0.062358141629039084, 0.05863527248312049, 0.09040377226858502, 0.0890955789107737, 0.0824774030167811, 0.06603314002708971, 0.0659086254303086, 0.06701726633462828, 0.06190344424089638, 0.05747971360871238, 0.0631957149591478, 0.05505773678976445, 0.05479978284728982, 0.0538898203028034, 0.06404534690282747, 0.05368554893473102, 0.06558734673088967, 0.053115654115787427, 0.054440963750724096, 0.052518421647942876, 0.05909747672134012, 0.05838440988754394, 0.05148841929321536, 0.051425989267439465, 0.08401764762363831, 0.052516448770156245, 0.05305120641189129, 0.05360842856888278, 0.050026471128869356, 0.056546647862487275, 0.04919883499112395, 0.06488073623037295, 0.07771773980124634, 0.060237305130277335, 0.05705728930741378, 0.05788455979930251, 0.06129903530567893, 0.05908672825547445, 0.05510135939885126, 0.05876143030607925, 0.059991922522583487, 0.0683354188551748, 0.055426391004550345, 0.06090579546954316, 0.05581135474840777, 0.2227419480832424, 0.1296822903138427, 0.21183360760095502, 0.07568951545647892, 0.07202600402196205, 0.07074335398593219, 0.10441117843002869, 0.07036269484098148, 0.0871300426116957, 0.06629236526618347, 0.06309724679751896, 0.06234892491887082, 0.06234892491887082, 0.06132286931629847, 0.06132286931629847, 0.06267036373313409, 0.05982429534284379, 0.05883959500732249, 0.058813158981626, 0.059440280990497626, 0.05868138314195516, 0.055151343098518164, 0.05502372343350249, 0.06009455475896037, 0.056272845757710535, 0.054336826503522506, 0.05210150196449406, 0.06899538003040408, 0.05147106392127149, 0.05112698706249651, 0.05532778165579868, 0.0738268533561517, 0.07108260132177552, 0.09460150917388774, 0.06317961455841223, 0.06155522473602017, 0.07008313644298556, 0.06005188768202697, 0.09618228303166511, 0.06633711938715955, 0.07202897735910888, 0.06763355735987504, 0.06163597987728868, 0.0610825901352347, 0.0610825901352347, 0.06019231329384185, 0.059779454493630466, 0.05975616348731582, 0.0695043787384871, 0.07387824408521967, 0.055405447508603815, 0.05977175052952208, 0.05217426664737509, 0.05207283931595727, 0.051200401985478386, 0.051026872040331635, 0.06063326525835283, 0.05078764811656663, 0.05866353340367446, 0.050264070414723847, 0.0499142511120633, 0.04981177575227833, 0.0498101688823762, 0.04977122090378145, 0.049670054601925744, 0.09091438807414473, 0.06869212623892808, 0.06521681392072333, 0.0677845166750973, 0.08818323404161225, 0.10392492248506377, 0.05298231254247071, 0.059063850733296834, 0.06206780434945424, 0.08756291677548399, 0.06243221671438321, 0.0535858627147024, 0.06588289140609316, 0.05315875579382615, 0.056638939017278844, 0.05328561123021821, 0.09499510496447484, 0.07669843214457572, 0.060831473571957326, 0.05615830321598592, 0.05545593490031029, 0.07677038992185722, 0.05678869643066465, 0.054310433599154766, 0.05883158233212248, 0.05041779787766985, 0.04884390775041864, 0.04658878179703451, 0.045352049440177386, 0.04529843290378289, 0.045095993059314964, 0.04886724091812632, 0.059219040518970346, 0.04259951626264511, 0.042078475626259854, 0.04966288495077064, 0.04158061862463641, 0.0521489017605716, 0.050552172406608545, 0.04735146539472784, 0.04090336014255761, 0.0401609142939254, 0.052591695294422716, 0.03876550818434546, 0.038682486651515226, 0.03861143456822573, 0.053468667832493086, 0.04025880705090652, 0.04630021113993949, 0.04827174585937239, 0.06705929997682751, 0.05713787321521732, 0.06459430993019723, 0.048388680091324646, 0.05212702522578927, 0.049592079959166355, 0.052334398052138256, 0.04933035765132746, 0.05904886429750777, 0.05095909022899623, 0.04953195743319862, 0.04939765019418212, 0.07439879703210132, 0.05735165962295282, 0.05589040869683521, 0.05381460729380877, 0.05172435769905314, 0.05010344881786169, 0.04975940134319096, 0.04948765113773371, 0.04863521952926755, 0.04793660921669793, 0.04724507103427091, 0.046302500802944006, 0.04626484807850072, 0.0462552852473905, 0.04521188102988767, 0.04638617767072276, 0.043351402239326035, 0.04313563012105558, 0.04205762250783201, 0.0420062033140659, 0.04571104193187005, 0.04177434688215883, 0.04126875967490201, 0.041010507073003626, 0.041010507073003626, 0.03938942271417965, 0.039289088309293604, 0.03860571445815986, 0.038104205008937506, 0.05099144820574062, 0.05193797547774968, 0.055431577931664595, 0.04715653398326687, 0.04967467034340103, 0.04703223523045734, 0.046889698463684674, 0.0465837587462999, 0.0436891184311286, 0.045494666554207065, 0.04805322825379206, 0.04576939621131708, 0.043734043774208024], \"Total\": [2.0, 1.0, 1.0, 1.0, 2.0, 1.0, 1.0, 1.0, 1.0, 1.0, 40.0, 1.0, 4.0, 2.0, 1.0, 1.0, 1.0, 1.0, 1.0, 1.0, 1.0, 1.0, 1.0, 1.0, 1.0, 1.0, 1.0, 1.0, 1.0, 1.0, 40.89050804115171, 30.94911531568768, 30.297897315296346, 30.043315374750797, 28.531096002624302, 25.78619650061501, 25.63165818837794, 25.173932668740722, 24.661802249383253, 24.58513818052691, 24.522275250266652, 23.693796114992594, 23.689992555282522, 23.65423871205405, 23.62045077764293, 23.147572024597803, 23.113974902620118, 23.06573079079094, 23.02804158437306, 22.878968213633527, 22.81740222711415, 22.77404243351183, 22.68421363302412, 22.244539735885272, 21.592979790949286, 21.453622316151048, 21.42211993493674, 21.40117992044562, 21.313449750952554, 20.565343914605826, 2.1051162941614305, 1.2372565575475085, 0.9393527150605174, 0.9766512197202205, 1.3952906133214897, 0.8002027862585371, 0.7920964375515985, 0.882246595685353, 0.7466656440916594, 0.7407802089036243, 0.858848969921754, 0.6870242421509066, 0.8504652737062609, 1.1936433146720926, 1.1842003452889807, 0.7753694120517819, 0.8159587599877045, 0.7084132721103118, 0.7056515621712245, 1.094630808565594, 0.8526544634336845, 0.7451624194287302, 0.7052136094274, 1.1634266618499267, 0.9421146640074846, 0.7257069608565254, 0.7821851123994671, 1.3034913406288526, 1.842827861733316, 0.6395235420732996, 0.8789972957124667, 1.1102691641334395, 1.079874082171593, 1.247278113303673, 0.9659421738624498, 1.1304299784983294, 1.0311311724053704, 1.5224535205546914, 1.231212165226266, 1.831239207333744, 0.9454098594090375, 1.5698824052215097, 1.328746439246774, 1.4928685263622687, 1.1345019943251204, 1.551031009300542, 1.4288313608773153, 1.310489925840752, 1.6643404743524506, 0.6773380871008894, 0.7528367247797841, 0.6316912035814831, 0.5687812102656596, 0.5680291407801112, 0.7888346890775311, 0.794925635599754, 0.6249730705653996, 0.715302193471393, 0.6103481722697446, 0.7709159919023288, 0.6648586488312159, 1.0610375843662094, 0.6572656421992731, 0.6164036257830164, 0.9619706627429158, 0.5074857486312541, 0.5766128150794396, 1.0243052464078677, 0.6486711604842518, 0.7625016283884709, 0.49266419474153367, 0.5205403594181506, 0.7943173832700481, 0.6865345772706898, 0.5296003481543858, 0.7637070159077961, 0.4883031319186352, 0.5819107208999852, 0.7894065139945846, 0.675068317796115, 0.8661074131282709, 0.872229023802969, 0.9783243602155973, 0.8995901698428992, 0.889891307457412, 0.8416333326258241, 1.4204680972693573, 1.2563696603225878, 1.1103087941475132, 0.888388408530072, 0.9090126188034391, 1.0757285033749746, 1.0027643163410935, 0.9873002938954982, 1.5698824052215097, 1.551031009300542, 0.5362249977393537, 0.584924153568296, 0.508625604878026, 0.48288464984111606, 0.5348542414369708, 0.4102023998766862, 0.5370426915141715, 0.43170251398594295, 0.44766285596564337, 0.5010334853671415, 0.3628620378202932, 0.7606226702532445, 0.5297543584046139, 0.34996371514047514, 0.3480692358956866, 0.40847290852783846, 0.5462222297434156, 0.923636362901072, 0.47621210367291106, 0.33890298102634453, 0.599903719410577, 0.3296486606803053, 0.5153853597443314, 0.4051989063401283, 0.3419220952127744, 0.32571089442645423, 0.3442485088117292, 0.3235164328960126, 0.31879997048062936, 0.3158095491873107, 0.6610486558077734, 0.9615070269704956, 0.8547434001400656, 0.888388408530072, 0.5955059216823266, 0.5403742266454522, 0.7973148717613554, 1.6643404743524506, 0.9415868690816276, 0.7105650925984173, 1.831239207333744, 1.842827861733316, 0.6242082642754732, 0.5880391444829499, 0.41438862721608294, 0.3483713851878367, 0.3587921632898044, 0.6453331111038548, 0.34704820438137257, 0.31362888310012155, 0.31177875476740735, 0.36396428894079974, 0.314499084504102, 0.42115918146722303, 0.3622397515094278, 0.4686951798263282, 0.2996031812078007, 0.29565461703990636, 0.3735846786207704, 0.31416127886794865, 0.3015252914226421, 0.2919233186061821, 0.29148472889387606, 0.2909127063250539, 0.3102202043348492, 0.28833362137997254, 0.3525340041373052, 0.38191845378136763, 0.28625366227547555, 0.2856632164942749, 0.512594448097416, 0.28408864697361474, 0.3622349744448871, 0.3346149348696329, 0.35574916926268346, 0.46453924008420294, 0.6374679768058705, 0.4606621051225891, 0.7105650925984173, 0.7973148717613554, 0.537242581283643, 0.9056297248375743, 0.5674402062986137, 0.599903719410577, 0.7606226702532445, 0.5801358318073457, 0.3535516875374935, 0.31630175353378304, 0.31609935172694126, 0.30357405186183567, 0.3087938439146538, 0.2911172075661178, 0.28923588633550745, 0.2879159118252911, 0.3167942671076017, 0.3367073587865118, 0.2850812737748232, 0.2847137490316224, 0.2843075478134511, 0.2837091365241169, 0.2925091978207999, 0.29431484658671514, 0.2813404135687005, 0.2805132863059401, 0.2798044838326588, 0.2797974323853683, 0.44302607151512285, 0.27856602000721314, 0.4589283787164638, 0.4759079754672428, 0.31221522799721385, 0.2751899871022795, 0.3258520119522342, 0.2746099948084494, 0.2741418595853956, 0.3443439661325146, 0.5771274455658398, 0.4533184485305296, 0.5094231534449672, 0.40392691677894793, 0.5506697444213173, 0.4855190300378777, 0.3868305005915483, 0.7030358476341856, 0.6571536311099285, 0.7637070159077961, 0.4624053299782135, 0.3288237603751294, 0.3061039923092998, 0.3042767646316738, 0.306521543982741, 0.33973142518812516, 0.4194128622890991, 0.28127358582751616, 0.28038996172146113, 0.27777805846712134, 0.27656427188334537, 0.27656427188334537, 0.38491653284755956, 0.28305266800860585, 0.2758387188677622, 0.2988393580630153, 0.27560878574675696, 0.3849654184949577, 0.44443308004882714, 0.27359899543208893, 0.33965890473203975, 0.27209674013219054, 0.39494767873954584, 0.2873134078860538, 0.2705949400831086, 0.339471095379697, 0.2695865006163867, 0.26817582983444044, 0.26789747556353566, 0.29605807302451836, 0.2672727944216914, 0.5066413499711026, 0.38318490755747, 0.34227261114725194, 0.4506330639044952, 0.39715002574045943, 0.3956378852853898, 0.46507588173381165, 0.3846386738640775, 1.5224535205546914, 0.4795725477800544, 0.4391316697368364, 0.3699681370187858, 0.4237872962404373, 0.6287080931473129, 0.7467893024831801, 0.3407362742871967, 0.4367088251958308, 0.3727554328241444, 0.3242051656478256, 0.3969563828821052, 0.29548032110193273, 0.47710959445970225, 0.47735508079595623, 0.28363387865319956, 0.2825080217851956, 0.28177015443804726, 0.28048159733599015, 0.27963437189804413, 0.27874705295218305, 0.27755766396138265, 0.2769882727790665, 0.27594416869007393, 0.2757204894514728, 0.2754786243421418, 0.2748554490888558, 0.3737493712763786, 0.27395458135745343, 0.3382747868485485, 0.273031111871988, 0.2716225696680521, 0.27157345165468405, 0.27110195736149906, 0.27009371717335723, 0.3238847073398957, 0.26772192680022405, 0.4948375352566974, 0.4080573249880198, 0.6287080931473129, 0.3622682173763532, 0.7822398917964218, 0.8517146636235114, 0.4301596731707698, 0.7030358476341856, 0.37578555886922305, 0.7548743989993336, 0.4275388000795414, 1.1378295129058387, 0.30983680686632686, 0.27879807186353683, 0.3267865422778036, 0.2863535445020816, 0.27333618890390676, 0.2726417109955297, 0.2721165451289044, 0.27129897396962427, 0.26967253260208934, 0.32905242364517706, 0.2938744429032022, 0.2676259798859223, 0.2668954818544154, 0.2666501174044164, 0.371693601628137, 0.2661130458869016, 0.2661130458869016, 0.2870772137885025, 0.2829563770158026, 0.26456314933615716, 0.26437216166601024, 0.26437216166601024, 0.26375410571866414, 0.2682384308117729, 0.2773528432626204, 0.2630661555299335, 0.2628939373614764, 0.26284693919073376, 0.26957945000793465, 0.3234688667732792, 0.42419683117870355, 0.3097272902992298, 0.4984386527089315, 0.3151747296758923, 0.41112211958583955, 0.43079979688830383, 0.3531775815053721, 0.5277309792589703, 0.5775136311106354, 0.5563600409720327, 0.5394798576458933, 0.35127834715014106, 0.41512392136019827, 0.3952128006200042, 0.8624200804573715, 0.30297661231193074, 0.3069081621158338, 0.2897458511009352, 0.3220111433658544, 0.28515476345553425, 0.28217873150447564, 0.31083181342746635, 0.2736236369880674, 0.2709578236186951, 0.27084416316149995, 0.29437923731199866, 0.3274369719771913, 0.2687771776855508, 0.2678648910840291, 0.266917459404525, 0.2667039080105623, 0.264310192076663, 0.2641672714469396, 0.26413826040228555, 0.32350094704650756, 0.2630639059510839, 0.2759069063004553, 0.2744331468932298, 0.2621059675491551, 0.26169323292751523, 0.2730435807590251, 0.2976037703518498, 0.2612815204406397, 0.2610198652582462, 0.2600588884353139, 0.5488896594824937, 0.5526820550670944, 0.3192645696562878, 0.33180020292174367, 0.5153853597443314, 0.37414322852509224, 0.46916170186404665, 0.3263588411426807, 0.31131206722725463, 0.30589088379311447, 0.3373295246745399, 0.794925635599754, 0.6453331111038548, 0.5277309792589703, 0.3726305506293463, 0.29894920971520234, 0.29764088231475616, 0.2910243103128294, 0.2745791361735331, 0.2744546181738311, 0.28441802176541003, 0.2704514150090577, 0.2660250938511055, 0.29710434156069027, 0.2636031902964957, 0.26334543475784933, 0.26243566013778563, 0.3127673863718775, 0.26223112602241927, 0.322466822812155, 0.26166115554480057, 0.2698468957388273, 0.2610638020050059, 0.2948739318141956, 0.29197029830838156, 0.26003437003132107, 0.2599716179549787, 0.4254624072294409, 0.2664222252231931, 0.26970745451449646, 0.274651837977385, 0.2585721528114962, 0.29351464282155815, 0.2577466228566518, 0.3540131744037706, 0.44662018932396147, 0.3342263129197026, 0.31208164968866214, 0.3436963830127595, 0.3980805106130094, 0.3700468542049576, 0.30865542031839405, 0.4176751273205237, 0.4645043866499466, 0.9465117871477667, 0.31963809455640885, 0.6587666820701076, 0.3853849178100904, 0.6955165609153873, 0.40551868070929337, 0.7548743989993336, 0.28446397377093013, 0.280800385033601, 0.2795184702461297, 0.4171288651231609, 0.2851856066657209, 0.3612028812487152, 0.2750669898389229, 0.27187194219104155, 0.27112347879242177, 0.27112347879242177, 0.2700970491183092, 0.2700970491183092, 0.27677650894978933, 0.2685986364171677, 0.267613868104019, 0.2675873629091492, 0.2801449334890228, 0.28034799909778424, 0.263925728107447, 0.2637985097601264, 0.2931092302760028, 0.2762317428486844, 0.26835626975762805, 0.2608773878699583, 0.3456168412826472, 0.2602457312775063, 0.25990134465978315, 0.28452987173540956, 0.4604692209630414, 0.4633379209183649, 0.8640719067871364, 0.3866195628847115, 0.45963962611113574, 1.0243052464078677, 0.4719716146424269, 0.3051429812437351, 0.2752975616230387, 0.3097551361959747, 0.29688167030938045, 0.2705965772579336, 0.27004300983751106, 0.27004300983751106, 0.2691530605604299, 0.26874010942524407, 0.26871686078898105, 0.3236032240055251, 0.35392435602918587, 0.27190591334341174, 0.2980669380777473, 0.2611347084422781, 0.26103351495278165, 0.2601609591112093, 0.2599873234238933, 0.31007641945491865, 0.25974821908574103, 0.3023423782749039, 0.25922678897353923, 0.2588782784865387, 0.25877223367339064, 0.2587707784973261, 0.25873180612745145, 0.2586314717019454, 0.4741957044225047, 0.3599946556891579, 0.34200596880164685, 0.371906200953654, 0.5526820550670944, 0.7011004966598917, 0.28132270058437797, 0.3271149936495233, 0.4396090647065278, 1.4204680972693573, 0.5383363711470427, 0.3111422359995288, 0.9554780768958103, 0.30289969653547816, 2.7498528982772767, 0.4592066215639003, 0.3047404428801572, 0.2982195644549164, 0.27057666040663564, 0.2659035704549851, 0.2652011465497041, 0.3689617522384672, 0.27570493528401, 0.2640560325566484, 0.2978359986091345, 0.26016317749700546, 0.2585897139867706, 0.25633398436445465, 0.2550982005722556, 0.25504387110051185, 0.2548413296024865, 0.2763535441981599, 0.3506191466241577, 0.2523450734103393, 0.2518248568599242, 0.2978361397204953, 0.25132601584046965, 0.3155955095091517, 0.3073269097438585, 0.28834100951997654, 0.2506490283948463, 0.2499093734300933, 0.3357537485122228, 0.24851082086721926, 0.24842909923229295, 0.24835660026577466, 0.3490702229573281, 0.2597706290695806, 0.3080802374351846, 0.3258580145569214, 0.5451012846961872, 0.4447663841341211, 0.5674402062986137, 0.3485362676769152, 0.4329626973080947, 0.39501426477173207, 0.5163007270203999, 0.3897895182926267, 1.2943075571204747, 0.5153853597443314, 0.4762758842294633, 0.6099275922494192, 0.34202500843322436, 0.27956998299992303, 0.27616118611688273, 0.27179656229365085, 0.2619961685641344, 0.26037526822021084, 0.2600311239892198, 0.2597597076250968, 0.2589072855536914, 0.25820852302009656, 0.2575168669385915, 0.2565743317975633, 0.25653798157538144, 0.25653005958229314, 0.25548368217657447, 0.26596711349042695, 0.25362360239726756, 0.25340804252763127, 0.2523296613475705, 0.2522780277937385, 0.27463360057953307, 0.2520460990539269, 0.2515411087733477, 0.25128230587871225, 0.25128230587871225, 0.24966127187051684, 0.24956165118282891, 0.24887776497869069, 0.2483762083341597, 0.3363659281520409, 0.3688809639538855, 0.4022034226171526, 0.3266452422116366, 0.3689617522384672, 0.3367839948807897, 0.34381791642407095, 0.3803950713385664, 0.3121409067427418, 0.39416192836302605, 0.5462222297434156, 0.47185965702025945, 0.4506330639044952], \"Category\": [\"Default\", \"Default\", \"Default\", \"Default\", \"Default\", \"Default\", \"Default\", \"Default\", \"Default\", \"Default\", \"Default\", \"Default\", \"Default\", \"Default\", \"Default\", \"Default\", \"Default\", \"Default\", \"Default\", \"Default\", \"Default\", \"Default\", \"Default\", \"Default\", \"Default\", \"Default\", \"Default\", \"Default\", \"Default\", \"Default\", \"Topic1\", \"Topic1\", \"Topic1\", \"Topic1\", \"Topic1\", \"Topic1\", \"Topic1\", \"Topic1\", \"Topic1\", \"Topic1\", \"Topic1\", \"Topic1\", \"Topic1\", \"Topic1\", \"Topic1\", \"Topic1\", \"Topic1\", \"Topic1\", \"Topic1\", \"Topic1\", \"Topic1\", \"Topic1\", \"Topic1\", \"Topic1\", \"Topic1\", \"Topic1\", \"Topic1\", \"Topic1\", \"Topic1\", \"Topic1\", \"Topic2\", \"Topic2\", \"Topic2\", \"Topic2\", \"Topic2\", \"Topic2\", \"Topic2\", \"Topic2\", \"Topic2\", \"Topic2\", \"Topic2\", \"Topic2\", \"Topic2\", \"Topic2\", \"Topic2\", \"Topic2\", \"Topic2\", \"Topic2\", \"Topic2\", \"Topic2\", \"Topic2\", \"Topic2\", \"Topic2\", \"Topic2\", \"Topic2\", \"Topic2\", \"Topic2\", \"Topic2\", \"Topic2\", \"Topic2\", \"Topic2\", \"Topic2\", \"Topic2\", \"Topic2\", \"Topic2\", \"Topic2\", \"Topic2\", \"Topic2\", \"Topic2\", \"Topic2\", \"Topic2\", \"Topic2\", \"Topic2\", \"Topic2\", \"Topic2\", \"Topic2\", \"Topic2\", \"Topic2\", \"Topic3\", \"Topic3\", \"Topic3\", \"Topic3\", \"Topic3\", \"Topic3\", \"Topic3\", \"Topic3\", \"Topic3\", \"Topic3\", \"Topic3\", \"Topic3\", \"Topic3\", \"Topic3\", \"Topic3\", \"Topic3\", \"Topic3\", \"Topic3\", \"Topic3\", \"Topic3\", \"Topic3\", \"Topic3\", \"Topic3\", \"Topic3\", \"Topic3\", \"Topic3\", \"Topic3\", \"Topic3\", \"Topic3\", \"Topic3\", \"Topic3\", \"Topic3\", \"Topic3\", \"Topic3\", \"Topic3\", \"Topic3\", \"Topic3\", \"Topic3\", \"Topic3\", \"Topic3\", \"Topic3\", \"Topic3\", \"Topic3\", \"Topic3\", \"Topic3\", \"Topic3\", \"Topic3\", \"Topic3\", \"Topic4\", \"Topic4\", \"Topic4\", \"Topic4\", \"Topic4\", \"Topic4\", \"Topic4\", \"Topic4\", \"Topic4\", \"Topic4\", \"Topic4\", \"Topic4\", \"Topic4\", \"Topic4\", \"Topic4\", \"Topic4\", \"Topic4\", \"Topic4\", \"Topic4\", \"Topic4\", \"Topic4\", \"Topic4\", \"Topic4\", \"Topic4\", \"Topic4\", \"Topic4\", \"Topic4\", \"Topic4\", \"Topic4\", \"Topic4\", \"Topic4\", \"Topic4\", \"Topic4\", \"Topic4\", \"Topic4\", \"Topic4\", \"Topic4\", \"Topic4\", \"Topic4\", \"Topic4\", \"Topic4\", \"Topic4\", \"Topic5\", \"Topic5\", \"Topic5\", \"Topic5\", \"Topic5\", \"Topic5\", \"Topic5\", \"Topic5\", \"Topic5\", \"Topic5\", \"Topic5\", \"Topic5\", \"Topic5\", \"Topic5\", \"Topic5\", \"Topic5\", \"Topic5\", \"Topic5\", \"Topic5\", \"Topic5\", \"Topic5\", \"Topic5\", \"Topic5\", \"Topic5\", \"Topic5\", \"Topic5\", \"Topic5\", \"Topic5\", \"Topic5\", \"Topic5\", \"Topic5\", \"Topic5\", \"Topic5\", \"Topic5\", \"Topic5\", \"Topic5\", \"Topic5\", \"Topic5\", \"Topic5\", \"Topic5\", \"Topic5\", \"Topic5\", \"Topic5\", \"Topic5\", \"Topic6\", \"Topic6\", \"Topic6\", \"Topic6\", \"Topic6\", \"Topic6\", \"Topic6\", \"Topic6\", \"Topic6\", \"Topic6\", \"Topic6\", \"Topic6\", \"Topic6\", \"Topic6\", \"Topic6\", \"Topic6\", \"Topic6\", \"Topic6\", \"Topic6\", \"Topic6\", \"Topic6\", \"Topic6\", \"Topic6\", \"Topic6\", \"Topic6\", \"Topic6\", \"Topic6\", \"Topic6\", \"Topic6\", \"Topic6\", \"Topic6\", \"Topic6\", \"Topic6\", \"Topic6\", \"Topic6\", \"Topic6\", \"Topic6\", \"Topic6\", \"Topic6\", \"Topic6\", \"Topic6\", \"Topic7\", \"Topic7\", \"Topic7\", \"Topic7\", \"Topic7\", \"Topic7\", \"Topic7\", \"Topic7\", \"Topic7\", \"Topic7\", \"Topic7\", \"Topic7\", \"Topic7\", \"Topic7\", \"Topic7\", \"Topic7\", \"Topic7\", \"Topic7\", \"Topic7\", \"Topic7\", \"Topic7\", \"Topic7\", \"Topic7\", \"Topic7\", \"Topic7\", \"Topic7\", \"Topic7\", \"Topic7\", \"Topic7\", \"Topic7\", \"Topic7\", \"Topic7\", \"Topic7\", \"Topic7\", \"Topic7\", \"Topic7\", \"Topic7\", \"Topic7\", \"Topic7\", \"Topic7\", \"Topic7\", \"Topic7\", \"Topic7\", \"Topic7\", \"Topic7\", \"Topic8\", \"Topic8\", \"Topic8\", \"Topic8\", \"Topic8\", \"Topic8\", \"Topic8\", \"Topic8\", \"Topic8\", \"Topic8\", \"Topic8\", \"Topic8\", \"Topic8\", \"Topic8\", \"Topic8\", \"Topic8\", \"Topic8\", \"Topic8\", \"Topic8\", \"Topic8\", \"Topic8\", \"Topic8\", \"Topic8\", \"Topic8\", \"Topic8\", \"Topic8\", \"Topic8\", \"Topic8\", \"Topic8\", \"Topic8\", \"Topic8\", \"Topic8\", \"Topic8\", \"Topic8\", \"Topic8\", \"Topic8\", \"Topic8\", \"Topic8\", \"Topic8\", \"Topic8\", \"Topic8\", \"Topic8\", \"Topic9\", \"Topic9\", \"Topic9\", \"Topic9\", \"Topic9\", \"Topic9\", \"Topic9\", \"Topic9\", \"Topic9\", \"Topic9\", \"Topic9\", \"Topic9\", \"Topic9\", \"Topic9\", \"Topic9\", \"Topic9\", \"Topic9\", \"Topic9\", \"Topic9\", \"Topic9\", \"Topic9\", \"Topic9\", \"Topic9\", \"Topic9\", \"Topic9\", \"Topic9\", \"Topic9\", \"Topic9\", \"Topic9\", \"Topic9\", \"Topic9\", \"Topic9\", \"Topic9\", \"Topic9\", \"Topic9\", \"Topic9\", \"Topic9\", \"Topic9\", \"Topic9\", \"Topic9\", \"Topic9\", \"Topic9\", \"Topic9\", \"Topic9\", \"Topic9\", \"Topic10\", \"Topic10\", \"Topic10\", \"Topic10\", \"Topic10\", \"Topic10\", \"Topic10\", \"Topic10\", \"Topic10\", \"Topic10\", \"Topic10\", \"Topic10\", \"Topic10\", \"Topic10\", \"Topic10\", \"Topic10\", \"Topic10\", \"Topic10\", \"Topic10\", \"Topic10\", \"Topic10\", \"Topic10\", \"Topic10\", \"Topic10\", \"Topic10\", \"Topic10\", \"Topic10\", \"Topic10\", \"Topic10\", \"Topic10\", \"Topic10\", \"Topic10\", \"Topic10\", \"Topic10\", \"Topic10\", \"Topic10\", \"Topic10\", \"Topic10\", \"Topic10\", \"Topic10\", \"Topic10\", \"Topic10\", \"Topic10\", \"Topic10\", \"Topic10\", \"Topic11\", \"Topic11\", \"Topic11\", \"Topic11\", \"Topic11\", \"Topic11\", \"Topic11\", \"Topic11\", \"Topic11\", \"Topic11\", \"Topic11\", \"Topic11\", \"Topic11\", \"Topic11\", \"Topic11\", \"Topic11\", \"Topic11\", \"Topic11\", \"Topic11\", \"Topic11\", \"Topic11\", \"Topic11\", \"Topic11\", \"Topic11\", \"Topic11\", \"Topic11\", \"Topic11\", \"Topic11\", \"Topic11\", \"Topic11\", \"Topic11\", \"Topic11\", \"Topic11\", \"Topic11\", \"Topic11\", \"Topic11\", \"Topic11\", \"Topic11\", \"Topic11\", \"Topic11\", \"Topic11\", \"Topic11\", \"Topic11\", \"Topic12\", \"Topic12\", \"Topic12\", \"Topic12\", \"Topic12\", \"Topic12\", \"Topic12\", \"Topic12\", \"Topic12\", \"Topic12\", \"Topic12\", \"Topic12\", \"Topic12\", \"Topic12\", \"Topic12\", \"Topic12\", \"Topic12\", \"Topic12\", \"Topic12\", \"Topic12\", \"Topic12\", \"Topic12\", \"Topic12\", \"Topic12\", \"Topic12\", \"Topic12\", \"Topic12\", \"Topic12\", \"Topic12\", \"Topic12\", \"Topic12\", \"Topic12\", \"Topic12\", \"Topic12\", \"Topic12\", \"Topic12\", \"Topic12\", \"Topic12\", \"Topic13\", \"Topic13\", \"Topic13\", \"Topic13\", \"Topic13\", \"Topic13\", \"Topic13\", \"Topic13\", \"Topic13\", \"Topic13\", \"Topic13\", \"Topic13\", \"Topic13\", \"Topic13\", \"Topic13\", \"Topic13\", \"Topic13\", \"Topic13\", \"Topic13\", \"Topic13\", \"Topic13\", \"Topic13\", \"Topic13\", \"Topic13\", \"Topic13\", \"Topic13\", \"Topic13\", \"Topic13\", \"Topic13\", \"Topic13\", \"Topic13\", \"Topic13\", \"Topic13\", \"Topic13\", \"Topic13\", \"Topic13\", \"Topic13\", \"Topic13\", \"Topic13\", \"Topic13\", \"Topic13\", \"Topic13\", \"Topic13\", \"Topic14\", \"Topic14\", \"Topic14\", \"Topic14\", \"Topic14\", \"Topic14\", \"Topic14\", \"Topic14\", \"Topic14\", \"Topic14\", \"Topic14\", \"Topic14\", \"Topic14\", \"Topic14\", \"Topic14\", \"Topic14\", \"Topic14\", \"Topic14\", \"Topic14\", \"Topic14\", \"Topic14\", \"Topic14\", \"Topic14\", \"Topic14\", \"Topic14\", \"Topic14\", \"Topic14\", \"Topic14\", \"Topic14\", \"Topic14\", \"Topic14\", \"Topic14\", \"Topic14\", \"Topic14\", \"Topic14\", \"Topic14\", \"Topic14\", \"Topic14\", \"Topic14\", \"Topic14\", \"Topic14\", \"Topic14\", \"Topic14\", \"Topic14\", \"Topic14\", \"Topic14\", \"Topic15\", \"Topic15\", \"Topic15\", \"Topic15\", \"Topic15\", \"Topic15\", \"Topic15\", \"Topic15\", \"Topic15\", \"Topic15\", \"Topic15\", \"Topic15\", \"Topic15\", \"Topic15\", \"Topic15\", \"Topic15\", \"Topic15\", \"Topic15\", \"Topic15\", \"Topic15\", \"Topic15\", \"Topic15\", \"Topic15\", \"Topic15\", \"Topic15\", \"Topic15\", \"Topic15\", \"Topic15\", \"Topic15\", \"Topic15\", \"Topic15\", \"Topic15\", \"Topic15\", \"Topic15\", \"Topic15\", \"Topic15\", \"Topic15\", \"Topic15\", \"Topic15\", \"Topic15\", \"Topic15\", \"Topic15\"], \"logprob\": [30.0, 29.0, 28.0, 27.0, 26.0, 25.0, 24.0, 23.0, 22.0, 21.0, 20.0, 19.0, 18.0, 17.0, 16.0, 15.0, 14.0, 13.0, 12.0, 11.0, 10.0, 9.0, 8.0, 7.0, 6.0, 5.0, 4.0, 3.0, 2.0, 1.0, -6.2105, -6.4903, -6.5117, -6.5202, -6.5721, -6.6739, -6.6799, -6.6981, -6.7188, -6.7219, -6.7245, -6.7591, -6.7592, -6.7607, -6.7622, -6.7826, -6.784, -6.7861, -6.7878, -6.7943, -6.797, -6.7989, -6.8029, -6.8226, -6.8526, -6.8591, -6.8606, -6.8616, -6.8657, -6.9017, -6.5151, -7.0782, -7.3985, -7.3631, -7.0232, -7.5994, -7.6123, -7.518, -7.6919, -7.7181, -7.5736, -7.8059, -7.5926, -7.2599, -7.2728, -7.6965, -7.6465, -7.7884, -7.7928, -7.3542, -7.6069, -7.7429, -7.7996, -7.2993, -7.5125, -7.7741, -7.7, -7.1898, -6.846, -7.9089, -7.595, -7.3759, -7.4034, -7.2873, -7.5176, -7.3814, -7.4702, -7.1715, -7.3456, -7.1182, -7.5552, -7.2423, -7.3508, -7.3112, -7.4606, -7.3347, -7.4779, -7.5206, -6.7935, -7.7033, -7.636, -7.8427, -7.9557, -7.9575, -7.6404, -7.6437, -7.8898, -7.7596, -7.9184, -7.6864, -7.8441, -7.389, -7.8692, -7.9365, -7.4945, -8.1368, -8.0126, -7.4384, -7.8957, -7.7392, -8.1848, -8.1299, -7.7079, -7.854, -8.1178, -7.7522, -8.2013, -8.0326, -7.7287, -7.8859, -7.6523, -7.6586, -7.5615, -7.6527, -7.7161, -7.756, -7.4678, -7.5419, -7.6146, -7.7445, -7.7479, -7.6819, -7.712, -7.7387, -7.5976, -7.7148, -7.4926, -7.4908, -7.7074, -7.7736, -7.7285, -8.0295, -7.795, -8.0161, -7.998, -7.9043, -8.2325, -7.4987, -7.8763, -8.3176, -8.3307, -8.1755, -7.8971, -7.3742, -8.0494, -8.3968, -7.8503, -8.4682, -8.0271, -8.2805, -8.4516, -8.5002, -8.4549, -8.5185, -8.559, -8.5855, -7.8825, -7.6811, -7.7915, -7.8329, -8.1273, -8.2004, -8.0094, -7.7456, -8.0496, -8.1637, -8.1425, -8.1755, -7.4314, -7.5289, -8.0046, -8.2584, -8.2378, -7.6588, -8.2861, -8.4444, -8.4618, -8.3337, -8.5117, -8.2309, -8.3848, -8.1335, -8.5846, -8.6279, -8.4039, -8.5896, -8.6343, -8.6705, -8.6757, -8.6824, -8.6227, -8.7134, -8.5136, -8.4479, -8.7391, -8.7465, -8.1671, -8.7666, -8.5292, -8.6172, -8.5857, -8.4017, -8.2058, -8.4213, -8.1721, -8.1129, -8.3844, -8.1756, -8.3725, -8.4388, -8.3909, -8.4694, -8.2167, -8.3376, -8.3394, -8.4616, -8.505, -8.6001, -8.6227, -8.639, -8.5549, -8.4989, -8.6747, -8.6795, -8.6847, -8.6925, -8.6678, -8.6719, -8.724, -8.7352, -8.7449, -8.745, -8.2891, -8.7622, -8.2786, -8.2436, -8.6703, -8.8106, -8.6464, -8.8191, -8.8261, -8.6168, -8.1182, -8.4351, -8.3591, -8.555, -8.4004, -8.4677, -8.5846, -8.5073, -8.5352, -8.5265, -8.6227, -8.2016, -8.4089, -8.4276, -8.4733, -8.4033, -8.2803, -8.6988, -8.7109, -8.7474, -8.7648, -8.7648, -8.4366, -8.745, -8.7753, -8.6975, -8.7787, -8.4558, -8.3147, -8.8086, -8.5952, -8.8316, -8.4599, -8.787, -8.8551, -8.6342, -8.8712, -8.8942, -8.8988, -8.8049, -8.9092, -8.2931, -8.5981, -8.694, -8.476, -8.6167, -8.6228, -8.559, -8.6701, -8.188, -8.6203, -8.6461, -8.7149, -8.6962, -8.6612, -8.689, -8.1129, -7.9756, -8.1447, -8.3537, -8.1741, -8.4776, -8.0047, -8.0899, -8.6229, -8.6379, -8.6478, -8.6654, -8.6772, -8.6896, -8.7066, -8.7148, -8.73, -8.7333, -8.7369, -8.7461, -8.4471, -8.7597, -8.5535, -8.7737, -8.7956, -8.7964, -8.8038, -8.8199, -8.6575, -8.8588, -8.3157, -8.5102, -8.1969, -8.6461, -8.3278, -8.3703, -8.6107, -8.5356, -8.6903, -8.5959, -8.6817, -8.5884, -8.4794, -8.6238, -8.469, -8.6363, -8.7046, -8.7154, -8.7236, -8.7366, -8.7628, -8.5712, -8.6889, -8.7968, -8.8093, -8.8135, -8.4883, -8.8227, -8.8227, -8.7604, -8.7823, -8.85, -8.8534, -8.8534, -8.8646, -8.855, -8.8226, -8.8771, -8.8802, -8.8811, -8.8665, -8.6853, -8.5345, -8.7748, -8.5322, -8.7858, -8.6561, -8.6681, -8.7519, -8.6282, -8.6339, -8.6911, -8.6989, -8.7873, -8.768, -8.7957, -8.7861, -8.3248, -8.3489, -8.4751, -8.3972, -8.5333, -8.5729, -8.4924, -8.6964, -8.7382, -8.74, -8.6619, -8.5748, -8.7738, -8.789, -8.8051, -8.8088, -8.8508, -8.8534, -8.8539, -8.6643, -8.8734, -8.8326, -8.8392, -8.8912, -8.8989, -8.8605, -8.7745, -8.9068, -8.9116, -8.9301, -8.1888, -8.2433, -8.7436, -8.7193, -8.451, -8.6751, -8.565, -8.7697, -8.7914, -8.8019, -8.7736, -8.5337, -8.704, -8.7394, -8.8009, -8.3659, -8.3805, -8.4577, -8.6801, -8.6819, -8.6653, -8.7446, -8.8188, -8.724, -8.8618, -8.8665, -8.8833, -8.7106, -8.8871, -8.6868, -8.8977, -8.8731, -8.9091, -8.791, -8.8032, -8.9289, -8.9301, -8.4392, -8.9091, -8.899, -8.8885, -8.9577, -8.8352, -8.9743, -8.6977, -8.5171, -8.7719, -8.8262, -8.8118, -8.7545, -8.7912, -8.861, -8.7967, -8.776, -8.6458, -8.8552, -8.7609, -8.8482, -7.4348, -7.9757, -7.485, -8.5142, -8.5638, -8.5818, -8.1925, -8.5871, -8.3734, -8.6467, -8.6961, -8.7081, -8.7081, -8.7247, -8.7247, -8.7029, -8.7494, -8.766, -8.7664, -8.7558, -8.7687, -8.8307, -8.833, -8.7449, -8.8106, -8.8456, -8.8876, -8.6068, -8.8998, -8.9065, -8.8275, -8.5391, -8.577, -8.2911, -8.6948, -8.7209, -8.5911, -8.7456, -8.2519, -8.6234, -8.5411, -8.604, -8.6969, -8.7059, -8.7059, -8.7206, -8.7275, -8.7279, -8.5767, -8.5157, -8.8034, -8.7276, -8.8635, -8.8655, -8.8824, -8.8858, -8.7133, -8.8905, -8.7463, -8.9008, -8.9078, -8.9099, -8.9099, -8.9107, -8.9127, -8.3082, -8.5885, -8.6404, -8.6018, -8.3387, -8.1745, -8.8482, -8.7395, -8.6899, -8.3458, -8.684, -8.8368, -8.6302, -8.8448, -8.7814, -8.8425, -8.1576, -8.3715, -8.6033, -8.6832, -8.6958, -8.3706, -8.6721, -8.7167, -8.6367, -8.7911, -8.8228, -8.8701, -8.897, -8.8981, -8.9026, -8.8223, -8.6302, -8.9596, -8.9719, -8.8062, -8.9838, -8.7573, -8.7884, -8.8538, -9.0002, -9.0185, -8.7489, -9.0539, -9.056, -9.0579, -8.7323, -9.0161, -8.8763, -8.8346, -8.5058, -8.666, -8.5433, -8.8322, -8.7577, -8.8076, -8.7538, -8.8129, -8.6331, -8.7804, -8.8088, -8.8115, -8.3263, -8.5865, -8.6123, -8.6502, -8.6898, -8.7216, -8.7285, -8.734, -8.7514, -8.7659, -8.7804, -8.8005, -8.8014, -8.8016, -8.8244, -8.7987, -8.8664, -8.8714, -8.8967, -8.8979, -8.8134, -8.9035, -8.9156, -8.9219, -8.9219, -8.9622, -8.9648, -8.9823, -8.9954, -8.7041, -8.6857, -8.6206, -8.7823, -8.7302, -8.7849, -8.7879, -8.7945, -8.8586, -8.8181, -8.7634, -8.8121, -8.8576], \"loglift\": [30.0, 29.0, 28.0, 27.0, 26.0, 25.0, 24.0, 23.0, 22.0, 21.0, 20.0, 19.0, 18.0, 17.0, 16.0, 15.0, 14.0, 13.0, 12.0, 11.0, 10.0, 9.0, 8.0, 7.0, 6.0, 5.0, 4.0, 3.0, 2.0, 1.0, 0.301, 0.2997, 0.2996, 0.2996, 0.2993, 0.2987, 0.2986, 0.2985, 0.2984, 0.2984, 0.2984, 0.2981, 0.2981, 0.2981, 0.2981, 0.298, 0.298, 0.2979, 0.2979, 0.2979, 0.2979, 0.2978, 0.2978, 0.2977, 0.2975, 0.2974, 0.2974, 0.2974, 0.2974, 0.2971, 2.963, 2.9313, 2.8865, 2.8829, 2.8661, 2.8459, 2.8431, 2.8297, 2.8226, 2.8044, 2.8009, 2.7919, 2.7918, 2.7855, 2.7805, 2.7804, 2.7793, 2.7787, 2.7783, 2.7778, 2.775, 2.7737, 2.7721, 2.7718, 2.7695, 2.7689, 2.768, 2.7675, 2.7651, 2.7605, 2.7564, 2.7419, 2.7422, 2.7141, 2.7394, 2.7184, 2.7216, 2.6306, 2.6688, 2.4992, 2.7234, 2.5291, 2.5874, 2.5105, 2.6356, 2.4487, 2.3876, 2.4314, 2.9195, 2.9087, 2.8703, 2.8391, 2.831, 2.8305, 2.8192, 2.8082, 2.8026, 2.7979, 2.7977, 2.7962, 2.7865, 2.7742, 2.7729, 2.7697, 2.7667, 2.7639, 2.7604, 2.76, 2.7595, 2.7543, 2.7455, 2.7454, 2.7448, 2.7445, 2.7402, 2.7398, 2.7379, 2.7312, 2.7302, 2.7295, 2.7138, 2.7005, 2.6828, 2.6755, 2.6229, 2.6388, 2.4036, 2.4523, 2.5032, 2.5963, 2.5699, 2.4675, 2.5076, 2.4965, 2.1738, 2.0687, 3.353, 3.2679, 3.191, 3.1768, 3.1196, 3.084, 3.0491, 3.0463, 3.0281, 3.0092, 3.0036, 2.9974, 2.9814, 2.9547, 2.947, 2.9422, 2.93, 2.9276, 2.9149, 2.9077, 2.883, 2.8639, 2.8582, 2.8453, 2.844, 2.8439, 2.8339, 2.8324, 2.8066, 2.7895, 2.7539, 2.5806, 2.5878, 2.5079, 2.6135, 2.6375, 2.4395, 1.9674, 2.2329, 2.4004, 1.4749, 1.4356, 3.2622, 3.2244, 3.0988, 3.0185, 3.0096, 3.0016, 2.9946, 2.9375, 2.926, 2.8994, 2.8675, 2.8563, 2.8531, 2.8467, 2.8431, 2.8131, 2.8031, 2.7907, 2.787, 2.7831, 2.7795, 2.7747, 2.7702, 2.7526, 2.7514, 2.737, 2.7341, 2.7288, 2.7236, 2.7143, 2.7086, 2.7, 2.6702, 2.5874, 2.4669, 2.5762, 2.392, 2.336, 2.4593, 2.1459, 2.4166, 2.2946, 2.1052, 2.2975, 3.0455, 3.0359, 3.0347, 2.9529, 2.8925, 2.8564, 2.8402, 2.8285, 2.817, 2.8121, 2.8027, 2.7992, 2.7954, 2.7897, 2.7839, 2.7736, 2.7666, 2.7584, 2.7512, 2.7511, 2.7474, 2.7383, 2.7226, 2.7214, 2.7162, 2.7021, 2.6973, 2.6957, 2.6904, 2.6718, 2.6539, 2.5785, 2.5377, 2.5739, 2.4187, 2.4772, 2.5876, 2.0674, 2.1071, 1.9655, 2.371, 3.133, 2.9974, 2.9846, 2.9316, 2.8987, 2.811, 2.792, 2.7831, 2.756, 2.7429, 2.7429, 2.7405, 2.7395, 2.735, 2.7328, 2.7325, 2.7212, 2.7186, 2.7099, 2.707, 2.6924, 2.6915, 2.6826, 2.6744, 2.6686, 2.6621, 2.6443, 2.6408, 2.6347, 2.6327, 2.6093, 2.5836, 2.6006, 2.5435, 2.5291, 2.5269, 2.429, 2.5077, 1.6141, 2.337, 2.3992, 2.5019, 2.3847, 2.0253, 1.8254, 3.1861, 3.0753, 3.0646, 2.9951, 2.9722, 2.964, 2.9577, 2.872, 2.8595, 2.8485, 2.8412, 2.8282, 2.8195, 2.8102, 2.7976, 2.7914, 2.78, 2.7775, 2.7748, 2.7678, 2.7595, 2.7575, 2.7528, 2.7468, 2.7301, 2.7295, 2.7239, 2.7115, 2.6923, 2.6814, 2.6103, 2.6085, 2.4896, 2.5916, 2.1402, 2.0126, 2.4553, 2.0392, 2.5108, 1.9077, 2.3904, 1.5049, 2.9147, 2.8759, 2.8718, 2.8367, 2.8148, 2.8066, 2.8003, 2.7904, 2.7701, 2.7627, 2.7581, 2.7437, 2.734, 2.7308, 2.7238, 2.7235, 2.7235, 2.71, 2.7026, 2.7021, 2.6994, 2.6994, 2.6906, 2.6833, 2.6823, 2.6807, 2.6782, 2.6775, 2.6668, 2.6658, 2.5455, 2.6196, 2.3864, 2.5912, 2.4552, 2.3964, 2.5113, 2.2334, 2.1375, 2.1177, 2.1407, 2.4813, 2.3336, 2.3551, 1.5843, 3.0917, 3.0547, 2.986, 2.9584, 2.9438, 2.9147, 2.8985, 2.822, 2.79, 2.7886, 2.7834, 2.764, 2.7625, 2.7506, 2.7381, 2.7352, 2.7022, 2.7002, 2.6998, 2.6867, 2.6844, 2.6775, 2.6762, 2.6702, 2.6641, 2.66, 2.6599, 2.6578, 2.654, 2.6392, 2.6335, 2.5721, 2.6206, 2.6063, 2.4342, 2.5305, 2.4143, 2.5724, 2.598, 2.605, 2.5355, 1.9182, 1.9564, 2.1222, 2.4087, 3.064, 3.0538, 2.9991, 2.8349, 2.8334, 2.8144, 2.7854, 2.7278, 2.7121, 2.6939, 2.6902, 2.6769, 2.6741, 2.6739, 2.6673, 2.6654, 2.6592, 2.6563, 2.6526, 2.6503, 2.6405, 2.6395, 2.6378, 2.636, 2.6339, 2.6261, 2.6173, 2.6131, 2.6038, 2.5632, 2.5113, 2.5464, 2.5607, 2.4786, 2.3891, 2.4253, 2.5369, 2.2987, 2.2132, 1.6316, 2.5078, 1.8789, 2.3277, 3.1507, 3.1493, 3.0186, 2.9654, 2.9287, 2.9153, 2.9043, 2.8899, 2.8673, 2.8664, 2.8287, 2.8195, 2.8195, 2.8067, 2.8067, 2.804, 2.7875, 2.7746, 2.7743, 2.739, 2.7254, 2.7238, 2.7219, 2.7047, 2.6983, 2.6922, 2.6785, 2.6781, 2.6687, 2.6634, 2.6518, 2.4588, 2.4147, 2.0774, 2.4779, 2.2788, 1.6073, 2.2276, 3.1575, 2.8889, 2.8533, 2.8328, 2.8327, 2.8257, 2.8257, 2.8143, 2.809, 2.8086, 2.7739, 2.7454, 2.7213, 2.7052, 2.7016, 2.7, 2.6865, 2.6838, 2.6801, 2.68, 2.6723, 2.6716, 2.666, 2.6643, 2.6643, 2.6637, 2.662, 2.6603, 2.6556, 2.6549, 2.6097, 2.4767, 2.4031, 2.6425, 2.6003, 2.3544, 1.5257, 2.1576, 2.5531, 1.6377, 2.5719, 0.4294, 2.1582, 3.2531, 3.0608, 2.9263, 2.8638, 2.8538, 2.8489, 2.8387, 2.8373, 2.7969, 2.7778, 2.7521, 2.7136, 2.6915, 2.6906, 2.6869, 2.6862, 2.6403, 2.6398, 2.6295, 2.6275, 2.6196, 2.6184, 2.6138, 2.6122, 2.6059, 2.5905, 2.5649, 2.5608, 2.559, 2.5574, 2.5426, 2.5543, 2.5235, 2.5091, 2.3233, 2.3667, 2.2457, 2.4443, 2.3018, 2.3436, 2.1297, 2.3517, 1.3314, 2.1048, 2.1554, 1.9053, 2.969, 2.9104, 2.8968, 2.8749, 2.872, 2.8464, 2.8408, 2.8364, 2.8223, 2.8105, 2.7987, 2.7822, 2.7815, 2.7814, 2.7626, 2.748, 2.7279, 2.7238, 2.7027, 2.7017, 2.7013, 2.6971, 2.6869, 2.6817, 2.6817, 2.6478, 2.6457, 2.6309, 2.6198, 2.6079, 2.534, 2.5126, 2.559, 2.4892, 2.5258, 2.5021, 2.3945, 2.5281, 2.3353, 2.0637, 2.1614, 2.1619]}, \"token.table\": {\"Topic\": [2, 3, 3, 1, 1, 3, 1, 1, 2, 1, 2, 3, 2, 1, 1, 1, 3, 3, 1, 1, 3, 1, 2, 1, 2, 2, 1, 2, 2, 2, 1, 1, 2, 2, 2, 2, 1, 1, 3, 2, 2, 2, 2, 2, 2, 2, 2, 1, 3, 2, 2, 3, 3, 1, 1, 2, 3, 2, 2, 3, 1, 1, 2, 1, 2, 2, 2, 2, 2, 2, 1, 3, 2, 2, 1, 1, 2, 2, 1, 2, 1, 1, 2, 1, 1, 2, 2, 2, 2, 2, 1, 1, 2, 2, 1, 2], \"Freq\": [0.9500662768831479, 1.022155882717288, 0.9424736830574488, 0.9987822853163472, 0.9890067522731982, 0.7039932835678282, 1.0099217153541293, 0.9930907629320587, 0.7671704205703145, 0.9277634627889907, 1.175826963095246, 1.328309269573047, 0.8846191440609232, 0.9753563275643107, 1.013086008532677, 0.9985582358601075, 1.1545912029411294, 0.7959440852330342, 0.9725383065843541, 0.9802951371657518, 0.9762714810911067, 0.6991644408568218, 0.9135500226879248, 1.013920974827893, 1.2897078275938185, 1.2784697434758812, 1.0129233780657736, 0.8444517044588176, 0.5460783036946792, 1.4116053995164044, 0.9737324751553771, 0.9725098730683366, 0.6698513515029614, 0.812207699244285, 0.8377712066143573, 1.0465964883766188, 1.0565108787640305, 1.0026776864385762, 1.0395327412050688, 0.7630733974230626, 1.023906979081507, 0.8595298980082962, 1.2255521345405602, 1.0614419223094225, 0.9006824942134604, 1.249683226767609, 0.6692799619094353, 0.9788556771688134, 1.111617304771834, 0.6568345020054599, 1.3419893085411339, 0.6008385996795954, 1.2676927293466356, 1.0082913933964588, 0.9950690046562611, 1.1728080282051738, 0.9006503463460294, 0.969808717611796, 0.636990386460762, 0.636990386460762, 1.001644140189252, 0.9761995163000393, 0.8070591792980393, 0.9852933356816841, 0.752589034644465, 0.542644280979899, 1.1376599278265758, 1.164349070699946, 1.1334699446736578, 1.0352586594302693, 0.9812543083167881, 1.257979306763106, 1.0645628462739636, 0.8814440212552191, 1.0080025662460763, 0.9723415866383114, 0.9260338927563029, 0.8017458090010848, 0.9971502836226119, 0.8788662876621616, 0.7273116322887514, 0.9731648870309223, 1.0577423009160132, 1.005290089362262, 0.9936247298662259, 1.3779666641473804, 0.6998726563406272, 1.349928073105555, 1.3392875484669304, 0.8082398059640931, 0.9813853627433222, 0.990167723119652, 1.262472538181133, 0.7166965723502573, 0.9787020068514657, 0.6447324353953202], \"Term\": [\"acquia\", \"angular\", \"arguments\", \"based\", \"better\", \"bigquery\", \"build\", \"business\", \"caching\", \"chatbot\", \"chats\", \"checklist\", \"clicks\", \"cloud\", \"companies\", \"company\", \"constraint\", \"constraints\", \"create\", \"customers\", \"debate\", \"delete\", \"delivers\", \"developers\", \"dialogue\", \"diane\", \"different\", \"dropbox\", \"dynamic\", \"editorial\", \"example\", \"experience\", \"experienced\", \"expose\", \"exposed\", \"favor\", \"fiber\", \"google\", \"graphs\", \"greatly\", \"greene\", \"hangouts\", \"headers\", \"hoping\", \"hosts\", \"https\", \"indicate\", \"information\", \"jquery\", \"keyboard\", \"lately\", \"layout\", \"layouts\", \"learning\", \"machine\", \"mentions\", \"micro\", \"modified\", \"optimization\", \"optimization\", \"people\", \"platform\", \"possibly\", \"product\", \"proprietary\", \"protocol\", \"protocols\", \"psychology\", \"replies\", \"requested\", \"right\", \"safari\", \"schema\", \"screens\", \"service\", \"services\", \"skype\", \"snapchat\", \"software\", \"speaker\", \"techcrunch\", \"technology\", \"telegram\", \"things\", \"today\", \"tolerance\", \"traditionally\", \"translations\", \"trips\", \"ubuntu\", \"users\", \"using\", \"vmware\", \"whatsapp\", \"world\", \"worry\"]}, \"R\": 30, \"lambda.step\": 0.01, \"plot.opts\": {\"xlab\": \"PC1\", \"ylab\": \"PC2\"}, \"topic.order\": [12, 8, 5, 2, 3, 9, 10, 11, 1, 6, 13, 15, 7, 4, 14]};\n",
       "\n",
       "function LDAvis_load_lib(url, callback){\n",
       "  var s = document.createElement('script');\n",
       "  s.src = url;\n",
       "  s.async = true;\n",
       "  s.onreadystatechange = s.onload = callback;\n",
       "  s.onerror = function(){console.warn(\"failed to load library \" + url);};\n",
       "  document.getElementsByTagName(\"head\")[0].appendChild(s);\n",
       "}\n",
       "\n",
       "if(typeof(LDAvis) !== \"undefined\"){\n",
       "   // already loaded: just create the visualization\n",
       "   !function(LDAvis){\n",
       "       new LDAvis(\"#\" + \"ldavis_el800571404140572827684667001540\", ldavis_el800571404140572827684667001540_data);\n",
       "   }(LDAvis);\n",
       "}else if(typeof define === \"function\" && define.amd){\n",
       "   // require.js is available: use it to load d3/LDAvis\n",
       "   require.config({paths: {d3: \"https://cdnjs.cloudflare.com/ajax/libs/d3/3.5.5/d3.min\"}});\n",
       "   require([\"d3\"], function(d3){\n",
       "      window.d3 = d3;\n",
       "      LDAvis_load_lib(\"https://cdn.rawgit.com/bmabey/pyLDAvis/files/ldavis.v1.0.0.js\", function(){\n",
       "        new LDAvis(\"#\" + \"ldavis_el800571404140572827684667001540\", ldavis_el800571404140572827684667001540_data);\n",
       "      });\n",
       "    });\n",
       "}else{\n",
       "    // require.js not available: dynamically load d3 & LDAvis\n",
       "    LDAvis_load_lib(\"https://cdnjs.cloudflare.com/ajax/libs/d3/3.5.5/d3.min.js\", function(){\n",
       "         LDAvis_load_lib(\"https://cdn.rawgit.com/bmabey/pyLDAvis/files/ldavis.v1.0.0.js\", function(){\n",
       "                 new LDAvis(\"#\" + \"ldavis_el800571404140572827684667001540\", ldavis_el800571404140572827684667001540_data);\n",
       "            })\n",
       "         });\n",
       "}\n",
       "</script>"
      ],
      "text/plain": [
       "PreparedData(topic_coordinates=              x         y  topics  cluster       Freq\n",
       "topic                                                \n",
       "11     0.323602  0.003820       1        1  73.713030\n",
       "7     -0.052688  0.061933       2        1   4.385899\n",
       "4     -0.047838 -0.024758       3        1   3.848177\n",
       "1     -0.028561 -0.005556       4        1   2.162808\n",
       "2     -0.023090 -0.007266       5        1   1.812133\n",
       "8     -0.020890 -0.004497       6        1   1.656522\n",
       "9     -0.020051 -0.004711       7        1   1.608608\n",
       "10    -0.018986 -0.004252       8        1   1.529938\n",
       "0     -0.017311 -0.003303       9        1   1.421312\n",
       "5     -0.017154 -0.002765      10        1   1.415194\n",
       "12    -0.017143 -0.002897      11        1   1.412310\n",
       "14    -0.016569 -0.002712      12        1   1.371388\n",
       "6     -0.016289 -0.002226      13        1   1.340625\n",
       "3     -0.014161 -0.000821      14        1   1.204943\n",
       "13    -0.012870  0.000009      15        1   1.117115, topic_info=             Term      Freq     Total Category  logprob  loglift\n",
       "276        acquia  2.000000  2.000000  Default  30.0000  30.0000\n",
       "18313      layout  1.000000  1.000000  Default  29.0000  29.0000\n",
       "25575    protocol  1.000000  1.000000  Default  28.0000  28.0000\n",
       "10026     dynamic  1.000000  1.000000  Default  27.0000  27.0000\n",
       "32599  techcrunch  2.000000  2.000000  Default  26.0000  26.0000\n",
       "...           ...       ...       ...      ...      ...      ...\n",
       "29634    sidewalk  0.043689  0.312141  Topic15  -8.8586   2.5281\n",
       "11408  expiration  0.045495  0.394162  Topic15  -8.8181   2.3353\n",
       "24531     pokemon  0.048053  0.546222  Topic15  -8.7634   2.0637\n",
       "33550      trades  0.045769  0.471860  Topic15  -8.8121   2.1614\n",
       "16920     invites  0.043734  0.450633  Topic15  -8.8576   2.1619\n",
       "\n",
       "[672 rows x 6 columns], token_table=       Topic      Freq       Term\n",
       "term                             \n",
       "276        2  0.950066     acquia\n",
       "1228       3  1.022156    angular\n",
       "1655       3  0.942474  arguments\n",
       "2670       1  0.998782      based\n",
       "3033       1  0.989007     better\n",
       "...      ...       ...        ...\n",
       "35037      1  0.990168      using\n",
       "35590      2  1.262473     vmware\n",
       "36119      2  0.716697   whatsapp\n",
       "36506      1  0.978702      world\n",
       "36520      2  0.644732      worry\n",
       "\n",
       "[96 rows x 3 columns], R=30, lambda_step=0.01, plot_opts={'xlab': 'PC1', 'ylab': 'PC2'}, topic_order=[12, 8, 5, 2, 3, 9, 10, 11, 1, 6, 13, 15, 7, 4, 14])"
      ]
     },
     "execution_count": 55,
     "metadata": {},
     "output_type": "execute_result"
    }
   ],
   "source": [
    "pyLDAvis.sklearn.prepare(lda_tf_idf, dtm_tf_idf, tf_idf_vectorizer)"
   ]
  },
  {
   "cell_type": "markdown",
   "metadata": {},
   "source": [
    "#### Using different MDS functions\n",
    "\n",
    "With `sklearn` installed, other MDS functions, such as MMDS and TSNE can be used for plotting if the default PCoA is not satisfactory."
   ]
  },
  {
   "cell_type": "code",
   "execution_count": 56,
   "metadata": {
    "ExecuteTime": {
     "end_time": "2021-12-03T06:23:40.606105Z",
     "start_time": "2021-12-03T06:23:40.603961Z"
    }
   },
   "outputs": [],
   "source": [
    "# pyLDAvis.sklearn.prepare(lda_tf_idf, dtm_tf_idf, tf_idf_vectorizer, mds='mmds')"
   ]
  },
  {
   "cell_type": "code",
   "execution_count": 57,
   "metadata": {
    "ExecuteTime": {
     "end_time": "2021-12-03T06:23:40.610175Z",
     "start_time": "2021-12-03T06:23:40.607666Z"
    }
   },
   "outputs": [
    {
     "name": "stderr",
     "output_type": "stream",
     "text": [
      "/Users/ravi/Personal_Projects/recommender_system/rec_sys_env/lib/python3.7/site-packages/past/builtins/misc.py:45: DeprecationWarning: the imp module is deprecated in favour of importlib; see the module's documentation for alternative uses\n",
      "  from imp import reload\n",
      "/Users/ravi/Personal_Projects/recommender_system/rec_sys_env/lib/python3.7/site-packages/past/builtins/misc.py:45: DeprecationWarning: the imp module is deprecated in favour of importlib; see the module's documentation for alternative uses\n",
      "  from imp import reload\n",
      "/Users/ravi/Personal_Projects/recommender_system/rec_sys_env/lib/python3.7/site-packages/past/builtins/misc.py:45: DeprecationWarning: the imp module is deprecated in favour of importlib; see the module's documentation for alternative uses\n",
      "  from imp import reload\n",
      "/Users/ravi/Personal_Projects/recommender_system/rec_sys_env/lib/python3.7/site-packages/past/builtins/misc.py:45: DeprecationWarning: the imp module is deprecated in favour of importlib; see the module's documentation for alternative uses\n",
      "  from imp import reload\n",
      "/Users/ravi/Personal_Projects/recommender_system/rec_sys_env/lib/python3.7/site-packages/past/builtins/misc.py:45: DeprecationWarning: the imp module is deprecated in favour of importlib; see the module's documentation for alternative uses\n",
      "  from imp import reload\n",
      "/Users/ravi/Personal_Projects/recommender_system/rec_sys_env/lib/python3.7/site-packages/past/builtins/misc.py:45: DeprecationWarning: the imp module is deprecated in favour of importlib; see the module's documentation for alternative uses\n",
      "  from imp import reload\n",
      "/Users/ravi/Personal_Projects/recommender_system/rec_sys_env/lib/python3.7/site-packages/past/builtins/misc.py:45: DeprecationWarning: the imp module is deprecated in favour of importlib; see the module's documentation for alternative uses\n",
      "  from imp import reload\n",
      "/Users/ravi/Personal_Projects/recommender_system/rec_sys_env/lib/python3.7/site-packages/past/builtins/misc.py:45: DeprecationWarning: the imp module is deprecated in favour of importlib; see the module's documentation for alternative uses\n",
      "  from imp import reload\n",
      "/Users/ravi/Personal_Projects/recommender_system/rec_sys_env/lib/python3.7/site-packages/past/builtins/misc.py:45: DeprecationWarning: the imp module is deprecated in favour of importlib; see the module's documentation for alternative uses\n",
      "  from imp import reload\n",
      "/Users/ravi/Personal_Projects/recommender_system/rec_sys_env/lib/python3.7/site-packages/past/builtins/misc.py:45: DeprecationWarning: the imp module is deprecated in favour of importlib; see the module's documentation for alternative uses\n",
      "  from imp import reload\n",
      "/Users/ravi/Personal_Projects/recommender_system/rec_sys_env/lib/python3.7/site-packages/past/builtins/misc.py:45: DeprecationWarning: the imp module is deprecated in favour of importlib; see the module's documentation for alternative uses\n",
      "  from imp import reload\n"
     ]
    }
   ],
   "source": [
    "# pyLDAvis.sklearn.prepare(lda_tf_idf, dtm_tf_idf, tf_idf_vectorizer, mds='tsne')"
   ]
  }
 ],
 "metadata": {
  "kernelspec": {
   "display_name": "Python 3 (ipykernel)",
   "language": "python",
   "name": "python3"
  },
  "language_info": {
   "codemirror_mode": {
    "name": "ipython",
    "version": 3
   },
   "file_extension": ".py",
   "mimetype": "text/x-python",
   "name": "python",
   "nbconvert_exporter": "python",
   "pygments_lexer": "ipython3",
   "version": "3.7.4"
  },
  "toc": {
   "base_numbering": 1,
   "nav_menu": {},
   "number_sections": true,
   "sideBar": true,
   "skip_h1_title": false,
   "title_cell": "Table of Contents",
   "title_sidebar": "Contents",
   "toc_cell": false,
   "toc_position": {},
   "toc_section_display": true,
   "toc_window_display": true
  }
 },
 "nbformat": 4,
 "nbformat_minor": 2
}

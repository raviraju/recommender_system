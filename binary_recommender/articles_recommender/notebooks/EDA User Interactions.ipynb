{
 "cells": [
  {
   "cell_type": "code",
   "execution_count": 1,
   "metadata": {},
   "outputs": [],
   "source": [
    "import pandas as pd"
   ]
  },
  {
   "cell_type": "code",
   "execution_count": 2,
   "metadata": {},
   "outputs": [
    {
     "data": {
      "text/plain": [
       "(72312, 8)"
      ]
     },
     "execution_count": 2,
     "metadata": {},
     "output_type": "execute_result"
    }
   ],
   "source": [
    "interactions_df = pd.read_csv('../data/users_interactions.csv')\n",
    "interactions_df.shape"
   ]
  },
  {
   "cell_type": "code",
   "execution_count": 3,
   "metadata": {},
   "outputs": [
    {
     "data": {
      "text/html": [
       "<div>\n",
       "<style scoped>\n",
       "    .dataframe tbody tr th:only-of-type {\n",
       "        vertical-align: middle;\n",
       "    }\n",
       "\n",
       "    .dataframe tbody tr th {\n",
       "        vertical-align: top;\n",
       "    }\n",
       "\n",
       "    .dataframe thead th {\n",
       "        text-align: right;\n",
       "    }\n",
       "</style>\n",
       "<table border=\"1\" class=\"dataframe\">\n",
       "  <thead>\n",
       "    <tr style=\"text-align: right;\">\n",
       "      <th></th>\n",
       "      <th>timestamp</th>\n",
       "      <th>eventType</th>\n",
       "      <th>contentId</th>\n",
       "      <th>personId</th>\n",
       "      <th>sessionId</th>\n",
       "      <th>userAgent</th>\n",
       "      <th>userRegion</th>\n",
       "      <th>userCountry</th>\n",
       "    </tr>\n",
       "  </thead>\n",
       "  <tbody>\n",
       "    <tr>\n",
       "      <th>0</th>\n",
       "      <td>1465413032</td>\n",
       "      <td>VIEW</td>\n",
       "      <td>-3499919498720038879</td>\n",
       "      <td>-8845298781299428018</td>\n",
       "      <td>1264196770339959068</td>\n",
       "      <td>NaN</td>\n",
       "      <td>NaN</td>\n",
       "      <td>NaN</td>\n",
       "    </tr>\n",
       "    <tr>\n",
       "      <th>1</th>\n",
       "      <td>1465412560</td>\n",
       "      <td>VIEW</td>\n",
       "      <td>8890720798209849691</td>\n",
       "      <td>-1032019229384696495</td>\n",
       "      <td>3621737643587579081</td>\n",
       "      <td>Mozilla/5.0 (Macintosh; Intel Mac OS X 10_11_2...</td>\n",
       "      <td>NY</td>\n",
       "      <td>US</td>\n",
       "    </tr>\n",
       "    <tr>\n",
       "      <th>2</th>\n",
       "      <td>1465416190</td>\n",
       "      <td>VIEW</td>\n",
       "      <td>310515487419366995</td>\n",
       "      <td>-1130272294246983140</td>\n",
       "      <td>2631864456530402479</td>\n",
       "      <td>NaN</td>\n",
       "      <td>NaN</td>\n",
       "      <td>NaN</td>\n",
       "    </tr>\n",
       "    <tr>\n",
       "      <th>3</th>\n",
       "      <td>1465413895</td>\n",
       "      <td>FOLLOW</td>\n",
       "      <td>310515487419366995</td>\n",
       "      <td>344280948527967603</td>\n",
       "      <td>-3167637573980064150</td>\n",
       "      <td>NaN</td>\n",
       "      <td>NaN</td>\n",
       "      <td>NaN</td>\n",
       "    </tr>\n",
       "    <tr>\n",
       "      <th>4</th>\n",
       "      <td>1465412290</td>\n",
       "      <td>VIEW</td>\n",
       "      <td>-7820640624231356730</td>\n",
       "      <td>-445337111692715325</td>\n",
       "      <td>5611481178424124714</td>\n",
       "      <td>NaN</td>\n",
       "      <td>NaN</td>\n",
       "      <td>NaN</td>\n",
       "    </tr>\n",
       "  </tbody>\n",
       "</table>\n",
       "</div>"
      ],
      "text/plain": [
       "    timestamp eventType            contentId             personId  \\\n",
       "0  1465413032      VIEW -3499919498720038879 -8845298781299428018   \n",
       "1  1465412560      VIEW  8890720798209849691 -1032019229384696495   \n",
       "2  1465416190      VIEW   310515487419366995 -1130272294246983140   \n",
       "3  1465413895    FOLLOW   310515487419366995   344280948527967603   \n",
       "4  1465412290      VIEW -7820640624231356730  -445337111692715325   \n",
       "\n",
       "             sessionId                                          userAgent  \\\n",
       "0  1264196770339959068                                                NaN   \n",
       "1  3621737643587579081  Mozilla/5.0 (Macintosh; Intel Mac OS X 10_11_2...   \n",
       "2  2631864456530402479                                                NaN   \n",
       "3 -3167637573980064150                                                NaN   \n",
       "4  5611481178424124714                                                NaN   \n",
       "\n",
       "  userRegion userCountry  \n",
       "0        NaN         NaN  \n",
       "1         NY          US  \n",
       "2        NaN         NaN  \n",
       "3        NaN         NaN  \n",
       "4        NaN         NaN  "
      ]
     },
     "execution_count": 3,
     "metadata": {},
     "output_type": "execute_result"
    }
   ],
   "source": [
    "interactions_df.head()"
   ]
  },
  {
   "cell_type": "code",
   "execution_count": 4,
   "metadata": {},
   "outputs": [
    {
     "data": {
      "text/plain": [
       "count                   72312\n",
       "unique                  68772\n",
       "top       2016-05-27 02:23:43\n",
       "freq                        7\n",
       "first     2016-03-14 13:54:36\n",
       "last      2017-02-28 19:21:51\n",
       "Name: datetime, dtype: object"
      ]
     },
     "execution_count": 4,
     "metadata": {},
     "output_type": "execute_result"
    }
   ],
   "source": [
    "interactions_df['datetime'] = pd.to_datetime(interactions_df['timestamp'], unit='s')\n",
    "interactions_df['datetime'].describe()"
   ]
  },
  {
   "cell_type": "code",
   "execution_count": 5,
   "metadata": {},
   "outputs": [],
   "source": [
    "interactions_df['year'] = interactions_df['datetime'].dt.year\n",
    "interactions_df['quarter'] = interactions_df['datetime'].dt.to_period(\"Q\")\n",
    "interactions_df['month'] = interactions_df['datetime'].dt.to_period(\"M\")"
   ]
  },
  {
   "cell_type": "code",
   "execution_count": 6,
   "metadata": {},
   "outputs": [
    {
     "data": {
      "text/plain": [
       "2016    66508\n",
       "2017     5804\n",
       "Name: year, dtype: int64"
      ]
     },
     "execution_count": 6,
     "metadata": {},
     "output_type": "execute_result"
    }
   ],
   "source": [
    "interactions_df['year'].value_counts()"
   ]
  },
  {
   "cell_type": "code",
   "execution_count": 7,
   "metadata": {},
   "outputs": [
    {
     "data": {
      "text/plain": [
       "2016Q1      858\n",
       "2016Q2    32435\n",
       "2016Q3    23047\n",
       "2016Q4    10168\n",
       "2017Q1     5804\n",
       "Freq: Q-DEC, Name: quarter, dtype: int64"
      ]
     },
     "execution_count": 7,
     "metadata": {},
     "output_type": "execute_result"
    }
   ],
   "source": [
    "interactions_df['quarter'].value_counts().sort_index()"
   ]
  },
  {
   "cell_type": "code",
   "execution_count": 8,
   "metadata": {},
   "outputs": [
    {
     "data": {
      "text/plain": [
       "2016-03      858\n",
       "2016-04     7048\n",
       "2016-05     9072\n",
       "2016-06    16315\n",
       "2016-07     8097\n",
       "2016-08     7945\n",
       "2016-09     7005\n",
       "2016-10     5085\n",
       "2016-11     2629\n",
       "2016-12     2454\n",
       "2017-01     2895\n",
       "2017-02     2909\n",
       "Freq: M, Name: month, dtype: int64"
      ]
     },
     "execution_count": 8,
     "metadata": {},
     "output_type": "execute_result"
    }
   ],
   "source": [
    "interactions_df['month'].value_counts().sort_index()"
   ]
  },
  {
   "cell_type": "code",
   "execution_count": 9,
   "metadata": {},
   "outputs": [
    {
     "data": {
      "text/html": [
       "<div>\n",
       "<style scoped>\n",
       "    .dataframe tbody tr th:only-of-type {\n",
       "        vertical-align: middle;\n",
       "    }\n",
       "\n",
       "    .dataframe tbody tr th {\n",
       "        vertical-align: top;\n",
       "    }\n",
       "\n",
       "    .dataframe thead th {\n",
       "        text-align: right;\n",
       "    }\n",
       "</style>\n",
       "<table border=\"1\" class=\"dataframe\">\n",
       "  <thead>\n",
       "    <tr style=\"text-align: right;\">\n",
       "      <th></th>\n",
       "      <th>timestamp</th>\n",
       "      <th>eventType</th>\n",
       "      <th>contentId</th>\n",
       "      <th>personId</th>\n",
       "      <th>sessionId</th>\n",
       "      <th>userAgent</th>\n",
       "      <th>userRegion</th>\n",
       "      <th>userCountry</th>\n",
       "      <th>datetime</th>\n",
       "      <th>year</th>\n",
       "      <th>quarter</th>\n",
       "      <th>month</th>\n",
       "    </tr>\n",
       "  </thead>\n",
       "  <tbody>\n",
       "    <tr>\n",
       "      <th>0</th>\n",
       "      <td>1465413032</td>\n",
       "      <td>VIEW</td>\n",
       "      <td>-3499919498720038879</td>\n",
       "      <td>-8845298781299428018</td>\n",
       "      <td>1264196770339959068</td>\n",
       "      <td>NaN</td>\n",
       "      <td>NaN</td>\n",
       "      <td>NaN</td>\n",
       "      <td>2016-06-08 19:10:32</td>\n",
       "      <td>2016</td>\n",
       "      <td>2016Q2</td>\n",
       "      <td>2016-06</td>\n",
       "    </tr>\n",
       "    <tr>\n",
       "      <th>1</th>\n",
       "      <td>1465412560</td>\n",
       "      <td>VIEW</td>\n",
       "      <td>8890720798209849691</td>\n",
       "      <td>-1032019229384696495</td>\n",
       "      <td>3621737643587579081</td>\n",
       "      <td>Mozilla/5.0 (Macintosh; Intel Mac OS X 10_11_2...</td>\n",
       "      <td>NY</td>\n",
       "      <td>US</td>\n",
       "      <td>2016-06-08 19:02:40</td>\n",
       "      <td>2016</td>\n",
       "      <td>2016Q2</td>\n",
       "      <td>2016-06</td>\n",
       "    </tr>\n",
       "    <tr>\n",
       "      <th>2</th>\n",
       "      <td>1465416190</td>\n",
       "      <td>VIEW</td>\n",
       "      <td>310515487419366995</td>\n",
       "      <td>-1130272294246983140</td>\n",
       "      <td>2631864456530402479</td>\n",
       "      <td>NaN</td>\n",
       "      <td>NaN</td>\n",
       "      <td>NaN</td>\n",
       "      <td>2016-06-08 20:03:10</td>\n",
       "      <td>2016</td>\n",
       "      <td>2016Q2</td>\n",
       "      <td>2016-06</td>\n",
       "    </tr>\n",
       "    <tr>\n",
       "      <th>3</th>\n",
       "      <td>1465413895</td>\n",
       "      <td>FOLLOW</td>\n",
       "      <td>310515487419366995</td>\n",
       "      <td>344280948527967603</td>\n",
       "      <td>-3167637573980064150</td>\n",
       "      <td>NaN</td>\n",
       "      <td>NaN</td>\n",
       "      <td>NaN</td>\n",
       "      <td>2016-06-08 19:24:55</td>\n",
       "      <td>2016</td>\n",
       "      <td>2016Q2</td>\n",
       "      <td>2016-06</td>\n",
       "    </tr>\n",
       "    <tr>\n",
       "      <th>4</th>\n",
       "      <td>1465412290</td>\n",
       "      <td>VIEW</td>\n",
       "      <td>-7820640624231356730</td>\n",
       "      <td>-445337111692715325</td>\n",
       "      <td>5611481178424124714</td>\n",
       "      <td>NaN</td>\n",
       "      <td>NaN</td>\n",
       "      <td>NaN</td>\n",
       "      <td>2016-06-08 18:58:10</td>\n",
       "      <td>2016</td>\n",
       "      <td>2016Q2</td>\n",
       "      <td>2016-06</td>\n",
       "    </tr>\n",
       "  </tbody>\n",
       "</table>\n",
       "</div>"
      ],
      "text/plain": [
       "    timestamp eventType            contentId             personId  \\\n",
       "0  1465413032      VIEW -3499919498720038879 -8845298781299428018   \n",
       "1  1465412560      VIEW  8890720798209849691 -1032019229384696495   \n",
       "2  1465416190      VIEW   310515487419366995 -1130272294246983140   \n",
       "3  1465413895    FOLLOW   310515487419366995   344280948527967603   \n",
       "4  1465412290      VIEW -7820640624231356730  -445337111692715325   \n",
       "\n",
       "             sessionId                                          userAgent  \\\n",
       "0  1264196770339959068                                                NaN   \n",
       "1  3621737643587579081  Mozilla/5.0 (Macintosh; Intel Mac OS X 10_11_2...   \n",
       "2  2631864456530402479                                                NaN   \n",
       "3 -3167637573980064150                                                NaN   \n",
       "4  5611481178424124714                                                NaN   \n",
       "\n",
       "  userRegion userCountry            datetime  year quarter    month  \n",
       "0        NaN         NaN 2016-06-08 19:10:32  2016  2016Q2  2016-06  \n",
       "1         NY          US 2016-06-08 19:02:40  2016  2016Q2  2016-06  \n",
       "2        NaN         NaN 2016-06-08 20:03:10  2016  2016Q2  2016-06  \n",
       "3        NaN         NaN 2016-06-08 19:24:55  2016  2016Q2  2016-06  \n",
       "4        NaN         NaN 2016-06-08 18:58:10  2016  2016Q2  2016-06  "
      ]
     },
     "execution_count": 9,
     "metadata": {},
     "output_type": "execute_result"
    }
   ],
   "source": [
    "interactions_df.head()"
   ]
  },
  {
   "cell_type": "code",
   "execution_count": 10,
   "metadata": {},
   "outputs": [
    {
     "data": {
      "text/plain": [
       "VIEW               61086\n",
       "LIKE                5745\n",
       "BOOKMARK            2463\n",
       "COMMENT CREATED     1611\n",
       "FOLLOW              1407\n",
       "Name: eventType, dtype: int64"
      ]
     },
     "execution_count": 10,
     "metadata": {},
     "output_type": "execute_result"
    }
   ],
   "source": [
    "interactions_df['eventType'].value_counts()"
   ]
  },
  {
   "cell_type": "code",
   "execution_count": 11,
   "metadata": {},
   "outputs": [
    {
     "data": {
      "text/plain": [
       "VIEW               84.475606\n",
       "LIKE                7.944739\n",
       "BOOKMARK            3.406074\n",
       "COMMENT CREATED     2.227846\n",
       "FOLLOW              1.945735\n",
       "Name: eventType, dtype: float64"
      ]
     },
     "execution_count": 11,
     "metadata": {},
     "output_type": "execute_result"
    }
   ],
   "source": [
    "interactions_df['eventType'].value_counts()/ len(interactions_df) * 100"
   ]
  },
  {
   "cell_type": "code",
   "execution_count": 12,
   "metadata": {},
   "outputs": [
    {
     "data": {
      "text/plain": [
       "2987"
      ]
     },
     "execution_count": 12,
     "metadata": {},
     "output_type": "execute_result"
    }
   ],
   "source": [
    "#No of Items\n",
    "len(interactions_df['contentId'].unique())"
   ]
  },
  {
   "cell_type": "code",
   "execution_count": 13,
   "metadata": {},
   "outputs": [
    {
     "data": {
      "text/plain": [
       "1895"
      ]
     },
     "execution_count": 13,
     "metadata": {},
     "output_type": "execute_result"
    }
   ],
   "source": [
    "#No of Users\n",
    "len(interactions_df['personId'].unique())"
   ]
  },
  {
   "cell_type": "code",
   "execution_count": 14,
   "metadata": {},
   "outputs": [],
   "source": [
    "import matplotlib.pyplot as plt\n",
    "from matplotlib_venn import venn2\n",
    "\n",
    "def analyse_trend(of_cols, period_col):\n",
    "    periods = interactions_df[period_col].value_counts().sort_index().index\n",
    "\n",
    "    for period in periods:        \n",
    "        count = len(interactions_df[interactions_df[period_col] == period])\n",
    "        print(\"No of interactions in {} : {}\".format(period, count))        \n",
    "    print()\n",
    "            \n",
    "    for i, period in enumerate(periods):\n",
    "        elapsed_periods = list(periods[:i])\n",
    "        elapsed_periods.append(period)\n",
    "        \n",
    "        print(elapsed_periods)\n",
    "        interactions_during_elapsed_periods_df = interactions_df[interactions_df[period_col].isin(elapsed_periods)]\n",
    "        print(\"\\t no of interactions     : \", len(interactions_during_elapsed_periods_df))\n",
    "        for of_col in of_cols:\n",
    "            count = len(interactions_during_elapsed_periods_df[of_col].unique())\n",
    "            print(\"\\t no of unique {}  : {}\".format(of_col, count))        \n",
    "        print()\n",
    "        \n",
    "        no_of_elapsed_periods = len(elapsed_periods)\n",
    "        if no_of_elapsed_periods > 1:\n",
    "            train_periods = elapsed_periods[:no_of_elapsed_periods-1] #except last period\n",
    "            test_period = elapsed_periods[-1] #last period\n",
    "            \n",
    "            print(\"\\t train {} : {}\".format(period_col, train_periods))\n",
    "            interactions_during_train_periods_df = interactions_df[interactions_df[period_col].isin(train_periods)]\n",
    "            print(\"\\t\\t no of interactions     : \", len(interactions_during_train_periods_df))\n",
    "            for of_col in of_cols:\n",
    "                count = len(interactions_during_train_periods_df[of_col].unique())\n",
    "                print(\"\\t\\t no of unique {}  : {}\".format(of_col, count))\n",
    "            print()\n",
    "            \n",
    "            print(\"\\t test  {} : {}\".format(period_col, test_period))\n",
    "            interactions_during_test_periods_df = interactions_df[interactions_df[period_col].isin([test_period])]\n",
    "            print(\"\\t\\t no of interactions     : \", len(interactions_during_test_periods_df))\n",
    "            for of_col in of_cols:\n",
    "                count = len(interactions_during_test_periods_df[of_col].unique())\n",
    "                print(\"\\t\\t no of unique {}  : {}\".format(of_col, count))\n",
    "            print()\n",
    "            \n",
    "            print(\"\\t train and test {}\".format(period_col))\n",
    "            for of_col in of_cols:\n",
    "                train_set = set(interactions_during_train_periods_df[of_col].unique())\n",
    "                test_set = set(interactions_during_test_periods_df[of_col].unique())\n",
    "                \n",
    "                common = train_set.intersection(test_set)\n",
    "                print(\"\\t\\t common        {} : {}\".format(of_col, len(common)))\n",
    "                \n",
    "                only_in_train = train_set - test_set\n",
    "                print(\"\\t\\t only_in_train {} : {}\".format(of_col, len(only_in_train)))\n",
    "                \n",
    "                only_in_test = test_set - train_set\n",
    "                print(\"\\t\\t only_in_test  {} : {}\".format(of_col, len(only_in_test)))\n",
    "                \n",
    "                print()\n",
    "                \n",
    "                venn2(subsets = (len(only_in_train), len(only_in_test), len(common)), \n",
    "                      set_labels = ('Train_' + of_col, 'Test_' + of_col))\n",
    "                plt.show()                                           \n",
    "        print('*'*30)\n",
    "    "
   ]
  },
  {
   "cell_type": "code",
   "execution_count": 15,
   "metadata": {},
   "outputs": [],
   "source": [
    "def analyse_trend_user_item(period_col, user_col, item_col):\n",
    "    periods = interactions_df[period_col].value_counts().sort_index().index\n",
    "\n",
    "    for period in periods:        \n",
    "        count = len(interactions_df[interactions_df[period_col] == period])\n",
    "        print(\"interactions_count in {} : {}\".format(period, count))        \n",
    "    print()\n",
    "            \n",
    "    for i, period in enumerate(periods):\n",
    "        elapsed_periods = list(periods[:i])\n",
    "        elapsed_periods.append(period)\n",
    "        \n",
    "        # print(elapsed_periods)\n",
    "        print(\"elapsed_\" + period_col + \"s   : \", [str(period) for period in elapsed_periods])\n",
    "        interactions_during_elapsed_periods_df = interactions_df[interactions_df[period_col].isin(elapsed_periods)]\n",
    "        print(\"interactions_count : \", len(interactions_during_elapsed_periods_df))\n",
    "        \n",
    "        users_count = len(interactions_during_elapsed_periods_df[user_col].unique())\n",
    "        items_count = len(interactions_during_elapsed_periods_df[item_col].unique())\n",
    "        print(\"users_count        :  {}\\nitems_count        :  {}\".format(users_count, items_count))        \n",
    "        print()\n",
    "        \n",
    "        no_of_elapsed_periods = len(elapsed_periods)\n",
    "        if no_of_elapsed_periods > 1:\n",
    "            train_periods = elapsed_periods[:no_of_elapsed_periods-1] #except last period\n",
    "            test_period = elapsed_periods[-1] #last period\n",
    "            \n",
    "            # print(\"Train {} : {}\".format(period_col, train_periods))\n",
    "            print(\"Train {} : {}\".format(period_col, [str(period) for period in train_periods]))\n",
    "            interactions_during_train_periods_df = interactions_df[interactions_df[period_col].isin(train_periods)]\n",
    "            print(\"\\t interactions_count : \", len(interactions_during_train_periods_df))\n",
    "            users_count = len(interactions_during_train_periods_df[user_col].unique())\n",
    "            items_count = len(interactions_during_train_periods_df[item_col].unique())\n",
    "            print(\"\\t users_count        :  {}\\n\\t items_count        :  {}\".format(users_count, items_count))\n",
    "                   \n",
    "            print(\"Test  {} : {}\".format(period_col, test_period))\n",
    "            interactions_during_test_periods_df = interactions_df[interactions_df[period_col].isin([test_period])]\n",
    "            print(\"\\t interactions_count : \", len(interactions_during_test_periods_df))\n",
    "            users_count = len(interactions_during_test_periods_df[user_col].unique())\n",
    "            items_count = len(interactions_during_test_periods_df[item_col].unique())\n",
    "            print(\"\\t users_count        :  {}\\n\\t items_count        :  {}\".format(users_count, items_count))\n",
    "            \n",
    "            print(\"Train and test {}\".format(period_col))\n",
    "            train_users_set = set(interactions_during_train_periods_df[user_col].unique())\n",
    "            test_users_set = set(interactions_during_test_periods_df[user_col].unique())\n",
    "            common_users_set = train_users_set.intersection(test_users_set)\n",
    "            only_in_train_users_set = train_users_set - test_users_set\n",
    "            only_in_test_users_set = test_users_set - train_users_set\n",
    "                \n",
    "            train_items_set = set(interactions_during_train_periods_df[item_col].unique())\n",
    "            test_items_set = set(interactions_during_test_periods_df[item_col].unique())\n",
    "            common_items_set = train_items_set.intersection(test_items_set)\n",
    "            only_in_train_items_set = train_items_set - test_items_set\n",
    "            only_in_test_items_set = test_items_set - train_items_set\n",
    "\n",
    "            print(\"\\t Common\")\n",
    "            print(\"\\t\\t users_count        :  {}\\n\\t\\t items_count        :  {}\".format(len(common_users_set), \n",
    "                                                                          len(common_items_set)))\n",
    "            print(\"\\t Only_in_train\")\n",
    "            print(\"\\t\\t users_count        :  {}\\n\\t\\t items_count        :  {}\".format(len(only_in_train_users_set), \n",
    "                                                                          len(only_in_train_items_set)))\n",
    "            print(\"\\t Only_in_test\")\n",
    "            print(\"\\t\\t users_count        :  {}\\n\\t\\t items_count        :  {}\".format(len(only_in_test_users_set), \n",
    "                                                                          len(only_in_test_items_set)))   \n",
    "                       \n",
    "            \n",
    "            fig, (ax1, ax2) = plt.subplots(1, 2)\n",
    "            ax1.set_title('Users')\n",
    "            venn2(subsets = (len(only_in_train_users_set), len(only_in_test_users_set), len(common_users_set)), \n",
    "                  set_labels = ('Train', 'Test'), ax=ax1)\n",
    "            \n",
    "            ax2.set_title('Items')\n",
    "            venn2(subsets = (len(only_in_train_items_set), len(only_in_test_items_set), len(common_items_set)), \n",
    "                  set_labels = ('Train', 'Test'), ax=ax2)\n",
    "            plt.show()                        \n",
    "            \n",
    "            print(\"Recommender Setup : {}\".format(period_col))\n",
    "                         \n",
    "            items_ununsed_set = train_items_set - test_items_set\n",
    "            items_added_set = test_items_set - train_items_set\n",
    "\n",
    "            existing_users_in_test_set = common_users_set\n",
    "            existing_users_in_test_items_used_set = set(interactions_during_test_periods_df[\\\n",
    "                interactions_during_test_periods_df[user_col].isin(existing_users_in_test_set)][item_col].unique())                                                                \n",
    "\n",
    "            existing_items_in_test_set = common_items_set\n",
    "            existing_items_used_set = existing_users_in_test_items_used_set.intersection(existing_items_in_test_set)\n",
    "            existing_items_unused_set = existing_items_in_test_set - existing_items_used_set\n",
    "            new_items_used_set = existing_users_in_test_items_used_set.intersection(items_added_set)\n",
    "                        \n",
    "            print(\"\\t No of train_users in test   : \", len(existing_users_in_test_set))\n",
    "            print(\"\\t No of items_used            : \", len(existing_users_in_test_items_used_set))\n",
    "            print(\"\\t No of existing_items_used   : \", len(existing_items_used_set))\n",
    "            print(\"\\t No of existing_items_unused : \", len(existing_items_unused_set))\n",
    "            print(\"\\t No of new_items_used        : \", len(new_items_used_set))\n",
    "            is_valid = True if (existing_users_in_test_items_used_set == existing_items_used_set.union(new_items_used_set)) else False            \n",
    "            if not is_valid:\n",
    "                print(\"\\t Items Add Up ? : \", is_valid)\n",
    "                input()                                      \n",
    "            print()\n",
    "            \n",
    "            \n",
    "#             new_users_in_test_set = only_in_test_users_set\n",
    "#             new_items_in_test_set = only_in_test_items_set\n",
    "#             new_users_used_items_set = set(interactions_during_test_periods_df[\\\n",
    "#                 interactions_during_test_periods_df[user_col].isin(new_users_in_test_set)][item_col].unique())\n",
    "#             new_users_used_existing_items_set = new_users_used_items_set.intersection(existing_items_used_set)\n",
    "#             new_users_used_new_items_set = new_users_used_items_set.intersection(new_items_in_test_set)\n",
    "#             print(\"\\t No of new users in test   : \", len(new_users_in_test_set))\n",
    "#             print(\"\\t No of items_used          : \", len(new_users_used_items_set))\n",
    "#             print(\"\\t No of existing_items_used : \", len(new_users_used_existing_items_set))\n",
    "#             print(\"\\t No of new_items_used      : \", len(new_users_used_new_items_set))\n",
    "        print('*'*80)"
   ]
  },
  {
   "cell_type": "code",
   "execution_count": 16,
   "metadata": {},
   "outputs": [
    {
     "name": "stdout",
     "output_type": "stream",
     "text": [
      "interactions_count in 2016 : 66508\n",
      "interactions_count in 2017 : 5804\n",
      "\n",
      "elapsed_years   :  ['2016']\n",
      "interactions_count :  66508\n",
      "users_count        :  1823\n",
      "items_count        :  2787\n",
      "\n",
      "********************************************************************************\n",
      "elapsed_years   :  ['2016', '2017']\n",
      "interactions_count :  72312\n",
      "users_count        :  1895\n",
      "items_count        :  2987\n",
      "\n",
      "Train year : ['2016']\n",
      "\t interactions_count :  66508\n",
      "\t users_count        :  1823\n",
      "\t items_count        :  2787\n",
      "Test  year : 2017\n",
      "\t interactions_count :  5804\n",
      "\t users_count        :  965\n",
      "\t items_count        :  502\n",
      "Train and test year\n",
      "\t Common\n",
      "\t\t users_count        :  893\n",
      "\t\t items_count        :  302\n",
      "\t Only_in_train\n",
      "\t\t users_count        :  930\n",
      "\t\t items_count        :  2485\n",
      "\t Only_in_test\n",
      "\t\t users_count        :  72\n",
      "\t\t items_count        :  200\n"
     ]
    },
    {
     "data": {
      "image/png": "[encoded data removed]",
      "text/plain": [
       "<Figure size 432x288 with 2 Axes>"
      ]
     },
     "metadata": {},
     "output_type": "display_data"
    },
    {
     "name": "stdout",
     "output_type": "stream",
     "text": [
      "Recommender Setup : year\n",
      "\t No of train_users in test   :  893\n",
      "\t No of items_used            :  488\n",
      "\t No of existing_items_used   :  289\n",
      "\t No of existing_items_unused :  13\n",
      "\t No of new_items_used        :  199\n",
      "\n",
      "********************************************************************************\n"
     ]
    }
   ],
   "source": [
    "# analyse_trend(of_cols=['personId', 'contentId'], period_col='year')\n",
    "analyse_trend_user_item(period_col='year', user_col='personId', item_col='contentId')"
   ]
  },
  {
   "cell_type": "code",
   "execution_count": 17,
   "metadata": {},
   "outputs": [
    {
     "name": "stdout",
     "output_type": "stream",
     "text": [
      "interactions_count in 2016Q1 : 858\n",
      "interactions_count in 2016Q2 : 32435\n",
      "interactions_count in 2016Q3 : 23047\n",
      "interactions_count in 2016Q4 : 10168\n",
      "interactions_count in 2017Q1 : 5804\n",
      "\n",
      "elapsed_quarters   :  ['2016Q1']\n",
      "interactions_count :  858\n",
      "users_count        :  209\n",
      "items_count        :  114\n",
      "\n",
      "********************************************************************************\n",
      "elapsed_quarters   :  ['2016Q1', '2016Q2']\n",
      "interactions_count :  33293\n",
      "users_count        :  1374\n",
      "items_count        :  1498\n",
      "\n",
      "Train quarter : ['2016Q1']\n",
      "\t interactions_count :  858\n",
      "\t users_count        :  209\n",
      "\t items_count        :  114\n",
      "Test  quarter : 2016Q2\n",
      "\t interactions_count :  32435\n",
      "\t users_count        :  1362\n",
      "\t items_count        :  1461\n",
      "Train and test quarter\n",
      "\t Common\n",
      "\t\t users_count        :  197\n",
      "\t\t items_count        :  77\n",
      "\t Only_in_train\n",
      "\t\t users_count        :  12\n",
      "\t\t items_count        :  37\n",
      "\t Only_in_test\n",
      "\t\t users_count        :  1165\n",
      "\t\t items_count        :  1384\n"
     ]
    },
    {
     "data": {
      "image/png": "[encoded data removed]",
      "text/plain": [
       "<Figure size 432x288 with 2 Axes>"
      ]
     },
     "metadata": {},
     "output_type": "display_data"
    },
    {
     "name": "stdout",
     "output_type": "stream",
     "text": [
      "Recommender Setup : quarter\n",
      "\t No of train_users in test   :  197\n",
      "\t No of items_used            :  1374\n",
      "\t No of existing_items_used   :  68\n",
      "\t No of existing_items_unused :  9\n",
      "\t No of new_items_used        :  1306\n",
      "\n",
      "********************************************************************************\n",
      "elapsed_quarters   :  ['2016Q1', '2016Q2', '2016Q3']\n",
      "interactions_count :  56340\n",
      "users_count        :  1712\n",
      "items_count        :  2364\n",
      "\n",
      "Train quarter : ['2016Q1', '2016Q2']\n",
      "\t interactions_count :  33293\n",
      "\t users_count        :  1374\n",
      "\t items_count        :  1498\n",
      "Test  quarter : 2016Q3\n",
      "\t interactions_count :  23047\n",
      "\t users_count        :  1427\n",
      "\t items_count        :  1328\n",
      "Train and test quarter\n",
      "\t Common\n",
      "\t\t users_count        :  1089\n",
      "\t\t items_count        :  462\n",
      "\t Only_in_train\n",
      "\t\t users_count        :  285\n",
      "\t\t items_count        :  1036\n",
      "\t Only_in_test\n",
      "\t\t users_count        :  338\n",
      "\t\t items_count        :  866\n"
     ]
    },
    {
     "data": {
      "image/png": "[encoded data removed]",
      "text/plain": [
       "<Figure size 432x288 with 2 Axes>"
      ]
     },
     "metadata": {},
     "output_type": "display_data"
    },
    {
     "name": "stdout",
     "output_type": "stream",
     "text": [
      "Recommender Setup : quarter\n",
      "\t No of train_users in test   :  1089\n",
      "\t No of items_used            :  1289\n",
      "\t No of existing_items_used   :  425\n",
      "\t No of existing_items_unused :  37\n",
      "\t No of new_items_used        :  864\n",
      "\n",
      "********************************************************************************\n",
      "elapsed_quarters   :  ['2016Q1', '2016Q2', '2016Q3', '2016Q4']\n",
      "interactions_count :  66508\n",
      "users_count        :  1823\n",
      "items_count        :  2787\n",
      "\n",
      "Train quarter : ['2016Q1', '2016Q2', '2016Q3']\n",
      "\t interactions_count :  56340\n",
      "\t users_count        :  1712\n",
      "\t items_count        :  2364\n",
      "Test  quarter : 2016Q4\n",
      "\t interactions_count :  10168\n",
      "\t users_count        :  1060\n",
      "\t items_count        :  943\n",
      "Train and test quarter\n",
      "\t Common\n",
      "\t\t users_count        :  949\n",
      "\t\t items_count        :  520\n",
      "\t Only_in_train\n",
      "\t\t users_count        :  763\n",
      "\t\t items_count        :  1844\n",
      "\t Only_in_test\n",
      "\t\t users_count        :  111\n",
      "\t\t items_count        :  423\n"
     ]
    },
    {
     "data": {
      "image/png": "[encoded data removed]",
      "text/plain": [
       "<Figure size 432x288 with 2 Axes>"
      ]
     },
     "metadata": {},
     "output_type": "display_data"
    },
    {
     "name": "stdout",
     "output_type": "stream",
     "text": [
      "Recommender Setup : quarter\n",
      "\t No of train_users in test   :  949\n",
      "\t No of items_used            :  911\n",
      "\t No of existing_items_used   :  490\n",
      "\t No of existing_items_unused :  30\n",
      "\t No of new_items_used        :  421\n",
      "\n",
      "********************************************************************************\n",
      "elapsed_quarters   :  ['2016Q1', '2016Q2', '2016Q3', '2016Q4', '2017Q1']\n",
      "interactions_count :  72312\n",
      "users_count        :  1895\n",
      "items_count        :  2987\n",
      "\n",
      "Train quarter : ['2016Q1', '2016Q2', '2016Q3', '2016Q4']\n",
      "\t interactions_count :  66508\n",
      "\t users_count        :  1823\n",
      "\t items_count        :  2787\n",
      "Test  quarter : 2017Q1\n",
      "\t interactions_count :  5804\n",
      "\t users_count        :  965\n",
      "\t items_count        :  502\n",
      "Train and test quarter\n",
      "\t Common\n",
      "\t\t users_count        :  893\n",
      "\t\t items_count        :  302\n",
      "\t Only_in_train\n",
      "\t\t users_count        :  930\n",
      "\t\t items_count        :  2485\n",
      "\t Only_in_test\n",
      "\t\t users_count        :  72\n",
      "\t\t items_count        :  200\n"
     ]
    },
    {
     "data": {
      "image/png": "[encoded data removed]",
      "text/plain": [
       "<Figure size 432x288 with 2 Axes>"
      ]
     },
     "metadata": {},
     "output_type": "display_data"
    },
    {
     "name": "stdout",
     "output_type": "stream",
     "text": [
      "Recommender Setup : quarter\n",
      "\t No of train_users in test   :  893\n",
      "\t No of items_used            :  488\n",
      "\t No of existing_items_used   :  289\n",
      "\t No of existing_items_unused :  13\n",
      "\t No of new_items_used        :  199\n",
      "\n",
      "********************************************************************************\n"
     ]
    }
   ],
   "source": [
    "# analyse_trend(of_cols=['personId', 'contentId'], period_col='quarter')\n",
    "analyse_trend_user_item(period_col='quarter', user_col='personId', item_col='contentId')"
   ]
  },
  {
   "cell_type": "code",
   "execution_count": 18,
   "metadata": {},
   "outputs": [
    {
     "name": "stdout",
     "output_type": "stream",
     "text": [
      "interactions_count in 2016-03 : 858\n",
      "interactions_count in 2016-04 : 7048\n",
      "interactions_count in 2016-05 : 9072\n",
      "interactions_count in 2016-06 : 16315\n",
      "interactions_count in 2016-07 : 8097\n",
      "interactions_count in 2016-08 : 7945\n",
      "interactions_count in 2016-09 : 7005\n",
      "interactions_count in 2016-10 : 5085\n",
      "interactions_count in 2016-11 : 2629\n",
      "interactions_count in 2016-12 : 2454\n",
      "interactions_count in 2017-01 : 2895\n",
      "interactions_count in 2017-02 : 2909\n",
      "\n",
      "elapsed_months   :  ['2016-03']\n",
      "interactions_count :  858\n",
      "users_count        :  209\n",
      "items_count        :  114\n",
      "\n",
      "********************************************************************************\n",
      "elapsed_months   :  ['2016-03', '2016-04']\n",
      "interactions_count :  7906\n",
      "users_count        :  868\n",
      "items_count        :  638\n",
      "\n",
      "Train month : ['2016-03']\n",
      "\t interactions_count :  858\n",
      "\t users_count        :  209\n",
      "\t items_count        :  114\n",
      "Test  month : 2016-04\n",
      "\t interactions_count :  7048\n",
      "\t users_count        :  835\n",
      "\t items_count        :  593\n",
      "Train and test month\n",
      "\t Common\n",
      "\t\t users_count        :  176\n",
      "\t\t items_count        :  69\n",
      "\t Only_in_train\n",
      "\t\t users_count        :  33\n",
      "\t\t items_count        :  45\n",
      "\t Only_in_test\n",
      "\t\t users_count        :  659\n",
      "\t\t items_count        :  524\n"
     ]
    },
    {
     "data": {
      "image/png": "[encoded data removed]",
      "text/plain": [
       "<Figure size 432x288 with 2 Axes>"
      ]
     },
     "metadata": {},
     "output_type": "display_data"
    },
    {
     "name": "stdout",
     "output_type": "stream",
     "text": [
      "Recommender Setup : month\n",
      "\t No of train_users in test   :  176\n",
      "\t No of items_used            :  552\n",
      "\t No of existing_items_used   :  60\n",
      "\t No of existing_items_unused :  9\n",
      "\t No of new_items_used        :  492\n",
      "\n",
      "********************************************************************************\n",
      "elapsed_months   :  ['2016-03', '2016-04', '2016-05']\n",
      "interactions_count :  16978\n",
      "users_count        :  1144\n",
      "items_count        :  1070\n",
      "\n",
      "Train month : ['2016-03', '2016-04']\n",
      "\t interactions_count :  7906\n",
      "\t users_count        :  868\n",
      "\t items_count        :  638\n",
      "Test  month : 2016-05\n",
      "\t interactions_count :  9072\n",
      "\t users_count        :  886\n",
      "\t items_count        :  635\n",
      "Train and test month\n",
      "\t Common\n",
      "\t\t users_count        :  610\n",
      "\t\t items_count        :  203\n",
      "\t Only_in_train\n",
      "\t\t users_count        :  258\n",
      "\t\t items_count        :  435\n",
      "\t Only_in_test\n",
      "\t\t users_count        :  276\n",
      "\t\t items_count        :  432\n"
     ]
    },
    {
     "data": {
      "image/png": "[encoded data removed]",
      "text/plain": [
       "<Figure size 432x288 with 2 Axes>"
      ]
     },
     "metadata": {},
     "output_type": "display_data"
    },
    {
     "name": "stdout",
     "output_type": "stream",
     "text": [
      "Recommender Setup : month\n",
      "\t No of train_users in test   :  610\n",
      "\t No of items_used            :  614\n",
      "\t No of existing_items_used   :  186\n",
      "\t No of existing_items_unused :  17\n",
      "\t No of new_items_used        :  428\n",
      "\n",
      "********************************************************************************\n",
      "elapsed_months   :  ['2016-03', '2016-04', '2016-05', '2016-06']\n",
      "interactions_count :  33293\n",
      "users_count        :  1374\n",
      "items_count        :  1498\n",
      "\n",
      "Train month : ['2016-03', '2016-04', '2016-05']\n",
      "\t interactions_count :  16978\n",
      "\t users_count        :  1144\n",
      "\t items_count        :  1070\n",
      "Test  month : 2016-06\n",
      "\t interactions_count :  16315\n",
      "\t users_count        :  992\n",
      "\t items_count        :  712\n",
      "Train and test month\n",
      "\t Common\n",
      "\t\t users_count        :  762\n",
      "\t\t items_count        :  284\n",
      "\t Only_in_train\n",
      "\t\t users_count        :  382\n",
      "\t\t items_count        :  786\n",
      "\t Only_in_test\n",
      "\t\t users_count        :  230\n",
      "\t\t items_count        :  428\n"
     ]
    },
    {
     "data": {
      "image/png": "[encoded data removed]",
      "text/plain": [
       "<Figure size 432x288 with 2 Axes>"
      ]
     },
     "metadata": {},
     "output_type": "display_data"
    },
    {
     "name": "stdout",
     "output_type": "stream",
     "text": [
      "Recommender Setup : month\n",
      "\t No of train_users in test   :  762\n",
      "\t No of items_used            :  693\n",
      "\t No of existing_items_used   :  266\n",
      "\t No of existing_items_unused :  18\n",
      "\t No of new_items_used        :  427\n",
      "\n",
      "********************************************************************************\n",
      "elapsed_months   :  ['2016-03', '2016-04', '2016-05', '2016-06', '2016-07']\n",
      "interactions_count :  41390\n",
      "users_count        :  1547\n",
      "items_count        :  1825\n",
      "\n",
      "Train month : ['2016-03', '2016-04', '2016-05', '2016-06']\n",
      "\t interactions_count :  33293\n",
      "\t users_count        :  1374\n",
      "\t items_count        :  1498\n",
      "Test  month : 2016-07\n",
      "\t interactions_count :  8097\n",
      "\t users_count        :  1070\n",
      "\t items_count        :  619\n",
      "Train and test month\n",
      "\t Common\n",
      "\t\t users_count        :  897\n",
      "\t\t items_count        :  292\n",
      "\t Only_in_train\n",
      "\t\t users_count        :  477\n",
      "\t\t items_count        :  1206\n",
      "\t Only_in_test\n",
      "\t\t users_count        :  173\n",
      "\t\t items_count        :  327\n"
     ]
    },
    {
     "data": {
      "image/png": "[encoded data removed]",
      "text/plain": [
       "<Figure size 432x288 with 2 Axes>"
      ]
     },
     "metadata": {},
     "output_type": "display_data"
    },
    {
     "name": "stdout",
     "output_type": "stream",
     "text": [
      "Recommender Setup : month\n",
      "\t No of train_users in test   :  897\n",
      "\t No of items_used            :  594\n",
      "\t No of existing_items_used   :  269\n",
      "\t No of existing_items_unused :  23\n",
      "\t No of new_items_used        :  325\n",
      "\n",
      "********************************************************************************\n",
      "elapsed_months   :  ['2016-03', '2016-04', '2016-05', '2016-06', '2016-07', '2016-08']\n",
      "interactions_count :  49335\n",
      "users_count        :  1628\n",
      "items_count        :  2119\n",
      "\n",
      "Train month : ['2016-03', '2016-04', '2016-05', '2016-06', '2016-07']\n",
      "\t interactions_count :  41390\n",
      "\t users_count        :  1547\n",
      "\t items_count        :  1825\n",
      "Test  month : 2016-08\n",
      "\t interactions_count :  7945\n",
      "\t users_count        :  930\n",
      "\t items_count        :  631\n",
      "Train and test month\n",
      "\t Common\n",
      "\t\t users_count        :  849\n",
      "\t\t items_count        :  337\n",
      "\t Only_in_train\n",
      "\t\t users_count        :  698\n",
      "\t\t items_count        :  1488\n",
      "\t Only_in_test\n",
      "\t\t users_count        :  81\n",
      "\t\t items_count        :  294\n"
     ]
    },
    {
     "data": {
      "image/png": "[encoded data removed]",
      "text/plain": [
       "<Figure size 432x288 with 2 Axes>"
      ]
     },
     "metadata": {},
     "output_type": "display_data"
    },
    {
     "name": "stdout",
     "output_type": "stream",
     "text": [
      "Recommender Setup : month\n",
      "\t No of train_users in test   :  849\n",
      "\t No of items_used            :  610\n",
      "\t No of existing_items_used   :  316\n",
      "\t No of existing_items_unused :  21\n",
      "\t No of new_items_used        :  294\n",
      "\n",
      "********************************************************************************\n",
      "elapsed_months   :  ['2016-03', '2016-04', '2016-05', '2016-06', '2016-07', '2016-08', '2016-09']\n",
      "interactions_count :  56340\n",
      "users_count        :  1712\n",
      "items_count        :  2364\n",
      "\n",
      "Train month : ['2016-03', '2016-04', '2016-05', '2016-06', '2016-07', '2016-08']\n",
      "\t interactions_count :  49335\n",
      "\t users_count        :  1628\n",
      "\t items_count        :  2119\n",
      "Test  month : 2016-09\n",
      "\t interactions_count :  7005\n",
      "\t users_count        :  869\n",
      "\t items_count        :  595\n",
      "Train and test month\n",
      "\t Common\n",
      "\t\t users_count        :  785\n",
      "\t\t items_count        :  350\n",
      "\t Only_in_train\n",
      "\t\t users_count        :  843\n",
      "\t\t items_count        :  1769\n",
      "\t Only_in_test\n",
      "\t\t users_count        :  84\n",
      "\t\t items_count        :  245\n"
     ]
    },
    {
     "data": {
      "image/png": "[encoded data removed]",
      "text/plain": [
       "<Figure size 432x288 with 2 Axes>"
      ]
     },
     "metadata": {},
     "output_type": "display_data"
    },
    {
     "name": "stdout",
     "output_type": "stream",
     "text": [
      "Recommender Setup : month\n",
      "\t No of train_users in test   :  785\n",
      "\t No of items_used            :  577\n",
      "\t No of existing_items_used   :  333\n",
      "\t No of existing_items_unused :  17\n",
      "\t No of new_items_used        :  244\n",
      "\n",
      "********************************************************************************\n",
      "elapsed_months   :  ['2016-03', '2016-04', '2016-05', '2016-06', '2016-07', '2016-08', '2016-09', '2016-10']\n",
      "interactions_count :  61425\n",
      "users_count        :  1761\n",
      "items_count        :  2557\n",
      "\n",
      "Train month : ['2016-03', '2016-04', '2016-05', '2016-06', '2016-07', '2016-08', '2016-09']\n",
      "\t interactions_count :  56340\n",
      "\t users_count        :  1712\n",
      "\t items_count        :  2364\n",
      "Test  month : 2016-10\n",
      "\t interactions_count :  5085\n",
      "\t users_count        :  747\n",
      "\t items_count        :  516\n",
      "Train and test month\n",
      "\t Common\n",
      "\t\t users_count        :  698\n",
      "\t\t items_count        :  323\n",
      "\t Only_in_train\n",
      "\t\t users_count        :  1014\n",
      "\t\t items_count        :  2041\n",
      "\t Only_in_test\n",
      "\t\t users_count        :  49\n",
      "\t\t items_count        :  193\n"
     ]
    },
    {
     "data": {
      "image/png": "[encoded data removed]",
      "text/plain": [
       "<Figure size 432x288 with 2 Axes>"
      ]
     },
     "metadata": {},
     "output_type": "display_data"
    },
    {
     "name": "stdout",
     "output_type": "stream",
     "text": [
      "Recommender Setup : month\n",
      "\t No of train_users in test   :  698\n",
      "\t No of items_used            :  498\n",
      "\t No of existing_items_used   :  306\n",
      "\t No of existing_items_unused :  17\n",
      "\t No of new_items_used        :  192\n",
      "\n",
      "********************************************************************************\n",
      "elapsed_months   :  ['2016-03', '2016-04', '2016-05', '2016-06', '2016-07', '2016-08', '2016-09', '2016-10', '2016-11']\n",
      "interactions_count :  64054\n",
      "users_count        :  1792\n",
      "items_count        :  2669\n",
      "\n",
      "Train month : ['2016-03', '2016-04', '2016-05', '2016-06', '2016-07', '2016-08', '2016-09', '2016-10']\n",
      "\t interactions_count :  61425\n",
      "\t users_count        :  1761\n",
      "\t items_count        :  2557\n",
      "Test  month : 2016-11\n",
      "\t interactions_count :  2629\n",
      "\t users_count        :  606\n",
      "\t items_count        :  351\n",
      "Train and test month\n",
      "\t Common\n",
      "\t\t users_count        :  575\n",
      "\t\t items_count        :  239\n",
      "\t Only_in_train\n",
      "\t\t users_count        :  1186\n",
      "\t\t items_count        :  2318\n",
      "\t Only_in_test\n",
      "\t\t users_count        :  31\n",
      "\t\t items_count        :  112\n"
     ]
    },
    {
     "data": {
      "image/png": "[encoded data removed]",
      "text/plain": [
       "<Figure size 432x288 with 2 Axes>"
      ]
     },
     "metadata": {},
     "output_type": "display_data"
    },
    {
     "name": "stdout",
     "output_type": "stream",
     "text": [
      "Recommender Setup : month\n",
      "\t No of train_users in test   :  575\n",
      "\t No of items_used            :  338\n",
      "\t No of existing_items_used   :  227\n",
      "\t No of existing_items_unused :  12\n",
      "\t No of new_items_used        :  111\n",
      "\n",
      "********************************************************************************\n",
      "elapsed_months   :  ['2016-03', '2016-04', '2016-05', '2016-06', '2016-07', '2016-08', '2016-09', '2016-10', '2016-11', '2016-12']\n",
      "interactions_count :  66508\n",
      "users_count        :  1823\n",
      "items_count        :  2787\n",
      "\n",
      "Train month : ['2016-03', '2016-04', '2016-05', '2016-06', '2016-07', '2016-08', '2016-09', '2016-10', '2016-11']\n",
      "\t interactions_count :  64054\n",
      "\t users_count        :  1792\n",
      "\t items_count        :  2669\n",
      "Test  month : 2016-12\n",
      "\t interactions_count :  2454\n",
      "\t users_count        :  539\n",
      "\t items_count        :  335\n",
      "Train and test month\n",
      "\t Common\n",
      "\t\t users_count        :  508\n",
      "\t\t items_count        :  217\n",
      "\t Only_in_train\n",
      "\t\t users_count        :  1284\n",
      "\t\t items_count        :  2452\n",
      "\t Only_in_test\n",
      "\t\t users_count        :  31\n",
      "\t\t items_count        :  118\n"
     ]
    },
    {
     "data": {
      "image/png": "[encoded data removed]",
      "text/plain": [
       "<Figure size 432x288 with 2 Axes>"
      ]
     },
     "metadata": {},
     "output_type": "display_data"
    },
    {
     "name": "stdout",
     "output_type": "stream",
     "text": [
      "Recommender Setup : month\n",
      "\t No of train_users in test   :  508\n",
      "\t No of items_used            :  315\n",
      "\t No of existing_items_used   :  197\n",
      "\t No of existing_items_unused :  20\n",
      "\t No of new_items_used        :  118\n",
      "\n",
      "********************************************************************************\n",
      "elapsed_months   :  ['2016-03', '2016-04', '2016-05', '2016-06', '2016-07', '2016-08', '2016-09', '2016-10', '2016-11', '2016-12', '2017-01']\n",
      "interactions_count :  69403\n",
      "users_count        :  1849\n",
      "items_count        :  2907\n",
      "\n",
      "Train month : ['2016-03', '2016-04', '2016-05', '2016-06', '2016-07', '2016-08', '2016-09', '2016-10', '2016-11', '2016-12']\n",
      "\t interactions_count :  66508\n",
      "\t users_count        :  1823\n",
      "\t items_count        :  2787\n",
      "Test  month : 2017-01\n",
      "\t interactions_count :  2895\n",
      "\t users_count        :  654\n",
      "\t items_count        :  310\n",
      "Train and test month\n",
      "\t Common\n",
      "\t\t users_count        :  628\n",
      "\t\t items_count        :  190\n",
      "\t Only_in_train\n",
      "\t\t users_count        :  1195\n",
      "\t\t items_count        :  2597\n",
      "\t Only_in_test\n",
      "\t\t users_count        :  26\n",
      "\t\t items_count        :  120\n"
     ]
    },
    {
     "data": {
      "image/png": "[encoded data removed]",
      "text/plain": [
       "<Figure size 432x288 with 2 Axes>"
      ]
     },
     "metadata": {},
     "output_type": "display_data"
    },
    {
     "name": "stdout",
     "output_type": "stream",
     "text": [
      "Recommender Setup : month\n",
      "\t No of train_users in test   :  628\n",
      "\t No of items_used            :  302\n",
      "\t No of existing_items_used   :  182\n",
      "\t No of existing_items_unused :  8\n",
      "\t No of new_items_used        :  120\n",
      "\n",
      "********************************************************************************\n",
      "elapsed_months   :  ['2016-03', '2016-04', '2016-05', '2016-06', '2016-07', '2016-08', '2016-09', '2016-10', '2016-11', '2016-12', '2017-01', '2017-02']\n",
      "interactions_count :  72312\n",
      "users_count        :  1895\n",
      "items_count        :  2987\n",
      "\n",
      "Train month : ['2016-03', '2016-04', '2016-05', '2016-06', '2016-07', '2016-08', '2016-09', '2016-10', '2016-11', '2016-12', '2017-01']\n",
      "\t interactions_count :  69403\n",
      "\t users_count        :  1849\n",
      "\t items_count        :  2907\n",
      "Test  month : 2017-02\n",
      "\t interactions_count :  2909\n",
      "\t users_count        :  723\n",
      "\t items_count        :  280\n",
      "Train and test month\n",
      "\t Common\n",
      "\t\t users_count        :  677\n",
      "\t\t items_count        :  200\n",
      "\t Only_in_train\n",
      "\t\t users_count        :  1172\n",
      "\t\t items_count        :  2707\n",
      "\t Only_in_test\n",
      "\t\t users_count        :  46\n",
      "\t\t items_count        :  80\n"
     ]
    },
    {
     "data": {
      "image/png": "[encoded data removed]",
      "text/plain": [
       "<Figure size 432x288 with 2 Axes>"
      ]
     },
     "metadata": {},
     "output_type": "display_data"
    },
    {
     "name": "stdout",
     "output_type": "stream",
     "text": [
      "Recommender Setup : month\n",
      "\t No of train_users in test   :  677\n",
      "\t No of items_used            :  268\n",
      "\t No of existing_items_used   :  189\n",
      "\t No of existing_items_unused :  11\n",
      "\t No of new_items_used        :  79\n",
      "\n",
      "********************************************************************************\n"
     ]
    }
   ],
   "source": [
    "# analyse_trend(of_cols=['personId', 'contentId'], period_col='month')\n",
    "analyse_trend_user_item(period_col='month', user_col='personId', item_col='contentId')"
   ]
  }
 ],
 "metadata": {
  "kernelspec": {
   "display_name": "rec_sys_env",
   "language": "python",
   "name": "rec_sys_env"
  },
  "language_info": {
   "codemirror_mode": {
    "name": "ipython",
    "version": 3
   },
   "file_extension": ".py",
   "mimetype": "text/x-python",
   "name": "python",
   "nbconvert_exporter": "python",
   "pygments_lexer": "ipython3",
   "version": "3.7.3"
  }
 },
 "nbformat": 4,
 "nbformat_minor": 2
}

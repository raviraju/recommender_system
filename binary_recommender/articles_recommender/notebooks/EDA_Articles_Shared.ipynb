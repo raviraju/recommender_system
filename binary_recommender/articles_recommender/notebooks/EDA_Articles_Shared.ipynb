{
 "cells": [
  {
   "cell_type": "markdown",
   "metadata": {},
   "source": [
    "## Imports"
   ]
  },
  {
   "cell_type": "code",
   "execution_count": 1,
   "metadata": {
    "ExecuteTime": {
     "end_time": "2021-12-03T03:10:27.586820Z",
     "start_time": "2021-12-03T03:10:27.012213Z"
    }
   },
   "outputs": [],
   "source": [
    "import pandas as pd"
   ]
  },
  {
   "cell_type": "markdown",
   "metadata": {},
   "source": [
    "## Load Data"
   ]
  },
  {
   "cell_type": "code",
   "execution_count": 2,
   "metadata": {
    "ExecuteTime": {
     "end_time": "2021-12-03T03:10:27.779120Z",
     "start_time": "2021-12-03T03:10:27.589092Z"
    }
   },
   "outputs": [
    {
     "data": {
      "text/plain": [
       "(3122, 13)"
      ]
     },
     "execution_count": 2,
     "metadata": {},
     "output_type": "execute_result"
    }
   ],
   "source": [
    "articles_df = pd.read_csv('../data/shared_articles.csv')\n",
    "articles_df.shape"
   ]
  },
  {
   "cell_type": "code",
   "execution_count": 3,
   "metadata": {
    "ExecuteTime": {
     "end_time": "2021-12-03T03:10:27.795592Z",
     "start_time": "2021-12-03T03:10:27.781704Z"
    }
   },
   "outputs": [
    {
     "data": {
      "text/html": [
       "<div>\n",
       "<style scoped>\n",
       "    .dataframe tbody tr th:only-of-type {\n",
       "        vertical-align: middle;\n",
       "    }\n",
       "\n",
       "    .dataframe tbody tr th {\n",
       "        vertical-align: top;\n",
       "    }\n",
       "\n",
       "    .dataframe thead th {\n",
       "        text-align: right;\n",
       "    }\n",
       "</style>\n",
       "<table border=\"1\" class=\"dataframe\">\n",
       "  <thead>\n",
       "    <tr style=\"text-align: right;\">\n",
       "      <th></th>\n",
       "      <th>timestamp</th>\n",
       "      <th>eventType</th>\n",
       "      <th>contentId</th>\n",
       "      <th>authorPersonId</th>\n",
       "      <th>authorSessionId</th>\n",
       "      <th>authorUserAgent</th>\n",
       "      <th>authorRegion</th>\n",
       "      <th>authorCountry</th>\n",
       "      <th>contentType</th>\n",
       "      <th>url</th>\n",
       "      <th>title</th>\n",
       "      <th>text</th>\n",
       "      <th>lang</th>\n",
       "    </tr>\n",
       "  </thead>\n",
       "  <tbody>\n",
       "    <tr>\n",
       "      <th>0</th>\n",
       "      <td>1459192779</td>\n",
       "      <td>CONTENT REMOVED</td>\n",
       "      <td>-6451309518266745024</td>\n",
       "      <td>4340306774493623681</td>\n",
       "      <td>8940341205206233829</td>\n",
       "      <td>NaN</td>\n",
       "      <td>NaN</td>\n",
       "      <td>NaN</td>\n",
       "      <td>HTML</td>\n",
       "      <td>http://www.nytimes.com/2016/03/28/business/dea...</td>\n",
       "      <td>Ethereum, a Virtual Currency, Enables Transact...</td>\n",
       "      <td>All of this work is still very early. The firs...</td>\n",
       "      <td>en</td>\n",
       "    </tr>\n",
       "    <tr>\n",
       "      <th>1</th>\n",
       "      <td>1459193988</td>\n",
       "      <td>CONTENT SHARED</td>\n",
       "      <td>-4110354420726924665</td>\n",
       "      <td>4340306774493623681</td>\n",
       "      <td>8940341205206233829</td>\n",
       "      <td>NaN</td>\n",
       "      <td>NaN</td>\n",
       "      <td>NaN</td>\n",
       "      <td>HTML</td>\n",
       "      <td>http://www.nytimes.com/2016/03/28/business/dea...</td>\n",
       "      <td>Ethereum, a Virtual Currency, Enables Transact...</td>\n",
       "      <td>All of this work is still very early. The firs...</td>\n",
       "      <td>en</td>\n",
       "    </tr>\n",
       "    <tr>\n",
       "      <th>2</th>\n",
       "      <td>1459194146</td>\n",
       "      <td>CONTENT SHARED</td>\n",
       "      <td>-7292285110016212249</td>\n",
       "      <td>4340306774493623681</td>\n",
       "      <td>8940341205206233829</td>\n",
       "      <td>NaN</td>\n",
       "      <td>NaN</td>\n",
       "      <td>NaN</td>\n",
       "      <td>HTML</td>\n",
       "      <td>http://cointelegraph.com/news/bitcoin-future-w...</td>\n",
       "      <td>Bitcoin Future: When GBPcoin of Branson Wins O...</td>\n",
       "      <td>The alarm clock wakes me at 8:00 with stream o...</td>\n",
       "      <td>en</td>\n",
       "    </tr>\n",
       "    <tr>\n",
       "      <th>3</th>\n",
       "      <td>1459194474</td>\n",
       "      <td>CONTENT SHARED</td>\n",
       "      <td>-6151852268067518688</td>\n",
       "      <td>3891637997717104548</td>\n",
       "      <td>-1457532940883382585</td>\n",
       "      <td>NaN</td>\n",
       "      <td>NaN</td>\n",
       "      <td>NaN</td>\n",
       "      <td>HTML</td>\n",
       "      <td>https://cloudplatform.googleblog.com/2016/03/G...</td>\n",
       "      <td>Google Data Center 360° Tour</td>\n",
       "      <td>We're excited to share the Google Data Center ...</td>\n",
       "      <td>en</td>\n",
       "    </tr>\n",
       "    <tr>\n",
       "      <th>4</th>\n",
       "      <td>1459194497</td>\n",
       "      <td>CONTENT SHARED</td>\n",
       "      <td>2448026894306402386</td>\n",
       "      <td>4340306774493623681</td>\n",
       "      <td>8940341205206233829</td>\n",
       "      <td>NaN</td>\n",
       "      <td>NaN</td>\n",
       "      <td>NaN</td>\n",
       "      <td>HTML</td>\n",
       "      <td>https://bitcoinmagazine.com/articles/ibm-wants...</td>\n",
       "      <td>IBM Wants to \"Evolve the Internet\" With Blockc...</td>\n",
       "      <td>The Aite Group projects the blockchain market ...</td>\n",
       "      <td>en</td>\n",
       "    </tr>\n",
       "  </tbody>\n",
       "</table>\n",
       "</div>"
      ],
      "text/plain": [
       "    timestamp        eventType            contentId       authorPersonId  \\\n",
       "0  1459192779  CONTENT REMOVED -6451309518266745024  4340306774493623681   \n",
       "1  1459193988   CONTENT SHARED -4110354420726924665  4340306774493623681   \n",
       "2  1459194146   CONTENT SHARED -7292285110016212249  4340306774493623681   \n",
       "3  1459194474   CONTENT SHARED -6151852268067518688  3891637997717104548   \n",
       "4  1459194497   CONTENT SHARED  2448026894306402386  4340306774493623681   \n",
       "\n",
       "       authorSessionId authorUserAgent authorRegion authorCountry contentType  \\\n",
       "0  8940341205206233829             NaN          NaN           NaN        HTML   \n",
       "1  8940341205206233829             NaN          NaN           NaN        HTML   \n",
       "2  8940341205206233829             NaN          NaN           NaN        HTML   \n",
       "3 -1457532940883382585             NaN          NaN           NaN        HTML   \n",
       "4  8940341205206233829             NaN          NaN           NaN        HTML   \n",
       "\n",
       "                                                 url  \\\n",
       "0  http://www.nytimes.com/2016/03/28/business/dea...   \n",
       "1  http://www.nytimes.com/2016/03/28/business/dea...   \n",
       "2  http://cointelegraph.com/news/bitcoin-future-w...   \n",
       "3  https://cloudplatform.googleblog.com/2016/03/G...   \n",
       "4  https://bitcoinmagazine.com/articles/ibm-wants...   \n",
       "\n",
       "                                               title  \\\n",
       "0  Ethereum, a Virtual Currency, Enables Transact...   \n",
       "1  Ethereum, a Virtual Currency, Enables Transact...   \n",
       "2  Bitcoin Future: When GBPcoin of Branson Wins O...   \n",
       "3                       Google Data Center 360° Tour   \n",
       "4  IBM Wants to \"Evolve the Internet\" With Blockc...   \n",
       "\n",
       "                                                text lang  \n",
       "0  All of this work is still very early. The firs...   en  \n",
       "1  All of this work is still very early. The firs...   en  \n",
       "2  The alarm clock wakes me at 8:00 with stream o...   en  \n",
       "3  We're excited to share the Google Data Center ...   en  \n",
       "4  The Aite Group projects the blockchain market ...   en  "
      ]
     },
     "execution_count": 3,
     "metadata": {},
     "output_type": "execute_result"
    }
   ],
   "source": [
    "articles_df.head()"
   ]
  },
  {
   "cell_type": "code",
   "execution_count": 4,
   "metadata": {
    "ExecuteTime": {
     "end_time": "2021-12-03T03:10:27.802720Z",
     "start_time": "2021-12-03T03:10:27.797714Z"
    }
   },
   "outputs": [],
   "source": [
    "articles_df.fillna('UNKOWN', inplace=True)"
   ]
  },
  {
   "cell_type": "code",
   "execution_count": 5,
   "metadata": {
    "ExecuteTime": {
     "end_time": "2021-12-03T03:10:27.810415Z",
     "start_time": "2021-12-03T03:10:27.804921Z"
    }
   },
   "outputs": [
    {
     "data": {
      "text/plain": [
       "HTML     3101\n",
       "VIDEO      11\n",
       "RICH       10\n",
       "Name: contentType, dtype: int64"
      ]
     },
     "execution_count": 5,
     "metadata": {},
     "output_type": "execute_result"
    }
   ],
   "source": [
    "articles_df['contentType'].value_counts()"
   ]
  },
  {
   "cell_type": "code",
   "execution_count": 6,
   "metadata": {
    "ExecuteTime": {
     "end_time": "2021-12-03T03:10:27.819441Z",
     "start_time": "2021-12-03T03:10:27.812281Z"
    },
    "scrolled": true
   },
   "outputs": [
    {
     "data": {
      "text/plain": [
       "{2722: {'timestamp': 1478623412,\n",
       "  'eventType': 'CONTENT SHARED',\n",
       "  'contentId': -7423191370472335463,\n",
       "  'authorPersonId': -4465926797008424436,\n",
       "  'authorSessionId': -4234938118093547320,\n",
       "  'authorUserAgent': 'Mozilla/5.0 (Windows NT 10.0; Win64; x64) AppleWebKit/537.36 (KHTML, like Gecko) Chrome/54.0.2840.71 Safari/537.36',\n",
       "  'authorRegion': 'SP',\n",
       "  'authorCountry': 'BR',\n",
       "  'contentType': 'HTML',\n",
       "  'url': 'https://medium.com/android-dev-br/espresso-intents-n%C3%A3o-%C3%A9-m%C3%A1gica-%C3%A9-tecnologia-1fcfc8f21d3b',\n",
       "  'title': 'Espresso Intents: não é magia, é tecnologia! - Android Dev BR',\n",
       "  'text': 'Se você leu meu último artigo sobre Testes unitários vs aceitação , já ficou bem claro como é difícil controlar o ambiente de teste. Existem diversas API\\'s do próprio Espresso como ActivityMonitor e IdlingResources que nos ajudam nessa empreitada. Utilizando esses dois recursos, já conseguimos criar excelentes testes de aceitação que nos salvam a vida. Mas, nem tudo é mar de rosas. Imagine um cenário como esse: Como iremos voltar para nosso app? A não ser que criamos uma implementação da câmera com a \" casca \" do seu device, fica bem chato testar esse cenário. E agora, Sica, quem poderá nos ajudar? É exatamente sobre isso que esse artigo fala: o herói Espresso Intents . O problema Um dos principais pilares do nosso querido Android são as . Como o nome diz, uma Intent é quando você tem a intenção (olha só) de fazer algo: um objeto de mensagem que pode ser usado para solicitar uma ação de outro componente de uma aplicação. Por exemplo, para abrir a câmera, precisamos enviar uma Intent solicitando o app de câmera que o usuário tem no aparelho: Há três casos de uso fundamentais na utilização das Intent\\'s : para iniciar sua Activity , Service ou enviar um Broadcast . Ou seja, para iniciar (ou utilizar) qualquer coisa, você irá precisar de uma Intent e seus devidos extras ( B ). Precisamos repetir esse processo o tempo todo: seja para utilizar aplicações do próprio device ou até para aplicativos de terceiros. No ambiente de teste Só de ler o parágrafo acima você já deve ter pensado duas vezes em implementar um teste na sua classe que utiliza esses recursos, né? Bom, já que qualquer ação para inicializar algo necessita de uma Intent , fica muito difícil você ter certeza, nos seus testes, que as coisas estão acontecendo bem. E é exatamente isso que o Espresso Intents resolve: você consegue controlar todas as Intents que são disparadas (ou recebidas) pela sua aplicação. Como funciona O Espresso Intents é uma extensão do Espresso que possibilita você validar e fazer stubbings das Intents que são enviadas e recebidas pela sua aplicação dentro do ambiente de teste. Sabe o ? Então, é tipo isso, só que pra Intents . Só de ser possível comparar com o Mockito , já mostra como essa API é valiosa para nossos testes. Vamos entender a sua estrutura: Adeus ActivityTestRule. Olá IntentsTestRule. Para iniciar nossa Activity , dentro de um teste anotado, declaramos nossa ActivityTestRule como uma do e podemos iniciar qualquer Activity que desejamos: Para inicializar o Espresso Intents , você precisa inicializar a API e liberá-la após o uso: Mas, pra mim, é bem chato lembrar de fazer isso em todo teste. Para a nossa alegria, existe a IntentsTestRule que herda da ActivityTestRule . A IntentsTestRule , por sua vez, facilita a API do Espresso Intents funcionar. Ela inicia o Espresso Intents antes de cada teste anotado com nossa famosa anotação e, quando esse teste terminar, ele irá finalizar a execução de toda a API. Tá, mas o que isso faz? Basicamente te torna um mágico das Intents , conseguindo validá-las e controlá-las como um ótimo Merlin . Stubbing de Intent Agora que você é o Merlin, você tem o poder (lê-se algum programador facilitou isso pra você) de gravar todas as Intents que irão iniciar alguma Activity dentro da sua aplicação. Já que você tem todas elas, o Espresso Intents tem dois métodos que fazem toda essa mágica. Utilizando o mesmo exemplo de abrir a câmera, você consegue utilizar o método para retornar um resultado desejado: Validando uma Intent Nesse caso você estava recebendo uma Intent . Agora, avalia essa situação: Se você deixar essa sua Intent vazar, você irá sair do contexto da sua aplicação, onde seus poderes de Merlin surtem efeito, e entrar no ambiente do nosso amiguinho Android, e para interagir com qualquer elemento da tela você irá precisar do UI-Automator . Só de pensar nesse teste eu já abri a boca de sono. Mas, como iremos testar esse cenário? Aí que temos o outro método mágico, o . Com ele, validar alguma Intent, e a combinando com o método , você é capaz de de isolar totalmente seu ambiente de teste: Agora sim, dá pra testar. Limitações No dia a dia, sinto muito a falta de conseguir interceptar uma Intent para abrir outra Activity, e modificar o conteúdo dentro dela, por exemplo: Isso seria ótimo, já que em um ambiente de CI (emulador) não há imagem alguma. Ou seja, você precisa fornecer essas imagens de alguma maneira. Mas, atualmente, isso não é suportado, o que nos obriga a fazer uma implementação menos \"elegante\" . Projeto de exemplo Calma que todo esse código não vai ficar só em um post não. Criei esse projeto de exemplo que utiliza algumas situações interessantes e como você pode viajar no uso dessa API. Conseguiu implementar algo legal? Não hesite em me mandar um pull request ! Sucesso Aposto que seus testes irão fluir muito melhor com essa extensão maravilhosa do Espresso . Mas não pense que seus poderes acabaram por aqui: no próximo irei falar sobre o vasto reino da Web e como interagir com elas. Não esqueça de compartilhar, comentar ou acrescentar em algo nesse post! Valeu! Links',\n",
       "  'lang': 'pt'}}"
      ]
     },
     "execution_count": 6,
     "metadata": {},
     "output_type": "execute_result"
    }
   ],
   "source": [
    "articles_df[articles_df['contentId'] == -7423191370472335463].T.to_dict()"
   ]
  },
  {
   "cell_type": "code",
   "execution_count": 7,
   "metadata": {
    "ExecuteTime": {
     "end_time": "2021-12-03T03:10:27.824975Z",
     "start_time": "2021-12-03T03:10:27.821223Z"
    }
   },
   "outputs": [
    {
     "data": {
      "text/plain": [
       "(3122, 13)"
      ]
     },
     "execution_count": 7,
     "metadata": {},
     "output_type": "execute_result"
    }
   ],
   "source": [
    "articles_df.shape"
   ]
  },
  {
   "cell_type": "code",
   "execution_count": 8,
   "metadata": {
    "ExecuteTime": {
     "end_time": "2021-12-03T03:10:27.833208Z",
     "start_time": "2021-12-03T03:10:27.828951Z"
    }
   },
   "outputs": [
    {
     "data": {
      "text/plain": [
       "3057"
      ]
     },
     "execution_count": 8,
     "metadata": {},
     "output_type": "execute_result"
    }
   ],
   "source": [
    "#No of Items\n",
    "no_of_items = len(articles_df['contentId'].unique())\n",
    "no_of_items"
   ]
  },
  {
   "cell_type": "code",
   "execution_count": 9,
   "metadata": {
    "ExecuteTime": {
     "end_time": "2021-12-03T03:10:27.839948Z",
     "start_time": "2021-12-03T03:10:27.835841Z"
    }
   },
   "outputs": [
    {
     "data": {
      "text/plain": [
       "252"
      ]
     },
     "execution_count": 9,
     "metadata": {},
     "output_type": "execute_result"
    }
   ],
   "source": [
    "#No of Users\n",
    "no_of_users = len(articles_df['authorPersonId'].unique())\n",
    "no_of_users"
   ]
  },
  {
   "cell_type": "markdown",
   "metadata": {},
   "source": [
    "## Data Distribution across Time Periods"
   ]
  },
  {
   "cell_type": "code",
   "execution_count": 10,
   "metadata": {
    "ExecuteTime": {
     "end_time": "2021-12-03T03:10:27.851273Z",
     "start_time": "2021-12-03T03:10:27.841927Z"
    }
   },
   "outputs": [
    {
     "name": "stderr",
     "output_type": "stream",
     "text": [
      "/Users/ravi/Softwares/anaconda3/lib/python3.7/site-packages/ipykernel_launcher.py:2: FutureWarning: Treating datetime data as categorical rather than numeric in `.describe` is deprecated and will be removed in a future version of pandas. Specify `datetime_is_numeric=True` to silence this warning and adopt the future behavior now.\n",
      "  \n"
     ]
    },
    {
     "data": {
      "text/plain": [
       "count                    3122\n",
       "unique                   3121\n",
       "top       2016-04-27 15:56:07\n",
       "freq                        2\n",
       "first     2016-03-28 19:19:39\n",
       "last      2017-02-28 18:51:11\n",
       "Name: datetime, dtype: object"
      ]
     },
     "execution_count": 10,
     "metadata": {},
     "output_type": "execute_result"
    }
   ],
   "source": [
    "articles_df['datetime'] = pd.to_datetime(articles_df['timestamp'], unit='s')\n",
    "articles_df['datetime'].describe()"
   ]
  },
  {
   "cell_type": "code",
   "execution_count": 11,
   "metadata": {
    "ExecuteTime": {
     "end_time": "2021-12-03T03:10:27.860471Z",
     "start_time": "2021-12-03T03:10:27.853101Z"
    }
   },
   "outputs": [],
   "source": [
    "articles_df['year'] = articles_df['datetime'].dt.year\n",
    "articles_df['quarter'] = articles_df['datetime'].dt.to_period(\"Q\")\n",
    "articles_df['month'] = articles_df['datetime'].dt.to_period(\"M\")"
   ]
  },
  {
   "cell_type": "code",
   "execution_count": 12,
   "metadata": {
    "ExecuteTime": {
     "end_time": "2021-12-03T03:10:27.866572Z",
     "start_time": "2021-12-03T03:10:27.862162Z"
    }
   },
   "outputs": [
    {
     "data": {
      "text/plain": [
       "2016    2921\n",
       "2017     201\n",
       "Name: year, dtype: int64"
      ]
     },
     "execution_count": 12,
     "metadata": {},
     "output_type": "execute_result"
    }
   ],
   "source": [
    "articles_df['year'].value_counts()"
   ]
  },
  {
   "cell_type": "code",
   "execution_count": 13,
   "metadata": {
    "ExecuteTime": {
     "end_time": "2021-12-03T03:10:27.874624Z",
     "start_time": "2021-12-03T03:10:27.868244Z"
    }
   },
   "outputs": [
    {
     "data": {
      "text/plain": [
       "2016Q1     134\n",
       "2016Q2    1475\n",
       "2016Q3     879\n",
       "2016Q4     433\n",
       "2017Q1     201\n",
       "Freq: Q-DEC, Name: quarter, dtype: int64"
      ]
     },
     "execution_count": 13,
     "metadata": {},
     "output_type": "execute_result"
    }
   ],
   "source": [
    "articles_df['quarter'].value_counts().sort_index()"
   ]
  },
  {
   "cell_type": "code",
   "execution_count": 14,
   "metadata": {
    "ExecuteTime": {
     "end_time": "2021-12-03T03:10:27.882398Z",
     "start_time": "2021-12-03T03:10:27.876605Z"
    }
   },
   "outputs": [
    {
     "data": {
      "text/plain": [
       "2016-03    134\n",
       "2016-04    566\n",
       "2016-05    467\n",
       "2016-06    442\n",
       "2016-07    335\n",
       "2016-08    296\n",
       "2016-09    248\n",
       "2016-10    201\n",
       "2016-11    113\n",
       "2016-12    119\n",
       "2017-01    120\n",
       "2017-02     81\n",
       "Freq: M, Name: month, dtype: int64"
      ]
     },
     "execution_count": 14,
     "metadata": {},
     "output_type": "execute_result"
    }
   ],
   "source": [
    "articles_df['month'].value_counts().sort_index()"
   ]
  },
  {
   "cell_type": "code",
   "execution_count": 15,
   "metadata": {
    "ExecuteTime": {
     "end_time": "2021-12-03T03:10:27.899981Z",
     "start_time": "2021-12-03T03:10:27.884178Z"
    }
   },
   "outputs": [
    {
     "data": {
      "text/html": [
       "<div>\n",
       "<style scoped>\n",
       "    .dataframe tbody tr th:only-of-type {\n",
       "        vertical-align: middle;\n",
       "    }\n",
       "\n",
       "    .dataframe tbody tr th {\n",
       "        vertical-align: top;\n",
       "    }\n",
       "\n",
       "    .dataframe thead th {\n",
       "        text-align: right;\n",
       "    }\n",
       "</style>\n",
       "<table border=\"1\" class=\"dataframe\">\n",
       "  <thead>\n",
       "    <tr style=\"text-align: right;\">\n",
       "      <th></th>\n",
       "      <th>timestamp</th>\n",
       "      <th>eventType</th>\n",
       "      <th>contentId</th>\n",
       "      <th>authorPersonId</th>\n",
       "      <th>authorSessionId</th>\n",
       "      <th>authorUserAgent</th>\n",
       "      <th>authorRegion</th>\n",
       "      <th>authorCountry</th>\n",
       "      <th>contentType</th>\n",
       "      <th>url</th>\n",
       "      <th>title</th>\n",
       "      <th>text</th>\n",
       "      <th>lang</th>\n",
       "      <th>datetime</th>\n",
       "      <th>year</th>\n",
       "      <th>quarter</th>\n",
       "      <th>month</th>\n",
       "    </tr>\n",
       "  </thead>\n",
       "  <tbody>\n",
       "    <tr>\n",
       "      <th>0</th>\n",
       "      <td>1459192779</td>\n",
       "      <td>CONTENT REMOVED</td>\n",
       "      <td>-6451309518266745024</td>\n",
       "      <td>4340306774493623681</td>\n",
       "      <td>8940341205206233829</td>\n",
       "      <td>UNKOWN</td>\n",
       "      <td>UNKOWN</td>\n",
       "      <td>UNKOWN</td>\n",
       "      <td>HTML</td>\n",
       "      <td>http://www.nytimes.com/2016/03/28/business/dea...</td>\n",
       "      <td>Ethereum, a Virtual Currency, Enables Transact...</td>\n",
       "      <td>All of this work is still very early. The firs...</td>\n",
       "      <td>en</td>\n",
       "      <td>2016-03-28 19:19:39</td>\n",
       "      <td>2016</td>\n",
       "      <td>2016Q1</td>\n",
       "      <td>2016-03</td>\n",
       "    </tr>\n",
       "    <tr>\n",
       "      <th>1</th>\n",
       "      <td>1459193988</td>\n",
       "      <td>CONTENT SHARED</td>\n",
       "      <td>-4110354420726924665</td>\n",
       "      <td>4340306774493623681</td>\n",
       "      <td>8940341205206233829</td>\n",
       "      <td>UNKOWN</td>\n",
       "      <td>UNKOWN</td>\n",
       "      <td>UNKOWN</td>\n",
       "      <td>HTML</td>\n",
       "      <td>http://www.nytimes.com/2016/03/28/business/dea...</td>\n",
       "      <td>Ethereum, a Virtual Currency, Enables Transact...</td>\n",
       "      <td>All of this work is still very early. The firs...</td>\n",
       "      <td>en</td>\n",
       "      <td>2016-03-28 19:39:48</td>\n",
       "      <td>2016</td>\n",
       "      <td>2016Q1</td>\n",
       "      <td>2016-03</td>\n",
       "    </tr>\n",
       "    <tr>\n",
       "      <th>2</th>\n",
       "      <td>1459194146</td>\n",
       "      <td>CONTENT SHARED</td>\n",
       "      <td>-7292285110016212249</td>\n",
       "      <td>4340306774493623681</td>\n",
       "      <td>8940341205206233829</td>\n",
       "      <td>UNKOWN</td>\n",
       "      <td>UNKOWN</td>\n",
       "      <td>UNKOWN</td>\n",
       "      <td>HTML</td>\n",
       "      <td>http://cointelegraph.com/news/bitcoin-future-w...</td>\n",
       "      <td>Bitcoin Future: When GBPcoin of Branson Wins O...</td>\n",
       "      <td>The alarm clock wakes me at 8:00 with stream o...</td>\n",
       "      <td>en</td>\n",
       "      <td>2016-03-28 19:42:26</td>\n",
       "      <td>2016</td>\n",
       "      <td>2016Q1</td>\n",
       "      <td>2016-03</td>\n",
       "    </tr>\n",
       "    <tr>\n",
       "      <th>3</th>\n",
       "      <td>1459194474</td>\n",
       "      <td>CONTENT SHARED</td>\n",
       "      <td>-6151852268067518688</td>\n",
       "      <td>3891637997717104548</td>\n",
       "      <td>-1457532940883382585</td>\n",
       "      <td>UNKOWN</td>\n",
       "      <td>UNKOWN</td>\n",
       "      <td>UNKOWN</td>\n",
       "      <td>HTML</td>\n",
       "      <td>https://cloudplatform.googleblog.com/2016/03/G...</td>\n",
       "      <td>Google Data Center 360° Tour</td>\n",
       "      <td>We're excited to share the Google Data Center ...</td>\n",
       "      <td>en</td>\n",
       "      <td>2016-03-28 19:47:54</td>\n",
       "      <td>2016</td>\n",
       "      <td>2016Q1</td>\n",
       "      <td>2016-03</td>\n",
       "    </tr>\n",
       "    <tr>\n",
       "      <th>4</th>\n",
       "      <td>1459194497</td>\n",
       "      <td>CONTENT SHARED</td>\n",
       "      <td>2448026894306402386</td>\n",
       "      <td>4340306774493623681</td>\n",
       "      <td>8940341205206233829</td>\n",
       "      <td>UNKOWN</td>\n",
       "      <td>UNKOWN</td>\n",
       "      <td>UNKOWN</td>\n",
       "      <td>HTML</td>\n",
       "      <td>https://bitcoinmagazine.com/articles/ibm-wants...</td>\n",
       "      <td>IBM Wants to \"Evolve the Internet\" With Blockc...</td>\n",
       "      <td>The Aite Group projects the blockchain market ...</td>\n",
       "      <td>en</td>\n",
       "      <td>2016-03-28 19:48:17</td>\n",
       "      <td>2016</td>\n",
       "      <td>2016Q1</td>\n",
       "      <td>2016-03</td>\n",
       "    </tr>\n",
       "  </tbody>\n",
       "</table>\n",
       "</div>"
      ],
      "text/plain": [
       "    timestamp        eventType            contentId       authorPersonId  \\\n",
       "0  1459192779  CONTENT REMOVED -6451309518266745024  4340306774493623681   \n",
       "1  1459193988   CONTENT SHARED -4110354420726924665  4340306774493623681   \n",
       "2  1459194146   CONTENT SHARED -7292285110016212249  4340306774493623681   \n",
       "3  1459194474   CONTENT SHARED -6151852268067518688  3891637997717104548   \n",
       "4  1459194497   CONTENT SHARED  2448026894306402386  4340306774493623681   \n",
       "\n",
       "       authorSessionId authorUserAgent authorRegion authorCountry contentType  \\\n",
       "0  8940341205206233829          UNKOWN       UNKOWN        UNKOWN        HTML   \n",
       "1  8940341205206233829          UNKOWN       UNKOWN        UNKOWN        HTML   \n",
       "2  8940341205206233829          UNKOWN       UNKOWN        UNKOWN        HTML   \n",
       "3 -1457532940883382585          UNKOWN       UNKOWN        UNKOWN        HTML   \n",
       "4  8940341205206233829          UNKOWN       UNKOWN        UNKOWN        HTML   \n",
       "\n",
       "                                                 url  \\\n",
       "0  http://www.nytimes.com/2016/03/28/business/dea...   \n",
       "1  http://www.nytimes.com/2016/03/28/business/dea...   \n",
       "2  http://cointelegraph.com/news/bitcoin-future-w...   \n",
       "3  https://cloudplatform.googleblog.com/2016/03/G...   \n",
       "4  https://bitcoinmagazine.com/articles/ibm-wants...   \n",
       "\n",
       "                                               title  \\\n",
       "0  Ethereum, a Virtual Currency, Enables Transact...   \n",
       "1  Ethereum, a Virtual Currency, Enables Transact...   \n",
       "2  Bitcoin Future: When GBPcoin of Branson Wins O...   \n",
       "3                       Google Data Center 360° Tour   \n",
       "4  IBM Wants to \"Evolve the Internet\" With Blockc...   \n",
       "\n",
       "                                                text lang            datetime  \\\n",
       "0  All of this work is still very early. The firs...   en 2016-03-28 19:19:39   \n",
       "1  All of this work is still very early. The firs...   en 2016-03-28 19:39:48   \n",
       "2  The alarm clock wakes me at 8:00 with stream o...   en 2016-03-28 19:42:26   \n",
       "3  We're excited to share the Google Data Center ...   en 2016-03-28 19:47:54   \n",
       "4  The Aite Group projects the blockchain market ...   en 2016-03-28 19:48:17   \n",
       "\n",
       "   year quarter    month  \n",
       "0  2016  2016Q1  2016-03  \n",
       "1  2016  2016Q1  2016-03  \n",
       "2  2016  2016Q1  2016-03  \n",
       "3  2016  2016Q1  2016-03  \n",
       "4  2016  2016Q1  2016-03  "
      ]
     },
     "execution_count": 15,
     "metadata": {},
     "output_type": "execute_result"
    }
   ],
   "source": [
    "articles_df.head()"
   ]
  },
  {
   "cell_type": "markdown",
   "metadata": {},
   "source": [
    "## Type of Interactions"
   ]
  },
  {
   "cell_type": "code",
   "execution_count": 16,
   "metadata": {
    "ExecuteTime": {
     "end_time": "2021-12-03T03:10:27.906701Z",
     "start_time": "2021-12-03T03:10:27.901699Z"
    }
   },
   "outputs": [
    {
     "data": {
      "text/plain": [
       "CONTENT SHARED     3047\n",
       "CONTENT REMOVED      75\n",
       "Name: eventType, dtype: int64"
      ]
     },
     "execution_count": 16,
     "metadata": {},
     "output_type": "execute_result"
    }
   ],
   "source": [
    "articles_df['eventType'].value_counts()"
   ]
  },
  {
   "cell_type": "markdown",
   "metadata": {},
   "source": [
    "## Demographs"
   ]
  },
  {
   "cell_type": "code",
   "execution_count": 17,
   "metadata": {
    "ExecuteTime": {
     "end_time": "2021-12-03T03:10:27.914027Z",
     "start_time": "2021-12-03T03:10:27.908304Z"
    }
   },
   "outputs": [
    {
     "data": {
      "text/plain": [
       "UNKOWN    2442\n",
       "BR         613\n",
       "US          59\n",
       "CA           5\n",
       "AU           2\n",
       "PT           1\n",
       "Name: authorCountry, dtype: int64"
      ]
     },
     "execution_count": 17,
     "metadata": {},
     "output_type": "execute_result"
    }
   ],
   "source": [
    "articles_df['authorCountry'].value_counts()"
   ]
  },
  {
   "cell_type": "code",
   "execution_count": 18,
   "metadata": {
    "ExecuteTime": {
     "end_time": "2021-12-03T03:10:27.922410Z",
     "start_time": "2021-12-03T03:10:27.916076Z"
    },
    "code_folding": [
     0
    ]
   },
   "outputs": [],
   "source": [
    "country_code_dict = {\n",
    "    'BR': 'Brazil',\n",
    "    'US': 'United States',\n",
    "    'KR': 'South Korea',\n",
    "    'CA': 'Canada',\n",
    "    'JP': 'Japan',\n",
    "    'AU': 'Australia',\n",
    "    'GB': 'United Kingdom',\n",
    "    'DE': 'Germany',\n",
    "    'DE': 'Germany',\n",
    "    'IE': 'Ireland',\n",
    "    'IS': 'Iceland',\n",
    "    'SG': 'Singapure',\n",
    "    'AR': 'Argentina',\n",
    "    'PT': 'Portugal',\n",
    "    'IN': 'India',\n",
    "    'ES': 'Spain',\n",
    "    'IT': 'Italy',\n",
    "    'MY': 'Malaysia',\n",
    "    'CO': 'Colombia',\n",
    "    'CN': 'China',\n",
    "    'CL': 'Chile',\n",
    "    'NL': 'Netherlands',\n",
    "    'UNKOWN' : 'UNKOWN'\n",
    "}\n",
    "\n",
    "articles_df['authorCountryName'] = articles_df['authorCountry'].map(country_code_dict)"
   ]
  },
  {
   "cell_type": "code",
   "execution_count": 19,
   "metadata": {
    "ExecuteTime": {
     "end_time": "2021-12-03T03:10:27.929160Z",
     "start_time": "2021-12-03T03:10:27.924503Z"
    }
   },
   "outputs": [
    {
     "data": {
      "text/plain": [
       "UNKOWN           2442\n",
       "Brazil            613\n",
       "United States      59\n",
       "Canada              5\n",
       "Australia           2\n",
       "Portugal            1\n",
       "Name: authorCountryName, dtype: int64"
      ]
     },
     "execution_count": 19,
     "metadata": {},
     "output_type": "execute_result"
    }
   ],
   "source": [
    "articles_df['authorCountryName'].value_counts()"
   ]
  },
  {
   "cell_type": "code",
   "execution_count": 20,
   "metadata": {
    "ExecuteTime": {
     "end_time": "2021-12-03T03:10:27.935741Z",
     "start_time": "2021-12-03T03:10:27.930920Z"
    }
   },
   "outputs": [
    {
     "data": {
      "text/plain": [
       "UNKOWN    2442\n",
       "SP         533\n",
       "MG          75\n",
       "NY          20\n",
       "NJ          16\n",
       "GA           7\n",
       "IL           6\n",
       "RJ           4\n",
       "ON           4\n",
       "NSW          2\n",
       "TX           2\n",
       "?            2\n",
       "SC           2\n",
       "RI           1\n",
       "AB           1\n",
       "FL           1\n",
       "13           1\n",
       "WA           1\n",
       "CA           1\n",
       "MS           1\n",
       "Name: authorRegion, dtype: int64"
      ]
     },
     "execution_count": 20,
     "metadata": {},
     "output_type": "execute_result"
    }
   ],
   "source": [
    "articles_df['authorRegion'].value_counts()"
   ]
  },
  {
   "cell_type": "code",
   "execution_count": 21,
   "metadata": {
    "ExecuteTime": {
     "end_time": "2021-12-03T03:10:27.942635Z",
     "start_time": "2021-12-03T03:10:27.937430Z"
    },
    "code_folding": []
   },
   "outputs": [],
   "source": [
    "lang_dict = {\n",
    "    'en' : 'English',\n",
    "    'pt' : 'Portuguese',\n",
    "    'la' : 'Latin',\n",
    "    'es' : 'Spanish',\n",
    "    'ja' : 'Japanese',\n",
    "    'UNKOWN' : 'UNKOWN'\n",
    "}\n",
    "articles_df['language'] = articles_df['lang'].map(lang_dict)"
   ]
  },
  {
   "cell_type": "code",
   "execution_count": 22,
   "metadata": {
    "ExecuteTime": {
     "end_time": "2021-12-03T03:10:27.949827Z",
     "start_time": "2021-12-03T03:10:27.944609Z"
    }
   },
   "outputs": [
    {
     "data": {
      "text/plain": [
       "en    2264\n",
       "pt     850\n",
       "la       4\n",
       "es       2\n",
       "ja       2\n",
       "Name: lang, dtype: int64"
      ]
     },
     "execution_count": 22,
     "metadata": {},
     "output_type": "execute_result"
    }
   ],
   "source": [
    "articles_df['lang'].value_counts()"
   ]
  },
  {
   "cell_type": "code",
   "execution_count": 23,
   "metadata": {
    "ExecuteTime": {
     "end_time": "2021-12-03T03:10:27.960096Z",
     "start_time": "2021-12-03T03:10:27.954619Z"
    }
   },
   "outputs": [
    {
     "data": {
      "text/plain": [
       "English       2264\n",
       "Portuguese     850\n",
       "Latin            4\n",
       "Spanish          2\n",
       "Japanese         2\n",
       "Name: language, dtype: int64"
      ]
     },
     "execution_count": 23,
     "metadata": {},
     "output_type": "execute_result"
    }
   ],
   "source": [
    "articles_df['language'].value_counts()"
   ]
  }
 ],
 "metadata": {
  "kernelspec": {
   "display_name": "Python 3.7.4 64-bit ('anaconda3': virtualenv)",
   "language": "python",
   "name": "python37464bitanaconda3virtualenv6083d8dfe06048d09059819e26efa977"
  },
  "language_info": {
   "codemirror_mode": {
    "name": "ipython",
    "version": 3
   },
   "file_extension": ".py",
   "mimetype": "text/x-python",
   "name": "python",
   "nbconvert_exporter": "python",
   "pygments_lexer": "ipython3",
   "version": "3.7.4"
  },
  "toc": {
   "base_numbering": 1,
   "nav_menu": {},
   "number_sections": true,
   "sideBar": true,
   "skip_h1_title": false,
   "title_cell": "Table of Contents",
   "title_sidebar": "Contents",
   "toc_cell": false,
   "toc_position": {
    "height": "575.977px",
    "left": "210.184px",
    "top": "109.453px",
    "width": "279.469px"
   },
   "toc_section_display": true,
   "toc_window_display": true
  }
 },
 "nbformat": 4,
 "nbformat_minor": 2
}

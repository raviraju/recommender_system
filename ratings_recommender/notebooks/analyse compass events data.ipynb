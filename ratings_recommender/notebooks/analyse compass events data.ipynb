{
 "cells": [
  {
   "cell_type": "code",
   "execution_count": 1,
   "metadata": {
    "collapsed": true
   },
   "outputs": [],
   "source": [
    "import pandas as pd"
   ]
  },
  {
   "cell_type": "code",
   "execution_count": 2,
   "metadata": {
    "collapsed": true
   },
   "outputs": [],
   "source": [
    "user_id_col = 'learner_id'\n",
    "item_id_col = 'media_id'\n",
    "rating_col = 'like_rating'"
   ]
  },
  {
   "cell_type": "code",
   "execution_count": 3,
   "metadata": {},
   "outputs": [
    {
     "data": {
      "text/plain": [
       "(434224, 4)"
      ]
     },
     "execution_count": 3,
     "metadata": {},
     "output_type": "execute_result"
    }
   ],
   "source": [
    "df = pd.read_csv('../data/events.csv',\n",
    "                 usecols=[user_id_col, item_id_col, rating_col, 'event_time'],\n",
    "                 dtype={user_id_col: object, item_id_col: object},\n",
    "                 parse_dates=['event_time'])\n",
    "df.shape"
   ]
  },
  {
   "cell_type": "markdown",
   "metadata": {},
   "source": [
    "### Data Type"
   ]
  },
  {
   "cell_type": "code",
   "execution_count": 4,
   "metadata": {},
   "outputs": [
    {
     "data": {
      "text/plain": [
       "learner_id     object\n",
       "media_id       object\n",
       "like_rating     int64\n",
       "dtype: object"
      ]
     },
     "execution_count": 4,
     "metadata": {},
     "output_type": "execute_result"
    }
   ],
   "source": [
    "df[[user_id_col, item_id_col, rating_col]].dtypes"
   ]
  },
  {
   "cell_type": "markdown",
   "metadata": {},
   "source": [
    "### Stats"
   ]
  },
  {
   "cell_type": "code",
   "execution_count": 5,
   "metadata": {},
   "outputs": [
    {
     "data": {
      "text/plain": [
       "(44661, 8150, 434224, 363987150)"
      ]
     },
     "execution_count": 5,
     "metadata": {},
     "output_type": "execute_result"
    }
   ],
   "source": [
    "no_of_users = len(df[user_id_col].unique())\n",
    "no_of_items = len(df[item_id_col].unique())\n",
    "\n",
    "ideal_no_of_ratings = no_of_users*no_of_items\n",
    "given_no_of_ratings = len(df)\n",
    "\n",
    "no_of_users, no_of_items, given_no_of_ratings, ideal_no_of_ratings"
   ]
  },
  {
   "cell_type": "code",
   "execution_count": 6,
   "metadata": {},
   "outputs": [
    {
     "data": {
      "text/html": [
       "<div>\n",
       "<style>\n",
       "    .dataframe thead tr:only-child th {\n",
       "        text-align: right;\n",
       "    }\n",
       "\n",
       "    .dataframe thead th {\n",
       "        text-align: left;\n",
       "    }\n",
       "\n",
       "    .dataframe tbody tr th {\n",
       "        vertical-align: top;\n",
       "    }\n",
       "</style>\n",
       "<table border=\"1\" class=\"dataframe\">\n",
       "  <thead>\n",
       "    <tr style=\"text-align: right;\">\n",
       "      <th></th>\n",
       "      <th>learner_id</th>\n",
       "      <th>media_id</th>\n",
       "      <th>event_time</th>\n",
       "      <th>like_rating</th>\n",
       "    </tr>\n",
       "  </thead>\n",
       "  <tbody>\n",
       "    <tr>\n",
       "      <th>0</th>\n",
       "      <td>1801578</td>\n",
       "      <td>9170</td>\n",
       "      <td>2018-07-23 21:44:25</td>\n",
       "      <td>3</td>\n",
       "    </tr>\n",
       "    <tr>\n",
       "      <th>1</th>\n",
       "      <td>1283879</td>\n",
       "      <td>8488</td>\n",
       "      <td>2018-07-23 13:01:33</td>\n",
       "      <td>2</td>\n",
       "    </tr>\n",
       "    <tr>\n",
       "      <th>2</th>\n",
       "      <td>1283879</td>\n",
       "      <td>13278</td>\n",
       "      <td>2018-07-23 12:59:03</td>\n",
       "      <td>1</td>\n",
       "    </tr>\n",
       "    <tr>\n",
       "      <th>3</th>\n",
       "      <td>1283879</td>\n",
       "      <td>2171</td>\n",
       "      <td>2018-07-23 12:47:45</td>\n",
       "      <td>3</td>\n",
       "    </tr>\n",
       "    <tr>\n",
       "      <th>4</th>\n",
       "      <td>1283879</td>\n",
       "      <td>8507</td>\n",
       "      <td>2018-07-23 12:17:42</td>\n",
       "      <td>3</td>\n",
       "    </tr>\n",
       "  </tbody>\n",
       "</table>\n",
       "</div>"
      ],
      "text/plain": [
       "  learner_id media_id          event_time  like_rating\n",
       "0    1801578     9170 2018-07-23 21:44:25            3\n",
       "1    1283879     8488 2018-07-23 13:01:33            2\n",
       "2    1283879    13278 2018-07-23 12:59:03            1\n",
       "3    1283879     2171 2018-07-23 12:47:45            3\n",
       "4    1283879     8507 2018-07-23 12:17:42            3"
      ]
     },
     "execution_count": 6,
     "metadata": {},
     "output_type": "execute_result"
    }
   ],
   "source": [
    "df.head()"
   ]
  },
  {
   "cell_type": "code",
   "execution_count": 7,
   "metadata": {},
   "outputs": [
    {
     "data": {
      "text/plain": [
       "count                  434224\n",
       "unique                 430124\n",
       "top       2017-10-16 20:27:33\n",
       "freq                        3\n",
       "first     2016-06-07 11:56:14\n",
       "last      2018-07-23 21:44:25\n",
       "Name: event_time, dtype: object"
      ]
     },
     "execution_count": 7,
     "metadata": {},
     "output_type": "execute_result"
    }
   ],
   "source": [
    "df['event_time'].describe()"
   ]
  },
  {
   "cell_type": "code",
   "execution_count": 8,
   "metadata": {},
   "outputs": [
    {
     "data": {
      "text/plain": [
       "3    235944\n",
       "2    111689\n",
       "1     86588\n",
       "0         3\n",
       "Name: like_rating, dtype: int64"
      ]
     },
     "execution_count": 8,
     "metadata": {},
     "output_type": "execute_result"
    }
   ],
   "source": [
    "df[rating_col].value_counts()"
   ]
  },
  {
   "cell_type": "code",
   "execution_count": 9,
   "metadata": {},
   "outputs": [
    {
     "data": {
      "text/html": [
       "<div>\n",
       "<style>\n",
       "    .dataframe thead tr:only-child th {\n",
       "        text-align: right;\n",
       "    }\n",
       "\n",
       "    .dataframe thead th {\n",
       "        text-align: left;\n",
       "    }\n",
       "\n",
       "    .dataframe tbody tr th {\n",
       "        vertical-align: top;\n",
       "    }\n",
       "</style>\n",
       "<table border=\"1\" class=\"dataframe\">\n",
       "  <thead>\n",
       "    <tr style=\"text-align: right;\">\n",
       "      <th></th>\n",
       "      <th>learner_id</th>\n",
       "      <th>media_id</th>\n",
       "      <th>event_time</th>\n",
       "      <th>like_rating</th>\n",
       "    </tr>\n",
       "  </thead>\n",
       "  <tbody>\n",
       "    <tr>\n",
       "      <th>225860</th>\n",
       "      <td>979353</td>\n",
       "      <td>329</td>\n",
       "      <td>2017-10-18 17:11:23</td>\n",
       "      <td>0</td>\n",
       "    </tr>\n",
       "    <tr>\n",
       "      <th>225862</th>\n",
       "      <td>979353</td>\n",
       "      <td>32</td>\n",
       "      <td>2017-10-18 17:10:24</td>\n",
       "      <td>0</td>\n",
       "    </tr>\n",
       "    <tr>\n",
       "      <th>290087</th>\n",
       "      <td>975608</td>\n",
       "      <td>8500</td>\n",
       "      <td>2017-06-28 15:33:13</td>\n",
       "      <td>0</td>\n",
       "    </tr>\n",
       "  </tbody>\n",
       "</table>\n",
       "</div>"
      ],
      "text/plain": [
       "       learner_id media_id          event_time  like_rating\n",
       "225860     979353      329 2017-10-18 17:11:23            0\n",
       "225862     979353       32 2017-10-18 17:10:24            0\n",
       "290087     975608     8500 2017-06-28 15:33:13            0"
      ]
     },
     "execution_count": 9,
     "metadata": {},
     "output_type": "execute_result"
    }
   ],
   "source": [
    "df[df[rating_col] == 0]"
   ]
  },
  {
   "cell_type": "code",
   "execution_count": 10,
   "metadata": {},
   "outputs": [
    {
     "data": {
      "text/plain": [
       "3    235944\n",
       "2    111689\n",
       "1     86588\n",
       "Name: like_rating, dtype: int64"
      ]
     },
     "execution_count": 10,
     "metadata": {},
     "output_type": "execute_result"
    }
   ],
   "source": [
    "#Get rid of outlier data points\n",
    "df = df[df[rating_col] != 0]\n",
    "df[rating_col].value_counts()"
   ]
  },
  {
   "cell_type": "markdown",
   "metadata": {},
   "source": [
    "### Analyse if learners provide multiple ratings"
   ]
  },
  {
   "cell_type": "code",
   "execution_count": 11,
   "metadata": {},
   "outputs": [
    {
     "data": {
      "text/html": [
       "<div>\n",
       "<style>\n",
       "    .dataframe thead tr:only-child th {\n",
       "        text-align: right;\n",
       "    }\n",
       "\n",
       "    .dataframe thead th {\n",
       "        text-align: left;\n",
       "    }\n",
       "\n",
       "    .dataframe tbody tr th {\n",
       "        vertical-align: top;\n",
       "    }\n",
       "</style>\n",
       "<table border=\"1\" class=\"dataframe\">\n",
       "  <thead>\n",
       "    <tr style=\"text-align: right;\">\n",
       "      <th></th>\n",
       "      <th>learner_id</th>\n",
       "      <th>media_id</th>\n",
       "      <th>no_of_ratings</th>\n",
       "    </tr>\n",
       "  </thead>\n",
       "  <tbody>\n",
       "    <tr>\n",
       "      <th>0</th>\n",
       "      <td>-100002</td>\n",
       "      <td>584</td>\n",
       "      <td>1</td>\n",
       "    </tr>\n",
       "    <tr>\n",
       "      <th>1</th>\n",
       "      <td>-100002</td>\n",
       "      <td>8501</td>\n",
       "      <td>1</td>\n",
       "    </tr>\n",
       "    <tr>\n",
       "      <th>2</th>\n",
       "      <td>-100003</td>\n",
       "      <td>11501</td>\n",
       "      <td>1</td>\n",
       "    </tr>\n",
       "    <tr>\n",
       "      <th>3</th>\n",
       "      <td>-100003</td>\n",
       "      <td>11683</td>\n",
       "      <td>1</td>\n",
       "    </tr>\n",
       "    <tr>\n",
       "      <th>4</th>\n",
       "      <td>-100003</td>\n",
       "      <td>11737</td>\n",
       "      <td>1</td>\n",
       "    </tr>\n",
       "  </tbody>\n",
       "</table>\n",
       "</div>"
      ],
      "text/plain": [
       "  learner_id media_id  no_of_ratings\n",
       "0    -100002      584              1\n",
       "1    -100002     8501              1\n",
       "2    -100003    11501              1\n",
       "3    -100003    11683              1\n",
       "4    -100003    11737              1"
      ]
     },
     "execution_count": 11,
     "metadata": {},
     "output_type": "execute_result"
    }
   ],
   "source": [
    "no_of_rating_df = df[[user_id_col, item_id_col, rating_col]]\\\n",
    "                  .groupby([user_id_col, item_id_col])\\\n",
    "                  .count()\\\n",
    "                  .rename(columns={rating_col : 'no_of_ratings'})\\\n",
    "                  .reset_index()\n",
    "no_of_rating_df.head()"
   ]
  },
  {
   "cell_type": "code",
   "execution_count": 12,
   "metadata": {},
   "outputs": [
    {
     "data": {
      "text/plain": [
       "1    312507\n",
       "2     60857\n",
       "Name: no_of_ratings, dtype: int64"
      ]
     },
     "execution_count": 12,
     "metadata": {},
     "output_type": "execute_result"
    }
   ],
   "source": [
    "no_of_rating_df['no_of_ratings'].value_counts()"
   ]
  },
  {
   "cell_type": "code",
   "execution_count": 13,
   "metadata": {},
   "outputs": [
    {
     "data": {
      "text/plain": [
       "60857"
      ]
     },
     "execution_count": 13,
     "metadata": {},
     "output_type": "execute_result"
    }
   ],
   "source": [
    "dual_rating_dataset = set()\n",
    "twice_rated_df = no_of_rating_df[no_of_rating_df['no_of_ratings'] == 2]\n",
    "for i, row in twice_rated_df.iterrows():\n",
    "    user_id_item_id = (row[user_id_col], row[item_id_col])\n",
    "    dual_rating_dataset.add(user_id_item_id)\n",
    "len(dual_rating_dataset)"
   ]
  },
  {
   "cell_type": "code",
   "execution_count": 14,
   "metadata": {},
   "outputs": [
    {
     "data": {
      "text/html": [
       "<div>\n",
       "<style>\n",
       "    .dataframe thead tr:only-child th {\n",
       "        text-align: right;\n",
       "    }\n",
       "\n",
       "    .dataframe thead th {\n",
       "        text-align: left;\n",
       "    }\n",
       "\n",
       "    .dataframe tbody tr th {\n",
       "        vertical-align: top;\n",
       "    }\n",
       "</style>\n",
       "<table border=\"1\" class=\"dataframe\">\n",
       "  <thead>\n",
       "    <tr style=\"text-align: right;\">\n",
       "      <th></th>\n",
       "      <th>273439</th>\n",
       "      <th>273738</th>\n",
       "    </tr>\n",
       "  </thead>\n",
       "  <tbody>\n",
       "    <tr>\n",
       "      <th>learner_id</th>\n",
       "      <td>979782</td>\n",
       "      <td>979782</td>\n",
       "    </tr>\n",
       "    <tr>\n",
       "      <th>media_id</th>\n",
       "      <td>11737</td>\n",
       "      <td>11737</td>\n",
       "    </tr>\n",
       "    <tr>\n",
       "      <th>event_time</th>\n",
       "      <td>2017-07-23 11:01:45</td>\n",
       "      <td>2017-07-23 02:01:42</td>\n",
       "    </tr>\n",
       "    <tr>\n",
       "      <th>like_rating</th>\n",
       "      <td>3</td>\n",
       "      <td>3</td>\n",
       "    </tr>\n",
       "  </tbody>\n",
       "</table>\n",
       "</div>"
      ],
      "text/plain": [
       "                          273439               273738\n",
       "learner_id                979782               979782\n",
       "media_id                   11737                11737\n",
       "event_time   2017-07-23 11:01:45  2017-07-23 02:01:42\n",
       "like_rating                    3                    3"
      ]
     },
     "execution_count": 14,
     "metadata": {},
     "output_type": "execute_result"
    }
   ],
   "source": [
    "for user_id_item_id in dual_rating_dataset:\n",
    "    user_id, item_id = user_id_item_id\n",
    "    break\n",
    "df[(df[user_id_col] == user_id) & (df[item_id_col] == item_id)].T"
   ]
  },
  {
   "cell_type": "code",
   "execution_count": 15,
   "metadata": {},
   "outputs": [
    {
     "data": {
      "text/html": [
       "<div>\n",
       "<style>\n",
       "    .dataframe thead tr:only-child th {\n",
       "        text-align: right;\n",
       "    }\n",
       "\n",
       "    .dataframe thead th {\n",
       "        text-align: left;\n",
       "    }\n",
       "\n",
       "    .dataframe tbody tr th {\n",
       "        vertical-align: top;\n",
       "    }\n",
       "</style>\n",
       "<table border=\"1\" class=\"dataframe\">\n",
       "  <thead>\n",
       "    <tr style=\"text-align: right;\">\n",
       "      <th></th>\n",
       "      <th>learner_id</th>\n",
       "      <th>media_id</th>\n",
       "      <th>distinct_no_of_ratings</th>\n",
       "    </tr>\n",
       "  </thead>\n",
       "  <tbody>\n",
       "    <tr>\n",
       "      <th>0</th>\n",
       "      <td>-100002</td>\n",
       "      <td>584</td>\n",
       "      <td>1</td>\n",
       "    </tr>\n",
       "    <tr>\n",
       "      <th>1</th>\n",
       "      <td>-100002</td>\n",
       "      <td>8501</td>\n",
       "      <td>1</td>\n",
       "    </tr>\n",
       "    <tr>\n",
       "      <th>2</th>\n",
       "      <td>-100003</td>\n",
       "      <td>11501</td>\n",
       "      <td>1</td>\n",
       "    </tr>\n",
       "    <tr>\n",
       "      <th>3</th>\n",
       "      <td>-100003</td>\n",
       "      <td>11683</td>\n",
       "      <td>1</td>\n",
       "    </tr>\n",
       "    <tr>\n",
       "      <th>4</th>\n",
       "      <td>-100003</td>\n",
       "      <td>11737</td>\n",
       "      <td>1</td>\n",
       "    </tr>\n",
       "  </tbody>\n",
       "</table>\n",
       "</div>"
      ],
      "text/plain": [
       "  learner_id media_id  distinct_no_of_ratings\n",
       "0    -100002      584                       1\n",
       "1    -100002     8501                       1\n",
       "2    -100003    11501                       1\n",
       "3    -100003    11683                       1\n",
       "4    -100003    11737                       1"
      ]
     },
     "execution_count": 15,
     "metadata": {},
     "output_type": "execute_result"
    }
   ],
   "source": [
    "different_ratings_df = df[[user_id_col, item_id_col, rating_col]]\\\n",
    "                       .groupby([user_id_col, item_id_col])\\\n",
    "                       .agg({\n",
    "                         rating_col: (lambda x: len(x.unique()))\n",
    "                       })\\\n",
    "                       .rename(columns={rating_col : 'distinct_no_of_ratings'})\\\n",
    "                       .reset_index()\n",
    "different_ratings_df.head()"
   ]
  },
  {
   "cell_type": "code",
   "execution_count": 16,
   "metadata": {},
   "outputs": [
    {
     "data": {
      "text/plain": [
       "1    368004\n",
       "2      5360\n",
       "Name: distinct_no_of_ratings, dtype: int64"
      ]
     },
     "execution_count": 16,
     "metadata": {},
     "output_type": "execute_result"
    }
   ],
   "source": [
    "different_ratings_df['distinct_no_of_ratings'].value_counts()"
   ]
  },
  {
   "cell_type": "code",
   "execution_count": 17,
   "metadata": {},
   "outputs": [
    {
     "data": {
      "text/plain": [
       "5360"
      ]
     },
     "execution_count": 17,
     "metadata": {},
     "output_type": "execute_result"
    }
   ],
   "source": [
    "distinct_rating_dataset = set()\n",
    "for i, row in different_ratings_df[different_ratings_df['distinct_no_of_ratings'] == 2].iterrows():\n",
    "    user_id_item_id = (row[user_id_col], row[item_id_col])\n",
    "    distinct_rating_dataset.add(user_id_item_id)\n",
    "len(distinct_rating_dataset)"
   ]
  },
  {
   "cell_type": "code",
   "execution_count": 18,
   "metadata": {},
   "outputs": [
    {
     "data": {
      "text/html": [
       "<div>\n",
       "<style>\n",
       "    .dataframe thead tr:only-child th {\n",
       "        text-align: right;\n",
       "    }\n",
       "\n",
       "    .dataframe thead th {\n",
       "        text-align: left;\n",
       "    }\n",
       "\n",
       "    .dataframe tbody tr th {\n",
       "        vertical-align: top;\n",
       "    }\n",
       "</style>\n",
       "<table border=\"1\" class=\"dataframe\">\n",
       "  <thead>\n",
       "    <tr style=\"text-align: right;\">\n",
       "      <th></th>\n",
       "      <th>143031</th>\n",
       "      <th>157826</th>\n",
       "    </tr>\n",
       "  </thead>\n",
       "  <tbody>\n",
       "    <tr>\n",
       "      <th>learner_id</th>\n",
       "      <td>1005155</td>\n",
       "      <td>1005155</td>\n",
       "    </tr>\n",
       "    <tr>\n",
       "      <th>media_id</th>\n",
       "      <td>11758</td>\n",
       "      <td>11758</td>\n",
       "    </tr>\n",
       "    <tr>\n",
       "      <th>event_time</th>\n",
       "      <td>2018-01-13 19:58:59</td>\n",
       "      <td>2018-01-03 00:25:40</td>\n",
       "    </tr>\n",
       "    <tr>\n",
       "      <th>like_rating</th>\n",
       "      <td>1</td>\n",
       "      <td>3</td>\n",
       "    </tr>\n",
       "  </tbody>\n",
       "</table>\n",
       "</div>"
      ],
      "text/plain": [
       "                          143031               157826\n",
       "learner_id               1005155              1005155\n",
       "media_id                   11758                11758\n",
       "event_time   2018-01-13 19:58:59  2018-01-03 00:25:40\n",
       "like_rating                    1                    3"
      ]
     },
     "execution_count": 18,
     "metadata": {},
     "output_type": "execute_result"
    }
   ],
   "source": [
    "for user_id_item_id in distinct_rating_dataset:\n",
    "    user_id, item_id = user_id_item_id\n",
    "    break\n",
    "df[(df[user_id_col] == user_id) & (df[item_id_col] == item_id)].T"
   ]
  },
  {
   "cell_type": "code",
   "execution_count": 19,
   "metadata": {},
   "outputs": [
    {
     "data": {
      "text/plain": [
       "55497"
      ]
     },
     "execution_count": 19,
     "metadata": {},
     "output_type": "execute_result"
    }
   ],
   "source": [
    "identical_rating_dataset = dual_rating_dataset - distinct_rating_dataset\n",
    "len(identical_rating_dataset)"
   ]
  },
  {
   "cell_type": "code",
   "execution_count": 20,
   "metadata": {},
   "outputs": [
    {
     "data": {
      "text/html": [
       "<div>\n",
       "<style>\n",
       "    .dataframe thead tr:only-child th {\n",
       "        text-align: right;\n",
       "    }\n",
       "\n",
       "    .dataframe thead th {\n",
       "        text-align: left;\n",
       "    }\n",
       "\n",
       "    .dataframe tbody tr th {\n",
       "        vertical-align: top;\n",
       "    }\n",
       "</style>\n",
       "<table border=\"1\" class=\"dataframe\">\n",
       "  <thead>\n",
       "    <tr style=\"text-align: right;\">\n",
       "      <th></th>\n",
       "      <th>273439</th>\n",
       "      <th>273738</th>\n",
       "    </tr>\n",
       "  </thead>\n",
       "  <tbody>\n",
       "    <tr>\n",
       "      <th>learner_id</th>\n",
       "      <td>979782</td>\n",
       "      <td>979782</td>\n",
       "    </tr>\n",
       "    <tr>\n",
       "      <th>media_id</th>\n",
       "      <td>11737</td>\n",
       "      <td>11737</td>\n",
       "    </tr>\n",
       "    <tr>\n",
       "      <th>event_time</th>\n",
       "      <td>2017-07-23 11:01:45</td>\n",
       "      <td>2017-07-23 02:01:42</td>\n",
       "    </tr>\n",
       "    <tr>\n",
       "      <th>like_rating</th>\n",
       "      <td>3</td>\n",
       "      <td>3</td>\n",
       "    </tr>\n",
       "  </tbody>\n",
       "</table>\n",
       "</div>"
      ],
      "text/plain": [
       "                          273439               273738\n",
       "learner_id                979782               979782\n",
       "media_id                   11737                11737\n",
       "event_time   2017-07-23 11:01:45  2017-07-23 02:01:42\n",
       "like_rating                    3                    3"
      ]
     },
     "execution_count": 20,
     "metadata": {},
     "output_type": "execute_result"
    }
   ],
   "source": [
    "for user_id_item_id in identical_rating_dataset:\n",
    "    user_id, item_id = user_id_item_id\n",
    "    break\n",
    "df[(df[user_id_col] == user_id) & (df[item_id_col] == item_id)].T"
   ]
  },
  {
   "cell_type": "markdown",
   "metadata": {
    "collapsed": true
   },
   "source": [
    "### Use Latest Rating"
   ]
  },
  {
   "cell_type": "code",
   "execution_count": 21,
   "metadata": {
    "collapsed": true
   },
   "outputs": [],
   "source": [
    "sorted_df = df.sort_values(by='event_time')"
   ]
  },
  {
   "cell_type": "code",
   "execution_count": 22,
   "metadata": {},
   "outputs": [
    {
     "data": {
      "text/html": [
       "<div>\n",
       "<style>\n",
       "    .dataframe thead tr:only-child th {\n",
       "        text-align: right;\n",
       "    }\n",
       "\n",
       "    .dataframe thead th {\n",
       "        text-align: left;\n",
       "    }\n",
       "\n",
       "    .dataframe tbody tr th {\n",
       "        vertical-align: top;\n",
       "    }\n",
       "</style>\n",
       "<table border=\"1\" class=\"dataframe\">\n",
       "  <thead>\n",
       "    <tr style=\"text-align: right;\">\n",
       "      <th></th>\n",
       "      <th>learner_id</th>\n",
       "      <th>media_id</th>\n",
       "      <th>event_time</th>\n",
       "      <th>like_rating</th>\n",
       "    </tr>\n",
       "  </thead>\n",
       "  <tbody>\n",
       "    <tr>\n",
       "      <th>434223</th>\n",
       "      <td>-10035</td>\n",
       "      <td>8105</td>\n",
       "      <td>2016-06-07 11:56:14</td>\n",
       "      <td>2</td>\n",
       "    </tr>\n",
       "    <tr>\n",
       "      <th>434222</th>\n",
       "      <td>-10039</td>\n",
       "      <td>8195</td>\n",
       "      <td>2016-06-07 12:39:25</td>\n",
       "      <td>2</td>\n",
       "    </tr>\n",
       "    <tr>\n",
       "      <th>434221</th>\n",
       "      <td>-10041</td>\n",
       "      <td>7709</td>\n",
       "      <td>2016-06-07 13:39:10</td>\n",
       "      <td>3</td>\n",
       "    </tr>\n",
       "    <tr>\n",
       "      <th>434220</th>\n",
       "      <td>-10042</td>\n",
       "      <td>6843</td>\n",
       "      <td>2016-06-07 13:49:28</td>\n",
       "      <td>2</td>\n",
       "    </tr>\n",
       "    <tr>\n",
       "      <th>434219</th>\n",
       "      <td>-10039</td>\n",
       "      <td>7558</td>\n",
       "      <td>2016-06-08 16:22:13</td>\n",
       "      <td>2</td>\n",
       "    </tr>\n",
       "  </tbody>\n",
       "</table>\n",
       "</div>"
      ],
      "text/plain": [
       "       learner_id media_id          event_time  like_rating\n",
       "434223     -10035     8105 2016-06-07 11:56:14            2\n",
       "434222     -10039     8195 2016-06-07 12:39:25            2\n",
       "434221     -10041     7709 2016-06-07 13:39:10            3\n",
       "434220     -10042     6843 2016-06-07 13:49:28            2\n",
       "434219     -10039     7558 2016-06-08 16:22:13            2"
      ]
     },
     "execution_count": 22,
     "metadata": {},
     "output_type": "execute_result"
    }
   ],
   "source": [
    "sorted_df.head()"
   ]
  },
  {
   "cell_type": "code",
   "execution_count": 23,
   "metadata": {},
   "outputs": [
    {
     "data": {
      "text/html": [
       "<div>\n",
       "<style>\n",
       "    .dataframe thead tr:only-child th {\n",
       "        text-align: right;\n",
       "    }\n",
       "\n",
       "    .dataframe thead th {\n",
       "        text-align: left;\n",
       "    }\n",
       "\n",
       "    .dataframe tbody tr th {\n",
       "        vertical-align: top;\n",
       "    }\n",
       "</style>\n",
       "<table border=\"1\" class=\"dataframe\">\n",
       "  <thead>\n",
       "    <tr style=\"text-align: right;\">\n",
       "      <th></th>\n",
       "      <th>273738</th>\n",
       "      <th>273439</th>\n",
       "    </tr>\n",
       "  </thead>\n",
       "  <tbody>\n",
       "    <tr>\n",
       "      <th>learner_id</th>\n",
       "      <td>979782</td>\n",
       "      <td>979782</td>\n",
       "    </tr>\n",
       "    <tr>\n",
       "      <th>media_id</th>\n",
       "      <td>11737</td>\n",
       "      <td>11737</td>\n",
       "    </tr>\n",
       "    <tr>\n",
       "      <th>event_time</th>\n",
       "      <td>2017-07-23 02:01:42</td>\n",
       "      <td>2017-07-23 11:01:45</td>\n",
       "    </tr>\n",
       "    <tr>\n",
       "      <th>like_rating</th>\n",
       "      <td>3</td>\n",
       "      <td>3</td>\n",
       "    </tr>\n",
       "  </tbody>\n",
       "</table>\n",
       "</div>"
      ],
      "text/plain": [
       "                          273738               273439\n",
       "learner_id                979782               979782\n",
       "media_id                   11737                11737\n",
       "event_time   2017-07-23 02:01:42  2017-07-23 11:01:45\n",
       "like_rating                    3                    3"
      ]
     },
     "execution_count": 23,
     "metadata": {},
     "output_type": "execute_result"
    }
   ],
   "source": [
    "sorted_df[(sorted_df[user_id_col] == user_id) & (sorted_df[item_id_col] == item_id)].T"
   ]
  },
  {
   "cell_type": "code",
   "execution_count": 24,
   "metadata": {},
   "outputs": [
    {
     "data": {
      "text/plain": [
       "(373364, 4)"
      ]
     },
     "execution_count": 24,
     "metadata": {},
     "output_type": "execute_result"
    }
   ],
   "source": [
    "latest_rating_df = sorted_df.drop_duplicates([user_id_col, item_id_col], keep='last')\n",
    "latest_rating_df.shape"
   ]
  },
  {
   "cell_type": "code",
   "execution_count": 25,
   "metadata": {},
   "outputs": [
    {
     "data": {
      "text/html": [
       "<div>\n",
       "<style>\n",
       "    .dataframe thead tr:only-child th {\n",
       "        text-align: right;\n",
       "    }\n",
       "\n",
       "    .dataframe thead th {\n",
       "        text-align: left;\n",
       "    }\n",
       "\n",
       "    .dataframe tbody tr th {\n",
       "        vertical-align: top;\n",
       "    }\n",
       "</style>\n",
       "<table border=\"1\" class=\"dataframe\">\n",
       "  <thead>\n",
       "    <tr style=\"text-align: right;\">\n",
       "      <th></th>\n",
       "      <th>273439</th>\n",
       "    </tr>\n",
       "  </thead>\n",
       "  <tbody>\n",
       "    <tr>\n",
       "      <th>learner_id</th>\n",
       "      <td>979782</td>\n",
       "    </tr>\n",
       "    <tr>\n",
       "      <th>media_id</th>\n",
       "      <td>11737</td>\n",
       "    </tr>\n",
       "    <tr>\n",
       "      <th>event_time</th>\n",
       "      <td>2017-07-23 11:01:45</td>\n",
       "    </tr>\n",
       "    <tr>\n",
       "      <th>like_rating</th>\n",
       "      <td>3</td>\n",
       "    </tr>\n",
       "  </tbody>\n",
       "</table>\n",
       "</div>"
      ],
      "text/plain": [
       "                          273439\n",
       "learner_id                979782\n",
       "media_id                   11737\n",
       "event_time   2017-07-23 11:01:45\n",
       "like_rating                    3"
      ]
     },
     "execution_count": 25,
     "metadata": {},
     "output_type": "execute_result"
    }
   ],
   "source": [
    "latest_rating_df[(latest_rating_df[user_id_col] == user_id) & (latest_rating_df[item_id_col] == item_id)].T"
   ]
  },
  {
   "cell_type": "code",
   "execution_count": 26,
   "metadata": {},
   "outputs": [
    {
     "data": {
      "text/plain": [
       "1    373364\n",
       "Name: no_of_ratings, dtype: int64"
      ]
     },
     "execution_count": 26,
     "metadata": {},
     "output_type": "execute_result"
    }
   ],
   "source": [
    "latest_rating_df_no_of_rating_df = latest_rating_df[[user_id_col, item_id_col, rating_col]]\\\n",
    "                  .groupby([user_id_col, item_id_col])\\\n",
    "                  .count()\\\n",
    "                  .rename(columns={rating_col : 'no_of_ratings'})\\\n",
    "                  .reset_index()\n",
    "latest_rating_df_no_of_rating_df['no_of_ratings'].value_counts()"
   ]
  },
  {
   "cell_type": "code",
   "execution_count": 27,
   "metadata": {},
   "outputs": [
    {
     "data": {
      "text/plain": [
       "(44661, 8150, 373364, 363987150)"
      ]
     },
     "execution_count": 27,
     "metadata": {},
     "output_type": "execute_result"
    }
   ],
   "source": [
    "no_of_users = len(latest_rating_df[user_id_col].unique())\n",
    "no_of_items = len(latest_rating_df[item_id_col].unique())\n",
    "\n",
    "ideal_no_of_ratings = no_of_users*no_of_items\n",
    "given_no_of_ratings = len(latest_rating_df)\n",
    "\n",
    "no_of_users, no_of_items, given_no_of_ratings, ideal_no_of_ratings"
   ]
  },
  {
   "cell_type": "code",
   "execution_count": 28,
   "metadata": {
    "collapsed": true
   },
   "outputs": [],
   "source": [
    "latest_rating_df.to_csv('../data/latest_rating.csv', index=False)"
   ]
  }
 ],
 "metadata": {
  "kernelspec": {
   "display_name": "Python 3",
   "language": "python",
   "name": "python3"
  },
  "language_info": {
   "codemirror_mode": {
    "name": "ipython",
    "version": 3
   },
   "file_extension": ".py",
   "mimetype": "text/x-python",
   "name": "python",
   "nbconvert_exporter": "python",
   "pygments_lexer": "ipython3",
   "version": "3.6.3"
  }
 },
 "nbformat": 4,
 "nbformat_minor": 2
}
